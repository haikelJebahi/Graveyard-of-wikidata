{
 "cells": [
  {
   "cell_type": "markdown",
   "source": "Github : https://github.com/haikelJebahi/Graveyard-of-wikidata\nData : https://iccl.inf.tu-dresden.de/web/Wikidata_SPARQL_Logs/en",
   "metadata": {
    "cell_id": "c5b7957c-7220-43e6-a795-480e89cac5ad",
    "deepnote_cell_type": "markdown"
   }
  },
  {
   "cell_type": "code",
   "metadata": {
    "cell_id": "00001-a7fe92c9-2104-42fe-8872-bd412bc1e7eb",
    "deepnote_to_be_reexecuted": false,
    "source_hash": "f1562a4c",
    "execution_start": 1643891197940,
    "execution_millis": 43,
    "deepnote_cell_type": "code"
   },
   "source": "## Imports",
   "execution_count": 1,
   "outputs": []
  },
  {
   "cell_type": "code",
   "metadata": {
    "pycharm": {
     "name": "#%%\n"
    },
    "cell_id": "00002-72b615f0-fec6-47ae-872c-c9f5a09892ac",
    "deepnote_to_be_reexecuted": false,
    "source_hash": "6c5b6349",
    "execution_start": 1643891197983,
    "execution_millis": 426,
    "deepnote_cell_type": "code"
   },
   "source": "import csv\nimport pandas as pd\nfrom urllib.parse import unquote_plus\nfrom pyparsing import ParseException\nfrom rdflib.plugins.sparql.algebra import translateQuery, translateUpdate, pprintAlgebra, traverse\nfrom rdflib.plugins.sparql.parser import parseQuery, parseUpdate\nfrom rdflib.plugins.sparql.operators import Builtin_LANG\nfrom rdflib.plugins.sparql.parserutils import CompValue\nfrom rdflib.term import Variable\nimport re\nfrom pandas import concat",
   "execution_count": 2,
   "outputs": []
  },
  {
   "cell_type": "code",
   "metadata": {
    "cell_id": "00003-c5dc774a-91b0-4740-a198-50acdc7e203a",
    "deepnote_to_be_reexecuted": false,
    "source_hash": "e443484f",
    "execution_start": 1643891198418,
    "execution_millis": 4,
    "deepnote_cell_type": "code"
   },
   "source": "pd.set_option('display.max_rows', 0)\npd.set_option('display.max_columns', 0)\npd.set_option('display.expand_frame_repr', True)\npd.options.display.max_colwidth = 0",
   "execution_count": 3,
   "outputs": []
  },
  {
   "cell_type": "markdown",
   "source": "## Import parsed CSV",
   "metadata": {
    "cell_id": "00004-d60d0c7e-4b66-4279-b812-f461a0204a8c",
    "deepnote_cell_type": "markdown"
   }
  },
  {
   "cell_type": "code",
   "source": "nom=\"../data/merged/status500_Joined.parsed.tsv\"\ndf_nona = pd.read_csv(nom,sep='\\t')",
   "metadata": {
    "cell_id": "718a7989-0806-4b6f-8675-486015c790b1",
    "tags": [],
    "deepnote_to_be_reexecuted": false,
    "source_hash": "78c1af95",
    "execution_start": 1643891198428,
    "execution_millis": 10,
    "deepnote_cell_type": "code"
   },
   "outputs": [
    {
     "ename": "FileNotFoundError",
     "evalue": "[Errno 2] No such file or directory: '../data/merged/status500_Joined.parsed.tsv'",
     "output_type": "error",
     "traceback": [
      "\u001B[0;31m---------------------------------------------------------------------------\u001B[0m",
      "\u001B[0;31mFileNotFoundError\u001B[0m                         Traceback (most recent call last)",
      "Input \u001B[0;32mIn [4]\u001B[0m, in \u001B[0;36m<module>\u001B[0;34m\u001B[0m\n\u001B[1;32m      1\u001B[0m nom\u001B[38;5;241m=\u001B[39m\u001B[38;5;124m\"\u001B[39m\u001B[38;5;124m../data/merged/status500_Joined.parsed.tsv\u001B[39m\u001B[38;5;124m\"\u001B[39m\n\u001B[0;32m----> 2\u001B[0m df_nona \u001B[38;5;241m=\u001B[39m \u001B[43mpd\u001B[49m\u001B[38;5;241;43m.\u001B[39;49m\u001B[43mread_csv\u001B[49m\u001B[43m(\u001B[49m\u001B[43mnom\u001B[49m\u001B[43m,\u001B[49m\u001B[43msep\u001B[49m\u001B[38;5;241;43m=\u001B[39;49m\u001B[38;5;124;43m'\u001B[39;49m\u001B[38;5;130;43;01m\\t\u001B[39;49;00m\u001B[38;5;124;43m'\u001B[39;49m\u001B[43m)\u001B[49m\n",
      "File \u001B[0;32m~/Documents/M1/TER/repo/venv/lib/python3.9/site-packages/pandas/util/_decorators.py:311\u001B[0m, in \u001B[0;36mdeprecate_nonkeyword_arguments.<locals>.decorate.<locals>.wrapper\u001B[0;34m(*args, **kwargs)\u001B[0m\n\u001B[1;32m    305\u001B[0m \u001B[38;5;28;01mif\u001B[39;00m \u001B[38;5;28mlen\u001B[39m(args) \u001B[38;5;241m>\u001B[39m num_allow_args:\n\u001B[1;32m    306\u001B[0m     warnings\u001B[38;5;241m.\u001B[39mwarn(\n\u001B[1;32m    307\u001B[0m         msg\u001B[38;5;241m.\u001B[39mformat(arguments\u001B[38;5;241m=\u001B[39marguments),\n\u001B[1;32m    308\u001B[0m         \u001B[38;5;167;01mFutureWarning\u001B[39;00m,\n\u001B[1;32m    309\u001B[0m         stacklevel\u001B[38;5;241m=\u001B[39mstacklevel,\n\u001B[1;32m    310\u001B[0m     )\n\u001B[0;32m--> 311\u001B[0m \u001B[38;5;28;01mreturn\u001B[39;00m \u001B[43mfunc\u001B[49m\u001B[43m(\u001B[49m\u001B[38;5;241;43m*\u001B[39;49m\u001B[43margs\u001B[49m\u001B[43m,\u001B[49m\u001B[43m \u001B[49m\u001B[38;5;241;43m*\u001B[39;49m\u001B[38;5;241;43m*\u001B[39;49m\u001B[43mkwargs\u001B[49m\u001B[43m)\u001B[49m\n",
      "File \u001B[0;32m~/Documents/M1/TER/repo/venv/lib/python3.9/site-packages/pandas/io/parsers/readers.py:680\u001B[0m, in \u001B[0;36mread_csv\u001B[0;34m(filepath_or_buffer, sep, delimiter, header, names, index_col, usecols, squeeze, prefix, mangle_dupe_cols, dtype, engine, converters, true_values, false_values, skipinitialspace, skiprows, skipfooter, nrows, na_values, keep_default_na, na_filter, verbose, skip_blank_lines, parse_dates, infer_datetime_format, keep_date_col, date_parser, dayfirst, cache_dates, iterator, chunksize, compression, thousands, decimal, lineterminator, quotechar, quoting, doublequote, escapechar, comment, encoding, encoding_errors, dialect, error_bad_lines, warn_bad_lines, on_bad_lines, delim_whitespace, low_memory, memory_map, float_precision, storage_options)\u001B[0m\n\u001B[1;32m    665\u001B[0m kwds_defaults \u001B[38;5;241m=\u001B[39m _refine_defaults_read(\n\u001B[1;32m    666\u001B[0m     dialect,\n\u001B[1;32m    667\u001B[0m     delimiter,\n\u001B[0;32m   (...)\u001B[0m\n\u001B[1;32m    676\u001B[0m     defaults\u001B[38;5;241m=\u001B[39m{\u001B[38;5;124m\"\u001B[39m\u001B[38;5;124mdelimiter\u001B[39m\u001B[38;5;124m\"\u001B[39m: \u001B[38;5;124m\"\u001B[39m\u001B[38;5;124m,\u001B[39m\u001B[38;5;124m\"\u001B[39m},\n\u001B[1;32m    677\u001B[0m )\n\u001B[1;32m    678\u001B[0m kwds\u001B[38;5;241m.\u001B[39mupdate(kwds_defaults)\n\u001B[0;32m--> 680\u001B[0m \u001B[38;5;28;01mreturn\u001B[39;00m \u001B[43m_read\u001B[49m\u001B[43m(\u001B[49m\u001B[43mfilepath_or_buffer\u001B[49m\u001B[43m,\u001B[49m\u001B[43m \u001B[49m\u001B[43mkwds\u001B[49m\u001B[43m)\u001B[49m\n",
      "File \u001B[0;32m~/Documents/M1/TER/repo/venv/lib/python3.9/site-packages/pandas/io/parsers/readers.py:575\u001B[0m, in \u001B[0;36m_read\u001B[0;34m(filepath_or_buffer, kwds)\u001B[0m\n\u001B[1;32m    572\u001B[0m _validate_names(kwds\u001B[38;5;241m.\u001B[39mget(\u001B[38;5;124m\"\u001B[39m\u001B[38;5;124mnames\u001B[39m\u001B[38;5;124m\"\u001B[39m, \u001B[38;5;28;01mNone\u001B[39;00m))\n\u001B[1;32m    574\u001B[0m \u001B[38;5;66;03m# Create the parser.\u001B[39;00m\n\u001B[0;32m--> 575\u001B[0m parser \u001B[38;5;241m=\u001B[39m \u001B[43mTextFileReader\u001B[49m\u001B[43m(\u001B[49m\u001B[43mfilepath_or_buffer\u001B[49m\u001B[43m,\u001B[49m\u001B[43m \u001B[49m\u001B[38;5;241;43m*\u001B[39;49m\u001B[38;5;241;43m*\u001B[39;49m\u001B[43mkwds\u001B[49m\u001B[43m)\u001B[49m\n\u001B[1;32m    577\u001B[0m \u001B[38;5;28;01mif\u001B[39;00m chunksize \u001B[38;5;129;01mor\u001B[39;00m iterator:\n\u001B[1;32m    578\u001B[0m     \u001B[38;5;28;01mreturn\u001B[39;00m parser\n",
      "File \u001B[0;32m~/Documents/M1/TER/repo/venv/lib/python3.9/site-packages/pandas/io/parsers/readers.py:933\u001B[0m, in \u001B[0;36mTextFileReader.__init__\u001B[0;34m(self, f, engine, **kwds)\u001B[0m\n\u001B[1;32m    930\u001B[0m     \u001B[38;5;28mself\u001B[39m\u001B[38;5;241m.\u001B[39moptions[\u001B[38;5;124m\"\u001B[39m\u001B[38;5;124mhas_index_names\u001B[39m\u001B[38;5;124m\"\u001B[39m] \u001B[38;5;241m=\u001B[39m kwds[\u001B[38;5;124m\"\u001B[39m\u001B[38;5;124mhas_index_names\u001B[39m\u001B[38;5;124m\"\u001B[39m]\n\u001B[1;32m    932\u001B[0m \u001B[38;5;28mself\u001B[39m\u001B[38;5;241m.\u001B[39mhandles: IOHandles \u001B[38;5;241m|\u001B[39m \u001B[38;5;28;01mNone\u001B[39;00m \u001B[38;5;241m=\u001B[39m \u001B[38;5;28;01mNone\u001B[39;00m\n\u001B[0;32m--> 933\u001B[0m \u001B[38;5;28mself\u001B[39m\u001B[38;5;241m.\u001B[39m_engine \u001B[38;5;241m=\u001B[39m \u001B[38;5;28;43mself\u001B[39;49m\u001B[38;5;241;43m.\u001B[39;49m\u001B[43m_make_engine\u001B[49m\u001B[43m(\u001B[49m\u001B[43mf\u001B[49m\u001B[43m,\u001B[49m\u001B[43m \u001B[49m\u001B[38;5;28;43mself\u001B[39;49m\u001B[38;5;241;43m.\u001B[39;49m\u001B[43mengine\u001B[49m\u001B[43m)\u001B[49m\n",
      "File \u001B[0;32m~/Documents/M1/TER/repo/venv/lib/python3.9/site-packages/pandas/io/parsers/readers.py:1217\u001B[0m, in \u001B[0;36mTextFileReader._make_engine\u001B[0;34m(self, f, engine)\u001B[0m\n\u001B[1;32m   1213\u001B[0m     mode \u001B[38;5;241m=\u001B[39m \u001B[38;5;124m\"\u001B[39m\u001B[38;5;124mrb\u001B[39m\u001B[38;5;124m\"\u001B[39m\n\u001B[1;32m   1214\u001B[0m \u001B[38;5;66;03m# error: No overload variant of \"get_handle\" matches argument types\u001B[39;00m\n\u001B[1;32m   1215\u001B[0m \u001B[38;5;66;03m# \"Union[str, PathLike[str], ReadCsvBuffer[bytes], ReadCsvBuffer[str]]\"\u001B[39;00m\n\u001B[1;32m   1216\u001B[0m \u001B[38;5;66;03m# , \"str\", \"bool\", \"Any\", \"Any\", \"Any\", \"Any\", \"Any\"\u001B[39;00m\n\u001B[0;32m-> 1217\u001B[0m \u001B[38;5;28mself\u001B[39m\u001B[38;5;241m.\u001B[39mhandles \u001B[38;5;241m=\u001B[39m \u001B[43mget_handle\u001B[49m\u001B[43m(\u001B[49m\u001B[43m  \u001B[49m\u001B[38;5;66;43;03m# type: ignore[call-overload]\u001B[39;49;00m\n\u001B[1;32m   1218\u001B[0m \u001B[43m    \u001B[49m\u001B[43mf\u001B[49m\u001B[43m,\u001B[49m\n\u001B[1;32m   1219\u001B[0m \u001B[43m    \u001B[49m\u001B[43mmode\u001B[49m\u001B[43m,\u001B[49m\n\u001B[1;32m   1220\u001B[0m \u001B[43m    \u001B[49m\u001B[43mencoding\u001B[49m\u001B[38;5;241;43m=\u001B[39;49m\u001B[38;5;28;43mself\u001B[39;49m\u001B[38;5;241;43m.\u001B[39;49m\u001B[43moptions\u001B[49m\u001B[38;5;241;43m.\u001B[39;49m\u001B[43mget\u001B[49m\u001B[43m(\u001B[49m\u001B[38;5;124;43m\"\u001B[39;49m\u001B[38;5;124;43mencoding\u001B[39;49m\u001B[38;5;124;43m\"\u001B[39;49m\u001B[43m,\u001B[49m\u001B[43m \u001B[49m\u001B[38;5;28;43;01mNone\u001B[39;49;00m\u001B[43m)\u001B[49m\u001B[43m,\u001B[49m\n\u001B[1;32m   1221\u001B[0m \u001B[43m    \u001B[49m\u001B[43mcompression\u001B[49m\u001B[38;5;241;43m=\u001B[39;49m\u001B[38;5;28;43mself\u001B[39;49m\u001B[38;5;241;43m.\u001B[39;49m\u001B[43moptions\u001B[49m\u001B[38;5;241;43m.\u001B[39;49m\u001B[43mget\u001B[49m\u001B[43m(\u001B[49m\u001B[38;5;124;43m\"\u001B[39;49m\u001B[38;5;124;43mcompression\u001B[39;49m\u001B[38;5;124;43m\"\u001B[39;49m\u001B[43m,\u001B[49m\u001B[43m \u001B[49m\u001B[38;5;28;43;01mNone\u001B[39;49;00m\u001B[43m)\u001B[49m\u001B[43m,\u001B[49m\n\u001B[1;32m   1222\u001B[0m \u001B[43m    \u001B[49m\u001B[43mmemory_map\u001B[49m\u001B[38;5;241;43m=\u001B[39;49m\u001B[38;5;28;43mself\u001B[39;49m\u001B[38;5;241;43m.\u001B[39;49m\u001B[43moptions\u001B[49m\u001B[38;5;241;43m.\u001B[39;49m\u001B[43mget\u001B[49m\u001B[43m(\u001B[49m\u001B[38;5;124;43m\"\u001B[39;49m\u001B[38;5;124;43mmemory_map\u001B[39;49m\u001B[38;5;124;43m\"\u001B[39;49m\u001B[43m,\u001B[49m\u001B[43m \u001B[49m\u001B[38;5;28;43;01mFalse\u001B[39;49;00m\u001B[43m)\u001B[49m\u001B[43m,\u001B[49m\n\u001B[1;32m   1223\u001B[0m \u001B[43m    \u001B[49m\u001B[43mis_text\u001B[49m\u001B[38;5;241;43m=\u001B[39;49m\u001B[43mis_text\u001B[49m\u001B[43m,\u001B[49m\n\u001B[1;32m   1224\u001B[0m \u001B[43m    \u001B[49m\u001B[43merrors\u001B[49m\u001B[38;5;241;43m=\u001B[39;49m\u001B[38;5;28;43mself\u001B[39;49m\u001B[38;5;241;43m.\u001B[39;49m\u001B[43moptions\u001B[49m\u001B[38;5;241;43m.\u001B[39;49m\u001B[43mget\u001B[49m\u001B[43m(\u001B[49m\u001B[38;5;124;43m\"\u001B[39;49m\u001B[38;5;124;43mencoding_errors\u001B[39;49m\u001B[38;5;124;43m\"\u001B[39;49m\u001B[43m,\u001B[49m\u001B[43m \u001B[49m\u001B[38;5;124;43m\"\u001B[39;49m\u001B[38;5;124;43mstrict\u001B[39;49m\u001B[38;5;124;43m\"\u001B[39;49m\u001B[43m)\u001B[49m\u001B[43m,\u001B[49m\n\u001B[1;32m   1225\u001B[0m \u001B[43m    \u001B[49m\u001B[43mstorage_options\u001B[49m\u001B[38;5;241;43m=\u001B[39;49m\u001B[38;5;28;43mself\u001B[39;49m\u001B[38;5;241;43m.\u001B[39;49m\u001B[43moptions\u001B[49m\u001B[38;5;241;43m.\u001B[39;49m\u001B[43mget\u001B[49m\u001B[43m(\u001B[49m\u001B[38;5;124;43m\"\u001B[39;49m\u001B[38;5;124;43mstorage_options\u001B[39;49m\u001B[38;5;124;43m\"\u001B[39;49m\u001B[43m,\u001B[49m\u001B[43m \u001B[49m\u001B[38;5;28;43;01mNone\u001B[39;49;00m\u001B[43m)\u001B[49m\u001B[43m,\u001B[49m\n\u001B[1;32m   1226\u001B[0m \u001B[43m\u001B[49m\u001B[43m)\u001B[49m\n\u001B[1;32m   1227\u001B[0m \u001B[38;5;28;01massert\u001B[39;00m \u001B[38;5;28mself\u001B[39m\u001B[38;5;241m.\u001B[39mhandles \u001B[38;5;129;01mis\u001B[39;00m \u001B[38;5;129;01mnot\u001B[39;00m \u001B[38;5;28;01mNone\u001B[39;00m\n\u001B[1;32m   1228\u001B[0m f \u001B[38;5;241m=\u001B[39m \u001B[38;5;28mself\u001B[39m\u001B[38;5;241m.\u001B[39mhandles\u001B[38;5;241m.\u001B[39mhandle\n",
      "File \u001B[0;32m~/Documents/M1/TER/repo/venv/lib/python3.9/site-packages/pandas/io/common.py:789\u001B[0m, in \u001B[0;36mget_handle\u001B[0;34m(path_or_buf, mode, encoding, compression, memory_map, is_text, errors, storage_options)\u001B[0m\n\u001B[1;32m    784\u001B[0m \u001B[38;5;28;01melif\u001B[39;00m \u001B[38;5;28misinstance\u001B[39m(handle, \u001B[38;5;28mstr\u001B[39m):\n\u001B[1;32m    785\u001B[0m     \u001B[38;5;66;03m# Check whether the filename is to be opened in binary mode.\u001B[39;00m\n\u001B[1;32m    786\u001B[0m     \u001B[38;5;66;03m# Binary mode does not support 'encoding' and 'newline'.\u001B[39;00m\n\u001B[1;32m    787\u001B[0m     \u001B[38;5;28;01mif\u001B[39;00m ioargs\u001B[38;5;241m.\u001B[39mencoding \u001B[38;5;129;01mand\u001B[39;00m \u001B[38;5;124m\"\u001B[39m\u001B[38;5;124mb\u001B[39m\u001B[38;5;124m\"\u001B[39m \u001B[38;5;129;01mnot\u001B[39;00m \u001B[38;5;129;01min\u001B[39;00m ioargs\u001B[38;5;241m.\u001B[39mmode:\n\u001B[1;32m    788\u001B[0m         \u001B[38;5;66;03m# Encoding\u001B[39;00m\n\u001B[0;32m--> 789\u001B[0m         handle \u001B[38;5;241m=\u001B[39m \u001B[38;5;28;43mopen\u001B[39;49m\u001B[43m(\u001B[49m\n\u001B[1;32m    790\u001B[0m \u001B[43m            \u001B[49m\u001B[43mhandle\u001B[49m\u001B[43m,\u001B[49m\n\u001B[1;32m    791\u001B[0m \u001B[43m            \u001B[49m\u001B[43mioargs\u001B[49m\u001B[38;5;241;43m.\u001B[39;49m\u001B[43mmode\u001B[49m\u001B[43m,\u001B[49m\n\u001B[1;32m    792\u001B[0m \u001B[43m            \u001B[49m\u001B[43mencoding\u001B[49m\u001B[38;5;241;43m=\u001B[39;49m\u001B[43mioargs\u001B[49m\u001B[38;5;241;43m.\u001B[39;49m\u001B[43mencoding\u001B[49m\u001B[43m,\u001B[49m\n\u001B[1;32m    793\u001B[0m \u001B[43m            \u001B[49m\u001B[43merrors\u001B[49m\u001B[38;5;241;43m=\u001B[39;49m\u001B[43merrors\u001B[49m\u001B[43m,\u001B[49m\n\u001B[1;32m    794\u001B[0m \u001B[43m            \u001B[49m\u001B[43mnewline\u001B[49m\u001B[38;5;241;43m=\u001B[39;49m\u001B[38;5;124;43m\"\u001B[39;49m\u001B[38;5;124;43m\"\u001B[39;49m\u001B[43m,\u001B[49m\n\u001B[1;32m    795\u001B[0m \u001B[43m        \u001B[49m\u001B[43m)\u001B[49m\n\u001B[1;32m    796\u001B[0m     \u001B[38;5;28;01melse\u001B[39;00m:\n\u001B[1;32m    797\u001B[0m         \u001B[38;5;66;03m# Binary mode\u001B[39;00m\n\u001B[1;32m    798\u001B[0m         handle \u001B[38;5;241m=\u001B[39m \u001B[38;5;28mopen\u001B[39m(handle, ioargs\u001B[38;5;241m.\u001B[39mmode)\n",
      "\u001B[0;31mFileNotFoundError\u001B[0m: [Errno 2] No such file or directory: '../data/merged/status500_Joined.parsed.tsv'"
     ]
    }
   ],
   "execution_count": 4
  },
  {
   "cell_type": "markdown",
   "source": "## Getting basic attributes of queries",
   "metadata": {
    "cell_id": "00017-8135feff-21b8-4397-94e0-8019d80a9f46",
    "deepnote_cell_type": "markdown"
   }
  },
  {
   "cell_type": "code",
   "metadata": {
    "cell_id": "ed58ada6-7411-42c3-9169-ae0babd18505",
    "tags": [],
    "deepnote_to_be_reexecuted": false,
    "source_hash": "5163a8d6",
    "execution_start": 1643891198513,
    "execution_millis": 0,
    "deepnote_cell_type": "code"
   },
   "source": "df_nona[\"has_variable\"] = df_nona[\"counter_variable\"].apply(lambda x: False if x == 0 else True)\ndf_nona[\"has_filter\"] = df_nona[\"counter_filter\"].apply(lambda x: False if x == 0 else True)\ndf_nona[\"has_orderby\"] = df_nona[\"counter_orderby\"].apply(lambda x: False if x == 0 else True)\ndf_nona[\"has_limit\"] = df_nona[\"counter_limit\"].apply(lambda x: False if x == 0 else True)\ndf_nona[\"has_select\"] = df_nona[\"counter_select\"].apply(lambda x: False if x == 0 else True)\ndf_nona[\"has_distinct\"] = df_nona[\"counter_distinct\"].apply(lambda x: False if x == 0 else True)\ndf_nona[\"has_modify\"] = df_nona[\"counter_modify\"].apply(lambda x: False if x == 0 else True)\ndf_nona[\"has_tomultiset\"] = df_nona[\"counter_tomultiset\"].apply(lambda x: False if x == 0 else True)\ndf_nona[\"has_join\"] = df_nona[\"counter_join\"].apply(lambda x: False if x == 0 else True)\ndf_nona[\"has_bgp\"] = df_nona[\"counter_bgp\"].apply(lambda x: False if x == 0 else True)\ndf_nona[\"has_insertdata\"] = df_nona[\"counter_insertdata\"].apply(lambda x: False if x == 0 else True)\ndf_nona[\"has_deletedata\"] = df_nona[\"counter_deletedata\"].apply(lambda x: False if x == 0 else True)\ndf_nona[\"has_project\"] = df_nona[\"counter_project\"].apply(lambda x: False if x == 0 else True)\ndf_nona[\"has_union\"] = df_nona[\"counter_union\"].apply(lambda x: False if x == 0 else True)\ndf_nona[\"has_values\"] = df_nona[\"counter_values\"].apply(lambda x: False if x == 0 else True)\ndf_nona[\"has_groupby\"] = df_nona[\"counter_groupby\"].apply(lambda x: False if x == 0 else True)\ndf_nona[\"has_slice\"] = df_nona[\"counter_slice\"].apply(lambda x: False if x == 0 else True)\ndf_nona[\"has_offset\"] = df_nona[\"counter_offset\"].apply(lambda x: False if x == 0 else True)",
   "execution_count": null,
   "outputs": []
  },
  {
   "cell_type": "markdown",
   "source": "Split in robotic and organic",
   "metadata": {
    "cell_id": "f4f1263e-c181-495a-b395-3061338fbd2c",
    "tags": [],
    "is_collapsed": false,
    "deepnote_cell_type": "text-cell-p"
   }
  },
  {
   "cell_type": "code",
   "metadata": {
    "pycharm": {
     "name": "#%%\n"
    },
    "cell_id": "00023-73158a7d-4d23-49f4-ba9b-ec912e2c6b24",
    "deepnote_to_be_reexecuted": false,
    "source_hash": "c038f101",
    "execution_start": 1643891198560,
    "execution_millis": 301,
    "deepnote_table_state": {
     "pageSize": 100,
     "pageIndex": 0,
     "filters": [],
     "sortBy": [
      {
       "id": "counter_groupby",
       "type": "desc"
      }
     ]
    },
    "deepnote_table_loading": false,
    "deepnote_output_heights": [
     482
    ],
    "deepnote_cell_type": "code"
   },
   "source": "\ndf_nona_robotic = df_nona.loc[(df_nona['sourceCategory'] == 'robotic')]\ndf_nona_robotic",
   "execution_count": null,
   "outputs": []
  },
  {
   "cell_type": "code",
   "metadata": {
    "pycharm": {
     "name": "#%%\n"
    },
    "cell_id": "00024-04a946ca-5d1c-4982-8a45-2424838dbc7a",
    "deepnote_to_be_reexecuted": false,
    "source_hash": "5d55850d",
    "execution_start": 1643891198863,
    "execution_millis": 54845,
    "deepnote_table_state": {
     "pageSize": 10,
     "pageIndex": 0,
     "filters": [],
     "sortBy": [
      {
       "id": "anonymizedQuery",
       "type": "desc"
      }
     ]
    },
    "deepnote_table_loading": false,
    "deepnote_cell_type": "code"
   },
   "source": "df_nona_organic = df_nona.loc[(df_nona['sourceCategory'] == 'organic')]",
   "execution_count": null,
   "outputs": []
  },
  {
   "cell_type": "code",
   "metadata": {
    "cell_id": "948700c0-a44d-4eb1-b216-cdfdd8ff3396",
    "tags": [],
    "deepnote_to_be_reexecuted": false,
    "source_hash": "92e6b9a5",
    "execution_start": 1643891198867,
    "execution_millis": 2,
    "deepnote_table_state": {
     "pageSize": 10,
     "pageIndex": 0,
     "filters": [],
     "sortBy": []
    },
    "deepnote_table_loading": false,
    "deepnote_output_heights": [
     500.875
    ],
    "deepnote_cell_type": "code"
   },
   "source": "df_nona_sort_by_triples = df_nona.sort_values([\"counter_triples\"],  ascending=[False])\ndf_nona_sort_by_triples_out = df_nona_sort_by_triples.head(10)\ndf_nona_sort_by_triples_out.to_csv(\"../out/queries_sort_by_triples.tsv\", sep='\\t', index=False)",
   "execution_count": null,
   "outputs": []
  },
  {
   "cell_type": "markdown",
   "source": "## Statistics",
   "metadata": {
    "cell_id": "2917ce5d-1660-4f62-8e7d-c10229b2d0ae",
    "tags": [],
    "is_collapsed": false,
    "deepnote_cell_type": "text-cell-h2"
   }
  },
  {
   "cell_type": "code",
   "metadata": {
    "cell_id": "aba87b0d-d05b-46c1-a668-a69b1ebfc341",
    "tags": [],
    "deepnote_to_be_reexecuted": false,
    "source_hash": "94a795e0",
    "execution_start": 1643891198874,
    "execution_millis": 13,
    "deepnote_output_heights": [
     21.1875
    ],
    "deepnote_cell_type": "code"
   },
   "source": "len(df_nona)",
   "execution_count": null,
   "outputs": []
  },
  {
   "cell_type": "markdown",
   "source": "### Organic",
   "metadata": {
    "cell_id": "4ba24d56-981a-4bf3-9b66-aa55f8b144e2",
    "tags": [],
    "is_collapsed": false,
    "deepnote_cell_type": "text-cell-h3"
   }
  },
  {
   "cell_type": "markdown",
   "source": "Number of organic queries",
   "metadata": {
    "cell_id": "ca569d67-230c-43bb-af44-d27362fce294",
    "tags": [],
    "is_collapsed": false,
    "deepnote_cell_type": "text-cell-p"
   }
  },
  {
   "cell_type": "code",
   "metadata": {
    "cell_id": "b4db6ae4-9f64-4049-9fe6-7237f66e3057",
    "tags": [],
    "deepnote_to_be_reexecuted": false,
    "source_hash": "84f67c2c",
    "execution_start": 1643891198887,
    "execution_millis": 9,
    "deepnote_output_heights": [
     21.1875
    ],
    "deepnote_cell_type": "code"
   },
   "source": "len(df_nona_organic)",
   "execution_count": null,
   "outputs": []
  },
  {
   "cell_type": "markdown",
   "source": "Sum of all variables",
   "metadata": {
    "cell_id": "57951573-8892-4470-a665-d3a6a5abc329",
    "tags": [],
    "is_collapsed": false,
    "deepnote_cell_type": "text-cell-p"
   }
  },
  {
   "cell_type": "code",
   "metadata": {
    "cell_id": "d5355545-5f23-492a-b4f8-acfcc7a00acd",
    "tags": [],
    "deepnote_to_be_reexecuted": false,
    "source_hash": "1ee76817",
    "execution_start": 1643891198902,
    "execution_millis": 78,
    "deepnote_output_heights": [
     21.1875
    ],
    "deepnote_table_state": {
     "pageSize": 25,
     "pageIndex": 0,
     "filters": [],
     "sortBy": []
    },
    "deepnote_table_loading": false,
    "deepnote_cell_type": "code"
   },
   "source": "sumVariable = len(df_nona_organic[df_nona_organic[\"has_variable\"]==True])\nsumFilter = len(df_nona_organic[df_nona_organic[\"has_filter\"]==True])\nsumOrderBy = len(df_nona_organic[df_nona_organic[\"has_orderby\"]==True])\nsumLimit = len(df_nona_organic[df_nona_organic[\"has_limit\"]==True])\nsumSelect = len(df_nona_organic[df_nona_organic[\"has_select\"]==True])\nsumDistinct = len(df_nona_organic[df_nona_organic[\"has_distinct\"]==True])\nsumToMultiSet = len(df_nona_organic[df_nona_organic[\"has_tomultiset\"]==True])\nsumJoin = len(df_nona_organic[df_nona_organic[\"has_join\"]==True])\nsumBGP = len(df_nona_organic[df_nona_organic[\"has_bgp\"]==True])\nsumproject = len(df_nona_organic[df_nona_organic[\"has_project\"]==True])\nsumUnion = len(df_nona_organic[df_nona_organic[\"has_union\"]==True])\nsumValues = len(df_nona_organic[df_nona_organic[\"has_values\"]==True])\nsumSlice = len(df_nona_organic[df_nona_organic[\"has_slice\"]==True])\nsumSlice = len(df_nona_organic[df_nona_organic[\"has_offset\"]==True])\nsumGroupBy = len(df_nona_organic[df_nona_organic[\"has_groupby\"]==True])\nsumOffsetR = len(df_nona_organic[df_nona_organic[\"has_offset\"]==True])\n#sumModify = df_nona_organic[\"counter_modify\"].sum() # TODO\n#sumInsertDate = df_nona_organic[\"counter_insertdata\"].sum() #TODO\n#sumDeleteData = df_nona_organic[\"counter_deletedata\"].sum()  #TODO\n\nsumVariableR = len(df_nona_robotic[df_nona_robotic[\"has_variable\"]==True])\nsumFilterR = len(df_nona_robotic[df_nona_robotic[\"has_filter\"]==True])\nsumOrderByR = len(df_nona_robotic[df_nona_robotic[\"has_orderby\"]==True])\nsumLimitR = len(df_nona_robotic[df_nona_robotic[\"has_limit\"]==True])\nsumSelectR = len(df_nona_robotic[df_nona_robotic[\"has_select\"]==True])\nsumDistinctR = len(df_nona_robotic[df_nona_robotic[\"has_distinct\"]==True])\nsumToMultiSetR = len(df_nona_robotic[df_nona_robotic[\"has_tomultiset\"]==True])\nsumJoinR = len(df_nona_robotic[df_nona_robotic[\"has_join\"]==True])\nsumBGPR = len(df_nona_robotic[df_nona_robotic[\"has_bgp\"]==True])\nsumprojectR = len(df_nona_robotic[df_nona_robotic[\"has_project\"]==True])\nsumUnionR = len(df_nona_robotic[df_nona_robotic[\"has_union\"]==True])\nsumValuesR = len(df_nona_robotic[df_nona_robotic[\"has_values\"]==True])\nsumSliceR = len(df_nona_robotic[df_nona_robotic[\"has_slice\"]==True])\nsumSliceR = len(df_nona_robotic[df_nona_robotic[\"has_offset\"]==True])\nsumGroupByR = len(df_nona_robotic[df_nona_robotic[\"has_groupby\"]==True])\nsumOffset = len(df_nona_robotic[df_nona_robotic[\"has_offset\"]==True])\n#sumModify = df_nona_organic[\"counter_modify\"].sum() # TODO\n#sumInsertDate = df_nona_organic[\"counter_insertdata\"].sum() #TODO\n#sumDeleteData = df_nona_organic[\"counter_deletedata\"].sum()  #TODO\n\n\nda = {\n'I7 Robotic': [sumVariableR, sumValuesR, sumFilterR, sumOrderByR, sumLimitR, sumSelectR, sumDistinctR, sumSliceR, sumToMultiSetR,sumJoinR,sumBGPR, sumprojectR, sumUnionR, sumGroupByR, sumOffsetR]\n, 'I7 Organic': [sumVariable, sumValues, sumFilter, sumOrderBy, sumLimit, sumSelect, sumDistinct, sumSlice, sumToMultiSet,sumJoin,sumBGP, sumproject, sumUnion, sumGroupBy, sumOffset]\n}\ndpfr = pd.DataFrame(data=da, index=['Variable','Values','Filter','OrderBy','Limit','Select','Distinct','Slice', 'ToMultiSet','Join','BGP', 'project', 'Union', 'GroupBy', 'Offset'])\n\ndpfr\n\n",
   "execution_count": null,
   "outputs": []
  },
  {
   "cell_type": "markdown",
   "source": "Average number of variable per organic request",
   "metadata": {
    "cell_id": "c01e6b43-d1eb-4766-8a1b-a141a96e2479",
    "tags": [],
    "deepnote_cell_type": "markdown"
   }
  },
  {
   "cell_type": "code",
   "metadata": {
    "cell_id": "276eab2a-a0c6-4e81-8dc2-d6a9158e95c4",
    "tags": [],
    "deepnote_to_be_reexecuted": false,
    "source_hash": "19139680",
    "execution_start": 1643891198997,
    "execution_millis": 6,
    "deepnote_output_heights": [
     21.1875
    ],
    "deepnote_cell_type": "code"
   },
   "source": "df_nona_organic[\"counter_variable\"].mean()",
   "execution_count": null,
   "outputs": []
  },
  {
   "cell_type": "markdown",
   "source": "### Robotic",
   "metadata": {
    "cell_id": "a0eebf63-8a1e-45fa-b85b-d8c64f07da6d",
    "tags": [],
    "is_collapsed": false,
    "deepnote_cell_type": "text-cell-h3"
   }
  },
  {
   "cell_type": "code",
   "metadata": {
    "cell_id": "019bfe42-fdbc-4cee-8012-82ad8b97a37e",
    "tags": [],
    "deepnote_to_be_reexecuted": false,
    "source_hash": "e1e1f708",
    "execution_start": 1643891199009,
    "execution_millis": 11,
    "deepnote_output_heights": [
     21.1875
    ],
    "deepnote_cell_type": "code"
   },
   "source": "len(df_nona_robotic)",
   "execution_count": null,
   "outputs": []
  },
  {
   "cell_type": "markdown",
   "source": "Sum of all variables",
   "metadata": {
    "cell_id": "1f45de92-232a-48f7-81e3-e59ef160aaf7",
    "tags": [],
    "is_collapsed": false,
    "deepnote_cell_type": "text-cell-p"
   }
  },
  {
   "cell_type": "code",
   "metadata": {
    "cell_id": "b8372ecc-1e22-4306-87fb-039d15dd3361",
    "tags": [],
    "deepnote_to_be_reexecuted": false,
    "source_hash": "bed08164",
    "execution_start": 1643891199021,
    "execution_millis": 14,
    "deepnote_output_heights": [
     21.1875
    ],
    "deepnote_cell_type": "code"
   },
   "source": "df_nona_robotic[\"counter_variable\"].sum()",
   "execution_count": null,
   "outputs": []
  },
  {
   "cell_type": "code",
   "metadata": {
    "cell_id": "1e3fc719-4561-4da2-9e77-297be72d6a3d",
    "tags": [],
    "deepnote_to_be_reexecuted": false,
    "source_hash": "83a5fb5f",
    "execution_start": 1643891199034,
    "execution_millis": 6,
    "deepnote_output_heights": [
     21.1875
    ],
    "deepnote_cell_type": "code"
   },
   "source": "df_nona_robotic[\"counter_variable\"].mean()",
   "execution_count": null,
   "outputs": []
  },
  {
   "cell_type": "code",
   "metadata": {
    "cell_id": "1f13d90f-d338-4e79-a8b5-9fb8fee1f4fe",
    "tags": [],
    "deepnote_to_be_reexecuted": false,
    "source_hash": "aa6b2da5",
    "execution_start": 1643891199042,
    "execution_millis": 51,
    "deepnote_table_state": {
     "pageSize": 50,
     "pageIndex": 0,
     "filters": [],
     "sortBy": []
    },
    "deepnote_table_loading": false,
    "deepnote_cell_type": "code"
   },
   "source": "sumVariable = df_nona_robotic[\"counter_variable\"].sum()\n \nsumFilter = df_nona_robotic[\"counter_filter\"].sum() \nsumOrderBy = df_nona_robotic[\"counter_orderby\"].sum() \nsumLimit = df_nona_robotic[\"counter_limit\"].sum() \nsumSelect = df_nona_robotic[\"counter_select\"].sum()\nsumDistinct = df_nona_robotic[\"counter_distinct\"].sum()\nsumModify = df_nona_robotic[\"counter_modify\"].sum() \nsumToMultiSet = df_nona_robotic[\"counter_tomultiset\"].sum() \nsumJoin = df_nona_robotic[\"counter_join\"].sum() \nsumBGP = df_nona_robotic[\"counter_bgp\"].sum() \nsumInsertDate = df_nona_robotic[\"counter_insertdata\"].sum()\nsumDeleteData = df_nona_robotic[\"counter_deletedata\"].sum() \nsumproject = df_nona_robotic[\"counter_project\"].sum() \nsumUnion = df_nona_robotic[\"counter_union\"].sum() \nsumValues = df_nona_robotic[\"counter_values\"].sum() \n\nsumOffset = df_nona_robotic[\"counter_offset\"].sum() \nsumGroupBy = df_nona_robotic[\"counter_groupby\"].sum() \n\n\n\nda = {'Robotic': [sumVariable, sumValues, sumFilter, sumOrderBy, sumLimit, sumSelect, sumDistinct, sumModify, sumToMultiSet,sumJoin,sumBGP,sumInsertDate,sumDeleteData, sumproject, sumUnion, sumGroupBy, sumOffset]}\ndpfr = pd.DataFrame(data=da, index=['Variable','Values','Filter','OrderBy','Limit','Select','Distinct','Modify', 'ToMultiSet','Join','BGP','InsertDate','DeleteData', 'project', 'Union', 'GroupBy', 'Offset'])\n\ndpfr",
   "execution_count": null,
   "outputs": []
  },
  {
   "cell_type": "code",
   "metadata": {
    "cell_id": "c78aaf63-c53d-4c09-a5bb-be68c4c5af3d",
    "tags": [],
    "deepnote_to_be_reexecuted": false,
    "source_hash": "83a5fb5f",
    "execution_start": 1643891199096,
    "execution_millis": 79420345,
    "deepnote_output_heights": [
     21.1875
    ],
    "deepnote_cell_type": "code"
   },
   "source": "df_nona_robotic[\"counter_variable\"].mean()",
   "execution_count": null,
   "outputs": []
  },
  {
   "cell_type": "markdown",
   "source": "<a style='text-decoration:none;line-height:16px;display:flex;color:#5B5B62;padding:10px;justify-content:end;' href='https://deepnote.com?utm_source=created-in-deepnote-cell&projectId=513ed372-d958-4618-b5dc-4b186f2555bd' target=\"_blank\">\n<img alt='Created in deepnote.com' style='display:inline;max-height:16px;margin:0px;margin-right:7.5px;' src='data:image/svg+xml;base64,PD94bWwgdmVyc2lvbj0iMS4wIiBlbmNvZGluZz0iVVRGLTgiPz4KPHN2ZyB3aWR0aD0iODBweCIgaGVpZ2h0PSI4MHB4IiB2aWV3Qm94PSIwIDAgODAgODAiIHZlcnNpb249IjEuMSIgeG1sbnM9Imh0dHA6Ly93d3cudzMub3JnLzIwMDAvc3ZnIiB4bWxuczp4bGluaz0iaHR0cDovL3d3dy53My5vcmcvMTk5OS94bGluayI+CiAgICA8IS0tIEdlbmVyYXRvcjogU2tldGNoIDU0LjEgKDc2NDkwKSAtIGh0dHBzOi8vc2tldGNoYXBwLmNvbSAtLT4KICAgIDx0aXRsZT5Hcm91cCAzPC90aXRsZT4KICAgIDxkZXNjPkNyZWF0ZWQgd2l0aCBTa2V0Y2guPC9kZXNjPgogICAgPGcgaWQ9IkxhbmRpbmciIHN0cm9rZT0ibm9uZSIgc3Ryb2tlLXdpZHRoPSIxIiBmaWxsPSJub25lIiBmaWxsLXJ1bGU9ImV2ZW5vZGQiPgogICAgICAgIDxnIGlkPSJBcnRib2FyZCIgdHJhbnNmb3JtPSJ0cmFuc2xhdGUoLTEyMzUuMDAwMDAwLCAtNzkuMDAwMDAwKSI+CiAgICAgICAgICAgIDxnIGlkPSJHcm91cC0zIiB0cmFuc2Zvcm09InRyYW5zbGF0ZSgxMjM1LjAwMDAwMCwgNzkuMDAwMDAwKSI+CiAgICAgICAgICAgICAgICA8cG9seWdvbiBpZD0iUGF0aC0yMCIgZmlsbD0iIzAyNjVCNCIgcG9pbnRzPSIyLjM3NjIzNzYyIDgwIDM4LjA0NzY2NjcgODAgNTcuODIxNzgyMiA3My44MDU3NTkyIDU3LjgyMTc4MjIgMzIuNzU5MjczOSAzOS4xNDAyMjc4IDMxLjY4MzE2ODMiPjwvcG9seWdvbj4KICAgICAgICAgICAgICAgIDxwYXRoIGQ9Ik0zNS4wMDc3MTgsODAgQzQyLjkwNjIwMDcsNzYuNDU0OTM1OCA0Ny41NjQ5MTY3LDcxLjU0MjI2NzEgNDguOTgzODY2LDY1LjI2MTk5MzkgQzUxLjExMjI4OTksNTUuODQxNTg0MiA0MS42NzcxNzk1LDQ5LjIxMjIyODQgMjUuNjIzOTg0Niw0OS4yMTIyMjg0IEMyNS40ODQ5Mjg5LDQ5LjEyNjg0NDggMjkuODI2MTI5Niw0My4yODM4MjQ4IDM4LjY0NzU4NjksMzEuNjgzMTY4MyBMNzIuODcxMjg3MSwzMi41NTQ0MjUgTDY1LjI4MDk3Myw2Ny42NzYzNDIxIEw1MS4xMTIyODk5LDc3LjM3NjE0NCBMMzUuMDA3NzE4LDgwIFoiIGlkPSJQYXRoLTIyIiBmaWxsPSIjMDAyODY4Ij48L3BhdGg+CiAgICAgICAgICAgICAgICA8cGF0aCBkPSJNMCwzNy43MzA0NDA1IEwyNy4xMTQ1MzcsMC4yNTcxMTE0MzYgQzYyLjM3MTUxMjMsLTEuOTkwNzE3MDEgODAsMTAuNTAwMzkyNyA4MCwzNy43MzA0NDA1IEM4MCw2NC45NjA0ODgyIDY0Ljc3NjUwMzgsNzkuMDUwMzQxNCAzNC4zMjk1MTEzLDgwIEM0Ny4wNTUzNDg5LDc3LjU2NzA4MDggNTMuNDE4MjY3Nyw3MC4zMTM2MTAzIDUzLjQxODI2NzcsNTguMjM5NTg4NSBDNTMuNDE4MjY3Nyw0MC4xMjg1NTU3IDM2LjMwMzk1NDQsMzcuNzMwNDQwNSAyNS4yMjc0MTcsMzcuNzMwNDQwNSBDMTcuODQzMDU4NiwzNy43MzA0NDA1IDkuNDMzOTE5NjYsMzcuNzMwNDQwNSAwLDM3LjczMDQ0MDUgWiIgaWQ9IlBhdGgtMTkiIGZpbGw9IiMzNzkzRUYiPjwvcGF0aD4KICAgICAgICAgICAgPC9nPgogICAgICAgIDwvZz4KICAgIDwvZz4KPC9zdmc+' > </img>\nCreated in <span style='font-weight:600;margin-left:4px;'>Deepnote</span></a>",
   "metadata": {
    "tags": [],
    "created_in_deepnote_cell": true,
    "deepnote_cell_type": "markdown"
   }
  }
 ],
 "nbformat": 4,
 "nbformat_minor": 1,
 "metadata": {
  "kernelspec": {
   "display_name": "Python 3 (ipykernel)",
   "language": "python",
   "name": "python3"
  },
  "language_info": {
   "codemirror_mode": {
    "name": "ipython",
    "version": 3
   },
   "file_extension": ".py",
   "mimetype": "text/x-python",
   "name": "python",
   "nbconvert_exporter": "python",
   "pygments_lexer": "ipython3",
   "version": "3.9.10"
  },
  "deepnote_notebook_id": "1e0b6b8a-1c67-4b9f-b99d-5a7c18f414e7",
  "deepnote": {},
  "deepnote_execution_queue": []
 }
}