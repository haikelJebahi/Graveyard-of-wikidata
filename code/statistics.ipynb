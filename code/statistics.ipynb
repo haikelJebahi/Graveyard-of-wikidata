{
 "cells": [
  {
   "cell_type": "markdown",
   "source": [
    "# Graveyard Of Wikidata - Statistics"
   ],
   "metadata": {
    "cell_id": "181ee365-149c-46cf-a9bb-ea5175aa7299",
    "tags": [],
    "is_collapsed": false,
    "deepnote_cell_height": 82,
    "deepnote_cell_type": "text-cell-h1"
   }
  },
  {
   "cell_type": "markdown",
   "source": [
    "Github : https://github.com/haikelJebahi/Graveyard-of-wikidata\n",
    "\n",
    "Data : https://iccl.inf.tu-dresden.de/web/Wikidata_SPARQL_Logs/en"
   ],
   "metadata": {
    "cell_id": "56c5e622-1790-4277-a17f-9ce41abbaf2f",
    "deepnote_cell_height": 88.80000305175781,
    "deepnote_cell_type": "markdown"
   }
  },
  {
   "cell_type": "markdown",
   "source": [
    "## Imports"
   ],
   "metadata": {
    "cell_id": "aa56b625-2d2b-46e4-9bf1-b2bc4363433f",
    "tags": [],
    "is_collapsed": false,
    "deepnote_cell_height": 70,
    "deepnote_cell_type": "text-cell-h2"
   }
  },
  {
   "cell_type": "code",
   "metadata": {
    "pycharm": {
     "name": "#%%\n"
    },
    "deepnote_to_be_reexecuted": false,
    "source_hash": "f53493b1",
    "execution_start": 1645725167603,
    "execution_millis": 4084,
    "cell_id": "00002-0b727f6d-0141-4434-aa76-38b8b2291bff",
    "deepnote_cell_height": 585,
    "deepnote_cell_type": "code"
   },
   "source": [
    "%matplotlib inline\n",
    "from joblib import dump, load\n",
    "import csv\n",
    "import pandas as pd\n",
    "import numpy as np\n",
    "import seaborn as sns\n",
    "import matplotlib.pyplot as plt\n",
    "import re\n",
    "from urllib.parse import unquote_plus\n",
    "from pyparsing import ParseException\n",
    "from rdflib.plugins.sparql.algebra import translateQuery, translateUpdate, pprintAlgebra, traverse\n",
    "from rdflib.plugins.sparql.parser import parseQuery, parseUpdate\n",
    "from rdflib.plugins.sparql.operators import Builtin_LANG\n",
    "from rdflib.plugins.sparql.parserutils import CompValue\n",
    "from rdflib.term import Variable\n",
    "from pandas import concat\n",
    "from collections import Counter\n",
    "from sklearn.preprocessing import StandardScaler\n",
    "from sklearn.decomposition import PCA\n",
    "from mpl_toolkits import mplot3d\n",
    "import seaborn as sns\n",
    "from sklearn.manifold import TSNE\n",
    "from sklearn.cluster import KMeans\n",
    "from mpl_toolkits.mplot3d import Axes3D\n",
    "import colorcet as cc\n",
    "from sklearn.cluster import AgglomerativeClustering\n",
    "from PIL import Image\n",
    "import io\n",
    "import gc"
   ],
   "execution_count": 1,
   "outputs": []
  },
  {
   "cell_type": "code",
   "metadata": {
    "cell_id": "d3866281-b0bd-45ba-88dd-5c022cc6c0b6",
    "tags": [],
    "deepnote_to_be_reexecuted": false,
    "source_hash": "c0968138",
    "execution_start": 1645725171697,
    "execution_millis": 4,
    "deepnote_cell_height": 99,
    "deepnote_cell_type": "code"
   },
   "source": [
    "plt.style.use(\"ggplot\")"
   ],
   "execution_count": 2,
   "outputs": []
  },
  {
   "cell_type": "code",
   "metadata": {
    "deepnote_to_be_reexecuted": false,
    "source_hash": "1d7786d5",
    "execution_start": 1645725171706,
    "execution_millis": 13,
    "cell_id": "00003-66d67613-bc56-4d0d-ac48-64e5202d2fe7",
    "deepnote_cell_height": 203.39999389648438,
    "deepnote_cell_type": "code"
   },
   "source": [
    "pd.set_option(\"display.max_rows\", 0)\n",
    "pd.set_option(\"display.max_columns\", 0)\n",
    "pd.set_option(\"display.expand_frame_repr\", True)\n",
    "pd.set_option(\"display.max_colwidth\", -1)"
   ],
   "execution_count": 3,
   "outputs": [
    {
     "name": "stderr",
     "output_type": "stream",
     "text": [
      "/var/folders/lm/zh_hww991gd26t0d10kfp2km0000gn/T/ipykernel_388/3536214460.py:4: FutureWarning: Passing a negative integer is deprecated in version 1.0 and will not be supported in future version. Instead, use None to not limit the column width.\n",
      "  pd.set_option(\"display.max_colwidth\", -1)\n"
     ]
    }
   ]
  },
  {
   "cell_type": "markdown",
   "source": [
    "## Statistics"
   ],
   "metadata": {
    "cell_id": "00006-06788758-189a-4fee-91c3-476ab0aa7f87",
    "deepnote_cell_height": 52.399993896484375,
    "deepnote_cell_type": "markdown"
   }
  },
  {
   "cell_type": "code",
   "execution_count": 4,
   "outputs": [
    {
     "ename": "FileNotFoundError",
     "evalue": "[Errno 2] No such file or directory: '../data/merged/status500_Joined.parsed.tsv'",
     "output_type": "error",
     "traceback": [
      "\u001B[0;31m---------------------------------------------------------------------------\u001B[0m",
      "\u001B[0;31mFileNotFoundError\u001B[0m                         Traceback (most recent call last)",
      "Input \u001B[0;32mIn [4]\u001B[0m, in \u001B[0;36m<module>\u001B[0;34m\u001B[0m\n\u001B[1;32m      1\u001B[0m nom \u001B[38;5;241m=\u001B[39m \u001B[38;5;124m\"\u001B[39m\u001B[38;5;124m../data/merged/status500_Joined.parsed.tsv\u001B[39m\u001B[38;5;124m\"\u001B[39m\n\u001B[0;32m----> 2\u001B[0m df_nona \u001B[38;5;241m=\u001B[39m \u001B[43mpd\u001B[49m\u001B[38;5;241;43m.\u001B[39;49m\u001B[43mread_csv\u001B[49m\u001B[43m(\u001B[49m\u001B[43mnom\u001B[49m\u001B[43m,\u001B[49m\u001B[43m \u001B[49m\u001B[43msep\u001B[49m\u001B[38;5;241;43m=\u001B[39;49m\u001B[38;5;124;43m\"\u001B[39;49m\u001B[38;5;130;43;01m\\t\u001B[39;49;00m\u001B[38;5;124;43m\"\u001B[39;49m\u001B[43m)\u001B[49m\n",
      "File \u001B[0;32m~/Documents/M1/TER/repo/venv/lib/python3.9/site-packages/pandas/util/_decorators.py:311\u001B[0m, in \u001B[0;36mdeprecate_nonkeyword_arguments.<locals>.decorate.<locals>.wrapper\u001B[0;34m(*args, **kwargs)\u001B[0m\n\u001B[1;32m    305\u001B[0m \u001B[38;5;28;01mif\u001B[39;00m \u001B[38;5;28mlen\u001B[39m(args) \u001B[38;5;241m>\u001B[39m num_allow_args:\n\u001B[1;32m    306\u001B[0m     warnings\u001B[38;5;241m.\u001B[39mwarn(\n\u001B[1;32m    307\u001B[0m         msg\u001B[38;5;241m.\u001B[39mformat(arguments\u001B[38;5;241m=\u001B[39marguments),\n\u001B[1;32m    308\u001B[0m         \u001B[38;5;167;01mFutureWarning\u001B[39;00m,\n\u001B[1;32m    309\u001B[0m         stacklevel\u001B[38;5;241m=\u001B[39mstacklevel,\n\u001B[1;32m    310\u001B[0m     )\n\u001B[0;32m--> 311\u001B[0m \u001B[38;5;28;01mreturn\u001B[39;00m \u001B[43mfunc\u001B[49m\u001B[43m(\u001B[49m\u001B[38;5;241;43m*\u001B[39;49m\u001B[43margs\u001B[49m\u001B[43m,\u001B[49m\u001B[43m \u001B[49m\u001B[38;5;241;43m*\u001B[39;49m\u001B[38;5;241;43m*\u001B[39;49m\u001B[43mkwargs\u001B[49m\u001B[43m)\u001B[49m\n",
      "File \u001B[0;32m~/Documents/M1/TER/repo/venv/lib/python3.9/site-packages/pandas/io/parsers/readers.py:680\u001B[0m, in \u001B[0;36mread_csv\u001B[0;34m(filepath_or_buffer, sep, delimiter, header, names, index_col, usecols, squeeze, prefix, mangle_dupe_cols, dtype, engine, converters, true_values, false_values, skipinitialspace, skiprows, skipfooter, nrows, na_values, keep_default_na, na_filter, verbose, skip_blank_lines, parse_dates, infer_datetime_format, keep_date_col, date_parser, dayfirst, cache_dates, iterator, chunksize, compression, thousands, decimal, lineterminator, quotechar, quoting, doublequote, escapechar, comment, encoding, encoding_errors, dialect, error_bad_lines, warn_bad_lines, on_bad_lines, delim_whitespace, low_memory, memory_map, float_precision, storage_options)\u001B[0m\n\u001B[1;32m    665\u001B[0m kwds_defaults \u001B[38;5;241m=\u001B[39m _refine_defaults_read(\n\u001B[1;32m    666\u001B[0m     dialect,\n\u001B[1;32m    667\u001B[0m     delimiter,\n\u001B[0;32m   (...)\u001B[0m\n\u001B[1;32m    676\u001B[0m     defaults\u001B[38;5;241m=\u001B[39m{\u001B[38;5;124m\"\u001B[39m\u001B[38;5;124mdelimiter\u001B[39m\u001B[38;5;124m\"\u001B[39m: \u001B[38;5;124m\"\u001B[39m\u001B[38;5;124m,\u001B[39m\u001B[38;5;124m\"\u001B[39m},\n\u001B[1;32m    677\u001B[0m )\n\u001B[1;32m    678\u001B[0m kwds\u001B[38;5;241m.\u001B[39mupdate(kwds_defaults)\n\u001B[0;32m--> 680\u001B[0m \u001B[38;5;28;01mreturn\u001B[39;00m \u001B[43m_read\u001B[49m\u001B[43m(\u001B[49m\u001B[43mfilepath_or_buffer\u001B[49m\u001B[43m,\u001B[49m\u001B[43m \u001B[49m\u001B[43mkwds\u001B[49m\u001B[43m)\u001B[49m\n",
      "File \u001B[0;32m~/Documents/M1/TER/repo/venv/lib/python3.9/site-packages/pandas/io/parsers/readers.py:575\u001B[0m, in \u001B[0;36m_read\u001B[0;34m(filepath_or_buffer, kwds)\u001B[0m\n\u001B[1;32m    572\u001B[0m _validate_names(kwds\u001B[38;5;241m.\u001B[39mget(\u001B[38;5;124m\"\u001B[39m\u001B[38;5;124mnames\u001B[39m\u001B[38;5;124m\"\u001B[39m, \u001B[38;5;28;01mNone\u001B[39;00m))\n\u001B[1;32m    574\u001B[0m \u001B[38;5;66;03m# Create the parser.\u001B[39;00m\n\u001B[0;32m--> 575\u001B[0m parser \u001B[38;5;241m=\u001B[39m \u001B[43mTextFileReader\u001B[49m\u001B[43m(\u001B[49m\u001B[43mfilepath_or_buffer\u001B[49m\u001B[43m,\u001B[49m\u001B[43m \u001B[49m\u001B[38;5;241;43m*\u001B[39;49m\u001B[38;5;241;43m*\u001B[39;49m\u001B[43mkwds\u001B[49m\u001B[43m)\u001B[49m\n\u001B[1;32m    577\u001B[0m \u001B[38;5;28;01mif\u001B[39;00m chunksize \u001B[38;5;129;01mor\u001B[39;00m iterator:\n\u001B[1;32m    578\u001B[0m     \u001B[38;5;28;01mreturn\u001B[39;00m parser\n",
      "File \u001B[0;32m~/Documents/M1/TER/repo/venv/lib/python3.9/site-packages/pandas/io/parsers/readers.py:933\u001B[0m, in \u001B[0;36mTextFileReader.__init__\u001B[0;34m(self, f, engine, **kwds)\u001B[0m\n\u001B[1;32m    930\u001B[0m     \u001B[38;5;28mself\u001B[39m\u001B[38;5;241m.\u001B[39moptions[\u001B[38;5;124m\"\u001B[39m\u001B[38;5;124mhas_index_names\u001B[39m\u001B[38;5;124m\"\u001B[39m] \u001B[38;5;241m=\u001B[39m kwds[\u001B[38;5;124m\"\u001B[39m\u001B[38;5;124mhas_index_names\u001B[39m\u001B[38;5;124m\"\u001B[39m]\n\u001B[1;32m    932\u001B[0m \u001B[38;5;28mself\u001B[39m\u001B[38;5;241m.\u001B[39mhandles: IOHandles \u001B[38;5;241m|\u001B[39m \u001B[38;5;28;01mNone\u001B[39;00m \u001B[38;5;241m=\u001B[39m \u001B[38;5;28;01mNone\u001B[39;00m\n\u001B[0;32m--> 933\u001B[0m \u001B[38;5;28mself\u001B[39m\u001B[38;5;241m.\u001B[39m_engine \u001B[38;5;241m=\u001B[39m \u001B[38;5;28;43mself\u001B[39;49m\u001B[38;5;241;43m.\u001B[39;49m\u001B[43m_make_engine\u001B[49m\u001B[43m(\u001B[49m\u001B[43mf\u001B[49m\u001B[43m,\u001B[49m\u001B[43m \u001B[49m\u001B[38;5;28;43mself\u001B[39;49m\u001B[38;5;241;43m.\u001B[39;49m\u001B[43mengine\u001B[49m\u001B[43m)\u001B[49m\n",
      "File \u001B[0;32m~/Documents/M1/TER/repo/venv/lib/python3.9/site-packages/pandas/io/parsers/readers.py:1217\u001B[0m, in \u001B[0;36mTextFileReader._make_engine\u001B[0;34m(self, f, engine)\u001B[0m\n\u001B[1;32m   1213\u001B[0m     mode \u001B[38;5;241m=\u001B[39m \u001B[38;5;124m\"\u001B[39m\u001B[38;5;124mrb\u001B[39m\u001B[38;5;124m\"\u001B[39m\n\u001B[1;32m   1214\u001B[0m \u001B[38;5;66;03m# error: No overload variant of \"get_handle\" matches argument types\u001B[39;00m\n\u001B[1;32m   1215\u001B[0m \u001B[38;5;66;03m# \"Union[str, PathLike[str], ReadCsvBuffer[bytes], ReadCsvBuffer[str]]\"\u001B[39;00m\n\u001B[1;32m   1216\u001B[0m \u001B[38;5;66;03m# , \"str\", \"bool\", \"Any\", \"Any\", \"Any\", \"Any\", \"Any\"\u001B[39;00m\n\u001B[0;32m-> 1217\u001B[0m \u001B[38;5;28mself\u001B[39m\u001B[38;5;241m.\u001B[39mhandles \u001B[38;5;241m=\u001B[39m \u001B[43mget_handle\u001B[49m\u001B[43m(\u001B[49m\u001B[43m  \u001B[49m\u001B[38;5;66;43;03m# type: ignore[call-overload]\u001B[39;49;00m\n\u001B[1;32m   1218\u001B[0m \u001B[43m    \u001B[49m\u001B[43mf\u001B[49m\u001B[43m,\u001B[49m\n\u001B[1;32m   1219\u001B[0m \u001B[43m    \u001B[49m\u001B[43mmode\u001B[49m\u001B[43m,\u001B[49m\n\u001B[1;32m   1220\u001B[0m \u001B[43m    \u001B[49m\u001B[43mencoding\u001B[49m\u001B[38;5;241;43m=\u001B[39;49m\u001B[38;5;28;43mself\u001B[39;49m\u001B[38;5;241;43m.\u001B[39;49m\u001B[43moptions\u001B[49m\u001B[38;5;241;43m.\u001B[39;49m\u001B[43mget\u001B[49m\u001B[43m(\u001B[49m\u001B[38;5;124;43m\"\u001B[39;49m\u001B[38;5;124;43mencoding\u001B[39;49m\u001B[38;5;124;43m\"\u001B[39;49m\u001B[43m,\u001B[49m\u001B[43m \u001B[49m\u001B[38;5;28;43;01mNone\u001B[39;49;00m\u001B[43m)\u001B[49m\u001B[43m,\u001B[49m\n\u001B[1;32m   1221\u001B[0m \u001B[43m    \u001B[49m\u001B[43mcompression\u001B[49m\u001B[38;5;241;43m=\u001B[39;49m\u001B[38;5;28;43mself\u001B[39;49m\u001B[38;5;241;43m.\u001B[39;49m\u001B[43moptions\u001B[49m\u001B[38;5;241;43m.\u001B[39;49m\u001B[43mget\u001B[49m\u001B[43m(\u001B[49m\u001B[38;5;124;43m\"\u001B[39;49m\u001B[38;5;124;43mcompression\u001B[39;49m\u001B[38;5;124;43m\"\u001B[39;49m\u001B[43m,\u001B[49m\u001B[43m \u001B[49m\u001B[38;5;28;43;01mNone\u001B[39;49;00m\u001B[43m)\u001B[49m\u001B[43m,\u001B[49m\n\u001B[1;32m   1222\u001B[0m \u001B[43m    \u001B[49m\u001B[43mmemory_map\u001B[49m\u001B[38;5;241;43m=\u001B[39;49m\u001B[38;5;28;43mself\u001B[39;49m\u001B[38;5;241;43m.\u001B[39;49m\u001B[43moptions\u001B[49m\u001B[38;5;241;43m.\u001B[39;49m\u001B[43mget\u001B[49m\u001B[43m(\u001B[49m\u001B[38;5;124;43m\"\u001B[39;49m\u001B[38;5;124;43mmemory_map\u001B[39;49m\u001B[38;5;124;43m\"\u001B[39;49m\u001B[43m,\u001B[49m\u001B[43m \u001B[49m\u001B[38;5;28;43;01mFalse\u001B[39;49;00m\u001B[43m)\u001B[49m\u001B[43m,\u001B[49m\n\u001B[1;32m   1223\u001B[0m \u001B[43m    \u001B[49m\u001B[43mis_text\u001B[49m\u001B[38;5;241;43m=\u001B[39;49m\u001B[43mis_text\u001B[49m\u001B[43m,\u001B[49m\n\u001B[1;32m   1224\u001B[0m \u001B[43m    \u001B[49m\u001B[43merrors\u001B[49m\u001B[38;5;241;43m=\u001B[39;49m\u001B[38;5;28;43mself\u001B[39;49m\u001B[38;5;241;43m.\u001B[39;49m\u001B[43moptions\u001B[49m\u001B[38;5;241;43m.\u001B[39;49m\u001B[43mget\u001B[49m\u001B[43m(\u001B[49m\u001B[38;5;124;43m\"\u001B[39;49m\u001B[38;5;124;43mencoding_errors\u001B[39;49m\u001B[38;5;124;43m\"\u001B[39;49m\u001B[43m,\u001B[49m\u001B[43m \u001B[49m\u001B[38;5;124;43m\"\u001B[39;49m\u001B[38;5;124;43mstrict\u001B[39;49m\u001B[38;5;124;43m\"\u001B[39;49m\u001B[43m)\u001B[49m\u001B[43m,\u001B[49m\n\u001B[1;32m   1225\u001B[0m \u001B[43m    \u001B[49m\u001B[43mstorage_options\u001B[49m\u001B[38;5;241;43m=\u001B[39;49m\u001B[38;5;28;43mself\u001B[39;49m\u001B[38;5;241;43m.\u001B[39;49m\u001B[43moptions\u001B[49m\u001B[38;5;241;43m.\u001B[39;49m\u001B[43mget\u001B[49m\u001B[43m(\u001B[49m\u001B[38;5;124;43m\"\u001B[39;49m\u001B[38;5;124;43mstorage_options\u001B[39;49m\u001B[38;5;124;43m\"\u001B[39;49m\u001B[43m,\u001B[49m\u001B[43m \u001B[49m\u001B[38;5;28;43;01mNone\u001B[39;49;00m\u001B[43m)\u001B[49m\u001B[43m,\u001B[49m\n\u001B[1;32m   1226\u001B[0m \u001B[43m\u001B[49m\u001B[43m)\u001B[49m\n\u001B[1;32m   1227\u001B[0m \u001B[38;5;28;01massert\u001B[39;00m \u001B[38;5;28mself\u001B[39m\u001B[38;5;241m.\u001B[39mhandles \u001B[38;5;129;01mis\u001B[39;00m \u001B[38;5;129;01mnot\u001B[39;00m \u001B[38;5;28;01mNone\u001B[39;00m\n\u001B[1;32m   1228\u001B[0m f \u001B[38;5;241m=\u001B[39m \u001B[38;5;28mself\u001B[39m\u001B[38;5;241m.\u001B[39mhandles\u001B[38;5;241m.\u001B[39mhandle\n",
      "File \u001B[0;32m~/Documents/M1/TER/repo/venv/lib/python3.9/site-packages/pandas/io/common.py:789\u001B[0m, in \u001B[0;36mget_handle\u001B[0;34m(path_or_buf, mode, encoding, compression, memory_map, is_text, errors, storage_options)\u001B[0m\n\u001B[1;32m    784\u001B[0m \u001B[38;5;28;01melif\u001B[39;00m \u001B[38;5;28misinstance\u001B[39m(handle, \u001B[38;5;28mstr\u001B[39m):\n\u001B[1;32m    785\u001B[0m     \u001B[38;5;66;03m# Check whether the filename is to be opened in binary mode.\u001B[39;00m\n\u001B[1;32m    786\u001B[0m     \u001B[38;5;66;03m# Binary mode does not support 'encoding' and 'newline'.\u001B[39;00m\n\u001B[1;32m    787\u001B[0m     \u001B[38;5;28;01mif\u001B[39;00m ioargs\u001B[38;5;241m.\u001B[39mencoding \u001B[38;5;129;01mand\u001B[39;00m \u001B[38;5;124m\"\u001B[39m\u001B[38;5;124mb\u001B[39m\u001B[38;5;124m\"\u001B[39m \u001B[38;5;129;01mnot\u001B[39;00m \u001B[38;5;129;01min\u001B[39;00m ioargs\u001B[38;5;241m.\u001B[39mmode:\n\u001B[1;32m    788\u001B[0m         \u001B[38;5;66;03m# Encoding\u001B[39;00m\n\u001B[0;32m--> 789\u001B[0m         handle \u001B[38;5;241m=\u001B[39m \u001B[38;5;28;43mopen\u001B[39;49m\u001B[43m(\u001B[49m\n\u001B[1;32m    790\u001B[0m \u001B[43m            \u001B[49m\u001B[43mhandle\u001B[49m\u001B[43m,\u001B[49m\n\u001B[1;32m    791\u001B[0m \u001B[43m            \u001B[49m\u001B[43mioargs\u001B[49m\u001B[38;5;241;43m.\u001B[39;49m\u001B[43mmode\u001B[49m\u001B[43m,\u001B[49m\n\u001B[1;32m    792\u001B[0m \u001B[43m            \u001B[49m\u001B[43mencoding\u001B[49m\u001B[38;5;241;43m=\u001B[39;49m\u001B[43mioargs\u001B[49m\u001B[38;5;241;43m.\u001B[39;49m\u001B[43mencoding\u001B[49m\u001B[43m,\u001B[49m\n\u001B[1;32m    793\u001B[0m \u001B[43m            \u001B[49m\u001B[43merrors\u001B[49m\u001B[38;5;241;43m=\u001B[39;49m\u001B[43merrors\u001B[49m\u001B[43m,\u001B[49m\n\u001B[1;32m    794\u001B[0m \u001B[43m            \u001B[49m\u001B[43mnewline\u001B[49m\u001B[38;5;241;43m=\u001B[39;49m\u001B[38;5;124;43m\"\u001B[39;49m\u001B[38;5;124;43m\"\u001B[39;49m\u001B[43m,\u001B[49m\n\u001B[1;32m    795\u001B[0m \u001B[43m        \u001B[49m\u001B[43m)\u001B[49m\n\u001B[1;32m    796\u001B[0m     \u001B[38;5;28;01melse\u001B[39;00m:\n\u001B[1;32m    797\u001B[0m         \u001B[38;5;66;03m# Binary mode\u001B[39;00m\n\u001B[1;32m    798\u001B[0m         handle \u001B[38;5;241m=\u001B[39m \u001B[38;5;28mopen\u001B[39m(handle, ioargs\u001B[38;5;241m.\u001B[39mmode)\n",
      "\u001B[0;31mFileNotFoundError\u001B[0m: [Errno 2] No such file or directory: '../data/merged/status500_Joined.parsed.tsv'"
     ]
    }
   ],
   "source": [
    "nom = \"../data/merged/status500_Joined.parsed.tsv\"\n",
    "df_nona = pd.read_csv(nom, sep=\"\\t\")\n"
   ],
   "metadata": {
    "collapsed": false,
    "pycharm": {
     "name": "#%%\n"
    }
   }
  },
  {
   "cell_type": "markdown",
   "metadata": {
    "tags": [],
    "deepnote_to_be_reexecuted": false,
    "source_hash": "3f662e75",
    "execution_start": 1645725174187,
    "execution_millis": 753,
    "cell_id": "00007-9eb981a6-fa29-4572-a631-437470e259b2",
    "deepnote_cell_height": 423,
    "deepnote_cell_type": "code",
    "pycharm": {
     "name": "#%% md\n"
    }
   },
   "source": [
    "Adding basic attributes of queries"
   ]
  },
  {
   "cell_type": "code",
   "metadata": {
    "cell_id": "4bc30b28-a52a-4d89-9044-fd515f693329",
    "tags": [],
    "deepnote_to_be_reexecuted": false,
    "source_hash": "2dacefa7",
    "execution_start": 1645725174947,
    "execution_millis": 388,
    "deepnote_cell_height": 547,
    "deepnote_cell_type": "code",
    "pycharm": {
     "name": "#%%\n"
    }
   },
   "source": [
    "df_nona[\"has_variable\"] = df_nona[\"var_cpt\"].apply(lambda x: False if x == 0 else True)\n",
    "df_nona[\"has_filter\"] = df_nona[\"filter\"].apply(lambda x: False if x == 0 else True)\n",
    "df_nona[\"has_orderby\"] = df_nona[\"orderby\"].apply(lambda x: False if x == 0 else True)\n",
    "df_nona[\"has_limit\"] = df_nona[\"limit\"].apply(lambda x: False if x == 0 else True)\n",
    "df_nona[\"has_select\"] = df_nona[\"select\"].apply(lambda x: False if x == 0 else True)\n",
    "df_nona[\"has_distinct\"] = df_nona[\"distinct\"].apply(lambda x: False if x == 0 else True)\n",
    "df_nona[\"has_modify\"] = df_nona[\"modify\"].apply(lambda x: False if x == 0 else True)\n",
    "df_nona[\"has_tomultiset\"] = df_nona[\"tomultiset\"].apply(\n",
    "    lambda x: False if x == 0 else True\n",
    ")\n",
    "df_nona[\"has_join\"] = df_nona[\"join\"].apply(lambda x: False if x == 0 else True)\n",
    "df_nona[\"has_bgp\"] = df_nona[\"bgp\"].apply(lambda x: False if x == 0 else True)\n",
    "df_nona[\"has_project\"] = df_nona[\"project\"].apply(lambda x: False if x == 0 else True)\n",
    "df_nona[\"has_union\"] = df_nona[\"union\"].apply(lambda x: False if x == 0 else True)\n",
    "df_nona[\"has_values\"] = df_nona[\"values\"].apply(lambda x: False if x == 0 else True)\n",
    "df_nona[\"has_slice\"] = df_nona[\"slice\"].apply(lambda x: False if x == 0 else True)\n",
    "df_nona[\"has_offset\"] = df_nona[\"offset\"].apply(lambda x: False if x == 0 else True)\n",
    "\n",
    "df_nona[\"complexPathWith\"] = df_nona.loc[:,['pathWithStar','pathWithQuestionMark','pathWithPlus']].sum(axis=1)\n",
    "df_nona[\"simplePathWith\"] = df_nona.loc[:,['pathWithInv','pathWithSequence','pathWithAlternative']].sum(axis=1)"
   ],
   "execution_count": null,
   "outputs": []
  },
  {
   "cell_type": "code",
   "source": [
    "df_nona"
   ],
   "metadata": {
    "tags": [],
    "is_collapsed": false,
    "cell_id": "00008-1f3661dc-5954-48ba-bcc3-2ff39c6dc95e",
    "deepnote_cell_height": 52.399993896484375,
    "deepnote_cell_type": "text-cell-p",
    "pycharm": {
     "name": "#%%\n"
    }
   },
   "execution_count": null,
   "outputs": []
  },
  {
   "cell_type": "markdown",
   "metadata": {
    "pycharm": {
     "name": "#%% md\n"
    },
    "deepnote_to_be_reexecuted": false,
    "source_hash": "a0137716",
    "execution_start": 1645725175337,
    "execution_millis": 806,
    "deepnote_table_state": {
     "pageSize": 10,
     "pageIndex": 0,
     "filters": [],
     "sortBy": [
      {
       "id": "counter_groupby",
       "type": "desc"
      }
     ]
    },
    "deepnote_table_loading": false,
    "deepnote_output_heights": [
     611
    ],
    "cell_id": "00009-06f84c18-fc9b-4f58-9dad-80b962c56c16",
    "deepnote_cell_height": 631,
    "deepnote_cell_type": "code"
   },
   "source": [
    "Split in robotic and organic"
   ]
  },
  {
   "cell_type": "code",
   "metadata": {
    "pycharm": {
     "name": "#%%\n"
    },
    "deepnote_to_be_reexecuted": false,
    "source_hash": "649884d6",
    "execution_start": 1645725176040,
    "execution_millis": 680,
    "deepnote_table_state": {
     "pageSize": 10,
     "pageIndex": 0,
     "filters": [],
     "sortBy": [
      {
       "id": "anonymizedQuery",
       "type": "desc"
      }
     ]
    },
    "deepnote_table_loading": false,
    "cell_id": "00010-fa1046ec-ae18-486f-bde1-14ec3e1af194",
    "deepnote_cell_height": 663,
    "deepnote_cell_type": "code"
   },
   "source": [
    "df_nona_robotic = df_nona.loc[(df_nona[\"sourceCategory\"] == \"robotic\")]\n",
    "df_nona_robotic\n"
   ],
   "execution_count": null,
   "outputs": []
  },
  {
   "cell_type": "code",
   "metadata": {
    "tags": [],
    "deepnote_to_be_reexecuted": false,
    "source_hash": "1e31179e",
    "execution_start": 1645725176720,
    "execution_millis": 29,
    "cell_id": "00013-bbc744b8-cda9-49d6-a157-2de0df35461d",
    "deepnote_output_heights": [
     21
    ],
    "deepnote_cell_height": 136,
    "deepnote_cell_type": "code",
    "pycharm": {
     "name": "#%%\n"
    }
   },
   "source": [
    "df_nona_organic = df_nona.loc[(df_nona[\"sourceCategory\"] == \"organic\")]\n",
    "df_nona_organic\n"
   ],
   "execution_count": null,
   "outputs": []
  },
  {
   "cell_type": "code",
   "source": [
    "len(df_nona)\n"
   ],
   "metadata": {
    "collapsed": false,
    "pycharm": {
     "name": "#%%\n"
    }
   },
   "execution_count": null,
   "outputs": []
  },
  {
   "cell_type": "code",
   "source": [
    "\n",
    "data = dict()\n",
    "for i in range(1,8):\n",
    "    df_nona_interval = df_nona[df_nona[\"interval\"] == i]\n",
    "    for type in [\"robotic\", \"organic\"]:\n",
    "        df_nona_interval_type = df_nona_interval[df_nona_interval[\"sourceCategory\"] == type]\n",
    "        \n",
    "        sumVariable = len(df_nona_interval_type[df_nona_interval_type[\"has_variable\"]==True])\n",
    "        sumFilter = len(df_nona_interval_type[df_nona_interval_type[\"has_filter\"]==True])\n",
    "        sumOrderBy = len(df_nona_interval_type[df_nona_interval_type[\"has_orderby\"]==True])\n",
    "        sumLimit = len(df_nona_interval_type[df_nona_interval_type[\"has_limit\"]==True])\n",
    "        sumSelect = len(df_nona_interval_type[df_nona_interval_type[\"has_select\"]==True])\n",
    "        sumDistinct = len(df_nona_interval_type[df_nona_interval_type[\"has_distinct\"]==True])\n",
    "        sumToMultiSet = len(df_nona_interval_type[df_nona_interval_type[\"has_tomultiset\"]==True])\n",
    "        sumJoin = len(df_nona_interval_type[df_nona_interval_type[\"has_join\"]==True])\n",
    "        sumBGP = len(df_nona_interval_type[df_nona_interval_type[\"has_bgp\"]==True])\n",
    "        sumproject = len(df_nona_interval_type[df_nona_interval_type[\"has_project\"]==True])\n",
    "        sumUnion = len(df_nona_interval_type[df_nona_interval_type[\"has_union\"]==True])\n",
    "        sumValues = len(df_nona_interval_type[df_nona_interval_type[\"has_values\"]==True])\n",
    "        sumSlice = len(df_nona_interval_type[df_nona_interval_type[\"has_slice\"]==True])\n",
    "        sumSlice = len(df_nona_interval_type[df_nona_interval_type[\"has_offset\"]==True])\n",
    "        sumOffset = len(df_nona_interval_type[df_nona_interval_type[\"has_offset\"]==True])\n",
    "\n",
    "        data['I' + str(i) + \" - \" + type] = [sumVariable,sumValues,sumFilter,sumOrderBy,sumLimit,sumSelect,sumDistinct,sumSlice, sumToMultiSet,sumJoin,sumBGP,sumproject,sumUnion, sumOffset]\n",
    "\n",
    "dpfr = pd.DataFrame(data=data, index=['Variable','Values','Filter','OrderBy','Limit','Select','Distinct','Slice', 'ToMultiSet','Join','BGP', 'project', 'Union',\"Offset\"])\n",
    "dpfr"
   ],
   "metadata": {
    "collapsed": false,
    "pycharm": {
     "name": "#%%\n"
    }
   },
   "execution_count": null,
   "outputs": []
  },
  {
   "cell_type": "markdown",
   "source": [
    "### Top 10 with triples"
   ],
   "metadata": {
    "cell_id": "4fe186c0-f1a2-448b-8160-1d2dbe2d1301",
    "tags": [],
    "deepnote_cell_height": 114,
    "deepnote_cell_type": "markdown"
   }
  },
  {
   "cell_type": "code",
   "metadata": {
    "cell_id": "5487462e-9c56-4984-9d7b-e15feeb28a67",
    "tags": [],
    "deepnote_to_be_reexecuted": false,
    "source_hash": "6c52bd4e",
    "execution_start": 1645725177499,
    "execution_millis": 406,
    "is_code_hidden": false,
    "is_output_hidden": false,
    "deepnote_output_heights": [
     322
    ],
    "deepnote_cell_height": 634,
    "deepnote_cell_type": "code"
   },
   "source": [
    "df_nona_sort_by_triples = df_nona.sort_values([\"triples\"],  ascending=[False])\n",
    "df_nona_sort_by_triples_out = df_nona_sort_by_triples.head(10)\n",
    "df_nona_sort_by_triples_out"
   ],
   "execution_count": null,
   "outputs": []
  },
  {
   "cell_type": "code",
   "metadata": {
    "cell_id": "fb099125-04e0-4a57-9997-bcf677dfbf43",
    "tags": [],
    "deepnote_to_be_reexecuted": false,
    "source_hash": "f0c6e051",
    "execution_start": 1645725177909,
    "execution_millis": 31,
    "deepnote_output_heights": [
     36
    ],
    "deepnote_cell_height": 755,
    "deepnote_cell_type": "code"
   },
   "source": [
    "%%script false --no-raise-error # disable cell\n",
    "\n",
    "# Afficher la requête contenant le plus de triples\n",
    "print(encoded2raw(\n",
    "        df_nona_sort_by_triples_out.loc[53856][\"anonymizedQuery\"]\n",
    "    ))"
   ],
   "execution_count": null,
   "outputs": []
  },
  {
   "cell_type": "markdown",
   "source": [
    "### Organic"
   ],
   "metadata": {
    "tags": [],
    "is_collapsed": false,
    "cell_id": "00014-e386f05a-12c7-4075-86c2-82f327c590b4",
    "deepnote_cell_height": 62,
    "deepnote_cell_type": "text-cell-h3"
   }
  },
  {
   "cell_type": "markdown",
   "source": [
    "Number of organic queries"
   ],
   "metadata": {
    "tags": [],
    "is_collapsed": false,
    "cell_id": "00015-f69ecda6-ce66-42fc-8ca9-be7dd3753ef6",
    "deepnote_cell_height": 52.399993896484375,
    "deepnote_cell_type": "text-cell-p"
   }
  },
  {
   "cell_type": "code",
   "metadata": {
    "tags": [],
    "deepnote_to_be_reexecuted": false,
    "source_hash": "84f67c2c",
    "execution_start": 1645725177958,
    "execution_millis": 1332212,
    "cell_id": "00016-f43c622c-7345-47ca-a5dc-075e87ca9af3",
    "deepnote_output_heights": [
     21
    ],
    "deepnote_cell_height": 118,
    "deepnote_cell_type": "code"
   },
   "source": [
    "len(df_nona_organic)"
   ],
   "execution_count": null,
   "outputs": []
  },
  {
   "cell_type": "markdown",
   "source": [
    "Sum of all variables"
   ],
   "metadata": {
    "tags": [],
    "is_collapsed": false,
    "cell_id": "00017-53c37f93-1a6c-4ad8-9e76-2ea76d123256",
    "deepnote_cell_height": 52.399993896484375,
    "deepnote_cell_type": "text-cell-p"
   }
  },
  {
   "cell_type": "code",
   "metadata": {
    "cell_id": "0193ad5e-fbbc-44de-9453-d24561a88709",
    "tags": [],
    "deepnote_to_be_reexecuted": false,
    "source_hash": "bbc0d72d",
    "execution_start": 1645725177976,
    "execution_millis": 1332159,
    "deepnote_output_heights": [
     21
    ],
    "deepnote_cell_height": 118,
    "deepnote_cell_type": "code"
   },
   "source": [
    "df_nona_organic[\"var_cpt\"].sum()"
   ],
   "execution_count": null,
   "outputs": []
  },
  {
   "cell_type": "markdown",
   "source": [
    "Average number of variable per organic request"
   ],
   "metadata": {
    "tags": [],
    "cell_id": "00019-b7e8867e-7922-4fdd-8300-e7cff67cefcc",
    "deepnote_cell_height": 52.399993896484375,
    "deepnote_cell_type": "markdown"
   }
  },
  {
   "cell_type": "code",
   "metadata": {
    "tags": [],
    "deepnote_to_be_reexecuted": false,
    "source_hash": "abc0efda",
    "execution_start": 1645725178039,
    "execution_millis": 1332188,
    "cell_id": "00020-a0d7325b-bfe9-45f2-873f-33fd61bd9da9",
    "deepnote_output_heights": [
     21
    ],
    "deepnote_cell_height": 118,
    "deepnote_cell_type": "code"
   },
   "source": [
    "df_nona_organic[\"var_cpt\"].mean()"
   ],
   "execution_count": null,
   "outputs": []
  },
  {
   "cell_type": "markdown",
   "source": [
    "### Robotic"
   ],
   "metadata": {
    "tags": [],
    "is_collapsed": false,
    "cell_id": "00021-da27e86d-9bbc-413b-a39a-015f1d5575b2",
    "deepnote_cell_height": 62,
    "deepnote_cell_type": "text-cell-h3"
   }
  },
  {
   "cell_type": "code",
   "metadata": {
    "tags": [],
    "deepnote_to_be_reexecuted": false,
    "source_hash": "e1e1f708",
    "execution_start": 1645725178040,
    "execution_millis": 1332227,
    "cell_id": "00022-8739785b-41d4-4a24-9035-ca8d03d408b8",
    "deepnote_output_heights": [
     21
    ],
    "deepnote_cell_height": 118,
    "deepnote_cell_type": "code"
   },
   "source": [
    "len(df_nona_robotic)"
   ],
   "execution_count": null,
   "outputs": []
  },
  {
   "cell_type": "markdown",
   "source": [
    "Sum of all variables"
   ],
   "metadata": {
    "tags": [],
    "is_collapsed": false,
    "cell_id": "00023-5340f2f2-2827-4fa8-b193-6d60ca453cad",
    "deepnote_cell_height": 52.399993896484375,
    "deepnote_cell_type": "text-cell-p"
   }
  },
  {
   "cell_type": "code",
   "metadata": {
    "tags": [],
    "deepnote_to_be_reexecuted": false,
    "source_hash": "e4279818",
    "execution_start": 1645725178078,
    "execution_millis": 214,
    "cell_id": "00024-6cb1fcf4-9906-4015-8a33-75f671191fd4",
    "deepnote_output_heights": [
     21
    ],
    "deepnote_cell_height": 118,
    "deepnote_cell_type": "code"
   },
   "source": [
    "df_nona_robotic[\"var_cpt\"].sum()"
   ],
   "execution_count": null,
   "outputs": []
  },
  {
   "cell_type": "code",
   "metadata": {
    "tags": [],
    "deepnote_to_be_reexecuted": false,
    "source_hash": "c0de7c92",
    "execution_start": 1645725178079,
    "execution_millis": 374,
    "cell_id": "00027-0ff8d573-ec3d-4997-b7ef-07a9800fd9a5",
    "deepnote_output_heights": [
     21
    ],
    "deepnote_cell_height": 118,
    "deepnote_cell_type": "code",
    "pycharm": {
     "name": "#%%\n"
    }
   },
   "source": [
    "df_nona_robotic[\"var_cpt\"].mean()"
   ],
   "execution_count": null,
   "outputs": []
  }
 ],
 "nbformat": 4,
 "nbformat_minor": 1,
 "metadata": {
  "kernelspec": {
   "display_name": "Python 3 (ipykernel)",
   "language": "python",
   "name": "python3"
  },
  "language_info": {
   "codemirror_mode": {
    "name": "ipython",
    "version": 3
   },
   "file_extension": ".py",
   "mimetype": "text/x-python",
   "name": "python",
   "nbconvert_exporter": "python",
   "pygments_lexer": "ipython3",
   "version": "3.9.10"
  },
  "deepnote_notebook_id": "2ad3b4df-c712-41d0-a2ec-2cba6bf0c52d",
  "deepnote": {},
  "deepnote_execution_queue": [
   {
    "cellId": "d83dd03a-be3e-4ef6-861b-69a80456daf8",
    "sessionId": "3c6586bd-93a2-4ad1-9cb9-5f1d62e07ee0",
    "msgId": "11750494-cc83-4c64-bde8-db72198f16d8"
   }
  ]
 }
}