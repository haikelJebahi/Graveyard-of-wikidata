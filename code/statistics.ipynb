{
 "cells": [
  {
   "cell_type": "markdown",
   "source": "# Graveyard Of Wikidata - Statistics",
   "metadata": {
    "tags": [],
    "is_collapsed": false,
    "deepnote_cell_height": 82,
    "cell_id": "047e4d21-c24f-46ab-a23e-18d2e992b5f2",
    "deepnote_cell_type": "text-cell-h1"
   }
  },
  {
   "cell_type": "markdown",
   "source": "Github : https://github.com/haikelJebahi/Graveyard-of-wikidata\n\nData : https://iccl.inf.tu-dresden.de/web/Wikidata_SPARQL_Logs/en",
   "metadata": {
    "deepnote_cell_height": 88.80000305175781,
    "cell_id": "00001-95b5e7dc-0f4d-42aa-81f2-eef5c19d70ad",
    "deepnote_cell_type": "markdown"
   }
  },
  {
   "cell_type": "markdown",
   "source": "## Imports",
   "metadata": {
    "tags": [],
    "is_collapsed": false,
    "deepnote_cell_height": 70,
    "cell_id": "00002-2e53ddad-1aed-4bbe-b3fa-d4c3e9943383",
    "deepnote_cell_type": "text-cell-h2"
   }
  },
  {
   "cell_type": "code",
   "metadata": {
    "pycharm": {
     "name": "#%%\n"
    },
    "deepnote_to_be_reexecuted": false,
    "source_hash": "1484f01",
    "execution_start": 1646339618550,
    "execution_millis": 85,
    "deepnote_cell_height": 585,
    "cell_id": "00003-0038c49c-3a2d-42a9-b3c0-84c805b085af",
    "deepnote_cell_type": "code"
   },
   "source": "%matplotlib inline\nfrom joblib import dump, load\nimport csv\nimport pandas as pd\nimport numpy as np\nimport seaborn as sns\nimport matplotlib.pyplot as plt\nimport re\nfrom urllib.parse import unquote_plus\nfrom pyparsing import ParseException\nfrom rdflib.plugins.sparql.algebra import translateQuery, translateUpdate, pprintAlgebra, traverse\nfrom rdflib.plugins.sparql.parser import parseQuery, parseUpdate\nfrom rdflib.plugins.sparql.operators import Builtin_LANG\nfrom rdflib.plugins.sparql.parserutils import CompValue\nfrom rdflib.term import Variable\nfrom pandas import concat\nfrom collections import Counter\nfrom sklearn.preprocessing import StandardScaler\nfrom sklearn.decomposition import PCA\nfrom mpl_toolkits import mplot3d\nimport seaborn as sns\nfrom sklearn.manifold import TSNE\nfrom sklearn.cluster import KMeans\nfrom mpl_toolkits.mplot3d import Axes3D\nimport colorcet as cc\nfrom sklearn.cluster import AgglomerativeClustering\nfrom PIL import Image\nimport io\nimport gc\nimport matplotlib.pyplot as plt\nimport networkx as nx",
   "outputs": [],
   "execution_count": null
  },
  {
   "cell_type": "code",
   "metadata": {
    "tags": [],
    "deepnote_to_be_reexecuted": false,
    "source_hash": "41e2db06",
    "execution_start": 1645781084114,
    "execution_millis": 5,
    "deepnote_cell_height": 99,
    "cell_id": "00004-7df94c00-4267-4410-8025-f07b1b0f4353",
    "deepnote_cell_type": "code"
   },
   "source": "plt.style.use(\"ggplot\")",
   "execution_count": null,
   "outputs": []
  },
  {
   "cell_type": "code",
   "metadata": {
    "deepnote_to_be_reexecuted": false,
    "source_hash": "db36b70b",
    "execution_start": 1645781084127,
    "execution_millis": 461,
    "deepnote_cell_height": 203.39999389648438,
    "cell_id": "00005-19b67981-12bf-4651-b2f1-39bec962117a",
    "deepnote_cell_type": "code"
   },
   "source": "pd.set_option(\"display.max_rows\", 0)\npd.set_option(\"display.max_columns\", 0)\npd.set_option(\"display.expand_frame_repr\", True)\npd.set_option(\"display.max_colwidth\", -1)",
   "execution_count": null,
   "outputs": [
    {
     "name": "stderr",
     "text": "/shared-libs/python3.7/py-core/lib/python3.7/site-packages/ipykernel_launcher.py:4: FutureWarning: Passing a negative integer is deprecated in version 1.0 and will not be supported in future version. Instead, use None to not limit the column width.\n  after removing the cwd from sys.path.\n",
     "output_type": "stream"
    }
   ]
  },
  {
   "cell_type": "markdown",
   "source": "## Statistics",
   "metadata": {
    "deepnote_cell_height": 52.399993896484375,
    "cell_id": "00006-3dd32e2e-3a21-4af0-809d-3b2b4042aeb9",
    "deepnote_cell_type": "markdown"
   }
  },
  {
   "cell_type": "code",
   "metadata": {
    "collapsed": false,
    "pycharm": {
     "name": "#%%\n"
    },
    "cell_id": "00007-a5bd5efc-5acc-4c7b-add7-21bcdd4a0116",
    "deepnote_to_be_reexecuted": false,
    "source_hash": "33000237",
    "execution_start": 1645781084141,
    "execution_millis": 1239,
    "deepnote_cell_type": "code"
   },
   "source": "nom = \"../data/merged/status500_Joined.parsed.tsv\"\ndf_nona = pd.read_csv(nom, sep=\"\\t\")\n",
   "execution_count": null,
   "outputs": []
  },
  {
   "cell_type": "markdown",
   "source": "Adding basic attributes of queries",
   "metadata": {
    "tags": [],
    "deepnote_to_be_reexecuted": false,
    "source_hash": "eaeaa141",
    "execution_start": 1645781032321,
    "execution_millis": 13,
    "deepnote_cell_height": 423,
    "pycharm": {
     "name": "#%% md\n"
    },
    "cell_id": "00008-83f43abc-d7e4-4949-8888-dc88ec78471c",
    "deepnote_cell_type": "markdown"
   }
  },
  {
   "cell_type": "code",
   "metadata": {
    "tags": [],
    "deepnote_to_be_reexecuted": false,
    "source_hash": "3f662e75",
    "execution_start": 1645781085396,
    "execution_millis": 473,
    "deepnote_cell_height": 547,
    "pycharm": {
     "name": "#%%\n"
    },
    "cell_id": "00009-5c07cb99-89a2-42f9-88d1-4bfd9dfe0de7",
    "deepnote_cell_type": "code"
   },
   "source": "df_nona[\"has_variable\"] = df_nona[\"var_cpt\"].apply(lambda x: False if x == 0 else True)\ndf_nona[\"has_filter\"] = df_nona[\"filter\"].apply(lambda x: False if x == 0 else True)\ndf_nona[\"has_orderby\"] = df_nona[\"orderby\"].apply(lambda x: False if x == 0 else True)\ndf_nona[\"has_limit\"] = df_nona[\"limit\"].apply(lambda x: False if x == 0 else True)\ndf_nona[\"has_select\"] = df_nona[\"select\"].apply(lambda x: False if x == 0 else True)\ndf_nona[\"has_distinct\"] = df_nona[\"distinct\"].apply(lambda x: False if x == 0 else True)\ndf_nona[\"has_modify\"] = df_nona[\"modify\"].apply(lambda x: False if x == 0 else True)\ndf_nona[\"has_tomultiset\"] = df_nona[\"tomultiset\"].apply(\n    lambda x: False if x == 0 else True\n)\ndf_nona[\"has_join\"] = df_nona[\"join\"].apply(lambda x: False if x == 0 else True)\ndf_nona[\"has_bgp\"] = df_nona[\"bgp\"].apply(lambda x: False if x == 0 else True)\ndf_nona[\"has_project\"] = df_nona[\"project\"].apply(lambda x: False if x == 0 else True)\ndf_nona[\"has_union\"] = df_nona[\"union\"].apply(lambda x: False if x == 0 else True)\ndf_nona[\"has_values\"] = df_nona[\"values\"].apply(lambda x: False if x == 0 else True)\ndf_nona[\"has_slice\"] = df_nona[\"slice\"].apply(lambda x: False if x == 0 else True)\ndf_nona[\"has_offset\"] = df_nona[\"offset\"].apply(lambda x: False if x == 0 else True)\n\ndf_nona[\"complexPathWith\"] = df_nona.loc[:,['pathWithStar','pathWithQuestionMark','pathWithPlus']].sum(axis=1)\ndf_nona[\"simplePathWith\"] = df_nona.loc[:,['pathWithInv','pathWithSequence','pathWithAlternative']].sum(axis=1)",
   "execution_count": null,
   "outputs": []
  },
  {
   "cell_type": "markdown",
   "source": "df_nona",
   "metadata": {
    "tags": [],
    "is_collapsed": false,
    "deepnote_cell_height": 52.399993896484375,
    "pycharm": {
     "name": "#%%\n"
    },
    "cell_id": "00010-fedf185a-570f-4a0d-a583-66be906c1c76",
    "deepnote_cell_type": "text-cell-p"
   }
  },
  {
   "cell_type": "markdown",
   "source": "Split in robotic and organic",
   "metadata": {
    "pycharm": {
     "name": "#%% md\n"
    },
    "deepnote_to_be_reexecuted": false,
    "source_hash": "893a7742",
    "execution_start": 1645781055807,
    "execution_millis": 259,
    "deepnote_table_state": {
     "pageSize": 10,
     "pageIndex": 0,
     "filters": [],
     "sortBy": [
      {
       "id": "counter_groupby",
       "type": "desc"
      }
     ]
    },
    "deepnote_table_loading": false,
    "deepnote_output_heights": [
     611
    ],
    "deepnote_cell_height": 631,
    "cell_id": "00011-bc3559f4-b48c-48ba-80dd-e7cacce9866d",
    "deepnote_cell_type": "markdown"
   }
  },
  {
   "cell_type": "code",
   "metadata": {
    "pycharm": {
     "name": "#%%\n"
    },
    "deepnote_to_be_reexecuted": false,
    "source_hash": "a0137716",
    "execution_start": 1645781085882,
    "execution_millis": 809,
    "deepnote_table_state": {
     "pageSize": 10,
     "pageIndex": 0,
     "filters": [],
     "sortBy": [
      {
       "id": "anonymizedQuery",
       "type": "desc"
      }
     ]
    },
    "deepnote_table_loading": false,
    "deepnote_cell_height": 663,
    "cell_id": "00012-1466db35-2403-44bc-9a89-78a104a1aad2",
    "deepnote_cell_type": "code"
   },
   "source": "df_nona_robotic = df_nona.loc[(df_nona[\"sourceCategory\"] == \"robotic\")]\ndf_nona_robotic\n",
   "execution_count": null,
   "outputs": [
    {
     "output_type": "execute_result",
     "execution_count": 6,
     "data": {
      "application/vnd.deepnote.dataframe.v3+json": {
       "column_count": 54,
       "row_count": 81356,
       "columns": [
        {
         "name": "anonymizedQuery",
         "dtype": "object",
         "stats": {
          "unique_count": 9638,
          "nan_count": 0,
          "categories": [
           {
            "name": "SELECT+%3Fvar1++%3Fvar2++%3Fvar3+%0AWHERE+%7B%0A++%3Fvar1+%28+%3Chttp%3A%2F%2Fwww.wikidata.org%2Fprop%2Fdirect%2FP31%3E+%2F+%3Chttp%3A%2F%2Fwww.wikidata.org%2Fprop%2Fdirect%2FP279%3E+*%29+%3Chttp%3A%2F%2Fwww.wikidata.org%2Fentity%2FQ1190554%3E+.%0A++%3Fvar1++%3Chttp%3A%2F%2Fwww.wikidata.org%2Fprop%2Fdirect%2FP585%3E++%3Fvar2+.%0A++%3Fvar3++%3Chttp%3A%2F%2Fschema.org%2Fabout%3E++%3Fvar1+.%0A++%3Fvar3++%3Chttp%3A%2F%2Fschema.org%2FisPartOf%3E++%3Chttps%3A%2F%2Fen.wikipedia.org%2F%3E+.%0A+FILTER+%28++%28+%28++DATATYPE+%28++%3Fvar2++%29++%3D++%3Chttp%3A%2F%2Fwww.w3.org%2F2001%2FXMLSchema%23dateTime%3E++%29+%26%26+%28++MONTH+%28++%3Fvar2++%29++%3D++MONTH+%28++NOW+%28++%29++%29++%29+%26%26+%28++DAY+%28++%3Fvar2++%29++%3D++DAY+%28++NOW+%28++%29++%29++%29+%29+%0A%29+.%0A%7D%0AORDER+BY++DESC%28+%3Fvar2+%29%0ALIMIT+5%0A",
            "count": 12053
           },
           {
            "name": "SELECT%28++%3Fvar1++AS++%3Fvar2++%29%0AWHERE+%7B%0A++%3Chttp%3A%2F%2Fwww.wikidata.org%2Fentity%2FQ19253%3E+%28+%3Chttp%3A%2F%2Fwww.wikidata.org%2Fprop%2Fdirect%2FP131%3E+%2F+%3Chttp%3A%2F%2Fwww.wikidata.org%2Fprop%2Fdirect%2FP131%3E+*%29+%3Fvar3+.%0A++%3Fvar3+%28+%3Chttp%3A%2F%2Fwww.wikidata.org%2Fprop%2Fdirect%2FP31%3E+%2F+%3Chttp%3A%2F%2Fwww.wikidata.org%2Fprop%2Fdirect%2FP279%3E+*%29+%3Chttp%3A%2F%2Fwww.wikidata.org%2Fentity%2FQ10864048%3E+.%0A++%3Fvar1+%28+%3Chttp%3A%2F%2Fwww.wikidata.org%2Fprop%2Fdirect%2FP131%3E+%2F+%3Chttp%3A%2F%2Fwww.wikidata.org%2Fprop%2Fdirect%2FP131%3E+*%29+%3Fvar3+.%0A++%3Fvar1+%28+%3Chttp%3A%2F%2Fwww.wikidata.org%2Fprop%2Fdirect%2FP31%3E+%2F+%3Chttp%3A%2F%2Fwww.wikidata.org%2Fprop%2Fdirect%2FP279%3E+*%29+%3Chttp%3A%2F%2Fwww.wikidata.org%2Fentity%2FQ13221722%3E+.%0A+SERVICE++%3Chttp%3A%2F%2Fwikiba.se%2Fontology%23label%3E+++%7B%0A++++%3Chttp%3A%2F%2Fwww.bigdata.com%2Frdf%23serviceParam%3E++%3Chttp%3A%2F%2Fwikiba.se%2Fontology%23language%3E++%22fi%22.%0A++%7D%0A+FILTER+%28++%28++NOT+EXISTS++%7B%0A+++%3Fvar1+%28+%3Chttp%3A%2F%2Fwww.wikidata.org%2Fprop%2Fdirect%2FP31%3E+%2F+%3Chttp%3A%2F%2Fwww.wikidata.org%2Fprop%2Fdirect%2FP279%3E+*%29+%3Chttp%3A%2F%2Fwww.wikidata.org%2Fentity%2FQ19953632%3E+.%0A+%7D%0A+%29+%0A%29+.%0A%7D%0AGROUP+BY++%3Fvar1+%0A",
            "count": 4635
           },
           {
            "name": "9636 others",
            "count": 64668
           }
          ]
         }
        },
        {
         "name": "timestamp",
         "dtype": "object"
        },
        {
         "name": "sourceCategory",
         "dtype": "object"
        },
        {
         "name": "user_agent",
         "dtype": "object"
        },
        {
         "name": "var_cpt",
         "dtype": "int64"
        },
        {
         "name": "filter",
         "dtype": "int64"
        },
        {
         "name": "orderby",
         "dtype": "int64"
        },
        {
         "name": "limit",
         "dtype": "int64"
        },
        {
         "name": "select",
         "dtype": "int64"
        },
        {
         "name": "distinct",
         "dtype": "int64"
        },
        {
         "name": "join",
         "dtype": "int64"
        },
        {
         "name": "project",
         "dtype": "int64"
        },
        {
         "name": "tomultiset",
         "dtype": "int64"
        },
        {
         "name": "union",
         "dtype": "int64"
        },
        {
         "name": "modify",
         "dtype": "int64"
        },
        {
         "name": "bgp",
         "dtype": "int64"
        },
        {
         "name": "values",
         "dtype": "int64"
        },
        {
         "name": "groupBy",
         "dtype": "int64"
        },
        {
         "name": "slice",
         "dtype": "int64"
        },
        {
         "name": "triples",
         "dtype": "int64"
        },
        {
         "name": "offset",
         "dtype": "int64"
        },
        {
         "name": "extend",
         "dtype": "int64"
        },
        {
         "name": "filter_not_exists",
         "dtype": "int64"
        },
        {
         "name": "leftJoin",
         "dtype": "int64"
        },
        {
         "name": "minus",
         "dtype": "int64"
        },
        {
         "name": "notexist",
         "dtype": "int64"
        },
        {
         "name": "sample",
         "dtype": "int64"
        },
        {
         "name": "count",
         "dtype": "int64"
        },
        {
         "name": "having",
         "dtype": "int64"
        },
        {
         "name": "pathWithStar",
         "dtype": "int64"
        },
        {
         "name": "pathWithPlus",
         "dtype": "int64"
        },
        {
         "name": "pathWithQuestionMark",
         "dtype": "int64"
        },
        {
         "name": "pathWithInv",
         "dtype": "int64"
        },
        {
         "name": "pathWithSequence",
         "dtype": "int64"
        },
        {
         "name": "pathWithAlternative",
         "dtype": "int64"
        },
        {
         "name": "complexPathWith",
         "dtype": "int64"
        },
        {
         "name": "simplePathWith",
         "dtype": "int64"
        },
        {
         "name": "file_path",
         "dtype": "object"
        },
        {
         "name": "interval",
         "dtype": "int64"
        },
        {
         "name": "has_variable",
         "dtype": "bool"
        },
        {
         "name": "has_filter",
         "dtype": "bool"
        },
        {
         "name": "has_orderby",
         "dtype": "bool"
        },
        {
         "name": "has_limit",
         "dtype": "bool"
        },
        {
         "name": "has_select",
         "dtype": "bool"
        },
        {
         "name": "has_distinct",
         "dtype": "bool"
        },
        {
         "name": "has_modify",
         "dtype": "bool"
        },
        {
         "name": "has_tomultiset",
         "dtype": "bool"
        },
        {
         "name": "has_join",
         "dtype": "bool"
        },
        {
         "name": "has_bgp",
         "dtype": "bool"
        },
        {
         "name": "has_project",
         "dtype": "bool"
        },
        {
         "name": "has_union",
         "dtype": "bool"
        },
        {
         "name": "has_values",
         "dtype": "bool"
        },
        {
         "name": "has_slice",
         "dtype": "bool"
        },
        {
         "name": "has_offset",
         "dtype": "bool"
        },
        {
         "name": "_deepnote_index_column",
         "dtype": "int64"
        }
       ],
       "rows": [
        {
         "anonymizedQuery": "SELECT+DISTINCT+*%0AWHERE+%7B%0A++%3Fvar1++%3Fvar2++%3Chttp%3A%2F%2Fdati.san.beniculturali.it%2FSAN…",
         "timestamp": "2017-08-25 10:56:52",
         "sourceCategory": "robotic",
         "user_agent": "UNKNOWN",
         "var_cpt": 2,
         "filter": 0,
         "orderby": 0,
         "limit": 0,
         "select": 1,
         "distinct": 1,
         "join": 0,
         "project": 1,
         "tomultiset": 0,
         "union": 0,
         "modify": 0,
         "bgp": 1,
         "values": 0,
         "groupBy": 0,
         "slice": 0,
         "triples": 1,
         "offset": 0,
         "extend": 0,
         "filter_not_exists": 0,
         "leftJoin": 0,
         "minus": 0,
         "notexist": 0,
         "sample": 0,
         "count": 0,
         "having": 0,
         "pathWithStar": 0,
         "pathWithPlus": 0,
         "pathWithQuestionMark": 0,
         "pathWithInv": 0,
         "pathWithSequence": 0,
         "pathWithAlternative": 0,
         "complexPathWith": 0,
         "simplePathWith": 0,
         "file_path": "data/parsed/I3_status500_Joined.parsed.tsv",
         "interval": 3,
         "has_variable": true,
         "has_filter": false,
         "has_orderby": false,
         "has_limit": false,
         "has_select": true,
         "has_distinct": true,
         "has_modify": false,
         "has_tomultiset": false,
         "has_join": false,
         "has_bgp": true,
         "has_project": true,
         "has_union": false,
         "has_values": false,
         "has_slice": false,
         "has_offset": false,
         "_deepnote_index_column": 33333
        },
        {
         "anonymizedQuery": "SELECT+DISTINCT+%3Fvar1Label++%3Fvar2Label++%3Fvar3Label++%3Fvar4Label++%3Fvar5Label++%3Fvar6++%3Fv…",
         "timestamp": "2017-07-08 22:45:39",
         "sourceCategory": "robotic",
         "user_agent": "UNKNOWN",
         "var_cpt": 42,
         "filter": 0,
         "orderby": 0,
         "limit": 1,
         "select": 1,
         "distinct": 1,
         "join": 3,
         "project": 1,
         "tomultiset": 0,
         "union": 0,
         "modify": 0,
         "bgp": 21,
         "values": 0,
         "groupBy": 0,
         "slice": 1,
         "triples": 23,
         "offset": 0,
         "extend": 0,
         "filter_not_exists": 0,
         "leftJoin": 20,
         "minus": 0,
         "notexist": 0,
         "sample": 0,
         "count": 0,
         "having": 0,
         "pathWithStar": 0,
         "pathWithPlus": 0,
         "pathWithQuestionMark": 0,
         "pathWithInv": 0,
         "pathWithSequence": 0,
         "pathWithAlternative": 0,
         "complexPathWith": 0,
         "simplePathWith": 0,
         "file_path": "data/parsed/I1_status500_Joined.parsed.tsv",
         "interval": 1,
         "has_variable": true,
         "has_filter": false,
         "has_orderby": false,
         "has_limit": true,
         "has_select": true,
         "has_distinct": true,
         "has_modify": false,
         "has_tomultiset": false,
         "has_join": true,
         "has_bgp": true,
         "has_project": true,
         "has_union": false,
         "has_values": false,
         "has_slice": true,
         "has_offset": false,
         "_deepnote_index_column": 10506
        },
        {
         "anonymizedQuery": "SELECT+DISTINCT+%3Fvar1Label++%3Fvar2Label++%3Fvar3Label++%3Fvar4Label++%3Fvar5Label++%3Fvar6++%3Fv…",
         "timestamp": "2017-07-09 00:42:03",
         "sourceCategory": "robotic",
         "user_agent": "UNKNOWN",
         "var_cpt": 42,
         "filter": 0,
         "orderby": 0,
         "limit": 1,
         "select": 1,
         "distinct": 1,
         "join": 3,
         "project": 1,
         "tomultiset": 0,
         "union": 0,
         "modify": 0,
         "bgp": 21,
         "values": 0,
         "groupBy": 0,
         "slice": 1,
         "triples": 23,
         "offset": 0,
         "extend": 0,
         "filter_not_exists": 0,
         "leftJoin": 20,
         "minus": 0,
         "notexist": 0,
         "sample": 0,
         "count": 0,
         "having": 0,
         "pathWithStar": 0,
         "pathWithPlus": 0,
         "pathWithQuestionMark": 0,
         "pathWithInv": 0,
         "pathWithSequence": 0,
         "pathWithAlternative": 0,
         "complexPathWith": 0,
         "simplePathWith": 0,
         "file_path": "data/parsed/I1_status500_Joined.parsed.tsv",
         "interval": 1,
         "has_variable": true,
         "has_filter": false,
         "has_orderby": false,
         "has_limit": true,
         "has_select": true,
         "has_distinct": true,
         "has_modify": false,
         "has_tomultiset": false,
         "has_join": true,
         "has_bgp": true,
         "has_project": true,
         "has_union": false,
         "has_values": false,
         "has_slice": true,
         "has_offset": false,
         "_deepnote_index_column": 10535
        },
        {
         "anonymizedQuery": "SELECT+DISTINCT+%3Fvar1Label++%3Fvar2Label++%3Fvar3Label++%3Fvar4Label++%3Fvar5Label++%3Fvar6++%3Fv…",
         "timestamp": "2017-06-28 14:10:02",
         "sourceCategory": "robotic",
         "user_agent": "UNKNOWN",
         "var_cpt": 42,
         "filter": 0,
         "orderby": 0,
         "limit": 1,
         "select": 1,
         "distinct": 1,
         "join": 3,
         "project": 1,
         "tomultiset": 0,
         "union": 0,
         "modify": 0,
         "bgp": 21,
         "values": 0,
         "groupBy": 0,
         "slice": 1,
         "triples": 23,
         "offset": 0,
         "extend": 0,
         "filter_not_exists": 0,
         "leftJoin": 20,
         "minus": 0,
         "notexist": 0,
         "sample": 0,
         "count": 0,
         "having": 0,
         "pathWithStar": 0,
         "pathWithPlus": 0,
         "pathWithQuestionMark": 0,
         "pathWithInv": 0,
         "pathWithSequence": 0,
         "pathWithAlternative": 0,
         "complexPathWith": 0,
         "simplePathWith": 0,
         "file_path": "data/parsed/I1_status500_Joined.parsed.tsv",
         "interval": 1,
         "has_variable": true,
         "has_filter": false,
         "has_orderby": false,
         "has_limit": true,
         "has_select": true,
         "has_distinct": true,
         "has_modify": false,
         "has_tomultiset": false,
         "has_join": true,
         "has_bgp": true,
         "has_project": true,
         "has_union": false,
         "has_values": false,
         "has_slice": true,
         "has_offset": false,
         "_deepnote_index_column": 6506
        },
        {
         "anonymizedQuery": "SELECT+DISTINCT+%3Fvar1Label++%3Fvar2Label++%3Fvar3Label++%3Fvar4Label++%3Fvar5Label++%3Fvar6++%3Fv…",
         "timestamp": "2017-07-08 06:11:01",
         "sourceCategory": "robotic",
         "user_agent": "UNKNOWN",
         "var_cpt": 42,
         "filter": 0,
         "orderby": 0,
         "limit": 1,
         "select": 1,
         "distinct": 1,
         "join": 3,
         "project": 1,
         "tomultiset": 0,
         "union": 0,
         "modify": 0,
         "bgp": 21,
         "values": 0,
         "groupBy": 0,
         "slice": 1,
         "triples": 23,
         "offset": 0,
         "extend": 0,
         "filter_not_exists": 0,
         "leftJoin": 20,
         "minus": 0,
         "notexist": 0,
         "sample": 0,
         "count": 0,
         "having": 0,
         "pathWithStar": 0,
         "pathWithPlus": 0,
         "pathWithQuestionMark": 0,
         "pathWithInv": 0,
         "pathWithSequence": 0,
         "pathWithAlternative": 0,
         "complexPathWith": 0,
         "simplePathWith": 0,
         "file_path": "data/parsed/I1_status500_Joined.parsed.tsv",
         "interval": 1,
         "has_variable": true,
         "has_filter": false,
         "has_orderby": false,
         "has_limit": true,
         "has_select": true,
         "has_distinct": true,
         "has_modify": false,
         "has_tomultiset": false,
         "has_join": true,
         "has_bgp": true,
         "has_project": true,
         "has_union": false,
         "has_values": false,
         "has_slice": true,
         "has_offset": false,
         "_deepnote_index_column": 10289
        },
        {
         "anonymizedQuery": "SELECT+DISTINCT+%3Fvar1Label++%3Fvar2Label++%3Fvar3Label++%3Fvar4Label++%3Fvar5Label++%3Fvar6++%3Fv…",
         "timestamp": "2017-06-28 12:45:30",
         "sourceCategory": "robotic",
         "user_agent": "UNKNOWN",
         "var_cpt": 42,
         "filter": 0,
         "orderby": 0,
         "limit": 1,
         "select": 1,
         "distinct": 1,
         "join": 3,
         "project": 1,
         "tomultiset": 0,
         "union": 0,
         "modify": 0,
         "bgp": 21,
         "values": 0,
         "groupBy": 0,
         "slice": 1,
         "triples": 23,
         "offset": 0,
         "extend": 0,
         "filter_not_exists": 0,
         "leftJoin": 20,
         "minus": 0,
         "notexist": 0,
         "sample": 0,
         "count": 0,
         "having": 0,
         "pathWithStar": 0,
         "pathWithPlus": 0,
         "pathWithQuestionMark": 0,
         "pathWithInv": 0,
         "pathWithSequence": 0,
         "pathWithAlternative": 0,
         "complexPathWith": 0,
         "simplePathWith": 0,
         "file_path": "data/parsed/I1_status500_Joined.parsed.tsv",
         "interval": 1,
         "has_variable": true,
         "has_filter": false,
         "has_orderby": false,
         "has_limit": true,
         "has_select": true,
         "has_distinct": true,
         "has_modify": false,
         "has_tomultiset": false,
         "has_join": true,
         "has_bgp": true,
         "has_project": true,
         "has_union": false,
         "has_values": false,
         "has_slice": true,
         "has_offset": false,
         "_deepnote_index_column": 6464
        },
        {
         "anonymizedQuery": "SELECT+DISTINCT+%3Fvar1Label++%3Fvar2Label++%3Fvar3Label++%3Fvar4Label++%3Fvar5Label++%3Fvar6++%3Fv…",
         "timestamp": "2017-07-08 06:35:40",
         "sourceCategory": "robotic",
         "user_agent": "UNKNOWN",
         "var_cpt": 42,
         "filter": 0,
         "orderby": 0,
         "limit": 1,
         "select": 1,
         "distinct": 1,
         "join": 3,
         "project": 1,
         "tomultiset": 0,
         "union": 0,
         "modify": 0,
         "bgp": 21,
         "values": 0,
         "groupBy": 0,
         "slice": 1,
         "triples": 23,
         "offset": 0,
         "extend": 0,
         "filter_not_exists": 0,
         "leftJoin": 20,
         "minus": 0,
         "notexist": 0,
         "sample": 0,
         "count": 0,
         "having": 0,
         "pathWithStar": 0,
         "pathWithPlus": 0,
         "pathWithQuestionMark": 0,
         "pathWithInv": 0,
         "pathWithSequence": 0,
         "pathWithAlternative": 0,
         "complexPathWith": 0,
         "simplePathWith": 0,
         "file_path": "data/parsed/I1_status500_Joined.parsed.tsv",
         "interval": 1,
         "has_variable": true,
         "has_filter": false,
         "has_orderby": false,
         "has_limit": true,
         "has_select": true,
         "has_distinct": true,
         "has_modify": false,
         "has_tomultiset": false,
         "has_join": true,
         "has_bgp": true,
         "has_project": true,
         "has_union": false,
         "has_values": false,
         "has_slice": true,
         "has_offset": false,
         "_deepnote_index_column": 10303
        },
        {
         "anonymizedQuery": "SELECT+DISTINCT+%3Fvar1Label++%3Fvar2Label++%3Fvar3Label++%3Fvar4Label++%3Fvar5Label++%3Fvar6++%3Fv…",
         "timestamp": "2017-07-08 06:14:15",
         "sourceCategory": "robotic",
         "user_agent": "UNKNOWN",
         "var_cpt": 42,
         "filter": 0,
         "orderby": 0,
         "limit": 1,
         "select": 1,
         "distinct": 1,
         "join": 3,
         "project": 1,
         "tomultiset": 0,
         "union": 0,
         "modify": 0,
         "bgp": 21,
         "values": 0,
         "groupBy": 0,
         "slice": 1,
         "triples": 23,
         "offset": 0,
         "extend": 0,
         "filter_not_exists": 0,
         "leftJoin": 20,
         "minus": 0,
         "notexist": 0,
         "sample": 0,
         "count": 0,
         "having": 0,
         "pathWithStar": 0,
         "pathWithPlus": 0,
         "pathWithQuestionMark": 0,
         "pathWithInv": 0,
         "pathWithSequence": 0,
         "pathWithAlternative": 0,
         "complexPathWith": 0,
         "simplePathWith": 0,
         "file_path": "data/parsed/I1_status500_Joined.parsed.tsv",
         "interval": 1,
         "has_variable": true,
         "has_filter": false,
         "has_orderby": false,
         "has_limit": true,
         "has_select": true,
         "has_distinct": true,
         "has_modify": false,
         "has_tomultiset": false,
         "has_join": true,
         "has_bgp": true,
         "has_project": true,
         "has_union": false,
         "has_values": false,
         "has_slice": true,
         "has_offset": false,
         "_deepnote_index_column": 10292
        },
        {
         "anonymizedQuery": "SELECT+DISTINCT+%3Fvar1Label++%3Fvar2Label++%3Fvar3Label++%3Fvar4Label++%3Fvar5Label++%3Fvar6++%3Fv…",
         "timestamp": "2017-06-28 10:37:34",
         "sourceCategory": "robotic",
         "user_agent": "UNKNOWN",
         "var_cpt": 42,
         "filter": 0,
         "orderby": 0,
         "limit": 1,
         "select": 1,
         "distinct": 1,
         "join": 3,
         "project": 1,
         "tomultiset": 0,
         "union": 0,
         "modify": 0,
         "bgp": 21,
         "values": 0,
         "groupBy": 0,
         "slice": 1,
         "triples": 23,
         "offset": 0,
         "extend": 0,
         "filter_not_exists": 0,
         "leftJoin": 20,
         "minus": 0,
         "notexist": 0,
         "sample": 0,
         "count": 0,
         "having": 0,
         "pathWithStar": 0,
         "pathWithPlus": 0,
         "pathWithQuestionMark": 0,
         "pathWithInv": 0,
         "pathWithSequence": 0,
         "pathWithAlternative": 0,
         "complexPathWith": 0,
         "simplePathWith": 0,
         "file_path": "data/parsed/I1_status500_Joined.parsed.tsv",
         "interval": 1,
         "has_variable": true,
         "has_filter": false,
         "has_orderby": false,
         "has_limit": true,
         "has_select": true,
         "has_distinct": true,
         "has_modify": false,
         "has_tomultiset": false,
         "has_join": true,
         "has_bgp": true,
         "has_project": true,
         "has_union": false,
         "has_values": false,
         "has_slice": true,
         "has_offset": false,
         "_deepnote_index_column": 6405
        },
        {
         "anonymizedQuery": "SELECT+DISTINCT+%3Fvar1Label++%3Fvar2Label++%3Fvar3Label++%3Fvar4Label++%3Fvar5Label++%3Fvar6++%3Fv…",
         "timestamp": "2017-06-28 09:18:15",
         "sourceCategory": "robotic",
         "user_agent": "UNKNOWN",
         "var_cpt": 42,
         "filter": 0,
         "orderby": 0,
         "limit": 1,
         "select": 1,
         "distinct": 1,
         "join": 3,
         "project": 1,
         "tomultiset": 0,
         "union": 0,
         "modify": 0,
         "bgp": 21,
         "values": 0,
         "groupBy": 0,
         "slice": 1,
         "triples": 23,
         "offset": 0,
         "extend": 0,
         "filter_not_exists": 0,
         "leftJoin": 20,
         "minus": 0,
         "notexist": 0,
         "sample": 0,
         "count": 0,
         "having": 0,
         "pathWithStar": 0,
         "pathWithPlus": 0,
         "pathWithQuestionMark": 0,
         "pathWithInv": 0,
         "pathWithSequence": 0,
         "pathWithAlternative": 0,
         "complexPathWith": 0,
         "simplePathWith": 0,
         "file_path": "data/parsed/I1_status500_Joined.parsed.tsv",
         "interval": 1,
         "has_variable": true,
         "has_filter": false,
         "has_orderby": false,
         "has_limit": true,
         "has_select": true,
         "has_distinct": true,
         "has_modify": false,
         "has_tomultiset": false,
         "has_join": true,
         "has_bgp": true,
         "has_project": true,
         "has_union": false,
         "has_values": false,
         "has_slice": true,
         "has_offset": false,
         "_deepnote_index_column": 6377
        }
       ]
      },
      "text/plain": "                                                                                                                                                                                                                                                                                                                                                                                                                                                                                                                                                                                                                                                                                                                                                                                                                                                                                                                                                                                                                                                                                                                                                                                                                                                                                                                                                                                                                                                                                                                                                                                                                                                                                                                                                                                                                                                                                                                    anonymizedQuery  ... has_offset\n0       SELECT+%3Fvar1++%3Fvar1Label++%3Fvar2+%28++CONCAT+%28++%22string1%22%2C+REPLACE+%28++STR+%28++%3Fvar3++%29+%2C+%22string2%22%2C+%22%22+%29+%2C+%22%5D%5D%22+%29++AS++%3Fvar4++%29+%3Fvar2Label++%3Fvar5+%0AWHERE+%7B%0A++%3Chttp%3A%2F%2Fwww.bigdata.com%2FqueryHints%23Query%3E++%3Chttp%3A%2F%2Fwww.bigdata.com%2FqueryHints%23optimizer%3E++%22None%22.%0A++%3Fvar2++%3Chttp%3A%2F%2Fwikiba.se%2Fontology%23propertyType%3E++%3Chttp%3A%2F%2Fwikiba.se%2Fontology%23Monolingualtext%3E+.%0A++%3Fvar2++%3Chttp%3A%2F%2Fwikiba.se%2Fontology%23claim%3E++%3Fvar3+.%0A++%3Fvar1++%3Fvar3++%3Fvar6+.%0A++%3Fvar2++%3Chttp%3A%2F%2Fwikiba.se%2Fontology%23statementProperty%3E++%3Fvar7+.%0A++%3Fvar6++%3Fvar7++%3Fvar5+.%0A+FILTER+%28++%28+%28++LANG+%28++%3Fvar5++%29++%3D++%22und%22+%29+%29+%0A%29+.%0A+FILTER+%28++%28+%28++%3Fvar1++%21%3D++%3Chttp%3A%2F%2Fwww.wikidata.org%2Fentity%2FQ22282914%3E++%29+%29+%0A%29+.%0A+SERVICE++%3Chttp%3A%2F%2Fwikiba.se%2Fontology%23label%3E+++%7B%0A++++%3Chttp%3A%2F%2Fwww.bigdata.com%2Frdf%23serviceParam%3E++%3Chttp%3A%2F%2Fwikiba.se%2Fontology%23language%3E++%22en%22.%0A++%7D%0A%7D%0AORDER+BY++DESC%28+%3Fvar2Label+%29ASC%28+%3Fvar5+%29%0ALIMIT+5000%0A                                                                                                                                                                                                                                                                                                                                                                                                                                                                                                                                                                                                                                                                                                              ...  False    \n6       SELECT+DISTINCT+%3Fvar1++%3Fvar2+%0AWHERE+%7B%0A++BIND+%28++%28++%28++YEAR+%28++%3Fvar3++%29+-+YEAR+%28++%3Fvar4++%29++%29+-+IF+%28+%28++MONTH+%28++%3Fvar3++%29++%3C++MONTH+%28++%3Fvar4++%29++%29+%7C%7C+%28++MONTH+%28++%3Fvar3++%29++%3D++MONTH+%28++%3Fvar4++%29++%29+%26%26+%28++DAY+%28++%3Fvar3++%29++%3C++DAY+%28++%3Fvar4++%29++%29%2C%221%22%5E%5E%3Chttp%3A%2F%2Fwww.w3.org%2F2001%2FXMLSchema%23integer%3E+%2C%220%22%5E%5E%3Chttp%3A%2F%2Fwww.w3.org%2F2001%2FXMLSchema%23integer%3E++%29++%29++AS++%3Fvar2+%29.%0A++%3Fvar1++%3Chttp%3A%2F%2Fwww.wikidata.org%2Fprop%2Fdirect%2FP31%3E++%3Chttp%3A%2F%2Fwww.wikidata.org%2Fentity%2FQ5%3E+%3B%0A+%3Chttp%3A%2F%2Fwww.wikidata.org%2Fprop%2Fdirect%2FP569%3E++%3Fvar4+%3B%0A+%3Chttp%3A%2F%2Fwww.wikidata.org%2Fprop%2Fdirect%2FP570%3E++%3Fvar3+.%0A++%3Fvar5++%3Chttp%3A%2F%2Fschema.org%2Fabout%3E++%3Fvar1+%3B%0A+%3Chttp%3A%2F%2Fschema.org%2FisPartOf%3E++%3Chttps%3A%2F%2Fsv.wikipedia.org%2F%3E+.%0A++%3Fvar1+%28+%3Chttp%3A%2F%2Fwww.wikidata.org%2Fprop%2FP569%3E+%2F+%3Chttp%3A%2F%2Fwww.wikidata.org%2Fprop%2Fstatement%2Fvalue%2FP569%3E+%29+%3Fvar6+.%0A++%3Fvar6++%3Chttp%3A%2F%2Fwikiba.se%2Fontology%23timePrecision%3E++%2211%22%5E%5E%3Chttp%3A%2F%2Fwww.w3.org%2F2001%2FXMLSchema%23integer%3E+.%0A++%3Fvar1+%28+%3Chttp%3A%2F%2Fwww.wikidata.org%2Fprop%2FP570%3E+%2F+%3Chttp%3A%2F%2Fwww.wikidata.org%2Fprop%2Fstatement%2Fvalue%2FP570%3E+%29+%3Fvar7+.%0A++%3Fvar7++%3Chttp%3A%2F%2Fwikiba.se%2Fontology%23timePrecision%3E++%2211%22%5E%5E%3Chttp%3A%2F%2Fwww.w3.org%2F2001%2FXMLSchema%23integer%3E+.%0A+FILTER+%28++%28+%28++%3Fvar2++%3E%3D+%22100%22%5E%5E%3Chttp%3A%2F%2Fwww.w3.org%2F2001%2FXMLSchema%23integer%3E++%29+%29+%0A%29+.%0A+FILTER+%28++%28+%28++YEAR+%28++%3Fvar4++%29++%3E+%221000%22%5E%5E%3Chttp%3A%2F%2Fwww.w3.org%2F2001%2FXMLSchema%23integer%3E++%29+%29+%0A%29+.%0A%7D%0AORDER+BY++DESC%28+%3Fvar2+%29%0A  ...  False    \n7       SELECT+%3Fvar1+%0AWHERE+%7B%0A++%3Fvar1++%3Chttp%3A%2F%2Fwww.wikidata.org%2Fprop%2Fdirect%2FP31%3E++%3Chttp%3A%2F%2Fwww.wikidata.org%2Fentity%2FQ41176%3E+.%0A++%3Fvar1+%28+%3Chttp%3A%2F%2Fwww.wikidata.org%2Fprop%2Fdirect%2FP131%3E+%2F+%3Chttp%3A%2F%2Fwww.wikidata.org%2Fprop%2Fdirect%2FP131%3E+*%29+%3Chttp%3A%2F%2Fwww.wikidata.org%2Fentity%2FQ5756%3E+.%0A+FILTER+%28++%28++NOT+EXISTS++%7B%0A+++%3Fvar2++%3Chttp%3A%2F%2Fschema.org%2Fabout%3E++%3Fvar1+.%0A+++%3Fvar2++%3Chttp%3A%2F%2Fschema.org%2FinLanguage%3E++%22es%22.%0A+%7D%0A+%29+%0A%29+.%0A+SERVICE++%3Chttp%3A%2F%2Fwikiba.se%2Fontology%23label%3E+++%7B%0A++++%3Chttp%3A%2F%2Fwww.bigdata.com%2Frdf%23serviceParam%3E++%3Chttp%3A%2F%2Fwikiba.se%2Fontology%23language%3E++%22es%22.%0A++%7D%0A%7D%0A                                                                                                                                                                                                                                                                                                                                                                                                                                                                                                                                                                                                                                                                                                                                                                                                                                                                                                                                                                                                                                                                                                                                              ...  False    \n8       SELECT+DISTINCT+%3Fvar1+%0AWHERE+%7B%0A++%3Fvar1++%3Chttp%3A%2F%2Fwww.wikidata.org%2Fprop%2Fdirect%2FP141%3E++%3Chttp%3A%2F%2Fwww.wikidata.org%2Fentity%2FQ219127%3E+%3B%0A+%3Chttp%3A%2F%2Fwww.wikidata.org%2Fprop%2Fdirect%2FP105%3E++%3Chttp%3A%2F%2Fwww.wikidata.org%2Fentity%2FQ7432%3E+.%0A+SERVICE++%3Chttp%3A%2F%2Fwww.bigdata.com%2Frdf%2Fgas%23service%3E+++%7B%0A++++%3Chttp%3A%2F%2Fwww.bigdata.com%2Frdf%2Fgas%23program%3E++%3Chttp%3A%2F%2Fwww.bigdata.com%2Frdf%2Fgas%23gasClass%3E++%22com.bigdata.rdf.graph.analytics.BFS%22%3B%0A+%3Chttp%3A%2F%2Fwww.bigdata.com%2Frdf%2Fgas%23in%3E++%3Chttp%3A%2F%2Fwww.wikidata.org%2Fentity%2FQ756%3E+%3B%0A+%3Chttp%3A%2F%2Fwww.bigdata.com%2Frdf%2Fgas%23out%3E++%3Fvar1+%3B%0A+%3Chttp%3A%2F%2Fwww.bigdata.com%2Frdf%2Fgas%23linkType%3E++%3Chttp%3A%2F%2Fwww.wikidata.org%2Fprop%2Fdirect%2FP171%3E+%3B%0A+%3Chttp%3A%2F%2Fwww.bigdata.com%2Frdf%2Fgas%23traversalDirection%3E++%22Reverse%22.%0A++%7D%0A%7D%0A                                                                                                                                                                                                                                                                                                                                                                                                                                                                                                                                                                                                                                                                                                                                                                                                                                                                                                                                                  ...  False    \n9       SELECT+%3Fvar1++%3Fvar2++%3Fvar3+%0AWHERE+%7B%0A++%3Fvar1+%28+%3Chttp%3A%2F%2Fwww.wikidata.org%2Fprop%2Fdirect%2FP31%3E+%2F+%3Chttp%3A%2F%2Fwww.wikidata.org%2Fprop%2Fdirect%2FP279%3E+*%29+%3Chttp%3A%2F%2Fwww.wikidata.org%2Fentity%2FQ1190554%3E+.%0A++%3Fvar1++%3Chttp%3A%2F%2Fwww.wikidata.org%2Fprop%2Fdirect%2FP585%3E++%3Fvar2+.%0A++%3Fvar3++%3Chttp%3A%2F%2Fschema.org%2Fabout%3E++%3Fvar1+.%0A++%3Fvar3++%3Chttp%3A%2F%2Fschema.org%2FisPartOf%3E++%3Chttps%3A%2F%2Fen.wikipedia.org%2F%3E+.%0A+FILTER+%28++%28+%28++DATATYPE+%28++%3Fvar2++%29++%3D++%3Chttp%3A%2F%2Fwww.w3.org%2F2001%2FXMLSchema%23dateTime%3E++%29+%26%26+%28++MONTH+%28++%3Fvar2++%29++%3D++MONTH+%28++NOW+%28++%29++%29++%29+%26%26+%28++DAY+%28++%3Fvar2++%29++%3D++DAY+%28++NOW+%28++%29++%29++%29+%29+%0A%29+.%0A%7D%0AORDER+BY++DESC%28+%3Fvar2+%29%0ALIMIT+5%0A                                                                                                                                                                                                                                                                                                                                                                                                                                                                                                                                                                                                                                                                                                                                                                                                                                                                                                                                                                                                                                                                        ...  False    \n10      SELECT+%3Fvar1++%3Fvar2++%3Fvar3+%0AWHERE+%7B%0A++%3Fvar1+%28+%3Chttp%3A%2F%2Fwww.wikidata.org%2Fprop%2Fdirect%2FP31%3E+%2F+%3Chttp%3A%2F%2Fwww.wikidata.org%2Fprop%2Fdirect%2FP279%3E+*%29+%3Chttp%3A%2F%2Fwww.wikidata.org%2Fentity%2FQ1190554%3E+.%0A++%3Fvar1++%3Chttp%3A%2F%2Fwww.wikidata.org%2Fprop%2Fdirect%2FP585%3E++%3Fvar2+.%0A++%3Fvar3++%3Chttp%3A%2F%2Fschema.org%2Fabout%3E++%3Fvar1+.%0A++%3Fvar3++%3Chttp%3A%2F%2Fschema.org%2FisPartOf%3E++%3Chttps%3A%2F%2Fen.wikipedia.org%2F%3E+.%0A+FILTER+%28++%28+%28++DATATYPE+%28++%3Fvar2++%29++%3D++%3Chttp%3A%2F%2Fwww.w3.org%2F2001%2FXMLSchema%23dateTime%3E++%29+%26%26+%28++MONTH+%28++%3Fvar2++%29++%3D++MONTH+%28++NOW+%28++%29++%29++%29+%26%26+%28++DAY+%28++%3Fvar2++%29++%3D++DAY+%28++NOW+%28++%29++%29++%29+%29+%0A%29+.%0A%7D%0AORDER+BY++DESC%28+%3Fvar2+%29%0ALIMIT+5%0A                                                                                                                                                                                                                                                                                                                                                                                                                                                                                                                                                                                                                                                                                                                                                                                                                                                                                                                                                                                                                                                                        ...  False    \n11      SELECT+%3Fvar1+%0AWHERE+%7B%0A+%7B%0A+++%3Fvar1++%3Chttp%3A%2F%2Fwww.wikidata.org%2Fprop%2Fdirect%2FP31%3E++%3Fvar2+.%0A+++%3Fvar2++%3Chttp%3A%2F%2Fwww.wikidata.org%2Fprop%2Fdirect%2FP279%3E+*+%3Chttp%3A%2F%2Fwww.wikidata.org%2Fentity%2FQ659396%3E+.%0A+%7D%0A++UNION%0A+%7B%0A+++%3Fvar1++%3Chttp%3A%2F%2Fwww.wikidata.org%2Fprop%2Fdirect%2FP136%3E++%3Fvar3+.%0A+++%3Fvar3++%3Chttp%3A%2F%2Fwww.wikidata.org%2Fprop%2Fdirect%2FP279%3E+*+%3Chttp%3A%2F%2Fwww.wikidata.org%2Fentity%2FQ659396%3E+.%0A+%7D%0A++%3Fvar1++%3Chttp%3A%2F%2Fwww.wikidata.org%2Fprop%2Fdirect%2FP131%3E++%3Fvar4+.%0A++%3Fvar4++%3Chttp%3A%2F%2Fwww.wikidata.org%2Fprop%2Fdirect%2FP131%3E+*+%3Chttp%3A%2F%2Fwww.wikidata.org%2Fentity%2FQ142%3E+.%0A+FILTER+%28++%28++NOT+EXISTS++%7B%0A+++%3Fvar1++%3Chttp%3A%2F%2Fwww.wikidata.org%2Fprop%2Fdirect%2FP131%3E++%3Fvar5+.%0A+++%3Fvar5++%3Chttp%3A%2F%2Fwww.wikidata.org%2Fprop%2Fdirect%2FP131%3E+*+%3Chttp%3A%2F%2Fwww.wikidata.org%2Fentity%2FQ90%3E+.%0A+%7D%0A+%29+%0A%29+.%0A%7D%0A                                                                                                                                                                                                                                                                                                                                                                                                                                                                                                                                                                                                                                                                                                                                                                                                                                                                                                  ...  False    \n12      SELECT+%3Fvar1++%3Fvar2++%3Fvar3+%0AWHERE+%7B%0A++%3Fvar1+%28+%3Chttp%3A%2F%2Fwww.wikidata.org%2Fprop%2Fdirect%2FP31%3E+%2F+%3Chttp%3A%2F%2Fwww.wikidata.org%2Fprop%2Fdirect%2FP279%3E+*%29+%3Chttp%3A%2F%2Fwww.wikidata.org%2Fentity%2FQ1190554%3E+.%0A++%3Fvar1++%3Chttp%3A%2F%2Fwww.wikidata.org%2Fprop%2Fdirect%2FP585%3E++%3Fvar2+.%0A++%3Fvar3++%3Chttp%3A%2F%2Fschema.org%2Fabout%3E++%3Fvar1+.%0A++%3Fvar3++%3Chttp%3A%2F%2Fschema.org%2FisPartOf%3E++%3Chttps%3A%2F%2Fen.wikipedia.org%2F%3E+.%0A+FILTER+%28++%28+%28++DATATYPE+%28++%3Fvar2++%29++%3D++%3Chttp%3A%2F%2Fwww.w3.org%2F2001%2FXMLSchema%23dateTime%3E++%29+%26%26+%28++MONTH+%28++%3Fvar2++%29++%3D++MONTH+%28++NOW+%28++%29++%29++%29+%26%26+%28++DAY+%28++%3Fvar2++%29++%3D++DAY+%28++NOW+%28++%29++%29++%29+%29+%0A%29+.%0A%7D%0AORDER+BY++DESC%28+%3Fvar2+%29%0ALIMIT+5%0A                                                                                                                                                                                                                                                                                                                                                                                                                                                                                                                                                                                                                                                                                                                                                                                                                                                                                                                                                                                                                                                                        ...  False    \n13      SELECT+DISTINCT%28+COUNT+%28+%3Fvar1++%29+AS++%3Fvar2++%29%0AWHERE+%7B%0A++%5B%5D++%3Chttp%3A%2F%2Fwww.w3.org%2F1999%2F02%2F22-rdf-syntax-ns%23type%3E++%3Fvar1+.%0A%7D%0A                                                                                                                                                                                                                                                                                                                                                                                                                                                                                                                                                                                                                                                                                                                                                                                                                                                                                                                                                                                                                                                                                                                                                                                                                                                                                                                                                                                                                                                                                                                                                                                                                                                                                                                                                   ...  False    \n...                                                                                                                                                                            ...                                                                                                                                                                                                                                                                                                                                                                                                                                                                                                                                                                                                                                                                                                                                                                                                                                                                                                                                                                                                                                                                                                                                                                                                                                                                                                                                                                                                                                                                                                                                                                                                                                                                                                                                                   ...    ...    \n122822  SELECT+DISTINCT+%3Fvar1+%0AWHERE+%7B%0A++%3Fvar1++%3Chttp%3A%2F%2Fwww.wikidata.org%2Fprop%2Fdirect%2FP31%3E++%3Chttp%3A%2F%2Fwww.wikidata.org%2Fentity%2FQ5%3E+%3B%0A+%3Chttp%3A%2F%2Fwww.wikidata.org%2Fprop%2Fdirect%2FP17%3E++%5B%5D+%3B%0A+%3Chttp%3A%2F%2Fwww.wikidata.org%2Fprop%2Fdirect%2FP569%3E++%3Fvar2+.%0A+FILTER+%28++%28+%28++YEAR+%28++%3Fvar2++%29++%3E+%221850%22%5E%5E%3Chttp%3A%2F%2Fwww.w3.org%2F2001%2FXMLSchema%23integer%3E++%29+%29+%0A%29+.%0A%7D%0A                                                                                                                                                                                                                                                                                                                                                                                                                                                                                                                                                                                                                                                                                                                                                                                                                                                                                                                                                                                                                                                                                                                                                                                                                                                                                                                                                                                                                                               ...  False    \n122823  SELECT%28++%3Fvar1++AS++%3Fvar2++%29%0AWHERE+%7B%0A++%3Chttp%3A%2F%2Fwww.wikidata.org%2Fentity%2FQ211907%3E+%28+%3Chttp%3A%2F%2Fwww.wikidata.org%2Fprop%2Fdirect%2FP131%3E+%2F+%3Chttp%3A%2F%2Fwww.wikidata.org%2Fprop%2Fdirect%2FP131%3E+*%29+%3Fvar3+.%0A++%3Fvar3+%28+%3Chttp%3A%2F%2Fwww.wikidata.org%2Fprop%2Fdirect%2FP31%3E+%2F+%3Chttp%3A%2F%2Fwww.wikidata.org%2Fprop%2Fdirect%2FP279%3E+*%29+%3Chttp%3A%2F%2Fwww.wikidata.org%2Fentity%2FQ10864048%3E+.%0A++%3Fvar1+%28+%3Chttp%3A%2F%2Fwww.wikidata.org%2Fprop%2Fdirect%2FP131%3E+%2F+%3Chttp%3A%2F%2Fwww.wikidata.org%2Fprop%2Fdirect%2FP131%3E+*%29+%3Fvar3+.%0A++%3Fvar1+%28+%3Chttp%3A%2F%2Fwww.wikidata.org%2Fprop%2Fdirect%2FP31%3E+%2F+%3Chttp%3A%2F%2Fwww.wikidata.org%2Fprop%2Fdirect%2FP279%3E+*%29+%3Chttp%3A%2F%2Fwww.wikidata.org%2Fentity%2FQ13220204%3E+.%0A+SERVICE++%3Chttp%3A%2F%2Fwikiba.se%2Fontology%23label%3E+++%7B%0A++++%3Chttp%3A%2F%2Fwww.bigdata.com%2Frdf%23serviceParam%3E++%3Chttp%3A%2F%2Fwikiba.se%2Fontology%23language%3E++%22fi%22.%0A++%7D%0A+FILTER+%28++%28++NOT+EXISTS++%7B%0A+++%3Fvar1+%28+%3Chttp%3A%2F%2Fwww.wikidata.org%2Fprop%2Fdirect%2FP31%3E+%2F+%3Chttp%3A%2F%2Fwww.wikidata.org%2Fprop%2Fdirect%2FP279%3E+*%29+%3Chttp%3A%2F%2Fwww.wikidata.org%2Fentity%2FQ19953632%3E+.%0A+%7D%0A+%29+%0A%29+.%0A%7D%0AGROUP+BY++%3Fvar1+%0A                                                                                                                                                                                                                                                                                                                                                                                                                                                                                                                                                                                ...  False    \n122824  SELECT%28++%3Fvar1++AS++%3Fvar2++%29%0AWHERE+%7B%0A++%3Chttp%3A%2F%2Fwww.wikidata.org%2Fentity%2FQ211907%3E+%28+%3Chttp%3A%2F%2Fwww.wikidata.org%2Fprop%2Fdirect%2FP131%3E+%2F+%3Chttp%3A%2F%2Fwww.wikidata.org%2Fprop%2Fdirect%2FP131%3E+*%29+%3Fvar3+.%0A++%3Fvar3+%28+%3Chttp%3A%2F%2Fwww.wikidata.org%2Fprop%2Fdirect%2FP31%3E+%2F+%3Chttp%3A%2F%2Fwww.wikidata.org%2Fprop%2Fdirect%2FP279%3E+*%29+%3Chttp%3A%2F%2Fwww.wikidata.org%2Fentity%2FQ10864048%3E+.%0A++%3Fvar1+%28+%3Chttp%3A%2F%2Fwww.wikidata.org%2Fprop%2Fdirect%2FP131%3E+%2F+%3Chttp%3A%2F%2Fwww.wikidata.org%2Fprop%2Fdirect%2FP131%3E+*%29+%3Fvar3+.%0A++%3Fvar1+%28+%3Chttp%3A%2F%2Fwww.wikidata.org%2Fprop%2Fdirect%2FP31%3E+%2F+%3Chttp%3A%2F%2Fwww.wikidata.org%2Fprop%2Fdirect%2FP279%3E+*%29+%3Chttp%3A%2F%2Fwww.wikidata.org%2Fentity%2FQ13221722%3E+.%0A+SERVICE++%3Chttp%3A%2F%2Fwikiba.se%2Fontology%23label%3E+++%7B%0A++++%3Chttp%3A%2F%2Fwww.bigdata.com%2Frdf%23serviceParam%3E++%3Chttp%3A%2F%2Fwikiba.se%2Fontology%23language%3E++%22fi%22.%0A++%7D%0A+FILTER+%28++%28++NOT+EXISTS++%7B%0A+++%3Fvar1+%28+%3Chttp%3A%2F%2Fwww.wikidata.org%2Fprop%2Fdirect%2FP31%3E+%2F+%3Chttp%3A%2F%2Fwww.wikidata.org%2Fprop%2Fdirect%2FP279%3E+*%29+%3Chttp%3A%2F%2Fwww.wikidata.org%2Fentity%2FQ19953632%3E+.%0A+%7D%0A+%29+%0A%29+.%0A%7D%0AGROUP+BY++%3Fvar1+%0A                                                                                                                                                                                                                                                                                                                                                                                                                                                                                                                                                                                ...  False    \n122825  SELECT%28++%3Fvar1++AS++%3Fvar2++%29%0AWHERE+%7B%0A++%3Chttp%3A%2F%2Fwww.wikidata.org%2Fentity%2FQ211907%3E+%28+%3Chttp%3A%2F%2Fwww.wikidata.org%2Fprop%2Fdirect%2FP131%3E+%2F+%3Chttp%3A%2F%2Fwww.wikidata.org%2Fprop%2Fdirect%2FP131%3E+*%29+%3Fvar3+.%0A++%3Fvar3+%28+%3Chttp%3A%2F%2Fwww.wikidata.org%2Fprop%2Fdirect%2FP31%3E+%2F+%3Chttp%3A%2F%2Fwww.wikidata.org%2Fprop%2Fdirect%2FP279%3E+*%29+%3Chttp%3A%2F%2Fwww.wikidata.org%2Fentity%2FQ10864048%3E+.%0A++%3Fvar1+%28+%3Chttp%3A%2F%2Fwww.wikidata.org%2Fprop%2Fdirect%2FP131%3E+%2F+%3Chttp%3A%2F%2Fwww.wikidata.org%2Fprop%2Fdirect%2FP131%3E+*%29+%3Fvar3+.%0A++%3Fvar1+%28+%3Chttp%3A%2F%2Fwww.wikidata.org%2Fprop%2Fdirect%2FP31%3E+%2F+%3Chttp%3A%2F%2Fwww.wikidata.org%2Fprop%2Fdirect%2FP279%3E+*%29+%3Chttp%3A%2F%2Fwww.wikidata.org%2Fentity%2FQ13221722%3E+.%0A+SERVICE++%3Chttp%3A%2F%2Fwikiba.se%2Fontology%23label%3E+++%7B%0A++++%3Chttp%3A%2F%2Fwww.bigdata.com%2Frdf%23serviceParam%3E++%3Chttp%3A%2F%2Fwikiba.se%2Fontology%23language%3E++%22fi%22.%0A++%7D%0A+FILTER+%28++%28++NOT+EXISTS++%7B%0A+++%3Fvar1+%28+%3Chttp%3A%2F%2Fwww.wikidata.org%2Fprop%2Fdirect%2FP31%3E+%2F+%3Chttp%3A%2F%2Fwww.wikidata.org%2Fprop%2Fdirect%2FP279%3E+*%29+%3Chttp%3A%2F%2Fwww.wikidata.org%2Fentity%2FQ19953632%3E+.%0A+%7D%0A+%29+%0A%29+.%0A%7D%0AGROUP+BY++%3Fvar1+%0A                                                                                                                                                                                                                                                                                                                                                                                                                                                                                                                                                                                ...  False    \n122827  SELECT+%3Fvar1++%3Fvar2+%28++GROUP_CONCAT+%28++DISTINCT++%3Fvar3++%29++AS++%3Fvar4++%29%0AWHERE+%7B%0A++VALUES+%28++%3Fvar5++%29+%7B%0A+++%28++%3Chttp%3A%2F%2Fwww.wikidata.org%2Fentity%2FQ11424%3E++%29%0A+++%28++%3Chttp%3A%2F%2Fwww.wikidata.org%2Fentity%2FQ24862%3E++%29%0A+++%28++%3Chttp%3A%2F%2Fwww.wikidata.org%2Fentity%2FQ506240%3E++%29%0A+++%28++%3Chttp%3A%2F%2Fwww.wikidata.org%2Fentity%2FQ336144%3E++%29%0A++%7D%0A++BIND+%28++%3Chttp%3A%2F%2Fwww.w3.org%2F2001%2FXMLSchema%23integer%3E++%28+STRAFTER+%28++STR+%28++%3Fvar1++%29+%2C+%22Q%22+%29+%29++AS++%3Fvar2+%29.%0A++%3Fvar1++%3Chttp%3A%2F%2Fwww.wikidata.org%2Fprop%2Fdirect%2FP31%3E++%3Fvar5+.%0A+FILTER+%28++%28+%28++%3Fvar2++%3E+%2228090000%22%5E%5E%3Chttp%3A%2F%2Fwww.w3.org%2F2001%2FXMLSchema%23integer%3E++%29+%29+%0A%29+.%0A+OPTIONAL+%7B%0A++BIND+%28++CONCAT+%28++%22%5B%22%2C+STR+%28++%3Fvar6++%29+%2C+%22+%22%2C+%3Fvar7+%2C+%22%5D%22+%29++AS++%3Fvar3+%29.%0A++%3Fvar6++%3Chttp%3A%2F%2Fschema.org%2Fabout%3E++%3Fvar1+%3B%0A+%3Chttp%3A%2F%2Fschema.org%2FinLanguage%3E++%3Fvar7+.%0A+%7D%0A%7D%0AGROUP+BY++%3Fvar1++%3Fvar2+%0AORDER+BY++DESC%28+%3Fvar2+%29%0ALIMIT+500%0A                                                                                                                                                                                                                                                                                                                                                                                                                                                                                                                                                                                                                                                                                                                                                ...  False    \n122828  SELECT+%3Fvar1+%0AWHERE+%7B%0A++%3Fvar1++%3Chttp%3A%2F%2Fwww.wikidata.org%2Fprop%2Fdirect%2FP345%3E++%3Fvar2+.%0A+FILTER+%28++%28++CONTAINS+%28++LCASE+%28++%3Fvar2++%29+%2C+%22nm1599776%22+%29++%29+%0A%29+.%0A+SERVICE++%3Chttp%3A%2F%2Fwikiba.se%2Fontology%23label%3E+++%7B%0A++++%3Chttp%3A%2F%2Fwww.bigdata.com%2Frdf%23serviceParam%3E++%3Chttp%3A%2F%2Fwikiba.se%2Fontology%23language%3E++%22en%22.%0A++%7D%0A%7D%0ALIMIT+1%0A                                                                                                                                                                                                                                                                                                                                                                                                                                                                                                                                                                                                                                                                                                                                                                                                                                                                                                                                                                                                                                                                                                                                                                                                                                                                                                                                                                                                                                                                                     ...  False    \n122829  SELECT+*%0AWHERE+%7B%0A++%3Fvar1++%3Chttp%3A%2F%2Fwww.wikidata.org%2Fprop%2Fdirect%2FP345%3E++%3Fvar2+.%0A+FILTER+%28++%28+%28++%3Fvar2++%3D++%22tt6483832%22+%29+%29+%0A%29+.%0A++%3Fvar3++%3Chttp%3A%2F%2Fschema.org%2Fabout%3E++%3Fvar1+%3B%0A+%3Chttp%3A%2F%2Fschema.org%2FinLanguage%3E++%22en%22%3B%0A+%3Chttp%3A%2F%2Fschema.org%2FisPartOf%3E++%3Chttps%3A%2F%2Fen.wikipedia.org%2F%3E+.%0A%7D%0A                                                                                                                                                                                                                                                                                                                                                                                                                                                                                                                                                                                                                                                                                                                                                                                                                                                                                                                                                                                                                                                                                                                                                                                                                                                                                                                                                                                                                                                                                                                    ...  False    \n122830  SELECT+DISTINCT+%3Fvar1++%3Fvar2+%0AWHERE+%7B%0A++%3Fvar1++%3Chttp%3A%2F%2Fwww.wikidata.org%2Fprop%2Fdirect%2FP31%3E++%3Chttp%3A%2F%2Fwww.wikidata.org%2Fentity%2FQ13442814%3E+.%0A++%3Fvar1++%3Chttp%3A%2F%2Fwww.wikidata.org%2Fprop%2Fdirect%2FP356%3E++%3Fvar2+.%0A++%3Fvar1++%3Chttp%3A%2F%2Fwww.wikidata.org%2Fprop%2Fdirect%2FP50%3E++%3Fvar3+.%0A++%3Fvar3++%3Chttp%3A%2F%2Fwww.wikidata.org%2Fprop%2Fdirect%2FP31%3E++%3Chttp%3A%2F%2Fwww.wikidata.org%2Fentity%2FQ5%3E+.%0A++MINUS+++%7B%0A++++%3Fvar3++%3Chttp%3A%2F%2Fwww.wikidata.org%2Fprop%2Fdirect%2FP496%3E++%5B%5D+.%0A++%7D%0A++MINUS+++%7B%0A++++%3Fvar3++%3Chttp%3A%2F%2Fwww.wikidata.org%2Fprop%2Fdirect%2FP570%3E++%5B%5D+.%0A++%7D%0A%7D%0AORDER+BY+ASC%28+RAND+%28++%29+%29%0ALIMIT+2000%0A                                                                                                                                                                                                                                                                                                                                                                                                                                                                                                                                                                                                                                                                                                                                                                                                                                                                                                                                                                                                                                                                                                                                                          ...  False    \n122831  SELECT+%3Fvar1++%3Fvar2++%3Fvar3+%28++IF+%28+%28++%3Fvar3++%3E+%2211%22%5E%5E%3Chttp%3A%2F%2Fwww.w3.org%2F2001%2FXMLSchema%23integer%3E++%29%2C+%22string1%22%2C+%22string2%22+%29++AS++%3Fvar4++%29%0AWHERE+%7B%0A++%3Fvar1++%3Chttp%3A%2F%2Fwikiba.se%2Fontology%23sitelinks%3E++%3Fvar2+%3B%0A+%3Chttp%3A%2F%2Fwikiba.se%2Fontology%23statements%3E++%3Fvar3+.%0A+FILTER+%28++%28+%28++%3Fvar2++%3E+%22180%22%5E%5E%3Chttp%3A%2F%2Fwww.w3.org%2F2001%2FXMLSchema%23integer%3E++%29+%29+%0A%29+.%0A%7D%0AORDER+BY++DESC%28+%3Fvar2+%29%0ALIMIT+1000%0A                                                                                                                                                                                                                                                                                                                                                                                                                                                                                                                                                                                                                                                                                                                                                                                                                                                                                                                                                                                                                                                                                                                                                                                                                                                                                                                                                                     ...  False    \n\n[81356 rows x 54 columns]",
      "text/html": "<div>\n<style scoped>\n    .dataframe tbody tr th:only-of-type {\n        vertical-align: middle;\n    }\n\n    .dataframe tbody tr th {\n        vertical-align: top;\n    }\n\n    .dataframe thead th {\n        text-align: right;\n    }\n</style>\n<table border=\"1\" class=\"dataframe\">\n  <thead>\n    <tr style=\"text-align: right;\">\n      <th></th>\n      <th>anonymizedQuery</th>\n      <th>timestamp</th>\n      <th>sourceCategory</th>\n      <th>user_agent</th>\n      <th>var_cpt</th>\n      <th>filter</th>\n      <th>orderby</th>\n      <th>limit</th>\n      <th>select</th>\n      <th>distinct</th>\n      <th>join</th>\n      <th>project</th>\n      <th>tomultiset</th>\n      <th>union</th>\n      <th>modify</th>\n      <th>bgp</th>\n      <th>values</th>\n      <th>groupBy</th>\n      <th>slice</th>\n      <th>triples</th>\n      <th>offset</th>\n      <th>extend</th>\n      <th>filter_not_exists</th>\n      <th>leftJoin</th>\n      <th>minus</th>\n      <th>notexist</th>\n      <th>sample</th>\n      <th>count</th>\n      <th>having</th>\n      <th>pathWithStar</th>\n      <th>pathWithPlus</th>\n      <th>pathWithQuestionMark</th>\n      <th>pathWithInv</th>\n      <th>pathWithSequence</th>\n      <th>pathWithAlternative</th>\n      <th>complexPathWith</th>\n      <th>simplePathWith</th>\n      <th>file_path</th>\n      <th>interval</th>\n      <th>has_variable</th>\n      <th>has_filter</th>\n      <th>has_orderby</th>\n      <th>has_limit</th>\n      <th>has_select</th>\n      <th>has_distinct</th>\n      <th>has_modify</th>\n      <th>has_tomultiset</th>\n      <th>has_join</th>\n      <th>has_bgp</th>\n      <th>has_project</th>\n      <th>has_union</th>\n      <th>has_values</th>\n      <th>has_slice</th>\n      <th>has_offset</th>\n    </tr>\n  </thead>\n  <tbody>\n    <tr>\n      <th>0</th>\n      <td>SELECT+%3Fvar1++%3Fvar1Label++%3Fvar2+%28++CONCAT+%28++%22string1%22%2C+REPLACE+%28++STR+%28++%3Fvar3++%29+%2C+%22string2%22%2C+%22%22+%29+%2C+%22%5D%5D%22+%29++AS++%3Fvar4++%29+%3Fvar2Label++%3Fvar5+%0AWHERE+%7B%0A++%3Chttp%3A%2F%2Fwww.bigdata.com%2FqueryHints%23Query%3E++%3Chttp%3A%2F%2Fwww.bigdata.com%2FqueryHints%23optimizer%3E++%22None%22.%0A++%3Fvar2++%3Chttp%3A%2F%2Fwikiba.se%2Fontology%23propertyType%3E++%3Chttp%3A%2F%2Fwikiba.se%2Fontology%23Monolingualtext%3E+.%0A++%3Fvar2++%3Chttp%3A%2F%2Fwikiba.se%2Fontology%23claim%3E++%3Fvar3+.%0A++%3Fvar1++%3Fvar3++%3Fvar6+.%0A++%3Fvar2++%3Chttp%3A%2F%2Fwikiba.se%2Fontology%23statementProperty%3E++%3Fvar7+.%0A++%3Fvar6++%3Fvar7++%3Fvar5+.%0A+FILTER+%28++%28+%28++LANG+%28++%3Fvar5++%29++%3D++%22und%22+%29+%29+%0A%29+.%0A+FILTER+%28++%28+%28++%3Fvar1++%21%3D++%3Chttp%3A%2F%2Fwww.wikidata.org%2Fentity%2FQ22282914%3E++%29+%29+%0A%29+.%0A+SERVICE++%3Chttp%3A%2F%2Fwikiba.se%2Fontology%23label%3E+++%7B%0A++++%3Chttp%3A%2F%2Fwww.bigdata.com%2Frdf%23serviceParam%3E++%3Chttp%3A%2F%2Fwikiba.se%2Fontology%23language%3E++%22en%22.%0A++%7D%0A%7D%0AORDER+BY++DESC%28+%3Fvar2Label+%29ASC%28+%3Fvar5+%29%0ALIMIT+5000%0A</td>\n      <td>2017-06-12 00:16:34</td>\n      <td>robotic</td>\n      <td>bot2</td>\n      <td>9</td>\n      <td>1</td>\n      <td>1</td>\n      <td>5000</td>\n      <td>1</td>\n      <td>0</td>\n      <td>6</td>\n      <td>1</td>\n      <td>0</td>\n      <td>0</td>\n      <td>0</td>\n      <td>1</td>\n      <td>0</td>\n      <td>0</td>\n      <td>1</td>\n      <td>6</td>\n      <td>0</td>\n      <td>1</td>\n      <td>0</td>\n      <td>0</td>\n      <td>0</td>\n      <td>0</td>\n      <td>0</td>\n      <td>0</td>\n      <td>2</td>\n      <td>0</td>\n      <td>0</td>\n      <td>0</td>\n      <td>0</td>\n      <td>0</td>\n      <td>0</td>\n      <td>0</td>\n      <td>0</td>\n      <td>data/parsed/I1_status500_Joined.parsed.tsv</td>\n      <td>1</td>\n      <td>True</td>\n      <td>True</td>\n      <td>True</td>\n      <td>True</td>\n      <td>True</td>\n      <td>False</td>\n      <td>False</td>\n      <td>False</td>\n      <td>True</td>\n      <td>True</td>\n      <td>True</td>\n      <td>False</td>\n      <td>False</td>\n      <td>True</td>\n      <td>False</td>\n    </tr>\n    <tr>\n      <th>6</th>\n      <td>SELECT+DISTINCT+%3Fvar1++%3Fvar2+%0AWHERE+%7B%0A++BIND+%28++%28++%28++YEAR+%28++%3Fvar3++%29+-+YEAR+%28++%3Fvar4++%29++%29+-+IF+%28+%28++MONTH+%28++%3Fvar3++%29++%3C++MONTH+%28++%3Fvar4++%29++%29+%7C%7C+%28++MONTH+%28++%3Fvar3++%29++%3D++MONTH+%28++%3Fvar4++%29++%29+%26%26+%28++DAY+%28++%3Fvar3++%29++%3C++DAY+%28++%3Fvar4++%29++%29%2C%221%22%5E%5E%3Chttp%3A%2F%2Fwww.w3.org%2F2001%2FXMLSchema%23integer%3E+%2C%220%22%5E%5E%3Chttp%3A%2F%2Fwww.w3.org%2F2001%2FXMLSchema%23integer%3E++%29++%29++AS++%3Fvar2+%29.%0A++%3Fvar1++%3Chttp%3A%2F%2Fwww.wikidata.org%2Fprop%2Fdirect%2FP31%3E++%3Chttp%3A%2F%2Fwww.wikidata.org%2Fentity%2FQ5%3E+%3B%0A+%3Chttp%3A%2F%2Fwww.wikidata.org%2Fprop%2Fdirect%2FP569%3E++%3Fvar4+%3B%0A+%3Chttp%3A%2F%2Fwww.wikidata.org%2Fprop%2Fdirect%2FP570%3E++%3Fvar3+.%0A++%3Fvar5++%3Chttp%3A%2F%2Fschema.org%2Fabout%3E++%3Fvar1+%3B%0A+%3Chttp%3A%2F%2Fschema.org%2FisPartOf%3E++%3Chttps%3A%2F%2Fsv.wikipedia.org%2F%3E+.%0A++%3Fvar1+%28+%3Chttp%3A%2F%2Fwww.wikidata.org%2Fprop%2FP569%3E+%2F+%3Chttp%3A%2F%2Fwww.wikidata.org%2Fprop%2Fstatement%2Fvalue%2FP569%3E+%29+%3Fvar6+.%0A++%3Fvar6++%3Chttp%3A%2F%2Fwikiba.se%2Fontology%23timePrecision%3E++%2211%22%5E%5E%3Chttp%3A%2F%2Fwww.w3.org%2F2001%2FXMLSchema%23integer%3E+.%0A++%3Fvar1+%28+%3Chttp%3A%2F%2Fwww.wikidata.org%2Fprop%2FP570%3E+%2F+%3Chttp%3A%2F%2Fwww.wikidata.org%2Fprop%2Fstatement%2Fvalue%2FP570%3E+%29+%3Fvar7+.%0A++%3Fvar7++%3Chttp%3A%2F%2Fwikiba.se%2Fontology%23timePrecision%3E++%2211%22%5E%5E%3Chttp%3A%2F%2Fwww.w3.org%2F2001%2FXMLSchema%23integer%3E+.%0A+FILTER+%28++%28+%28++%3Fvar2++%3E%3D+%22100%22%5E%5E%3Chttp%3A%2F%2Fwww.w3.org%2F2001%2FXMLSchema%23integer%3E++%29+%29+%0A%29+.%0A+FILTER+%28++%28+%28++YEAR+%28++%3Fvar4++%29++%3E+%221000%22%5E%5E%3Chttp%3A%2F%2Fwww.w3.org%2F2001%2FXMLSchema%23integer%3E++%29+%29+%0A%29+.%0A%7D%0AORDER+BY++DESC%28+%3Fvar2+%29%0A</td>\n      <td>2017-06-12 01:02:37</td>\n      <td>robotic</td>\n      <td>bot2</td>\n      <td>7</td>\n      <td>1</td>\n      <td>1</td>\n      <td>0</td>\n      <td>1</td>\n      <td>1</td>\n      <td>9</td>\n      <td>1</td>\n      <td>0</td>\n      <td>0</td>\n      <td>0</td>\n      <td>2</td>\n      <td>0</td>\n      <td>0</td>\n      <td>0</td>\n      <td>9</td>\n      <td>0</td>\n      <td>1</td>\n      <td>0</td>\n      <td>0</td>\n      <td>0</td>\n      <td>0</td>\n      <td>0</td>\n      <td>0</td>\n      <td>5</td>\n      <td>0</td>\n      <td>0</td>\n      <td>0</td>\n      <td>0</td>\n      <td>2</td>\n      <td>0</td>\n      <td>0</td>\n      <td>2</td>\n      <td>data/parsed/I1_status500_Joined.parsed.tsv</td>\n      <td>1</td>\n      <td>True</td>\n      <td>True</td>\n      <td>True</td>\n      <td>False</td>\n      <td>True</td>\n      <td>True</td>\n      <td>False</td>\n      <td>False</td>\n      <td>True</td>\n      <td>True</td>\n      <td>True</td>\n      <td>False</td>\n      <td>False</td>\n      <td>False</td>\n      <td>False</td>\n    </tr>\n    <tr>\n      <th>7</th>\n      <td>SELECT+%3Fvar1+%0AWHERE+%7B%0A++%3Fvar1++%3Chttp%3A%2F%2Fwww.wikidata.org%2Fprop%2Fdirect%2FP31%3E++%3Chttp%3A%2F%2Fwww.wikidata.org%2Fentity%2FQ41176%3E+.%0A++%3Fvar1+%28+%3Chttp%3A%2F%2Fwww.wikidata.org%2Fprop%2Fdirect%2FP131%3E+%2F+%3Chttp%3A%2F%2Fwww.wikidata.org%2Fprop%2Fdirect%2FP131%3E+*%29+%3Chttp%3A%2F%2Fwww.wikidata.org%2Fentity%2FQ5756%3E+.%0A+FILTER+%28++%28++NOT+EXISTS++%7B%0A+++%3Fvar2++%3Chttp%3A%2F%2Fschema.org%2Fabout%3E++%3Fvar1+.%0A+++%3Fvar2++%3Chttp%3A%2F%2Fschema.org%2FinLanguage%3E++%22es%22.%0A+%7D%0A+%29+%0A%29+.%0A+SERVICE++%3Chttp%3A%2F%2Fwikiba.se%2Fontology%23label%3E+++%7B%0A++++%3Chttp%3A%2F%2Fwww.bigdata.com%2Frdf%23serviceParam%3E++%3Chttp%3A%2F%2Fwikiba.se%2Fontology%23language%3E++%22es%22.%0A++%7D%0A%7D%0A</td>\n      <td>2017-06-12 01:26:31</td>\n      <td>robotic</td>\n      <td>bot2</td>\n      <td>2</td>\n      <td>1</td>\n      <td>0</td>\n      <td>0</td>\n      <td>1</td>\n      <td>0</td>\n      <td>2</td>\n      <td>1</td>\n      <td>0</td>\n      <td>0</td>\n      <td>0</td>\n      <td>1</td>\n      <td>0</td>\n      <td>0</td>\n      <td>0</td>\n      <td>2</td>\n      <td>0</td>\n      <td>0</td>\n      <td>1</td>\n      <td>0</td>\n      <td>0</td>\n      <td>1</td>\n      <td>0</td>\n      <td>0</td>\n      <td>0</td>\n      <td>1</td>\n      <td>0</td>\n      <td>0</td>\n      <td>0</td>\n      <td>1</td>\n      <td>0</td>\n      <td>1</td>\n      <td>1</td>\n      <td>data/parsed/I1_status500_Joined.parsed.tsv</td>\n      <td>1</td>\n      <td>True</td>\n      <td>True</td>\n      <td>False</td>\n      <td>False</td>\n      <td>True</td>\n      <td>False</td>\n      <td>False</td>\n      <td>False</td>\n      <td>True</td>\n      <td>True</td>\n      <td>True</td>\n      <td>False</td>\n      <td>False</td>\n      <td>False</td>\n      <td>False</td>\n    </tr>\n    <tr>\n      <th>8</th>\n      <td>SELECT+DISTINCT+%3Fvar1+%0AWHERE+%7B%0A++%3Fvar1++%3Chttp%3A%2F%2Fwww.wikidata.org%2Fprop%2Fdirect%2FP141%3E++%3Chttp%3A%2F%2Fwww.wikidata.org%2Fentity%2FQ219127%3E+%3B%0A+%3Chttp%3A%2F%2Fwww.wikidata.org%2Fprop%2Fdirect%2FP105%3E++%3Chttp%3A%2F%2Fwww.wikidata.org%2Fentity%2FQ7432%3E+.%0A+SERVICE++%3Chttp%3A%2F%2Fwww.bigdata.com%2Frdf%2Fgas%23service%3E+++%7B%0A++++%3Chttp%3A%2F%2Fwww.bigdata.com%2Frdf%2Fgas%23program%3E++%3Chttp%3A%2F%2Fwww.bigdata.com%2Frdf%2Fgas%23gasClass%3E++%22com.bigdata.rdf.graph.analytics.BFS%22%3B%0A+%3Chttp%3A%2F%2Fwww.bigdata.com%2Frdf%2Fgas%23in%3E++%3Chttp%3A%2F%2Fwww.wikidata.org%2Fentity%2FQ756%3E+%3B%0A+%3Chttp%3A%2F%2Fwww.bigdata.com%2Frdf%2Fgas%23out%3E++%3Fvar1+%3B%0A+%3Chttp%3A%2F%2Fwww.bigdata.com%2Frdf%2Fgas%23linkType%3E++%3Chttp%3A%2F%2Fwww.wikidata.org%2Fprop%2Fdirect%2FP171%3E+%3B%0A+%3Chttp%3A%2F%2Fwww.bigdata.com%2Frdf%2Fgas%23traversalDirection%3E++%22Reverse%22.%0A++%7D%0A%7D%0A</td>\n      <td>2017-06-12 01:37:49</td>\n      <td>robotic</td>\n      <td>bot2</td>\n      <td>1</td>\n      <td>0</td>\n      <td>0</td>\n      <td>0</td>\n      <td>1</td>\n      <td>1</td>\n      <td>2</td>\n      <td>1</td>\n      <td>0</td>\n      <td>0</td>\n      <td>0</td>\n      <td>1</td>\n      <td>0</td>\n      <td>0</td>\n      <td>0</td>\n      <td>2</td>\n      <td>0</td>\n      <td>0</td>\n      <td>0</td>\n      <td>0</td>\n      <td>0</td>\n      <td>0</td>\n      <td>0</td>\n      <td>0</td>\n      <td>0</td>\n      <td>0</td>\n      <td>0</td>\n      <td>0</td>\n      <td>0</td>\n      <td>0</td>\n      <td>0</td>\n      <td>0</td>\n      <td>0</td>\n      <td>data/parsed/I1_status500_Joined.parsed.tsv</td>\n      <td>1</td>\n      <td>True</td>\n      <td>False</td>\n      <td>False</td>\n      <td>False</td>\n      <td>True</td>\n      <td>True</td>\n      <td>False</td>\n      <td>False</td>\n      <td>True</td>\n      <td>True</td>\n      <td>True</td>\n      <td>False</td>\n      <td>False</td>\n      <td>False</td>\n      <td>False</td>\n    </tr>\n    <tr>\n      <th>9</th>\n      <td>SELECT+%3Fvar1++%3Fvar2++%3Fvar3+%0AWHERE+%7B%0A++%3Fvar1+%28+%3Chttp%3A%2F%2Fwww.wikidata.org%2Fprop%2Fdirect%2FP31%3E+%2F+%3Chttp%3A%2F%2Fwww.wikidata.org%2Fprop%2Fdirect%2FP279%3E+*%29+%3Chttp%3A%2F%2Fwww.wikidata.org%2Fentity%2FQ1190554%3E+.%0A++%3Fvar1++%3Chttp%3A%2F%2Fwww.wikidata.org%2Fprop%2Fdirect%2FP585%3E++%3Fvar2+.%0A++%3Fvar3++%3Chttp%3A%2F%2Fschema.org%2Fabout%3E++%3Fvar1+.%0A++%3Fvar3++%3Chttp%3A%2F%2Fschema.org%2FisPartOf%3E++%3Chttps%3A%2F%2Fen.wikipedia.org%2F%3E+.%0A+FILTER+%28++%28+%28++DATATYPE+%28++%3Fvar2++%29++%3D++%3Chttp%3A%2F%2Fwww.w3.org%2F2001%2FXMLSchema%23dateTime%3E++%29+%26%26+%28++MONTH+%28++%3Fvar2++%29++%3D++MONTH+%28++NOW+%28++%29++%29++%29+%26%26+%28++DAY+%28++%3Fvar2++%29++%3D++DAY+%28++NOW+%28++%29++%29++%29+%29+%0A%29+.%0A%7D%0AORDER+BY++DESC%28+%3Fvar2+%29%0ALIMIT+5%0A</td>\n      <td>2017-06-12 02:04:47</td>\n      <td>robotic</td>\n      <td>UNKNOWN</td>\n      <td>3</td>\n      <td>1</td>\n      <td>1</td>\n      <td>5</td>\n      <td>1</td>\n      <td>0</td>\n      <td>3</td>\n      <td>1</td>\n      <td>0</td>\n      <td>0</td>\n      <td>0</td>\n      <td>1</td>\n      <td>0</td>\n      <td>0</td>\n      <td>1</td>\n      <td>4</td>\n      <td>0</td>\n      <td>0</td>\n      <td>0</td>\n      <td>0</td>\n      <td>0</td>\n      <td>0</td>\n      <td>0</td>\n      <td>0</td>\n      <td>3</td>\n      <td>1</td>\n      <td>0</td>\n      <td>0</td>\n      <td>0</td>\n      <td>1</td>\n      <td>0</td>\n      <td>1</td>\n      <td>1</td>\n      <td>data/parsed/I1_status500_Joined.parsed.tsv</td>\n      <td>1</td>\n      <td>True</td>\n      <td>True</td>\n      <td>True</td>\n      <td>True</td>\n      <td>True</td>\n      <td>False</td>\n      <td>False</td>\n      <td>False</td>\n      <td>True</td>\n      <td>True</td>\n      <td>True</td>\n      <td>False</td>\n      <td>False</td>\n      <td>True</td>\n      <td>False</td>\n    </tr>\n    <tr>\n      <th>10</th>\n      <td>SELECT+%3Fvar1++%3Fvar2++%3Fvar3+%0AWHERE+%7B%0A++%3Fvar1+%28+%3Chttp%3A%2F%2Fwww.wikidata.org%2Fprop%2Fdirect%2FP31%3E+%2F+%3Chttp%3A%2F%2Fwww.wikidata.org%2Fprop%2Fdirect%2FP279%3E+*%29+%3Chttp%3A%2F%2Fwww.wikidata.org%2Fentity%2FQ1190554%3E+.%0A++%3Fvar1++%3Chttp%3A%2F%2Fwww.wikidata.org%2Fprop%2Fdirect%2FP585%3E++%3Fvar2+.%0A++%3Fvar3++%3Chttp%3A%2F%2Fschema.org%2Fabout%3E++%3Fvar1+.%0A++%3Fvar3++%3Chttp%3A%2F%2Fschema.org%2FisPartOf%3E++%3Chttps%3A%2F%2Fen.wikipedia.org%2F%3E+.%0A+FILTER+%28++%28+%28++DATATYPE+%28++%3Fvar2++%29++%3D++%3Chttp%3A%2F%2Fwww.w3.org%2F2001%2FXMLSchema%23dateTime%3E++%29+%26%26+%28++MONTH+%28++%3Fvar2++%29++%3D++MONTH+%28++NOW+%28++%29++%29++%29+%26%26+%28++DAY+%28++%3Fvar2++%29++%3D++DAY+%28++NOW+%28++%29++%29++%29+%29+%0A%29+.%0A%7D%0AORDER+BY++DESC%28+%3Fvar2+%29%0ALIMIT+5%0A</td>\n      <td>2017-06-12 02:06:45</td>\n      <td>robotic</td>\n      <td>UNKNOWN</td>\n      <td>3</td>\n      <td>1</td>\n      <td>1</td>\n      <td>5</td>\n      <td>1</td>\n      <td>0</td>\n      <td>3</td>\n      <td>1</td>\n      <td>0</td>\n      <td>0</td>\n      <td>0</td>\n      <td>1</td>\n      <td>0</td>\n      <td>0</td>\n      <td>1</td>\n      <td>4</td>\n      <td>0</td>\n      <td>0</td>\n      <td>0</td>\n      <td>0</td>\n      <td>0</td>\n      <td>0</td>\n      <td>0</td>\n      <td>0</td>\n      <td>3</td>\n      <td>1</td>\n      <td>0</td>\n      <td>0</td>\n      <td>0</td>\n      <td>1</td>\n      <td>0</td>\n      <td>1</td>\n      <td>1</td>\n      <td>data/parsed/I1_status500_Joined.parsed.tsv</td>\n      <td>1</td>\n      <td>True</td>\n      <td>True</td>\n      <td>True</td>\n      <td>True</td>\n      <td>True</td>\n      <td>False</td>\n      <td>False</td>\n      <td>False</td>\n      <td>True</td>\n      <td>True</td>\n      <td>True</td>\n      <td>False</td>\n      <td>False</td>\n      <td>True</td>\n      <td>False</td>\n    </tr>\n    <tr>\n      <th>11</th>\n      <td>SELECT+%3Fvar1+%0AWHERE+%7B%0A+%7B%0A+++%3Fvar1++%3Chttp%3A%2F%2Fwww.wikidata.org%2Fprop%2Fdirect%2FP31%3E++%3Fvar2+.%0A+++%3Fvar2++%3Chttp%3A%2F%2Fwww.wikidata.org%2Fprop%2Fdirect%2FP279%3E+*+%3Chttp%3A%2F%2Fwww.wikidata.org%2Fentity%2FQ659396%3E+.%0A+%7D%0A++UNION%0A+%7B%0A+++%3Fvar1++%3Chttp%3A%2F%2Fwww.wikidata.org%2Fprop%2Fdirect%2FP136%3E++%3Fvar3+.%0A+++%3Fvar3++%3Chttp%3A%2F%2Fwww.wikidata.org%2Fprop%2Fdirect%2FP279%3E+*+%3Chttp%3A%2F%2Fwww.wikidata.org%2Fentity%2FQ659396%3E+.%0A+%7D%0A++%3Fvar1++%3Chttp%3A%2F%2Fwww.wikidata.org%2Fprop%2Fdirect%2FP131%3E++%3Fvar4+.%0A++%3Fvar4++%3Chttp%3A%2F%2Fwww.wikidata.org%2Fprop%2Fdirect%2FP131%3E+*+%3Chttp%3A%2F%2Fwww.wikidata.org%2Fentity%2FQ142%3E+.%0A+FILTER+%28++%28++NOT+EXISTS++%7B%0A+++%3Fvar1++%3Chttp%3A%2F%2Fwww.wikidata.org%2Fprop%2Fdirect%2FP131%3E++%3Fvar5+.%0A+++%3Fvar5++%3Chttp%3A%2F%2Fwww.wikidata.org%2Fprop%2Fdirect%2FP131%3E+*+%3Chttp%3A%2F%2Fwww.wikidata.org%2Fentity%2FQ90%3E+.%0A+%7D%0A+%29+%0A%29+.%0A%7D%0A</td>\n      <td>2017-06-12 02:09:03</td>\n      <td>robotic</td>\n      <td>bot2</td>\n      <td>5</td>\n      <td>1</td>\n      <td>0</td>\n      <td>0</td>\n      <td>1</td>\n      <td>0</td>\n      <td>4</td>\n      <td>1</td>\n      <td>0</td>\n      <td>1</td>\n      <td>0</td>\n      <td>3</td>\n      <td>0</td>\n      <td>0</td>\n      <td>0</td>\n      <td>6</td>\n      <td>0</td>\n      <td>0</td>\n      <td>1</td>\n      <td>0</td>\n      <td>0</td>\n      <td>1</td>\n      <td>0</td>\n      <td>0</td>\n      <td>0</td>\n      <td>4</td>\n      <td>0</td>\n      <td>0</td>\n      <td>0</td>\n      <td>0</td>\n      <td>0</td>\n      <td>4</td>\n      <td>0</td>\n      <td>data/parsed/I1_status500_Joined.parsed.tsv</td>\n      <td>1</td>\n      <td>True</td>\n      <td>True</td>\n      <td>False</td>\n      <td>False</td>\n      <td>True</td>\n      <td>False</td>\n      <td>False</td>\n      <td>False</td>\n      <td>True</td>\n      <td>True</td>\n      <td>True</td>\n      <td>True</td>\n      <td>False</td>\n      <td>False</td>\n      <td>False</td>\n    </tr>\n    <tr>\n      <th>12</th>\n      <td>SELECT+%3Fvar1++%3Fvar2++%3Fvar3+%0AWHERE+%7B%0A++%3Fvar1+%28+%3Chttp%3A%2F%2Fwww.wikidata.org%2Fprop%2Fdirect%2FP31%3E+%2F+%3Chttp%3A%2F%2Fwww.wikidata.org%2Fprop%2Fdirect%2FP279%3E+*%29+%3Chttp%3A%2F%2Fwww.wikidata.org%2Fentity%2FQ1190554%3E+.%0A++%3Fvar1++%3Chttp%3A%2F%2Fwww.wikidata.org%2Fprop%2Fdirect%2FP585%3E++%3Fvar2+.%0A++%3Fvar3++%3Chttp%3A%2F%2Fschema.org%2Fabout%3E++%3Fvar1+.%0A++%3Fvar3++%3Chttp%3A%2F%2Fschema.org%2FisPartOf%3E++%3Chttps%3A%2F%2Fen.wikipedia.org%2F%3E+.%0A+FILTER+%28++%28+%28++DATATYPE+%28++%3Fvar2++%29++%3D++%3Chttp%3A%2F%2Fwww.w3.org%2F2001%2FXMLSchema%23dateTime%3E++%29+%26%26+%28++MONTH+%28++%3Fvar2++%29++%3D++MONTH+%28++NOW+%28++%29++%29++%29+%26%26+%28++DAY+%28++%3Fvar2++%29++%3D++DAY+%28++NOW+%28++%29++%29++%29+%29+%0A%29+.%0A%7D%0AORDER+BY++DESC%28+%3Fvar2+%29%0ALIMIT+5%0A</td>\n      <td>2017-06-12 02:09:34</td>\n      <td>robotic</td>\n      <td>UNKNOWN</td>\n      <td>3</td>\n      <td>1</td>\n      <td>1</td>\n      <td>5</td>\n      <td>1</td>\n      <td>0</td>\n      <td>3</td>\n      <td>1</td>\n      <td>0</td>\n      <td>0</td>\n      <td>0</td>\n      <td>1</td>\n      <td>0</td>\n      <td>0</td>\n      <td>1</td>\n      <td>4</td>\n      <td>0</td>\n      <td>0</td>\n      <td>0</td>\n      <td>0</td>\n      <td>0</td>\n      <td>0</td>\n      <td>0</td>\n      <td>0</td>\n      <td>3</td>\n      <td>1</td>\n      <td>0</td>\n      <td>0</td>\n      <td>0</td>\n      <td>1</td>\n      <td>0</td>\n      <td>1</td>\n      <td>1</td>\n      <td>data/parsed/I1_status500_Joined.parsed.tsv</td>\n      <td>1</td>\n      <td>True</td>\n      <td>True</td>\n      <td>True</td>\n      <td>True</td>\n      <td>True</td>\n      <td>False</td>\n      <td>False</td>\n      <td>False</td>\n      <td>True</td>\n      <td>True</td>\n      <td>True</td>\n      <td>False</td>\n      <td>False</td>\n      <td>True</td>\n      <td>False</td>\n    </tr>\n    <tr>\n      <th>13</th>\n      <td>SELECT+DISTINCT%28+COUNT+%28+%3Fvar1++%29+AS++%3Fvar2++%29%0AWHERE+%7B%0A++%5B%5D++%3Chttp%3A%2F%2Fwww.w3.org%2F1999%2F02%2F22-rdf-syntax-ns%23type%3E++%3Fvar1+.%0A%7D%0A</td>\n      <td>2017-06-12 02:16:27</td>\n      <td>robotic</td>\n      <td>UNKNOWN</td>\n      <td>3</td>\n      <td>0</td>\n      <td>0</td>\n      <td>0</td>\n      <td>1</td>\n      <td>1</td>\n      <td>0</td>\n      <td>1</td>\n      <td>0</td>\n      <td>0</td>\n      <td>0</td>\n      <td>1</td>\n      <td>0</td>\n      <td>1</td>\n      <td>0</td>\n      <td>1</td>\n      <td>0</td>\n      <td>1</td>\n      <td>0</td>\n      <td>0</td>\n      <td>0</td>\n      <td>0</td>\n      <td>0</td>\n      <td>0</td>\n      <td>0</td>\n      <td>0</td>\n      <td>0</td>\n      <td>0</td>\n      <td>0</td>\n      <td>0</td>\n      <td>0</td>\n      <td>0</td>\n      <td>0</td>\n      <td>data/parsed/I1_status500_Joined.parsed.tsv</td>\n      <td>1</td>\n      <td>True</td>\n      <td>False</td>\n      <td>False</td>\n      <td>False</td>\n      <td>True</td>\n      <td>True</td>\n      <td>False</td>\n      <td>False</td>\n      <td>False</td>\n      <td>True</td>\n      <td>True</td>\n      <td>False</td>\n      <td>False</td>\n      <td>False</td>\n      <td>False</td>\n    </tr>\n    <tr>\n      <th>...</th>\n      <td>...</td>\n      <td>...</td>\n      <td>...</td>\n      <td>...</td>\n      <td>...</td>\n      <td>...</td>\n      <td>...</td>\n      <td>...</td>\n      <td>...</td>\n      <td>...</td>\n      <td>...</td>\n      <td>...</td>\n      <td>...</td>\n      <td>...</td>\n      <td>...</td>\n      <td>...</td>\n      <td>...</td>\n      <td>...</td>\n      <td>...</td>\n      <td>...</td>\n      <td>...</td>\n      <td>...</td>\n      <td>...</td>\n      <td>...</td>\n      <td>...</td>\n      <td>...</td>\n      <td>...</td>\n      <td>...</td>\n      <td>...</td>\n      <td>...</td>\n      <td>...</td>\n      <td>...</td>\n      <td>...</td>\n      <td>...</td>\n      <td>...</td>\n      <td>...</td>\n      <td>...</td>\n      <td>...</td>\n      <td>...</td>\n      <td>...</td>\n      <td>...</td>\n      <td>...</td>\n      <td>...</td>\n      <td>...</td>\n      <td>...</td>\n      <td>...</td>\n      <td>...</td>\n      <td>...</td>\n      <td>...</td>\n      <td>...</td>\n      <td>...</td>\n      <td>...</td>\n      <td>...</td>\n      <td>...</td>\n    </tr>\n    <tr>\n      <th>122822</th>\n      <td>SELECT+DISTINCT+%3Fvar1+%0AWHERE+%7B%0A++%3Fvar1++%3Chttp%3A%2F%2Fwww.wikidata.org%2Fprop%2Fdirect%2FP31%3E++%3Chttp%3A%2F%2Fwww.wikidata.org%2Fentity%2FQ5%3E+%3B%0A+%3Chttp%3A%2F%2Fwww.wikidata.org%2Fprop%2Fdirect%2FP17%3E++%5B%5D+%3B%0A+%3Chttp%3A%2F%2Fwww.wikidata.org%2Fprop%2Fdirect%2FP569%3E++%3Fvar2+.%0A+FILTER+%28++%28+%28++YEAR+%28++%3Fvar2++%29++%3E+%221850%22%5E%5E%3Chttp%3A%2F%2Fwww.w3.org%2F2001%2FXMLSchema%23integer%3E++%29+%29+%0A%29+.%0A%7D%0A</td>\n      <td>2018-03-25 23:31:13</td>\n      <td>robotic</td>\n      <td>UNKNOWN</td>\n      <td>2</td>\n      <td>1</td>\n      <td>0</td>\n      <td>0</td>\n      <td>1</td>\n      <td>1</td>\n      <td>2</td>\n      <td>1</td>\n      <td>0</td>\n      <td>0</td>\n      <td>0</td>\n      <td>1</td>\n      <td>0</td>\n      <td>0</td>\n      <td>0</td>\n      <td>3</td>\n      <td>0</td>\n      <td>0</td>\n      <td>0</td>\n      <td>0</td>\n      <td>0</td>\n      <td>0</td>\n      <td>0</td>\n      <td>0</td>\n      <td>1</td>\n      <td>0</td>\n      <td>0</td>\n      <td>0</td>\n      <td>0</td>\n      <td>0</td>\n      <td>0</td>\n      <td>0</td>\n      <td>0</td>\n      <td>data/parsed/I7_status500_Joined.parsed.tsv</td>\n      <td>7</td>\n      <td>True</td>\n      <td>True</td>\n      <td>False</td>\n      <td>False</td>\n      <td>True</td>\n      <td>True</td>\n      <td>False</td>\n      <td>False</td>\n      <td>True</td>\n      <td>True</td>\n      <td>True</td>\n      <td>False</td>\n      <td>False</td>\n      <td>False</td>\n      <td>False</td>\n    </tr>\n    <tr>\n      <th>122823</th>\n      <td>SELECT%28++%3Fvar1++AS++%3Fvar2++%29%0AWHERE+%7B%0A++%3Chttp%3A%2F%2Fwww.wikidata.org%2Fentity%2FQ211907%3E+%28+%3Chttp%3A%2F%2Fwww.wikidata.org%2Fprop%2Fdirect%2FP131%3E+%2F+%3Chttp%3A%2F%2Fwww.wikidata.org%2Fprop%2Fdirect%2FP131%3E+*%29+%3Fvar3+.%0A++%3Fvar3+%28+%3Chttp%3A%2F%2Fwww.wikidata.org%2Fprop%2Fdirect%2FP31%3E+%2F+%3Chttp%3A%2F%2Fwww.wikidata.org%2Fprop%2Fdirect%2FP279%3E+*%29+%3Chttp%3A%2F%2Fwww.wikidata.org%2Fentity%2FQ10864048%3E+.%0A++%3Fvar1+%28+%3Chttp%3A%2F%2Fwww.wikidata.org%2Fprop%2Fdirect%2FP131%3E+%2F+%3Chttp%3A%2F%2Fwww.wikidata.org%2Fprop%2Fdirect%2FP131%3E+*%29+%3Fvar3+.%0A++%3Fvar1+%28+%3Chttp%3A%2F%2Fwww.wikidata.org%2Fprop%2Fdirect%2FP31%3E+%2F+%3Chttp%3A%2F%2Fwww.wikidata.org%2Fprop%2Fdirect%2FP279%3E+*%29+%3Chttp%3A%2F%2Fwww.wikidata.org%2Fentity%2FQ13220204%3E+.%0A+SERVICE++%3Chttp%3A%2F%2Fwikiba.se%2Fontology%23label%3E+++%7B%0A++++%3Chttp%3A%2F%2Fwww.bigdata.com%2Frdf%23serviceParam%3E++%3Chttp%3A%2F%2Fwikiba.se%2Fontology%23language%3E++%22fi%22.%0A++%7D%0A+FILTER+%28++%28++NOT+EXISTS++%7B%0A+++%3Fvar1+%28+%3Chttp%3A%2F%2Fwww.wikidata.org%2Fprop%2Fdirect%2FP31%3E+%2F+%3Chttp%3A%2F%2Fwww.wikidata.org%2Fprop%2Fdirect%2FP279%3E+*%29+%3Chttp%3A%2F%2Fwww.wikidata.org%2Fentity%2FQ19953632%3E+.%0A+%7D%0A+%29+%0A%29+.%0A%7D%0AGROUP+BY++%3Fvar1+%0A</td>\n      <td>2018-03-25 23:32:09</td>\n      <td>robotic</td>\n      <td>UNKNOWN</td>\n      <td>4</td>\n      <td>1</td>\n      <td>0</td>\n      <td>0</td>\n      <td>1</td>\n      <td>0</td>\n      <td>4</td>\n      <td>1</td>\n      <td>0</td>\n      <td>0</td>\n      <td>0</td>\n      <td>1</td>\n      <td>0</td>\n      <td>1</td>\n      <td>0</td>\n      <td>4</td>\n      <td>0</td>\n      <td>1</td>\n      <td>1</td>\n      <td>0</td>\n      <td>0</td>\n      <td>1</td>\n      <td>0</td>\n      <td>0</td>\n      <td>0</td>\n      <td>5</td>\n      <td>0</td>\n      <td>0</td>\n      <td>0</td>\n      <td>5</td>\n      <td>0</td>\n      <td>5</td>\n      <td>5</td>\n      <td>data/parsed/I7_status500_Joined.parsed.tsv</td>\n      <td>7</td>\n      <td>True</td>\n      <td>True</td>\n      <td>False</td>\n      <td>False</td>\n      <td>True</td>\n      <td>False</td>\n      <td>False</td>\n      <td>False</td>\n      <td>True</td>\n      <td>True</td>\n      <td>True</td>\n      <td>False</td>\n      <td>False</td>\n      <td>False</td>\n      <td>False</td>\n    </tr>\n    <tr>\n      <th>122824</th>\n      <td>SELECT%28++%3Fvar1++AS++%3Fvar2++%29%0AWHERE+%7B%0A++%3Chttp%3A%2F%2Fwww.wikidata.org%2Fentity%2FQ211907%3E+%28+%3Chttp%3A%2F%2Fwww.wikidata.org%2Fprop%2Fdirect%2FP131%3E+%2F+%3Chttp%3A%2F%2Fwww.wikidata.org%2Fprop%2Fdirect%2FP131%3E+*%29+%3Fvar3+.%0A++%3Fvar3+%28+%3Chttp%3A%2F%2Fwww.wikidata.org%2Fprop%2Fdirect%2FP31%3E+%2F+%3Chttp%3A%2F%2Fwww.wikidata.org%2Fprop%2Fdirect%2FP279%3E+*%29+%3Chttp%3A%2F%2Fwww.wikidata.org%2Fentity%2FQ10864048%3E+.%0A++%3Fvar1+%28+%3Chttp%3A%2F%2Fwww.wikidata.org%2Fprop%2Fdirect%2FP131%3E+%2F+%3Chttp%3A%2F%2Fwww.wikidata.org%2Fprop%2Fdirect%2FP131%3E+*%29+%3Fvar3+.%0A++%3Fvar1+%28+%3Chttp%3A%2F%2Fwww.wikidata.org%2Fprop%2Fdirect%2FP31%3E+%2F+%3Chttp%3A%2F%2Fwww.wikidata.org%2Fprop%2Fdirect%2FP279%3E+*%29+%3Chttp%3A%2F%2Fwww.wikidata.org%2Fentity%2FQ13221722%3E+.%0A+SERVICE++%3Chttp%3A%2F%2Fwikiba.se%2Fontology%23label%3E+++%7B%0A++++%3Chttp%3A%2F%2Fwww.bigdata.com%2Frdf%23serviceParam%3E++%3Chttp%3A%2F%2Fwikiba.se%2Fontology%23language%3E++%22fi%22.%0A++%7D%0A+FILTER+%28++%28++NOT+EXISTS++%7B%0A+++%3Fvar1+%28+%3Chttp%3A%2F%2Fwww.wikidata.org%2Fprop%2Fdirect%2FP31%3E+%2F+%3Chttp%3A%2F%2Fwww.wikidata.org%2Fprop%2Fdirect%2FP279%3E+*%29+%3Chttp%3A%2F%2Fwww.wikidata.org%2Fentity%2FQ19953632%3E+.%0A+%7D%0A+%29+%0A%29+.%0A%7D%0AGROUP+BY++%3Fvar1+%0A</td>\n      <td>2018-03-25 23:32:09</td>\n      <td>robotic</td>\n      <td>UNKNOWN</td>\n      <td>4</td>\n      <td>1</td>\n      <td>0</td>\n      <td>0</td>\n      <td>1</td>\n      <td>0</td>\n      <td>4</td>\n      <td>1</td>\n      <td>0</td>\n      <td>0</td>\n      <td>0</td>\n      <td>1</td>\n      <td>0</td>\n      <td>1</td>\n      <td>0</td>\n      <td>4</td>\n      <td>0</td>\n      <td>1</td>\n      <td>1</td>\n      <td>0</td>\n      <td>0</td>\n      <td>1</td>\n      <td>0</td>\n      <td>0</td>\n      <td>0</td>\n      <td>5</td>\n      <td>0</td>\n      <td>0</td>\n      <td>0</td>\n      <td>5</td>\n      <td>0</td>\n      <td>5</td>\n      <td>5</td>\n      <td>data/parsed/I7_status500_Joined.parsed.tsv</td>\n      <td>7</td>\n      <td>True</td>\n      <td>True</td>\n      <td>False</td>\n      <td>False</td>\n      <td>True</td>\n      <td>False</td>\n      <td>False</td>\n      <td>False</td>\n      <td>True</td>\n      <td>True</td>\n      <td>True</td>\n      <td>False</td>\n      <td>False</td>\n      <td>False</td>\n      <td>False</td>\n    </tr>\n    <tr>\n      <th>122825</th>\n      <td>SELECT%28++%3Fvar1++AS++%3Fvar2++%29%0AWHERE+%7B%0A++%3Chttp%3A%2F%2Fwww.wikidata.org%2Fentity%2FQ211907%3E+%28+%3Chttp%3A%2F%2Fwww.wikidata.org%2Fprop%2Fdirect%2FP131%3E+%2F+%3Chttp%3A%2F%2Fwww.wikidata.org%2Fprop%2Fdirect%2FP131%3E+*%29+%3Fvar3+.%0A++%3Fvar3+%28+%3Chttp%3A%2F%2Fwww.wikidata.org%2Fprop%2Fdirect%2FP31%3E+%2F+%3Chttp%3A%2F%2Fwww.wikidata.org%2Fprop%2Fdirect%2FP279%3E+*%29+%3Chttp%3A%2F%2Fwww.wikidata.org%2Fentity%2FQ10864048%3E+.%0A++%3Fvar1+%28+%3Chttp%3A%2F%2Fwww.wikidata.org%2Fprop%2Fdirect%2FP131%3E+%2F+%3Chttp%3A%2F%2Fwww.wikidata.org%2Fprop%2Fdirect%2FP131%3E+*%29+%3Fvar3+.%0A++%3Fvar1+%28+%3Chttp%3A%2F%2Fwww.wikidata.org%2Fprop%2Fdirect%2FP31%3E+%2F+%3Chttp%3A%2F%2Fwww.wikidata.org%2Fprop%2Fdirect%2FP279%3E+*%29+%3Chttp%3A%2F%2Fwww.wikidata.org%2Fentity%2FQ13221722%3E+.%0A+SERVICE++%3Chttp%3A%2F%2Fwikiba.se%2Fontology%23label%3E+++%7B%0A++++%3Chttp%3A%2F%2Fwww.bigdata.com%2Frdf%23serviceParam%3E++%3Chttp%3A%2F%2Fwikiba.se%2Fontology%23language%3E++%22fi%22.%0A++%7D%0A+FILTER+%28++%28++NOT+EXISTS++%7B%0A+++%3Fvar1+%28+%3Chttp%3A%2F%2Fwww.wikidata.org%2Fprop%2Fdirect%2FP31%3E+%2F+%3Chttp%3A%2F%2Fwww.wikidata.org%2Fprop%2Fdirect%2FP279%3E+*%29+%3Chttp%3A%2F%2Fwww.wikidata.org%2Fentity%2FQ19953632%3E+.%0A+%7D%0A+%29+%0A%29+.%0A%7D%0AGROUP+BY++%3Fvar1+%0A</td>\n      <td>2018-03-25 23:32:09</td>\n      <td>robotic</td>\n      <td>UNKNOWN</td>\n      <td>4</td>\n      <td>1</td>\n      <td>0</td>\n      <td>0</td>\n      <td>1</td>\n      <td>0</td>\n      <td>4</td>\n      <td>1</td>\n      <td>0</td>\n      <td>0</td>\n      <td>0</td>\n      <td>1</td>\n      <td>0</td>\n      <td>1</td>\n      <td>0</td>\n      <td>4</td>\n      <td>0</td>\n      <td>1</td>\n      <td>1</td>\n      <td>0</td>\n      <td>0</td>\n      <td>1</td>\n      <td>0</td>\n      <td>0</td>\n      <td>0</td>\n      <td>5</td>\n      <td>0</td>\n      <td>0</td>\n      <td>0</td>\n      <td>5</td>\n      <td>0</td>\n      <td>5</td>\n      <td>5</td>\n      <td>data/parsed/I7_status500_Joined.parsed.tsv</td>\n      <td>7</td>\n      <td>True</td>\n      <td>True</td>\n      <td>False</td>\n      <td>False</td>\n      <td>True</td>\n      <td>False</td>\n      <td>False</td>\n      <td>False</td>\n      <td>True</td>\n      <td>True</td>\n      <td>True</td>\n      <td>False</td>\n      <td>False</td>\n      <td>False</td>\n      <td>False</td>\n    </tr>\n    <tr>\n      <th>122827</th>\n      <td>SELECT+%3Fvar1++%3Fvar2+%28++GROUP_CONCAT+%28++DISTINCT++%3Fvar3++%29++AS++%3Fvar4++%29%0AWHERE+%7B%0A++VALUES+%28++%3Fvar5++%29+%7B%0A+++%28++%3Chttp%3A%2F%2Fwww.wikidata.org%2Fentity%2FQ11424%3E++%29%0A+++%28++%3Chttp%3A%2F%2Fwww.wikidata.org%2Fentity%2FQ24862%3E++%29%0A+++%28++%3Chttp%3A%2F%2Fwww.wikidata.org%2Fentity%2FQ506240%3E++%29%0A+++%28++%3Chttp%3A%2F%2Fwww.wikidata.org%2Fentity%2FQ336144%3E++%29%0A++%7D%0A++BIND+%28++%3Chttp%3A%2F%2Fwww.w3.org%2F2001%2FXMLSchema%23integer%3E++%28+STRAFTER+%28++STR+%28++%3Fvar1++%29+%2C+%22Q%22+%29+%29++AS++%3Fvar2+%29.%0A++%3Fvar1++%3Chttp%3A%2F%2Fwww.wikidata.org%2Fprop%2Fdirect%2FP31%3E++%3Fvar5+.%0A+FILTER+%28++%28+%28++%3Fvar2++%3E+%2228090000%22%5E%5E%3Chttp%3A%2F%2Fwww.w3.org%2F2001%2FXMLSchema%23integer%3E++%29+%29+%0A%29+.%0A+OPTIONAL+%7B%0A++BIND+%28++CONCAT+%28++%22%5B%22%2C+STR+%28++%3Fvar6++%29+%2C+%22+%22%2C+%3Fvar7+%2C+%22%5D%22+%29++AS++%3Fvar3+%29.%0A++%3Fvar6++%3Chttp%3A%2F%2Fschema.org%2Fabout%3E++%3Fvar1+%3B%0A+%3Chttp%3A%2F%2Fschema.org%2FinLanguage%3E++%3Fvar7+.%0A+%7D%0A%7D%0AGROUP+BY++%3Fvar1++%3Fvar2+%0AORDER+BY++DESC%28+%3Fvar2+%29%0ALIMIT+500%0A</td>\n      <td>2018-03-25 23:37:10</td>\n      <td>robotic</td>\n      <td>bot2</td>\n      <td>10</td>\n      <td>1</td>\n      <td>1</td>\n      <td>500</td>\n      <td>1</td>\n      <td>0</td>\n      <td>3</td>\n      <td>1</td>\n      <td>1</td>\n      <td>0</td>\n      <td>0</td>\n      <td>3</td>\n      <td>1</td>\n      <td>1</td>\n      <td>1</td>\n      <td>3</td>\n      <td>0</td>\n      <td>5</td>\n      <td>0</td>\n      <td>1</td>\n      <td>0</td>\n      <td>0</td>\n      <td>1</td>\n      <td>0</td>\n      <td>1</td>\n      <td>0</td>\n      <td>0</td>\n      <td>0</td>\n      <td>0</td>\n      <td>0</td>\n      <td>0</td>\n      <td>0</td>\n      <td>0</td>\n      <td>data/parsed/I7_status500_Joined.parsed.tsv</td>\n      <td>7</td>\n      <td>True</td>\n      <td>True</td>\n      <td>True</td>\n      <td>True</td>\n      <td>True</td>\n      <td>False</td>\n      <td>False</td>\n      <td>True</td>\n      <td>True</td>\n      <td>True</td>\n      <td>True</td>\n      <td>False</td>\n      <td>True</td>\n      <td>True</td>\n      <td>False</td>\n    </tr>\n    <tr>\n      <th>122828</th>\n      <td>SELECT+%3Fvar1+%0AWHERE+%7B%0A++%3Fvar1++%3Chttp%3A%2F%2Fwww.wikidata.org%2Fprop%2Fdirect%2FP345%3E++%3Fvar2+.%0A+FILTER+%28++%28++CONTAINS+%28++LCASE+%28++%3Fvar2++%29+%2C+%22nm1599776%22+%29++%29+%0A%29+.%0A+SERVICE++%3Chttp%3A%2F%2Fwikiba.se%2Fontology%23label%3E+++%7B%0A++++%3Chttp%3A%2F%2Fwww.bigdata.com%2Frdf%23serviceParam%3E++%3Chttp%3A%2F%2Fwikiba.se%2Fontology%23language%3E++%22en%22.%0A++%7D%0A%7D%0ALIMIT+1%0A</td>\n      <td>2018-03-25 23:53:30</td>\n      <td>robotic</td>\n      <td>UNKNOWN</td>\n      <td>2</td>\n      <td>1</td>\n      <td>0</td>\n      <td>1</td>\n      <td>1</td>\n      <td>0</td>\n      <td>1</td>\n      <td>1</td>\n      <td>0</td>\n      <td>0</td>\n      <td>0</td>\n      <td>1</td>\n      <td>0</td>\n      <td>0</td>\n      <td>1</td>\n      <td>1</td>\n      <td>0</td>\n      <td>0</td>\n      <td>0</td>\n      <td>0</td>\n      <td>0</td>\n      <td>0</td>\n      <td>0</td>\n      <td>0</td>\n      <td>0</td>\n      <td>0</td>\n      <td>0</td>\n      <td>0</td>\n      <td>0</td>\n      <td>0</td>\n      <td>0</td>\n      <td>0</td>\n      <td>0</td>\n      <td>data/parsed/I7_status500_Joined.parsed.tsv</td>\n      <td>7</td>\n      <td>True</td>\n      <td>True</td>\n      <td>False</td>\n      <td>True</td>\n      <td>True</td>\n      <td>False</td>\n      <td>False</td>\n      <td>False</td>\n      <td>True</td>\n      <td>True</td>\n      <td>True</td>\n      <td>False</td>\n      <td>False</td>\n      <td>True</td>\n      <td>False</td>\n    </tr>\n    <tr>\n      <th>122829</th>\n      <td>SELECT+*%0AWHERE+%7B%0A++%3Fvar1++%3Chttp%3A%2F%2Fwww.wikidata.org%2Fprop%2Fdirect%2FP345%3E++%3Fvar2+.%0A+FILTER+%28++%28+%28++%3Fvar2++%3D++%22tt6483832%22+%29+%29+%0A%29+.%0A++%3Fvar3++%3Chttp%3A%2F%2Fschema.org%2Fabout%3E++%3Fvar1+%3B%0A+%3Chttp%3A%2F%2Fschema.org%2FinLanguage%3E++%22en%22%3B%0A+%3Chttp%3A%2F%2Fschema.org%2FisPartOf%3E++%3Chttps%3A%2F%2Fen.wikipedia.org%2F%3E+.%0A%7D%0A</td>\n      <td>2018-03-25 23:53:30</td>\n      <td>robotic</td>\n      <td>UNKNOWN</td>\n      <td>3</td>\n      <td>1</td>\n      <td>0</td>\n      <td>0</td>\n      <td>1</td>\n      <td>0</td>\n      <td>3</td>\n      <td>1</td>\n      <td>0</td>\n      <td>0</td>\n      <td>0</td>\n      <td>1</td>\n      <td>0</td>\n      <td>0</td>\n      <td>0</td>\n      <td>4</td>\n      <td>0</td>\n      <td>0</td>\n      <td>0</td>\n      <td>0</td>\n      <td>0</td>\n      <td>0</td>\n      <td>0</td>\n      <td>0</td>\n      <td>1</td>\n      <td>0</td>\n      <td>0</td>\n      <td>0</td>\n      <td>0</td>\n      <td>0</td>\n      <td>0</td>\n      <td>0</td>\n      <td>0</td>\n      <td>data/parsed/I7_status500_Joined.parsed.tsv</td>\n      <td>7</td>\n      <td>True</td>\n      <td>True</td>\n      <td>False</td>\n      <td>False</td>\n      <td>True</td>\n      <td>False</td>\n      <td>False</td>\n      <td>False</td>\n      <td>True</td>\n      <td>True</td>\n      <td>True</td>\n      <td>False</td>\n      <td>False</td>\n      <td>False</td>\n      <td>False</td>\n    </tr>\n    <tr>\n      <th>122830</th>\n      <td>SELECT+DISTINCT+%3Fvar1++%3Fvar2+%0AWHERE+%7B%0A++%3Fvar1++%3Chttp%3A%2F%2Fwww.wikidata.org%2Fprop%2Fdirect%2FP31%3E++%3Chttp%3A%2F%2Fwww.wikidata.org%2Fentity%2FQ13442814%3E+.%0A++%3Fvar1++%3Chttp%3A%2F%2Fwww.wikidata.org%2Fprop%2Fdirect%2FP356%3E++%3Fvar2+.%0A++%3Fvar1++%3Chttp%3A%2F%2Fwww.wikidata.org%2Fprop%2Fdirect%2FP50%3E++%3Fvar3+.%0A++%3Fvar3++%3Chttp%3A%2F%2Fwww.wikidata.org%2Fprop%2Fdirect%2FP31%3E++%3Chttp%3A%2F%2Fwww.wikidata.org%2Fentity%2FQ5%3E+.%0A++MINUS+++%7B%0A++++%3Fvar3++%3Chttp%3A%2F%2Fwww.wikidata.org%2Fprop%2Fdirect%2FP496%3E++%5B%5D+.%0A++%7D%0A++MINUS+++%7B%0A++++%3Fvar3++%3Chttp%3A%2F%2Fwww.wikidata.org%2Fprop%2Fdirect%2FP570%3E++%5B%5D+.%0A++%7D%0A%7D%0AORDER+BY+ASC%28+RAND+%28++%29+%29%0ALIMIT+2000%0A</td>\n      <td>2018-03-25 23:54:01</td>\n      <td>robotic</td>\n      <td>orcid_bot</td>\n      <td>3</td>\n      <td>0</td>\n      <td>1</td>\n      <td>2000</td>\n      <td>1</td>\n      <td>1</td>\n      <td>3</td>\n      <td>1</td>\n      <td>0</td>\n      <td>0</td>\n      <td>0</td>\n      <td>3</td>\n      <td>0</td>\n      <td>0</td>\n      <td>1</td>\n      <td>6</td>\n      <td>0</td>\n      <td>0</td>\n      <td>0</td>\n      <td>0</td>\n      <td>2</td>\n      <td>0</td>\n      <td>0</td>\n      <td>0</td>\n      <td>0</td>\n      <td>0</td>\n      <td>0</td>\n      <td>0</td>\n      <td>0</td>\n      <td>0</td>\n      <td>0</td>\n      <td>0</td>\n      <td>0</td>\n      <td>data/parsed/I7_status500_Joined.parsed.tsv</td>\n      <td>7</td>\n      <td>True</td>\n      <td>False</td>\n      <td>True</td>\n      <td>True</td>\n      <td>True</td>\n      <td>True</td>\n      <td>False</td>\n      <td>False</td>\n      <td>True</td>\n      <td>True</td>\n      <td>True</td>\n      <td>False</td>\n      <td>False</td>\n      <td>True</td>\n      <td>False</td>\n    </tr>\n    <tr>\n      <th>122831</th>\n      <td>SELECT+%3Fvar1++%3Fvar2++%3Fvar3+%28++IF+%28+%28++%3Fvar3++%3E+%2211%22%5E%5E%3Chttp%3A%2F%2Fwww.w3.org%2F2001%2FXMLSchema%23integer%3E++%29%2C+%22string1%22%2C+%22string2%22+%29++AS++%3Fvar4++%29%0AWHERE+%7B%0A++%3Fvar1++%3Chttp%3A%2F%2Fwikiba.se%2Fontology%23sitelinks%3E++%3Fvar2+%3B%0A+%3Chttp%3A%2F%2Fwikiba.se%2Fontology%23statements%3E++%3Fvar3+.%0A+FILTER+%28++%28+%28++%3Fvar2++%3E+%22180%22%5E%5E%3Chttp%3A%2F%2Fwww.w3.org%2F2001%2FXMLSchema%23integer%3E++%29+%29+%0A%29+.%0A%7D%0AORDER+BY++DESC%28+%3Fvar2+%29%0ALIMIT+1000%0A</td>\n      <td>2018-03-25 23:59:40</td>\n      <td>robotic</td>\n      <td>bot2</td>\n      <td>4</td>\n      <td>1</td>\n      <td>1</td>\n      <td>1000</td>\n      <td>1</td>\n      <td>0</td>\n      <td>1</td>\n      <td>1</td>\n      <td>0</td>\n      <td>0</td>\n      <td>0</td>\n      <td>1</td>\n      <td>0</td>\n      <td>0</td>\n      <td>1</td>\n      <td>2</td>\n      <td>0</td>\n      <td>1</td>\n      <td>0</td>\n      <td>0</td>\n      <td>0</td>\n      <td>0</td>\n      <td>0</td>\n      <td>0</td>\n      <td>2</td>\n      <td>0</td>\n      <td>0</td>\n      <td>0</td>\n      <td>0</td>\n      <td>0</td>\n      <td>0</td>\n      <td>0</td>\n      <td>0</td>\n      <td>data/parsed/I7_status500_Joined.parsed.tsv</td>\n      <td>7</td>\n      <td>True</td>\n      <td>True</td>\n      <td>True</td>\n      <td>True</td>\n      <td>True</td>\n      <td>False</td>\n      <td>False</td>\n      <td>False</td>\n      <td>True</td>\n      <td>True</td>\n      <td>True</td>\n      <td>False</td>\n      <td>False</td>\n      <td>True</td>\n      <td>False</td>\n    </tr>\n  </tbody>\n</table>\n<p>81356 rows × 54 columns</p>\n</div>"
     },
     "metadata": {}
    }
   ]
  },
  {
   "cell_type": "code",
   "metadata": {
    "tags": [],
    "deepnote_to_be_reexecuted": false,
    "source_hash": "649884d6",
    "execution_start": 1645781086516,
    "execution_millis": 350,
    "deepnote_output_heights": [
     21
    ],
    "deepnote_cell_height": 136,
    "pycharm": {
     "name": "#%%\n"
    },
    "cell_id": "00013-5f8a6f57-fac0-4bd0-967a-e205c962e172",
    "deepnote_cell_type": "code"
   },
   "source": "df_nona_organic = df_nona.loc[(df_nona[\"sourceCategory\"] == \"organic\")]\ndf_nona_organic\n",
   "execution_count": null,
   "outputs": [
    {
     "output_type": "execute_result",
     "execution_count": 7,
     "data": {
      "application/vnd.deepnote.dataframe.v3+json": {
       "column_count": 54,
       "row_count": 41476,
       "columns": [
        {
         "name": "anonymizedQuery",
         "dtype": "object",
         "stats": {
          "unique_count": 22914,
          "nan_count": 0,
          "categories": [
           {
            "name": "SELECT+%3Fvar1++%3Fvar1Label++%3Fvar2++%3Fvar3++%3Fvar4++%3Fvar5++%3Fvar6++%3Fvar7+%0AWHERE+%7B%0A+SERVICE++%3Chttp%3A%2F%2Fwikiba.se%2Fontology%23box%3E+++%7B%0A++++%3Fvar1++%3Chttp%3A%2F%2Fwww.wikidata.org%2Fprop%2Fdirect%2FP625%3E++%3Fvar2+.%0A++++%3Chttp%3A%2F%2Fwww.bigdata.com%2Frdf%23serviceParam%3E++%3Chttp%3A%2F%2Fwikiba.se%2Fontology%23cornerSouthWest%3E++%22string1%22%5E%5E%3Chttp%3A%2F%2Fwww.opengis.net%2Font%2Fgeosparql%23wktLiteral%3E+.%0A++++%3Chttp%3A%2F%2Fwww.bigdata.com%2Frdf%23serviceParam%3E++%3Chttp%3A%2F%2Fwikiba.se%2Fontology%23cornerNorthEast%3E++%22string2%22%5E%5E%3Chttp%3A%2F%2Fwww.opengis.net%2Font%2Fgeosparql%23wktLiteral%3E+.%0A++%7D%0A+OPTIONAL+%7B%0A++%3Fvar1++%3Chttp%3A%2F%2Fwww.wikidata.org%2Fprop%2Fdirect%2FP18%3E++%3Fvar3+.%0A+%7D%0A+OPTIONAL+%7B%0A++%3Fvar1++%3Chttp%3A%2F%2Fwww.wikidata.org%2Fprop%2Fdirect%2FP373%3E++%3Fvar6+.%0A+%7D%0A+OPTIONAL+%7B%0A++%3Fvar1++%3Chttp%3A%2F%2Fwww.wikidata.org%2Fprop%2Fdirect%2FP969%3E++%3Fvar7+.%0A+%7D%0A+SERVICE++%3Chttp%3A%2F%2Fwikiba.se%2Fontology%23label%3E+++%7B%0A++++%3Chttp%3A%2F%2Fwww.bigdata.com%2Frdf%23serviceParam%3E++%3Chttp%3A%2F%2Fwikiba.se%2Fontology%23language%3E++%22string3%22.%0A++++%3Fvar1++%3Chttp%3A%2F%2Fschema.org%2Fdescription%3E++%3Fvar5+.%0A++++%3Fvar1++%3Chttp%3A%2F%2Fwww.w3.org%2F2000%2F01%2Frdf-schema%23label%3E++%3Fvar1Label+.%0A++%7D%0A%7D%0ALIMIT+3000%0A",
            "count": 1624
           },
           {
            "name": "SELECT+%3Fvar1++%3Fvar2Label++%3Fvar3+%0AWHERE+%7B%0A++%3Chttp%3A%2F%2Fwww.bigdata.com%2FqueryHints%23Query%3E++%3Chttp%3A%2F%2Fwww.bigdata.com%2FqueryHints%23optimizer%3E++%22None%22.%0A+%7B%0A++SELECT+DISTINCT+%3Fvar1+%0A++WHERE+++%7B%0A++++%3Fvar4++%3Fvar5++%3Chttp%3A%2F%2Fwww.wikidata.org%2Fentity%2FQ5%3E+.%0A++++%3Fvar1++%3Fvar6++%3Fvar5+.%0A++++%3Fvar1++%3Chttp%3A%2F%2Fwww.w3.org%2F1999%2F02%2F22-rdf-syntax-ns%23type%3E++%3Chttp%3A%2F%2Fwikiba.se%2Fontology%23Property%3E+.%0A++%7D%0A++LIMIT+100%0A+%7D%0A++%3Fvar1++%3Chttp%3A%2F%2Fwww.w3.org%2F2000%2F01%2Frdf-schema%23label%3E++%3Fvar2Label+.%0A++%3Fvar1++%3Chttp%3A%2F%2Fschema.org%2Fdescription%3E++%3Fvar3+.%0A+FILTER+%28++%28+%28++LANG+%28++%3Fvar2Label++%29++%3D++%22en%22+%29+%29+%0A%29+.%0A+FILTER+%28++%28+%28++LANG+%28++%3Fvar3++%29++%3D++%22en%22+%29+%29+%0A%29+.%0A%7D%0ALIMIT+100%0A",
            "count": 934
           },
           {
            "name": "22912 others",
            "count": 38918
           }
          ]
         }
        },
        {
         "name": "timestamp",
         "dtype": "object",
         "stats": {
          "unique_count": 40741,
          "nan_count": 0,
          "categories": [
           {
            "name": "2018-01-06 19:30:26",
            "count": 11
           },
           {
            "name": "2018-01-06 19:30:28",
            "count": 11
           },
           {
            "name": "40739 others",
            "count": 41454
           }
          ]
         }
        },
        {
         "name": "sourceCategory",
         "dtype": "object"
        },
        {
         "name": "user_agent",
         "dtype": "object"
        },
        {
         "name": "var_cpt",
         "dtype": "int64"
        },
        {
         "name": "filter",
         "dtype": "int64"
        },
        {
         "name": "orderby",
         "dtype": "int64"
        },
        {
         "name": "limit",
         "dtype": "int64"
        },
        {
         "name": "select",
         "dtype": "int64"
        },
        {
         "name": "distinct",
         "dtype": "int64"
        },
        {
         "name": "join",
         "dtype": "int64"
        },
        {
         "name": "project",
         "dtype": "int64"
        },
        {
         "name": "tomultiset",
         "dtype": "int64"
        },
        {
         "name": "union",
         "dtype": "int64"
        },
        {
         "name": "modify",
         "dtype": "int64"
        },
        {
         "name": "bgp",
         "dtype": "int64"
        },
        {
         "name": "values",
         "dtype": "int64"
        },
        {
         "name": "groupBy",
         "dtype": "int64"
        },
        {
         "name": "slice",
         "dtype": "int64"
        },
        {
         "name": "triples",
         "dtype": "int64"
        },
        {
         "name": "offset",
         "dtype": "int64"
        },
        {
         "name": "extend",
         "dtype": "int64"
        },
        {
         "name": "filter_not_exists",
         "dtype": "int64"
        },
        {
         "name": "leftJoin",
         "dtype": "int64"
        },
        {
         "name": "minus",
         "dtype": "int64"
        },
        {
         "name": "notexist",
         "dtype": "int64"
        },
        {
         "name": "sample",
         "dtype": "int64"
        },
        {
         "name": "count",
         "dtype": "int64"
        },
        {
         "name": "having",
         "dtype": "int64"
        },
        {
         "name": "pathWithStar",
         "dtype": "int64"
        },
        {
         "name": "pathWithPlus",
         "dtype": "int64"
        },
        {
         "name": "pathWithQuestionMark",
         "dtype": "int64"
        },
        {
         "name": "pathWithInv",
         "dtype": "int64"
        },
        {
         "name": "pathWithSequence",
         "dtype": "int64"
        },
        {
         "name": "pathWithAlternative",
         "dtype": "int64"
        },
        {
         "name": "complexPathWith",
         "dtype": "int64"
        },
        {
         "name": "simplePathWith",
         "dtype": "int64"
        },
        {
         "name": "file_path",
         "dtype": "object"
        },
        {
         "name": "interval",
         "dtype": "int64"
        },
        {
         "name": "has_variable",
         "dtype": "bool"
        },
        {
         "name": "has_filter",
         "dtype": "bool"
        },
        {
         "name": "has_orderby",
         "dtype": "bool"
        },
        {
         "name": "has_limit",
         "dtype": "bool"
        },
        {
         "name": "has_select",
         "dtype": "bool"
        },
        {
         "name": "has_distinct",
         "dtype": "bool"
        },
        {
         "name": "has_modify",
         "dtype": "bool"
        },
        {
         "name": "has_tomultiset",
         "dtype": "bool"
        },
        {
         "name": "has_join",
         "dtype": "bool"
        },
        {
         "name": "has_bgp",
         "dtype": "bool"
        },
        {
         "name": "has_project",
         "dtype": "bool"
        },
        {
         "name": "has_union",
         "dtype": "bool"
        },
        {
         "name": "has_values",
         "dtype": "bool"
        },
        {
         "name": "has_slice",
         "dtype": "bool"
        },
        {
         "name": "has_offset",
         "dtype": "bool"
        },
        {
         "name": "_deepnote_index_column",
         "dtype": "int64"
        }
       ],
       "rows": [
        {
         "anonymizedQuery": "SELECT+%3Fvar1+%0AWHERE+%7B%0A++%3Fvar1++%3Chttp%3A%2F%2Fwww.w3.org%2F2004%2F02%2Fskos%2Fcore%23alt…",
         "timestamp": "2017-06-12 00:27:10",
         "sourceCategory": "organic",
         "user_agent": "browser",
         "var_cpt": 2,
         "filter": 1,
         "orderby": 0,
         "limit": 0,
         "select": 1,
         "distinct": 0,
         "join": 0,
         "project": 1,
         "tomultiset": 0,
         "union": 0,
         "modify": 0,
         "bgp": 1,
         "values": 0,
         "groupBy": 0,
         "slice": 0,
         "triples": 1,
         "offset": 0,
         "extend": 0,
         "filter_not_exists": 0,
         "leftJoin": 0,
         "minus": 0,
         "notexist": 0,
         "sample": 0,
         "count": 0,
         "having": 0,
         "pathWithStar": 0,
         "pathWithPlus": 0,
         "pathWithQuestionMark": 0,
         "pathWithInv": 0,
         "pathWithSequence": 0,
         "pathWithAlternative": 0,
         "complexPathWith": 0,
         "simplePathWith": 0,
         "file_path": "data/parsed/I1_status500_Joined.parsed.tsv",
         "interval": 1,
         "has_variable": true,
         "has_filter": true,
         "has_orderby": false,
         "has_limit": false,
         "has_select": true,
         "has_distinct": false,
         "has_modify": false,
         "has_tomultiset": false,
         "has_join": false,
         "has_bgp": true,
         "has_project": true,
         "has_union": false,
         "has_values": false,
         "has_slice": false,
         "has_offset": false,
         "_deepnote_index_column": 1
        },
        {
         "anonymizedQuery": "SELECT+%3Fvar1+%0AWHERE+%7B%0A++%3Fvar1+%28+%3Chttp%3A%2F%2Fwww.wikidata.org%2Fprop%2Fdirect%2FP279…",
         "timestamp": "2017-06-12 00:33:31",
         "sourceCategory": "organic",
         "user_agent": "browser",
         "var_cpt": 3,
         "filter": 1,
         "orderby": 0,
         "limit": 0,
         "select": 1,
         "distinct": 0,
         "join": 1,
         "project": 1,
         "tomultiset": 0,
         "union": 0,
         "modify": 0,
         "bgp": 1,
         "values": 0,
         "groupBy": 0,
         "slice": 0,
         "triples": 2,
         "offset": 0,
         "extend": 0,
         "filter_not_exists": 0,
         "leftJoin": 0,
         "minus": 0,
         "notexist": 0,
         "sample": 0,
         "count": 0,
         "having": 0,
         "pathWithStar": 0,
         "pathWithPlus": 0,
         "pathWithQuestionMark": 0,
         "pathWithInv": 0,
         "pathWithSequence": 0,
         "pathWithAlternative": 1,
         "complexPathWith": 0,
         "simplePathWith": 1,
         "file_path": "data/parsed/I1_status500_Joined.parsed.tsv",
         "interval": 1,
         "has_variable": true,
         "has_filter": true,
         "has_orderby": false,
         "has_limit": false,
         "has_select": true,
         "has_distinct": false,
         "has_modify": false,
         "has_tomultiset": false,
         "has_join": true,
         "has_bgp": true,
         "has_project": true,
         "has_union": false,
         "has_values": false,
         "has_slice": false,
         "has_offset": false,
         "_deepnote_index_column": 2
        },
        {
         "anonymizedQuery": "SELECT%28+COUNT+%28*+%29+AS++%3Fvar1++%29+%3Fvar2++%3Fvar3Label++%3Fvar4++%3Fvar5Label++%3Fvar6++%3…",
         "timestamp": "2017-06-12 00:40:53",
         "sourceCategory": "organic",
         "user_agent": "browser",
         "var_cpt": 31,
         "filter": 1,
         "orderby": 0,
         "limit": 0,
         "select": 1,
         "distinct": 0,
         "join": 6,
         "project": 2,
         "tomultiset": 1,
         "union": 0,
         "modify": 0,
         "bgp": 2,
         "values": 0,
         "groupBy": 1,
         "slice": 0,
         "triples": 5,
         "offset": 0,
         "extend": 16,
         "filter_not_exists": 0,
         "leftJoin": 0,
         "minus": 0,
         "notexist": 0,
         "sample": 1,
         "count": 0,
         "having": 2,
         "pathWithStar": 0,
         "pathWithPlus": 0,
         "pathWithQuestionMark": 0,
         "pathWithInv": 0,
         "pathWithSequence": 0,
         "pathWithAlternative": 0,
         "complexPathWith": 0,
         "simplePathWith": 0,
         "file_path": "data/parsed/I1_status500_Joined.parsed.tsv",
         "interval": 1,
         "has_variable": true,
         "has_filter": true,
         "has_orderby": false,
         "has_limit": false,
         "has_select": true,
         "has_distinct": false,
         "has_modify": false,
         "has_tomultiset": true,
         "has_join": true,
         "has_bgp": true,
         "has_project": true,
         "has_union": false,
         "has_values": false,
         "has_slice": false,
         "has_offset": false,
         "_deepnote_index_column": 3
        },
        {
         "anonymizedQuery": "SELECT%28+COUNT+%28*+%29+AS++%3Fvar1++%29+%3Fvar2++%3Fvar3Label++%3Fvar4++%3Fvar5Label++%3Fvar6++%3…",
         "timestamp": "2017-06-12 00:49:05",
         "sourceCategory": "organic",
         "user_agent": "browser",
         "var_cpt": 31,
         "filter": 1,
         "orderby": 0,
         "limit": 0,
         "select": 1,
         "distinct": 0,
         "join": 6,
         "project": 2,
         "tomultiset": 1,
         "union": 0,
         "modify": 0,
         "bgp": 2,
         "values": 0,
         "groupBy": 1,
         "slice": 0,
         "triples": 5,
         "offset": 0,
         "extend": 17,
         "filter_not_exists": 0,
         "leftJoin": 0,
         "minus": 0,
         "notexist": 0,
         "sample": 1,
         "count": 0,
         "having": 1,
         "pathWithStar": 0,
         "pathWithPlus": 0,
         "pathWithQuestionMark": 0,
         "pathWithInv": 0,
         "pathWithSequence": 2,
         "pathWithAlternative": 0,
         "complexPathWith": 0,
         "simplePathWith": 2,
         "file_path": "data/parsed/I1_status500_Joined.parsed.tsv",
         "interval": 1,
         "has_variable": true,
         "has_filter": true,
         "has_orderby": false,
         "has_limit": false,
         "has_select": true,
         "has_distinct": false,
         "has_modify": false,
         "has_tomultiset": true,
         "has_join": true,
         "has_bgp": true,
         "has_project": true,
         "has_union": false,
         "has_values": false,
         "has_slice": false,
         "has_offset": false,
         "_deepnote_index_column": 4
        },
        {
         "anonymizedQuery": "SELECT%28+COUNT+%28*+%29+AS++%3Fvar1++%29+%3Fvar2++%3Fvar3Label++%3Fvar4++%3Fvar5Label++%3Fvar6++%3…",
         "timestamp": "2017-06-12 00:50:24",
         "sourceCategory": "organic",
         "user_agent": "browser",
         "var_cpt": 31,
         "filter": 1,
         "orderby": 0,
         "limit": 0,
         "select": 1,
         "distinct": 0,
         "join": 6,
         "project": 2,
         "tomultiset": 1,
         "union": 0,
         "modify": 0,
         "bgp": 2,
         "values": 0,
         "groupBy": 1,
         "slice": 0,
         "triples": 5,
         "offset": 0,
         "extend": 17,
         "filter_not_exists": 0,
         "leftJoin": 0,
         "minus": 0,
         "notexist": 0,
         "sample": 1,
         "count": 0,
         "having": 1,
         "pathWithStar": 0,
         "pathWithPlus": 0,
         "pathWithQuestionMark": 0,
         "pathWithInv": 0,
         "pathWithSequence": 2,
         "pathWithAlternative": 0,
         "complexPathWith": 0,
         "simplePathWith": 2,
         "file_path": "data/parsed/I1_status500_Joined.parsed.tsv",
         "interval": 1,
         "has_variable": true,
         "has_filter": true,
         "has_orderby": false,
         "has_limit": false,
         "has_select": true,
         "has_distinct": false,
         "has_modify": false,
         "has_tomultiset": true,
         "has_join": true,
         "has_bgp": true,
         "has_project": true,
         "has_union": false,
         "has_values": false,
         "has_slice": false,
         "has_offset": false,
         "_deepnote_index_column": 5
        },
        {
         "anonymizedQuery": "SELECT+%3Fvar1++%3Fvar1Label++%3Fvar2+%0AWHERE+%7B%0A++%3Fvar3++%3Chttp%3A%2F%2Fwww.wikidata.org%2F…",
         "timestamp": "2017-06-12 06:49:40",
         "sourceCategory": "organic",
         "user_agent": "browser",
         "var_cpt": 4,
         "filter": 0,
         "orderby": 0,
         "limit": 200,
         "select": 1,
         "distinct": 0,
         "join": 3,
         "project": 1,
         "tomultiset": 0,
         "union": 0,
         "modify": 0,
         "bgp": 1,
         "values": 0,
         "groupBy": 0,
         "slice": 1,
         "triples": 3,
         "offset": 0,
         "extend": 0,
         "filter_not_exists": 0,
         "leftJoin": 0,
         "minus": 0,
         "notexist": 0,
         "sample": 0,
         "count": 0,
         "having": 0,
         "pathWithStar": 0,
         "pathWithPlus": 0,
         "pathWithQuestionMark": 0,
         "pathWithInv": 0,
         "pathWithSequence": 0,
         "pathWithAlternative": 0,
         "complexPathWith": 0,
         "simplePathWith": 0,
         "file_path": "data/parsed/I1_status500_Joined.parsed.tsv",
         "interval": 1,
         "has_variable": true,
         "has_filter": false,
         "has_orderby": false,
         "has_limit": true,
         "has_select": true,
         "has_distinct": false,
         "has_modify": false,
         "has_tomultiset": false,
         "has_join": true,
         "has_bgp": true,
         "has_project": true,
         "has_union": false,
         "has_values": false,
         "has_slice": true,
         "has_offset": false,
         "_deepnote_index_column": 33
        },
        {
         "anonymizedQuery": "SELECT+%3Fvar1++%3Fvar1Label++%3Fvar2+%0AWHERE+%7B%0A++%3Fvar3++%3Chttp%3A%2F%2Fwww.wikidata.org%2F…",
         "timestamp": "2017-06-12 06:50:55",
         "sourceCategory": "organic",
         "user_agent": "browser",
         "var_cpt": 4,
         "filter": 0,
         "orderby": 0,
         "limit": 200,
         "select": 1,
         "distinct": 0,
         "join": 3,
         "project": 1,
         "tomultiset": 0,
         "union": 0,
         "modify": 0,
         "bgp": 1,
         "values": 0,
         "groupBy": 0,
         "slice": 1,
         "triples": 3,
         "offset": 0,
         "extend": 0,
         "filter_not_exists": 0,
         "leftJoin": 0,
         "minus": 0,
         "notexist": 0,
         "sample": 0,
         "count": 0,
         "having": 0,
         "pathWithStar": 0,
         "pathWithPlus": 0,
         "pathWithQuestionMark": 0,
         "pathWithInv": 0,
         "pathWithSequence": 0,
         "pathWithAlternative": 0,
         "complexPathWith": 0,
         "simplePathWith": 0,
         "file_path": "data/parsed/I1_status500_Joined.parsed.tsv",
         "interval": 1,
         "has_variable": true,
         "has_filter": false,
         "has_orderby": false,
         "has_limit": true,
         "has_select": true,
         "has_distinct": false,
         "has_modify": false,
         "has_tomultiset": false,
         "has_join": true,
         "has_bgp": true,
         "has_project": true,
         "has_union": false,
         "has_values": false,
         "has_slice": true,
         "has_offset": false,
         "_deepnote_index_column": 34
        },
        {
         "anonymizedQuery": "SELECT+%3Fvar1++%3Fvar1Label++%3Fvar2+%0AWHERE+%7B%0A++%3Fvar2++%3Chttp%3A%2F%2Fschema.org%2Fabout%…",
         "timestamp": "2017-06-12 06:53:22",
         "sourceCategory": "organic",
         "user_agent": "browser",
         "var_cpt": 4,
         "filter": 0,
         "orderby": 0,
         "limit": 200,
         "select": 1,
         "distinct": 0,
         "join": 3,
         "project": 1,
         "tomultiset": 0,
         "union": 0,
         "modify": 0,
         "bgp": 2,
         "values": 0,
         "groupBy": 0,
         "slice": 1,
         "triples": 3,
         "offset": 0,
         "extend": 0,
         "filter_not_exists": 0,
         "leftJoin": 0,
         "minus": 0,
         "notexist": 0,
         "sample": 0,
         "count": 0,
         "having": 0,
         "pathWithStar": 0,
         "pathWithPlus": 0,
         "pathWithQuestionMark": 0,
         "pathWithInv": 0,
         "pathWithSequence": 0,
         "pathWithAlternative": 0,
         "complexPathWith": 0,
         "simplePathWith": 0,
         "file_path": "data/parsed/I1_status500_Joined.parsed.tsv",
         "interval": 1,
         "has_variable": true,
         "has_filter": false,
         "has_orderby": false,
         "has_limit": true,
         "has_select": true,
         "has_distinct": false,
         "has_modify": false,
         "has_tomultiset": false,
         "has_join": true,
         "has_bgp": true,
         "has_project": true,
         "has_union": false,
         "has_values": false,
         "has_slice": true,
         "has_offset": false,
         "_deepnote_index_column": 35
        },
        {
         "anonymizedQuery": "SELECT+DISTINCT+%3Fvar1+%28++SAMPLE+%28+COALESCE+%28++%3Fvar2Label+%2C+%3Fvar3Label++%29++%29+AS++%…",
         "timestamp": "2017-06-12 07:13:51",
         "sourceCategory": "organic",
         "user_agent": "browser",
         "var_cpt": 19,
         "filter": 0,
         "orderby": 1,
         "limit": 0,
         "select": 1,
         "distinct": 1,
         "join": 4,
         "project": 1,
         "tomultiset": 0,
         "union": 0,
         "modify": 0,
         "bgp": 7,
         "values": 0,
         "groupBy": 1,
         "slice": 0,
         "triples": 10,
         "offset": 0,
         "extend": 5,
         "filter_not_exists": 0,
         "leftJoin": 6,
         "minus": 0,
         "notexist": 0,
         "sample": 1,
         "count": 0,
         "having": 4,
         "pathWithStar": 1,
         "pathWithPlus": 0,
         "pathWithQuestionMark": 0,
         "pathWithInv": 0,
         "pathWithSequence": 1,
         "pathWithAlternative": 0,
         "complexPathWith": 1,
         "simplePathWith": 1,
         "file_path": "data/parsed/I1_status500_Joined.parsed.tsv",
         "interval": 1,
         "has_variable": true,
         "has_filter": false,
         "has_orderby": true,
         "has_limit": false,
         "has_select": true,
         "has_distinct": true,
         "has_modify": false,
         "has_tomultiset": false,
         "has_join": true,
         "has_bgp": true,
         "has_project": true,
         "has_union": false,
         "has_values": false,
         "has_slice": false,
         "has_offset": false,
         "_deepnote_index_column": 37
        },
        {
         "anonymizedQuery": "SELECT+DISTINCT+%3Fvar1+%28++SAMPLE+%28+COALESCE+%28++%3Fvar2Label+%2C+%3Fvar3Label++%29++%29+AS++%…",
         "timestamp": "2017-06-12 07:15:17",
         "sourceCategory": "organic",
         "user_agent": "browser",
         "var_cpt": 18,
         "filter": 0,
         "orderby": 1,
         "limit": 0,
         "select": 1,
         "distinct": 1,
         "join": 4,
         "project": 1,
         "tomultiset": 0,
         "union": 0,
         "modify": 0,
         "bgp": 7,
         "values": 0,
         "groupBy": 1,
         "slice": 0,
         "triples": 10,
         "offset": 0,
         "extend": 5,
         "filter_not_exists": 0,
         "leftJoin": 6,
         "minus": 0,
         "notexist": 0,
         "sample": 1,
         "count": 0,
         "having": 4,
         "pathWithStar": 1,
         "pathWithPlus": 0,
         "pathWithQuestionMark": 0,
         "pathWithInv": 0,
         "pathWithSequence": 1,
         "pathWithAlternative": 0,
         "complexPathWith": 1,
         "simplePathWith": 1,
         "file_path": "data/parsed/I1_status500_Joined.parsed.tsv",
         "interval": 1,
         "has_variable": true,
         "has_filter": false,
         "has_orderby": true,
         "has_limit": false,
         "has_select": true,
         "has_distinct": true,
         "has_modify": false,
         "has_tomultiset": false,
         "has_join": true,
         "has_bgp": true,
         "has_project": true,
         "has_union": false,
         "has_values": false,
         "has_slice": false,
         "has_offset": false,
         "_deepnote_index_column": 38
        }
       ]
      },
      "text/plain": "                                                                                                                                                                                                                                                                                                                                                                                                                                                                                                                                                                                                                                                                                                                                                                                                                                                                                                                                                                                                                                                                                                                                                                                                                                                                                                                                                                                                                                                                                                                                                                                                                                                                                                                                                                                                                                                                                                                                                                                                                                                                                                                                                                                                                     anonymizedQuery  ... has_offset\n1       SELECT+%3Fvar1+%0AWHERE+%7B%0A++%3Fvar1++%3Chttp%3A%2F%2Fwww.w3.org%2F2004%2F02%2Fskos%2Fcore%23altLabel%3E++%3Fvar2+.%0A+FILTER+%28++%28++REGEX+%28++%3Fvar2+%2C+%22string1%22+%29++%29+%0A%29+.%0A%7D%0A                                                                                                                                                                                                                                                                                                                                                                                                                                                                                                                                                                                                                                                                                                                                                                                                                                                                                                                                                                                                                                                                                                                                                                                                                                                                                                                                                                                                                                                                                                                                                                                                                                                                                                                                                                                                                                                                                                                                                                                                                    ...  False    \n2       SELECT+%3Fvar1+%0AWHERE+%7B%0A++%3Fvar1+%28+%3Chttp%3A%2F%2Fwww.wikidata.org%2Fprop%2Fdirect%2FP279%3E+%7C+%3Chttp%3A%2F%2Fwww.wikidata.org%2Fprop%2Fdirect%2FP31%3E+%29+%3Fvar2+.%0A++%3Fvar1++%3Chttp%3A%2F%2Fwww.w3.org%2F2004%2F02%2Fskos%2Fcore%23altLabel%3E++%3Fvar3+.%0A+FILTER+%28++%28++REGEX+%28++%3Fvar3+%2C+%22string1%22+%29++%29+%0A%29+.%0A%7D%0A                                                                                                                                                                                                                                                                                                                                                                                                                                                                                                                                                                                                                                                                                                                                                                                                                                                                                                                                                                                                                                                                                                                                                                                                                                                                                                                                                                                                                                                                                                                                                                                                                                                                                                                                                                                                                                                             ...  False    \n3       SELECT%28+COUNT+%28*+%29+AS++%3Fvar1++%29+%3Fvar2++%3Fvar3Label++%3Fvar4++%3Fvar5Label++%3Fvar6++%3Fvar7Label++%3Fvar8++%3Fvar9Label+%0AWHERE+%7B%0A+SELECT%28++%3Fvar2++AS++%3Fvar10++%29+%3Fvar11++%3Fvar12Label++%3Fvar2++%3Fvar3Label++%3Fvar13++%3Fvar14Label++%3Fvar6++%3Fvar7Label++%3Fvar8++%3Fvar9Label+%0A+WHERE++%7B%0A+++BIND+%28++STRAFTER+%28++STR+%28++%3Fvar12++%29+%2C+%22%2Fentity%2F%22+%29++AS++%3Fvar11+%29.%0A+++BIND+%28++STRAFTER+%28++STR+%28++%3Fvar15++%29+%2C+%22%2Fdirect%2F%22+%29++AS++%3Fvar2+%29.%0A+++BIND+%28++STRAFTER+%28++STR+%28++%3Fvar14++%29+%2C+%22%2Fentity%2F%22+%29++AS++%3Fvar13+%29.%0A+++BIND+%28++STRAFTER+%28++STR+%28++%3Fvar7++%29+%2C+%22%2Fentity%2F%22+%29++AS++%3Fvar6+%29.%0A+++BIND+%28++STRAFTER+%28++STR+%28++%3Fvar9++%29+%2C+%22%2Fentity%2F%22+%29++AS++%3Fvar8+%29.%0A+++BIND+%28++STRAFTER+%28++STR+%28++%3Fvar16++%29+%2C+%22%2Fdirect%2F%22+%29++AS++%3Fvar4+%29.%0A+++%3Fvar12++%3Fvar15++%3Fvar14+.%0A+++%3Fvar12++%3Fvar16++%3Fvar7+.%0A+++%3Fvar14++%3Fvar16++%3Fvar9+.%0A+FILTER+%28+++%28+%28++%3Fvar15++%3D++%3Chttp%3A%2F%2Fwww.wikidata.org%2Fprop%2Fdirect%2FP36%3E++%29+%29+%0A%29+.%0A+FILTER+%28+++%28+%28++%3Fvar16++%3D++%3Chttp%3A%2F%2Fwww.wikidata.org%2Fprop%2Fdirect%2FP31%3E++%29+%29+%0A%29+.%0A+++%3Fvar3++%3Chttp%3A%2F%2Fwikiba.se%2Fontology%23directClaim%3E++%3Fvar15+.%0A+++%3Fvar5++%3Chttp%3A%2F%2Fwikiba.se%2Fontology%23directClaim%3E++%3Fvar16+.%0A++SERVICE++%3Chttp%3A%2F%2Fwikiba.se%2Fontology%23label%3E++++%7B%0A+++++%3Chttp%3A%2F%2Fwww.bigdata.com%2Frdf%23serviceParam%3E++%3Chttp%3A%2F%2Fwikiba.se%2Fontology%23language%3E++%22en%2Cfr%2Cde%2Cit%2Ces%22.%0A+++%7D%0A+%7D%0A%7D%0AGROUP+BY++%3Fvar2++%3Fvar3Label++%3Fvar4++%3Fvar5Label++%3Fvar6++%3Fvar7Label++%3Fvar8++%3Fvar9Label+%0A                                                                                                                                                                                                                                                                                                                                                                                                                ...  False    \n4       SELECT%28+COUNT+%28*+%29+AS++%3Fvar1++%29+%3Fvar2++%3Fvar3Label++%3Fvar4++%3Fvar5Label++%3Fvar6++%3Fvar7Label++%3Fvar8++%3Fvar9Label+%0AWHERE+%7B%0A+SELECT%28++%3Fvar2++AS++%3Fvar10++%29+%3Fvar11++%3Fvar12Label++%3Fvar2++%3Fvar3Label++%3Fvar13++%3Fvar14Label++%3Fvar6++%3Fvar7Label++%3Fvar8++%3Fvar9Label+%0A+WHERE++%7B%0A+++BIND+%28++%3Chttp%3A%2F%2Fwww.wikidata.org%2Fprop%2Fdirect%2FP31%3E++AS++%3Fvar15+%29.%0A+++BIND+%28++STRAFTER+%28++STR+%28++%3Fvar12++%29+%2C+%22%2Fentity%2F%22+%29++AS++%3Fvar11+%29.%0A+++BIND+%28++STRAFTER+%28++STR+%28++%3Fvar16++%29+%2C+%22%2Fdirect%2F%22+%29++AS++%3Fvar2+%29.%0A+++BIND+%28++STRAFTER+%28++STR+%28++%3Fvar14++%29+%2C+%22%2Fentity%2F%22+%29++AS++%3Fvar13+%29.%0A+++BIND+%28++STRAFTER+%28++STR+%28++%3Fvar7++%29+%2C+%22%2Fentity%2F%22+%29++AS++%3Fvar6+%29.%0A+++BIND+%28++STRAFTER+%28++STR+%28++%3Fvar9++%29+%2C+%22%2Fentity%2F%22+%29++AS++%3Fvar8+%29.%0A+++BIND+%28++STRAFTER+%28++STR+%28++%3Fvar15++%29+%2C+%22%2Fdirect%2F%22+%29++AS++%3Fvar4+%29.%0A+++%3Fvar12++%3Fvar16++%3Fvar14+.%0A+++%3Fvar12+%28+%3Chttp%3A%2F%2Fwww.wikidata.org%2Fprop%2Fdirect%2FP31%3E+%2F+%3Chttp%3A%2F%2Fwww.wikidata.org%2Fprop%2Fdirect%2FP279%3E+%29+%3Fvar7+.%0A+++%3Fvar14+%28+%3Chttp%3A%2F%2Fwww.wikidata.org%2Fprop%2Fdirect%2FP31%3E+%2F+%3Chttp%3A%2F%2Fwww.wikidata.org%2Fprop%2Fdirect%2FP279%3E+%29+%3Fvar9+.%0A+FILTER+%28+++%28+%28++%3Fvar16++%3D++%3Chttp%3A%2F%2Fwww.wikidata.org%2Fprop%2Fdirect%2FP36%3E++%29+%29+%0A%29+.%0A+++%3Fvar3++%3Chttp%3A%2F%2Fwikiba.se%2Fontology%23directClaim%3E++%3Fvar16+.%0A+++%3Fvar5++%3Chttp%3A%2F%2Fwikiba.se%2Fontology%23directClaim%3E++%3Fvar15+.%0A++SERVICE++%3Chttp%3A%2F%2Fwikiba.se%2Fontology%23label%3E++++%7B%0A+++++%3Chttp%3A%2F%2Fwww.bigdata.com%2Frdf%23serviceParam%3E++%3Chttp%3A%2F%2Fwikiba.se%2Fontology%23language%3E++%22en%2Cfr%2Cde%2Cit%2Ces%22.%0A+++%7D%0A+%7D%0A%7D%0AGROUP+BY++%3Fvar2++%3Fvar3Label++%3Fvar4++%3Fvar5Label++%3Fvar6++%3Fvar7Label++%3Fvar8++%3Fvar9Label+%0A                                                                                                                                                                                            ...  False    \n5       SELECT%28+COUNT+%28*+%29+AS++%3Fvar1++%29+%3Fvar2++%3Fvar3Label++%3Fvar4++%3Fvar5Label++%3Fvar6++%3Fvar7Label++%3Fvar8++%3Fvar9Label+%0AWHERE+%7B%0A+SELECT%28++%3Fvar2++AS++%3Fvar10++%29+%3Fvar11++%3Fvar12Label++%3Fvar2++%3Fvar3Label++%3Fvar13++%3Fvar14Label++%3Fvar6++%3Fvar7Label++%3Fvar8++%3Fvar9Label+%0A+WHERE++%7B%0A+++BIND+%28++%28++%3Chttp%3A%2F%2Fwww.wikidata.org%2Fprop%2Fdirect%2FP31%3E+%2F+%3Chttp%3A%2F%2Fwww.wikidata.org%2Fprop%2Fdirect%2FP279%3E++%29++AS++%3Fvar15+%29.%0A+++BIND+%28++STRAFTER+%28++STR+%28++%3Fvar12++%29+%2C+%22%2Fentity%2F%22+%29++AS++%3Fvar11+%29.%0A+++BIND+%28++STRAFTER+%28++STR+%28++%3Fvar16++%29+%2C+%22%2Fdirect%2F%22+%29++AS++%3Fvar2+%29.%0A+++BIND+%28++STRAFTER+%28++STR+%28++%3Fvar14++%29+%2C+%22%2Fentity%2F%22+%29++AS++%3Fvar13+%29.%0A+++BIND+%28++STRAFTER+%28++STR+%28++%3Fvar7++%29+%2C+%22%2Fentity%2F%22+%29++AS++%3Fvar6+%29.%0A+++BIND+%28++STRAFTER+%28++STR+%28++%3Fvar9++%29+%2C+%22%2Fentity%2F%22+%29++AS++%3Fvar8+%29.%0A+++BIND+%28++STRAFTER+%28++STR+%28++%3Fvar15++%29+%2C+%22%2Fdirect%2F%22+%29++AS++%3Fvar4+%29.%0A+++%3Fvar12++%3Fvar16++%3Fvar14+.%0A+++%3Fvar12+%28+%3Chttp%3A%2F%2Fwww.wikidata.org%2Fprop%2Fdirect%2FP31%3E+%2F+%3Chttp%3A%2F%2Fwww.wikidata.org%2Fprop%2Fdirect%2FP279%3E+%29+%3Fvar7+.%0A+++%3Fvar14+%28+%3Chttp%3A%2F%2Fwww.wikidata.org%2Fprop%2Fdirect%2FP31%3E+%2F+%3Chttp%3A%2F%2Fwww.wikidata.org%2Fprop%2Fdirect%2FP279%3E+%29+%3Fvar9+.%0A+FILTER+%28+++%28+%28++%3Fvar16++%3D++%3Chttp%3A%2F%2Fwww.wikidata.org%2Fprop%2Fdirect%2FP36%3E++%29+%29+%0A%29+.%0A+++%3Fvar3++%3Chttp%3A%2F%2Fwikiba.se%2Fontology%23directClaim%3E++%3Fvar16+.%0A+++%3Fvar5++%3Chttp%3A%2F%2Fwikiba.se%2Fontology%23directClaim%3E++%3Fvar15+.%0A++SERVICE++%3Chttp%3A%2F%2Fwikiba.se%2Fontology%23label%3E++++%7B%0A+++++%3Chttp%3A%2F%2Fwww.bigdata.com%2Frdf%23serviceParam%3E++%3Chttp%3A%2F%2Fwikiba.se%2Fontology%23language%3E++%22en%2Cfr%2Cde%2Cit%2Ces%22.%0A+++%7D%0A+%7D%0A%7D%0AGROUP+BY++%3Fvar2++%3Fvar3Label++%3Fvar4++%3Fvar5Label++%3Fvar6++%3Fvar7Label++%3Fvar8++%3Fvar9Label+%0A                                                                                                                   ...  False    \n33      SELECT+%3Fvar1++%3Fvar1Label++%3Fvar2+%0AWHERE+%7B%0A++%3Fvar3++%3Chttp%3A%2F%2Fwww.wikidata.org%2Fprop%2Fdirect%2FP31%3E++%3Chttp%3A%2F%2Fwww.wikidata.org%2Fentity%2FQ2095%3E+.%0A++%3Fvar2++%3Chttp%3A%2F%2Fschema.org%2Fabout%3E++%3Fvar1+%3B%0A+%3Chttp%3A%2F%2Fschema.org%2FisPartOf%3E++%3Chttps%3A%2F%2Fspecies.wikimedia.org%2F%3E+.%0A+SERVICE++%3Chttp%3A%2F%2Fwikiba.se%2Fontology%23label%3E+++%7B%0A++++%3Chttp%3A%2F%2Fwww.bigdata.com%2Frdf%23serviceParam%3E++%3Chttp%3A%2F%2Fwikiba.se%2Fontology%23language%3E++%22en%22.%0A++%7D%0A%7D%0ALIMIT+200%0A                                                                                                                                                                                                                                                                                                                                                                                                                                                                                                                                                                                                                                                                                                                                                                                                                                                                                                                                                                                                                                                                                                                                                                                                                                                                                                                                                                                                                                                                                                                                                                                                                                                     ...  False    \n34      SELECT+%3Fvar1++%3Fvar1Label++%3Fvar2+%0AWHERE+%7B%0A++%3Fvar3++%3Chttp%3A%2F%2Fwww.wikidata.org%2Fprop%2Fdirect%2FP31%3E++%3Chttp%3A%2F%2Fwww.wikidata.org%2Fentity%2FQ2095%3E+.%0A++%3Fvar2++%3Chttp%3A%2F%2Fschema.org%2Fabout%3E++%3Fvar1+%3B%0A+%3Chttp%3A%2F%2Fschema.org%2FisPartOf%3E++%3Chttps%3A%2F%2Fspecies.wikimedia.org%2F%3E+.%0A+SERVICE++%3Chttp%3A%2F%2Fwikiba.se%2Fontology%23label%3E+++%7B%0A++++%3Chttp%3A%2F%2Fwww.bigdata.com%2Frdf%23serviceParam%3E++%3Chttp%3A%2F%2Fwikiba.se%2Fontology%23language%3E++%22es%22.%0A++%7D%0A%7D%0ALIMIT+200%0A                                                                                                                                                                                                                                                                                                                                                                                                                                                                                                                                                                                                                                                                                                                                                                                                                                                                                                                                                                                                                                                                                                                                                                                                                                                                                                                                                                                                                                                                                                                                                                                                                                                     ...  False    \n35      SELECT+%3Fvar1++%3Fvar1Label++%3Fvar2+%0AWHERE+%7B%0A++%3Fvar2++%3Chttp%3A%2F%2Fschema.org%2Fabout%3E++%3Fvar1+%3B%0A+%3Chttp%3A%2F%2Fschema.org%2FisPartOf%3E++%3Chttps%3A%2F%2Fspecies.wikimedia.org%2F%3E+.%0A+SERVICE++%3Chttp%3A%2F%2Fwikiba.se%2Fontology%23label%3E+++%7B%0A++++%3Chttp%3A%2F%2Fwww.bigdata.com%2Frdf%23serviceParam%3E++%3Chttp%3A%2F%2Fwikiba.se%2Fontology%23language%3E++%22es%22.%0A++%7D%0A++%3Fvar3++%3Chttp%3A%2F%2Fwww.wikidata.org%2Fprop%2Fdirect%2FP31%3E++%3Chttp%3A%2F%2Fwww.wikidata.org%2Fentity%2FQ2095%3E+.%0A%7D%0ALIMIT+200%0A                                                                                                                                                                                                                                                                                                                                                                                                                                                                                                                                                                                                                                                                                                                                                                                                                                                                                                                                                                                                                                                                                                                                                                                                                                                                                                                                                                                                                                                                                                                                                                                                                                                     ...  False    \n37      SELECT+DISTINCT+%3Fvar1+%28++SAMPLE+%28+COALESCE+%28++%3Fvar2Label+%2C+%3Fvar3Label++%29++%29+AS++%3Fvar4++%29%28++SAMPLE+%28+COALESCE+%28++%3Fvar5Label+%2C+%3Fvar6Label++%29++%29+AS++%3Fvar7++%29%28++GROUP_CONCAT+%28++DISTINCT++%3Fvar8Label+%3B+SEPARATOR+%3D++%22%2C+%22+%29++AS++%3Fvar9++%29%28++GROUP_CONCAT+%28++DISTINCT++%3Fvar10Label+%3B+SEPARATOR+%3D++%22%2C+%22+%29++AS++%3Fvar11++%29%0AWHERE+%7B%0A++%3Fvar1+%28+%3Chttp%3A%2F%2Fwww.wikidata.org%2Fprop%2FP31%3E+%2F+%3Chttp%3A%2F%2Fwww.wikidata.org%2Fprop%2Fstatement%2FP31%3E+%29+%3Fvar7+.%0A++%3Fvar7++%3Chttp%3A%2F%2Fwww.wikidata.org%2Fprop%2Fdirect%2FP279%3E+*+%3Chttp%3A%2F%2Fwww.wikidata.org%2Fentity%2FQ341%3E+.%0A+OPTIONAL+%7B%0A++%3Fvar7++%3Chttp%3A%2F%2Fwww.w3.org%2F2000%2F01%2Frdf-schema%23label%3E++%3Fvar12Label+.%0A+FILTER+%28++%28+%28++LANG+%28++%3Fvar12Label++%29++%3D++%22en%22+%29+%29+%0A%29+.%0A+%7D%0A+OPTIONAL+%7B%0A++%3Fvar7++%3Chttp%3A%2F%2Fwww.w3.org%2F2000%2F01%2Frdf-schema%23label%3E++%3Fvar6Label+.%0A+%7D%0A+OPTIONAL+%7B%0A++%3Fvar1++%3Chttp%3A%2F%2Fwww.w3.org%2F2000%2F01%2Frdf-schema%23label%3E++%3Fvar2Label+.%0A+FILTER+%28++%28+%28++LANG+%28++%3Fvar2Label++%29++%3D++%22en%22+%29+%29+%0A%29+.%0A+%7D%0A+OPTIONAL+%7B%0A++%3Fvar1++%3Chttp%3A%2F%2Fwww.w3.org%2F2000%2F01%2Frdf-schema%23label%3E++%3Fvar3Label+.%0A+%7D%0A+OPTIONAL+%7B%0A++%3Fvar1++%3Chttp%3A%2F%2Fwww.wikidata.org%2Fprop%2Fdirect%2FP306%3E++%3Fvar13+.%0A++%3Fvar13++%3Chttp%3A%2F%2Fwww.w3.org%2F2000%2F01%2Frdf-schema%23label%3E++%3Fvar8Label+.%0A+FILTER+%28++%28+%28++LANG+%28++%3Fvar8Label++%29++%3D++%22en%22+%29+%29+%0A%29+.%0A+%7D%0A+OPTIONAL+%7B%0A++%3Fvar1++%3Chttp%3A%2F%2Fwww.wikidata.org%2Fprop%2Fdirect%2FP275%3E++%3Fvar14+.%0A++%3Fvar14++%3Chttp%3A%2F%2Fwww.w3.org%2F2000%2F01%2Frdf-schema%23label%3E++%3Fvar10Label+.%0A+FILTER+%28++%28+%28++LANG+%28++%3Fvar10Label++%29++%3D++%22en%22+%29+%29+%0A%29+.%0A+%7D%0A+SERVICE++%3Chttp%3A%2F%2Fwikiba.se%2Fontology%23label%3E+++%7B%0A++++%3Chttp%3A%2F%2Fwww.bigdata.com%2Frdf%23serviceParam%3E++%3Chttp%3A%2F%2Fwikiba.se%2Fontology%23language%3E++%22en%2Cen%22.%0A++%7D%0A%7D%0AGROUP+BY++%3Fvar1+%0AORDER+BY+ASC%28+%3Fvar4+%29%0A  ...  False    \n...                                                                                                                                                                                                                                                                                                                                                                                                                                                                                                                                                                                                                                                                                                                                                                                                                                                                                                                                                                                                                                                                                                                                                                                                                                                                                                                                                                                                                                                                                                                                                                                                                                                                                                                                                                                                                                                                                                                                                                                                                                                                                                                                                                                                                              ...  ...    ...    \n122804  SELECT+%3Fvar1++%3Fvar2Label++%3Fvar3+%0AWHERE+%7B%0A++%3Chttp%3A%2F%2Fwww.bigdata.com%2FqueryHints%23Query%3E++%3Chttp%3A%2F%2Fwww.bigdata.com%2FqueryHints%23optimizer%3E++%22None%22.%0A+%7B%0A++SELECT+DISTINCT+%3Fvar1+%0A++WHERE+++%7B%0A++++%3Fvar4++%3Fvar5++%3Chttp%3A%2F%2Fwww.wikidata.org%2Fentity%2FQ145%3E+.%0A++++%3Fvar1++%3Fvar6++%3Fvar5+.%0A++++%3Fvar1++%3Chttp%3A%2F%2Fwww.w3.org%2F1999%2F02%2F22-rdf-syntax-ns%23type%3E++%3Chttp%3A%2F%2Fwikiba.se%2Fontology%23Property%3E+.%0A++%7D%0A++LIMIT+100%0A+%7D%0A++%3Fvar1++%3Chttp%3A%2F%2Fwww.w3.org%2F2000%2F01%2Frdf-schema%23label%3E++%3Fvar2Label+.%0A++%3Fvar1++%3Chttp%3A%2F%2Fschema.org%2Fdescription%3E++%3Fvar3+.%0A+FILTER+%28++%28+%28++LANG+%28++%3Fvar2Label++%29++%3D++%22es%22+%29+%29+%0A%29+.%0A+FILTER+%28++%28+%28++LANG+%28++%3Fvar3++%29++%3D++%22es%22+%29+%29+%0A%29+.%0A%7D%0ALIMIT+100%0A                                                                                                                                                                                                                                                                                                                                                                                                                                                                                                                                                                                                                                                                                                                                                                                                                                                                                                                                                                                                                                                                                                                                                                                                                                                                                                                                    ...  False    \n122805  SELECT+%3Fvar1++%3Fvar2++%3Fvar3+%0AWHERE+%7B%0A++%3Fvar1++%3Chttp%3A%2F%2Fwww.wikidata.org%2Fprop%2Fdirect%2FP31%3E++%3Chttp%3A%2F%2Fwww.wikidata.org%2Fentity%2FQ5%3E+%3B%0A+%3Chttp%3A%2F%2Fwww.wikidata.org%2Fprop%2Fdirect%2FP21%3E++%3Chttp%3A%2F%2Fwww.wikidata.org%2Fentity%2FQ6581072%3E+%3B%0A+%3Chttp%3A%2F%2Fwww.wikidata.org%2Fprop%2Fdirect%2FP569%3E++%3Fvar4+.%0A+FILTER+%28++%28+%28++%3Fvar4++%3E%3D++%221921-01-01T00%3A00%3A00Z%22%5E%5E%3Chttp%3A%2F%2Fwww.w3.org%2F2001%2FXMLSchema%23dateTime%3E++%29+%29+%0A%29+.%0A++%3Fvar1++%3Chttp%3A%2F%2Fwikiba.se%2Fontology%23sitelinks%3E++%3Fvar3+.%0A++MINUS+++%7B%0A++++%3Fvar1++%3Chttp%3A%2F%2Fwww.wikidata.org%2Fprop%2Fdirect%2FP18%3E++%5B%5D+.%0A++%7D%0A++%3Fvar1++%3Chttp%3A%2F%2Fwww.w3.org%2F2000%2F01%2Frdf-schema%23label%3E++%3Fvar2+.%0A+FILTER+%28++%28+%28++LANG+%28++%3Fvar2++%29++%3D++%22en%22+%29+%29+%0A%29+.%0A%7D%0AGROUP+BY++%3Fvar1++%3Fvar2++%3Fvar3+%0AORDER+BY++DESC%28+%3Fvar3+%29%0ALIMIT+50%0A                                                                                                                                                                                                                                                                                                                                                                                                                                                                                                                                                                                                                                                                                                                                                                                                                                                                                                                                                                                                                                                                                                                                                                                                                             ...  False    \n122807  SELECT+%3Fvar1++%3Fvar2Label++%3Fvar3+%0AWHERE+%7B%0A++%3Chttp%3A%2F%2Fwww.bigdata.com%2FqueryHints%23Query%3E++%3Chttp%3A%2F%2Fwww.bigdata.com%2FqueryHints%23optimizer%3E++%22None%22.%0A+%7B%0A++SELECT+DISTINCT+%3Fvar1+%0A++WHERE+++%7B%0A++++%3Fvar4++%3Fvar5++%3Chttp%3A%2F%2Fwww.wikidata.org%2Fentity%2FQ33999%3E+.%0A++++%3Fvar1++%3Fvar6++%3Fvar5+.%0A++++%3Fvar1++%3Chttp%3A%2F%2Fwww.w3.org%2F1999%2F02%2F22-rdf-syntax-ns%23type%3E++%3Chttp%3A%2F%2Fwikiba.se%2Fontology%23Property%3E+.%0A++%7D%0A++LIMIT+100%0A+%7D%0A++%3Fvar1++%3Chttp%3A%2F%2Fwww.w3.org%2F2000%2F01%2Frdf-schema%23label%3E++%3Fvar2Label+.%0A++%3Fvar1++%3Chttp%3A%2F%2Fschema.org%2Fdescription%3E++%3Fvar3+.%0A+FILTER+%28++%28+%28++LANG+%28++%3Fvar2Label++%29++%3D++%22es%22+%29+%29+%0A%29+.%0A+FILTER+%28++%28+%28++LANG+%28++%3Fvar3++%29++%3D++%22es%22+%29+%29+%0A%29+.%0A%7D%0ALIMIT+100%0A                                                                                                                                                                                                                                                                                                                                                                                                                                                                                                                                                                                                                                                                                                                                                                                                                                                                                                                                                                                                                                                                                                                                                                                                                                                                                                                                  ...  False    \n122808  SELECT+%3Fvar1++%3Fvar2Label++%3Fvar3+%0AWHERE+%7B%0A++%3Chttp%3A%2F%2Fwww.bigdata.com%2FqueryHints%23Query%3E++%3Chttp%3A%2F%2Fwww.bigdata.com%2FqueryHints%23optimizer%3E++%22None%22.%0A+%7B%0A++SELECT+DISTINCT+%3Fvar1+%0A++WHERE+++%7B%0A++++%3Fvar4++%3Fvar5++%3Chttp%3A%2F%2Fwww.wikidata.org%2Fentity%2FQ33999%3E+.%0A++++%3Fvar1++%3Fvar6++%3Fvar5+.%0A++++%3Fvar1++%3Chttp%3A%2F%2Fwww.w3.org%2F1999%2F02%2F22-rdf-syntax-ns%23type%3E++%3Chttp%3A%2F%2Fwikiba.se%2Fontology%23Property%3E+.%0A++%7D%0A++LIMIT+100%0A+%7D%0A++%3Fvar1++%3Chttp%3A%2F%2Fwww.w3.org%2F2000%2F01%2Frdf-schema%23label%3E++%3Fvar2Label+.%0A++%3Fvar1++%3Chttp%3A%2F%2Fschema.org%2Fdescription%3E++%3Fvar3+.%0A+FILTER+%28++%28+%28++LANG+%28++%3Fvar2Label++%29++%3D++%22es%22+%29+%29+%0A%29+.%0A+FILTER+%28++%28+%28++LANG+%28++%3Fvar3++%29++%3D++%22es%22+%29+%29+%0A%29+.%0A%7D%0ALIMIT+100%0A                                                                                                                                                                                                                                                                                                                                                                                                                                                                                                                                                                                                                                                                                                                                                                                                                                                                                                                                                                                                                                                                                                                                                                                                                                                                                                                                  ...  False    \n122810  SELECT+%3Fvar1++%3Fvar2Label++%3Fvar3+%0AWHERE+%7B%0A++%3Chttp%3A%2F%2Fwww.bigdata.com%2FqueryHints%23Query%3E++%3Chttp%3A%2F%2Fwww.bigdata.com%2FqueryHints%23optimizer%3E++%22None%22.%0A+%7B%0A++SELECT+DISTINCT+%3Fvar1+%0A++WHERE+++%7B%0A++++%3Fvar4++%3Fvar5++%3Chttp%3A%2F%2Fwww.wikidata.org%2Fentity%2FQ145%3E+.%0A++++%3Fvar1++%3Fvar6++%3Fvar5+.%0A++++%3Fvar1++%3Chttp%3A%2F%2Fwww.w3.org%2F1999%2F02%2F22-rdf-syntax-ns%23type%3E++%3Chttp%3A%2F%2Fwikiba.se%2Fontology%23Property%3E+.%0A++%7D%0A++LIMIT+100%0A+%7D%0A++%3Fvar1++%3Chttp%3A%2F%2Fwww.w3.org%2F2000%2F01%2Frdf-schema%23label%3E++%3Fvar2Label+.%0A++%3Fvar1++%3Chttp%3A%2F%2Fschema.org%2Fdescription%3E++%3Fvar3+.%0A+FILTER+%28++%28+%28++LANG+%28++%3Fvar2Label++%29++%3D++%22es%22+%29+%29+%0A%29+.%0A+FILTER+%28++%28+%28++LANG+%28++%3Fvar3++%29++%3D++%22es%22+%29+%29+%0A%29+.%0A%7D%0ALIMIT+100%0A                                                                                                                                                                                                                                                                                                                                                                                                                                                                                                                                                                                                                                                                                                                                                                                                                                                                                                                                                                                                                                                                                                                                                                                                                                                                                                                                    ...  False    \n122812  SELECT+%3Fvar1+%0AWHERE+%7B%0A++%3Fvar1++%3Chttp%3A%2F%2Fwww.wikidata.org%2Fprop%2Fdirect%2FP31%3E++%3Chttp%3A%2F%2Fwww.wikidata.org%2Fentity%2FQ5%3E+.%0A++%3Fvar1++%3Chttp%3A%2F%2Fwww.wikidata.org%2Fprop%2Fdirect%2FP21%3E++%3Chttp%3A%2F%2Fwww.wikidata.org%2Fentity%2FQ6581072%3E+.%0A+OPTIONAL+%7B%0A++%3Fvar1++%3Chttp%3A%2F%2Fwww.w3.org%2F2000%2F01%2Frdf-schema%23label%3E++%3Fvar2+.%0A+FILTER+%28++%28+%28++LANG+%28++%3Fvar2++%29++%3D++%22es%22+%29+%29+%0A%29+.%0A+%7D%0A+OPTIONAL+%7B%0A++%3Fvar1++%3Chttp%3A%2F%2Fschema.org%2Fdescription%3E++%3Fvar3+.%0A+FILTER+%28++%28+%28++LANG+%28++%3Fvar3++%29++%3D++%22es%22+%29+%29+%0A%29+.%0A+%7D%0A+FILTER+%28++%28+%28++%3Fvar2++%3D++%3Fvar3++%29+%29+%0A%29+.%0A%7D%0ALIMIT+5%0A                                                                                                                                                                                                                                                                                                                                                                                                                                                                                                                                                                                                                                                                                                                                                                                                                                                                                                                                                                                                                                                                                                                                                                                                                                                                                                                                                                                                                                                                           ...  False    \n122813  SELECT+%3Fvar1+%0AWHERE+%7B%0A++%3Fvar1++%3Chttp%3A%2F%2Fwww.wikidata.org%2Fprop%2Fdirect%2FP31%3E++%3Chttp%3A%2F%2Fwww.wikidata.org%2Fentity%2FQ5%3E+.%0A++%3Fvar1++%3Chttp%3A%2F%2Fwww.wikidata.org%2Fprop%2Fdirect%2FP21%3E++%3Chttp%3A%2F%2Fwww.wikidata.org%2Fentity%2FQ6581072%3E+.%0A+OPTIONAL+%7B%0A++%3Fvar1++%3Chttp%3A%2F%2Fwww.w3.org%2F2000%2F01%2Frdf-schema%23label%3E++%3Fvar2+.%0A+FILTER+%28++%28+%28++LANG+%28++%3Fvar2++%29++%3D++%22es%22+%29+%29+%0A%29+.%0A+%7D%0A+OPTIONAL+%7B%0A++%3Fvar1++%3Chttp%3A%2F%2Fschema.org%2Fdescription%3E++%3Fvar3+.%0A+FILTER+%28++%28+%28++LANG+%28++%3Fvar3++%29++%3D++%22es%22+%29+%29+%0A%29+.%0A+%7D%0A+FILTER+%28++%28+%28++%3Fvar2++%3D++%3Fvar3++%29+%29+%0A%29+.%0A%7D%0ALIMIT+2%0A                                                                                                                                                                                                                                                                                                                                                                                                                                                                                                                                                                                                                                                                                                                                                                                                                                                                                                                                                                                                                                                                                                                                                                                                                                                                                                                                                                                                                                                                           ...  False    \n122817  SELECT+DISTINCT+%3Fvar1++%3Fvar1Label++%3Fvar2++%3Fvar2Label++%3Fvar3++%3Fvar4+%0AWHERE+%7B%0A++%3Fvar2+%28+%3Chttp%3A%2F%2Fwww.wikidata.org%2Fprop%2Fdirect%2FP31%3E+%2F+%3Chttp%3A%2F%2Fwww.wikidata.org%2Fprop%2Fdirect%2FP279%3E+*%29+%3Chttp%3A%2F%2Fwww.wikidata.org%2Fentity%2FQ515%3E+.%0A++%3Fvar1++%3Chttp%3A%2F%2Fwww.wikidata.org%2Fprop%2Fdirect%2FP31%3E++%3Chttp%3A%2F%2Fwww.wikidata.org%2Fentity%2FQ644371%3E+.%0A++%3Fvar1++%3Fvar5++%3Fvar2+.%0A++%3Fvar1++%3Chttp%3A%2F%2Fwww.wikidata.org%2Fprop%2Fdirect%2FP238%3E++%3Fvar3+.%0A+SERVICE++%3Chttp%3A%2F%2Fwikiba.se%2Fontology%23around%3E+++%7B%0A++++%3Fvar2++%3Chttp%3A%2F%2Fwww.wikidata.org%2Fprop%2Fdirect%2FP625%3E++%3Fvar6+.%0A++++%3Chttp%3A%2F%2Fwww.bigdata.com%2Frdf%23serviceParam%3E++%3Chttp%3A%2F%2Fwikiba.se%2Fontology%23center%3E++%22POINT%280+52%29%22%5E%5E%3Chttp%3A%2F%2Fwww.opengis.net%2Font%2Fgeosparql%23wktLiteral%3E+.%0A++++%3Chttp%3A%2F%2Fwww.bigdata.com%2Frdf%23serviceParam%3E++%3Chttp%3A%2F%2Fwikiba.se%2Fontology%23radius%3E++%22200%22.%0A++++%3Chttp%3A%2F%2Fwww.bigdata.com%2Frdf%23serviceParam%3E++%3Chttp%3A%2F%2Fwikiba.se%2Fontology%23distance%3E++%3Fvar7+.%0A++%7D%0A+SERVICE++%3Chttp%3A%2F%2Fwikiba.se%2Fontology%23label%3E+++%7B%0A++++%3Chttp%3A%2F%2Fwww.bigdata.com%2Frdf%23serviceParam%3E++%3Chttp%3A%2F%2Fwikiba.se%2Fontology%23language%3E++%22en%22.%0A++%7D%0A+OPTIONAL+%7B%0A++%3Fvar2++%3Chttp%3A%2F%2Fwww.wikidata.org%2Fprop%2Fdirect%2FP625%3E++%3Fvar4+.%0A+%7D%0A%7D%0AORDER+BY+ASC%28+%3Fvar7+%29%0ALIMIT+1%0A                                                                                                                                                                                                                                                                                                                                                                                                                                                                                                                                                                                                                                                                ...  False    \n122826  SELECT+%3Fvar1++%3Fvar2Label++%3Fvar1Label++%3Fvar3++%3Fvar4++%3Fvar4Label+%0AWHERE+%7B%0A++VALUES+%28++%3Fvar2++%29+%7B%0A+++%28++%3Chttp%3A%2F%2Fwww.wikidata.org%2Fentity%2FQ5608%3E++%29%0A++%7D%0A++%3Fvar1++%3Chttp%3A%2F%2Fwww.wikidata.org%2Fprop%2Fdirect%2FP175%3E++%3Fvar2+.%0A++%3Fvar1++%3Chttp%3A%2F%2Fwww.wikidata.org%2Fprop%2Fdirect%2FP577%3E++%3Fvar3+.%0A+SERVICE++%3Chttp%3A%2F%2Fwikiba.se%2Fontology%23label%3E+++%7B%0A++++%3Chttp%3A%2F%2Fwww.bigdata.com%2Frdf%23serviceParam%3E++%3Chttp%3A%2F%2Fwikiba.se%2Fontology%23language%3E++%22en%22.%0A++%7D%0A+OPTIONAL+%7B%0A++%3Fvar5++%3Chttp%3A%2F%2Fwww.wikidata.org%2Fprop%2Fdirect%2FP136%3E++%3Fvar4+.%0A+%7D%0A%7D%0A                                                                                                                                                                                                                                                                                                                                                                                                                                                                                                                                                                                                                                                                                                                                                                                                                                                                                                                                                                                                                                                                                                                                                                                                                                                                                                                                                                                                                                                                                                                          ...  False    \n\n[41476 rows x 54 columns]",
      "text/html": "<div>\n<style scoped>\n    .dataframe tbody tr th:only-of-type {\n        vertical-align: middle;\n    }\n\n    .dataframe tbody tr th {\n        vertical-align: top;\n    }\n\n    .dataframe thead th {\n        text-align: right;\n    }\n</style>\n<table border=\"1\" class=\"dataframe\">\n  <thead>\n    <tr style=\"text-align: right;\">\n      <th></th>\n      <th>anonymizedQuery</th>\n      <th>timestamp</th>\n      <th>sourceCategory</th>\n      <th>user_agent</th>\n      <th>var_cpt</th>\n      <th>filter</th>\n      <th>orderby</th>\n      <th>limit</th>\n      <th>select</th>\n      <th>distinct</th>\n      <th>join</th>\n      <th>project</th>\n      <th>tomultiset</th>\n      <th>union</th>\n      <th>modify</th>\n      <th>bgp</th>\n      <th>values</th>\n      <th>groupBy</th>\n      <th>slice</th>\n      <th>triples</th>\n      <th>offset</th>\n      <th>extend</th>\n      <th>filter_not_exists</th>\n      <th>leftJoin</th>\n      <th>minus</th>\n      <th>notexist</th>\n      <th>sample</th>\n      <th>count</th>\n      <th>having</th>\n      <th>pathWithStar</th>\n      <th>pathWithPlus</th>\n      <th>pathWithQuestionMark</th>\n      <th>pathWithInv</th>\n      <th>pathWithSequence</th>\n      <th>pathWithAlternative</th>\n      <th>complexPathWith</th>\n      <th>simplePathWith</th>\n      <th>file_path</th>\n      <th>interval</th>\n      <th>has_variable</th>\n      <th>has_filter</th>\n      <th>has_orderby</th>\n      <th>has_limit</th>\n      <th>has_select</th>\n      <th>has_distinct</th>\n      <th>has_modify</th>\n      <th>has_tomultiset</th>\n      <th>has_join</th>\n      <th>has_bgp</th>\n      <th>has_project</th>\n      <th>has_union</th>\n      <th>has_values</th>\n      <th>has_slice</th>\n      <th>has_offset</th>\n    </tr>\n  </thead>\n  <tbody>\n    <tr>\n      <th>1</th>\n      <td>SELECT+%3Fvar1+%0AWHERE+%7B%0A++%3Fvar1++%3Chttp%3A%2F%2Fwww.w3.org%2F2004%2F02%2Fskos%2Fcore%23altLabel%3E++%3Fvar2+.%0A+FILTER+%28++%28++REGEX+%28++%3Fvar2+%2C+%22string1%22+%29++%29+%0A%29+.%0A%7D%0A</td>\n      <td>2017-06-12 00:27:10</td>\n      <td>organic</td>\n      <td>browser</td>\n      <td>2</td>\n      <td>1</td>\n      <td>0</td>\n      <td>0</td>\n      <td>1</td>\n      <td>0</td>\n      <td>0</td>\n      <td>1</td>\n      <td>0</td>\n      <td>0</td>\n      <td>0</td>\n      <td>1</td>\n      <td>0</td>\n      <td>0</td>\n      <td>0</td>\n      <td>1</td>\n      <td>0</td>\n      <td>0</td>\n      <td>0</td>\n      <td>0</td>\n      <td>0</td>\n      <td>0</td>\n      <td>0</td>\n      <td>0</td>\n      <td>0</td>\n      <td>0</td>\n      <td>0</td>\n      <td>0</td>\n      <td>0</td>\n      <td>0</td>\n      <td>0</td>\n      <td>0</td>\n      <td>0</td>\n      <td>data/parsed/I1_status500_Joined.parsed.tsv</td>\n      <td>1</td>\n      <td>True</td>\n      <td>True</td>\n      <td>False</td>\n      <td>False</td>\n      <td>True</td>\n      <td>False</td>\n      <td>False</td>\n      <td>False</td>\n      <td>False</td>\n      <td>True</td>\n      <td>True</td>\n      <td>False</td>\n      <td>False</td>\n      <td>False</td>\n      <td>False</td>\n    </tr>\n    <tr>\n      <th>2</th>\n      <td>SELECT+%3Fvar1+%0AWHERE+%7B%0A++%3Fvar1+%28+%3Chttp%3A%2F%2Fwww.wikidata.org%2Fprop%2Fdirect%2FP279%3E+%7C+%3Chttp%3A%2F%2Fwww.wikidata.org%2Fprop%2Fdirect%2FP31%3E+%29+%3Fvar2+.%0A++%3Fvar1++%3Chttp%3A%2F%2Fwww.w3.org%2F2004%2F02%2Fskos%2Fcore%23altLabel%3E++%3Fvar3+.%0A+FILTER+%28++%28++REGEX+%28++%3Fvar3+%2C+%22string1%22+%29++%29+%0A%29+.%0A%7D%0A</td>\n      <td>2017-06-12 00:33:31</td>\n      <td>organic</td>\n      <td>browser</td>\n      <td>3</td>\n      <td>1</td>\n      <td>0</td>\n      <td>0</td>\n      <td>1</td>\n      <td>0</td>\n      <td>1</td>\n      <td>1</td>\n      <td>0</td>\n      <td>0</td>\n      <td>0</td>\n      <td>1</td>\n      <td>0</td>\n      <td>0</td>\n      <td>0</td>\n      <td>2</td>\n      <td>0</td>\n      <td>0</td>\n      <td>0</td>\n      <td>0</td>\n      <td>0</td>\n      <td>0</td>\n      <td>0</td>\n      <td>0</td>\n      <td>0</td>\n      <td>0</td>\n      <td>0</td>\n      <td>0</td>\n      <td>0</td>\n      <td>0</td>\n      <td>1</td>\n      <td>0</td>\n      <td>1</td>\n      <td>data/parsed/I1_status500_Joined.parsed.tsv</td>\n      <td>1</td>\n      <td>True</td>\n      <td>True</td>\n      <td>False</td>\n      <td>False</td>\n      <td>True</td>\n      <td>False</td>\n      <td>False</td>\n      <td>False</td>\n      <td>True</td>\n      <td>True</td>\n      <td>True</td>\n      <td>False</td>\n      <td>False</td>\n      <td>False</td>\n      <td>False</td>\n    </tr>\n    <tr>\n      <th>3</th>\n      <td>SELECT%28+COUNT+%28*+%29+AS++%3Fvar1++%29+%3Fvar2++%3Fvar3Label++%3Fvar4++%3Fvar5Label++%3Fvar6++%3Fvar7Label++%3Fvar8++%3Fvar9Label+%0AWHERE+%7B%0A+SELECT%28++%3Fvar2++AS++%3Fvar10++%29+%3Fvar11++%3Fvar12Label++%3Fvar2++%3Fvar3Label++%3Fvar13++%3Fvar14Label++%3Fvar6++%3Fvar7Label++%3Fvar8++%3Fvar9Label+%0A+WHERE++%7B%0A+++BIND+%28++STRAFTER+%28++STR+%28++%3Fvar12++%29+%2C+%22%2Fentity%2F%22+%29++AS++%3Fvar11+%29.%0A+++BIND+%28++STRAFTER+%28++STR+%28++%3Fvar15++%29+%2C+%22%2Fdirect%2F%22+%29++AS++%3Fvar2+%29.%0A+++BIND+%28++STRAFTER+%28++STR+%28++%3Fvar14++%29+%2C+%22%2Fentity%2F%22+%29++AS++%3Fvar13+%29.%0A+++BIND+%28++STRAFTER+%28++STR+%28++%3Fvar7++%29+%2C+%22%2Fentity%2F%22+%29++AS++%3Fvar6+%29.%0A+++BIND+%28++STRAFTER+%28++STR+%28++%3Fvar9++%29+%2C+%22%2Fentity%2F%22+%29++AS++%3Fvar8+%29.%0A+++BIND+%28++STRAFTER+%28++STR+%28++%3Fvar16++%29+%2C+%22%2Fdirect%2F%22+%29++AS++%3Fvar4+%29.%0A+++%3Fvar12++%3Fvar15++%3Fvar14+.%0A+++%3Fvar12++%3Fvar16++%3Fvar7+.%0A+++%3Fvar14++%3Fvar16++%3Fvar9+.%0A+FILTER+%28+++%28+%28++%3Fvar15++%3D++%3Chttp%3A%2F%2Fwww.wikidata.org%2Fprop%2Fdirect%2FP36%3E++%29+%29+%0A%29+.%0A+FILTER+%28+++%28+%28++%3Fvar16++%3D++%3Chttp%3A%2F%2Fwww.wikidata.org%2Fprop%2Fdirect%2FP31%3E++%29+%29+%0A%29+.%0A+++%3Fvar3++%3Chttp%3A%2F%2Fwikiba.se%2Fontology%23directClaim%3E++%3Fvar15+.%0A+++%3Fvar5++%3Chttp%3A%2F%2Fwikiba.se%2Fontology%23directClaim%3E++%3Fvar16+.%0A++SERVICE++%3Chttp%3A%2F%2Fwikiba.se%2Fontology%23label%3E++++%7B%0A+++++%3Chttp%3A%2F%2Fwww.bigdata.com%2Frdf%23serviceParam%3E++%3Chttp%3A%2F%2Fwikiba.se%2Fontology%23language%3E++%22en%2Cfr%2Cde%2Cit%2Ces%22.%0A+++%7D%0A+%7D%0A%7D%0AGROUP+BY++%3Fvar2++%3Fvar3Label++%3Fvar4++%3Fvar5Label++%3Fvar6++%3Fvar7Label++%3Fvar8++%3Fvar9Label+%0A</td>\n      <td>2017-06-12 00:40:53</td>\n      <td>organic</td>\n      <td>browser</td>\n      <td>31</td>\n      <td>1</td>\n      <td>0</td>\n      <td>0</td>\n      <td>1</td>\n      <td>0</td>\n      <td>6</td>\n      <td>2</td>\n      <td>1</td>\n      <td>0</td>\n      <td>0</td>\n      <td>2</td>\n      <td>0</td>\n      <td>1</td>\n      <td>0</td>\n      <td>5</td>\n      <td>0</td>\n      <td>16</td>\n      <td>0</td>\n      <td>0</td>\n      <td>0</td>\n      <td>0</td>\n      <td>1</td>\n      <td>0</td>\n      <td>2</td>\n      <td>0</td>\n      <td>0</td>\n      <td>0</td>\n      <td>0</td>\n      <td>0</td>\n      <td>0</td>\n      <td>0</td>\n      <td>0</td>\n      <td>data/parsed/I1_status500_Joined.parsed.tsv</td>\n      <td>1</td>\n      <td>True</td>\n      <td>True</td>\n      <td>False</td>\n      <td>False</td>\n      <td>True</td>\n      <td>False</td>\n      <td>False</td>\n      <td>True</td>\n      <td>True</td>\n      <td>True</td>\n      <td>True</td>\n      <td>False</td>\n      <td>False</td>\n      <td>False</td>\n      <td>False</td>\n    </tr>\n    <tr>\n      <th>4</th>\n      <td>SELECT%28+COUNT+%28*+%29+AS++%3Fvar1++%29+%3Fvar2++%3Fvar3Label++%3Fvar4++%3Fvar5Label++%3Fvar6++%3Fvar7Label++%3Fvar8++%3Fvar9Label+%0AWHERE+%7B%0A+SELECT%28++%3Fvar2++AS++%3Fvar10++%29+%3Fvar11++%3Fvar12Label++%3Fvar2++%3Fvar3Label++%3Fvar13++%3Fvar14Label++%3Fvar6++%3Fvar7Label++%3Fvar8++%3Fvar9Label+%0A+WHERE++%7B%0A+++BIND+%28++%3Chttp%3A%2F%2Fwww.wikidata.org%2Fprop%2Fdirect%2FP31%3E++AS++%3Fvar15+%29.%0A+++BIND+%28++STRAFTER+%28++STR+%28++%3Fvar12++%29+%2C+%22%2Fentity%2F%22+%29++AS++%3Fvar11+%29.%0A+++BIND+%28++STRAFTER+%28++STR+%28++%3Fvar16++%29+%2C+%22%2Fdirect%2F%22+%29++AS++%3Fvar2+%29.%0A+++BIND+%28++STRAFTER+%28++STR+%28++%3Fvar14++%29+%2C+%22%2Fentity%2F%22+%29++AS++%3Fvar13+%29.%0A+++BIND+%28++STRAFTER+%28++STR+%28++%3Fvar7++%29+%2C+%22%2Fentity%2F%22+%29++AS++%3Fvar6+%29.%0A+++BIND+%28++STRAFTER+%28++STR+%28++%3Fvar9++%29+%2C+%22%2Fentity%2F%22+%29++AS++%3Fvar8+%29.%0A+++BIND+%28++STRAFTER+%28++STR+%28++%3Fvar15++%29+%2C+%22%2Fdirect%2F%22+%29++AS++%3Fvar4+%29.%0A+++%3Fvar12++%3Fvar16++%3Fvar14+.%0A+++%3Fvar12+%28+%3Chttp%3A%2F%2Fwww.wikidata.org%2Fprop%2Fdirect%2FP31%3E+%2F+%3Chttp%3A%2F%2Fwww.wikidata.org%2Fprop%2Fdirect%2FP279%3E+%29+%3Fvar7+.%0A+++%3Fvar14+%28+%3Chttp%3A%2F%2Fwww.wikidata.org%2Fprop%2Fdirect%2FP31%3E+%2F+%3Chttp%3A%2F%2Fwww.wikidata.org%2Fprop%2Fdirect%2FP279%3E+%29+%3Fvar9+.%0A+FILTER+%28+++%28+%28++%3Fvar16++%3D++%3Chttp%3A%2F%2Fwww.wikidata.org%2Fprop%2Fdirect%2FP36%3E++%29+%29+%0A%29+.%0A+++%3Fvar3++%3Chttp%3A%2F%2Fwikiba.se%2Fontology%23directClaim%3E++%3Fvar16+.%0A+++%3Fvar5++%3Chttp%3A%2F%2Fwikiba.se%2Fontology%23directClaim%3E++%3Fvar15+.%0A++SERVICE++%3Chttp%3A%2F%2Fwikiba.se%2Fontology%23label%3E++++%7B%0A+++++%3Chttp%3A%2F%2Fwww.bigdata.com%2Frdf%23serviceParam%3E++%3Chttp%3A%2F%2Fwikiba.se%2Fontology%23language%3E++%22en%2Cfr%2Cde%2Cit%2Ces%22.%0A+++%7D%0A+%7D%0A%7D%0AGROUP+BY++%3Fvar2++%3Fvar3Label++%3Fvar4++%3Fvar5Label++%3Fvar6++%3Fvar7Label++%3Fvar8++%3Fvar9Label+%0A</td>\n      <td>2017-06-12 00:49:05</td>\n      <td>organic</td>\n      <td>browser</td>\n      <td>31</td>\n      <td>1</td>\n      <td>0</td>\n      <td>0</td>\n      <td>1</td>\n      <td>0</td>\n      <td>6</td>\n      <td>2</td>\n      <td>1</td>\n      <td>0</td>\n      <td>0</td>\n      <td>2</td>\n      <td>0</td>\n      <td>1</td>\n      <td>0</td>\n      <td>5</td>\n      <td>0</td>\n      <td>17</td>\n      <td>0</td>\n      <td>0</td>\n      <td>0</td>\n      <td>0</td>\n      <td>1</td>\n      <td>0</td>\n      <td>1</td>\n      <td>0</td>\n      <td>0</td>\n      <td>0</td>\n      <td>0</td>\n      <td>2</td>\n      <td>0</td>\n      <td>0</td>\n      <td>2</td>\n      <td>data/parsed/I1_status500_Joined.parsed.tsv</td>\n      <td>1</td>\n      <td>True</td>\n      <td>True</td>\n      <td>False</td>\n      <td>False</td>\n      <td>True</td>\n      <td>False</td>\n      <td>False</td>\n      <td>True</td>\n      <td>True</td>\n      <td>True</td>\n      <td>True</td>\n      <td>False</td>\n      <td>False</td>\n      <td>False</td>\n      <td>False</td>\n    </tr>\n    <tr>\n      <th>5</th>\n      <td>SELECT%28+COUNT+%28*+%29+AS++%3Fvar1++%29+%3Fvar2++%3Fvar3Label++%3Fvar4++%3Fvar5Label++%3Fvar6++%3Fvar7Label++%3Fvar8++%3Fvar9Label+%0AWHERE+%7B%0A+SELECT%28++%3Fvar2++AS++%3Fvar10++%29+%3Fvar11++%3Fvar12Label++%3Fvar2++%3Fvar3Label++%3Fvar13++%3Fvar14Label++%3Fvar6++%3Fvar7Label++%3Fvar8++%3Fvar9Label+%0A+WHERE++%7B%0A+++BIND+%28++%28++%3Chttp%3A%2F%2Fwww.wikidata.org%2Fprop%2Fdirect%2FP31%3E+%2F+%3Chttp%3A%2F%2Fwww.wikidata.org%2Fprop%2Fdirect%2FP279%3E++%29++AS++%3Fvar15+%29.%0A+++BIND+%28++STRAFTER+%28++STR+%28++%3Fvar12++%29+%2C+%22%2Fentity%2F%22+%29++AS++%3Fvar11+%29.%0A+++BIND+%28++STRAFTER+%28++STR+%28++%3Fvar16++%29+%2C+%22%2Fdirect%2F%22+%29++AS++%3Fvar2+%29.%0A+++BIND+%28++STRAFTER+%28++STR+%28++%3Fvar14++%29+%2C+%22%2Fentity%2F%22+%29++AS++%3Fvar13+%29.%0A+++BIND+%28++STRAFTER+%28++STR+%28++%3Fvar7++%29+%2C+%22%2Fentity%2F%22+%29++AS++%3Fvar6+%29.%0A+++BIND+%28++STRAFTER+%28++STR+%28++%3Fvar9++%29+%2C+%22%2Fentity%2F%22+%29++AS++%3Fvar8+%29.%0A+++BIND+%28++STRAFTER+%28++STR+%28++%3Fvar15++%29+%2C+%22%2Fdirect%2F%22+%29++AS++%3Fvar4+%29.%0A+++%3Fvar12++%3Fvar16++%3Fvar14+.%0A+++%3Fvar12+%28+%3Chttp%3A%2F%2Fwww.wikidata.org%2Fprop%2Fdirect%2FP31%3E+%2F+%3Chttp%3A%2F%2Fwww.wikidata.org%2Fprop%2Fdirect%2FP279%3E+%29+%3Fvar7+.%0A+++%3Fvar14+%28+%3Chttp%3A%2F%2Fwww.wikidata.org%2Fprop%2Fdirect%2FP31%3E+%2F+%3Chttp%3A%2F%2Fwww.wikidata.org%2Fprop%2Fdirect%2FP279%3E+%29+%3Fvar9+.%0A+FILTER+%28+++%28+%28++%3Fvar16++%3D++%3Chttp%3A%2F%2Fwww.wikidata.org%2Fprop%2Fdirect%2FP36%3E++%29+%29+%0A%29+.%0A+++%3Fvar3++%3Chttp%3A%2F%2Fwikiba.se%2Fontology%23directClaim%3E++%3Fvar16+.%0A+++%3Fvar5++%3Chttp%3A%2F%2Fwikiba.se%2Fontology%23directClaim%3E++%3Fvar15+.%0A++SERVICE++%3Chttp%3A%2F%2Fwikiba.se%2Fontology%23label%3E++++%7B%0A+++++%3Chttp%3A%2F%2Fwww.bigdata.com%2Frdf%23serviceParam%3E++%3Chttp%3A%2F%2Fwikiba.se%2Fontology%23language%3E++%22en%2Cfr%2Cde%2Cit%2Ces%22.%0A+++%7D%0A+%7D%0A%7D%0AGROUP+BY++%3Fvar2++%3Fvar3Label++%3Fvar4++%3Fvar5Label++%3Fvar6++%3Fvar7Label++%3Fvar8++%3Fvar9Label+%0A</td>\n      <td>2017-06-12 00:50:24</td>\n      <td>organic</td>\n      <td>browser</td>\n      <td>31</td>\n      <td>1</td>\n      <td>0</td>\n      <td>0</td>\n      <td>1</td>\n      <td>0</td>\n      <td>6</td>\n      <td>2</td>\n      <td>1</td>\n      <td>0</td>\n      <td>0</td>\n      <td>2</td>\n      <td>0</td>\n      <td>1</td>\n      <td>0</td>\n      <td>5</td>\n      <td>0</td>\n      <td>17</td>\n      <td>0</td>\n      <td>0</td>\n      <td>0</td>\n      <td>0</td>\n      <td>1</td>\n      <td>0</td>\n      <td>1</td>\n      <td>0</td>\n      <td>0</td>\n      <td>0</td>\n      <td>0</td>\n      <td>2</td>\n      <td>0</td>\n      <td>0</td>\n      <td>2</td>\n      <td>data/parsed/I1_status500_Joined.parsed.tsv</td>\n      <td>1</td>\n      <td>True</td>\n      <td>True</td>\n      <td>False</td>\n      <td>False</td>\n      <td>True</td>\n      <td>False</td>\n      <td>False</td>\n      <td>True</td>\n      <td>True</td>\n      <td>True</td>\n      <td>True</td>\n      <td>False</td>\n      <td>False</td>\n      <td>False</td>\n      <td>False</td>\n    </tr>\n    <tr>\n      <th>33</th>\n      <td>SELECT+%3Fvar1++%3Fvar1Label++%3Fvar2+%0AWHERE+%7B%0A++%3Fvar3++%3Chttp%3A%2F%2Fwww.wikidata.org%2Fprop%2Fdirect%2FP31%3E++%3Chttp%3A%2F%2Fwww.wikidata.org%2Fentity%2FQ2095%3E+.%0A++%3Fvar2++%3Chttp%3A%2F%2Fschema.org%2Fabout%3E++%3Fvar1+%3B%0A+%3Chttp%3A%2F%2Fschema.org%2FisPartOf%3E++%3Chttps%3A%2F%2Fspecies.wikimedia.org%2F%3E+.%0A+SERVICE++%3Chttp%3A%2F%2Fwikiba.se%2Fontology%23label%3E+++%7B%0A++++%3Chttp%3A%2F%2Fwww.bigdata.com%2Frdf%23serviceParam%3E++%3Chttp%3A%2F%2Fwikiba.se%2Fontology%23language%3E++%22en%22.%0A++%7D%0A%7D%0ALIMIT+200%0A</td>\n      <td>2017-06-12 06:49:40</td>\n      <td>organic</td>\n      <td>browser</td>\n      <td>4</td>\n      <td>0</td>\n      <td>0</td>\n      <td>200</td>\n      <td>1</td>\n      <td>0</td>\n      <td>3</td>\n      <td>1</td>\n      <td>0</td>\n      <td>0</td>\n      <td>0</td>\n      <td>1</td>\n      <td>0</td>\n      <td>0</td>\n      <td>1</td>\n      <td>3</td>\n      <td>0</td>\n      <td>0</td>\n      <td>0</td>\n      <td>0</td>\n      <td>0</td>\n      <td>0</td>\n      <td>0</td>\n      <td>0</td>\n      <td>0</td>\n      <td>0</td>\n      <td>0</td>\n      <td>0</td>\n      <td>0</td>\n      <td>0</td>\n      <td>0</td>\n      <td>0</td>\n      <td>0</td>\n      <td>data/parsed/I1_status500_Joined.parsed.tsv</td>\n      <td>1</td>\n      <td>True</td>\n      <td>False</td>\n      <td>False</td>\n      <td>True</td>\n      <td>True</td>\n      <td>False</td>\n      <td>False</td>\n      <td>False</td>\n      <td>True</td>\n      <td>True</td>\n      <td>True</td>\n      <td>False</td>\n      <td>False</td>\n      <td>True</td>\n      <td>False</td>\n    </tr>\n    <tr>\n      <th>34</th>\n      <td>SELECT+%3Fvar1++%3Fvar1Label++%3Fvar2+%0AWHERE+%7B%0A++%3Fvar3++%3Chttp%3A%2F%2Fwww.wikidata.org%2Fprop%2Fdirect%2FP31%3E++%3Chttp%3A%2F%2Fwww.wikidata.org%2Fentity%2FQ2095%3E+.%0A++%3Fvar2++%3Chttp%3A%2F%2Fschema.org%2Fabout%3E++%3Fvar1+%3B%0A+%3Chttp%3A%2F%2Fschema.org%2FisPartOf%3E++%3Chttps%3A%2F%2Fspecies.wikimedia.org%2F%3E+.%0A+SERVICE++%3Chttp%3A%2F%2Fwikiba.se%2Fontology%23label%3E+++%7B%0A++++%3Chttp%3A%2F%2Fwww.bigdata.com%2Frdf%23serviceParam%3E++%3Chttp%3A%2F%2Fwikiba.se%2Fontology%23language%3E++%22es%22.%0A++%7D%0A%7D%0ALIMIT+200%0A</td>\n      <td>2017-06-12 06:50:55</td>\n      <td>organic</td>\n      <td>browser</td>\n      <td>4</td>\n      <td>0</td>\n      <td>0</td>\n      <td>200</td>\n      <td>1</td>\n      <td>0</td>\n      <td>3</td>\n      <td>1</td>\n      <td>0</td>\n      <td>0</td>\n      <td>0</td>\n      <td>1</td>\n      <td>0</td>\n      <td>0</td>\n      <td>1</td>\n      <td>3</td>\n      <td>0</td>\n      <td>0</td>\n      <td>0</td>\n      <td>0</td>\n      <td>0</td>\n      <td>0</td>\n      <td>0</td>\n      <td>0</td>\n      <td>0</td>\n      <td>0</td>\n      <td>0</td>\n      <td>0</td>\n      <td>0</td>\n      <td>0</td>\n      <td>0</td>\n      <td>0</td>\n      <td>0</td>\n      <td>data/parsed/I1_status500_Joined.parsed.tsv</td>\n      <td>1</td>\n      <td>True</td>\n      <td>False</td>\n      <td>False</td>\n      <td>True</td>\n      <td>True</td>\n      <td>False</td>\n      <td>False</td>\n      <td>False</td>\n      <td>True</td>\n      <td>True</td>\n      <td>True</td>\n      <td>False</td>\n      <td>False</td>\n      <td>True</td>\n      <td>False</td>\n    </tr>\n    <tr>\n      <th>35</th>\n      <td>SELECT+%3Fvar1++%3Fvar1Label++%3Fvar2+%0AWHERE+%7B%0A++%3Fvar2++%3Chttp%3A%2F%2Fschema.org%2Fabout%3E++%3Fvar1+%3B%0A+%3Chttp%3A%2F%2Fschema.org%2FisPartOf%3E++%3Chttps%3A%2F%2Fspecies.wikimedia.org%2F%3E+.%0A+SERVICE++%3Chttp%3A%2F%2Fwikiba.se%2Fontology%23label%3E+++%7B%0A++++%3Chttp%3A%2F%2Fwww.bigdata.com%2Frdf%23serviceParam%3E++%3Chttp%3A%2F%2Fwikiba.se%2Fontology%23language%3E++%22es%22.%0A++%7D%0A++%3Fvar3++%3Chttp%3A%2F%2Fwww.wikidata.org%2Fprop%2Fdirect%2FP31%3E++%3Chttp%3A%2F%2Fwww.wikidata.org%2Fentity%2FQ2095%3E+.%0A%7D%0ALIMIT+200%0A</td>\n      <td>2017-06-12 06:53:22</td>\n      <td>organic</td>\n      <td>browser</td>\n      <td>4</td>\n      <td>0</td>\n      <td>0</td>\n      <td>200</td>\n      <td>1</td>\n      <td>0</td>\n      <td>3</td>\n      <td>1</td>\n      <td>0</td>\n      <td>0</td>\n      <td>0</td>\n      <td>2</td>\n      <td>0</td>\n      <td>0</td>\n      <td>1</td>\n      <td>3</td>\n      <td>0</td>\n      <td>0</td>\n      <td>0</td>\n      <td>0</td>\n      <td>0</td>\n      <td>0</td>\n      <td>0</td>\n      <td>0</td>\n      <td>0</td>\n      <td>0</td>\n      <td>0</td>\n      <td>0</td>\n      <td>0</td>\n      <td>0</td>\n      <td>0</td>\n      <td>0</td>\n      <td>0</td>\n      <td>data/parsed/I1_status500_Joined.parsed.tsv</td>\n      <td>1</td>\n      <td>True</td>\n      <td>False</td>\n      <td>False</td>\n      <td>True</td>\n      <td>True</td>\n      <td>False</td>\n      <td>False</td>\n      <td>False</td>\n      <td>True</td>\n      <td>True</td>\n      <td>True</td>\n      <td>False</td>\n      <td>False</td>\n      <td>True</td>\n      <td>False</td>\n    </tr>\n    <tr>\n      <th>37</th>\n      <td>SELECT+DISTINCT+%3Fvar1+%28++SAMPLE+%28+COALESCE+%28++%3Fvar2Label+%2C+%3Fvar3Label++%29++%29+AS++%3Fvar4++%29%28++SAMPLE+%28+COALESCE+%28++%3Fvar5Label+%2C+%3Fvar6Label++%29++%29+AS++%3Fvar7++%29%28++GROUP_CONCAT+%28++DISTINCT++%3Fvar8Label+%3B+SEPARATOR+%3D++%22%2C+%22+%29++AS++%3Fvar9++%29%28++GROUP_CONCAT+%28++DISTINCT++%3Fvar10Label+%3B+SEPARATOR+%3D++%22%2C+%22+%29++AS++%3Fvar11++%29%0AWHERE+%7B%0A++%3Fvar1+%28+%3Chttp%3A%2F%2Fwww.wikidata.org%2Fprop%2FP31%3E+%2F+%3Chttp%3A%2F%2Fwww.wikidata.org%2Fprop%2Fstatement%2FP31%3E+%29+%3Fvar7+.%0A++%3Fvar7++%3Chttp%3A%2F%2Fwww.wikidata.org%2Fprop%2Fdirect%2FP279%3E+*+%3Chttp%3A%2F%2Fwww.wikidata.org%2Fentity%2FQ341%3E+.%0A+OPTIONAL+%7B%0A++%3Fvar7++%3Chttp%3A%2F%2Fwww.w3.org%2F2000%2F01%2Frdf-schema%23label%3E++%3Fvar12Label+.%0A+FILTER+%28++%28+%28++LANG+%28++%3Fvar12Label++%29++%3D++%22en%22+%29+%29+%0A%29+.%0A+%7D%0A+OPTIONAL+%7B%0A++%3Fvar7++%3Chttp%3A%2F%2Fwww.w3.org%2F2000%2F01%2Frdf-schema%23label%3E++%3Fvar6Label+.%0A+%7D%0A+OPTIONAL+%7B%0A++%3Fvar1++%3Chttp%3A%2F%2Fwww.w3.org%2F2000%2F01%2Frdf-schema%23label%3E++%3Fvar2Label+.%0A+FILTER+%28++%28+%28++LANG+%28++%3Fvar2Label++%29++%3D++%22en%22+%29+%29+%0A%29+.%0A+%7D%0A+OPTIONAL+%7B%0A++%3Fvar1++%3Chttp%3A%2F%2Fwww.w3.org%2F2000%2F01%2Frdf-schema%23label%3E++%3Fvar3Label+.%0A+%7D%0A+OPTIONAL+%7B%0A++%3Fvar1++%3Chttp%3A%2F%2Fwww.wikidata.org%2Fprop%2Fdirect%2FP306%3E++%3Fvar13+.%0A++%3Fvar13++%3Chttp%3A%2F%2Fwww.w3.org%2F2000%2F01%2Frdf-schema%23label%3E++%3Fvar8Label+.%0A+FILTER+%28++%28+%28++LANG+%28++%3Fvar8Label++%29++%3D++%22en%22+%29+%29+%0A%29+.%0A+%7D%0A+OPTIONAL+%7B%0A++%3Fvar1++%3Chttp%3A%2F%2Fwww.wikidata.org%2Fprop%2Fdirect%2FP275%3E++%3Fvar14+.%0A++%3Fvar14++%3Chttp%3A%2F%2Fwww.w3.org%2F2000%2F01%2Frdf-schema%23label%3E++%3Fvar10Label+.%0A+FILTER+%28++%28+%28++LANG+%28++%3Fvar10Label++%29++%3D++%22en%22+%29+%29+%0A%29+.%0A+%7D%0A+SERVICE++%3Chttp%3A%2F%2Fwikiba.se%2Fontology%23label%3E+++%7B%0A++++%3Chttp%3A%2F%2Fwww.bigdata.com%2Frdf%23serviceParam%3E++%3Chttp%3A%2F%2Fwikiba.se%2Fontology%23language%3E++%22en%2Cen%22.%0A++%7D%0A%7D%0AGROUP+BY++%3Fvar1+%0AORDER+BY+ASC%28+%3Fvar4+%29%0A</td>\n      <td>2017-06-12 07:13:51</td>\n      <td>organic</td>\n      <td>browser</td>\n      <td>19</td>\n      <td>0</td>\n      <td>1</td>\n      <td>0</td>\n      <td>1</td>\n      <td>1</td>\n      <td>4</td>\n      <td>1</td>\n      <td>0</td>\n      <td>0</td>\n      <td>0</td>\n      <td>7</td>\n      <td>0</td>\n      <td>1</td>\n      <td>0</td>\n      <td>10</td>\n      <td>0</td>\n      <td>5</td>\n      <td>0</td>\n      <td>6</td>\n      <td>0</td>\n      <td>0</td>\n      <td>1</td>\n      <td>0</td>\n      <td>4</td>\n      <td>1</td>\n      <td>0</td>\n      <td>0</td>\n      <td>0</td>\n      <td>1</td>\n      <td>0</td>\n      <td>1</td>\n      <td>1</td>\n      <td>data/parsed/I1_status500_Joined.parsed.tsv</td>\n      <td>1</td>\n      <td>True</td>\n      <td>False</td>\n      <td>True</td>\n      <td>False</td>\n      <td>True</td>\n      <td>True</td>\n      <td>False</td>\n      <td>False</td>\n      <td>True</td>\n      <td>True</td>\n      <td>True</td>\n      <td>False</td>\n      <td>False</td>\n      <td>False</td>\n      <td>False</td>\n    </tr>\n    <tr>\n      <th>...</th>\n      <td>...</td>\n      <td>...</td>\n      <td>...</td>\n      <td>...</td>\n      <td>...</td>\n      <td>...</td>\n      <td>...</td>\n      <td>...</td>\n      <td>...</td>\n      <td>...</td>\n      <td>...</td>\n      <td>...</td>\n      <td>...</td>\n      <td>...</td>\n      <td>...</td>\n      <td>...</td>\n      <td>...</td>\n      <td>...</td>\n      <td>...</td>\n      <td>...</td>\n      <td>...</td>\n      <td>...</td>\n      <td>...</td>\n      <td>...</td>\n      <td>...</td>\n      <td>...</td>\n      <td>...</td>\n      <td>...</td>\n      <td>...</td>\n      <td>...</td>\n      <td>...</td>\n      <td>...</td>\n      <td>...</td>\n      <td>...</td>\n      <td>...</td>\n      <td>...</td>\n      <td>...</td>\n      <td>...</td>\n      <td>...</td>\n      <td>...</td>\n      <td>...</td>\n      <td>...</td>\n      <td>...</td>\n      <td>...</td>\n      <td>...</td>\n      <td>...</td>\n      <td>...</td>\n      <td>...</td>\n      <td>...</td>\n      <td>...</td>\n      <td>...</td>\n      <td>...</td>\n      <td>...</td>\n      <td>...</td>\n    </tr>\n    <tr>\n      <th>122804</th>\n      <td>SELECT+%3Fvar1++%3Fvar2Label++%3Fvar3+%0AWHERE+%7B%0A++%3Chttp%3A%2F%2Fwww.bigdata.com%2FqueryHints%23Query%3E++%3Chttp%3A%2F%2Fwww.bigdata.com%2FqueryHints%23optimizer%3E++%22None%22.%0A+%7B%0A++SELECT+DISTINCT+%3Fvar1+%0A++WHERE+++%7B%0A++++%3Fvar4++%3Fvar5++%3Chttp%3A%2F%2Fwww.wikidata.org%2Fentity%2FQ145%3E+.%0A++++%3Fvar1++%3Fvar6++%3Fvar5+.%0A++++%3Fvar1++%3Chttp%3A%2F%2Fwww.w3.org%2F1999%2F02%2F22-rdf-syntax-ns%23type%3E++%3Chttp%3A%2F%2Fwikiba.se%2Fontology%23Property%3E+.%0A++%7D%0A++LIMIT+100%0A+%7D%0A++%3Fvar1++%3Chttp%3A%2F%2Fwww.w3.org%2F2000%2F01%2Frdf-schema%23label%3E++%3Fvar2Label+.%0A++%3Fvar1++%3Chttp%3A%2F%2Fschema.org%2Fdescription%3E++%3Fvar3+.%0A+FILTER+%28++%28+%28++LANG+%28++%3Fvar2Label++%29++%3D++%22es%22+%29+%29+%0A%29+.%0A+FILTER+%28++%28+%28++LANG+%28++%3Fvar3++%29++%3D++%22es%22+%29+%29+%0A%29+.%0A%7D%0ALIMIT+100%0A</td>\n      <td>2018-03-25 21:55:15</td>\n      <td>organic</td>\n      <td>browser</td>\n      <td>6</td>\n      <td>1</td>\n      <td>0</td>\n      <td>100</td>\n      <td>1</td>\n      <td>1</td>\n      <td>5</td>\n      <td>2</td>\n      <td>1</td>\n      <td>0</td>\n      <td>0</td>\n      <td>3</td>\n      <td>0</td>\n      <td>0</td>\n      <td>2</td>\n      <td>6</td>\n      <td>0</td>\n      <td>0</td>\n      <td>0</td>\n      <td>0</td>\n      <td>0</td>\n      <td>0</td>\n      <td>0</td>\n      <td>0</td>\n      <td>2</td>\n      <td>0</td>\n      <td>0</td>\n      <td>0</td>\n      <td>0</td>\n      <td>0</td>\n      <td>0</td>\n      <td>0</td>\n      <td>0</td>\n      <td>data/parsed/I7_status500_Joined.parsed.tsv</td>\n      <td>7</td>\n      <td>True</td>\n      <td>True</td>\n      <td>False</td>\n      <td>True</td>\n      <td>True</td>\n      <td>True</td>\n      <td>False</td>\n      <td>True</td>\n      <td>True</td>\n      <td>True</td>\n      <td>True</td>\n      <td>False</td>\n      <td>False</td>\n      <td>True</td>\n      <td>False</td>\n    </tr>\n    <tr>\n      <th>122805</th>\n      <td>SELECT+%3Fvar1++%3Fvar2++%3Fvar3+%0AWHERE+%7B%0A++%3Fvar1++%3Chttp%3A%2F%2Fwww.wikidata.org%2Fprop%2Fdirect%2FP31%3E++%3Chttp%3A%2F%2Fwww.wikidata.org%2Fentity%2FQ5%3E+%3B%0A+%3Chttp%3A%2F%2Fwww.wikidata.org%2Fprop%2Fdirect%2FP21%3E++%3Chttp%3A%2F%2Fwww.wikidata.org%2Fentity%2FQ6581072%3E+%3B%0A+%3Chttp%3A%2F%2Fwww.wikidata.org%2Fprop%2Fdirect%2FP569%3E++%3Fvar4+.%0A+FILTER+%28++%28+%28++%3Fvar4++%3E%3D++%221921-01-01T00%3A00%3A00Z%22%5E%5E%3Chttp%3A%2F%2Fwww.w3.org%2F2001%2FXMLSchema%23dateTime%3E++%29+%29+%0A%29+.%0A++%3Fvar1++%3Chttp%3A%2F%2Fwikiba.se%2Fontology%23sitelinks%3E++%3Fvar3+.%0A++MINUS+++%7B%0A++++%3Fvar1++%3Chttp%3A%2F%2Fwww.wikidata.org%2Fprop%2Fdirect%2FP18%3E++%5B%5D+.%0A++%7D%0A++%3Fvar1++%3Chttp%3A%2F%2Fwww.w3.org%2F2000%2F01%2Frdf-schema%23label%3E++%3Fvar2+.%0A+FILTER+%28++%28+%28++LANG+%28++%3Fvar2++%29++%3D++%22en%22+%29+%29+%0A%29+.%0A%7D%0AGROUP+BY++%3Fvar1++%3Fvar2++%3Fvar3+%0AORDER+BY++DESC%28+%3Fvar3+%29%0ALIMIT+50%0A</td>\n      <td>2018-03-25 22:08:09</td>\n      <td>organic</td>\n      <td>browser</td>\n      <td>7</td>\n      <td>1</td>\n      <td>1</td>\n      <td>50</td>\n      <td>1</td>\n      <td>0</td>\n      <td>4</td>\n      <td>1</td>\n      <td>0</td>\n      <td>0</td>\n      <td>0</td>\n      <td>3</td>\n      <td>0</td>\n      <td>1</td>\n      <td>1</td>\n      <td>6</td>\n      <td>0</td>\n      <td>3</td>\n      <td>0</td>\n      <td>0</td>\n      <td>1</td>\n      <td>0</td>\n      <td>1</td>\n      <td>0</td>\n      <td>2</td>\n      <td>0</td>\n      <td>0</td>\n      <td>0</td>\n      <td>0</td>\n      <td>0</td>\n      <td>0</td>\n      <td>0</td>\n      <td>0</td>\n      <td>data/parsed/I7_status500_Joined.parsed.tsv</td>\n      <td>7</td>\n      <td>True</td>\n      <td>True</td>\n      <td>True</td>\n      <td>True</td>\n      <td>True</td>\n      <td>False</td>\n      <td>False</td>\n      <td>False</td>\n      <td>True</td>\n      <td>True</td>\n      <td>True</td>\n      <td>False</td>\n      <td>False</td>\n      <td>True</td>\n      <td>False</td>\n    </tr>\n    <tr>\n      <th>122807</th>\n      <td>SELECT+%3Fvar1++%3Fvar2Label++%3Fvar3+%0AWHERE+%7B%0A++%3Chttp%3A%2F%2Fwww.bigdata.com%2FqueryHints%23Query%3E++%3Chttp%3A%2F%2Fwww.bigdata.com%2FqueryHints%23optimizer%3E++%22None%22.%0A+%7B%0A++SELECT+DISTINCT+%3Fvar1+%0A++WHERE+++%7B%0A++++%3Fvar4++%3Fvar5++%3Chttp%3A%2F%2Fwww.wikidata.org%2Fentity%2FQ33999%3E+.%0A++++%3Fvar1++%3Fvar6++%3Fvar5+.%0A++++%3Fvar1++%3Chttp%3A%2F%2Fwww.w3.org%2F1999%2F02%2F22-rdf-syntax-ns%23type%3E++%3Chttp%3A%2F%2Fwikiba.se%2Fontology%23Property%3E+.%0A++%7D%0A++LIMIT+100%0A+%7D%0A++%3Fvar1++%3Chttp%3A%2F%2Fwww.w3.org%2F2000%2F01%2Frdf-schema%23label%3E++%3Fvar2Label+.%0A++%3Fvar1++%3Chttp%3A%2F%2Fschema.org%2Fdescription%3E++%3Fvar3+.%0A+FILTER+%28++%28+%28++LANG+%28++%3Fvar2Label++%29++%3D++%22es%22+%29+%29+%0A%29+.%0A+FILTER+%28++%28+%28++LANG+%28++%3Fvar3++%29++%3D++%22es%22+%29+%29+%0A%29+.%0A%7D%0ALIMIT+100%0A</td>\n      <td>2018-03-25 22:23:54</td>\n      <td>organic</td>\n      <td>browser</td>\n      <td>6</td>\n      <td>1</td>\n      <td>0</td>\n      <td>100</td>\n      <td>1</td>\n      <td>1</td>\n      <td>5</td>\n      <td>2</td>\n      <td>1</td>\n      <td>0</td>\n      <td>0</td>\n      <td>3</td>\n      <td>0</td>\n      <td>0</td>\n      <td>2</td>\n      <td>6</td>\n      <td>0</td>\n      <td>0</td>\n      <td>0</td>\n      <td>0</td>\n      <td>0</td>\n      <td>0</td>\n      <td>0</td>\n      <td>0</td>\n      <td>2</td>\n      <td>0</td>\n      <td>0</td>\n      <td>0</td>\n      <td>0</td>\n      <td>0</td>\n      <td>0</td>\n      <td>0</td>\n      <td>0</td>\n      <td>data/parsed/I7_status500_Joined.parsed.tsv</td>\n      <td>7</td>\n      <td>True</td>\n      <td>True</td>\n      <td>False</td>\n      <td>True</td>\n      <td>True</td>\n      <td>True</td>\n      <td>False</td>\n      <td>True</td>\n      <td>True</td>\n      <td>True</td>\n      <td>True</td>\n      <td>False</td>\n      <td>False</td>\n      <td>True</td>\n      <td>False</td>\n    </tr>\n    <tr>\n      <th>122808</th>\n      <td>SELECT+%3Fvar1++%3Fvar2Label++%3Fvar3+%0AWHERE+%7B%0A++%3Chttp%3A%2F%2Fwww.bigdata.com%2FqueryHints%23Query%3E++%3Chttp%3A%2F%2Fwww.bigdata.com%2FqueryHints%23optimizer%3E++%22None%22.%0A+%7B%0A++SELECT+DISTINCT+%3Fvar1+%0A++WHERE+++%7B%0A++++%3Fvar4++%3Fvar5++%3Chttp%3A%2F%2Fwww.wikidata.org%2Fentity%2FQ33999%3E+.%0A++++%3Fvar1++%3Fvar6++%3Fvar5+.%0A++++%3Fvar1++%3Chttp%3A%2F%2Fwww.w3.org%2F1999%2F02%2F22-rdf-syntax-ns%23type%3E++%3Chttp%3A%2F%2Fwikiba.se%2Fontology%23Property%3E+.%0A++%7D%0A++LIMIT+100%0A+%7D%0A++%3Fvar1++%3Chttp%3A%2F%2Fwww.w3.org%2F2000%2F01%2Frdf-schema%23label%3E++%3Fvar2Label+.%0A++%3Fvar1++%3Chttp%3A%2F%2Fschema.org%2Fdescription%3E++%3Fvar3+.%0A+FILTER+%28++%28+%28++LANG+%28++%3Fvar2Label++%29++%3D++%22es%22+%29+%29+%0A%29+.%0A+FILTER+%28++%28+%28++LANG+%28++%3Fvar3++%29++%3D++%22es%22+%29+%29+%0A%29+.%0A%7D%0ALIMIT+100%0A</td>\n      <td>2018-03-25 22:23:59</td>\n      <td>organic</td>\n      <td>browser</td>\n      <td>6</td>\n      <td>1</td>\n      <td>0</td>\n      <td>100</td>\n      <td>1</td>\n      <td>1</td>\n      <td>5</td>\n      <td>2</td>\n      <td>1</td>\n      <td>0</td>\n      <td>0</td>\n      <td>3</td>\n      <td>0</td>\n      <td>0</td>\n      <td>2</td>\n      <td>6</td>\n      <td>0</td>\n      <td>0</td>\n      <td>0</td>\n      <td>0</td>\n      <td>0</td>\n      <td>0</td>\n      <td>0</td>\n      <td>0</td>\n      <td>2</td>\n      <td>0</td>\n      <td>0</td>\n      <td>0</td>\n      <td>0</td>\n      <td>0</td>\n      <td>0</td>\n      <td>0</td>\n      <td>0</td>\n      <td>data/parsed/I7_status500_Joined.parsed.tsv</td>\n      <td>7</td>\n      <td>True</td>\n      <td>True</td>\n      <td>False</td>\n      <td>True</td>\n      <td>True</td>\n      <td>True</td>\n      <td>False</td>\n      <td>True</td>\n      <td>True</td>\n      <td>True</td>\n      <td>True</td>\n      <td>False</td>\n      <td>False</td>\n      <td>True</td>\n      <td>False</td>\n    </tr>\n    <tr>\n      <th>122810</th>\n      <td>SELECT+%3Fvar1++%3Fvar2Label++%3Fvar3+%0AWHERE+%7B%0A++%3Chttp%3A%2F%2Fwww.bigdata.com%2FqueryHints%23Query%3E++%3Chttp%3A%2F%2Fwww.bigdata.com%2FqueryHints%23optimizer%3E++%22None%22.%0A+%7B%0A++SELECT+DISTINCT+%3Fvar1+%0A++WHERE+++%7B%0A++++%3Fvar4++%3Fvar5++%3Chttp%3A%2F%2Fwww.wikidata.org%2Fentity%2FQ145%3E+.%0A++++%3Fvar1++%3Fvar6++%3Fvar5+.%0A++++%3Fvar1++%3Chttp%3A%2F%2Fwww.w3.org%2F1999%2F02%2F22-rdf-syntax-ns%23type%3E++%3Chttp%3A%2F%2Fwikiba.se%2Fontology%23Property%3E+.%0A++%7D%0A++LIMIT+100%0A+%7D%0A++%3Fvar1++%3Chttp%3A%2F%2Fwww.w3.org%2F2000%2F01%2Frdf-schema%23label%3E++%3Fvar2Label+.%0A++%3Fvar1++%3Chttp%3A%2F%2Fschema.org%2Fdescription%3E++%3Fvar3+.%0A+FILTER+%28++%28+%28++LANG+%28++%3Fvar2Label++%29++%3D++%22es%22+%29+%29+%0A%29+.%0A+FILTER+%28++%28+%28++LANG+%28++%3Fvar3++%29++%3D++%22es%22+%29+%29+%0A%29+.%0A%7D%0ALIMIT+100%0A</td>\n      <td>2018-03-25 22:25:21</td>\n      <td>organic</td>\n      <td>browser</td>\n      <td>6</td>\n      <td>1</td>\n      <td>0</td>\n      <td>100</td>\n      <td>1</td>\n      <td>1</td>\n      <td>5</td>\n      <td>2</td>\n      <td>1</td>\n      <td>0</td>\n      <td>0</td>\n      <td>3</td>\n      <td>0</td>\n      <td>0</td>\n      <td>2</td>\n      <td>6</td>\n      <td>0</td>\n      <td>0</td>\n      <td>0</td>\n      <td>0</td>\n      <td>0</td>\n      <td>0</td>\n      <td>0</td>\n      <td>0</td>\n      <td>2</td>\n      <td>0</td>\n      <td>0</td>\n      <td>0</td>\n      <td>0</td>\n      <td>0</td>\n      <td>0</td>\n      <td>0</td>\n      <td>0</td>\n      <td>data/parsed/I7_status500_Joined.parsed.tsv</td>\n      <td>7</td>\n      <td>True</td>\n      <td>True</td>\n      <td>False</td>\n      <td>True</td>\n      <td>True</td>\n      <td>True</td>\n      <td>False</td>\n      <td>True</td>\n      <td>True</td>\n      <td>True</td>\n      <td>True</td>\n      <td>False</td>\n      <td>False</td>\n      <td>True</td>\n      <td>False</td>\n    </tr>\n    <tr>\n      <th>122812</th>\n      <td>SELECT+%3Fvar1+%0AWHERE+%7B%0A++%3Fvar1++%3Chttp%3A%2F%2Fwww.wikidata.org%2Fprop%2Fdirect%2FP31%3E++%3Chttp%3A%2F%2Fwww.wikidata.org%2Fentity%2FQ5%3E+.%0A++%3Fvar1++%3Chttp%3A%2F%2Fwww.wikidata.org%2Fprop%2Fdirect%2FP21%3E++%3Chttp%3A%2F%2Fwww.wikidata.org%2Fentity%2FQ6581072%3E+.%0A+OPTIONAL+%7B%0A++%3Fvar1++%3Chttp%3A%2F%2Fwww.w3.org%2F2000%2F01%2Frdf-schema%23label%3E++%3Fvar2+.%0A+FILTER+%28++%28+%28++LANG+%28++%3Fvar2++%29++%3D++%22es%22+%29+%29+%0A%29+.%0A+%7D%0A+OPTIONAL+%7B%0A++%3Fvar1++%3Chttp%3A%2F%2Fschema.org%2Fdescription%3E++%3Fvar3+.%0A+FILTER+%28++%28+%28++LANG+%28++%3Fvar3++%29++%3D++%22es%22+%29+%29+%0A%29+.%0A+%7D%0A+FILTER+%28++%28+%28++%3Fvar2++%3D++%3Fvar3++%29+%29+%0A%29+.%0A%7D%0ALIMIT+5%0A</td>\n      <td>2018-03-25 22:26:30</td>\n      <td>organic</td>\n      <td>browser</td>\n      <td>3</td>\n      <td>1</td>\n      <td>0</td>\n      <td>5</td>\n      <td>1</td>\n      <td>0</td>\n      <td>1</td>\n      <td>1</td>\n      <td>0</td>\n      <td>0</td>\n      <td>0</td>\n      <td>3</td>\n      <td>0</td>\n      <td>0</td>\n      <td>1</td>\n      <td>4</td>\n      <td>0</td>\n      <td>0</td>\n      <td>0</td>\n      <td>2</td>\n      <td>0</td>\n      <td>0</td>\n      <td>0</td>\n      <td>0</td>\n      <td>3</td>\n      <td>0</td>\n      <td>0</td>\n      <td>0</td>\n      <td>0</td>\n      <td>0</td>\n      <td>0</td>\n      <td>0</td>\n      <td>0</td>\n      <td>data/parsed/I7_status500_Joined.parsed.tsv</td>\n      <td>7</td>\n      <td>True</td>\n      <td>True</td>\n      <td>False</td>\n      <td>True</td>\n      <td>True</td>\n      <td>False</td>\n      <td>False</td>\n      <td>False</td>\n      <td>True</td>\n      <td>True</td>\n      <td>True</td>\n      <td>False</td>\n      <td>False</td>\n      <td>True</td>\n      <td>False</td>\n    </tr>\n    <tr>\n      <th>122813</th>\n      <td>SELECT+%3Fvar1+%0AWHERE+%7B%0A++%3Fvar1++%3Chttp%3A%2F%2Fwww.wikidata.org%2Fprop%2Fdirect%2FP31%3E++%3Chttp%3A%2F%2Fwww.wikidata.org%2Fentity%2FQ5%3E+.%0A++%3Fvar1++%3Chttp%3A%2F%2Fwww.wikidata.org%2Fprop%2Fdirect%2FP21%3E++%3Chttp%3A%2F%2Fwww.wikidata.org%2Fentity%2FQ6581072%3E+.%0A+OPTIONAL+%7B%0A++%3Fvar1++%3Chttp%3A%2F%2Fwww.w3.org%2F2000%2F01%2Frdf-schema%23label%3E++%3Fvar2+.%0A+FILTER+%28++%28+%28++LANG+%28++%3Fvar2++%29++%3D++%22es%22+%29+%29+%0A%29+.%0A+%7D%0A+OPTIONAL+%7B%0A++%3Fvar1++%3Chttp%3A%2F%2Fschema.org%2Fdescription%3E++%3Fvar3+.%0A+FILTER+%28++%28+%28++LANG+%28++%3Fvar3++%29++%3D++%22es%22+%29+%29+%0A%29+.%0A+%7D%0A+FILTER+%28++%28+%28++%3Fvar2++%3D++%3Fvar3++%29+%29+%0A%29+.%0A%7D%0ALIMIT+2%0A</td>\n      <td>2018-03-25 22:27:41</td>\n      <td>organic</td>\n      <td>browser</td>\n      <td>3</td>\n      <td>1</td>\n      <td>0</td>\n      <td>2</td>\n      <td>1</td>\n      <td>0</td>\n      <td>1</td>\n      <td>1</td>\n      <td>0</td>\n      <td>0</td>\n      <td>0</td>\n      <td>3</td>\n      <td>0</td>\n      <td>0</td>\n      <td>1</td>\n      <td>4</td>\n      <td>0</td>\n      <td>0</td>\n      <td>0</td>\n      <td>2</td>\n      <td>0</td>\n      <td>0</td>\n      <td>0</td>\n      <td>0</td>\n      <td>3</td>\n      <td>0</td>\n      <td>0</td>\n      <td>0</td>\n      <td>0</td>\n      <td>0</td>\n      <td>0</td>\n      <td>0</td>\n      <td>0</td>\n      <td>data/parsed/I7_status500_Joined.parsed.tsv</td>\n      <td>7</td>\n      <td>True</td>\n      <td>True</td>\n      <td>False</td>\n      <td>True</td>\n      <td>True</td>\n      <td>False</td>\n      <td>False</td>\n      <td>False</td>\n      <td>True</td>\n      <td>True</td>\n      <td>True</td>\n      <td>False</td>\n      <td>False</td>\n      <td>True</td>\n      <td>False</td>\n    </tr>\n    <tr>\n      <th>122817</th>\n      <td>SELECT+DISTINCT+%3Fvar1++%3Fvar1Label++%3Fvar2++%3Fvar2Label++%3Fvar3++%3Fvar4+%0AWHERE+%7B%0A++%3Fvar2+%28+%3Chttp%3A%2F%2Fwww.wikidata.org%2Fprop%2Fdirect%2FP31%3E+%2F+%3Chttp%3A%2F%2Fwww.wikidata.org%2Fprop%2Fdirect%2FP279%3E+*%29+%3Chttp%3A%2F%2Fwww.wikidata.org%2Fentity%2FQ515%3E+.%0A++%3Fvar1++%3Chttp%3A%2F%2Fwww.wikidata.org%2Fprop%2Fdirect%2FP31%3E++%3Chttp%3A%2F%2Fwww.wikidata.org%2Fentity%2FQ644371%3E+.%0A++%3Fvar1++%3Fvar5++%3Fvar2+.%0A++%3Fvar1++%3Chttp%3A%2F%2Fwww.wikidata.org%2Fprop%2Fdirect%2FP238%3E++%3Fvar3+.%0A+SERVICE++%3Chttp%3A%2F%2Fwikiba.se%2Fontology%23around%3E+++%7B%0A++++%3Fvar2++%3Chttp%3A%2F%2Fwww.wikidata.org%2Fprop%2Fdirect%2FP625%3E++%3Fvar6+.%0A++++%3Chttp%3A%2F%2Fwww.bigdata.com%2Frdf%23serviceParam%3E++%3Chttp%3A%2F%2Fwikiba.se%2Fontology%23center%3E++%22POINT%280+52%29%22%5E%5E%3Chttp%3A%2F%2Fwww.opengis.net%2Font%2Fgeosparql%23wktLiteral%3E+.%0A++++%3Chttp%3A%2F%2Fwww.bigdata.com%2Frdf%23serviceParam%3E++%3Chttp%3A%2F%2Fwikiba.se%2Fontology%23radius%3E++%22200%22.%0A++++%3Chttp%3A%2F%2Fwww.bigdata.com%2Frdf%23serviceParam%3E++%3Chttp%3A%2F%2Fwikiba.se%2Fontology%23distance%3E++%3Fvar7+.%0A++%7D%0A+SERVICE++%3Chttp%3A%2F%2Fwikiba.se%2Fontology%23label%3E+++%7B%0A++++%3Chttp%3A%2F%2Fwww.bigdata.com%2Frdf%23serviceParam%3E++%3Chttp%3A%2F%2Fwikiba.se%2Fontology%23language%3E++%22en%22.%0A++%7D%0A+OPTIONAL+%7B%0A++%3Fvar2++%3Chttp%3A%2F%2Fwww.wikidata.org%2Fprop%2Fdirect%2FP625%3E++%3Fvar4+.%0A+%7D%0A%7D%0AORDER+BY+ASC%28+%3Fvar7+%29%0ALIMIT+1%0A</td>\n      <td>2018-03-25 23:07:38</td>\n      <td>organic</td>\n      <td>browser</td>\n      <td>9</td>\n      <td>0</td>\n      <td>1</td>\n      <td>1</td>\n      <td>1</td>\n      <td>1</td>\n      <td>5</td>\n      <td>1</td>\n      <td>0</td>\n      <td>0</td>\n      <td>0</td>\n      <td>2</td>\n      <td>0</td>\n      <td>0</td>\n      <td>1</td>\n      <td>5</td>\n      <td>0</td>\n      <td>0</td>\n      <td>0</td>\n      <td>1</td>\n      <td>0</td>\n      <td>0</td>\n      <td>0</td>\n      <td>0</td>\n      <td>0</td>\n      <td>1</td>\n      <td>0</td>\n      <td>0</td>\n      <td>0</td>\n      <td>1</td>\n      <td>0</td>\n      <td>1</td>\n      <td>1</td>\n      <td>data/parsed/I7_status500_Joined.parsed.tsv</td>\n      <td>7</td>\n      <td>True</td>\n      <td>False</td>\n      <td>True</td>\n      <td>True</td>\n      <td>True</td>\n      <td>True</td>\n      <td>False</td>\n      <td>False</td>\n      <td>True</td>\n      <td>True</td>\n      <td>True</td>\n      <td>False</td>\n      <td>False</td>\n      <td>True</td>\n      <td>False</td>\n    </tr>\n    <tr>\n      <th>122826</th>\n      <td>SELECT+%3Fvar1++%3Fvar2Label++%3Fvar1Label++%3Fvar3++%3Fvar4++%3Fvar4Label+%0AWHERE+%7B%0A++VALUES+%28++%3Fvar2++%29+%7B%0A+++%28++%3Chttp%3A%2F%2Fwww.wikidata.org%2Fentity%2FQ5608%3E++%29%0A++%7D%0A++%3Fvar1++%3Chttp%3A%2F%2Fwww.wikidata.org%2Fprop%2Fdirect%2FP175%3E++%3Fvar2+.%0A++%3Fvar1++%3Chttp%3A%2F%2Fwww.wikidata.org%2Fprop%2Fdirect%2FP577%3E++%3Fvar3+.%0A+SERVICE++%3Chttp%3A%2F%2Fwikiba.se%2Fontology%23label%3E+++%7B%0A++++%3Chttp%3A%2F%2Fwww.bigdata.com%2Frdf%23serviceParam%3E++%3Chttp%3A%2F%2Fwikiba.se%2Fontology%23language%3E++%22en%22.%0A++%7D%0A+OPTIONAL+%7B%0A++%3Fvar5++%3Chttp%3A%2F%2Fwww.wikidata.org%2Fprop%2Fdirect%2FP136%3E++%3Fvar4+.%0A+%7D%0A%7D%0A</td>\n      <td>2018-03-25 23:34:02</td>\n      <td>organic</td>\n      <td>browser</td>\n      <td>8</td>\n      <td>0</td>\n      <td>0</td>\n      <td>0</td>\n      <td>1</td>\n      <td>0</td>\n      <td>3</td>\n      <td>1</td>\n      <td>1</td>\n      <td>0</td>\n      <td>0</td>\n      <td>2</td>\n      <td>1</td>\n      <td>0</td>\n      <td>0</td>\n      <td>3</td>\n      <td>0</td>\n      <td>0</td>\n      <td>0</td>\n      <td>1</td>\n      <td>0</td>\n      <td>0</td>\n      <td>0</td>\n      <td>0</td>\n      <td>0</td>\n      <td>0</td>\n      <td>0</td>\n      <td>0</td>\n      <td>0</td>\n      <td>0</td>\n      <td>0</td>\n      <td>0</td>\n      <td>0</td>\n      <td>data/parsed/I7_status500_Joined.parsed.tsv</td>\n      <td>7</td>\n      <td>True</td>\n      <td>False</td>\n      <td>False</td>\n      <td>False</td>\n      <td>True</td>\n      <td>False</td>\n      <td>False</td>\n      <td>True</td>\n      <td>True</td>\n      <td>True</td>\n      <td>True</td>\n      <td>False</td>\n      <td>True</td>\n      <td>False</td>\n      <td>False</td>\n    </tr>\n  </tbody>\n</table>\n<p>41476 rows × 54 columns</p>\n</div>"
     },
     "metadata": {}
    }
   ]
  },
  {
   "cell_type": "code",
   "metadata": {
    "collapsed": false,
    "pycharm": {
     "name": "#%%\n"
    },
    "cell_id": "00014-ae98f918-80c3-454f-9ac9-7310244413ff",
    "deepnote_to_be_reexecuted": false,
    "source_hash": "1e31179e",
    "execution_start": 1645781086871,
    "execution_millis": 0,
    "deepnote_cell_type": "code"
   },
   "source": "len(df_nona)\n",
   "execution_count": null,
   "outputs": [
    {
     "output_type": "execute_result",
     "execution_count": 8,
     "data": {
      "text/plain": "122832"
     },
     "metadata": {}
    }
   ]
  },
  {
   "cell_type": "code",
   "metadata": {
    "collapsed": false,
    "pycharm": {
     "name": "#%%\n"
    },
    "cell_id": "00015-7e3f4712-09f5-4e13-8923-30919feffa49",
    "deepnote_to_be_reexecuted": false,
    "source_hash": "247faa71",
    "execution_start": 1645781086882,
    "execution_millis": 492,
    "deepnote_cell_type": "code"
   },
   "source": "\ndata = dict()\nfor i in range(1,8):\n    df_nona_interval = df_nona[df_nona[\"interval\"] == i]\n    for type in [\"robotic\", \"organic\"]:\n        df_nona_interval_type = df_nona_interval[df_nona_interval[\"sourceCategory\"] == type]\n        \n        sumVariable = len(df_nona_interval_type[df_nona_interval_type[\"has_variable\"]==True])\n        sumFilter = len(df_nona_interval_type[df_nona_interval_type[\"has_filter\"]==True])\n        sumOrderBy = len(df_nona_interval_type[df_nona_interval_type[\"has_orderby\"]==True])\n        sumLimit = len(df_nona_interval_type[df_nona_interval_type[\"has_limit\"]==True])\n        sumSelect = len(df_nona_interval_type[df_nona_interval_type[\"has_select\"]==True])\n        sumDistinct = len(df_nona_interval_type[df_nona_interval_type[\"has_distinct\"]==True])\n        sumToMultiSet = len(df_nona_interval_type[df_nona_interval_type[\"has_tomultiset\"]==True])\n        sumJoin = len(df_nona_interval_type[df_nona_interval_type[\"has_join\"]==True])\n        sumBGP = len(df_nona_interval_type[df_nona_interval_type[\"has_bgp\"]==True])\n        sumproject = len(df_nona_interval_type[df_nona_interval_type[\"has_project\"]==True])\n        sumUnion = len(df_nona_interval_type[df_nona_interval_type[\"has_union\"]==True])\n        sumValues = len(df_nona_interval_type[df_nona_interval_type[\"has_values\"]==True])\n        sumSlice = len(df_nona_interval_type[df_nona_interval_type[\"has_slice\"]==True])\n        sumSlice = len(df_nona_interval_type[df_nona_interval_type[\"has_offset\"]==True])\n        sumOffset = len(df_nona_interval_type[df_nona_interval_type[\"has_offset\"]==True])\n\n        data['I' + str(i) + \" - \" + type] = [sumVariable,sumValues,sumFilter,sumOrderBy,sumLimit,sumSelect,sumDistinct,sumSlice, sumToMultiSet,sumJoin,sumBGP,sumproject,sumUnion, sumOffset]\n\ndpfr = pd.DataFrame(data=data, index=['Variable','Values','Filter','OrderBy','Limit','Select','Distinct','Slice', 'ToMultiSet','Join','BGP', 'project', 'Union',\"Offset\"])\ndpfr",
   "execution_count": null,
   "outputs": [
    {
     "output_type": "execute_result",
     "execution_count": 9,
     "data": {
      "application/vnd.deepnote.dataframe.v3+json": {
       "column_count": 14,
       "row_count": 14,
       "columns": [
        {
         "name": "I1 - robotic",
         "dtype": "int64",
         "stats": {
          "unique_count": 12,
          "nan_count": 0,
          "min": "65",
          "max": "7272",
          "histogram": [
           {
            "bin_start": 65,
            "bin_end": 785.7,
            "count": 5
           },
           {
            "bin_start": 785.7,
            "bin_end": 1506.4,
            "count": 1
           },
           {
            "bin_start": 1506.4,
            "bin_end": 2227.1000000000004,
            "count": 1
           },
           {
            "bin_start": 2227.1000000000004,
            "bin_end": 2947.8,
            "count": 1
           },
           {
            "bin_start": 2947.8,
            "bin_end": 3668.5,
            "count": 0
           },
           {
            "bin_start": 3668.5,
            "bin_end": 4389.200000000001,
            "count": 0
           },
           {
            "bin_start": 4389.200000000001,
            "bin_end": 5109.900000000001,
            "count": 1
           },
           {
            "bin_start": 5109.900000000001,
            "bin_end": 5830.6,
            "count": 0
           },
           {
            "bin_start": 5830.6,
            "bin_end": 6551.3,
            "count": 0
           },
           {
            "bin_start": 6551.3,
            "bin_end": 7272,
            "count": 5
           }
          ]
         }
        },
        {
         "name": "I1 - organic",
         "dtype": "int64",
         "stats": {
          "unique_count": 13,
          "nan_count": 0,
          "min": "10",
          "max": "3563",
          "histogram": [
           {
            "bin_start": 10,
            "bin_end": 365.3,
            "count": 5
           },
           {
            "bin_start": 365.3,
            "bin_end": 720.6,
            "count": 0
           },
           {
            "bin_start": 720.6,
            "bin_end": 1075.9,
            "count": 2
           },
           {
            "bin_start": 1075.9,
            "bin_end": 1431.2,
            "count": 2
           },
           {
            "bin_start": 1431.2,
            "bin_end": 1786.5,
            "count": 0
           },
           {
            "bin_start": 1786.5,
            "bin_end": 2141.8,
            "count": 0
           },
           {
            "bin_start": 2141.8,
            "bin_end": 2497.1,
            "count": 0
           },
           {
            "bin_start": 2497.1,
            "bin_end": 2852.4,
            "count": 0
           },
           {
            "bin_start": 2852.4,
            "bin_end": 3207.7000000000003,
            "count": 0
           },
           {
            "bin_start": 3207.7000000000003,
            "bin_end": 3563,
            "count": 5
           }
          ]
         }
        },
        {
         "name": "I2 - robotic",
         "dtype": "int64",
         "stats": {
          "unique_count": 12,
          "nan_count": 0,
          "min": "253",
          "max": "5372",
          "histogram": [
           {
            "bin_start": 253,
            "bin_end": 764.9,
            "count": 6
           },
           {
            "bin_start": 764.9,
            "bin_end": 1276.8,
            "count": 0
           },
           {
            "bin_start": 1276.8,
            "bin_end": 1788.6999999999998,
            "count": 0
           },
           {
            "bin_start": 1788.6999999999998,
            "bin_end": 2300.6,
            "count": 0
           },
           {
            "bin_start": 2300.6,
            "bin_end": 2812.5,
            "count": 1
           },
           {
            "bin_start": 2812.5,
            "bin_end": 3324.3999999999996,
            "count": 0
           },
           {
            "bin_start": 3324.3999999999996,
            "bin_end": 3836.2999999999997,
            "count": 1
           },
           {
            "bin_start": 3836.2999999999997,
            "bin_end": 4348.2,
            "count": 1
           },
           {
            "bin_start": 4348.2,
            "bin_end": 4860.099999999999,
            "count": 1
           },
           {
            "bin_start": 4860.099999999999,
            "bin_end": 5372,
            "count": 4
           }
          ]
         }
        },
        {
         "name": "I2 - organic",
         "dtype": "int64",
         "stats": {
          "unique_count": 13,
          "nan_count": 0,
          "min": "152",
          "max": "5559",
          "histogram": [
           {
            "bin_start": 152,
            "bin_end": 692.7,
            "count": 4
           },
           {
            "bin_start": 692.7,
            "bin_end": 1233.4,
            "count": 1
           },
           {
            "bin_start": 1233.4,
            "bin_end": 1774.1000000000001,
            "count": 1
           },
           {
            "bin_start": 1774.1000000000001,
            "bin_end": 2314.8,
            "count": 1
           },
           {
            "bin_start": 2314.8,
            "bin_end": 2855.5,
            "count": 2
           },
           {
            "bin_start": 2855.5,
            "bin_end": 3396.2000000000003,
            "count": 0
           },
           {
            "bin_start": 3396.2000000000003,
            "bin_end": 3936.9000000000005,
            "count": 0
           },
           {
            "bin_start": 3936.9000000000005,
            "bin_end": 4477.6,
            "count": 0
           },
           {
            "bin_start": 4477.6,
            "bin_end": 5018.3,
            "count": 0
           },
           {
            "bin_start": 5018.3,
            "bin_end": 5559,
            "count": 5
           }
          ]
         }
        },
        {
         "name": "I3 - robotic",
         "dtype": "int64",
         "stats": {
          "unique_count": 12,
          "nan_count": 0,
          "min": "426",
          "max": "11101",
          "histogram": [
           {
            "bin_start": 426,
            "bin_end": 1493.5,
            "count": 5
           },
           {
            "bin_start": 1493.5,
            "bin_end": 2561,
            "count": 0
           },
           {
            "bin_start": 2561,
            "bin_end": 3628.5,
            "count": 0
           },
           {
            "bin_start": 3628.5,
            "bin_end": 4696,
            "count": 2
           },
           {
            "bin_start": 4696,
            "bin_end": 5763.5,
            "count": 0
           },
           {
            "bin_start": 5763.5,
            "bin_end": 6831,
            "count": 2
           },
           {
            "bin_start": 6831,
            "bin_end": 7898.5,
            "count": 0
           },
           {
            "bin_start": 7898.5,
            "bin_end": 8966,
            "count": 0
           },
           {
            "bin_start": 8966,
            "bin_end": 10033.5,
            "count": 1
           },
           {
            "bin_start": 10033.5,
            "bin_end": 11101,
            "count": 4
           }
          ]
         }
        },
        {
         "name": "I3 - organic",
         "dtype": "int64",
         "stats": {
          "unique_count": 13,
          "nan_count": 0,
          "min": "41",
          "max": "5385",
          "histogram": [
           {
            "bin_start": 41,
            "bin_end": 575.4,
            "count": 4
           },
           {
            "bin_start": 575.4,
            "bin_end": 1109.8,
            "count": 0
           },
           {
            "bin_start": 1109.8,
            "bin_end": 1644.1999999999998,
            "count": 2
           },
           {
            "bin_start": 1644.1999999999998,
            "bin_end": 2178.6,
            "count": 1
           },
           {
            "bin_start": 2178.6,
            "bin_end": 2713,
            "count": 1
           },
           {
            "bin_start": 2713,
            "bin_end": 3247.3999999999996,
            "count": 1
           },
           {
            "bin_start": 3247.3999999999996,
            "bin_end": 3781.7999999999997,
            "count": 0
           },
           {
            "bin_start": 3781.7999999999997,
            "bin_end": 4316.2,
            "count": 0
           },
           {
            "bin_start": 4316.2,
            "bin_end": 4850.599999999999,
            "count": 0
           },
           {
            "bin_start": 4850.599999999999,
            "bin_end": 5385,
            "count": 5
           }
          ]
         }
        },
        {
         "name": "I4 - robotic",
         "dtype": "int64",
         "stats": {
          "unique_count": 11,
          "nan_count": 0,
          "min": "307",
          "max": "11097",
          "histogram": [
           {
            "bin_start": 307,
            "bin_end": 1386,
            "count": 3
           },
           {
            "bin_start": 1386,
            "bin_end": 2465,
            "count": 2
           },
           {
            "bin_start": 2465,
            "bin_end": 3544,
            "count": 2
           },
           {
            "bin_start": 3544,
            "bin_end": 4623,
            "count": 0
           },
           {
            "bin_start": 4623,
            "bin_end": 5702,
            "count": 1
           },
           {
            "bin_start": 5702,
            "bin_end": 6781,
            "count": 0
           },
           {
            "bin_start": 6781,
            "bin_end": 7860,
            "count": 0
           },
           {
            "bin_start": 7860,
            "bin_end": 8939,
            "count": 1
           },
           {
            "bin_start": 8939,
            "bin_end": 10018,
            "count": 0
           },
           {
            "bin_start": 10018,
            "bin_end": 11097,
            "count": 5
           }
          ]
         }
        },
        {
         "name": "I4 - organic",
         "dtype": "int64",
         "stats": {
          "unique_count": 13,
          "nan_count": 0,
          "min": "76",
          "max": "5785",
          "histogram": [
           {
            "bin_start": 76,
            "bin_end": 646.9,
            "count": 4
           },
           {
            "bin_start": 646.9,
            "bin_end": 1217.8,
            "count": 2
           },
           {
            "bin_start": 1217.8,
            "bin_end": 1788.6999999999998,
            "count": 1
           },
           {
            "bin_start": 1788.6999999999998,
            "bin_end": 2359.6,
            "count": 1
           },
           {
            "bin_start": 2359.6,
            "bin_end": 2930.5,
            "count": 0
           },
           {
            "bin_start": 2930.5,
            "bin_end": 3501.3999999999996,
            "count": 0
           },
           {
            "bin_start": 3501.3999999999996,
            "bin_end": 4072.2999999999997,
            "count": 1
           },
           {
            "bin_start": 4072.2999999999997,
            "bin_end": 4643.2,
            "count": 0
           },
           {
            "bin_start": 4643.2,
            "bin_end": 5214.099999999999,
            "count": 0
           },
           {
            "bin_start": 5214.099999999999,
            "bin_end": 5785,
            "count": 5
           }
          ]
         }
        },
        {
         "name": "I5 - robotic",
         "dtype": "int64",
         "stats": {
          "unique_count": 12,
          "nan_count": 0,
          "min": "214",
          "max": "13153",
          "histogram": [
           {
            "bin_start": 214,
            "bin_end": 1507.9,
            "count": 3
           },
           {
            "bin_start": 1507.9,
            "bin_end": 2801.8,
            "count": 2
           },
           {
            "bin_start": 2801.8,
            "bin_end": 4095.7000000000003,
            "count": 2
           },
           {
            "bin_start": 4095.7000000000003,
            "bin_end": 5389.6,
            "count": 1
           },
           {
            "bin_start": 5389.6,
            "bin_end": 6683.5,
            "count": 0
           },
           {
            "bin_start": 6683.5,
            "bin_end": 7977.400000000001,
            "count": 0
           },
           {
            "bin_start": 7977.400000000001,
            "bin_end": 9271.300000000001,
            "count": 0
           },
           {
            "bin_start": 9271.300000000001,
            "bin_end": 10565.2,
            "count": 0
           },
           {
            "bin_start": 10565.2,
            "bin_end": 11859.1,
            "count": 1
           },
           {
            "bin_start": 11859.1,
            "bin_end": 13153,
            "count": 5
           }
          ]
         }
        },
        {
         "name": "I5 - organic",
         "dtype": "int64",
         "stats": {
          "unique_count": 12,
          "nan_count": 0,
          "min": "28",
          "max": "6086",
          "histogram": [
           {
            "bin_start": 28,
            "bin_end": 633.8,
            "count": 4
           },
           {
            "bin_start": 633.8,
            "bin_end": 1239.6,
            "count": 0
           },
           {
            "bin_start": 1239.6,
            "bin_end": 1845.3999999999999,
            "count": 2
           },
           {
            "bin_start": 1845.3999999999999,
            "bin_end": 2451.2,
            "count": 1
           },
           {
            "bin_start": 2451.2,
            "bin_end": 3057,
            "count": 0
           },
           {
            "bin_start": 3057,
            "bin_end": 3662.7999999999997,
            "count": 1
           },
           {
            "bin_start": 3662.7999999999997,
            "bin_end": 4268.599999999999,
            "count": 1
           },
           {
            "bin_start": 4268.599999999999,
            "bin_end": 4874.4,
            "count": 0
           },
           {
            "bin_start": 4874.4,
            "bin_end": 5480.2,
            "count": 0
           },
           {
            "bin_start": 5480.2,
            "bin_end": 6086,
            "count": 5
           }
          ]
         }
        },
        {
         "name": "I6 - robotic",
         "dtype": "int64",
         "stats": {
          "unique_count": 11,
          "nan_count": 0,
          "min": "592",
          "max": "15839",
          "histogram": [
           {
            "bin_start": 592,
            "bin_end": 2116.7,
            "count": 3
           },
           {
            "bin_start": 2116.7,
            "bin_end": 3641.4,
            "count": 2
           },
           {
            "bin_start": 3641.4,
            "bin_end": 5166.1,
            "count": 1
           },
           {
            "bin_start": 5166.1,
            "bin_end": 6690.8,
            "count": 2
           },
           {
            "bin_start": 6690.8,
            "bin_end": 8215.5,
            "count": 0
           },
           {
            "bin_start": 8215.5,
            "bin_end": 9740.2,
            "count": 0
           },
           {
            "bin_start": 9740.2,
            "bin_end": 11264.9,
            "count": 0
           },
           {
            "bin_start": 11264.9,
            "bin_end": 12789.6,
            "count": 0
           },
           {
            "bin_start": 12789.6,
            "bin_end": 14314.300000000001,
            "count": 1
           },
           {
            "bin_start": 14314.300000000001,
            "bin_end": 15839,
            "count": 5
           }
          ]
         }
        },
        {
         "name": "I6 - organic",
         "dtype": "int64",
         "stats": {
          "unique_count": 13,
          "nan_count": 0,
          "min": "31",
          "max": "6995",
          "histogram": [
           {
            "bin_start": 31,
            "bin_end": 727.4,
            "count": 4
           },
           {
            "bin_start": 727.4,
            "bin_end": 1423.8,
            "count": 0
           },
           {
            "bin_start": 1423.8,
            "bin_end": 2120.2,
            "count": 1
           },
           {
            "bin_start": 2120.2,
            "bin_end": 2816.6,
            "count": 1
           },
           {
            "bin_start": 2816.6,
            "bin_end": 3513,
            "count": 2
           },
           {
            "bin_start": 3513,
            "bin_end": 4209.4,
            "count": 0
           },
           {
            "bin_start": 4209.4,
            "bin_end": 4905.8,
            "count": 1
           },
           {
            "bin_start": 4905.8,
            "bin_end": 5602.2,
            "count": 0
           },
           {
            "bin_start": 5602.2,
            "bin_end": 6298.599999999999,
            "count": 0
           },
           {
            "bin_start": 6298.599999999999,
            "bin_end": 6995,
            "count": 5
           }
          ]
         }
        },
        {
         "name": "I7 - robotic",
         "dtype": "int64",
         "stats": {
          "unique_count": 11,
          "nan_count": 0,
          "min": "90",
          "max": "17522",
          "histogram": [
           {
            "bin_start": 90,
            "bin_end": 1833.2,
            "count": 3
           },
           {
            "bin_start": 1833.2,
            "bin_end": 3576.4,
            "count": 1
           },
           {
            "bin_start": 3576.4,
            "bin_end": 5319.6,
            "count": 3
           },
           {
            "bin_start": 5319.6,
            "bin_end": 7062.8,
            "count": 0
           },
           {
            "bin_start": 7062.8,
            "bin_end": 8806,
            "count": 1
           },
           {
            "bin_start": 8806,
            "bin_end": 10549.2,
            "count": 0
           },
           {
            "bin_start": 10549.2,
            "bin_end": 12292.4,
            "count": 0
           },
           {
            "bin_start": 12292.4,
            "bin_end": 14035.6,
            "count": 1
           },
           {
            "bin_start": 14035.6,
            "bin_end": 15778.800000000001,
            "count": 0
           },
           {
            "bin_start": 15778.800000000001,
            "bin_end": 17522,
            "count": 5
           }
          ]
         }
        },
        {
         "name": "I7 - organic",
         "dtype": "int64",
         "stats": {
          "unique_count": 13,
          "nan_count": 0,
          "min": "66",
          "max": "8103",
          "histogram": [
           {
            "bin_start": 66,
            "bin_end": 869.7,
            "count": 4
           },
           {
            "bin_start": 869.7,
            "bin_end": 1673.4,
            "count": 0
           },
           {
            "bin_start": 1673.4,
            "bin_end": 2477.1000000000004,
            "count": 2
           },
           {
            "bin_start": 2477.1000000000004,
            "bin_end": 3280.8,
            "count": 0
           },
           {
            "bin_start": 3280.8,
            "bin_end": 4084.5,
            "count": 2
           },
           {
            "bin_start": 4084.5,
            "bin_end": 4888.200000000001,
            "count": 0
           },
           {
            "bin_start": 4888.200000000001,
            "bin_end": 5691.900000000001,
            "count": 1
           },
           {
            "bin_start": 5691.900000000001,
            "bin_end": 6495.6,
            "count": 0
           },
           {
            "bin_start": 6495.6,
            "bin_end": 7299.3,
            "count": 0
           },
           {
            "bin_start": 7299.3,
            "bin_end": 8103,
            "count": 5
           }
          ]
         }
        },
        {
         "name": "_deepnote_index_column",
         "dtype": "object"
        }
       ],
       "rows": [
        {
         "I1 - robotic": 7272,
         "I1 - organic": 3554,
         "I2 - robotic": 5372,
         "I2 - organic": 5554,
         "I3 - robotic": 11101,
         "I3 - organic": 5384,
         "I4 - robotic": 11097,
         "I4 - organic": 5782,
         "I5 - robotic": 13153,
         "I5 - organic": 6086,
         "I6 - robotic": 15839,
         "I6 - organic": 6993,
         "I7 - robotic": 17522,
         "I7 - organic": 8097,
         "_deepnote_index_column": "Variable"
        },
        {
         "I1 - robotic": 380,
         "I1 - organic": 90,
         "I2 - robotic": 253,
         "I2 - organic": 152,
         "I3 - robotic": 426,
         "I3 - organic": 294,
         "I4 - robotic": 1728,
         "I4 - organic": 144,
         "I5 - robotic": 1718,
         "I5 - organic": 155,
         "I6 - robotic": 2222,
         "I6 - organic": 297,
         "I7 - robotic": 2932,
         "I7 - organic": 265,
         "_deepnote_index_column": "Values"
        },
        {
         "I1 - robotic": 4756,
         "I1 - organic": 1376,
         "I2 - robotic": 4031,
         "I2 - organic": 2711,
         "I3 - robotic": 6537,
         "I3 - organic": 2630,
         "I4 - robotic": 8585,
         "I4 - organic": 2269,
         "I5 - robotic": 11309,
         "I5 - organic": 3174,
         "I6 - robotic": 12884,
         "I6 - organic": 3477,
         "I7 - robotic": 13774,
         "I7 - organic": 3896,
         "_deepnote_index_column": "Filter"
        },
        {
         "I1 - robotic": 1736,
         "I1 - organic": 962,
         "I2 - robotic": 2545,
         "I2 - organic": 1717,
         "I3 - robotic": 4461,
         "I3 - organic": 1581,
         "I4 - robotic": 3043,
         "I4 - organic": 1166,
         "I5 - robotic": 3398,
         "I5 - organic": 1438,
         "I6 - robotic": 4182,
         "I6 - organic": 1940,
         "I7 - robotic": 4139,
         "I7 - organic": 2435,
         "_deepnote_index_column": "OrderBy"
        },
        {
         "I1 - robotic": 2271,
         "I1 - organic": 1269,
         "I2 - robotic": 3584,
         "I2 - organic": 2604,
         "I3 - robotic": 5851,
         "I3 - organic": 2858,
         "I4 - robotic": 4850,
         "I4 - organic": 3831,
         "I5 - robotic": 4674,
         "I5 - organic": 3712,
         "I6 - robotic": 5454,
         "I6 - organic": 4278,
         "I7 - robotic": 4552,
         "I7 - organic": 4955,
         "_deepnote_index_column": "Limit"
        },
        {
         "I1 - robotic": 7271,
         "I1 - organic": 3543,
         "I2 - robotic": 5371,
         "I2 - organic": 5551,
         "I3 - robotic": 11086,
         "I3 - organic": 5375,
         "I4 - robotic": 11087,
         "I4 - organic": 5759,
         "I5 - robotic": 13148,
         "I5 - organic": 6069,
         "I6 - robotic": 15824,
         "I6 - organic": 6972,
         "I7 - robotic": 17509,
         "I7 - organic": 8033,
         "_deepnote_index_column": "Select"
        },
        {
         "I1 - robotic": 1083,
         "I1 - organic": 843,
         "I2 - robotic": 673,
         "I2 - organic": 1877,
         "I3 - robotic": 3798,
         "I3 - organic": 1863,
         "I4 - robotic": 3132,
         "I4 - organic": 1729,
         "I5 - robotic": 3790,
         "I5 - organic": 2319,
         "I6 - robotic": 5356,
         "I6 - organic": 2911,
         "I7 - robotic": 7444,
         "I7 - organic": 3465,
         "_deepnote_index_column": "Distinct"
        },
        {
         "I1 - robotic": 65,
         "I1 - organic": 10,
         "I2 - robotic": 364,
         "I2 - organic": 500,
         "I3 - robotic": 803,
         "I3 - organic": 41,
         "I4 - robotic": 718,
         "I4 - organic": 76,
         "I5 - robotic": 214,
         "I5 - organic": 28,
         "I6 - robotic": 592,
         "I6 - organic": 31,
         "I7 - robotic": 90,
         "I7 - organic": 66,
         "_deepnote_index_column": "Slice"
        },
        {
         "I1 - robotic": 642,
         "I1 - organic": 346,
         "I2 - robotic": 429,
         "I2 - organic": 1046,
         "I3 - robotic": 534,
         "I3 - organic": 1462,
         "I4 - robotic": 1849,
         "I4 - organic": 1110,
         "I5 - robotic": 1987,
         "I5 - organic": 1792,
         "I6 - robotic": 2691,
         "I6 - organic": 2137,
         "I7 - robotic": 3594,
         "I7 - organic": 2333,
         "_deepnote_index_column": "ToMultiSet"
        },
        {
         "I1 - robotic": 6686,
         "I1 - organic": 3217,
         "I2 - robotic": 4438,
         "I2 - organic": 5112,
         "I3 - robotic": 9297,
         "I3 - organic": 5035,
         "I4 - robotic": 10710,
         "I4 - organic": 5364,
         "I5 - robotic": 12458,
         "I5 - organic": 5727,
         "I6 - robotic": 14955,
         "I6 - organic": 6527,
         "I7 - robotic": 15889,
         "I7 - organic": 7604,
         "_deepnote_index_column": "Join"
        }
       ]
      },
      "text/plain": "            I1 - robotic  I1 - organic  ...  I7 - robotic  I7 - organic\nVariable    7272          3554          ...  17522         8097        \nValues      380           90            ...  2932          265         \nFilter      4756          1376          ...  13774         3896        \nOrderBy     1736          962           ...  4139          2435        \nLimit       2271          1269          ...  4552          4955        \nSelect      7271          3543          ...  17509         8033        \nDistinct    1083          843           ...  7444          3465        \nSlice       65            10            ...  90            66          \nToMultiSet  642           346           ...  3594          2333        \nJoin        6686          3217          ...  15889         7604        \nBGP         7254          3433          ...  17522         8058        \nproject     7272          3563          ...  17522         8103        \nUnion       167           207           ...  1669          310         \nOffset      65            10            ...  90            66          \n\n[14 rows x 14 columns]",
      "text/html": "<div>\n<style scoped>\n    .dataframe tbody tr th:only-of-type {\n        vertical-align: middle;\n    }\n\n    .dataframe tbody tr th {\n        vertical-align: top;\n    }\n\n    .dataframe thead th {\n        text-align: right;\n    }\n</style>\n<table border=\"1\" class=\"dataframe\">\n  <thead>\n    <tr style=\"text-align: right;\">\n      <th></th>\n      <th>I1 - robotic</th>\n      <th>I1 - organic</th>\n      <th>I2 - robotic</th>\n      <th>I2 - organic</th>\n      <th>I3 - robotic</th>\n      <th>I3 - organic</th>\n      <th>I4 - robotic</th>\n      <th>I4 - organic</th>\n      <th>I5 - robotic</th>\n      <th>I5 - organic</th>\n      <th>I6 - robotic</th>\n      <th>I6 - organic</th>\n      <th>I7 - robotic</th>\n      <th>I7 - organic</th>\n    </tr>\n  </thead>\n  <tbody>\n    <tr>\n      <th>Variable</th>\n      <td>7272</td>\n      <td>3554</td>\n      <td>5372</td>\n      <td>5554</td>\n      <td>11101</td>\n      <td>5384</td>\n      <td>11097</td>\n      <td>5782</td>\n      <td>13153</td>\n      <td>6086</td>\n      <td>15839</td>\n      <td>6993</td>\n      <td>17522</td>\n      <td>8097</td>\n    </tr>\n    <tr>\n      <th>Values</th>\n      <td>380</td>\n      <td>90</td>\n      <td>253</td>\n      <td>152</td>\n      <td>426</td>\n      <td>294</td>\n      <td>1728</td>\n      <td>144</td>\n      <td>1718</td>\n      <td>155</td>\n      <td>2222</td>\n      <td>297</td>\n      <td>2932</td>\n      <td>265</td>\n    </tr>\n    <tr>\n      <th>Filter</th>\n      <td>4756</td>\n      <td>1376</td>\n      <td>4031</td>\n      <td>2711</td>\n      <td>6537</td>\n      <td>2630</td>\n      <td>8585</td>\n      <td>2269</td>\n      <td>11309</td>\n      <td>3174</td>\n      <td>12884</td>\n      <td>3477</td>\n      <td>13774</td>\n      <td>3896</td>\n    </tr>\n    <tr>\n      <th>OrderBy</th>\n      <td>1736</td>\n      <td>962</td>\n      <td>2545</td>\n      <td>1717</td>\n      <td>4461</td>\n      <td>1581</td>\n      <td>3043</td>\n      <td>1166</td>\n      <td>3398</td>\n      <td>1438</td>\n      <td>4182</td>\n      <td>1940</td>\n      <td>4139</td>\n      <td>2435</td>\n    </tr>\n    <tr>\n      <th>Limit</th>\n      <td>2271</td>\n      <td>1269</td>\n      <td>3584</td>\n      <td>2604</td>\n      <td>5851</td>\n      <td>2858</td>\n      <td>4850</td>\n      <td>3831</td>\n      <td>4674</td>\n      <td>3712</td>\n      <td>5454</td>\n      <td>4278</td>\n      <td>4552</td>\n      <td>4955</td>\n    </tr>\n    <tr>\n      <th>Select</th>\n      <td>7271</td>\n      <td>3543</td>\n      <td>5371</td>\n      <td>5551</td>\n      <td>11086</td>\n      <td>5375</td>\n      <td>11087</td>\n      <td>5759</td>\n      <td>13148</td>\n      <td>6069</td>\n      <td>15824</td>\n      <td>6972</td>\n      <td>17509</td>\n      <td>8033</td>\n    </tr>\n    <tr>\n      <th>Distinct</th>\n      <td>1083</td>\n      <td>843</td>\n      <td>673</td>\n      <td>1877</td>\n      <td>3798</td>\n      <td>1863</td>\n      <td>3132</td>\n      <td>1729</td>\n      <td>3790</td>\n      <td>2319</td>\n      <td>5356</td>\n      <td>2911</td>\n      <td>7444</td>\n      <td>3465</td>\n    </tr>\n    <tr>\n      <th>Slice</th>\n      <td>65</td>\n      <td>10</td>\n      <td>364</td>\n      <td>500</td>\n      <td>803</td>\n      <td>41</td>\n      <td>718</td>\n      <td>76</td>\n      <td>214</td>\n      <td>28</td>\n      <td>592</td>\n      <td>31</td>\n      <td>90</td>\n      <td>66</td>\n    </tr>\n    <tr>\n      <th>ToMultiSet</th>\n      <td>642</td>\n      <td>346</td>\n      <td>429</td>\n      <td>1046</td>\n      <td>534</td>\n      <td>1462</td>\n      <td>1849</td>\n      <td>1110</td>\n      <td>1987</td>\n      <td>1792</td>\n      <td>2691</td>\n      <td>2137</td>\n      <td>3594</td>\n      <td>2333</td>\n    </tr>\n    <tr>\n      <th>Join</th>\n      <td>6686</td>\n      <td>3217</td>\n      <td>4438</td>\n      <td>5112</td>\n      <td>9297</td>\n      <td>5035</td>\n      <td>10710</td>\n      <td>5364</td>\n      <td>12458</td>\n      <td>5727</td>\n      <td>14955</td>\n      <td>6527</td>\n      <td>15889</td>\n      <td>7604</td>\n    </tr>\n    <tr>\n      <th>BGP</th>\n      <td>7254</td>\n      <td>3433</td>\n      <td>5359</td>\n      <td>5467</td>\n      <td>10640</td>\n      <td>5352</td>\n      <td>11097</td>\n      <td>5751</td>\n      <td>13151</td>\n      <td>6030</td>\n      <td>15839</td>\n      <td>6927</td>\n      <td>17522</td>\n      <td>8058</td>\n    </tr>\n    <tr>\n      <th>project</th>\n      <td>7272</td>\n      <td>3563</td>\n      <td>5372</td>\n      <td>5559</td>\n      <td>11101</td>\n      <td>5385</td>\n      <td>11097</td>\n      <td>5785</td>\n      <td>13153</td>\n      <td>6086</td>\n      <td>15839</td>\n      <td>6995</td>\n      <td>17522</td>\n      <td>8103</td>\n    </tr>\n    <tr>\n      <th>Union</th>\n      <td>167</td>\n      <td>207</td>\n      <td>292</td>\n      <td>346</td>\n      <td>476</td>\n      <td>390</td>\n      <td>307</td>\n      <td>158</td>\n      <td>485</td>\n      <td>216</td>\n      <td>1126</td>\n      <td>320</td>\n      <td>1669</td>\n      <td>310</td>\n    </tr>\n    <tr>\n      <th>Offset</th>\n      <td>65</td>\n      <td>10</td>\n      <td>364</td>\n      <td>500</td>\n      <td>803</td>\n      <td>41</td>\n      <td>718</td>\n      <td>76</td>\n      <td>214</td>\n      <td>28</td>\n      <td>592</td>\n      <td>31</td>\n      <td>90</td>\n      <td>66</td>\n    </tr>\n  </tbody>\n</table>\n</div>"
     },
     "metadata": {}
    }
   ]
  },
  {
   "cell_type": "markdown",
   "source": "### Top 10 with triples",
   "metadata": {
    "tags": [],
    "deepnote_cell_height": 114,
    "cell_id": "00016-907ab550-c267-421e-8431-01ee3d9197d1",
    "deepnote_cell_type": "markdown"
   }
  },
  {
   "cell_type": "code",
   "metadata": {
    "tags": [],
    "deepnote_to_be_reexecuted": false,
    "source_hash": "6c52bd4e",
    "execution_start": 1645781087375,
    "execution_millis": 270,
    "is_code_hidden": false,
    "is_output_hidden": false,
    "deepnote_output_heights": [
     322
    ],
    "deepnote_cell_height": 634,
    "cell_id": "00017-30edfa8b-dcad-4fd5-a68e-93d2f1da57df",
    "deepnote_cell_type": "code"
   },
   "source": "df_nona_sort_by_triples = df_nona.sort_values([\"triples\"],  ascending=[False])\ndf_nona_sort_by_triples_out = df_nona_sort_by_triples.head(10)\ndf_nona_sort_by_triples_out",
   "execution_count": null,
   "outputs": [
    {
     "output_type": "execute_result",
     "execution_count": 10,
     "data": {
      "application/vnd.deepnote.dataframe.v3+json": {
       "column_count": 54,
       "row_count": 10,
       "columns": [
        {
         "name": "anonymizedQuery",
         "dtype": "object",
         "stats": {
          "unique_count": 9,
          "nan_count": 0,
          "categories": [
           {
            "name": "SELECT+*%0AWHERE+%7B%0A++%3Fvar1++%3Chttp%3A%2F%2Fwww.wikidata.org%2Fprop%2Fdirect%2FP106%3E++%3Fvar2+.%0A++VALUES+%28++%3Fvar3++%29+%7B%0A+++%28++%3Chttp%3A%2F%2Fwww.wikidata.org%2Fentity%2FQ36180%3E++%29%0A+++%28++%3Chttp%3A%2F%2Fwww.wikidata.org%2Fentity%2FQ10800557%3E++%29%0A+++%28++%3Chttp%3A%2F%2Fwww.wikidata.org%2Fentity%2FQ43845%3E++%29%0A+++%28++%3Chttp%3A%2F%2Fwww.wikidata.org%2Fentity%2FQ639669%3E++%29%0A+++%28++%3Chttp%3A%2F%2Fwww.wikidata.org%2Fentity%2FQ82955%3E++%29%0A++%7D%0A++MINUS+++%7B%0A++++%3Fvar1++%3Chttp%3A%2F%2Fwww.wikidata.org%2Fprop%2Fdirect%2FP570%3E++%3Fvar4+.%0A++%7D%0A++%3Fvar1++%3Chttp%3A%2F%2Fwww.wikidata.org%2Fprop%2Fdirect%2FP1559%3E++%3Fvar5+.%0A++%3Fvar1++%3Chttp%3A%2F%2Fwww.w3.org%2F2000%2F01%2Frdf-schema%23label%3E++%3Fvar6Label+.%0A++%3Fvar1++%3Chttp%3A%2F%2Fschema.org%2Fdescription%3E++%3Fvar7+.%0A++%3Fvar1++%3Chttp%3A%2F%2Fwww.wikidata.org%2Fprop%2Fdirect%2FP18%3E++%3Fvar8+.%0A++%3Fvar1++%3Chttp%3A%2F%2Fwww.wikidata.org%2Fprop%2Fdirect%2FP2002%3E++%3Fvar9+.%0A++%3Fvar1++%3Chttp%3A%2F%2Fwww.wikidata.org%2Fprop%2Fdirect%2FP800%3E++_%3AblankNode+.%0A++_%3AblankNode++%3Chttp%3A%2F%2Fwww.w3.org%2F2000%2F01%2Frdf-schema%23label%3E++%3Fvar10+.%0A++_%3AblankNode++%3Chttp%3A%2F%2Fwww.wikidata.org%2Fprop%2Fdirect%2FP31%3E++%3Chttp%3A%2F%2Fwww.wikidata.org%2Fentity%2FQ571%3E+.%0A+OPTIONAL+%7B%0A++%3Fvar1++%3Chttp%3A%2F%2Fwww.wikidata.org%2Fprop%2Fdirect%2FP109%3E++%3Fvar11+.%0A+%7D%0A+OPTIONAL+%7B%0A++%3Fvar1++%3Chttp%3A%2F%2Fwww.wikidata.org%2Fprop%2Fdirect%2FP856%3E++%3Fvar12+.%0A+%7D%0A+OPTIONAL+%7B%0A++%3Fvar1++%3Chttp%3A%2F%2Fwww.wikidata.org%2Fprop%2Fdirect%2FP2984%3E++%3Fvar13+.%0A+%7D%0A+OPTIONAL+%7B%0A++%3Fvar1++%3Chttp%3A%2F%2Fwww.wikidata.org%2Fprop%2Fdirect%2FP2003%3E++%3Fvar14+.%0A+%7D%0A+OPTIONAL+%7B%0A++%3Fvar1++%3Chttp%3A%2F%2Fwww.wikidata.org%2Fprop%2Fdirect%2FP2397%3E++%3Fvar15+.%0A+%7D%0A+OPTIONAL+%7B%0A++%3Fvar1++%3Chttp%3A%2F%2Fwww.wikidata.org%2Fprop%2Fdirect%2FP2013%3E++%3Fvar16+.%0A+%7D%0A+OPTIONAL+%7B%0A++%3Fvar1++%3Chttp%3A%2F%2Fwww.wikidata.org%2Fprop%2Fdirect%2FP2963%3E++%3Fvar17+.%0A+%7D%0A+OPTIONAL+%7B%0A++%3Fvar1++%3Chttp%3A%2F%2Fwww.wikidata.org%2Fprop%2Fdirect%2FP1902%3E++%3Fvar18+.%0A+%7D%0A+OPTIONAL+%7B%0A++%3Fvar1++%3Chttp%3A%2F%2Fwww.wikidata.org%2Fprop%2Fdirect%2FP4265%3E++%3Fvar19+.%0A+%7D%0A+OPTIONAL+%7B%0A++%3Fvar1++%3Chttp%3A%2F%2Fwww.wikidata.org%2Fprop%2Fdirect%2FP3579%3E++%3Fvar20+.%0A+%7D%0A+OPTIONAL+%7B%0A++%3Fvar1++%3Chttp%3A%2F%2Fwww.wikidata.org%2Fprop%2Fdirect%2FP3943%3E++%3Fvar21+.%0A+%7D%0A+OPTIONAL+%7B%0A++%3Fvar1++%3Chttp%3A%2F%2Fwww.wikidata.org%2Fprop%2Fdirect%2FP3185%3E++%3Fvar22+.%0A+%7D%0A+OPTIONAL+%7B%0A++%3Fvar1++%3Chttp%3A%2F%2Fwww.wikidata.org%2Fprop%2Fdirect%2FP3258%3E++%3Fvar23+.%0A+%7D%0A+OPTIONAL+%7B%0A++%3Fvar1++%3Chttp%3A%2F%2Fwww.wikidata.org%2Fprop%2Fdirect%2FP2850%3E++%3Fvar24+.%0A+%7D%0A+OPTIONAL+%7B%0A++%3Fvar1++%3Chttp%3A%2F%2Fwww.wikidata.org%2Fprop%2Fdirect%2FP3040%3E++%3Fvar25+.%0A+%7D%0A+OPTIONAL+%7B%0A++%3Fvar1++%3Chttp%3A%2F%2Fwww.wikidata.org%2Fprop%2Fdirect%2FP2035%3E++%3Fvar26+.%0A+%7D%0A+OPTIONAL+%7B%0A++%3Fvar1++%3Chttp%3A%2F%2Fwww.wikidata.org%2Fprop%2Fdirect%2FP3276%3E++%3Fvar27+.%0A+%7D%0A+FILTER+%28++%28+%28++LANG+%28++%3Fvar6Label++%29++%3D++%22en%22+%29+%26%26+%28++LANG+%28++%3Fvar7++%29++%3D++%22en%22+%29+%26%26+%28++LANG+%28++%3Fvar10++%29++%3D++%22en%22+%29+%29+%0A%29+.%0A%7D%0AORDER+BY+ASC%28+%3Fvar1+%29%0ALIMIT+50%0A",
            "count": 2
           },
           {
            "name": "SELECT%28+COUNT+%28+DISTINCT++%3Fvar1++%29+AS++%3Fvar2++%29%0AWHERE+%7B%0A++%3Fvar3++%3Chttp%3A%2F%2Fschema.org%2Fabout%3E++%3Fvar1+.%0A++%3Fvar3++%3Chttp%3A%2F%2Fschema.org%2FinLanguage%3E++%22en%22.%0A++%3Fvar4++%3Chttp%3A%2F%2Fschema.org%2Fabout%3E++%3Fvar1+.%0A++%3Fvar4++%3Chttp%3A%2F%2Fschema.org%2FinLanguage%3E++%22de%22.%0A++%3Fvar5++%3Chttp%3A%2F%2Fschema.org%2Fabout%3E++%3Fvar1+.%0A++%3Fvar5++%3Chttp%3A%2F%2Fschema.org%2FinLanguage%3E++%22fr%22.%0A++%3Fvar6++%3Chttp%3A%2F%2Fschema.org%2Fabout%3E++%3Fvar1+.%0A++%3Fvar6++%3Chttp%3A%2F%2Fschema.org%2FinLanguage%3E++%22ja%22.%0A++%3Fvar7++%3Chttp%3A%2F%2Fschema.org%2Fabout%3E++%3Fvar1+.%0A++%3Fvar7++%3Chttp%3A%2F%2Fschema.org%2FinLanguage%3E++%22es%22.%0A++%3Fvar8++%3Chttp%3A%2F%2Fschema.org%2Fabout%3E++%3Fvar1+.%0A++%3Fvar8++%3Chttp%3A%2F%2Fschema.org%2FinLanguage%3E++%22ru%22.%0A++%3Fvar9++%3Chttp%3A%2F%2Fschema.org%2Fabout%3E++%3Fvar1+.%0A++%3Fvar9++%3Chttp%3A%2F%2Fschema.org%2FinLanguage%3E++%22zh%22.%0A++%3Fvar10++%3Chttp%3A%2F%2Fschema.org%2Fabout%3E++%3Fvar1+.%0A++%3Fvar10++%3Chttp%3A%2F%2Fschema.org%2FinLanguage%3E++%22it%22.%0A++%3Fvar11++%3Chttp%3A%2F%2Fschema.org%2Fabout%3E++%3Fvar1+.%0A++%3Fvar11++%3Chttp%3A%2F%2Fschema.org%2FinLanguage%3E++%22pt%22.%0A++%3Fvar12++%3Chttp%3A%2F%2Fschema.org%2Fabout%3E++%3Fvar1+.%0A++%3Fvar12++%3Chttp%3A%2F%2Fschema.org%2FinLanguage%3E++%22pl%22.%0A++%3Fvar13++%3Chttp%3A%2F%2Fschema.org%2Fabout%3E++%3Fvar1+.%0A++%3Fvar13++%3Chttp%3A%2F%2Fschema.org%2FinLanguage%3E++%22nl%22.%0A++%3Fvar14++%3Chttp%3A%2F%2Fschema.org%2Fabout%3E++%3Fvar1+.%0A++%3Fvar14++%3Chttp%3A%2F%2Fschema.org%2FinLanguage%3E++%22uk%22.%0A++%3Fvar15++%3Chttp%3A%2F%2Fschema.org%2Fabout%3E++%3Fvar1+.%0A++%3Fvar15++%3Chttp%3A%2F%2Fschema.org%2FinLanguage%3E++%22fa%22.%0A++%3Fvar16++%3Chttp%3A%2F%2Fschema.org%2Fabout%3E++%3Fvar1+.%0A++%3Fvar16++%3Chttp%3A%2F%2Fschema.org%2FinLanguage%3E++%22he%22.%0A++%3Fvar17++%3Chttp%3A%2F%2Fschema.org%2Fabout%3E++%3Fvar1+.%0A++%3Fvar17++%3Chttp%3A%2F%2Fschema.org%2FinLanguage%3E++%22ar%22.%0A++%3Fvar18++%3Chttp%3A%2F%2Fschema.org%2Fabout%3E++%3Fvar1+.%0A++%3Fvar18++%3Chttp%3A%2F%2Fschema.org%2FinLanguage%3E++%22sv%22.%0A++%3Fvar19++%3Chttp%3A%2F%2Fschema.org%2Fabout%3E++%3Fvar1+.%0A++%3Fvar19++%3Chttp%3A%2F%2Fschema.org%2FinLanguage%3E++%22ko%22.%0A++%3Fvar20++%3Chttp%3A%2F%2Fschema.org%2Fabout%3E++%3Fvar1+.%0A++%3Fvar20++%3Chttp%3A%2F%2Fschema.org%2FinLanguage%3E++%22cs%22.%0A++%3Fvar21++%3Chttp%3A%2F%2Fschema.org%2Fabout%3E++%3Fvar1+.%0A++%3Fvar21++%3Chttp%3A%2F%2Fschema.org%2FinLanguage%3E++%22ca%22.%0A++%3Fvar22++%3Chttp%3A%2F%2Fschema.org%2Fabout%3E++%3Fvar1+.%0A++%3Fvar22++%3Chttp%3A%2F%2Fschema.org%2FinLanguage%3E++%22id%22.%0A%7D%0A",
            "count": 1
           },
           {
            "name": "7 others",
            "count": 7
           }
          ]
         }
        },
        {
         "name": "timestamp",
         "dtype": "object",
         "stats": {
          "unique_count": 10,
          "nan_count": 0,
          "categories": [
           {
            "name": "2017-12-29 05:57:47",
            "count": 1
           },
           {
            "name": "2018-03-03 08:04:08",
            "count": 1
           },
           {
            "name": "8 others",
            "count": 8
           }
          ]
         }
        },
        {
         "name": "sourceCategory",
         "dtype": "object",
         "stats": {
          "unique_count": 2,
          "nan_count": 0,
          "categories": [
           {
            "name": "robotic",
            "count": 8
           },
           {
            "name": "organic",
            "count": 2
           }
          ]
         }
        },
        {
         "name": "user_agent",
         "dtype": "object",
         "stats": {
          "unique_count": 2,
          "nan_count": 0,
          "categories": [
           {
            "name": "UNKNOWN",
            "count": 8
           },
           {
            "name": "browser",
            "count": 2
           }
          ]
         }
        },
        {
         "name": "var_cpt",
         "dtype": "int64",
         "stats": {
          "unique_count": 5,
          "nan_count": 0,
          "min": "9",
          "max": "27",
          "histogram": [
           {
            "bin_start": 9,
            "bin_end": 10.8,
            "count": 1
           },
           {
            "bin_start": 10.8,
            "bin_end": 12.6,
            "count": 0
           },
           {
            "bin_start": 12.6,
            "bin_end": 14.4,
            "count": 0
           },
           {
            "bin_start": 14.4,
            "bin_end": 16.2,
            "count": 0
           },
           {
            "bin_start": 16.2,
            "bin_end": 18,
            "count": 0
           },
           {
            "bin_start": 18,
            "bin_end": 19.8,
            "count": 0
           },
           {
            "bin_start": 19.8,
            "bin_end": 21.6,
            "count": 0
           },
           {
            "bin_start": 21.6,
            "bin_end": 23.4,
            "count": 1
           },
           {
            "bin_start": 23.4,
            "bin_end": 25.2,
            "count": 3
           },
           {
            "bin_start": 25.2,
            "bin_end": 27,
            "count": 5
           }
          ]
         }
        },
        {
         "name": "filter",
         "dtype": "int64",
         "stats": {
          "unique_count": 3,
          "nan_count": 0,
          "min": "0",
          "max": "3",
          "histogram": [
           {
            "bin_start": 0,
            "bin_end": 0.3,
            "count": 1
           },
           {
            "bin_start": 0.3,
            "bin_end": 0.6,
            "count": 0
           },
           {
            "bin_start": 0.6,
            "bin_end": 0.8999999999999999,
            "count": 0
           },
           {
            "bin_start": 0.8999999999999999,
            "bin_end": 1.2,
            "count": 8
           },
           {
            "bin_start": 1.2,
            "bin_end": 1.5,
            "count": 0
           },
           {
            "bin_start": 1.5,
            "bin_end": 1.7999999999999998,
            "count": 0
           },
           {
            "bin_start": 1.7999999999999998,
            "bin_end": 2.1,
            "count": 0
           },
           {
            "bin_start": 2.1,
            "bin_end": 2.4,
            "count": 0
           },
           {
            "bin_start": 2.4,
            "bin_end": 2.6999999999999997,
            "count": 0
           },
           {
            "bin_start": 2.6999999999999997,
            "bin_end": 3,
            "count": 1
           }
          ]
         }
        },
        {
         "name": "orderby",
         "dtype": "int64",
         "stats": {
          "unique_count": 2,
          "nan_count": 0,
          "min": "0",
          "max": "1",
          "histogram": [
           {
            "bin_start": 0,
            "bin_end": 0.1,
            "count": 3
           },
           {
            "bin_start": 0.1,
            "bin_end": 0.2,
            "count": 0
           },
           {
            "bin_start": 0.2,
            "bin_end": 0.30000000000000004,
            "count": 0
           },
           {
            "bin_start": 0.30000000000000004,
            "bin_end": 0.4,
            "count": 0
           },
           {
            "bin_start": 0.4,
            "bin_end": 0.5,
            "count": 0
           },
           {
            "bin_start": 0.5,
            "bin_end": 0.6000000000000001,
            "count": 0
           },
           {
            "bin_start": 0.6000000000000001,
            "bin_end": 0.7000000000000001,
            "count": 0
           },
           {
            "bin_start": 0.7000000000000001,
            "bin_end": 0.8,
            "count": 0
           },
           {
            "bin_start": 0.8,
            "bin_end": 0.9,
            "count": 0
           },
           {
            "bin_start": 0.9,
            "bin_end": 1,
            "count": 7
           }
          ]
         }
        },
        {
         "name": "limit",
         "dtype": "int64",
         "stats": {
          "unique_count": 2,
          "nan_count": 0,
          "min": "0",
          "max": "50",
          "histogram": [
           {
            "bin_start": 0,
            "bin_end": 5,
            "count": 5
           },
           {
            "bin_start": 5,
            "bin_end": 10,
            "count": 0
           },
           {
            "bin_start": 10,
            "bin_end": 15,
            "count": 0
           },
           {
            "bin_start": 15,
            "bin_end": 20,
            "count": 0
           },
           {
            "bin_start": 20,
            "bin_end": 25,
            "count": 0
           },
           {
            "bin_start": 25,
            "bin_end": 30,
            "count": 0
           },
           {
            "bin_start": 30,
            "bin_end": 35,
            "count": 0
           },
           {
            "bin_start": 35,
            "bin_end": 40,
            "count": 0
           },
           {
            "bin_start": 40,
            "bin_end": 45,
            "count": 0
           },
           {
            "bin_start": 45,
            "bin_end": 50,
            "count": 5
           }
          ]
         }
        },
        {
         "name": "select",
         "dtype": "int64",
         "stats": {
          "unique_count": 1,
          "nan_count": 0,
          "min": "1",
          "max": "1",
          "histogram": [
           {
            "bin_start": 0.5,
            "bin_end": 0.6,
            "count": 0
           },
           {
            "bin_start": 0.6,
            "bin_end": 0.7,
            "count": 0
           },
           {
            "bin_start": 0.7,
            "bin_end": 0.8,
            "count": 0
           },
           {
            "bin_start": 0.8,
            "bin_end": 0.9,
            "count": 0
           },
           {
            "bin_start": 0.9,
            "bin_end": 1,
            "count": 0
           },
           {
            "bin_start": 1,
            "bin_end": 1.1,
            "count": 10
           },
           {
            "bin_start": 1.1,
            "bin_end": 1.2000000000000002,
            "count": 0
           },
           {
            "bin_start": 1.2000000000000002,
            "bin_end": 1.3,
            "count": 0
           },
           {
            "bin_start": 1.3,
            "bin_end": 1.4,
            "count": 0
           },
           {
            "bin_start": 1.4,
            "bin_end": 1.5,
            "count": 0
           }
          ]
         }
        },
        {
         "name": "distinct",
         "dtype": "int64",
         "stats": {
          "unique_count": 1,
          "nan_count": 0,
          "min": "0",
          "max": "0",
          "histogram": [
           {
            "bin_start": -0.5,
            "bin_end": -0.4,
            "count": 0
           },
           {
            "bin_start": -0.4,
            "bin_end": -0.3,
            "count": 0
           },
           {
            "bin_start": -0.3,
            "bin_end": -0.19999999999999996,
            "count": 0
           },
           {
            "bin_start": -0.19999999999999996,
            "bin_end": -0.09999999999999998,
            "count": 0
           },
           {
            "bin_start": -0.09999999999999998,
            "bin_end": 0,
            "count": 0
           },
           {
            "bin_start": 0,
            "bin_end": 0.10000000000000009,
            "count": 10
           },
           {
            "bin_start": 0.10000000000000009,
            "bin_end": 0.20000000000000007,
            "count": 0
           },
           {
            "bin_start": 0.20000000000000007,
            "bin_end": 0.30000000000000004,
            "count": 0
           },
           {
            "bin_start": 0.30000000000000004,
            "bin_end": 0.4,
            "count": 0
           },
           {
            "bin_start": 0.4,
            "bin_end": 0.5,
            "count": 0
           }
          ]
         }
        },
        {
         "name": "join",
         "dtype": "int64",
         "stats": {
          "unique_count": 6,
          "nan_count": 0,
          "min": "7",
          "max": "39",
          "histogram": [
           {
            "bin_start": 7,
            "bin_end": 10.2,
            "count": 8
           },
           {
            "bin_start": 10.2,
            "bin_end": 13.4,
            "count": 0
           },
           {
            "bin_start": 13.4,
            "bin_end": 16.6,
            "count": 0
           },
           {
            "bin_start": 16.6,
            "bin_end": 19.8,
            "count": 0
           },
           {
            "bin_start": 19.8,
            "bin_end": 23,
            "count": 0
           },
           {
            "bin_start": 23,
            "bin_end": 26.200000000000003,
            "count": 1
           },
           {
            "bin_start": 26.200000000000003,
            "bin_end": 29.400000000000002,
            "count": 0
           },
           {
            "bin_start": 29.400000000000002,
            "bin_end": 32.6,
            "count": 0
           },
           {
            "bin_start": 32.6,
            "bin_end": 35.8,
            "count": 0
           },
           {
            "bin_start": 35.8,
            "bin_end": 39,
            "count": 1
           }
          ]
         }
        },
        {
         "name": "project",
         "dtype": "int64",
         "stats": {
          "unique_count": 1,
          "nan_count": 0,
          "min": "1",
          "max": "1",
          "histogram": [
           {
            "bin_start": 0.5,
            "bin_end": 0.6,
            "count": 0
           },
           {
            "bin_start": 0.6,
            "bin_end": 0.7,
            "count": 0
           },
           {
            "bin_start": 0.7,
            "bin_end": 0.8,
            "count": 0
           },
           {
            "bin_start": 0.8,
            "bin_end": 0.9,
            "count": 0
           },
           {
            "bin_start": 0.9,
            "bin_end": 1,
            "count": 0
           },
           {
            "bin_start": 1,
            "bin_end": 1.1,
            "count": 10
           },
           {
            "bin_start": 1.1,
            "bin_end": 1.2000000000000002,
            "count": 0
           },
           {
            "bin_start": 1.2000000000000002,
            "bin_end": 1.3,
            "count": 0
           },
           {
            "bin_start": 1.3,
            "bin_end": 1.4,
            "count": 0
           },
           {
            "bin_start": 1.4,
            "bin_end": 1.5,
            "count": 0
           }
          ]
         }
        },
        {
         "name": "tomultiset",
         "dtype": "int64",
         "stats": {
          "unique_count": 2,
          "nan_count": 0,
          "min": "0",
          "max": "1",
          "histogram": [
           {
            "bin_start": 0,
            "bin_end": 0.1,
            "count": 7
           },
           {
            "bin_start": 0.1,
            "bin_end": 0.2,
            "count": 0
           },
           {
            "bin_start": 0.2,
            "bin_end": 0.30000000000000004,
            "count": 0
           },
           {
            "bin_start": 0.30000000000000004,
            "bin_end": 0.4,
            "count": 0
           },
           {
            "bin_start": 0.4,
            "bin_end": 0.5,
            "count": 0
           },
           {
            "bin_start": 0.5,
            "bin_end": 0.6000000000000001,
            "count": 0
           },
           {
            "bin_start": 0.6000000000000001,
            "bin_end": 0.7000000000000001,
            "count": 0
           },
           {
            "bin_start": 0.7000000000000001,
            "bin_end": 0.8,
            "count": 0
           },
           {
            "bin_start": 0.8,
            "bin_end": 0.9,
            "count": 0
           },
           {
            "bin_start": 0.9,
            "bin_end": 1,
            "count": 3
           }
          ]
         }
        },
        {
         "name": "union",
         "dtype": "int64",
         "stats": {
          "unique_count": 2,
          "nan_count": 0,
          "min": "0",
          "max": "2",
          "histogram": [
           {
            "bin_start": 0,
            "bin_end": 0.2,
            "count": 9
           },
           {
            "bin_start": 0.2,
            "bin_end": 0.4,
            "count": 0
           },
           {
            "bin_start": 0.4,
            "bin_end": 0.6000000000000001,
            "count": 0
           },
           {
            "bin_start": 0.6000000000000001,
            "bin_end": 0.8,
            "count": 0
           },
           {
            "bin_start": 0.8,
            "bin_end": 1,
            "count": 0
           },
           {
            "bin_start": 1,
            "bin_end": 1.2000000000000002,
            "count": 0
           },
           {
            "bin_start": 1.2000000000000002,
            "bin_end": 1.4000000000000001,
            "count": 0
           },
           {
            "bin_start": 1.4000000000000001,
            "bin_end": 1.6,
            "count": 0
           },
           {
            "bin_start": 1.6,
            "bin_end": 1.8,
            "count": 0
           },
           {
            "bin_start": 1.8,
            "bin_end": 2,
            "count": 1
           }
          ]
         }
        },
        {
         "name": "modify",
         "dtype": "int64",
         "stats": {
          "unique_count": 1,
          "nan_count": 0,
          "min": "0",
          "max": "0",
          "histogram": [
           {
            "bin_start": -0.5,
            "bin_end": -0.4,
            "count": 0
           },
           {
            "bin_start": -0.4,
            "bin_end": -0.3,
            "count": 0
           },
           {
            "bin_start": -0.3,
            "bin_end": -0.19999999999999996,
            "count": 0
           },
           {
            "bin_start": -0.19999999999999996,
            "bin_end": -0.09999999999999998,
            "count": 0
           },
           {
            "bin_start": -0.09999999999999998,
            "bin_end": 0,
            "count": 0
           },
           {
            "bin_start": 0,
            "bin_end": 0.10000000000000009,
            "count": 10
           },
           {
            "bin_start": 0.10000000000000009,
            "bin_end": 0.20000000000000007,
            "count": 0
           },
           {
            "bin_start": 0.20000000000000007,
            "bin_end": 0.30000000000000004,
            "count": 0
           },
           {
            "bin_start": 0.30000000000000004,
            "bin_end": 0.4,
            "count": 0
           },
           {
            "bin_start": 0.4,
            "bin_end": 0.5,
            "count": 0
           }
          ]
         }
        },
        {
         "name": "bgp",
         "dtype": "int64",
         "stats": {
          "unique_count": 5,
          "nan_count": 0,
          "min": "1",
          "max": "21",
          "histogram": [
           {
            "bin_start": 1,
            "bin_end": 3,
            "count": 1
           },
           {
            "bin_start": 3,
            "bin_end": 5,
            "count": 0
           },
           {
            "bin_start": 5,
            "bin_end": 7,
            "count": 0
           },
           {
            "bin_start": 7,
            "bin_end": 9,
            "count": 0
           },
           {
            "bin_start": 9,
            "bin_end": 11,
            "count": 1
           },
           {
            "bin_start": 11,
            "bin_end": 13,
            "count": 0
           },
           {
            "bin_start": 13,
            "bin_end": 15,
            "count": 0
           },
           {
            "bin_start": 15,
            "bin_end": 17,
            "count": 0
           },
           {
            "bin_start": 17,
            "bin_end": 19,
            "count": 0
           },
           {
            "bin_start": 19,
            "bin_end": 21,
            "count": 8
           }
          ]
         }
        },
        {
         "name": "values",
         "dtype": "int64",
         "stats": {
          "unique_count": 2,
          "nan_count": 0,
          "min": "0",
          "max": "1",
          "histogram": [
           {
            "bin_start": 0,
            "bin_end": 0.1,
            "count": 7
           },
           {
            "bin_start": 0.1,
            "bin_end": 0.2,
            "count": 0
           },
           {
            "bin_start": 0.2,
            "bin_end": 0.30000000000000004,
            "count": 0
           },
           {
            "bin_start": 0.30000000000000004,
            "bin_end": 0.4,
            "count": 0
           },
           {
            "bin_start": 0.4,
            "bin_end": 0.5,
            "count": 0
           },
           {
            "bin_start": 0.5,
            "bin_end": 0.6000000000000001,
            "count": 0
           },
           {
            "bin_start": 0.6000000000000001,
            "bin_end": 0.7000000000000001,
            "count": 0
           },
           {
            "bin_start": 0.7000000000000001,
            "bin_end": 0.8,
            "count": 0
           },
           {
            "bin_start": 0.8,
            "bin_end": 0.9,
            "count": 0
           },
           {
            "bin_start": 0.9,
            "bin_end": 1,
            "count": 3
           }
          ]
         }
        },
        {
         "name": "groupBy",
         "dtype": "int64",
         "stats": {
          "unique_count": 2,
          "nan_count": 0,
          "min": "0",
          "max": "1",
          "histogram": [
           {
            "bin_start": 0,
            "bin_end": 0.1,
            "count": 8
           },
           {
            "bin_start": 0.1,
            "bin_end": 0.2,
            "count": 0
           },
           {
            "bin_start": 0.2,
            "bin_end": 0.30000000000000004,
            "count": 0
           },
           {
            "bin_start": 0.30000000000000004,
            "bin_end": 0.4,
            "count": 0
           },
           {
            "bin_start": 0.4,
            "bin_end": 0.5,
            "count": 0
           },
           {
            "bin_start": 0.5,
            "bin_end": 0.6000000000000001,
            "count": 0
           },
           {
            "bin_start": 0.6000000000000001,
            "bin_end": 0.7000000000000001,
            "count": 0
           },
           {
            "bin_start": 0.7000000000000001,
            "bin_end": 0.8,
            "count": 0
           },
           {
            "bin_start": 0.8,
            "bin_end": 0.9,
            "count": 0
           },
           {
            "bin_start": 0.9,
            "bin_end": 1,
            "count": 2
           }
          ]
         }
        },
        {
         "name": "slice",
         "dtype": "int64",
         "stats": {
          "unique_count": 2,
          "nan_count": 0,
          "min": "0",
          "max": "1",
          "histogram": [
           {
            "bin_start": 0,
            "bin_end": 0.1,
            "count": 5
           },
           {
            "bin_start": 0.1,
            "bin_end": 0.2,
            "count": 0
           },
           {
            "bin_start": 0.2,
            "bin_end": 0.30000000000000004,
            "count": 0
           },
           {
            "bin_start": 0.30000000000000004,
            "bin_end": 0.4,
            "count": 0
           },
           {
            "bin_start": 0.4,
            "bin_end": 0.5,
            "count": 0
           },
           {
            "bin_start": 0.5,
            "bin_end": 0.6000000000000001,
            "count": 0
           },
           {
            "bin_start": 0.6000000000000001,
            "bin_end": 0.7000000000000001,
            "count": 0
           },
           {
            "bin_start": 0.7000000000000001,
            "bin_end": 0.8,
            "count": 0
           },
           {
            "bin_start": 0.8,
            "bin_end": 0.9,
            "count": 0
           },
           {
            "bin_start": 0.9,
            "bin_end": 1,
            "count": 5
           }
          ]
         }
        },
        {
         "name": "triples",
         "dtype": "int64",
         "stats": {
          "unique_count": 4,
          "nan_count": 0,
          "min": "27",
          "max": "40",
          "histogram": [
           {
            "bin_start": 27,
            "bin_end": 28.3,
            "count": 7
           },
           {
            "bin_start": 28.3,
            "bin_end": 29.6,
            "count": 0
           },
           {
            "bin_start": 29.6,
            "bin_end": 30.9,
            "count": 2
           },
           {
            "bin_start": 30.9,
            "bin_end": 32.2,
            "count": 0
           },
           {
            "bin_start": 32.2,
            "bin_end": 33.5,
            "count": 0
           },
           {
            "bin_start": 33.5,
            "bin_end": 34.8,
            "count": 0
           },
           {
            "bin_start": 34.8,
            "bin_end": 36.1,
            "count": 0
           },
           {
            "bin_start": 36.1,
            "bin_end": 37.4,
            "count": 0
           },
           {
            "bin_start": 37.4,
            "bin_end": 38.7,
            "count": 0
           },
           {
            "bin_start": 38.7,
            "bin_end": 40,
            "count": 1
           }
          ]
         }
        },
        {
         "name": "offset",
         "dtype": "int64",
         "stats": {
          "unique_count": 1,
          "nan_count": 0,
          "min": "0",
          "max": "0",
          "histogram": [
           {
            "bin_start": -0.5,
            "bin_end": -0.4,
            "count": 0
           },
           {
            "bin_start": -0.4,
            "bin_end": -0.3,
            "count": 0
           },
           {
            "bin_start": -0.3,
            "bin_end": -0.19999999999999996,
            "count": 0
           },
           {
            "bin_start": -0.19999999999999996,
            "bin_end": -0.09999999999999998,
            "count": 0
           },
           {
            "bin_start": -0.09999999999999998,
            "bin_end": 0,
            "count": 0
           },
           {
            "bin_start": 0,
            "bin_end": 0.10000000000000009,
            "count": 10
           },
           {
            "bin_start": 0.10000000000000009,
            "bin_end": 0.20000000000000007,
            "count": 0
           },
           {
            "bin_start": 0.20000000000000007,
            "bin_end": 0.30000000000000004,
            "count": 0
           },
           {
            "bin_start": 0.30000000000000004,
            "bin_end": 0.4,
            "count": 0
           },
           {
            "bin_start": 0.4,
            "bin_end": 0.5,
            "count": 0
           }
          ]
         }
        },
        {
         "name": "extend",
         "dtype": "int64",
         "stats": {
          "unique_count": 2,
          "nan_count": 0,
          "min": "0",
          "max": "1",
          "histogram": [
           {
            "bin_start": 0,
            "bin_end": 0.1,
            "count": 8
           },
           {
            "bin_start": 0.1,
            "bin_end": 0.2,
            "count": 0
           },
           {
            "bin_start": 0.2,
            "bin_end": 0.30000000000000004,
            "count": 0
           },
           {
            "bin_start": 0.30000000000000004,
            "bin_end": 0.4,
            "count": 0
           },
           {
            "bin_start": 0.4,
            "bin_end": 0.5,
            "count": 0
           },
           {
            "bin_start": 0.5,
            "bin_end": 0.6000000000000001,
            "count": 0
           },
           {
            "bin_start": 0.6000000000000001,
            "bin_end": 0.7000000000000001,
            "count": 0
           },
           {
            "bin_start": 0.7000000000000001,
            "bin_end": 0.8,
            "count": 0
           },
           {
            "bin_start": 0.8,
            "bin_end": 0.9,
            "count": 0
           },
           {
            "bin_start": 0.9,
            "bin_end": 1,
            "count": 2
           }
          ]
         }
        },
        {
         "name": "filter_not_exists",
         "dtype": "int64",
         "stats": {
          "unique_count": 1,
          "nan_count": 0,
          "min": "0",
          "max": "0",
          "histogram": [
           {
            "bin_start": -0.5,
            "bin_end": -0.4,
            "count": 0
           },
           {
            "bin_start": -0.4,
            "bin_end": -0.3,
            "count": 0
           },
           {
            "bin_start": -0.3,
            "bin_end": -0.19999999999999996,
            "count": 0
           },
           {
            "bin_start": -0.19999999999999996,
            "bin_end": -0.09999999999999998,
            "count": 0
           },
           {
            "bin_start": -0.09999999999999998,
            "bin_end": 0,
            "count": 0
           },
           {
            "bin_start": 0,
            "bin_end": 0.10000000000000009,
            "count": 10
           },
           {
            "bin_start": 0.10000000000000009,
            "bin_end": 0.20000000000000007,
            "count": 0
           },
           {
            "bin_start": 0.20000000000000007,
            "bin_end": 0.30000000000000004,
            "count": 0
           },
           {
            "bin_start": 0.30000000000000004,
            "bin_end": 0.4,
            "count": 0
           },
           {
            "bin_start": 0.4,
            "bin_end": 0.5,
            "count": 0
           }
          ]
         }
        },
        {
         "name": "leftJoin",
         "dtype": "int64",
         "stats": {
          "unique_count": 5,
          "nan_count": 0,
          "min": "0",
          "max": "19",
          "histogram": [
           {
            "bin_start": 0,
            "bin_end": 1.9,
            "count": 2
           },
           {
            "bin_start": 1.9,
            "bin_end": 3.8,
            "count": 0
           },
           {
            "bin_start": 3.8,
            "bin_end": 5.699999999999999,
            "count": 0
           },
           {
            "bin_start": 5.699999999999999,
            "bin_end": 7.6,
            "count": 0
           },
           {
            "bin_start": 7.6,
            "bin_end": 9.5,
            "count": 0
           },
           {
            "bin_start": 9.5,
            "bin_end": 11.399999999999999,
            "count": 0
           },
           {
            "bin_start": 11.399999999999999,
            "bin_end": 13.299999999999999,
            "count": 0
           },
           {
            "bin_start": 13.299999999999999,
            "bin_end": 15.2,
            "count": 0
           },
           {
            "bin_start": 15.2,
            "bin_end": 17.099999999999998,
            "count": 5
           },
           {
            "bin_start": 17.099999999999998,
            "bin_end": 19,
            "count": 3
           }
          ]
         }
        },
        {
         "name": "minus",
         "dtype": "int64",
         "stats": {
          "unique_count": 3,
          "nan_count": 0,
          "min": "0",
          "max": "3",
          "histogram": [
           {
            "bin_start": 0,
            "bin_end": 0.3,
            "count": 2
           },
           {
            "bin_start": 0.3,
            "bin_end": 0.6,
            "count": 0
           },
           {
            "bin_start": 0.6,
            "bin_end": 0.8999999999999999,
            "count": 0
           },
           {
            "bin_start": 0.8999999999999999,
            "bin_end": 1.2,
            "count": 7
           },
           {
            "bin_start": 1.2,
            "bin_end": 1.5,
            "count": 0
           },
           {
            "bin_start": 1.5,
            "bin_end": 1.7999999999999998,
            "count": 0
           },
           {
            "bin_start": 1.7999999999999998,
            "bin_end": 2.1,
            "count": 0
           },
           {
            "bin_start": 2.1,
            "bin_end": 2.4,
            "count": 0
           },
           {
            "bin_start": 2.4,
            "bin_end": 2.6999999999999997,
            "count": 0
           },
           {
            "bin_start": 2.6999999999999997,
            "bin_end": 3,
            "count": 1
           }
          ]
         }
        },
        {
         "name": "notexist",
         "dtype": "int64",
         "stats": {
          "unique_count": 1,
          "nan_count": 0,
          "min": "0",
          "max": "0",
          "histogram": [
           {
            "bin_start": -0.5,
            "bin_end": -0.4,
            "count": 0
           },
           {
            "bin_start": -0.4,
            "bin_end": -0.3,
            "count": 0
           },
           {
            "bin_start": -0.3,
            "bin_end": -0.19999999999999996,
            "count": 0
           },
           {
            "bin_start": -0.19999999999999996,
            "bin_end": -0.09999999999999998,
            "count": 0
           },
           {
            "bin_start": -0.09999999999999998,
            "bin_end": 0,
            "count": 0
           },
           {
            "bin_start": 0,
            "bin_end": 0.10000000000000009,
            "count": 10
           },
           {
            "bin_start": 0.10000000000000009,
            "bin_end": 0.20000000000000007,
            "count": 0
           },
           {
            "bin_start": 0.20000000000000007,
            "bin_end": 0.30000000000000004,
            "count": 0
           },
           {
            "bin_start": 0.30000000000000004,
            "bin_end": 0.4,
            "count": 0
           },
           {
            "bin_start": 0.4,
            "bin_end": 0.5,
            "count": 0
           }
          ]
         }
        },
        {
         "name": "sample",
         "dtype": "int64",
         "stats": {
          "unique_count": 1,
          "nan_count": 0,
          "min": "0",
          "max": "0",
          "histogram": [
           {
            "bin_start": -0.5,
            "bin_end": -0.4,
            "count": 0
           },
           {
            "bin_start": -0.4,
            "bin_end": -0.3,
            "count": 0
           },
           {
            "bin_start": -0.3,
            "bin_end": -0.19999999999999996,
            "count": 0
           },
           {
            "bin_start": -0.19999999999999996,
            "bin_end": -0.09999999999999998,
            "count": 0
           },
           {
            "bin_start": -0.09999999999999998,
            "bin_end": 0,
            "count": 0
           },
           {
            "bin_start": 0,
            "bin_end": 0.10000000000000009,
            "count": 10
           },
           {
            "bin_start": 0.10000000000000009,
            "bin_end": 0.20000000000000007,
            "count": 0
           },
           {
            "bin_start": 0.20000000000000007,
            "bin_end": 0.30000000000000004,
            "count": 0
           },
           {
            "bin_start": 0.30000000000000004,
            "bin_end": 0.4,
            "count": 0
           },
           {
            "bin_start": 0.4,
            "bin_end": 0.5,
            "count": 0
           }
          ]
         }
        },
        {
         "name": "count",
         "dtype": "int64",
         "stats": {
          "unique_count": 1,
          "nan_count": 0,
          "min": "0",
          "max": "0",
          "histogram": [
           {
            "bin_start": -0.5,
            "bin_end": -0.4,
            "count": 0
           },
           {
            "bin_start": -0.4,
            "bin_end": -0.3,
            "count": 0
           },
           {
            "bin_start": -0.3,
            "bin_end": -0.19999999999999996,
            "count": 0
           },
           {
            "bin_start": -0.19999999999999996,
            "bin_end": -0.09999999999999998,
            "count": 0
           },
           {
            "bin_start": -0.09999999999999998,
            "bin_end": 0,
            "count": 0
           },
           {
            "bin_start": 0,
            "bin_end": 0.10000000000000009,
            "count": 10
           },
           {
            "bin_start": 0.10000000000000009,
            "bin_end": 0.20000000000000007,
            "count": 0
           },
           {
            "bin_start": 0.20000000000000007,
            "bin_end": 0.30000000000000004,
            "count": 0
           },
           {
            "bin_start": 0.30000000000000004,
            "bin_end": 0.4,
            "count": 0
           },
           {
            "bin_start": 0.4,
            "bin_end": 0.5,
            "count": 0
           }
          ]
         }
        },
        {
         "name": "having",
         "dtype": "int64",
         "stats": {
          "unique_count": 4,
          "nan_count": 0,
          "min": "0",
          "max": "6",
          "histogram": [
           {
            "bin_start": 0,
            "bin_end": 0.6,
            "count": 1
           },
           {
            "bin_start": 0.6,
            "bin_end": 1.2,
            "count": 0
           },
           {
            "bin_start": 1.2,
            "bin_end": 1.7999999999999998,
            "count": 0
           },
           {
            "bin_start": 1.7999999999999998,
            "bin_end": 2.4,
            "count": 2
           },
           {
            "bin_start": 2.4,
            "bin_end": 3,
            "count": 0
           },
           {
            "bin_start": 3,
            "bin_end": 3.5999999999999996,
            "count": 6
           },
           {
            "bin_start": 3.5999999999999996,
            "bin_end": 4.2,
            "count": 0
           },
           {
            "bin_start": 4.2,
            "bin_end": 4.8,
            "count": 0
           },
           {
            "bin_start": 4.8,
            "bin_end": 5.3999999999999995,
            "count": 0
           },
           {
            "bin_start": 5.3999999999999995,
            "bin_end": 6,
            "count": 1
           }
          ]
         }
        },
        {
         "name": "pathWithStar",
         "dtype": "int64",
         "stats": {
          "unique_count": 2,
          "nan_count": 0,
          "min": "0",
          "max": "3",
          "histogram": [
           {
            "bin_start": 0,
            "bin_end": 0.3,
            "count": 9
           },
           {
            "bin_start": 0.3,
            "bin_end": 0.6,
            "count": 0
           },
           {
            "bin_start": 0.6,
            "bin_end": 0.8999999999999999,
            "count": 0
           },
           {
            "bin_start": 0.8999999999999999,
            "bin_end": 1.2,
            "count": 0
           },
           {
            "bin_start": 1.2,
            "bin_end": 1.5,
            "count": 0
           },
           {
            "bin_start": 1.5,
            "bin_end": 1.7999999999999998,
            "count": 0
           },
           {
            "bin_start": 1.7999999999999998,
            "bin_end": 2.1,
            "count": 0
           },
           {
            "bin_start": 2.1,
            "bin_end": 2.4,
            "count": 0
           },
           {
            "bin_start": 2.4,
            "bin_end": 2.6999999999999997,
            "count": 0
           },
           {
            "bin_start": 2.6999999999999997,
            "bin_end": 3,
            "count": 1
           }
          ]
         }
        },
        {
         "name": "pathWithPlus",
         "dtype": "int64",
         "stats": {
          "unique_count": 1,
          "nan_count": 0,
          "min": "0",
          "max": "0",
          "histogram": [
           {
            "bin_start": -0.5,
            "bin_end": -0.4,
            "count": 0
           },
           {
            "bin_start": -0.4,
            "bin_end": -0.3,
            "count": 0
           },
           {
            "bin_start": -0.3,
            "bin_end": -0.19999999999999996,
            "count": 0
           },
           {
            "bin_start": -0.19999999999999996,
            "bin_end": -0.09999999999999998,
            "count": 0
           },
           {
            "bin_start": -0.09999999999999998,
            "bin_end": 0,
            "count": 0
           },
           {
            "bin_start": 0,
            "bin_end": 0.10000000000000009,
            "count": 10
           },
           {
            "bin_start": 0.10000000000000009,
            "bin_end": 0.20000000000000007,
            "count": 0
           },
           {
            "bin_start": 0.20000000000000007,
            "bin_end": 0.30000000000000004,
            "count": 0
           },
           {
            "bin_start": 0.30000000000000004,
            "bin_end": 0.4,
            "count": 0
           },
           {
            "bin_start": 0.4,
            "bin_end": 0.5,
            "count": 0
           }
          ]
         }
        },
        {
         "name": "pathWithQuestionMark",
         "dtype": "int64",
         "stats": {
          "unique_count": 1,
          "nan_count": 0,
          "min": "0",
          "max": "0",
          "histogram": [
           {
            "bin_start": -0.5,
            "bin_end": -0.4,
            "count": 0
           },
           {
            "bin_start": -0.4,
            "bin_end": -0.3,
            "count": 0
           },
           {
            "bin_start": -0.3,
            "bin_end": -0.19999999999999996,
            "count": 0
           },
           {
            "bin_start": -0.19999999999999996,
            "bin_end": -0.09999999999999998,
            "count": 0
           },
           {
            "bin_start": -0.09999999999999998,
            "bin_end": 0,
            "count": 0
           },
           {
            "bin_start": 0,
            "bin_end": 0.10000000000000009,
            "count": 10
           },
           {
            "bin_start": 0.10000000000000009,
            "bin_end": 0.20000000000000007,
            "count": 0
           },
           {
            "bin_start": 0.20000000000000007,
            "bin_end": 0.30000000000000004,
            "count": 0
           },
           {
            "bin_start": 0.30000000000000004,
            "bin_end": 0.4,
            "count": 0
           },
           {
            "bin_start": 0.4,
            "bin_end": 0.5,
            "count": 0
           }
          ]
         }
        },
        {
         "name": "pathWithInv",
         "dtype": "int64",
         "stats": {
          "unique_count": 1,
          "nan_count": 0,
          "min": "0",
          "max": "0",
          "histogram": [
           {
            "bin_start": -0.5,
            "bin_end": -0.4,
            "count": 0
           },
           {
            "bin_start": -0.4,
            "bin_end": -0.3,
            "count": 0
           },
           {
            "bin_start": -0.3,
            "bin_end": -0.19999999999999996,
            "count": 0
           },
           {
            "bin_start": -0.19999999999999996,
            "bin_end": -0.09999999999999998,
            "count": 0
           },
           {
            "bin_start": -0.09999999999999998,
            "bin_end": 0,
            "count": 0
           },
           {
            "bin_start": 0,
            "bin_end": 0.10000000000000009,
            "count": 10
           },
           {
            "bin_start": 0.10000000000000009,
            "bin_end": 0.20000000000000007,
            "count": 0
           },
           {
            "bin_start": 0.20000000000000007,
            "bin_end": 0.30000000000000004,
            "count": 0
           },
           {
            "bin_start": 0.30000000000000004,
            "bin_end": 0.4,
            "count": 0
           },
           {
            "bin_start": 0.4,
            "bin_end": 0.5,
            "count": 0
           }
          ]
         }
        },
        {
         "name": "pathWithSequence",
         "dtype": "int64",
         "stats": {
          "unique_count": 2,
          "nan_count": 0,
          "min": "0",
          "max": "3",
          "histogram": [
           {
            "bin_start": 0,
            "bin_end": 0.3,
            "count": 9
           },
           {
            "bin_start": 0.3,
            "bin_end": 0.6,
            "count": 0
           },
           {
            "bin_start": 0.6,
            "bin_end": 0.8999999999999999,
            "count": 0
           },
           {
            "bin_start": 0.8999999999999999,
            "bin_end": 1.2,
            "count": 0
           },
           {
            "bin_start": 1.2,
            "bin_end": 1.5,
            "count": 0
           },
           {
            "bin_start": 1.5,
            "bin_end": 1.7999999999999998,
            "count": 0
           },
           {
            "bin_start": 1.7999999999999998,
            "bin_end": 2.1,
            "count": 0
           },
           {
            "bin_start": 2.1,
            "bin_end": 2.4,
            "count": 0
           },
           {
            "bin_start": 2.4,
            "bin_end": 2.6999999999999997,
            "count": 0
           },
           {
            "bin_start": 2.6999999999999997,
            "bin_end": 3,
            "count": 1
           }
          ]
         }
        },
        {
         "name": "pathWithAlternative",
         "dtype": "int64",
         "stats": {
          "unique_count": 1,
          "nan_count": 0,
          "min": "0",
          "max": "0",
          "histogram": [
           {
            "bin_start": -0.5,
            "bin_end": -0.4,
            "count": 0
           },
           {
            "bin_start": -0.4,
            "bin_end": -0.3,
            "count": 0
           },
           {
            "bin_start": -0.3,
            "bin_end": -0.19999999999999996,
            "count": 0
           },
           {
            "bin_start": -0.19999999999999996,
            "bin_end": -0.09999999999999998,
            "count": 0
           },
           {
            "bin_start": -0.09999999999999998,
            "bin_end": 0,
            "count": 0
           },
           {
            "bin_start": 0,
            "bin_end": 0.10000000000000009,
            "count": 10
           },
           {
            "bin_start": 0.10000000000000009,
            "bin_end": 0.20000000000000007,
            "count": 0
           },
           {
            "bin_start": 0.20000000000000007,
            "bin_end": 0.30000000000000004,
            "count": 0
           },
           {
            "bin_start": 0.30000000000000004,
            "bin_end": 0.4,
            "count": 0
           },
           {
            "bin_start": 0.4,
            "bin_end": 0.5,
            "count": 0
           }
          ]
         }
        },
        {
         "name": "complexPathWith",
         "dtype": "int64",
         "stats": {
          "unique_count": 2,
          "nan_count": 0,
          "min": "0",
          "max": "3",
          "histogram": [
           {
            "bin_start": 0,
            "bin_end": 0.3,
            "count": 9
           },
           {
            "bin_start": 0.3,
            "bin_end": 0.6,
            "count": 0
           },
           {
            "bin_start": 0.6,
            "bin_end": 0.8999999999999999,
            "count": 0
           },
           {
            "bin_start": 0.8999999999999999,
            "bin_end": 1.2,
            "count": 0
           },
           {
            "bin_start": 1.2,
            "bin_end": 1.5,
            "count": 0
           },
           {
            "bin_start": 1.5,
            "bin_end": 1.7999999999999998,
            "count": 0
           },
           {
            "bin_start": 1.7999999999999998,
            "bin_end": 2.1,
            "count": 0
           },
           {
            "bin_start": 2.1,
            "bin_end": 2.4,
            "count": 0
           },
           {
            "bin_start": 2.4,
            "bin_end": 2.6999999999999997,
            "count": 0
           },
           {
            "bin_start": 2.6999999999999997,
            "bin_end": 3,
            "count": 1
           }
          ]
         }
        },
        {
         "name": "simplePathWith",
         "dtype": "int64",
         "stats": {
          "unique_count": 2,
          "nan_count": 0,
          "min": "0",
          "max": "3",
          "histogram": [
           {
            "bin_start": 0,
            "bin_end": 0.3,
            "count": 9
           },
           {
            "bin_start": 0.3,
            "bin_end": 0.6,
            "count": 0
           },
           {
            "bin_start": 0.6,
            "bin_end": 0.8999999999999999,
            "count": 0
           },
           {
            "bin_start": 0.8999999999999999,
            "bin_end": 1.2,
            "count": 0
           },
           {
            "bin_start": 1.2,
            "bin_end": 1.5,
            "count": 0
           },
           {
            "bin_start": 1.5,
            "bin_end": 1.7999999999999998,
            "count": 0
           },
           {
            "bin_start": 1.7999999999999998,
            "bin_end": 2.1,
            "count": 0
           },
           {
            "bin_start": 2.1,
            "bin_end": 2.4,
            "count": 0
           },
           {
            "bin_start": 2.4,
            "bin_end": 2.6999999999999997,
            "count": 0
           },
           {
            "bin_start": 2.6999999999999997,
            "bin_end": 3,
            "count": 1
           }
          ]
         }
        },
        {
         "name": "file_path",
         "dtype": "object",
         "stats": {
          "unique_count": 3,
          "nan_count": 0,
          "categories": [
           {
            "name": "data/parsed/I6_status500_Joined.parsed.tsv",
            "count": 6
           },
           {
            "name": "data/parsed/I7_status500_Joined.parsed.tsv",
            "count": 3
           },
           {
            "name": "data/parsed/I4_status500_Joined.parsed.tsv",
            "count": 1
           }
          ]
         }
        },
        {
         "name": "interval",
         "dtype": "int64",
         "stats": {
          "unique_count": 3,
          "nan_count": 0,
          "min": "4",
          "max": "7",
          "histogram": [
           {
            "bin_start": 4,
            "bin_end": 4.3,
            "count": 1
           },
           {
            "bin_start": 4.3,
            "bin_end": 4.6,
            "count": 0
           },
           {
            "bin_start": 4.6,
            "bin_end": 4.9,
            "count": 0
           },
           {
            "bin_start": 4.9,
            "bin_end": 5.2,
            "count": 0
           },
           {
            "bin_start": 5.2,
            "bin_end": 5.5,
            "count": 0
           },
           {
            "bin_start": 5.5,
            "bin_end": 5.8,
            "count": 0
           },
           {
            "bin_start": 5.8,
            "bin_end": 6.1,
            "count": 6
           },
           {
            "bin_start": 6.1,
            "bin_end": 6.4,
            "count": 0
           },
           {
            "bin_start": 6.4,
            "bin_end": 6.699999999999999,
            "count": 0
           },
           {
            "bin_start": 6.699999999999999,
            "bin_end": 7,
            "count": 3
           }
          ]
         }
        },
        {
         "name": "has_variable",
         "dtype": "bool",
         "stats": {
          "unique_count": 1,
          "nan_count": 0,
          "categories": [
           {
            "name": "True",
            "count": 10
           }
          ]
         }
        },
        {
         "name": "has_filter",
         "dtype": "bool",
         "stats": {
          "unique_count": 2,
          "nan_count": 0,
          "categories": [
           {
            "name": "True",
            "count": 9
           },
           {
            "name": "False",
            "count": 1
           }
          ]
         }
        },
        {
         "name": "has_orderby",
         "dtype": "bool",
         "stats": {
          "unique_count": 2,
          "nan_count": 0,
          "categories": [
           {
            "name": "True",
            "count": 7
           },
           {
            "name": "False",
            "count": 3
           }
          ]
         }
        },
        {
         "name": "has_limit",
         "dtype": "bool",
         "stats": {
          "unique_count": 2,
          "nan_count": 0,
          "categories": [
           {
            "name": "False",
            "count": 5
           },
           {
            "name": "True",
            "count": 5
           }
          ]
         }
        },
        {
         "name": "has_select",
         "dtype": "bool",
         "stats": {
          "unique_count": 1,
          "nan_count": 0,
          "categories": [
           {
            "name": "True",
            "count": 10
           }
          ]
         }
        },
        {
         "name": "has_distinct",
         "dtype": "bool",
         "stats": {
          "unique_count": 1,
          "nan_count": 0,
          "categories": [
           {
            "name": "False",
            "count": 10
           }
          ]
         }
        },
        {
         "name": "has_modify",
         "dtype": "bool",
         "stats": {
          "unique_count": 1,
          "nan_count": 0,
          "categories": [
           {
            "name": "False",
            "count": 10
           }
          ]
         }
        },
        {
         "name": "has_tomultiset",
         "dtype": "bool",
         "stats": {
          "unique_count": 2,
          "nan_count": 0,
          "categories": [
           {
            "name": "False",
            "count": 7
           },
           {
            "name": "True",
            "count": 3
           }
          ]
         }
        },
        {
         "name": "has_join",
         "dtype": "bool",
         "stats": {
          "unique_count": 1,
          "nan_count": 0,
          "categories": [
           {
            "name": "True",
            "count": 10
           }
          ]
         }
        },
        {
         "name": "has_bgp",
         "dtype": "bool",
         "stats": {
          "unique_count": 1,
          "nan_count": 0,
          "categories": [
           {
            "name": "True",
            "count": 10
           }
          ]
         }
        },
        {
         "name": "has_project",
         "dtype": "bool",
         "stats": {
          "unique_count": 1,
          "nan_count": 0,
          "categories": [
           {
            "name": "True",
            "count": 10
           }
          ]
         }
        },
        {
         "name": "has_union",
         "dtype": "bool",
         "stats": {
          "unique_count": 2,
          "nan_count": 0,
          "categories": [
           {
            "name": "False",
            "count": 9
           },
           {
            "name": "True",
            "count": 1
           }
          ]
         }
        },
        {
         "name": "has_values",
         "dtype": "bool",
         "stats": {
          "unique_count": 2,
          "nan_count": 0,
          "categories": [
           {
            "name": "False",
            "count": 7
           },
           {
            "name": "True",
            "count": 3
           }
          ]
         }
        },
        {
         "name": "has_slice",
         "dtype": "bool",
         "stats": {
          "unique_count": 2,
          "nan_count": 0,
          "categories": [
           {
            "name": "False",
            "count": 5
           },
           {
            "name": "True",
            "count": 5
           }
          ]
         }
        },
        {
         "name": "has_offset",
         "dtype": "bool",
         "stats": {
          "unique_count": 1,
          "nan_count": 0,
          "categories": [
           {
            "name": "False",
            "count": 10
           }
          ]
         }
        },
        {
         "name": "_deepnote_index_column",
         "dtype": "int64"
        }
       ],
       "rows": [
        {
         "anonymizedQuery": "SELECT%28+COUNT+%28+DISTINCT++%3Fvar1++%29+AS++%3Fvar2++%29%0AWHERE+%7B%0A++%3Fvar3++%3Chttp%3A%2F%…",
         "timestamp": "2017-12-29 05:57:47",
         "sourceCategory": "organic",
         "user_agent": "browser",
         "var_cpt": 23,
         "filter": 0,
         "orderby": 0,
         "limit": 0,
         "select": 1,
         "distinct": 0,
         "join": 39,
         "project": 1,
         "tomultiset": 0,
         "union": 0,
         "modify": 0,
         "bgp": 1,
         "values": 0,
         "groupBy": 1,
         "slice": 0,
         "triples": 40,
         "offset": 0,
         "extend": 1,
         "filter_not_exists": 0,
         "leftJoin": 0,
         "minus": 0,
         "notexist": 0,
         "sample": 0,
         "count": 0,
         "having": 0,
         "pathWithStar": 0,
         "pathWithPlus": 0,
         "pathWithQuestionMark": 0,
         "pathWithInv": 0,
         "pathWithSequence": 0,
         "pathWithAlternative": 0,
         "complexPathWith": 0,
         "simplePathWith": 0,
         "file_path": "data/parsed/I4_status500_Joined.parsed.tsv",
         "interval": 4,
         "has_variable": true,
         "has_filter": false,
         "has_orderby": false,
         "has_limit": false,
         "has_select": true,
         "has_distinct": false,
         "has_modify": false,
         "has_tomultiset": false,
         "has_join": true,
         "has_bgp": true,
         "has_project": true,
         "has_union": false,
         "has_values": false,
         "has_slice": false,
         "has_offset": false,
         "_deepnote_index_column": 53856
        },
        {
         "anonymizedQuery": "SELECT+*%0AWHERE+%7B%0A+%7B%0A+++%3Fvar1++%3Chttp%3A%2F%2Fwww.wikidata.org%2Fprop%2Fdirect%2FP106%3…",
         "timestamp": "2018-03-03 08:04:08",
         "sourceCategory": "robotic",
         "user_agent": "UNKNOWN",
         "var_cpt": 25,
         "filter": 1,
         "orderby": 1,
         "limit": 0,
         "select": 1,
         "distinct": 0,
         "join": 10,
         "project": 1,
         "tomultiset": 0,
         "union": 0,
         "modify": 0,
         "bgp": 21,
         "values": 0,
         "groupBy": 0,
         "slice": 0,
         "triples": 30,
         "offset": 0,
         "extend": 0,
         "filter_not_exists": 0,
         "leftJoin": 18,
         "minus": 1,
         "notexist": 0,
         "sample": 0,
         "count": 0,
         "having": 2,
         "pathWithStar": 0,
         "pathWithPlus": 0,
         "pathWithQuestionMark": 0,
         "pathWithInv": 0,
         "pathWithSequence": 0,
         "pathWithAlternative": 0,
         "complexPathWith": 0,
         "simplePathWith": 0,
         "file_path": "data/parsed/I7_status500_Joined.parsed.tsv",
         "interval": 7,
         "has_variable": true,
         "has_filter": true,
         "has_orderby": true,
         "has_limit": false,
         "has_select": true,
         "has_distinct": false,
         "has_modify": false,
         "has_tomultiset": false,
         "has_join": true,
         "has_bgp": true,
         "has_project": true,
         "has_union": false,
         "has_values": false,
         "has_slice": false,
         "has_offset": false,
         "_deepnote_index_column": 101970
        },
        {
         "anonymizedQuery": "SELECT+*%0AWHERE+%7B%0A+%7B%0A+++%3Fvar1+%28+%3Chttp%3A%2F%2Fwww.wikidata.org%2Fprop%2Fdirect%2FP10…",
         "timestamp": "2018-03-01 21:41:12",
         "sourceCategory": "robotic",
         "user_agent": "UNKNOWN",
         "var_cpt": 9,
         "filter": 3,
         "orderby": 1,
         "limit": 0,
         "select": 1,
         "distinct": 0,
         "join": 24,
         "project": 1,
         "tomultiset": 0,
         "union": 2,
         "modify": 0,
         "bgp": 9,
         "values": 0,
         "groupBy": 0,
         "slice": 0,
         "triples": 30,
         "offset": 0,
         "extend": 0,
         "filter_not_exists": 0,
         "leftJoin": 0,
         "minus": 3,
         "notexist": 0,
         "sample": 0,
         "count": 0,
         "having": 6,
         "pathWithStar": 3,
         "pathWithPlus": 0,
         "pathWithQuestionMark": 0,
         "pathWithInv": 0,
         "pathWithSequence": 3,
         "pathWithAlternative": 0,
         "complexPathWith": 3,
         "simplePathWith": 3,
         "file_path": "data/parsed/I7_status500_Joined.parsed.tsv",
         "interval": 7,
         "has_variable": true,
         "has_filter": true,
         "has_orderby": true,
         "has_limit": false,
         "has_select": true,
         "has_distinct": false,
         "has_modify": false,
         "has_tomultiset": false,
         "has_join": true,
         "has_bgp": true,
         "has_project": true,
         "has_union": true,
         "has_values": false,
         "has_slice": false,
         "has_offset": false,
         "_deepnote_index_column": 100679
        },
        {
         "anonymizedQuery": "SELECT+*%0AWHERE+%7B%0A+%7B%0A+++%3Fvar1++%3Chttp%3A%2F%2Fwww.wikidata.org%2Fprop%2Fdirect%2FP106%3…",
         "timestamp": "2018-03-03 19:53:52",
         "sourceCategory": "robotic",
         "user_agent": "UNKNOWN",
         "var_cpt": 26,
         "filter": 1,
         "orderby": 1,
         "limit": 0,
         "select": 1,
         "distinct": 0,
         "join": 8,
         "project": 1,
         "tomultiset": 0,
         "union": 0,
         "modify": 0,
         "bgp": 21,
         "values": 0,
         "groupBy": 0,
         "slice": 0,
         "triples": 28,
         "offset": 0,
         "extend": 0,
         "filter_not_exists": 0,
         "leftJoin": 18,
         "minus": 1,
         "notexist": 0,
         "sample": 0,
         "count": 0,
         "having": 2,
         "pathWithStar": 0,
         "pathWithPlus": 0,
         "pathWithQuestionMark": 0,
         "pathWithInv": 0,
         "pathWithSequence": 0,
         "pathWithAlternative": 0,
         "complexPathWith": 0,
         "simplePathWith": 0,
         "file_path": "data/parsed/I7_status500_Joined.parsed.tsv",
         "interval": 7,
         "has_variable": true,
         "has_filter": true,
         "has_orderby": true,
         "has_limit": false,
         "has_select": true,
         "has_distinct": false,
         "has_modify": false,
         "has_tomultiset": false,
         "has_join": true,
         "has_bgp": true,
         "has_project": true,
         "has_union": false,
         "has_values": false,
         "has_slice": false,
         "has_offset": false,
         "_deepnote_index_column": 102382
        },
        {
         "anonymizedQuery": "SELECT+*%0AWHERE+%7B%0A++%3Fvar1++%3Chttp%3A%2F%2Fwww.wikidata.org%2Fprop%2Fdirect%2FP106%3E++%3Fva…",
         "timestamp": "2018-02-25 11:54:23",
         "sourceCategory": "robotic",
         "user_agent": "UNKNOWN",
         "var_cpt": 27,
         "filter": 1,
         "orderby": 0,
         "limit": 50,
         "select": 1,
         "distinct": 0,
         "join": 9,
         "project": 1,
         "tomultiset": 1,
         "union": 0,
         "modify": 0,
         "bgp": 20,
         "values": 1,
         "groupBy": 0,
         "slice": 1,
         "triples": 27,
         "offset": 0,
         "extend": 0,
         "filter_not_exists": 0,
         "leftJoin": 17,
         "minus": 1,
         "notexist": 0,
         "sample": 0,
         "count": 0,
         "having": 3,
         "pathWithStar": 0,
         "pathWithPlus": 0,
         "pathWithQuestionMark": 0,
         "pathWithInv": 0,
         "pathWithSequence": 0,
         "pathWithAlternative": 0,
         "complexPathWith": 0,
         "simplePathWith": 0,
         "file_path": "data/parsed/I6_status500_Joined.parsed.tsv",
         "interval": 6,
         "has_variable": true,
         "has_filter": true,
         "has_orderby": false,
         "has_limit": true,
         "has_select": true,
         "has_distinct": false,
         "has_modify": false,
         "has_tomultiset": true,
         "has_join": true,
         "has_bgp": true,
         "has_project": true,
         "has_union": false,
         "has_values": true,
         "has_slice": true,
         "has_offset": false,
         "_deepnote_index_column": 96611
        },
        {
         "anonymizedQuery": "SELECT%28+COUNT+%28+DISTINCT++%3Fvar1++%29+AS++%3Fvar2++%29%0AWHERE+%7B%0A++%3Fvar3++%3Chttp%3A%2F%…",
         "timestamp": "2018-02-25 22:22:32",
         "sourceCategory": "organic",
         "user_agent": "browser",
         "var_cpt": 26,
         "filter": 1,
         "orderby": 0,
         "limit": 0,
         "select": 1,
         "distinct": 0,
         "join": 7,
         "project": 1,
         "tomultiset": 0,
         "union": 0,
         "modify": 0,
         "bgp": 20,
         "values": 0,
         "groupBy": 1,
         "slice": 0,
         "triples": 27,
         "offset": 0,
         "extend": 1,
         "filter_not_exists": 0,
         "leftJoin": 19,
         "minus": 0,
         "notexist": 0,
         "sample": 0,
         "count": 0,
         "having": 3,
         "pathWithStar": 0,
         "pathWithPlus": 0,
         "pathWithQuestionMark": 0,
         "pathWithInv": 0,
         "pathWithSequence": 0,
         "pathWithAlternative": 0,
         "complexPathWith": 0,
         "simplePathWith": 0,
         "file_path": "data/parsed/I6_status500_Joined.parsed.tsv",
         "interval": 6,
         "has_variable": true,
         "has_filter": true,
         "has_orderby": false,
         "has_limit": false,
         "has_select": true,
         "has_distinct": false,
         "has_modify": false,
         "has_tomultiset": false,
         "has_join": true,
         "has_bgp": true,
         "has_project": true,
         "has_union": false,
         "has_values": false,
         "has_slice": false,
         "has_offset": false,
         "_deepnote_index_column": 97163
        },
        {
         "anonymizedQuery": "SELECT+*%0AWHERE+%7B%0A++%3Fvar1++%3Chttp%3A%2F%2Fwww.wikidata.org%2Fprop%2Fdirect%2FP106%3E++%3Fva…",
         "timestamp": "2018-02-25 11:52:55",
         "sourceCategory": "robotic",
         "user_agent": "UNKNOWN",
         "var_cpt": 27,
         "filter": 1,
         "orderby": 1,
         "limit": 50,
         "select": 1,
         "distinct": 0,
         "join": 9,
         "project": 1,
         "tomultiset": 1,
         "union": 0,
         "modify": 0,
         "bgp": 20,
         "values": 1,
         "groupBy": 0,
         "slice": 1,
         "triples": 27,
         "offset": 0,
         "extend": 0,
         "filter_not_exists": 0,
         "leftJoin": 17,
         "minus": 1,
         "notexist": 0,
         "sample": 0,
         "count": 0,
         "having": 3,
         "pathWithStar": 0,
         "pathWithPlus": 0,
         "pathWithQuestionMark": 0,
         "pathWithInv": 0,
         "pathWithSequence": 0,
         "pathWithAlternative": 0,
         "complexPathWith": 0,
         "simplePathWith": 0,
         "file_path": "data/parsed/I6_status500_Joined.parsed.tsv",
         "interval": 6,
         "has_variable": true,
         "has_filter": true,
         "has_orderby": true,
         "has_limit": true,
         "has_select": true,
         "has_distinct": false,
         "has_modify": false,
         "has_tomultiset": true,
         "has_join": true,
         "has_bgp": true,
         "has_project": true,
         "has_union": false,
         "has_values": true,
         "has_slice": true,
         "has_offset": false,
         "_deepnote_index_column": 96609
        },
        {
         "anonymizedQuery": "SELECT+*%0AWHERE+%7B%0A++%3Fvar1++%3Chttp%3A%2F%2Fwww.wikidata.org%2Fprop%2Fdirect%2FP106%3E++%3Fva…",
         "timestamp": "2018-02-25 11:50:48",
         "sourceCategory": "robotic",
         "user_agent": "UNKNOWN",
         "var_cpt": 27,
         "filter": 1,
         "orderby": 1,
         "limit": 50,
         "select": 1,
         "distinct": 0,
         "join": 9,
         "project": 1,
         "tomultiset": 1,
         "union": 0,
         "modify": 0,
         "bgp": 20,
         "values": 1,
         "groupBy": 0,
         "slice": 1,
         "triples": 27,
         "offset": 0,
         "extend": 0,
         "filter_not_exists": 0,
         "leftJoin": 17,
         "minus": 1,
         "notexist": 0,
         "sample": 0,
         "count": 0,
         "having": 3,
         "pathWithStar": 0,
         "pathWithPlus": 0,
         "pathWithQuestionMark": 0,
         "pathWithInv": 0,
         "pathWithSequence": 0,
         "pathWithAlternative": 0,
         "complexPathWith": 0,
         "simplePathWith": 0,
         "file_path": "data/parsed/I6_status500_Joined.parsed.tsv",
         "interval": 6,
         "has_variable": true,
         "has_filter": true,
         "has_orderby": true,
         "has_limit": true,
         "has_select": true,
         "has_distinct": false,
         "has_modify": false,
         "has_tomultiset": true,
         "has_join": true,
         "has_bgp": true,
         "has_project": true,
         "has_union": false,
         "has_values": true,
         "has_slice": true,
         "has_offset": false,
         "_deepnote_index_column": 96607
        },
        {
         "anonymizedQuery": "SELECT+*%0AWHERE+%7B%0A++%3Fvar1++%3Chttp%3A%2F%2Fwww.wikidata.org%2Fprop%2Fdirect%2FP106%3E++%3Cht…",
         "timestamp": "2018-02-25 17:05:04",
         "sourceCategory": "robotic",
         "user_agent": "UNKNOWN",
         "var_cpt": 25,
         "filter": 1,
         "orderby": 1,
         "limit": 50,
         "select": 1,
         "distinct": 0,
         "join": 8,
         "project": 1,
         "tomultiset": 0,
         "union": 0,
         "modify": 0,
         "bgp": 20,
         "values": 0,
         "groupBy": 0,
         "slice": 1,
         "triples": 27,
         "offset": 0,
         "extend": 0,
         "filter_not_exists": 0,
         "leftJoin": 17,
         "minus": 1,
         "notexist": 0,
         "sample": 0,
         "count": 0,
         "having": 3,
         "pathWithStar": 0,
         "pathWithPlus": 0,
         "pathWithQuestionMark": 0,
         "pathWithInv": 0,
         "pathWithSequence": 0,
         "pathWithAlternative": 0,
         "complexPathWith": 0,
         "simplePathWith": 0,
         "file_path": "data/parsed/I6_status500_Joined.parsed.tsv",
         "interval": 6,
         "has_variable": true,
         "has_filter": true,
         "has_orderby": true,
         "has_limit": true,
         "has_select": true,
         "has_distinct": false,
         "has_modify": false,
         "has_tomultiset": false,
         "has_join": true,
         "has_bgp": true,
         "has_project": true,
         "has_union": false,
         "has_values": false,
         "has_slice": true,
         "has_offset": false,
         "_deepnote_index_column": 96871
        },
        {
         "anonymizedQuery": "SELECT+*%0AWHERE+%7B%0A++%3Fvar1++%3Chttp%3A%2F%2Fwww.wikidata.org%2Fprop%2Fdirect%2FP106%3E++%3Cht…",
         "timestamp": "2018-02-25 17:02:09",
         "sourceCategory": "robotic",
         "user_agent": "UNKNOWN",
         "var_cpt": 25,
         "filter": 1,
         "orderby": 1,
         "limit": 50,
         "select": 1,
         "distinct": 0,
         "join": 9,
         "project": 1,
         "tomultiset": 0,
         "union": 0,
         "modify": 0,
         "bgp": 19,
         "values": 0,
         "groupBy": 0,
         "slice": 1,
         "triples": 27,
         "offset": 0,
         "extend": 0,
         "filter_not_exists": 0,
         "leftJoin": 16,
         "minus": 1,
         "notexist": 0,
         "sample": 0,
         "count": 0,
         "having": 3,
         "pathWithStar": 0,
         "pathWithPlus": 0,
         "pathWithQuestionMark": 0,
         "pathWithInv": 0,
         "pathWithSequence": 0,
         "pathWithAlternative": 0,
         "complexPathWith": 0,
         "simplePathWith": 0,
         "file_path": "data/parsed/I6_status500_Joined.parsed.tsv",
         "interval": 6,
         "has_variable": true,
         "has_filter": true,
         "has_orderby": true,
         "has_limit": true,
         "has_select": true,
         "has_distinct": false,
         "has_modify": false,
         "has_tomultiset": false,
         "has_join": true,
         "has_bgp": true,
         "has_project": true,
         "has_union": false,
         "has_values": false,
         "has_slice": true,
         "has_offset": false,
         "_deepnote_index_column": 96868
        }
       ]
      },
      "text/plain": "                                                                                                                                                                                                                                                                                                                                                                                                                                                                                                                                                                                                                                                                                                                                                                                                                                                                                                                                                                                                                                                                                                                                                                                                                                                                                                                                                                                                                                                                                                                                                                                                                                                                                                                                                                                                                                                                                                                                                                                                                                                                                                                                                                                                                                                                                                                                                                                                                                                                                                                                                                                                                                                                                                                                                                                                                                                                                                                                                                                                                                                                                                                                                                                                                                                                                                                                                                                                                                                                                                                                                                                                                                                                                                                     anonymizedQuery  ... has_offset\n53856   SELECT%28+COUNT+%28+DISTINCT++%3Fvar1++%29+AS++%3Fvar2++%29%0AWHERE+%7B%0A++%3Fvar3++%3Chttp%3A%2F%2Fschema.org%2Fabout%3E++%3Fvar1+.%0A++%3Fvar3++%3Chttp%3A%2F%2Fschema.org%2FinLanguage%3E++%22en%22.%0A++%3Fvar4++%3Chttp%3A%2F%2Fschema.org%2Fabout%3E++%3Fvar1+.%0A++%3Fvar4++%3Chttp%3A%2F%2Fschema.org%2FinLanguage%3E++%22de%22.%0A++%3Fvar5++%3Chttp%3A%2F%2Fschema.org%2Fabout%3E++%3Fvar1+.%0A++%3Fvar5++%3Chttp%3A%2F%2Fschema.org%2FinLanguage%3E++%22fr%22.%0A++%3Fvar6++%3Chttp%3A%2F%2Fschema.org%2Fabout%3E++%3Fvar1+.%0A++%3Fvar6++%3Chttp%3A%2F%2Fschema.org%2FinLanguage%3E++%22ja%22.%0A++%3Fvar7++%3Chttp%3A%2F%2Fschema.org%2Fabout%3E++%3Fvar1+.%0A++%3Fvar7++%3Chttp%3A%2F%2Fschema.org%2FinLanguage%3E++%22es%22.%0A++%3Fvar8++%3Chttp%3A%2F%2Fschema.org%2Fabout%3E++%3Fvar1+.%0A++%3Fvar8++%3Chttp%3A%2F%2Fschema.org%2FinLanguage%3E++%22ru%22.%0A++%3Fvar9++%3Chttp%3A%2F%2Fschema.org%2Fabout%3E++%3Fvar1+.%0A++%3Fvar9++%3Chttp%3A%2F%2Fschema.org%2FinLanguage%3E++%22zh%22.%0A++%3Fvar10++%3Chttp%3A%2F%2Fschema.org%2Fabout%3E++%3Fvar1+.%0A++%3Fvar10++%3Chttp%3A%2F%2Fschema.org%2FinLanguage%3E++%22it%22.%0A++%3Fvar11++%3Chttp%3A%2F%2Fschema.org%2Fabout%3E++%3Fvar1+.%0A++%3Fvar11++%3Chttp%3A%2F%2Fschema.org%2FinLanguage%3E++%22pt%22.%0A++%3Fvar12++%3Chttp%3A%2F%2Fschema.org%2Fabout%3E++%3Fvar1+.%0A++%3Fvar12++%3Chttp%3A%2F%2Fschema.org%2FinLanguage%3E++%22pl%22.%0A++%3Fvar13++%3Chttp%3A%2F%2Fschema.org%2Fabout%3E++%3Fvar1+.%0A++%3Fvar13++%3Chttp%3A%2F%2Fschema.org%2FinLanguage%3E++%22nl%22.%0A++%3Fvar14++%3Chttp%3A%2F%2Fschema.org%2Fabout%3E++%3Fvar1+.%0A++%3Fvar14++%3Chttp%3A%2F%2Fschema.org%2FinLanguage%3E++%22uk%22.%0A++%3Fvar15++%3Chttp%3A%2F%2Fschema.org%2Fabout%3E++%3Fvar1+.%0A++%3Fvar15++%3Chttp%3A%2F%2Fschema.org%2FinLanguage%3E++%22fa%22.%0A++%3Fvar16++%3Chttp%3A%2F%2Fschema.org%2Fabout%3E++%3Fvar1+.%0A++%3Fvar16++%3Chttp%3A%2F%2Fschema.org%2FinLanguage%3E++%22he%22.%0A++%3Fvar17++%3Chttp%3A%2F%2Fschema.org%2Fabout%3E++%3Fvar1+.%0A++%3Fvar17++%3Chttp%3A%2F%2Fschema.org%2FinLanguage%3E++%22ar%22.%0A++%3Fvar18++%3Chttp%3A%2F%2Fschema.org%2Fabout%3E++%3Fvar1+.%0A++%3Fvar18++%3Chttp%3A%2F%2Fschema.org%2FinLanguage%3E++%22sv%22.%0A++%3Fvar19++%3Chttp%3A%2F%2Fschema.org%2Fabout%3E++%3Fvar1+.%0A++%3Fvar19++%3Chttp%3A%2F%2Fschema.org%2FinLanguage%3E++%22ko%22.%0A++%3Fvar20++%3Chttp%3A%2F%2Fschema.org%2Fabout%3E++%3Fvar1+.%0A++%3Fvar20++%3Chttp%3A%2F%2Fschema.org%2FinLanguage%3E++%22cs%22.%0A++%3Fvar21++%3Chttp%3A%2F%2Fschema.org%2Fabout%3E++%3Fvar1+.%0A++%3Fvar21++%3Chttp%3A%2F%2Fschema.org%2FinLanguage%3E++%22ca%22.%0A++%3Fvar22++%3Chttp%3A%2F%2Fschema.org%2Fabout%3E++%3Fvar1+.%0A++%3Fvar22++%3Chttp%3A%2F%2Fschema.org%2FinLanguage%3E++%22id%22.%0A%7D%0A                                                                                                                                                                                                                                                                                                                                                                                                                                                                                                                                                                                                                                                                                                                                                                                                                                                                                                                                ...  False    \n101970  SELECT+*%0AWHERE+%7B%0A+%7B%0A+++%3Fvar1++%3Chttp%3A%2F%2Fwww.wikidata.org%2Fprop%2Fdirect%2FP106%3E++%3Chttp%3A%2F%2Fwww.wikidata.org%2Fentity%2FQ177220%3E+.%0A+++%3Fvar1++%3Chttp%3A%2F%2Fwww.wikidata.org%2Fprop%2Fdirect%2FP106%3E++%3Fvar2+.%0A+++%3Fvar1++%3Chttp%3A%2F%2Fwww.wikidata.org%2Fprop%2Fdirect%2FP31%3E++%3Chttp%3A%2F%2Fwww.wikidata.org%2Fentity%2FQ5%3E+.%0A+++MINUS++++%7B%0A+++++%3Fvar1++%3Chttp%3A%2F%2Fwww.wikidata.org%2Fprop%2Fdirect%2FP570%3E++%3Fvar3+.%0A+++%7D%0A+++%3Fvar1++%3Chttp%3A%2F%2Fwww.w3.org%2F2000%2F01%2Frdf-schema%23label%3E++%3Fvar4Label+.%0A+++%3Fvar1++%3Chttp%3A%2F%2Fschema.org%2Fdescription%3E++%3Fvar5+.%0A+++%3Fvar1++%3Chttp%3A%2F%2Fwww.wikidata.org%2Fprop%2Fdirect%2FP18%3E++%3Fvar6+.%0A+++%3Fvar1++%3Chttp%3A%2F%2Fwww.wikidata.org%2Fprop%2Fdirect%2FP136%3E++_%3Ab0+.%0A+++_%3Ab0++%3Chttp%3A%2F%2Fwww.wikidata.org%2Fprop%2Fdirect%2FP31%3E++%3Chttp%3A%2F%2Fwww.wikidata.org%2Fentity%2FQ188451%3E+.%0A+++%3Fvar1++%3Chttp%3A%2F%2Fwww.wikidata.org%2Fprop%2Fdirect%2FP2850%3E++%3Fvar7+.%0A+++%3Fvar8++%3Chttp%3A%2F%2Fschema.org%2Fabout%3E++%3Fvar1+.%0A+++%3Fvar8++%3Chttp%3A%2F%2Fschema.org%2FisPartOf%3E++%3Chttps%3A%2F%2Fen.wikipedia.org%2F%3E+.%0A++OPTIONAL+%7B%0A+++%3Fvar1++%3Chttp%3A%2F%2Fwww.wikidata.org%2Fprop%2Fdirect%2FP1559%3E++%3Fvar9+.%0A++%7D%0A++OPTIONAL+%7B%0A+++%3Fvar1++%3Chttp%3A%2F%2Fwww.wikidata.org%2Fprop%2Fdirect%2FP856%3E++%3Fvar10+.%0A++%7D%0A++OPTIONAL+%7B%0A+++%3Fvar1++%3Chttp%3A%2F%2Fwww.wikidata.org%2Fprop%2Fdirect%2FP2013%3E++%3Fvar11+.%0A++%7D%0A++OPTIONAL+%7B%0A+++%3Fvar1++%3Chttp%3A%2F%2Fwww.wikidata.org%2Fprop%2Fdirect%2FP2963%3E++%3Fvar12+.%0A++%7D%0A++OPTIONAL+%7B%0A+++%3Fvar1++%3Chttp%3A%2F%2Fwww.wikidata.org%2Fprop%2Fdirect%2FP109%3E++%3Fvar13+.%0A++%7D%0A++OPTIONAL+%7B%0A+++%3Fvar1++%3Chttp%3A%2F%2Fwww.wikidata.org%2Fprop%2Fdirect%2FP2984%3E++%3Fvar14+.%0A++%7D%0A++OPTIONAL+%7B%0A+++%3Fvar1++%3Chttp%3A%2F%2Fwww.wikidata.org%2Fprop%2Fdirect%2FP2003%3E++%3Fvar15+.%0A++%7D%0A++OPTIONAL+%7B%0A+++%3Fvar1++%3Chttp%3A%2F%2Fwww.wikidata.org%2Fprop%2Fdirect%2FP2397%3E++%3Fvar16+.%0A++%7D%0A++OPTIONAL+%7B%0A+++%3Fvar1++%3Chttp%3A%2F%2Fwww.wikidata.org%2Fprop%2Fdirect%2FP1902%3E++%3Fvar17+.%0A++%7D%0A++OPTIONAL+%7B%0A+++%3Fvar1++%3Chttp%3A%2F%2Fwww.wikidata.org%2Fprop%2Fdirect%2FP4265%3E++%3Fvar18+.%0A++%7D%0A++OPTIONAL+%7B%0A+++%3Fvar1++%3Chttp%3A%2F%2Fwww.wikidata.org%2Fprop%2Fdirect%2FP3579%3E++%3Fvar19+.%0A++%7D%0A++OPTIONAL+%7B%0A+++%3Fvar1++%3Chttp%3A%2F%2Fwww.wikidata.org%2Fprop%2Fdirect%2FP3943%3E++%3Fvar20+.%0A++%7D%0A++OPTIONAL+%7B%0A+++%3Fvar1++%3Chttp%3A%2F%2Fwww.wikidata.org%2Fprop%2Fdirect%2FP3185%3E++%3Fvar21+.%0A++%7D%0A++OPTIONAL+%7B%0A+++%3Fvar1++%3Chttp%3A%2F%2Fwww.wikidata.org%2Fprop%2Fdirect%2FP3258%3E++%3Fvar22+.%0A++%7D%0A++OPTIONAL+%7B%0A+++%3Fvar1++%3Chttp%3A%2F%2Fwww.wikidata.org%2Fprop%2Fdirect%2FP2850%3E++%3Fvar7+.%0A++%7D%0A++OPTIONAL+%7B%0A+++%3Fvar1++%3Chttp%3A%2F%2Fwww.wikidata.org%2Fprop%2Fdirect%2FP3040%3E++%3Fvar23+.%0A++%7D%0A++OPTIONAL+%7B%0A+++%3Fvar1++%3Chttp%3A%2F%2Fwww.wikidata.org%2Fprop%2Fdirect%2FP2035%3E++%3Fvar24+.%0A++%7D%0A++OPTIONAL+%7B%0A+++%3Fvar1++%3Chttp%3A%2F%2Fwww.wikidata.org%2Fprop%2Fdirect%2FP3276%3E++%3Fvar25+.%0A++%7D%0A+FILTER+%28+++%28+%28++LANG+%28++%3Fvar4Label++%29++%3D++%22en%22+%29+%26%26+%28++LANG+%28++%3Fvar5++%29++%3D++%22en%22+%29+%29+%0A%29+.%0A+%7D%0A%7D%0AORDER+BY+ASC%28+%3Fvar1+%29%0A                                                                                                                                                                                                                            ...  False    \n100679  SELECT+*%0AWHERE+%7B%0A+%7B%0A+++%3Fvar1+%28+%3Chttp%3A%2F%2Fwww.wikidata.org%2Fprop%2Fdirect%2FP106%3E+%2F+%3Chttp%3A%2F%2Fwww.wikidata.org%2Fprop%2Fdirect%2FP279%3E+*%29+%3Chttp%3A%2F%2Fwww.wikidata.org%2Fentity%2FQ2066131%3E+.%0A+++%3Fvar1++%3Chttp%3A%2F%2Fwww.wikidata.org%2Fprop%2Fdirect%2FP31%3E++%3Chttp%3A%2F%2Fwww.wikidata.org%2Fentity%2FQ5%3E+.%0A+++MINUS++++%7B%0A+++++%3Fvar1++%3Chttp%3A%2F%2Fwww.wikidata.org%2Fprop%2Fdirect%2FP570%3E++%3Fvar2+.%0A+++%7D%0A+++%3Fvar1++%3Chttp%3A%2F%2Fwww.w3.org%2F2000%2F01%2Frdf-schema%23label%3E++%3Fvar3Label+.%0A+++%3Fvar1++%3Chttp%3A%2F%2Fschema.org%2Fdescription%3E++%3Fvar4+.%0A+++%3Fvar1++%3Chttp%3A%2F%2Fwww.wikidata.org%2Fprop%2Fdirect%2FP18%3E++%3Fvar5+.%0A+++%3Fvar1++%3Chttp%3A%2F%2Fwww.wikidata.org%2Fprop%2Fdirect%2FP641%3E++_%3Ab0+.%0A+++%3Fvar1++%3Chttp%3A%2F%2Fwww.wikidata.org%2Fprop%2Fdirect%2FP2002%3E++%3Fvar6+.%0A+++%3Fvar7++%3Chttp%3A%2F%2Fschema.org%2Fabout%3E++%3Fvar1+.%0A+++%3Fvar7++%3Chttp%3A%2F%2Fschema.org%2FisPartOf%3E++%3Chttps%3A%2F%2Fen.wikipedia.org%2F%3E+.%0A+FILTER+%28+++%28+%28++LANG+%28++%3Fvar3Label++%29++%3D++%22en%22+%29+%26%26+%28++LANG+%28++%3Fvar4++%29++%3D++%22en%22+%29+%29+%0A%29+.%0A+%7D%0A++UNION%0A+%7B%0A+++%3Fvar1+%28+%3Chttp%3A%2F%2Fwww.wikidata.org%2Fprop%2Fdirect%2FP106%3E+%2F+%3Chttp%3A%2F%2Fwww.wikidata.org%2Fprop%2Fdirect%2FP279%3E+*%29+%3Chttp%3A%2F%2Fwww.wikidata.org%2Fentity%2FQ2066131%3E+.%0A+++%3Fvar1++%3Chttp%3A%2F%2Fwww.wikidata.org%2Fprop%2Fdirect%2FP31%3E++%3Chttp%3A%2F%2Fwww.wikidata.org%2Fentity%2FQ5%3E+.%0A+++MINUS++++%7B%0A+++++%3Fvar1++%3Chttp%3A%2F%2Fwww.wikidata.org%2Fprop%2Fdirect%2FP570%3E++%3Fvar2+.%0A+++%7D%0A+++%3Fvar1++%3Chttp%3A%2F%2Fwww.w3.org%2F2000%2F01%2Frdf-schema%23label%3E++%3Fvar3Label+.%0A+++%3Fvar1++%3Chttp%3A%2F%2Fschema.org%2Fdescription%3E++%3Fvar4+.%0A+++%3Fvar1++%3Chttp%3A%2F%2Fwww.wikidata.org%2Fprop%2Fdirect%2FP18%3E++%3Fvar5+.%0A+++%3Fvar1++%3Chttp%3A%2F%2Fwww.wikidata.org%2Fprop%2Fdirect%2FP641%3E++_%3Ab2+.%0A+++%3Fvar1++%3Chttp%3A%2F%2Fwww.wikidata.org%2Fprop%2Fdirect%2FP2003%3E++%3Fvar8+.%0A+++%3Fvar7++%3Chttp%3A%2F%2Fschema.org%2Fabout%3E++%3Fvar1+.%0A+++%3Fvar7++%3Chttp%3A%2F%2Fschema.org%2FisPartOf%3E++%3Chttps%3A%2F%2Fen.wikipedia.org%2F%3E+.%0A+FILTER+%28+++%28+%28++LANG+%28++%3Fvar3Label++%29++%3D++%22en%22+%29+%26%26+%28++LANG+%28++%3Fvar4++%29++%3D++%22en%22+%29+%29+%0A%29+.%0A+%7D%0A++UNION%0A+%7B%0A+++%3Fvar1+%28+%3Chttp%3A%2F%2Fwww.wikidata.org%2Fprop%2Fdirect%2FP106%3E+%2F+%3Chttp%3A%2F%2Fwww.wikidata.org%2Fprop%2Fdirect%2FP279%3E+*%29+%3Chttp%3A%2F%2Fwww.wikidata.org%2Fentity%2FQ2066131%3E+.%0A+++%3Fvar1++%3Chttp%3A%2F%2Fwww.wikidata.org%2Fprop%2Fdirect%2FP31%3E++%3Chttp%3A%2F%2Fwww.wikidata.org%2Fentity%2FQ5%3E+.%0A+++MINUS++++%7B%0A+++++%3Fvar1++%3Chttp%3A%2F%2Fwww.wikidata.org%2Fprop%2Fdirect%2FP570%3E++%3Fvar2+.%0A+++%7D%0A+++%3Fvar1++%3Chttp%3A%2F%2Fwww.w3.org%2F2000%2F01%2Frdf-schema%23label%3E++%3Fvar3Label+.%0A+++%3Fvar1++%3Chttp%3A%2F%2Fschema.org%2Fdescription%3E++%3Fvar4+.%0A+++%3Fvar1++%3Chttp%3A%2F%2Fwww.wikidata.org%2Fprop%2Fdirect%2FP18%3E++%3Fvar5+.%0A+++%3Fvar1++%3Chttp%3A%2F%2Fwww.wikidata.org%2Fprop%2Fdirect%2FP641%3E++_%3Ab3+.%0A+++%3Fvar1++%3Chttp%3A%2F%2Fwww.wikidata.org%2Fprop%2Fdirect%2FP2013%3E++%3Fvar9+.%0A+++%3Fvar7++%3Chttp%3A%2F%2Fschema.org%2Fabout%3E++%3Fvar1+.%0A+++%3Fvar7++%3Chttp%3A%2F%2Fschema.org%2FisPartOf%3E++%3Chttps%3A%2F%2Fen.wikipedia.org%2F%3E+.%0A+FILTER+%28+++%28+%28++LANG+%28++%3Fvar3Label++%29++%3D++%22en%22+%29+%26%26+%28++LANG+%28++%3Fvar4++%29++%3D++%22en%22+%29+%29+%0A%29+.%0A+%7D%0A%7D%0AORDER+BY+ASC%28+%3Fvar1+%29%0A  ...  False    \n102382  SELECT+*%0AWHERE+%7B%0A+%7B%0A+++%3Fvar1++%3Chttp%3A%2F%2Fwww.wikidata.org%2Fprop%2Fdirect%2FP106%3E++%3Chttp%3A%2F%2Fwww.wikidata.org%2Fentity%2FQ10800557%3E+.%0A+++%3Fvar1++%3Chttp%3A%2F%2Fwww.wikidata.org%2Fprop%2Fdirect%2FP106%3E++%3Fvar2+.%0A+++%3Fvar1++%3Chttp%3A%2F%2Fwww.wikidata.org%2Fprop%2Fdirect%2FP31%3E++%3Chttp%3A%2F%2Fwww.wikidata.org%2Fentity%2FQ5%3E+.%0A+++MINUS++++%7B%0A+++++%3Fvar1++%3Chttp%3A%2F%2Fwww.wikidata.org%2Fprop%2Fdirect%2FP570%3E++%3Fvar3+.%0A+++%7D%0A+++%3Fvar1++%3Chttp%3A%2F%2Fwww.w3.org%2F2000%2F01%2Frdf-schema%23label%3E++%3Fvar4Label+.%0A+++%3Fvar1++%3Chttp%3A%2F%2Fschema.org%2Fdescription%3E++%3Fvar5+.%0A+++%3Fvar1++%3Chttp%3A%2F%2Fwww.wikidata.org%2Fprop%2Fdirect%2FP18%3E++%3Fvar6+.%0A+++%3Fvar1++%3Chttp%3A%2F%2Fwww.wikidata.org%2Fprop%2Fdirect%2FP2013%3E++%3Fvar7+.%0A+++%3Fvar8++%3Chttp%3A%2F%2Fschema.org%2Fabout%3E++%3Fvar1+.%0A+++%3Fvar8++%3Chttp%3A%2F%2Fschema.org%2FisPartOf%3E++%3Chttps%3A%2F%2Fen.wikipedia.org%2F%3E+.%0A++OPTIONAL+%7B%0A+++%3Fvar1++%3Chttp%3A%2F%2Fwww.wikidata.org%2Fprop%2Fdirect%2FP1559%3E++%3Fvar9+.%0A++%7D%0A++OPTIONAL+%7B%0A+++%3Fvar1++%3Chttp%3A%2F%2Fwww.wikidata.org%2Fprop%2Fdirect%2FP856%3E++%3Fvar10+.%0A++%7D%0A++OPTIONAL+%7B%0A+++%3Fvar1++%3Chttp%3A%2F%2Fwww.wikidata.org%2Fprop%2Fdirect%2FP2003%3E++%3Fvar11+.%0A++%7D%0A++OPTIONAL+%7B%0A+++%3Fvar1++%3Chttp%3A%2F%2Fwww.wikidata.org%2Fprop%2Fdirect%2FP2963%3E++%3Fvar12+.%0A++%7D%0A++OPTIONAL+%7B%0A+++%3Fvar1++%3Chttp%3A%2F%2Fwww.wikidata.org%2Fprop%2Fdirect%2FP109%3E++%3Fvar13+.%0A++%7D%0A++OPTIONAL+%7B%0A+++%3Fvar1++%3Chttp%3A%2F%2Fwww.wikidata.org%2Fprop%2Fdirect%2FP2002%3E++%3Fvar14+.%0A++%7D%0A++OPTIONAL+%7B%0A+++%3Fvar1++%3Chttp%3A%2F%2Fwww.wikidata.org%2Fprop%2Fdirect%2FP2984%3E++%3Fvar15+.%0A++%7D%0A++OPTIONAL+%7B%0A+++%3Fvar1++%3Chttp%3A%2F%2Fwww.wikidata.org%2Fprop%2Fdirect%2FP2397%3E++%3Fvar16+.%0A++%7D%0A++OPTIONAL+%7B%0A+++%3Fvar1++%3Chttp%3A%2F%2Fwww.wikidata.org%2Fprop%2Fdirect%2FP1902%3E++%3Fvar17+.%0A++%7D%0A++OPTIONAL+%7B%0A+++%3Fvar1++%3Chttp%3A%2F%2Fwww.wikidata.org%2Fprop%2Fdirect%2FP4265%3E++%3Fvar18+.%0A++%7D%0A++OPTIONAL+%7B%0A+++%3Fvar1++%3Chttp%3A%2F%2Fwww.wikidata.org%2Fprop%2Fdirect%2FP3579%3E++%3Fvar19+.%0A++%7D%0A++OPTIONAL+%7B%0A+++%3Fvar1++%3Chttp%3A%2F%2Fwww.wikidata.org%2Fprop%2Fdirect%2FP3943%3E++%3Fvar20+.%0A++%7D%0A++OPTIONAL+%7B%0A+++%3Fvar1++%3Chttp%3A%2F%2Fwww.wikidata.org%2Fprop%2Fdirect%2FP3185%3E++%3Fvar21+.%0A++%7D%0A++OPTIONAL+%7B%0A+++%3Fvar1++%3Chttp%3A%2F%2Fwww.wikidata.org%2Fprop%2Fdirect%2FP3258%3E++%3Fvar22+.%0A++%7D%0A++OPTIONAL+%7B%0A+++%3Fvar1++%3Chttp%3A%2F%2Fwww.wikidata.org%2Fprop%2Fdirect%2FP2850%3E++%3Fvar23+.%0A++%7D%0A++OPTIONAL+%7B%0A+++%3Fvar1++%3Chttp%3A%2F%2Fwww.wikidata.org%2Fprop%2Fdirect%2FP3040%3E++%3Fvar24+.%0A++%7D%0A++OPTIONAL+%7B%0A+++%3Fvar1++%3Chttp%3A%2F%2Fwww.wikidata.org%2Fprop%2Fdirect%2FP2035%3E++%3Fvar25+.%0A++%7D%0A++OPTIONAL+%7B%0A+++%3Fvar1++%3Chttp%3A%2F%2Fwww.wikidata.org%2Fprop%2Fdirect%2FP3276%3E++%3Fvar26+.%0A++%7D%0A+FILTER+%28+++%28+%28++LANG+%28++%3Fvar4Label++%29++%3D++%22en%22+%29+%26%26+%28++LANG+%28++%3Fvar5++%29++%3D++%22en%22+%29+%29+%0A%29+.%0A+%7D%0A%7D%0AORDER+BY+ASC%28+%3Fvar1+%29%0A                                                                                                                                                                                                                                                                                                                                                                                                                                             ...  False    \n96611   SELECT+*%0AWHERE+%7B%0A++%3Fvar1++%3Chttp%3A%2F%2Fwww.wikidata.org%2Fprop%2Fdirect%2FP106%3E++%3Fvar2+.%0A++VALUES+%28++%3Fvar3++%29+%7B%0A+++%28++%3Chttp%3A%2F%2Fwww.wikidata.org%2Fentity%2FQ36180%3E++%29%0A+++%28++%3Chttp%3A%2F%2Fwww.wikidata.org%2Fentity%2FQ10800557%3E++%29%0A+++%28++%3Chttp%3A%2F%2Fwww.wikidata.org%2Fentity%2FQ43845%3E++%29%0A+++%28++%3Chttp%3A%2F%2Fwww.wikidata.org%2Fentity%2FQ639669%3E++%29%0A+++%28++%3Chttp%3A%2F%2Fwww.wikidata.org%2Fentity%2FQ82955%3E++%29%0A++%7D%0A++MINUS+++%7B%0A++++%3Fvar1++%3Chttp%3A%2F%2Fwww.wikidata.org%2Fprop%2Fdirect%2FP570%3E++%3Fvar4+.%0A++%7D%0A++%3Fvar1++%3Chttp%3A%2F%2Fwww.wikidata.org%2Fprop%2Fdirect%2FP1559%3E++%3Fvar5+.%0A++%3Fvar1++%3Chttp%3A%2F%2Fwww.w3.org%2F2000%2F01%2Frdf-schema%23label%3E++%3Fvar6Label+.%0A++%3Fvar1++%3Chttp%3A%2F%2Fschema.org%2Fdescription%3E++%3Fvar7+.%0A++%3Fvar1++%3Chttp%3A%2F%2Fwww.wikidata.org%2Fprop%2Fdirect%2FP18%3E++%3Fvar8+.%0A++%3Fvar1++%3Chttp%3A%2F%2Fwww.wikidata.org%2Fprop%2Fdirect%2FP2002%3E++%3Fvar9+.%0A++%3Fvar1++%3Chttp%3A%2F%2Fwww.wikidata.org%2Fprop%2Fdirect%2FP800%3E++_%3AblankNode+.%0A++_%3AblankNode++%3Chttp%3A%2F%2Fwww.w3.org%2F2000%2F01%2Frdf-schema%23label%3E++%3Fvar10+.%0A++_%3AblankNode++%3Chttp%3A%2F%2Fwww.wikidata.org%2Fprop%2Fdirect%2FP31%3E++%3Chttp%3A%2F%2Fwww.wikidata.org%2Fentity%2FQ571%3E+.%0A+OPTIONAL+%7B%0A++%3Fvar1++%3Chttp%3A%2F%2Fwww.wikidata.org%2Fprop%2Fdirect%2FP109%3E++%3Fvar11+.%0A+%7D%0A+OPTIONAL+%7B%0A++%3Fvar1++%3Chttp%3A%2F%2Fwww.wikidata.org%2Fprop%2Fdirect%2FP856%3E++%3Fvar12+.%0A+%7D%0A+OPTIONAL+%7B%0A++%3Fvar1++%3Chttp%3A%2F%2Fwww.wikidata.org%2Fprop%2Fdirect%2FP2984%3E++%3Fvar13+.%0A+%7D%0A+OPTIONAL+%7B%0A++%3Fvar1++%3Chttp%3A%2F%2Fwww.wikidata.org%2Fprop%2Fdirect%2FP2003%3E++%3Fvar14+.%0A+%7D%0A+OPTIONAL+%7B%0A++%3Fvar1++%3Chttp%3A%2F%2Fwww.wikidata.org%2Fprop%2Fdirect%2FP2397%3E++%3Fvar15+.%0A+%7D%0A+OPTIONAL+%7B%0A++%3Fvar1++%3Chttp%3A%2F%2Fwww.wikidata.org%2Fprop%2Fdirect%2FP2013%3E++%3Fvar16+.%0A+%7D%0A+OPTIONAL+%7B%0A++%3Fvar1++%3Chttp%3A%2F%2Fwww.wikidata.org%2Fprop%2Fdirect%2FP2963%3E++%3Fvar17+.%0A+%7D%0A+OPTIONAL+%7B%0A++%3Fvar1++%3Chttp%3A%2F%2Fwww.wikidata.org%2Fprop%2Fdirect%2FP1902%3E++%3Fvar18+.%0A+%7D%0A+OPTIONAL+%7B%0A++%3Fvar1++%3Chttp%3A%2F%2Fwww.wikidata.org%2Fprop%2Fdirect%2FP4265%3E++%3Fvar19+.%0A+%7D%0A+OPTIONAL+%7B%0A++%3Fvar1++%3Chttp%3A%2F%2Fwww.wikidata.org%2Fprop%2Fdirect%2FP3579%3E++%3Fvar20+.%0A+%7D%0A+OPTIONAL+%7B%0A++%3Fvar1++%3Chttp%3A%2F%2Fwww.wikidata.org%2Fprop%2Fdirect%2FP3943%3E++%3Fvar21+.%0A+%7D%0A+OPTIONAL+%7B%0A++%3Fvar1++%3Chttp%3A%2F%2Fwww.wikidata.org%2Fprop%2Fdirect%2FP3185%3E++%3Fvar22+.%0A+%7D%0A+OPTIONAL+%7B%0A++%3Fvar1++%3Chttp%3A%2F%2Fwww.wikidata.org%2Fprop%2Fdirect%2FP3258%3E++%3Fvar23+.%0A+%7D%0A+OPTIONAL+%7B%0A++%3Fvar1++%3Chttp%3A%2F%2Fwww.wikidata.org%2Fprop%2Fdirect%2FP2850%3E++%3Fvar24+.%0A+%7D%0A+OPTIONAL+%7B%0A++%3Fvar1++%3Chttp%3A%2F%2Fwww.wikidata.org%2Fprop%2Fdirect%2FP3040%3E++%3Fvar25+.%0A+%7D%0A+OPTIONAL+%7B%0A++%3Fvar1++%3Chttp%3A%2F%2Fwww.wikidata.org%2Fprop%2Fdirect%2FP2035%3E++%3Fvar26+.%0A+%7D%0A+OPTIONAL+%7B%0A++%3Fvar1++%3Chttp%3A%2F%2Fwww.wikidata.org%2Fprop%2Fdirect%2FP3276%3E++%3Fvar27+.%0A+%7D%0A+FILTER+%28++%28+%28++LANG+%28++%3Fvar6Label++%29++%3D++%22en%22+%29+%26%26+%28++LANG+%28++%3Fvar7++%29++%3D++%22en%22+%29+%26%26+%28++LANG+%28++%3Fvar10++%29++%3D++%22en%22+%29+%29+%0A%29+.%0A%7D%0ALIMIT+50%0A                                                                                                                                                                                                                ...  False    \n97163   SELECT%28+COUNT+%28+DISTINCT++%3Fvar1++%29+AS++%3Fvar2++%29%0AWHERE+%7B%0A++%3Fvar3++%3Chttp%3A%2F%2Fwww.wikidata.org%2Fprop%2Fdirect%2FP106%3E++%3Chttp%3A%2F%2Fwww.wikidata.org%2Fentity%2FQ6625963%3E+.%0A++%3Fvar3++%3Chttp%3A%2F%2Fwww.wikidata.org%2Fprop%2Fdirect%2FP1559%3E++%3Fvar1+.%0A++%3Fvar3++%3Chttp%3A%2F%2Fwww.w3.org%2F2000%2F01%2Frdf-schema%23label%3E++%3Fvar4Label+.%0A++%3Fvar3++%3Chttp%3A%2F%2Fschema.org%2Fdescription%3E++%3Fvar5+.%0A++%3Fvar3++%3Chttp%3A%2F%2Fwww.wikidata.org%2Fprop%2Fdirect%2FP18%3E++%3Fvar6+.%0A++%3Fvar3++%3Chttp%3A%2F%2Fwww.wikidata.org%2Fprop%2Fdirect%2FP800%3E++_%3AblankNode+.%0A++_%3AblankNode++%3Chttp%3A%2F%2Fwww.w3.org%2F2000%2F01%2Frdf-schema%23label%3E++%3Fvar7+.%0A++_%3AblankNode++%3Chttp%3A%2F%2Fwww.wikidata.org%2Fprop%2Fdirect%2FP31%3E++%3Chttp%3A%2F%2Fwww.wikidata.org%2Fentity%2FQ571%3E+.%0A+OPTIONAL+%7B%0A++%3Fvar3++%3Chttp%3A%2F%2Fwww.wikidata.org%2Fprop%2Fdirect%2FP2013%3E++%3Fvar8+.%0A+%7D%0A+OPTIONAL+%7B%0A++%3Fvar3++%3Chttp%3A%2F%2Fwww.wikidata.org%2Fprop%2Fdirect%2FP2963%3E++%3Fvar9+.%0A+%7D%0A+OPTIONAL+%7B%0A++%3Fvar3++%3Chttp%3A%2F%2Fwww.wikidata.org%2Fprop%2Fdirect%2FP2002%3E++%3Fvar10+.%0A+%7D%0A+OPTIONAL+%7B%0A++%3Fvar3++%3Chttp%3A%2F%2Fwww.wikidata.org%2Fprop%2Fdirect%2FP856%3E++%3Fvar11+.%0A+%7D%0A+OPTIONAL+%7B%0A++%3Fvar3++%3Chttp%3A%2F%2Fwww.wikidata.org%2Fprop%2Fdirect%2FP109%3E++%3Fvar12+.%0A+%7D%0A+OPTIONAL+%7B%0A++%3Fvar3++%3Chttp%3A%2F%2Fwww.wikidata.org%2Fprop%2Fdirect%2FP2963%3E++%3Fvar9+.%0A+%7D%0A+OPTIONAL+%7B%0A++%3Fvar3++%3Chttp%3A%2F%2Fwww.wikidata.org%2Fprop%2Fdirect%2FP2984%3E++%3Fvar13+.%0A+%7D%0A+OPTIONAL+%7B%0A++%3Fvar3++%3Chttp%3A%2F%2Fwww.wikidata.org%2Fprop%2Fdirect%2FP2003%3E++%3Fvar14+.%0A+%7D%0A+OPTIONAL+%7B%0A++%3Fvar3++%3Chttp%3A%2F%2Fwww.wikidata.org%2Fprop%2Fdirect%2FP2397%3E++%3Fvar15+.%0A+%7D%0A+OPTIONAL+%7B%0A++%3Fvar3++%3Chttp%3A%2F%2Fwww.wikidata.org%2Fprop%2Fdirect%2FP1902%3E++%3Fvar16+.%0A+%7D%0A+OPTIONAL+%7B%0A++%3Fvar3++%3Chttp%3A%2F%2Fwww.wikidata.org%2Fprop%2Fdirect%2FP4265%3E++%3Fvar17+.%0A+%7D%0A+OPTIONAL+%7B%0A++%3Fvar3++%3Chttp%3A%2F%2Fwww.wikidata.org%2Fprop%2Fdirect%2FP3579%3E++%3Fvar18+.%0A+%7D%0A+OPTIONAL+%7B%0A++%3Fvar3++%3Chttp%3A%2F%2Fwww.wikidata.org%2Fprop%2Fdirect%2FP3943%3E++%3Fvar19+.%0A+%7D%0A+OPTIONAL+%7B%0A++%3Fvar3++%3Chttp%3A%2F%2Fwww.wikidata.org%2Fprop%2Fdirect%2FP3185%3E++%3Fvar20+.%0A+%7D%0A+OPTIONAL+%7B%0A++%3Fvar3++%3Chttp%3A%2F%2Fwww.wikidata.org%2Fprop%2Fdirect%2FP3258%3E++%3Fvar21+.%0A+%7D%0A+OPTIONAL+%7B%0A++%3Fvar3++%3Chttp%3A%2F%2Fwww.wikidata.org%2Fprop%2Fdirect%2FP2850%3E++%3Fvar22+.%0A+%7D%0A+OPTIONAL+%7B%0A++%3Fvar3++%3Chttp%3A%2F%2Fwww.wikidata.org%2Fprop%2Fdirect%2FP3040%3E++%3Fvar23+.%0A+%7D%0A+OPTIONAL+%7B%0A++%3Fvar3++%3Chttp%3A%2F%2Fwww.wikidata.org%2Fprop%2Fdirect%2FP2035%3E++%3Fvar24+.%0A+%7D%0A+OPTIONAL+%7B%0A++%3Fvar3++%3Chttp%3A%2F%2Fwww.wikidata.org%2Fprop%2Fdirect%2FP3276%3E++%3Fvar25+.%0A+%7D%0A+FILTER+%28++%28+%28++LANG+%28++%3Fvar4Label++%29++%3D++%22en%22+%29+%26%26+%28++LANG+%28++%3Fvar5++%29++%3D++%22en%22+%29+%26%26+%28++LANG+%28++%3Fvar7++%29++%3D++%22en%22+%29+%29+%0A%29+.%0A%7D%0A                                                                                                                                                                                                                                                                                                                                                                                                                                                                                                            ...  False    \n96609   SELECT+*%0AWHERE+%7B%0A++%3Fvar1++%3Chttp%3A%2F%2Fwww.wikidata.org%2Fprop%2Fdirect%2FP106%3E++%3Fvar2+.%0A++VALUES+%28++%3Fvar3++%29+%7B%0A+++%28++%3Chttp%3A%2F%2Fwww.wikidata.org%2Fentity%2FQ36180%3E++%29%0A+++%28++%3Chttp%3A%2F%2Fwww.wikidata.org%2Fentity%2FQ10800557%3E++%29%0A+++%28++%3Chttp%3A%2F%2Fwww.wikidata.org%2Fentity%2FQ43845%3E++%29%0A+++%28++%3Chttp%3A%2F%2Fwww.wikidata.org%2Fentity%2FQ639669%3E++%29%0A+++%28++%3Chttp%3A%2F%2Fwww.wikidata.org%2Fentity%2FQ82955%3E++%29%0A++%7D%0A++MINUS+++%7B%0A++++%3Fvar1++%3Chttp%3A%2F%2Fwww.wikidata.org%2Fprop%2Fdirect%2FP570%3E++%3Fvar4+.%0A++%7D%0A++%3Fvar1++%3Chttp%3A%2F%2Fwww.wikidata.org%2Fprop%2Fdirect%2FP1559%3E++%3Fvar5+.%0A++%3Fvar1++%3Chttp%3A%2F%2Fwww.w3.org%2F2000%2F01%2Frdf-schema%23label%3E++%3Fvar6Label+.%0A++%3Fvar1++%3Chttp%3A%2F%2Fschema.org%2Fdescription%3E++%3Fvar7+.%0A++%3Fvar1++%3Chttp%3A%2F%2Fwww.wikidata.org%2Fprop%2Fdirect%2FP18%3E++%3Fvar8+.%0A++%3Fvar1++%3Chttp%3A%2F%2Fwww.wikidata.org%2Fprop%2Fdirect%2FP2002%3E++%3Fvar9+.%0A++%3Fvar1++%3Chttp%3A%2F%2Fwww.wikidata.org%2Fprop%2Fdirect%2FP800%3E++_%3AblankNode+.%0A++_%3AblankNode++%3Chttp%3A%2F%2Fwww.w3.org%2F2000%2F01%2Frdf-schema%23label%3E++%3Fvar10+.%0A++_%3AblankNode++%3Chttp%3A%2F%2Fwww.wikidata.org%2Fprop%2Fdirect%2FP31%3E++%3Chttp%3A%2F%2Fwww.wikidata.org%2Fentity%2FQ571%3E+.%0A+OPTIONAL+%7B%0A++%3Fvar1++%3Chttp%3A%2F%2Fwww.wikidata.org%2Fprop%2Fdirect%2FP109%3E++%3Fvar11+.%0A+%7D%0A+OPTIONAL+%7B%0A++%3Fvar1++%3Chttp%3A%2F%2Fwww.wikidata.org%2Fprop%2Fdirect%2FP856%3E++%3Fvar12+.%0A+%7D%0A+OPTIONAL+%7B%0A++%3Fvar1++%3Chttp%3A%2F%2Fwww.wikidata.org%2Fprop%2Fdirect%2FP2984%3E++%3Fvar13+.%0A+%7D%0A+OPTIONAL+%7B%0A++%3Fvar1++%3Chttp%3A%2F%2Fwww.wikidata.org%2Fprop%2Fdirect%2FP2003%3E++%3Fvar14+.%0A+%7D%0A+OPTIONAL+%7B%0A++%3Fvar1++%3Chttp%3A%2F%2Fwww.wikidata.org%2Fprop%2Fdirect%2FP2397%3E++%3Fvar15+.%0A+%7D%0A+OPTIONAL+%7B%0A++%3Fvar1++%3Chttp%3A%2F%2Fwww.wikidata.org%2Fprop%2Fdirect%2FP2013%3E++%3Fvar16+.%0A+%7D%0A+OPTIONAL+%7B%0A++%3Fvar1++%3Chttp%3A%2F%2Fwww.wikidata.org%2Fprop%2Fdirect%2FP2963%3E++%3Fvar17+.%0A+%7D%0A+OPTIONAL+%7B%0A++%3Fvar1++%3Chttp%3A%2F%2Fwww.wikidata.org%2Fprop%2Fdirect%2FP1902%3E++%3Fvar18+.%0A+%7D%0A+OPTIONAL+%7B%0A++%3Fvar1++%3Chttp%3A%2F%2Fwww.wikidata.org%2Fprop%2Fdirect%2FP4265%3E++%3Fvar19+.%0A+%7D%0A+OPTIONAL+%7B%0A++%3Fvar1++%3Chttp%3A%2F%2Fwww.wikidata.org%2Fprop%2Fdirect%2FP3579%3E++%3Fvar20+.%0A+%7D%0A+OPTIONAL+%7B%0A++%3Fvar1++%3Chttp%3A%2F%2Fwww.wikidata.org%2Fprop%2Fdirect%2FP3943%3E++%3Fvar21+.%0A+%7D%0A+OPTIONAL+%7B%0A++%3Fvar1++%3Chttp%3A%2F%2Fwww.wikidata.org%2Fprop%2Fdirect%2FP3185%3E++%3Fvar22+.%0A+%7D%0A+OPTIONAL+%7B%0A++%3Fvar1++%3Chttp%3A%2F%2Fwww.wikidata.org%2Fprop%2Fdirect%2FP3258%3E++%3Fvar23+.%0A+%7D%0A+OPTIONAL+%7B%0A++%3Fvar1++%3Chttp%3A%2F%2Fwww.wikidata.org%2Fprop%2Fdirect%2FP2850%3E++%3Fvar24+.%0A+%7D%0A+OPTIONAL+%7B%0A++%3Fvar1++%3Chttp%3A%2F%2Fwww.wikidata.org%2Fprop%2Fdirect%2FP3040%3E++%3Fvar25+.%0A+%7D%0A+OPTIONAL+%7B%0A++%3Fvar1++%3Chttp%3A%2F%2Fwww.wikidata.org%2Fprop%2Fdirect%2FP2035%3E++%3Fvar26+.%0A+%7D%0A+OPTIONAL+%7B%0A++%3Fvar1++%3Chttp%3A%2F%2Fwww.wikidata.org%2Fprop%2Fdirect%2FP3276%3E++%3Fvar27+.%0A+%7D%0A+FILTER+%28++%28+%28++LANG+%28++%3Fvar6Label++%29++%3D++%22en%22+%29+%26%26+%28++LANG+%28++%3Fvar7++%29++%3D++%22en%22+%29+%26%26+%28++LANG+%28++%3Fvar10++%29++%3D++%22en%22+%29+%29+%0A%29+.%0A%7D%0AORDER+BY+ASC%28+%3Fvar1+%29%0ALIMIT+50%0A                                                                                                                                                                                  ...  False    \n96607   SELECT+*%0AWHERE+%7B%0A++%3Fvar1++%3Chttp%3A%2F%2Fwww.wikidata.org%2Fprop%2Fdirect%2FP106%3E++%3Fvar2+.%0A++VALUES+%28++%3Fvar3++%29+%7B%0A+++%28++%3Chttp%3A%2F%2Fwww.wikidata.org%2Fentity%2FQ36180%3E++%29%0A+++%28++%3Chttp%3A%2F%2Fwww.wikidata.org%2Fentity%2FQ10800557%3E++%29%0A+++%28++%3Chttp%3A%2F%2Fwww.wikidata.org%2Fentity%2FQ43845%3E++%29%0A+++%28++%3Chttp%3A%2F%2Fwww.wikidata.org%2Fentity%2FQ639669%3E++%29%0A+++%28++%3Chttp%3A%2F%2Fwww.wikidata.org%2Fentity%2FQ82955%3E++%29%0A++%7D%0A++MINUS+++%7B%0A++++%3Fvar1++%3Chttp%3A%2F%2Fwww.wikidata.org%2Fprop%2Fdirect%2FP570%3E++%3Fvar4+.%0A++%7D%0A++%3Fvar1++%3Chttp%3A%2F%2Fwww.wikidata.org%2Fprop%2Fdirect%2FP1559%3E++%3Fvar5+.%0A++%3Fvar1++%3Chttp%3A%2F%2Fwww.w3.org%2F2000%2F01%2Frdf-schema%23label%3E++%3Fvar6Label+.%0A++%3Fvar1++%3Chttp%3A%2F%2Fschema.org%2Fdescription%3E++%3Fvar7+.%0A++%3Fvar1++%3Chttp%3A%2F%2Fwww.wikidata.org%2Fprop%2Fdirect%2FP18%3E++%3Fvar8+.%0A++%3Fvar1++%3Chttp%3A%2F%2Fwww.wikidata.org%2Fprop%2Fdirect%2FP2002%3E++%3Fvar9+.%0A++%3Fvar1++%3Chttp%3A%2F%2Fwww.wikidata.org%2Fprop%2Fdirect%2FP800%3E++_%3AblankNode+.%0A++_%3AblankNode++%3Chttp%3A%2F%2Fwww.w3.org%2F2000%2F01%2Frdf-schema%23label%3E++%3Fvar10+.%0A++_%3AblankNode++%3Chttp%3A%2F%2Fwww.wikidata.org%2Fprop%2Fdirect%2FP31%3E++%3Chttp%3A%2F%2Fwww.wikidata.org%2Fentity%2FQ571%3E+.%0A+OPTIONAL+%7B%0A++%3Fvar1++%3Chttp%3A%2F%2Fwww.wikidata.org%2Fprop%2Fdirect%2FP109%3E++%3Fvar11+.%0A+%7D%0A+OPTIONAL+%7B%0A++%3Fvar1++%3Chttp%3A%2F%2Fwww.wikidata.org%2Fprop%2Fdirect%2FP856%3E++%3Fvar12+.%0A+%7D%0A+OPTIONAL+%7B%0A++%3Fvar1++%3Chttp%3A%2F%2Fwww.wikidata.org%2Fprop%2Fdirect%2FP2984%3E++%3Fvar13+.%0A+%7D%0A+OPTIONAL+%7B%0A++%3Fvar1++%3Chttp%3A%2F%2Fwww.wikidata.org%2Fprop%2Fdirect%2FP2003%3E++%3Fvar14+.%0A+%7D%0A+OPTIONAL+%7B%0A++%3Fvar1++%3Chttp%3A%2F%2Fwww.wikidata.org%2Fprop%2Fdirect%2FP2397%3E++%3Fvar15+.%0A+%7D%0A+OPTIONAL+%7B%0A++%3Fvar1++%3Chttp%3A%2F%2Fwww.wikidata.org%2Fprop%2Fdirect%2FP2013%3E++%3Fvar16+.%0A+%7D%0A+OPTIONAL+%7B%0A++%3Fvar1++%3Chttp%3A%2F%2Fwww.wikidata.org%2Fprop%2Fdirect%2FP2963%3E++%3Fvar17+.%0A+%7D%0A+OPTIONAL+%7B%0A++%3Fvar1++%3Chttp%3A%2F%2Fwww.wikidata.org%2Fprop%2Fdirect%2FP1902%3E++%3Fvar18+.%0A+%7D%0A+OPTIONAL+%7B%0A++%3Fvar1++%3Chttp%3A%2F%2Fwww.wikidata.org%2Fprop%2Fdirect%2FP4265%3E++%3Fvar19+.%0A+%7D%0A+OPTIONAL+%7B%0A++%3Fvar1++%3Chttp%3A%2F%2Fwww.wikidata.org%2Fprop%2Fdirect%2FP3579%3E++%3Fvar20+.%0A+%7D%0A+OPTIONAL+%7B%0A++%3Fvar1++%3Chttp%3A%2F%2Fwww.wikidata.org%2Fprop%2Fdirect%2FP3943%3E++%3Fvar21+.%0A+%7D%0A+OPTIONAL+%7B%0A++%3Fvar1++%3Chttp%3A%2F%2Fwww.wikidata.org%2Fprop%2Fdirect%2FP3185%3E++%3Fvar22+.%0A+%7D%0A+OPTIONAL+%7B%0A++%3Fvar1++%3Chttp%3A%2F%2Fwww.wikidata.org%2Fprop%2Fdirect%2FP3258%3E++%3Fvar23+.%0A+%7D%0A+OPTIONAL+%7B%0A++%3Fvar1++%3Chttp%3A%2F%2Fwww.wikidata.org%2Fprop%2Fdirect%2FP2850%3E++%3Fvar24+.%0A+%7D%0A+OPTIONAL+%7B%0A++%3Fvar1++%3Chttp%3A%2F%2Fwww.wikidata.org%2Fprop%2Fdirect%2FP3040%3E++%3Fvar25+.%0A+%7D%0A+OPTIONAL+%7B%0A++%3Fvar1++%3Chttp%3A%2F%2Fwww.wikidata.org%2Fprop%2Fdirect%2FP2035%3E++%3Fvar26+.%0A+%7D%0A+OPTIONAL+%7B%0A++%3Fvar1++%3Chttp%3A%2F%2Fwww.wikidata.org%2Fprop%2Fdirect%2FP3276%3E++%3Fvar27+.%0A+%7D%0A+FILTER+%28++%28+%28++LANG+%28++%3Fvar6Label++%29++%3D++%22en%22+%29+%26%26+%28++LANG+%28++%3Fvar7++%29++%3D++%22en%22+%29+%26%26+%28++LANG+%28++%3Fvar10++%29++%3D++%22en%22+%29+%29+%0A%29+.%0A%7D%0AORDER+BY+ASC%28+%3Fvar1+%29%0ALIMIT+50%0A                                                                                                                                                                                  ...  False    \n96871   SELECT+*%0AWHERE+%7B%0A++%3Fvar1++%3Chttp%3A%2F%2Fwww.wikidata.org%2Fprop%2Fdirect%2FP106%3E++%3Chttp%3A%2F%2Fwww.wikidata.org%2Fentity%2FQ36180%3E+.%0A++MINUS+++%7B%0A++++%3Fvar1++%3Chttp%3A%2F%2Fwww.wikidata.org%2Fprop%2Fdirect%2FP570%3E++%3Fvar2+.%0A++%7D%0A++%3Fvar1++%3Chttp%3A%2F%2Fwww.wikidata.org%2Fprop%2Fdirect%2FP1559%3E++%3Fvar3+.%0A++%3Fvar1++%3Chttp%3A%2F%2Fwww.w3.org%2F2000%2F01%2Frdf-schema%23label%3E++%3Fvar4Label+.%0A++%3Fvar1++%3Chttp%3A%2F%2Fschema.org%2Fdescription%3E++%3Fvar5+.%0A++%3Fvar1++%3Chttp%3A%2F%2Fwww.wikidata.org%2Fprop%2Fdirect%2FP18%3E++%3Fvar6+.%0A++%3Fvar1++%3Chttp%3A%2F%2Fwww.wikidata.org%2Fprop%2Fdirect%2FP2002%3E++%3Fvar7+.%0A++%3Fvar1++%3Chttp%3A%2F%2Fwww.wikidata.org%2Fprop%2Fdirect%2FP800%3E++_%3AblankNode+.%0A++_%3AblankNode++%3Chttp%3A%2F%2Fwww.w3.org%2F2000%2F01%2Frdf-schema%23label%3E++%3Fvar8+.%0A++_%3AblankNode++%3Chttp%3A%2F%2Fwww.wikidata.org%2Fprop%2Fdirect%2FP31%3E++%3Chttp%3A%2F%2Fwww.wikidata.org%2Fentity%2FQ571%3E+.%0A+OPTIONAL+%7B%0A++%3Fvar1++%3Chttp%3A%2F%2Fwww.wikidata.org%2Fprop%2Fdirect%2FP106%3E++%3Fvar9+.%0A+%7D%0A+OPTIONAL+%7B%0A++%3Fvar1++%3Chttp%3A%2F%2Fwww.wikidata.org%2Fprop%2Fdirect%2FP109%3E++%3Fvar10+.%0A+%7D%0A+OPTIONAL+%7B%0A++%3Fvar1++%3Chttp%3A%2F%2Fwww.wikidata.org%2Fprop%2Fdirect%2FP856%3E++%3Fvar11+.%0A+%7D%0A+OPTIONAL+%7B%0A++%3Fvar1++%3Chttp%3A%2F%2Fwww.wikidata.org%2Fprop%2Fdirect%2FP2984%3E++%3Fvar12+.%0A+%7D%0A+OPTIONAL+%7B%0A++%3Fvar1++%3Chttp%3A%2F%2Fwww.wikidata.org%2Fprop%2Fdirect%2FP2003%3E++%3Fvar13+.%0A+%7D%0A+OPTIONAL+%7B%0A++%3Fvar1++%3Chttp%3A%2F%2Fwww.wikidata.org%2Fprop%2Fdirect%2FP2397%3E++%3Fvar14+.%0A+%7D%0A+OPTIONAL+%7B%0A++%3Fvar1++%3Chttp%3A%2F%2Fwww.wikidata.org%2Fprop%2Fdirect%2FP2013%3E++%3Fvar15+.%0A+%7D%0A+OPTIONAL+%7B%0A++%3Fvar1++%3Chttp%3A%2F%2Fwww.wikidata.org%2Fprop%2Fdirect%2FP2963%3E++%3Fvar16+.%0A+%7D%0A+OPTIONAL+%7B%0A++%3Fvar1++%3Chttp%3A%2F%2Fwww.wikidata.org%2Fprop%2Fdirect%2FP1902%3E++%3Fvar17+.%0A+%7D%0A+OPTIONAL+%7B%0A++%3Fvar1++%3Chttp%3A%2F%2Fwww.wikidata.org%2Fprop%2Fdirect%2FP4265%3E++%3Fvar18+.%0A+%7D%0A+OPTIONAL+%7B%0A++%3Fvar1++%3Chttp%3A%2F%2Fwww.wikidata.org%2Fprop%2Fdirect%2FP3579%3E++%3Fvar19+.%0A+%7D%0A+OPTIONAL+%7B%0A++%3Fvar1++%3Chttp%3A%2F%2Fwww.wikidata.org%2Fprop%2Fdirect%2FP3943%3E++%3Fvar20+.%0A+%7D%0A+OPTIONAL+%7B%0A++%3Fvar1++%3Chttp%3A%2F%2Fwww.wikidata.org%2Fprop%2Fdirect%2FP3185%3E++%3Fvar21+.%0A+%7D%0A+OPTIONAL+%7B%0A++%3Fvar1++%3Chttp%3A%2F%2Fwww.wikidata.org%2Fprop%2Fdirect%2FP2850%3E++%3Fvar22+.%0A+%7D%0A+OPTIONAL+%7B%0A++%3Fvar1++%3Chttp%3A%2F%2Fwww.wikidata.org%2Fprop%2Fdirect%2FP3040%3E++%3Fvar23+.%0A+%7D%0A+OPTIONAL+%7B%0A++%3Fvar1++%3Chttp%3A%2F%2Fwww.wikidata.org%2Fprop%2Fdirect%2FP2035%3E++%3Fvar24+.%0A+%7D%0A+OPTIONAL+%7B%0A++%3Fvar1++%3Chttp%3A%2F%2Fwww.wikidata.org%2Fprop%2Fdirect%2FP3276%3E++%3Fvar25+.%0A+%7D%0A+FILTER+%28++%28+%28++LANG+%28++%3Fvar4Label++%29++%3D++%22en%22+%29+%26%26+%28++LANG+%28++%3Fvar5++%29++%3D++%22en%22+%29+%26%26+%28++LANG+%28++%3Fvar8++%29++%3D++%22en%22+%29+%29+%0A%29+.%0A%7D%0AORDER+BY+ASC%28+%3Fvar1+%29%0ALIMIT+50%0A                                                                                                                                                                                                                                                                                                                                                                                                                                                                                                                                              ...  False    \n96868   SELECT+*%0AWHERE+%7B%0A++%3Fvar1++%3Chttp%3A%2F%2Fwww.wikidata.org%2Fprop%2Fdirect%2FP106%3E++%3Chttp%3A%2F%2Fwww.wikidata.org%2Fentity%2FQ36180%3E+.%0A++%3Fvar1++%3Chttp%3A%2F%2Fwww.wikidata.org%2Fprop%2Fdirect%2FP106%3E++%3Fvar2+.%0A++MINUS+++%7B%0A++++%3Fvar1++%3Chttp%3A%2F%2Fwww.wikidata.org%2Fprop%2Fdirect%2FP570%3E++%3Fvar3+.%0A++%7D%0A++%3Fvar1++%3Chttp%3A%2F%2Fwww.wikidata.org%2Fprop%2Fdirect%2FP1559%3E++%3Fvar4+.%0A++%3Fvar1++%3Chttp%3A%2F%2Fwww.w3.org%2F2000%2F01%2Frdf-schema%23label%3E++%3Fvar5Label+.%0A++%3Fvar1++%3Chttp%3A%2F%2Fschema.org%2Fdescription%3E++%3Fvar6+.%0A++%3Fvar1++%3Chttp%3A%2F%2Fwww.wikidata.org%2Fprop%2Fdirect%2FP18%3E++%3Fvar7+.%0A++%3Fvar1++%3Chttp%3A%2F%2Fwww.wikidata.org%2Fprop%2Fdirect%2FP2002%3E++%3Fvar8+.%0A++%3Fvar1++%3Chttp%3A%2F%2Fwww.wikidata.org%2Fprop%2Fdirect%2FP800%3E++_%3AblankNode+.%0A++_%3AblankNode++%3Chttp%3A%2F%2Fwww.w3.org%2F2000%2F01%2Frdf-schema%23label%3E++%3Fvar9+.%0A++_%3AblankNode++%3Chttp%3A%2F%2Fwww.wikidata.org%2Fprop%2Fdirect%2FP31%3E++%3Chttp%3A%2F%2Fwww.wikidata.org%2Fentity%2FQ571%3E+.%0A+OPTIONAL+%7B%0A++%3Fvar1++%3Chttp%3A%2F%2Fwww.wikidata.org%2Fprop%2Fdirect%2FP109%3E++%3Fvar10+.%0A+%7D%0A+OPTIONAL+%7B%0A++%3Fvar1++%3Chttp%3A%2F%2Fwww.wikidata.org%2Fprop%2Fdirect%2FP856%3E++%3Fvar11+.%0A+%7D%0A+OPTIONAL+%7B%0A++%3Fvar1++%3Chttp%3A%2F%2Fwww.wikidata.org%2Fprop%2Fdirect%2FP2984%3E++%3Fvar12+.%0A+%7D%0A+OPTIONAL+%7B%0A++%3Fvar1++%3Chttp%3A%2F%2Fwww.wikidata.org%2Fprop%2Fdirect%2FP2003%3E++%3Fvar13+.%0A+%7D%0A+OPTIONAL+%7B%0A++%3Fvar1++%3Chttp%3A%2F%2Fwww.wikidata.org%2Fprop%2Fdirect%2FP2397%3E++%3Fvar14+.%0A+%7D%0A+OPTIONAL+%7B%0A++%3Fvar1++%3Chttp%3A%2F%2Fwww.wikidata.org%2Fprop%2Fdirect%2FP2013%3E++%3Fvar15+.%0A+%7D%0A+OPTIONAL+%7B%0A++%3Fvar1++%3Chttp%3A%2F%2Fwww.wikidata.org%2Fprop%2Fdirect%2FP2963%3E++%3Fvar16+.%0A+%7D%0A+OPTIONAL+%7B%0A++%3Fvar1++%3Chttp%3A%2F%2Fwww.wikidata.org%2Fprop%2Fdirect%2FP1902%3E++%3Fvar17+.%0A+%7D%0A+OPTIONAL+%7B%0A++%3Fvar1++%3Chttp%3A%2F%2Fwww.wikidata.org%2Fprop%2Fdirect%2FP4265%3E++%3Fvar18+.%0A+%7D%0A+OPTIONAL+%7B%0A++%3Fvar1++%3Chttp%3A%2F%2Fwww.wikidata.org%2Fprop%2Fdirect%2FP3579%3E++%3Fvar19+.%0A+%7D%0A+OPTIONAL+%7B%0A++%3Fvar1++%3Chttp%3A%2F%2Fwww.wikidata.org%2Fprop%2Fdirect%2FP3943%3E++%3Fvar20+.%0A+%7D%0A+OPTIONAL+%7B%0A++%3Fvar1++%3Chttp%3A%2F%2Fwww.wikidata.org%2Fprop%2Fdirect%2FP3185%3E++%3Fvar21+.%0A+%7D%0A+OPTIONAL+%7B%0A++%3Fvar1++%3Chttp%3A%2F%2Fwww.wikidata.org%2Fprop%2Fdirect%2FP2850%3E++%3Fvar22+.%0A+%7D%0A+OPTIONAL+%7B%0A++%3Fvar1++%3Chttp%3A%2F%2Fwww.wikidata.org%2Fprop%2Fdirect%2FP3040%3E++%3Fvar23+.%0A+%7D%0A+OPTIONAL+%7B%0A++%3Fvar1++%3Chttp%3A%2F%2Fwww.wikidata.org%2Fprop%2Fdirect%2FP2035%3E++%3Fvar24+.%0A+%7D%0A+OPTIONAL+%7B%0A++%3Fvar1++%3Chttp%3A%2F%2Fwww.wikidata.org%2Fprop%2Fdirect%2FP3276%3E++%3Fvar25+.%0A+%7D%0A+FILTER+%28++%28+%28++LANG+%28++%3Fvar5Label++%29++%3D++%22en%22+%29+%26%26+%28++LANG+%28++%3Fvar6++%29++%3D++%22en%22+%29+%26%26+%28++LANG+%28++%3Fvar9++%29++%3D++%22en%22+%29+%29+%0A%29+.%0A%7D%0AORDER+BY+ASC%28+%3Fvar1+%29%0ALIMIT+50%0A                                                                                                                                                                                                                                                                                                                                                                                                                                                                                                                                                                     ...  False    \n\n[10 rows x 54 columns]",
      "text/html": "<div>\n<style scoped>\n    .dataframe tbody tr th:only-of-type {\n        vertical-align: middle;\n    }\n\n    .dataframe tbody tr th {\n        vertical-align: top;\n    }\n\n    .dataframe thead th {\n        text-align: right;\n    }\n</style>\n<table border=\"1\" class=\"dataframe\">\n  <thead>\n    <tr style=\"text-align: right;\">\n      <th></th>\n      <th>anonymizedQuery</th>\n      <th>timestamp</th>\n      <th>sourceCategory</th>\n      <th>user_agent</th>\n      <th>var_cpt</th>\n      <th>filter</th>\n      <th>orderby</th>\n      <th>limit</th>\n      <th>select</th>\n      <th>distinct</th>\n      <th>join</th>\n      <th>project</th>\n      <th>tomultiset</th>\n      <th>union</th>\n      <th>modify</th>\n      <th>bgp</th>\n      <th>values</th>\n      <th>groupBy</th>\n      <th>slice</th>\n      <th>triples</th>\n      <th>offset</th>\n      <th>extend</th>\n      <th>filter_not_exists</th>\n      <th>leftJoin</th>\n      <th>minus</th>\n      <th>notexist</th>\n      <th>sample</th>\n      <th>count</th>\n      <th>having</th>\n      <th>pathWithStar</th>\n      <th>pathWithPlus</th>\n      <th>pathWithQuestionMark</th>\n      <th>pathWithInv</th>\n      <th>pathWithSequence</th>\n      <th>pathWithAlternative</th>\n      <th>complexPathWith</th>\n      <th>simplePathWith</th>\n      <th>file_path</th>\n      <th>interval</th>\n      <th>has_variable</th>\n      <th>has_filter</th>\n      <th>has_orderby</th>\n      <th>has_limit</th>\n      <th>has_select</th>\n      <th>has_distinct</th>\n      <th>has_modify</th>\n      <th>has_tomultiset</th>\n      <th>has_join</th>\n      <th>has_bgp</th>\n      <th>has_project</th>\n      <th>has_union</th>\n      <th>has_values</th>\n      <th>has_slice</th>\n      <th>has_offset</th>\n    </tr>\n  </thead>\n  <tbody>\n    <tr>\n      <th>53856</th>\n      <td>SELECT%28+COUNT+%28+DISTINCT++%3Fvar1++%29+AS++%3Fvar2++%29%0AWHERE+%7B%0A++%3Fvar3++%3Chttp%3A%2F%2Fschema.org%2Fabout%3E++%3Fvar1+.%0A++%3Fvar3++%3Chttp%3A%2F%2Fschema.org%2FinLanguage%3E++%22en%22.%0A++%3Fvar4++%3Chttp%3A%2F%2Fschema.org%2Fabout%3E++%3Fvar1+.%0A++%3Fvar4++%3Chttp%3A%2F%2Fschema.org%2FinLanguage%3E++%22de%22.%0A++%3Fvar5++%3Chttp%3A%2F%2Fschema.org%2Fabout%3E++%3Fvar1+.%0A++%3Fvar5++%3Chttp%3A%2F%2Fschema.org%2FinLanguage%3E++%22fr%22.%0A++%3Fvar6++%3Chttp%3A%2F%2Fschema.org%2Fabout%3E++%3Fvar1+.%0A++%3Fvar6++%3Chttp%3A%2F%2Fschema.org%2FinLanguage%3E++%22ja%22.%0A++%3Fvar7++%3Chttp%3A%2F%2Fschema.org%2Fabout%3E++%3Fvar1+.%0A++%3Fvar7++%3Chttp%3A%2F%2Fschema.org%2FinLanguage%3E++%22es%22.%0A++%3Fvar8++%3Chttp%3A%2F%2Fschema.org%2Fabout%3E++%3Fvar1+.%0A++%3Fvar8++%3Chttp%3A%2F%2Fschema.org%2FinLanguage%3E++%22ru%22.%0A++%3Fvar9++%3Chttp%3A%2F%2Fschema.org%2Fabout%3E++%3Fvar1+.%0A++%3Fvar9++%3Chttp%3A%2F%2Fschema.org%2FinLanguage%3E++%22zh%22.%0A++%3Fvar10++%3Chttp%3A%2F%2Fschema.org%2Fabout%3E++%3Fvar1+.%0A++%3Fvar10++%3Chttp%3A%2F%2Fschema.org%2FinLanguage%3E++%22it%22.%0A++%3Fvar11++%3Chttp%3A%2F%2Fschema.org%2Fabout%3E++%3Fvar1+.%0A++%3Fvar11++%3Chttp%3A%2F%2Fschema.org%2FinLanguage%3E++%22pt%22.%0A++%3Fvar12++%3Chttp%3A%2F%2Fschema.org%2Fabout%3E++%3Fvar1+.%0A++%3Fvar12++%3Chttp%3A%2F%2Fschema.org%2FinLanguage%3E++%22pl%22.%0A++%3Fvar13++%3Chttp%3A%2F%2Fschema.org%2Fabout%3E++%3Fvar1+.%0A++%3Fvar13++%3Chttp%3A%2F%2Fschema.org%2FinLanguage%3E++%22nl%22.%0A++%3Fvar14++%3Chttp%3A%2F%2Fschema.org%2Fabout%3E++%3Fvar1+.%0A++%3Fvar14++%3Chttp%3A%2F%2Fschema.org%2FinLanguage%3E++%22uk%22.%0A++%3Fvar15++%3Chttp%3A%2F%2Fschema.org%2Fabout%3E++%3Fvar1+.%0A++%3Fvar15++%3Chttp%3A%2F%2Fschema.org%2FinLanguage%3E++%22fa%22.%0A++%3Fvar16++%3Chttp%3A%2F%2Fschema.org%2Fabout%3E++%3Fvar1+.%0A++%3Fvar16++%3Chttp%3A%2F%2Fschema.org%2FinLanguage%3E++%22he%22.%0A++%3Fvar17++%3Chttp%3A%2F%2Fschema.org%2Fabout%3E++%3Fvar1+.%0A++%3Fvar17++%3Chttp%3A%2F%2Fschema.org%2FinLanguage%3E++%22ar%22.%0A++%3Fvar18++%3Chttp%3A%2F%2Fschema.org%2Fabout%3E++%3Fvar1+.%0A++%3Fvar18++%3Chttp%3A%2F%2Fschema.org%2FinLanguage%3E++%22sv%22.%0A++%3Fvar19++%3Chttp%3A%2F%2Fschema.org%2Fabout%3E++%3Fvar1+.%0A++%3Fvar19++%3Chttp%3A%2F%2Fschema.org%2FinLanguage%3E++%22ko%22.%0A++%3Fvar20++%3Chttp%3A%2F%2Fschema.org%2Fabout%3E++%3Fvar1+.%0A++%3Fvar20++%3Chttp%3A%2F%2Fschema.org%2FinLanguage%3E++%22cs%22.%0A++%3Fvar21++%3Chttp%3A%2F%2Fschema.org%2Fabout%3E++%3Fvar1+.%0A++%3Fvar21++%3Chttp%3A%2F%2Fschema.org%2FinLanguage%3E++%22ca%22.%0A++%3Fvar22++%3Chttp%3A%2F%2Fschema.org%2Fabout%3E++%3Fvar1+.%0A++%3Fvar22++%3Chttp%3A%2F%2Fschema.org%2FinLanguage%3E++%22id%22.%0A%7D%0A</td>\n      <td>2017-12-29 05:57:47</td>\n      <td>organic</td>\n      <td>browser</td>\n      <td>23</td>\n      <td>0</td>\n      <td>0</td>\n      <td>0</td>\n      <td>1</td>\n      <td>0</td>\n      <td>39</td>\n      <td>1</td>\n      <td>0</td>\n      <td>0</td>\n      <td>0</td>\n      <td>1</td>\n      <td>0</td>\n      <td>1</td>\n      <td>0</td>\n      <td>40</td>\n      <td>0</td>\n      <td>1</td>\n      <td>0</td>\n      <td>0</td>\n      <td>0</td>\n      <td>0</td>\n      <td>0</td>\n      <td>0</td>\n      <td>0</td>\n      <td>0</td>\n      <td>0</td>\n      <td>0</td>\n      <td>0</td>\n      <td>0</td>\n      <td>0</td>\n      <td>0</td>\n      <td>0</td>\n      <td>data/parsed/I4_status500_Joined.parsed.tsv</td>\n      <td>4</td>\n      <td>True</td>\n      <td>False</td>\n      <td>False</td>\n      <td>False</td>\n      <td>True</td>\n      <td>False</td>\n      <td>False</td>\n      <td>False</td>\n      <td>True</td>\n      <td>True</td>\n      <td>True</td>\n      <td>False</td>\n      <td>False</td>\n      <td>False</td>\n      <td>False</td>\n    </tr>\n    <tr>\n      <th>101970</th>\n      <td>SELECT+*%0AWHERE+%7B%0A+%7B%0A+++%3Fvar1++%3Chttp%3A%2F%2Fwww.wikidata.org%2Fprop%2Fdirect%2FP106%3E++%3Chttp%3A%2F%2Fwww.wikidata.org%2Fentity%2FQ177220%3E+.%0A+++%3Fvar1++%3Chttp%3A%2F%2Fwww.wikidata.org%2Fprop%2Fdirect%2FP106%3E++%3Fvar2+.%0A+++%3Fvar1++%3Chttp%3A%2F%2Fwww.wikidata.org%2Fprop%2Fdirect%2FP31%3E++%3Chttp%3A%2F%2Fwww.wikidata.org%2Fentity%2FQ5%3E+.%0A+++MINUS++++%7B%0A+++++%3Fvar1++%3Chttp%3A%2F%2Fwww.wikidata.org%2Fprop%2Fdirect%2FP570%3E++%3Fvar3+.%0A+++%7D%0A+++%3Fvar1++%3Chttp%3A%2F%2Fwww.w3.org%2F2000%2F01%2Frdf-schema%23label%3E++%3Fvar4Label+.%0A+++%3Fvar1++%3Chttp%3A%2F%2Fschema.org%2Fdescription%3E++%3Fvar5+.%0A+++%3Fvar1++%3Chttp%3A%2F%2Fwww.wikidata.org%2Fprop%2Fdirect%2FP18%3E++%3Fvar6+.%0A+++%3Fvar1++%3Chttp%3A%2F%2Fwww.wikidata.org%2Fprop%2Fdirect%2FP136%3E++_%3Ab0+.%0A+++_%3Ab0++%3Chttp%3A%2F%2Fwww.wikidata.org%2Fprop%2Fdirect%2FP31%3E++%3Chttp%3A%2F%2Fwww.wikidata.org%2Fentity%2FQ188451%3E+.%0A+++%3Fvar1++%3Chttp%3A%2F%2Fwww.wikidata.org%2Fprop%2Fdirect%2FP2850%3E++%3Fvar7+.%0A+++%3Fvar8++%3Chttp%3A%2F%2Fschema.org%2Fabout%3E++%3Fvar1+.%0A+++%3Fvar8++%3Chttp%3A%2F%2Fschema.org%2FisPartOf%3E++%3Chttps%3A%2F%2Fen.wikipedia.org%2F%3E+.%0A++OPTIONAL+%7B%0A+++%3Fvar1++%3Chttp%3A%2F%2Fwww.wikidata.org%2Fprop%2Fdirect%2FP1559%3E++%3Fvar9+.%0A++%7D%0A++OPTIONAL+%7B%0A+++%3Fvar1++%3Chttp%3A%2F%2Fwww.wikidata.org%2Fprop%2Fdirect%2FP856%3E++%3Fvar10+.%0A++%7D%0A++OPTIONAL+%7B%0A+++%3Fvar1++%3Chttp%3A%2F%2Fwww.wikidata.org%2Fprop%2Fdirect%2FP2013%3E++%3Fvar11+.%0A++%7D%0A++OPTIONAL+%7B%0A+++%3Fvar1++%3Chttp%3A%2F%2Fwww.wikidata.org%2Fprop%2Fdirect%2FP2963%3E++%3Fvar12+.%0A++%7D%0A++OPTIONAL+%7B%0A+++%3Fvar1++%3Chttp%3A%2F%2Fwww.wikidata.org%2Fprop%2Fdirect%2FP109%3E++%3Fvar13+.%0A++%7D%0A++OPTIONAL+%7B%0A+++%3Fvar1++%3Chttp%3A%2F%2Fwww.wikidata.org%2Fprop%2Fdirect%2FP2984%3E++%3Fvar14+.%0A++%7D%0A++OPTIONAL+%7B%0A+++%3Fvar1++%3Chttp%3A%2F%2Fwww.wikidata.org%2Fprop%2Fdirect%2FP2003%3E++%3Fvar15+.%0A++%7D%0A++OPTIONAL+%7B%0A+++%3Fvar1++%3Chttp%3A%2F%2Fwww.wikidata.org%2Fprop%2Fdirect%2FP2397%3E++%3Fvar16+.%0A++%7D%0A++OPTIONAL+%7B%0A+++%3Fvar1++%3Chttp%3A%2F%2Fwww.wikidata.org%2Fprop%2Fdirect%2FP1902%3E++%3Fvar17+.%0A++%7D%0A++OPTIONAL+%7B%0A+++%3Fvar1++%3Chttp%3A%2F%2Fwww.wikidata.org%2Fprop%2Fdirect%2FP4265%3E++%3Fvar18+.%0A++%7D%0A++OPTIONAL+%7B%0A+++%3Fvar1++%3Chttp%3A%2F%2Fwww.wikidata.org%2Fprop%2Fdirect%2FP3579%3E++%3Fvar19+.%0A++%7D%0A++OPTIONAL+%7B%0A+++%3Fvar1++%3Chttp%3A%2F%2Fwww.wikidata.org%2Fprop%2Fdirect%2FP3943%3E++%3Fvar20+.%0A++%7D%0A++OPTIONAL+%7B%0A+++%3Fvar1++%3Chttp%3A%2F%2Fwww.wikidata.org%2Fprop%2Fdirect%2FP3185%3E++%3Fvar21+.%0A++%7D%0A++OPTIONAL+%7B%0A+++%3Fvar1++%3Chttp%3A%2F%2Fwww.wikidata.org%2Fprop%2Fdirect%2FP3258%3E++%3Fvar22+.%0A++%7D%0A++OPTIONAL+%7B%0A+++%3Fvar1++%3Chttp%3A%2F%2Fwww.wikidata.org%2Fprop%2Fdirect%2FP2850%3E++%3Fvar7+.%0A++%7D%0A++OPTIONAL+%7B%0A+++%3Fvar1++%3Chttp%3A%2F%2Fwww.wikidata.org%2Fprop%2Fdirect%2FP3040%3E++%3Fvar23+.%0A++%7D%0A++OPTIONAL+%7B%0A+++%3Fvar1++%3Chttp%3A%2F%2Fwww.wikidata.org%2Fprop%2Fdirect%2FP2035%3E++%3Fvar24+.%0A++%7D%0A++OPTIONAL+%7B%0A+++%3Fvar1++%3Chttp%3A%2F%2Fwww.wikidata.org%2Fprop%2Fdirect%2FP3276%3E++%3Fvar25+.%0A++%7D%0A+FILTER+%28+++%28+%28++LANG+%28++%3Fvar4Label++%29++%3D++%22en%22+%29+%26%26+%28++LANG+%28++%3Fvar5++%29++%3D++%22en%22+%29+%29+%0A%29+.%0A+%7D%0A%7D%0AORDER+BY+ASC%28+%3Fvar1+%29%0A</td>\n      <td>2018-03-03 08:04:08</td>\n      <td>robotic</td>\n      <td>UNKNOWN</td>\n      <td>25</td>\n      <td>1</td>\n      <td>1</td>\n      <td>0</td>\n      <td>1</td>\n      <td>0</td>\n      <td>10</td>\n      <td>1</td>\n      <td>0</td>\n      <td>0</td>\n      <td>0</td>\n      <td>21</td>\n      <td>0</td>\n      <td>0</td>\n      <td>0</td>\n      <td>30</td>\n      <td>0</td>\n      <td>0</td>\n      <td>0</td>\n      <td>18</td>\n      <td>1</td>\n      <td>0</td>\n      <td>0</td>\n      <td>0</td>\n      <td>2</td>\n      <td>0</td>\n      <td>0</td>\n      <td>0</td>\n      <td>0</td>\n      <td>0</td>\n      <td>0</td>\n      <td>0</td>\n      <td>0</td>\n      <td>data/parsed/I7_status500_Joined.parsed.tsv</td>\n      <td>7</td>\n      <td>True</td>\n      <td>True</td>\n      <td>True</td>\n      <td>False</td>\n      <td>True</td>\n      <td>False</td>\n      <td>False</td>\n      <td>False</td>\n      <td>True</td>\n      <td>True</td>\n      <td>True</td>\n      <td>False</td>\n      <td>False</td>\n      <td>False</td>\n      <td>False</td>\n    </tr>\n    <tr>\n      <th>100679</th>\n      <td>SELECT+*%0AWHERE+%7B%0A+%7B%0A+++%3Fvar1+%28+%3Chttp%3A%2F%2Fwww.wikidata.org%2Fprop%2Fdirect%2FP106%3E+%2F+%3Chttp%3A%2F%2Fwww.wikidata.org%2Fprop%2Fdirect%2FP279%3E+*%29+%3Chttp%3A%2F%2Fwww.wikidata.org%2Fentity%2FQ2066131%3E+.%0A+++%3Fvar1++%3Chttp%3A%2F%2Fwww.wikidata.org%2Fprop%2Fdirect%2FP31%3E++%3Chttp%3A%2F%2Fwww.wikidata.org%2Fentity%2FQ5%3E+.%0A+++MINUS++++%7B%0A+++++%3Fvar1++%3Chttp%3A%2F%2Fwww.wikidata.org%2Fprop%2Fdirect%2FP570%3E++%3Fvar2+.%0A+++%7D%0A+++%3Fvar1++%3Chttp%3A%2F%2Fwww.w3.org%2F2000%2F01%2Frdf-schema%23label%3E++%3Fvar3Label+.%0A+++%3Fvar1++%3Chttp%3A%2F%2Fschema.org%2Fdescription%3E++%3Fvar4+.%0A+++%3Fvar1++%3Chttp%3A%2F%2Fwww.wikidata.org%2Fprop%2Fdirect%2FP18%3E++%3Fvar5+.%0A+++%3Fvar1++%3Chttp%3A%2F%2Fwww.wikidata.org%2Fprop%2Fdirect%2FP641%3E++_%3Ab0+.%0A+++%3Fvar1++%3Chttp%3A%2F%2Fwww.wikidata.org%2Fprop%2Fdirect%2FP2002%3E++%3Fvar6+.%0A+++%3Fvar7++%3Chttp%3A%2F%2Fschema.org%2Fabout%3E++%3Fvar1+.%0A+++%3Fvar7++%3Chttp%3A%2F%2Fschema.org%2FisPartOf%3E++%3Chttps%3A%2F%2Fen.wikipedia.org%2F%3E+.%0A+FILTER+%28+++%28+%28++LANG+%28++%3Fvar3Label++%29++%3D++%22en%22+%29+%26%26+%28++LANG+%28++%3Fvar4++%29++%3D++%22en%22+%29+%29+%0A%29+.%0A+%7D%0A++UNION%0A+%7B%0A+++%3Fvar1+%28+%3Chttp%3A%2F%2Fwww.wikidata.org%2Fprop%2Fdirect%2FP106%3E+%2F+%3Chttp%3A%2F%2Fwww.wikidata.org%2Fprop%2Fdirect%2FP279%3E+*%29+%3Chttp%3A%2F%2Fwww.wikidata.org%2Fentity%2FQ2066131%3E+.%0A+++%3Fvar1++%3Chttp%3A%2F%2Fwww.wikidata.org%2Fprop%2Fdirect%2FP31%3E++%3Chttp%3A%2F%2Fwww.wikidata.org%2Fentity%2FQ5%3E+.%0A+++MINUS++++%7B%0A+++++%3Fvar1++%3Chttp%3A%2F%2Fwww.wikidata.org%2Fprop%2Fdirect%2FP570%3E++%3Fvar2+.%0A+++%7D%0A+++%3Fvar1++%3Chttp%3A%2F%2Fwww.w3.org%2F2000%2F01%2Frdf-schema%23label%3E++%3Fvar3Label+.%0A+++%3Fvar1++%3Chttp%3A%2F%2Fschema.org%2Fdescription%3E++%3Fvar4+.%0A+++%3Fvar1++%3Chttp%3A%2F%2Fwww.wikidata.org%2Fprop%2Fdirect%2FP18%3E++%3Fvar5+.%0A+++%3Fvar1++%3Chttp%3A%2F%2Fwww.wikidata.org%2Fprop%2Fdirect%2FP641%3E++_%3Ab2+.%0A+++%3Fvar1++%3Chttp%3A%2F%2Fwww.wikidata.org%2Fprop%2Fdirect%2FP2003%3E++%3Fvar8+.%0A+++%3Fvar7++%3Chttp%3A%2F%2Fschema.org%2Fabout%3E++%3Fvar1+.%0A+++%3Fvar7++%3Chttp%3A%2F%2Fschema.org%2FisPartOf%3E++%3Chttps%3A%2F%2Fen.wikipedia.org%2F%3E+.%0A+FILTER+%28+++%28+%28++LANG+%28++%3Fvar3Label++%29++%3D++%22en%22+%29+%26%26+%28++LANG+%28++%3Fvar4++%29++%3D++%22en%22+%29+%29+%0A%29+.%0A+%7D%0A++UNION%0A+%7B%0A+++%3Fvar1+%28+%3Chttp%3A%2F%2Fwww.wikidata.org%2Fprop%2Fdirect%2FP106%3E+%2F+%3Chttp%3A%2F%2Fwww.wikidata.org%2Fprop%2Fdirect%2FP279%3E+*%29+%3Chttp%3A%2F%2Fwww.wikidata.org%2Fentity%2FQ2066131%3E+.%0A+++%3Fvar1++%3Chttp%3A%2F%2Fwww.wikidata.org%2Fprop%2Fdirect%2FP31%3E++%3Chttp%3A%2F%2Fwww.wikidata.org%2Fentity%2FQ5%3E+.%0A+++MINUS++++%7B%0A+++++%3Fvar1++%3Chttp%3A%2F%2Fwww.wikidata.org%2Fprop%2Fdirect%2FP570%3E++%3Fvar2+.%0A+++%7D%0A+++%3Fvar1++%3Chttp%3A%2F%2Fwww.w3.org%2F2000%2F01%2Frdf-schema%23label%3E++%3Fvar3Label+.%0A+++%3Fvar1++%3Chttp%3A%2F%2Fschema.org%2Fdescription%3E++%3Fvar4+.%0A+++%3Fvar1++%3Chttp%3A%2F%2Fwww.wikidata.org%2Fprop%2Fdirect%2FP18%3E++%3Fvar5+.%0A+++%3Fvar1++%3Chttp%3A%2F%2Fwww.wikidata.org%2Fprop%2Fdirect%2FP641%3E++_%3Ab3+.%0A+++%3Fvar1++%3Chttp%3A%2F%2Fwww.wikidata.org%2Fprop%2Fdirect%2FP2013%3E++%3Fvar9+.%0A+++%3Fvar7++%3Chttp%3A%2F%2Fschema.org%2Fabout%3E++%3Fvar1+.%0A+++%3Fvar7++%3Chttp%3A%2F%2Fschema.org%2FisPartOf%3E++%3Chttps%3A%2F%2Fen.wikipedia.org%2F%3E+.%0A+FILTER+%28+++%28+%28++LANG+%28++%3Fvar3Label++%29++%3D++%22en%22+%29+%26%26+%28++LANG+%28++%3Fvar4++%29++%3D++%22en%22+%29+%29+%0A%29+.%0A+%7D%0A%7D%0AORDER+BY+ASC%28+%3Fvar1+%29%0A</td>\n      <td>2018-03-01 21:41:12</td>\n      <td>robotic</td>\n      <td>UNKNOWN</td>\n      <td>9</td>\n      <td>3</td>\n      <td>1</td>\n      <td>0</td>\n      <td>1</td>\n      <td>0</td>\n      <td>24</td>\n      <td>1</td>\n      <td>0</td>\n      <td>2</td>\n      <td>0</td>\n      <td>9</td>\n      <td>0</td>\n      <td>0</td>\n      <td>0</td>\n      <td>30</td>\n      <td>0</td>\n      <td>0</td>\n      <td>0</td>\n      <td>0</td>\n      <td>3</td>\n      <td>0</td>\n      <td>0</td>\n      <td>0</td>\n      <td>6</td>\n      <td>3</td>\n      <td>0</td>\n      <td>0</td>\n      <td>0</td>\n      <td>3</td>\n      <td>0</td>\n      <td>3</td>\n      <td>3</td>\n      <td>data/parsed/I7_status500_Joined.parsed.tsv</td>\n      <td>7</td>\n      <td>True</td>\n      <td>True</td>\n      <td>True</td>\n      <td>False</td>\n      <td>True</td>\n      <td>False</td>\n      <td>False</td>\n      <td>False</td>\n      <td>True</td>\n      <td>True</td>\n      <td>True</td>\n      <td>True</td>\n      <td>False</td>\n      <td>False</td>\n      <td>False</td>\n    </tr>\n    <tr>\n      <th>102382</th>\n      <td>SELECT+*%0AWHERE+%7B%0A+%7B%0A+++%3Fvar1++%3Chttp%3A%2F%2Fwww.wikidata.org%2Fprop%2Fdirect%2FP106%3E++%3Chttp%3A%2F%2Fwww.wikidata.org%2Fentity%2FQ10800557%3E+.%0A+++%3Fvar1++%3Chttp%3A%2F%2Fwww.wikidata.org%2Fprop%2Fdirect%2FP106%3E++%3Fvar2+.%0A+++%3Fvar1++%3Chttp%3A%2F%2Fwww.wikidata.org%2Fprop%2Fdirect%2FP31%3E++%3Chttp%3A%2F%2Fwww.wikidata.org%2Fentity%2FQ5%3E+.%0A+++MINUS++++%7B%0A+++++%3Fvar1++%3Chttp%3A%2F%2Fwww.wikidata.org%2Fprop%2Fdirect%2FP570%3E++%3Fvar3+.%0A+++%7D%0A+++%3Fvar1++%3Chttp%3A%2F%2Fwww.w3.org%2F2000%2F01%2Frdf-schema%23label%3E++%3Fvar4Label+.%0A+++%3Fvar1++%3Chttp%3A%2F%2Fschema.org%2Fdescription%3E++%3Fvar5+.%0A+++%3Fvar1++%3Chttp%3A%2F%2Fwww.wikidata.org%2Fprop%2Fdirect%2FP18%3E++%3Fvar6+.%0A+++%3Fvar1++%3Chttp%3A%2F%2Fwww.wikidata.org%2Fprop%2Fdirect%2FP2013%3E++%3Fvar7+.%0A+++%3Fvar8++%3Chttp%3A%2F%2Fschema.org%2Fabout%3E++%3Fvar1+.%0A+++%3Fvar8++%3Chttp%3A%2F%2Fschema.org%2FisPartOf%3E++%3Chttps%3A%2F%2Fen.wikipedia.org%2F%3E+.%0A++OPTIONAL+%7B%0A+++%3Fvar1++%3Chttp%3A%2F%2Fwww.wikidata.org%2Fprop%2Fdirect%2FP1559%3E++%3Fvar9+.%0A++%7D%0A++OPTIONAL+%7B%0A+++%3Fvar1++%3Chttp%3A%2F%2Fwww.wikidata.org%2Fprop%2Fdirect%2FP856%3E++%3Fvar10+.%0A++%7D%0A++OPTIONAL+%7B%0A+++%3Fvar1++%3Chttp%3A%2F%2Fwww.wikidata.org%2Fprop%2Fdirect%2FP2003%3E++%3Fvar11+.%0A++%7D%0A++OPTIONAL+%7B%0A+++%3Fvar1++%3Chttp%3A%2F%2Fwww.wikidata.org%2Fprop%2Fdirect%2FP2963%3E++%3Fvar12+.%0A++%7D%0A++OPTIONAL+%7B%0A+++%3Fvar1++%3Chttp%3A%2F%2Fwww.wikidata.org%2Fprop%2Fdirect%2FP109%3E++%3Fvar13+.%0A++%7D%0A++OPTIONAL+%7B%0A+++%3Fvar1++%3Chttp%3A%2F%2Fwww.wikidata.org%2Fprop%2Fdirect%2FP2002%3E++%3Fvar14+.%0A++%7D%0A++OPTIONAL+%7B%0A+++%3Fvar1++%3Chttp%3A%2F%2Fwww.wikidata.org%2Fprop%2Fdirect%2FP2984%3E++%3Fvar15+.%0A++%7D%0A++OPTIONAL+%7B%0A+++%3Fvar1++%3Chttp%3A%2F%2Fwww.wikidata.org%2Fprop%2Fdirect%2FP2397%3E++%3Fvar16+.%0A++%7D%0A++OPTIONAL+%7B%0A+++%3Fvar1++%3Chttp%3A%2F%2Fwww.wikidata.org%2Fprop%2Fdirect%2FP1902%3E++%3Fvar17+.%0A++%7D%0A++OPTIONAL+%7B%0A+++%3Fvar1++%3Chttp%3A%2F%2Fwww.wikidata.org%2Fprop%2Fdirect%2FP4265%3E++%3Fvar18+.%0A++%7D%0A++OPTIONAL+%7B%0A+++%3Fvar1++%3Chttp%3A%2F%2Fwww.wikidata.org%2Fprop%2Fdirect%2FP3579%3E++%3Fvar19+.%0A++%7D%0A++OPTIONAL+%7B%0A+++%3Fvar1++%3Chttp%3A%2F%2Fwww.wikidata.org%2Fprop%2Fdirect%2FP3943%3E++%3Fvar20+.%0A++%7D%0A++OPTIONAL+%7B%0A+++%3Fvar1++%3Chttp%3A%2F%2Fwww.wikidata.org%2Fprop%2Fdirect%2FP3185%3E++%3Fvar21+.%0A++%7D%0A++OPTIONAL+%7B%0A+++%3Fvar1++%3Chttp%3A%2F%2Fwww.wikidata.org%2Fprop%2Fdirect%2FP3258%3E++%3Fvar22+.%0A++%7D%0A++OPTIONAL+%7B%0A+++%3Fvar1++%3Chttp%3A%2F%2Fwww.wikidata.org%2Fprop%2Fdirect%2FP2850%3E++%3Fvar23+.%0A++%7D%0A++OPTIONAL+%7B%0A+++%3Fvar1++%3Chttp%3A%2F%2Fwww.wikidata.org%2Fprop%2Fdirect%2FP3040%3E++%3Fvar24+.%0A++%7D%0A++OPTIONAL+%7B%0A+++%3Fvar1++%3Chttp%3A%2F%2Fwww.wikidata.org%2Fprop%2Fdirect%2FP2035%3E++%3Fvar25+.%0A++%7D%0A++OPTIONAL+%7B%0A+++%3Fvar1++%3Chttp%3A%2F%2Fwww.wikidata.org%2Fprop%2Fdirect%2FP3276%3E++%3Fvar26+.%0A++%7D%0A+FILTER+%28+++%28+%28++LANG+%28++%3Fvar4Label++%29++%3D++%22en%22+%29+%26%26+%28++LANG+%28++%3Fvar5++%29++%3D++%22en%22+%29+%29+%0A%29+.%0A+%7D%0A%7D%0AORDER+BY+ASC%28+%3Fvar1+%29%0A</td>\n      <td>2018-03-03 19:53:52</td>\n      <td>robotic</td>\n      <td>UNKNOWN</td>\n      <td>26</td>\n      <td>1</td>\n      <td>1</td>\n      <td>0</td>\n      <td>1</td>\n      <td>0</td>\n      <td>8</td>\n      <td>1</td>\n      <td>0</td>\n      <td>0</td>\n      <td>0</td>\n      <td>21</td>\n      <td>0</td>\n      <td>0</td>\n      <td>0</td>\n      <td>28</td>\n      <td>0</td>\n      <td>0</td>\n      <td>0</td>\n      <td>18</td>\n      <td>1</td>\n      <td>0</td>\n      <td>0</td>\n      <td>0</td>\n      <td>2</td>\n      <td>0</td>\n      <td>0</td>\n      <td>0</td>\n      <td>0</td>\n      <td>0</td>\n      <td>0</td>\n      <td>0</td>\n      <td>0</td>\n      <td>data/parsed/I7_status500_Joined.parsed.tsv</td>\n      <td>7</td>\n      <td>True</td>\n      <td>True</td>\n      <td>True</td>\n      <td>False</td>\n      <td>True</td>\n      <td>False</td>\n      <td>False</td>\n      <td>False</td>\n      <td>True</td>\n      <td>True</td>\n      <td>True</td>\n      <td>False</td>\n      <td>False</td>\n      <td>False</td>\n      <td>False</td>\n    </tr>\n    <tr>\n      <th>96611</th>\n      <td>SELECT+*%0AWHERE+%7B%0A++%3Fvar1++%3Chttp%3A%2F%2Fwww.wikidata.org%2Fprop%2Fdirect%2FP106%3E++%3Fvar2+.%0A++VALUES+%28++%3Fvar3++%29+%7B%0A+++%28++%3Chttp%3A%2F%2Fwww.wikidata.org%2Fentity%2FQ36180%3E++%29%0A+++%28++%3Chttp%3A%2F%2Fwww.wikidata.org%2Fentity%2FQ10800557%3E++%29%0A+++%28++%3Chttp%3A%2F%2Fwww.wikidata.org%2Fentity%2FQ43845%3E++%29%0A+++%28++%3Chttp%3A%2F%2Fwww.wikidata.org%2Fentity%2FQ639669%3E++%29%0A+++%28++%3Chttp%3A%2F%2Fwww.wikidata.org%2Fentity%2FQ82955%3E++%29%0A++%7D%0A++MINUS+++%7B%0A++++%3Fvar1++%3Chttp%3A%2F%2Fwww.wikidata.org%2Fprop%2Fdirect%2FP570%3E++%3Fvar4+.%0A++%7D%0A++%3Fvar1++%3Chttp%3A%2F%2Fwww.wikidata.org%2Fprop%2Fdirect%2FP1559%3E++%3Fvar5+.%0A++%3Fvar1++%3Chttp%3A%2F%2Fwww.w3.org%2F2000%2F01%2Frdf-schema%23label%3E++%3Fvar6Label+.%0A++%3Fvar1++%3Chttp%3A%2F%2Fschema.org%2Fdescription%3E++%3Fvar7+.%0A++%3Fvar1++%3Chttp%3A%2F%2Fwww.wikidata.org%2Fprop%2Fdirect%2FP18%3E++%3Fvar8+.%0A++%3Fvar1++%3Chttp%3A%2F%2Fwww.wikidata.org%2Fprop%2Fdirect%2FP2002%3E++%3Fvar9+.%0A++%3Fvar1++%3Chttp%3A%2F%2Fwww.wikidata.org%2Fprop%2Fdirect%2FP800%3E++_%3AblankNode+.%0A++_%3AblankNode++%3Chttp%3A%2F%2Fwww.w3.org%2F2000%2F01%2Frdf-schema%23label%3E++%3Fvar10+.%0A++_%3AblankNode++%3Chttp%3A%2F%2Fwww.wikidata.org%2Fprop%2Fdirect%2FP31%3E++%3Chttp%3A%2F%2Fwww.wikidata.org%2Fentity%2FQ571%3E+.%0A+OPTIONAL+%7B%0A++%3Fvar1++%3Chttp%3A%2F%2Fwww.wikidata.org%2Fprop%2Fdirect%2FP109%3E++%3Fvar11+.%0A+%7D%0A+OPTIONAL+%7B%0A++%3Fvar1++%3Chttp%3A%2F%2Fwww.wikidata.org%2Fprop%2Fdirect%2FP856%3E++%3Fvar12+.%0A+%7D%0A+OPTIONAL+%7B%0A++%3Fvar1++%3Chttp%3A%2F%2Fwww.wikidata.org%2Fprop%2Fdirect%2FP2984%3E++%3Fvar13+.%0A+%7D%0A+OPTIONAL+%7B%0A++%3Fvar1++%3Chttp%3A%2F%2Fwww.wikidata.org%2Fprop%2Fdirect%2FP2003%3E++%3Fvar14+.%0A+%7D%0A+OPTIONAL+%7B%0A++%3Fvar1++%3Chttp%3A%2F%2Fwww.wikidata.org%2Fprop%2Fdirect%2FP2397%3E++%3Fvar15+.%0A+%7D%0A+OPTIONAL+%7B%0A++%3Fvar1++%3Chttp%3A%2F%2Fwww.wikidata.org%2Fprop%2Fdirect%2FP2013%3E++%3Fvar16+.%0A+%7D%0A+OPTIONAL+%7B%0A++%3Fvar1++%3Chttp%3A%2F%2Fwww.wikidata.org%2Fprop%2Fdirect%2FP2963%3E++%3Fvar17+.%0A+%7D%0A+OPTIONAL+%7B%0A++%3Fvar1++%3Chttp%3A%2F%2Fwww.wikidata.org%2Fprop%2Fdirect%2FP1902%3E++%3Fvar18+.%0A+%7D%0A+OPTIONAL+%7B%0A++%3Fvar1++%3Chttp%3A%2F%2Fwww.wikidata.org%2Fprop%2Fdirect%2FP4265%3E++%3Fvar19+.%0A+%7D%0A+OPTIONAL+%7B%0A++%3Fvar1++%3Chttp%3A%2F%2Fwww.wikidata.org%2Fprop%2Fdirect%2FP3579%3E++%3Fvar20+.%0A+%7D%0A+OPTIONAL+%7B%0A++%3Fvar1++%3Chttp%3A%2F%2Fwww.wikidata.org%2Fprop%2Fdirect%2FP3943%3E++%3Fvar21+.%0A+%7D%0A+OPTIONAL+%7B%0A++%3Fvar1++%3Chttp%3A%2F%2Fwww.wikidata.org%2Fprop%2Fdirect%2FP3185%3E++%3Fvar22+.%0A+%7D%0A+OPTIONAL+%7B%0A++%3Fvar1++%3Chttp%3A%2F%2Fwww.wikidata.org%2Fprop%2Fdirect%2FP3258%3E++%3Fvar23+.%0A+%7D%0A+OPTIONAL+%7B%0A++%3Fvar1++%3Chttp%3A%2F%2Fwww.wikidata.org%2Fprop%2Fdirect%2FP2850%3E++%3Fvar24+.%0A+%7D%0A+OPTIONAL+%7B%0A++%3Fvar1++%3Chttp%3A%2F%2Fwww.wikidata.org%2Fprop%2Fdirect%2FP3040%3E++%3Fvar25+.%0A+%7D%0A+OPTIONAL+%7B%0A++%3Fvar1++%3Chttp%3A%2F%2Fwww.wikidata.org%2Fprop%2Fdirect%2FP2035%3E++%3Fvar26+.%0A+%7D%0A+OPTIONAL+%7B%0A++%3Fvar1++%3Chttp%3A%2F%2Fwww.wikidata.org%2Fprop%2Fdirect%2FP3276%3E++%3Fvar27+.%0A+%7D%0A+FILTER+%28++%28+%28++LANG+%28++%3Fvar6Label++%29++%3D++%22en%22+%29+%26%26+%28++LANG+%28++%3Fvar7++%29++%3D++%22en%22+%29+%26%26+%28++LANG+%28++%3Fvar10++%29++%3D++%22en%22+%29+%29+%0A%29+.%0A%7D%0ALIMIT+50%0A</td>\n      <td>2018-02-25 11:54:23</td>\n      <td>robotic</td>\n      <td>UNKNOWN</td>\n      <td>27</td>\n      <td>1</td>\n      <td>0</td>\n      <td>50</td>\n      <td>1</td>\n      <td>0</td>\n      <td>9</td>\n      <td>1</td>\n      <td>1</td>\n      <td>0</td>\n      <td>0</td>\n      <td>20</td>\n      <td>1</td>\n      <td>0</td>\n      <td>1</td>\n      <td>27</td>\n      <td>0</td>\n      <td>0</td>\n      <td>0</td>\n      <td>17</td>\n      <td>1</td>\n      <td>0</td>\n      <td>0</td>\n      <td>0</td>\n      <td>3</td>\n      <td>0</td>\n      <td>0</td>\n      <td>0</td>\n      <td>0</td>\n      <td>0</td>\n      <td>0</td>\n      <td>0</td>\n      <td>0</td>\n      <td>data/parsed/I6_status500_Joined.parsed.tsv</td>\n      <td>6</td>\n      <td>True</td>\n      <td>True</td>\n      <td>False</td>\n      <td>True</td>\n      <td>True</td>\n      <td>False</td>\n      <td>False</td>\n      <td>True</td>\n      <td>True</td>\n      <td>True</td>\n      <td>True</td>\n      <td>False</td>\n      <td>True</td>\n      <td>True</td>\n      <td>False</td>\n    </tr>\n    <tr>\n      <th>97163</th>\n      <td>SELECT%28+COUNT+%28+DISTINCT++%3Fvar1++%29+AS++%3Fvar2++%29%0AWHERE+%7B%0A++%3Fvar3++%3Chttp%3A%2F%2Fwww.wikidata.org%2Fprop%2Fdirect%2FP106%3E++%3Chttp%3A%2F%2Fwww.wikidata.org%2Fentity%2FQ6625963%3E+.%0A++%3Fvar3++%3Chttp%3A%2F%2Fwww.wikidata.org%2Fprop%2Fdirect%2FP1559%3E++%3Fvar1+.%0A++%3Fvar3++%3Chttp%3A%2F%2Fwww.w3.org%2F2000%2F01%2Frdf-schema%23label%3E++%3Fvar4Label+.%0A++%3Fvar3++%3Chttp%3A%2F%2Fschema.org%2Fdescription%3E++%3Fvar5+.%0A++%3Fvar3++%3Chttp%3A%2F%2Fwww.wikidata.org%2Fprop%2Fdirect%2FP18%3E++%3Fvar6+.%0A++%3Fvar3++%3Chttp%3A%2F%2Fwww.wikidata.org%2Fprop%2Fdirect%2FP800%3E++_%3AblankNode+.%0A++_%3AblankNode++%3Chttp%3A%2F%2Fwww.w3.org%2F2000%2F01%2Frdf-schema%23label%3E++%3Fvar7+.%0A++_%3AblankNode++%3Chttp%3A%2F%2Fwww.wikidata.org%2Fprop%2Fdirect%2FP31%3E++%3Chttp%3A%2F%2Fwww.wikidata.org%2Fentity%2FQ571%3E+.%0A+OPTIONAL+%7B%0A++%3Fvar3++%3Chttp%3A%2F%2Fwww.wikidata.org%2Fprop%2Fdirect%2FP2013%3E++%3Fvar8+.%0A+%7D%0A+OPTIONAL+%7B%0A++%3Fvar3++%3Chttp%3A%2F%2Fwww.wikidata.org%2Fprop%2Fdirect%2FP2963%3E++%3Fvar9+.%0A+%7D%0A+OPTIONAL+%7B%0A++%3Fvar3++%3Chttp%3A%2F%2Fwww.wikidata.org%2Fprop%2Fdirect%2FP2002%3E++%3Fvar10+.%0A+%7D%0A+OPTIONAL+%7B%0A++%3Fvar3++%3Chttp%3A%2F%2Fwww.wikidata.org%2Fprop%2Fdirect%2FP856%3E++%3Fvar11+.%0A+%7D%0A+OPTIONAL+%7B%0A++%3Fvar3++%3Chttp%3A%2F%2Fwww.wikidata.org%2Fprop%2Fdirect%2FP109%3E++%3Fvar12+.%0A+%7D%0A+OPTIONAL+%7B%0A++%3Fvar3++%3Chttp%3A%2F%2Fwww.wikidata.org%2Fprop%2Fdirect%2FP2963%3E++%3Fvar9+.%0A+%7D%0A+OPTIONAL+%7B%0A++%3Fvar3++%3Chttp%3A%2F%2Fwww.wikidata.org%2Fprop%2Fdirect%2FP2984%3E++%3Fvar13+.%0A+%7D%0A+OPTIONAL+%7B%0A++%3Fvar3++%3Chttp%3A%2F%2Fwww.wikidata.org%2Fprop%2Fdirect%2FP2003%3E++%3Fvar14+.%0A+%7D%0A+OPTIONAL+%7B%0A++%3Fvar3++%3Chttp%3A%2F%2Fwww.wikidata.org%2Fprop%2Fdirect%2FP2397%3E++%3Fvar15+.%0A+%7D%0A+OPTIONAL+%7B%0A++%3Fvar3++%3Chttp%3A%2F%2Fwww.wikidata.org%2Fprop%2Fdirect%2FP1902%3E++%3Fvar16+.%0A+%7D%0A+OPTIONAL+%7B%0A++%3Fvar3++%3Chttp%3A%2F%2Fwww.wikidata.org%2Fprop%2Fdirect%2FP4265%3E++%3Fvar17+.%0A+%7D%0A+OPTIONAL+%7B%0A++%3Fvar3++%3Chttp%3A%2F%2Fwww.wikidata.org%2Fprop%2Fdirect%2FP3579%3E++%3Fvar18+.%0A+%7D%0A+OPTIONAL+%7B%0A++%3Fvar3++%3Chttp%3A%2F%2Fwww.wikidata.org%2Fprop%2Fdirect%2FP3943%3E++%3Fvar19+.%0A+%7D%0A+OPTIONAL+%7B%0A++%3Fvar3++%3Chttp%3A%2F%2Fwww.wikidata.org%2Fprop%2Fdirect%2FP3185%3E++%3Fvar20+.%0A+%7D%0A+OPTIONAL+%7B%0A++%3Fvar3++%3Chttp%3A%2F%2Fwww.wikidata.org%2Fprop%2Fdirect%2FP3258%3E++%3Fvar21+.%0A+%7D%0A+OPTIONAL+%7B%0A++%3Fvar3++%3Chttp%3A%2F%2Fwww.wikidata.org%2Fprop%2Fdirect%2FP2850%3E++%3Fvar22+.%0A+%7D%0A+OPTIONAL+%7B%0A++%3Fvar3++%3Chttp%3A%2F%2Fwww.wikidata.org%2Fprop%2Fdirect%2FP3040%3E++%3Fvar23+.%0A+%7D%0A+OPTIONAL+%7B%0A++%3Fvar3++%3Chttp%3A%2F%2Fwww.wikidata.org%2Fprop%2Fdirect%2FP2035%3E++%3Fvar24+.%0A+%7D%0A+OPTIONAL+%7B%0A++%3Fvar3++%3Chttp%3A%2F%2Fwww.wikidata.org%2Fprop%2Fdirect%2FP3276%3E++%3Fvar25+.%0A+%7D%0A+FILTER+%28++%28+%28++LANG+%28++%3Fvar4Label++%29++%3D++%22en%22+%29+%26%26+%28++LANG+%28++%3Fvar5++%29++%3D++%22en%22+%29+%26%26+%28++LANG+%28++%3Fvar7++%29++%3D++%22en%22+%29+%29+%0A%29+.%0A%7D%0A</td>\n      <td>2018-02-25 22:22:32</td>\n      <td>organic</td>\n      <td>browser</td>\n      <td>26</td>\n      <td>1</td>\n      <td>0</td>\n      <td>0</td>\n      <td>1</td>\n      <td>0</td>\n      <td>7</td>\n      <td>1</td>\n      <td>0</td>\n      <td>0</td>\n      <td>0</td>\n      <td>20</td>\n      <td>0</td>\n      <td>1</td>\n      <td>0</td>\n      <td>27</td>\n      <td>0</td>\n      <td>1</td>\n      <td>0</td>\n      <td>19</td>\n      <td>0</td>\n      <td>0</td>\n      <td>0</td>\n      <td>0</td>\n      <td>3</td>\n      <td>0</td>\n      <td>0</td>\n      <td>0</td>\n      <td>0</td>\n      <td>0</td>\n      <td>0</td>\n      <td>0</td>\n      <td>0</td>\n      <td>data/parsed/I6_status500_Joined.parsed.tsv</td>\n      <td>6</td>\n      <td>True</td>\n      <td>True</td>\n      <td>False</td>\n      <td>False</td>\n      <td>True</td>\n      <td>False</td>\n      <td>False</td>\n      <td>False</td>\n      <td>True</td>\n      <td>True</td>\n      <td>True</td>\n      <td>False</td>\n      <td>False</td>\n      <td>False</td>\n      <td>False</td>\n    </tr>\n    <tr>\n      <th>96609</th>\n      <td>SELECT+*%0AWHERE+%7B%0A++%3Fvar1++%3Chttp%3A%2F%2Fwww.wikidata.org%2Fprop%2Fdirect%2FP106%3E++%3Fvar2+.%0A++VALUES+%28++%3Fvar3++%29+%7B%0A+++%28++%3Chttp%3A%2F%2Fwww.wikidata.org%2Fentity%2FQ36180%3E++%29%0A+++%28++%3Chttp%3A%2F%2Fwww.wikidata.org%2Fentity%2FQ10800557%3E++%29%0A+++%28++%3Chttp%3A%2F%2Fwww.wikidata.org%2Fentity%2FQ43845%3E++%29%0A+++%28++%3Chttp%3A%2F%2Fwww.wikidata.org%2Fentity%2FQ639669%3E++%29%0A+++%28++%3Chttp%3A%2F%2Fwww.wikidata.org%2Fentity%2FQ82955%3E++%29%0A++%7D%0A++MINUS+++%7B%0A++++%3Fvar1++%3Chttp%3A%2F%2Fwww.wikidata.org%2Fprop%2Fdirect%2FP570%3E++%3Fvar4+.%0A++%7D%0A++%3Fvar1++%3Chttp%3A%2F%2Fwww.wikidata.org%2Fprop%2Fdirect%2FP1559%3E++%3Fvar5+.%0A++%3Fvar1++%3Chttp%3A%2F%2Fwww.w3.org%2F2000%2F01%2Frdf-schema%23label%3E++%3Fvar6Label+.%0A++%3Fvar1++%3Chttp%3A%2F%2Fschema.org%2Fdescription%3E++%3Fvar7+.%0A++%3Fvar1++%3Chttp%3A%2F%2Fwww.wikidata.org%2Fprop%2Fdirect%2FP18%3E++%3Fvar8+.%0A++%3Fvar1++%3Chttp%3A%2F%2Fwww.wikidata.org%2Fprop%2Fdirect%2FP2002%3E++%3Fvar9+.%0A++%3Fvar1++%3Chttp%3A%2F%2Fwww.wikidata.org%2Fprop%2Fdirect%2FP800%3E++_%3AblankNode+.%0A++_%3AblankNode++%3Chttp%3A%2F%2Fwww.w3.org%2F2000%2F01%2Frdf-schema%23label%3E++%3Fvar10+.%0A++_%3AblankNode++%3Chttp%3A%2F%2Fwww.wikidata.org%2Fprop%2Fdirect%2FP31%3E++%3Chttp%3A%2F%2Fwww.wikidata.org%2Fentity%2FQ571%3E+.%0A+OPTIONAL+%7B%0A++%3Fvar1++%3Chttp%3A%2F%2Fwww.wikidata.org%2Fprop%2Fdirect%2FP109%3E++%3Fvar11+.%0A+%7D%0A+OPTIONAL+%7B%0A++%3Fvar1++%3Chttp%3A%2F%2Fwww.wikidata.org%2Fprop%2Fdirect%2FP856%3E++%3Fvar12+.%0A+%7D%0A+OPTIONAL+%7B%0A++%3Fvar1++%3Chttp%3A%2F%2Fwww.wikidata.org%2Fprop%2Fdirect%2FP2984%3E++%3Fvar13+.%0A+%7D%0A+OPTIONAL+%7B%0A++%3Fvar1++%3Chttp%3A%2F%2Fwww.wikidata.org%2Fprop%2Fdirect%2FP2003%3E++%3Fvar14+.%0A+%7D%0A+OPTIONAL+%7B%0A++%3Fvar1++%3Chttp%3A%2F%2Fwww.wikidata.org%2Fprop%2Fdirect%2FP2397%3E++%3Fvar15+.%0A+%7D%0A+OPTIONAL+%7B%0A++%3Fvar1++%3Chttp%3A%2F%2Fwww.wikidata.org%2Fprop%2Fdirect%2FP2013%3E++%3Fvar16+.%0A+%7D%0A+OPTIONAL+%7B%0A++%3Fvar1++%3Chttp%3A%2F%2Fwww.wikidata.org%2Fprop%2Fdirect%2FP2963%3E++%3Fvar17+.%0A+%7D%0A+OPTIONAL+%7B%0A++%3Fvar1++%3Chttp%3A%2F%2Fwww.wikidata.org%2Fprop%2Fdirect%2FP1902%3E++%3Fvar18+.%0A+%7D%0A+OPTIONAL+%7B%0A++%3Fvar1++%3Chttp%3A%2F%2Fwww.wikidata.org%2Fprop%2Fdirect%2FP4265%3E++%3Fvar19+.%0A+%7D%0A+OPTIONAL+%7B%0A++%3Fvar1++%3Chttp%3A%2F%2Fwww.wikidata.org%2Fprop%2Fdirect%2FP3579%3E++%3Fvar20+.%0A+%7D%0A+OPTIONAL+%7B%0A++%3Fvar1++%3Chttp%3A%2F%2Fwww.wikidata.org%2Fprop%2Fdirect%2FP3943%3E++%3Fvar21+.%0A+%7D%0A+OPTIONAL+%7B%0A++%3Fvar1++%3Chttp%3A%2F%2Fwww.wikidata.org%2Fprop%2Fdirect%2FP3185%3E++%3Fvar22+.%0A+%7D%0A+OPTIONAL+%7B%0A++%3Fvar1++%3Chttp%3A%2F%2Fwww.wikidata.org%2Fprop%2Fdirect%2FP3258%3E++%3Fvar23+.%0A+%7D%0A+OPTIONAL+%7B%0A++%3Fvar1++%3Chttp%3A%2F%2Fwww.wikidata.org%2Fprop%2Fdirect%2FP2850%3E++%3Fvar24+.%0A+%7D%0A+OPTIONAL+%7B%0A++%3Fvar1++%3Chttp%3A%2F%2Fwww.wikidata.org%2Fprop%2Fdirect%2FP3040%3E++%3Fvar25+.%0A+%7D%0A+OPTIONAL+%7B%0A++%3Fvar1++%3Chttp%3A%2F%2Fwww.wikidata.org%2Fprop%2Fdirect%2FP2035%3E++%3Fvar26+.%0A+%7D%0A+OPTIONAL+%7B%0A++%3Fvar1++%3Chttp%3A%2F%2Fwww.wikidata.org%2Fprop%2Fdirect%2FP3276%3E++%3Fvar27+.%0A+%7D%0A+FILTER+%28++%28+%28++LANG+%28++%3Fvar6Label++%29++%3D++%22en%22+%29+%26%26+%28++LANG+%28++%3Fvar7++%29++%3D++%22en%22+%29+%26%26+%28++LANG+%28++%3Fvar10++%29++%3D++%22en%22+%29+%29+%0A%29+.%0A%7D%0AORDER+BY+ASC%28+%3Fvar1+%29%0ALIMIT+50%0A</td>\n      <td>2018-02-25 11:52:55</td>\n      <td>robotic</td>\n      <td>UNKNOWN</td>\n      <td>27</td>\n      <td>1</td>\n      <td>1</td>\n      <td>50</td>\n      <td>1</td>\n      <td>0</td>\n      <td>9</td>\n      <td>1</td>\n      <td>1</td>\n      <td>0</td>\n      <td>0</td>\n      <td>20</td>\n      <td>1</td>\n      <td>0</td>\n      <td>1</td>\n      <td>27</td>\n      <td>0</td>\n      <td>0</td>\n      <td>0</td>\n      <td>17</td>\n      <td>1</td>\n      <td>0</td>\n      <td>0</td>\n      <td>0</td>\n      <td>3</td>\n      <td>0</td>\n      <td>0</td>\n      <td>0</td>\n      <td>0</td>\n      <td>0</td>\n      <td>0</td>\n      <td>0</td>\n      <td>0</td>\n      <td>data/parsed/I6_status500_Joined.parsed.tsv</td>\n      <td>6</td>\n      <td>True</td>\n      <td>True</td>\n      <td>True</td>\n      <td>True</td>\n      <td>True</td>\n      <td>False</td>\n      <td>False</td>\n      <td>True</td>\n      <td>True</td>\n      <td>True</td>\n      <td>True</td>\n      <td>False</td>\n      <td>True</td>\n      <td>True</td>\n      <td>False</td>\n    </tr>\n    <tr>\n      <th>96607</th>\n      <td>SELECT+*%0AWHERE+%7B%0A++%3Fvar1++%3Chttp%3A%2F%2Fwww.wikidata.org%2Fprop%2Fdirect%2FP106%3E++%3Fvar2+.%0A++VALUES+%28++%3Fvar3++%29+%7B%0A+++%28++%3Chttp%3A%2F%2Fwww.wikidata.org%2Fentity%2FQ36180%3E++%29%0A+++%28++%3Chttp%3A%2F%2Fwww.wikidata.org%2Fentity%2FQ10800557%3E++%29%0A+++%28++%3Chttp%3A%2F%2Fwww.wikidata.org%2Fentity%2FQ43845%3E++%29%0A+++%28++%3Chttp%3A%2F%2Fwww.wikidata.org%2Fentity%2FQ639669%3E++%29%0A+++%28++%3Chttp%3A%2F%2Fwww.wikidata.org%2Fentity%2FQ82955%3E++%29%0A++%7D%0A++MINUS+++%7B%0A++++%3Fvar1++%3Chttp%3A%2F%2Fwww.wikidata.org%2Fprop%2Fdirect%2FP570%3E++%3Fvar4+.%0A++%7D%0A++%3Fvar1++%3Chttp%3A%2F%2Fwww.wikidata.org%2Fprop%2Fdirect%2FP1559%3E++%3Fvar5+.%0A++%3Fvar1++%3Chttp%3A%2F%2Fwww.w3.org%2F2000%2F01%2Frdf-schema%23label%3E++%3Fvar6Label+.%0A++%3Fvar1++%3Chttp%3A%2F%2Fschema.org%2Fdescription%3E++%3Fvar7+.%0A++%3Fvar1++%3Chttp%3A%2F%2Fwww.wikidata.org%2Fprop%2Fdirect%2FP18%3E++%3Fvar8+.%0A++%3Fvar1++%3Chttp%3A%2F%2Fwww.wikidata.org%2Fprop%2Fdirect%2FP2002%3E++%3Fvar9+.%0A++%3Fvar1++%3Chttp%3A%2F%2Fwww.wikidata.org%2Fprop%2Fdirect%2FP800%3E++_%3AblankNode+.%0A++_%3AblankNode++%3Chttp%3A%2F%2Fwww.w3.org%2F2000%2F01%2Frdf-schema%23label%3E++%3Fvar10+.%0A++_%3AblankNode++%3Chttp%3A%2F%2Fwww.wikidata.org%2Fprop%2Fdirect%2FP31%3E++%3Chttp%3A%2F%2Fwww.wikidata.org%2Fentity%2FQ571%3E+.%0A+OPTIONAL+%7B%0A++%3Fvar1++%3Chttp%3A%2F%2Fwww.wikidata.org%2Fprop%2Fdirect%2FP109%3E++%3Fvar11+.%0A+%7D%0A+OPTIONAL+%7B%0A++%3Fvar1++%3Chttp%3A%2F%2Fwww.wikidata.org%2Fprop%2Fdirect%2FP856%3E++%3Fvar12+.%0A+%7D%0A+OPTIONAL+%7B%0A++%3Fvar1++%3Chttp%3A%2F%2Fwww.wikidata.org%2Fprop%2Fdirect%2FP2984%3E++%3Fvar13+.%0A+%7D%0A+OPTIONAL+%7B%0A++%3Fvar1++%3Chttp%3A%2F%2Fwww.wikidata.org%2Fprop%2Fdirect%2FP2003%3E++%3Fvar14+.%0A+%7D%0A+OPTIONAL+%7B%0A++%3Fvar1++%3Chttp%3A%2F%2Fwww.wikidata.org%2Fprop%2Fdirect%2FP2397%3E++%3Fvar15+.%0A+%7D%0A+OPTIONAL+%7B%0A++%3Fvar1++%3Chttp%3A%2F%2Fwww.wikidata.org%2Fprop%2Fdirect%2FP2013%3E++%3Fvar16+.%0A+%7D%0A+OPTIONAL+%7B%0A++%3Fvar1++%3Chttp%3A%2F%2Fwww.wikidata.org%2Fprop%2Fdirect%2FP2963%3E++%3Fvar17+.%0A+%7D%0A+OPTIONAL+%7B%0A++%3Fvar1++%3Chttp%3A%2F%2Fwww.wikidata.org%2Fprop%2Fdirect%2FP1902%3E++%3Fvar18+.%0A+%7D%0A+OPTIONAL+%7B%0A++%3Fvar1++%3Chttp%3A%2F%2Fwww.wikidata.org%2Fprop%2Fdirect%2FP4265%3E++%3Fvar19+.%0A+%7D%0A+OPTIONAL+%7B%0A++%3Fvar1++%3Chttp%3A%2F%2Fwww.wikidata.org%2Fprop%2Fdirect%2FP3579%3E++%3Fvar20+.%0A+%7D%0A+OPTIONAL+%7B%0A++%3Fvar1++%3Chttp%3A%2F%2Fwww.wikidata.org%2Fprop%2Fdirect%2FP3943%3E++%3Fvar21+.%0A+%7D%0A+OPTIONAL+%7B%0A++%3Fvar1++%3Chttp%3A%2F%2Fwww.wikidata.org%2Fprop%2Fdirect%2FP3185%3E++%3Fvar22+.%0A+%7D%0A+OPTIONAL+%7B%0A++%3Fvar1++%3Chttp%3A%2F%2Fwww.wikidata.org%2Fprop%2Fdirect%2FP3258%3E++%3Fvar23+.%0A+%7D%0A+OPTIONAL+%7B%0A++%3Fvar1++%3Chttp%3A%2F%2Fwww.wikidata.org%2Fprop%2Fdirect%2FP2850%3E++%3Fvar24+.%0A+%7D%0A+OPTIONAL+%7B%0A++%3Fvar1++%3Chttp%3A%2F%2Fwww.wikidata.org%2Fprop%2Fdirect%2FP3040%3E++%3Fvar25+.%0A+%7D%0A+OPTIONAL+%7B%0A++%3Fvar1++%3Chttp%3A%2F%2Fwww.wikidata.org%2Fprop%2Fdirect%2FP2035%3E++%3Fvar26+.%0A+%7D%0A+OPTIONAL+%7B%0A++%3Fvar1++%3Chttp%3A%2F%2Fwww.wikidata.org%2Fprop%2Fdirect%2FP3276%3E++%3Fvar27+.%0A+%7D%0A+FILTER+%28++%28+%28++LANG+%28++%3Fvar6Label++%29++%3D++%22en%22+%29+%26%26+%28++LANG+%28++%3Fvar7++%29++%3D++%22en%22+%29+%26%26+%28++LANG+%28++%3Fvar10++%29++%3D++%22en%22+%29+%29+%0A%29+.%0A%7D%0AORDER+BY+ASC%28+%3Fvar1+%29%0ALIMIT+50%0A</td>\n      <td>2018-02-25 11:50:48</td>\n      <td>robotic</td>\n      <td>UNKNOWN</td>\n      <td>27</td>\n      <td>1</td>\n      <td>1</td>\n      <td>50</td>\n      <td>1</td>\n      <td>0</td>\n      <td>9</td>\n      <td>1</td>\n      <td>1</td>\n      <td>0</td>\n      <td>0</td>\n      <td>20</td>\n      <td>1</td>\n      <td>0</td>\n      <td>1</td>\n      <td>27</td>\n      <td>0</td>\n      <td>0</td>\n      <td>0</td>\n      <td>17</td>\n      <td>1</td>\n      <td>0</td>\n      <td>0</td>\n      <td>0</td>\n      <td>3</td>\n      <td>0</td>\n      <td>0</td>\n      <td>0</td>\n      <td>0</td>\n      <td>0</td>\n      <td>0</td>\n      <td>0</td>\n      <td>0</td>\n      <td>data/parsed/I6_status500_Joined.parsed.tsv</td>\n      <td>6</td>\n      <td>True</td>\n      <td>True</td>\n      <td>True</td>\n      <td>True</td>\n      <td>True</td>\n      <td>False</td>\n      <td>False</td>\n      <td>True</td>\n      <td>True</td>\n      <td>True</td>\n      <td>True</td>\n      <td>False</td>\n      <td>True</td>\n      <td>True</td>\n      <td>False</td>\n    </tr>\n    <tr>\n      <th>96871</th>\n      <td>SELECT+*%0AWHERE+%7B%0A++%3Fvar1++%3Chttp%3A%2F%2Fwww.wikidata.org%2Fprop%2Fdirect%2FP106%3E++%3Chttp%3A%2F%2Fwww.wikidata.org%2Fentity%2FQ36180%3E+.%0A++MINUS+++%7B%0A++++%3Fvar1++%3Chttp%3A%2F%2Fwww.wikidata.org%2Fprop%2Fdirect%2FP570%3E++%3Fvar2+.%0A++%7D%0A++%3Fvar1++%3Chttp%3A%2F%2Fwww.wikidata.org%2Fprop%2Fdirect%2FP1559%3E++%3Fvar3+.%0A++%3Fvar1++%3Chttp%3A%2F%2Fwww.w3.org%2F2000%2F01%2Frdf-schema%23label%3E++%3Fvar4Label+.%0A++%3Fvar1++%3Chttp%3A%2F%2Fschema.org%2Fdescription%3E++%3Fvar5+.%0A++%3Fvar1++%3Chttp%3A%2F%2Fwww.wikidata.org%2Fprop%2Fdirect%2FP18%3E++%3Fvar6+.%0A++%3Fvar1++%3Chttp%3A%2F%2Fwww.wikidata.org%2Fprop%2Fdirect%2FP2002%3E++%3Fvar7+.%0A++%3Fvar1++%3Chttp%3A%2F%2Fwww.wikidata.org%2Fprop%2Fdirect%2FP800%3E++_%3AblankNode+.%0A++_%3AblankNode++%3Chttp%3A%2F%2Fwww.w3.org%2F2000%2F01%2Frdf-schema%23label%3E++%3Fvar8+.%0A++_%3AblankNode++%3Chttp%3A%2F%2Fwww.wikidata.org%2Fprop%2Fdirect%2FP31%3E++%3Chttp%3A%2F%2Fwww.wikidata.org%2Fentity%2FQ571%3E+.%0A+OPTIONAL+%7B%0A++%3Fvar1++%3Chttp%3A%2F%2Fwww.wikidata.org%2Fprop%2Fdirect%2FP106%3E++%3Fvar9+.%0A+%7D%0A+OPTIONAL+%7B%0A++%3Fvar1++%3Chttp%3A%2F%2Fwww.wikidata.org%2Fprop%2Fdirect%2FP109%3E++%3Fvar10+.%0A+%7D%0A+OPTIONAL+%7B%0A++%3Fvar1++%3Chttp%3A%2F%2Fwww.wikidata.org%2Fprop%2Fdirect%2FP856%3E++%3Fvar11+.%0A+%7D%0A+OPTIONAL+%7B%0A++%3Fvar1++%3Chttp%3A%2F%2Fwww.wikidata.org%2Fprop%2Fdirect%2FP2984%3E++%3Fvar12+.%0A+%7D%0A+OPTIONAL+%7B%0A++%3Fvar1++%3Chttp%3A%2F%2Fwww.wikidata.org%2Fprop%2Fdirect%2FP2003%3E++%3Fvar13+.%0A+%7D%0A+OPTIONAL+%7B%0A++%3Fvar1++%3Chttp%3A%2F%2Fwww.wikidata.org%2Fprop%2Fdirect%2FP2397%3E++%3Fvar14+.%0A+%7D%0A+OPTIONAL+%7B%0A++%3Fvar1++%3Chttp%3A%2F%2Fwww.wikidata.org%2Fprop%2Fdirect%2FP2013%3E++%3Fvar15+.%0A+%7D%0A+OPTIONAL+%7B%0A++%3Fvar1++%3Chttp%3A%2F%2Fwww.wikidata.org%2Fprop%2Fdirect%2FP2963%3E++%3Fvar16+.%0A+%7D%0A+OPTIONAL+%7B%0A++%3Fvar1++%3Chttp%3A%2F%2Fwww.wikidata.org%2Fprop%2Fdirect%2FP1902%3E++%3Fvar17+.%0A+%7D%0A+OPTIONAL+%7B%0A++%3Fvar1++%3Chttp%3A%2F%2Fwww.wikidata.org%2Fprop%2Fdirect%2FP4265%3E++%3Fvar18+.%0A+%7D%0A+OPTIONAL+%7B%0A++%3Fvar1++%3Chttp%3A%2F%2Fwww.wikidata.org%2Fprop%2Fdirect%2FP3579%3E++%3Fvar19+.%0A+%7D%0A+OPTIONAL+%7B%0A++%3Fvar1++%3Chttp%3A%2F%2Fwww.wikidata.org%2Fprop%2Fdirect%2FP3943%3E++%3Fvar20+.%0A+%7D%0A+OPTIONAL+%7B%0A++%3Fvar1++%3Chttp%3A%2F%2Fwww.wikidata.org%2Fprop%2Fdirect%2FP3185%3E++%3Fvar21+.%0A+%7D%0A+OPTIONAL+%7B%0A++%3Fvar1++%3Chttp%3A%2F%2Fwww.wikidata.org%2Fprop%2Fdirect%2FP2850%3E++%3Fvar22+.%0A+%7D%0A+OPTIONAL+%7B%0A++%3Fvar1++%3Chttp%3A%2F%2Fwww.wikidata.org%2Fprop%2Fdirect%2FP3040%3E++%3Fvar23+.%0A+%7D%0A+OPTIONAL+%7B%0A++%3Fvar1++%3Chttp%3A%2F%2Fwww.wikidata.org%2Fprop%2Fdirect%2FP2035%3E++%3Fvar24+.%0A+%7D%0A+OPTIONAL+%7B%0A++%3Fvar1++%3Chttp%3A%2F%2Fwww.wikidata.org%2Fprop%2Fdirect%2FP3276%3E++%3Fvar25+.%0A+%7D%0A+FILTER+%28++%28+%28++LANG+%28++%3Fvar4Label++%29++%3D++%22en%22+%29+%26%26+%28++LANG+%28++%3Fvar5++%29++%3D++%22en%22+%29+%26%26+%28++LANG+%28++%3Fvar8++%29++%3D++%22en%22+%29+%29+%0A%29+.%0A%7D%0AORDER+BY+ASC%28+%3Fvar1+%29%0ALIMIT+50%0A</td>\n      <td>2018-02-25 17:05:04</td>\n      <td>robotic</td>\n      <td>UNKNOWN</td>\n      <td>25</td>\n      <td>1</td>\n      <td>1</td>\n      <td>50</td>\n      <td>1</td>\n      <td>0</td>\n      <td>8</td>\n      <td>1</td>\n      <td>0</td>\n      <td>0</td>\n      <td>0</td>\n      <td>20</td>\n      <td>0</td>\n      <td>0</td>\n      <td>1</td>\n      <td>27</td>\n      <td>0</td>\n      <td>0</td>\n      <td>0</td>\n      <td>17</td>\n      <td>1</td>\n      <td>0</td>\n      <td>0</td>\n      <td>0</td>\n      <td>3</td>\n      <td>0</td>\n      <td>0</td>\n      <td>0</td>\n      <td>0</td>\n      <td>0</td>\n      <td>0</td>\n      <td>0</td>\n      <td>0</td>\n      <td>data/parsed/I6_status500_Joined.parsed.tsv</td>\n      <td>6</td>\n      <td>True</td>\n      <td>True</td>\n      <td>True</td>\n      <td>True</td>\n      <td>True</td>\n      <td>False</td>\n      <td>False</td>\n      <td>False</td>\n      <td>True</td>\n      <td>True</td>\n      <td>True</td>\n      <td>False</td>\n      <td>False</td>\n      <td>True</td>\n      <td>False</td>\n    </tr>\n    <tr>\n      <th>96868</th>\n      <td>SELECT+*%0AWHERE+%7B%0A++%3Fvar1++%3Chttp%3A%2F%2Fwww.wikidata.org%2Fprop%2Fdirect%2FP106%3E++%3Chttp%3A%2F%2Fwww.wikidata.org%2Fentity%2FQ36180%3E+.%0A++%3Fvar1++%3Chttp%3A%2F%2Fwww.wikidata.org%2Fprop%2Fdirect%2FP106%3E++%3Fvar2+.%0A++MINUS+++%7B%0A++++%3Fvar1++%3Chttp%3A%2F%2Fwww.wikidata.org%2Fprop%2Fdirect%2FP570%3E++%3Fvar3+.%0A++%7D%0A++%3Fvar1++%3Chttp%3A%2F%2Fwww.wikidata.org%2Fprop%2Fdirect%2FP1559%3E++%3Fvar4+.%0A++%3Fvar1++%3Chttp%3A%2F%2Fwww.w3.org%2F2000%2F01%2Frdf-schema%23label%3E++%3Fvar5Label+.%0A++%3Fvar1++%3Chttp%3A%2F%2Fschema.org%2Fdescription%3E++%3Fvar6+.%0A++%3Fvar1++%3Chttp%3A%2F%2Fwww.wikidata.org%2Fprop%2Fdirect%2FP18%3E++%3Fvar7+.%0A++%3Fvar1++%3Chttp%3A%2F%2Fwww.wikidata.org%2Fprop%2Fdirect%2FP2002%3E++%3Fvar8+.%0A++%3Fvar1++%3Chttp%3A%2F%2Fwww.wikidata.org%2Fprop%2Fdirect%2FP800%3E++_%3AblankNode+.%0A++_%3AblankNode++%3Chttp%3A%2F%2Fwww.w3.org%2F2000%2F01%2Frdf-schema%23label%3E++%3Fvar9+.%0A++_%3AblankNode++%3Chttp%3A%2F%2Fwww.wikidata.org%2Fprop%2Fdirect%2FP31%3E++%3Chttp%3A%2F%2Fwww.wikidata.org%2Fentity%2FQ571%3E+.%0A+OPTIONAL+%7B%0A++%3Fvar1++%3Chttp%3A%2F%2Fwww.wikidata.org%2Fprop%2Fdirect%2FP109%3E++%3Fvar10+.%0A+%7D%0A+OPTIONAL+%7B%0A++%3Fvar1++%3Chttp%3A%2F%2Fwww.wikidata.org%2Fprop%2Fdirect%2FP856%3E++%3Fvar11+.%0A+%7D%0A+OPTIONAL+%7B%0A++%3Fvar1++%3Chttp%3A%2F%2Fwww.wikidata.org%2Fprop%2Fdirect%2FP2984%3E++%3Fvar12+.%0A+%7D%0A+OPTIONAL+%7B%0A++%3Fvar1++%3Chttp%3A%2F%2Fwww.wikidata.org%2Fprop%2Fdirect%2FP2003%3E++%3Fvar13+.%0A+%7D%0A+OPTIONAL+%7B%0A++%3Fvar1++%3Chttp%3A%2F%2Fwww.wikidata.org%2Fprop%2Fdirect%2FP2397%3E++%3Fvar14+.%0A+%7D%0A+OPTIONAL+%7B%0A++%3Fvar1++%3Chttp%3A%2F%2Fwww.wikidata.org%2Fprop%2Fdirect%2FP2013%3E++%3Fvar15+.%0A+%7D%0A+OPTIONAL+%7B%0A++%3Fvar1++%3Chttp%3A%2F%2Fwww.wikidata.org%2Fprop%2Fdirect%2FP2963%3E++%3Fvar16+.%0A+%7D%0A+OPTIONAL+%7B%0A++%3Fvar1++%3Chttp%3A%2F%2Fwww.wikidata.org%2Fprop%2Fdirect%2FP1902%3E++%3Fvar17+.%0A+%7D%0A+OPTIONAL+%7B%0A++%3Fvar1++%3Chttp%3A%2F%2Fwww.wikidata.org%2Fprop%2Fdirect%2FP4265%3E++%3Fvar18+.%0A+%7D%0A+OPTIONAL+%7B%0A++%3Fvar1++%3Chttp%3A%2F%2Fwww.wikidata.org%2Fprop%2Fdirect%2FP3579%3E++%3Fvar19+.%0A+%7D%0A+OPTIONAL+%7B%0A++%3Fvar1++%3Chttp%3A%2F%2Fwww.wikidata.org%2Fprop%2Fdirect%2FP3943%3E++%3Fvar20+.%0A+%7D%0A+OPTIONAL+%7B%0A++%3Fvar1++%3Chttp%3A%2F%2Fwww.wikidata.org%2Fprop%2Fdirect%2FP3185%3E++%3Fvar21+.%0A+%7D%0A+OPTIONAL+%7B%0A++%3Fvar1++%3Chttp%3A%2F%2Fwww.wikidata.org%2Fprop%2Fdirect%2FP2850%3E++%3Fvar22+.%0A+%7D%0A+OPTIONAL+%7B%0A++%3Fvar1++%3Chttp%3A%2F%2Fwww.wikidata.org%2Fprop%2Fdirect%2FP3040%3E++%3Fvar23+.%0A+%7D%0A+OPTIONAL+%7B%0A++%3Fvar1++%3Chttp%3A%2F%2Fwww.wikidata.org%2Fprop%2Fdirect%2FP2035%3E++%3Fvar24+.%0A+%7D%0A+OPTIONAL+%7B%0A++%3Fvar1++%3Chttp%3A%2F%2Fwww.wikidata.org%2Fprop%2Fdirect%2FP3276%3E++%3Fvar25+.%0A+%7D%0A+FILTER+%28++%28+%28++LANG+%28++%3Fvar5Label++%29++%3D++%22en%22+%29+%26%26+%28++LANG+%28++%3Fvar6++%29++%3D++%22en%22+%29+%26%26+%28++LANG+%28++%3Fvar9++%29++%3D++%22en%22+%29+%29+%0A%29+.%0A%7D%0AORDER+BY+ASC%28+%3Fvar1+%29%0ALIMIT+50%0A</td>\n      <td>2018-02-25 17:02:09</td>\n      <td>robotic</td>\n      <td>UNKNOWN</td>\n      <td>25</td>\n      <td>1</td>\n      <td>1</td>\n      <td>50</td>\n      <td>1</td>\n      <td>0</td>\n      <td>9</td>\n      <td>1</td>\n      <td>0</td>\n      <td>0</td>\n      <td>0</td>\n      <td>19</td>\n      <td>0</td>\n      <td>0</td>\n      <td>1</td>\n      <td>27</td>\n      <td>0</td>\n      <td>0</td>\n      <td>0</td>\n      <td>16</td>\n      <td>1</td>\n      <td>0</td>\n      <td>0</td>\n      <td>0</td>\n      <td>3</td>\n      <td>0</td>\n      <td>0</td>\n      <td>0</td>\n      <td>0</td>\n      <td>0</td>\n      <td>0</td>\n      <td>0</td>\n      <td>0</td>\n      <td>data/parsed/I6_status500_Joined.parsed.tsv</td>\n      <td>6</td>\n      <td>True</td>\n      <td>True</td>\n      <td>True</td>\n      <td>True</td>\n      <td>True</td>\n      <td>False</td>\n      <td>False</td>\n      <td>False</td>\n      <td>True</td>\n      <td>True</td>\n      <td>True</td>\n      <td>False</td>\n      <td>False</td>\n      <td>True</td>\n      <td>False</td>\n    </tr>\n  </tbody>\n</table>\n</div>"
     },
     "metadata": {}
    }
   ]
  },
  {
   "cell_type": "code",
   "metadata": {
    "tags": [],
    "deepnote_to_be_reexecuted": false,
    "source_hash": "eeb11d26",
    "execution_start": 1645781087634,
    "execution_millis": 26,
    "deepnote_output_heights": [
     36
    ],
    "deepnote_cell_height": 755,
    "cell_id": "00018-a62e66df-fd14-4ddc-9746-c819819d59db",
    "deepnote_cell_type": "code"
   },
   "source": "%%script false --no-raise-error # disable cell\n\n# Afficher la requête contenant le plus de triples\nprint(encoded2raw(\n        df_nona_sort_by_triples_out.loc[53856][\"anonymizedQuery\"]\n    ))",
   "execution_count": null,
   "outputs": []
  },
  {
   "cell_type": "markdown",
   "source": "### Organic",
   "metadata": {
    "tags": [],
    "is_collapsed": false,
    "deepnote_cell_height": 62,
    "cell_id": "00019-ab9266f0-d5ce-48d2-b5ca-13c96fbfba35",
    "deepnote_cell_type": "text-cell-h3"
   }
  },
  {
   "cell_type": "markdown",
   "source": "Number of organic queries",
   "metadata": {
    "tags": [],
    "is_collapsed": false,
    "deepnote_cell_height": 52.399993896484375,
    "cell_id": "00020-c833e71d-e962-40ef-a53e-c2da7ac66df9",
    "deepnote_cell_type": "text-cell-p"
   }
  },
  {
   "cell_type": "code",
   "metadata": {
    "tags": [],
    "deepnote_to_be_reexecuted": false,
    "source_hash": "84f67c2c",
    "execution_start": 1645781087661,
    "execution_millis": 8,
    "deepnote_output_heights": [
     21
    ],
    "deepnote_cell_height": 118,
    "cell_id": "00021-a194de7f-b9d8-440b-9a11-5a87dadabf6c",
    "deepnote_cell_type": "code"
   },
   "source": "len(df_nona_organic)",
   "execution_count": null,
   "outputs": [
    {
     "output_type": "execute_result",
     "execution_count": 12,
     "data": {
      "text/plain": "41476"
     },
     "metadata": {}
    }
   ]
  },
  {
   "cell_type": "markdown",
   "source": "Sum of all variables",
   "metadata": {
    "tags": [],
    "is_collapsed": false,
    "deepnote_cell_height": 52.399993896484375,
    "cell_id": "00022-a62e109a-e12f-4ebd-b619-442da716efb2",
    "deepnote_cell_type": "text-cell-p"
   }
  },
  {
   "cell_type": "code",
   "metadata": {
    "tags": [],
    "deepnote_to_be_reexecuted": false,
    "source_hash": "bbc0d72d",
    "execution_start": 1645781087674,
    "execution_millis": 6,
    "deepnote_output_heights": [
     21
    ],
    "deepnote_cell_height": 118,
    "cell_id": "00023-77b99858-fc7d-4dff-a526-e80718aa2aa9",
    "deepnote_cell_type": "code"
   },
   "source": "df_nona_organic[\"var_cpt\"].sum()",
   "execution_count": null,
   "outputs": [
    {
     "output_type": "execute_result",
     "execution_count": 13,
     "data": {
      "text/plain": "266963"
     },
     "metadata": {}
    }
   ]
  },
  {
   "cell_type": "markdown",
   "source": "Average number of variable per organic request",
   "metadata": {
    "tags": [],
    "deepnote_cell_height": 52.399993896484375,
    "cell_id": "00024-d9b83b1c-2521-48ef-a1cd-5f413028afbf",
    "deepnote_cell_type": "markdown"
   }
  },
  {
   "cell_type": "code",
   "metadata": {
    "tags": [],
    "deepnote_to_be_reexecuted": false,
    "source_hash": "abc0efda",
    "execution_start": 1645781087683,
    "execution_millis": 33,
    "deepnote_output_heights": [
     21
    ],
    "deepnote_cell_height": 118,
    "cell_id": "00025-4f4022b0-6c29-45a3-acf7-66a4c02b8d9d",
    "deepnote_cell_type": "code"
   },
   "source": "df_nona_organic[\"var_cpt\"].mean()",
   "execution_count": null,
   "outputs": [
    {
     "output_type": "execute_result",
     "execution_count": 14,
     "data": {
      "text/plain": "6.436565724756486"
     },
     "metadata": {}
    }
   ]
  },
  {
   "cell_type": "markdown",
   "source": "### Robotic",
   "metadata": {
    "tags": [],
    "is_collapsed": false,
    "deepnote_cell_height": 62,
    "cell_id": "00026-1af82ca9-0ca2-4f0a-a775-f0f505b21084",
    "deepnote_cell_type": "text-cell-h3"
   }
  },
  {
   "cell_type": "code",
   "metadata": {
    "tags": [],
    "deepnote_to_be_reexecuted": false,
    "source_hash": "e1e1f708",
    "execution_start": 1645781087714,
    "execution_millis": 4,
    "deepnote_output_heights": [
     21
    ],
    "deepnote_cell_height": 118,
    "cell_id": "00027-b2a07da4-b4aa-4739-87f0-0ce0d796a3b0",
    "deepnote_cell_type": "code"
   },
   "source": "len(df_nona_robotic)",
   "execution_count": null,
   "outputs": [
    {
     "output_type": "execute_result",
     "execution_count": 15,
     "data": {
      "text/plain": "81356"
     },
     "metadata": {}
    }
   ]
  },
  {
   "cell_type": "markdown",
   "source": "Sum of all variables",
   "metadata": {
    "tags": [],
    "is_collapsed": false,
    "deepnote_cell_height": 52.399993896484375,
    "cell_id": "00028-86c451e5-90ce-48e1-85f4-e3d59b0525e0",
    "deepnote_cell_type": "text-cell-p"
   }
  },
  {
   "cell_type": "code",
   "metadata": {
    "tags": [],
    "deepnote_to_be_reexecuted": false,
    "source_hash": "e4279818",
    "execution_start": 1645781087715,
    "execution_millis": 4,
    "deepnote_output_heights": [
     21
    ],
    "deepnote_cell_height": 118,
    "cell_id": "00029-7e1db016-1728-4d35-803b-26f2b3aeee81",
    "deepnote_cell_type": "code"
   },
   "source": "df_nona_robotic[\"var_cpt\"].sum()",
   "execution_count": null,
   "outputs": [
    {
     "output_type": "execute_result",
     "execution_count": 16,
     "data": {
      "text/plain": "448574"
     },
     "metadata": {}
    }
   ]
  },
  {
   "cell_type": "code",
   "metadata": {
    "tags": [],
    "deepnote_to_be_reexecuted": false,
    "source_hash": "c0de7c92",
    "execution_start": 1645781087717,
    "execution_millis": 10,
    "deepnote_output_heights": [
     21
    ],
    "deepnote_cell_height": 118,
    "pycharm": {
     "name": "#%%\n"
    },
    "cell_id": "00030-4e0aaa96-9da1-4535-b549-14d6f2d7b9b9",
    "deepnote_cell_type": "code"
   },
   "source": "df_nona_robotic[\"var_cpt\"].mean()",
   "execution_count": null,
   "outputs": [
    {
     "output_type": "execute_result",
     "execution_count": 17,
     "data": {
      "text/plain": "5.513717488568759"
     },
     "metadata": {}
    }
   ]
  },
  {
   "cell_type": "markdown",
   "source": "## Graphs",
   "metadata": {
    "cell_id": "ef4d5d11-7179-4c76-87a7-6ef2262c831d",
    "tags": [],
    "is_collapsed": false,
    "deepnote_cell_type": "text-cell-h2"
   }
  },
  {
   "cell_type": "code",
   "source": "df_nona.sort_values([\"cycleNumber\"],  ascending=[False]).head(10)",
   "metadata": {
    "cell_id": "a99fb25c-1485-49d8-ad76-81c98d88ec7b",
    "tags": [],
    "deepnote_cell_type": "code"
   },
   "outputs": [],
   "execution_count": null
  },
  {
   "cell_type": "code",
   "source": "query = df_nona.sort_values([\"cycleNumber\"],  ascending=[False]).head(10).iloc[0]\n\ntriples = dict()\nfor triple in json.loads(query[\"triplesSet\"]):\n    triples[triple[0], triple[2]] = triple[1]\n\nedges = triples\nG = nx.DiGraph()\nG.add_edges_from(edges)\npos = nx.spring_layout(G)\nplt.figure()\nnx.draw(\n    G, pos,\n    labels={node: node for node in G.nodes()},\n)\n#nx.draw_networkx_edge_labels(\n#    G, pos,\n#    edge_labels=triples,\n#    font_color='red',\n#    font_size = 8\n#)\nplt.axis('off')\nplt.show()\n\nprint(list(nx.simple_cycles(G)))",
   "metadata": {
    "cell_id": "e28c630d-b564-46e6-8cf8-d49fa13c7ea7",
    "tags": [],
    "deepnote_cell_type": "code"
   },
   "outputs": [],
   "execution_count": null
  },
  {
   "cell_type": "markdown",
   "source": "<a style='text-decoration:none;line-height:16px;display:flex;color:#5B5B62;padding:10px;justify-content:end;' href='https://deepnote.com?utm_source=created-in-deepnote-cell&projectId=513ed372-d958-4618-b5dc-4b186f2555bd' target=\"_blank\">\n<img alt='Created in deepnote.com' style='display:inline;max-height:16px;margin:0px;margin-right:7.5px;' src='data:image/svg+xml;base64,PD94bWwgdmVyc2lvbj0iMS4wIiBlbmNvZGluZz0iVVRGLTgiPz4KPHN2ZyB3aWR0aD0iODBweCIgaGVpZ2h0PSI4MHB4IiB2aWV3Qm94PSIwIDAgODAgODAiIHZlcnNpb249IjEuMSIgeG1sbnM9Imh0dHA6Ly93d3cudzMub3JnLzIwMDAvc3ZnIiB4bWxuczp4bGluaz0iaHR0cDovL3d3dy53My5vcmcvMTk5OS94bGluayI+CiAgICA8IS0tIEdlbmVyYXRvcjogU2tldGNoIDU0LjEgKDc2NDkwKSAtIGh0dHBzOi8vc2tldGNoYXBwLmNvbSAtLT4KICAgIDx0aXRsZT5Hcm91cCAzPC90aXRsZT4KICAgIDxkZXNjPkNyZWF0ZWQgd2l0aCBTa2V0Y2guPC9kZXNjPgogICAgPGcgaWQ9IkxhbmRpbmciIHN0cm9rZT0ibm9uZSIgc3Ryb2tlLXdpZHRoPSIxIiBmaWxsPSJub25lIiBmaWxsLXJ1bGU9ImV2ZW5vZGQiPgogICAgICAgIDxnIGlkPSJBcnRib2FyZCIgdHJhbnNmb3JtPSJ0cmFuc2xhdGUoLTEyMzUuMDAwMDAwLCAtNzkuMDAwMDAwKSI+CiAgICAgICAgICAgIDxnIGlkPSJHcm91cC0zIiB0cmFuc2Zvcm09InRyYW5zbGF0ZSgxMjM1LjAwMDAwMCwgNzkuMDAwMDAwKSI+CiAgICAgICAgICAgICAgICA8cG9seWdvbiBpZD0iUGF0aC0yMCIgZmlsbD0iIzAyNjVCNCIgcG9pbnRzPSIyLjM3NjIzNzYyIDgwIDM4LjA0NzY2NjcgODAgNTcuODIxNzgyMiA3My44MDU3NTkyIDU3LjgyMTc4MjIgMzIuNzU5MjczOSAzOS4xNDAyMjc4IDMxLjY4MzE2ODMiPjwvcG9seWdvbj4KICAgICAgICAgICAgICAgIDxwYXRoIGQ9Ik0zNS4wMDc3MTgsODAgQzQyLjkwNjIwMDcsNzYuNDU0OTM1OCA0Ny41NjQ5MTY3LDcxLjU0MjI2NzEgNDguOTgzODY2LDY1LjI2MTk5MzkgQzUxLjExMjI4OTksNTUuODQxNTg0MiA0MS42NzcxNzk1LDQ5LjIxMjIyODQgMjUuNjIzOTg0Niw0OS4yMTIyMjg0IEMyNS40ODQ5Mjg5LDQ5LjEyNjg0NDggMjkuODI2MTI5Niw0My4yODM4MjQ4IDM4LjY0NzU4NjksMzEuNjgzMTY4MyBMNzIuODcxMjg3MSwzMi41NTQ0MjUgTDY1LjI4MDk3Myw2Ny42NzYzNDIxIEw1MS4xMTIyODk5LDc3LjM3NjE0NCBMMzUuMDA3NzE4LDgwIFoiIGlkPSJQYXRoLTIyIiBmaWxsPSIjMDAyODY4Ij48L3BhdGg+CiAgICAgICAgICAgICAgICA8cGF0aCBkPSJNMCwzNy43MzA0NDA1IEwyNy4xMTQ1MzcsMC4yNTcxMTE0MzYgQzYyLjM3MTUxMjMsLTEuOTkwNzE3MDEgODAsMTAuNTAwMzkyNyA4MCwzNy43MzA0NDA1IEM4MCw2NC45NjA0ODgyIDY0Ljc3NjUwMzgsNzkuMDUwMzQxNCAzNC4zMjk1MTEzLDgwIEM0Ny4wNTUzNDg5LDc3LjU2NzA4MDggNTMuNDE4MjY3Nyw3MC4zMTM2MTAzIDUzLjQxODI2NzcsNTguMjM5NTg4NSBDNTMuNDE4MjY3Nyw0MC4xMjg1NTU3IDM2LjMwMzk1NDQsMzcuNzMwNDQwNSAyNS4yMjc0MTcsMzcuNzMwNDQwNSBDMTcuODQzMDU4NiwzNy43MzA0NDA1IDkuNDMzOTE5NjYsMzcuNzMwNDQwNSAwLDM3LjczMDQ0MDUgWiIgaWQ9IlBhdGgtMTkiIGZpbGw9IiMzNzkzRUYiPjwvcGF0aD4KICAgICAgICAgICAgPC9nPgogICAgICAgIDwvZz4KICAgIDwvZz4KPC9zdmc+' > </img>\nCreated in <span style='font-weight:600;margin-left:4px;'>Deepnote</span></a>",
   "metadata": {
    "tags": [],
    "created_in_deepnote_cell": true,
    "deepnote_cell_type": "markdown"
   }
  }
 ],
 "nbformat": 4,
 "nbformat_minor": 1,
 "metadata": {
  "kernelspec": {
   "display_name": "Python 3 (ipykernel)",
   "language": "python",
   "name": "python3"
  },
  "language_info": {
   "codemirror_mode": {
    "name": "ipython",
    "version": 3
   },
   "file_extension": ".py",
   "mimetype": "text/x-python",
   "name": "python",
   "nbconvert_exporter": "python",
   "pygments_lexer": "ipython3",
   "version": "3.9.10"
  },
  "deepnote_notebook_id": "03a17b07-2e45-45be-b7c4-81f8d3750a68",
  "deepnote": {},
  "deepnote_execution_queue": []
 }
}