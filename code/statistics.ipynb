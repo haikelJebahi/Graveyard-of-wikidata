{
 "cells": [
  {
   "cell_type": "markdown",
   "source": "# Graveyard Of Wikidata - Statistics",
   "metadata": {
    "tags": [],
    "is_collapsed": false,
    "cell_id": "047e4d21-c24f-46ab-a23e-18d2e992b5f2",
    "deepnote_cell_type": "text-cell-h1",
    "deepnote_cell_height": 82
   }
  },
  {
   "cell_type": "markdown",
   "source": "Github : https://github.com/haikelJebahi/Graveyard-of-wikidata\n\nData : https://iccl.inf.tu-dresden.de/web/Wikidata_SPARQL_Logs/en",
   "metadata": {
    "cell_id": "00001-95b5e7dc-0f4d-42aa-81f2-eef5c19d70ad",
    "deepnote_cell_type": "markdown",
    "deepnote_cell_height": 88.80000305175781
   }
  },
  {
   "cell_type": "markdown",
   "source": "## Imports",
   "metadata": {
    "tags": [],
    "is_collapsed": false,
    "cell_id": "00002-2e53ddad-1aed-4bbe-b3fa-d4c3e9943383",
    "deepnote_cell_type": "text-cell-h2",
    "deepnote_cell_height": 70
   }
  },
  {
   "cell_type": "code",
   "metadata": {
    "pycharm": {
     "name": "#%%\n"
    },
    "deepnote_to_be_reexecuted": false,
    "source_hash": "eda8d97",
    "execution_start": 1646992570467,
    "execution_millis": 4091,
    "cell_id": "00003-0038c49c-3a2d-42a9-b3c0-84c805b085af",
    "deepnote_cell_type": "code",
    "deepnote_cell_height": 674.5999755859375
   },
   "source": "%matplotlib inline\nfrom joblib import dump, load\nimport csv\nimport pandas as pd\nimport numpy as np\nimport seaborn as sns\nimport matplotlib.pyplot as plt\nimport re\nfrom urllib.parse import unquote_plus\nfrom pyparsing import ParseException\nfrom rdflib.plugins.sparql.algebra import translateQuery, translateUpdate, pprintAlgebra, traverse\nfrom rdflib.plugins.sparql.parser import parseQuery, parseUpdate\nfrom rdflib.plugins.sparql.operators import Builtin_LANG\nfrom rdflib.plugins.sparql.parserutils import CompValue\nfrom rdflib.term import Variable\nfrom pandas import concat\nfrom collections import Counter\nfrom sklearn.preprocessing import StandardScaler\nfrom sklearn.decomposition import PCA\nfrom mpl_toolkits import mplot3d\nimport seaborn as sns\nfrom sklearn.manifold import TSNE\nfrom sklearn.cluster import KMeans\nfrom mpl_toolkits.mplot3d import Axes3D\nimport colorcet as cc\nfrom sklearn.cluster import AgglomerativeClustering\nfrom PIL import Image\nimport io\nimport gc\nimport matplotlib.pyplot as plt\nimport networkx as nx\nimport json\nfrom io import BytesIO\nimport base64",
   "execution_count": null,
   "outputs": []
  },
  {
   "cell_type": "code",
   "metadata": {
    "tags": [],
    "deepnote_to_be_reexecuted": false,
    "source_hash": "41e2db06",
    "execution_start": 1646992574566,
    "execution_millis": 1,
    "cell_id": "00004-7df94c00-4267-4410-8025-f07b1b0f4353",
    "deepnote_cell_type": "code",
    "deepnote_cell_height": 80.60000610351562
   },
   "source": "plt.style.use(\"ggplot\")",
   "execution_count": null,
   "outputs": []
  },
  {
   "cell_type": "code",
   "metadata": {
    "deepnote_to_be_reexecuted": false,
    "source_hash": "8570e9da",
    "execution_start": 1646992574618,
    "execution_millis": 1353301,
    "cell_id": "00005-19b67981-12bf-4651-b2f1-39bec962117a",
    "deepnote_cell_type": "code",
    "deepnote_cell_height": 98.60000610351562
   },
   "source": "pd.set_option(\"display.expand_frame_repr\", True)\npd.set_option(\"display.max_rows\", 100, \"display.max_columns\", None)",
   "execution_count": null,
   "outputs": []
  },
  {
   "cell_type": "code",
   "metadata": {
    "cell_id": "abc81906-cc05-4341-a248-fb46f6ec4858",
    "tags": [],
    "deepnote_to_be_reexecuted": false,
    "source_hash": "ff9a205a",
    "execution_start": 1646992574619,
    "execution_millis": 1353302,
    "deepnote_cell_type": "code",
    "deepnote_cell_height": 188.60000610351562
   },
   "source": "# see parse.py\ndef encoded2raw(encoded):\n    str = unquote_plus(encoded)\n    str = re.sub(r\"> *\\*\", \">*\", str)\n    str = re.sub(r\"> *\\+\", \">+\", str)\n    str = re.sub(r\"> *\\?([^v])\", r\">?\\1\", str)\n    return str",
   "execution_count": null,
   "outputs": []
  },
  {
   "cell_type": "markdown",
   "source": "## Statistics",
   "metadata": {
    "cell_id": "00006-3dd32e2e-3a21-4af0-809d-3b2b4042aeb9",
    "deepnote_cell_type": "markdown",
    "deepnote_cell_height": 69.60000610351562
   }
  },
  {
   "cell_type": "code",
   "metadata": {
    "collapsed": false,
    "pycharm": {
     "name": "#%%\n"
    },
    "cell_id": "00007-a5bd5efc-5acc-4c7b-add7-21bcdd4a0116",
    "deepnote_to_be_reexecuted": false,
    "source_hash": "ab286313",
    "execution_start": 1646992574619,
    "execution_millis": 2874,
    "deepnote_cell_type": "code",
    "deepnote_cell_height": 116.60000610351562
   },
   "source": "nom = \"../data/merged/status500_Joined.parsed.noduplicate.tsv\"\ndf_nona = pd.read_csv(nom, sep=\"\\t\")\n",
   "execution_count": null,
   "outputs": []
  },
  {
   "cell_type": "markdown",
   "source": "Adding basic attributes of queries",
   "metadata": {
    "tags": [],
    "deepnote_to_be_reexecuted": false,
    "source_hash": "eaeaa141",
    "execution_start": 1645781032321,
    "execution_millis": 13,
    "pycharm": {
     "name": "#%% md\n"
    },
    "cell_id": "00008-83f43abc-d7e4-4949-8888-dc88ec78471c",
    "deepnote_cell_type": "markdown",
    "deepnote_cell_height": 52
   }
  },
  {
   "cell_type": "code",
   "metadata": {
    "tags": [],
    "deepnote_to_be_reexecuted": false,
    "source_hash": "3f662e75",
    "execution_start": 1646992577511,
    "execution_millis": 166,
    "pycharm": {
     "name": "#%%\n"
    },
    "cell_id": "00009-5c07cb99-89a2-42f9-88d1-4bfd9dfe0de7",
    "deepnote_cell_type": "code",
    "deepnote_cell_height": 422.6000061035156
   },
   "source": "df_nona[\"has_variable\"] = df_nona[\"var_cpt\"].apply(lambda x: False if x == 0 else True)\ndf_nona[\"has_filter\"] = df_nona[\"filter\"].apply(lambda x: False if x == 0 else True)\ndf_nona[\"has_orderby\"] = df_nona[\"orderby\"].apply(lambda x: False if x == 0 else True)\ndf_nona[\"has_limit\"] = df_nona[\"limit\"].apply(lambda x: False if x == 0 else True)\ndf_nona[\"has_select\"] = df_nona[\"select\"].apply(lambda x: False if x == 0 else True)\ndf_nona[\"has_distinct\"] = df_nona[\"distinct\"].apply(lambda x: False if x == 0 else True)\ndf_nona[\"has_modify\"] = df_nona[\"modify\"].apply(lambda x: False if x == 0 else True)\ndf_nona[\"has_tomultiset\"] = df_nona[\"tomultiset\"].apply(\n    lambda x: False if x == 0 else True\n)\ndf_nona[\"has_join\"] = df_nona[\"join\"].apply(lambda x: False if x == 0 else True)\ndf_nona[\"has_bgp\"] = df_nona[\"bgp\"].apply(lambda x: False if x == 0 else True)\ndf_nona[\"has_project\"] = df_nona[\"project\"].apply(lambda x: False if x == 0 else True)\ndf_nona[\"has_union\"] = df_nona[\"union\"].apply(lambda x: False if x == 0 else True)\ndf_nona[\"has_values\"] = df_nona[\"values\"].apply(lambda x: False if x == 0 else True)\ndf_nona[\"has_slice\"] = df_nona[\"slice\"].apply(lambda x: False if x == 0 else True)\ndf_nona[\"has_offset\"] = df_nona[\"offset\"].apply(lambda x: False if x == 0 else True)\n\ndf_nona[\"complexPathWith\"] = df_nona.loc[:,['pathWithStar','pathWithQuestionMark','pathWithPlus']].sum(axis=1)\ndf_nona[\"simplePathWith\"] = df_nona.loc[:,['pathWithInv','pathWithSequence','pathWithAlternative']].sum(axis=1)",
   "execution_count": null,
   "outputs": []
  },
  {
   "cell_type": "markdown",
   "source": "df_nona",
   "metadata": {
    "tags": [],
    "is_collapsed": false,
    "pycharm": {
     "name": "#%%\n"
    },
    "cell_id": "00010-fedf185a-570f-4a0d-a583-66be906c1c76",
    "deepnote_cell_type": "text-cell-p",
    "deepnote_cell_height": 52.399993896484375
   }
  },
  {
   "cell_type": "markdown",
   "source": "Split in robotic and organic",
   "metadata": {
    "pycharm": {
     "name": "#%% md\n"
    },
    "deepnote_to_be_reexecuted": false,
    "source_hash": "893a7742",
    "execution_start": 1645781055807,
    "execution_millis": 259,
    "deepnote_table_state": {
     "pageSize": 10,
     "pageIndex": 0,
     "filters": [],
     "sortBy": [
      {
       "id": "counter_groupby",
       "type": "desc"
      }
     ]
    },
    "deepnote_table_loading": false,
    "cell_id": "00011-bc3559f4-b48c-48ba-80dd-e7cacce9866d",
    "deepnote_cell_type": "markdown",
    "deepnote_cell_height": 52.399993896484375
   }
  },
  {
   "cell_type": "code",
   "metadata": {
    "pycharm": {
     "name": "#%%\n"
    },
    "deepnote_to_be_reexecuted": false,
    "source_hash": "a0137716",
    "execution_start": 1646992577728,
    "execution_millis": 259,
    "deepnote_table_state": {
     "pageSize": 10,
     "pageIndex": 0,
     "filters": [],
     "sortBy": [
      {
       "id": "anonymizedQuery",
       "type": "desc"
      }
     ]
    },
    "deepnote_table_loading": false,
    "cell_id": "00012-1466db35-2403-44bc-9a89-78a104a1aad2",
    "deepnote_cell_type": "code",
    "deepnote_cell_height": 682
   },
   "source": "df_nona_robotic = df_nona.loc[(df_nona[\"sourceCategory\"] == \"robotic\")]\ndf_nona_robotic\n",
   "execution_count": null,
   "outputs": [
    {
     "output_type": "execute_result",
     "execution_count": 7,
     "data": {
      "application/vnd.deepnote.dataframe.v3+json": {
       "column_count": 69,
       "row_count": 18039,
       "columns": [
        {
         "name": "anonymizedQuery",
         "dtype": "object",
         "stats": {
          "unique_count": 9573,
          "nan_count": 0,
          "categories": [
           {
            "name": "SELECT+DISTINCT+%3Fvar1++%3Fvar2+%0AWHERE+%7B%0A++%3Fvar1++%3Chttp%3A%2F%2Fwww.wikidata.org%2Fprop%2Fdirect%2FP31%3E++%3Chttp%3A%2F%2Fwww.wikidata.org%2Fentity%2FQ13442814%3E+.%0A++%3Fvar1++%3Chttp%3A%2F%2Fwww.wikidata.org%2Fprop%2Fdirect%2FP356%3E++%3Fvar2+.%0A++%3Fvar1++%3Chttp%3A%2F%2Fwww.wikidata.org%2Fprop%2Fdirect%2FP50%3E++%3Fvar3+.%0A++%3Fvar3++%3Chttp%3A%2F%2Fwww.wikidata.org%2Fprop%2Fdirect%2FP31%3E++%3Chttp%3A%2F%2Fwww.wikidata.org%2Fentity%2FQ5%3E+.%0A++MINUS+++%7B%0A++++%3Fvar3++%3Chttp%3A%2F%2Fwww.wikidata.org%2Fprop%2Fdirect%2FP496%3E++%5B%5D+.%0A++%7D%0A++MINUS+++%7B%0A++++%3Fvar3++%3Chttp%3A%2F%2Fwww.wikidata.org%2Fprop%2Fdirect%2FP570%3E++%5B%5D+.%0A++%7D%0A%7D%0AORDER+BY+ASC%28+RAND+%28++%29+%29%0ALIMIT+2000%0A",
            "count": 1234
           },
           {
            "name": "SELECT+DISTINCT+%3Fvar1+%0AWHERE+%7B%0A++%3Fvar1++%3Chttp%3A%2F%2Fwww.wikidata.org%2Fprop%2Fdirect%2FP31%3E++%3Chttp%3A%2F%2Fwww.wikidata.org%2Fentity%2FQ5%3E+%3B%0A+%3Chttp%3A%2F%2Fwww.wikidata.org%2Fprop%2Fdirect%2FP17%3E++%5B%5D+%3B%0A+%3Chttp%3A%2F%2Fwww.wikidata.org%2Fprop%2Fdirect%2FP569%3E++%3Fvar2+.%0A+FILTER+%28++%28+%28++YEAR+%28++%3Fvar2++%29++%3E+%221850%22%5E%5E%3Chttp%3A%2F%2Fwww.w3.org%2F2001%2FXMLSchema%23integer%3E++%29+%29+%0A%29+.%0A%7D%0A",
            "count": 945
           },
           {
            "name": "9571 others",
            "count": 15860
           }
          ]
         }
        },
        {
         "name": "timestamp",
         "dtype": "object",
         "stats": {
          "unique_count": 17034,
          "nan_count": 0,
          "categories": [
           {
            "name": "2017-08-25 10:50:27",
            "count": 19
           },
           {
            "name": "2017-08-25 11:04:48",
            "count": 18
           },
           {
            "name": "17032 others",
            "count": 18002
           }
          ]
         }
        },
        {
         "name": "sourceCategory",
         "dtype": "object",
         "stats": {
          "unique_count": 1,
          "nan_count": 0,
          "categories": [
           {
            "name": "robotic",
            "count": 18039
           }
          ]
         }
        },
        {
         "name": "user_agent",
         "dtype": "object",
         "stats": {
          "unique_count": 22,
          "nan_count": 0,
          "categories": [
           {
            "name": "UNKNOWN",
            "count": 12564
           },
           {
            "name": "bot2",
            "count": 2792
           },
           {
            "name": "20 others",
            "count": 2683
           }
          ]
         }
        },
        {
         "name": "var_cpt",
         "dtype": "int64",
         "stats": {
          "unique_count": 38,
          "nan_count": 0,
          "min": "1",
          "max": "52",
          "histogram": [
           {
            "bin_start": 1,
            "bin_end": 6.1,
            "count": 10655
           },
           {
            "bin_start": 6.1,
            "bin_end": 11.2,
            "count": 4251
           },
           {
            "bin_start": 11.2,
            "bin_end": 16.299999999999997,
            "count": 2334
           },
           {
            "bin_start": 16.299999999999997,
            "bin_end": 21.4,
            "count": 347
           },
           {
            "bin_start": 21.4,
            "bin_end": 26.5,
            "count": 113
           },
           {
            "bin_start": 26.5,
            "bin_end": 31.599999999999998,
            "count": 68
           },
           {
            "bin_start": 31.599999999999998,
            "bin_end": 36.699999999999996,
            "count": 249
           },
           {
            "bin_start": 36.699999999999996,
            "bin_end": 41.8,
            "count": 2
           },
           {
            "bin_start": 41.8,
            "bin_end": 46.9,
            "count": 19
           },
           {
            "bin_start": 46.9,
            "bin_end": 52,
            "count": 1
           }
          ]
         }
        },
        {
         "name": "filter",
         "dtype": "int64"
        },
        {
         "name": "orderby",
         "dtype": "int64"
        },
        {
         "name": "select",
         "dtype": "int64"
        },
        {
         "name": "distinct",
         "dtype": "int64"
        },
        {
         "name": "join",
         "dtype": "int64"
        },
        {
         "name": "project",
         "dtype": "int64"
        },
        {
         "name": "tomultiset",
         "dtype": "int64"
        },
        {
         "name": "union",
         "dtype": "int64"
        },
        {
         "name": "modify",
         "dtype": "int64"
        },
        {
         "name": "bgp",
         "dtype": "int64"
        },
        {
         "name": "values",
         "dtype": "int64"
        },
        {
         "name": "groupBy",
         "dtype": "int64"
        },
        {
         "name": "slice",
         "dtype": "int64"
        },
        {
         "name": "triples",
         "dtype": "int64"
        },
        {
         "name": "extend",
         "dtype": "int64"
        },
        {
         "name": "filter_not_exists",
         "dtype": "int64"
        },
        {
         "name": "leftJoin",
         "dtype": "int64"
        },
        {
         "name": "minus",
         "dtype": "int64"
        },
        {
         "name": "notexist",
         "dtype": "int64"
        },
        {
         "name": "sample",
         "dtype": "int64"
        },
        {
         "name": "count",
         "dtype": "int64"
        },
        {
         "name": "having",
         "dtype": "int64"
        },
        {
         "name": "pathWithStar",
         "dtype": "int64"
        },
        {
         "name": "pathWithPlus",
         "dtype": "int64"
        },
        {
         "name": "pathWithQuestionMark",
         "dtype": "int64"
        },
        {
         "name": "pathWithInv",
         "dtype": "int64"
        },
        {
         "name": "pathWithSequence",
         "dtype": "int64"
        },
        {
         "name": "pathWithAlternative",
         "dtype": "int64"
        },
        {
         "name": "triplesSet",
         "dtype": "object"
        },
        {
         "name": "limit",
         "dtype": "int64"
        },
        {
         "name": "limitValue",
         "dtype": "int64"
        },
        {
         "name": "offset",
         "dtype": "int64"
        },
        {
         "name": "offsetValue",
         "dtype": "int64"
        },
        {
         "name": "complexPathWith",
         "dtype": "int64"
        },
        {
         "name": "simplePathWith",
         "dtype": "int64"
        },
        {
         "name": "algebraTree",
         "dtype": "object"
        },
        {
         "name": "algebraTreeMD5",
         "dtype": "object"
        },
        {
         "name": "graph",
         "dtype": "object"
        },
        {
         "name": "cycleNumber",
         "dtype": "int64"
        },
        {
         "name": "graphDump",
         "dtype": "object"
        },
        {
         "name": "isForest",
         "dtype": "int64"
        },
        {
         "name": "numberOfNodes",
         "dtype": "int64"
        },
        {
         "name": "numberOfEdges",
         "dtype": "int64"
        },
        {
         "name": "treewidth",
         "dtype": "int64"
        },
        {
         "name": "isTree",
         "dtype": "int64"
        },
        {
         "name": "averageDegree",
         "dtype": "float64"
        },
        {
         "name": "maxCliqueWeigth",
         "dtype": "int64"
        },
        {
         "name": "file_path",
         "dtype": "object"
        },
        {
         "name": "interval",
         "dtype": "int64"
        },
        {
         "name": "has_variable",
         "dtype": "bool"
        },
        {
         "name": "has_filter",
         "dtype": "bool"
        },
        {
         "name": "has_orderby",
         "dtype": "bool"
        },
        {
         "name": "has_limit",
         "dtype": "bool"
        },
        {
         "name": "has_select",
         "dtype": "bool"
        },
        {
         "name": "has_distinct",
         "dtype": "bool"
        },
        {
         "name": "has_modify",
         "dtype": "bool"
        },
        {
         "name": "has_tomultiset",
         "dtype": "bool"
        },
        {
         "name": "has_join",
         "dtype": "bool"
        },
        {
         "name": "has_bgp",
         "dtype": "bool"
        },
        {
         "name": "has_project",
         "dtype": "bool"
        },
        {
         "name": "has_union",
         "dtype": "bool"
        },
        {
         "name": "has_values",
         "dtype": "bool"
        },
        {
         "name": "has_slice",
         "dtype": "bool"
        },
        {
         "name": "has_offset",
         "dtype": "bool"
        },
        {
         "name": "_deepnote_index_column",
         "dtype": "int64"
        }
       ],
       "rows": [
        {
         "anonymizedQuery": "SELECT+DISTINCT+*%0AWHERE+%7B%0A++%3Fvar1++%3Fvar2++%3Chttp%3A%2F%2Fdati.san.beniculturali.it%2FSAN…",
         "timestamp": "2017-08-25 10:56:52",
         "sourceCategory": "robotic",
         "user_agent": "UNKNOWN",
         "var_cpt": 2,
         "filter": 0,
         "orderby": 0,
         "select": 1,
         "distinct": 1,
         "join": 0,
         "project": 1,
         "tomultiset": 0,
         "union": 0,
         "modify": 0,
         "bgp": 1,
         "values": 0,
         "groupBy": 0,
         "slice": 0,
         "triples": 1,
         "extend": 0,
         "filter_not_exists": 0,
         "leftJoin": 0,
         "minus": 0,
         "notexist": 0,
         "sample": 0,
         "count": 0,
         "having": 0,
         "pathWithStar": 0,
         "pathWithPlus": 0,
         "pathWithQuestionMark": 0,
         "pathWithInv": 0,
         "pathWithSequence": 0,
         "pathWithAlternative": 0,
         "triplesSet": "[[\"var1\", \"var2\", \"http://dati.san.beniculturali.it/SAN/complarc_LBC-Archivi_san.cat.complArch.6087…",
         "limit": 0,
         "limitValue": 0,
         "offset": 0,
         "offsetValue": 0,
         "complexPathWith": 0,
         "simplePathWith": 0,
         "algebraTree": "SelectQuery_SelectQuery_{'p': Distinct_{'p': Project_{'p': BGP_{'triples': [(rdflib.term.Variable('…",
         "algebraTreeMD5": "935c4625679f9805afef8c4aa200e806",
         "graph": "DiGraph with 2 nodes and 1 edges",
         "cycleNumber": 0,
         "graphDump": "gASVmAEAAAAAAACMGG5ldHdvcmt4LmNsYXNzZXMuZGlncmFwaJSMB0RpR3JhcGiUk5QpgZR9lCiMF2dyYXBoX2F0dHJfZGljdF9…",
         "isForest": 1,
         "numberOfNodes": 2,
         "numberOfEdges": 1,
         "treewidth": 1,
         "isTree": 1,
         "averageDegree": 1,
         "maxCliqueWeigth": 2,
         "file_path": "data/parsed/I3_status500_Joined.parsed.tsv",
         "interval": 3,
         "has_variable": true,
         "has_filter": false,
         "has_orderby": false,
         "has_limit": false,
         "has_select": true,
         "has_distinct": true,
         "has_modify": false,
         "has_tomultiset": false,
         "has_join": false,
         "has_bgp": true,
         "has_project": true,
         "has_union": false,
         "has_values": false,
         "has_slice": false,
         "has_offset": false,
         "_deepnote_index_column": 11647
        },
        {
         "anonymizedQuery": "SELECT+DISTINCT+%3Fvar1Label++%3Fvar2Label++%3Fvar3Label++%3Fvar4Label++%3Fvar5Label++%3Fvar6++%3Fv…",
         "timestamp": "2017-06-28 02:59:54",
         "sourceCategory": "robotic",
         "user_agent": "UNKNOWN",
         "var_cpt": 42,
         "filter": 0,
         "orderby": 0,
         "select": 1,
         "distinct": 1,
         "join": 3,
         "project": 1,
         "tomultiset": 0,
         "union": 0,
         "modify": 0,
         "bgp": 21,
         "values": 0,
         "groupBy": 0,
         "slice": 1,
         "triples": 23,
         "extend": 0,
         "filter_not_exists": 0,
         "leftJoin": 20,
         "minus": 0,
         "notexist": 0,
         "sample": 0,
         "count": 0,
         "having": 0,
         "pathWithStar": 0,
         "pathWithPlus": 0,
         "pathWithQuestionMark": 0,
         "pathWithInv": 0,
         "pathWithSequence": 0,
         "pathWithAlternative": 0,
         "triplesSet": "[[\"var21\", \"http://www.wikidata.org/prop/direct/P31\", \"http://www.wikidata.org/entity/Q11424\"], [\"v…",
         "limit": 1,
         "limitValue": 1,
         "offset": 0,
         "offsetValue": 0,
         "complexPathWith": 0,
         "simplePathWith": 0,
         "algebraTree": "SelectQuery_SelectQuery_{'p': Slice_{'p': Distinct_{'p': Project_{'p': Join_{'p1': LeftJoin_{'p1': …",
         "algebraTreeMD5": "1ee3dcc56b65776905a574042212cc3a",
         "graph": "DiGraph with 26 nodes and 24 edges",
         "cycleNumber": 0,
         "graphDump": "gASV0gQAAAAAAACMGG5ldHdvcmt4LmNsYXNzZXMuZGlncmFwaJSMB0RpR3JhcGiUk5QpgZR9lCiMF2dyYXBoX2F0dHJfZGljdF9…",
         "isForest": 1,
         "numberOfNodes": 26,
         "numberOfEdges": 24,
         "treewidth": 1,
         "isTree": 0,
         "averageDegree": 1.8461538461538465,
         "maxCliqueWeigth": 2,
         "file_path": "data/parsed/I1_status500_Joined.parsed.tsv",
         "interval": 1,
         "has_variable": true,
         "has_filter": false,
         "has_orderby": false,
         "has_limit": true,
         "has_select": true,
         "has_distinct": true,
         "has_modify": false,
         "has_tomultiset": false,
         "has_join": true,
         "has_bgp": true,
         "has_project": true,
         "has_union": false,
         "has_values": false,
         "has_slice": true,
         "has_offset": false,
         "_deepnote_index_column": 2177
        },
        {
         "anonymizedQuery": "SELECT+DISTINCT+%3Fvar1Label++%3Fvar2Label++%3Fvar3Label++%3Fvar4Label++%3Fvar5Label++%3Fvar6++%3Fv…",
         "timestamp": "2017-08-12 23:08:17",
         "sourceCategory": "robotic",
         "user_agent": "UNKNOWN",
         "var_cpt": 42,
         "filter": 0,
         "orderby": 0,
         "select": 1,
         "distinct": 1,
         "join": 3,
         "project": 1,
         "tomultiset": 0,
         "union": 0,
         "modify": 0,
         "bgp": 21,
         "values": 0,
         "groupBy": 0,
         "slice": 1,
         "triples": 23,
         "extend": 0,
         "filter_not_exists": 0,
         "leftJoin": 20,
         "minus": 0,
         "notexist": 0,
         "sample": 0,
         "count": 0,
         "having": 0,
         "pathWithStar": 0,
         "pathWithPlus": 0,
         "pathWithQuestionMark": 0,
         "pathWithInv": 0,
         "pathWithSequence": 0,
         "pathWithAlternative": 0,
         "triplesSet": "[[\"var21\", \"http://www.wikidata.org/prop/direct/P31\", \"http://www.wikidata.org/entity/Q11424\"], [\"v…",
         "limit": 1,
         "limitValue": 1,
         "offset": 0,
         "offsetValue": 0,
         "complexPathWith": 0,
         "simplePathWith": 0,
         "algebraTree": "SelectQuery_SelectQuery_{'p': Slice_{'p': Distinct_{'p': Project_{'p': Join_{'p1': LeftJoin_{'p1': …",
         "algebraTreeMD5": "28d15d7936fe385e65809db8766139fa",
         "graph": "DiGraph with 26 nodes and 24 edges",
         "cycleNumber": 0,
         "graphDump": "gASV0gQAAAAAAACMGG5ldHdvcmt4LmNsYXNzZXMuZGlncmFwaJSMB0RpR3JhcGiUk5QpgZR9lCiMF2dyYXBoX2F0dHJfZGljdF9…",
         "isForest": 1,
         "numberOfNodes": 26,
         "numberOfEdges": 24,
         "treewidth": 1,
         "isTree": 0,
         "averageDegree": 1.8461538461538465,
         "maxCliqueWeigth": 2,
         "file_path": "data/parsed/I3_status500_Joined.parsed.tsv",
         "interval": 3,
         "has_variable": true,
         "has_filter": false,
         "has_orderby": false,
         "has_limit": true,
         "has_select": true,
         "has_distinct": true,
         "has_modify": false,
         "has_tomultiset": false,
         "has_join": true,
         "has_bgp": true,
         "has_project": true,
         "has_union": false,
         "has_values": false,
         "has_slice": true,
         "has_offset": false,
         "_deepnote_index_column": 9507
        },
        {
         "anonymizedQuery": "SELECT+DISTINCT+%3Fvar1Label++%3Fvar2Label++%3Fvar3Label++%3Fvar4Label++%3Fvar5Label++%3Fvar6++%3Fv…",
         "timestamp": "2017-06-28 03:07:35",
         "sourceCategory": "robotic",
         "user_agent": "UNKNOWN",
         "var_cpt": 42,
         "filter": 0,
         "orderby": 0,
         "select": 1,
         "distinct": 1,
         "join": 3,
         "project": 1,
         "tomultiset": 0,
         "union": 0,
         "modify": 0,
         "bgp": 21,
         "values": 0,
         "groupBy": 0,
         "slice": 1,
         "triples": 23,
         "extend": 0,
         "filter_not_exists": 0,
         "leftJoin": 20,
         "minus": 0,
         "notexist": 0,
         "sample": 0,
         "count": 0,
         "having": 0,
         "pathWithStar": 0,
         "pathWithPlus": 0,
         "pathWithQuestionMark": 0,
         "pathWithInv": 0,
         "pathWithSequence": 0,
         "pathWithAlternative": 0,
         "triplesSet": "[[\"var21\", \"http://www.wikidata.org/prop/direct/P31\", \"http://www.wikidata.org/entity/Q11424\"], [\"v…",
         "limit": 1,
         "limitValue": 1,
         "offset": 0,
         "offsetValue": 0,
         "complexPathWith": 0,
         "simplePathWith": 0,
         "algebraTree": "SelectQuery_SelectQuery_{'p': Slice_{'p': Distinct_{'p': Project_{'p': Join_{'p1': LeftJoin_{'p1': …",
         "algebraTreeMD5": "e54b63c8be4eebf2527c7af5665b35c0",
         "graph": "DiGraph with 26 nodes and 24 edges",
         "cycleNumber": 0,
         "graphDump": "gASV0gQAAAAAAACMGG5ldHdvcmt4LmNsYXNzZXMuZGlncmFwaJSMB0RpR3JhcGiUk5QpgZR9lCiMF2dyYXBoX2F0dHJfZGljdF9…",
         "isForest": 1,
         "numberOfNodes": 26,
         "numberOfEdges": 24,
         "treewidth": 1,
         "isTree": 0,
         "averageDegree": 1.8461538461538465,
         "maxCliqueWeigth": 2,
         "file_path": "data/parsed/I1_status500_Joined.parsed.tsv",
         "interval": 1,
         "has_variable": true,
         "has_filter": false,
         "has_orderby": false,
         "has_limit": true,
         "has_select": true,
         "has_distinct": true,
         "has_modify": false,
         "has_tomultiset": false,
         "has_join": true,
         "has_bgp": true,
         "has_project": true,
         "has_union": false,
         "has_values": false,
         "has_slice": true,
         "has_offset": false,
         "_deepnote_index_column": 2178
        },
        {
         "anonymizedQuery": "SELECT+DISTINCT+%3Fvar1Label++%3Fvar2Label++%3Fvar3Label++%3Fvar4Label++%3Fvar5Label++%3Fvar6++%3Fv…",
         "timestamp": "2017-06-28 04:10:33",
         "sourceCategory": "robotic",
         "user_agent": "UNKNOWN",
         "var_cpt": 42,
         "filter": 0,
         "orderby": 0,
         "select": 1,
         "distinct": 1,
         "join": 3,
         "project": 1,
         "tomultiset": 0,
         "union": 0,
         "modify": 0,
         "bgp": 21,
         "values": 0,
         "groupBy": 0,
         "slice": 1,
         "triples": 23,
         "extend": 0,
         "filter_not_exists": 0,
         "leftJoin": 20,
         "minus": 0,
         "notexist": 0,
         "sample": 0,
         "count": 0,
         "having": 0,
         "pathWithStar": 0,
         "pathWithPlus": 0,
         "pathWithQuestionMark": 0,
         "pathWithInv": 0,
         "pathWithSequence": 0,
         "pathWithAlternative": 0,
         "triplesSet": "[[\"var21\", \"http://www.wikidata.org/prop/direct/P31\", \"http://www.wikidata.org/entity/Q11424\"], [\"v…",
         "limit": 1,
         "limitValue": 1,
         "offset": 0,
         "offsetValue": 0,
         "complexPathWith": 0,
         "simplePathWith": 0,
         "algebraTree": "SelectQuery_SelectQuery_{'p': Slice_{'p': Distinct_{'p': Project_{'p': Join_{'p1': LeftJoin_{'p1': …",
         "algebraTreeMD5": "e9070186cf996c20d8fd5442e0476cd4",
         "graph": "DiGraph with 26 nodes and 24 edges",
         "cycleNumber": 0,
         "graphDump": "gASVzwQAAAAAAACMGG5ldHdvcmt4LmNsYXNzZXMuZGlncmFwaJSMB0RpR3JhcGiUk5QpgZR9lCiMF2dyYXBoX2F0dHJfZGljdF9…",
         "isForest": 1,
         "numberOfNodes": 26,
         "numberOfEdges": 24,
         "treewidth": 1,
         "isTree": 0,
         "averageDegree": 1.8461538461538465,
         "maxCliqueWeigth": 2,
         "file_path": "data/parsed/I1_status500_Joined.parsed.tsv",
         "interval": 1,
         "has_variable": true,
         "has_filter": false,
         "has_orderby": false,
         "has_limit": true,
         "has_select": true,
         "has_distinct": true,
         "has_modify": false,
         "has_tomultiset": false,
         "has_join": true,
         "has_bgp": true,
         "has_project": true,
         "has_union": false,
         "has_values": false,
         "has_slice": true,
         "has_offset": false,
         "_deepnote_index_column": 2190
        },
        {
         "anonymizedQuery": "SELECT+DISTINCT+%3Fvar1Label++%3Fvar2Label++%3Fvar3Label++%3Fvar4Label++%3Fvar5Label++%3Fvar6++%3Fv…",
         "timestamp": "2017-06-28 03:50:44",
         "sourceCategory": "robotic",
         "user_agent": "UNKNOWN",
         "var_cpt": 42,
         "filter": 0,
         "orderby": 0,
         "select": 1,
         "distinct": 1,
         "join": 3,
         "project": 1,
         "tomultiset": 0,
         "union": 0,
         "modify": 0,
         "bgp": 21,
         "values": 0,
         "groupBy": 0,
         "slice": 1,
         "triples": 23,
         "extend": 0,
         "filter_not_exists": 0,
         "leftJoin": 20,
         "minus": 0,
         "notexist": 0,
         "sample": 0,
         "count": 0,
         "having": 0,
         "pathWithStar": 0,
         "pathWithPlus": 0,
         "pathWithQuestionMark": 0,
         "pathWithInv": 0,
         "pathWithSequence": 0,
         "pathWithAlternative": 0,
         "triplesSet": "[[\"var21\", \"http://www.wikidata.org/prop/direct/P31\", \"http://www.wikidata.org/entity/Q11424\"], [\"v…",
         "limit": 1,
         "limitValue": 1,
         "offset": 0,
         "offsetValue": 0,
         "complexPathWith": 0,
         "simplePathWith": 0,
         "algebraTree": "SelectQuery_SelectQuery_{'p': Slice_{'p': Distinct_{'p': Project_{'p': Join_{'p1': LeftJoin_{'p1': …",
         "algebraTreeMD5": "3e9d518bbd3277e4e1d07d9a5b5d3e2d",
         "graph": "DiGraph with 26 nodes and 24 edges",
         "cycleNumber": 0,
         "graphDump": "gASV1QQAAAAAAACMGG5ldHdvcmt4LmNsYXNzZXMuZGlncmFwaJSMB0RpR3JhcGiUk5QpgZR9lCiMF2dyYXBoX2F0dHJfZGljdF9…",
         "isForest": 1,
         "numberOfNodes": 26,
         "numberOfEdges": 24,
         "treewidth": 1,
         "isTree": 0,
         "averageDegree": 1.8461538461538465,
         "maxCliqueWeigth": 2,
         "file_path": "data/parsed/I1_status500_Joined.parsed.tsv",
         "interval": 1,
         "has_variable": true,
         "has_filter": false,
         "has_orderby": false,
         "has_limit": true,
         "has_select": true,
         "has_distinct": true,
         "has_modify": false,
         "has_tomultiset": false,
         "has_join": true,
         "has_bgp": true,
         "has_project": true,
         "has_union": false,
         "has_values": false,
         "has_slice": true,
         "has_offset": false,
         "_deepnote_index_column": 2186
        },
        {
         "anonymizedQuery": "SELECT+DISTINCT+%3Fvar1Label++%3Fvar2Label++%3Fvar3Label++%3Fvar4Label++%3Fvar5Label++%3Fvar6++%3Fv…",
         "timestamp": "2017-06-28 04:13:54",
         "sourceCategory": "robotic",
         "user_agent": "UNKNOWN",
         "var_cpt": 42,
         "filter": 0,
         "orderby": 0,
         "select": 1,
         "distinct": 1,
         "join": 3,
         "project": 1,
         "tomultiset": 0,
         "union": 0,
         "modify": 0,
         "bgp": 21,
         "values": 0,
         "groupBy": 0,
         "slice": 1,
         "triples": 23,
         "extend": 0,
         "filter_not_exists": 0,
         "leftJoin": 20,
         "minus": 0,
         "notexist": 0,
         "sample": 0,
         "count": 0,
         "having": 0,
         "pathWithStar": 0,
         "pathWithPlus": 0,
         "pathWithQuestionMark": 0,
         "pathWithInv": 0,
         "pathWithSequence": 0,
         "pathWithAlternative": 0,
         "triplesSet": "[[\"var21\", \"http://www.wikidata.org/prop/direct/P31\", \"http://www.wikidata.org/entity/Q11424\"], [\"v…",
         "limit": 1,
         "limitValue": 1,
         "offset": 0,
         "offsetValue": 0,
         "complexPathWith": 0,
         "simplePathWith": 0,
         "algebraTree": "SelectQuery_SelectQuery_{'p': Slice_{'p': Distinct_{'p': Project_{'p': Join_{'p1': LeftJoin_{'p1': …",
         "algebraTreeMD5": "2e5353a249c49700f1fd3e81a0e054c2",
         "graph": "DiGraph with 26 nodes and 24 edges",
         "cycleNumber": 0,
         "graphDump": "gASV1AQAAAAAAACMGG5ldHdvcmt4LmNsYXNzZXMuZGlncmFwaJSMB0RpR3JhcGiUk5QpgZR9lCiMF2dyYXBoX2F0dHJfZGljdF9…",
         "isForest": 1,
         "numberOfNodes": 26,
         "numberOfEdges": 24,
         "treewidth": 1,
         "isTree": 0,
         "averageDegree": 1.8461538461538465,
         "maxCliqueWeigth": 2,
         "file_path": "data/parsed/I1_status500_Joined.parsed.tsv",
         "interval": 1,
         "has_variable": true,
         "has_filter": false,
         "has_orderby": false,
         "has_limit": true,
         "has_select": true,
         "has_distinct": true,
         "has_modify": false,
         "has_tomultiset": false,
         "has_join": true,
         "has_bgp": true,
         "has_project": true,
         "has_union": false,
         "has_values": false,
         "has_slice": true,
         "has_offset": false,
         "_deepnote_index_column": 2191
        },
        {
         "anonymizedQuery": "SELECT+DISTINCT+%3Fvar1Label++%3Fvar2Label++%3Fvar3Label++%3Fvar4Label++%3Fvar5Label++%3Fvar6++%3Fv…",
         "timestamp": "2017-06-28 03:16:32",
         "sourceCategory": "robotic",
         "user_agent": "UNKNOWN",
         "var_cpt": 42,
         "filter": 0,
         "orderby": 0,
         "select": 1,
         "distinct": 1,
         "join": 3,
         "project": 1,
         "tomultiset": 0,
         "union": 0,
         "modify": 0,
         "bgp": 21,
         "values": 0,
         "groupBy": 0,
         "slice": 1,
         "triples": 23,
         "extend": 0,
         "filter_not_exists": 0,
         "leftJoin": 20,
         "minus": 0,
         "notexist": 0,
         "sample": 0,
         "count": 0,
         "having": 0,
         "pathWithStar": 0,
         "pathWithPlus": 0,
         "pathWithQuestionMark": 0,
         "pathWithInv": 0,
         "pathWithSequence": 0,
         "pathWithAlternative": 0,
         "triplesSet": "[[\"var21\", \"http://www.wikidata.org/prop/direct/P31\", \"http://www.wikidata.org/entity/Q11424\"], [\"v…",
         "limit": 1,
         "limitValue": 1,
         "offset": 0,
         "offsetValue": 0,
         "complexPathWith": 0,
         "simplePathWith": 0,
         "algebraTree": "SelectQuery_SelectQuery_{'p': Slice_{'p': Distinct_{'p': Project_{'p': Join_{'p1': LeftJoin_{'p1': …",
         "algebraTreeMD5": "f02e17eca8337eb88737c130957023c7",
         "graph": "DiGraph with 26 nodes and 24 edges",
         "cycleNumber": 0,
         "graphDump": "gASV1QQAAAAAAACMGG5ldHdvcmt4LmNsYXNzZXMuZGlncmFwaJSMB0RpR3JhcGiUk5QpgZR9lCiMF2dyYXBoX2F0dHJfZGljdF9…",
         "isForest": 1,
         "numberOfNodes": 26,
         "numberOfEdges": 24,
         "treewidth": 1,
         "isTree": 0,
         "averageDegree": 1.8461538461538465,
         "maxCliqueWeigth": 2,
         "file_path": "data/parsed/I1_status500_Joined.parsed.tsv",
         "interval": 1,
         "has_variable": true,
         "has_filter": false,
         "has_orderby": false,
         "has_limit": true,
         "has_select": true,
         "has_distinct": true,
         "has_modify": false,
         "has_tomultiset": false,
         "has_join": true,
         "has_bgp": true,
         "has_project": true,
         "has_union": false,
         "has_values": false,
         "has_slice": true,
         "has_offset": false,
         "_deepnote_index_column": 2179
        },
        {
         "anonymizedQuery": "SELECT+DISTINCT+%3Fvar1Label++%3Fvar2Label++%3Fvar3Label++%3Fvar4Label++%3Fvar5Label++%3Fvar6++%3Fv…",
         "timestamp": "2017-06-28 03:30:21",
         "sourceCategory": "robotic",
         "user_agent": "UNKNOWN",
         "var_cpt": 42,
         "filter": 0,
         "orderby": 0,
         "select": 1,
         "distinct": 1,
         "join": 3,
         "project": 1,
         "tomultiset": 0,
         "union": 0,
         "modify": 0,
         "bgp": 21,
         "values": 0,
         "groupBy": 0,
         "slice": 1,
         "triples": 23,
         "extend": 0,
         "filter_not_exists": 0,
         "leftJoin": 20,
         "minus": 0,
         "notexist": 0,
         "sample": 0,
         "count": 0,
         "having": 0,
         "pathWithStar": 0,
         "pathWithPlus": 0,
         "pathWithQuestionMark": 0,
         "pathWithInv": 0,
         "pathWithSequence": 0,
         "pathWithAlternative": 0,
         "triplesSet": "[[\"var21\", \"http://www.wikidata.org/prop/direct/P31\", \"http://www.wikidata.org/entity/Q11424\"], [\"v…",
         "limit": 1,
         "limitValue": 1,
         "offset": 0,
         "offsetValue": 0,
         "complexPathWith": 0,
         "simplePathWith": 0,
         "algebraTree": "SelectQuery_SelectQuery_{'p': Slice_{'p': Distinct_{'p': Project_{'p': Join_{'p1': LeftJoin_{'p1': …",
         "algebraTreeMD5": "e2323d3af7afacfe2eeb4c3b3618463f",
         "graph": "DiGraph with 26 nodes and 24 edges",
         "cycleNumber": 0,
         "graphDump": "gASV1AQAAAAAAACMGG5ldHdvcmt4LmNsYXNzZXMuZGlncmFwaJSMB0RpR3JhcGiUk5QpgZR9lCiMF2dyYXBoX2F0dHJfZGljdF9…",
         "isForest": 1,
         "numberOfNodes": 26,
         "numberOfEdges": 24,
         "treewidth": 1,
         "isTree": 0,
         "averageDegree": 1.8461538461538465,
         "maxCliqueWeigth": 2,
         "file_path": "data/parsed/I1_status500_Joined.parsed.tsv",
         "interval": 1,
         "has_variable": true,
         "has_filter": false,
         "has_orderby": false,
         "has_limit": true,
         "has_select": true,
         "has_distinct": true,
         "has_modify": false,
         "has_tomultiset": false,
         "has_join": true,
         "has_bgp": true,
         "has_project": true,
         "has_union": false,
         "has_values": false,
         "has_slice": true,
         "has_offset": false,
         "_deepnote_index_column": 2183
        },
        {
         "anonymizedQuery": "SELECT+DISTINCT+%3Fvar1Label++%3Fvar2Label++%3Fvar3Label++%3Fvar4Label++%3Fvar5Label++%3Fvar6++%3Fv…",
         "timestamp": "2017-06-28 04:52:40",
         "sourceCategory": "robotic",
         "user_agent": "UNKNOWN",
         "var_cpt": 42,
         "filter": 0,
         "orderby": 0,
         "select": 1,
         "distinct": 1,
         "join": 3,
         "project": 1,
         "tomultiset": 0,
         "union": 0,
         "modify": 0,
         "bgp": 21,
         "values": 0,
         "groupBy": 0,
         "slice": 1,
         "triples": 23,
         "extend": 0,
         "filter_not_exists": 0,
         "leftJoin": 20,
         "minus": 0,
         "notexist": 0,
         "sample": 0,
         "count": 0,
         "having": 0,
         "pathWithStar": 0,
         "pathWithPlus": 0,
         "pathWithQuestionMark": 0,
         "pathWithInv": 0,
         "pathWithSequence": 0,
         "pathWithAlternative": 0,
         "triplesSet": "[[\"var21\", \"http://www.wikidata.org/prop/direct/P31\", \"http://www.wikidata.org/entity/Q11424\"], [\"v…",
         "limit": 1,
         "limitValue": 1,
         "offset": 0,
         "offsetValue": 0,
         "complexPathWith": 0,
         "simplePathWith": 0,
         "algebraTree": "SelectQuery_SelectQuery_{'p': Slice_{'p': Distinct_{'p': Project_{'p': Join_{'p1': LeftJoin_{'p1': …",
         "algebraTreeMD5": "4084167deb7fc543904e04a8632c1e08",
         "graph": "DiGraph with 26 nodes and 24 edges",
         "cycleNumber": 0,
         "graphDump": "gASV0wQAAAAAAACMGG5ldHdvcmt4LmNsYXNzZXMuZGlncmFwaJSMB0RpR3JhcGiUk5QpgZR9lCiMF2dyYXBoX2F0dHJfZGljdF9…",
         "isForest": 1,
         "numberOfNodes": 26,
         "numberOfEdges": 24,
         "treewidth": 1,
         "isTree": 0,
         "averageDegree": 1.8461538461538465,
         "maxCliqueWeigth": 2,
         "file_path": "data/parsed/I1_status500_Joined.parsed.tsv",
         "interval": 1,
         "has_variable": true,
         "has_filter": false,
         "has_orderby": false,
         "has_limit": true,
         "has_select": true,
         "has_distinct": true,
         "has_modify": false,
         "has_tomultiset": false,
         "has_join": true,
         "has_bgp": true,
         "has_project": true,
         "has_union": false,
         "has_values": false,
         "has_slice": true,
         "has_offset": false,
         "_deepnote_index_column": 2192
        }
       ]
      },
      "text/plain": "                                         anonymizedQuery            timestamp  \\\n0      SELECT+%3Fvar1++%3Fvar1Label++%3Fvar2+%28++CON...  2017-06-12 00:16:34   \n6      SELECT+DISTINCT+%3Fvar1++%3Fvar2+%0AWHERE+%7B%...  2017-06-12 01:02:37   \n7      SELECT+%3Fvar1+%0AWHERE+%7B%0A++%3Fvar1++%3Cht...  2017-06-12 01:26:31   \n8      SELECT+DISTINCT+%3Fvar1+%0AWHERE+%7B%0A++%3Fva...  2017-06-12 01:37:49   \n9      SELECT+%3Fvar1++%3Fvar2++%3Fvar3+%0AWHERE+%7B%...  2017-06-12 02:04:47   \n...                                                  ...                  ...   \n42111  SELECT+DISTINCT+%3Fvar1++%3Fvar2+%0AWHERE+%7B%...  2018-03-25 23:20:07   \n42112  SELECT+DISTINCT+%3Fvar1+%0AWHERE+%7B%0A++%3Fva...  2018-03-25 23:31:13   \n42114  SELECT+%3Fvar1+%0AWHERE+%7B%0A++%3Fvar1++%3Cht...  2018-03-25 23:53:30   \n42115  SELECT+*%0AWHERE+%7B%0A++%3Fvar1++%3Chttp%3A%2...  2018-03-25 23:53:30   \n42116  SELECT+DISTINCT+%3Fvar1++%3Fvar2+%0AWHERE+%7B%...  2018-03-25 23:54:01   \n\n      sourceCategory user_agent  var_cpt  filter  orderby  select  distinct  \\\n0            robotic       bot2        9       1        1       1         0   \n6            robotic       bot2        7       1        1       1         1   \n7            robotic       bot2        2       1        0       1         0   \n8            robotic       bot2        1       0        0       1         1   \n9            robotic    UNKNOWN        3       1        1       1         0   \n...              ...        ...      ...     ...      ...     ...       ...   \n42111        robotic  orcid_bot        3       0        1       1         1   \n42112        robotic    UNKNOWN        2       1        0       1         1   \n42114        robotic    UNKNOWN        2       1        0       1         0   \n42115        robotic    UNKNOWN        3       1        0       1         0   \n42116        robotic  orcid_bot        3       0        1       1         1   \n\n       join  project  tomultiset  union  modify  bgp  values  groupBy  slice  \\\n0         6        1           0      0       0    1       0        0      1   \n6         9        1           0      0       0    2       0        0      0   \n7         2        1           0      0       0    1       0        0      0   \n8         2        1           0      0       0    1       0        0      0   \n9         3        1           0      0       0    1       0        0      1   \n...     ...      ...         ...    ...     ...  ...     ...      ...    ...   \n42111     3        1           0      0       0    3       0        0      1   \n42112     2        1           0      0       0    1       0        0      0   \n42114     1        1           0      0       0    1       0        0      1   \n42115     3        1           0      0       0    1       0        0      0   \n42116     3        1           0      0       0    3       0        0      1   \n\n       triples  extend  filter_not_exists  leftJoin  minus  notexist  sample  \\\n0            6       1                  0         0      0         0       0   \n6            9       1                  0         0      0         0       0   \n7            2       0                  1         0      0         1       0   \n8            2       0                  0         0      0         0       0   \n9            4       0                  0         0      0         0       0   \n...        ...     ...                ...       ...    ...       ...     ...   \n42111        6       0                  0         0      2         0       0   \n42112        3       0                  0         0      0         0       0   \n42114        1       0                  0         0      0         0       0   \n42115        4       0                  0         0      0         0       0   \n42116        6       0                  0         0      2         0       0   \n\n       count  having  pathWithStar  pathWithPlus  pathWithQuestionMark  \\\n0          0       2             0             0                     0   \n6          0       5             0             0                     0   \n7          0       0             1             0                     0   \n8          0       0             0             0                     0   \n9          0       3             1             0                     0   \n...      ...     ...           ...           ...                   ...   \n42111      0       0             0             0                     0   \n42112      0       1             0             0                     0   \n42114      0       0             0             0                     0   \n42115      0       1             0             0                     0   \n42116      0       0             0             0                     0   \n\n       pathWithInv  pathWithSequence  pathWithAlternative  \\\n0                0                 0                    0   \n6                0                 2                    0   \n7                0                 1                    0   \n8                0                 0                    0   \n9                0                 1                    0   \n...            ...               ...                  ...   \n42111            0                 0                    0   \n42112            0                 0                    0   \n42114            0                 0                    0   \n42115            0                 0                    0   \n42116            0                 0                    0   \n\n                                              triplesSet  limit  limitValue  \\\n0      [[\"http://www.bigdata.com/queryHints#Query\", \"...      1        5000   \n6      [[\"var1\", \"http://www.wikidata.org/prop/direct...      0           0   \n7      [[\"var1\", \"Path(http://www.wikidata.org/prop/d...      0           0   \n8      [[\"var1\", \"http://www.wikidata.org/prop/direct...      0           0   \n9      [[\"var1\", \"Path(http://www.wikidata.org/prop/d...      1           5   \n...                                                  ...    ...         ...   \n42111  [[\"var1\", \"http://www.wikidata.org/prop/direct...      1        2000   \n42112  [[\"var1\", \"http://www.wikidata.org/prop/direct...      0           0   \n42114  [[\"var1\", \"http://www.wikidata.org/prop/direct...      1           1   \n42115  [[\"var3\", \"http://schema.org/inLanguage\", \"en\"...      0           0   \n42116  [[\"var1\", \"http://www.wikidata.org/prop/direct...      1        2000   \n\n       offset  offsetValue  complexPathWith  simplePathWith  \\\n0           0            0                0               0   \n6           0            0                0               2   \n7           0            0                1               1   \n8           0            0                0               0   \n9           0            0                1               1   \n...       ...          ...              ...             ...   \n42111       0            0                0               0   \n42112       0            0                0               0   \n42114       0            0                0               0   \n42115       0            0                0               0   \n42116       0            0                0               0   \n\n                                             algebraTree  \\\n0      SelectQuery_SelectQuery_{'p': Slice_{'p': Proj...   \n6      SelectQuery_SelectQuery_{'p': Distinct_{'p': P...   \n7      SelectQuery_SelectQuery_{'p': Project_{'p': Fi...   \n8      SelectQuery_SelectQuery_{'p': Distinct_{'p': P...   \n9      SelectQuery_SelectQuery_{'p': Slice_{'p': Proj...   \n...                                                  ...   \n42111  SelectQuery_SelectQuery_{'p': Slice_{'p': Dist...   \n42112  SelectQuery_SelectQuery_{'p': Distinct_{'p': P...   \n42114  SelectQuery_SelectQuery_{'p': Slice_{'p': Proj...   \n42115  SelectQuery_SelectQuery_{'p': Project_{'p': Fi...   \n42116  SelectQuery_SelectQuery_{'p': Slice_{'p': Dist...   \n\n                         algebraTreeMD5                              graph  \\\n0      159f12f8ddbdd06954496911da0816cc  DiGraph with 11 nodes and 7 edges   \n6      b783c3c55117996138540535038caf13   DiGraph with 9 nodes and 9 edges   \n7      4695923a7d3eee0eb38ae8071a5df3de   DiGraph with 5 nodes and 3 edges   \n8      2a7f06bc544f2657ade05cd3c9b9a020   DiGraph with 5 nodes and 3 edges   \n9      3ec9d4aaf5ab34e5ddaff3f02996731d   DiGraph with 5 nodes and 4 edges   \n...                                 ...                                ...   \n42111  6a54b016a76d28f70c0f70c79536fd82   DiGraph with 7 nodes and 6 edges   \n42112  501f5477d62cc8397ce5f292acb48fc8   DiGraph with 4 nodes and 3 edges   \n42114  f4fe4a000cabd8a8516491abb0694491   DiGraph with 4 nodes and 2 edges   \n42115  ddf92f66b1b19b6a6b1658bcf90557ac   DiGraph with 5 nodes and 4 edges   \n42116  3793e16679d200a838ac46c687eafb0c   DiGraph with 7 nodes and 6 edges   \n\n       cycleNumber                                          graphDump  \\\n0                0  gASVyAIAAAAAAACMGG5ldHdvcmt4LmNsYXNzZXMuZGlncm...   \n6                0  gASVagIAAAAAAACMGG5ldHdvcmt4LmNsYXNzZXMuZGlncm...   \n7                0  gASVKgIAAAAAAACMGG5ldHdvcmt4LmNsYXNzZXMuZGlncm...   \n8                0  gASVSwIAAAAAAACMGG5ldHdvcmt4LmNsYXNzZXMuZGlncm...   \n9                0  gASV4wEAAAAAAACMGG5ldHdvcmt4LmNsYXNzZXMuZGlncm...   \n...            ...                                                ...   \n42111            0  gASVZAIAAAAAAACMGG5ldHdvcmt4LmNsYXNzZXMuZGlncm...   \n42112            0  gASVxAEAAAAAAACMGG5ldHdvcmt4LmNsYXNzZXMuZGlncm...   \n42114            0  gASVyQEAAAAAAACMGG5ldHdvcmt4LmNsYXNzZXMuZGlncm...   \n42115            0  gASVvQEAAAAAAACMGG5ldHdvcmt4LmNsYXNzZXMuZGlncm...   \n42116            0  gASVZAIAAAAAAACMGG5ldHdvcmt4LmNsYXNzZXMuZGlncm...   \n\n       isForest  numberOfNodes  numberOfEdges  treewidth  isTree  \\\n0             1             11              7          1       0   \n6             0              9              9          2       0   \n7             1              5              3          1       0   \n8             1              5              3          1       0   \n9             1              5              4          1       1   \n...         ...            ...            ...        ...     ...   \n42111         1              7              6          1       1   \n42112         1              4              3          1       1   \n42114         1              4              2          1       0   \n42115         1              5              4          1       1   \n42116         1              7              6          1       1   \n\n       averageDegree  maxCliqueWeigth  \\\n0           1.272727                2   \n6           2.000000                2   \n7           1.200000                2   \n8           1.200000                2   \n9           1.600000                2   \n...              ...              ...   \n42111       1.714286                2   \n42112       1.500000                2   \n42114       1.000000                2   \n42115       1.600000                2   \n42116       1.714286                2   \n\n                                        file_path  interval  has_variable  \\\n0      data/parsed/I1_status500_Joined.parsed.tsv         1          True   \n6      data/parsed/I1_status500_Joined.parsed.tsv         1          True   \n7      data/parsed/I1_status500_Joined.parsed.tsv         1          True   \n8      data/parsed/I1_status500_Joined.parsed.tsv         1          True   \n9      data/parsed/I1_status500_Joined.parsed.tsv         1          True   \n...                                           ...       ...           ...   \n42111  data/parsed/I7_status500_Joined.parsed.tsv         7          True   \n42112  data/parsed/I7_status500_Joined.parsed.tsv         7          True   \n42114  data/parsed/I7_status500_Joined.parsed.tsv         7          True   \n42115  data/parsed/I7_status500_Joined.parsed.tsv         7          True   \n42116  data/parsed/I7_status500_Joined.parsed.tsv         7          True   \n\n       has_filter  has_orderby  has_limit  has_select  has_distinct  \\\n0            True         True       True        True         False   \n6            True         True      False        True          True   \n7            True        False      False        True         False   \n8           False        False      False        True          True   \n9            True         True       True        True         False   \n...           ...          ...        ...         ...           ...   \n42111       False         True       True        True          True   \n42112        True        False      False        True          True   \n42114        True        False       True        True         False   \n42115        True        False      False        True         False   \n42116       False         True       True        True          True   \n\n       has_modify  has_tomultiset  has_join  has_bgp  has_project  has_union  \\\n0           False           False      True     True         True      False   \n6           False           False      True     True         True      False   \n7           False           False      True     True         True      False   \n8           False           False      True     True         True      False   \n9           False           False      True     True         True      False   \n...           ...             ...       ...      ...          ...        ...   \n42111       False           False      True     True         True      False   \n42112       False           False      True     True         True      False   \n42114       False           False      True     True         True      False   \n42115       False           False      True     True         True      False   \n42116       False           False      True     True         True      False   \n\n       has_values  has_slice  has_offset  \n0           False       True       False  \n6           False      False       False  \n7           False      False       False  \n8           False      False       False  \n9           False       True       False  \n...           ...        ...         ...  \n42111       False       True       False  \n42112       False      False       False  \n42114       False       True       False  \n42115       False      False       False  \n42116       False       True       False  \n\n[18039 rows x 69 columns]",
      "text/html": "<div>\n<style scoped>\n    .dataframe tbody tr th:only-of-type {\n        vertical-align: middle;\n    }\n\n    .dataframe tbody tr th {\n        vertical-align: top;\n    }\n\n    .dataframe thead th {\n        text-align: right;\n    }\n</style>\n<table border=\"1\" class=\"dataframe\">\n  <thead>\n    <tr style=\"text-align: right;\">\n      <th></th>\n      <th>anonymizedQuery</th>\n      <th>timestamp</th>\n      <th>sourceCategory</th>\n      <th>user_agent</th>\n      <th>var_cpt</th>\n      <th>filter</th>\n      <th>orderby</th>\n      <th>select</th>\n      <th>distinct</th>\n      <th>join</th>\n      <th>project</th>\n      <th>tomultiset</th>\n      <th>union</th>\n      <th>modify</th>\n      <th>bgp</th>\n      <th>values</th>\n      <th>groupBy</th>\n      <th>slice</th>\n      <th>triples</th>\n      <th>extend</th>\n      <th>filter_not_exists</th>\n      <th>leftJoin</th>\n      <th>minus</th>\n      <th>notexist</th>\n      <th>sample</th>\n      <th>count</th>\n      <th>having</th>\n      <th>pathWithStar</th>\n      <th>pathWithPlus</th>\n      <th>pathWithQuestionMark</th>\n      <th>pathWithInv</th>\n      <th>pathWithSequence</th>\n      <th>pathWithAlternative</th>\n      <th>triplesSet</th>\n      <th>limit</th>\n      <th>limitValue</th>\n      <th>offset</th>\n      <th>offsetValue</th>\n      <th>complexPathWith</th>\n      <th>simplePathWith</th>\n      <th>algebraTree</th>\n      <th>algebraTreeMD5</th>\n      <th>graph</th>\n      <th>cycleNumber</th>\n      <th>graphDump</th>\n      <th>isForest</th>\n      <th>numberOfNodes</th>\n      <th>numberOfEdges</th>\n      <th>treewidth</th>\n      <th>isTree</th>\n      <th>averageDegree</th>\n      <th>maxCliqueWeigth</th>\n      <th>file_path</th>\n      <th>interval</th>\n      <th>has_variable</th>\n      <th>has_filter</th>\n      <th>has_orderby</th>\n      <th>has_limit</th>\n      <th>has_select</th>\n      <th>has_distinct</th>\n      <th>has_modify</th>\n      <th>has_tomultiset</th>\n      <th>has_join</th>\n      <th>has_bgp</th>\n      <th>has_project</th>\n      <th>has_union</th>\n      <th>has_values</th>\n      <th>has_slice</th>\n      <th>has_offset</th>\n    </tr>\n  </thead>\n  <tbody>\n    <tr>\n      <th>0</th>\n      <td>SELECT+%3Fvar1++%3Fvar1Label++%3Fvar2+%28++CON...</td>\n      <td>2017-06-12 00:16:34</td>\n      <td>robotic</td>\n      <td>bot2</td>\n      <td>9</td>\n      <td>1</td>\n      <td>1</td>\n      <td>1</td>\n      <td>0</td>\n      <td>6</td>\n      <td>1</td>\n      <td>0</td>\n      <td>0</td>\n      <td>0</td>\n      <td>1</td>\n      <td>0</td>\n      <td>0</td>\n      <td>1</td>\n      <td>6</td>\n      <td>1</td>\n      <td>0</td>\n      <td>0</td>\n      <td>0</td>\n      <td>0</td>\n      <td>0</td>\n      <td>0</td>\n      <td>2</td>\n      <td>0</td>\n      <td>0</td>\n      <td>0</td>\n      <td>0</td>\n      <td>0</td>\n      <td>0</td>\n      <td>[[\"http://www.bigdata.com/queryHints#Query\", \"...</td>\n      <td>1</td>\n      <td>5000</td>\n      <td>0</td>\n      <td>0</td>\n      <td>0</td>\n      <td>0</td>\n      <td>SelectQuery_SelectQuery_{'p': Slice_{'p': Proj...</td>\n      <td>159f12f8ddbdd06954496911da0816cc</td>\n      <td>DiGraph with 11 nodes and 7 edges</td>\n      <td>0</td>\n      <td>gASVyAIAAAAAAACMGG5ldHdvcmt4LmNsYXNzZXMuZGlncm...</td>\n      <td>1</td>\n      <td>11</td>\n      <td>7</td>\n      <td>1</td>\n      <td>0</td>\n      <td>1.272727</td>\n      <td>2</td>\n      <td>data/parsed/I1_status500_Joined.parsed.tsv</td>\n      <td>1</td>\n      <td>True</td>\n      <td>True</td>\n      <td>True</td>\n      <td>True</td>\n      <td>True</td>\n      <td>False</td>\n      <td>False</td>\n      <td>False</td>\n      <td>True</td>\n      <td>True</td>\n      <td>True</td>\n      <td>False</td>\n      <td>False</td>\n      <td>True</td>\n      <td>False</td>\n    </tr>\n    <tr>\n      <th>6</th>\n      <td>SELECT+DISTINCT+%3Fvar1++%3Fvar2+%0AWHERE+%7B%...</td>\n      <td>2017-06-12 01:02:37</td>\n      <td>robotic</td>\n      <td>bot2</td>\n      <td>7</td>\n      <td>1</td>\n      <td>1</td>\n      <td>1</td>\n      <td>1</td>\n      <td>9</td>\n      <td>1</td>\n      <td>0</td>\n      <td>0</td>\n      <td>0</td>\n      <td>2</td>\n      <td>0</td>\n      <td>0</td>\n      <td>0</td>\n      <td>9</td>\n      <td>1</td>\n      <td>0</td>\n      <td>0</td>\n      <td>0</td>\n      <td>0</td>\n      <td>0</td>\n      <td>0</td>\n      <td>5</td>\n      <td>0</td>\n      <td>0</td>\n      <td>0</td>\n      <td>0</td>\n      <td>2</td>\n      <td>0</td>\n      <td>[[\"var1\", \"http://www.wikidata.org/prop/direct...</td>\n      <td>0</td>\n      <td>0</td>\n      <td>0</td>\n      <td>0</td>\n      <td>0</td>\n      <td>2</td>\n      <td>SelectQuery_SelectQuery_{'p': Distinct_{'p': P...</td>\n      <td>b783c3c55117996138540535038caf13</td>\n      <td>DiGraph with 9 nodes and 9 edges</td>\n      <td>0</td>\n      <td>gASVagIAAAAAAACMGG5ldHdvcmt4LmNsYXNzZXMuZGlncm...</td>\n      <td>0</td>\n      <td>9</td>\n      <td>9</td>\n      <td>2</td>\n      <td>0</td>\n      <td>2.000000</td>\n      <td>2</td>\n      <td>data/parsed/I1_status500_Joined.parsed.tsv</td>\n      <td>1</td>\n      <td>True</td>\n      <td>True</td>\n      <td>True</td>\n      <td>False</td>\n      <td>True</td>\n      <td>True</td>\n      <td>False</td>\n      <td>False</td>\n      <td>True</td>\n      <td>True</td>\n      <td>True</td>\n      <td>False</td>\n      <td>False</td>\n      <td>False</td>\n      <td>False</td>\n    </tr>\n    <tr>\n      <th>7</th>\n      <td>SELECT+%3Fvar1+%0AWHERE+%7B%0A++%3Fvar1++%3Cht...</td>\n      <td>2017-06-12 01:26:31</td>\n      <td>robotic</td>\n      <td>bot2</td>\n      <td>2</td>\n      <td>1</td>\n      <td>0</td>\n      <td>1</td>\n      <td>0</td>\n      <td>2</td>\n      <td>1</td>\n      <td>0</td>\n      <td>0</td>\n      <td>0</td>\n      <td>1</td>\n      <td>0</td>\n      <td>0</td>\n      <td>0</td>\n      <td>2</td>\n      <td>0</td>\n      <td>1</td>\n      <td>0</td>\n      <td>0</td>\n      <td>1</td>\n      <td>0</td>\n      <td>0</td>\n      <td>0</td>\n      <td>1</td>\n      <td>0</td>\n      <td>0</td>\n      <td>0</td>\n      <td>1</td>\n      <td>0</td>\n      <td>[[\"var1\", \"Path(http://www.wikidata.org/prop/d...</td>\n      <td>0</td>\n      <td>0</td>\n      <td>0</td>\n      <td>0</td>\n      <td>1</td>\n      <td>1</td>\n      <td>SelectQuery_SelectQuery_{'p': Project_{'p': Fi...</td>\n      <td>4695923a7d3eee0eb38ae8071a5df3de</td>\n      <td>DiGraph with 5 nodes and 3 edges</td>\n      <td>0</td>\n      <td>gASVKgIAAAAAAACMGG5ldHdvcmt4LmNsYXNzZXMuZGlncm...</td>\n      <td>1</td>\n      <td>5</td>\n      <td>3</td>\n      <td>1</td>\n      <td>0</td>\n      <td>1.200000</td>\n      <td>2</td>\n      <td>data/parsed/I1_status500_Joined.parsed.tsv</td>\n      <td>1</td>\n      <td>True</td>\n      <td>True</td>\n      <td>False</td>\n      <td>False</td>\n      <td>True</td>\n      <td>False</td>\n      <td>False</td>\n      <td>False</td>\n      <td>True</td>\n      <td>True</td>\n      <td>True</td>\n      <td>False</td>\n      <td>False</td>\n      <td>False</td>\n      <td>False</td>\n    </tr>\n    <tr>\n      <th>8</th>\n      <td>SELECT+DISTINCT+%3Fvar1+%0AWHERE+%7B%0A++%3Fva...</td>\n      <td>2017-06-12 01:37:49</td>\n      <td>robotic</td>\n      <td>bot2</td>\n      <td>1</td>\n      <td>0</td>\n      <td>0</td>\n      <td>1</td>\n      <td>1</td>\n      <td>2</td>\n      <td>1</td>\n      <td>0</td>\n      <td>0</td>\n      <td>0</td>\n      <td>1</td>\n      <td>0</td>\n      <td>0</td>\n      <td>0</td>\n      <td>2</td>\n      <td>0</td>\n      <td>0</td>\n      <td>0</td>\n      <td>0</td>\n      <td>0</td>\n      <td>0</td>\n      <td>0</td>\n      <td>0</td>\n      <td>0</td>\n      <td>0</td>\n      <td>0</td>\n      <td>0</td>\n      <td>0</td>\n      <td>0</td>\n      <td>[[\"var1\", \"http://www.wikidata.org/prop/direct...</td>\n      <td>0</td>\n      <td>0</td>\n      <td>0</td>\n      <td>0</td>\n      <td>0</td>\n      <td>0</td>\n      <td>SelectQuery_SelectQuery_{'p': Distinct_{'p': P...</td>\n      <td>2a7f06bc544f2657ade05cd3c9b9a020</td>\n      <td>DiGraph with 5 nodes and 3 edges</td>\n      <td>0</td>\n      <td>gASVSwIAAAAAAACMGG5ldHdvcmt4LmNsYXNzZXMuZGlncm...</td>\n      <td>1</td>\n      <td>5</td>\n      <td>3</td>\n      <td>1</td>\n      <td>0</td>\n      <td>1.200000</td>\n      <td>2</td>\n      <td>data/parsed/I1_status500_Joined.parsed.tsv</td>\n      <td>1</td>\n      <td>True</td>\n      <td>False</td>\n      <td>False</td>\n      <td>False</td>\n      <td>True</td>\n      <td>True</td>\n      <td>False</td>\n      <td>False</td>\n      <td>True</td>\n      <td>True</td>\n      <td>True</td>\n      <td>False</td>\n      <td>False</td>\n      <td>False</td>\n      <td>False</td>\n    </tr>\n    <tr>\n      <th>9</th>\n      <td>SELECT+%3Fvar1++%3Fvar2++%3Fvar3+%0AWHERE+%7B%...</td>\n      <td>2017-06-12 02:04:47</td>\n      <td>robotic</td>\n      <td>UNKNOWN</td>\n      <td>3</td>\n      <td>1</td>\n      <td>1</td>\n      <td>1</td>\n      <td>0</td>\n      <td>3</td>\n      <td>1</td>\n      <td>0</td>\n      <td>0</td>\n      <td>0</td>\n      <td>1</td>\n      <td>0</td>\n      <td>0</td>\n      <td>1</td>\n      <td>4</td>\n      <td>0</td>\n      <td>0</td>\n      <td>0</td>\n      <td>0</td>\n      <td>0</td>\n      <td>0</td>\n      <td>0</td>\n      <td>3</td>\n      <td>1</td>\n      <td>0</td>\n      <td>0</td>\n      <td>0</td>\n      <td>1</td>\n      <td>0</td>\n      <td>[[\"var1\", \"Path(http://www.wikidata.org/prop/d...</td>\n      <td>1</td>\n      <td>5</td>\n      <td>0</td>\n      <td>0</td>\n      <td>1</td>\n      <td>1</td>\n      <td>SelectQuery_SelectQuery_{'p': Slice_{'p': Proj...</td>\n      <td>3ec9d4aaf5ab34e5ddaff3f02996731d</td>\n      <td>DiGraph with 5 nodes and 4 edges</td>\n      <td>0</td>\n      <td>gASV4wEAAAAAAACMGG5ldHdvcmt4LmNsYXNzZXMuZGlncm...</td>\n      <td>1</td>\n      <td>5</td>\n      <td>4</td>\n      <td>1</td>\n      <td>1</td>\n      <td>1.600000</td>\n      <td>2</td>\n      <td>data/parsed/I1_status500_Joined.parsed.tsv</td>\n      <td>1</td>\n      <td>True</td>\n      <td>True</td>\n      <td>True</td>\n      <td>True</td>\n      <td>True</td>\n      <td>False</td>\n      <td>False</td>\n      <td>False</td>\n      <td>True</td>\n      <td>True</td>\n      <td>True</td>\n      <td>False</td>\n      <td>False</td>\n      <td>True</td>\n      <td>False</td>\n    </tr>\n    <tr>\n      <th>...</th>\n      <td>...</td>\n      <td>...</td>\n      <td>...</td>\n      <td>...</td>\n      <td>...</td>\n      <td>...</td>\n      <td>...</td>\n      <td>...</td>\n      <td>...</td>\n      <td>...</td>\n      <td>...</td>\n      <td>...</td>\n      <td>...</td>\n      <td>...</td>\n      <td>...</td>\n      <td>...</td>\n      <td>...</td>\n      <td>...</td>\n      <td>...</td>\n      <td>...</td>\n      <td>...</td>\n      <td>...</td>\n      <td>...</td>\n      <td>...</td>\n      <td>...</td>\n      <td>...</td>\n      <td>...</td>\n      <td>...</td>\n      <td>...</td>\n      <td>...</td>\n      <td>...</td>\n      <td>...</td>\n      <td>...</td>\n      <td>...</td>\n      <td>...</td>\n      <td>...</td>\n      <td>...</td>\n      <td>...</td>\n      <td>...</td>\n      <td>...</td>\n      <td>...</td>\n      <td>...</td>\n      <td>...</td>\n      <td>...</td>\n      <td>...</td>\n      <td>...</td>\n      <td>...</td>\n      <td>...</td>\n      <td>...</td>\n      <td>...</td>\n      <td>...</td>\n      <td>...</td>\n      <td>...</td>\n      <td>...</td>\n      <td>...</td>\n      <td>...</td>\n      <td>...</td>\n      <td>...</td>\n      <td>...</td>\n      <td>...</td>\n      <td>...</td>\n      <td>...</td>\n      <td>...</td>\n      <td>...</td>\n      <td>...</td>\n      <td>...</td>\n      <td>...</td>\n      <td>...</td>\n      <td>...</td>\n    </tr>\n    <tr>\n      <th>42111</th>\n      <td>SELECT+DISTINCT+%3Fvar1++%3Fvar2+%0AWHERE+%7B%...</td>\n      <td>2018-03-25 23:20:07</td>\n      <td>robotic</td>\n      <td>orcid_bot</td>\n      <td>3</td>\n      <td>0</td>\n      <td>1</td>\n      <td>1</td>\n      <td>1</td>\n      <td>3</td>\n      <td>1</td>\n      <td>0</td>\n      <td>0</td>\n      <td>0</td>\n      <td>3</td>\n      <td>0</td>\n      <td>0</td>\n      <td>1</td>\n      <td>6</td>\n      <td>0</td>\n      <td>0</td>\n      <td>0</td>\n      <td>2</td>\n      <td>0</td>\n      <td>0</td>\n      <td>0</td>\n      <td>0</td>\n      <td>0</td>\n      <td>0</td>\n      <td>0</td>\n      <td>0</td>\n      <td>0</td>\n      <td>0</td>\n      <td>[[\"var1\", \"http://www.wikidata.org/prop/direct...</td>\n      <td>1</td>\n      <td>2000</td>\n      <td>0</td>\n      <td>0</td>\n      <td>0</td>\n      <td>0</td>\n      <td>SelectQuery_SelectQuery_{'p': Slice_{'p': Dist...</td>\n      <td>6a54b016a76d28f70c0f70c79536fd82</td>\n      <td>DiGraph with 7 nodes and 6 edges</td>\n      <td>0</td>\n      <td>gASVZAIAAAAAAACMGG5ldHdvcmt4LmNsYXNzZXMuZGlncm...</td>\n      <td>1</td>\n      <td>7</td>\n      <td>6</td>\n      <td>1</td>\n      <td>1</td>\n      <td>1.714286</td>\n      <td>2</td>\n      <td>data/parsed/I7_status500_Joined.parsed.tsv</td>\n      <td>7</td>\n      <td>True</td>\n      <td>False</td>\n      <td>True</td>\n      <td>True</td>\n      <td>True</td>\n      <td>True</td>\n      <td>False</td>\n      <td>False</td>\n      <td>True</td>\n      <td>True</td>\n      <td>True</td>\n      <td>False</td>\n      <td>False</td>\n      <td>True</td>\n      <td>False</td>\n    </tr>\n    <tr>\n      <th>42112</th>\n      <td>SELECT+DISTINCT+%3Fvar1+%0AWHERE+%7B%0A++%3Fva...</td>\n      <td>2018-03-25 23:31:13</td>\n      <td>robotic</td>\n      <td>UNKNOWN</td>\n      <td>2</td>\n      <td>1</td>\n      <td>0</td>\n      <td>1</td>\n      <td>1</td>\n      <td>2</td>\n      <td>1</td>\n      <td>0</td>\n      <td>0</td>\n      <td>0</td>\n      <td>1</td>\n      <td>0</td>\n      <td>0</td>\n      <td>0</td>\n      <td>3</td>\n      <td>0</td>\n      <td>0</td>\n      <td>0</td>\n      <td>0</td>\n      <td>0</td>\n      <td>0</td>\n      <td>0</td>\n      <td>1</td>\n      <td>0</td>\n      <td>0</td>\n      <td>0</td>\n      <td>0</td>\n      <td>0</td>\n      <td>0</td>\n      <td>[[\"var1\", \"http://www.wikidata.org/prop/direct...</td>\n      <td>0</td>\n      <td>0</td>\n      <td>0</td>\n      <td>0</td>\n      <td>0</td>\n      <td>0</td>\n      <td>SelectQuery_SelectQuery_{'p': Distinct_{'p': P...</td>\n      <td>501f5477d62cc8397ce5f292acb48fc8</td>\n      <td>DiGraph with 4 nodes and 3 edges</td>\n      <td>0</td>\n      <td>gASVxAEAAAAAAACMGG5ldHdvcmt4LmNsYXNzZXMuZGlncm...</td>\n      <td>1</td>\n      <td>4</td>\n      <td>3</td>\n      <td>1</td>\n      <td>1</td>\n      <td>1.500000</td>\n      <td>2</td>\n      <td>data/parsed/I7_status500_Joined.parsed.tsv</td>\n      <td>7</td>\n      <td>True</td>\n      <td>True</td>\n      <td>False</td>\n      <td>False</td>\n      <td>True</td>\n      <td>True</td>\n      <td>False</td>\n      <td>False</td>\n      <td>True</td>\n      <td>True</td>\n      <td>True</td>\n      <td>False</td>\n      <td>False</td>\n      <td>False</td>\n      <td>False</td>\n    </tr>\n    <tr>\n      <th>42114</th>\n      <td>SELECT+%3Fvar1+%0AWHERE+%7B%0A++%3Fvar1++%3Cht...</td>\n      <td>2018-03-25 23:53:30</td>\n      <td>robotic</td>\n      <td>UNKNOWN</td>\n      <td>2</td>\n      <td>1</td>\n      <td>0</td>\n      <td>1</td>\n      <td>0</td>\n      <td>1</td>\n      <td>1</td>\n      <td>0</td>\n      <td>0</td>\n      <td>0</td>\n      <td>1</td>\n      <td>0</td>\n      <td>0</td>\n      <td>1</td>\n      <td>1</td>\n      <td>0</td>\n      <td>0</td>\n      <td>0</td>\n      <td>0</td>\n      <td>0</td>\n      <td>0</td>\n      <td>0</td>\n      <td>0</td>\n      <td>0</td>\n      <td>0</td>\n      <td>0</td>\n      <td>0</td>\n      <td>0</td>\n      <td>0</td>\n      <td>[[\"var1\", \"http://www.wikidata.org/prop/direct...</td>\n      <td>1</td>\n      <td>1</td>\n      <td>0</td>\n      <td>0</td>\n      <td>0</td>\n      <td>0</td>\n      <td>SelectQuery_SelectQuery_{'p': Slice_{'p': Proj...</td>\n      <td>f4fe4a000cabd8a8516491abb0694491</td>\n      <td>DiGraph with 4 nodes and 2 edges</td>\n      <td>0</td>\n      <td>gASVyQEAAAAAAACMGG5ldHdvcmt4LmNsYXNzZXMuZGlncm...</td>\n      <td>1</td>\n      <td>4</td>\n      <td>2</td>\n      <td>1</td>\n      <td>0</td>\n      <td>1.000000</td>\n      <td>2</td>\n      <td>data/parsed/I7_status500_Joined.parsed.tsv</td>\n      <td>7</td>\n      <td>True</td>\n      <td>True</td>\n      <td>False</td>\n      <td>True</td>\n      <td>True</td>\n      <td>False</td>\n      <td>False</td>\n      <td>False</td>\n      <td>True</td>\n      <td>True</td>\n      <td>True</td>\n      <td>False</td>\n      <td>False</td>\n      <td>True</td>\n      <td>False</td>\n    </tr>\n    <tr>\n      <th>42115</th>\n      <td>SELECT+*%0AWHERE+%7B%0A++%3Fvar1++%3Chttp%3A%2...</td>\n      <td>2018-03-25 23:53:30</td>\n      <td>robotic</td>\n      <td>UNKNOWN</td>\n      <td>3</td>\n      <td>1</td>\n      <td>0</td>\n      <td>1</td>\n      <td>0</td>\n      <td>3</td>\n      <td>1</td>\n      <td>0</td>\n      <td>0</td>\n      <td>0</td>\n      <td>1</td>\n      <td>0</td>\n      <td>0</td>\n      <td>0</td>\n      <td>4</td>\n      <td>0</td>\n      <td>0</td>\n      <td>0</td>\n      <td>0</td>\n      <td>0</td>\n      <td>0</td>\n      <td>0</td>\n      <td>1</td>\n      <td>0</td>\n      <td>0</td>\n      <td>0</td>\n      <td>0</td>\n      <td>0</td>\n      <td>0</td>\n      <td>[[\"var3\", \"http://schema.org/inLanguage\", \"en\"...</td>\n      <td>0</td>\n      <td>0</td>\n      <td>0</td>\n      <td>0</td>\n      <td>0</td>\n      <td>0</td>\n      <td>SelectQuery_SelectQuery_{'p': Project_{'p': Fi...</td>\n      <td>ddf92f66b1b19b6a6b1658bcf90557ac</td>\n      <td>DiGraph with 5 nodes and 4 edges</td>\n      <td>0</td>\n      <td>gASVvQEAAAAAAACMGG5ldHdvcmt4LmNsYXNzZXMuZGlncm...</td>\n      <td>1</td>\n      <td>5</td>\n      <td>4</td>\n      <td>1</td>\n      <td>1</td>\n      <td>1.600000</td>\n      <td>2</td>\n      <td>data/parsed/I7_status500_Joined.parsed.tsv</td>\n      <td>7</td>\n      <td>True</td>\n      <td>True</td>\n      <td>False</td>\n      <td>False</td>\n      <td>True</td>\n      <td>False</td>\n      <td>False</td>\n      <td>False</td>\n      <td>True</td>\n      <td>True</td>\n      <td>True</td>\n      <td>False</td>\n      <td>False</td>\n      <td>False</td>\n      <td>False</td>\n    </tr>\n    <tr>\n      <th>42116</th>\n      <td>SELECT+DISTINCT+%3Fvar1++%3Fvar2+%0AWHERE+%7B%...</td>\n      <td>2018-03-25 23:54:01</td>\n      <td>robotic</td>\n      <td>orcid_bot</td>\n      <td>3</td>\n      <td>0</td>\n      <td>1</td>\n      <td>1</td>\n      <td>1</td>\n      <td>3</td>\n      <td>1</td>\n      <td>0</td>\n      <td>0</td>\n      <td>0</td>\n      <td>3</td>\n      <td>0</td>\n      <td>0</td>\n      <td>1</td>\n      <td>6</td>\n      <td>0</td>\n      <td>0</td>\n      <td>0</td>\n      <td>2</td>\n      <td>0</td>\n      <td>0</td>\n      <td>0</td>\n      <td>0</td>\n      <td>0</td>\n      <td>0</td>\n      <td>0</td>\n      <td>0</td>\n      <td>0</td>\n      <td>0</td>\n      <td>[[\"var1\", \"http://www.wikidata.org/prop/direct...</td>\n      <td>1</td>\n      <td>2000</td>\n      <td>0</td>\n      <td>0</td>\n      <td>0</td>\n      <td>0</td>\n      <td>SelectQuery_SelectQuery_{'p': Slice_{'p': Dist...</td>\n      <td>3793e16679d200a838ac46c687eafb0c</td>\n      <td>DiGraph with 7 nodes and 6 edges</td>\n      <td>0</td>\n      <td>gASVZAIAAAAAAACMGG5ldHdvcmt4LmNsYXNzZXMuZGlncm...</td>\n      <td>1</td>\n      <td>7</td>\n      <td>6</td>\n      <td>1</td>\n      <td>1</td>\n      <td>1.714286</td>\n      <td>2</td>\n      <td>data/parsed/I7_status500_Joined.parsed.tsv</td>\n      <td>7</td>\n      <td>True</td>\n      <td>False</td>\n      <td>True</td>\n      <td>True</td>\n      <td>True</td>\n      <td>True</td>\n      <td>False</td>\n      <td>False</td>\n      <td>True</td>\n      <td>True</td>\n      <td>True</td>\n      <td>False</td>\n      <td>False</td>\n      <td>True</td>\n      <td>False</td>\n    </tr>\n  </tbody>\n</table>\n<p>18039 rows × 69 columns</p>\n</div>"
     },
     "metadata": {}
    }
   ]
  },
  {
   "cell_type": "code",
   "metadata": {
    "cell_id": "06127716-c411-4f21-8289-3131d0327aba",
    "tags": [],
    "deepnote_to_be_reexecuted": false,
    "source_hash": "cad861e1",
    "execution_start": 1646993067257,
    "execution_millis": 5,
    "deepnote_cell_type": "code",
    "deepnote_cell_height": 171.39999389648438,
    "deepnote_output_heights": [
     21
    ]
   },
   "source": "len(df_nona_robotic['distinct']>0)\nnb = 0\nfor(i in range (0,len(df_nona_robotic))\n    if()",
   "execution_count": null,
   "outputs": [
    {
     "output_type": "execute_result",
     "execution_count": 29,
     "data": {
      "text/plain": "18039"
     },
     "metadata": {}
    }
   ]
  },
  {
   "cell_type": "code",
   "metadata": {
    "cell_id": "449305a9-4290-4360-ab4c-b918c952f464",
    "tags": [],
    "deepnote_to_be_reexecuted": false,
    "source_hash": "c3bb68cb",
    "execution_start": 1646992577992,
    "execution_millis": 296,
    "deepnote_cell_type": "code",
    "deepnote_cell_height": 614
   },
   "source": "df_nona_robotic",
   "execution_count": null,
   "outputs": [
    {
     "output_type": "execute_result",
     "execution_count": 8,
     "data": {
      "application/vnd.deepnote.dataframe.v3+json": {
       "column_count": 69,
       "row_count": 18039,
       "columns": [
        {
         "name": "anonymizedQuery",
         "dtype": "object",
         "stats": {
          "unique_count": 9573,
          "nan_count": 0,
          "categories": [
           {
            "name": "SELECT+DISTINCT+%3Fvar1++%3Fvar2+%0AWHERE+%7B%0A++%3Fvar1++%3Chttp%3A%2F%2Fwww.wikidata.org%2Fprop%2Fdirect%2FP31%3E++%3Chttp%3A%2F%2Fwww.wikidata.org%2Fentity%2FQ13442814%3E+.%0A++%3Fvar1++%3Chttp%3A%2F%2Fwww.wikidata.org%2Fprop%2Fdirect%2FP356%3E++%3Fvar2+.%0A++%3Fvar1++%3Chttp%3A%2F%2Fwww.wikidata.org%2Fprop%2Fdirect%2FP50%3E++%3Fvar3+.%0A++%3Fvar3++%3Chttp%3A%2F%2Fwww.wikidata.org%2Fprop%2Fdirect%2FP31%3E++%3Chttp%3A%2F%2Fwww.wikidata.org%2Fentity%2FQ5%3E+.%0A++MINUS+++%7B%0A++++%3Fvar3++%3Chttp%3A%2F%2Fwww.wikidata.org%2Fprop%2Fdirect%2FP496%3E++%5B%5D+.%0A++%7D%0A++MINUS+++%7B%0A++++%3Fvar3++%3Chttp%3A%2F%2Fwww.wikidata.org%2Fprop%2Fdirect%2FP570%3E++%5B%5D+.%0A++%7D%0A%7D%0AORDER+BY+ASC%28+RAND+%28++%29+%29%0ALIMIT+2000%0A",
            "count": 1234
           },
           {
            "name": "SELECT+DISTINCT+%3Fvar1+%0AWHERE+%7B%0A++%3Fvar1++%3Chttp%3A%2F%2Fwww.wikidata.org%2Fprop%2Fdirect%2FP31%3E++%3Chttp%3A%2F%2Fwww.wikidata.org%2Fentity%2FQ5%3E+%3B%0A+%3Chttp%3A%2F%2Fwww.wikidata.org%2Fprop%2Fdirect%2FP17%3E++%5B%5D+%3B%0A+%3Chttp%3A%2F%2Fwww.wikidata.org%2Fprop%2Fdirect%2FP569%3E++%3Fvar2+.%0A+FILTER+%28++%28+%28++YEAR+%28++%3Fvar2++%29++%3E+%221850%22%5E%5E%3Chttp%3A%2F%2Fwww.w3.org%2F2001%2FXMLSchema%23integer%3E++%29+%29+%0A%29+.%0A%7D%0A",
            "count": 945
           },
           {
            "name": "9571 others",
            "count": 15860
           }
          ]
         }
        },
        {
         "name": "timestamp",
         "dtype": "object",
         "stats": {
          "unique_count": 17034,
          "nan_count": 0,
          "categories": [
           {
            "name": "2017-08-25 10:50:27",
            "count": 19
           },
           {
            "name": "2017-08-25 11:04:48",
            "count": 18
           },
           {
            "name": "17032 others",
            "count": 18002
           }
          ]
         }
        },
        {
         "name": "sourceCategory",
         "dtype": "object",
         "stats": {
          "unique_count": 1,
          "nan_count": 0,
          "categories": [
           {
            "name": "robotic",
            "count": 18039
           }
          ]
         }
        },
        {
         "name": "user_agent",
         "dtype": "object",
         "stats": {
          "unique_count": 22,
          "nan_count": 0,
          "categories": [
           {
            "name": "UNKNOWN",
            "count": 12564
           },
           {
            "name": "bot2",
            "count": 2792
           },
           {
            "name": "20 others",
            "count": 2683
           }
          ]
         }
        },
        {
         "name": "var_cpt",
         "dtype": "int64",
         "stats": {
          "unique_count": 38,
          "nan_count": 0,
          "min": "1",
          "max": "52",
          "histogram": [
           {
            "bin_start": 1,
            "bin_end": 6.1,
            "count": 10655
           },
           {
            "bin_start": 6.1,
            "bin_end": 11.2,
            "count": 4251
           },
           {
            "bin_start": 11.2,
            "bin_end": 16.299999999999997,
            "count": 2334
           },
           {
            "bin_start": 16.299999999999997,
            "bin_end": 21.4,
            "count": 347
           },
           {
            "bin_start": 21.4,
            "bin_end": 26.5,
            "count": 113
           },
           {
            "bin_start": 26.5,
            "bin_end": 31.599999999999998,
            "count": 68
           },
           {
            "bin_start": 31.599999999999998,
            "bin_end": 36.699999999999996,
            "count": 249
           },
           {
            "bin_start": 36.699999999999996,
            "bin_end": 41.8,
            "count": 2
           },
           {
            "bin_start": 41.8,
            "bin_end": 46.9,
            "count": 19
           },
           {
            "bin_start": 46.9,
            "bin_end": 52,
            "count": 1
           }
          ]
         }
        },
        {
         "name": "filter",
         "dtype": "int64"
        },
        {
         "name": "orderby",
         "dtype": "int64"
        },
        {
         "name": "select",
         "dtype": "int64"
        },
        {
         "name": "distinct",
         "dtype": "int64"
        },
        {
         "name": "join",
         "dtype": "int64"
        },
        {
         "name": "project",
         "dtype": "int64"
        },
        {
         "name": "tomultiset",
         "dtype": "int64"
        },
        {
         "name": "union",
         "dtype": "int64"
        },
        {
         "name": "modify",
         "dtype": "int64"
        },
        {
         "name": "bgp",
         "dtype": "int64"
        },
        {
         "name": "values",
         "dtype": "int64"
        },
        {
         "name": "groupBy",
         "dtype": "int64"
        },
        {
         "name": "slice",
         "dtype": "int64"
        },
        {
         "name": "triples",
         "dtype": "int64"
        },
        {
         "name": "extend",
         "dtype": "int64"
        },
        {
         "name": "filter_not_exists",
         "dtype": "int64"
        },
        {
         "name": "leftJoin",
         "dtype": "int64"
        },
        {
         "name": "minus",
         "dtype": "int64"
        },
        {
         "name": "notexist",
         "dtype": "int64"
        },
        {
         "name": "sample",
         "dtype": "int64"
        },
        {
         "name": "count",
         "dtype": "int64"
        },
        {
         "name": "having",
         "dtype": "int64"
        },
        {
         "name": "pathWithStar",
         "dtype": "int64"
        },
        {
         "name": "pathWithPlus",
         "dtype": "int64"
        },
        {
         "name": "pathWithQuestionMark",
         "dtype": "int64"
        },
        {
         "name": "pathWithInv",
         "dtype": "int64"
        },
        {
         "name": "pathWithSequence",
         "dtype": "int64"
        },
        {
         "name": "pathWithAlternative",
         "dtype": "int64"
        },
        {
         "name": "triplesSet",
         "dtype": "object"
        },
        {
         "name": "limit",
         "dtype": "int64"
        },
        {
         "name": "limitValue",
         "dtype": "int64"
        },
        {
         "name": "offset",
         "dtype": "int64"
        },
        {
         "name": "offsetValue",
         "dtype": "int64"
        },
        {
         "name": "complexPathWith",
         "dtype": "int64"
        },
        {
         "name": "simplePathWith",
         "dtype": "int64"
        },
        {
         "name": "algebraTree",
         "dtype": "object"
        },
        {
         "name": "algebraTreeMD5",
         "dtype": "object"
        },
        {
         "name": "graph",
         "dtype": "object"
        },
        {
         "name": "cycleNumber",
         "dtype": "int64"
        },
        {
         "name": "graphDump",
         "dtype": "object"
        },
        {
         "name": "isForest",
         "dtype": "int64"
        },
        {
         "name": "numberOfNodes",
         "dtype": "int64"
        },
        {
         "name": "numberOfEdges",
         "dtype": "int64"
        },
        {
         "name": "treewidth",
         "dtype": "int64"
        },
        {
         "name": "isTree",
         "dtype": "int64"
        },
        {
         "name": "averageDegree",
         "dtype": "float64"
        },
        {
         "name": "maxCliqueWeigth",
         "dtype": "int64"
        },
        {
         "name": "file_path",
         "dtype": "object"
        },
        {
         "name": "interval",
         "dtype": "int64"
        },
        {
         "name": "has_variable",
         "dtype": "bool"
        },
        {
         "name": "has_filter",
         "dtype": "bool"
        },
        {
         "name": "has_orderby",
         "dtype": "bool"
        },
        {
         "name": "has_limit",
         "dtype": "bool"
        },
        {
         "name": "has_select",
         "dtype": "bool"
        },
        {
         "name": "has_distinct",
         "dtype": "bool"
        },
        {
         "name": "has_modify",
         "dtype": "bool"
        },
        {
         "name": "has_tomultiset",
         "dtype": "bool"
        },
        {
         "name": "has_join",
         "dtype": "bool"
        },
        {
         "name": "has_bgp",
         "dtype": "bool"
        },
        {
         "name": "has_project",
         "dtype": "bool"
        },
        {
         "name": "has_union",
         "dtype": "bool"
        },
        {
         "name": "has_values",
         "dtype": "bool"
        },
        {
         "name": "has_slice",
         "dtype": "bool"
        },
        {
         "name": "has_offset",
         "dtype": "bool"
        },
        {
         "name": "_deepnote_index_column",
         "dtype": "int64"
        }
       ],
       "rows": [
        {
         "anonymizedQuery": "SELECT+%3Fvar1++%3Fvar1Label++%3Fvar2+%28++CONCAT+%28++%22string1%22%2C+REPLACE+%28++STR+%28++%3Fva…",
         "timestamp": "2017-06-12 00:16:34",
         "sourceCategory": "robotic",
         "user_agent": "bot2",
         "var_cpt": 9,
         "filter": 1,
         "orderby": 1,
         "select": 1,
         "distinct": 0,
         "join": 6,
         "project": 1,
         "tomultiset": 0,
         "union": 0,
         "modify": 0,
         "bgp": 1,
         "values": 0,
         "groupBy": 0,
         "slice": 1,
         "triples": 6,
         "extend": 1,
         "filter_not_exists": 0,
         "leftJoin": 0,
         "minus": 0,
         "notexist": 0,
         "sample": 0,
         "count": 0,
         "having": 2,
         "pathWithStar": 0,
         "pathWithPlus": 0,
         "pathWithQuestionMark": 0,
         "pathWithInv": 0,
         "pathWithSequence": 0,
         "pathWithAlternative": 0,
         "triplesSet": "[[\"http://www.bigdata.com/queryHints#Query\", \"http://www.bigdata.com/queryHints#optimizer\", \"None\"]…",
         "limit": 1,
         "limitValue": 5000,
         "offset": 0,
         "offsetValue": 0,
         "complexPathWith": 0,
         "simplePathWith": 0,
         "algebraTree": "SelectQuery_SelectQuery_{'p': Slice_{'p': Project_{'p': OrderBy_{'p': Extend_{'p': Filter_{'expr': …",
         "algebraTreeMD5": "159f12f8ddbdd06954496911da0816cc",
         "graph": "DiGraph with 11 nodes and 7 edges",
         "cycleNumber": 0,
         "graphDump": "gASVyAIAAAAAAACMGG5ldHdvcmt4LmNsYXNzZXMuZGlncmFwaJSMB0RpR3JhcGiUk5QpgZR9lCiMF2dyYXBoX2F0dHJfZGljdF9…",
         "isForest": 1,
         "numberOfNodes": 11,
         "numberOfEdges": 7,
         "treewidth": 1,
         "isTree": 0,
         "averageDegree": 1.2727272727272727,
         "maxCliqueWeigth": 2,
         "file_path": "data/parsed/I1_status500_Joined.parsed.tsv",
         "interval": 1,
         "has_variable": true,
         "has_filter": true,
         "has_orderby": true,
         "has_limit": true,
         "has_select": true,
         "has_distinct": false,
         "has_modify": false,
         "has_tomultiset": false,
         "has_join": true,
         "has_bgp": true,
         "has_project": true,
         "has_union": false,
         "has_values": false,
         "has_slice": true,
         "has_offset": false,
         "_deepnote_index_column": 0
        },
        {
         "anonymizedQuery": "SELECT+DISTINCT+%3Fvar1++%3Fvar2+%0AWHERE+%7B%0A++BIND+%28++%28++%28++YEAR+%28++%3Fvar3++%29+-+YEAR…",
         "timestamp": "2017-06-12 01:02:37",
         "sourceCategory": "robotic",
         "user_agent": "bot2",
         "var_cpt": 7,
         "filter": 1,
         "orderby": 1,
         "select": 1,
         "distinct": 1,
         "join": 9,
         "project": 1,
         "tomultiset": 0,
         "union": 0,
         "modify": 0,
         "bgp": 2,
         "values": 0,
         "groupBy": 0,
         "slice": 0,
         "triples": 9,
         "extend": 1,
         "filter_not_exists": 0,
         "leftJoin": 0,
         "minus": 0,
         "notexist": 0,
         "sample": 0,
         "count": 0,
         "having": 5,
         "pathWithStar": 0,
         "pathWithPlus": 0,
         "pathWithQuestionMark": 0,
         "pathWithInv": 0,
         "pathWithSequence": 2,
         "pathWithAlternative": 0,
         "triplesSet": "[[\"var1\", \"http://www.wikidata.org/prop/direct/P31\", \"http://www.wikidata.org/entity/Q5\"], [\"var1\",…",
         "limit": 0,
         "limitValue": 0,
         "offset": 0,
         "offsetValue": 0,
         "complexPathWith": 0,
         "simplePathWith": 2,
         "algebraTree": "SelectQuery_SelectQuery_{'p': Distinct_{'p': Project_{'p': OrderBy_{'p': Filter_{'expr': Conditiona…",
         "algebraTreeMD5": "b783c3c55117996138540535038caf13",
         "graph": "DiGraph with 9 nodes and 9 edges",
         "cycleNumber": 0,
         "graphDump": "gASVagIAAAAAAACMGG5ldHdvcmt4LmNsYXNzZXMuZGlncmFwaJSMB0RpR3JhcGiUk5QpgZR9lCiMF2dyYXBoX2F0dHJfZGljdF9…",
         "isForest": 0,
         "numberOfNodes": 9,
         "numberOfEdges": 9,
         "treewidth": 2,
         "isTree": 0,
         "averageDegree": 2,
         "maxCliqueWeigth": 2,
         "file_path": "data/parsed/I1_status500_Joined.parsed.tsv",
         "interval": 1,
         "has_variable": true,
         "has_filter": true,
         "has_orderby": true,
         "has_limit": false,
         "has_select": true,
         "has_distinct": true,
         "has_modify": false,
         "has_tomultiset": false,
         "has_join": true,
         "has_bgp": true,
         "has_project": true,
         "has_union": false,
         "has_values": false,
         "has_slice": false,
         "has_offset": false,
         "_deepnote_index_column": 6
        },
        {
         "anonymizedQuery": "SELECT+%3Fvar1+%0AWHERE+%7B%0A++%3Fvar1++%3Chttp%3A%2F%2Fwww.wikidata.org%2Fprop%2Fdirect%2FP31%3E+…",
         "timestamp": "2017-06-12 01:26:31",
         "sourceCategory": "robotic",
         "user_agent": "bot2",
         "var_cpt": 2,
         "filter": 1,
         "orderby": 0,
         "select": 1,
         "distinct": 0,
         "join": 2,
         "project": 1,
         "tomultiset": 0,
         "union": 0,
         "modify": 0,
         "bgp": 1,
         "values": 0,
         "groupBy": 0,
         "slice": 0,
         "triples": 2,
         "extend": 0,
         "filter_not_exists": 1,
         "leftJoin": 0,
         "minus": 0,
         "notexist": 1,
         "sample": 0,
         "count": 0,
         "having": 0,
         "pathWithStar": 1,
         "pathWithPlus": 0,
         "pathWithQuestionMark": 0,
         "pathWithInv": 0,
         "pathWithSequence": 1,
         "pathWithAlternative": 0,
         "triplesSet": "[[\"var1\", \"Path(http://www.wikidata.org/prop/direct/P131 / Path(http://www.wikidata.org/prop/direct…",
         "limit": 0,
         "limitValue": 0,
         "offset": 0,
         "offsetValue": 0,
         "complexPathWith": 1,
         "simplePathWith": 1,
         "algebraTree": "SelectQuery_SelectQuery_{'p': Project_{'p': Filter_{'expr': Builtin_NOTEXISTS_{'graph': GroupGraphP…",
         "algebraTreeMD5": "4695923a7d3eee0eb38ae8071a5df3de",
         "graph": "DiGraph with 5 nodes and 3 edges",
         "cycleNumber": 0,
         "graphDump": "gASVKgIAAAAAAACMGG5ldHdvcmt4LmNsYXNzZXMuZGlncmFwaJSMB0RpR3JhcGiUk5QpgZR9lCiMF2dyYXBoX2F0dHJfZGljdF9…",
         "isForest": 1,
         "numberOfNodes": 5,
         "numberOfEdges": 3,
         "treewidth": 1,
         "isTree": 0,
         "averageDegree": 1.2,
         "maxCliqueWeigth": 2,
         "file_path": "data/parsed/I1_status500_Joined.parsed.tsv",
         "interval": 1,
         "has_variable": true,
         "has_filter": true,
         "has_orderby": false,
         "has_limit": false,
         "has_select": true,
         "has_distinct": false,
         "has_modify": false,
         "has_tomultiset": false,
         "has_join": true,
         "has_bgp": true,
         "has_project": true,
         "has_union": false,
         "has_values": false,
         "has_slice": false,
         "has_offset": false,
         "_deepnote_index_column": 7
        },
        {
         "anonymizedQuery": "SELECT+DISTINCT+%3Fvar1+%0AWHERE+%7B%0A++%3Fvar1++%3Chttp%3A%2F%2Fwww.wikidata.org%2Fprop%2Fdirect%…",
         "timestamp": "2017-06-12 01:37:49",
         "sourceCategory": "robotic",
         "user_agent": "bot2",
         "var_cpt": 1,
         "filter": 0,
         "orderby": 0,
         "select": 1,
         "distinct": 1,
         "join": 2,
         "project": 1,
         "tomultiset": 0,
         "union": 0,
         "modify": 0,
         "bgp": 1,
         "values": 0,
         "groupBy": 0,
         "slice": 0,
         "triples": 2,
         "extend": 0,
         "filter_not_exists": 0,
         "leftJoin": 0,
         "minus": 0,
         "notexist": 0,
         "sample": 0,
         "count": 0,
         "having": 0,
         "pathWithStar": 0,
         "pathWithPlus": 0,
         "pathWithQuestionMark": 0,
         "pathWithInv": 0,
         "pathWithSequence": 0,
         "pathWithAlternative": 0,
         "triplesSet": "[[\"var1\", \"http://www.wikidata.org/prop/direct/P105\", \"http://www.wikidata.org/entity/Q7432\"], [\"va…",
         "limit": 0,
         "limitValue": 0,
         "offset": 0,
         "offsetValue": 0,
         "complexPathWith": 0,
         "simplePathWith": 0,
         "algebraTree": "SelectQuery_SelectQuery_{'p': Distinct_{'p': Project_{'p': Join_{'p1': BGP_{'triples': [(rdflib.ter…",
         "algebraTreeMD5": "2a7f06bc544f2657ade05cd3c9b9a020",
         "graph": "DiGraph with 5 nodes and 3 edges",
         "cycleNumber": 0,
         "graphDump": "gASVSwIAAAAAAACMGG5ldHdvcmt4LmNsYXNzZXMuZGlncmFwaJSMB0RpR3JhcGiUk5QpgZR9lCiMF2dyYXBoX2F0dHJfZGljdF9…",
         "isForest": 1,
         "numberOfNodes": 5,
         "numberOfEdges": 3,
         "treewidth": 1,
         "isTree": 0,
         "averageDegree": 1.2,
         "maxCliqueWeigth": 2,
         "file_path": "data/parsed/I1_status500_Joined.parsed.tsv",
         "interval": 1,
         "has_variable": true,
         "has_filter": false,
         "has_orderby": false,
         "has_limit": false,
         "has_select": true,
         "has_distinct": true,
         "has_modify": false,
         "has_tomultiset": false,
         "has_join": true,
         "has_bgp": true,
         "has_project": true,
         "has_union": false,
         "has_values": false,
         "has_slice": false,
         "has_offset": false,
         "_deepnote_index_column": 8
        },
        {
         "anonymizedQuery": "SELECT+%3Fvar1++%3Fvar2++%3Fvar3+%0AWHERE+%7B%0A++%3Fvar1+%28+%3Chttp%3A%2F%2Fwww.wikidata.org%2Fpr…",
         "timestamp": "2017-06-12 02:04:47",
         "sourceCategory": "robotic",
         "user_agent": "UNKNOWN",
         "var_cpt": 3,
         "filter": 1,
         "orderby": 1,
         "select": 1,
         "distinct": 0,
         "join": 3,
         "project": 1,
         "tomultiset": 0,
         "union": 0,
         "modify": 0,
         "bgp": 1,
         "values": 0,
         "groupBy": 0,
         "slice": 1,
         "triples": 4,
         "extend": 0,
         "filter_not_exists": 0,
         "leftJoin": 0,
         "minus": 0,
         "notexist": 0,
         "sample": 0,
         "count": 0,
         "having": 3,
         "pathWithStar": 1,
         "pathWithPlus": 0,
         "pathWithQuestionMark": 0,
         "pathWithInv": 0,
         "pathWithSequence": 1,
         "pathWithAlternative": 0,
         "triplesSet": "[[\"var1\", \"Path(http://www.wikidata.org/prop/direct/P31 / Path(http://www.wikidata.org/prop/direct/…",
         "limit": 1,
         "limitValue": 5,
         "offset": 0,
         "offsetValue": 0,
         "complexPathWith": 1,
         "simplePathWith": 1,
         "algebraTree": "SelectQuery_SelectQuery_{'p': Slice_{'p': Project_{'p': OrderBy_{'p': Filter_{'expr': ConditionalAn…",
         "algebraTreeMD5": "3ec9d4aaf5ab34e5ddaff3f02996731d",
         "graph": "DiGraph with 5 nodes and 4 edges",
         "cycleNumber": 0,
         "graphDump": "gASV4wEAAAAAAACMGG5ldHdvcmt4LmNsYXNzZXMuZGlncmFwaJSMB0RpR3JhcGiUk5QpgZR9lCiMF2dyYXBoX2F0dHJfZGljdF9…",
         "isForest": 1,
         "numberOfNodes": 5,
         "numberOfEdges": 4,
         "treewidth": 1,
         "isTree": 1,
         "averageDegree": 1.6,
         "maxCliqueWeigth": 2,
         "file_path": "data/parsed/I1_status500_Joined.parsed.tsv",
         "interval": 1,
         "has_variable": true,
         "has_filter": true,
         "has_orderby": true,
         "has_limit": true,
         "has_select": true,
         "has_distinct": false,
         "has_modify": false,
         "has_tomultiset": false,
         "has_join": true,
         "has_bgp": true,
         "has_project": true,
         "has_union": false,
         "has_values": false,
         "has_slice": true,
         "has_offset": false,
         "_deepnote_index_column": 9
        },
        {
         "anonymizedQuery": "SELECT+%3Fvar1+%0AWHERE+%7B%0A+%7B%0A+++%3Fvar1++%3Chttp%3A%2F%2Fwww.wikidata.org%2Fprop%2Fdirect%2…",
         "timestamp": "2017-06-12 02:09:03",
         "sourceCategory": "robotic",
         "user_agent": "bot2",
         "var_cpt": 5,
         "filter": 1,
         "orderby": 0,
         "select": 1,
         "distinct": 0,
         "join": 4,
         "project": 1,
         "tomultiset": 0,
         "union": 1,
         "modify": 0,
         "bgp": 3,
         "values": 0,
         "groupBy": 0,
         "slice": 0,
         "triples": 6,
         "extend": 0,
         "filter_not_exists": 1,
         "leftJoin": 0,
         "minus": 0,
         "notexist": 1,
         "sample": 0,
         "count": 0,
         "having": 0,
         "pathWithStar": 4,
         "pathWithPlus": 0,
         "pathWithQuestionMark": 0,
         "pathWithInv": 0,
         "pathWithSequence": 0,
         "pathWithAlternative": 0,
         "triplesSet": "[[\"var2\", \"Path(http://www.wikidata.org/prop/direct/P279*)\", \"http://www.wikidata.org/entity/Q65939…",
         "limit": 0,
         "limitValue": 0,
         "offset": 0,
         "offsetValue": 0,
         "complexPathWith": 4,
         "simplePathWith": 0,
         "algebraTree": "SelectQuery_SelectQuery_{'p': Project_{'p': Filter_{'expr': Builtin_NOTEXISTS_{'graph': GroupGraphP…",
         "algebraTreeMD5": "e6e0702c38d07f4792eabd7fb3f75f9e",
         "graph": "DiGraph with 6 nodes and 6 edges",
         "cycleNumber": 0,
         "graphDump": "gASVQQIAAAAAAACMGG5ldHdvcmt4LmNsYXNzZXMuZGlncmFwaJSMB0RpR3JhcGiUk5QpgZR9lCiMF2dyYXBoX2F0dHJfZGljdF9…",
         "isForest": 0,
         "numberOfNodes": 6,
         "numberOfEdges": 6,
         "treewidth": 2,
         "isTree": 0,
         "averageDegree": 2,
         "maxCliqueWeigth": 2,
         "file_path": "data/parsed/I1_status500_Joined.parsed.tsv",
         "interval": 1,
         "has_variable": true,
         "has_filter": true,
         "has_orderby": false,
         "has_limit": false,
         "has_select": true,
         "has_distinct": false,
         "has_modify": false,
         "has_tomultiset": false,
         "has_join": true,
         "has_bgp": true,
         "has_project": true,
         "has_union": true,
         "has_values": false,
         "has_slice": false,
         "has_offset": false,
         "_deepnote_index_column": 10
        },
        {
         "anonymizedQuery": "SELECT+DISTINCT%28+COUNT+%28+%3Fvar1++%29+AS++%3Fvar2++%29%0AWHERE+%7B%0A++%5B%5D++%3Chttp%3A%2F%2F…",
         "timestamp": "2017-06-12 02:16:27",
         "sourceCategory": "robotic",
         "user_agent": "UNKNOWN",
         "var_cpt": 3,
         "filter": 0,
         "orderby": 0,
         "select": 1,
         "distinct": 1,
         "join": 0,
         "project": 1,
         "tomultiset": 0,
         "union": 0,
         "modify": 0,
         "bgp": 1,
         "values": 0,
         "groupBy": 1,
         "slice": 0,
         "triples": 1,
         "extend": 1,
         "filter_not_exists": 0,
         "leftJoin": 0,
         "minus": 0,
         "notexist": 0,
         "sample": 0,
         "count": 0,
         "having": 0,
         "pathWithStar": 0,
         "pathWithPlus": 0,
         "pathWithQuestionMark": 0,
         "pathWithInv": 0,
         "pathWithSequence": 0,
         "pathWithAlternative": 0,
         "triplesSet": "[[\"N0f4e2542689d4d56a3b2b8698842c543\", \"http://www.w3.org/1999/02/22-rdf-syntax-ns#type\", \"var1\"]]",
         "limit": 0,
         "limitValue": 0,
         "offset": 0,
         "offsetValue": 0,
         "complexPathWith": 0,
         "simplePathWith": 0,
         "algebraTree": "SelectQuery_SelectQuery_{'p': Distinct_{'p': Project_{'p': Extend_{'p': AggregateJoin_{'A': [Aggreg…",
         "algebraTreeMD5": "2c04b4f293b69139d2ceb305d5bf62d1",
         "graph": "DiGraph with 2 nodes and 1 edges",
         "cycleNumber": 0,
         "graphDump": "gASVaAEAAAAAAACMGG5ldHdvcmt4LmNsYXNzZXMuZGlncmFwaJSMB0RpR3JhcGiUk5QpgZR9lCiMF2dyYXBoX2F0dHJfZGljdF9…",
         "isForest": 1,
         "numberOfNodes": 2,
         "numberOfEdges": 1,
         "treewidth": 1,
         "isTree": 1,
         "averageDegree": 1,
         "maxCliqueWeigth": 2,
         "file_path": "data/parsed/I1_status500_Joined.parsed.tsv",
         "interval": 1,
         "has_variable": true,
         "has_filter": false,
         "has_orderby": false,
         "has_limit": false,
         "has_select": true,
         "has_distinct": true,
         "has_modify": false,
         "has_tomultiset": false,
         "has_join": false,
         "has_bgp": true,
         "has_project": true,
         "has_union": false,
         "has_values": false,
         "has_slice": false,
         "has_offset": false,
         "_deepnote_index_column": 11
        },
        {
         "anonymizedQuery": "SELECT+DISTINCT+%3Fvar1+%0AWHERE+%7B%0A+%7B%0A+++%3Fvar1++%3Chttp%3A%2F%2Fwww.w3.org%2F1999%2F02%2F…",
         "timestamp": "2017-06-12 02:18:28",
         "sourceCategory": "robotic",
         "user_agent": "UNKNOWN",
         "var_cpt": 1,
         "filter": 0,
         "orderby": 0,
         "select": 1,
         "distinct": 1,
         "join": 0,
         "project": 1,
         "tomultiset": 0,
         "union": 5,
         "modify": 0,
         "bgp": 6,
         "values": 0,
         "groupBy": 0,
         "slice": 1,
         "triples": 6,
         "extend": 0,
         "filter_not_exists": 0,
         "leftJoin": 0,
         "minus": 0,
         "notexist": 0,
         "sample": 0,
         "count": 0,
         "having": 0,
         "pathWithStar": 0,
         "pathWithPlus": 0,
         "pathWithQuestionMark": 0,
         "pathWithInv": 0,
         "pathWithSequence": 0,
         "pathWithAlternative": 0,
         "triplesSet": "[[\"var1\", \"http://www.w3.org/1999/02/22-rdf-syntax-ns#type\", \"http://www.w3.org/2000/01/rdf-schema#…",
         "limit": 1,
         "limitValue": 100,
         "offset": 0,
         "offsetValue": 0,
         "complexPathWith": 0,
         "simplePathWith": 0,
         "algebraTree": "SelectQuery_SelectQuery_{'p': Slice_{'p': Distinct_{'p': Project_{'p': Union_{'p1': Union_{'p1': Un…",
         "algebraTreeMD5": "27aeed1bacbc9b5d78fd37e125b7dbe9",
         "graph": "DiGraph with 7 nodes and 6 edges",
         "cycleNumber": 0,
         "graphDump": "gASVoAIAAAAAAACMGG5ldHdvcmt4LmNsYXNzZXMuZGlncmFwaJSMB0RpR3JhcGiUk5QpgZR9lCiMF2dyYXBoX2F0dHJfZGljdF9…",
         "isForest": 1,
         "numberOfNodes": 7,
         "numberOfEdges": 6,
         "treewidth": 1,
         "isTree": 1,
         "averageDegree": 1.7142857142857142,
         "maxCliqueWeigth": 2,
         "file_path": "data/parsed/I1_status500_Joined.parsed.tsv",
         "interval": 1,
         "has_variable": true,
         "has_filter": false,
         "has_orderby": false,
         "has_limit": true,
         "has_select": true,
         "has_distinct": true,
         "has_modify": false,
         "has_tomultiset": false,
         "has_join": false,
         "has_bgp": true,
         "has_project": true,
         "has_union": true,
         "has_values": false,
         "has_slice": true,
         "has_offset": false,
         "_deepnote_index_column": 12
        },
        {
         "anonymizedQuery": "SELECT+DISTINCT%28++DATATYPE+%28++%3Fvar1++%29++AS++%3Fvar2++%29%0AWHERE+%7B%0A++%5B%5D++%3Fvar3++%…",
         "timestamp": "2017-06-12 02:21:30",
         "sourceCategory": "robotic",
         "user_agent": "UNKNOWN",
         "var_cpt": 3,
         "filter": 1,
         "orderby": 0,
         "select": 1,
         "distinct": 1,
         "join": 0,
         "project": 1,
         "tomultiset": 0,
         "union": 0,
         "modify": 0,
         "bgp": 1,
         "values": 0,
         "groupBy": 0,
         "slice": 0,
         "triples": 1,
         "extend": 1,
         "filter_not_exists": 0,
         "leftJoin": 0,
         "minus": 0,
         "notexist": 0,
         "sample": 0,
         "count": 0,
         "having": 0,
         "pathWithStar": 0,
         "pathWithPlus": 0,
         "pathWithQuestionMark": 0,
         "pathWithInv": 0,
         "pathWithSequence": 0,
         "pathWithAlternative": 0,
         "triplesSet": "[[\"Nff4e924c211c4b679d987c77a5413270\", \"var3\", \"var1\"]]",
         "limit": 0,
         "limitValue": 0,
         "offset": 0,
         "offsetValue": 0,
         "complexPathWith": 0,
         "simplePathWith": 0,
         "algebraTree": "SelectQuery_SelectQuery_{'p': Distinct_{'p': Project_{'p': Extend_{'p': Filter_{'expr': Builtin_isL…",
         "algebraTreeMD5": "4bf8e896008dd7c7c6775096002744d9",
         "graph": "DiGraph with 2 nodes and 1 edges",
         "cycleNumber": 0,
         "graphDump": "gASVaAEAAAAAAACMGG5ldHdvcmt4LmNsYXNzZXMuZGlncmFwaJSMB0RpR3JhcGiUk5QpgZR9lCiMF2dyYXBoX2F0dHJfZGljdF9…",
         "isForest": 1,
         "numberOfNodes": 2,
         "numberOfEdges": 1,
         "treewidth": 1,
         "isTree": 1,
         "averageDegree": 1,
         "maxCliqueWeigth": 2,
         "file_path": "data/parsed/I1_status500_Joined.parsed.tsv",
         "interval": 1,
         "has_variable": true,
         "has_filter": true,
         "has_orderby": false,
         "has_limit": false,
         "has_select": true,
         "has_distinct": true,
         "has_modify": false,
         "has_tomultiset": false,
         "has_join": false,
         "has_bgp": true,
         "has_project": true,
         "has_union": false,
         "has_values": false,
         "has_slice": false,
         "has_offset": false,
         "_deepnote_index_column": 13
        },
        {
         "anonymizedQuery": "SELECT+*%0AWHERE+%7B%0A++%3Fvar1++%3Fvar2++%3Fvar3+.%0A%7D%0AOFFSET+1987999999%0ALIMIT+1%0A",
         "timestamp": "2017-06-12 02:24:41",
         "sourceCategory": "robotic",
         "user_agent": "UNKNOWN",
         "var_cpt": 3,
         "filter": 0,
         "orderby": 0,
         "select": 1,
         "distinct": 0,
         "join": 0,
         "project": 1,
         "tomultiset": 0,
         "union": 0,
         "modify": 0,
         "bgp": 1,
         "values": 0,
         "groupBy": 0,
         "slice": 1,
         "triples": 1,
         "extend": 0,
         "filter_not_exists": 0,
         "leftJoin": 0,
         "minus": 0,
         "notexist": 0,
         "sample": 0,
         "count": 0,
         "having": 0,
         "pathWithStar": 0,
         "pathWithPlus": 0,
         "pathWithQuestionMark": 0,
         "pathWithInv": 0,
         "pathWithSequence": 0,
         "pathWithAlternative": 0,
         "triplesSet": "[[\"var1\", \"var2\", \"var3\"]]",
         "limit": 1,
         "limitValue": 1,
         "offset": 1,
         "offsetValue": 1987999999,
         "complexPathWith": 0,
         "simplePathWith": 0,
         "algebraTree": "SelectQuery_SelectQuery_{'p': Slice_{'p': Project_{'p': BGP_{'triples': [(rdflib.term.Variable('var…",
         "algebraTreeMD5": "4e891385635506ee71a4323de5b3daea",
         "graph": "DiGraph with 2 nodes and 1 edges",
         "cycleNumber": 0,
         "graphDump": "gASVSwEAAAAAAACMGG5ldHdvcmt4LmNsYXNzZXMuZGlncmFwaJSMB0RpR3JhcGiUk5QpgZR9lCiMF2dyYXBoX2F0dHJfZGljdF9…",
         "isForest": 1,
         "numberOfNodes": 2,
         "numberOfEdges": 1,
         "treewidth": 1,
         "isTree": 1,
         "averageDegree": 1,
         "maxCliqueWeigth": 2,
         "file_path": "data/parsed/I1_status500_Joined.parsed.tsv",
         "interval": 1,
         "has_variable": true,
         "has_filter": false,
         "has_orderby": false,
         "has_limit": true,
         "has_select": true,
         "has_distinct": false,
         "has_modify": false,
         "has_tomultiset": false,
         "has_join": false,
         "has_bgp": true,
         "has_project": true,
         "has_union": false,
         "has_values": false,
         "has_slice": true,
         "has_offset": true,
         "_deepnote_index_column": 14
        }
       ]
      },
      "text/plain": "                                         anonymizedQuery            timestamp  \\\n0      SELECT+%3Fvar1++%3Fvar1Label++%3Fvar2+%28++CON...  2017-06-12 00:16:34   \n6      SELECT+DISTINCT+%3Fvar1++%3Fvar2+%0AWHERE+%7B%...  2017-06-12 01:02:37   \n7      SELECT+%3Fvar1+%0AWHERE+%7B%0A++%3Fvar1++%3Cht...  2017-06-12 01:26:31   \n8      SELECT+DISTINCT+%3Fvar1+%0AWHERE+%7B%0A++%3Fva...  2017-06-12 01:37:49   \n9      SELECT+%3Fvar1++%3Fvar2++%3Fvar3+%0AWHERE+%7B%...  2017-06-12 02:04:47   \n...                                                  ...                  ...   \n42111  SELECT+DISTINCT+%3Fvar1++%3Fvar2+%0AWHERE+%7B%...  2018-03-25 23:20:07   \n42112  SELECT+DISTINCT+%3Fvar1+%0AWHERE+%7B%0A++%3Fva...  2018-03-25 23:31:13   \n42114  SELECT+%3Fvar1+%0AWHERE+%7B%0A++%3Fvar1++%3Cht...  2018-03-25 23:53:30   \n42115  SELECT+*%0AWHERE+%7B%0A++%3Fvar1++%3Chttp%3A%2...  2018-03-25 23:53:30   \n42116  SELECT+DISTINCT+%3Fvar1++%3Fvar2+%0AWHERE+%7B%...  2018-03-25 23:54:01   \n\n      sourceCategory user_agent  var_cpt  filter  orderby  select  distinct  \\\n0            robotic       bot2        9       1        1       1         0   \n6            robotic       bot2        7       1        1       1         1   \n7            robotic       bot2        2       1        0       1         0   \n8            robotic       bot2        1       0        0       1         1   \n9            robotic    UNKNOWN        3       1        1       1         0   \n...              ...        ...      ...     ...      ...     ...       ...   \n42111        robotic  orcid_bot        3       0        1       1         1   \n42112        robotic    UNKNOWN        2       1        0       1         1   \n42114        robotic    UNKNOWN        2       1        0       1         0   \n42115        robotic    UNKNOWN        3       1        0       1         0   \n42116        robotic  orcid_bot        3       0        1       1         1   \n\n       join  project  tomultiset  union  modify  bgp  values  groupBy  slice  \\\n0         6        1           0      0       0    1       0        0      1   \n6         9        1           0      0       0    2       0        0      0   \n7         2        1           0      0       0    1       0        0      0   \n8         2        1           0      0       0    1       0        0      0   \n9         3        1           0      0       0    1       0        0      1   \n...     ...      ...         ...    ...     ...  ...     ...      ...    ...   \n42111     3        1           0      0       0    3       0        0      1   \n42112     2        1           0      0       0    1       0        0      0   \n42114     1        1           0      0       0    1       0        0      1   \n42115     3        1           0      0       0    1       0        0      0   \n42116     3        1           0      0       0    3       0        0      1   \n\n       triples  extend  filter_not_exists  leftJoin  minus  notexist  sample  \\\n0            6       1                  0         0      0         0       0   \n6            9       1                  0         0      0         0       0   \n7            2       0                  1         0      0         1       0   \n8            2       0                  0         0      0         0       0   \n9            4       0                  0         0      0         0       0   \n...        ...     ...                ...       ...    ...       ...     ...   \n42111        6       0                  0         0      2         0       0   \n42112        3       0                  0         0      0         0       0   \n42114        1       0                  0         0      0         0       0   \n42115        4       0                  0         0      0         0       0   \n42116        6       0                  0         0      2         0       0   \n\n       count  having  pathWithStar  pathWithPlus  pathWithQuestionMark  \\\n0          0       2             0             0                     0   \n6          0       5             0             0                     0   \n7          0       0             1             0                     0   \n8          0       0             0             0                     0   \n9          0       3             1             0                     0   \n...      ...     ...           ...           ...                   ...   \n42111      0       0             0             0                     0   \n42112      0       1             0             0                     0   \n42114      0       0             0             0                     0   \n42115      0       1             0             0                     0   \n42116      0       0             0             0                     0   \n\n       pathWithInv  pathWithSequence  pathWithAlternative  \\\n0                0                 0                    0   \n6                0                 2                    0   \n7                0                 1                    0   \n8                0                 0                    0   \n9                0                 1                    0   \n...            ...               ...                  ...   \n42111            0                 0                    0   \n42112            0                 0                    0   \n42114            0                 0                    0   \n42115            0                 0                    0   \n42116            0                 0                    0   \n\n                                              triplesSet  limit  limitValue  \\\n0      [[\"http://www.bigdata.com/queryHints#Query\", \"...      1        5000   \n6      [[\"var1\", \"http://www.wikidata.org/prop/direct...      0           0   \n7      [[\"var1\", \"Path(http://www.wikidata.org/prop/d...      0           0   \n8      [[\"var1\", \"http://www.wikidata.org/prop/direct...      0           0   \n9      [[\"var1\", \"Path(http://www.wikidata.org/prop/d...      1           5   \n...                                                  ...    ...         ...   \n42111  [[\"var1\", \"http://www.wikidata.org/prop/direct...      1        2000   \n42112  [[\"var1\", \"http://www.wikidata.org/prop/direct...      0           0   \n42114  [[\"var1\", \"http://www.wikidata.org/prop/direct...      1           1   \n42115  [[\"var3\", \"http://schema.org/inLanguage\", \"en\"...      0           0   \n42116  [[\"var1\", \"http://www.wikidata.org/prop/direct...      1        2000   \n\n       offset  offsetValue  complexPathWith  simplePathWith  \\\n0           0            0                0               0   \n6           0            0                0               2   \n7           0            0                1               1   \n8           0            0                0               0   \n9           0            0                1               1   \n...       ...          ...              ...             ...   \n42111       0            0                0               0   \n42112       0            0                0               0   \n42114       0            0                0               0   \n42115       0            0                0               0   \n42116       0            0                0               0   \n\n                                             algebraTree  \\\n0      SelectQuery_SelectQuery_{'p': Slice_{'p': Proj...   \n6      SelectQuery_SelectQuery_{'p': Distinct_{'p': P...   \n7      SelectQuery_SelectQuery_{'p': Project_{'p': Fi...   \n8      SelectQuery_SelectQuery_{'p': Distinct_{'p': P...   \n9      SelectQuery_SelectQuery_{'p': Slice_{'p': Proj...   \n...                                                  ...   \n42111  SelectQuery_SelectQuery_{'p': Slice_{'p': Dist...   \n42112  SelectQuery_SelectQuery_{'p': Distinct_{'p': P...   \n42114  SelectQuery_SelectQuery_{'p': Slice_{'p': Proj...   \n42115  SelectQuery_SelectQuery_{'p': Project_{'p': Fi...   \n42116  SelectQuery_SelectQuery_{'p': Slice_{'p': Dist...   \n\n                         algebraTreeMD5                              graph  \\\n0      159f12f8ddbdd06954496911da0816cc  DiGraph with 11 nodes and 7 edges   \n6      b783c3c55117996138540535038caf13   DiGraph with 9 nodes and 9 edges   \n7      4695923a7d3eee0eb38ae8071a5df3de   DiGraph with 5 nodes and 3 edges   \n8      2a7f06bc544f2657ade05cd3c9b9a020   DiGraph with 5 nodes and 3 edges   \n9      3ec9d4aaf5ab34e5ddaff3f02996731d   DiGraph with 5 nodes and 4 edges   \n...                                 ...                                ...   \n42111  6a54b016a76d28f70c0f70c79536fd82   DiGraph with 7 nodes and 6 edges   \n42112  501f5477d62cc8397ce5f292acb48fc8   DiGraph with 4 nodes and 3 edges   \n42114  f4fe4a000cabd8a8516491abb0694491   DiGraph with 4 nodes and 2 edges   \n42115  ddf92f66b1b19b6a6b1658bcf90557ac   DiGraph with 5 nodes and 4 edges   \n42116  3793e16679d200a838ac46c687eafb0c   DiGraph with 7 nodes and 6 edges   \n\n       cycleNumber                                          graphDump  \\\n0                0  gASVyAIAAAAAAACMGG5ldHdvcmt4LmNsYXNzZXMuZGlncm...   \n6                0  gASVagIAAAAAAACMGG5ldHdvcmt4LmNsYXNzZXMuZGlncm...   \n7                0  gASVKgIAAAAAAACMGG5ldHdvcmt4LmNsYXNzZXMuZGlncm...   \n8                0  gASVSwIAAAAAAACMGG5ldHdvcmt4LmNsYXNzZXMuZGlncm...   \n9                0  gASV4wEAAAAAAACMGG5ldHdvcmt4LmNsYXNzZXMuZGlncm...   \n...            ...                                                ...   \n42111            0  gASVZAIAAAAAAACMGG5ldHdvcmt4LmNsYXNzZXMuZGlncm...   \n42112            0  gASVxAEAAAAAAACMGG5ldHdvcmt4LmNsYXNzZXMuZGlncm...   \n42114            0  gASVyQEAAAAAAACMGG5ldHdvcmt4LmNsYXNzZXMuZGlncm...   \n42115            0  gASVvQEAAAAAAACMGG5ldHdvcmt4LmNsYXNzZXMuZGlncm...   \n42116            0  gASVZAIAAAAAAACMGG5ldHdvcmt4LmNsYXNzZXMuZGlncm...   \n\n       isForest  numberOfNodes  numberOfEdges  treewidth  isTree  \\\n0             1             11              7          1       0   \n6             0              9              9          2       0   \n7             1              5              3          1       0   \n8             1              5              3          1       0   \n9             1              5              4          1       1   \n...         ...            ...            ...        ...     ...   \n42111         1              7              6          1       1   \n42112         1              4              3          1       1   \n42114         1              4              2          1       0   \n42115         1              5              4          1       1   \n42116         1              7              6          1       1   \n\n       averageDegree  maxCliqueWeigth  \\\n0           1.272727                2   \n6           2.000000                2   \n7           1.200000                2   \n8           1.200000                2   \n9           1.600000                2   \n...              ...              ...   \n42111       1.714286                2   \n42112       1.500000                2   \n42114       1.000000                2   \n42115       1.600000                2   \n42116       1.714286                2   \n\n                                        file_path  interval  has_variable  \\\n0      data/parsed/I1_status500_Joined.parsed.tsv         1          True   \n6      data/parsed/I1_status500_Joined.parsed.tsv         1          True   \n7      data/parsed/I1_status500_Joined.parsed.tsv         1          True   \n8      data/parsed/I1_status500_Joined.parsed.tsv         1          True   \n9      data/parsed/I1_status500_Joined.parsed.tsv         1          True   \n...                                           ...       ...           ...   \n42111  data/parsed/I7_status500_Joined.parsed.tsv         7          True   \n42112  data/parsed/I7_status500_Joined.parsed.tsv         7          True   \n42114  data/parsed/I7_status500_Joined.parsed.tsv         7          True   \n42115  data/parsed/I7_status500_Joined.parsed.tsv         7          True   \n42116  data/parsed/I7_status500_Joined.parsed.tsv         7          True   \n\n       has_filter  has_orderby  has_limit  has_select  has_distinct  \\\n0            True         True       True        True         False   \n6            True         True      False        True          True   \n7            True        False      False        True         False   \n8           False        False      False        True          True   \n9            True         True       True        True         False   \n...           ...          ...        ...         ...           ...   \n42111       False         True       True        True          True   \n42112        True        False      False        True          True   \n42114        True        False       True        True         False   \n42115        True        False      False        True         False   \n42116       False         True       True        True          True   \n\n       has_modify  has_tomultiset  has_join  has_bgp  has_project  has_union  \\\n0           False           False      True     True         True      False   \n6           False           False      True     True         True      False   \n7           False           False      True     True         True      False   \n8           False           False      True     True         True      False   \n9           False           False      True     True         True      False   \n...           ...             ...       ...      ...          ...        ...   \n42111       False           False      True     True         True      False   \n42112       False           False      True     True         True      False   \n42114       False           False      True     True         True      False   \n42115       False           False      True     True         True      False   \n42116       False           False      True     True         True      False   \n\n       has_values  has_slice  has_offset  \n0           False       True       False  \n6           False      False       False  \n7           False      False       False  \n8           False      False       False  \n9           False       True       False  \n...           ...        ...         ...  \n42111       False       True       False  \n42112       False      False       False  \n42114       False       True       False  \n42115       False      False       False  \n42116       False       True       False  \n\n[18039 rows x 69 columns]",
      "text/html": "<div>\n<style scoped>\n    .dataframe tbody tr th:only-of-type {\n        vertical-align: middle;\n    }\n\n    .dataframe tbody tr th {\n        vertical-align: top;\n    }\n\n    .dataframe thead th {\n        text-align: right;\n    }\n</style>\n<table border=\"1\" class=\"dataframe\">\n  <thead>\n    <tr style=\"text-align: right;\">\n      <th></th>\n      <th>anonymizedQuery</th>\n      <th>timestamp</th>\n      <th>sourceCategory</th>\n      <th>user_agent</th>\n      <th>var_cpt</th>\n      <th>filter</th>\n      <th>orderby</th>\n      <th>select</th>\n      <th>distinct</th>\n      <th>join</th>\n      <th>project</th>\n      <th>tomultiset</th>\n      <th>union</th>\n      <th>modify</th>\n      <th>bgp</th>\n      <th>values</th>\n      <th>groupBy</th>\n      <th>slice</th>\n      <th>triples</th>\n      <th>extend</th>\n      <th>filter_not_exists</th>\n      <th>leftJoin</th>\n      <th>minus</th>\n      <th>notexist</th>\n      <th>sample</th>\n      <th>count</th>\n      <th>having</th>\n      <th>pathWithStar</th>\n      <th>pathWithPlus</th>\n      <th>pathWithQuestionMark</th>\n      <th>pathWithInv</th>\n      <th>pathWithSequence</th>\n      <th>pathWithAlternative</th>\n      <th>triplesSet</th>\n      <th>limit</th>\n      <th>limitValue</th>\n      <th>offset</th>\n      <th>offsetValue</th>\n      <th>complexPathWith</th>\n      <th>simplePathWith</th>\n      <th>algebraTree</th>\n      <th>algebraTreeMD5</th>\n      <th>graph</th>\n      <th>cycleNumber</th>\n      <th>graphDump</th>\n      <th>isForest</th>\n      <th>numberOfNodes</th>\n      <th>numberOfEdges</th>\n      <th>treewidth</th>\n      <th>isTree</th>\n      <th>averageDegree</th>\n      <th>maxCliqueWeigth</th>\n      <th>file_path</th>\n      <th>interval</th>\n      <th>has_variable</th>\n      <th>has_filter</th>\n      <th>has_orderby</th>\n      <th>has_limit</th>\n      <th>has_select</th>\n      <th>has_distinct</th>\n      <th>has_modify</th>\n      <th>has_tomultiset</th>\n      <th>has_join</th>\n      <th>has_bgp</th>\n      <th>has_project</th>\n      <th>has_union</th>\n      <th>has_values</th>\n      <th>has_slice</th>\n      <th>has_offset</th>\n    </tr>\n  </thead>\n  <tbody>\n    <tr>\n      <th>0</th>\n      <td>SELECT+%3Fvar1++%3Fvar1Label++%3Fvar2+%28++CON...</td>\n      <td>2017-06-12 00:16:34</td>\n      <td>robotic</td>\n      <td>bot2</td>\n      <td>9</td>\n      <td>1</td>\n      <td>1</td>\n      <td>1</td>\n      <td>0</td>\n      <td>6</td>\n      <td>1</td>\n      <td>0</td>\n      <td>0</td>\n      <td>0</td>\n      <td>1</td>\n      <td>0</td>\n      <td>0</td>\n      <td>1</td>\n      <td>6</td>\n      <td>1</td>\n      <td>0</td>\n      <td>0</td>\n      <td>0</td>\n      <td>0</td>\n      <td>0</td>\n      <td>0</td>\n      <td>2</td>\n      <td>0</td>\n      <td>0</td>\n      <td>0</td>\n      <td>0</td>\n      <td>0</td>\n      <td>0</td>\n      <td>[[\"http://www.bigdata.com/queryHints#Query\", \"...</td>\n      <td>1</td>\n      <td>5000</td>\n      <td>0</td>\n      <td>0</td>\n      <td>0</td>\n      <td>0</td>\n      <td>SelectQuery_SelectQuery_{'p': Slice_{'p': Proj...</td>\n      <td>159f12f8ddbdd06954496911da0816cc</td>\n      <td>DiGraph with 11 nodes and 7 edges</td>\n      <td>0</td>\n      <td>gASVyAIAAAAAAACMGG5ldHdvcmt4LmNsYXNzZXMuZGlncm...</td>\n      <td>1</td>\n      <td>11</td>\n      <td>7</td>\n      <td>1</td>\n      <td>0</td>\n      <td>1.272727</td>\n      <td>2</td>\n      <td>data/parsed/I1_status500_Joined.parsed.tsv</td>\n      <td>1</td>\n      <td>True</td>\n      <td>True</td>\n      <td>True</td>\n      <td>True</td>\n      <td>True</td>\n      <td>False</td>\n      <td>False</td>\n      <td>False</td>\n      <td>True</td>\n      <td>True</td>\n      <td>True</td>\n      <td>False</td>\n      <td>False</td>\n      <td>True</td>\n      <td>False</td>\n    </tr>\n    <tr>\n      <th>6</th>\n      <td>SELECT+DISTINCT+%3Fvar1++%3Fvar2+%0AWHERE+%7B%...</td>\n      <td>2017-06-12 01:02:37</td>\n      <td>robotic</td>\n      <td>bot2</td>\n      <td>7</td>\n      <td>1</td>\n      <td>1</td>\n      <td>1</td>\n      <td>1</td>\n      <td>9</td>\n      <td>1</td>\n      <td>0</td>\n      <td>0</td>\n      <td>0</td>\n      <td>2</td>\n      <td>0</td>\n      <td>0</td>\n      <td>0</td>\n      <td>9</td>\n      <td>1</td>\n      <td>0</td>\n      <td>0</td>\n      <td>0</td>\n      <td>0</td>\n      <td>0</td>\n      <td>0</td>\n      <td>5</td>\n      <td>0</td>\n      <td>0</td>\n      <td>0</td>\n      <td>0</td>\n      <td>2</td>\n      <td>0</td>\n      <td>[[\"var1\", \"http://www.wikidata.org/prop/direct...</td>\n      <td>0</td>\n      <td>0</td>\n      <td>0</td>\n      <td>0</td>\n      <td>0</td>\n      <td>2</td>\n      <td>SelectQuery_SelectQuery_{'p': Distinct_{'p': P...</td>\n      <td>b783c3c55117996138540535038caf13</td>\n      <td>DiGraph with 9 nodes and 9 edges</td>\n      <td>0</td>\n      <td>gASVagIAAAAAAACMGG5ldHdvcmt4LmNsYXNzZXMuZGlncm...</td>\n      <td>0</td>\n      <td>9</td>\n      <td>9</td>\n      <td>2</td>\n      <td>0</td>\n      <td>2.000000</td>\n      <td>2</td>\n      <td>data/parsed/I1_status500_Joined.parsed.tsv</td>\n      <td>1</td>\n      <td>True</td>\n      <td>True</td>\n      <td>True</td>\n      <td>False</td>\n      <td>True</td>\n      <td>True</td>\n      <td>False</td>\n      <td>False</td>\n      <td>True</td>\n      <td>True</td>\n      <td>True</td>\n      <td>False</td>\n      <td>False</td>\n      <td>False</td>\n      <td>False</td>\n    </tr>\n    <tr>\n      <th>7</th>\n      <td>SELECT+%3Fvar1+%0AWHERE+%7B%0A++%3Fvar1++%3Cht...</td>\n      <td>2017-06-12 01:26:31</td>\n      <td>robotic</td>\n      <td>bot2</td>\n      <td>2</td>\n      <td>1</td>\n      <td>0</td>\n      <td>1</td>\n      <td>0</td>\n      <td>2</td>\n      <td>1</td>\n      <td>0</td>\n      <td>0</td>\n      <td>0</td>\n      <td>1</td>\n      <td>0</td>\n      <td>0</td>\n      <td>0</td>\n      <td>2</td>\n      <td>0</td>\n      <td>1</td>\n      <td>0</td>\n      <td>0</td>\n      <td>1</td>\n      <td>0</td>\n      <td>0</td>\n      <td>0</td>\n      <td>1</td>\n      <td>0</td>\n      <td>0</td>\n      <td>0</td>\n      <td>1</td>\n      <td>0</td>\n      <td>[[\"var1\", \"Path(http://www.wikidata.org/prop/d...</td>\n      <td>0</td>\n      <td>0</td>\n      <td>0</td>\n      <td>0</td>\n      <td>1</td>\n      <td>1</td>\n      <td>SelectQuery_SelectQuery_{'p': Project_{'p': Fi...</td>\n      <td>4695923a7d3eee0eb38ae8071a5df3de</td>\n      <td>DiGraph with 5 nodes and 3 edges</td>\n      <td>0</td>\n      <td>gASVKgIAAAAAAACMGG5ldHdvcmt4LmNsYXNzZXMuZGlncm...</td>\n      <td>1</td>\n      <td>5</td>\n      <td>3</td>\n      <td>1</td>\n      <td>0</td>\n      <td>1.200000</td>\n      <td>2</td>\n      <td>data/parsed/I1_status500_Joined.parsed.tsv</td>\n      <td>1</td>\n      <td>True</td>\n      <td>True</td>\n      <td>False</td>\n      <td>False</td>\n      <td>True</td>\n      <td>False</td>\n      <td>False</td>\n      <td>False</td>\n      <td>True</td>\n      <td>True</td>\n      <td>True</td>\n      <td>False</td>\n      <td>False</td>\n      <td>False</td>\n      <td>False</td>\n    </tr>\n    <tr>\n      <th>8</th>\n      <td>SELECT+DISTINCT+%3Fvar1+%0AWHERE+%7B%0A++%3Fva...</td>\n      <td>2017-06-12 01:37:49</td>\n      <td>robotic</td>\n      <td>bot2</td>\n      <td>1</td>\n      <td>0</td>\n      <td>0</td>\n      <td>1</td>\n      <td>1</td>\n      <td>2</td>\n      <td>1</td>\n      <td>0</td>\n      <td>0</td>\n      <td>0</td>\n      <td>1</td>\n      <td>0</td>\n      <td>0</td>\n      <td>0</td>\n      <td>2</td>\n      <td>0</td>\n      <td>0</td>\n      <td>0</td>\n      <td>0</td>\n      <td>0</td>\n      <td>0</td>\n      <td>0</td>\n      <td>0</td>\n      <td>0</td>\n      <td>0</td>\n      <td>0</td>\n      <td>0</td>\n      <td>0</td>\n      <td>0</td>\n      <td>[[\"var1\", \"http://www.wikidata.org/prop/direct...</td>\n      <td>0</td>\n      <td>0</td>\n      <td>0</td>\n      <td>0</td>\n      <td>0</td>\n      <td>0</td>\n      <td>SelectQuery_SelectQuery_{'p': Distinct_{'p': P...</td>\n      <td>2a7f06bc544f2657ade05cd3c9b9a020</td>\n      <td>DiGraph with 5 nodes and 3 edges</td>\n      <td>0</td>\n      <td>gASVSwIAAAAAAACMGG5ldHdvcmt4LmNsYXNzZXMuZGlncm...</td>\n      <td>1</td>\n      <td>5</td>\n      <td>3</td>\n      <td>1</td>\n      <td>0</td>\n      <td>1.200000</td>\n      <td>2</td>\n      <td>data/parsed/I1_status500_Joined.parsed.tsv</td>\n      <td>1</td>\n      <td>True</td>\n      <td>False</td>\n      <td>False</td>\n      <td>False</td>\n      <td>True</td>\n      <td>True</td>\n      <td>False</td>\n      <td>False</td>\n      <td>True</td>\n      <td>True</td>\n      <td>True</td>\n      <td>False</td>\n      <td>False</td>\n      <td>False</td>\n      <td>False</td>\n    </tr>\n    <tr>\n      <th>9</th>\n      <td>SELECT+%3Fvar1++%3Fvar2++%3Fvar3+%0AWHERE+%7B%...</td>\n      <td>2017-06-12 02:04:47</td>\n      <td>robotic</td>\n      <td>UNKNOWN</td>\n      <td>3</td>\n      <td>1</td>\n      <td>1</td>\n      <td>1</td>\n      <td>0</td>\n      <td>3</td>\n      <td>1</td>\n      <td>0</td>\n      <td>0</td>\n      <td>0</td>\n      <td>1</td>\n      <td>0</td>\n      <td>0</td>\n      <td>1</td>\n      <td>4</td>\n      <td>0</td>\n      <td>0</td>\n      <td>0</td>\n      <td>0</td>\n      <td>0</td>\n      <td>0</td>\n      <td>0</td>\n      <td>3</td>\n      <td>1</td>\n      <td>0</td>\n      <td>0</td>\n      <td>0</td>\n      <td>1</td>\n      <td>0</td>\n      <td>[[\"var1\", \"Path(http://www.wikidata.org/prop/d...</td>\n      <td>1</td>\n      <td>5</td>\n      <td>0</td>\n      <td>0</td>\n      <td>1</td>\n      <td>1</td>\n      <td>SelectQuery_SelectQuery_{'p': Slice_{'p': Proj...</td>\n      <td>3ec9d4aaf5ab34e5ddaff3f02996731d</td>\n      <td>DiGraph with 5 nodes and 4 edges</td>\n      <td>0</td>\n      <td>gASV4wEAAAAAAACMGG5ldHdvcmt4LmNsYXNzZXMuZGlncm...</td>\n      <td>1</td>\n      <td>5</td>\n      <td>4</td>\n      <td>1</td>\n      <td>1</td>\n      <td>1.600000</td>\n      <td>2</td>\n      <td>data/parsed/I1_status500_Joined.parsed.tsv</td>\n      <td>1</td>\n      <td>True</td>\n      <td>True</td>\n      <td>True</td>\n      <td>True</td>\n      <td>True</td>\n      <td>False</td>\n      <td>False</td>\n      <td>False</td>\n      <td>True</td>\n      <td>True</td>\n      <td>True</td>\n      <td>False</td>\n      <td>False</td>\n      <td>True</td>\n      <td>False</td>\n    </tr>\n    <tr>\n      <th>...</th>\n      <td>...</td>\n      <td>...</td>\n      <td>...</td>\n      <td>...</td>\n      <td>...</td>\n      <td>...</td>\n      <td>...</td>\n      <td>...</td>\n      <td>...</td>\n      <td>...</td>\n      <td>...</td>\n      <td>...</td>\n      <td>...</td>\n      <td>...</td>\n      <td>...</td>\n      <td>...</td>\n      <td>...</td>\n      <td>...</td>\n      <td>...</td>\n      <td>...</td>\n      <td>...</td>\n      <td>...</td>\n      <td>...</td>\n      <td>...</td>\n      <td>...</td>\n      <td>...</td>\n      <td>...</td>\n      <td>...</td>\n      <td>...</td>\n      <td>...</td>\n      <td>...</td>\n      <td>...</td>\n      <td>...</td>\n      <td>...</td>\n      <td>...</td>\n      <td>...</td>\n      <td>...</td>\n      <td>...</td>\n      <td>...</td>\n      <td>...</td>\n      <td>...</td>\n      <td>...</td>\n      <td>...</td>\n      <td>...</td>\n      <td>...</td>\n      <td>...</td>\n      <td>...</td>\n      <td>...</td>\n      <td>...</td>\n      <td>...</td>\n      <td>...</td>\n      <td>...</td>\n      <td>...</td>\n      <td>...</td>\n      <td>...</td>\n      <td>...</td>\n      <td>...</td>\n      <td>...</td>\n      <td>...</td>\n      <td>...</td>\n      <td>...</td>\n      <td>...</td>\n      <td>...</td>\n      <td>...</td>\n      <td>...</td>\n      <td>...</td>\n      <td>...</td>\n      <td>...</td>\n      <td>...</td>\n    </tr>\n    <tr>\n      <th>42111</th>\n      <td>SELECT+DISTINCT+%3Fvar1++%3Fvar2+%0AWHERE+%7B%...</td>\n      <td>2018-03-25 23:20:07</td>\n      <td>robotic</td>\n      <td>orcid_bot</td>\n      <td>3</td>\n      <td>0</td>\n      <td>1</td>\n      <td>1</td>\n      <td>1</td>\n      <td>3</td>\n      <td>1</td>\n      <td>0</td>\n      <td>0</td>\n      <td>0</td>\n      <td>3</td>\n      <td>0</td>\n      <td>0</td>\n      <td>1</td>\n      <td>6</td>\n      <td>0</td>\n      <td>0</td>\n      <td>0</td>\n      <td>2</td>\n      <td>0</td>\n      <td>0</td>\n      <td>0</td>\n      <td>0</td>\n      <td>0</td>\n      <td>0</td>\n      <td>0</td>\n      <td>0</td>\n      <td>0</td>\n      <td>0</td>\n      <td>[[\"var1\", \"http://www.wikidata.org/prop/direct...</td>\n      <td>1</td>\n      <td>2000</td>\n      <td>0</td>\n      <td>0</td>\n      <td>0</td>\n      <td>0</td>\n      <td>SelectQuery_SelectQuery_{'p': Slice_{'p': Dist...</td>\n      <td>6a54b016a76d28f70c0f70c79536fd82</td>\n      <td>DiGraph with 7 nodes and 6 edges</td>\n      <td>0</td>\n      <td>gASVZAIAAAAAAACMGG5ldHdvcmt4LmNsYXNzZXMuZGlncm...</td>\n      <td>1</td>\n      <td>7</td>\n      <td>6</td>\n      <td>1</td>\n      <td>1</td>\n      <td>1.714286</td>\n      <td>2</td>\n      <td>data/parsed/I7_status500_Joined.parsed.tsv</td>\n      <td>7</td>\n      <td>True</td>\n      <td>False</td>\n      <td>True</td>\n      <td>True</td>\n      <td>True</td>\n      <td>True</td>\n      <td>False</td>\n      <td>False</td>\n      <td>True</td>\n      <td>True</td>\n      <td>True</td>\n      <td>False</td>\n      <td>False</td>\n      <td>True</td>\n      <td>False</td>\n    </tr>\n    <tr>\n      <th>42112</th>\n      <td>SELECT+DISTINCT+%3Fvar1+%0AWHERE+%7B%0A++%3Fva...</td>\n      <td>2018-03-25 23:31:13</td>\n      <td>robotic</td>\n      <td>UNKNOWN</td>\n      <td>2</td>\n      <td>1</td>\n      <td>0</td>\n      <td>1</td>\n      <td>1</td>\n      <td>2</td>\n      <td>1</td>\n      <td>0</td>\n      <td>0</td>\n      <td>0</td>\n      <td>1</td>\n      <td>0</td>\n      <td>0</td>\n      <td>0</td>\n      <td>3</td>\n      <td>0</td>\n      <td>0</td>\n      <td>0</td>\n      <td>0</td>\n      <td>0</td>\n      <td>0</td>\n      <td>0</td>\n      <td>1</td>\n      <td>0</td>\n      <td>0</td>\n      <td>0</td>\n      <td>0</td>\n      <td>0</td>\n      <td>0</td>\n      <td>[[\"var1\", \"http://www.wikidata.org/prop/direct...</td>\n      <td>0</td>\n      <td>0</td>\n      <td>0</td>\n      <td>0</td>\n      <td>0</td>\n      <td>0</td>\n      <td>SelectQuery_SelectQuery_{'p': Distinct_{'p': P...</td>\n      <td>501f5477d62cc8397ce5f292acb48fc8</td>\n      <td>DiGraph with 4 nodes and 3 edges</td>\n      <td>0</td>\n      <td>gASVxAEAAAAAAACMGG5ldHdvcmt4LmNsYXNzZXMuZGlncm...</td>\n      <td>1</td>\n      <td>4</td>\n      <td>3</td>\n      <td>1</td>\n      <td>1</td>\n      <td>1.500000</td>\n      <td>2</td>\n      <td>data/parsed/I7_status500_Joined.parsed.tsv</td>\n      <td>7</td>\n      <td>True</td>\n      <td>True</td>\n      <td>False</td>\n      <td>False</td>\n      <td>True</td>\n      <td>True</td>\n      <td>False</td>\n      <td>False</td>\n      <td>True</td>\n      <td>True</td>\n      <td>True</td>\n      <td>False</td>\n      <td>False</td>\n      <td>False</td>\n      <td>False</td>\n    </tr>\n    <tr>\n      <th>42114</th>\n      <td>SELECT+%3Fvar1+%0AWHERE+%7B%0A++%3Fvar1++%3Cht...</td>\n      <td>2018-03-25 23:53:30</td>\n      <td>robotic</td>\n      <td>UNKNOWN</td>\n      <td>2</td>\n      <td>1</td>\n      <td>0</td>\n      <td>1</td>\n      <td>0</td>\n      <td>1</td>\n      <td>1</td>\n      <td>0</td>\n      <td>0</td>\n      <td>0</td>\n      <td>1</td>\n      <td>0</td>\n      <td>0</td>\n      <td>1</td>\n      <td>1</td>\n      <td>0</td>\n      <td>0</td>\n      <td>0</td>\n      <td>0</td>\n      <td>0</td>\n      <td>0</td>\n      <td>0</td>\n      <td>0</td>\n      <td>0</td>\n      <td>0</td>\n      <td>0</td>\n      <td>0</td>\n      <td>0</td>\n      <td>0</td>\n      <td>[[\"var1\", \"http://www.wikidata.org/prop/direct...</td>\n      <td>1</td>\n      <td>1</td>\n      <td>0</td>\n      <td>0</td>\n      <td>0</td>\n      <td>0</td>\n      <td>SelectQuery_SelectQuery_{'p': Slice_{'p': Proj...</td>\n      <td>f4fe4a000cabd8a8516491abb0694491</td>\n      <td>DiGraph with 4 nodes and 2 edges</td>\n      <td>0</td>\n      <td>gASVyQEAAAAAAACMGG5ldHdvcmt4LmNsYXNzZXMuZGlncm...</td>\n      <td>1</td>\n      <td>4</td>\n      <td>2</td>\n      <td>1</td>\n      <td>0</td>\n      <td>1.000000</td>\n      <td>2</td>\n      <td>data/parsed/I7_status500_Joined.parsed.tsv</td>\n      <td>7</td>\n      <td>True</td>\n      <td>True</td>\n      <td>False</td>\n      <td>True</td>\n      <td>True</td>\n      <td>False</td>\n      <td>False</td>\n      <td>False</td>\n      <td>True</td>\n      <td>True</td>\n      <td>True</td>\n      <td>False</td>\n      <td>False</td>\n      <td>True</td>\n      <td>False</td>\n    </tr>\n    <tr>\n      <th>42115</th>\n      <td>SELECT+*%0AWHERE+%7B%0A++%3Fvar1++%3Chttp%3A%2...</td>\n      <td>2018-03-25 23:53:30</td>\n      <td>robotic</td>\n      <td>UNKNOWN</td>\n      <td>3</td>\n      <td>1</td>\n      <td>0</td>\n      <td>1</td>\n      <td>0</td>\n      <td>3</td>\n      <td>1</td>\n      <td>0</td>\n      <td>0</td>\n      <td>0</td>\n      <td>1</td>\n      <td>0</td>\n      <td>0</td>\n      <td>0</td>\n      <td>4</td>\n      <td>0</td>\n      <td>0</td>\n      <td>0</td>\n      <td>0</td>\n      <td>0</td>\n      <td>0</td>\n      <td>0</td>\n      <td>1</td>\n      <td>0</td>\n      <td>0</td>\n      <td>0</td>\n      <td>0</td>\n      <td>0</td>\n      <td>0</td>\n      <td>[[\"var3\", \"http://schema.org/inLanguage\", \"en\"...</td>\n      <td>0</td>\n      <td>0</td>\n      <td>0</td>\n      <td>0</td>\n      <td>0</td>\n      <td>0</td>\n      <td>SelectQuery_SelectQuery_{'p': Project_{'p': Fi...</td>\n      <td>ddf92f66b1b19b6a6b1658bcf90557ac</td>\n      <td>DiGraph with 5 nodes and 4 edges</td>\n      <td>0</td>\n      <td>gASVvQEAAAAAAACMGG5ldHdvcmt4LmNsYXNzZXMuZGlncm...</td>\n      <td>1</td>\n      <td>5</td>\n      <td>4</td>\n      <td>1</td>\n      <td>1</td>\n      <td>1.600000</td>\n      <td>2</td>\n      <td>data/parsed/I7_status500_Joined.parsed.tsv</td>\n      <td>7</td>\n      <td>True</td>\n      <td>True</td>\n      <td>False</td>\n      <td>False</td>\n      <td>True</td>\n      <td>False</td>\n      <td>False</td>\n      <td>False</td>\n      <td>True</td>\n      <td>True</td>\n      <td>True</td>\n      <td>False</td>\n      <td>False</td>\n      <td>False</td>\n      <td>False</td>\n    </tr>\n    <tr>\n      <th>42116</th>\n      <td>SELECT+DISTINCT+%3Fvar1++%3Fvar2+%0AWHERE+%7B%...</td>\n      <td>2018-03-25 23:54:01</td>\n      <td>robotic</td>\n      <td>orcid_bot</td>\n      <td>3</td>\n      <td>0</td>\n      <td>1</td>\n      <td>1</td>\n      <td>1</td>\n      <td>3</td>\n      <td>1</td>\n      <td>0</td>\n      <td>0</td>\n      <td>0</td>\n      <td>3</td>\n      <td>0</td>\n      <td>0</td>\n      <td>1</td>\n      <td>6</td>\n      <td>0</td>\n      <td>0</td>\n      <td>0</td>\n      <td>2</td>\n      <td>0</td>\n      <td>0</td>\n      <td>0</td>\n      <td>0</td>\n      <td>0</td>\n      <td>0</td>\n      <td>0</td>\n      <td>0</td>\n      <td>0</td>\n      <td>0</td>\n      <td>[[\"var1\", \"http://www.wikidata.org/prop/direct...</td>\n      <td>1</td>\n      <td>2000</td>\n      <td>0</td>\n      <td>0</td>\n      <td>0</td>\n      <td>0</td>\n      <td>SelectQuery_SelectQuery_{'p': Slice_{'p': Dist...</td>\n      <td>3793e16679d200a838ac46c687eafb0c</td>\n      <td>DiGraph with 7 nodes and 6 edges</td>\n      <td>0</td>\n      <td>gASVZAIAAAAAAACMGG5ldHdvcmt4LmNsYXNzZXMuZGlncm...</td>\n      <td>1</td>\n      <td>7</td>\n      <td>6</td>\n      <td>1</td>\n      <td>1</td>\n      <td>1.714286</td>\n      <td>2</td>\n      <td>data/parsed/I7_status500_Joined.parsed.tsv</td>\n      <td>7</td>\n      <td>True</td>\n      <td>False</td>\n      <td>True</td>\n      <td>True</td>\n      <td>True</td>\n      <td>True</td>\n      <td>False</td>\n      <td>False</td>\n      <td>True</td>\n      <td>True</td>\n      <td>True</td>\n      <td>False</td>\n      <td>False</td>\n      <td>True</td>\n      <td>False</td>\n    </tr>\n  </tbody>\n</table>\n<p>18039 rows × 69 columns</p>\n</div>"
     },
     "metadata": {}
    }
   ]
  },
  {
   "cell_type": "code",
   "metadata": {
    "tags": [],
    "deepnote_to_be_reexecuted": false,
    "source_hash": "649884d6",
    "execution_start": 1646992578213,
    "execution_millis": 290,
    "pycharm": {
     "name": "#%%\n"
    },
    "cell_id": "00013-5f8a6f57-fac0-4bd0-967a-e205c962e172",
    "deepnote_cell_type": "code",
    "deepnote_cell_height": 650
   },
   "source": "df_nona_organic = df_nona.loc[(df_nona[\"sourceCategory\"] == \"organic\")]\ndf_nona_organic\n",
   "execution_count": null,
   "outputs": [
    {
     "output_type": "execute_result",
     "execution_count": 9,
     "data": {
      "application/vnd.deepnote.dataframe.v3+json": {
       "column_count": 69,
       "row_count": 24078,
       "columns": [
        {
         "name": "anonymizedQuery",
         "dtype": "object",
         "stats": {
          "unique_count": 22563,
          "nan_count": 0,
          "categories": [
           {
            "name": "SELECT+%3Fvar1++%3Fvar2++%3Fvar3+%0AWHERE+%7B%0A++%3Fvar1++%3Chttp%3A%2F%2Fwww.wikidata.org%2Fprop%2Fdirect%2FP31%3E++%3Chttp%3A%2F%2Fwww.wikidata.org%2Fentity%2FQ5%3E+%3B%0A+%3Chttp%3A%2F%2Fwww.wikidata.org%2Fprop%2Fdirect%2FP21%3E++%3Chttp%3A%2F%2Fwww.wikidata.org%2Fentity%2FQ6581072%3E+%3B%0A+%3Chttp%3A%2F%2Fwww.wikidata.org%2Fprop%2Fdirect%2FP569%3E++%3Fvar4+.%0A+FILTER+%28++%28+%28++%3Fvar4++%3E%3D++%221921-01-01T00%3A00%3A00Z%22%5E%5E%3Chttp%3A%2F%2Fwww.w3.org%2F2001%2FXMLSchema%23dateTime%3E++%29+%29+%0A%29+.%0A++%3Fvar1++%3Chttp%3A%2F%2Fwikiba.se%2Fontology%23sitelinks%3E++%3Fvar3+.%0A++MINUS+++%7B%0A++++%3Fvar1++%3Chttp%3A%2F%2Fwww.wikidata.org%2Fprop%2Fdirect%2FP18%3E++%5B%5D+.%0A++%7D%0A++%3Fvar1++%3Chttp%3A%2F%2Fwww.w3.org%2F2000%2F01%2Frdf-schema%23label%3E++%3Fvar2+.%0A+FILTER+%28++%28+%28++LANG+%28++%3Fvar2++%29++%3D++%22en%22+%29+%29+%0A%29+.%0A%7D%0AGROUP+BY++%3Fvar1++%3Fvar2++%3Fvar3+%0AORDER+BY++DESC%28+%3Fvar3+%29%0ALIMIT+50%0A",
            "count": 40
           },
           {
            "name": "SELECT+%3Fvar1++%3Fvar1Label+%28++MAX+%28+%3Fvar2++%29+AS++%3Fvar2++%29%0AWHERE+%7B%0A++BIND+%28++%28++%3Fvar3+*+%3Fvar4++%29++AS++%3Fvar2+%29.%0A++%3Fvar1+%28+%3Chttp%3A%2F%2Fwww.wikidata.org%2Fprop%2FP2067%3E+%2F+%3Chttp%3A%2F%2Fwww.wikidata.org%2Fprop%2Fstatement%2Fvalue%2FP2067%3E+%29+%5B++%3Chttp%3A%2F%2Fwikiba.se%2Fontology%23quantityAmount%3E++%3Fvar3+%3B%0A+%3Chttp%3A%2F%2Fwikiba.se%2Fontology%23quantityUnit%3E++%5B+%28+%3Chttp%3A%2F%2Fwww.wikidata.org%2Fprop%2FP2370%3E+%2F+%3Chttp%3A%2F%2Fwww.wikidata.org%2Fprop%2Fstatement%2Fvalue%2FP2370%3E+%29+%5B++%3Chttp%3A%2F%2Fwikiba.se%2Fontology%23quantityAmount%3E++%3Fvar4+%3B%0A+%3Chttp%3A%2F%2Fwikiba.se%2Fontology%23quantityUnit%3E++%3Chttp%3A%2F%2Fwww.wikidata.org%2Fentity%2FQ11570%3E++%5D++%5D++%5D+.%0A++MINUS+++%7B%0A++++%3Fvar1++%3Chttp%3A%2F%2Fwww.wikidata.org%2Fprop%2Fdirect%2FP31%3E++%3Chttp%3A%2F%2Fwww.wikidata.org%2Fentity%2FQ3647172%3E+.%0A++%7D%0A+SERVICE++%3Chttp%3A%2F%2Fwikiba.se%2Fontology%23label%3E+++%7B%0A++++%3Chttp%3A%2F%2Fwww.bigdata.com%2Frdf%23serviceParam%3E++%3Chttp%3A%2F%2Fwikiba.se%2Fontology%23language%3E++%22en%22.%0A++%7D%0A%7D%0AGROUP+BY++%3Fvar1++%3Fvar1Label+%0AORDER+BY++DESC%28+%3Fvar2+%29%0A",
            "count": 33
           },
           {
            "name": "22561 others",
            "count": 24005
           }
          ]
         }
        },
        {
         "name": "timestamp",
         "dtype": "object",
         "stats": {
          "unique_count": 23973,
          "nan_count": 0,
          "categories": [
           {
            "name": "2018-01-12 18:06:11",
            "count": 5
           },
           {
            "name": "2017-12-21 20:57:59",
            "count": 4
           },
           {
            "name": "23971 others",
            "count": 24069
           }
          ]
         }
        },
        {
         "name": "sourceCategory",
         "dtype": "object",
         "stats": {
          "unique_count": 1,
          "nan_count": 0,
          "categories": [
           {
            "name": "organic",
            "count": 24078
           }
          ]
         }
        },
        {
         "name": "user_agent",
         "dtype": "object",
         "stats": {
          "unique_count": 1,
          "nan_count": 0,
          "categories": [
           {
            "name": "browser",
            "count": 24078
           }
          ]
         }
        },
        {
         "name": "var_cpt",
         "dtype": "int64"
        },
        {
         "name": "filter",
         "dtype": "int64"
        },
        {
         "name": "orderby",
         "dtype": "int64"
        },
        {
         "name": "select",
         "dtype": "int64"
        },
        {
         "name": "distinct",
         "dtype": "int64"
        },
        {
         "name": "join",
         "dtype": "int64"
        },
        {
         "name": "project",
         "dtype": "int64"
        },
        {
         "name": "tomultiset",
         "dtype": "int64"
        },
        {
         "name": "union",
         "dtype": "int64"
        },
        {
         "name": "modify",
         "dtype": "int64"
        },
        {
         "name": "bgp",
         "dtype": "int64"
        },
        {
         "name": "values",
         "dtype": "int64"
        },
        {
         "name": "groupBy",
         "dtype": "int64"
        },
        {
         "name": "slice",
         "dtype": "int64"
        },
        {
         "name": "triples",
         "dtype": "int64"
        },
        {
         "name": "extend",
         "dtype": "int64"
        },
        {
         "name": "filter_not_exists",
         "dtype": "int64"
        },
        {
         "name": "leftJoin",
         "dtype": "int64"
        },
        {
         "name": "minus",
         "dtype": "int64"
        },
        {
         "name": "notexist",
         "dtype": "int64"
        },
        {
         "name": "sample",
         "dtype": "int64"
        },
        {
         "name": "count",
         "dtype": "int64"
        },
        {
         "name": "having",
         "dtype": "int64"
        },
        {
         "name": "pathWithStar",
         "dtype": "int64"
        },
        {
         "name": "pathWithPlus",
         "dtype": "int64"
        },
        {
         "name": "pathWithQuestionMark",
         "dtype": "int64"
        },
        {
         "name": "pathWithInv",
         "dtype": "int64"
        },
        {
         "name": "pathWithSequence",
         "dtype": "int64"
        },
        {
         "name": "pathWithAlternative",
         "dtype": "int64"
        },
        {
         "name": "triplesSet",
         "dtype": "object"
        },
        {
         "name": "limit",
         "dtype": "int64"
        },
        {
         "name": "limitValue",
         "dtype": "int64"
        },
        {
         "name": "offset",
         "dtype": "int64"
        },
        {
         "name": "offsetValue",
         "dtype": "int64"
        },
        {
         "name": "complexPathWith",
         "dtype": "int64"
        },
        {
         "name": "simplePathWith",
         "dtype": "int64"
        },
        {
         "name": "algebraTree",
         "dtype": "object"
        },
        {
         "name": "algebraTreeMD5",
         "dtype": "object"
        },
        {
         "name": "graph",
         "dtype": "object"
        },
        {
         "name": "cycleNumber",
         "dtype": "int64"
        },
        {
         "name": "graphDump",
         "dtype": "object"
        },
        {
         "name": "isForest",
         "dtype": "int64"
        },
        {
         "name": "numberOfNodes",
         "dtype": "int64"
        },
        {
         "name": "numberOfEdges",
         "dtype": "int64"
        },
        {
         "name": "treewidth",
         "dtype": "int64"
        },
        {
         "name": "isTree",
         "dtype": "int64"
        },
        {
         "name": "averageDegree",
         "dtype": "float64"
        },
        {
         "name": "maxCliqueWeigth",
         "dtype": "int64"
        },
        {
         "name": "file_path",
         "dtype": "object"
        },
        {
         "name": "interval",
         "dtype": "int64"
        },
        {
         "name": "has_variable",
         "dtype": "bool"
        },
        {
         "name": "has_filter",
         "dtype": "bool"
        },
        {
         "name": "has_orderby",
         "dtype": "bool"
        },
        {
         "name": "has_limit",
         "dtype": "bool"
        },
        {
         "name": "has_select",
         "dtype": "bool"
        },
        {
         "name": "has_distinct",
         "dtype": "bool"
        },
        {
         "name": "has_modify",
         "dtype": "bool"
        },
        {
         "name": "has_tomultiset",
         "dtype": "bool"
        },
        {
         "name": "has_join",
         "dtype": "bool"
        },
        {
         "name": "has_bgp",
         "dtype": "bool"
        },
        {
         "name": "has_project",
         "dtype": "bool"
        },
        {
         "name": "has_union",
         "dtype": "bool"
        },
        {
         "name": "has_values",
         "dtype": "bool"
        },
        {
         "name": "has_slice",
         "dtype": "bool"
        },
        {
         "name": "has_offset",
         "dtype": "bool"
        },
        {
         "name": "_deepnote_index_column",
         "dtype": "int64"
        }
       ],
       "rows": [
        {
         "anonymizedQuery": "SELECT+%3Fvar1+%0AWHERE+%7B%0A++%3Fvar1++%3Chttp%3A%2F%2Fwww.w3.org%2F2004%2F02%2Fskos%2Fcore%23alt…",
         "timestamp": "2017-06-12 00:27:10",
         "sourceCategory": "organic",
         "user_agent": "browser",
         "var_cpt": 2,
         "filter": 1,
         "orderby": 0,
         "select": 1,
         "distinct": 0,
         "join": 0,
         "project": 1,
         "tomultiset": 0,
         "union": 0,
         "modify": 0,
         "bgp": 1,
         "values": 0,
         "groupBy": 0,
         "slice": 0,
         "triples": 1,
         "extend": 0,
         "filter_not_exists": 0,
         "leftJoin": 0,
         "minus": 0,
         "notexist": 0,
         "sample": 0,
         "count": 0,
         "having": 0,
         "pathWithStar": 0,
         "pathWithPlus": 0,
         "pathWithQuestionMark": 0,
         "pathWithInv": 0,
         "pathWithSequence": 0,
         "pathWithAlternative": 0,
         "triplesSet": "[[\"var1\", \"http://www.w3.org/2004/02/skos/core#altLabel\", \"var2\"]]",
         "limit": 0,
         "limitValue": 0,
         "offset": 0,
         "offsetValue": 0,
         "complexPathWith": 0,
         "simplePathWith": 0,
         "algebraTree": "SelectQuery_SelectQuery_{'p': Project_{'p': Filter_{'expr': Builtin_REGEX_{'text': rdflib.term.Vari…",
         "algebraTreeMD5": "0cc0f44d467fc911d5b8d7198cc1c695",
         "graph": "DiGraph with 2 nodes and 1 edges",
         "cycleNumber": 0,
         "graphDump": "gASVSwEAAAAAAACMGG5ldHdvcmt4LmNsYXNzZXMuZGlncmFwaJSMB0RpR3JhcGiUk5QpgZR9lCiMF2dyYXBoX2F0dHJfZGljdF9…",
         "isForest": 1,
         "numberOfNodes": 2,
         "numberOfEdges": 1,
         "treewidth": 1,
         "isTree": 1,
         "averageDegree": 1,
         "maxCliqueWeigth": 2,
         "file_path": "data/parsed/I1_status500_Joined.parsed.tsv",
         "interval": 1,
         "has_variable": true,
         "has_filter": true,
         "has_orderby": false,
         "has_limit": false,
         "has_select": true,
         "has_distinct": false,
         "has_modify": false,
         "has_tomultiset": false,
         "has_join": false,
         "has_bgp": true,
         "has_project": true,
         "has_union": false,
         "has_values": false,
         "has_slice": false,
         "has_offset": false,
         "_deepnote_index_column": 1
        },
        {
         "anonymizedQuery": "SELECT+%3Fvar1+%0AWHERE+%7B%0A++%3Fvar1+%28+%3Chttp%3A%2F%2Fwww.wikidata.org%2Fprop%2Fdirect%2FP279…",
         "timestamp": "2017-06-12 00:33:31",
         "sourceCategory": "organic",
         "user_agent": "browser",
         "var_cpt": 3,
         "filter": 1,
         "orderby": 0,
         "select": 1,
         "distinct": 0,
         "join": 1,
         "project": 1,
         "tomultiset": 0,
         "union": 0,
         "modify": 0,
         "bgp": 1,
         "values": 0,
         "groupBy": 0,
         "slice": 0,
         "triples": 2,
         "extend": 0,
         "filter_not_exists": 0,
         "leftJoin": 0,
         "minus": 0,
         "notexist": 0,
         "sample": 0,
         "count": 0,
         "having": 0,
         "pathWithStar": 0,
         "pathWithPlus": 0,
         "pathWithQuestionMark": 0,
         "pathWithInv": 0,
         "pathWithSequence": 0,
         "pathWithAlternative": 1,
         "triplesSet": "[[\"var1\", \"Path(http://www.wikidata.org/prop/direct/P279 | http://www.wikidata.org/prop/direct/P31)…",
         "limit": 0,
         "limitValue": 0,
         "offset": 0,
         "offsetValue": 0,
         "complexPathWith": 0,
         "simplePathWith": 1,
         "algebraTree": "SelectQuery_SelectQuery_{'p': Project_{'p': Filter_{'expr': Builtin_REGEX_{'text': rdflib.term.Vari…",
         "algebraTreeMD5": "0aad4f9c7207a6e81bae1412b8b71f6b",
         "graph": "DiGraph with 3 nodes and 2 edges",
         "cycleNumber": 0,
         "graphDump": "gASVawEAAAAAAACMGG5ldHdvcmt4LmNsYXNzZXMuZGlncmFwaJSMB0RpR3JhcGiUk5QpgZR9lCiMF2dyYXBoX2F0dHJfZGljdF9…",
         "isForest": 1,
         "numberOfNodes": 3,
         "numberOfEdges": 2,
         "treewidth": 1,
         "isTree": 1,
         "averageDegree": 1.3333333333333333,
         "maxCliqueWeigth": 2,
         "file_path": "data/parsed/I1_status500_Joined.parsed.tsv",
         "interval": 1,
         "has_variable": true,
         "has_filter": true,
         "has_orderby": false,
         "has_limit": false,
         "has_select": true,
         "has_distinct": false,
         "has_modify": false,
         "has_tomultiset": false,
         "has_join": true,
         "has_bgp": true,
         "has_project": true,
         "has_union": false,
         "has_values": false,
         "has_slice": false,
         "has_offset": false,
         "_deepnote_index_column": 2
        },
        {
         "anonymizedQuery": "SELECT%28+COUNT+%28*+%29+AS++%3Fvar1++%29+%3Fvar2++%3Fvar3Label++%3Fvar4++%3Fvar5Label++%3Fvar6++%3…",
         "timestamp": "2017-06-12 00:40:53",
         "sourceCategory": "organic",
         "user_agent": "browser",
         "var_cpt": 31,
         "filter": 1,
         "orderby": 0,
         "select": 1,
         "distinct": 0,
         "join": 6,
         "project": 2,
         "tomultiset": 1,
         "union": 0,
         "modify": 0,
         "bgp": 2,
         "values": 0,
         "groupBy": 1,
         "slice": 0,
         "triples": 5,
         "extend": 16,
         "filter_not_exists": 0,
         "leftJoin": 0,
         "minus": 0,
         "notexist": 0,
         "sample": 1,
         "count": 0,
         "having": 2,
         "pathWithStar": 0,
         "pathWithPlus": 0,
         "pathWithQuestionMark": 0,
         "pathWithInv": 0,
         "pathWithSequence": 0,
         "pathWithAlternative": 0,
         "triplesSet": "[[\"var5\", \"http://wikiba.se/ontology#directClaim\", \"var16\"], [\"var3\", \"http://wikiba.se/ontology#di…",
         "limit": 0,
         "limitValue": 0,
         "offset": 0,
         "offsetValue": 0,
         "complexPathWith": 0,
         "simplePathWith": 0,
         "algebraTree": "SelectQuery_SelectQuery_{'p': Project_{'p': Extend_{'p': Extend_{'p': Extend_{'p': Extend_{'p': Ext…",
         "algebraTreeMD5": "be5a129a0f442122835f879a87d2db4b",
         "graph": "DiGraph with 10 nodes and 6 edges",
         "cycleNumber": 0,
         "graphDump": "gASVcwIAAAAAAACMGG5ldHdvcmt4LmNsYXNzZXMuZGlncmFwaJSMB0RpR3JhcGiUk5QpgZR9lCiMF2dyYXBoX2F0dHJfZGljdF9…",
         "isForest": 1,
         "numberOfNodes": 10,
         "numberOfEdges": 6,
         "treewidth": 1,
         "isTree": 0,
         "averageDegree": 1.2,
         "maxCliqueWeigth": 2,
         "file_path": "data/parsed/I1_status500_Joined.parsed.tsv",
         "interval": 1,
         "has_variable": true,
         "has_filter": true,
         "has_orderby": false,
         "has_limit": false,
         "has_select": true,
         "has_distinct": false,
         "has_modify": false,
         "has_tomultiset": true,
         "has_join": true,
         "has_bgp": true,
         "has_project": true,
         "has_union": false,
         "has_values": false,
         "has_slice": false,
         "has_offset": false,
         "_deepnote_index_column": 3
        },
        {
         "anonymizedQuery": "SELECT%28+COUNT+%28*+%29+AS++%3Fvar1++%29+%3Fvar2++%3Fvar3Label++%3Fvar4++%3Fvar5Label++%3Fvar6++%3…",
         "timestamp": "2017-06-12 00:49:05",
         "sourceCategory": "organic",
         "user_agent": "browser",
         "var_cpt": 31,
         "filter": 1,
         "orderby": 0,
         "select": 1,
         "distinct": 0,
         "join": 6,
         "project": 2,
         "tomultiset": 1,
         "union": 0,
         "modify": 0,
         "bgp": 2,
         "values": 0,
         "groupBy": 1,
         "slice": 0,
         "triples": 5,
         "extend": 17,
         "filter_not_exists": 0,
         "leftJoin": 0,
         "minus": 0,
         "notexist": 0,
         "sample": 1,
         "count": 0,
         "having": 1,
         "pathWithStar": 0,
         "pathWithPlus": 0,
         "pathWithQuestionMark": 0,
         "pathWithInv": 0,
         "pathWithSequence": 2,
         "pathWithAlternative": 0,
         "triplesSet": "[[\"var12\", \"Path(http://www.wikidata.org/prop/direct/P31 / http://www.wikidata.org/prop/direct/P279…",
         "limit": 0,
         "limitValue": 0,
         "offset": 0,
         "offsetValue": 0,
         "complexPathWith": 0,
         "simplePathWith": 2,
         "algebraTree": "SelectQuery_SelectQuery_{'p': Project_{'p': Extend_{'p': Extend_{'p': Extend_{'p': Extend_{'p': Ext…",
         "algebraTreeMD5": "d438713278d103547b4d8276260d2f06",
         "graph": "DiGraph with 10 nodes and 6 edges",
         "cycleNumber": 0,
         "graphDump": "gASVcwIAAAAAAACMGG5ldHdvcmt4LmNsYXNzZXMuZGlncmFwaJSMB0RpR3JhcGiUk5QpgZR9lCiMF2dyYXBoX2F0dHJfZGljdF9…",
         "isForest": 1,
         "numberOfNodes": 10,
         "numberOfEdges": 6,
         "treewidth": 1,
         "isTree": 0,
         "averageDegree": 1.2,
         "maxCliqueWeigth": 2,
         "file_path": "data/parsed/I1_status500_Joined.parsed.tsv",
         "interval": 1,
         "has_variable": true,
         "has_filter": true,
         "has_orderby": false,
         "has_limit": false,
         "has_select": true,
         "has_distinct": false,
         "has_modify": false,
         "has_tomultiset": true,
         "has_join": true,
         "has_bgp": true,
         "has_project": true,
         "has_union": false,
         "has_values": false,
         "has_slice": false,
         "has_offset": false,
         "_deepnote_index_column": 4
        },
        {
         "anonymizedQuery": "SELECT%28+COUNT+%28*+%29+AS++%3Fvar1++%29+%3Fvar2++%3Fvar3Label++%3Fvar4++%3Fvar5Label++%3Fvar6++%3…",
         "timestamp": "2017-06-12 00:50:24",
         "sourceCategory": "organic",
         "user_agent": "browser",
         "var_cpt": 31,
         "filter": 1,
         "orderby": 0,
         "select": 1,
         "distinct": 0,
         "join": 6,
         "project": 2,
         "tomultiset": 1,
         "union": 0,
         "modify": 0,
         "bgp": 2,
         "values": 0,
         "groupBy": 1,
         "slice": 0,
         "triples": 5,
         "extend": 17,
         "filter_not_exists": 0,
         "leftJoin": 0,
         "minus": 0,
         "notexist": 0,
         "sample": 1,
         "count": 0,
         "having": 1,
         "pathWithStar": 0,
         "pathWithPlus": 0,
         "pathWithQuestionMark": 0,
         "pathWithInv": 0,
         "pathWithSequence": 2,
         "pathWithAlternative": 0,
         "triplesSet": "[[\"var12\", \"Path(http://www.wikidata.org/prop/direct/P31 / http://www.wikidata.org/prop/direct/P279…",
         "limit": 0,
         "limitValue": 0,
         "offset": 0,
         "offsetValue": 0,
         "complexPathWith": 0,
         "simplePathWith": 2,
         "algebraTree": "SelectQuery_SelectQuery_{'p': Project_{'p': Extend_{'p': Extend_{'p': Extend_{'p': Extend_{'p': Ext…",
         "algebraTreeMD5": "1f9c5303338ee73d673822dd6e5fc006",
         "graph": "DiGraph with 10 nodes and 6 edges",
         "cycleNumber": 0,
         "graphDump": "gASVcwIAAAAAAACMGG5ldHdvcmt4LmNsYXNzZXMuZGlncmFwaJSMB0RpR3JhcGiUk5QpgZR9lCiMF2dyYXBoX2F0dHJfZGljdF9…",
         "isForest": 1,
         "numberOfNodes": 10,
         "numberOfEdges": 6,
         "treewidth": 1,
         "isTree": 0,
         "averageDegree": 1.2,
         "maxCliqueWeigth": 2,
         "file_path": "data/parsed/I1_status500_Joined.parsed.tsv",
         "interval": 1,
         "has_variable": true,
         "has_filter": true,
         "has_orderby": false,
         "has_limit": false,
         "has_select": true,
         "has_distinct": false,
         "has_modify": false,
         "has_tomultiset": true,
         "has_join": true,
         "has_bgp": true,
         "has_project": true,
         "has_union": false,
         "has_values": false,
         "has_slice": false,
         "has_offset": false,
         "_deepnote_index_column": 5
        },
        {
         "anonymizedQuery": "SELECT+%3Fvar1++%3Fvar1Label++%3Fvar2+%0AWHERE+%7B%0A++%3Fvar3++%3Chttp%3A%2F%2Fwww.wikidata.org%2F…",
         "timestamp": "2017-06-12 06:49:40",
         "sourceCategory": "organic",
         "user_agent": "browser",
         "var_cpt": 4,
         "filter": 0,
         "orderby": 0,
         "select": 1,
         "distinct": 0,
         "join": 3,
         "project": 1,
         "tomultiset": 0,
         "union": 0,
         "modify": 0,
         "bgp": 1,
         "values": 0,
         "groupBy": 0,
         "slice": 1,
         "triples": 3,
         "extend": 0,
         "filter_not_exists": 0,
         "leftJoin": 0,
         "minus": 0,
         "notexist": 0,
         "sample": 0,
         "count": 0,
         "having": 0,
         "pathWithStar": 0,
         "pathWithPlus": 0,
         "pathWithQuestionMark": 0,
         "pathWithInv": 0,
         "pathWithSequence": 0,
         "pathWithAlternative": 0,
         "triplesSet": "[[\"var2\", \"http://schema.org/isPartOf\", \"https://species.wikimedia.org/\"], [\"var3\", \"http://www.wik…",
         "limit": 1,
         "limitValue": 200,
         "offset": 0,
         "offsetValue": 0,
         "complexPathWith": 0,
         "simplePathWith": 0,
         "algebraTree": "SelectQuery_SelectQuery_{'p': Slice_{'p': Project_{'p': Join_{'p1': BGP_{'triples': [(rdflib.term.V…",
         "algebraTreeMD5": "279ae34a72498f355a5d67362b65f6c5",
         "graph": "DiGraph with 7 nodes and 4 edges",
         "cycleNumber": 0,
         "graphDump": "gASVTwIAAAAAAACMGG5ldHdvcmt4LmNsYXNzZXMuZGlncmFwaJSMB0RpR3JhcGiUk5QpgZR9lCiMF2dyYXBoX2F0dHJfZGljdF9…",
         "isForest": 1,
         "numberOfNodes": 7,
         "numberOfEdges": 4,
         "treewidth": 1,
         "isTree": 0,
         "averageDegree": 1.1428571428571428,
         "maxCliqueWeigth": 2,
         "file_path": "data/parsed/I1_status500_Joined.parsed.tsv",
         "interval": 1,
         "has_variable": true,
         "has_filter": false,
         "has_orderby": false,
         "has_limit": true,
         "has_select": true,
         "has_distinct": false,
         "has_modify": false,
         "has_tomultiset": false,
         "has_join": true,
         "has_bgp": true,
         "has_project": true,
         "has_union": false,
         "has_values": false,
         "has_slice": true,
         "has_offset": false,
         "_deepnote_index_column": 28
        },
        {
         "anonymizedQuery": "SELECT+%3Fvar1++%3Fvar1Label++%3Fvar2+%0AWHERE+%7B%0A++%3Fvar3++%3Chttp%3A%2F%2Fwww.wikidata.org%2F…",
         "timestamp": "2017-06-12 06:50:55",
         "sourceCategory": "organic",
         "user_agent": "browser",
         "var_cpt": 4,
         "filter": 0,
         "orderby": 0,
         "select": 1,
         "distinct": 0,
         "join": 3,
         "project": 1,
         "tomultiset": 0,
         "union": 0,
         "modify": 0,
         "bgp": 1,
         "values": 0,
         "groupBy": 0,
         "slice": 1,
         "triples": 3,
         "extend": 0,
         "filter_not_exists": 0,
         "leftJoin": 0,
         "minus": 0,
         "notexist": 0,
         "sample": 0,
         "count": 0,
         "having": 0,
         "pathWithStar": 0,
         "pathWithPlus": 0,
         "pathWithQuestionMark": 0,
         "pathWithInv": 0,
         "pathWithSequence": 0,
         "pathWithAlternative": 0,
         "triplesSet": "[[\"var2\", \"http://schema.org/isPartOf\", \"https://species.wikimedia.org/\"], [\"var3\", \"http://www.wik…",
         "limit": 1,
         "limitValue": 200,
         "offset": 0,
         "offsetValue": 0,
         "complexPathWith": 0,
         "simplePathWith": 0,
         "algebraTree": "SelectQuery_SelectQuery_{'p': Slice_{'p': Project_{'p': Join_{'p1': BGP_{'triples': [(rdflib.term.V…",
         "algebraTreeMD5": "32c5bf517c2ee32e20d604ceb31c61fc",
         "graph": "DiGraph with 7 nodes and 4 edges",
         "cycleNumber": 0,
         "graphDump": "gASVTwIAAAAAAACMGG5ldHdvcmt4LmNsYXNzZXMuZGlncmFwaJSMB0RpR3JhcGiUk5QpgZR9lCiMF2dyYXBoX2F0dHJfZGljdF9…",
         "isForest": 1,
         "numberOfNodes": 7,
         "numberOfEdges": 4,
         "treewidth": 1,
         "isTree": 0,
         "averageDegree": 1.1428571428571428,
         "maxCliqueWeigth": 2,
         "file_path": "data/parsed/I1_status500_Joined.parsed.tsv",
         "interval": 1,
         "has_variable": true,
         "has_filter": false,
         "has_orderby": false,
         "has_limit": true,
         "has_select": true,
         "has_distinct": false,
         "has_modify": false,
         "has_tomultiset": false,
         "has_join": true,
         "has_bgp": true,
         "has_project": true,
         "has_union": false,
         "has_values": false,
         "has_slice": true,
         "has_offset": false,
         "_deepnote_index_column": 29
        },
        {
         "anonymizedQuery": "SELECT+%3Fvar1++%3Fvar1Label++%3Fvar2+%0AWHERE+%7B%0A++%3Fvar2++%3Chttp%3A%2F%2Fschema.org%2Fabout%…",
         "timestamp": "2017-06-12 06:53:22",
         "sourceCategory": "organic",
         "user_agent": "browser",
         "var_cpt": 4,
         "filter": 0,
         "orderby": 0,
         "select": 1,
         "distinct": 0,
         "join": 3,
         "project": 1,
         "tomultiset": 0,
         "union": 0,
         "modify": 0,
         "bgp": 2,
         "values": 0,
         "groupBy": 0,
         "slice": 1,
         "triples": 3,
         "extend": 0,
         "filter_not_exists": 0,
         "leftJoin": 0,
         "minus": 0,
         "notexist": 0,
         "sample": 0,
         "count": 0,
         "having": 0,
         "pathWithStar": 0,
         "pathWithPlus": 0,
         "pathWithQuestionMark": 0,
         "pathWithInv": 0,
         "pathWithSequence": 0,
         "pathWithAlternative": 0,
         "triplesSet": "[[\"var2\", \"http://schema.org/isPartOf\", \"https://species.wikimedia.org/\"], [\"var2\", \"http://schema.…",
         "limit": 1,
         "limitValue": 200,
         "offset": 0,
         "offsetValue": 0,
         "complexPathWith": 0,
         "simplePathWith": 0,
         "algebraTree": "SelectQuery_SelectQuery_{'p': Slice_{'p': Project_{'p': Join_{'p1': Join_{'p1': BGP_{'triples': [(r…",
         "algebraTreeMD5": "2e5b5025bbb99191baadcc6a2ab2adfa",
         "graph": "DiGraph with 7 nodes and 4 edges",
         "cycleNumber": 0,
         "graphDump": "gASVTwIAAAAAAACMGG5ldHdvcmt4LmNsYXNzZXMuZGlncmFwaJSMB0RpR3JhcGiUk5QpgZR9lCiMF2dyYXBoX2F0dHJfZGljdF9…",
         "isForest": 1,
         "numberOfNodes": 7,
         "numberOfEdges": 4,
         "treewidth": 1,
         "isTree": 0,
         "averageDegree": 1.1428571428571428,
         "maxCliqueWeigth": 2,
         "file_path": "data/parsed/I1_status500_Joined.parsed.tsv",
         "interval": 1,
         "has_variable": true,
         "has_filter": false,
         "has_orderby": false,
         "has_limit": true,
         "has_select": true,
         "has_distinct": false,
         "has_modify": false,
         "has_tomultiset": false,
         "has_join": true,
         "has_bgp": true,
         "has_project": true,
         "has_union": false,
         "has_values": false,
         "has_slice": true,
         "has_offset": false,
         "_deepnote_index_column": 30
        },
        {
         "anonymizedQuery": "SELECT+DISTINCT+%3Fvar1+%28++SAMPLE+%28+COALESCE+%28++%3Fvar2Label+%2C+%3Fvar3Label++%29++%29+AS++%…",
         "timestamp": "2017-06-12 07:13:51",
         "sourceCategory": "organic",
         "user_agent": "browser",
         "var_cpt": 19,
         "filter": 0,
         "orderby": 1,
         "select": 1,
         "distinct": 1,
         "join": 4,
         "project": 1,
         "tomultiset": 0,
         "union": 0,
         "modify": 0,
         "bgp": 7,
         "values": 0,
         "groupBy": 1,
         "slice": 0,
         "triples": 10,
         "extend": 5,
         "filter_not_exists": 0,
         "leftJoin": 6,
         "minus": 0,
         "notexist": 0,
         "sample": 1,
         "count": 0,
         "having": 4,
         "pathWithStar": 1,
         "pathWithPlus": 0,
         "pathWithQuestionMark": 0,
         "pathWithInv": 0,
         "pathWithSequence": 1,
         "pathWithAlternative": 0,
         "triplesSet": "[[\"var7\", \"Path(http://www.wikidata.org/prop/direct/P279*)\", \"http://www.wikidata.org/entity/Q341\"]…",
         "limit": 0,
         "limitValue": 0,
         "offset": 0,
         "offsetValue": 0,
         "complexPathWith": 1,
         "simplePathWith": 1,
         "algebraTree": "SelectQuery_SelectQuery_{'p': Distinct_{'p': Project_{'p': OrderBy_{'p': Extend_{'p': Extend_{'p': …",
         "algebraTreeMD5": "39343681d9b0ecf96abac6ab7ece8ea9",
         "graph": "DiGraph with 13 nodes and 11 edges",
         "cycleNumber": 0,
         "graphDump": "gASVKwMAAAAAAACMGG5ldHdvcmt4LmNsYXNzZXMuZGlncmFwaJSMB0RpR3JhcGiUk5QpgZR9lCiMF2dyYXBoX2F0dHJfZGljdF9…",
         "isForest": 1,
         "numberOfNodes": 13,
         "numberOfEdges": 11,
         "treewidth": 1,
         "isTree": 0,
         "averageDegree": 1.6923076923076923,
         "maxCliqueWeigth": 2,
         "file_path": "data/parsed/I1_status500_Joined.parsed.tsv",
         "interval": 1,
         "has_variable": true,
         "has_filter": false,
         "has_orderby": true,
         "has_limit": false,
         "has_select": true,
         "has_distinct": true,
         "has_modify": false,
         "has_tomultiset": false,
         "has_join": true,
         "has_bgp": true,
         "has_project": true,
         "has_union": false,
         "has_values": false,
         "has_slice": false,
         "has_offset": false,
         "_deepnote_index_column": 31
        },
        {
         "anonymizedQuery": "SELECT+DISTINCT+%3Fvar1+%28++SAMPLE+%28+COALESCE+%28++%3Fvar2Label+%2C+%3Fvar3Label++%29++%29+AS++%…",
         "timestamp": "2017-06-12 07:15:17",
         "sourceCategory": "organic",
         "user_agent": "browser",
         "var_cpt": 18,
         "filter": 0,
         "orderby": 1,
         "select": 1,
         "distinct": 1,
         "join": 4,
         "project": 1,
         "tomultiset": 0,
         "union": 0,
         "modify": 0,
         "bgp": 7,
         "values": 0,
         "groupBy": 1,
         "slice": 0,
         "triples": 10,
         "extend": 5,
         "filter_not_exists": 0,
         "leftJoin": 6,
         "minus": 0,
         "notexist": 0,
         "sample": 1,
         "count": 0,
         "having": 4,
         "pathWithStar": 1,
         "pathWithPlus": 0,
         "pathWithQuestionMark": 0,
         "pathWithInv": 0,
         "pathWithSequence": 1,
         "pathWithAlternative": 0,
         "triplesSet": "[[\"var7\", \"Path(http://www.wikidata.org/prop/direct/P279*)\", \"http://www.wikidata.org/entity/Q341\"]…",
         "limit": 0,
         "limitValue": 0,
         "offset": 0,
         "offsetValue": 0,
         "complexPathWith": 1,
         "simplePathWith": 1,
         "algebraTree": "SelectQuery_SelectQuery_{'p': Distinct_{'p': Project_{'p': OrderBy_{'p': Extend_{'p': Extend_{'p': …",
         "algebraTreeMD5": "da86045c85da90efc794fc212c552aca",
         "graph": "DiGraph with 13 nodes and 11 edges",
         "cycleNumber": 0,
         "graphDump": "gASVKgMAAAAAAACMGG5ldHdvcmt4LmNsYXNzZXMuZGlncmFwaJSMB0RpR3JhcGiUk5QpgZR9lCiMF2dyYXBoX2F0dHJfZGljdF9…",
         "isForest": 1,
         "numberOfNodes": 13,
         "numberOfEdges": 11,
         "treewidth": 1,
         "isTree": 0,
         "averageDegree": 1.6923076923076923,
         "maxCliqueWeigth": 2,
         "file_path": "data/parsed/I1_status500_Joined.parsed.tsv",
         "interval": 1,
         "has_variable": true,
         "has_filter": false,
         "has_orderby": true,
         "has_limit": false,
         "has_select": true,
         "has_distinct": true,
         "has_modify": false,
         "has_tomultiset": false,
         "has_join": true,
         "has_bgp": true,
         "has_project": true,
         "has_union": false,
         "has_values": false,
         "has_slice": false,
         "has_offset": false,
         "_deepnote_index_column": 32
        }
       ]
      },
      "text/plain": "                                         anonymizedQuery            timestamp  \\\n1      SELECT+%3Fvar1+%0AWHERE+%7B%0A++%3Fvar1++%3Cht...  2017-06-12 00:27:10   \n2      SELECT+%3Fvar1+%0AWHERE+%7B%0A++%3Fvar1+%28+%3...  2017-06-12 00:33:31   \n3      SELECT%28+COUNT+%28*+%29+AS++%3Fvar1++%29+%3Fv...  2017-06-12 00:40:53   \n4      SELECT%28+COUNT+%28*+%29+AS++%3Fvar1++%29+%3Fv...  2017-06-12 00:49:05   \n5      SELECT%28+COUNT+%28*+%29+AS++%3Fvar1++%29+%3Fv...  2017-06-12 00:50:24   \n...                                                  ...                  ...   \n42103  SELECT+%3Fvar1++%3Fvar2++%3Fvar1Label++%3Fvar3...  2018-03-25 21:50:25   \n42104  SELECT+%3Fvar1++%3Fvar2++%3Fvar3+%0AWHERE+%7B%...  2018-03-25 22:08:09   \n42107  SELECT+%3Fvar1+%0AWHERE+%7B%0A++%3Fvar1++%3Cht...  2018-03-25 22:26:30   \n42108  SELECT+%3Fvar1+%0AWHERE+%7B%0A++%3Fvar1++%3Cht...  2018-03-25 22:27:41   \n42113  SELECT+%3Fvar1++%3Fvar2Label++%3Fvar1Label++%3...  2018-03-25 23:34:02   \n\n      sourceCategory user_agent  var_cpt  filter  orderby  select  distinct  \\\n1            organic    browser        2       1        0       1         0   \n2            organic    browser        3       1        0       1         0   \n3            organic    browser       31       1        0       1         0   \n4            organic    browser       31       1        0       1         0   \n5            organic    browser       31       1        0       1         0   \n...              ...        ...      ...     ...      ...     ...       ...   \n42103        organic    browser        5       0        0       1         0   \n42104        organic    browser        7       1        1       1         0   \n42107        organic    browser        3       1        0       1         0   \n42108        organic    browser        3       1        0       1         0   \n42113        organic    browser        8       0        0       1         0   \n\n       join  project  tomultiset  union  modify  bgp  values  groupBy  slice  \\\n1         0        1           0      0       0    1       0        0      0   \n2         1        1           0      0       0    1       0        0      0   \n3         6        2           1      0       0    2       0        1      0   \n4         6        2           1      0       0    2       0        1      0   \n5         6        2           1      0       0    2       0        1      0   \n...     ...      ...         ...    ...     ...  ...     ...      ...    ...   \n42103     4        1           0      0       0    3       0        0      1   \n42104     4        1           0      0       0    3       0        1      1   \n42107     1        1           0      0       0    3       0        0      1   \n42108     1        1           0      0       0    3       0        0      1   \n42113     3        1           1      0       0    2       1        0      0   \n\n       triples  extend  filter_not_exists  leftJoin  minus  notexist  sample  \\\n1            1       0                  0         0      0         0       0   \n2            2       0                  0         0      0         0       0   \n3            5      16                  0         0      0         0       1   \n4            5      17                  0         0      0         0       1   \n5            5      17                  0         0      0         0       1   \n...        ...     ...                ...       ...    ...       ...     ...   \n42103        5       0                  0         1      0         0       0   \n42104        6       3                  0         0      1         0       1   \n42107        4       0                  0         2      0         0       0   \n42108        4       0                  0         2      0         0       0   \n42113        3       0                  0         1      0         0       0   \n\n       count  having  pathWithStar  pathWithPlus  pathWithQuestionMark  \\\n1          0       0             0             0                     0   \n2          0       0             0             0                     0   \n3          0       2             0             0                     0   \n4          0       1             0             0                     0   \n5          0       1             0             0                     0   \n...      ...     ...           ...           ...                   ...   \n42103      0       0             0             0                     0   \n42104      0       2             0             0                     0   \n42107      0       3             0             0                     0   \n42108      0       3             0             0                     0   \n42113      0       0             0             0                     0   \n\n       pathWithInv  pathWithSequence  pathWithAlternative  \\\n1                0                 0                    0   \n2                0                 0                    1   \n3                0                 0                    0   \n4                0                 2                    0   \n5                0                 2                    0   \n...            ...               ...                  ...   \n42103            0                 0                    0   \n42104            0                 0                    0   \n42107            0                 0                    0   \n42108            0                 0                    0   \n42113            0                 0                    0   \n\n                                              triplesSet  limit  limitValue  \\\n1      [[\"var1\", \"http://www.w3.org/2004/02/skos/core...      0           0   \n2      [[\"var1\", \"Path(http://www.wikidata.org/prop/d...      0           0   \n3      [[\"var5\", \"http://wikiba.se/ontology#directCla...      0           0   \n4      [[\"var12\", \"Path(http://www.wikidata.org/prop/...      0           0   \n5      [[\"var12\", \"Path(http://www.wikidata.org/prop/...      0           0   \n...                                                  ...    ...         ...   \n42103  [[\"var1\", \"http://www.wikidata.org/prop/direct...      1         100   \n42104  [[\"var1\", \"http://www.wikidata.org/prop/direct...      1          50   \n42107  [[\"var1\", \"http://www.wikidata.org/prop/direct...      1           5   \n42108  [[\"var1\", \"http://www.wikidata.org/prop/direct...      1           2   \n42113  [[\"var1\", \"http://www.wikidata.org/prop/direct...      0           0   \n\n       offset  offsetValue  complexPathWith  simplePathWith  \\\n1           0            0                0               0   \n2           0            0                0               1   \n3           0            0                0               0   \n4           0            0                0               2   \n5           0            0                0               2   \n...       ...          ...              ...             ...   \n42103       0            0                0               0   \n42104       0            0                0               0   \n42107       0            0                0               0   \n42108       0            0                0               0   \n42113       0            0                0               0   \n\n                                             algebraTree  \\\n1      SelectQuery_SelectQuery_{'p': Project_{'p': Fi...   \n2      SelectQuery_SelectQuery_{'p': Project_{'p': Fi...   \n3      SelectQuery_SelectQuery_{'p': Project_{'p': Ex...   \n4      SelectQuery_SelectQuery_{'p': Project_{'p': Ex...   \n5      SelectQuery_SelectQuery_{'p': Project_{'p': Ex...   \n...                                                  ...   \n42103  SelectQuery_SelectQuery_{'p': Slice_{'p': Proj...   \n42104  SelectQuery_SelectQuery_{'p': Slice_{'p': Proj...   \n42107  SelectQuery_SelectQuery_{'p': Slice_{'p': Proj...   \n42108  SelectQuery_SelectQuery_{'p': Slice_{'p': Proj...   \n42113  SelectQuery_SelectQuery_{'p': Project_{'p': Le...   \n\n                         algebraTreeMD5                              graph  \\\n1      0cc0f44d467fc911d5b8d7198cc1c695   DiGraph with 2 nodes and 1 edges   \n2      0aad4f9c7207a6e81bae1412b8b71f6b   DiGraph with 3 nodes and 2 edges   \n3      be5a129a0f442122835f879a87d2db4b  DiGraph with 10 nodes and 6 edges   \n4      d438713278d103547b4d8276260d2f06  DiGraph with 10 nodes and 6 edges   \n5      1f9c5303338ee73d673822dd6e5fc006  DiGraph with 10 nodes and 6 edges   \n...                                 ...                                ...   \n42103  b1b4cc633e4232d4ec9e93df5d9d511c   DiGraph with 8 nodes and 6 edges   \n42104  7155708b97d73beacea9be4327c05794   DiGraph with 7 nodes and 6 edges   \n42107  f0aa33fa1e586b59ae8ded056ef912d7   DiGraph with 5 nodes and 4 edges   \n42108  520208c64b5485314a25296d5ce879ce   DiGraph with 5 nodes and 4 edges   \n42113  70549745568c1ff751d0c82b182d2f4c   DiGraph with 7 nodes and 4 edges   \n\n       cycleNumber                                          graphDump  \\\n1                0  gASVSwEAAAAAAACMGG5ldHdvcmt4LmNsYXNzZXMuZGlncm...   \n2                0  gASVawEAAAAAAACMGG5ldHdvcmt4LmNsYXNzZXMuZGlncm...   \n3                0  gASVcwIAAAAAAACMGG5ldHdvcmt4LmNsYXNzZXMuZGlncm...   \n4                0  gASVcwIAAAAAAACMGG5ldHdvcmt4LmNsYXNzZXMuZGlncm...   \n5                0  gASVcwIAAAAAAACMGG5ldHdvcmt4LmNsYXNzZXMuZGlncm...   \n...            ...                                                ...   \n42103            0  gASVpAIAAAAAAACMGG5ldHdvcmt4LmNsYXNzZXMuZGlncm...   \n42104            0  gASVRAIAAAAAAACMGG5ldHdvcmt4LmNsYXNzZXMuZGlncm...   \n42107            0  gASV6QEAAAAAAACMGG5ldHdvcmt4LmNsYXNzZXMuZGlncm...   \n42108            0  gASV6QEAAAAAAACMGG5ldHdvcmt4LmNsYXNzZXMuZGlncm...   \n42113            0  gASVFQIAAAAAAACMGG5ldHdvcmt4LmNsYXNzZXMuZGlncm...   \n\n       isForest  numberOfNodes  numberOfEdges  treewidth  isTree  \\\n1             1              2              1          1       1   \n2             1              3              2          1       1   \n3             1             10              6          1       0   \n4             1             10              6          1       0   \n5             1             10              6          1       0   \n...         ...            ...            ...        ...     ...   \n42103         1              8              6          1       0   \n42104         1              7              6          1       1   \n42107         1              5              4          1       1   \n42108         1              5              4          1       1   \n42113         1              7              4          1       0   \n\n       averageDegree  maxCliqueWeigth  \\\n1           1.000000                2   \n2           1.333333                2   \n3           1.200000                2   \n4           1.200000                2   \n5           1.200000                2   \n...              ...              ...   \n42103       1.500000                2   \n42104       1.714286                2   \n42107       1.600000                2   \n42108       1.600000                2   \n42113       1.142857                2   \n\n                                        file_path  interval  has_variable  \\\n1      data/parsed/I1_status500_Joined.parsed.tsv         1          True   \n2      data/parsed/I1_status500_Joined.parsed.tsv         1          True   \n3      data/parsed/I1_status500_Joined.parsed.tsv         1          True   \n4      data/parsed/I1_status500_Joined.parsed.tsv         1          True   \n5      data/parsed/I1_status500_Joined.parsed.tsv         1          True   \n...                                           ...       ...           ...   \n42103  data/parsed/I7_status500_Joined.parsed.tsv         7          True   \n42104  data/parsed/I7_status500_Joined.parsed.tsv         7          True   \n42107  data/parsed/I7_status500_Joined.parsed.tsv         7          True   \n42108  data/parsed/I7_status500_Joined.parsed.tsv         7          True   \n42113  data/parsed/I7_status500_Joined.parsed.tsv         7          True   \n\n       has_filter  has_orderby  has_limit  has_select  has_distinct  \\\n1            True        False      False        True         False   \n2            True        False      False        True         False   \n3            True        False      False        True         False   \n4            True        False      False        True         False   \n5            True        False      False        True         False   \n...           ...          ...        ...         ...           ...   \n42103       False        False       True        True         False   \n42104        True         True       True        True         False   \n42107        True        False       True        True         False   \n42108        True        False       True        True         False   \n42113       False        False      False        True         False   \n\n       has_modify  has_tomultiset  has_join  has_bgp  has_project  has_union  \\\n1           False           False     False     True         True      False   \n2           False           False      True     True         True      False   \n3           False            True      True     True         True      False   \n4           False            True      True     True         True      False   \n5           False            True      True     True         True      False   \n...           ...             ...       ...      ...          ...        ...   \n42103       False           False      True     True         True      False   \n42104       False           False      True     True         True      False   \n42107       False           False      True     True         True      False   \n42108       False           False      True     True         True      False   \n42113       False            True      True     True         True      False   \n\n       has_values  has_slice  has_offset  \n1           False      False       False  \n2           False      False       False  \n3           False      False       False  \n4           False      False       False  \n5           False      False       False  \n...           ...        ...         ...  \n42103       False       True       False  \n42104       False       True       False  \n42107       False       True       False  \n42108       False       True       False  \n42113        True      False       False  \n\n[24078 rows x 69 columns]",
      "text/html": "<div>\n<style scoped>\n    .dataframe tbody tr th:only-of-type {\n        vertical-align: middle;\n    }\n\n    .dataframe tbody tr th {\n        vertical-align: top;\n    }\n\n    .dataframe thead th {\n        text-align: right;\n    }\n</style>\n<table border=\"1\" class=\"dataframe\">\n  <thead>\n    <tr style=\"text-align: right;\">\n      <th></th>\n      <th>anonymizedQuery</th>\n      <th>timestamp</th>\n      <th>sourceCategory</th>\n      <th>user_agent</th>\n      <th>var_cpt</th>\n      <th>filter</th>\n      <th>orderby</th>\n      <th>select</th>\n      <th>distinct</th>\n      <th>join</th>\n      <th>project</th>\n      <th>tomultiset</th>\n      <th>union</th>\n      <th>modify</th>\n      <th>bgp</th>\n      <th>values</th>\n      <th>groupBy</th>\n      <th>slice</th>\n      <th>triples</th>\n      <th>extend</th>\n      <th>filter_not_exists</th>\n      <th>leftJoin</th>\n      <th>minus</th>\n      <th>notexist</th>\n      <th>sample</th>\n      <th>count</th>\n      <th>having</th>\n      <th>pathWithStar</th>\n      <th>pathWithPlus</th>\n      <th>pathWithQuestionMark</th>\n      <th>pathWithInv</th>\n      <th>pathWithSequence</th>\n      <th>pathWithAlternative</th>\n      <th>triplesSet</th>\n      <th>limit</th>\n      <th>limitValue</th>\n      <th>offset</th>\n      <th>offsetValue</th>\n      <th>complexPathWith</th>\n      <th>simplePathWith</th>\n      <th>algebraTree</th>\n      <th>algebraTreeMD5</th>\n      <th>graph</th>\n      <th>cycleNumber</th>\n      <th>graphDump</th>\n      <th>isForest</th>\n      <th>numberOfNodes</th>\n      <th>numberOfEdges</th>\n      <th>treewidth</th>\n      <th>isTree</th>\n      <th>averageDegree</th>\n      <th>maxCliqueWeigth</th>\n      <th>file_path</th>\n      <th>interval</th>\n      <th>has_variable</th>\n      <th>has_filter</th>\n      <th>has_orderby</th>\n      <th>has_limit</th>\n      <th>has_select</th>\n      <th>has_distinct</th>\n      <th>has_modify</th>\n      <th>has_tomultiset</th>\n      <th>has_join</th>\n      <th>has_bgp</th>\n      <th>has_project</th>\n      <th>has_union</th>\n      <th>has_values</th>\n      <th>has_slice</th>\n      <th>has_offset</th>\n    </tr>\n  </thead>\n  <tbody>\n    <tr>\n      <th>1</th>\n      <td>SELECT+%3Fvar1+%0AWHERE+%7B%0A++%3Fvar1++%3Cht...</td>\n      <td>2017-06-12 00:27:10</td>\n      <td>organic</td>\n      <td>browser</td>\n      <td>2</td>\n      <td>1</td>\n      <td>0</td>\n      <td>1</td>\n      <td>0</td>\n      <td>0</td>\n      <td>1</td>\n      <td>0</td>\n      <td>0</td>\n      <td>0</td>\n      <td>1</td>\n      <td>0</td>\n      <td>0</td>\n      <td>0</td>\n      <td>1</td>\n      <td>0</td>\n      <td>0</td>\n      <td>0</td>\n      <td>0</td>\n      <td>0</td>\n      <td>0</td>\n      <td>0</td>\n      <td>0</td>\n      <td>0</td>\n      <td>0</td>\n      <td>0</td>\n      <td>0</td>\n      <td>0</td>\n      <td>0</td>\n      <td>[[\"var1\", \"http://www.w3.org/2004/02/skos/core...</td>\n      <td>0</td>\n      <td>0</td>\n      <td>0</td>\n      <td>0</td>\n      <td>0</td>\n      <td>0</td>\n      <td>SelectQuery_SelectQuery_{'p': Project_{'p': Fi...</td>\n      <td>0cc0f44d467fc911d5b8d7198cc1c695</td>\n      <td>DiGraph with 2 nodes and 1 edges</td>\n      <td>0</td>\n      <td>gASVSwEAAAAAAACMGG5ldHdvcmt4LmNsYXNzZXMuZGlncm...</td>\n      <td>1</td>\n      <td>2</td>\n      <td>1</td>\n      <td>1</td>\n      <td>1</td>\n      <td>1.000000</td>\n      <td>2</td>\n      <td>data/parsed/I1_status500_Joined.parsed.tsv</td>\n      <td>1</td>\n      <td>True</td>\n      <td>True</td>\n      <td>False</td>\n      <td>False</td>\n      <td>True</td>\n      <td>False</td>\n      <td>False</td>\n      <td>False</td>\n      <td>False</td>\n      <td>True</td>\n      <td>True</td>\n      <td>False</td>\n      <td>False</td>\n      <td>False</td>\n      <td>False</td>\n    </tr>\n    <tr>\n      <th>2</th>\n      <td>SELECT+%3Fvar1+%0AWHERE+%7B%0A++%3Fvar1+%28+%3...</td>\n      <td>2017-06-12 00:33:31</td>\n      <td>organic</td>\n      <td>browser</td>\n      <td>3</td>\n      <td>1</td>\n      <td>0</td>\n      <td>1</td>\n      <td>0</td>\n      <td>1</td>\n      <td>1</td>\n      <td>0</td>\n      <td>0</td>\n      <td>0</td>\n      <td>1</td>\n      <td>0</td>\n      <td>0</td>\n      <td>0</td>\n      <td>2</td>\n      <td>0</td>\n      <td>0</td>\n      <td>0</td>\n      <td>0</td>\n      <td>0</td>\n      <td>0</td>\n      <td>0</td>\n      <td>0</td>\n      <td>0</td>\n      <td>0</td>\n      <td>0</td>\n      <td>0</td>\n      <td>0</td>\n      <td>1</td>\n      <td>[[\"var1\", \"Path(http://www.wikidata.org/prop/d...</td>\n      <td>0</td>\n      <td>0</td>\n      <td>0</td>\n      <td>0</td>\n      <td>0</td>\n      <td>1</td>\n      <td>SelectQuery_SelectQuery_{'p': Project_{'p': Fi...</td>\n      <td>0aad4f9c7207a6e81bae1412b8b71f6b</td>\n      <td>DiGraph with 3 nodes and 2 edges</td>\n      <td>0</td>\n      <td>gASVawEAAAAAAACMGG5ldHdvcmt4LmNsYXNzZXMuZGlncm...</td>\n      <td>1</td>\n      <td>3</td>\n      <td>2</td>\n      <td>1</td>\n      <td>1</td>\n      <td>1.333333</td>\n      <td>2</td>\n      <td>data/parsed/I1_status500_Joined.parsed.tsv</td>\n      <td>1</td>\n      <td>True</td>\n      <td>True</td>\n      <td>False</td>\n      <td>False</td>\n      <td>True</td>\n      <td>False</td>\n      <td>False</td>\n      <td>False</td>\n      <td>True</td>\n      <td>True</td>\n      <td>True</td>\n      <td>False</td>\n      <td>False</td>\n      <td>False</td>\n      <td>False</td>\n    </tr>\n    <tr>\n      <th>3</th>\n      <td>SELECT%28+COUNT+%28*+%29+AS++%3Fvar1++%29+%3Fv...</td>\n      <td>2017-06-12 00:40:53</td>\n      <td>organic</td>\n      <td>browser</td>\n      <td>31</td>\n      <td>1</td>\n      <td>0</td>\n      <td>1</td>\n      <td>0</td>\n      <td>6</td>\n      <td>2</td>\n      <td>1</td>\n      <td>0</td>\n      <td>0</td>\n      <td>2</td>\n      <td>0</td>\n      <td>1</td>\n      <td>0</td>\n      <td>5</td>\n      <td>16</td>\n      <td>0</td>\n      <td>0</td>\n      <td>0</td>\n      <td>0</td>\n      <td>1</td>\n      <td>0</td>\n      <td>2</td>\n      <td>0</td>\n      <td>0</td>\n      <td>0</td>\n      <td>0</td>\n      <td>0</td>\n      <td>0</td>\n      <td>[[\"var5\", \"http://wikiba.se/ontology#directCla...</td>\n      <td>0</td>\n      <td>0</td>\n      <td>0</td>\n      <td>0</td>\n      <td>0</td>\n      <td>0</td>\n      <td>SelectQuery_SelectQuery_{'p': Project_{'p': Ex...</td>\n      <td>be5a129a0f442122835f879a87d2db4b</td>\n      <td>DiGraph with 10 nodes and 6 edges</td>\n      <td>0</td>\n      <td>gASVcwIAAAAAAACMGG5ldHdvcmt4LmNsYXNzZXMuZGlncm...</td>\n      <td>1</td>\n      <td>10</td>\n      <td>6</td>\n      <td>1</td>\n      <td>0</td>\n      <td>1.200000</td>\n      <td>2</td>\n      <td>data/parsed/I1_status500_Joined.parsed.tsv</td>\n      <td>1</td>\n      <td>True</td>\n      <td>True</td>\n      <td>False</td>\n      <td>False</td>\n      <td>True</td>\n      <td>False</td>\n      <td>False</td>\n      <td>True</td>\n      <td>True</td>\n      <td>True</td>\n      <td>True</td>\n      <td>False</td>\n      <td>False</td>\n      <td>False</td>\n      <td>False</td>\n    </tr>\n    <tr>\n      <th>4</th>\n      <td>SELECT%28+COUNT+%28*+%29+AS++%3Fvar1++%29+%3Fv...</td>\n      <td>2017-06-12 00:49:05</td>\n      <td>organic</td>\n      <td>browser</td>\n      <td>31</td>\n      <td>1</td>\n      <td>0</td>\n      <td>1</td>\n      <td>0</td>\n      <td>6</td>\n      <td>2</td>\n      <td>1</td>\n      <td>0</td>\n      <td>0</td>\n      <td>2</td>\n      <td>0</td>\n      <td>1</td>\n      <td>0</td>\n      <td>5</td>\n      <td>17</td>\n      <td>0</td>\n      <td>0</td>\n      <td>0</td>\n      <td>0</td>\n      <td>1</td>\n      <td>0</td>\n      <td>1</td>\n      <td>0</td>\n      <td>0</td>\n      <td>0</td>\n      <td>0</td>\n      <td>2</td>\n      <td>0</td>\n      <td>[[\"var12\", \"Path(http://www.wikidata.org/prop/...</td>\n      <td>0</td>\n      <td>0</td>\n      <td>0</td>\n      <td>0</td>\n      <td>0</td>\n      <td>2</td>\n      <td>SelectQuery_SelectQuery_{'p': Project_{'p': Ex...</td>\n      <td>d438713278d103547b4d8276260d2f06</td>\n      <td>DiGraph with 10 nodes and 6 edges</td>\n      <td>0</td>\n      <td>gASVcwIAAAAAAACMGG5ldHdvcmt4LmNsYXNzZXMuZGlncm...</td>\n      <td>1</td>\n      <td>10</td>\n      <td>6</td>\n      <td>1</td>\n      <td>0</td>\n      <td>1.200000</td>\n      <td>2</td>\n      <td>data/parsed/I1_status500_Joined.parsed.tsv</td>\n      <td>1</td>\n      <td>True</td>\n      <td>True</td>\n      <td>False</td>\n      <td>False</td>\n      <td>True</td>\n      <td>False</td>\n      <td>False</td>\n      <td>True</td>\n      <td>True</td>\n      <td>True</td>\n      <td>True</td>\n      <td>False</td>\n      <td>False</td>\n      <td>False</td>\n      <td>False</td>\n    </tr>\n    <tr>\n      <th>5</th>\n      <td>SELECT%28+COUNT+%28*+%29+AS++%3Fvar1++%29+%3Fv...</td>\n      <td>2017-06-12 00:50:24</td>\n      <td>organic</td>\n      <td>browser</td>\n      <td>31</td>\n      <td>1</td>\n      <td>0</td>\n      <td>1</td>\n      <td>0</td>\n      <td>6</td>\n      <td>2</td>\n      <td>1</td>\n      <td>0</td>\n      <td>0</td>\n      <td>2</td>\n      <td>0</td>\n      <td>1</td>\n      <td>0</td>\n      <td>5</td>\n      <td>17</td>\n      <td>0</td>\n      <td>0</td>\n      <td>0</td>\n      <td>0</td>\n      <td>1</td>\n      <td>0</td>\n      <td>1</td>\n      <td>0</td>\n      <td>0</td>\n      <td>0</td>\n      <td>0</td>\n      <td>2</td>\n      <td>0</td>\n      <td>[[\"var12\", \"Path(http://www.wikidata.org/prop/...</td>\n      <td>0</td>\n      <td>0</td>\n      <td>0</td>\n      <td>0</td>\n      <td>0</td>\n      <td>2</td>\n      <td>SelectQuery_SelectQuery_{'p': Project_{'p': Ex...</td>\n      <td>1f9c5303338ee73d673822dd6e5fc006</td>\n      <td>DiGraph with 10 nodes and 6 edges</td>\n      <td>0</td>\n      <td>gASVcwIAAAAAAACMGG5ldHdvcmt4LmNsYXNzZXMuZGlncm...</td>\n      <td>1</td>\n      <td>10</td>\n      <td>6</td>\n      <td>1</td>\n      <td>0</td>\n      <td>1.200000</td>\n      <td>2</td>\n      <td>data/parsed/I1_status500_Joined.parsed.tsv</td>\n      <td>1</td>\n      <td>True</td>\n      <td>True</td>\n      <td>False</td>\n      <td>False</td>\n      <td>True</td>\n      <td>False</td>\n      <td>False</td>\n      <td>True</td>\n      <td>True</td>\n      <td>True</td>\n      <td>True</td>\n      <td>False</td>\n      <td>False</td>\n      <td>False</td>\n      <td>False</td>\n    </tr>\n    <tr>\n      <th>...</th>\n      <td>...</td>\n      <td>...</td>\n      <td>...</td>\n      <td>...</td>\n      <td>...</td>\n      <td>...</td>\n      <td>...</td>\n      <td>...</td>\n      <td>...</td>\n      <td>...</td>\n      <td>...</td>\n      <td>...</td>\n      <td>...</td>\n      <td>...</td>\n      <td>...</td>\n      <td>...</td>\n      <td>...</td>\n      <td>...</td>\n      <td>...</td>\n      <td>...</td>\n      <td>...</td>\n      <td>...</td>\n      <td>...</td>\n      <td>...</td>\n      <td>...</td>\n      <td>...</td>\n      <td>...</td>\n      <td>...</td>\n      <td>...</td>\n      <td>...</td>\n      <td>...</td>\n      <td>...</td>\n      <td>...</td>\n      <td>...</td>\n      <td>...</td>\n      <td>...</td>\n      <td>...</td>\n      <td>...</td>\n      <td>...</td>\n      <td>...</td>\n      <td>...</td>\n      <td>...</td>\n      <td>...</td>\n      <td>...</td>\n      <td>...</td>\n      <td>...</td>\n      <td>...</td>\n      <td>...</td>\n      <td>...</td>\n      <td>...</td>\n      <td>...</td>\n      <td>...</td>\n      <td>...</td>\n      <td>...</td>\n      <td>...</td>\n      <td>...</td>\n      <td>...</td>\n      <td>...</td>\n      <td>...</td>\n      <td>...</td>\n      <td>...</td>\n      <td>...</td>\n      <td>...</td>\n      <td>...</td>\n      <td>...</td>\n      <td>...</td>\n      <td>...</td>\n      <td>...</td>\n      <td>...</td>\n    </tr>\n    <tr>\n      <th>42103</th>\n      <td>SELECT+%3Fvar1++%3Fvar2++%3Fvar1Label++%3Fvar3...</td>\n      <td>2018-03-25 21:50:25</td>\n      <td>organic</td>\n      <td>browser</td>\n      <td>5</td>\n      <td>0</td>\n      <td>0</td>\n      <td>1</td>\n      <td>0</td>\n      <td>4</td>\n      <td>1</td>\n      <td>0</td>\n      <td>0</td>\n      <td>0</td>\n      <td>3</td>\n      <td>0</td>\n      <td>0</td>\n      <td>1</td>\n      <td>5</td>\n      <td>0</td>\n      <td>0</td>\n      <td>1</td>\n      <td>0</td>\n      <td>0</td>\n      <td>0</td>\n      <td>0</td>\n      <td>0</td>\n      <td>0</td>\n      <td>0</td>\n      <td>0</td>\n      <td>0</td>\n      <td>0</td>\n      <td>0</td>\n      <td>[[\"var1\", \"http://www.wikidata.org/prop/direct...</td>\n      <td>1</td>\n      <td>100</td>\n      <td>0</td>\n      <td>0</td>\n      <td>0</td>\n      <td>0</td>\n      <td>SelectQuery_SelectQuery_{'p': Slice_{'p': Proj...</td>\n      <td>b1b4cc633e4232d4ec9e93df5d9d511c</td>\n      <td>DiGraph with 8 nodes and 6 edges</td>\n      <td>0</td>\n      <td>gASVpAIAAAAAAACMGG5ldHdvcmt4LmNsYXNzZXMuZGlncm...</td>\n      <td>1</td>\n      <td>8</td>\n      <td>6</td>\n      <td>1</td>\n      <td>0</td>\n      <td>1.500000</td>\n      <td>2</td>\n      <td>data/parsed/I7_status500_Joined.parsed.tsv</td>\n      <td>7</td>\n      <td>True</td>\n      <td>False</td>\n      <td>False</td>\n      <td>True</td>\n      <td>True</td>\n      <td>False</td>\n      <td>False</td>\n      <td>False</td>\n      <td>True</td>\n      <td>True</td>\n      <td>True</td>\n      <td>False</td>\n      <td>False</td>\n      <td>True</td>\n      <td>False</td>\n    </tr>\n    <tr>\n      <th>42104</th>\n      <td>SELECT+%3Fvar1++%3Fvar2++%3Fvar3+%0AWHERE+%7B%...</td>\n      <td>2018-03-25 22:08:09</td>\n      <td>organic</td>\n      <td>browser</td>\n      <td>7</td>\n      <td>1</td>\n      <td>1</td>\n      <td>1</td>\n      <td>0</td>\n      <td>4</td>\n      <td>1</td>\n      <td>0</td>\n      <td>0</td>\n      <td>0</td>\n      <td>3</td>\n      <td>0</td>\n      <td>1</td>\n      <td>1</td>\n      <td>6</td>\n      <td>3</td>\n      <td>0</td>\n      <td>0</td>\n      <td>1</td>\n      <td>0</td>\n      <td>1</td>\n      <td>0</td>\n      <td>2</td>\n      <td>0</td>\n      <td>0</td>\n      <td>0</td>\n      <td>0</td>\n      <td>0</td>\n      <td>0</td>\n      <td>[[\"var1\", \"http://www.wikidata.org/prop/direct...</td>\n      <td>1</td>\n      <td>50</td>\n      <td>0</td>\n      <td>0</td>\n      <td>0</td>\n      <td>0</td>\n      <td>SelectQuery_SelectQuery_{'p': Slice_{'p': Proj...</td>\n      <td>7155708b97d73beacea9be4327c05794</td>\n      <td>DiGraph with 7 nodes and 6 edges</td>\n      <td>0</td>\n      <td>gASVRAIAAAAAAACMGG5ldHdvcmt4LmNsYXNzZXMuZGlncm...</td>\n      <td>1</td>\n      <td>7</td>\n      <td>6</td>\n      <td>1</td>\n      <td>1</td>\n      <td>1.714286</td>\n      <td>2</td>\n      <td>data/parsed/I7_status500_Joined.parsed.tsv</td>\n      <td>7</td>\n      <td>True</td>\n      <td>True</td>\n      <td>True</td>\n      <td>True</td>\n      <td>True</td>\n      <td>False</td>\n      <td>False</td>\n      <td>False</td>\n      <td>True</td>\n      <td>True</td>\n      <td>True</td>\n      <td>False</td>\n      <td>False</td>\n      <td>True</td>\n      <td>False</td>\n    </tr>\n    <tr>\n      <th>42107</th>\n      <td>SELECT+%3Fvar1+%0AWHERE+%7B%0A++%3Fvar1++%3Cht...</td>\n      <td>2018-03-25 22:26:30</td>\n      <td>organic</td>\n      <td>browser</td>\n      <td>3</td>\n      <td>1</td>\n      <td>0</td>\n      <td>1</td>\n      <td>0</td>\n      <td>1</td>\n      <td>1</td>\n      <td>0</td>\n      <td>0</td>\n      <td>0</td>\n      <td>3</td>\n      <td>0</td>\n      <td>0</td>\n      <td>1</td>\n      <td>4</td>\n      <td>0</td>\n      <td>0</td>\n      <td>2</td>\n      <td>0</td>\n      <td>0</td>\n      <td>0</td>\n      <td>0</td>\n      <td>3</td>\n      <td>0</td>\n      <td>0</td>\n      <td>0</td>\n      <td>0</td>\n      <td>0</td>\n      <td>0</td>\n      <td>[[\"var1\", \"http://www.wikidata.org/prop/direct...</td>\n      <td>1</td>\n      <td>5</td>\n      <td>0</td>\n      <td>0</td>\n      <td>0</td>\n      <td>0</td>\n      <td>SelectQuery_SelectQuery_{'p': Slice_{'p': Proj...</td>\n      <td>f0aa33fa1e586b59ae8ded056ef912d7</td>\n      <td>DiGraph with 5 nodes and 4 edges</td>\n      <td>0</td>\n      <td>gASV6QEAAAAAAACMGG5ldHdvcmt4LmNsYXNzZXMuZGlncm...</td>\n      <td>1</td>\n      <td>5</td>\n      <td>4</td>\n      <td>1</td>\n      <td>1</td>\n      <td>1.600000</td>\n      <td>2</td>\n      <td>data/parsed/I7_status500_Joined.parsed.tsv</td>\n      <td>7</td>\n      <td>True</td>\n      <td>True</td>\n      <td>False</td>\n      <td>True</td>\n      <td>True</td>\n      <td>False</td>\n      <td>False</td>\n      <td>False</td>\n      <td>True</td>\n      <td>True</td>\n      <td>True</td>\n      <td>False</td>\n      <td>False</td>\n      <td>True</td>\n      <td>False</td>\n    </tr>\n    <tr>\n      <th>42108</th>\n      <td>SELECT+%3Fvar1+%0AWHERE+%7B%0A++%3Fvar1++%3Cht...</td>\n      <td>2018-03-25 22:27:41</td>\n      <td>organic</td>\n      <td>browser</td>\n      <td>3</td>\n      <td>1</td>\n      <td>0</td>\n      <td>1</td>\n      <td>0</td>\n      <td>1</td>\n      <td>1</td>\n      <td>0</td>\n      <td>0</td>\n      <td>0</td>\n      <td>3</td>\n      <td>0</td>\n      <td>0</td>\n      <td>1</td>\n      <td>4</td>\n      <td>0</td>\n      <td>0</td>\n      <td>2</td>\n      <td>0</td>\n      <td>0</td>\n      <td>0</td>\n      <td>0</td>\n      <td>3</td>\n      <td>0</td>\n      <td>0</td>\n      <td>0</td>\n      <td>0</td>\n      <td>0</td>\n      <td>0</td>\n      <td>[[\"var1\", \"http://www.wikidata.org/prop/direct...</td>\n      <td>1</td>\n      <td>2</td>\n      <td>0</td>\n      <td>0</td>\n      <td>0</td>\n      <td>0</td>\n      <td>SelectQuery_SelectQuery_{'p': Slice_{'p': Proj...</td>\n      <td>520208c64b5485314a25296d5ce879ce</td>\n      <td>DiGraph with 5 nodes and 4 edges</td>\n      <td>0</td>\n      <td>gASV6QEAAAAAAACMGG5ldHdvcmt4LmNsYXNzZXMuZGlncm...</td>\n      <td>1</td>\n      <td>5</td>\n      <td>4</td>\n      <td>1</td>\n      <td>1</td>\n      <td>1.600000</td>\n      <td>2</td>\n      <td>data/parsed/I7_status500_Joined.parsed.tsv</td>\n      <td>7</td>\n      <td>True</td>\n      <td>True</td>\n      <td>False</td>\n      <td>True</td>\n      <td>True</td>\n      <td>False</td>\n      <td>False</td>\n      <td>False</td>\n      <td>True</td>\n      <td>True</td>\n      <td>True</td>\n      <td>False</td>\n      <td>False</td>\n      <td>True</td>\n      <td>False</td>\n    </tr>\n    <tr>\n      <th>42113</th>\n      <td>SELECT+%3Fvar1++%3Fvar2Label++%3Fvar1Label++%3...</td>\n      <td>2018-03-25 23:34:02</td>\n      <td>organic</td>\n      <td>browser</td>\n      <td>8</td>\n      <td>0</td>\n      <td>0</td>\n      <td>1</td>\n      <td>0</td>\n      <td>3</td>\n      <td>1</td>\n      <td>1</td>\n      <td>0</td>\n      <td>0</td>\n      <td>2</td>\n      <td>1</td>\n      <td>0</td>\n      <td>0</td>\n      <td>3</td>\n      <td>0</td>\n      <td>0</td>\n      <td>1</td>\n      <td>0</td>\n      <td>0</td>\n      <td>0</td>\n      <td>0</td>\n      <td>0</td>\n      <td>0</td>\n      <td>0</td>\n      <td>0</td>\n      <td>0</td>\n      <td>0</td>\n      <td>0</td>\n      <td>[[\"var1\", \"http://www.wikidata.org/prop/direct...</td>\n      <td>0</td>\n      <td>0</td>\n      <td>0</td>\n      <td>0</td>\n      <td>0</td>\n      <td>0</td>\n      <td>SelectQuery_SelectQuery_{'p': Project_{'p': Le...</td>\n      <td>70549745568c1ff751d0c82b182d2f4c</td>\n      <td>DiGraph with 7 nodes and 4 edges</td>\n      <td>0</td>\n      <td>gASVFQIAAAAAAACMGG5ldHdvcmt4LmNsYXNzZXMuZGlncm...</td>\n      <td>1</td>\n      <td>7</td>\n      <td>4</td>\n      <td>1</td>\n      <td>0</td>\n      <td>1.142857</td>\n      <td>2</td>\n      <td>data/parsed/I7_status500_Joined.parsed.tsv</td>\n      <td>7</td>\n      <td>True</td>\n      <td>False</td>\n      <td>False</td>\n      <td>False</td>\n      <td>True</td>\n      <td>False</td>\n      <td>False</td>\n      <td>True</td>\n      <td>True</td>\n      <td>True</td>\n      <td>True</td>\n      <td>False</td>\n      <td>True</td>\n      <td>False</td>\n      <td>False</td>\n    </tr>\n  </tbody>\n</table>\n<p>24078 rows × 69 columns</p>\n</div>"
     },
     "metadata": {}
    }
   ]
  },
  {
   "cell_type": "code",
   "metadata": {
    "cell_id": "660e10d9-6a68-4f5d-a5f9-d769a353ac9d",
    "tags": [],
    "deepnote_cell_type": "code",
    "deepnote_cell_height": 65.60000610351562
   },
   "source": "len(df_nona_robotic[df_nona_organic[\"simplePathWith\"] > 0])",
   "execution_count": null,
   "outputs": []
  },
  {
   "cell_type": "code",
   "metadata": {
    "cell_id": "ba250773-514f-4c57-88dd-4ef546e86a66",
    "tags": [],
    "deepnote_to_be_reexecuted": false,
    "source_hash": "84f67c2c",
    "execution_start": 1646996051181,
    "execution_millis": 2,
    "deepnote_cell_type": "code",
    "deepnote_cell_height": 117.39999389648438,
    "deepnote_output_heights": [
     21
    ]
   },
   "source": "len(df_nona_organic)",
   "execution_count": null,
   "outputs": [
    {
     "output_type": "execute_result",
     "execution_count": 85,
     "data": {
      "text/plain": "24078"
     },
     "metadata": {}
    }
   ]
  },
  {
   "cell_type": "code",
   "metadata": {
    "collapsed": false,
    "pycharm": {
     "name": "#%%\n"
    },
    "cell_id": "00014-ae98f918-80c3-454f-9ac9-7310244413ff",
    "deepnote_to_be_reexecuted": false,
    "source_hash": "1e31179e",
    "execution_start": 1646992578499,
    "execution_millis": 9,
    "deepnote_cell_type": "code",
    "deepnote_cell_height": 135.39999389648438,
    "deepnote_output_heights": [
     21
    ]
   },
   "source": "len(df_nona)\n",
   "execution_count": null,
   "outputs": [
    {
     "output_type": "execute_result",
     "execution_count": 10,
     "data": {
      "text/plain": "42117"
     },
     "metadata": {}
    }
   ]
  },
  {
   "cell_type": "code",
   "metadata": {
    "collapsed": false,
    "pycharm": {
     "name": "#%%\n"
    },
    "cell_id": "00015-7e3f4712-09f5-4e13-8923-30919feffa49",
    "deepnote_to_be_reexecuted": false,
    "source_hash": "247faa71",
    "execution_start": 1646992578520,
    "execution_millis": 369,
    "deepnote_table_state": {
     "pageSize": 10,
     "pageIndex": 0,
     "filters": [],
     "sortBy": []
    },
    "deepnote_table_loading": false,
    "deepnote_cell_type": "code",
    "deepnote_cell_height": 1082
   },
   "source": "\ndata = dict()\nfor i in range(1,8):\n    df_nona_interval = df_nona[df_nona[\"interval\"] == i]\n    for type in [\"robotic\", \"organic\"]:\n        df_nona_interval_type = df_nona_interval[df_nona_interval[\"sourceCategory\"] == type]\n        \n        sumVariable = len(df_nona_interval_type[df_nona_interval_type[\"has_variable\"]==True])\n        sumFilter = len(df_nona_interval_type[df_nona_interval_type[\"has_filter\"]==True])\n        sumOrderBy = len(df_nona_interval_type[df_nona_interval_type[\"has_orderby\"]==True])\n        sumLimit = len(df_nona_interval_type[df_nona_interval_type[\"has_limit\"]==True])\n        sumSelect = len(df_nona_interval_type[df_nona_interval_type[\"has_select\"]==True])\n        sumDistinct = len(df_nona_interval_type[df_nona_interval_type[\"has_distinct\"]==True])\n        sumToMultiSet = len(df_nona_interval_type[df_nona_interval_type[\"has_tomultiset\"]==True])\n        sumJoin = len(df_nona_interval_type[df_nona_interval_type[\"has_join\"]==True])\n        sumBGP = len(df_nona_interval_type[df_nona_interval_type[\"has_bgp\"]==True])\n        sumproject = len(df_nona_interval_type[df_nona_interval_type[\"has_project\"]==True])\n        sumUnion = len(df_nona_interval_type[df_nona_interval_type[\"has_union\"]==True])\n        sumValues = len(df_nona_interval_type[df_nona_interval_type[\"has_values\"]==True])\n        sumSlice = len(df_nona_interval_type[df_nona_interval_type[\"has_slice\"]==True])\n        sumSlice = len(df_nona_interval_type[df_nona_interval_type[\"has_offset\"]==True])\n        sumOffset = len(df_nona_interval_type[df_nona_interval_type[\"has_offset\"]==True])\n\n        data['I' + str(i) + \" - \" + type] = [sumVariable,sumValues,sumFilter,sumOrderBy,sumLimit,sumSelect,sumDistinct,sumSlice, sumToMultiSet,sumJoin,sumBGP,sumproject,sumUnion, sumOffset]\n\ndpfr = pd.DataFrame(data=data, index=['Variable','Values','Filter','OrderBy','Limit','Select','Distinct','Slice', 'ToMultiSet','Join','BGP', 'project', 'Union',\"Offset\"])\ndpfr",
   "execution_count": null,
   "outputs": [
    {
     "output_type": "execute_result",
     "execution_count": 11,
     "data": {
      "application/vnd.deepnote.dataframe.v3+json": {
       "column_count": 14,
       "row_count": 14,
       "columns": [
        {
         "name": "I1 - robotic",
         "dtype": "int64",
         "stats": {
          "unique_count": 12,
          "nan_count": 0,
          "min": "47",
          "max": "1284",
          "histogram": [
           {
            "bin_start": 47,
            "bin_end": 170.7,
            "count": 4
           },
           {
            "bin_start": 170.7,
            "bin_end": 294.4,
            "count": 2
           },
           {
            "bin_start": 294.4,
            "bin_end": 418.1,
            "count": 1
           },
           {
            "bin_start": 418.1,
            "bin_end": 541.8,
            "count": 2
           },
           {
            "bin_start": 541.8,
            "bin_end": 665.5,
            "count": 0
           },
           {
            "bin_start": 665.5,
            "bin_end": 789.2,
            "count": 0
           },
           {
            "bin_start": 789.2,
            "bin_end": 912.9,
            "count": 0
           },
           {
            "bin_start": 912.9,
            "bin_end": 1036.6,
            "count": 0
           },
           {
            "bin_start": 1036.6,
            "bin_end": 1160.3,
            "count": 1
           },
           {
            "bin_start": 1160.3,
            "bin_end": 1284,
            "count": 4
           }
          ]
         }
        },
        {
         "name": "I1 - organic",
         "dtype": "int64",
         "stats": {
          "unique_count": 13,
          "nan_count": 0,
          "min": "10",
          "max": "2567",
          "histogram": [
           {
            "bin_start": 10,
            "bin_end": 265.7,
            "count": 4
           },
           {
            "bin_start": 265.7,
            "bin_end": 521.4,
            "count": 1
           },
           {
            "bin_start": 521.4,
            "bin_end": 777.0999999999999,
            "count": 2
           },
           {
            "bin_start": 777.0999999999999,
            "bin_end": 1032.8,
            "count": 1
           },
           {
            "bin_start": 1032.8,
            "bin_end": 1288.5,
            "count": 1
           },
           {
            "bin_start": 1288.5,
            "bin_end": 1544.1999999999998,
            "count": 0
           },
           {
            "bin_start": 1544.1999999999998,
            "bin_end": 1799.8999999999999,
            "count": 0
           },
           {
            "bin_start": 1799.8999999999999,
            "bin_end": 2055.6,
            "count": 0
           },
           {
            "bin_start": 2055.6,
            "bin_end": 2311.2999999999997,
            "count": 0
           },
           {
            "bin_start": 2311.2999999999997,
            "bin_end": 2567,
            "count": 5
           }
          ]
         }
        },
        {
         "name": "I2 - robotic",
         "dtype": "int64",
         "stats": {
          "unique_count": 12,
          "nan_count": 0,
          "min": "60",
          "max": "951",
          "histogram": [
           {
            "bin_start": 60,
            "bin_end": 149.1,
            "count": 4
           },
           {
            "bin_start": 149.1,
            "bin_end": 238.2,
            "count": 2
           },
           {
            "bin_start": 238.2,
            "bin_end": 327.29999999999995,
            "count": 1
           },
           {
            "bin_start": 327.29999999999995,
            "bin_end": 416.4,
            "count": 1
           },
           {
            "bin_start": 416.4,
            "bin_end": 505.5,
            "count": 0
           },
           {
            "bin_start": 505.5,
            "bin_end": 594.5999999999999,
            "count": 1
           },
           {
            "bin_start": 594.5999999999999,
            "bin_end": 683.6999999999999,
            "count": 0
           },
           {
            "bin_start": 683.6999999999999,
            "bin_end": 772.8,
            "count": 0
           },
           {
            "bin_start": 772.8,
            "bin_end": 861.9,
            "count": 1
           },
           {
            "bin_start": 861.9,
            "bin_end": 951,
            "count": 4
           }
          ]
         }
        },
        {
         "name": "I2 - organic",
         "dtype": "int64",
         "stats": {
          "unique_count": 13,
          "nan_count": 0,
          "min": "62",
          "max": "3508",
          "histogram": [
           {
            "bin_start": 62,
            "bin_end": 406.6,
            "count": 4
           },
           {
            "bin_start": 406.6,
            "bin_end": 751.2,
            "count": 1
           },
           {
            "bin_start": 751.2,
            "bin_end": 1095.8000000000002,
            "count": 1
           },
           {
            "bin_start": 1095.8000000000002,
            "bin_end": 1440.4,
            "count": 1
           },
           {
            "bin_start": 1440.4,
            "bin_end": 1785,
            "count": 2
           },
           {
            "bin_start": 1785,
            "bin_end": 2129.6000000000004,
            "count": 0
           },
           {
            "bin_start": 2129.6000000000004,
            "bin_end": 2474.2000000000003,
            "count": 0
           },
           {
            "bin_start": 2474.2000000000003,
            "bin_end": 2818.8,
            "count": 0
           },
           {
            "bin_start": 2818.8,
            "bin_end": 3163.4,
            "count": 0
           },
           {
            "bin_start": 3163.4,
            "bin_end": 3508,
            "count": 5
           }
          ]
         }
        },
        {
         "name": "I3 - robotic",
         "dtype": "int64",
         "stats": {
          "unique_count": 12,
          "nan_count": 0,
          "min": "146",
          "max": "1774",
          "histogram": [
           {
            "bin_start": 146,
            "bin_end": 308.8,
            "count": 5
           },
           {
            "bin_start": 308.8,
            "bin_end": 471.6,
            "count": 1
           },
           {
            "bin_start": 471.6,
            "bin_end": 634.4000000000001,
            "count": 0
           },
           {
            "bin_start": 634.4000000000001,
            "bin_end": 797.2,
            "count": 1
           },
           {
            "bin_start": 797.2,
            "bin_end": 960,
            "count": 2
           },
           {
            "bin_start": 960,
            "bin_end": 1122.8000000000002,
            "count": 0
           },
           {
            "bin_start": 1122.8000000000002,
            "bin_end": 1285.6000000000001,
            "count": 0
           },
           {
            "bin_start": 1285.6000000000001,
            "bin_end": 1448.4,
            "count": 1
           },
           {
            "bin_start": 1448.4,
            "bin_end": 1611.2,
            "count": 0
           },
           {
            "bin_start": 1611.2,
            "bin_end": 1774,
            "count": 4
           }
          ]
         }
        },
        {
         "name": "I3 - organic",
         "dtype": "int64",
         "stats": {
          "unique_count": 13,
          "nan_count": 0,
          "min": "39",
          "max": "3170",
          "histogram": [
           {
            "bin_start": 39,
            "bin_end": 352.1,
            "count": 4
           },
           {
            "bin_start": 352.1,
            "bin_end": 665.2,
            "count": 1
           },
           {
            "bin_start": 665.2,
            "bin_end": 978.3000000000001,
            "count": 1
           },
           {
            "bin_start": 978.3000000000001,
            "bin_end": 1291.4,
            "count": 1
           },
           {
            "bin_start": 1291.4,
            "bin_end": 1604.5,
            "count": 2
           },
           {
            "bin_start": 1604.5,
            "bin_end": 1917.6000000000001,
            "count": 0
           },
           {
            "bin_start": 1917.6000000000001,
            "bin_end": 2230.7000000000003,
            "count": 0
           },
           {
            "bin_start": 2230.7000000000003,
            "bin_end": 2543.8,
            "count": 0
           },
           {
            "bin_start": 2543.8,
            "bin_end": 2856.9,
            "count": 0
           },
           {
            "bin_start": 2856.9,
            "bin_end": 3170,
            "count": 5
           }
          ]
         }
        },
        {
         "name": "I4 - robotic",
         "dtype": "int64",
         "stats": {
          "unique_count": 11,
          "nan_count": 0,
          "min": "48",
          "max": "2782",
          "histogram": [
           {
            "bin_start": 48,
            "bin_end": 321.4,
            "count": 2
           },
           {
            "bin_start": 321.4,
            "bin_end": 594.8,
            "count": 2
           },
           {
            "bin_start": 594.8,
            "bin_end": 868.1999999999999,
            "count": 0
           },
           {
            "bin_start": 868.1999999999999,
            "bin_end": 1141.6,
            "count": 2
           },
           {
            "bin_start": 1141.6,
            "bin_end": 1415,
            "count": 0
           },
           {
            "bin_start": 1415,
            "bin_end": 1688.3999999999999,
            "count": 3
           },
           {
            "bin_start": 1688.3999999999999,
            "bin_end": 1961.7999999999997,
            "count": 0
           },
           {
            "bin_start": 1961.7999999999997,
            "bin_end": 2235.2,
            "count": 0
           },
           {
            "bin_start": 2235.2,
            "bin_end": 2508.6,
            "count": 0
           },
           {
            "bin_start": 2508.6,
            "bin_end": 2782,
            "count": 5
           }
          ]
         }
        },
        {
         "name": "I4 - organic",
         "dtype": "int64",
         "stats": {
          "unique_count": 13,
          "nan_count": 0,
          "min": "68",
          "max": "2988",
          "histogram": [
           {
            "bin_start": 68,
            "bin_end": 360,
            "count": 5
           },
           {
            "bin_start": 360,
            "bin_end": 652,
            "count": 0
           },
           {
            "bin_start": 652,
            "bin_end": 944,
            "count": 2
           },
           {
            "bin_start": 944,
            "bin_end": 1236,
            "count": 0
           },
           {
            "bin_start": 1236,
            "bin_end": 1528,
            "count": 2
           },
           {
            "bin_start": 1528,
            "bin_end": 1820,
            "count": 0
           },
           {
            "bin_start": 1820,
            "bin_end": 2112,
            "count": 0
           },
           {
            "bin_start": 2112,
            "bin_end": 2404,
            "count": 0
           },
           {
            "bin_start": 2404,
            "bin_end": 2696,
            "count": 1
           },
           {
            "bin_start": 2696,
            "bin_end": 2988,
            "count": 4
           }
          ]
         }
        },
        {
         "name": "I5 - robotic",
         "dtype": "int64",
         "stats": {
          "unique_count": 12,
          "nan_count": 0,
          "min": "140",
          "max": "2846",
          "histogram": [
           {
            "bin_start": 140,
            "bin_end": 410.6,
            "count": 3
           },
           {
            "bin_start": 410.6,
            "bin_end": 681.2,
            "count": 1
           },
           {
            "bin_start": 681.2,
            "bin_end": 951.8000000000001,
            "count": 1
           },
           {
            "bin_start": 951.8000000000001,
            "bin_end": 1222.4,
            "count": 1
           },
           {
            "bin_start": 1222.4,
            "bin_end": 1493,
            "count": 1
           },
           {
            "bin_start": 1493,
            "bin_end": 1763.6000000000001,
            "count": 0
           },
           {
            "bin_start": 1763.6000000000001,
            "bin_end": 2034.2000000000003,
            "count": 1
           },
           {
            "bin_start": 2034.2000000000003,
            "bin_end": 2304.8,
            "count": 1
           },
           {
            "bin_start": 2304.8,
            "bin_end": 2575.4,
            "count": 0
           },
           {
            "bin_start": 2575.4,
            "bin_end": 2846,
            "count": 5
           }
          ]
         }
        },
        {
         "name": "I5 - organic",
         "dtype": "int64",
         "stats": {
          "unique_count": 12,
          "nan_count": 0,
          "min": "21",
          "max": "3447",
          "histogram": [
           {
            "bin_start": 21,
            "bin_end": 363.6,
            "count": 4
           },
           {
            "bin_start": 363.6,
            "bin_end": 706.2,
            "count": 1
           },
           {
            "bin_start": 706.2,
            "bin_end": 1048.8000000000002,
            "count": 2
           },
           {
            "bin_start": 1048.8000000000002,
            "bin_end": 1391.4,
            "count": 0
           },
           {
            "bin_start": 1391.4,
            "bin_end": 1734,
            "count": 1
           },
           {
            "bin_start": 1734,
            "bin_end": 2076.6000000000004,
            "count": 1
           },
           {
            "bin_start": 2076.6000000000004,
            "bin_end": 2419.2000000000003,
            "count": 0
           },
           {
            "bin_start": 2419.2000000000003,
            "bin_end": 2761.8,
            "count": 0
           },
           {
            "bin_start": 2761.8,
            "bin_end": 3104.4,
            "count": 0
           },
           {
            "bin_start": 3104.4,
            "bin_end": 3447,
            "count": 5
           }
          ]
         }
        },
        {
         "name": "I6 - robotic",
         "dtype": "int64",
         "stats": {
          "unique_count": 11,
          "nan_count": 0,
          "min": "112",
          "max": "3944",
          "histogram": [
           {
            "bin_start": 112,
            "bin_end": 495.2,
            "count": 2
           },
           {
            "bin_start": 495.2,
            "bin_end": 878.4,
            "count": 1
           },
           {
            "bin_start": 878.4,
            "bin_end": 1261.6,
            "count": 2
           },
           {
            "bin_start": 1261.6,
            "bin_end": 1644.8,
            "count": 2
           },
           {
            "bin_start": 1644.8,
            "bin_end": 2028,
            "count": 0
           },
           {
            "bin_start": 2028,
            "bin_end": 2411.2,
            "count": 0
           },
           {
            "bin_start": 2411.2,
            "bin_end": 2794.4,
            "count": 2
           },
           {
            "bin_start": 2794.4,
            "bin_end": 3177.6,
            "count": 0
           },
           {
            "bin_start": 3177.6,
            "bin_end": 3560.7999999999997,
            "count": 0
           },
           {
            "bin_start": 3560.7999999999997,
            "bin_end": 3944,
            "count": 5
           }
          ]
         }
        },
        {
         "name": "I6 - organic",
         "dtype": "int64",
         "stats": {
          "unique_count": 13,
          "nan_count": 0,
          "min": "26",
          "max": "4073",
          "histogram": [
           {
            "bin_start": 26,
            "bin_end": 430.7,
            "count": 4
           },
           {
            "bin_start": 430.7,
            "bin_end": 835.4,
            "count": 1
           },
           {
            "bin_start": 835.4,
            "bin_end": 1240.1,
            "count": 2
           },
           {
            "bin_start": 1240.1,
            "bin_end": 1644.8,
            "count": 0
           },
           {
            "bin_start": 1644.8,
            "bin_end": 2049.5,
            "count": 1
           },
           {
            "bin_start": 2049.5,
            "bin_end": 2454.2,
            "count": 1
           },
           {
            "bin_start": 2454.2,
            "bin_end": 2858.9,
            "count": 0
           },
           {
            "bin_start": 2858.9,
            "bin_end": 3263.6,
            "count": 0
           },
           {
            "bin_start": 3263.6,
            "bin_end": 3668.2999999999997,
            "count": 0
           },
           {
            "bin_start": 3668.2999999999997,
            "bin_end": 4073,
            "count": 5
           }
          ]
         }
        },
        {
         "name": "I7 - robotic",
         "dtype": "int64",
         "stats": {
          "unique_count": 11,
          "nan_count": 0,
          "min": "31",
          "max": "4458",
          "histogram": [
           {
            "bin_start": 31,
            "bin_end": 473.7,
            "count": 2
           },
           {
            "bin_start": 473.7,
            "bin_end": 916.4,
            "count": 1
           },
           {
            "bin_start": 916.4,
            "bin_end": 1359.1,
            "count": 1
           },
           {
            "bin_start": 1359.1,
            "bin_end": 1801.8,
            "count": 3
           },
           {
            "bin_start": 1801.8,
            "bin_end": 2244.5,
            "count": 0
           },
           {
            "bin_start": 2244.5,
            "bin_end": 2687.2,
            "count": 0
           },
           {
            "bin_start": 2687.2,
            "bin_end": 3129.9,
            "count": 1
           },
           {
            "bin_start": 3129.9,
            "bin_end": 3572.6,
            "count": 1
           },
           {
            "bin_start": 3572.6,
            "bin_end": 4015.2999999999997,
            "count": 0
           },
           {
            "bin_start": 4015.2999999999997,
            "bin_end": 4458,
            "count": 5
           }
          ]
         }
        },
        {
         "name": "I7 - organic",
         "dtype": "int64",
         "stats": {
          "unique_count": 13,
          "nan_count": 0,
          "min": "49",
          "max": "4325",
          "histogram": [
           {
            "bin_start": 49,
            "bin_end": 476.6,
            "count": 4
           },
           {
            "bin_start": 476.6,
            "bin_end": 904.2,
            "count": 1
           },
           {
            "bin_start": 904.2,
            "bin_end": 1331.8000000000002,
            "count": 2
           },
           {
            "bin_start": 1331.8000000000002,
            "bin_end": 1759.4,
            "count": 0
           },
           {
            "bin_start": 1759.4,
            "bin_end": 2187,
            "count": 2
           },
           {
            "bin_start": 2187,
            "bin_end": 2614.6000000000004,
            "count": 0
           },
           {
            "bin_start": 2614.6000000000004,
            "bin_end": 3042.2000000000003,
            "count": 0
           },
           {
            "bin_start": 3042.2000000000003,
            "bin_end": 3469.8,
            "count": 0
           },
           {
            "bin_start": 3469.8,
            "bin_end": 3897.4,
            "count": 0
           },
           {
            "bin_start": 3897.4,
            "bin_end": 4325,
            "count": 5
           }
          ]
         }
        },
        {
         "name": "_deepnote_index_column",
         "dtype": "object"
        }
       ],
       "rows": [
        {
         "I1 - robotic": 1284,
         "I1 - organic": 2564,
         "I2 - robotic": 951,
         "I2 - organic": 3503,
         "I3 - robotic": 1774,
         "I3 - organic": 3169,
         "I4 - robotic": 2782,
         "I4 - organic": 2986,
         "I5 - robotic": 2846,
         "I5 - organic": 3447,
         "I6 - robotic": 3944,
         "I6 - organic": 4071,
         "I7 - robotic": 4458,
         "I7 - organic": 4319,
         "_deepnote_index_column": "Variable"
        },
        {
         "I1 - robotic": 137,
         "I1 - organic": 75,
         "I2 - robotic": 88,
         "I2 - organic": 115,
         "I3 - robotic": 146,
         "I3 - organic": 161,
         "I4 - robotic": 896,
         "I4 - organic": 101,
         "I5 - robotic": 861,
         "I5 - organic": 136,
         "I6 - robotic": 1118,
         "I6 - organic": 227,
         "I7 - robotic": 1280,
         "I7 - organic": 191,
         "_deepnote_index_column": "Values"
        },
        {
         "I1 - robotic": 522,
         "I1 - organic": 1105,
         "I2 - robotic": 575,
         "I2 - organic": 1641,
         "I3 - robotic": 850,
         "I3 - organic": 1466,
         "I4 - robotic": 1511,
         "I4 - organic": 1321,
         "I5 - robotic": 2006,
         "I5 - organic": 1655,
         "I6 - robotic": 2678,
         "I6 - organic": 1809,
         "I7 - robotic": 2981,
         "I7 - organic": 1975,
         "_deepnote_index_column": "Filter"
        },
        {
         "I1 - robotic": 212,
         "I1 - organic": 742,
         "I2 - robotic": 287,
         "I2 - organic": 1124,
         "I3 - robotic": 439,
         "I3 - organic": 1012,
         "I4 - robotic": 271,
         "I4 - organic": 776,
         "I5 - robotic": 440,
         "I5 - organic": 856,
         "I6 - robotic": 1013,
         "I6 - organic": 1238,
         "I7 - robotic": 1374,
         "I7 - organic": 1204,
         "_deepnote_index_column": "OrderBy"
        },
        {
         "I1 - robotic": 382,
         "I1 - organic": 965,
         "I2 - robotic": 408,
         "I2 - organic": 1544,
         "I3 - robotic": 903,
         "I3 - organic": 1563,
         "I4 - robotic": 1572,
         "I4 - organic": 1505,
         "I5 - robotic": 1440,
         "I5 - organic": 1830,
         "I6 - robotic": 1633,
         "I6 - organic": 2091,
         "I7 - robotic": 1660,
         "I7 - organic": 2172,
         "_deepnote_index_column": "Limit"
        },
        {
         "I1 - robotic": 1283,
         "I1 - organic": 2559,
         "I2 - robotic": 950,
         "I2 - organic": 3500,
         "I3 - robotic": 1761,
         "I3 - organic": 3163,
         "I4 - robotic": 2780,
         "I4 - organic": 2972,
         "I5 - robotic": 2843,
         "I5 - organic": 3435,
         "I6 - robotic": 3930,
         "I6 - organic": 4056,
         "I7 - robotic": 4453,
         "I7 - organic": 4281,
         "_deepnote_index_column": "Select"
        },
        {
         "I1 - robotic": 454,
         "I1 - organic": 592,
         "I2 - robotic": 221,
         "I2 - organic": 872,
         "I3 - robotic": 690,
         "I3 - organic": 937,
         "I4 - robotic": 1615,
         "I4 - organic": 781,
         "I5 - robotic": 2048,
         "I5 - organic": 914,
         "I6 - robotic": 2652,
         "I6 - organic": 1146,
         "I7 - robotic": 3190,
         "I7 - organic": 1194,
         "_deepnote_index_column": "Distinct"
        },
        {
         "I1 - robotic": 49,
         "I1 - organic": 10,
         "I2 - robotic": 74,
         "I2 - organic": 62,
         "I3 - robotic": 248,
         "I3 - organic": 39,
         "I4 - robotic": 421,
         "I4 - organic": 68,
         "I5 - robotic": 189,
         "I5 - organic": 21,
         "I6 - robotic": 112,
         "I6 - organic": 26,
         "I7 - robotic": 31,
         "I7 - organic": 49,
         "_deepnote_index_column": "Slice"
        },
        {
         "I1 - robotic": 240,
         "I1 - organic": 267,
         "I2 - robotic": 178,
         "I2 - organic": 508,
         "I3 - robotic": 204,
         "I3 - organic": 543,
         "I4 - robotic": 960,
         "I4 - organic": 353,
         "I5 - robotic": 1002,
         "I5 - organic": 586,
         "I6 - robotic": 1323,
         "I6 - organic": 714,
         "I7 - robotic": 1426,
         "I7 - organic": 701,
         "_deepnote_index_column": "ToMultiSet"
        },
        {
         "I1 - robotic": 1077,
         "I1 - organic": 2315,
         "I2 - robotic": 781,
         "I2 - organic": 3185,
         "I3 - robotic": 1398,
         "I3 - organic": 2919,
         "I4 - robotic": 2728,
         "I4 - organic": 2695,
         "I5 - robotic": 2670,
         "I5 - organic": 3164,
         "I6 - robotic": 3718,
         "I6 - organic": 3752,
         "I7 - robotic": 4034,
         "I7 - organic": 3976,
         "_deepnote_index_column": "Join"
        }
       ]
      },
      "text/plain": "            I1 - robotic  I1 - organic  I2 - robotic  I2 - organic  \\\nVariable            1284          2564           951          3503   \nValues               137            75            88           115   \nFilter               522          1105           575          1641   \nOrderBy              212           742           287          1124   \nLimit                382           965           408          1544   \nSelect              1283          2559           950          3500   \nDistinct             454           592           221           872   \nSlice                 49            10            74            62   \nToMultiSet           240           267           178           508   \nJoin                1077          2315           781          3185   \nBGP                 1282          2480           946          3464   \nproject             1284          2567           951          3508   \nUnion                 47           159            60           266   \nOffset                49            10            74            62   \n\n            I3 - robotic  I3 - organic  I4 - robotic  I4 - organic  \\\nVariable            1774          3169          2782          2986   \nValues               146           161           896           101   \nFilter               850          1466          1511          1321   \nOrderBy              439          1012           271           776   \nLimit                903          1563          1572          1505   \nSelect              1761          3163          2780          2972   \nDistinct             690           937          1615           781   \nSlice                248            39           421            68   \nToMultiSet           204           543           960           353   \nJoin                1398          2919          2728          2695   \nBGP                 1733          3150          2782          2970   \nproject             1774          3170          2782          2988   \nUnion                200           206            48           126   \nOffset               248            39           421            68   \n\n            I5 - robotic  I5 - organic  I6 - robotic  I6 - organic  \\\nVariable            2846          3447          3944          4071   \nValues               861           136          1118           227   \nFilter              2006          1655          2678          1809   \nOrderBy              440           856          1013          1238   \nLimit               1440          1830          1633          2091   \nSelect              2843          3435          3930          4056   \nDistinct            2048           914          2652          1146   \nSlice                189            21           112            26   \nToMultiSet          1002           586          1323           714   \nJoin                2670          3164          3718          3752   \nBGP                 2845          3406          3944          4032   \nproject             2846          3447          3944          4073   \nUnion                140           182           529           263   \nOffset               189            21           112            26   \n\n            I7 - robotic  I7 - organic  \nVariable            4458          4319  \nValues              1280           191  \nFilter              2981          1975  \nOrderBy             1374          1204  \nLimit               1660          2172  \nSelect              4453          4281  \nDistinct            3190          1194  \nSlice                 31            49  \nToMultiSet          1426           701  \nJoin                4034          3976  \nBGP                 4458          4296  \nproject             4458          4325  \nUnion                600           255  \nOffset                31            49  ",
      "text/html": "<div>\n<style scoped>\n    .dataframe tbody tr th:only-of-type {\n        vertical-align: middle;\n    }\n\n    .dataframe tbody tr th {\n        vertical-align: top;\n    }\n\n    .dataframe thead th {\n        text-align: right;\n    }\n</style>\n<table border=\"1\" class=\"dataframe\">\n  <thead>\n    <tr style=\"text-align: right;\">\n      <th></th>\n      <th>I1 - robotic</th>\n      <th>I1 - organic</th>\n      <th>I2 - robotic</th>\n      <th>I2 - organic</th>\n      <th>I3 - robotic</th>\n      <th>I3 - organic</th>\n      <th>I4 - robotic</th>\n      <th>I4 - organic</th>\n      <th>I5 - robotic</th>\n      <th>I5 - organic</th>\n      <th>I6 - robotic</th>\n      <th>I6 - organic</th>\n      <th>I7 - robotic</th>\n      <th>I7 - organic</th>\n    </tr>\n  </thead>\n  <tbody>\n    <tr>\n      <th>Variable</th>\n      <td>1284</td>\n      <td>2564</td>\n      <td>951</td>\n      <td>3503</td>\n      <td>1774</td>\n      <td>3169</td>\n      <td>2782</td>\n      <td>2986</td>\n      <td>2846</td>\n      <td>3447</td>\n      <td>3944</td>\n      <td>4071</td>\n      <td>4458</td>\n      <td>4319</td>\n    </tr>\n    <tr>\n      <th>Values</th>\n      <td>137</td>\n      <td>75</td>\n      <td>88</td>\n      <td>115</td>\n      <td>146</td>\n      <td>161</td>\n      <td>896</td>\n      <td>101</td>\n      <td>861</td>\n      <td>136</td>\n      <td>1118</td>\n      <td>227</td>\n      <td>1280</td>\n      <td>191</td>\n    </tr>\n    <tr>\n      <th>Filter</th>\n      <td>522</td>\n      <td>1105</td>\n      <td>575</td>\n      <td>1641</td>\n      <td>850</td>\n      <td>1466</td>\n      <td>1511</td>\n      <td>1321</td>\n      <td>2006</td>\n      <td>1655</td>\n      <td>2678</td>\n      <td>1809</td>\n      <td>2981</td>\n      <td>1975</td>\n    </tr>\n    <tr>\n      <th>OrderBy</th>\n      <td>212</td>\n      <td>742</td>\n      <td>287</td>\n      <td>1124</td>\n      <td>439</td>\n      <td>1012</td>\n      <td>271</td>\n      <td>776</td>\n      <td>440</td>\n      <td>856</td>\n      <td>1013</td>\n      <td>1238</td>\n      <td>1374</td>\n      <td>1204</td>\n    </tr>\n    <tr>\n      <th>Limit</th>\n      <td>382</td>\n      <td>965</td>\n      <td>408</td>\n      <td>1544</td>\n      <td>903</td>\n      <td>1563</td>\n      <td>1572</td>\n      <td>1505</td>\n      <td>1440</td>\n      <td>1830</td>\n      <td>1633</td>\n      <td>2091</td>\n      <td>1660</td>\n      <td>2172</td>\n    </tr>\n    <tr>\n      <th>Select</th>\n      <td>1283</td>\n      <td>2559</td>\n      <td>950</td>\n      <td>3500</td>\n      <td>1761</td>\n      <td>3163</td>\n      <td>2780</td>\n      <td>2972</td>\n      <td>2843</td>\n      <td>3435</td>\n      <td>3930</td>\n      <td>4056</td>\n      <td>4453</td>\n      <td>4281</td>\n    </tr>\n    <tr>\n      <th>Distinct</th>\n      <td>454</td>\n      <td>592</td>\n      <td>221</td>\n      <td>872</td>\n      <td>690</td>\n      <td>937</td>\n      <td>1615</td>\n      <td>781</td>\n      <td>2048</td>\n      <td>914</td>\n      <td>2652</td>\n      <td>1146</td>\n      <td>3190</td>\n      <td>1194</td>\n    </tr>\n    <tr>\n      <th>Slice</th>\n      <td>49</td>\n      <td>10</td>\n      <td>74</td>\n      <td>62</td>\n      <td>248</td>\n      <td>39</td>\n      <td>421</td>\n      <td>68</td>\n      <td>189</td>\n      <td>21</td>\n      <td>112</td>\n      <td>26</td>\n      <td>31</td>\n      <td>49</td>\n    </tr>\n    <tr>\n      <th>ToMultiSet</th>\n      <td>240</td>\n      <td>267</td>\n      <td>178</td>\n      <td>508</td>\n      <td>204</td>\n      <td>543</td>\n      <td>960</td>\n      <td>353</td>\n      <td>1002</td>\n      <td>586</td>\n      <td>1323</td>\n      <td>714</td>\n      <td>1426</td>\n      <td>701</td>\n    </tr>\n    <tr>\n      <th>Join</th>\n      <td>1077</td>\n      <td>2315</td>\n      <td>781</td>\n      <td>3185</td>\n      <td>1398</td>\n      <td>2919</td>\n      <td>2728</td>\n      <td>2695</td>\n      <td>2670</td>\n      <td>3164</td>\n      <td>3718</td>\n      <td>3752</td>\n      <td>4034</td>\n      <td>3976</td>\n    </tr>\n    <tr>\n      <th>BGP</th>\n      <td>1282</td>\n      <td>2480</td>\n      <td>946</td>\n      <td>3464</td>\n      <td>1733</td>\n      <td>3150</td>\n      <td>2782</td>\n      <td>2970</td>\n      <td>2845</td>\n      <td>3406</td>\n      <td>3944</td>\n      <td>4032</td>\n      <td>4458</td>\n      <td>4296</td>\n    </tr>\n    <tr>\n      <th>project</th>\n      <td>1284</td>\n      <td>2567</td>\n      <td>951</td>\n      <td>3508</td>\n      <td>1774</td>\n      <td>3170</td>\n      <td>2782</td>\n      <td>2988</td>\n      <td>2846</td>\n      <td>3447</td>\n      <td>3944</td>\n      <td>4073</td>\n      <td>4458</td>\n      <td>4325</td>\n    </tr>\n    <tr>\n      <th>Union</th>\n      <td>47</td>\n      <td>159</td>\n      <td>60</td>\n      <td>266</td>\n      <td>200</td>\n      <td>206</td>\n      <td>48</td>\n      <td>126</td>\n      <td>140</td>\n      <td>182</td>\n      <td>529</td>\n      <td>263</td>\n      <td>600</td>\n      <td>255</td>\n    </tr>\n    <tr>\n      <th>Offset</th>\n      <td>49</td>\n      <td>10</td>\n      <td>74</td>\n      <td>62</td>\n      <td>248</td>\n      <td>39</td>\n      <td>421</td>\n      <td>68</td>\n      <td>189</td>\n      <td>21</td>\n      <td>112</td>\n      <td>26</td>\n      <td>31</td>\n      <td>49</td>\n    </tr>\n  </tbody>\n</table>\n</div>"
     },
     "metadata": {}
    }
   ]
  },
  {
   "cell_type": "markdown",
   "source": "### Top 10 with triples",
   "metadata": {
    "tags": [],
    "cell_id": "00016-907ab550-c267-421e-8431-01ee3d9197d1",
    "deepnote_cell_type": "markdown",
    "deepnote_cell_height": 61.600006103515625
   }
  },
  {
   "cell_type": "code",
   "metadata": {
    "tags": [],
    "deepnote_to_be_reexecuted": false,
    "source_hash": "6c52bd4e",
    "execution_start": 1646992578807,
    "execution_millis": 245,
    "is_code_hidden": false,
    "is_output_hidden": false,
    "cell_id": "00017-30edfa8b-dcad-4fd5-a68e-93d2f1da57df",
    "deepnote_cell_type": "code",
    "deepnote_cell_height": 650
   },
   "source": "df_nona_sort_by_triples = df_nona.sort_values([\"triples\"],  ascending=[False])\ndf_nona_sort_by_triples_out = df_nona_sort_by_triples.head(10)\ndf_nona_sort_by_triples_out",
   "execution_count": null,
   "outputs": [
    {
     "output_type": "execute_result",
     "execution_count": 12,
     "data": {
      "application/vnd.deepnote.dataframe.v3+json": {
       "column_count": 69,
       "row_count": 10,
       "columns": [
        {
         "name": "anonymizedQuery",
         "dtype": "object",
         "stats": {
          "unique_count": 10,
          "nan_count": 0,
          "categories": [
           {
            "name": "SELECT%28+COUNT+%28+DISTINCT++%3Fvar1++%29+AS++%3Fvar2++%29%0AWHERE+%7B%0A++%3Fvar3++%3Chttp%3A%2F%2Fschema.org%2Fabout%3E++%3Fvar1+.%0A++%3Fvar3++%3Chttp%3A%2F%2Fschema.org%2FinLanguage%3E++%22en%22.%0A++%3Fvar4++%3Chttp%3A%2F%2Fschema.org%2Fabout%3E++%3Fvar1+.%0A++%3Fvar4++%3Chttp%3A%2F%2Fschema.org%2FinLanguage%3E++%22de%22.%0A++%3Fvar5++%3Chttp%3A%2F%2Fschema.org%2Fabout%3E++%3Fvar1+.%0A++%3Fvar5++%3Chttp%3A%2F%2Fschema.org%2FinLanguage%3E++%22fr%22.%0A++%3Fvar6++%3Chttp%3A%2F%2Fschema.org%2Fabout%3E++%3Fvar1+.%0A++%3Fvar6++%3Chttp%3A%2F%2Fschema.org%2FinLanguage%3E++%22ja%22.%0A++%3Fvar7++%3Chttp%3A%2F%2Fschema.org%2Fabout%3E++%3Fvar1+.%0A++%3Fvar7++%3Chttp%3A%2F%2Fschema.org%2FinLanguage%3E++%22es%22.%0A++%3Fvar8++%3Chttp%3A%2F%2Fschema.org%2Fabout%3E++%3Fvar1+.%0A++%3Fvar8++%3Chttp%3A%2F%2Fschema.org%2FinLanguage%3E++%22ru%22.%0A++%3Fvar9++%3Chttp%3A%2F%2Fschema.org%2Fabout%3E++%3Fvar1+.%0A++%3Fvar9++%3Chttp%3A%2F%2Fschema.org%2FinLanguage%3E++%22zh%22.%0A++%3Fvar10++%3Chttp%3A%2F%2Fschema.org%2Fabout%3E++%3Fvar1+.%0A++%3Fvar10++%3Chttp%3A%2F%2Fschema.org%2FinLanguage%3E++%22it%22.%0A++%3Fvar11++%3Chttp%3A%2F%2Fschema.org%2Fabout%3E++%3Fvar1+.%0A++%3Fvar11++%3Chttp%3A%2F%2Fschema.org%2FinLanguage%3E++%22pt%22.%0A++%3Fvar12++%3Chttp%3A%2F%2Fschema.org%2Fabout%3E++%3Fvar1+.%0A++%3Fvar12++%3Chttp%3A%2F%2Fschema.org%2FinLanguage%3E++%22pl%22.%0A++%3Fvar13++%3Chttp%3A%2F%2Fschema.org%2Fabout%3E++%3Fvar1+.%0A++%3Fvar13++%3Chttp%3A%2F%2Fschema.org%2FinLanguage%3E++%22nl%22.%0A++%3Fvar14++%3Chttp%3A%2F%2Fschema.org%2Fabout%3E++%3Fvar1+.%0A++%3Fvar14++%3Chttp%3A%2F%2Fschema.org%2FinLanguage%3E++%22uk%22.%0A++%3Fvar15++%3Chttp%3A%2F%2Fschema.org%2Fabout%3E++%3Fvar1+.%0A++%3Fvar15++%3Chttp%3A%2F%2Fschema.org%2FinLanguage%3E++%22fa%22.%0A++%3Fvar16++%3Chttp%3A%2F%2Fschema.org%2Fabout%3E++%3Fvar1+.%0A++%3Fvar16++%3Chttp%3A%2F%2Fschema.org%2FinLanguage%3E++%22he%22.%0A++%3Fvar17++%3Chttp%3A%2F%2Fschema.org%2Fabout%3E++%3Fvar1+.%0A++%3Fvar17++%3Chttp%3A%2F%2Fschema.org%2FinLanguage%3E++%22ar%22.%0A++%3Fvar18++%3Chttp%3A%2F%2Fschema.org%2Fabout%3E++%3Fvar1+.%0A++%3Fvar18++%3Chttp%3A%2F%2Fschema.org%2FinLanguage%3E++%22sv%22.%0A++%3Fvar19++%3Chttp%3A%2F%2Fschema.org%2Fabout%3E++%3Fvar1+.%0A++%3Fvar19++%3Chttp%3A%2F%2Fschema.org%2FinLanguage%3E++%22ko%22.%0A++%3Fvar20++%3Chttp%3A%2F%2Fschema.org%2Fabout%3E++%3Fvar1+.%0A++%3Fvar20++%3Chttp%3A%2F%2Fschema.org%2FinLanguage%3E++%22cs%22.%0A++%3Fvar21++%3Chttp%3A%2F%2Fschema.org%2Fabout%3E++%3Fvar1+.%0A++%3Fvar21++%3Chttp%3A%2F%2Fschema.org%2FinLanguage%3E++%22ca%22.%0A++%3Fvar22++%3Chttp%3A%2F%2Fschema.org%2Fabout%3E++%3Fvar1+.%0A++%3Fvar22++%3Chttp%3A%2F%2Fschema.org%2FinLanguage%3E++%22id%22.%0A%7D%0A",
            "count": 1
           },
           {
            "name": "SELECT+*%0AWHERE+%7B%0A+%7B%0A+++%3Fvar1++%3Chttp%3A%2F%2Fwww.wikidata.org%2Fprop%2Fdirect%2FP106%3E++%3Chttp%3A%2F%2Fwww.wikidata.org%2Fentity%2FQ177220%3E+.%0A+++%3Fvar1++%3Chttp%3A%2F%2Fwww.wikidata.org%2Fprop%2Fdirect%2FP106%3E++%3Fvar2+.%0A+++%3Fvar1++%3Chttp%3A%2F%2Fwww.wikidata.org%2Fprop%2Fdirect%2FP31%3E++%3Chttp%3A%2F%2Fwww.wikidata.org%2Fentity%2FQ5%3E+.%0A+++MINUS++++%7B%0A+++++%3Fvar1++%3Chttp%3A%2F%2Fwww.wikidata.org%2Fprop%2Fdirect%2FP570%3E++%3Fvar3+.%0A+++%7D%0A+++%3Fvar1++%3Chttp%3A%2F%2Fwww.w3.org%2F2000%2F01%2Frdf-schema%23label%3E++%3Fvar4Label+.%0A+++%3Fvar1++%3Chttp%3A%2F%2Fschema.org%2Fdescription%3E++%3Fvar5+.%0A+++%3Fvar1++%3Chttp%3A%2F%2Fwww.wikidata.org%2Fprop%2Fdirect%2FP18%3E++%3Fvar6+.%0A+++%3Fvar1++%3Chttp%3A%2F%2Fwww.wikidata.org%2Fprop%2Fdirect%2FP136%3E++_%3Ab0+.%0A+++_%3Ab0++%3Chttp%3A%2F%2Fwww.wikidata.org%2Fprop%2Fdirect%2FP31%3E++%3Chttp%3A%2F%2Fwww.wikidata.org%2Fentity%2FQ188451%3E+.%0A+++%3Fvar1++%3Chttp%3A%2F%2Fwww.wikidata.org%2Fprop%2Fdirect%2FP2850%3E++%3Fvar7+.%0A+++%3Fvar8++%3Chttp%3A%2F%2Fschema.org%2Fabout%3E++%3Fvar1+.%0A+++%3Fvar8++%3Chttp%3A%2F%2Fschema.org%2FisPartOf%3E++%3Chttps%3A%2F%2Fen.wikipedia.org%2F%3E+.%0A++OPTIONAL+%7B%0A+++%3Fvar1++%3Chttp%3A%2F%2Fwww.wikidata.org%2Fprop%2Fdirect%2FP1559%3E++%3Fvar9+.%0A++%7D%0A++OPTIONAL+%7B%0A+++%3Fvar1++%3Chttp%3A%2F%2Fwww.wikidata.org%2Fprop%2Fdirect%2FP856%3E++%3Fvar10+.%0A++%7D%0A++OPTIONAL+%7B%0A+++%3Fvar1++%3Chttp%3A%2F%2Fwww.wikidata.org%2Fprop%2Fdirect%2FP2013%3E++%3Fvar11+.%0A++%7D%0A++OPTIONAL+%7B%0A+++%3Fvar1++%3Chttp%3A%2F%2Fwww.wikidata.org%2Fprop%2Fdirect%2FP2963%3E++%3Fvar12+.%0A++%7D%0A++OPTIONAL+%7B%0A+++%3Fvar1++%3Chttp%3A%2F%2Fwww.wikidata.org%2Fprop%2Fdirect%2FP109%3E++%3Fvar13+.%0A++%7D%0A++OPTIONAL+%7B%0A+++%3Fvar1++%3Chttp%3A%2F%2Fwww.wikidata.org%2Fprop%2Fdirect%2FP2984%3E++%3Fvar14+.%0A++%7D%0A++OPTIONAL+%7B%0A+++%3Fvar1++%3Chttp%3A%2F%2Fwww.wikidata.org%2Fprop%2Fdirect%2FP2003%3E++%3Fvar15+.%0A++%7D%0A++OPTIONAL+%7B%0A+++%3Fvar1++%3Chttp%3A%2F%2Fwww.wikidata.org%2Fprop%2Fdirect%2FP2397%3E++%3Fvar16+.%0A++%7D%0A++OPTIONAL+%7B%0A+++%3Fvar1++%3Chttp%3A%2F%2Fwww.wikidata.org%2Fprop%2Fdirect%2FP1902%3E++%3Fvar17+.%0A++%7D%0A++OPTIONAL+%7B%0A+++%3Fvar1++%3Chttp%3A%2F%2Fwww.wikidata.org%2Fprop%2Fdirect%2FP4265%3E++%3Fvar18+.%0A++%7D%0A++OPTIONAL+%7B%0A+++%3Fvar1++%3Chttp%3A%2F%2Fwww.wikidata.org%2Fprop%2Fdirect%2FP3579%3E++%3Fvar19+.%0A++%7D%0A++OPTIONAL+%7B%0A+++%3Fvar1++%3Chttp%3A%2F%2Fwww.wikidata.org%2Fprop%2Fdirect%2FP3943%3E++%3Fvar20+.%0A++%7D%0A++OPTIONAL+%7B%0A+++%3Fvar1++%3Chttp%3A%2F%2Fwww.wikidata.org%2Fprop%2Fdirect%2FP3185%3E++%3Fvar21+.%0A++%7D%0A++OPTIONAL+%7B%0A+++%3Fvar1++%3Chttp%3A%2F%2Fwww.wikidata.org%2Fprop%2Fdirect%2FP3258%3E++%3Fvar22+.%0A++%7D%0A++OPTIONAL+%7B%0A+++%3Fvar1++%3Chttp%3A%2F%2Fwww.wikidata.org%2Fprop%2Fdirect%2FP2850%3E++%3Fvar7+.%0A++%7D%0A++OPTIONAL+%7B%0A+++%3Fvar1++%3Chttp%3A%2F%2Fwww.wikidata.org%2Fprop%2Fdirect%2FP3040%3E++%3Fvar23+.%0A++%7D%0A++OPTIONAL+%7B%0A+++%3Fvar1++%3Chttp%3A%2F%2Fwww.wikidata.org%2Fprop%2Fdirect%2FP2035%3E++%3Fvar24+.%0A++%7D%0A++OPTIONAL+%7B%0A+++%3Fvar1++%3Chttp%3A%2F%2Fwww.wikidata.org%2Fprop%2Fdirect%2FP3276%3E++%3Fvar25+.%0A++%7D%0A+FILTER+%28+++%28+%28++LANG+%28++%3Fvar4Label++%29++%3D++%22en%22+%29+%26%26+%28++LANG+%28++%3Fvar5++%29++%3D++%22en%22+%29+%29+%0A%29+.%0A+%7D%0A%7D%0AORDER+BY+ASC%28+%3Fvar1+%29%0A",
            "count": 1
           },
           {
            "name": "8 others",
            "count": 8
           }
          ]
         }
        },
        {
         "name": "timestamp",
         "dtype": "object",
         "stats": {
          "unique_count": 10,
          "nan_count": 0,
          "categories": [
           {
            "name": "2017-12-29 05:57:47",
            "count": 1
           },
           {
            "name": "2018-03-03 08:04:08",
            "count": 1
           },
           {
            "name": "8 others",
            "count": 8
           }
          ]
         }
        },
        {
         "name": "sourceCategory",
         "dtype": "object",
         "stats": {
          "unique_count": 2,
          "nan_count": 0,
          "categories": [
           {
            "name": "robotic",
            "count": 6
           },
           {
            "name": "organic",
            "count": 4
           }
          ]
         }
        },
        {
         "name": "user_agent",
         "dtype": "object",
         "stats": {
          "unique_count": 2,
          "nan_count": 0,
          "categories": [
           {
            "name": "UNKNOWN",
            "count": 6
           },
           {
            "name": "browser",
            "count": 4
           }
          ]
         }
        },
        {
         "name": "var_cpt",
         "dtype": "int64",
         "stats": {
          "unique_count": 5,
          "nan_count": 0,
          "min": "9",
          "max": "27",
          "histogram": [
           {
            "bin_start": 9,
            "bin_end": 10.8,
            "count": 1
           },
           {
            "bin_start": 10.8,
            "bin_end": 12.6,
            "count": 0
           },
           {
            "bin_start": 12.6,
            "bin_end": 14.4,
            "count": 0
           },
           {
            "bin_start": 14.4,
            "bin_end": 16.2,
            "count": 0
           },
           {
            "bin_start": 16.2,
            "bin_end": 18,
            "count": 0
           },
           {
            "bin_start": 18,
            "bin_end": 19.8,
            "count": 0
           },
           {
            "bin_start": 19.8,
            "bin_end": 21.6,
            "count": 0
           },
           {
            "bin_start": 21.6,
            "bin_end": 23.4,
            "count": 1
           },
           {
            "bin_start": 23.4,
            "bin_end": 25.2,
            "count": 3
           },
           {
            "bin_start": 25.2,
            "bin_end": 27,
            "count": 5
           }
          ]
         }
        },
        {
         "name": "filter",
         "dtype": "int64",
         "stats": {
          "unique_count": 3,
          "nan_count": 0,
          "min": "0",
          "max": "3",
          "histogram": [
           {
            "bin_start": 0,
            "bin_end": 0.3,
            "count": 1
           },
           {
            "bin_start": 0.3,
            "bin_end": 0.6,
            "count": 0
           },
           {
            "bin_start": 0.6,
            "bin_end": 0.8999999999999999,
            "count": 0
           },
           {
            "bin_start": 0.8999999999999999,
            "bin_end": 1.2,
            "count": 8
           },
           {
            "bin_start": 1.2,
            "bin_end": 1.5,
            "count": 0
           },
           {
            "bin_start": 1.5,
            "bin_end": 1.7999999999999998,
            "count": 0
           },
           {
            "bin_start": 1.7999999999999998,
            "bin_end": 2.1,
            "count": 0
           },
           {
            "bin_start": 2.1,
            "bin_end": 2.4,
            "count": 0
           },
           {
            "bin_start": 2.4,
            "bin_end": 2.6999999999999997,
            "count": 0
           },
           {
            "bin_start": 2.6999999999999997,
            "bin_end": 3,
            "count": 1
           }
          ]
         }
        },
        {
         "name": "orderby",
         "dtype": "int64",
         "stats": {
          "unique_count": 2,
          "nan_count": 0,
          "min": "0",
          "max": "1",
          "histogram": [
           {
            "bin_start": 0,
            "bin_end": 0.1,
            "count": 5
           },
           {
            "bin_start": 0.1,
            "bin_end": 0.2,
            "count": 0
           },
           {
            "bin_start": 0.2,
            "bin_end": 0.30000000000000004,
            "count": 0
           },
           {
            "bin_start": 0.30000000000000004,
            "bin_end": 0.4,
            "count": 0
           },
           {
            "bin_start": 0.4,
            "bin_end": 0.5,
            "count": 0
           },
           {
            "bin_start": 0.5,
            "bin_end": 0.6000000000000001,
            "count": 0
           },
           {
            "bin_start": 0.6000000000000001,
            "bin_end": 0.7000000000000001,
            "count": 0
           },
           {
            "bin_start": 0.7000000000000001,
            "bin_end": 0.8,
            "count": 0
           },
           {
            "bin_start": 0.8,
            "bin_end": 0.9,
            "count": 0
           },
           {
            "bin_start": 0.9,
            "bin_end": 1,
            "count": 5
           }
          ]
         }
        },
        {
         "name": "select",
         "dtype": "int64",
         "stats": {
          "unique_count": 1,
          "nan_count": 0,
          "min": "1",
          "max": "1",
          "histogram": [
           {
            "bin_start": 0.5,
            "bin_end": 0.6,
            "count": 0
           },
           {
            "bin_start": 0.6,
            "bin_end": 0.7,
            "count": 0
           },
           {
            "bin_start": 0.7,
            "bin_end": 0.8,
            "count": 0
           },
           {
            "bin_start": 0.8,
            "bin_end": 0.9,
            "count": 0
           },
           {
            "bin_start": 0.9,
            "bin_end": 1,
            "count": 0
           },
           {
            "bin_start": 1,
            "bin_end": 1.1,
            "count": 10
           },
           {
            "bin_start": 1.1,
            "bin_end": 1.2000000000000002,
            "count": 0
           },
           {
            "bin_start": 1.2000000000000002,
            "bin_end": 1.3,
            "count": 0
           },
           {
            "bin_start": 1.3,
            "bin_end": 1.4,
            "count": 0
           },
           {
            "bin_start": 1.4,
            "bin_end": 1.5,
            "count": 0
           }
          ]
         }
        },
        {
         "name": "distinct",
         "dtype": "int64",
         "stats": {
          "unique_count": 1,
          "nan_count": 0,
          "min": "0",
          "max": "0",
          "histogram": [
           {
            "bin_start": -0.5,
            "bin_end": -0.4,
            "count": 0
           },
           {
            "bin_start": -0.4,
            "bin_end": -0.3,
            "count": 0
           },
           {
            "bin_start": -0.3,
            "bin_end": -0.19999999999999996,
            "count": 0
           },
           {
            "bin_start": -0.19999999999999996,
            "bin_end": -0.09999999999999998,
            "count": 0
           },
           {
            "bin_start": -0.09999999999999998,
            "bin_end": 0,
            "count": 0
           },
           {
            "bin_start": 0,
            "bin_end": 0.10000000000000009,
            "count": 10
           },
           {
            "bin_start": 0.10000000000000009,
            "bin_end": 0.20000000000000007,
            "count": 0
           },
           {
            "bin_start": 0.20000000000000007,
            "bin_end": 0.30000000000000004,
            "count": 0
           },
           {
            "bin_start": 0.30000000000000004,
            "bin_end": 0.4,
            "count": 0
           },
           {
            "bin_start": 0.4,
            "bin_end": 0.5,
            "count": 0
           }
          ]
         }
        },
        {
         "name": "join",
         "dtype": "int64",
         "stats": {
          "unique_count": 6,
          "nan_count": 0,
          "min": "7",
          "max": "39",
          "histogram": [
           {
            "bin_start": 7,
            "bin_end": 10.2,
            "count": 8
           },
           {
            "bin_start": 10.2,
            "bin_end": 13.4,
            "count": 0
           },
           {
            "bin_start": 13.4,
            "bin_end": 16.6,
            "count": 0
           },
           {
            "bin_start": 16.6,
            "bin_end": 19.8,
            "count": 0
           },
           {
            "bin_start": 19.8,
            "bin_end": 23,
            "count": 0
           },
           {
            "bin_start": 23,
            "bin_end": 26.200000000000003,
            "count": 1
           },
           {
            "bin_start": 26.200000000000003,
            "bin_end": 29.400000000000002,
            "count": 0
           },
           {
            "bin_start": 29.400000000000002,
            "bin_end": 32.6,
            "count": 0
           },
           {
            "bin_start": 32.6,
            "bin_end": 35.8,
            "count": 0
           },
           {
            "bin_start": 35.8,
            "bin_end": 39,
            "count": 1
           }
          ]
         }
        },
        {
         "name": "project",
         "dtype": "int64",
         "stats": {
          "unique_count": 1,
          "nan_count": 0,
          "min": "1",
          "max": "1",
          "histogram": [
           {
            "bin_start": 0.5,
            "bin_end": 0.6,
            "count": 0
           },
           {
            "bin_start": 0.6,
            "bin_end": 0.7,
            "count": 0
           },
           {
            "bin_start": 0.7,
            "bin_end": 0.8,
            "count": 0
           },
           {
            "bin_start": 0.8,
            "bin_end": 0.9,
            "count": 0
           },
           {
            "bin_start": 0.9,
            "bin_end": 1,
            "count": 0
           },
           {
            "bin_start": 1,
            "bin_end": 1.1,
            "count": 10
           },
           {
            "bin_start": 1.1,
            "bin_end": 1.2000000000000002,
            "count": 0
           },
           {
            "bin_start": 1.2000000000000002,
            "bin_end": 1.3,
            "count": 0
           },
           {
            "bin_start": 1.3,
            "bin_end": 1.4,
            "count": 0
           },
           {
            "bin_start": 1.4,
            "bin_end": 1.5,
            "count": 0
           }
          ]
         }
        },
        {
         "name": "tomultiset",
         "dtype": "int64",
         "stats": {
          "unique_count": 2,
          "nan_count": 0,
          "min": "0",
          "max": "1",
          "histogram": [
           {
            "bin_start": 0,
            "bin_end": 0.1,
            "count": 9
           },
           {
            "bin_start": 0.1,
            "bin_end": 0.2,
            "count": 0
           },
           {
            "bin_start": 0.2,
            "bin_end": 0.30000000000000004,
            "count": 0
           },
           {
            "bin_start": 0.30000000000000004,
            "bin_end": 0.4,
            "count": 0
           },
           {
            "bin_start": 0.4,
            "bin_end": 0.5,
            "count": 0
           },
           {
            "bin_start": 0.5,
            "bin_end": 0.6000000000000001,
            "count": 0
           },
           {
            "bin_start": 0.6000000000000001,
            "bin_end": 0.7000000000000001,
            "count": 0
           },
           {
            "bin_start": 0.7000000000000001,
            "bin_end": 0.8,
            "count": 0
           },
           {
            "bin_start": 0.8,
            "bin_end": 0.9,
            "count": 0
           },
           {
            "bin_start": 0.9,
            "bin_end": 1,
            "count": 1
           }
          ]
         }
        },
        {
         "name": "union",
         "dtype": "int64",
         "stats": {
          "unique_count": 2,
          "nan_count": 0,
          "min": "0",
          "max": "2",
          "histogram": [
           {
            "bin_start": 0,
            "bin_end": 0.2,
            "count": 9
           },
           {
            "bin_start": 0.2,
            "bin_end": 0.4,
            "count": 0
           },
           {
            "bin_start": 0.4,
            "bin_end": 0.6000000000000001,
            "count": 0
           },
           {
            "bin_start": 0.6000000000000001,
            "bin_end": 0.8,
            "count": 0
           },
           {
            "bin_start": 0.8,
            "bin_end": 1,
            "count": 0
           },
           {
            "bin_start": 1,
            "bin_end": 1.2000000000000002,
            "count": 0
           },
           {
            "bin_start": 1.2000000000000002,
            "bin_end": 1.4000000000000001,
            "count": 0
           },
           {
            "bin_start": 1.4000000000000001,
            "bin_end": 1.6,
            "count": 0
           },
           {
            "bin_start": 1.6,
            "bin_end": 1.8,
            "count": 0
           },
           {
            "bin_start": 1.8,
            "bin_end": 2,
            "count": 1
           }
          ]
         }
        },
        {
         "name": "modify",
         "dtype": "int64",
         "stats": {
          "unique_count": 1,
          "nan_count": 0,
          "min": "0",
          "max": "0",
          "histogram": [
           {
            "bin_start": -0.5,
            "bin_end": -0.4,
            "count": 0
           },
           {
            "bin_start": -0.4,
            "bin_end": -0.3,
            "count": 0
           },
           {
            "bin_start": -0.3,
            "bin_end": -0.19999999999999996,
            "count": 0
           },
           {
            "bin_start": -0.19999999999999996,
            "bin_end": -0.09999999999999998,
            "count": 0
           },
           {
            "bin_start": -0.09999999999999998,
            "bin_end": 0,
            "count": 0
           },
           {
            "bin_start": 0,
            "bin_end": 0.10000000000000009,
            "count": 10
           },
           {
            "bin_start": 0.10000000000000009,
            "bin_end": 0.20000000000000007,
            "count": 0
           },
           {
            "bin_start": 0.20000000000000007,
            "bin_end": 0.30000000000000004,
            "count": 0
           },
           {
            "bin_start": 0.30000000000000004,
            "bin_end": 0.4,
            "count": 0
           },
           {
            "bin_start": 0.4,
            "bin_end": 0.5,
            "count": 0
           }
          ]
         }
        },
        {
         "name": "bgp",
         "dtype": "int64",
         "stats": {
          "unique_count": 5,
          "nan_count": 0,
          "min": "1",
          "max": "21",
          "histogram": [
           {
            "bin_start": 1,
            "bin_end": 3,
            "count": 1
           },
           {
            "bin_start": 3,
            "bin_end": 5,
            "count": 0
           },
           {
            "bin_start": 5,
            "bin_end": 7,
            "count": 0
           },
           {
            "bin_start": 7,
            "bin_end": 9,
            "count": 0
           },
           {
            "bin_start": 9,
            "bin_end": 11,
            "count": 1
           },
           {
            "bin_start": 11,
            "bin_end": 13,
            "count": 0
           },
           {
            "bin_start": 13,
            "bin_end": 15,
            "count": 0
           },
           {
            "bin_start": 15,
            "bin_end": 17,
            "count": 0
           },
           {
            "bin_start": 17,
            "bin_end": 19,
            "count": 0
           },
           {
            "bin_start": 19,
            "bin_end": 21,
            "count": 8
           }
          ]
         }
        },
        {
         "name": "values",
         "dtype": "int64",
         "stats": {
          "unique_count": 2,
          "nan_count": 0,
          "min": "0",
          "max": "1",
          "histogram": [
           {
            "bin_start": 0,
            "bin_end": 0.1,
            "count": 9
           },
           {
            "bin_start": 0.1,
            "bin_end": 0.2,
            "count": 0
           },
           {
            "bin_start": 0.2,
            "bin_end": 0.30000000000000004,
            "count": 0
           },
           {
            "bin_start": 0.30000000000000004,
            "bin_end": 0.4,
            "count": 0
           },
           {
            "bin_start": 0.4,
            "bin_end": 0.5,
            "count": 0
           },
           {
            "bin_start": 0.5,
            "bin_end": 0.6000000000000001,
            "count": 0
           },
           {
            "bin_start": 0.6000000000000001,
            "bin_end": 0.7000000000000001,
            "count": 0
           },
           {
            "bin_start": 0.7000000000000001,
            "bin_end": 0.8,
            "count": 0
           },
           {
            "bin_start": 0.8,
            "bin_end": 0.9,
            "count": 0
           },
           {
            "bin_start": 0.9,
            "bin_end": 1,
            "count": 1
           }
          ]
         }
        },
        {
         "name": "groupBy",
         "dtype": "int64",
         "stats": {
          "unique_count": 2,
          "nan_count": 0,
          "min": "0",
          "max": "1",
          "histogram": [
           {
            "bin_start": 0,
            "bin_end": 0.1,
            "count": 6
           },
           {
            "bin_start": 0.1,
            "bin_end": 0.2,
            "count": 0
           },
           {
            "bin_start": 0.2,
            "bin_end": 0.30000000000000004,
            "count": 0
           },
           {
            "bin_start": 0.30000000000000004,
            "bin_end": 0.4,
            "count": 0
           },
           {
            "bin_start": 0.4,
            "bin_end": 0.5,
            "count": 0
           },
           {
            "bin_start": 0.5,
            "bin_end": 0.6000000000000001,
            "count": 0
           },
           {
            "bin_start": 0.6000000000000001,
            "bin_end": 0.7000000000000001,
            "count": 0
           },
           {
            "bin_start": 0.7000000000000001,
            "bin_end": 0.8,
            "count": 0
           },
           {
            "bin_start": 0.8,
            "bin_end": 0.9,
            "count": 0
           },
           {
            "bin_start": 0.9,
            "bin_end": 1,
            "count": 4
           }
          ]
         }
        },
        {
         "name": "slice",
         "dtype": "int64",
         "stats": {
          "unique_count": 2,
          "nan_count": 0,
          "min": "0",
          "max": "1",
          "histogram": [
           {
            "bin_start": 0,
            "bin_end": 0.1,
            "count": 7
           },
           {
            "bin_start": 0.1,
            "bin_end": 0.2,
            "count": 0
           },
           {
            "bin_start": 0.2,
            "bin_end": 0.30000000000000004,
            "count": 0
           },
           {
            "bin_start": 0.30000000000000004,
            "bin_end": 0.4,
            "count": 0
           },
           {
            "bin_start": 0.4,
            "bin_end": 0.5,
            "count": 0
           },
           {
            "bin_start": 0.5,
            "bin_end": 0.6000000000000001,
            "count": 0
           },
           {
            "bin_start": 0.6000000000000001,
            "bin_end": 0.7000000000000001,
            "count": 0
           },
           {
            "bin_start": 0.7000000000000001,
            "bin_end": 0.8,
            "count": 0
           },
           {
            "bin_start": 0.8,
            "bin_end": 0.9,
            "count": 0
           },
           {
            "bin_start": 0.9,
            "bin_end": 1,
            "count": 3
           }
          ]
         }
        },
        {
         "name": "triples",
         "dtype": "int64",
         "stats": {
          "unique_count": 4,
          "nan_count": 0,
          "min": "27",
          "max": "40",
          "histogram": [
           {
            "bin_start": 27,
            "bin_end": 28.3,
            "count": 7
           },
           {
            "bin_start": 28.3,
            "bin_end": 29.6,
            "count": 0
           },
           {
            "bin_start": 29.6,
            "bin_end": 30.9,
            "count": 2
           },
           {
            "bin_start": 30.9,
            "bin_end": 32.2,
            "count": 0
           },
           {
            "bin_start": 32.2,
            "bin_end": 33.5,
            "count": 0
           },
           {
            "bin_start": 33.5,
            "bin_end": 34.8,
            "count": 0
           },
           {
            "bin_start": 34.8,
            "bin_end": 36.1,
            "count": 0
           },
           {
            "bin_start": 36.1,
            "bin_end": 37.4,
            "count": 0
           },
           {
            "bin_start": 37.4,
            "bin_end": 38.7,
            "count": 0
           },
           {
            "bin_start": 38.7,
            "bin_end": 40,
            "count": 1
           }
          ]
         }
        },
        {
         "name": "extend",
         "dtype": "int64",
         "stats": {
          "unique_count": 2,
          "nan_count": 0,
          "min": "0",
          "max": "1",
          "histogram": [
           {
            "bin_start": 0,
            "bin_end": 0.1,
            "count": 6
           },
           {
            "bin_start": 0.1,
            "bin_end": 0.2,
            "count": 0
           },
           {
            "bin_start": 0.2,
            "bin_end": 0.30000000000000004,
            "count": 0
           },
           {
            "bin_start": 0.30000000000000004,
            "bin_end": 0.4,
            "count": 0
           },
           {
            "bin_start": 0.4,
            "bin_end": 0.5,
            "count": 0
           },
           {
            "bin_start": 0.5,
            "bin_end": 0.6000000000000001,
            "count": 0
           },
           {
            "bin_start": 0.6000000000000001,
            "bin_end": 0.7000000000000001,
            "count": 0
           },
           {
            "bin_start": 0.7000000000000001,
            "bin_end": 0.8,
            "count": 0
           },
           {
            "bin_start": 0.8,
            "bin_end": 0.9,
            "count": 0
           },
           {
            "bin_start": 0.9,
            "bin_end": 1,
            "count": 4
           }
          ]
         }
        },
        {
         "name": "filter_not_exists",
         "dtype": "int64",
         "stats": {
          "unique_count": 1,
          "nan_count": 0,
          "min": "0",
          "max": "0",
          "histogram": [
           {
            "bin_start": -0.5,
            "bin_end": -0.4,
            "count": 0
           },
           {
            "bin_start": -0.4,
            "bin_end": -0.3,
            "count": 0
           },
           {
            "bin_start": -0.3,
            "bin_end": -0.19999999999999996,
            "count": 0
           },
           {
            "bin_start": -0.19999999999999996,
            "bin_end": -0.09999999999999998,
            "count": 0
           },
           {
            "bin_start": -0.09999999999999998,
            "bin_end": 0,
            "count": 0
           },
           {
            "bin_start": 0,
            "bin_end": 0.10000000000000009,
            "count": 10
           },
           {
            "bin_start": 0.10000000000000009,
            "bin_end": 0.20000000000000007,
            "count": 0
           },
           {
            "bin_start": 0.20000000000000007,
            "bin_end": 0.30000000000000004,
            "count": 0
           },
           {
            "bin_start": 0.30000000000000004,
            "bin_end": 0.4,
            "count": 0
           },
           {
            "bin_start": 0.4,
            "bin_end": 0.5,
            "count": 0
           }
          ]
         }
        },
        {
         "name": "leftJoin",
         "dtype": "int64",
         "stats": {
          "unique_count": 5,
          "nan_count": 0,
          "min": "0",
          "max": "19",
          "histogram": [
           {
            "bin_start": 0,
            "bin_end": 1.9,
            "count": 2
           },
           {
            "bin_start": 1.9,
            "bin_end": 3.8,
            "count": 0
           },
           {
            "bin_start": 3.8,
            "bin_end": 5.699999999999999,
            "count": 0
           },
           {
            "bin_start": 5.699999999999999,
            "bin_end": 7.6,
            "count": 0
           },
           {
            "bin_start": 7.6,
            "bin_end": 9.5,
            "count": 0
           },
           {
            "bin_start": 9.5,
            "bin_end": 11.399999999999999,
            "count": 0
           },
           {
            "bin_start": 11.399999999999999,
            "bin_end": 13.299999999999999,
            "count": 0
           },
           {
            "bin_start": 13.299999999999999,
            "bin_end": 15.2,
            "count": 0
           },
           {
            "bin_start": 15.2,
            "bin_end": 17.099999999999998,
            "count": 3
           },
           {
            "bin_start": 17.099999999999998,
            "bin_end": 19,
            "count": 5
           }
          ]
         }
        },
        {
         "name": "minus",
         "dtype": "int64",
         "stats": {
          "unique_count": 3,
          "nan_count": 0,
          "min": "0",
          "max": "3",
          "histogram": [
           {
            "bin_start": 0,
            "bin_end": 0.3,
            "count": 4
           },
           {
            "bin_start": 0.3,
            "bin_end": 0.6,
            "count": 0
           },
           {
            "bin_start": 0.6,
            "bin_end": 0.8999999999999999,
            "count": 0
           },
           {
            "bin_start": 0.8999999999999999,
            "bin_end": 1.2,
            "count": 5
           },
           {
            "bin_start": 1.2,
            "bin_end": 1.5,
            "count": 0
           },
           {
            "bin_start": 1.5,
            "bin_end": 1.7999999999999998,
            "count": 0
           },
           {
            "bin_start": 1.7999999999999998,
            "bin_end": 2.1,
            "count": 0
           },
           {
            "bin_start": 2.1,
            "bin_end": 2.4,
            "count": 0
           },
           {
            "bin_start": 2.4,
            "bin_end": 2.6999999999999997,
            "count": 0
           },
           {
            "bin_start": 2.6999999999999997,
            "bin_end": 3,
            "count": 1
           }
          ]
         }
        },
        {
         "name": "notexist",
         "dtype": "int64",
         "stats": {
          "unique_count": 1,
          "nan_count": 0,
          "min": "0",
          "max": "0",
          "histogram": [
           {
            "bin_start": -0.5,
            "bin_end": -0.4,
            "count": 0
           },
           {
            "bin_start": -0.4,
            "bin_end": -0.3,
            "count": 0
           },
           {
            "bin_start": -0.3,
            "bin_end": -0.19999999999999996,
            "count": 0
           },
           {
            "bin_start": -0.19999999999999996,
            "bin_end": -0.09999999999999998,
            "count": 0
           },
           {
            "bin_start": -0.09999999999999998,
            "bin_end": 0,
            "count": 0
           },
           {
            "bin_start": 0,
            "bin_end": 0.10000000000000009,
            "count": 10
           },
           {
            "bin_start": 0.10000000000000009,
            "bin_end": 0.20000000000000007,
            "count": 0
           },
           {
            "bin_start": 0.20000000000000007,
            "bin_end": 0.30000000000000004,
            "count": 0
           },
           {
            "bin_start": 0.30000000000000004,
            "bin_end": 0.4,
            "count": 0
           },
           {
            "bin_start": 0.4,
            "bin_end": 0.5,
            "count": 0
           }
          ]
         }
        },
        {
         "name": "sample",
         "dtype": "int64",
         "stats": {
          "unique_count": 1,
          "nan_count": 0,
          "min": "0",
          "max": "0",
          "histogram": [
           {
            "bin_start": -0.5,
            "bin_end": -0.4,
            "count": 0
           },
           {
            "bin_start": -0.4,
            "bin_end": -0.3,
            "count": 0
           },
           {
            "bin_start": -0.3,
            "bin_end": -0.19999999999999996,
            "count": 0
           },
           {
            "bin_start": -0.19999999999999996,
            "bin_end": -0.09999999999999998,
            "count": 0
           },
           {
            "bin_start": -0.09999999999999998,
            "bin_end": 0,
            "count": 0
           },
           {
            "bin_start": 0,
            "bin_end": 0.10000000000000009,
            "count": 10
           },
           {
            "bin_start": 0.10000000000000009,
            "bin_end": 0.20000000000000007,
            "count": 0
           },
           {
            "bin_start": 0.20000000000000007,
            "bin_end": 0.30000000000000004,
            "count": 0
           },
           {
            "bin_start": 0.30000000000000004,
            "bin_end": 0.4,
            "count": 0
           },
           {
            "bin_start": 0.4,
            "bin_end": 0.5,
            "count": 0
           }
          ]
         }
        },
        {
         "name": "count",
         "dtype": "int64",
         "stats": {
          "unique_count": 1,
          "nan_count": 0,
          "min": "0",
          "max": "0",
          "histogram": [
           {
            "bin_start": -0.5,
            "bin_end": -0.4,
            "count": 0
           },
           {
            "bin_start": -0.4,
            "bin_end": -0.3,
            "count": 0
           },
           {
            "bin_start": -0.3,
            "bin_end": -0.19999999999999996,
            "count": 0
           },
           {
            "bin_start": -0.19999999999999996,
            "bin_end": -0.09999999999999998,
            "count": 0
           },
           {
            "bin_start": -0.09999999999999998,
            "bin_end": 0,
            "count": 0
           },
           {
            "bin_start": 0,
            "bin_end": 0.10000000000000009,
            "count": 10
           },
           {
            "bin_start": 0.10000000000000009,
            "bin_end": 0.20000000000000007,
            "count": 0
           },
           {
            "bin_start": 0.20000000000000007,
            "bin_end": 0.30000000000000004,
            "count": 0
           },
           {
            "bin_start": 0.30000000000000004,
            "bin_end": 0.4,
            "count": 0
           },
           {
            "bin_start": 0.4,
            "bin_end": 0.5,
            "count": 0
           }
          ]
         }
        },
        {
         "name": "having",
         "dtype": "int64",
         "stats": {
          "unique_count": 4,
          "nan_count": 0,
          "min": "0",
          "max": "6",
          "histogram": [
           {
            "bin_start": 0,
            "bin_end": 0.6,
            "count": 1
           },
           {
            "bin_start": 0.6,
            "bin_end": 1.2,
            "count": 0
           },
           {
            "bin_start": 1.2,
            "bin_end": 1.7999999999999998,
            "count": 0
           },
           {
            "bin_start": 1.7999999999999998,
            "bin_end": 2.4,
            "count": 2
           },
           {
            "bin_start": 2.4,
            "bin_end": 3,
            "count": 0
           },
           {
            "bin_start": 3,
            "bin_end": 3.5999999999999996,
            "count": 6
           },
           {
            "bin_start": 3.5999999999999996,
            "bin_end": 4.2,
            "count": 0
           },
           {
            "bin_start": 4.2,
            "bin_end": 4.8,
            "count": 0
           },
           {
            "bin_start": 4.8,
            "bin_end": 5.3999999999999995,
            "count": 0
           },
           {
            "bin_start": 5.3999999999999995,
            "bin_end": 6,
            "count": 1
           }
          ]
         }
        },
        {
         "name": "pathWithStar",
         "dtype": "int64",
         "stats": {
          "unique_count": 2,
          "nan_count": 0,
          "min": "0",
          "max": "3",
          "histogram": [
           {
            "bin_start": 0,
            "bin_end": 0.3,
            "count": 9
           },
           {
            "bin_start": 0.3,
            "bin_end": 0.6,
            "count": 0
           },
           {
            "bin_start": 0.6,
            "bin_end": 0.8999999999999999,
            "count": 0
           },
           {
            "bin_start": 0.8999999999999999,
            "bin_end": 1.2,
            "count": 0
           },
           {
            "bin_start": 1.2,
            "bin_end": 1.5,
            "count": 0
           },
           {
            "bin_start": 1.5,
            "bin_end": 1.7999999999999998,
            "count": 0
           },
           {
            "bin_start": 1.7999999999999998,
            "bin_end": 2.1,
            "count": 0
           },
           {
            "bin_start": 2.1,
            "bin_end": 2.4,
            "count": 0
           },
           {
            "bin_start": 2.4,
            "bin_end": 2.6999999999999997,
            "count": 0
           },
           {
            "bin_start": 2.6999999999999997,
            "bin_end": 3,
            "count": 1
           }
          ]
         }
        },
        {
         "name": "pathWithPlus",
         "dtype": "int64",
         "stats": {
          "unique_count": 1,
          "nan_count": 0,
          "min": "0",
          "max": "0",
          "histogram": [
           {
            "bin_start": -0.5,
            "bin_end": -0.4,
            "count": 0
           },
           {
            "bin_start": -0.4,
            "bin_end": -0.3,
            "count": 0
           },
           {
            "bin_start": -0.3,
            "bin_end": -0.19999999999999996,
            "count": 0
           },
           {
            "bin_start": -0.19999999999999996,
            "bin_end": -0.09999999999999998,
            "count": 0
           },
           {
            "bin_start": -0.09999999999999998,
            "bin_end": 0,
            "count": 0
           },
           {
            "bin_start": 0,
            "bin_end": 0.10000000000000009,
            "count": 10
           },
           {
            "bin_start": 0.10000000000000009,
            "bin_end": 0.20000000000000007,
            "count": 0
           },
           {
            "bin_start": 0.20000000000000007,
            "bin_end": 0.30000000000000004,
            "count": 0
           },
           {
            "bin_start": 0.30000000000000004,
            "bin_end": 0.4,
            "count": 0
           },
           {
            "bin_start": 0.4,
            "bin_end": 0.5,
            "count": 0
           }
          ]
         }
        },
        {
         "name": "pathWithQuestionMark",
         "dtype": "int64",
         "stats": {
          "unique_count": 1,
          "nan_count": 0,
          "min": "0",
          "max": "0",
          "histogram": [
           {
            "bin_start": -0.5,
            "bin_end": -0.4,
            "count": 0
           },
           {
            "bin_start": -0.4,
            "bin_end": -0.3,
            "count": 0
           },
           {
            "bin_start": -0.3,
            "bin_end": -0.19999999999999996,
            "count": 0
           },
           {
            "bin_start": -0.19999999999999996,
            "bin_end": -0.09999999999999998,
            "count": 0
           },
           {
            "bin_start": -0.09999999999999998,
            "bin_end": 0,
            "count": 0
           },
           {
            "bin_start": 0,
            "bin_end": 0.10000000000000009,
            "count": 10
           },
           {
            "bin_start": 0.10000000000000009,
            "bin_end": 0.20000000000000007,
            "count": 0
           },
           {
            "bin_start": 0.20000000000000007,
            "bin_end": 0.30000000000000004,
            "count": 0
           },
           {
            "bin_start": 0.30000000000000004,
            "bin_end": 0.4,
            "count": 0
           },
           {
            "bin_start": 0.4,
            "bin_end": 0.5,
            "count": 0
           }
          ]
         }
        },
        {
         "name": "pathWithInv",
         "dtype": "int64",
         "stats": {
          "unique_count": 1,
          "nan_count": 0,
          "min": "0",
          "max": "0",
          "histogram": [
           {
            "bin_start": -0.5,
            "bin_end": -0.4,
            "count": 0
           },
           {
            "bin_start": -0.4,
            "bin_end": -0.3,
            "count": 0
           },
           {
            "bin_start": -0.3,
            "bin_end": -0.19999999999999996,
            "count": 0
           },
           {
            "bin_start": -0.19999999999999996,
            "bin_end": -0.09999999999999998,
            "count": 0
           },
           {
            "bin_start": -0.09999999999999998,
            "bin_end": 0,
            "count": 0
           },
           {
            "bin_start": 0,
            "bin_end": 0.10000000000000009,
            "count": 10
           },
           {
            "bin_start": 0.10000000000000009,
            "bin_end": 0.20000000000000007,
            "count": 0
           },
           {
            "bin_start": 0.20000000000000007,
            "bin_end": 0.30000000000000004,
            "count": 0
           },
           {
            "bin_start": 0.30000000000000004,
            "bin_end": 0.4,
            "count": 0
           },
           {
            "bin_start": 0.4,
            "bin_end": 0.5,
            "count": 0
           }
          ]
         }
        },
        {
         "name": "pathWithSequence",
         "dtype": "int64",
         "stats": {
          "unique_count": 2,
          "nan_count": 0,
          "min": "0",
          "max": "3",
          "histogram": [
           {
            "bin_start": 0,
            "bin_end": 0.3,
            "count": 9
           },
           {
            "bin_start": 0.3,
            "bin_end": 0.6,
            "count": 0
           },
           {
            "bin_start": 0.6,
            "bin_end": 0.8999999999999999,
            "count": 0
           },
           {
            "bin_start": 0.8999999999999999,
            "bin_end": 1.2,
            "count": 0
           },
           {
            "bin_start": 1.2,
            "bin_end": 1.5,
            "count": 0
           },
           {
            "bin_start": 1.5,
            "bin_end": 1.7999999999999998,
            "count": 0
           },
           {
            "bin_start": 1.7999999999999998,
            "bin_end": 2.1,
            "count": 0
           },
           {
            "bin_start": 2.1,
            "bin_end": 2.4,
            "count": 0
           },
           {
            "bin_start": 2.4,
            "bin_end": 2.6999999999999997,
            "count": 0
           },
           {
            "bin_start": 2.6999999999999997,
            "bin_end": 3,
            "count": 1
           }
          ]
         }
        },
        {
         "name": "pathWithAlternative",
         "dtype": "int64",
         "stats": {
          "unique_count": 1,
          "nan_count": 0,
          "min": "0",
          "max": "0",
          "histogram": [
           {
            "bin_start": -0.5,
            "bin_end": -0.4,
            "count": 0
           },
           {
            "bin_start": -0.4,
            "bin_end": -0.3,
            "count": 0
           },
           {
            "bin_start": -0.3,
            "bin_end": -0.19999999999999996,
            "count": 0
           },
           {
            "bin_start": -0.19999999999999996,
            "bin_end": -0.09999999999999998,
            "count": 0
           },
           {
            "bin_start": -0.09999999999999998,
            "bin_end": 0,
            "count": 0
           },
           {
            "bin_start": 0,
            "bin_end": 0.10000000000000009,
            "count": 10
           },
           {
            "bin_start": 0.10000000000000009,
            "bin_end": 0.20000000000000007,
            "count": 0
           },
           {
            "bin_start": 0.20000000000000007,
            "bin_end": 0.30000000000000004,
            "count": 0
           },
           {
            "bin_start": 0.30000000000000004,
            "bin_end": 0.4,
            "count": 0
           },
           {
            "bin_start": 0.4,
            "bin_end": 0.5,
            "count": 0
           }
          ]
         }
        },
        {
         "name": "triplesSet",
         "dtype": "object",
         "stats": {
          "unique_count": 10,
          "nan_count": 0,
          "categories": [
           {
            "name": "[[\"var10\", \"http://schema.org/inLanguage\", \"it\"], [\"var11\", \"http://schema.org/inLanguage\", \"pt\"], [\"var12\", \"http://schema.org/inLanguage\", \"pl\"], [\"var13\", \"http://schema.org/inLanguage\", \"nl\"], [\"var14\", \"http://schema.org/inLanguage\", \"uk\"], [\"var15\", \"http://schema.org/inLanguage\", \"fa\"], [\"var16\", \"http://schema.org/inLanguage\", \"he\"], [\"var17\", \"http://schema.org/inLanguage\", \"ar\"], [\"var18\", \"http://schema.org/inLanguage\", \"sv\"], [\"var19\", \"http://schema.org/inLanguage\", \"ko\"], [\"var20\", \"http://schema.org/inLanguage\", \"cs\"], [\"var21\", \"http://schema.org/inLanguage\", \"ca\"], [\"var22\", \"http://schema.org/inLanguage\", \"id\"], [\"var3\", \"http://schema.org/inLanguage\", \"en\"], [\"var4\", \"http://schema.org/inLanguage\", \"de\"], [\"var5\", \"http://schema.org/inLanguage\", \"fr\"], [\"var6\", \"http://schema.org/inLanguage\", \"ja\"], [\"var7\", \"http://schema.org/inLanguage\", \"es\"], [\"var8\", \"http://schema.org/inLanguage\", \"ru\"], [\"var9\", \"http://schema.org/inLanguage\", \"zh\"], [\"var10\", \"http://schema.org/about\", \"var1\"], [\"var11\", \"http://schema.org/about\", \"var1\"], [\"var12\", \"http://schema.org/about\", \"var1\"], [\"var13\", \"http://schema.org/about\", \"var1\"], [\"var14\", \"http://schema.org/about\", \"var1\"], [\"var15\", \"http://schema.org/about\", \"var1\"], [\"var16\", \"http://schema.org/about\", \"var1\"], [\"var17\", \"http://schema.org/about\", \"var1\"], [\"var18\", \"http://schema.org/about\", \"var1\"], [\"var19\", \"http://schema.org/about\", \"var1\"], [\"var20\", \"http://schema.org/about\", \"var1\"], [\"var21\", \"http://schema.org/about\", \"var1\"], [\"var22\", \"http://schema.org/about\", \"var1\"], [\"var3\", \"http://schema.org/about\", \"var1\"], [\"var4\", \"http://schema.org/about\", \"var1\"], [\"var5\", \"http://schema.org/about\", \"var1\"], [\"var6\", \"http://schema.org/about\", \"var1\"], [\"var7\", \"http://schema.org/about\", \"var1\"], [\"var8\", \"http://schema.org/about\", \"var1\"], [\"var9\", \"http://schema.org/about\", \"var1\"]]",
            "count": 1
           },
           {
            "name": "[[\"var1\", \"http://www.wikidata.org/prop/direct/P106\", \"http://www.wikidata.org/entity/Q177220\"], [\"var1\", \"http://www.wikidata.org/prop/direct/P31\", \"http://www.wikidata.org/entity/Q5\"], [\"var1\", \"http://www.wikidata.org/prop/direct/P106\", \"var2\"], [\"var1\", \"http://www.wikidata.org/prop/direct/P570\", \"var3\"], [\"b0\", \"http://www.wikidata.org/prop/direct/P31\", \"http://www.wikidata.org/entity/Q188451\"], [\"var8\", \"http://schema.org/isPartOf\", \"https://en.wikipedia.org/\"], [\"var1\", \"http://www.wikidata.org/prop/direct/P136\", \"b0\"], [\"var8\", \"http://schema.org/about\", \"var1\"], [\"var1\", \"http://schema.org/description\", \"var5\"], [\"var1\", \"http://www.w3.org/2000/01/rdf-schema#label\", \"var4Label\"], [\"var1\", \"http://www.wikidata.org/prop/direct/P18\", \"var6\"], [\"var1\", \"http://www.wikidata.org/prop/direct/P2850\", \"var7\"], [\"var1\", \"http://www.wikidata.org/prop/direct/P1559\", \"var9\"], [\"var1\", \"http://www.wikidata.org/prop/direct/P856\", \"var10\"], [\"var1\", \"http://www.wikidata.org/prop/direct/P2013\", \"var11\"], [\"var1\", \"http://www.wikidata.org/prop/direct/P2963\", \"var12\"], [\"var1\", \"http://www.wikidata.org/prop/direct/P109\", \"var13\"], [\"var1\", \"http://www.wikidata.org/prop/direct/P2984\", \"var14\"], [\"var1\", \"http://www.wikidata.org/prop/direct/P2003\", \"var15\"], [\"var1\", \"http://www.wikidata.org/prop/direct/P2397\", \"var16\"], [\"var1\", \"http://www.wikidata.org/prop/direct/P1902\", \"var17\"], [\"var1\", \"http://www.wikidata.org/prop/direct/P4265\", \"var18\"], [\"var1\", \"http://www.wikidata.org/prop/direct/P3579\", \"var19\"], [\"var1\", \"http://www.wikidata.org/prop/direct/P3943\", \"var20\"], [\"var1\", \"http://www.wikidata.org/prop/direct/P3185\", \"var21\"], [\"var1\", \"http://www.wikidata.org/prop/direct/P3258\", \"var22\"], [\"var1\", \"http://www.wikidata.org/prop/direct/P2850\", \"var7\"], [\"var1\", \"http://www.wikidata.org/prop/direct/P3040\", \"var23\"], [\"var1\", \"http://www.wikidata.org/prop/direct/P2035\", \"var24\"], [\"var1\", \"http://www.wikidata.org/prop/direct/P3276\", \"var25\"]]",
            "count": 1
           },
           {
            "name": "8 others",
            "count": 8
           }
          ]
         }
        },
        {
         "name": "limit",
         "dtype": "int64",
         "stats": {
          "unique_count": 2,
          "nan_count": 0,
          "min": "0",
          "max": "1",
          "histogram": [
           {
            "bin_start": 0,
            "bin_end": 0.1,
            "count": 7
           },
           {
            "bin_start": 0.1,
            "bin_end": 0.2,
            "count": 0
           },
           {
            "bin_start": 0.2,
            "bin_end": 0.30000000000000004,
            "count": 0
           },
           {
            "bin_start": 0.30000000000000004,
            "bin_end": 0.4,
            "count": 0
           },
           {
            "bin_start": 0.4,
            "bin_end": 0.5,
            "count": 0
           },
           {
            "bin_start": 0.5,
            "bin_end": 0.6000000000000001,
            "count": 0
           },
           {
            "bin_start": 0.6000000000000001,
            "bin_end": 0.7000000000000001,
            "count": 0
           },
           {
            "bin_start": 0.7000000000000001,
            "bin_end": 0.8,
            "count": 0
           },
           {
            "bin_start": 0.8,
            "bin_end": 0.9,
            "count": 0
           },
           {
            "bin_start": 0.9,
            "bin_end": 1,
            "count": 3
           }
          ]
         }
        },
        {
         "name": "limitValue",
         "dtype": "int64",
         "stats": {
          "unique_count": 2,
          "nan_count": 0,
          "min": "0",
          "max": "50",
          "histogram": [
           {
            "bin_start": 0,
            "bin_end": 5,
            "count": 7
           },
           {
            "bin_start": 5,
            "bin_end": 10,
            "count": 0
           },
           {
            "bin_start": 10,
            "bin_end": 15,
            "count": 0
           },
           {
            "bin_start": 15,
            "bin_end": 20,
            "count": 0
           },
           {
            "bin_start": 20,
            "bin_end": 25,
            "count": 0
           },
           {
            "bin_start": 25,
            "bin_end": 30,
            "count": 0
           },
           {
            "bin_start": 30,
            "bin_end": 35,
            "count": 0
           },
           {
            "bin_start": 35,
            "bin_end": 40,
            "count": 0
           },
           {
            "bin_start": 40,
            "bin_end": 45,
            "count": 0
           },
           {
            "bin_start": 45,
            "bin_end": 50,
            "count": 3
           }
          ]
         }
        },
        {
         "name": "offset",
         "dtype": "int64",
         "stats": {
          "unique_count": 1,
          "nan_count": 0,
          "min": "0",
          "max": "0",
          "histogram": [
           {
            "bin_start": -0.5,
            "bin_end": -0.4,
            "count": 0
           },
           {
            "bin_start": -0.4,
            "bin_end": -0.3,
            "count": 0
           },
           {
            "bin_start": -0.3,
            "bin_end": -0.19999999999999996,
            "count": 0
           },
           {
            "bin_start": -0.19999999999999996,
            "bin_end": -0.09999999999999998,
            "count": 0
           },
           {
            "bin_start": -0.09999999999999998,
            "bin_end": 0,
            "count": 0
           },
           {
            "bin_start": 0,
            "bin_end": 0.10000000000000009,
            "count": 10
           },
           {
            "bin_start": 0.10000000000000009,
            "bin_end": 0.20000000000000007,
            "count": 0
           },
           {
            "bin_start": 0.20000000000000007,
            "bin_end": 0.30000000000000004,
            "count": 0
           },
           {
            "bin_start": 0.30000000000000004,
            "bin_end": 0.4,
            "count": 0
           },
           {
            "bin_start": 0.4,
            "bin_end": 0.5,
            "count": 0
           }
          ]
         }
        },
        {
         "name": "offsetValue",
         "dtype": "int64",
         "stats": {
          "unique_count": 1,
          "nan_count": 0,
          "min": "0",
          "max": "0",
          "histogram": [
           {
            "bin_start": -0.5,
            "bin_end": -0.4,
            "count": 0
           },
           {
            "bin_start": -0.4,
            "bin_end": -0.3,
            "count": 0
           },
           {
            "bin_start": -0.3,
            "bin_end": -0.19999999999999996,
            "count": 0
           },
           {
            "bin_start": -0.19999999999999996,
            "bin_end": -0.09999999999999998,
            "count": 0
           },
           {
            "bin_start": -0.09999999999999998,
            "bin_end": 0,
            "count": 0
           },
           {
            "bin_start": 0,
            "bin_end": 0.10000000000000009,
            "count": 10
           },
           {
            "bin_start": 0.10000000000000009,
            "bin_end": 0.20000000000000007,
            "count": 0
           },
           {
            "bin_start": 0.20000000000000007,
            "bin_end": 0.30000000000000004,
            "count": 0
           },
           {
            "bin_start": 0.30000000000000004,
            "bin_end": 0.4,
            "count": 0
           },
           {
            "bin_start": 0.4,
            "bin_end": 0.5,
            "count": 0
           }
          ]
         }
        },
        {
         "name": "complexPathWith",
         "dtype": "int64",
         "stats": {
          "unique_count": 2,
          "nan_count": 0,
          "min": "0",
          "max": "3",
          "histogram": [
           {
            "bin_start": 0,
            "bin_end": 0.3,
            "count": 9
           },
           {
            "bin_start": 0.3,
            "bin_end": 0.6,
            "count": 0
           },
           {
            "bin_start": 0.6,
            "bin_end": 0.8999999999999999,
            "count": 0
           },
           {
            "bin_start": 0.8999999999999999,
            "bin_end": 1.2,
            "count": 0
           },
           {
            "bin_start": 1.2,
            "bin_end": 1.5,
            "count": 0
           },
           {
            "bin_start": 1.5,
            "bin_end": 1.7999999999999998,
            "count": 0
           },
           {
            "bin_start": 1.7999999999999998,
            "bin_end": 2.1,
            "count": 0
           },
           {
            "bin_start": 2.1,
            "bin_end": 2.4,
            "count": 0
           },
           {
            "bin_start": 2.4,
            "bin_end": 2.6999999999999997,
            "count": 0
           },
           {
            "bin_start": 2.6999999999999997,
            "bin_end": 3,
            "count": 1
           }
          ]
         }
        },
        {
         "name": "simplePathWith",
         "dtype": "int64",
         "stats": {
          "unique_count": 2,
          "nan_count": 0,
          "min": "0",
          "max": "3",
          "histogram": [
           {
            "bin_start": 0,
            "bin_end": 0.3,
            "count": 9
           },
           {
            "bin_start": 0.3,
            "bin_end": 0.6,
            "count": 0
           },
           {
            "bin_start": 0.6,
            "bin_end": 0.8999999999999999,
            "count": 0
           },
           {
            "bin_start": 0.8999999999999999,
            "bin_end": 1.2,
            "count": 0
           },
           {
            "bin_start": 1.2,
            "bin_end": 1.5,
            "count": 0
           },
           {
            "bin_start": 1.5,
            "bin_end": 1.7999999999999998,
            "count": 0
           },
           {
            "bin_start": 1.7999999999999998,
            "bin_end": 2.1,
            "count": 0
           },
           {
            "bin_start": 2.1,
            "bin_end": 2.4,
            "count": 0
           },
           {
            "bin_start": 2.4,
            "bin_end": 2.6999999999999997,
            "count": 0
           },
           {
            "bin_start": 2.6999999999999997,
            "bin_end": 3,
            "count": 1
           }
          ]
         }
        },
        {
         "name": "algebraTree",
         "dtype": "object",
         "stats": {
          "unique_count": 10,
          "nan_count": 0,
          "categories": [
           {
            "name": "SelectQuery_SelectQuery_{'p': Project_{'p': Extend_{'p': AggregateJoin_{'A': [Aggregate_Count_{'distinct': 'DISTINCT', 'vars': rdflib.term.Variable('var1'), 'res': rdflib.term.Variable('__agg_1__'), '_vars': {rdflib.term.Variable('__agg_1__'), rdflib.term.Variable('var1')}}], 'p': Group_{'p': BGP_{'triples': [(rdflib.term.Variable('var10'), rdflib.term.URIRef('http://schema.org/inLanguage'), rdflib.term.Literal('it')), (rdflib.term.Variable('var11'), rdflib.term.URIRef('http://schema.org/inLanguage'), rdflib.term.Literal('pt')), (rdflib.term.Variable('var12'), rdflib.term.URIRef('http://schema.org/inLanguage'), rdflib.term.Literal('pl')), (rdflib.term.Variable('var13'), rdflib.term.URIRef('http://schema.org/inLanguage'), rdflib.term.Literal('nl')), (rdflib.term.Variable('var14'), rdflib.term.URIRef('http://schema.org/inLanguage'), rdflib.term.Literal('uk')), (rdflib.term.Variable('var15'), rdflib.term.URIRef('http://schema.org/inLanguage'), rdflib.term.Literal('fa')), (rdflib.term.Variable('var16'), rdflib.term.URIRef('http://schema.org/inLanguage'), rdflib.term.Literal('he')), (rdflib.term.Variable('var17'), rdflib.term.URIRef('http://schema.org/inLanguage'), rdflib.term.Literal('ar')), (rdflib.term.Variable('var18'), rdflib.term.URIRef('http://schema.org/inLanguage'), rdflib.term.Literal('sv')), (rdflib.term.Variable('var19'), rdflib.term.URIRef('http://schema.org/inLanguage'), rdflib.term.Literal('ko')), (rdflib.term.Variable('var20'), rdflib.term.URIRef('http://schema.org/inLanguage'), rdflib.term.Literal('cs')), (rdflib.term.Variable('var21'), rdflib.term.URIRef('http://schema.org/inLanguage'), rdflib.term.Literal('ca')), (rdflib.term.Variable('var22'), rdflib.term.URIRef('http://schema.org/inLanguage'), rdflib.term.Literal('id')), (rdflib.term.Variable('var3'), rdflib.term.URIRef('http://schema.org/inLanguage'), rdflib.term.Literal('en')), (rdflib.term.Variable('var4'), rdflib.term.URIRef('http://schema.org/inLanguage'), rdflib.term.Literal('de')), (rdflib.term.Variable('var5'), rdflib.term.URIRef('http://schema.org/inLanguage'), rdflib.term.Literal('fr')), (rdflib.term.Variable('var6'), rdflib.term.URIRef('http://schema.org/inLanguage'), rdflib.term.Literal('ja')), (rdflib.term.Variable('var7'), rdflib.term.URIRef('http://schema.org/inLanguage'), rdflib.term.Literal('es')), (rdflib.term.Variable('var8'), rdflib.term.URIRef('http://schema.org/inLanguage'), rdflib.term.Literal('ru')), (rdflib.term.Variable('var9'), rdflib.term.URIRef('http://schema.org/inLanguage'), rdflib.term.Literal('zh')), (rdflib.term.Variable('var10'), rdflib.term.URIRef('http://schema.org/about'), rdflib.term.Variable('var1')), (rdflib.term.Variable('var11'), rdflib.term.URIRef('http://schema.org/about'), rdflib.term.Variable('var1')), (rdflib.term.Variable('var12'), rdflib.term.URIRef('http://schema.org/about'), rdflib.term.Variable('var1')), (rdflib.term.Variable('var13'), rdflib.term.URIRef('http://schema.org/about'), rdflib.term.Variable('var1')), (rdflib.term.Variable('var14'), rdflib.term.URIRef('http://schema.org/about'), rdflib.term.Variable('var1')), (rdflib.term.Variable('var15'), rdflib.term.URIRef('http://schema.org/about'), rdflib.term.Variable('var1')), (rdflib.term.Variable('var16'), rdflib.term.URIRef('http://schema.org/about'), rdflib.term.Variable('var1')), (rdflib.term.Variable('var17'), rdflib.term.URIRef('http://schema.org/about'), rdflib.term.Variable('var1')), (rdflib.term.Variable('var18'), rdflib.term.URIRef('http://schema.org/about'), rdflib.term.Variable('var1')), (rdflib.term.Variable('var19'), rdflib.term.URIRef('http://schema.org/about'), rdflib.term.Variable('var1')), (rdflib.term.Variable('var20'), rdflib.term.URIRef('http://schema.org/about'), rdflib.term.Variable('var1')), (rdflib.term.Variable('var21'), rdflib.term.URIRef('http://schema.org/about'), rdflib.term.Variable('var1')), (rdflib.term.Variable('var22'), rdflib.term.URIRef('http://schema.org/about'), rdflib.term.Variable('var1')), (rdflib.term.Variable('var3'), rdflib.term.URIRef('http://schema.org/about'), rdflib.term.Variable('var1')), (rdflib.term.Variable('var4'), rdflib.term.URIRef('http://schema.org/about'), rdflib.term.Variable('var1')), (rdflib.term.Variable('var5'), rdflib.term.URIRef('http://schema.org/about'), rdflib.term.Variable('var1')), (rdflib.term.Variable('var6'), rdflib.term.URIRef('http://schema.org/about'), rdflib.term.Variable('var1')), (rdflib.term.Variable('var7'), rdflib.term.URIRef('http://schema.org/about'), rdflib.term.Variable('var1')), (rdflib.term.Variable('var8'), rdflib.term.URIRef('http://schema.org/about'), rdflib.term.Variable('var1')), (rdflib.term.Variable('var9'), rdflib.term.URIRef('http://schema.org/about'), rdflib.term.Variable('var1'))], '_vars': {rdflib.term.Variable('var21'), rdflib.term.Variable('var3'), rdflib.term.Variable('var19'), rdflib.term.Variable('var12'), rdflib.term.Variable('var4'), rdflib.term.Variable('var22'), rdflib.term.Variable('var6'), rdflib.term.Variable('var9'), rdflib.term.Variable('var15'), rdflib.term.Variable('var1'), rdflib.term.Variable('var17'), rdflib.term.Variable('var5'), rdflib.term.Variable('var8'), rdflib.term.Variable('var14'), rdflib.term.Variable('var7'), rdflib.term.Variable('var10'), rdflib.term.Variable('var20'), rdflib.term.Variable('var18'), rdflib.term.Variable('var16'), rdflib.term.Variable('var13'), rdflib.term.Variable('var11')}}, 'expr': None, '_vars': {rdflib.term.Variable('var21'), rdflib.term.Variable('var3'), rdflib.term.Variable('var19'), rdflib.term.Variable('var12'), rdflib.term.Variable('var4'), rdflib.term.Variable('var22'), rdflib.term.Variable('var6'), rdflib.term.Variable('var9'), rdflib.term.Variable('var15'), rdflib.term.Variable('var1'), rdflib.term.Variable('var17'), rdflib.term.Variable('var5'), rdflib.term.Variable('var8'), rdflib.term.Variable('var14'), rdflib.term.Variable('var7'), rdflib.term.Variable('var10'), rdflib.term.Variable('var20'), rdflib.term.Variable('var18'), rdflib.term.Variable('var16'), rdflib.term.Variable('var13'), rdflib.term.Variable('var11')}}, '_vars': {rdflib.term.Variable('var21'), rdflib.term.Variable('var3'), rdflib.term.Variable('var19'), rdflib.term.Variable('var12'), rdflib.term.Variable('var4'), rdflib.term.Variable('var22'), rdflib.term.Variable('var6'), rdflib.term.Variable('var9'), rdflib.term.Variable('var1'), rdflib.term.Variable('var15'), rdflib.term.Variable('var17'), rdflib.term.Variable('var5'), rdflib.term.Variable('var8'), rdflib.term.Variable('__agg_1__'), rdflib.term.Variable('var14'), rdflib.term.Variable('var7'), rdflib.term.Variable('var10'), rdflib.term.Variable('var20'), rdflib.term.Variable('var18'), rdflib.term.Variable('var16'), rdflib.term.Variable('var13'), rdflib.term.Variable('var11')}}, 'expr': rdflib.term.Variable('__agg_1__'), 'var': rdflib.term.Variable('var2'), '_vars': {rdflib.term.Variable('var21'), rdflib.term.Variable('var3'), rdflib.term.Variable('var19'), rdflib.term.Variable('var12'), rdflib.term.Variable('var4'), rdflib.term.Variable('var22'), rdflib.term.Variable('var6'), rdflib.term.Variable('var9'), rdflib.term.Variable('var1'), rdflib.term.Variable('var15'), rdflib.term.Variable('var17'), rdflib.term.Variable('var5'), rdflib.term.Variable('var8'), rdflib.term.Variable('__agg_1__'), rdflib.term.Variable('var14'), rdflib.term.Variable('var7'), rdflib.term.Variable('var10'), rdflib.term.Variable('var20'), rdflib.term.Variable('var2'), rdflib.term.Variable('var18'), rdflib.term.Variable('var16'), rdflib.term.Variable('var13'), rdflib.term.Variable('var11')}}, 'PV': [rdflib.term.Variable('var2')], '_vars': {rdflib.term.Variable('var21'), rdflib.term.Variable('var3'), rdflib.term.Variable('var19'), rdflib.term.Variable('var12'), rdflib.term.Variable('var4'), rdflib.term.Variable('var22'), rdflib.term.Variable('var6'), rdflib.term.Variable('var9'), rdflib.term.Variable('var1'), rdflib.term.Variable('var15'), rdflib.term.Variable('var17'), rdflib.term.Variable('var5'), rdflib.term.Variable('var8'), rdflib.term.Variable('__agg_1__'), rdflib.term.Variable('var14'), rdflib.term.Variable('var7'), rdflib.term.Variable('var10'), rdflib.term.Variable('var20'), rdflib.term.Variable('var2'), rdflib.term.Variable('var18'), rdflib.term.Variable('var16'), rdflib.term.Variable('var13'), rdflib.term.Variable('var11')}}, 'datasetClause': None, 'PV': [rdflib.term.Variable('var2')], '_vars': {rdflib.term.Variable('var21'), rdflib.term.Variable('var3'), rdflib.term.Variable('var19'), rdflib.term.Variable('var12'), rdflib.term.Variable('var4'), rdflib.term.Variable('var22'), rdflib.term.Variable('var6'), rdflib.term.Variable('var9'), rdflib.term.Variable('var1'), rdflib.term.Variable('var15'), rdflib.term.Variable('var17'), rdflib.term.Variable('var5'), rdflib.term.Variable('var8'), rdflib.term.Variable('__agg_1__'), rdflib.term.Variable('var14'), rdflib.term.Variable('var7'), rdflib.term.Variable('var10'), rdflib.term.Variable('var20'), rdflib.term.Variable('var2'), rdflib.term.Variable('var18'), rdflib.term.Variable('var16'), rdflib.term.Variable('var13'), rdflib.term.Variable('var11')}}",
            "count": 1
           },
           {
            "name": "SelectQuery_SelectQuery_{'p': Project_{'p': OrderBy_{'p': Filter_{'expr': ConditionalAndExpression_{'expr': RelationalExpression_{'expr': Builtin_LANG_{'arg': rdflib.term.Variable('var4Label'), '_vars': {rdflib.term.Variable('var4Label')}}, 'op': '=', 'other': rdflib.term.Literal('en'), '_vars': set()}, 'other': [RelationalExpression_{'expr': Builtin_LANG_{'arg': rdflib.term.Variable('var5'), '_vars': {rdflib.term.Variable('var5')}}, 'op': '=', 'other': rdflib.term.Literal('en'), '_vars': set()}], '_vars': set()}, 'p': LeftJoin_{'p1': LeftJoin_{'p1': LeftJoin_{'p1': LeftJoin_{'p1': LeftJoin_{'p1': LeftJoin_{'p1': LeftJoin_{'p1': LeftJoin_{'p1': LeftJoin_{'p1': LeftJoin_{'p1': LeftJoin_{'p1': LeftJoin_{'p1': LeftJoin_{'p1': LeftJoin_{'p1': LeftJoin_{'p1': LeftJoin_{'p1': LeftJoin_{'p1': LeftJoin_{'p1': Join_{'p1': Minus_{'p1': BGP_{'triples': [(rdflib.term.Variable('var1'), rdflib.term.URIRef('http://www.wikidata.org/prop/direct/P106'), rdflib.term.URIRef('http://www.wikidata.org/entity/Q177220')), (rdflib.term.Variable('var1'), rdflib.term.URIRef('http://www.wikidata.org/prop/direct/P31'), rdflib.term.URIRef('http://www.wikidata.org/entity/Q5')), (rdflib.term.Variable('var1'), rdflib.term.URIRef('http://www.wikidata.org/prop/direct/P106'), rdflib.term.Variable('var2'))], '_vars': {rdflib.term.Variable('var1'), rdflib.term.Variable('var2')}}, 'p2': BGP_{'triples': [(rdflib.term.Variable('var1'), rdflib.term.URIRef('http://www.wikidata.org/prop/direct/P570'), rdflib.term.Variable('var3'))], '_vars': {rdflib.term.Variable('var3'), rdflib.term.Variable('var1')}}, '_vars': {rdflib.term.Variable('var3'), rdflib.term.Variable('var1'), rdflib.term.Variable('var2')}}, 'p2': BGP_{'triples': [(rdflib.term.BNode('b0'), rdflib.term.URIRef('http://www.wikidata.org/prop/direct/P31'), rdflib.term.URIRef('http://www.wikidata.org/entity/Q188451')), (rdflib.term.Variable('var8'), rdflib.term.URIRef('http://schema.org/isPartOf'), rdflib.term.URIRef('https://en.wikipedia.org/')), (rdflib.term.Variable('var1'), rdflib.term.URIRef('http://www.wikidata.org/prop/direct/P136'), rdflib.term.BNode('b0')), (rdflib.term.Variable('var8'), rdflib.term.URIRef('http://schema.org/about'), rdflib.term.Variable('var1')), (rdflib.term.Variable('var1'), rdflib.term.URIRef('http://schema.org/description'), rdflib.term.Variable('var5')), (rdflib.term.Variable('var1'), rdflib.term.URIRef('http://www.w3.org/2000/01/rdf-schema#label'), rdflib.term.Variable('var4Label')), (rdflib.term.Variable('var1'), rdflib.term.URIRef('http://www.wikidata.org/prop/direct/P18'), rdflib.term.Variable('var6')), (rdflib.term.Variable('var1'), rdflib.term.URIRef('http://www.wikidata.org/prop/direct/P2850'), rdflib.term.Variable('var7'))], '_vars': {rdflib.term.Variable('var8'), rdflib.term.Variable('var7'), rdflib.term.Variable('var1'), rdflib.term.Variable('var6'), rdflib.term.Variable('var5'), rdflib.term.Variable('var4Label')}}, 'lazy': True, '_vars': {rdflib.term.Variable('var1'), rdflib.term.Variable('var6'), rdflib.term.Variable('var4Label'), rdflib.term.Variable('var2'), rdflib.term.Variable('var3'), rdflib.term.Variable('var8'), rdflib.term.Variable('var5'), rdflib.term.Variable('var7')}}, 'p2': BGP_{'triples': [(rdflib.term.Variable('var1'), rdflib.term.URIRef('http://www.wikidata.org/prop/direct/P1559'), rdflib.term.Variable('var9'))], '_vars': {rdflib.term.Variable('var9'), rdflib.term.Variable('var1')}}, 'expr': TrueFilter_{'_vars': set()}, '_vars': {rdflib.term.Variable('var9'), rdflib.term.Variable('var1'), rdflib.term.Variable('var6'), rdflib.term.Variable('var4Label'), rdflib.term.Variable('var2'), rdflib.term.Variable('var3'), rdflib.term.Variable('var8'), rdflib.term.Variable('var5'), rdflib.term.Variable('var7')}}, 'p2': BGP_{'triples': [(rdflib.term.Variable('var1'), rdflib.term.URIRef('http://www.wikidata.org/prop/direct/P856'), rdflib.term.Variable('var10'))], '_vars': {rdflib.term.Variable('var1'), rdflib.term.Variable('var10')}}, 'expr': TrueFilter_{'_vars': set()}, '_vars': {rdflib.term.Variable('var9'), rdflib.term.Variable('var1'), rdflib.term.Variable('var6'), rdflib.term.Variable('var4Label'), rdflib.term.Variable('var2'), rdflib.term.Variable('var3'), rdflib.term.Variable('var8'), rdflib.term.Variable('var5'), rdflib.term.Variable('var7'), rdflib.term.Variable('var10')}}, 'p2': BGP_{'triples': [(rdflib.term.Variable('var1'), rdflib.term.URIRef('http://www.wikidata.org/prop/direct/P2013'), rdflib.term.Variable('var11'))], '_vars': {rdflib.term.Variable('var11'), rdflib.term.Variable('var1')}}, 'expr': TrueFilter_{'_vars': set()}, '_vars': {rdflib.term.Variable('var9'), rdflib.term.Variable('var1'), rdflib.term.Variable('var6'), rdflib.term.Variable('var4Label'), rdflib.term.Variable('var2'), rdflib.term.Variable('var3'), rdflib.term.Variable('var8'), rdflib.term.Variable('var11'), rdflib.term.Variable('var5'), rdflib.term.Variable('var7'), rdflib.term.Variable('var10')}}, 'p2': BGP_{'triples': [(rdflib.term.Variable('var1'), rdflib.term.URIRef('http://www.wikidata.org/prop/direct/P2963'), rdflib.term.Variable('var12'))], '_vars': {rdflib.term.Variable('var12'), rdflib.term.Variable('var1')}}, 'expr': TrueFilter_{'_vars': set()}, '_vars': {rdflib.term.Variable('var9'), rdflib.term.Variable('var1'), rdflib.term.Variable('var6'), rdflib.term.Variable('var12'), rdflib.term.Variable('var4Label'), rdflib.term.Variable('var2'), rdflib.term.Variable('var3'), rdflib.term.Variable('var8'), rdflib.term.Variable('var11'), rdflib.term.Variable('var5'), rdflib.term.Variable('var7'), rdflib.term.Variable('var10')}}, 'p2': BGP_{'triples': [(rdflib.term.Variable('var1'), rdflib.term.URIRef('http://www.wikidata.org/prop/direct/P109'), rdflib.term.Variable('var13'))], '_vars': {rdflib.term.Variable('var1'), rdflib.term.Variable('var13')}}, 'expr': TrueFilter_{'_vars': set()}, '_vars': {rdflib.term.Variable('var9'), rdflib.term.Variable('var1'), rdflib.term.Variable('var6'), rdflib.term.Variable('var12'), rdflib.term.Variable('var4Label'), rdflib.term.Variable('var2'), rdflib.term.Variable('var3'), rdflib.term.Variable('var8'), rdflib.term.Variable('var13'), rdflib.term.Variable('var11'), rdflib.term.Variable('var5'), rdflib.term.Variable('var7'), rdflib.term.Variable('var10')}}, 'p2': BGP_{'triples': [(rdflib.term.Variable('var1'), rdflib.term.URIRef('http://www.wikidata.org/prop/direct/P2984'), rdflib.term.Variable('var14'))], '_vars': {rdflib.term.Variable('var14'), rdflib.term.Variable('var1')}}, 'expr': TrueFilter_{'_vars': set()}, '_vars': {rdflib.term.Variable('var9'), rdflib.term.Variable('var1'), rdflib.term.Variable('var6'), rdflib.term.Variable('var12'), rdflib.term.Variable('var4Label'), rdflib.term.Variable('var14'), rdflib.term.Variable('var2'), rdflib.term.Variable('var3'), rdflib.term.Variable('var8'), rdflib.term.Variable('var13'), rdflib.term.Variable('var11'), rdflib.term.Variable('var5'), rdflib.term.Variable('var7'), rdflib.term.Variable('var10')}}, 'p2': BGP_{'triples': [(rdflib.term.Variable('var1'), rdflib.term.URIRef('http://www.wikidata.org/prop/direct/P2003'), rdflib.term.Variable('var15'))], '_vars': {rdflib.term.Variable('var1'), rdflib.term.Variable('var15')}}, 'expr': TrueFilter_{'_vars': set()}, '_vars': {rdflib.term.Variable('var9'), rdflib.term.Variable('var1'), rdflib.term.Variable('var6'), rdflib.term.Variable('var12'), rdflib.term.Variable('var4Label'), rdflib.term.Variable('var14'), rdflib.term.Variable('var2'), rdflib.term.Variable('var15'), rdflib.term.Variable('var3'), rdflib.term.Variable('var8'), rdflib.term.Variable('var13'), rdflib.term.Variable('var11'), rdflib.term.Variable('var5'), rdflib.term.Variable('var7'), rdflib.term.Variable('var10')}}, 'p2': BGP_{'triples': [(rdflib.term.Variable('var1'), rdflib.term.URIRef('http://www.wikidata.org/prop/direct/P2397'), rdflib.term.Variable('var16'))], '_vars': {rdflib.term.Variable('var1'), rdflib.term.Variable('var16')}}, 'expr': TrueFilter_{'_vars': set()}, '_vars': {rdflib.term.Variable('var6'), rdflib.term.Variable('var14'), rdflib.term.Variable('var15'), rdflib.term.Variable('var8'), rdflib.term.Variable('var9'), rdflib.term.Variable('var1'), rdflib.term.Variable('var12'), rdflib.term.Variable('var4Label'), rdflib.term.Variable('var2'), rdflib.term.Variable('var3'), rdflib.term.Variable('var13'), rdflib.term.Variable('var11'), rdflib.term.Variable('var5'), rdflib.term.Variable('var7'), rdflib.term.Variable('var10'), rdflib.term.Variable('var16')}}, 'p2': BGP_{'triples': [(rdflib.term.Variable('var1'), rdflib.term.URIRef('http://www.wikidata.org/prop/direct/P1902'), rdflib.term.Variable('var17'))], '_vars': {rdflib.term.Variable('var1'), rdflib.term.Variable('var17')}}, 'expr': TrueFilter_{'_vars': set()}, '_vars': {rdflib.term.Variable('var6'), rdflib.term.Variable('var14'), rdflib.term.Variable('var15'), rdflib.term.Variable('var8'), rdflib.term.Variable('var9'), rdflib.term.Variable('var1'), rdflib.term.Variable('var12'), rdflib.term.Variable('var4Label'), rdflib.term.Variable('var2'), rdflib.term.Variable('var3'), rdflib.term.Variable('var17'), rdflib.term.Variable('var13'), rdflib.term.Variable('var11'), rdflib.term.Variable('var5'), rdflib.term.Variable('var7'), rdflib.term.Variable('var10'), rdflib.term.Variable('var16')}}, 'p2': BGP_{'triples': [(rdflib.term.Variable('var1'), rdflib.term.URIRef('http://www.wikidata.org/prop/direct/P4265'), rdflib.term.Variable('var18'))], '_vars': {rdflib.term.Variable('var18'), rdflib.term.Variable('var1')}}, 'expr': TrueFilter_{'_vars': set()}, '_vars': {rdflib.term.Variable('var6'), rdflib.term.Variable('var14'), rdflib.term.Variable('var15'), rdflib.term.Variable('var8'), rdflib.term.Variable('var9'), rdflib.term.Variable('var18'), rdflib.term.Variable('var1'), rdflib.term.Variable('var12'), rdflib.term.Variable('var4Label'), rdflib.term.Variable('var2'), rdflib.term.Variable('var3'), rdflib.term.Variable('var17'), rdflib.term.Variable('var13'), rdflib.term.Variable('var11'), rdflib.term.Variable('var5'), rdflib.term.Variable('var7'), rdflib.term.Variable('var10'), rdflib.term.Variable('var16')}}, 'p2': BGP_{'triples': [(rdflib.term.Variable('var1'), rdflib.term.URIRef('http://www.wikidata.org/prop/direct/P3579'), rdflib.term.Variable('var19'))], '_vars': {rdflib.term.Variable('var19'), rdflib.term.Variable('var1')}}, 'expr': TrueFilter_{'_vars': set()}, '_vars': {rdflib.term.Variable('var6'), rdflib.term.Variable('var14'), rdflib.term.Variable('var15'), rdflib.term.Variable('var8'), rdflib.term.Variable('var9'), rdflib.term.Variable('var19'), rdflib.term.Variable('var18'), rdflib.term.Variable('var1'), rdflib.term.Variable('var12'), rdflib.term.Variable('var4Label'), rdflib.term.Variable('var2'), rdflib.term.Variable('var3'), rdflib.term.Variable('var17'), rdflib.term.Variable('var13'), rdflib.term.Variable('var11'), rdflib.term.Variable('var5'), rdflib.term.Variable('var7'), rdflib.term.Variable('var10'), rdflib.term.Variable('var16')}}, 'p2': BGP_{'triples': [(rdflib.term.Variable('var1'), rdflib.term.URIRef('http://www.wikidata.org/prop/direct/P3943'), rdflib.term.Variable('var20'))], '_vars': {rdflib.term.Variable('var20'), rdflib.term.Variable('var1')}}, 'expr': TrueFilter_{'_vars': set()}, '_vars': {rdflib.term.Variable('var6'), rdflib.term.Variable('var14'), rdflib.term.Variable('var15'), rdflib.term.Variable('var8'), rdflib.term.Variable('var20'), rdflib.term.Variable('var9'), rdflib.term.Variable('var19'), rdflib.term.Variable('var18'), rdflib.term.Variable('var1'), rdflib.term.Variable('var12'), rdflib.term.Variable('var4Label'), rdflib.term.Variable('var2'), rdflib.term.Variable('var3'), rdflib.term.Variable('var17'), rdflib.term.Variable('var13'), rdflib.term.Variable('var11'), rdflib.term.Variable('var5'), rdflib.term.Variable('var7'), rdflib.term.Variable('var10'), rdflib.term.Variable('var16')}}, 'p2': BGP_{'triples': [(rdflib.term.Variable('var1'), rdflib.term.URIRef('http://www.wikidata.org/prop/direct/P3185'), rdflib.term.Variable('var21'))], '_vars': {rdflib.term.Variable('var21'), rdflib.term.Variable('var1')}}, 'expr': TrueFilter_{'_vars': set()}, '_vars': {rdflib.term.Variable('var6'), rdflib.term.Variable('var14'), rdflib.term.Variable('var15'), rdflib.term.Variable('var8'), rdflib.term.Variable('var20'), rdflib.term.Variable('var21'), rdflib.term.Variable('var9'), rdflib.term.Variable('var19'), rdflib.term.Variable('var18'), rdflib.term.Variable('var1'), rdflib.term.Variable('var12'), rdflib.term.Variable('var4Label'), rdflib.term.Variable('var2'), rdflib.term.Variable('var3'), rdflib.term.Variable('var17'), rdflib.term.Variable('var13'), rdflib.term.Variable('var11'), rdflib.term.Variable('var5'), rdflib.term.Variable('var7'), rdflib.term.Variable('var10'), rdflib.term.Variable('var16')}}, 'p2': BGP_{'triples': [(rdflib.term.Variable('var1'), rdflib.term.URIRef('http://www.wikidata.org/prop/direct/P3258'), rdflib.term.Variable('var22'))], '_vars': {rdflib.term.Variable('var1'), rdflib.term.Variable('var22')}}, 'expr': TrueFilter_{'_vars': set()}, '_vars': {rdflib.term.Variable('var6'), rdflib.term.Variable('var14'), rdflib.term.Variable('var15'), rdflib.term.Variable('var8'), rdflib.term.Variable('var20'), rdflib.term.Variable('var21'), rdflib.term.Variable('var9'), rdflib.term.Variable('var19'), rdflib.term.Variable('var18'), rdflib.term.Variable('var1'), rdflib.term.Variable('var12'), rdflib.term.Variable('var4Label'), rdflib.term.Variable('var22'), rdflib.term.Variable('var2'), rdflib.term.Variable('var3'), rdflib.term.Variable('var17'), rdflib.term.Variable('var13'), rdflib.term.Variable('var11'), rdflib.term.Variable('var5'), rdflib.term.Variable('var7'), rdflib.term.Variable('var10'), rdflib.term.Variable('var16')}}, 'p2': BGP_{'triples': [(rdflib.term.Variable('var1'), rdflib.term.URIRef('http://www.wikidata.org/prop/direct/P2850'), rdflib.term.Variable('var7'))], '_vars': {rdflib.term.Variable('var7'), rdflib.term.Variable('var1')}}, 'expr': TrueFilter_{'_vars': set()}, '_vars': {rdflib.term.Variable('var6'), rdflib.term.Variable('var14'), rdflib.term.Variable('var15'), rdflib.term.Variable('var8'), rdflib.term.Variable('var20'), rdflib.term.Variable('var21'), rdflib.term.Variable('var9'), rdflib.term.Variable('var19'), rdflib.term.Variable('var18'), rdflib.term.Variable('var1'), rdflib.term.Variable('var12'), rdflib.term.Variable('var4Label'), rdflib.term.Variable('var22'), rdflib.term.Variable('var2'), rdflib.term.Variable('var3'), rdflib.term.Variable('var17'), rdflib.term.Variable('var13'), rdflib.term.Variable('var11'), rdflib.term.Variable('var5'), rdflib.term.Variable('var7'), rdflib.term.Variable('var10'), rdflib.term.Variable('var16')}}, 'p2': BGP_{'triples': [(rdflib.term.Variable('var1'), rdflib.term.URIRef('http://www.wikidata.org/prop/direct/P3040'), rdflib.term.Variable('var23'))], '_vars': {rdflib.term.Variable('var1'), rdflib.term.Variable('var23')}}, 'expr': TrueFilter_{'_vars': set()}, '_vars': {rdflib.term.Variable('var6'), rdflib.term.Variable('var23'), rdflib.term.Variable('var14'), rdflib.term.Variable('var15'), rdflib.term.Variable('var8'), rdflib.term.Variable('var20'), rdflib.term.Variable('var21'), rdflib.term.Variable('var9'), rdflib.term.Variable('var19'), rdflib.term.Variable('var18'), rdflib.term.Variable('var1'), rdflib.term.Variable('var12'), rdflib.term.Variable('var4Label'), rdflib.term.Variable('var22'), rdflib.term.Variable('var2'), rdflib.term.Variable('var3'), rdflib.term.Variable('var17'), rdflib.term.Variable('var13'), rdflib.term.Variable('var11'), rdflib.term.Variable('var5'), rdflib.term.Variable('var7'), rdflib.term.Variable('var10'), rdflib.term.Variable('var16')}}, 'p2': BGP_{'triples': [(rdflib.term.Variable('var1'), rdflib.term.URIRef('http://www.wikidata.org/prop/direct/P2035'), rdflib.term.Variable('var24'))], '_vars': {rdflib.term.Variable('var24'), rdflib.term.Variable('var1')}}, 'expr': TrueFilter_{'_vars': set()}, '_vars': {rdflib.term.Variable('var6'), rdflib.term.Variable('var23'), rdflib.term.Variable('var14'), rdflib.term.Variable('var15'), rdflib.term.Variable('var8'), rdflib.term.Variable('var20'), rdflib.term.Variable('var21'), rdflib.term.Variable('var24'), rdflib.term.Variable('var9'), rdflib.term.Variable('var19'), rdflib.term.Variable('var18'), rdflib.term.Variable('var1'), rdflib.term.Variable('var12'), rdflib.term.Variable('var4Label'), rdflib.term.Variable('var22'), rdflib.term.Variable('var2'), rdflib.term.Variable('var3'), rdflib.term.Variable('var17'), rdflib.term.Variable('var13'), rdflib.term.Variable('var11'), rdflib.term.Variable('var5'), rdflib.term.Variable('var7'), rdflib.term.Variable('var10'), rdflib.term.Variable('var16')}}, 'p2': BGP_{'triples': [(rdflib.term.Variable('var1'), rdflib.term.URIRef('http://www.wikidata.org/prop/direct/P3276'), rdflib.term.Variable('var25'))], '_vars': {rdflib.term.Variable('var1'), rdflib.term.Variable('var25')}}, 'expr': TrueFilter_{'_vars': set()}, '_vars': {rdflib.term.Variable('var6'), rdflib.term.Variable('var23'), rdflib.term.Variable('var25'), rdflib.term.Variable('var14'), rdflib.term.Variable('var15'), rdflib.term.Variable('var8'), rdflib.term.Variable('var20'), rdflib.term.Variable('var21'), rdflib.term.Variable('var24'), rdflib.term.Variable('var9'), rdflib.term.Variable('var19'), rdflib.term.Variable('var18'), rdflib.term.Variable('var1'), rdflib.term.Variable('var12'), rdflib.term.Variable('var4Label'), rdflib.term.Variable('var22'), rdflib.term.Variable('var2'), rdflib.term.Variable('var3'), rdflib.term.Variable('var17'), rdflib.term.Variable('var13'), rdflib.term.Variable('var11'), rdflib.term.Variable('var5'), rdflib.term.Variable('var7'), rdflib.term.Variable('var10'), rdflib.term.Variable('var16')}}, '_vars': {rdflib.term.Variable('var6'), rdflib.term.Variable('var23'), rdflib.term.Variable('var25'), rdflib.term.Variable('var14'), rdflib.term.Variable('var15'), rdflib.term.Variable('var8'), rdflib.term.Variable('var20'), rdflib.term.Variable('var21'), rdflib.term.Variable('var24'), rdflib.term.Variable('var9'), rdflib.term.Variable('var19'), rdflib.term.Variable('var18'), rdflib.term.Variable('var1'), rdflib.term.Variable('var12'), rdflib.term.Variable('var4Label'), rdflib.term.Variable('var22'), rdflib.term.Variable('var2'), rdflib.term.Variable('var3'), rdflib.term.Variable('var17'), rdflib.term.Variable('var13'), rdflib.term.Variable('var11'), rdflib.term.Variable('var5'), rdflib.term.Variable('var7'), rdflib.term.Variable('var10'), rdflib.term.Variable('var16')}}, 'expr': [OrderCondition_{'expr': rdflib.term.Variable('var1'), 'order': 'ASC', '_vars': {rdflib.term.Variable('var1')}}], '_vars': {rdflib.term.Variable('var6'), rdflib.term.Variable('var23'), rdflib.term.Variable('var25'), rdflib.term.Variable('var14'), rdflib.term.Variable('var15'), rdflib.term.Variable('var8'), rdflib.term.Variable('var20'), rdflib.term.Variable('var21'), rdflib.term.Variable('var24'), rdflib.term.Variable('var9'), rdflib.term.Variable('var19'), rdflib.term.Variable('var18'), rdflib.term.Variable('var1'), rdflib.term.Variable('var12'), rdflib.term.Variable('var4Label'), rdflib.term.Variable('var22'), rdflib.term.Variable('var2'), rdflib.term.Variable('var3'), rdflib.term.Variable('var17'), rdflib.term.Variable('var13'), rdflib.term.Variable('var11'), rdflib.term.Variable('var5'), rdflib.term.Variable('var7'), rdflib.term.Variable('var10'), rdflib.term.Variable('var16')}}, 'PV': [rdflib.term.Variable('var14'), rdflib.term.Variable('var8'), rdflib.term.Variable('var20'), rdflib.term.Variable('var21'), rdflib.term.Variable('var24'), rdflib.term.Variable('var19'), rdflib.term.Variable('var12'), rdflib.term.Variable('var4Label'), rdflib.term.Variable('var22'), rdflib.term.Variable('var3'), rdflib.term.Variable('var13'), rdflib.term.Variable('var11'), rdflib.term.Variable('var5'), rdflib.term.Variable('var10'), rdflib.term.Variable('var16'), rdflib.term.Variable('var6'), rdflib.term.Variable('var23'), rdflib.term.Variable('var25'), rdflib.term.Variable('var15'), rdflib.term.Variable('var9'), rdflib.term.Variable('var18'), rdflib.term.Variable('var1'), rdflib.term.Variable('var2'), rdflib.term.Variable('var17'), rdflib.term.Variable('var7')], '_vars': {rdflib.term.Variable('var6'), rdflib.term.Variable('var23'), rdflib.term.Variable('var25'), rdflib.term.Variable('var14'), rdflib.term.Variable('var15'), rdflib.term.Variable('var8'), rdflib.term.Variable('var20'), rdflib.term.Variable('var21'), rdflib.term.Variable('var24'), rdflib.term.Variable('var9'), rdflib.term.Variable('var19'), rdflib.term.Variable('var18'), rdflib.term.Variable('var1'), rdflib.term.Variable('var12'), rdflib.term.Variable('var4Label'), rdflib.term.Variable('var22'), rdflib.term.Variable('var2'), rdflib.term.Variable('var3'), rdflib.term.Variable('var17'), rdflib.term.Variable('var13'), rdflib.term.Variable('var11'), rdflib.term.Variable('var5'), rdflib.term.Variable('var7'), rdflib.term.Variable('var10'), rdflib.term.Variable('var16')}}, 'datasetClause': None, 'PV': [rdflib.term.Variable('var14'), rdflib.term.Variable('var8'), rdflib.term.Variable('var20'), rdflib.term.Variable('var21'), rdflib.term.Variable('var24'), rdflib.term.Variable('var19'), rdflib.term.Variable('var12'), rdflib.term.Variable('var4Label'), rdflib.term.Variable('var22'), rdflib.term.Variable('var3'), rdflib.term.Variable('var13'), rdflib.term.Variable('var11'), rdflib.term.Variable('var5'), rdflib.term.Variable('var10'), rdflib.term.Variable('var16'), rdflib.term.Variable('var6'), rdflib.term.Variable('var23'), rdflib.term.Variable('var25'), rdflib.term.Variable('var15'), rdflib.term.Variable('var9'), rdflib.term.Variable('var18'), rdflib.term.Variable('var1'), rdflib.term.Variable('var2'), rdflib.term.Variable('var17'), rdflib.term.Variable('var7')], '_vars': {rdflib.term.Variable('var6'), rdflib.term.Variable('var23'), rdflib.term.Variable('var25'), rdflib.term.Variable('var14'), rdflib.term.Variable('var15'), rdflib.term.Variable('var8'), rdflib.term.Variable('var20'), rdflib.term.Variable('var21'), rdflib.term.Variable('var24'), rdflib.term.Variable('var9'), rdflib.term.Variable('var19'), rdflib.term.Variable('var18'), rdflib.term.Variable('var1'), rdflib.term.Variable('var12'), rdflib.term.Variable('var4Label'), rdflib.term.Variable('var22'), rdflib.term.Variable('var2'), rdflib.term.Variable('var3'), rdflib.term.Variable('var17'), rdflib.term.Variable('var13'), rdflib.term.Variable('var11'), rdflib.term.Variable('var5'), rdflib.term.Variable('var7'), rdflib.term.Variable('var10'), rdflib.term.Variable('var16')}}",
            "count": 1
           },
           {
            "name": "8 others",
            "count": 8
           }
          ]
         }
        },
        {
         "name": "algebraTreeMD5",
         "dtype": "object",
         "stats": {
          "unique_count": 10,
          "nan_count": 0,
          "categories": [
           {
            "name": "d98c1e7ec29067ee192fc3854484ff7f",
            "count": 1
           },
           {
            "name": "6efabadb7c4bad39d7bef40d9fa4f3c6",
            "count": 1
           },
           {
            "name": "8 others",
            "count": 8
           }
          ]
         }
        },
        {
         "name": "graph",
         "dtype": "object",
         "stats": {
          "unique_count": 6,
          "nan_count": 0,
          "categories": [
           {
            "name": "DiGraph with 28 nodes and 27 edges",
            "count": 3
           },
           {
            "name": "DiGraph with 27 nodes and 26 edges",
            "count": 3
           },
           {
            "name": "4 others",
            "count": 4
           }
          ]
         }
        },
        {
         "name": "cycleNumber",
         "dtype": "int64",
         "stats": {
          "unique_count": 1,
          "nan_count": 0,
          "min": "0",
          "max": "0",
          "histogram": [
           {
            "bin_start": -0.5,
            "bin_end": -0.4,
            "count": 0
           },
           {
            "bin_start": -0.4,
            "bin_end": -0.3,
            "count": 0
           },
           {
            "bin_start": -0.3,
            "bin_end": -0.19999999999999996,
            "count": 0
           },
           {
            "bin_start": -0.19999999999999996,
            "bin_end": -0.09999999999999998,
            "count": 0
           },
           {
            "bin_start": -0.09999999999999998,
            "bin_end": 0,
            "count": 0
           },
           {
            "bin_start": 0,
            "bin_end": 0.10000000000000009,
            "count": 10
           },
           {
            "bin_start": 0.10000000000000009,
            "bin_end": 0.20000000000000007,
            "count": 0
           },
           {
            "bin_start": 0.20000000000000007,
            "bin_end": 0.30000000000000004,
            "count": 0
           },
           {
            "bin_start": 0.30000000000000004,
            "bin_end": 0.4,
            "count": 0
           },
           {
            "bin_start": 0.4,
            "bin_end": 0.5,
            "count": 0
           }
          ]
         }
        },
        {
         "name": "graphDump",
         "dtype": "object",
         "stats": {
          "unique_count": 10,
          "nan_count": 0,
          "categories": [
           {
            "name": "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",
            "count": 1
           },
           {
            "name": "gASVOgUAAAAAAACMGG5ldHdvcmt4LmNsYXNzZXMuZGlncmFwaJSMB0RpR3JhcGiUk5QpgZR9lCiMF2dyYXBoX2F0dHJfZGljdF9mYWN0b3J5lIwIYnVpbHRpbnOUjARkaWN0lJOUjBFub2RlX2RpY3RfZmFjdG9yeZRoCIwWbm9kZV9hdHRyX2RpY3RfZmFjdG9yeZRoCIwaYWRqbGlzdF9vdXRlcl9kaWN0X2ZhY3RvcnmUaAiMGmFkamxpc3RfaW5uZXJfZGljdF9mYWN0b3J5lGgIjBZlZGdlX2F0dHJfZGljdF9mYWN0b3J5lGgIjAVncmFwaJR9lIwFX25vZGWUfZQojAR2YXIxlH2UjCZodHRwOi8vd3d3Lndpa2lkYXRhLm9yZy9lbnRpdHkvUTE3NzIyMJR9lIwhaHR0cDovL3d3dy53aWtpZGF0YS5vcmcvZW50aXR5L1E1lH2UjAR2YXIylH2UjAR2YXIzlH2UjAJiMJR9lIwmaHR0cDovL3d3dy53aWtpZGF0YS5vcmcvZW50aXR5L1ExODg0NTGUfZSMBHZhcjiUfZSMGWh0dHBzOi8vZW4ud2lraXBlZGlhLm9yZy+UfZSMBHZhcjWUfZSMCXZhcjRMYWJlbJR9lIwEdmFyNpR9lIwEdmFyN5R9lIwEdmFyOZR9lIwFdmFyMTCUfZSMBXZhcjExlH2UjAV2YXIxMpR9lIwFdmFyMTOUfZSMBXZhcjE0lH2UjAV2YXIxNZR9lIwFdmFyMTaUfZSMBXZhcjE3lH2UjAV2YXIxOJR9lIwFdmFyMTmUfZSMBXZhcjIwlH2UjAV2YXIyMZR9lIwFdmFyMjKUfZSMBXZhcjIzlH2UjAV2YXIyNJR9lIwFdmFyMjWUfZR1jARfYWRqlH2UKGgSfZQoaBR9lGgWfZRoGH2UaBp9lIwCYjCUfZRoJH2UaCZ9lGgofZRoKn2UaCx9lGgufZRoMH2UaDJ9lGg0fZRoNn2UaDh9lGg6fZRoPH2UaD59lGhAfZRoQn2UaER9lGhGfZRoSH2UaEp9lGhMfZR1aBR9lGgWfZRoGH2UaBp9lGgcfZRoHn2Uc2gefZRoIH2UKGgifZSMBHZhcjGUfZR1aCJ9lGgkfZRoJn2UaCh9lGgqfZRoLH2UaC59lGgwfZRoMn2UaDR9lGg2fZRoOH2UaDp9lGg8fZRoPn2UaEB9lGhCfZRoRH2UaEZ9lGhIfZRoSn2UaEx9lHWMBV9wcmVklH2UKGgSfZSMBHZhcjiUaHZzaBR9lGgSaFFzaBZ9lIwEdmFyMZRoUnNoGH2UjAR2YXIxlGhTc2gafZSMBHZhcjGUaFRzaBx9lIwEdmFyMZRoVnNoHn2UaBxocXNoIH2UaCJ9lGggaHRzaCR9lIwEdmFyMZRoV3NoJn2UjAR2YXIxlGhYc2gofZSMBHZhcjGUaFlzaCp9lIwEdmFyMZRoWnNoLH2UjAR2YXIxlGhbc2gufZSMBHZhcjGUaFxzaDB9lIwEdmFyMZRoXXNoMn2UjAR2YXIxlGhec2g0fZSMBHZhcjGUaF9zaDZ9lIwEdmFyMZRoYHNoOH2UjAR2YXIxlGhhc2g6fZSMBHZhcjGUaGJzaDx9lIwEdmFyMZRoY3NoPn2UjAR2YXIxlGhkc2hAfZSMBHZhcjGUaGVzaEJ9lIwEdmFyMZRoZnNoRH2UjAR2YXIxlGhnc2hGfZSMBHZhcjGUaGhzaEh9lIwEdmFyMZRoaXNoSn2UjAR2YXIxlGhqc2hMfZSMBHZhcjGUaGtzdYwFX3N1Y2OUaE91Yi4=",
            "count": 1
           },
           {
            "name": "8 others",
            "count": 8
           }
          ]
         }
        },
        {
         "name": "isForest",
         "dtype": "int64",
         "stats": {
          "unique_count": 1,
          "nan_count": 0,
          "min": "1",
          "max": "1",
          "histogram": [
           {
            "bin_start": 0.5,
            "bin_end": 0.6,
            "count": 0
           },
           {
            "bin_start": 0.6,
            "bin_end": 0.7,
            "count": 0
           },
           {
            "bin_start": 0.7,
            "bin_end": 0.8,
            "count": 0
           },
           {
            "bin_start": 0.8,
            "bin_end": 0.9,
            "count": 0
           },
           {
            "bin_start": 0.9,
            "bin_end": 1,
            "count": 0
           },
           {
            "bin_start": 1,
            "bin_end": 1.1,
            "count": 10
           },
           {
            "bin_start": 1.1,
            "bin_end": 1.2000000000000002,
            "count": 0
           },
           {
            "bin_start": 1.2000000000000002,
            "bin_end": 1.3,
            "count": 0
           },
           {
            "bin_start": 1.3,
            "bin_end": 1.4,
            "count": 0
           },
           {
            "bin_start": 1.4,
            "bin_end": 1.5,
            "count": 0
           }
          ]
         }
        },
        {
         "name": "numberOfNodes",
         "dtype": "int64",
         "stats": {
          "unique_count": 6,
          "nan_count": 0,
          "min": "15",
          "max": "41",
          "histogram": [
           {
            "bin_start": 15,
            "bin_end": 17.6,
            "count": 1
           },
           {
            "bin_start": 17.6,
            "bin_end": 20.2,
            "count": 0
           },
           {
            "bin_start": 20.2,
            "bin_end": 22.8,
            "count": 0
           },
           {
            "bin_start": 22.8,
            "bin_end": 25.4,
            "count": 0
           },
           {
            "bin_start": 25.4,
            "bin_end": 28,
            "count": 3
           },
           {
            "bin_start": 28,
            "bin_end": 30.6,
            "count": 5
           },
           {
            "bin_start": 30.6,
            "bin_end": 33.2,
            "count": 0
           },
           {
            "bin_start": 33.2,
            "bin_end": 35.8,
            "count": 0
           },
           {
            "bin_start": 35.8,
            "bin_end": 38.400000000000006,
            "count": 0
           },
           {
            "bin_start": 38.400000000000006,
            "bin_end": 41,
            "count": 1
           }
          ]
         }
        },
        {
         "name": "numberOfEdges",
         "dtype": "int64",
         "stats": {
          "unique_count": 6,
          "nan_count": 0,
          "min": "14",
          "max": "40",
          "histogram": [
           {
            "bin_start": 14,
            "bin_end": 16.6,
            "count": 1
           },
           {
            "bin_start": 16.6,
            "bin_end": 19.2,
            "count": 0
           },
           {
            "bin_start": 19.2,
            "bin_end": 21.8,
            "count": 0
           },
           {
            "bin_start": 21.8,
            "bin_end": 24.4,
            "count": 0
           },
           {
            "bin_start": 24.4,
            "bin_end": 27,
            "count": 3
           },
           {
            "bin_start": 27,
            "bin_end": 29.6,
            "count": 5
           },
           {
            "bin_start": 29.6,
            "bin_end": 32.2,
            "count": 0
           },
           {
            "bin_start": 32.2,
            "bin_end": 34.8,
            "count": 0
           },
           {
            "bin_start": 34.8,
            "bin_end": 37.400000000000006,
            "count": 0
           },
           {
            "bin_start": 37.400000000000006,
            "bin_end": 40,
            "count": 1
           }
          ]
         }
        },
        {
         "name": "treewidth",
         "dtype": "int64",
         "stats": {
          "unique_count": 1,
          "nan_count": 0,
          "min": "1",
          "max": "1",
          "histogram": [
           {
            "bin_start": 0.5,
            "bin_end": 0.6,
            "count": 0
           },
           {
            "bin_start": 0.6,
            "bin_end": 0.7,
            "count": 0
           },
           {
            "bin_start": 0.7,
            "bin_end": 0.8,
            "count": 0
           },
           {
            "bin_start": 0.8,
            "bin_end": 0.9,
            "count": 0
           },
           {
            "bin_start": 0.9,
            "bin_end": 1,
            "count": 0
           },
           {
            "bin_start": 1,
            "bin_end": 1.1,
            "count": 10
           },
           {
            "bin_start": 1.1,
            "bin_end": 1.2000000000000002,
            "count": 0
           },
           {
            "bin_start": 1.2000000000000002,
            "bin_end": 1.3,
            "count": 0
           },
           {
            "bin_start": 1.3,
            "bin_end": 1.4,
            "count": 0
           },
           {
            "bin_start": 1.4,
            "bin_end": 1.5,
            "count": 0
           }
          ]
         }
        },
        {
         "name": "isTree",
         "dtype": "int64",
         "stats": {
          "unique_count": 1,
          "nan_count": 0,
          "min": "1",
          "max": "1",
          "histogram": [
           {
            "bin_start": 0.5,
            "bin_end": 0.6,
            "count": 0
           },
           {
            "bin_start": 0.6,
            "bin_end": 0.7,
            "count": 0
           },
           {
            "bin_start": 0.7,
            "bin_end": 0.8,
            "count": 0
           },
           {
            "bin_start": 0.8,
            "bin_end": 0.9,
            "count": 0
           },
           {
            "bin_start": 0.9,
            "bin_end": 1,
            "count": 0
           },
           {
            "bin_start": 1,
            "bin_end": 1.1,
            "count": 10
           },
           {
            "bin_start": 1.1,
            "bin_end": 1.2000000000000002,
            "count": 0
           },
           {
            "bin_start": 1.2000000000000002,
            "bin_end": 1.3,
            "count": 0
           },
           {
            "bin_start": 1.3,
            "bin_end": 1.4,
            "count": 0
           },
           {
            "bin_start": 1.4,
            "bin_end": 1.5,
            "count": 0
           }
          ]
         }
        },
        {
         "name": "averageDegree",
         "dtype": "float64",
         "stats": {
          "unique_count": 6,
          "nan_count": 0,
          "min": "1.8666666666666667",
          "max": "1.951219512195122",
          "histogram": [
           {
            "bin_start": 1.8666666666666667,
            "bin_end": 1.8751219512195123,
            "count": 1
           },
           {
            "bin_start": 1.8751219512195123,
            "bin_end": 1.8835772357723577,
            "count": 0
           },
           {
            "bin_start": 1.8835772357723577,
            "bin_end": 1.8920325203252033,
            "count": 0
           },
           {
            "bin_start": 1.8920325203252033,
            "bin_end": 1.9004878048780487,
            "count": 0
           },
           {
            "bin_start": 1.9004878048780487,
            "bin_end": 1.9089430894308943,
            "count": 0
           },
           {
            "bin_start": 1.9089430894308943,
            "bin_end": 1.91739837398374,
            "count": 0
           },
           {
            "bin_start": 1.91739837398374,
            "bin_end": 1.9258536585365853,
            "count": 0
           },
           {
            "bin_start": 1.9258536585365853,
            "bin_end": 1.934308943089431,
            "count": 8
           },
           {
            "bin_start": 1.934308943089431,
            "bin_end": 1.9427642276422763,
            "count": 0
           },
           {
            "bin_start": 1.9427642276422763,
            "bin_end": 1.951219512195122,
            "count": 1
           }
          ]
         }
        },
        {
         "name": "maxCliqueWeigth",
         "dtype": "int64",
         "stats": {
          "unique_count": 1,
          "nan_count": 0,
          "min": "2",
          "max": "2",
          "histogram": [
           {
            "bin_start": 1.5,
            "bin_end": 1.6,
            "count": 0
           },
           {
            "bin_start": 1.6,
            "bin_end": 1.7,
            "count": 0
           },
           {
            "bin_start": 1.7,
            "bin_end": 1.8,
            "count": 0
           },
           {
            "bin_start": 1.8,
            "bin_end": 1.9,
            "count": 0
           },
           {
            "bin_start": 1.9,
            "bin_end": 2,
            "count": 0
           },
           {
            "bin_start": 2,
            "bin_end": 2.1,
            "count": 10
           },
           {
            "bin_start": 2.1,
            "bin_end": 2.2,
            "count": 0
           },
           {
            "bin_start": 2.2,
            "bin_end": 2.3,
            "count": 0
           },
           {
            "bin_start": 2.3,
            "bin_end": 2.4,
            "count": 0
           },
           {
            "bin_start": 2.4,
            "bin_end": 2.5,
            "count": 0
           }
          ]
         }
        },
        {
         "name": "file_path",
         "dtype": "object",
         "stats": {
          "unique_count": 3,
          "nan_count": 0,
          "categories": [
           {
            "name": "data/parsed/I6_status500_Joined.parsed.tsv",
            "count": 6
           },
           {
            "name": "data/parsed/I7_status500_Joined.parsed.tsv",
            "count": 3
           },
           {
            "name": "data/parsed/I4_status500_Joined.parsed.tsv",
            "count": 1
           }
          ]
         }
        },
        {
         "name": "interval",
         "dtype": "int64",
         "stats": {
          "unique_count": 3,
          "nan_count": 0,
          "min": "4",
          "max": "7",
          "histogram": [
           {
            "bin_start": 4,
            "bin_end": 4.3,
            "count": 1
           },
           {
            "bin_start": 4.3,
            "bin_end": 4.6,
            "count": 0
           },
           {
            "bin_start": 4.6,
            "bin_end": 4.9,
            "count": 0
           },
           {
            "bin_start": 4.9,
            "bin_end": 5.2,
            "count": 0
           },
           {
            "bin_start": 5.2,
            "bin_end": 5.5,
            "count": 0
           },
           {
            "bin_start": 5.5,
            "bin_end": 5.8,
            "count": 0
           },
           {
            "bin_start": 5.8,
            "bin_end": 6.1,
            "count": 6
           },
           {
            "bin_start": 6.1,
            "bin_end": 6.4,
            "count": 0
           },
           {
            "bin_start": 6.4,
            "bin_end": 6.699999999999999,
            "count": 0
           },
           {
            "bin_start": 6.699999999999999,
            "bin_end": 7,
            "count": 3
           }
          ]
         }
        },
        {
         "name": "has_variable",
         "dtype": "bool",
         "stats": {
          "unique_count": 1,
          "nan_count": 0,
          "categories": [
           {
            "name": "True",
            "count": 10
           }
          ]
         }
        },
        {
         "name": "has_filter",
         "dtype": "bool",
         "stats": {
          "unique_count": 2,
          "nan_count": 0,
          "categories": [
           {
            "name": "True",
            "count": 9
           },
           {
            "name": "False",
            "count": 1
           }
          ]
         }
        },
        {
         "name": "has_orderby",
         "dtype": "bool",
         "stats": {
          "unique_count": 2,
          "nan_count": 0,
          "categories": [
           {
            "name": "False",
            "count": 5
           },
           {
            "name": "True",
            "count": 5
           }
          ]
         }
        },
        {
         "name": "has_limit",
         "dtype": "bool",
         "stats": {
          "unique_count": 2,
          "nan_count": 0,
          "categories": [
           {
            "name": "False",
            "count": 7
           },
           {
            "name": "True",
            "count": 3
           }
          ]
         }
        },
        {
         "name": "has_select",
         "dtype": "bool",
         "stats": {
          "unique_count": 1,
          "nan_count": 0,
          "categories": [
           {
            "name": "True",
            "count": 10
           }
          ]
         }
        },
        {
         "name": "has_distinct",
         "dtype": "bool",
         "stats": {
          "unique_count": 1,
          "nan_count": 0,
          "categories": [
           {
            "name": "False",
            "count": 10
           }
          ]
         }
        },
        {
         "name": "has_modify",
         "dtype": "bool",
         "stats": {
          "unique_count": 1,
          "nan_count": 0,
          "categories": [
           {
            "name": "False",
            "count": 10
           }
          ]
         }
        },
        {
         "name": "has_tomultiset",
         "dtype": "bool",
         "stats": {
          "unique_count": 2,
          "nan_count": 0,
          "categories": [
           {
            "name": "False",
            "count": 9
           },
           {
            "name": "True",
            "count": 1
           }
          ]
         }
        },
        {
         "name": "has_join",
         "dtype": "bool",
         "stats": {
          "unique_count": 1,
          "nan_count": 0,
          "categories": [
           {
            "name": "True",
            "count": 10
           }
          ]
         }
        },
        {
         "name": "has_bgp",
         "dtype": "bool",
         "stats": {
          "unique_count": 1,
          "nan_count": 0,
          "categories": [
           {
            "name": "True",
            "count": 10
           }
          ]
         }
        },
        {
         "name": "has_project",
         "dtype": "bool",
         "stats": {
          "unique_count": 1,
          "nan_count": 0,
          "categories": [
           {
            "name": "True",
            "count": 10
           }
          ]
         }
        },
        {
         "name": "has_union",
         "dtype": "bool",
         "stats": {
          "unique_count": 2,
          "nan_count": 0,
          "categories": [
           {
            "name": "False",
            "count": 9
           },
           {
            "name": "True",
            "count": 1
           }
          ]
         }
        },
        {
         "name": "has_values",
         "dtype": "bool",
         "stats": {
          "unique_count": 2,
          "nan_count": 0,
          "categories": [
           {
            "name": "False",
            "count": 9
           },
           {
            "name": "True",
            "count": 1
           }
          ]
         }
        },
        {
         "name": "has_slice",
         "dtype": "bool",
         "stats": {
          "unique_count": 2,
          "nan_count": 0,
          "categories": [
           {
            "name": "False",
            "count": 7
           },
           {
            "name": "True",
            "count": 3
           }
          ]
         }
        },
        {
         "name": "has_offset",
         "dtype": "bool",
         "stats": {
          "unique_count": 1,
          "nan_count": 0,
          "categories": [
           {
            "name": "False",
            "count": 10
           }
          ]
         }
        },
        {
         "name": "_deepnote_index_column",
         "dtype": "int64"
        }
       ],
       "rows": [
        {
         "anonymizedQuery": "SELECT%28+COUNT+%28+DISTINCT++%3Fvar1++%29+AS++%3Fvar2++%29%0AWHERE+%7B%0A++%3Fvar3++%3Chttp%3A%2F%…",
         "timestamp": "2017-12-29 05:57:47",
         "sourceCategory": "organic",
         "user_agent": "browser",
         "var_cpt": 23,
         "filter": 0,
         "orderby": 0,
         "select": 1,
         "distinct": 0,
         "join": 39,
         "project": 1,
         "tomultiset": 0,
         "union": 0,
         "modify": 0,
         "bgp": 1,
         "values": 0,
         "groupBy": 1,
         "slice": 0,
         "triples": 40,
         "extend": 1,
         "filter_not_exists": 0,
         "leftJoin": 0,
         "minus": 0,
         "notexist": 0,
         "sample": 0,
         "count": 0,
         "having": 0,
         "pathWithStar": 0,
         "pathWithPlus": 0,
         "pathWithQuestionMark": 0,
         "pathWithInv": 0,
         "pathWithSequence": 0,
         "pathWithAlternative": 0,
         "triplesSet": "[[\"var10\", \"http://schema.org/inLanguage\", \"it\"], [\"var11\", \"http://schema.org/inLanguage\", \"pt\"], …",
         "limit": 0,
         "limitValue": 0,
         "offset": 0,
         "offsetValue": 0,
         "complexPathWith": 0,
         "simplePathWith": 0,
         "algebraTree": "SelectQuery_SelectQuery_{'p': Project_{'p': Extend_{'p': AggregateJoin_{'A': [Aggregate_Count_{'dis…",
         "algebraTreeMD5": "d98c1e7ec29067ee192fc3854484ff7f",
         "graph": "DiGraph with 41 nodes and 40 edges",
         "cycleNumber": 0,
         "graphDump": "gASVCwYAAAAAAACMGG5ldHdvcmt4LmNsYXNzZXMuZGlncmFwaJSMB0RpR3JhcGiUk5QpgZR9lCiMF2dyYXBoX2F0dHJfZGljdF9…",
         "isForest": 1,
         "numberOfNodes": 41,
         "numberOfEdges": 40,
         "treewidth": 1,
         "isTree": 1,
         "averageDegree": 1.951219512195122,
         "maxCliqueWeigth": 2,
         "file_path": "data/parsed/I4_status500_Joined.parsed.tsv",
         "interval": 4,
         "has_variable": true,
         "has_filter": false,
         "has_orderby": false,
         "has_limit": false,
         "has_select": true,
         "has_distinct": false,
         "has_modify": false,
         "has_tomultiset": false,
         "has_join": true,
         "has_bgp": true,
         "has_project": true,
         "has_union": false,
         "has_values": false,
         "has_slice": false,
         "has_offset": false,
         "_deepnote_index_column": 18655
        },
        {
         "anonymizedQuery": "SELECT+*%0AWHERE+%7B%0A+%7B%0A+++%3Fvar1++%3Chttp%3A%2F%2Fwww.wikidata.org%2Fprop%2Fdirect%2FP106%3…",
         "timestamp": "2018-03-03 08:04:08",
         "sourceCategory": "robotic",
         "user_agent": "UNKNOWN",
         "var_cpt": 25,
         "filter": 1,
         "orderby": 1,
         "select": 1,
         "distinct": 0,
         "join": 10,
         "project": 1,
         "tomultiset": 0,
         "union": 0,
         "modify": 0,
         "bgp": 21,
         "values": 0,
         "groupBy": 0,
         "slice": 0,
         "triples": 30,
         "extend": 0,
         "filter_not_exists": 0,
         "leftJoin": 18,
         "minus": 1,
         "notexist": 0,
         "sample": 0,
         "count": 0,
         "having": 2,
         "pathWithStar": 0,
         "pathWithPlus": 0,
         "pathWithQuestionMark": 0,
         "pathWithInv": 0,
         "pathWithSequence": 0,
         "pathWithAlternative": 0,
         "triplesSet": "[[\"var1\", \"http://www.wikidata.org/prop/direct/P106\", \"http://www.wikidata.org/entity/Q177220\"], [\"…",
         "limit": 0,
         "limitValue": 0,
         "offset": 0,
         "offsetValue": 0,
         "complexPathWith": 0,
         "simplePathWith": 0,
         "algebraTree": "SelectQuery_SelectQuery_{'p': Project_{'p': OrderBy_{'p': Filter_{'expr': ConditionalAndExpression_…",
         "algebraTreeMD5": "6efabadb7c4bad39d7bef40d9fa4f3c6",
         "graph": "DiGraph with 30 nodes and 29 edges",
         "cycleNumber": 0,
         "graphDump": "gASVOgUAAAAAAACMGG5ldHdvcmt4LmNsYXNzZXMuZGlncmFwaJSMB0RpR3JhcGiUk5QpgZR9lCiMF2dyYXBoX2F0dHJfZGljdF9…",
         "isForest": 1,
         "numberOfNodes": 30,
         "numberOfEdges": 29,
         "treewidth": 1,
         "isTree": 1,
         "averageDegree": 1.933333333333333,
         "maxCliqueWeigth": 2,
         "file_path": "data/parsed/I7_status500_Joined.parsed.tsv",
         "interval": 7,
         "has_variable": true,
         "has_filter": true,
         "has_orderby": true,
         "has_limit": false,
         "has_select": true,
         "has_distinct": false,
         "has_modify": false,
         "has_tomultiset": false,
         "has_join": true,
         "has_bgp": true,
         "has_project": true,
         "has_union": false,
         "has_values": false,
         "has_slice": false,
         "has_offset": false,
         "_deepnote_index_column": 35194
        },
        {
         "anonymizedQuery": "SELECT+*%0AWHERE+%7B%0A+%7B%0A+++%3Fvar1+%28+%3Chttp%3A%2F%2Fwww.wikidata.org%2Fprop%2Fdirect%2FP10…",
         "timestamp": "2018-03-01 21:41:12",
         "sourceCategory": "robotic",
         "user_agent": "UNKNOWN",
         "var_cpt": 9,
         "filter": 3,
         "orderby": 1,
         "select": 1,
         "distinct": 0,
         "join": 24,
         "project": 1,
         "tomultiset": 0,
         "union": 2,
         "modify": 0,
         "bgp": 9,
         "values": 0,
         "groupBy": 0,
         "slice": 0,
         "triples": 30,
         "extend": 0,
         "filter_not_exists": 0,
         "leftJoin": 0,
         "minus": 3,
         "notexist": 0,
         "sample": 0,
         "count": 0,
         "having": 6,
         "pathWithStar": 3,
         "pathWithPlus": 0,
         "pathWithQuestionMark": 0,
         "pathWithInv": 0,
         "pathWithSequence": 3,
         "pathWithAlternative": 0,
         "triplesSet": "[[\"var1\", \"Path(http://www.wikidata.org/prop/direct/P106 / Path(http://www.wikidata.org/prop/direct…",
         "limit": 0,
         "limitValue": 0,
         "offset": 0,
         "offsetValue": 0,
         "complexPathWith": 3,
         "simplePathWith": 3,
         "algebraTree": "SelectQuery_SelectQuery_{'p': Project_{'p': OrderBy_{'p': Union_{'p1': Union_{'p1': Filter_{'expr':…",
         "algebraTreeMD5": "99da413f7e6f85e1ca406fe266b654a4",
         "graph": "DiGraph with 15 nodes and 14 edges",
         "cycleNumber": 0,
         "graphDump": "gASVNQMAAAAAAACMGG5ldHdvcmt4LmNsYXNzZXMuZGlncmFwaJSMB0RpR3JhcGiUk5QpgZR9lCiMF2dyYXBoX2F0dHJfZGljdF9…",
         "isForest": 1,
         "numberOfNodes": 15,
         "numberOfEdges": 14,
         "treewidth": 1,
         "isTree": 1,
         "averageDegree": 1.8666666666666667,
         "maxCliqueWeigth": 2,
         "file_path": "data/parsed/I7_status500_Joined.parsed.tsv",
         "interval": 7,
         "has_variable": true,
         "has_filter": true,
         "has_orderby": true,
         "has_limit": false,
         "has_select": true,
         "has_distinct": false,
         "has_modify": false,
         "has_tomultiset": false,
         "has_join": true,
         "has_bgp": true,
         "has_project": true,
         "has_union": true,
         "has_values": false,
         "has_slice": false,
         "has_offset": false,
         "_deepnote_index_column": 34738
        },
        {
         "anonymizedQuery": "SELECT+*%0AWHERE+%7B%0A+%7B%0A+++%3Fvar1++%3Chttp%3A%2F%2Fwww.wikidata.org%2Fprop%2Fdirect%2FP106%3…",
         "timestamp": "2018-03-03 19:53:52",
         "sourceCategory": "robotic",
         "user_agent": "UNKNOWN",
         "var_cpt": 26,
         "filter": 1,
         "orderby": 1,
         "select": 1,
         "distinct": 0,
         "join": 8,
         "project": 1,
         "tomultiset": 0,
         "union": 0,
         "modify": 0,
         "bgp": 21,
         "values": 0,
         "groupBy": 0,
         "slice": 0,
         "triples": 28,
         "extend": 0,
         "filter_not_exists": 0,
         "leftJoin": 18,
         "minus": 1,
         "notexist": 0,
         "sample": 0,
         "count": 0,
         "having": 2,
         "pathWithStar": 0,
         "pathWithPlus": 0,
         "pathWithQuestionMark": 0,
         "pathWithInv": 0,
         "pathWithSequence": 0,
         "pathWithAlternative": 0,
         "triplesSet": "[[\"var1\", \"http://www.wikidata.org/prop/direct/P106\", \"http://www.wikidata.org/entity/Q10800557\"], …",
         "limit": 0,
         "limitValue": 0,
         "offset": 0,
         "offsetValue": 0,
         "complexPathWith": 0,
         "simplePathWith": 0,
         "algebraTree": "SelectQuery_SelectQuery_{'p': Project_{'p': OrderBy_{'p': Filter_{'expr': ConditionalAndExpression_…",
         "algebraTreeMD5": "e8df605eb1af020ba2f7ae56c12c6f4e",
         "graph": "DiGraph with 29 nodes and 28 edges",
         "cycleNumber": 0,
         "graphDump": "gASV/wQAAAAAAACMGG5ldHdvcmt4LmNsYXNzZXMuZGlncmFwaJSMB0RpR3JhcGiUk5QpgZR9lCiMF2dyYXBoX2F0dHJfZGljdF9…",
         "isForest": 1,
         "numberOfNodes": 29,
         "numberOfEdges": 28,
         "treewidth": 1,
         "isTree": 1,
         "averageDegree": 1.9310344827586208,
         "maxCliqueWeigth": 2,
         "file_path": "data/parsed/I7_status500_Joined.parsed.tsv",
         "interval": 7,
         "has_variable": true,
         "has_filter": true,
         "has_orderby": true,
         "has_limit": false,
         "has_select": true,
         "has_distinct": false,
         "has_modify": false,
         "has_tomultiset": false,
         "has_join": true,
         "has_bgp": true,
         "has_project": true,
         "has_union": false,
         "has_values": false,
         "has_slice": false,
         "has_offset": false,
         "_deepnote_index_column": 35326
        },
        {
         "anonymizedQuery": "SELECT+*%0AWHERE+%7B%0A++%3Fvar1++%3Chttp%3A%2F%2Fwww.wikidata.org%2Fprop%2Fdirect%2FP106%3E++%3Cht…",
         "timestamp": "2018-02-25 17:05:04",
         "sourceCategory": "robotic",
         "user_agent": "UNKNOWN",
         "var_cpt": 25,
         "filter": 1,
         "orderby": 1,
         "select": 1,
         "distinct": 0,
         "join": 8,
         "project": 1,
         "tomultiset": 0,
         "union": 0,
         "modify": 0,
         "bgp": 20,
         "values": 0,
         "groupBy": 0,
         "slice": 1,
         "triples": 27,
         "extend": 0,
         "filter_not_exists": 0,
         "leftJoin": 17,
         "minus": 1,
         "notexist": 0,
         "sample": 0,
         "count": 0,
         "having": 3,
         "pathWithStar": 0,
         "pathWithPlus": 0,
         "pathWithQuestionMark": 0,
         "pathWithInv": 0,
         "pathWithSequence": 0,
         "pathWithAlternative": 0,
         "triplesSet": "[[\"var1\", \"http://www.wikidata.org/prop/direct/P106\", \"http://www.wikidata.org/entity/Q36180\"], [\"v…",
         "limit": 1,
         "limitValue": 50,
         "offset": 0,
         "offsetValue": 0,
         "complexPathWith": 0,
         "simplePathWith": 0,
         "algebraTree": "SelectQuery_SelectQuery_{'p': Slice_{'p': Project_{'p': OrderBy_{'p': Filter_{'expr': ConditionalAn…",
         "algebraTreeMD5": "3e465495ecef0e81d779b2e30c2fdc9f",
         "graph": "DiGraph with 28 nodes and 27 edges",
         "cycleNumber": 0,
         "graphDump": "gASV2AQAAAAAAACMGG5ldHdvcmt4LmNsYXNzZXMuZGlncmFwaJSMB0RpR3JhcGiUk5QpgZR9lCiMF2dyYXBoX2F0dHJfZGljdF9…",
         "isForest": 1,
         "numberOfNodes": 28,
         "numberOfEdges": 27,
         "treewidth": 1,
         "isTree": 1,
         "averageDegree": 1.9285714285714288,
         "maxCliqueWeigth": 2,
         "file_path": "data/parsed/I6_status500_Joined.parsed.tsv",
         "interval": 6,
         "has_variable": true,
         "has_filter": true,
         "has_orderby": true,
         "has_limit": true,
         "has_select": true,
         "has_distinct": false,
         "has_modify": false,
         "has_tomultiset": false,
         "has_join": true,
         "has_bgp": true,
         "has_project": true,
         "has_union": false,
         "has_values": false,
         "has_slice": true,
         "has_offset": false,
         "_deepnote_index_column": 33186
        },
        {
         "anonymizedQuery": "SELECT%28+COUNT+%28+DISTINCT++%3Fvar1++%29+AS++%3Fvar2++%29%0AWHERE+%7B%0A++%3Fvar3++%3Chttp%3A%2F%…",
         "timestamp": "2018-02-25 22:22:32",
         "sourceCategory": "organic",
         "user_agent": "browser",
         "var_cpt": 26,
         "filter": 1,
         "orderby": 0,
         "select": 1,
         "distinct": 0,
         "join": 7,
         "project": 1,
         "tomultiset": 0,
         "union": 0,
         "modify": 0,
         "bgp": 20,
         "values": 0,
         "groupBy": 1,
         "slice": 0,
         "triples": 27,
         "extend": 1,
         "filter_not_exists": 0,
         "leftJoin": 19,
         "minus": 0,
         "notexist": 0,
         "sample": 0,
         "count": 0,
         "having": 3,
         "pathWithStar": 0,
         "pathWithPlus": 0,
         "pathWithQuestionMark": 0,
         "pathWithInv": 0,
         "pathWithSequence": 0,
         "pathWithAlternative": 0,
         "triplesSet": "[[\"var3\", \"http://www.wikidata.org/prop/direct/P106\", \"http://www.wikidata.org/entity/Q6625963\"], […",
         "limit": 0,
         "limitValue": 0,
         "offset": 0,
         "offsetValue": 0,
         "complexPathWith": 0,
         "simplePathWith": 0,
         "algebraTree": "SelectQuery_SelectQuery_{'p': Project_{'p': Extend_{'p': AggregateJoin_{'A': [Aggregate_Count_{'dis…",
         "algebraTreeMD5": "61bea7a7644908360268cd126903108e",
         "graph": "DiGraph with 27 nodes and 26 edges",
         "cycleNumber": 0,
         "graphDump": "gASVuwQAAAAAAACMGG5ldHdvcmt4LmNsYXNzZXMuZGlncmFwaJSMB0RpR3JhcGiUk5QpgZR9lCiMF2dyYXBoX2F0dHJfZGljdF9…",
         "isForest": 1,
         "numberOfNodes": 27,
         "numberOfEdges": 26,
         "treewidth": 1,
         "isTree": 1,
         "averageDegree": 1.9259259259259256,
         "maxCliqueWeigth": 2,
         "file_path": "data/parsed/I6_status500_Joined.parsed.tsv",
         "interval": 6,
         "has_variable": true,
         "has_filter": true,
         "has_orderby": false,
         "has_limit": false,
         "has_select": true,
         "has_distinct": false,
         "has_modify": false,
         "has_tomultiset": false,
         "has_join": true,
         "has_bgp": true,
         "has_project": true,
         "has_union": false,
         "has_values": false,
         "has_slice": false,
         "has_offset": false,
         "_deepnote_index_column": 33310
        },
        {
         "anonymizedQuery": "SELECT%28+COUNT+%28+DISTINCT++%3Fvar1++%29+AS++%3Fvar2++%29%0AWHERE+%7B%0A++%3Fvar1++%3Chttp%3A%2F%…",
         "timestamp": "2018-02-25 22:24:19",
         "sourceCategory": "organic",
         "user_agent": "browser",
         "var_cpt": 26,
         "filter": 1,
         "orderby": 0,
         "select": 1,
         "distinct": 0,
         "join": 7,
         "project": 1,
         "tomultiset": 0,
         "union": 0,
         "modify": 0,
         "bgp": 20,
         "values": 0,
         "groupBy": 1,
         "slice": 0,
         "triples": 27,
         "extend": 1,
         "filter_not_exists": 0,
         "leftJoin": 19,
         "minus": 0,
         "notexist": 0,
         "sample": 0,
         "count": 0,
         "having": 3,
         "pathWithStar": 0,
         "pathWithPlus": 0,
         "pathWithQuestionMark": 0,
         "pathWithInv": 0,
         "pathWithSequence": 0,
         "pathWithAlternative": 0,
         "triplesSet": "[[\"var1\", \"http://www.wikidata.org/prop/direct/P106\", \"http://www.wikidata.org/entity/Q6625963\"], […",
         "limit": 0,
         "limitValue": 0,
         "offset": 0,
         "offsetValue": 0,
         "complexPathWith": 0,
         "simplePathWith": 0,
         "algebraTree": "SelectQuery_SelectQuery_{'p': Project_{'p': Extend_{'p': AggregateJoin_{'A': [Aggregate_Count_{'dis…",
         "algebraTreeMD5": "76930a20f17598ff0b0e9a52f667e8d6",
         "graph": "DiGraph with 27 nodes and 26 edges",
         "cycleNumber": 0,
         "graphDump": "gASVuwQAAAAAAACMGG5ldHdvcmt4LmNsYXNzZXMuZGlncmFwaJSMB0RpR3JhcGiUk5QpgZR9lCiMF2dyYXBoX2F0dHJfZGljdF9…",
         "isForest": 1,
         "numberOfNodes": 27,
         "numberOfEdges": 26,
         "treewidth": 1,
         "isTree": 1,
         "averageDegree": 1.9259259259259256,
         "maxCliqueWeigth": 2,
         "file_path": "data/parsed/I6_status500_Joined.parsed.tsv",
         "interval": 6,
         "has_variable": true,
         "has_filter": true,
         "has_orderby": false,
         "has_limit": false,
         "has_select": true,
         "has_distinct": false,
         "has_modify": false,
         "has_tomultiset": false,
         "has_join": true,
         "has_bgp": true,
         "has_project": true,
         "has_union": false,
         "has_values": false,
         "has_slice": false,
         "has_offset": false,
         "_deepnote_index_column": 33311
        },
        {
         "anonymizedQuery": "SELECT%28+COUNT+%28+DISTINCT++%3Fvar1++%29+AS++%3Fvar2++%29%0AWHERE+%7B%0A++%3Fvar3++%3Chttp%3A%2F%…",
         "timestamp": "2018-02-25 22:26:05",
         "sourceCategory": "organic",
         "user_agent": "browser",
         "var_cpt": 26,
         "filter": 1,
         "orderby": 0,
         "select": 1,
         "distinct": 0,
         "join": 8,
         "project": 1,
         "tomultiset": 0,
         "union": 0,
         "modify": 0,
         "bgp": 19,
         "values": 0,
         "groupBy": 1,
         "slice": 0,
         "triples": 27,
         "extend": 1,
         "filter_not_exists": 0,
         "leftJoin": 18,
         "minus": 0,
         "notexist": 0,
         "sample": 0,
         "count": 0,
         "having": 3,
         "pathWithStar": 0,
         "pathWithPlus": 0,
         "pathWithQuestionMark": 0,
         "pathWithInv": 0,
         "pathWithSequence": 0,
         "pathWithAlternative": 0,
         "triplesSet": "[[\"var3\", \"http://www.wikidata.org/prop/direct/P106\", \"http://www.wikidata.org/entity/Q6625963\"], […",
         "limit": 0,
         "limitValue": 0,
         "offset": 0,
         "offsetValue": 0,
         "complexPathWith": 0,
         "simplePathWith": 0,
         "algebraTree": "SelectQuery_SelectQuery_{'p': Project_{'p': Extend_{'p': AggregateJoin_{'A': [Aggregate_Count_{'dis…",
         "algebraTreeMD5": "08c1467e28d2286bde1a3353a68f6a74",
         "graph": "DiGraph with 27 nodes and 26 edges",
         "cycleNumber": 0,
         "graphDump": "gASVuwQAAAAAAACMGG5ldHdvcmt4LmNsYXNzZXMuZGlncmFwaJSMB0RpR3JhcGiUk5QpgZR9lCiMF2dyYXBoX2F0dHJfZGljdF9…",
         "isForest": 1,
         "numberOfNodes": 27,
         "numberOfEdges": 26,
         "treewidth": 1,
         "isTree": 1,
         "averageDegree": 1.9259259259259256,
         "maxCliqueWeigth": 2,
         "file_path": "data/parsed/I6_status500_Joined.parsed.tsv",
         "interval": 6,
         "has_variable": true,
         "has_filter": true,
         "has_orderby": false,
         "has_limit": false,
         "has_select": true,
         "has_distinct": false,
         "has_modify": false,
         "has_tomultiset": false,
         "has_join": true,
         "has_bgp": true,
         "has_project": true,
         "has_union": false,
         "has_values": false,
         "has_slice": false,
         "has_offset": false,
         "_deepnote_index_column": 33315
        },
        {
         "anonymizedQuery": "SELECT+*%0AWHERE+%7B%0A++%3Fvar1++%3Chttp%3A%2F%2Fwww.wikidata.org%2Fprop%2Fdirect%2FP106%3E++%3Fva…",
         "timestamp": "2018-02-25 11:54:23",
         "sourceCategory": "robotic",
         "user_agent": "UNKNOWN",
         "var_cpt": 27,
         "filter": 1,
         "orderby": 0,
         "select": 1,
         "distinct": 0,
         "join": 9,
         "project": 1,
         "tomultiset": 1,
         "union": 0,
         "modify": 0,
         "bgp": 20,
         "values": 1,
         "groupBy": 0,
         "slice": 1,
         "triples": 27,
         "extend": 0,
         "filter_not_exists": 0,
         "leftJoin": 17,
         "minus": 1,
         "notexist": 0,
         "sample": 0,
         "count": 0,
         "having": 3,
         "pathWithStar": 0,
         "pathWithPlus": 0,
         "pathWithQuestionMark": 0,
         "pathWithInv": 0,
         "pathWithSequence": 0,
         "pathWithAlternative": 0,
         "triplesSet": "[[\"var1\", \"http://www.wikidata.org/prop/direct/P106\", \"var2\"], [\"var1\", \"http://www.wikidata.org/pr…",
         "limit": 1,
         "limitValue": 50,
         "offset": 0,
         "offsetValue": 0,
         "complexPathWith": 0,
         "simplePathWith": 0,
         "algebraTree": "SelectQuery_SelectQuery_{'p': Slice_{'p': Project_{'p': Filter_{'expr': ConditionalAndExpression_{'…",
         "algebraTreeMD5": "c30c97b1bce0da763ad7e88a4312579a",
         "graph": "DiGraph with 28 nodes and 27 edges",
         "cycleNumber": 0,
         "graphDump": "gASVuQQAAAAAAACMGG5ldHdvcmt4LmNsYXNzZXMuZGlncmFwaJSMB0RpR3JhcGiUk5QpgZR9lCiMF2dyYXBoX2F0dHJfZGljdF9…",
         "isForest": 1,
         "numberOfNodes": 28,
         "numberOfEdges": 27,
         "treewidth": 1,
         "isTree": 1,
         "averageDegree": 1.9285714285714288,
         "maxCliqueWeigth": 2,
         "file_path": "data/parsed/I6_status500_Joined.parsed.tsv",
         "interval": 6,
         "has_variable": true,
         "has_filter": true,
         "has_orderby": false,
         "has_limit": true,
         "has_select": true,
         "has_distinct": false,
         "has_modify": false,
         "has_tomultiset": true,
         "has_join": true,
         "has_bgp": true,
         "has_project": true,
         "has_union": false,
         "has_values": true,
         "has_slice": true,
         "has_offset": false,
         "_deepnote_index_column": 33079
        },
        {
         "anonymizedQuery": "SELECT+*%0AWHERE+%7B%0A++%3Fvar1++%3Chttp%3A%2F%2Fwww.wikidata.org%2Fprop%2Fdirect%2FP106%3E++%3Cht…",
         "timestamp": "2018-02-25 17:00:18",
         "sourceCategory": "robotic",
         "user_agent": "UNKNOWN",
         "var_cpt": 25,
         "filter": 1,
         "orderby": 1,
         "select": 1,
         "distinct": 0,
         "join": 9,
         "project": 1,
         "tomultiset": 0,
         "union": 0,
         "modify": 0,
         "bgp": 19,
         "values": 0,
         "groupBy": 0,
         "slice": 1,
         "triples": 27,
         "extend": 0,
         "filter_not_exists": 0,
         "leftJoin": 16,
         "minus": 1,
         "notexist": 0,
         "sample": 0,
         "count": 0,
         "having": 3,
         "pathWithStar": 0,
         "pathWithPlus": 0,
         "pathWithQuestionMark": 0,
         "pathWithInv": 0,
         "pathWithSequence": 0,
         "pathWithAlternative": 0,
         "triplesSet": "[[\"var1\", \"http://www.wikidata.org/prop/direct/P106\", \"http://www.wikidata.org/entity/Q36180\"], [\"v…",
         "limit": 1,
         "limitValue": 50,
         "offset": 0,
         "offsetValue": 0,
         "complexPathWith": 0,
         "simplePathWith": 0,
         "algebraTree": "SelectQuery_SelectQuery_{'p': Slice_{'p': Project_{'p': OrderBy_{'p': Filter_{'expr': ConditionalAn…",
         "algebraTreeMD5": "c47eba9804820b566f4241f40c9c38c7",
         "graph": "DiGraph with 28 nodes and 27 edges",
         "cycleNumber": 0,
         "graphDump": "gASV2AQAAAAAAACMGG5ldHdvcmt4LmNsYXNzZXMuZGlncmFwaJSMB0RpR3JhcGiUk5QpgZR9lCiMF2dyYXBoX2F0dHJfZGljdF9…",
         "isForest": 1,
         "numberOfNodes": 28,
         "numberOfEdges": 27,
         "treewidth": 1,
         "isTree": 1,
         "averageDegree": 1.9285714285714288,
         "maxCliqueWeigth": 2,
         "file_path": "data/parsed/I6_status500_Joined.parsed.tsv",
         "interval": 6,
         "has_variable": true,
         "has_filter": true,
         "has_orderby": true,
         "has_limit": true,
         "has_select": true,
         "has_distinct": false,
         "has_modify": false,
         "has_tomultiset": false,
         "has_join": true,
         "has_bgp": true,
         "has_project": true,
         "has_union": false,
         "has_values": false,
         "has_slice": true,
         "has_offset": false,
         "_deepnote_index_column": 33185
        }
       ]
      },
      "text/plain": "                                         anonymizedQuery            timestamp  \\\n18655  SELECT%28+COUNT+%28+DISTINCT++%3Fvar1++%29+AS+...  2017-12-29 05:57:47   \n35194  SELECT+*%0AWHERE+%7B%0A+%7B%0A+++%3Fvar1++%3Ch...  2018-03-03 08:04:08   \n34738  SELECT+*%0AWHERE+%7B%0A+%7B%0A+++%3Fvar1+%28+%...  2018-03-01 21:41:12   \n35326  SELECT+*%0AWHERE+%7B%0A+%7B%0A+++%3Fvar1++%3Ch...  2018-03-03 19:53:52   \n33186  SELECT+*%0AWHERE+%7B%0A++%3Fvar1++%3Chttp%3A%2...  2018-02-25 17:05:04   \n33310  SELECT%28+COUNT+%28+DISTINCT++%3Fvar1++%29+AS+...  2018-02-25 22:22:32   \n33311  SELECT%28+COUNT+%28+DISTINCT++%3Fvar1++%29+AS+...  2018-02-25 22:24:19   \n33315  SELECT%28+COUNT+%28+DISTINCT++%3Fvar1++%29+AS+...  2018-02-25 22:26:05   \n33079  SELECT+*%0AWHERE+%7B%0A++%3Fvar1++%3Chttp%3A%2...  2018-02-25 11:54:23   \n33185  SELECT+*%0AWHERE+%7B%0A++%3Fvar1++%3Chttp%3A%2...  2018-02-25 17:00:18   \n\n      sourceCategory user_agent  var_cpt  filter  orderby  select  distinct  \\\n18655        organic    browser       23       0        0       1         0   \n35194        robotic    UNKNOWN       25       1        1       1         0   \n34738        robotic    UNKNOWN        9       3        1       1         0   \n35326        robotic    UNKNOWN       26       1        1       1         0   \n33186        robotic    UNKNOWN       25       1        1       1         0   \n33310        organic    browser       26       1        0       1         0   \n33311        organic    browser       26       1        0       1         0   \n33315        organic    browser       26       1        0       1         0   \n33079        robotic    UNKNOWN       27       1        0       1         0   \n33185        robotic    UNKNOWN       25       1        1       1         0   \n\n       join  project  tomultiset  union  modify  bgp  values  groupBy  slice  \\\n18655    39        1           0      0       0    1       0        1      0   \n35194    10        1           0      0       0   21       0        0      0   \n34738    24        1           0      2       0    9       0        0      0   \n35326     8        1           0      0       0   21       0        0      0   \n33186     8        1           0      0       0   20       0        0      1   \n33310     7        1           0      0       0   20       0        1      0   \n33311     7        1           0      0       0   20       0        1      0   \n33315     8        1           0      0       0   19       0        1      0   \n33079     9        1           1      0       0   20       1        0      1   \n33185     9        1           0      0       0   19       0        0      1   \n\n       triples  extend  filter_not_exists  leftJoin  minus  notexist  sample  \\\n18655       40       1                  0         0      0         0       0   \n35194       30       0                  0        18      1         0       0   \n34738       30       0                  0         0      3         0       0   \n35326       28       0                  0        18      1         0       0   \n33186       27       0                  0        17      1         0       0   \n33310       27       1                  0        19      0         0       0   \n33311       27       1                  0        19      0         0       0   \n33315       27       1                  0        18      0         0       0   \n33079       27       0                  0        17      1         0       0   \n33185       27       0                  0        16      1         0       0   \n\n       count  having  pathWithStar  pathWithPlus  pathWithQuestionMark  \\\n18655      0       0             0             0                     0   \n35194      0       2             0             0                     0   \n34738      0       6             3             0                     0   \n35326      0       2             0             0                     0   \n33186      0       3             0             0                     0   \n33310      0       3             0             0                     0   \n33311      0       3             0             0                     0   \n33315      0       3             0             0                     0   \n33079      0       3             0             0                     0   \n33185      0       3             0             0                     0   \n\n       pathWithInv  pathWithSequence  pathWithAlternative  \\\n18655            0                 0                    0   \n35194            0                 0                    0   \n34738            0                 3                    0   \n35326            0                 0                    0   \n33186            0                 0                    0   \n33310            0                 0                    0   \n33311            0                 0                    0   \n33315            0                 0                    0   \n33079            0                 0                    0   \n33185            0                 0                    0   \n\n                                              triplesSet  limit  limitValue  \\\n18655  [[\"var10\", \"http://schema.org/inLanguage\", \"it...      0           0   \n35194  [[\"var1\", \"http://www.wikidata.org/prop/direct...      0           0   \n34738  [[\"var1\", \"Path(http://www.wikidata.org/prop/d...      0           0   \n35326  [[\"var1\", \"http://www.wikidata.org/prop/direct...      0           0   \n33186  [[\"var1\", \"http://www.wikidata.org/prop/direct...      1          50   \n33310  [[\"var3\", \"http://www.wikidata.org/prop/direct...      0           0   \n33311  [[\"var1\", \"http://www.wikidata.org/prop/direct...      0           0   \n33315  [[\"var3\", \"http://www.wikidata.org/prop/direct...      0           0   \n33079  [[\"var1\", \"http://www.wikidata.org/prop/direct...      1          50   \n33185  [[\"var1\", \"http://www.wikidata.org/prop/direct...      1          50   \n\n       offset  offsetValue  complexPathWith  simplePathWith  \\\n18655       0            0                0               0   \n35194       0            0                0               0   \n34738       0            0                3               3   \n35326       0            0                0               0   \n33186       0            0                0               0   \n33310       0            0                0               0   \n33311       0            0                0               0   \n33315       0            0                0               0   \n33079       0            0                0               0   \n33185       0            0                0               0   \n\n                                             algebraTree  \\\n18655  SelectQuery_SelectQuery_{'p': Project_{'p': Ex...   \n35194  SelectQuery_SelectQuery_{'p': Project_{'p': Or...   \n34738  SelectQuery_SelectQuery_{'p': Project_{'p': Or...   \n35326  SelectQuery_SelectQuery_{'p': Project_{'p': Or...   \n33186  SelectQuery_SelectQuery_{'p': Slice_{'p': Proj...   \n33310  SelectQuery_SelectQuery_{'p': Project_{'p': Ex...   \n33311  SelectQuery_SelectQuery_{'p': Project_{'p': Ex...   \n33315  SelectQuery_SelectQuery_{'p': Project_{'p': Ex...   \n33079  SelectQuery_SelectQuery_{'p': Slice_{'p': Proj...   \n33185  SelectQuery_SelectQuery_{'p': Slice_{'p': Proj...   \n\n                         algebraTreeMD5                               graph  \\\n18655  d98c1e7ec29067ee192fc3854484ff7f  DiGraph with 41 nodes and 40 edges   \n35194  6efabadb7c4bad39d7bef40d9fa4f3c6  DiGraph with 30 nodes and 29 edges   \n34738  99da413f7e6f85e1ca406fe266b654a4  DiGraph with 15 nodes and 14 edges   \n35326  e8df605eb1af020ba2f7ae56c12c6f4e  DiGraph with 29 nodes and 28 edges   \n33186  3e465495ecef0e81d779b2e30c2fdc9f  DiGraph with 28 nodes and 27 edges   \n33310  61bea7a7644908360268cd126903108e  DiGraph with 27 nodes and 26 edges   \n33311  76930a20f17598ff0b0e9a52f667e8d6  DiGraph with 27 nodes and 26 edges   \n33315  08c1467e28d2286bde1a3353a68f6a74  DiGraph with 27 nodes and 26 edges   \n33079  c30c97b1bce0da763ad7e88a4312579a  DiGraph with 28 nodes and 27 edges   \n33185  c47eba9804820b566f4241f40c9c38c7  DiGraph with 28 nodes and 27 edges   \n\n       cycleNumber                                          graphDump  \\\n18655            0  gASVCwYAAAAAAACMGG5ldHdvcmt4LmNsYXNzZXMuZGlncm...   \n35194            0  gASVOgUAAAAAAACMGG5ldHdvcmt4LmNsYXNzZXMuZGlncm...   \n34738            0  gASVNQMAAAAAAACMGG5ldHdvcmt4LmNsYXNzZXMuZGlncm...   \n35326            0  gASV/wQAAAAAAACMGG5ldHdvcmt4LmNsYXNzZXMuZGlncm...   \n33186            0  gASV2AQAAAAAAACMGG5ldHdvcmt4LmNsYXNzZXMuZGlncm...   \n33310            0  gASVuwQAAAAAAACMGG5ldHdvcmt4LmNsYXNzZXMuZGlncm...   \n33311            0  gASVuwQAAAAAAACMGG5ldHdvcmt4LmNsYXNzZXMuZGlncm...   \n33315            0  gASVuwQAAAAAAACMGG5ldHdvcmt4LmNsYXNzZXMuZGlncm...   \n33079            0  gASVuQQAAAAAAACMGG5ldHdvcmt4LmNsYXNzZXMuZGlncm...   \n33185            0  gASV2AQAAAAAAACMGG5ldHdvcmt4LmNsYXNzZXMuZGlncm...   \n\n       isForest  numberOfNodes  numberOfEdges  treewidth  isTree  \\\n18655         1             41             40          1       1   \n35194         1             30             29          1       1   \n34738         1             15             14          1       1   \n35326         1             29             28          1       1   \n33186         1             28             27          1       1   \n33310         1             27             26          1       1   \n33311         1             27             26          1       1   \n33315         1             27             26          1       1   \n33079         1             28             27          1       1   \n33185         1             28             27          1       1   \n\n       averageDegree  maxCliqueWeigth  \\\n18655       1.951220                2   \n35194       1.933333                2   \n34738       1.866667                2   \n35326       1.931034                2   \n33186       1.928571                2   \n33310       1.925926                2   \n33311       1.925926                2   \n33315       1.925926                2   \n33079       1.928571                2   \n33185       1.928571                2   \n\n                                        file_path  interval  has_variable  \\\n18655  data/parsed/I4_status500_Joined.parsed.tsv         4          True   \n35194  data/parsed/I7_status500_Joined.parsed.tsv         7          True   \n34738  data/parsed/I7_status500_Joined.parsed.tsv         7          True   \n35326  data/parsed/I7_status500_Joined.parsed.tsv         7          True   \n33186  data/parsed/I6_status500_Joined.parsed.tsv         6          True   \n33310  data/parsed/I6_status500_Joined.parsed.tsv         6          True   \n33311  data/parsed/I6_status500_Joined.parsed.tsv         6          True   \n33315  data/parsed/I6_status500_Joined.parsed.tsv         6          True   \n33079  data/parsed/I6_status500_Joined.parsed.tsv         6          True   \n33185  data/parsed/I6_status500_Joined.parsed.tsv         6          True   \n\n       has_filter  has_orderby  has_limit  has_select  has_distinct  \\\n18655       False        False      False        True         False   \n35194        True         True      False        True         False   \n34738        True         True      False        True         False   \n35326        True         True      False        True         False   \n33186        True         True       True        True         False   \n33310        True        False      False        True         False   \n33311        True        False      False        True         False   \n33315        True        False      False        True         False   \n33079        True        False       True        True         False   \n33185        True         True       True        True         False   \n\n       has_modify  has_tomultiset  has_join  has_bgp  has_project  has_union  \\\n18655       False           False      True     True         True      False   \n35194       False           False      True     True         True      False   \n34738       False           False      True     True         True       True   \n35326       False           False      True     True         True      False   \n33186       False           False      True     True         True      False   \n33310       False           False      True     True         True      False   \n33311       False           False      True     True         True      False   \n33315       False           False      True     True         True      False   \n33079       False            True      True     True         True      False   \n33185       False           False      True     True         True      False   \n\n       has_values  has_slice  has_offset  \n18655       False      False       False  \n35194       False      False       False  \n34738       False      False       False  \n35326       False      False       False  \n33186       False       True       False  \n33310       False      False       False  \n33311       False      False       False  \n33315       False      False       False  \n33079        True       True       False  \n33185       False       True       False  ",
      "text/html": "<div>\n<style scoped>\n    .dataframe tbody tr th:only-of-type {\n        vertical-align: middle;\n    }\n\n    .dataframe tbody tr th {\n        vertical-align: top;\n    }\n\n    .dataframe thead th {\n        text-align: right;\n    }\n</style>\n<table border=\"1\" class=\"dataframe\">\n  <thead>\n    <tr style=\"text-align: right;\">\n      <th></th>\n      <th>anonymizedQuery</th>\n      <th>timestamp</th>\n      <th>sourceCategory</th>\n      <th>user_agent</th>\n      <th>var_cpt</th>\n      <th>filter</th>\n      <th>orderby</th>\n      <th>select</th>\n      <th>distinct</th>\n      <th>join</th>\n      <th>project</th>\n      <th>tomultiset</th>\n      <th>union</th>\n      <th>modify</th>\n      <th>bgp</th>\n      <th>values</th>\n      <th>groupBy</th>\n      <th>slice</th>\n      <th>triples</th>\n      <th>extend</th>\n      <th>filter_not_exists</th>\n      <th>leftJoin</th>\n      <th>minus</th>\n      <th>notexist</th>\n      <th>sample</th>\n      <th>count</th>\n      <th>having</th>\n      <th>pathWithStar</th>\n      <th>pathWithPlus</th>\n      <th>pathWithQuestionMark</th>\n      <th>pathWithInv</th>\n      <th>pathWithSequence</th>\n      <th>pathWithAlternative</th>\n      <th>triplesSet</th>\n      <th>limit</th>\n      <th>limitValue</th>\n      <th>offset</th>\n      <th>offsetValue</th>\n      <th>complexPathWith</th>\n      <th>simplePathWith</th>\n      <th>algebraTree</th>\n      <th>algebraTreeMD5</th>\n      <th>graph</th>\n      <th>cycleNumber</th>\n      <th>graphDump</th>\n      <th>isForest</th>\n      <th>numberOfNodes</th>\n      <th>numberOfEdges</th>\n      <th>treewidth</th>\n      <th>isTree</th>\n      <th>averageDegree</th>\n      <th>maxCliqueWeigth</th>\n      <th>file_path</th>\n      <th>interval</th>\n      <th>has_variable</th>\n      <th>has_filter</th>\n      <th>has_orderby</th>\n      <th>has_limit</th>\n      <th>has_select</th>\n      <th>has_distinct</th>\n      <th>has_modify</th>\n      <th>has_tomultiset</th>\n      <th>has_join</th>\n      <th>has_bgp</th>\n      <th>has_project</th>\n      <th>has_union</th>\n      <th>has_values</th>\n      <th>has_slice</th>\n      <th>has_offset</th>\n    </tr>\n  </thead>\n  <tbody>\n    <tr>\n      <th>18655</th>\n      <td>SELECT%28+COUNT+%28+DISTINCT++%3Fvar1++%29+AS+...</td>\n      <td>2017-12-29 05:57:47</td>\n      <td>organic</td>\n      <td>browser</td>\n      <td>23</td>\n      <td>0</td>\n      <td>0</td>\n      <td>1</td>\n      <td>0</td>\n      <td>39</td>\n      <td>1</td>\n      <td>0</td>\n      <td>0</td>\n      <td>0</td>\n      <td>1</td>\n      <td>0</td>\n      <td>1</td>\n      <td>0</td>\n      <td>40</td>\n      <td>1</td>\n      <td>0</td>\n      <td>0</td>\n      <td>0</td>\n      <td>0</td>\n      <td>0</td>\n      <td>0</td>\n      <td>0</td>\n      <td>0</td>\n      <td>0</td>\n      <td>0</td>\n      <td>0</td>\n      <td>0</td>\n      <td>0</td>\n      <td>[[\"var10\", \"http://schema.org/inLanguage\", \"it...</td>\n      <td>0</td>\n      <td>0</td>\n      <td>0</td>\n      <td>0</td>\n      <td>0</td>\n      <td>0</td>\n      <td>SelectQuery_SelectQuery_{'p': Project_{'p': Ex...</td>\n      <td>d98c1e7ec29067ee192fc3854484ff7f</td>\n      <td>DiGraph with 41 nodes and 40 edges</td>\n      <td>0</td>\n      <td>gASVCwYAAAAAAACMGG5ldHdvcmt4LmNsYXNzZXMuZGlncm...</td>\n      <td>1</td>\n      <td>41</td>\n      <td>40</td>\n      <td>1</td>\n      <td>1</td>\n      <td>1.951220</td>\n      <td>2</td>\n      <td>data/parsed/I4_status500_Joined.parsed.tsv</td>\n      <td>4</td>\n      <td>True</td>\n      <td>False</td>\n      <td>False</td>\n      <td>False</td>\n      <td>True</td>\n      <td>False</td>\n      <td>False</td>\n      <td>False</td>\n      <td>True</td>\n      <td>True</td>\n      <td>True</td>\n      <td>False</td>\n      <td>False</td>\n      <td>False</td>\n      <td>False</td>\n    </tr>\n    <tr>\n      <th>35194</th>\n      <td>SELECT+*%0AWHERE+%7B%0A+%7B%0A+++%3Fvar1++%3Ch...</td>\n      <td>2018-03-03 08:04:08</td>\n      <td>robotic</td>\n      <td>UNKNOWN</td>\n      <td>25</td>\n      <td>1</td>\n      <td>1</td>\n      <td>1</td>\n      <td>0</td>\n      <td>10</td>\n      <td>1</td>\n      <td>0</td>\n      <td>0</td>\n      <td>0</td>\n      <td>21</td>\n      <td>0</td>\n      <td>0</td>\n      <td>0</td>\n      <td>30</td>\n      <td>0</td>\n      <td>0</td>\n      <td>18</td>\n      <td>1</td>\n      <td>0</td>\n      <td>0</td>\n      <td>0</td>\n      <td>2</td>\n      <td>0</td>\n      <td>0</td>\n      <td>0</td>\n      <td>0</td>\n      <td>0</td>\n      <td>0</td>\n      <td>[[\"var1\", \"http://www.wikidata.org/prop/direct...</td>\n      <td>0</td>\n      <td>0</td>\n      <td>0</td>\n      <td>0</td>\n      <td>0</td>\n      <td>0</td>\n      <td>SelectQuery_SelectQuery_{'p': Project_{'p': Or...</td>\n      <td>6efabadb7c4bad39d7bef40d9fa4f3c6</td>\n      <td>DiGraph with 30 nodes and 29 edges</td>\n      <td>0</td>\n      <td>gASVOgUAAAAAAACMGG5ldHdvcmt4LmNsYXNzZXMuZGlncm...</td>\n      <td>1</td>\n      <td>30</td>\n      <td>29</td>\n      <td>1</td>\n      <td>1</td>\n      <td>1.933333</td>\n      <td>2</td>\n      <td>data/parsed/I7_status500_Joined.parsed.tsv</td>\n      <td>7</td>\n      <td>True</td>\n      <td>True</td>\n      <td>True</td>\n      <td>False</td>\n      <td>True</td>\n      <td>False</td>\n      <td>False</td>\n      <td>False</td>\n      <td>True</td>\n      <td>True</td>\n      <td>True</td>\n      <td>False</td>\n      <td>False</td>\n      <td>False</td>\n      <td>False</td>\n    </tr>\n    <tr>\n      <th>34738</th>\n      <td>SELECT+*%0AWHERE+%7B%0A+%7B%0A+++%3Fvar1+%28+%...</td>\n      <td>2018-03-01 21:41:12</td>\n      <td>robotic</td>\n      <td>UNKNOWN</td>\n      <td>9</td>\n      <td>3</td>\n      <td>1</td>\n      <td>1</td>\n      <td>0</td>\n      <td>24</td>\n      <td>1</td>\n      <td>0</td>\n      <td>2</td>\n      <td>0</td>\n      <td>9</td>\n      <td>0</td>\n      <td>0</td>\n      <td>0</td>\n      <td>30</td>\n      <td>0</td>\n      <td>0</td>\n      <td>0</td>\n      <td>3</td>\n      <td>0</td>\n      <td>0</td>\n      <td>0</td>\n      <td>6</td>\n      <td>3</td>\n      <td>0</td>\n      <td>0</td>\n      <td>0</td>\n      <td>3</td>\n      <td>0</td>\n      <td>[[\"var1\", \"Path(http://www.wikidata.org/prop/d...</td>\n      <td>0</td>\n      <td>0</td>\n      <td>0</td>\n      <td>0</td>\n      <td>3</td>\n      <td>3</td>\n      <td>SelectQuery_SelectQuery_{'p': Project_{'p': Or...</td>\n      <td>99da413f7e6f85e1ca406fe266b654a4</td>\n      <td>DiGraph with 15 nodes and 14 edges</td>\n      <td>0</td>\n      <td>gASVNQMAAAAAAACMGG5ldHdvcmt4LmNsYXNzZXMuZGlncm...</td>\n      <td>1</td>\n      <td>15</td>\n      <td>14</td>\n      <td>1</td>\n      <td>1</td>\n      <td>1.866667</td>\n      <td>2</td>\n      <td>data/parsed/I7_status500_Joined.parsed.tsv</td>\n      <td>7</td>\n      <td>True</td>\n      <td>True</td>\n      <td>True</td>\n      <td>False</td>\n      <td>True</td>\n      <td>False</td>\n      <td>False</td>\n      <td>False</td>\n      <td>True</td>\n      <td>True</td>\n      <td>True</td>\n      <td>True</td>\n      <td>False</td>\n      <td>False</td>\n      <td>False</td>\n    </tr>\n    <tr>\n      <th>35326</th>\n      <td>SELECT+*%0AWHERE+%7B%0A+%7B%0A+++%3Fvar1++%3Ch...</td>\n      <td>2018-03-03 19:53:52</td>\n      <td>robotic</td>\n      <td>UNKNOWN</td>\n      <td>26</td>\n      <td>1</td>\n      <td>1</td>\n      <td>1</td>\n      <td>0</td>\n      <td>8</td>\n      <td>1</td>\n      <td>0</td>\n      <td>0</td>\n      <td>0</td>\n      <td>21</td>\n      <td>0</td>\n      <td>0</td>\n      <td>0</td>\n      <td>28</td>\n      <td>0</td>\n      <td>0</td>\n      <td>18</td>\n      <td>1</td>\n      <td>0</td>\n      <td>0</td>\n      <td>0</td>\n      <td>2</td>\n      <td>0</td>\n      <td>0</td>\n      <td>0</td>\n      <td>0</td>\n      <td>0</td>\n      <td>0</td>\n      <td>[[\"var1\", \"http://www.wikidata.org/prop/direct...</td>\n      <td>0</td>\n      <td>0</td>\n      <td>0</td>\n      <td>0</td>\n      <td>0</td>\n      <td>0</td>\n      <td>SelectQuery_SelectQuery_{'p': Project_{'p': Or...</td>\n      <td>e8df605eb1af020ba2f7ae56c12c6f4e</td>\n      <td>DiGraph with 29 nodes and 28 edges</td>\n      <td>0</td>\n      <td>gASV/wQAAAAAAACMGG5ldHdvcmt4LmNsYXNzZXMuZGlncm...</td>\n      <td>1</td>\n      <td>29</td>\n      <td>28</td>\n      <td>1</td>\n      <td>1</td>\n      <td>1.931034</td>\n      <td>2</td>\n      <td>data/parsed/I7_status500_Joined.parsed.tsv</td>\n      <td>7</td>\n      <td>True</td>\n      <td>True</td>\n      <td>True</td>\n      <td>False</td>\n      <td>True</td>\n      <td>False</td>\n      <td>False</td>\n      <td>False</td>\n      <td>True</td>\n      <td>True</td>\n      <td>True</td>\n      <td>False</td>\n      <td>False</td>\n      <td>False</td>\n      <td>False</td>\n    </tr>\n    <tr>\n      <th>33186</th>\n      <td>SELECT+*%0AWHERE+%7B%0A++%3Fvar1++%3Chttp%3A%2...</td>\n      <td>2018-02-25 17:05:04</td>\n      <td>robotic</td>\n      <td>UNKNOWN</td>\n      <td>25</td>\n      <td>1</td>\n      <td>1</td>\n      <td>1</td>\n      <td>0</td>\n      <td>8</td>\n      <td>1</td>\n      <td>0</td>\n      <td>0</td>\n      <td>0</td>\n      <td>20</td>\n      <td>0</td>\n      <td>0</td>\n      <td>1</td>\n      <td>27</td>\n      <td>0</td>\n      <td>0</td>\n      <td>17</td>\n      <td>1</td>\n      <td>0</td>\n      <td>0</td>\n      <td>0</td>\n      <td>3</td>\n      <td>0</td>\n      <td>0</td>\n      <td>0</td>\n      <td>0</td>\n      <td>0</td>\n      <td>0</td>\n      <td>[[\"var1\", \"http://www.wikidata.org/prop/direct...</td>\n      <td>1</td>\n      <td>50</td>\n      <td>0</td>\n      <td>0</td>\n      <td>0</td>\n      <td>0</td>\n      <td>SelectQuery_SelectQuery_{'p': Slice_{'p': Proj...</td>\n      <td>3e465495ecef0e81d779b2e30c2fdc9f</td>\n      <td>DiGraph with 28 nodes and 27 edges</td>\n      <td>0</td>\n      <td>gASV2AQAAAAAAACMGG5ldHdvcmt4LmNsYXNzZXMuZGlncm...</td>\n      <td>1</td>\n      <td>28</td>\n      <td>27</td>\n      <td>1</td>\n      <td>1</td>\n      <td>1.928571</td>\n      <td>2</td>\n      <td>data/parsed/I6_status500_Joined.parsed.tsv</td>\n      <td>6</td>\n      <td>True</td>\n      <td>True</td>\n      <td>True</td>\n      <td>True</td>\n      <td>True</td>\n      <td>False</td>\n      <td>False</td>\n      <td>False</td>\n      <td>True</td>\n      <td>True</td>\n      <td>True</td>\n      <td>False</td>\n      <td>False</td>\n      <td>True</td>\n      <td>False</td>\n    </tr>\n    <tr>\n      <th>33310</th>\n      <td>SELECT%28+COUNT+%28+DISTINCT++%3Fvar1++%29+AS+...</td>\n      <td>2018-02-25 22:22:32</td>\n      <td>organic</td>\n      <td>browser</td>\n      <td>26</td>\n      <td>1</td>\n      <td>0</td>\n      <td>1</td>\n      <td>0</td>\n      <td>7</td>\n      <td>1</td>\n      <td>0</td>\n      <td>0</td>\n      <td>0</td>\n      <td>20</td>\n      <td>0</td>\n      <td>1</td>\n      <td>0</td>\n      <td>27</td>\n      <td>1</td>\n      <td>0</td>\n      <td>19</td>\n      <td>0</td>\n      <td>0</td>\n      <td>0</td>\n      <td>0</td>\n      <td>3</td>\n      <td>0</td>\n      <td>0</td>\n      <td>0</td>\n      <td>0</td>\n      <td>0</td>\n      <td>0</td>\n      <td>[[\"var3\", \"http://www.wikidata.org/prop/direct...</td>\n      <td>0</td>\n      <td>0</td>\n      <td>0</td>\n      <td>0</td>\n      <td>0</td>\n      <td>0</td>\n      <td>SelectQuery_SelectQuery_{'p': Project_{'p': Ex...</td>\n      <td>61bea7a7644908360268cd126903108e</td>\n      <td>DiGraph with 27 nodes and 26 edges</td>\n      <td>0</td>\n      <td>gASVuwQAAAAAAACMGG5ldHdvcmt4LmNsYXNzZXMuZGlncm...</td>\n      <td>1</td>\n      <td>27</td>\n      <td>26</td>\n      <td>1</td>\n      <td>1</td>\n      <td>1.925926</td>\n      <td>2</td>\n      <td>data/parsed/I6_status500_Joined.parsed.tsv</td>\n      <td>6</td>\n      <td>True</td>\n      <td>True</td>\n      <td>False</td>\n      <td>False</td>\n      <td>True</td>\n      <td>False</td>\n      <td>False</td>\n      <td>False</td>\n      <td>True</td>\n      <td>True</td>\n      <td>True</td>\n      <td>False</td>\n      <td>False</td>\n      <td>False</td>\n      <td>False</td>\n    </tr>\n    <tr>\n      <th>33311</th>\n      <td>SELECT%28+COUNT+%28+DISTINCT++%3Fvar1++%29+AS+...</td>\n      <td>2018-02-25 22:24:19</td>\n      <td>organic</td>\n      <td>browser</td>\n      <td>26</td>\n      <td>1</td>\n      <td>0</td>\n      <td>1</td>\n      <td>0</td>\n      <td>7</td>\n      <td>1</td>\n      <td>0</td>\n      <td>0</td>\n      <td>0</td>\n      <td>20</td>\n      <td>0</td>\n      <td>1</td>\n      <td>0</td>\n      <td>27</td>\n      <td>1</td>\n      <td>0</td>\n      <td>19</td>\n      <td>0</td>\n      <td>0</td>\n      <td>0</td>\n      <td>0</td>\n      <td>3</td>\n      <td>0</td>\n      <td>0</td>\n      <td>0</td>\n      <td>0</td>\n      <td>0</td>\n      <td>0</td>\n      <td>[[\"var1\", \"http://www.wikidata.org/prop/direct...</td>\n      <td>0</td>\n      <td>0</td>\n      <td>0</td>\n      <td>0</td>\n      <td>0</td>\n      <td>0</td>\n      <td>SelectQuery_SelectQuery_{'p': Project_{'p': Ex...</td>\n      <td>76930a20f17598ff0b0e9a52f667e8d6</td>\n      <td>DiGraph with 27 nodes and 26 edges</td>\n      <td>0</td>\n      <td>gASVuwQAAAAAAACMGG5ldHdvcmt4LmNsYXNzZXMuZGlncm...</td>\n      <td>1</td>\n      <td>27</td>\n      <td>26</td>\n      <td>1</td>\n      <td>1</td>\n      <td>1.925926</td>\n      <td>2</td>\n      <td>data/parsed/I6_status500_Joined.parsed.tsv</td>\n      <td>6</td>\n      <td>True</td>\n      <td>True</td>\n      <td>False</td>\n      <td>False</td>\n      <td>True</td>\n      <td>False</td>\n      <td>False</td>\n      <td>False</td>\n      <td>True</td>\n      <td>True</td>\n      <td>True</td>\n      <td>False</td>\n      <td>False</td>\n      <td>False</td>\n      <td>False</td>\n    </tr>\n    <tr>\n      <th>33315</th>\n      <td>SELECT%28+COUNT+%28+DISTINCT++%3Fvar1++%29+AS+...</td>\n      <td>2018-02-25 22:26:05</td>\n      <td>organic</td>\n      <td>browser</td>\n      <td>26</td>\n      <td>1</td>\n      <td>0</td>\n      <td>1</td>\n      <td>0</td>\n      <td>8</td>\n      <td>1</td>\n      <td>0</td>\n      <td>0</td>\n      <td>0</td>\n      <td>19</td>\n      <td>0</td>\n      <td>1</td>\n      <td>0</td>\n      <td>27</td>\n      <td>1</td>\n      <td>0</td>\n      <td>18</td>\n      <td>0</td>\n      <td>0</td>\n      <td>0</td>\n      <td>0</td>\n      <td>3</td>\n      <td>0</td>\n      <td>0</td>\n      <td>0</td>\n      <td>0</td>\n      <td>0</td>\n      <td>0</td>\n      <td>[[\"var3\", \"http://www.wikidata.org/prop/direct...</td>\n      <td>0</td>\n      <td>0</td>\n      <td>0</td>\n      <td>0</td>\n      <td>0</td>\n      <td>0</td>\n      <td>SelectQuery_SelectQuery_{'p': Project_{'p': Ex...</td>\n      <td>08c1467e28d2286bde1a3353a68f6a74</td>\n      <td>DiGraph with 27 nodes and 26 edges</td>\n      <td>0</td>\n      <td>gASVuwQAAAAAAACMGG5ldHdvcmt4LmNsYXNzZXMuZGlncm...</td>\n      <td>1</td>\n      <td>27</td>\n      <td>26</td>\n      <td>1</td>\n      <td>1</td>\n      <td>1.925926</td>\n      <td>2</td>\n      <td>data/parsed/I6_status500_Joined.parsed.tsv</td>\n      <td>6</td>\n      <td>True</td>\n      <td>True</td>\n      <td>False</td>\n      <td>False</td>\n      <td>True</td>\n      <td>False</td>\n      <td>False</td>\n      <td>False</td>\n      <td>True</td>\n      <td>True</td>\n      <td>True</td>\n      <td>False</td>\n      <td>False</td>\n      <td>False</td>\n      <td>False</td>\n    </tr>\n    <tr>\n      <th>33079</th>\n      <td>SELECT+*%0AWHERE+%7B%0A++%3Fvar1++%3Chttp%3A%2...</td>\n      <td>2018-02-25 11:54:23</td>\n      <td>robotic</td>\n      <td>UNKNOWN</td>\n      <td>27</td>\n      <td>1</td>\n      <td>0</td>\n      <td>1</td>\n      <td>0</td>\n      <td>9</td>\n      <td>1</td>\n      <td>1</td>\n      <td>0</td>\n      <td>0</td>\n      <td>20</td>\n      <td>1</td>\n      <td>0</td>\n      <td>1</td>\n      <td>27</td>\n      <td>0</td>\n      <td>0</td>\n      <td>17</td>\n      <td>1</td>\n      <td>0</td>\n      <td>0</td>\n      <td>0</td>\n      <td>3</td>\n      <td>0</td>\n      <td>0</td>\n      <td>0</td>\n      <td>0</td>\n      <td>0</td>\n      <td>0</td>\n      <td>[[\"var1\", \"http://www.wikidata.org/prop/direct...</td>\n      <td>1</td>\n      <td>50</td>\n      <td>0</td>\n      <td>0</td>\n      <td>0</td>\n      <td>0</td>\n      <td>SelectQuery_SelectQuery_{'p': Slice_{'p': Proj...</td>\n      <td>c30c97b1bce0da763ad7e88a4312579a</td>\n      <td>DiGraph with 28 nodes and 27 edges</td>\n      <td>0</td>\n      <td>gASVuQQAAAAAAACMGG5ldHdvcmt4LmNsYXNzZXMuZGlncm...</td>\n      <td>1</td>\n      <td>28</td>\n      <td>27</td>\n      <td>1</td>\n      <td>1</td>\n      <td>1.928571</td>\n      <td>2</td>\n      <td>data/parsed/I6_status500_Joined.parsed.tsv</td>\n      <td>6</td>\n      <td>True</td>\n      <td>True</td>\n      <td>False</td>\n      <td>True</td>\n      <td>True</td>\n      <td>False</td>\n      <td>False</td>\n      <td>True</td>\n      <td>True</td>\n      <td>True</td>\n      <td>True</td>\n      <td>False</td>\n      <td>True</td>\n      <td>True</td>\n      <td>False</td>\n    </tr>\n    <tr>\n      <th>33185</th>\n      <td>SELECT+*%0AWHERE+%7B%0A++%3Fvar1++%3Chttp%3A%2...</td>\n      <td>2018-02-25 17:00:18</td>\n      <td>robotic</td>\n      <td>UNKNOWN</td>\n      <td>25</td>\n      <td>1</td>\n      <td>1</td>\n      <td>1</td>\n      <td>0</td>\n      <td>9</td>\n      <td>1</td>\n      <td>0</td>\n      <td>0</td>\n      <td>0</td>\n      <td>19</td>\n      <td>0</td>\n      <td>0</td>\n      <td>1</td>\n      <td>27</td>\n      <td>0</td>\n      <td>0</td>\n      <td>16</td>\n      <td>1</td>\n      <td>0</td>\n      <td>0</td>\n      <td>0</td>\n      <td>3</td>\n      <td>0</td>\n      <td>0</td>\n      <td>0</td>\n      <td>0</td>\n      <td>0</td>\n      <td>0</td>\n      <td>[[\"var1\", \"http://www.wikidata.org/prop/direct...</td>\n      <td>1</td>\n      <td>50</td>\n      <td>0</td>\n      <td>0</td>\n      <td>0</td>\n      <td>0</td>\n      <td>SelectQuery_SelectQuery_{'p': Slice_{'p': Proj...</td>\n      <td>c47eba9804820b566f4241f40c9c38c7</td>\n      <td>DiGraph with 28 nodes and 27 edges</td>\n      <td>0</td>\n      <td>gASV2AQAAAAAAACMGG5ldHdvcmt4LmNsYXNzZXMuZGlncm...</td>\n      <td>1</td>\n      <td>28</td>\n      <td>27</td>\n      <td>1</td>\n      <td>1</td>\n      <td>1.928571</td>\n      <td>2</td>\n      <td>data/parsed/I6_status500_Joined.parsed.tsv</td>\n      <td>6</td>\n      <td>True</td>\n      <td>True</td>\n      <td>True</td>\n      <td>True</td>\n      <td>True</td>\n      <td>False</td>\n      <td>False</td>\n      <td>False</td>\n      <td>True</td>\n      <td>True</td>\n      <td>True</td>\n      <td>False</td>\n      <td>False</td>\n      <td>True</td>\n      <td>False</td>\n    </tr>\n  </tbody>\n</table>\n</div>"
     },
     "metadata": {}
    }
   ]
  },
  {
   "cell_type": "code",
   "metadata": {
    "tags": [],
    "deepnote_to_be_reexecuted": false,
    "source_hash": "eeb11d26",
    "execution_start": 1646992579053,
    "execution_millis": 4,
    "cell_id": "00018-a62e66df-fd14-4ddc-9746-c819819d59db",
    "deepnote_cell_type": "code",
    "deepnote_cell_height": 170.60000610351562
   },
   "source": "%%script false --no-raise-error # disable cell\n\n# Afficher la requête contenant le plus de triples\nprint(encoded2raw(\n        df_nona_sort_by_triples_out.loc[53856][\"anonymizedQuery\"]\n    ))",
   "execution_count": null,
   "outputs": []
  },
  {
   "cell_type": "markdown",
   "source": "### Organic",
   "metadata": {
    "tags": [],
    "is_collapsed": false,
    "cell_id": "00019-ab9266f0-d5ce-48d2-b5ca-13c96fbfba35",
    "deepnote_cell_type": "text-cell-h3",
    "deepnote_cell_height": 61.600006103515625
   }
  },
  {
   "cell_type": "markdown",
   "source": "Number of organic queries",
   "metadata": {
    "tags": [],
    "is_collapsed": false,
    "cell_id": "00020-c833e71d-e962-40ef-a53e-c2da7ac66df9",
    "deepnote_cell_type": "text-cell-p",
    "deepnote_cell_height": 52
   }
  },
  {
   "cell_type": "code",
   "metadata": {
    "tags": [],
    "deepnote_to_be_reexecuted": false,
    "source_hash": "84f67c2c",
    "execution_start": 1646992579069,
    "execution_millis": 2,
    "cell_id": "00021-a194de7f-b9d8-440b-9a11-5a87dadabf6c",
    "deepnote_cell_type": "code",
    "deepnote_cell_height": 117.39999389648438,
    "deepnote_output_heights": [
     21
    ]
   },
   "source": "len(df_nona_organic)",
   "execution_count": null,
   "outputs": [
    {
     "output_type": "execute_result",
     "execution_count": 14,
     "data": {
      "text/plain": "24078"
     },
     "metadata": {}
    }
   ]
  },
  {
   "cell_type": "markdown",
   "source": "Sum of all variables",
   "metadata": {
    "tags": [],
    "is_collapsed": false,
    "cell_id": "00022-a62e109a-e12f-4ebd-b619-442da716efb2",
    "deepnote_cell_type": "text-cell-p",
    "deepnote_cell_height": 52
   }
  },
  {
   "cell_type": "code",
   "metadata": {
    "tags": [],
    "deepnote_to_be_reexecuted": false,
    "source_hash": "bbc0d72d",
    "execution_start": 1646992579109,
    "execution_millis": 7,
    "cell_id": "00023-77b99858-fc7d-4dff-a526-e80718aa2aa9",
    "deepnote_cell_type": "code",
    "deepnote_cell_height": 117.39999389648438,
    "deepnote_output_heights": [
     21
    ]
   },
   "source": "df_nona_organic[\"var_cpt\"].sum()",
   "execution_count": null,
   "outputs": [
    {
     "output_type": "execute_result",
     "execution_count": 15,
     "data": {
      "text/plain": "154916"
     },
     "metadata": {}
    }
   ]
  },
  {
   "cell_type": "markdown",
   "source": "Average number of variable per organic request",
   "metadata": {
    "tags": [],
    "cell_id": "00024-d9b83b1c-2521-48ef-a1cd-5f413028afbf",
    "deepnote_cell_type": "markdown",
    "deepnote_cell_height": 52
   }
  },
  {
   "cell_type": "code",
   "metadata": {
    "tags": [],
    "deepnote_to_be_reexecuted": false,
    "source_hash": "abc0efda",
    "execution_start": 1646992579110,
    "execution_millis": 6,
    "cell_id": "00025-4f4022b0-6c29-45a3-acf7-66a4c02b8d9d",
    "deepnote_cell_type": "code",
    "deepnote_cell_height": 117.39999389648438,
    "deepnote_output_heights": [
     21
    ]
   },
   "source": "df_nona_organic[\"var_cpt\"].mean()",
   "execution_count": null,
   "outputs": [
    {
     "output_type": "execute_result",
     "execution_count": 16,
     "data": {
      "text/plain": "6.433923083312568"
     },
     "metadata": {}
    }
   ]
  },
  {
   "cell_type": "markdown",
   "source": "### Robotic",
   "metadata": {
    "tags": [],
    "is_collapsed": false,
    "cell_id": "00026-1af82ca9-0ca2-4f0a-a775-f0f505b21084",
    "deepnote_cell_type": "text-cell-h3",
    "deepnote_cell_height": 61.600006103515625
   }
  },
  {
   "cell_type": "code",
   "metadata": {
    "tags": [],
    "deepnote_to_be_reexecuted": false,
    "source_hash": "e1e1f708",
    "execution_start": 1646992579111,
    "execution_millis": 6,
    "cell_id": "00027-b2a07da4-b4aa-4739-87f0-0ce0d796a3b0",
    "deepnote_cell_type": "code",
    "deepnote_cell_height": 117.39999389648438,
    "deepnote_output_heights": [
     21
    ]
   },
   "source": "len(df_nona_robotic)",
   "execution_count": null,
   "outputs": [
    {
     "output_type": "execute_result",
     "execution_count": 17,
     "data": {
      "text/plain": "18039"
     },
     "metadata": {}
    }
   ]
  },
  {
   "cell_type": "markdown",
   "source": "Sum of all variables",
   "metadata": {
    "tags": [],
    "is_collapsed": false,
    "cell_id": "00028-86c451e5-90ce-48e1-85f4-e3d59b0525e0",
    "deepnote_cell_type": "text-cell-p",
    "deepnote_cell_height": 52
   }
  },
  {
   "cell_type": "code",
   "metadata": {
    "tags": [],
    "deepnote_to_be_reexecuted": false,
    "source_hash": "e4279818",
    "execution_start": 1646992579118,
    "execution_millis": 2,
    "cell_id": "00029-7e1db016-1728-4d35-803b-26f2b3aeee81",
    "deepnote_cell_type": "code",
    "deepnote_cell_height": 117.39999389648438,
    "deepnote_output_heights": [
     21
    ]
   },
   "source": "df_nona_robotic[\"var_cpt\"].sum()",
   "execution_count": null,
   "outputs": [
    {
     "output_type": "execute_result",
     "execution_count": 18,
     "data": {
      "text/plain": "121429"
     },
     "metadata": {}
    }
   ]
  },
  {
   "cell_type": "code",
   "metadata": {
    "tags": [],
    "deepnote_to_be_reexecuted": false,
    "source_hash": "c0de7c92",
    "execution_start": 1646992579166,
    "execution_millis": 6,
    "pycharm": {
     "name": "#%%\n"
    },
    "cell_id": "00030-4e0aaa96-9da1-4535-b549-14d6f2d7b9b9",
    "deepnote_cell_type": "code",
    "deepnote_cell_height": 117.39999389648438,
    "deepnote_output_heights": [
     21
    ]
   },
   "source": "df_nona_robotic[\"var_cpt\"].mean()",
   "execution_count": null,
   "outputs": [
    {
     "output_type": "execute_result",
     "execution_count": 19,
     "data": {
      "text/plain": "6.731470702367093"
     },
     "metadata": {}
    }
   ]
  },
  {
   "cell_type": "markdown",
   "source": "## Graphs",
   "metadata": {
    "cell_id": "ef4d5d11-7179-4c76-87a7-6ef2262c831d",
    "tags": [],
    "is_collapsed": false,
    "deepnote_cell_type": "text-cell-h2",
    "deepnote_cell_height": 69.60000610351562
   }
  },
  {
   "cell_type": "code",
   "metadata": {
    "cell_id": "d6b30db8-51ee-4d6e-8d78-6b3e0f6cabc3",
    "tags": [],
    "deepnote_to_be_reexecuted": false,
    "source_hash": "2b6f04a8",
    "execution_start": 1646992579167,
    "execution_millis": 0,
    "deepnote_cell_type": "code",
    "deepnote_cell_height": 98.60000610351562
   },
   "source": "def base64_to_object(base64_str):\n    return load(BytesIO(base64.b64decode(base64_str)))",
   "execution_count": null,
   "outputs": []
  },
  {
   "cell_type": "code",
   "metadata": {
    "cell_id": "a99fb25c-1485-49d8-ad76-81c98d88ec7b",
    "tags": [],
    "deepnote_to_be_reexecuted": false,
    "source_hash": "d661cc96",
    "execution_start": 1646992579167,
    "execution_millis": 235,
    "deepnote_cell_type": "code",
    "deepnote_cell_height": 614
   },
   "source": "df_nona.sort_values([\"cycleNumber\"],  ascending=[False]).head(10)",
   "execution_count": null,
   "outputs": [
    {
     "output_type": "execute_result",
     "execution_count": 21,
     "data": {
      "application/vnd.deepnote.dataframe.v3+json": {
       "column_count": 69,
       "row_count": 10,
       "columns": [
        {
         "name": "anonymizedQuery",
         "dtype": "object",
         "stats": {
          "unique_count": 6,
          "nan_count": 0,
          "categories": [
           {
            "name": "SELECT+%3Fvar1+%0AWHERE+%7B%0A++%3Fvar2++%3Chttp%3A%2F%2Fwikiba.se%2Fontology%23claim%3E++%3Fvar3+%3B%0A+%3Chttp%3A%2F%2Fwikiba.se%2Fontology%23statementProperty%3E++%3Fvar4+%3B%0A+%3Chttp%3A%2F%2Fwww.wikidata.org%2Fprop%2FP2302%3E++%5B++%3Chttp%3A%2F%2Fwww.wikidata.org%2Fprop%2Fstatement%2FP2302%3E++%3Chttp%3A%2F%2Fwww.wikidata.org%2Fentity%2FQ21510855%3E+%3B%0A+%3Chttp%3A%2F%2Fwww.wikidata.org%2Fprop%2Fqualifier%2FP2306%3E++%3Fvar5++%5D+.%0A++%3Fvar5++%3Chttp%3A%2F%2Fwikiba.se%2Fontology%23claim%3E++%3Fvar6+%3B%0A+%3Chttp%3A%2F%2Fwikiba.se%2Fontology%23statementProperty%3E++%3Fvar7+%3B%0A+%3Chttp%3A%2F%2Fwww.wikidata.org%2Fprop%2FP2302%3E++%5B++%3Chttp%3A%2F%2Fwww.wikidata.org%2Fprop%2Fstatement%2FP2302%3E++%3Chttp%3A%2F%2Fwww.wikidata.org%2Fentity%2FQ21510855%3E+%3B%0A+%3Chttp%3A%2F%2Fwww.wikidata.org%2Fprop%2Fqualifier%2FP2306%3E++%3Fvar2++%5D+.%0A++%3Fvar1++%3Fvar3++%5B++%3Fvar4++%3Fvar8+%3B%0A%28+%3Chttp%3A%2F%2Fwww.w3.org%2Fns%2Fprov%23wasDerivedFrom%3E+%2F+%3Chttp%3A%2F%2Fwww.wikidata.org%2Fprop%2Freference%2FP3452%3E+%29+%3Fvar8++%5D+.%0A++%3Fvar8++%3Fvar6++%5B++%3Fvar7++%3Fvar1+%3B%0A%28+%3Chttp%3A%2F%2Fwww.w3.org%2Fns%2Fprov%23wasDerivedFrom%3E+%2F+%3Chttp%3A%2F%2Fwww.wikidata.org%2Fprop%2Freference%2FP3452%3E+%29+%3Fvar1++%5D+.%0A%7D%0A",
            "count": 5
           },
           {
            "name": "SELECT+%3Fvar1++%3Fvar1Label+%0AWHERE+%7B%0A+%7B%0A+++%3Chttp%3A%2F%2Fwww.wikidata.org%2Fentity%2FQ37577%3E++%3Fvar2++%3Fvar3+.%0A+%7D%0A++UNION%0A+%7B%0A+++%3Fvar3++%3Fvar2++%3Chttp%3A%2F%2Fwww.wikidata.org%2Fentity%2FQ37577%3E+.%0A+%7D%0A+%7B%0A+++%3Chttp%3A%2F%2Fwww.wikidata.org%2Fentity%2FQ37621%3E++%3Fvar4++%3Fvar5+.%0A+%7D%0A++UNION%0A+%7B%0A+++%3Fvar5++%3Fvar4++%3Chttp%3A%2F%2Fwww.wikidata.org%2Fentity%2FQ37621%3E+.%0A+%7D%0A+%7B%0A+++%3Fvar3++%3Fvar6++%3Fvar5+.%0A+%7D%0A++UNION%0A+%7B%0A+++%3Fvar5++%3Fvar6++%3Fvar3+.%0A+%7D%0A+SERVICE++%3Chttp%3A%2F%2Fwikiba.se%2Fontology%23label%3E+++%7B%0A++++%3Chttp%3A%2F%2Fwww.bigdata.com%2Frdf%23serviceParam%3E++%3Chttp%3A%2F%2Fwikiba.se%2Fontology%23language%3E++%22en%2Cen%22.%0A++%7D%0A%7D%0A",
            "count": 1
           },
           {
            "name": "4 others",
            "count": 4
           }
          ]
         }
        },
        {
         "name": "timestamp",
         "dtype": "object",
         "stats": {
          "unique_count": 10,
          "nan_count": 0,
          "categories": [
           {
            "name": "2017-12-07 16:38:42",
            "count": 1
           },
           {
            "name": "2018-03-17 11:35:58",
            "count": 1
           },
           {
            "name": "8 others",
            "count": 8
           }
          ]
         }
        },
        {
         "name": "sourceCategory",
         "dtype": "object",
         "stats": {
          "unique_count": 2,
          "nan_count": 0,
          "categories": [
           {
            "name": "organic",
            "count": 5
           },
           {
            "name": "robotic",
            "count": 5
           }
          ]
         }
        },
        {
         "name": "user_agent",
         "dtype": "object",
         "stats": {
          "unique_count": 2,
          "nan_count": 0,
          "categories": [
           {
            "name": "browser",
            "count": 5
           },
           {
            "name": "UNKNOWN",
            "count": 5
           }
          ]
         }
        },
        {
         "name": "var_cpt",
         "dtype": "int64",
         "stats": {
          "unique_count": 4,
          "nan_count": 0,
          "min": "7",
          "max": "10",
          "histogram": [
           {
            "bin_start": 7,
            "bin_end": 7.3,
            "count": 2
           },
           {
            "bin_start": 7.3,
            "bin_end": 7.6,
            "count": 0
           },
           {
            "bin_start": 7.6,
            "bin_end": 7.9,
            "count": 0
           },
           {
            "bin_start": 7.9,
            "bin_end": 8.2,
            "count": 5
           },
           {
            "bin_start": 8.2,
            "bin_end": 8.5,
            "count": 0
           },
           {
            "bin_start": 8.5,
            "bin_end": 8.8,
            "count": 0
           },
           {
            "bin_start": 8.8,
            "bin_end": 9.1,
            "count": 2
           },
           {
            "bin_start": 9.1,
            "bin_end": 9.4,
            "count": 0
           },
           {
            "bin_start": 9.4,
            "bin_end": 9.7,
            "count": 0
           },
           {
            "bin_start": 9.7,
            "bin_end": 10,
            "count": 1
           }
          ]
         }
        },
        {
         "name": "filter",
         "dtype": "int64",
         "stats": {
          "unique_count": 1,
          "nan_count": 0,
          "min": "0",
          "max": "0",
          "histogram": [
           {
            "bin_start": -0.5,
            "bin_end": -0.4,
            "count": 0
           },
           {
            "bin_start": -0.4,
            "bin_end": -0.3,
            "count": 0
           },
           {
            "bin_start": -0.3,
            "bin_end": -0.19999999999999996,
            "count": 0
           },
           {
            "bin_start": -0.19999999999999996,
            "bin_end": -0.09999999999999998,
            "count": 0
           },
           {
            "bin_start": -0.09999999999999998,
            "bin_end": 0,
            "count": 0
           },
           {
            "bin_start": 0,
            "bin_end": 0.10000000000000009,
            "count": 10
           },
           {
            "bin_start": 0.10000000000000009,
            "bin_end": 0.20000000000000007,
            "count": 0
           },
           {
            "bin_start": 0.20000000000000007,
            "bin_end": 0.30000000000000004,
            "count": 0
           },
           {
            "bin_start": 0.30000000000000004,
            "bin_end": 0.4,
            "count": 0
           },
           {
            "bin_start": 0.4,
            "bin_end": 0.5,
            "count": 0
           }
          ]
         }
        },
        {
         "name": "orderby",
         "dtype": "int64",
         "stats": {
          "unique_count": 2,
          "nan_count": 0,
          "min": "0",
          "max": "1",
          "histogram": [
           {
            "bin_start": 0,
            "bin_end": 0.1,
            "count": 9
           },
           {
            "bin_start": 0.1,
            "bin_end": 0.2,
            "count": 0
           },
           {
            "bin_start": 0.2,
            "bin_end": 0.30000000000000004,
            "count": 0
           },
           {
            "bin_start": 0.30000000000000004,
            "bin_end": 0.4,
            "count": 0
           },
           {
            "bin_start": 0.4,
            "bin_end": 0.5,
            "count": 0
           },
           {
            "bin_start": 0.5,
            "bin_end": 0.6000000000000001,
            "count": 0
           },
           {
            "bin_start": 0.6000000000000001,
            "bin_end": 0.7000000000000001,
            "count": 0
           },
           {
            "bin_start": 0.7000000000000001,
            "bin_end": 0.8,
            "count": 0
           },
           {
            "bin_start": 0.8,
            "bin_end": 0.9,
            "count": 0
           },
           {
            "bin_start": 0.9,
            "bin_end": 1,
            "count": 1
           }
          ]
         }
        },
        {
         "name": "select",
         "dtype": "int64",
         "stats": {
          "unique_count": 1,
          "nan_count": 0,
          "min": "1",
          "max": "1",
          "histogram": [
           {
            "bin_start": 0.5,
            "bin_end": 0.6,
            "count": 0
           },
           {
            "bin_start": 0.6,
            "bin_end": 0.7,
            "count": 0
           },
           {
            "bin_start": 0.7,
            "bin_end": 0.8,
            "count": 0
           },
           {
            "bin_start": 0.8,
            "bin_end": 0.9,
            "count": 0
           },
           {
            "bin_start": 0.9,
            "bin_end": 1,
            "count": 0
           },
           {
            "bin_start": 1,
            "bin_end": 1.1,
            "count": 10
           },
           {
            "bin_start": 1.1,
            "bin_end": 1.2000000000000002,
            "count": 0
           },
           {
            "bin_start": 1.2000000000000002,
            "bin_end": 1.3,
            "count": 0
           },
           {
            "bin_start": 1.3,
            "bin_end": 1.4,
            "count": 0
           },
           {
            "bin_start": 1.4,
            "bin_end": 1.5,
            "count": 0
           }
          ]
         }
        },
        {
         "name": "distinct",
         "dtype": "int64",
         "stats": {
          "unique_count": 2,
          "nan_count": 0,
          "min": "0",
          "max": "1",
          "histogram": [
           {
            "bin_start": 0,
            "bin_end": 0.1,
            "count": 8
           },
           {
            "bin_start": 0.1,
            "bin_end": 0.2,
            "count": 0
           },
           {
            "bin_start": 0.2,
            "bin_end": 0.30000000000000004,
            "count": 0
           },
           {
            "bin_start": 0.30000000000000004,
            "bin_end": 0.4,
            "count": 0
           },
           {
            "bin_start": 0.4,
            "bin_end": 0.5,
            "count": 0
           },
           {
            "bin_start": 0.5,
            "bin_end": 0.6000000000000001,
            "count": 0
           },
           {
            "bin_start": 0.6000000000000001,
            "bin_end": 0.7000000000000001,
            "count": 0
           },
           {
            "bin_start": 0.7000000000000001,
            "bin_end": 0.8,
            "count": 0
           },
           {
            "bin_start": 0.8,
            "bin_end": 0.9,
            "count": 0
           },
           {
            "bin_start": 0.9,
            "bin_end": 1,
            "count": 2
           }
          ]
         }
        },
        {
         "name": "join",
         "dtype": "int64",
         "stats": {
          "unique_count": 5,
          "nan_count": 0,
          "min": "3",
          "max": "15",
          "histogram": [
           {
            "bin_start": 3,
            "bin_end": 4.2,
            "count": 3
           },
           {
            "bin_start": 4.2,
            "bin_end": 5.4,
            "count": 1
           },
           {
            "bin_start": 5.4,
            "bin_end": 6.6,
            "count": 1
           },
           {
            "bin_start": 6.6,
            "bin_end": 7.8,
            "count": 0
           },
           {
            "bin_start": 7.8,
            "bin_end": 9,
            "count": 0
           },
           {
            "bin_start": 9,
            "bin_end": 10.2,
            "count": 0
           },
           {
            "bin_start": 10.2,
            "bin_end": 11.4,
            "count": 0
           },
           {
            "bin_start": 11.4,
            "bin_end": 12.6,
            "count": 0
           },
           {
            "bin_start": 12.6,
            "bin_end": 13.799999999999999,
            "count": 0
           },
           {
            "bin_start": 13.799999999999999,
            "bin_end": 15,
            "count": 5
           }
          ]
         }
        },
        {
         "name": "project",
         "dtype": "int64",
         "stats": {
          "unique_count": 1,
          "nan_count": 0,
          "min": "1",
          "max": "1",
          "histogram": [
           {
            "bin_start": 0.5,
            "bin_end": 0.6,
            "count": 0
           },
           {
            "bin_start": 0.6,
            "bin_end": 0.7,
            "count": 0
           },
           {
            "bin_start": 0.7,
            "bin_end": 0.8,
            "count": 0
           },
           {
            "bin_start": 0.8,
            "bin_end": 0.9,
            "count": 0
           },
           {
            "bin_start": 0.9,
            "bin_end": 1,
            "count": 0
           },
           {
            "bin_start": 1,
            "bin_end": 1.1,
            "count": 10
           },
           {
            "bin_start": 1.1,
            "bin_end": 1.2000000000000002,
            "count": 0
           },
           {
            "bin_start": 1.2000000000000002,
            "bin_end": 1.3,
            "count": 0
           },
           {
            "bin_start": 1.3,
            "bin_end": 1.4,
            "count": 0
           },
           {
            "bin_start": 1.4,
            "bin_end": 1.5,
            "count": 0
           }
          ]
         }
        },
        {
         "name": "tomultiset",
         "dtype": "int64",
         "stats": {
          "unique_count": 1,
          "nan_count": 0,
          "min": "0",
          "max": "0",
          "histogram": [
           {
            "bin_start": -0.5,
            "bin_end": -0.4,
            "count": 0
           },
           {
            "bin_start": -0.4,
            "bin_end": -0.3,
            "count": 0
           },
           {
            "bin_start": -0.3,
            "bin_end": -0.19999999999999996,
            "count": 0
           },
           {
            "bin_start": -0.19999999999999996,
            "bin_end": -0.09999999999999998,
            "count": 0
           },
           {
            "bin_start": -0.09999999999999998,
            "bin_end": 0,
            "count": 0
           },
           {
            "bin_start": 0,
            "bin_end": 0.10000000000000009,
            "count": 10
           },
           {
            "bin_start": 0.10000000000000009,
            "bin_end": 0.20000000000000007,
            "count": 0
           },
           {
            "bin_start": 0.20000000000000007,
            "bin_end": 0.30000000000000004,
            "count": 0
           },
           {
            "bin_start": 0.30000000000000004,
            "bin_end": 0.4,
            "count": 0
           },
           {
            "bin_start": 0.4,
            "bin_end": 0.5,
            "count": 0
           }
          ]
         }
        },
        {
         "name": "union",
         "dtype": "int64",
         "stats": {
          "unique_count": 3,
          "nan_count": 0,
          "min": "0",
          "max": "3",
          "histogram": [
           {
            "bin_start": 0,
            "bin_end": 0.3,
            "count": 6
           },
           {
            "bin_start": 0.3,
            "bin_end": 0.6,
            "count": 0
           },
           {
            "bin_start": 0.6,
            "bin_end": 0.8999999999999999,
            "count": 0
           },
           {
            "bin_start": 0.8999999999999999,
            "bin_end": 1.2,
            "count": 0
           },
           {
            "bin_start": 1.2,
            "bin_end": 1.5,
            "count": 0
           },
           {
            "bin_start": 1.5,
            "bin_end": 1.7999999999999998,
            "count": 0
           },
           {
            "bin_start": 1.7999999999999998,
            "bin_end": 2.1,
            "count": 3
           },
           {
            "bin_start": 2.1,
            "bin_end": 2.4,
            "count": 0
           },
           {
            "bin_start": 2.4,
            "bin_end": 2.6999999999999997,
            "count": 0
           },
           {
            "bin_start": 2.6999999999999997,
            "bin_end": 3,
            "count": 1
           }
          ]
         }
        },
        {
         "name": "modify",
         "dtype": "int64",
         "stats": {
          "unique_count": 1,
          "nan_count": 0,
          "min": "0",
          "max": "0",
          "histogram": [
           {
            "bin_start": -0.5,
            "bin_end": -0.4,
            "count": 0
           },
           {
            "bin_start": -0.4,
            "bin_end": -0.3,
            "count": 0
           },
           {
            "bin_start": -0.3,
            "bin_end": -0.19999999999999996,
            "count": 0
           },
           {
            "bin_start": -0.19999999999999996,
            "bin_end": -0.09999999999999998,
            "count": 0
           },
           {
            "bin_start": -0.09999999999999998,
            "bin_end": 0,
            "count": 0
           },
           {
            "bin_start": 0,
            "bin_end": 0.10000000000000009,
            "count": 10
           },
           {
            "bin_start": 0.10000000000000009,
            "bin_end": 0.20000000000000007,
            "count": 0
           },
           {
            "bin_start": 0.20000000000000007,
            "bin_end": 0.30000000000000004,
            "count": 0
           },
           {
            "bin_start": 0.30000000000000004,
            "bin_end": 0.4,
            "count": 0
           },
           {
            "bin_start": 0.4,
            "bin_end": 0.5,
            "count": 0
           }
          ]
         }
        },
        {
         "name": "bgp",
         "dtype": "int64",
         "stats": {
          "unique_count": 3,
          "nan_count": 0,
          "min": "1",
          "max": "6",
          "histogram": [
           {
            "bin_start": 1,
            "bin_end": 1.5,
            "count": 6
           },
           {
            "bin_start": 1.5,
            "bin_end": 2,
            "count": 0
           },
           {
            "bin_start": 2,
            "bin_end": 2.5,
            "count": 0
           },
           {
            "bin_start": 2.5,
            "bin_end": 3,
            "count": 0
           },
           {
            "bin_start": 3,
            "bin_end": 3.5,
            "count": 0
           },
           {
            "bin_start": 3.5,
            "bin_end": 4,
            "count": 0
           },
           {
            "bin_start": 4,
            "bin_end": 4.5,
            "count": 0
           },
           {
            "bin_start": 4.5,
            "bin_end": 5,
            "count": 0
           },
           {
            "bin_start": 5,
            "bin_end": 5.5,
            "count": 2
           },
           {
            "bin_start": 5.5,
            "bin_end": 6,
            "count": 2
           }
          ]
         }
        },
        {
         "name": "values",
         "dtype": "int64",
         "stats": {
          "unique_count": 1,
          "nan_count": 0,
          "min": "0",
          "max": "0",
          "histogram": [
           {
            "bin_start": -0.5,
            "bin_end": -0.4,
            "count": 0
           },
           {
            "bin_start": -0.4,
            "bin_end": -0.3,
            "count": 0
           },
           {
            "bin_start": -0.3,
            "bin_end": -0.19999999999999996,
            "count": 0
           },
           {
            "bin_start": -0.19999999999999996,
            "bin_end": -0.09999999999999998,
            "count": 0
           },
           {
            "bin_start": -0.09999999999999998,
            "bin_end": 0,
            "count": 0
           },
           {
            "bin_start": 0,
            "bin_end": 0.10000000000000009,
            "count": 10
           },
           {
            "bin_start": 0.10000000000000009,
            "bin_end": 0.20000000000000007,
            "count": 0
           },
           {
            "bin_start": 0.20000000000000007,
            "bin_end": 0.30000000000000004,
            "count": 0
           },
           {
            "bin_start": 0.30000000000000004,
            "bin_end": 0.4,
            "count": 0
           },
           {
            "bin_start": 0.4,
            "bin_end": 0.5,
            "count": 0
           }
          ]
         }
        },
        {
         "name": "groupBy",
         "dtype": "int64",
         "stats": {
          "unique_count": 1,
          "nan_count": 0,
          "min": "0",
          "max": "0",
          "histogram": [
           {
            "bin_start": -0.5,
            "bin_end": -0.4,
            "count": 0
           },
           {
            "bin_start": -0.4,
            "bin_end": -0.3,
            "count": 0
           },
           {
            "bin_start": -0.3,
            "bin_end": -0.19999999999999996,
            "count": 0
           },
           {
            "bin_start": -0.19999999999999996,
            "bin_end": -0.09999999999999998,
            "count": 0
           },
           {
            "bin_start": -0.09999999999999998,
            "bin_end": 0,
            "count": 0
           },
           {
            "bin_start": 0,
            "bin_end": 0.10000000000000009,
            "count": 10
           },
           {
            "bin_start": 0.10000000000000009,
            "bin_end": 0.20000000000000007,
            "count": 0
           },
           {
            "bin_start": 0.20000000000000007,
            "bin_end": 0.30000000000000004,
            "count": 0
           },
           {
            "bin_start": 0.30000000000000004,
            "bin_end": 0.4,
            "count": 0
           },
           {
            "bin_start": 0.4,
            "bin_end": 0.5,
            "count": 0
           }
          ]
         }
        },
        {
         "name": "slice",
         "dtype": "int64",
         "stats": {
          "unique_count": 1,
          "nan_count": 0,
          "min": "0",
          "max": "0",
          "histogram": [
           {
            "bin_start": -0.5,
            "bin_end": -0.4,
            "count": 0
           },
           {
            "bin_start": -0.4,
            "bin_end": -0.3,
            "count": 0
           },
           {
            "bin_start": -0.3,
            "bin_end": -0.19999999999999996,
            "count": 0
           },
           {
            "bin_start": -0.19999999999999996,
            "bin_end": -0.09999999999999998,
            "count": 0
           },
           {
            "bin_start": -0.09999999999999998,
            "bin_end": 0,
            "count": 0
           },
           {
            "bin_start": 0,
            "bin_end": 0.10000000000000009,
            "count": 10
           },
           {
            "bin_start": 0.10000000000000009,
            "bin_end": 0.20000000000000007,
            "count": 0
           },
           {
            "bin_start": 0.20000000000000007,
            "bin_end": 0.30000000000000004,
            "count": 0
           },
           {
            "bin_start": 0.30000000000000004,
            "bin_end": 0.4,
            "count": 0
           },
           {
            "bin_start": 0.4,
            "bin_end": 0.5,
            "count": 0
           }
          ]
         }
        },
        {
         "name": "triples",
         "dtype": "int64",
         "stats": {
          "unique_count": 4,
          "nan_count": 0,
          "min": "5",
          "max": "16",
          "histogram": [
           {
            "bin_start": 5,
            "bin_end": 6.1,
            "count": 4
           },
           {
            "bin_start": 6.1,
            "bin_end": 7.2,
            "count": 0
           },
           {
            "bin_start": 7.2,
            "bin_end": 8.3,
            "count": 0
           },
           {
            "bin_start": 8.3,
            "bin_end": 9.4,
            "count": 1
           },
           {
            "bin_start": 9.4,
            "bin_end": 10.5,
            "count": 0
           },
           {
            "bin_start": 10.5,
            "bin_end": 11.600000000000001,
            "count": 0
           },
           {
            "bin_start": 11.600000000000001,
            "bin_end": 12.700000000000001,
            "count": 0
           },
           {
            "bin_start": 12.700000000000001,
            "bin_end": 13.8,
            "count": 0
           },
           {
            "bin_start": 13.8,
            "bin_end": 14.9,
            "count": 0
           },
           {
            "bin_start": 14.9,
            "bin_end": 16,
            "count": 5
           }
          ]
         }
        },
        {
         "name": "extend",
         "dtype": "int64",
         "stats": {
          "unique_count": 1,
          "nan_count": 0,
          "min": "0",
          "max": "0",
          "histogram": [
           {
            "bin_start": -0.5,
            "bin_end": -0.4,
            "count": 0
           },
           {
            "bin_start": -0.4,
            "bin_end": -0.3,
            "count": 0
           },
           {
            "bin_start": -0.3,
            "bin_end": -0.19999999999999996,
            "count": 0
           },
           {
            "bin_start": -0.19999999999999996,
            "bin_end": -0.09999999999999998,
            "count": 0
           },
           {
            "bin_start": -0.09999999999999998,
            "bin_end": 0,
            "count": 0
           },
           {
            "bin_start": 0,
            "bin_end": 0.10000000000000009,
            "count": 10
           },
           {
            "bin_start": 0.10000000000000009,
            "bin_end": 0.20000000000000007,
            "count": 0
           },
           {
            "bin_start": 0.20000000000000007,
            "bin_end": 0.30000000000000004,
            "count": 0
           },
           {
            "bin_start": 0.30000000000000004,
            "bin_end": 0.4,
            "count": 0
           },
           {
            "bin_start": 0.4,
            "bin_end": 0.5,
            "count": 0
           }
          ]
         }
        },
        {
         "name": "filter_not_exists",
         "dtype": "int64",
         "stats": {
          "unique_count": 1,
          "nan_count": 0,
          "min": "0",
          "max": "0",
          "histogram": [
           {
            "bin_start": -0.5,
            "bin_end": -0.4,
            "count": 0
           },
           {
            "bin_start": -0.4,
            "bin_end": -0.3,
            "count": 0
           },
           {
            "bin_start": -0.3,
            "bin_end": -0.19999999999999996,
            "count": 0
           },
           {
            "bin_start": -0.19999999999999996,
            "bin_end": -0.09999999999999998,
            "count": 0
           },
           {
            "bin_start": -0.09999999999999998,
            "bin_end": 0,
            "count": 0
           },
           {
            "bin_start": 0,
            "bin_end": 0.10000000000000009,
            "count": 10
           },
           {
            "bin_start": 0.10000000000000009,
            "bin_end": 0.20000000000000007,
            "count": 0
           },
           {
            "bin_start": 0.20000000000000007,
            "bin_end": 0.30000000000000004,
            "count": 0
           },
           {
            "bin_start": 0.30000000000000004,
            "bin_end": 0.4,
            "count": 0
           },
           {
            "bin_start": 0.4,
            "bin_end": 0.5,
            "count": 0
           }
          ]
         }
        },
        {
         "name": "leftJoin",
         "dtype": "int64",
         "stats": {
          "unique_count": 2,
          "nan_count": 0,
          "min": "0",
          "max": "2",
          "histogram": [
           {
            "bin_start": 0,
            "bin_end": 0.2,
            "count": 9
           },
           {
            "bin_start": 0.2,
            "bin_end": 0.4,
            "count": 0
           },
           {
            "bin_start": 0.4,
            "bin_end": 0.6000000000000001,
            "count": 0
           },
           {
            "bin_start": 0.6000000000000001,
            "bin_end": 0.8,
            "count": 0
           },
           {
            "bin_start": 0.8,
            "bin_end": 1,
            "count": 0
           },
           {
            "bin_start": 1,
            "bin_end": 1.2000000000000002,
            "count": 0
           },
           {
            "bin_start": 1.2000000000000002,
            "bin_end": 1.4000000000000001,
            "count": 0
           },
           {
            "bin_start": 1.4000000000000001,
            "bin_end": 1.6,
            "count": 0
           },
           {
            "bin_start": 1.6,
            "bin_end": 1.8,
            "count": 0
           },
           {
            "bin_start": 1.8,
            "bin_end": 2,
            "count": 1
           }
          ]
         }
        },
        {
         "name": "minus",
         "dtype": "int64",
         "stats": {
          "unique_count": 1,
          "nan_count": 0,
          "min": "0",
          "max": "0",
          "histogram": [
           {
            "bin_start": -0.5,
            "bin_end": -0.4,
            "count": 0
           },
           {
            "bin_start": -0.4,
            "bin_end": -0.3,
            "count": 0
           },
           {
            "bin_start": -0.3,
            "bin_end": -0.19999999999999996,
            "count": 0
           },
           {
            "bin_start": -0.19999999999999996,
            "bin_end": -0.09999999999999998,
            "count": 0
           },
           {
            "bin_start": -0.09999999999999998,
            "bin_end": 0,
            "count": 0
           },
           {
            "bin_start": 0,
            "bin_end": 0.10000000000000009,
            "count": 10
           },
           {
            "bin_start": 0.10000000000000009,
            "bin_end": 0.20000000000000007,
            "count": 0
           },
           {
            "bin_start": 0.20000000000000007,
            "bin_end": 0.30000000000000004,
            "count": 0
           },
           {
            "bin_start": 0.30000000000000004,
            "bin_end": 0.4,
            "count": 0
           },
           {
            "bin_start": 0.4,
            "bin_end": 0.5,
            "count": 0
           }
          ]
         }
        },
        {
         "name": "notexist",
         "dtype": "int64",
         "stats": {
          "unique_count": 1,
          "nan_count": 0,
          "min": "0",
          "max": "0",
          "histogram": [
           {
            "bin_start": -0.5,
            "bin_end": -0.4,
            "count": 0
           },
           {
            "bin_start": -0.4,
            "bin_end": -0.3,
            "count": 0
           },
           {
            "bin_start": -0.3,
            "bin_end": -0.19999999999999996,
            "count": 0
           },
           {
            "bin_start": -0.19999999999999996,
            "bin_end": -0.09999999999999998,
            "count": 0
           },
           {
            "bin_start": -0.09999999999999998,
            "bin_end": 0,
            "count": 0
           },
           {
            "bin_start": 0,
            "bin_end": 0.10000000000000009,
            "count": 10
           },
           {
            "bin_start": 0.10000000000000009,
            "bin_end": 0.20000000000000007,
            "count": 0
           },
           {
            "bin_start": 0.20000000000000007,
            "bin_end": 0.30000000000000004,
            "count": 0
           },
           {
            "bin_start": 0.30000000000000004,
            "bin_end": 0.4,
            "count": 0
           },
           {
            "bin_start": 0.4,
            "bin_end": 0.5,
            "count": 0
           }
          ]
         }
        },
        {
         "name": "sample",
         "dtype": "int64",
         "stats": {
          "unique_count": 1,
          "nan_count": 0,
          "min": "0",
          "max": "0",
          "histogram": [
           {
            "bin_start": -0.5,
            "bin_end": -0.4,
            "count": 0
           },
           {
            "bin_start": -0.4,
            "bin_end": -0.3,
            "count": 0
           },
           {
            "bin_start": -0.3,
            "bin_end": -0.19999999999999996,
            "count": 0
           },
           {
            "bin_start": -0.19999999999999996,
            "bin_end": -0.09999999999999998,
            "count": 0
           },
           {
            "bin_start": -0.09999999999999998,
            "bin_end": 0,
            "count": 0
           },
           {
            "bin_start": 0,
            "bin_end": 0.10000000000000009,
            "count": 10
           },
           {
            "bin_start": 0.10000000000000009,
            "bin_end": 0.20000000000000007,
            "count": 0
           },
           {
            "bin_start": 0.20000000000000007,
            "bin_end": 0.30000000000000004,
            "count": 0
           },
           {
            "bin_start": 0.30000000000000004,
            "bin_end": 0.4,
            "count": 0
           },
           {
            "bin_start": 0.4,
            "bin_end": 0.5,
            "count": 0
           }
          ]
         }
        },
        {
         "name": "count",
         "dtype": "int64",
         "stats": {
          "unique_count": 1,
          "nan_count": 0,
          "min": "0",
          "max": "0",
          "histogram": [
           {
            "bin_start": -0.5,
            "bin_end": -0.4,
            "count": 0
           },
           {
            "bin_start": -0.4,
            "bin_end": -0.3,
            "count": 0
           },
           {
            "bin_start": -0.3,
            "bin_end": -0.19999999999999996,
            "count": 0
           },
           {
            "bin_start": -0.19999999999999996,
            "bin_end": -0.09999999999999998,
            "count": 0
           },
           {
            "bin_start": -0.09999999999999998,
            "bin_end": 0,
            "count": 0
           },
           {
            "bin_start": 0,
            "bin_end": 0.10000000000000009,
            "count": 10
           },
           {
            "bin_start": 0.10000000000000009,
            "bin_end": 0.20000000000000007,
            "count": 0
           },
           {
            "bin_start": 0.20000000000000007,
            "bin_end": 0.30000000000000004,
            "count": 0
           },
           {
            "bin_start": 0.30000000000000004,
            "bin_end": 0.4,
            "count": 0
           },
           {
            "bin_start": 0.4,
            "bin_end": 0.5,
            "count": 0
           }
          ]
         }
        },
        {
         "name": "having",
         "dtype": "int64",
         "stats": {
          "unique_count": 1,
          "nan_count": 0,
          "min": "0",
          "max": "0",
          "histogram": [
           {
            "bin_start": -0.5,
            "bin_end": -0.4,
            "count": 0
           },
           {
            "bin_start": -0.4,
            "bin_end": -0.3,
            "count": 0
           },
           {
            "bin_start": -0.3,
            "bin_end": -0.19999999999999996,
            "count": 0
           },
           {
            "bin_start": -0.19999999999999996,
            "bin_end": -0.09999999999999998,
            "count": 0
           },
           {
            "bin_start": -0.09999999999999998,
            "bin_end": 0,
            "count": 0
           },
           {
            "bin_start": 0,
            "bin_end": 0.10000000000000009,
            "count": 10
           },
           {
            "bin_start": 0.10000000000000009,
            "bin_end": 0.20000000000000007,
            "count": 0
           },
           {
            "bin_start": 0.20000000000000007,
            "bin_end": 0.30000000000000004,
            "count": 0
           },
           {
            "bin_start": 0.30000000000000004,
            "bin_end": 0.4,
            "count": 0
           },
           {
            "bin_start": 0.4,
            "bin_end": 0.5,
            "count": 0
           }
          ]
         }
        },
        {
         "name": "pathWithStar",
         "dtype": "int64",
         "stats": {
          "unique_count": 2,
          "nan_count": 0,
          "min": "0",
          "max": "1",
          "histogram": [
           {
            "bin_start": 0,
            "bin_end": 0.1,
            "count": 9
           },
           {
            "bin_start": 0.1,
            "bin_end": 0.2,
            "count": 0
           },
           {
            "bin_start": 0.2,
            "bin_end": 0.30000000000000004,
            "count": 0
           },
           {
            "bin_start": 0.30000000000000004,
            "bin_end": 0.4,
            "count": 0
           },
           {
            "bin_start": 0.4,
            "bin_end": 0.5,
            "count": 0
           },
           {
            "bin_start": 0.5,
            "bin_end": 0.6000000000000001,
            "count": 0
           },
           {
            "bin_start": 0.6000000000000001,
            "bin_end": 0.7000000000000001,
            "count": 0
           },
           {
            "bin_start": 0.7000000000000001,
            "bin_end": 0.8,
            "count": 0
           },
           {
            "bin_start": 0.8,
            "bin_end": 0.9,
            "count": 0
           },
           {
            "bin_start": 0.9,
            "bin_end": 1,
            "count": 1
           }
          ]
         }
        },
        {
         "name": "pathWithPlus",
         "dtype": "int64",
         "stats": {
          "unique_count": 1,
          "nan_count": 0,
          "min": "0",
          "max": "0",
          "histogram": [
           {
            "bin_start": -0.5,
            "bin_end": -0.4,
            "count": 0
           },
           {
            "bin_start": -0.4,
            "bin_end": -0.3,
            "count": 0
           },
           {
            "bin_start": -0.3,
            "bin_end": -0.19999999999999996,
            "count": 0
           },
           {
            "bin_start": -0.19999999999999996,
            "bin_end": -0.09999999999999998,
            "count": 0
           },
           {
            "bin_start": -0.09999999999999998,
            "bin_end": 0,
            "count": 0
           },
           {
            "bin_start": 0,
            "bin_end": 0.10000000000000009,
            "count": 10
           },
           {
            "bin_start": 0.10000000000000009,
            "bin_end": 0.20000000000000007,
            "count": 0
           },
           {
            "bin_start": 0.20000000000000007,
            "bin_end": 0.30000000000000004,
            "count": 0
           },
           {
            "bin_start": 0.30000000000000004,
            "bin_end": 0.4,
            "count": 0
           },
           {
            "bin_start": 0.4,
            "bin_end": 0.5,
            "count": 0
           }
          ]
         }
        },
        {
         "name": "pathWithQuestionMark",
         "dtype": "int64",
         "stats": {
          "unique_count": 1,
          "nan_count": 0,
          "min": "0",
          "max": "0",
          "histogram": [
           {
            "bin_start": -0.5,
            "bin_end": -0.4,
            "count": 0
           },
           {
            "bin_start": -0.4,
            "bin_end": -0.3,
            "count": 0
           },
           {
            "bin_start": -0.3,
            "bin_end": -0.19999999999999996,
            "count": 0
           },
           {
            "bin_start": -0.19999999999999996,
            "bin_end": -0.09999999999999998,
            "count": 0
           },
           {
            "bin_start": -0.09999999999999998,
            "bin_end": 0,
            "count": 0
           },
           {
            "bin_start": 0,
            "bin_end": 0.10000000000000009,
            "count": 10
           },
           {
            "bin_start": 0.10000000000000009,
            "bin_end": 0.20000000000000007,
            "count": 0
           },
           {
            "bin_start": 0.20000000000000007,
            "bin_end": 0.30000000000000004,
            "count": 0
           },
           {
            "bin_start": 0.30000000000000004,
            "bin_end": 0.4,
            "count": 0
           },
           {
            "bin_start": 0.4,
            "bin_end": 0.5,
            "count": 0
           }
          ]
         }
        },
        {
         "name": "pathWithInv",
         "dtype": "int64",
         "stats": {
          "unique_count": 1,
          "nan_count": 0,
          "min": "0",
          "max": "0",
          "histogram": [
           {
            "bin_start": -0.5,
            "bin_end": -0.4,
            "count": 0
           },
           {
            "bin_start": -0.4,
            "bin_end": -0.3,
            "count": 0
           },
           {
            "bin_start": -0.3,
            "bin_end": -0.19999999999999996,
            "count": 0
           },
           {
            "bin_start": -0.19999999999999996,
            "bin_end": -0.09999999999999998,
            "count": 0
           },
           {
            "bin_start": -0.09999999999999998,
            "bin_end": 0,
            "count": 0
           },
           {
            "bin_start": 0,
            "bin_end": 0.10000000000000009,
            "count": 10
           },
           {
            "bin_start": 0.10000000000000009,
            "bin_end": 0.20000000000000007,
            "count": 0
           },
           {
            "bin_start": 0.20000000000000007,
            "bin_end": 0.30000000000000004,
            "count": 0
           },
           {
            "bin_start": 0.30000000000000004,
            "bin_end": 0.4,
            "count": 0
           },
           {
            "bin_start": 0.4,
            "bin_end": 0.5,
            "count": 0
           }
          ]
         }
        },
        {
         "name": "pathWithSequence",
         "dtype": "int64",
         "stats": {
          "unique_count": 3,
          "nan_count": 0,
          "min": "0",
          "max": "2",
          "histogram": [
           {
            "bin_start": 0,
            "bin_end": 0.2,
            "count": 4
           },
           {
            "bin_start": 0.2,
            "bin_end": 0.4,
            "count": 0
           },
           {
            "bin_start": 0.4,
            "bin_end": 0.6000000000000001,
            "count": 0
           },
           {
            "bin_start": 0.6000000000000001,
            "bin_end": 0.8,
            "count": 0
           },
           {
            "bin_start": 0.8,
            "bin_end": 1,
            "count": 0
           },
           {
            "bin_start": 1,
            "bin_end": 1.2000000000000002,
            "count": 1
           },
           {
            "bin_start": 1.2000000000000002,
            "bin_end": 1.4000000000000001,
            "count": 0
           },
           {
            "bin_start": 1.4000000000000001,
            "bin_end": 1.6,
            "count": 0
           },
           {
            "bin_start": 1.6,
            "bin_end": 1.8,
            "count": 0
           },
           {
            "bin_start": 1.8,
            "bin_end": 2,
            "count": 5
           }
          ]
         }
        },
        {
         "name": "pathWithAlternative",
         "dtype": "int64",
         "stats": {
          "unique_count": 1,
          "nan_count": 0,
          "min": "0",
          "max": "0",
          "histogram": [
           {
            "bin_start": -0.5,
            "bin_end": -0.4,
            "count": 0
           },
           {
            "bin_start": -0.4,
            "bin_end": -0.3,
            "count": 0
           },
           {
            "bin_start": -0.3,
            "bin_end": -0.19999999999999996,
            "count": 0
           },
           {
            "bin_start": -0.19999999999999996,
            "bin_end": -0.09999999999999998,
            "count": 0
           },
           {
            "bin_start": -0.09999999999999998,
            "bin_end": 0,
            "count": 0
           },
           {
            "bin_start": 0,
            "bin_end": 0.10000000000000009,
            "count": 10
           },
           {
            "bin_start": 0.10000000000000009,
            "bin_end": 0.20000000000000007,
            "count": 0
           },
           {
            "bin_start": 0.20000000000000007,
            "bin_end": 0.30000000000000004,
            "count": 0
           },
           {
            "bin_start": 0.30000000000000004,
            "bin_end": 0.4,
            "count": 0
           },
           {
            "bin_start": 0.4,
            "bin_end": 0.5,
            "count": 0
           }
          ]
         }
        },
        {
         "name": "triplesSet",
         "dtype": "object",
         "stats": {
          "unique_count": 10,
          "nan_count": 0,
          "categories": [
           {
            "name": "[[\"http://www.wikidata.org/entity/Q37577\", \"var2\", \"var3\"], [\"var3\", \"var2\", \"http://www.wikidata.org/entity/Q37577\"], [\"http://www.wikidata.org/entity/Q37621\", \"var4\", \"var5\"], [\"var5\", \"var4\", \"http://www.wikidata.org/entity/Q37621\"], [\"var3\", \"var6\", \"var5\"], [\"var5\", \"var6\", \"var3\"], [\"http://www.bigdata.com/rdf#serviceParam\", \"http://wikiba.se/ontology#language\", \"en,en\"]]",
            "count": 1
           },
           {
            "name": "[[\"var1\", \"var5\", \"var2\"], [\"var2\", \"var5\", \"var1\"], [\"var2\", \"var5\", \"var3\"], [\"var3\", \"var5\", \"var2\"], [\"var1\", \"var5\", \"var4\"], [\"var4\", \"var5\", \"var3\"], [\"http://www.bigdata.com/rdf#serviceParam\", \"http://wikiba.se/ontology#language\", \"en,en\"]]",
            "count": 1
           },
           {
            "name": "8 others",
            "count": 8
           }
          ]
         }
        },
        {
         "name": "limit",
         "dtype": "int64",
         "stats": {
          "unique_count": 1,
          "nan_count": 0,
          "min": "0",
          "max": "0",
          "histogram": [
           {
            "bin_start": -0.5,
            "bin_end": -0.4,
            "count": 0
           },
           {
            "bin_start": -0.4,
            "bin_end": -0.3,
            "count": 0
           },
           {
            "bin_start": -0.3,
            "bin_end": -0.19999999999999996,
            "count": 0
           },
           {
            "bin_start": -0.19999999999999996,
            "bin_end": -0.09999999999999998,
            "count": 0
           },
           {
            "bin_start": -0.09999999999999998,
            "bin_end": 0,
            "count": 0
           },
           {
            "bin_start": 0,
            "bin_end": 0.10000000000000009,
            "count": 10
           },
           {
            "bin_start": 0.10000000000000009,
            "bin_end": 0.20000000000000007,
            "count": 0
           },
           {
            "bin_start": 0.20000000000000007,
            "bin_end": 0.30000000000000004,
            "count": 0
           },
           {
            "bin_start": 0.30000000000000004,
            "bin_end": 0.4,
            "count": 0
           },
           {
            "bin_start": 0.4,
            "bin_end": 0.5,
            "count": 0
           }
          ]
         }
        },
        {
         "name": "limitValue",
         "dtype": "int64",
         "stats": {
          "unique_count": 1,
          "nan_count": 0,
          "min": "0",
          "max": "0",
          "histogram": [
           {
            "bin_start": -0.5,
            "bin_end": -0.4,
            "count": 0
           },
           {
            "bin_start": -0.4,
            "bin_end": -0.3,
            "count": 0
           },
           {
            "bin_start": -0.3,
            "bin_end": -0.19999999999999996,
            "count": 0
           },
           {
            "bin_start": -0.19999999999999996,
            "bin_end": -0.09999999999999998,
            "count": 0
           },
           {
            "bin_start": -0.09999999999999998,
            "bin_end": 0,
            "count": 0
           },
           {
            "bin_start": 0,
            "bin_end": 0.10000000000000009,
            "count": 10
           },
           {
            "bin_start": 0.10000000000000009,
            "bin_end": 0.20000000000000007,
            "count": 0
           },
           {
            "bin_start": 0.20000000000000007,
            "bin_end": 0.30000000000000004,
            "count": 0
           },
           {
            "bin_start": 0.30000000000000004,
            "bin_end": 0.4,
            "count": 0
           },
           {
            "bin_start": 0.4,
            "bin_end": 0.5,
            "count": 0
           }
          ]
         }
        },
        {
         "name": "offset",
         "dtype": "int64",
         "stats": {
          "unique_count": 1,
          "nan_count": 0,
          "min": "0",
          "max": "0",
          "histogram": [
           {
            "bin_start": -0.5,
            "bin_end": -0.4,
            "count": 0
           },
           {
            "bin_start": -0.4,
            "bin_end": -0.3,
            "count": 0
           },
           {
            "bin_start": -0.3,
            "bin_end": -0.19999999999999996,
            "count": 0
           },
           {
            "bin_start": -0.19999999999999996,
            "bin_end": -0.09999999999999998,
            "count": 0
           },
           {
            "bin_start": -0.09999999999999998,
            "bin_end": 0,
            "count": 0
           },
           {
            "bin_start": 0,
            "bin_end": 0.10000000000000009,
            "count": 10
           },
           {
            "bin_start": 0.10000000000000009,
            "bin_end": 0.20000000000000007,
            "count": 0
           },
           {
            "bin_start": 0.20000000000000007,
            "bin_end": 0.30000000000000004,
            "count": 0
           },
           {
            "bin_start": 0.30000000000000004,
            "bin_end": 0.4,
            "count": 0
           },
           {
            "bin_start": 0.4,
            "bin_end": 0.5,
            "count": 0
           }
          ]
         }
        },
        {
         "name": "offsetValue",
         "dtype": "int64",
         "stats": {
          "unique_count": 1,
          "nan_count": 0,
          "min": "0",
          "max": "0",
          "histogram": [
           {
            "bin_start": -0.5,
            "bin_end": -0.4,
            "count": 0
           },
           {
            "bin_start": -0.4,
            "bin_end": -0.3,
            "count": 0
           },
           {
            "bin_start": -0.3,
            "bin_end": -0.19999999999999996,
            "count": 0
           },
           {
            "bin_start": -0.19999999999999996,
            "bin_end": -0.09999999999999998,
            "count": 0
           },
           {
            "bin_start": -0.09999999999999998,
            "bin_end": 0,
            "count": 0
           },
           {
            "bin_start": 0,
            "bin_end": 0.10000000000000009,
            "count": 10
           },
           {
            "bin_start": 0.10000000000000009,
            "bin_end": 0.20000000000000007,
            "count": 0
           },
           {
            "bin_start": 0.20000000000000007,
            "bin_end": 0.30000000000000004,
            "count": 0
           },
           {
            "bin_start": 0.30000000000000004,
            "bin_end": 0.4,
            "count": 0
           },
           {
            "bin_start": 0.4,
            "bin_end": 0.5,
            "count": 0
           }
          ]
         }
        },
        {
         "name": "complexPathWith",
         "dtype": "int64",
         "stats": {
          "unique_count": 2,
          "nan_count": 0,
          "min": "0",
          "max": "1",
          "histogram": [
           {
            "bin_start": 0,
            "bin_end": 0.1,
            "count": 9
           },
           {
            "bin_start": 0.1,
            "bin_end": 0.2,
            "count": 0
           },
           {
            "bin_start": 0.2,
            "bin_end": 0.30000000000000004,
            "count": 0
           },
           {
            "bin_start": 0.30000000000000004,
            "bin_end": 0.4,
            "count": 0
           },
           {
            "bin_start": 0.4,
            "bin_end": 0.5,
            "count": 0
           },
           {
            "bin_start": 0.5,
            "bin_end": 0.6000000000000001,
            "count": 0
           },
           {
            "bin_start": 0.6000000000000001,
            "bin_end": 0.7000000000000001,
            "count": 0
           },
           {
            "bin_start": 0.7000000000000001,
            "bin_end": 0.8,
            "count": 0
           },
           {
            "bin_start": 0.8,
            "bin_end": 0.9,
            "count": 0
           },
           {
            "bin_start": 0.9,
            "bin_end": 1,
            "count": 1
           }
          ]
         }
        },
        {
         "name": "simplePathWith",
         "dtype": "int64",
         "stats": {
          "unique_count": 3,
          "nan_count": 0,
          "min": "0",
          "max": "2",
          "histogram": [
           {
            "bin_start": 0,
            "bin_end": 0.2,
            "count": 4
           },
           {
            "bin_start": 0.2,
            "bin_end": 0.4,
            "count": 0
           },
           {
            "bin_start": 0.4,
            "bin_end": 0.6000000000000001,
            "count": 0
           },
           {
            "bin_start": 0.6000000000000001,
            "bin_end": 0.8,
            "count": 0
           },
           {
            "bin_start": 0.8,
            "bin_end": 1,
            "count": 0
           },
           {
            "bin_start": 1,
            "bin_end": 1.2000000000000002,
            "count": 1
           },
           {
            "bin_start": 1.2000000000000002,
            "bin_end": 1.4000000000000001,
            "count": 0
           },
           {
            "bin_start": 1.4000000000000001,
            "bin_end": 1.6,
            "count": 0
           },
           {
            "bin_start": 1.6,
            "bin_end": 1.8,
            "count": 0
           },
           {
            "bin_start": 1.8,
            "bin_end": 2,
            "count": 5
           }
          ]
         }
        },
        {
         "name": "algebraTree",
         "dtype": "object",
         "stats": {
          "unique_count": 10,
          "nan_count": 0,
          "categories": [
           {
            "name": "SelectQuery_SelectQuery_{'p': Project_{'p': Join_{'p1': Join_{'p1': Join_{'p1': Union_{'p1': BGP_{'triples': [(rdflib.term.URIRef('http://www.wikidata.org/entity/Q37577'), rdflib.term.Variable('var2'), rdflib.term.Variable('var3'))], '_vars': {rdflib.term.Variable('var3'), rdflib.term.Variable('var2')}}, 'p2': BGP_{'triples': [(rdflib.term.Variable('var3'), rdflib.term.Variable('var2'), rdflib.term.URIRef('http://www.wikidata.org/entity/Q37577'))], '_vars': {rdflib.term.Variable('var3'), rdflib.term.Variable('var2')}}, '_vars': {rdflib.term.Variable('var3'), rdflib.term.Variable('var2')}}, 'p2': Union_{'p1': BGP_{'triples': [(rdflib.term.URIRef('http://www.wikidata.org/entity/Q37621'), rdflib.term.Variable('var4'), rdflib.term.Variable('var5'))], '_vars': {rdflib.term.Variable('var5'), rdflib.term.Variable('var4')}}, 'p2': BGP_{'triples': [(rdflib.term.Variable('var5'), rdflib.term.Variable('var4'), rdflib.term.URIRef('http://www.wikidata.org/entity/Q37621'))], '_vars': {rdflib.term.Variable('var5'), rdflib.term.Variable('var4')}}, '_vars': {rdflib.term.Variable('var5'), rdflib.term.Variable('var4')}}, 'lazy': True, '_vars': {rdflib.term.Variable('var3'), rdflib.term.Variable('var4'), rdflib.term.Variable('var2'), rdflib.term.Variable('var5')}}, 'p2': Union_{'p1': BGP_{'triples': [(rdflib.term.Variable('var3'), rdflib.term.Variable('var6'), rdflib.term.Variable('var5'))], '_vars': {rdflib.term.Variable('var3'), rdflib.term.Variable('var6'), rdflib.term.Variable('var5')}}, 'p2': BGP_{'triples': [(rdflib.term.Variable('var5'), rdflib.term.Variable('var6'), rdflib.term.Variable('var3'))], '_vars': {rdflib.term.Variable('var5'), rdflib.term.Variable('var3'), rdflib.term.Variable('var6')}}, '_vars': {rdflib.term.Variable('var3'), rdflib.term.Variable('var6'), rdflib.term.Variable('var5')}}, 'lazy': False, '_vars': {rdflib.term.Variable('var3'), rdflib.term.Variable('var5'), rdflib.term.Variable('var4'), rdflib.term.Variable('var2'), rdflib.term.Variable('var6')}}, 'p2': ServiceGraphPattern_{'service_string': 'SERVICE  <http://wikiba.se/ontology#label>   {\\n    <http://www.bigdata.com/rdf#serviceParam>  <http://wikiba.se/ontology#language>  \"en,en\".\\n  }', 'term': rdflib.term.URIRef('http://wikiba.se/ontology#label'), 'graph': GroupGraphPatternSub_{'part': [TriplesBlock_{'triples': [[rdflib.term.URIRef('http://www.bigdata.com/rdf#serviceParam'), rdflib.term.URIRef('http://wikiba.se/ontology#language'), rdflib.term.Literal('en,en')]], '_vars': set()}], '_vars': set()}, '_vars': set()}, 'lazy': False, '_vars': {rdflib.term.Variable('var3'), rdflib.term.Variable('var5'), rdflib.term.Variable('var4'), rdflib.term.Variable('var2'), rdflib.term.Variable('var6')}}, 'PV': [rdflib.term.Variable('var1'), rdflib.term.Variable('var1Label')], '_vars': {rdflib.term.Variable('var3'), rdflib.term.Variable('var5'), rdflib.term.Variable('var4'), rdflib.term.Variable('var2'), rdflib.term.Variable('var6'), rdflib.term.Variable('var1Label'), rdflib.term.Variable('var1')}}, 'datasetClause': None, 'PV': [rdflib.term.Variable('var1'), rdflib.term.Variable('var1Label')], '_vars': {rdflib.term.Variable('var3'), rdflib.term.Variable('var5'), rdflib.term.Variable('var4'), rdflib.term.Variable('var2'), rdflib.term.Variable('var6'), rdflib.term.Variable('var1Label'), rdflib.term.Variable('var1')}}",
            "count": 1
           },
           {
            "name": "SelectQuery_SelectQuery_{'p': Distinct_{'p': Project_{'p': Join_{'p1': BGP_{'triples': [(rdflib.term.Variable('var1'), rdflib.term.Variable('var5'), rdflib.term.Variable('var2')), (rdflib.term.Variable('var2'), rdflib.term.Variable('var5'), rdflib.term.Variable('var1')), (rdflib.term.Variable('var2'), rdflib.term.Variable('var5'), rdflib.term.Variable('var3')), (rdflib.term.Variable('var3'), rdflib.term.Variable('var5'), rdflib.term.Variable('var2')), (rdflib.term.Variable('var1'), rdflib.term.Variable('var5'), rdflib.term.Variable('var4')), (rdflib.term.Variable('var4'), rdflib.term.Variable('var5'), rdflib.term.Variable('var3'))], '_vars': {rdflib.term.Variable('var3'), rdflib.term.Variable('var1'), rdflib.term.Variable('var5'), rdflib.term.Variable('var2'), rdflib.term.Variable('var4')}}, 'p2': ServiceGraphPattern_{'service_string': 'SERVICE  <http://wikiba.se/ontology#label>   {\\n    <http://www.bigdata.com/rdf#serviceParam>  <http://wikiba.se/ontology#language>  \"en,en\".\\n  }', 'term': rdflib.term.URIRef('http://wikiba.se/ontology#label'), 'graph': GroupGraphPatternSub_{'part': [TriplesBlock_{'triples': [[rdflib.term.URIRef('http://www.bigdata.com/rdf#serviceParam'), rdflib.term.URIRef('http://wikiba.se/ontology#language'), rdflib.term.Literal('en,en')]], '_vars': set()}], '_vars': set()}, '_vars': set()}, 'lazy': True, '_vars': {rdflib.term.Variable('var3'), rdflib.term.Variable('var1'), rdflib.term.Variable('var5'), rdflib.term.Variable('var2'), rdflib.term.Variable('var4')}}, 'PV': [rdflib.term.Variable('var1Label'), rdflib.term.Variable('var2Label'), rdflib.term.Variable('var3Label'), rdflib.term.Variable('var4Label')], '_vars': {rdflib.term.Variable('var1'), rdflib.term.Variable('var3Label'), rdflib.term.Variable('var2Label'), rdflib.term.Variable('var4Label'), rdflib.term.Variable('var2'), rdflib.term.Variable('var1Label'), rdflib.term.Variable('var3'), rdflib.term.Variable('var5'), rdflib.term.Variable('var4')}}, '_vars': {rdflib.term.Variable('var1'), rdflib.term.Variable('var3Label'), rdflib.term.Variable('var2Label'), rdflib.term.Variable('var4Label'), rdflib.term.Variable('var2'), rdflib.term.Variable('var1Label'), rdflib.term.Variable('var3'), rdflib.term.Variable('var5'), rdflib.term.Variable('var4')}}, 'datasetClause': None, 'PV': [rdflib.term.Variable('var1Label'), rdflib.term.Variable('var2Label'), rdflib.term.Variable('var3Label'), rdflib.term.Variable('var4Label')], '_vars': {rdflib.term.Variable('var1'), rdflib.term.Variable('var3Label'), rdflib.term.Variable('var2Label'), rdflib.term.Variable('var4Label'), rdflib.term.Variable('var2'), rdflib.term.Variable('var1Label'), rdflib.term.Variable('var3'), rdflib.term.Variable('var5'), rdflib.term.Variable('var4')}}",
            "count": 1
           },
           {
            "name": "8 others",
            "count": 8
           }
          ]
         }
        },
        {
         "name": "algebraTreeMD5",
         "dtype": "object",
         "stats": {
          "unique_count": 10,
          "nan_count": 0,
          "categories": [
           {
            "name": "d1773ba7206e434b696b7f0e78abca4c",
            "count": 1
           },
           {
            "name": "14657754f7a08c0b748a6335489c97ee",
            "count": 1
           },
           {
            "name": "8 others",
            "count": 8
           }
          ]
         }
        },
        {
         "name": "graph",
         "dtype": "object",
         "stats": {
          "unique_count": 5,
          "nan_count": 0,
          "categories": [
           {
            "name": "DiGraph with 13 nodes and 14 edges",
            "count": 5
           },
           {
            "name": "DiGraph with 6 nodes and 7 edges",
            "count": 2
           },
           {
            "name": "3 others",
            "count": 3
           }
          ]
         }
        },
        {
         "name": "cycleNumber",
         "dtype": "int64",
         "stats": {
          "unique_count": 2,
          "nan_count": 0,
          "min": "2",
          "max": "3",
          "histogram": [
           {
            "bin_start": 2,
            "bin_end": 2.1,
            "count": 8
           },
           {
            "bin_start": 2.1,
            "bin_end": 2.2,
            "count": 0
           },
           {
            "bin_start": 2.2,
            "bin_end": 2.3,
            "count": 0
           },
           {
            "bin_start": 2.3,
            "bin_end": 2.4,
            "count": 0
           },
           {
            "bin_start": 2.4,
            "bin_end": 2.5,
            "count": 0
           },
           {
            "bin_start": 2.5,
            "bin_end": 2.6,
            "count": 0
           },
           {
            "bin_start": 2.6,
            "bin_end": 2.7,
            "count": 0
           },
           {
            "bin_start": 2.7,
            "bin_end": 2.8,
            "count": 0
           },
           {
            "bin_start": 2.8,
            "bin_end": 2.9,
            "count": 0
           },
           {
            "bin_start": 2.9,
            "bin_end": 3,
            "count": 2
           }
          ]
         }
        },
        {
         "name": "graphDump",
         "dtype": "object",
         "stats": {
          "unique_count": 10,
          "nan_count": 0,
          "categories": [
           {
            "name": "gASVzAIAAAAAAACMGG5ldHdvcmt4LmNsYXNzZXMuZGlncmFwaJSMB0RpR3JhcGiUk5QpgZR9lCiMF2dyYXBoX2F0dHJfZGljdF9mYWN0b3J5lIwIYnVpbHRpbnOUjARkaWN0lJOUjBFub2RlX2RpY3RfZmFjdG9yeZRoCIwWbm9kZV9hdHRyX2RpY3RfZmFjdG9yeZRoCIwaYWRqbGlzdF9vdXRlcl9kaWN0X2ZhY3RvcnmUaAiMGmFkamxpc3RfaW5uZXJfZGljdF9mYWN0b3J5lGgIjBZlZGdlX2F0dHJfZGljdF9mYWN0b3J5lGgIjAVncmFwaJR9lIwFX25vZGWUfZQojCVodHRwOi8vd3d3Lndpa2lkYXRhLm9yZy9lbnRpdHkvUTM3NTc3lH2UjAR2YXIzlH2UjCVodHRwOi8vd3d3Lndpa2lkYXRhLm9yZy9lbnRpdHkvUTM3NjIxlH2UjAR2YXI1lH2UjAtyZGZsaWIudGVybZSMBlVSSVJlZpSTlIwnaHR0cDovL3d3dy5iaWdkYXRhLmNvbS9yZGYjc2VydmljZVBhcmFtlIWUUpR9lGgajAdMaXRlcmFslJOUjAVlbixlbpROToeUUpR9lHWMBF9hZGqUfZQoaBJ9lGgUfZRzaBR9lCiMJWh0dHA6Ly93d3cud2lraWRhdGEub3JnL2VudGl0eS9RMzc1NzeUfZSMBHZhcjWUfZR1aBZ9lGgYfZRzaBh9lCiMJWh0dHA6Ly93d3cud2lraWRhdGEub3JnL2VudGl0eS9RMzc2MjGUfZSMBHZhcjOUfZR1aB99lGglfZRzaCV9lHWMBV9wcmVklH2UKGgSfZSMBHZhcjOUaC1zaBR9lChoEmgqjAR2YXI1lGg2dWgWfZSMBHZhcjWUaDRzaBh9lChoFmgxjAR2YXIzlGgvdWgffZRoJX2UaB9oOHN1jAVfc3VjY5RoKHViLg==",
            "count": 1
           },
           {
            "name": "gASVSAIAAAAAAACMGG5ldHdvcmt4LmNsYXNzZXMuZGlncmFwaJSMB0RpR3JhcGiUk5QpgZR9lCiMF2dyYXBoX2F0dHJfZGljdF9mYWN0b3J5lIwIYnVpbHRpbnOUjARkaWN0lJOUjBFub2RlX2RpY3RfZmFjdG9yeZRoCIwWbm9kZV9hdHRyX2RpY3RfZmFjdG9yeZRoCIwaYWRqbGlzdF9vdXRlcl9kaWN0X2ZhY3RvcnmUaAiMGmFkamxpc3RfaW5uZXJfZGljdF9mYWN0b3J5lGgIjBZlZGdlX2F0dHJfZGljdF9mYWN0b3J5lGgIjAVncmFwaJR9lIwFX25vZGWUfZQojAR2YXIxlH2UjAR2YXIylH2UjAR2YXIzlH2UjAR2YXI0lH2UjAtyZGZsaWIudGVybZSMBlVSSVJlZpSTlIwnaHR0cDovL3d3dy5iaWdkYXRhLmNvbS9yZGYjc2VydmljZVBhcmFtlIWUUpR9lGgajAdMaXRlcmFslJOUjAVlbixlbpROToeUUpR9lHWMBF9hZGqUfZQoaBJ9lChoFH2UaBh9lHVoFH2UKIwEdmFyMZR9lGgWfZR1aBZ9lIwEdmFyMpR9lHNoGH2UjAR2YXIzlH2Uc2gffZRoJX2Uc2glfZR1jAVfcHJlZJR9lChoEn2UjAR2YXIylGguc2gUfZQoaBJoKowEdmFyM5RoMnVoFn2UKIwEdmFyMpRoL4wEdmFyNJRoNXVoGH2UjAR2YXIxlGgrc2gffZRoJX2UaB9oN3N1jAVfc3VjY5RoKHViLg==",
            "count": 1
           },
           {
            "name": "8 others",
            "count": 8
           }
          ]
         }
        },
        {
         "name": "isForest",
         "dtype": "int64",
         "stats": {
          "unique_count": 1,
          "nan_count": 0,
          "min": "0",
          "max": "0",
          "histogram": [
           {
            "bin_start": -0.5,
            "bin_end": -0.4,
            "count": 0
           },
           {
            "bin_start": -0.4,
            "bin_end": -0.3,
            "count": 0
           },
           {
            "bin_start": -0.3,
            "bin_end": -0.19999999999999996,
            "count": 0
           },
           {
            "bin_start": -0.19999999999999996,
            "bin_end": -0.09999999999999998,
            "count": 0
           },
           {
            "bin_start": -0.09999999999999998,
            "bin_end": 0,
            "count": 0
           },
           {
            "bin_start": 0,
            "bin_end": 0.10000000000000009,
            "count": 10
           },
           {
            "bin_start": 0.10000000000000009,
            "bin_end": 0.20000000000000007,
            "count": 0
           },
           {
            "bin_start": 0.20000000000000007,
            "bin_end": 0.30000000000000004,
            "count": 0
           },
           {
            "bin_start": 0.30000000000000004,
            "bin_end": 0.4,
            "count": 0
           },
           {
            "bin_start": 0.4,
            "bin_end": 0.5,
            "count": 0
           }
          ]
         }
        },
        {
         "name": "numberOfNodes",
         "dtype": "int64",
         "stats": {
          "unique_count": 4,
          "nan_count": 0,
          "min": "6",
          "max": "13",
          "histogram": [
           {
            "bin_start": 6,
            "bin_end": 6.7,
            "count": 3
           },
           {
            "bin_start": 6.7,
            "bin_end": 7.4,
            "count": 1
           },
           {
            "bin_start": 7.4,
            "bin_end": 8.1,
            "count": 0
           },
           {
            "bin_start": 8.1,
            "bin_end": 8.8,
            "count": 0
           },
           {
            "bin_start": 8.8,
            "bin_end": 9.5,
            "count": 0
           },
           {
            "bin_start": 9.5,
            "bin_end": 10.2,
            "count": 1
           },
           {
            "bin_start": 10.2,
            "bin_end": 10.899999999999999,
            "count": 0
           },
           {
            "bin_start": 10.899999999999999,
            "bin_end": 11.6,
            "count": 0
           },
           {
            "bin_start": 11.6,
            "bin_end": 12.3,
            "count": 0
           },
           {
            "bin_start": 12.3,
            "bin_end": 13,
            "count": 5
           }
          ]
         }
        },
        {
         "name": "numberOfEdges",
         "dtype": "int64",
         "stats": {
          "unique_count": 4,
          "nan_count": 0,
          "min": "6",
          "max": "14",
          "histogram": [
           {
            "bin_start": 6,
            "bin_end": 6.8,
            "count": 1
           },
           {
            "bin_start": 6.8,
            "bin_end": 7.6,
            "count": 3
           },
           {
            "bin_start": 7.6,
            "bin_end": 8.4,
            "count": 0
           },
           {
            "bin_start": 8.4,
            "bin_end": 9.2,
            "count": 0
           },
           {
            "bin_start": 9.2,
            "bin_end": 10,
            "count": 0
           },
           {
            "bin_start": 10,
            "bin_end": 10.8,
            "count": 1
           },
           {
            "bin_start": 10.8,
            "bin_end": 11.600000000000001,
            "count": 0
           },
           {
            "bin_start": 11.600000000000001,
            "bin_end": 12.4,
            "count": 0
           },
           {
            "bin_start": 12.4,
            "bin_end": 13.2,
            "count": 0
           },
           {
            "bin_start": 13.2,
            "bin_end": 14,
            "count": 5
           }
          ]
         }
        },
        {
         "name": "treewidth",
         "dtype": "int64",
         "stats": {
          "unique_count": 2,
          "nan_count": 0,
          "min": "1",
          "max": "2",
          "histogram": [
           {
            "bin_start": 1,
            "bin_end": 1.1,
            "count": 3
           },
           {
            "bin_start": 1.1,
            "bin_end": 1.2,
            "count": 0
           },
           {
            "bin_start": 1.2,
            "bin_end": 1.3,
            "count": 0
           },
           {
            "bin_start": 1.3,
            "bin_end": 1.4,
            "count": 0
           },
           {
            "bin_start": 1.4,
            "bin_end": 1.5,
            "count": 0
           },
           {
            "bin_start": 1.5,
            "bin_end": 1.6,
            "count": 0
           },
           {
            "bin_start": 1.6,
            "bin_end": 1.7000000000000002,
            "count": 0
           },
           {
            "bin_start": 1.7000000000000002,
            "bin_end": 1.8,
            "count": 0
           },
           {
            "bin_start": 1.8,
            "bin_end": 1.9,
            "count": 0
           },
           {
            "bin_start": 1.9,
            "bin_end": 2,
            "count": 7
           }
          ]
         }
        },
        {
         "name": "isTree",
         "dtype": "int64",
         "stats": {
          "unique_count": 1,
          "nan_count": 0,
          "min": "0",
          "max": "0",
          "histogram": [
           {
            "bin_start": -0.5,
            "bin_end": -0.4,
            "count": 0
           },
           {
            "bin_start": -0.4,
            "bin_end": -0.3,
            "count": 0
           },
           {
            "bin_start": -0.3,
            "bin_end": -0.19999999999999996,
            "count": 0
           },
           {
            "bin_start": -0.19999999999999996,
            "bin_end": -0.09999999999999998,
            "count": 0
           },
           {
            "bin_start": -0.09999999999999998,
            "bin_end": 0,
            "count": 0
           },
           {
            "bin_start": 0,
            "bin_end": 0.10000000000000009,
            "count": 10
           },
           {
            "bin_start": 0.10000000000000009,
            "bin_end": 0.20000000000000007,
            "count": 0
           },
           {
            "bin_start": 0.20000000000000007,
            "bin_end": 0.30000000000000004,
            "count": 0
           },
           {
            "bin_start": 0.30000000000000004,
            "bin_end": 0.4,
            "count": 0
           },
           {
            "bin_start": 0.4,
            "bin_end": 0.5,
            "count": 0
           }
          ]
         }
        },
        {
         "name": "averageDegree",
         "dtype": "float64",
         "stats": {
          "unique_count": 3,
          "nan_count": 0,
          "min": "2.0",
          "max": "2.333333333333333",
          "histogram": [
           {
            "bin_start": 2,
            "bin_end": 2.033333333333333,
            "count": 3
           },
           {
            "bin_start": 2.033333333333333,
            "bin_end": 2.0666666666666664,
            "count": 0
           },
           {
            "bin_start": 2.0666666666666664,
            "bin_end": 2.1,
            "count": 0
           },
           {
            "bin_start": 2.1,
            "bin_end": 2.1333333333333333,
            "count": 0
           },
           {
            "bin_start": 2.1333333333333333,
            "bin_end": 2.1666666666666665,
            "count": 5
           },
           {
            "bin_start": 2.1666666666666665,
            "bin_end": 2.1999999999999997,
            "count": 0
           },
           {
            "bin_start": 2.1999999999999997,
            "bin_end": 2.233333333333333,
            "count": 0
           },
           {
            "bin_start": 2.233333333333333,
            "bin_end": 2.2666666666666666,
            "count": 0
           },
           {
            "bin_start": 2.2666666666666666,
            "bin_end": 2.3,
            "count": 0
           },
           {
            "bin_start": 2.3,
            "bin_end": 2.333333333333333,
            "count": 2
           }
          ]
         }
        },
        {
         "name": "maxCliqueWeigth",
         "dtype": "int64",
         "stats": {
          "unique_count": 2,
          "nan_count": 0,
          "min": "2",
          "max": "3",
          "histogram": [
           {
            "bin_start": 2,
            "bin_end": 2.1,
            "count": 9
           },
           {
            "bin_start": 2.1,
            "bin_end": 2.2,
            "count": 0
           },
           {
            "bin_start": 2.2,
            "bin_end": 2.3,
            "count": 0
           },
           {
            "bin_start": 2.3,
            "bin_end": 2.4,
            "count": 0
           },
           {
            "bin_start": 2.4,
            "bin_end": 2.5,
            "count": 0
           },
           {
            "bin_start": 2.5,
            "bin_end": 2.6,
            "count": 0
           },
           {
            "bin_start": 2.6,
            "bin_end": 2.7,
            "count": 0
           },
           {
            "bin_start": 2.7,
            "bin_end": 2.8,
            "count": 0
           },
           {
            "bin_start": 2.8,
            "bin_end": 2.9,
            "count": 0
           },
           {
            "bin_start": 2.9,
            "bin_end": 3,
            "count": 1
           }
          ]
         }
        },
        {
         "name": "file_path",
         "dtype": "object",
         "stats": {
          "unique_count": 4,
          "nan_count": 0,
          "categories": [
           {
            "name": "data/parsed/I7_status500_Joined.parsed.tsv",
            "count": 4
           },
           {
            "name": "data/parsed/I6_status500_Joined.parsed.tsv",
            "count": 3
           },
           {
            "name": "2 others",
            "count": 3
           }
          ]
         }
        },
        {
         "name": "interval",
         "dtype": "int64",
         "stats": {
          "unique_count": 4,
          "nan_count": 0,
          "min": "2",
          "max": "7",
          "histogram": [
           {
            "bin_start": 2,
            "bin_end": 2.5,
            "count": 1
           },
           {
            "bin_start": 2.5,
            "bin_end": 3,
            "count": 0
           },
           {
            "bin_start": 3,
            "bin_end": 3.5,
            "count": 0
           },
           {
            "bin_start": 3.5,
            "bin_end": 4,
            "count": 0
           },
           {
            "bin_start": 4,
            "bin_end": 4.5,
            "count": 2
           },
           {
            "bin_start": 4.5,
            "bin_end": 5,
            "count": 0
           },
           {
            "bin_start": 5,
            "bin_end": 5.5,
            "count": 0
           },
           {
            "bin_start": 5.5,
            "bin_end": 6,
            "count": 0
           },
           {
            "bin_start": 6,
            "bin_end": 6.5,
            "count": 3
           },
           {
            "bin_start": 6.5,
            "bin_end": 7,
            "count": 4
           }
          ]
         }
        },
        {
         "name": "has_variable",
         "dtype": "bool",
         "stats": {
          "unique_count": 1,
          "nan_count": 0,
          "categories": [
           {
            "name": "True",
            "count": 10
           }
          ]
         }
        },
        {
         "name": "has_filter",
         "dtype": "bool",
         "stats": {
          "unique_count": 1,
          "nan_count": 0,
          "categories": [
           {
            "name": "False",
            "count": 10
           }
          ]
         }
        },
        {
         "name": "has_orderby",
         "dtype": "bool",
         "stats": {
          "unique_count": 2,
          "nan_count": 0,
          "categories": [
           {
            "name": "False",
            "count": 9
           },
           {
            "name": "True",
            "count": 1
           }
          ]
         }
        },
        {
         "name": "has_limit",
         "dtype": "bool",
         "stats": {
          "unique_count": 1,
          "nan_count": 0,
          "categories": [
           {
            "name": "False",
            "count": 10
           }
          ]
         }
        },
        {
         "name": "has_select",
         "dtype": "bool",
         "stats": {
          "unique_count": 1,
          "nan_count": 0,
          "categories": [
           {
            "name": "True",
            "count": 10
           }
          ]
         }
        },
        {
         "name": "has_distinct",
         "dtype": "bool",
         "stats": {
          "unique_count": 2,
          "nan_count": 0,
          "categories": [
           {
            "name": "False",
            "count": 8
           },
           {
            "name": "True",
            "count": 2
           }
          ]
         }
        },
        {
         "name": "has_modify",
         "dtype": "bool",
         "stats": {
          "unique_count": 1,
          "nan_count": 0,
          "categories": [
           {
            "name": "False",
            "count": 10
           }
          ]
         }
        },
        {
         "name": "has_tomultiset",
         "dtype": "bool",
         "stats": {
          "unique_count": 1,
          "nan_count": 0,
          "categories": [
           {
            "name": "False",
            "count": 10
           }
          ]
         }
        },
        {
         "name": "has_join",
         "dtype": "bool",
         "stats": {
          "unique_count": 1,
          "nan_count": 0,
          "categories": [
           {
            "name": "True",
            "count": 10
           }
          ]
         }
        },
        {
         "name": "has_bgp",
         "dtype": "bool",
         "stats": {
          "unique_count": 1,
          "nan_count": 0,
          "categories": [
           {
            "name": "True",
            "count": 10
           }
          ]
         }
        },
        {
         "name": "has_project",
         "dtype": "bool",
         "stats": {
          "unique_count": 1,
          "nan_count": 0,
          "categories": [
           {
            "name": "True",
            "count": 10
           }
          ]
         }
        },
        {
         "name": "has_union",
         "dtype": "bool",
         "stats": {
          "unique_count": 2,
          "nan_count": 0,
          "categories": [
           {
            "name": "False",
            "count": 6
           },
           {
            "name": "True",
            "count": 4
           }
          ]
         }
        },
        {
         "name": "has_values",
         "dtype": "bool",
         "stats": {
          "unique_count": 1,
          "nan_count": 0,
          "categories": [
           {
            "name": "False",
            "count": 10
           }
          ]
         }
        },
        {
         "name": "has_slice",
         "dtype": "bool",
         "stats": {
          "unique_count": 1,
          "nan_count": 0,
          "categories": [
           {
            "name": "False",
            "count": 10
           }
          ]
         }
        },
        {
         "name": "has_offset",
         "dtype": "bool",
         "stats": {
          "unique_count": 1,
          "nan_count": 0,
          "categories": [
           {
            "name": "False",
            "count": 10
           }
          ]
         }
        },
        {
         "name": "_deepnote_index_column",
         "dtype": "int64"
        }
       ],
       "rows": [
        {
         "anonymizedQuery": "SELECT+%3Fvar1++%3Fvar1Label+%0AWHERE+%7B%0A+%7B%0A+++%3Chttp%3A%2F%2Fwww.wikidata.org%2Fentity%2FQ…",
         "timestamp": "2017-12-07 16:38:42",
         "sourceCategory": "organic",
         "user_agent": "browser",
         "var_cpt": 7,
         "filter": 0,
         "orderby": 0,
         "select": 1,
         "distinct": 0,
         "join": 3,
         "project": 1,
         "tomultiset": 0,
         "union": 3,
         "modify": 0,
         "bgp": 6,
         "values": 0,
         "groupBy": 0,
         "slice": 0,
         "triples": 6,
         "extend": 0,
         "filter_not_exists": 0,
         "leftJoin": 0,
         "minus": 0,
         "notexist": 0,
         "sample": 0,
         "count": 0,
         "having": 0,
         "pathWithStar": 0,
         "pathWithPlus": 0,
         "pathWithQuestionMark": 0,
         "pathWithInv": 0,
         "pathWithSequence": 0,
         "pathWithAlternative": 0,
         "triplesSet": "[[\"http://www.wikidata.org/entity/Q37577\", \"var2\", \"var3\"], [\"var3\", \"var2\", \"http://www.wikidata.o…",
         "limit": 0,
         "limitValue": 0,
         "offset": 0,
         "offsetValue": 0,
         "complexPathWith": 0,
         "simplePathWith": 0,
         "algebraTree": "SelectQuery_SelectQuery_{'p': Project_{'p': Join_{'p1': Join_{'p1': Join_{'p1': Union_{'p1': BGP_{'…",
         "algebraTreeMD5": "d1773ba7206e434b696b7f0e78abca4c",
         "graph": "DiGraph with 6 nodes and 7 edges",
         "cycleNumber": 3,
         "graphDump": "gASVzAIAAAAAAACMGG5ldHdvcmt4LmNsYXNzZXMuZGlncmFwaJSMB0RpR3JhcGiUk5QpgZR9lCiMF2dyYXBoX2F0dHJfZGljdF9…",
         "isForest": 0,
         "numberOfNodes": 6,
         "numberOfEdges": 7,
         "treewidth": 1,
         "isTree": 0,
         "averageDegree": 2.333333333333333,
         "maxCliqueWeigth": 2,
         "file_path": "data/parsed/I4_status500_Joined.parsed.tsv",
         "interval": 4,
         "has_variable": true,
         "has_filter": false,
         "has_orderby": false,
         "has_limit": false,
         "has_select": true,
         "has_distinct": false,
         "has_modify": false,
         "has_tomultiset": false,
         "has_join": true,
         "has_bgp": true,
         "has_project": true,
         "has_union": true,
         "has_values": false,
         "has_slice": false,
         "has_offset": false,
         "_deepnote_index_column": 14283
        },
        {
         "anonymizedQuery": "SELECT+DISTINCT+%3Fvar1Label++%3Fvar2Label++%3Fvar3Label++%3Fvar4Label+%0AWHERE+%7B%0A++%3Fvar1++%3…",
         "timestamp": "2018-03-17 11:35:58",
         "sourceCategory": "organic",
         "user_agent": "browser",
         "var_cpt": 9,
         "filter": 0,
         "orderby": 0,
         "select": 1,
         "distinct": 1,
         "join": 6,
         "project": 1,
         "tomultiset": 0,
         "union": 0,
         "modify": 0,
         "bgp": 1,
         "values": 0,
         "groupBy": 0,
         "slice": 0,
         "triples": 6,
         "extend": 0,
         "filter_not_exists": 0,
         "leftJoin": 0,
         "minus": 0,
         "notexist": 0,
         "sample": 0,
         "count": 0,
         "having": 0,
         "pathWithStar": 0,
         "pathWithPlus": 0,
         "pathWithQuestionMark": 0,
         "pathWithInv": 0,
         "pathWithSequence": 0,
         "pathWithAlternative": 0,
         "triplesSet": "[[\"var1\", \"var5\", \"var2\"], [\"var2\", \"var5\", \"var1\"], [\"var2\", \"var5\", \"var3\"], [\"var3\", \"var5\", \"va…",
         "limit": 0,
         "limitValue": 0,
         "offset": 0,
         "offsetValue": 0,
         "complexPathWith": 0,
         "simplePathWith": 0,
         "algebraTree": "SelectQuery_SelectQuery_{'p': Distinct_{'p': Project_{'p': Join_{'p1': BGP_{'triples': [(rdflib.ter…",
         "algebraTreeMD5": "14657754f7a08c0b748a6335489c97ee",
         "graph": "DiGraph with 6 nodes and 7 edges",
         "cycleNumber": 3,
         "graphDump": "gASVSAIAAAAAAACMGG5ldHdvcmt4LmNsYXNzZXMuZGlncmFwaJSMB0RpR3JhcGiUk5QpgZR9lCiMF2dyYXBoX2F0dHJfZGljdF9…",
         "isForest": 0,
         "numberOfNodes": 6,
         "numberOfEdges": 7,
         "treewidth": 2,
         "isTree": 0,
         "averageDegree": 2.333333333333333,
         "maxCliqueWeigth": 2,
         "file_path": "data/parsed/I7_status500_Joined.parsed.tsv",
         "interval": 7,
         "has_variable": true,
         "has_filter": false,
         "has_orderby": false,
         "has_limit": false,
         "has_select": true,
         "has_distinct": true,
         "has_modify": false,
         "has_tomultiset": false,
         "has_join": true,
         "has_bgp": true,
         "has_project": true,
         "has_union": false,
         "has_values": false,
         "has_slice": false,
         "has_offset": false,
         "_deepnote_index_column": 39747
        },
        {
         "anonymizedQuery": "SELECT+DISTINCT+%3Fvar1++%3Fvar2++%3Fvar3++%3Fvar2Label++%3Fvar1Label++%3Fvar4++%3Fvar5+%0AWHERE+%7…",
         "timestamp": "2017-08-01 12:05:06",
         "sourceCategory": "organic",
         "user_agent": "browser",
         "var_cpt": 9,
         "filter": 0,
         "orderby": 1,
         "select": 1,
         "distinct": 1,
         "join": 5,
         "project": 1,
         "tomultiset": 0,
         "union": 2,
         "modify": 0,
         "bgp": 6,
         "values": 0,
         "groupBy": 0,
         "slice": 0,
         "triples": 9,
         "extend": 0,
         "filter_not_exists": 0,
         "leftJoin": 2,
         "minus": 0,
         "notexist": 0,
         "sample": 0,
         "count": 0,
         "having": 0,
         "pathWithStar": 1,
         "pathWithPlus": 0,
         "pathWithQuestionMark": 0,
         "pathWithInv": 0,
         "pathWithSequence": 1,
         "pathWithAlternative": 0,
         "triplesSet": "[[\"var2\", \"http://www.wikidata.org/prop/direct/P2689\", \"var3\"], [\"var2\", \"http://www.wikidata.org/p…",
         "limit": 0,
         "limitValue": 0,
         "offset": 0,
         "offsetValue": 0,
         "complexPathWith": 1,
         "simplePathWith": 1,
         "algebraTree": "SelectQuery_SelectQuery_{'p': Distinct_{'p': Project_{'p': OrderBy_{'p': Join_{'p1': LeftJoin_{'p1'…",
         "algebraTreeMD5": "8625da4c46b9ba2d376ff1aa891a1c58",
         "graph": "DiGraph with 10 nodes and 10 edges",
         "cycleNumber": 2,
         "graphDump": "gASV1QIAAAAAAACMGG5ldHdvcmt4LmNsYXNzZXMuZGlncmFwaJSMB0RpR3JhcGiUk5QpgZR9lCiMF2dyYXBoX2F0dHJfZGljdF9…",
         "isForest": 0,
         "numberOfNodes": 10,
         "numberOfEdges": 10,
         "treewidth": 2,
         "isTree": 0,
         "averageDegree": 2,
         "maxCliqueWeigth": 3,
         "file_path": "data/parsed/I2_status500_Joined.parsed.tsv",
         "interval": 2,
         "has_variable": true,
         "has_filter": false,
         "has_orderby": true,
         "has_limit": false,
         "has_select": true,
         "has_distinct": true,
         "has_modify": false,
         "has_tomultiset": false,
         "has_join": true,
         "has_bgp": true,
         "has_project": true,
         "has_union": true,
         "has_values": false,
         "has_slice": false,
         "has_offset": false,
         "_deepnote_index_column": 7509
        },
        {
         "anonymizedQuery": "SELECT+%3Fvar1+%0AWHERE+%7B%0A++%3Fvar2++%3Chttp%3A%2F%2Fwikiba.se%2Fontology%23claim%3E++%3Fvar3+%…",
         "timestamp": "2018-02-13 03:22:27",
         "sourceCategory": "robotic",
         "user_agent": "UNKNOWN",
         "var_cpt": 8,
         "filter": 0,
         "orderby": 0,
         "select": 1,
         "distinct": 0,
         "join": 15,
         "project": 1,
         "tomultiset": 0,
         "union": 0,
         "modify": 0,
         "bgp": 1,
         "values": 0,
         "groupBy": 0,
         "slice": 0,
         "triples": 16,
         "extend": 0,
         "filter_not_exists": 0,
         "leftJoin": 0,
         "minus": 0,
         "notexist": 0,
         "sample": 0,
         "count": 0,
         "having": 0,
         "pathWithStar": 0,
         "pathWithPlus": 0,
         "pathWithQuestionMark": 0,
         "pathWithInv": 0,
         "pathWithSequence": 2,
         "pathWithAlternative": 0,
         "triplesSet": "[[\"N815fd22b69cd4a4c901cd0806b1d19c7\", \"http://www.wikidata.org/prop/statement/P2302\", \"http://www.…",
         "limit": 0,
         "limitValue": 0,
         "offset": 0,
         "offsetValue": 0,
         "complexPathWith": 0,
         "simplePathWith": 2,
         "algebraTree": "SelectQuery_SelectQuery_{'p': Project_{'p': BGP_{'triples': [(rdflib.term.BNode('N815fd22b69cd4a4c9…",
         "algebraTreeMD5": "f52cce33a86bd359c22a3ab23bc70b5c",
         "graph": "DiGraph with 13 nodes and 14 edges",
         "cycleNumber": 2,
         "graphDump": "gASVOwQAAAAAAACMGG5ldHdvcmt4LmNsYXNzZXMuZGlncmFwaJSMB0RpR3JhcGiUk5QpgZR9lCiMF2dyYXBoX2F0dHJfZGljdF9…",
         "isForest": 0,
         "numberOfNodes": 13,
         "numberOfEdges": 14,
         "treewidth": 2,
         "isTree": 0,
         "averageDegree": 2.1538461538461537,
         "maxCliqueWeigth": 2,
         "file_path": "data/parsed/I6_status500_Joined.parsed.tsv",
         "interval": 6,
         "has_variable": true,
         "has_filter": false,
         "has_orderby": false,
         "has_limit": false,
         "has_select": true,
         "has_distinct": false,
         "has_modify": false,
         "has_tomultiset": false,
         "has_join": true,
         "has_bgp": true,
         "has_project": true,
         "has_union": false,
         "has_values": false,
         "has_slice": false,
         "has_offset": false,
         "_deepnote_index_column": 29296
        },
        {
         "anonymizedQuery": "SELECT+%3Fvar1+%0AWHERE+%7B%0A++%3Fvar2++%3Chttp%3A%2F%2Fwikiba.se%2Fontology%23claim%3E++%3Fvar3+%…",
         "timestamp": "2018-02-12 03:02:54",
         "sourceCategory": "robotic",
         "user_agent": "UNKNOWN",
         "var_cpt": 8,
         "filter": 0,
         "orderby": 0,
         "select": 1,
         "distinct": 0,
         "join": 15,
         "project": 1,
         "tomultiset": 0,
         "union": 0,
         "modify": 0,
         "bgp": 1,
         "values": 0,
         "groupBy": 0,
         "slice": 0,
         "triples": 16,
         "extend": 0,
         "filter_not_exists": 0,
         "leftJoin": 0,
         "minus": 0,
         "notexist": 0,
         "sample": 0,
         "count": 0,
         "having": 0,
         "pathWithStar": 0,
         "pathWithPlus": 0,
         "pathWithQuestionMark": 0,
         "pathWithInv": 0,
         "pathWithSequence": 2,
         "pathWithAlternative": 0,
         "triplesSet": "[[\"N110d67a091774252b728701a1181e40b\", \"http://www.wikidata.org/prop/statement/P2302\", \"http://www.…",
         "limit": 0,
         "limitValue": 0,
         "offset": 0,
         "offsetValue": 0,
         "complexPathWith": 0,
         "simplePathWith": 2,
         "algebraTree": "SelectQuery_SelectQuery_{'p': Project_{'p': BGP_{'triples': [(rdflib.term.BNode('N110d67a091774252b…",
         "algebraTreeMD5": "e44a329b1d2a52b3c1cc826310df3ede",
         "graph": "DiGraph with 13 nodes and 14 edges",
         "cycleNumber": 2,
         "graphDump": "gASVOwQAAAAAAACMGG5ldHdvcmt4LmNsYXNzZXMuZGlncmFwaJSMB0RpR3JhcGiUk5QpgZR9lCiMF2dyYXBoX2F0dHJfZGljdF9…",
         "isForest": 0,
         "numberOfNodes": 13,
         "numberOfEdges": 14,
         "treewidth": 2,
         "isTree": 0,
         "averageDegree": 2.1538461538461537,
         "maxCliqueWeigth": 2,
         "file_path": "data/parsed/I6_status500_Joined.parsed.tsv",
         "interval": 6,
         "has_variable": true,
         "has_filter": false,
         "has_orderby": false,
         "has_limit": false,
         "has_select": true,
         "has_distinct": false,
         "has_modify": false,
         "has_tomultiset": false,
         "has_join": true,
         "has_bgp": true,
         "has_project": true,
         "has_union": false,
         "has_values": false,
         "has_slice": false,
         "has_offset": false,
         "_deepnote_index_column": 29043
        },
        {
         "anonymizedQuery": "SELECT+%3Fvar1+%0AWHERE+%7B%0A++%3Fvar2++%3Chttp%3A%2F%2Fwikiba.se%2Fontology%23claim%3E++%3Fvar3+%…",
         "timestamp": "2018-03-20 22:01:51",
         "sourceCategory": "robotic",
         "user_agent": "UNKNOWN",
         "var_cpt": 8,
         "filter": 0,
         "orderby": 0,
         "select": 1,
         "distinct": 0,
         "join": 15,
         "project": 1,
         "tomultiset": 0,
         "union": 0,
         "modify": 0,
         "bgp": 1,
         "values": 0,
         "groupBy": 0,
         "slice": 0,
         "triples": 16,
         "extend": 0,
         "filter_not_exists": 0,
         "leftJoin": 0,
         "minus": 0,
         "notexist": 0,
         "sample": 0,
         "count": 0,
         "having": 0,
         "pathWithStar": 0,
         "pathWithPlus": 0,
         "pathWithQuestionMark": 0,
         "pathWithInv": 0,
         "pathWithSequence": 2,
         "pathWithAlternative": 0,
         "triplesSet": "[[\"Ne17c41d748354c26a107606d31ff7738\", \"http://www.wikidata.org/prop/statement/P2302\", \"http://www.…",
         "limit": 0,
         "limitValue": 0,
         "offset": 0,
         "offsetValue": 0,
         "complexPathWith": 0,
         "simplePathWith": 2,
         "algebraTree": "SelectQuery_SelectQuery_{'p': Project_{'p': BGP_{'triples': [(rdflib.term.BNode('Ne17c41d748354c26a…",
         "algebraTreeMD5": "d888d5e9e0dde235c99072317ccb5899",
         "graph": "DiGraph with 13 nodes and 14 edges",
         "cycleNumber": 2,
         "graphDump": "gASVOwQAAAAAAACMGG5ldHdvcmt4LmNsYXNzZXMuZGlncmFwaJSMB0RpR3JhcGiUk5QpgZR9lCiMF2dyYXBoX2F0dHJfZGljdF9…",
         "isForest": 0,
         "numberOfNodes": 13,
         "numberOfEdges": 14,
         "treewidth": 2,
         "isTree": 0,
         "averageDegree": 2.1538461538461537,
         "maxCliqueWeigth": 2,
         "file_path": "data/parsed/I7_status500_Joined.parsed.tsv",
         "interval": 7,
         "has_variable": true,
         "has_filter": false,
         "has_orderby": false,
         "has_limit": false,
         "has_select": true,
         "has_distinct": false,
         "has_modify": false,
         "has_tomultiset": false,
         "has_join": true,
         "has_bgp": true,
         "has_project": true,
         "has_union": false,
         "has_values": false,
         "has_slice": false,
         "has_offset": false,
         "_deepnote_index_column": 40703
        },
        {
         "anonymizedQuery": "SELECT+%3Fvar1++%3Fvar1Label++%3Fvar2++%3Fvar2Label++%3Fvar3++%3Fvar3Label++%3Fvar4++%3Fvar4Label+%…",
         "timestamp": "2018-02-01 16:20:43",
         "sourceCategory": "organic",
         "user_agent": "browser",
         "var_cpt": 10,
         "filter": 0,
         "orderby": 0,
         "select": 1,
         "distinct": 0,
         "join": 4,
         "project": 1,
         "tomultiset": 0,
         "union": 2,
         "modify": 0,
         "bgp": 5,
         "values": 0,
         "groupBy": 0,
         "slice": 0,
         "triples": 6,
         "extend": 0,
         "filter_not_exists": 0,
         "leftJoin": 0,
         "minus": 0,
         "notexist": 0,
         "sample": 0,
         "count": 0,
         "having": 0,
         "pathWithStar": 0,
         "pathWithPlus": 0,
         "pathWithQuestionMark": 0,
         "pathWithInv": 0,
         "pathWithSequence": 0,
         "pathWithAlternative": 0,
         "triplesSet": "[[\"http://www.wikidata.org/entity/Q37577\", \"var5\", \"var1\"], [\"var1\", \"var5\", \"http://www.wikidata.o…",
         "limit": 0,
         "limitValue": 0,
         "offset": 0,
         "offsetValue": 0,
         "complexPathWith": 0,
         "simplePathWith": 0,
         "algebraTree": "SelectQuery_SelectQuery_{'p': Project_{'p': Join_{'p1': Join_{'p1': Join_{'p1': Union_{'p1': BGP_{'…",
         "algebraTreeMD5": "923e5612f1efc94787496bd27e18670d",
         "graph": "DiGraph with 7 nodes and 7 edges",
         "cycleNumber": 2,
         "graphDump": "gASV2AIAAAAAAACMGG5ldHdvcmt4LmNsYXNzZXMuZGlncmFwaJSMB0RpR3JhcGiUk5QpgZR9lCiMF2dyYXBoX2F0dHJfZGljdF9…",
         "isForest": 0,
         "numberOfNodes": 7,
         "numberOfEdges": 7,
         "treewidth": 1,
         "isTree": 0,
         "averageDegree": 2,
         "maxCliqueWeigth": 2,
         "file_path": "data/parsed/I6_status500_Joined.parsed.tsv",
         "interval": 6,
         "has_variable": true,
         "has_filter": false,
         "has_orderby": false,
         "has_limit": false,
         "has_select": true,
         "has_distinct": false,
         "has_modify": false,
         "has_tomultiset": false,
         "has_join": true,
         "has_bgp": true,
         "has_project": true,
         "has_union": true,
         "has_values": false,
         "has_slice": false,
         "has_offset": false,
         "_deepnote_index_column": 26280
        },
        {
         "anonymizedQuery": "SELECT+%3Fvar1++%3Fvar1Label+%0AWHERE+%7B%0A+%7B%0A+++%3Chttp%3A%2F%2Fwww.wikidata.org%2Fentity%2FQ…",
         "timestamp": "2017-12-07 16:39:51",
         "sourceCategory": "organic",
         "user_agent": "browser",
         "var_cpt": 7,
         "filter": 0,
         "orderby": 0,
         "select": 1,
         "distinct": 0,
         "join": 3,
         "project": 1,
         "tomultiset": 0,
         "union": 2,
         "modify": 0,
         "bgp": 5,
         "values": 0,
         "groupBy": 0,
         "slice": 0,
         "triples": 5,
         "extend": 0,
         "filter_not_exists": 0,
         "leftJoin": 0,
         "minus": 0,
         "notexist": 0,
         "sample": 0,
         "count": 0,
         "having": 0,
         "pathWithStar": 0,
         "pathWithPlus": 0,
         "pathWithQuestionMark": 0,
         "pathWithInv": 0,
         "pathWithSequence": 0,
         "pathWithAlternative": 0,
         "triplesSet": "[[\"http://www.wikidata.org/entity/Q37577\", \"var2\", \"var3\"], [\"var3\", \"var2\", \"http://www.wikidata.o…",
         "limit": 0,
         "limitValue": 0,
         "offset": 0,
         "offsetValue": 0,
         "complexPathWith": 0,
         "simplePathWith": 0,
         "algebraTree": "SelectQuery_SelectQuery_{'p': Project_{'p': Join_{'p1': Join_{'p1': Join_{'p1': Union_{'p1': BGP_{'…",
         "algebraTreeMD5": "79c5e9c5ad2b66f3ebaeb6fbb3215e85",
         "graph": "DiGraph with 6 nodes and 6 edges",
         "cycleNumber": 2,
         "graphDump": "gASVuAIAAAAAAACMGG5ldHdvcmt4LmNsYXNzZXMuZGlncmFwaJSMB0RpR3JhcGiUk5QpgZR9lCiMF2dyYXBoX2F0dHJfZGljdF9…",
         "isForest": 0,
         "numberOfNodes": 6,
         "numberOfEdges": 6,
         "treewidth": 1,
         "isTree": 0,
         "averageDegree": 2,
         "maxCliqueWeigth": 2,
         "file_path": "data/parsed/I4_status500_Joined.parsed.tsv",
         "interval": 4,
         "has_variable": true,
         "has_filter": false,
         "has_orderby": false,
         "has_limit": false,
         "has_select": true,
         "has_distinct": false,
         "has_modify": false,
         "has_tomultiset": false,
         "has_join": true,
         "has_bgp": true,
         "has_project": true,
         "has_union": true,
         "has_values": false,
         "has_slice": false,
         "has_offset": false,
         "_deepnote_index_column": 14284
        },
        {
         "anonymizedQuery": "SELECT+%3Fvar1+%0AWHERE+%7B%0A++%3Fvar2++%3Chttp%3A%2F%2Fwikiba.se%2Fontology%23claim%3E++%3Fvar3+%…",
         "timestamp": "2018-03-24 23:20:03",
         "sourceCategory": "robotic",
         "user_agent": "UNKNOWN",
         "var_cpt": 8,
         "filter": 0,
         "orderby": 0,
         "select": 1,
         "distinct": 0,
         "join": 15,
         "project": 1,
         "tomultiset": 0,
         "union": 0,
         "modify": 0,
         "bgp": 1,
         "values": 0,
         "groupBy": 0,
         "slice": 0,
         "triples": 16,
         "extend": 0,
         "filter_not_exists": 0,
         "leftJoin": 0,
         "minus": 0,
         "notexist": 0,
         "sample": 0,
         "count": 0,
         "having": 0,
         "pathWithStar": 0,
         "pathWithPlus": 0,
         "pathWithQuestionMark": 0,
         "pathWithInv": 0,
         "pathWithSequence": 2,
         "pathWithAlternative": 0,
         "triplesSet": "[[\"N49fe52511a3744a0a2bfcfa2efdaa28f\", \"http://www.wikidata.org/prop/statement/P2302\", \"http://www.…",
         "limit": 0,
         "limitValue": 0,
         "offset": 0,
         "offsetValue": 0,
         "complexPathWith": 0,
         "simplePathWith": 2,
         "algebraTree": "SelectQuery_SelectQuery_{'p': Project_{'p': BGP_{'triples': [(rdflib.term.BNode('N49fe52511a3744a0a…",
         "algebraTreeMD5": "b7790b5337f9e9e2520c883adefd9977",
         "graph": "DiGraph with 13 nodes and 14 edges",
         "cycleNumber": 2,
         "graphDump": "gASVOwQAAAAAAACMGG5ldHdvcmt4LmNsYXNzZXMuZGlncmFwaJSMB0RpR3JhcGiUk5QpgZR9lCiMF2dyYXBoX2F0dHJfZGljdF9…",
         "isForest": 0,
         "numberOfNodes": 13,
         "numberOfEdges": 14,
         "treewidth": 2,
         "isTree": 0,
         "averageDegree": 2.1538461538461537,
         "maxCliqueWeigth": 2,
         "file_path": "data/parsed/I7_status500_Joined.parsed.tsv",
         "interval": 7,
         "has_variable": true,
         "has_filter": false,
         "has_orderby": false,
         "has_limit": false,
         "has_select": true,
         "has_distinct": false,
         "has_modify": false,
         "has_tomultiset": false,
         "has_join": true,
         "has_bgp": true,
         "has_project": true,
         "has_union": false,
         "has_values": false,
         "has_slice": false,
         "has_offset": false,
         "_deepnote_index_column": 41852
        },
        {
         "anonymizedQuery": "SELECT+%3Fvar1+%0AWHERE+%7B%0A++%3Fvar2++%3Chttp%3A%2F%2Fwikiba.se%2Fontology%23claim%3E++%3Fvar3+%…",
         "timestamp": "2018-03-04 04:11:51",
         "sourceCategory": "robotic",
         "user_agent": "UNKNOWN",
         "var_cpt": 8,
         "filter": 0,
         "orderby": 0,
         "select": 1,
         "distinct": 0,
         "join": 15,
         "project": 1,
         "tomultiset": 0,
         "union": 0,
         "modify": 0,
         "bgp": 1,
         "values": 0,
         "groupBy": 0,
         "slice": 0,
         "triples": 16,
         "extend": 0,
         "filter_not_exists": 0,
         "leftJoin": 0,
         "minus": 0,
         "notexist": 0,
         "sample": 0,
         "count": 0,
         "having": 0,
         "pathWithStar": 0,
         "pathWithPlus": 0,
         "pathWithQuestionMark": 0,
         "pathWithInv": 0,
         "pathWithSequence": 2,
         "pathWithAlternative": 0,
         "triplesSet": "[[\"N2e8903f12a484bfca32cee2cc04ae302\", \"http://www.wikidata.org/prop/statement/P2302\", \"http://www.…",
         "limit": 0,
         "limitValue": 0,
         "offset": 0,
         "offsetValue": 0,
         "complexPathWith": 0,
         "simplePathWith": 2,
         "algebraTree": "SelectQuery_SelectQuery_{'p': Project_{'p': BGP_{'triples': [(rdflib.term.BNode('N2e8903f12a484bfca…",
         "algebraTreeMD5": "fa6776046599a98ede370538e4a22498",
         "graph": "DiGraph with 13 nodes and 14 edges",
         "cycleNumber": 2,
         "graphDump": "gASVOwQAAAAAAACMGG5ldHdvcmt4LmNsYXNzZXMuZGlncmFwaJSMB0RpR3JhcGiUk5QpgZR9lCiMF2dyYXBoX2F0dHJfZGljdF9…",
         "isForest": 0,
         "numberOfNodes": 13,
         "numberOfEdges": 14,
         "treewidth": 2,
         "isTree": 0,
         "averageDegree": 2.1538461538461537,
         "maxCliqueWeigth": 2,
         "file_path": "data/parsed/I7_status500_Joined.parsed.tsv",
         "interval": 7,
         "has_variable": true,
         "has_filter": false,
         "has_orderby": false,
         "has_limit": false,
         "has_select": true,
         "has_distinct": false,
         "has_modify": false,
         "has_tomultiset": false,
         "has_join": true,
         "has_bgp": true,
         "has_project": true,
         "has_union": false,
         "has_values": false,
         "has_slice": false,
         "has_offset": false,
         "_deepnote_index_column": 35382
        }
       ]
      },
      "text/plain": "                                         anonymizedQuery            timestamp  \\\n14283  SELECT+%3Fvar1++%3Fvar1Label+%0AWHERE+%7B%0A+%...  2017-12-07 16:38:42   \n39747  SELECT+DISTINCT+%3Fvar1Label++%3Fvar2Label++%3...  2018-03-17 11:35:58   \n7509   SELECT+DISTINCT+%3Fvar1++%3Fvar2++%3Fvar3++%3F...  2017-08-01 12:05:06   \n29296  SELECT+%3Fvar1+%0AWHERE+%7B%0A++%3Fvar2++%3Cht...  2018-02-13 03:22:27   \n29043  SELECT+%3Fvar1+%0AWHERE+%7B%0A++%3Fvar2++%3Cht...  2018-02-12 03:02:54   \n40703  SELECT+%3Fvar1+%0AWHERE+%7B%0A++%3Fvar2++%3Cht...  2018-03-20 22:01:51   \n26280  SELECT+%3Fvar1++%3Fvar1Label++%3Fvar2++%3Fvar2...  2018-02-01 16:20:43   \n14284  SELECT+%3Fvar1++%3Fvar1Label+%0AWHERE+%7B%0A+%...  2017-12-07 16:39:51   \n41852  SELECT+%3Fvar1+%0AWHERE+%7B%0A++%3Fvar2++%3Cht...  2018-03-24 23:20:03   \n35382  SELECT+%3Fvar1+%0AWHERE+%7B%0A++%3Fvar2++%3Cht...  2018-03-04 04:11:51   \n\n      sourceCategory user_agent  var_cpt  filter  orderby  select  distinct  \\\n14283        organic    browser        7       0        0       1         0   \n39747        organic    browser        9       0        0       1         1   \n7509         organic    browser        9       0        1       1         1   \n29296        robotic    UNKNOWN        8       0        0       1         0   \n29043        robotic    UNKNOWN        8       0        0       1         0   \n40703        robotic    UNKNOWN        8       0        0       1         0   \n26280        organic    browser       10       0        0       1         0   \n14284        organic    browser        7       0        0       1         0   \n41852        robotic    UNKNOWN        8       0        0       1         0   \n35382        robotic    UNKNOWN        8       0        0       1         0   \n\n       join  project  tomultiset  union  modify  bgp  values  groupBy  slice  \\\n14283     3        1           0      3       0    6       0        0      0   \n39747     6        1           0      0       0    1       0        0      0   \n7509      5        1           0      2       0    6       0        0      0   \n29296    15        1           0      0       0    1       0        0      0   \n29043    15        1           0      0       0    1       0        0      0   \n40703    15        1           0      0       0    1       0        0      0   \n26280     4        1           0      2       0    5       0        0      0   \n14284     3        1           0      2       0    5       0        0      0   \n41852    15        1           0      0       0    1       0        0      0   \n35382    15        1           0      0       0    1       0        0      0   \n\n       triples  extend  filter_not_exists  leftJoin  minus  notexist  sample  \\\n14283        6       0                  0         0      0         0       0   \n39747        6       0                  0         0      0         0       0   \n7509         9       0                  0         2      0         0       0   \n29296       16       0                  0         0      0         0       0   \n29043       16       0                  0         0      0         0       0   \n40703       16       0                  0         0      0         0       0   \n26280        6       0                  0         0      0         0       0   \n14284        5       0                  0         0      0         0       0   \n41852       16       0                  0         0      0         0       0   \n35382       16       0                  0         0      0         0       0   \n\n       count  having  pathWithStar  pathWithPlus  pathWithQuestionMark  \\\n14283      0       0             0             0                     0   \n39747      0       0             0             0                     0   \n7509       0       0             1             0                     0   \n29296      0       0             0             0                     0   \n29043      0       0             0             0                     0   \n40703      0       0             0             0                     0   \n26280      0       0             0             0                     0   \n14284      0       0             0             0                     0   \n41852      0       0             0             0                     0   \n35382      0       0             0             0                     0   \n\n       pathWithInv  pathWithSequence  pathWithAlternative  \\\n14283            0                 0                    0   \n39747            0                 0                    0   \n7509             0                 1                    0   \n29296            0                 2                    0   \n29043            0                 2                    0   \n40703            0                 2                    0   \n26280            0                 0                    0   \n14284            0                 0                    0   \n41852            0                 2                    0   \n35382            0                 2                    0   \n\n                                              triplesSet  limit  limitValue  \\\n14283  [[\"http://www.wikidata.org/entity/Q37577\", \"va...      0           0   \n39747  [[\"var1\", \"var5\", \"var2\"], [\"var2\", \"var5\", \"v...      0           0   \n7509   [[\"var2\", \"http://www.wikidata.org/prop/direct...      0           0   \n29296  [[\"N815fd22b69cd4a4c901cd0806b1d19c7\", \"http:/...      0           0   \n29043  [[\"N110d67a091774252b728701a1181e40b\", \"http:/...      0           0   \n40703  [[\"Ne17c41d748354c26a107606d31ff7738\", \"http:/...      0           0   \n26280  [[\"http://www.wikidata.org/entity/Q37577\", \"va...      0           0   \n14284  [[\"http://www.wikidata.org/entity/Q37577\", \"va...      0           0   \n41852  [[\"N49fe52511a3744a0a2bfcfa2efdaa28f\", \"http:/...      0           0   \n35382  [[\"N2e8903f12a484bfca32cee2cc04ae302\", \"http:/...      0           0   \n\n       offset  offsetValue  complexPathWith  simplePathWith  \\\n14283       0            0                0               0   \n39747       0            0                0               0   \n7509        0            0                1               1   \n29296       0            0                0               2   \n29043       0            0                0               2   \n40703       0            0                0               2   \n26280       0            0                0               0   \n14284       0            0                0               0   \n41852       0            0                0               2   \n35382       0            0                0               2   \n\n                                             algebraTree  \\\n14283  SelectQuery_SelectQuery_{'p': Project_{'p': Jo...   \n39747  SelectQuery_SelectQuery_{'p': Distinct_{'p': P...   \n7509   SelectQuery_SelectQuery_{'p': Distinct_{'p': P...   \n29296  SelectQuery_SelectQuery_{'p': Project_{'p': BG...   \n29043  SelectQuery_SelectQuery_{'p': Project_{'p': BG...   \n40703  SelectQuery_SelectQuery_{'p': Project_{'p': BG...   \n26280  SelectQuery_SelectQuery_{'p': Project_{'p': Jo...   \n14284  SelectQuery_SelectQuery_{'p': Project_{'p': Jo...   \n41852  SelectQuery_SelectQuery_{'p': Project_{'p': BG...   \n35382  SelectQuery_SelectQuery_{'p': Project_{'p': BG...   \n\n                         algebraTreeMD5                               graph  \\\n14283  d1773ba7206e434b696b7f0e78abca4c    DiGraph with 6 nodes and 7 edges   \n39747  14657754f7a08c0b748a6335489c97ee    DiGraph with 6 nodes and 7 edges   \n7509   8625da4c46b9ba2d376ff1aa891a1c58  DiGraph with 10 nodes and 10 edges   \n29296  f52cce33a86bd359c22a3ab23bc70b5c  DiGraph with 13 nodes and 14 edges   \n29043  e44a329b1d2a52b3c1cc826310df3ede  DiGraph with 13 nodes and 14 edges   \n40703  d888d5e9e0dde235c99072317ccb5899  DiGraph with 13 nodes and 14 edges   \n26280  923e5612f1efc94787496bd27e18670d    DiGraph with 7 nodes and 7 edges   \n14284  79c5e9c5ad2b66f3ebaeb6fbb3215e85    DiGraph with 6 nodes and 6 edges   \n41852  b7790b5337f9e9e2520c883adefd9977  DiGraph with 13 nodes and 14 edges   \n35382  fa6776046599a98ede370538e4a22498  DiGraph with 13 nodes and 14 edges   \n\n       cycleNumber                                          graphDump  \\\n14283            3  gASVzAIAAAAAAACMGG5ldHdvcmt4LmNsYXNzZXMuZGlncm...   \n39747            3  gASVSAIAAAAAAACMGG5ldHdvcmt4LmNsYXNzZXMuZGlncm...   \n7509             2  gASV1QIAAAAAAACMGG5ldHdvcmt4LmNsYXNzZXMuZGlncm...   \n29296            2  gASVOwQAAAAAAACMGG5ldHdvcmt4LmNsYXNzZXMuZGlncm...   \n29043            2  gASVOwQAAAAAAACMGG5ldHdvcmt4LmNsYXNzZXMuZGlncm...   \n40703            2  gASVOwQAAAAAAACMGG5ldHdvcmt4LmNsYXNzZXMuZGlncm...   \n26280            2  gASV2AIAAAAAAACMGG5ldHdvcmt4LmNsYXNzZXMuZGlncm...   \n14284            2  gASVuAIAAAAAAACMGG5ldHdvcmt4LmNsYXNzZXMuZGlncm...   \n41852            2  gASVOwQAAAAAAACMGG5ldHdvcmt4LmNsYXNzZXMuZGlncm...   \n35382            2  gASVOwQAAAAAAACMGG5ldHdvcmt4LmNsYXNzZXMuZGlncm...   \n\n       isForest  numberOfNodes  numberOfEdges  treewidth  isTree  \\\n14283         0              6              7          1       0   \n39747         0              6              7          2       0   \n7509          0             10             10          2       0   \n29296         0             13             14          2       0   \n29043         0             13             14          2       0   \n40703         0             13             14          2       0   \n26280         0              7              7          1       0   \n14284         0              6              6          1       0   \n41852         0             13             14          2       0   \n35382         0             13             14          2       0   \n\n       averageDegree  maxCliqueWeigth  \\\n14283       2.333333                2   \n39747       2.333333                2   \n7509        2.000000                3   \n29296       2.153846                2   \n29043       2.153846                2   \n40703       2.153846                2   \n26280       2.000000                2   \n14284       2.000000                2   \n41852       2.153846                2   \n35382       2.153846                2   \n\n                                        file_path  interval  has_variable  \\\n14283  data/parsed/I4_status500_Joined.parsed.tsv         4          True   \n39747  data/parsed/I7_status500_Joined.parsed.tsv         7          True   \n7509   data/parsed/I2_status500_Joined.parsed.tsv         2          True   \n29296  data/parsed/I6_status500_Joined.parsed.tsv         6          True   \n29043  data/parsed/I6_status500_Joined.parsed.tsv         6          True   \n40703  data/parsed/I7_status500_Joined.parsed.tsv         7          True   \n26280  data/parsed/I6_status500_Joined.parsed.tsv         6          True   \n14284  data/parsed/I4_status500_Joined.parsed.tsv         4          True   \n41852  data/parsed/I7_status500_Joined.parsed.tsv         7          True   \n35382  data/parsed/I7_status500_Joined.parsed.tsv         7          True   \n\n       has_filter  has_orderby  has_limit  has_select  has_distinct  \\\n14283       False        False      False        True         False   \n39747       False        False      False        True          True   \n7509        False         True      False        True          True   \n29296       False        False      False        True         False   \n29043       False        False      False        True         False   \n40703       False        False      False        True         False   \n26280       False        False      False        True         False   \n14284       False        False      False        True         False   \n41852       False        False      False        True         False   \n35382       False        False      False        True         False   \n\n       has_modify  has_tomultiset  has_join  has_bgp  has_project  has_union  \\\n14283       False           False      True     True         True       True   \n39747       False           False      True     True         True      False   \n7509        False           False      True     True         True       True   \n29296       False           False      True     True         True      False   \n29043       False           False      True     True         True      False   \n40703       False           False      True     True         True      False   \n26280       False           False      True     True         True       True   \n14284       False           False      True     True         True       True   \n41852       False           False      True     True         True      False   \n35382       False           False      True     True         True      False   \n\n       has_values  has_slice  has_offset  \n14283       False      False       False  \n39747       False      False       False  \n7509        False      False       False  \n29296       False      False       False  \n29043       False      False       False  \n40703       False      False       False  \n26280       False      False       False  \n14284       False      False       False  \n41852       False      False       False  \n35382       False      False       False  ",
      "text/html": "<div>\n<style scoped>\n    .dataframe tbody tr th:only-of-type {\n        vertical-align: middle;\n    }\n\n    .dataframe tbody tr th {\n        vertical-align: top;\n    }\n\n    .dataframe thead th {\n        text-align: right;\n    }\n</style>\n<table border=\"1\" class=\"dataframe\">\n  <thead>\n    <tr style=\"text-align: right;\">\n      <th></th>\n      <th>anonymizedQuery</th>\n      <th>timestamp</th>\n      <th>sourceCategory</th>\n      <th>user_agent</th>\n      <th>var_cpt</th>\n      <th>filter</th>\n      <th>orderby</th>\n      <th>select</th>\n      <th>distinct</th>\n      <th>join</th>\n      <th>project</th>\n      <th>tomultiset</th>\n      <th>union</th>\n      <th>modify</th>\n      <th>bgp</th>\n      <th>values</th>\n      <th>groupBy</th>\n      <th>slice</th>\n      <th>triples</th>\n      <th>extend</th>\n      <th>filter_not_exists</th>\n      <th>leftJoin</th>\n      <th>minus</th>\n      <th>notexist</th>\n      <th>sample</th>\n      <th>count</th>\n      <th>having</th>\n      <th>pathWithStar</th>\n      <th>pathWithPlus</th>\n      <th>pathWithQuestionMark</th>\n      <th>pathWithInv</th>\n      <th>pathWithSequence</th>\n      <th>pathWithAlternative</th>\n      <th>triplesSet</th>\n      <th>limit</th>\n      <th>limitValue</th>\n      <th>offset</th>\n      <th>offsetValue</th>\n      <th>complexPathWith</th>\n      <th>simplePathWith</th>\n      <th>algebraTree</th>\n      <th>algebraTreeMD5</th>\n      <th>graph</th>\n      <th>cycleNumber</th>\n      <th>graphDump</th>\n      <th>isForest</th>\n      <th>numberOfNodes</th>\n      <th>numberOfEdges</th>\n      <th>treewidth</th>\n      <th>isTree</th>\n      <th>averageDegree</th>\n      <th>maxCliqueWeigth</th>\n      <th>file_path</th>\n      <th>interval</th>\n      <th>has_variable</th>\n      <th>has_filter</th>\n      <th>has_orderby</th>\n      <th>has_limit</th>\n      <th>has_select</th>\n      <th>has_distinct</th>\n      <th>has_modify</th>\n      <th>has_tomultiset</th>\n      <th>has_join</th>\n      <th>has_bgp</th>\n      <th>has_project</th>\n      <th>has_union</th>\n      <th>has_values</th>\n      <th>has_slice</th>\n      <th>has_offset</th>\n    </tr>\n  </thead>\n  <tbody>\n    <tr>\n      <th>14283</th>\n      <td>SELECT+%3Fvar1++%3Fvar1Label+%0AWHERE+%7B%0A+%...</td>\n      <td>2017-12-07 16:38:42</td>\n      <td>organic</td>\n      <td>browser</td>\n      <td>7</td>\n      <td>0</td>\n      <td>0</td>\n      <td>1</td>\n      <td>0</td>\n      <td>3</td>\n      <td>1</td>\n      <td>0</td>\n      <td>3</td>\n      <td>0</td>\n      <td>6</td>\n      <td>0</td>\n      <td>0</td>\n      <td>0</td>\n      <td>6</td>\n      <td>0</td>\n      <td>0</td>\n      <td>0</td>\n      <td>0</td>\n      <td>0</td>\n      <td>0</td>\n      <td>0</td>\n      <td>0</td>\n      <td>0</td>\n      <td>0</td>\n      <td>0</td>\n      <td>0</td>\n      <td>0</td>\n      <td>0</td>\n      <td>[[\"http://www.wikidata.org/entity/Q37577\", \"va...</td>\n      <td>0</td>\n      <td>0</td>\n      <td>0</td>\n      <td>0</td>\n      <td>0</td>\n      <td>0</td>\n      <td>SelectQuery_SelectQuery_{'p': Project_{'p': Jo...</td>\n      <td>d1773ba7206e434b696b7f0e78abca4c</td>\n      <td>DiGraph with 6 nodes and 7 edges</td>\n      <td>3</td>\n      <td>gASVzAIAAAAAAACMGG5ldHdvcmt4LmNsYXNzZXMuZGlncm...</td>\n      <td>0</td>\n      <td>6</td>\n      <td>7</td>\n      <td>1</td>\n      <td>0</td>\n      <td>2.333333</td>\n      <td>2</td>\n      <td>data/parsed/I4_status500_Joined.parsed.tsv</td>\n      <td>4</td>\n      <td>True</td>\n      <td>False</td>\n      <td>False</td>\n      <td>False</td>\n      <td>True</td>\n      <td>False</td>\n      <td>False</td>\n      <td>False</td>\n      <td>True</td>\n      <td>True</td>\n      <td>True</td>\n      <td>True</td>\n      <td>False</td>\n      <td>False</td>\n      <td>False</td>\n    </tr>\n    <tr>\n      <th>39747</th>\n      <td>SELECT+DISTINCT+%3Fvar1Label++%3Fvar2Label++%3...</td>\n      <td>2018-03-17 11:35:58</td>\n      <td>organic</td>\n      <td>browser</td>\n      <td>9</td>\n      <td>0</td>\n      <td>0</td>\n      <td>1</td>\n      <td>1</td>\n      <td>6</td>\n      <td>1</td>\n      <td>0</td>\n      <td>0</td>\n      <td>0</td>\n      <td>1</td>\n      <td>0</td>\n      <td>0</td>\n      <td>0</td>\n      <td>6</td>\n      <td>0</td>\n      <td>0</td>\n      <td>0</td>\n      <td>0</td>\n      <td>0</td>\n      <td>0</td>\n      <td>0</td>\n      <td>0</td>\n      <td>0</td>\n      <td>0</td>\n      <td>0</td>\n      <td>0</td>\n      <td>0</td>\n      <td>0</td>\n      <td>[[\"var1\", \"var5\", \"var2\"], [\"var2\", \"var5\", \"v...</td>\n      <td>0</td>\n      <td>0</td>\n      <td>0</td>\n      <td>0</td>\n      <td>0</td>\n      <td>0</td>\n      <td>SelectQuery_SelectQuery_{'p': Distinct_{'p': P...</td>\n      <td>14657754f7a08c0b748a6335489c97ee</td>\n      <td>DiGraph with 6 nodes and 7 edges</td>\n      <td>3</td>\n      <td>gASVSAIAAAAAAACMGG5ldHdvcmt4LmNsYXNzZXMuZGlncm...</td>\n      <td>0</td>\n      <td>6</td>\n      <td>7</td>\n      <td>2</td>\n      <td>0</td>\n      <td>2.333333</td>\n      <td>2</td>\n      <td>data/parsed/I7_status500_Joined.parsed.tsv</td>\n      <td>7</td>\n      <td>True</td>\n      <td>False</td>\n      <td>False</td>\n      <td>False</td>\n      <td>True</td>\n      <td>True</td>\n      <td>False</td>\n      <td>False</td>\n      <td>True</td>\n      <td>True</td>\n      <td>True</td>\n      <td>False</td>\n      <td>False</td>\n      <td>False</td>\n      <td>False</td>\n    </tr>\n    <tr>\n      <th>7509</th>\n      <td>SELECT+DISTINCT+%3Fvar1++%3Fvar2++%3Fvar3++%3F...</td>\n      <td>2017-08-01 12:05:06</td>\n      <td>organic</td>\n      <td>browser</td>\n      <td>9</td>\n      <td>0</td>\n      <td>1</td>\n      <td>1</td>\n      <td>1</td>\n      <td>5</td>\n      <td>1</td>\n      <td>0</td>\n      <td>2</td>\n      <td>0</td>\n      <td>6</td>\n      <td>0</td>\n      <td>0</td>\n      <td>0</td>\n      <td>9</td>\n      <td>0</td>\n      <td>0</td>\n      <td>2</td>\n      <td>0</td>\n      <td>0</td>\n      <td>0</td>\n      <td>0</td>\n      <td>0</td>\n      <td>1</td>\n      <td>0</td>\n      <td>0</td>\n      <td>0</td>\n      <td>1</td>\n      <td>0</td>\n      <td>[[\"var2\", \"http://www.wikidata.org/prop/direct...</td>\n      <td>0</td>\n      <td>0</td>\n      <td>0</td>\n      <td>0</td>\n      <td>1</td>\n      <td>1</td>\n      <td>SelectQuery_SelectQuery_{'p': Distinct_{'p': P...</td>\n      <td>8625da4c46b9ba2d376ff1aa891a1c58</td>\n      <td>DiGraph with 10 nodes and 10 edges</td>\n      <td>2</td>\n      <td>gASV1QIAAAAAAACMGG5ldHdvcmt4LmNsYXNzZXMuZGlncm...</td>\n      <td>0</td>\n      <td>10</td>\n      <td>10</td>\n      <td>2</td>\n      <td>0</td>\n      <td>2.000000</td>\n      <td>3</td>\n      <td>data/parsed/I2_status500_Joined.parsed.tsv</td>\n      <td>2</td>\n      <td>True</td>\n      <td>False</td>\n      <td>True</td>\n      <td>False</td>\n      <td>True</td>\n      <td>True</td>\n      <td>False</td>\n      <td>False</td>\n      <td>True</td>\n      <td>True</td>\n      <td>True</td>\n      <td>True</td>\n      <td>False</td>\n      <td>False</td>\n      <td>False</td>\n    </tr>\n    <tr>\n      <th>29296</th>\n      <td>SELECT+%3Fvar1+%0AWHERE+%7B%0A++%3Fvar2++%3Cht...</td>\n      <td>2018-02-13 03:22:27</td>\n      <td>robotic</td>\n      <td>UNKNOWN</td>\n      <td>8</td>\n      <td>0</td>\n      <td>0</td>\n      <td>1</td>\n      <td>0</td>\n      <td>15</td>\n      <td>1</td>\n      <td>0</td>\n      <td>0</td>\n      <td>0</td>\n      <td>1</td>\n      <td>0</td>\n      <td>0</td>\n      <td>0</td>\n      <td>16</td>\n      <td>0</td>\n      <td>0</td>\n      <td>0</td>\n      <td>0</td>\n      <td>0</td>\n      <td>0</td>\n      <td>0</td>\n      <td>0</td>\n      <td>0</td>\n      <td>0</td>\n      <td>0</td>\n      <td>0</td>\n      <td>2</td>\n      <td>0</td>\n      <td>[[\"N815fd22b69cd4a4c901cd0806b1d19c7\", \"http:/...</td>\n      <td>0</td>\n      <td>0</td>\n      <td>0</td>\n      <td>0</td>\n      <td>0</td>\n      <td>2</td>\n      <td>SelectQuery_SelectQuery_{'p': Project_{'p': BG...</td>\n      <td>f52cce33a86bd359c22a3ab23bc70b5c</td>\n      <td>DiGraph with 13 nodes and 14 edges</td>\n      <td>2</td>\n      <td>gASVOwQAAAAAAACMGG5ldHdvcmt4LmNsYXNzZXMuZGlncm...</td>\n      <td>0</td>\n      <td>13</td>\n      <td>14</td>\n      <td>2</td>\n      <td>0</td>\n      <td>2.153846</td>\n      <td>2</td>\n      <td>data/parsed/I6_status500_Joined.parsed.tsv</td>\n      <td>6</td>\n      <td>True</td>\n      <td>False</td>\n      <td>False</td>\n      <td>False</td>\n      <td>True</td>\n      <td>False</td>\n      <td>False</td>\n      <td>False</td>\n      <td>True</td>\n      <td>True</td>\n      <td>True</td>\n      <td>False</td>\n      <td>False</td>\n      <td>False</td>\n      <td>False</td>\n    </tr>\n    <tr>\n      <th>29043</th>\n      <td>SELECT+%3Fvar1+%0AWHERE+%7B%0A++%3Fvar2++%3Cht...</td>\n      <td>2018-02-12 03:02:54</td>\n      <td>robotic</td>\n      <td>UNKNOWN</td>\n      <td>8</td>\n      <td>0</td>\n      <td>0</td>\n      <td>1</td>\n      <td>0</td>\n      <td>15</td>\n      <td>1</td>\n      <td>0</td>\n      <td>0</td>\n      <td>0</td>\n      <td>1</td>\n      <td>0</td>\n      <td>0</td>\n      <td>0</td>\n      <td>16</td>\n      <td>0</td>\n      <td>0</td>\n      <td>0</td>\n      <td>0</td>\n      <td>0</td>\n      <td>0</td>\n      <td>0</td>\n      <td>0</td>\n      <td>0</td>\n      <td>0</td>\n      <td>0</td>\n      <td>0</td>\n      <td>2</td>\n      <td>0</td>\n      <td>[[\"N110d67a091774252b728701a1181e40b\", \"http:/...</td>\n      <td>0</td>\n      <td>0</td>\n      <td>0</td>\n      <td>0</td>\n      <td>0</td>\n      <td>2</td>\n      <td>SelectQuery_SelectQuery_{'p': Project_{'p': BG...</td>\n      <td>e44a329b1d2a52b3c1cc826310df3ede</td>\n      <td>DiGraph with 13 nodes and 14 edges</td>\n      <td>2</td>\n      <td>gASVOwQAAAAAAACMGG5ldHdvcmt4LmNsYXNzZXMuZGlncm...</td>\n      <td>0</td>\n      <td>13</td>\n      <td>14</td>\n      <td>2</td>\n      <td>0</td>\n      <td>2.153846</td>\n      <td>2</td>\n      <td>data/parsed/I6_status500_Joined.parsed.tsv</td>\n      <td>6</td>\n      <td>True</td>\n      <td>False</td>\n      <td>False</td>\n      <td>False</td>\n      <td>True</td>\n      <td>False</td>\n      <td>False</td>\n      <td>False</td>\n      <td>True</td>\n      <td>True</td>\n      <td>True</td>\n      <td>False</td>\n      <td>False</td>\n      <td>False</td>\n      <td>False</td>\n    </tr>\n    <tr>\n      <th>40703</th>\n      <td>SELECT+%3Fvar1+%0AWHERE+%7B%0A++%3Fvar2++%3Cht...</td>\n      <td>2018-03-20 22:01:51</td>\n      <td>robotic</td>\n      <td>UNKNOWN</td>\n      <td>8</td>\n      <td>0</td>\n      <td>0</td>\n      <td>1</td>\n      <td>0</td>\n      <td>15</td>\n      <td>1</td>\n      <td>0</td>\n      <td>0</td>\n      <td>0</td>\n      <td>1</td>\n      <td>0</td>\n      <td>0</td>\n      <td>0</td>\n      <td>16</td>\n      <td>0</td>\n      <td>0</td>\n      <td>0</td>\n      <td>0</td>\n      <td>0</td>\n      <td>0</td>\n      <td>0</td>\n      <td>0</td>\n      <td>0</td>\n      <td>0</td>\n      <td>0</td>\n      <td>0</td>\n      <td>2</td>\n      <td>0</td>\n      <td>[[\"Ne17c41d748354c26a107606d31ff7738\", \"http:/...</td>\n      <td>0</td>\n      <td>0</td>\n      <td>0</td>\n      <td>0</td>\n      <td>0</td>\n      <td>2</td>\n      <td>SelectQuery_SelectQuery_{'p': Project_{'p': BG...</td>\n      <td>d888d5e9e0dde235c99072317ccb5899</td>\n      <td>DiGraph with 13 nodes and 14 edges</td>\n      <td>2</td>\n      <td>gASVOwQAAAAAAACMGG5ldHdvcmt4LmNsYXNzZXMuZGlncm...</td>\n      <td>0</td>\n      <td>13</td>\n      <td>14</td>\n      <td>2</td>\n      <td>0</td>\n      <td>2.153846</td>\n      <td>2</td>\n      <td>data/parsed/I7_status500_Joined.parsed.tsv</td>\n      <td>7</td>\n      <td>True</td>\n      <td>False</td>\n      <td>False</td>\n      <td>False</td>\n      <td>True</td>\n      <td>False</td>\n      <td>False</td>\n      <td>False</td>\n      <td>True</td>\n      <td>True</td>\n      <td>True</td>\n      <td>False</td>\n      <td>False</td>\n      <td>False</td>\n      <td>False</td>\n    </tr>\n    <tr>\n      <th>26280</th>\n      <td>SELECT+%3Fvar1++%3Fvar1Label++%3Fvar2++%3Fvar2...</td>\n      <td>2018-02-01 16:20:43</td>\n      <td>organic</td>\n      <td>browser</td>\n      <td>10</td>\n      <td>0</td>\n      <td>0</td>\n      <td>1</td>\n      <td>0</td>\n      <td>4</td>\n      <td>1</td>\n      <td>0</td>\n      <td>2</td>\n      <td>0</td>\n      <td>5</td>\n      <td>0</td>\n      <td>0</td>\n      <td>0</td>\n      <td>6</td>\n      <td>0</td>\n      <td>0</td>\n      <td>0</td>\n      <td>0</td>\n      <td>0</td>\n      <td>0</td>\n      <td>0</td>\n      <td>0</td>\n      <td>0</td>\n      <td>0</td>\n      <td>0</td>\n      <td>0</td>\n      <td>0</td>\n      <td>0</td>\n      <td>[[\"http://www.wikidata.org/entity/Q37577\", \"va...</td>\n      <td>0</td>\n      <td>0</td>\n      <td>0</td>\n      <td>0</td>\n      <td>0</td>\n      <td>0</td>\n      <td>SelectQuery_SelectQuery_{'p': Project_{'p': Jo...</td>\n      <td>923e5612f1efc94787496bd27e18670d</td>\n      <td>DiGraph with 7 nodes and 7 edges</td>\n      <td>2</td>\n      <td>gASV2AIAAAAAAACMGG5ldHdvcmt4LmNsYXNzZXMuZGlncm...</td>\n      <td>0</td>\n      <td>7</td>\n      <td>7</td>\n      <td>1</td>\n      <td>0</td>\n      <td>2.000000</td>\n      <td>2</td>\n      <td>data/parsed/I6_status500_Joined.parsed.tsv</td>\n      <td>6</td>\n      <td>True</td>\n      <td>False</td>\n      <td>False</td>\n      <td>False</td>\n      <td>True</td>\n      <td>False</td>\n      <td>False</td>\n      <td>False</td>\n      <td>True</td>\n      <td>True</td>\n      <td>True</td>\n      <td>True</td>\n      <td>False</td>\n      <td>False</td>\n      <td>False</td>\n    </tr>\n    <tr>\n      <th>14284</th>\n      <td>SELECT+%3Fvar1++%3Fvar1Label+%0AWHERE+%7B%0A+%...</td>\n      <td>2017-12-07 16:39:51</td>\n      <td>organic</td>\n      <td>browser</td>\n      <td>7</td>\n      <td>0</td>\n      <td>0</td>\n      <td>1</td>\n      <td>0</td>\n      <td>3</td>\n      <td>1</td>\n      <td>0</td>\n      <td>2</td>\n      <td>0</td>\n      <td>5</td>\n      <td>0</td>\n      <td>0</td>\n      <td>0</td>\n      <td>5</td>\n      <td>0</td>\n      <td>0</td>\n      <td>0</td>\n      <td>0</td>\n      <td>0</td>\n      <td>0</td>\n      <td>0</td>\n      <td>0</td>\n      <td>0</td>\n      <td>0</td>\n      <td>0</td>\n      <td>0</td>\n      <td>0</td>\n      <td>0</td>\n      <td>[[\"http://www.wikidata.org/entity/Q37577\", \"va...</td>\n      <td>0</td>\n      <td>0</td>\n      <td>0</td>\n      <td>0</td>\n      <td>0</td>\n      <td>0</td>\n      <td>SelectQuery_SelectQuery_{'p': Project_{'p': Jo...</td>\n      <td>79c5e9c5ad2b66f3ebaeb6fbb3215e85</td>\n      <td>DiGraph with 6 nodes and 6 edges</td>\n      <td>2</td>\n      <td>gASVuAIAAAAAAACMGG5ldHdvcmt4LmNsYXNzZXMuZGlncm...</td>\n      <td>0</td>\n      <td>6</td>\n      <td>6</td>\n      <td>1</td>\n      <td>0</td>\n      <td>2.000000</td>\n      <td>2</td>\n      <td>data/parsed/I4_status500_Joined.parsed.tsv</td>\n      <td>4</td>\n      <td>True</td>\n      <td>False</td>\n      <td>False</td>\n      <td>False</td>\n      <td>True</td>\n      <td>False</td>\n      <td>False</td>\n      <td>False</td>\n      <td>True</td>\n      <td>True</td>\n      <td>True</td>\n      <td>True</td>\n      <td>False</td>\n      <td>False</td>\n      <td>False</td>\n    </tr>\n    <tr>\n      <th>41852</th>\n      <td>SELECT+%3Fvar1+%0AWHERE+%7B%0A++%3Fvar2++%3Cht...</td>\n      <td>2018-03-24 23:20:03</td>\n      <td>robotic</td>\n      <td>UNKNOWN</td>\n      <td>8</td>\n      <td>0</td>\n      <td>0</td>\n      <td>1</td>\n      <td>0</td>\n      <td>15</td>\n      <td>1</td>\n      <td>0</td>\n      <td>0</td>\n      <td>0</td>\n      <td>1</td>\n      <td>0</td>\n      <td>0</td>\n      <td>0</td>\n      <td>16</td>\n      <td>0</td>\n      <td>0</td>\n      <td>0</td>\n      <td>0</td>\n      <td>0</td>\n      <td>0</td>\n      <td>0</td>\n      <td>0</td>\n      <td>0</td>\n      <td>0</td>\n      <td>0</td>\n      <td>0</td>\n      <td>2</td>\n      <td>0</td>\n      <td>[[\"N49fe52511a3744a0a2bfcfa2efdaa28f\", \"http:/...</td>\n      <td>0</td>\n      <td>0</td>\n      <td>0</td>\n      <td>0</td>\n      <td>0</td>\n      <td>2</td>\n      <td>SelectQuery_SelectQuery_{'p': Project_{'p': BG...</td>\n      <td>b7790b5337f9e9e2520c883adefd9977</td>\n      <td>DiGraph with 13 nodes and 14 edges</td>\n      <td>2</td>\n      <td>gASVOwQAAAAAAACMGG5ldHdvcmt4LmNsYXNzZXMuZGlncm...</td>\n      <td>0</td>\n      <td>13</td>\n      <td>14</td>\n      <td>2</td>\n      <td>0</td>\n      <td>2.153846</td>\n      <td>2</td>\n      <td>data/parsed/I7_status500_Joined.parsed.tsv</td>\n      <td>7</td>\n      <td>True</td>\n      <td>False</td>\n      <td>False</td>\n      <td>False</td>\n      <td>True</td>\n      <td>False</td>\n      <td>False</td>\n      <td>False</td>\n      <td>True</td>\n      <td>True</td>\n      <td>True</td>\n      <td>False</td>\n      <td>False</td>\n      <td>False</td>\n      <td>False</td>\n    </tr>\n    <tr>\n      <th>35382</th>\n      <td>SELECT+%3Fvar1+%0AWHERE+%7B%0A++%3Fvar2++%3Cht...</td>\n      <td>2018-03-04 04:11:51</td>\n      <td>robotic</td>\n      <td>UNKNOWN</td>\n      <td>8</td>\n      <td>0</td>\n      <td>0</td>\n      <td>1</td>\n      <td>0</td>\n      <td>15</td>\n      <td>1</td>\n      <td>0</td>\n      <td>0</td>\n      <td>0</td>\n      <td>1</td>\n      <td>0</td>\n      <td>0</td>\n      <td>0</td>\n      <td>16</td>\n      <td>0</td>\n      <td>0</td>\n      <td>0</td>\n      <td>0</td>\n      <td>0</td>\n      <td>0</td>\n      <td>0</td>\n      <td>0</td>\n      <td>0</td>\n      <td>0</td>\n      <td>0</td>\n      <td>0</td>\n      <td>2</td>\n      <td>0</td>\n      <td>[[\"N2e8903f12a484bfca32cee2cc04ae302\", \"http:/...</td>\n      <td>0</td>\n      <td>0</td>\n      <td>0</td>\n      <td>0</td>\n      <td>0</td>\n      <td>2</td>\n      <td>SelectQuery_SelectQuery_{'p': Project_{'p': BG...</td>\n      <td>fa6776046599a98ede370538e4a22498</td>\n      <td>DiGraph with 13 nodes and 14 edges</td>\n      <td>2</td>\n      <td>gASVOwQAAAAAAACMGG5ldHdvcmt4LmNsYXNzZXMuZGlncm...</td>\n      <td>0</td>\n      <td>13</td>\n      <td>14</td>\n      <td>2</td>\n      <td>0</td>\n      <td>2.153846</td>\n      <td>2</td>\n      <td>data/parsed/I7_status500_Joined.parsed.tsv</td>\n      <td>7</td>\n      <td>True</td>\n      <td>False</td>\n      <td>False</td>\n      <td>False</td>\n      <td>True</td>\n      <td>False</td>\n      <td>False</td>\n      <td>False</td>\n      <td>True</td>\n      <td>True</td>\n      <td>True</td>\n      <td>False</td>\n      <td>False</td>\n      <td>False</td>\n      <td>False</td>\n    </tr>\n  </tbody>\n</table>\n</div>"
     },
     "metadata": {}
    }
   ]
  },
  {
   "cell_type": "code",
   "metadata": {
    "cell_id": "909656ff-9050-408d-bff1-7ca1b087fe35",
    "tags": [],
    "deepnote_to_be_reexecuted": false,
    "source_hash": "b623e53d",
    "execution_start": 1646992579403,
    "execution_millis": 1330410,
    "deepnote_cell_type": "code",
    "deepnote_cell_height": 80.60000610351562
   },
   "source": "",
   "execution_count": null,
   "outputs": []
  },
  {
   "cell_type": "code",
   "metadata": {
    "cell_id": "e28c630d-b564-46e6-8cf8-d49fa13c7ea7",
    "tags": [],
    "deepnote_to_be_reexecuted": false,
    "source_hash": "b6fda335",
    "execution_start": 1646992579404,
    "execution_millis": 137,
    "deepnote_cell_type": "code",
    "deepnote_cell_height": 1465,
    "deepnote_output_heights": [
     null,
     304
    ]
   },
   "source": "query = df_nona.sort_values([\"treewidth\"],  ascending=[True]).head(10).iloc[2]\nprint(encoded2raw(query[\"anonymizedQuery\"]))\nG = base64_to_object(query[\"graphDump\"])\npos = nx.spring_layout(G)\nplt.figure()\nnx.draw(\n    G, pos,\n    labels={node: node for node in G.nodes()},\n)\n#nx.draw_networkx_edge_labels(\n#    G, pos,\n#    edge_labels=triples,\n#    font_color='red',\n#    font_size = 8\n#)\nplt.axis('off')\nplt.show()\n\nprint(query)",
   "execution_count": null,
   "outputs": [
    {
     "name": "stdout",
     "text": "SELECT(  REGEX (  \"tt2321566\", \"string1\" )  AS  ?var1  )\nWHERE {\n}\n\n",
     "output_type": "stream"
    },
    {
     "data": {
      "text/plain": "<Figure size 432x288 with 1 Axes>",
      "image/png": "[encoded data removed]"
     },
     "metadata": {
      "image/png": {
       "width": 446,
       "height": 302
      }
     },
     "output_type": "display_data"
    },
    {
     "name": "stdout",
     "text": "anonymizedQuery         SELECT%28++REGEX+%28++%22tt2321566%22%2C+%22st...\ntimestamp                                             2017-08-27 18:28:50\nsourceCategory                                                    robotic\nuser_agent                                                        UNKNOWN\nvar_cpt                                                                 1\nfilter                                                                  0\norderby                                                                 0\nselect                                                                  1\ndistinct                                                                0\njoin                                                                    0\nproject                                                                 1\ntomultiset                                                              0\nunion                                                                   0\nmodify                                                                  0\nbgp                                                                     1\nvalues                                                                  0\ngroupBy                                                                 0\nslice                                                                   0\ntriples                                                                 0\nextend                                                                  1\nfilter_not_exists                                                       0\nleftJoin                                                                0\nminus                                                                   0\nnotexist                                                                0\nsample                                                                  0\ncount                                                                   0\nhaving                                                                  0\npathWithStar                                                            0\npathWithPlus                                                            0\npathWithQuestionMark                                                    0\npathWithInv                                                             0\npathWithSequence                                                        0\npathWithAlternative                                                     0\ntriplesSet                                                             []\nlimit                                                                   0\nlimitValue                                                              0\noffset                                                                  0\noffsetValue                                                             0\ncomplexPathWith                                                         0\nsimplePathWith                                                          0\nalgebraTree             SelectQuery_SelectQuery_{'p': Project_{'p': Ex...\nalgebraTreeMD5                           865fc87e98d9dc43f31a4307e380427d\ngraph                                    DiGraph with 0 nodes and 0 edges\ncycleNumber                                                             0\ngraphDump               gASVGQEAAAAAAACMGG5ldHdvcmt4LmNsYXNzZXMuZGlncm...\nisForest                                                                0\nnumberOfNodes                                                           0\nnumberOfEdges                                                           0\ntreewidth                                                              -1\nisTree                                                                  0\naverageDegree                                                         0.0\nmaxCliqueWeigth                                                         0\nfile_path                      data/parsed/I3_status500_Joined.parsed.tsv\ninterval                                                                3\nhas_variable                                                         True\nhas_filter                                                          False\nhas_orderby                                                         False\nhas_limit                                                           False\nhas_select                                                           True\nhas_distinct                                                        False\nhas_modify                                                          False\nhas_tomultiset                                                      False\nhas_join                                                            False\nhas_bgp                                                              True\nhas_project                                                          True\nhas_union                                                           False\nhas_values                                                          False\nhas_slice                                                           False\nhas_offset                                                          False\nName: 12054, dtype: object\n",
     "output_type": "stream"
    }
   ]
  },
  {
   "cell_type": "markdown",
   "source": "<a style='text-decoration:none;line-height:16px;display:flex;color:#5B5B62;padding:10px;justify-content:end;' href='https://deepnote.com?utm_source=created-in-deepnote-cell&projectId=513ed372-d958-4618-b5dc-4b186f2555bd' target=\"_blank\">\n<img alt='Created in deepnote.com' style='display:inline;max-height:16px;margin:0px;margin-right:7.5px;' src='data:image/svg+xml;base64,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' > </img>\nCreated in <span style='font-weight:600;margin-left:4px;'>Deepnote</span></a>",
   "metadata": {
    "tags": [],
    "created_in_deepnote_cell": true,
    "deepnote_cell_type": "markdown"
   }
  }
 ],
 "nbformat": 4,
 "nbformat_minor": 1,
 "metadata": {
  "kernelspec": {
   "display_name": "Python 3 (ipykernel)",
   "language": "python",
   "name": "python3"
  },
  "language_info": {
   "codemirror_mode": {
    "name": "ipython",
    "version": 3
   },
   "file_extension": ".py",
   "mimetype": "text/x-python",
   "name": "python",
   "nbconvert_exporter": "python",
   "pygments_lexer": "ipython3",
   "version": "3.9.10"
  },
  "deepnote_notebook_id": "03a17b07-2e45-45be-b7c4-81f8d3750a68",
  "deepnote": {},
  "deepnote_execution_queue": []
 }
}