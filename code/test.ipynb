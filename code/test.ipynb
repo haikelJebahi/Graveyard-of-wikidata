{
 "cells": [
  {
   "cell_type": "markdown",
   "source": "Github : https://github.com/haikelJebahi/Graveyard-of-wikidata\nData : https://iccl.inf.tu-dresden.de/web/Wikidata_SPARQL_Logs/en",
   "metadata": {
    "cell_id": "c5b7957c-7220-43e6-a795-480e89cac5ad",
    "deepnote_cell_type": "markdown"
   }
  },
  {
   "cell_type": "code",
   "metadata": {
    "cell_id": "00001-a7fe92c9-2104-42fe-8872-bd412bc1e7eb",
    "deepnote_to_be_reexecuted": false,
    "source_hash": "f1562a4c",
    "execution_start": 1643358153841,
    "execution_millis": 40,
    "deepnote_cell_type": "code"
   },
   "source": "## Imports",
   "execution_count": 1,
   "outputs": []
  },
  {
   "cell_type": "code",
   "metadata": {
    "pycharm": {
     "name": "#%%\n"
    },
    "cell_id": "00002-72b615f0-fec6-47ae-872c-c9f5a09892ac",
    "deepnote_to_be_reexecuted": false,
    "source_hash": "6c5b6349",
    "execution_start": 1643358153881,
    "execution_millis": 293,
    "deepnote_cell_type": "code"
   },
   "source": "import csv\nimport pandas as pd\nfrom urllib.parse import unquote_plus\nfrom pyparsing import ParseException\nfrom rdflib.plugins.sparql.algebra import translateQuery, translateUpdate, pprintAlgebra, traverse\nfrom rdflib.plugins.sparql.parser import parseQuery, parseUpdate\nfrom rdflib.plugins.sparql.operators import Builtin_LANG\nfrom rdflib.plugins.sparql.parserutils import CompValue\nfrom rdflib.term import Variable\nimport re\nfrom pandas import concat",
   "execution_count": 2,
   "outputs": []
  },
  {
   "cell_type": "code",
   "metadata": {
    "cell_id": "00003-c5dc774a-91b0-4740-a198-50acdc7e203a",
    "deepnote_to_be_reexecuted": false,
    "source_hash": "e443484f",
    "execution_start": 1643358154179,
    "execution_millis": 5,
    "deepnote_cell_type": "code"
   },
   "source": "pd.set_option('display.max_rows', 0)\npd.set_option('display.max_columns', 0)\npd.set_option('display.expand_frame_repr', True)\npd.options.display.max_colwidth = 0",
   "execution_count": 3,
   "outputs": []
  },
  {
   "cell_type": "markdown",
   "source": "## Import all CSV as a Panda dataframe",
   "metadata": {
    "cell_id": "00004-d60d0c7e-4b66-4279-b812-f461a0204a8c",
    "deepnote_cell_type": "markdown"
   }
  },
  {
   "cell_type": "code",
   "metadata": {
    "pycharm": {
     "name": "#%%\n"
    },
    "cell_id": "00005-400981c2-f404-48de-a692-246d78613252",
    "deepnote_to_be_reexecuted": false,
    "source_hash": "8e9da3a0",
    "execution_start": 1643358154189,
    "execution_millis": 267,
    "deepnote_cell_type": "code"
   },
   "source": "\ndf = pd.DataFrame()\n\n#for i in range(1,8):\nfor i in range(7,8): #test file 2\n    nom = '../BadRequeteCrypt/I' + str(i) + '_status500_Joined.tsv'\n    tmp_df = pd.read_csv(nom, sep='\\t')\n    tmp_df[\"file_path\"] = nom\n    tmp_df[\"interval\"] = i\n    df = concat([df,tmp_df])\n\n",
   "execution_count": 4,
   "outputs": []
  },
  {
   "cell_type": "code",
   "metadata": {
    "pycharm": {
     "name": "#%%\n"
    },
    "cell_id": "00006-7fd794c6-2b7a-481b-a38a-f64dd8e058c0",
    "deepnote_output_heights": [
     396
    ],
    "deepnote_to_be_reexecuted": false,
    "source_hash": "f804c160",
    "execution_start": 1643358154465,
    "execution_millis": 286,
    "deepnote_table_state": {
     "pageSize": 10,
     "pageIndex": 0,
     "filters": [],
     "sortBy": []
    },
    "deepnote_table_loading": false,
    "deepnote_cell_type": "code"
   },
   "source": "df",
   "execution_count": 5,
   "outputs": [
    {
     "output_type": "execute_result",
     "execution_count": 5,
     "data": {
      "application/vnd.deepnote.dataframe.v3+json": {
       "column_count": 6,
       "row_count": 25667,
       "columns": [
        {
         "name": "anonymizedQuery",
         "dtype": "object",
         "stats": {
          "unique_count": 6989,
          "nan_count": 0,
          "categories": [
           {
            "name": "SELECT+%3Fvar1++%3Fvar2++%3Fvar3+%0AWHERE+%7B%0A++%3Fvar1+%28+%3Chttp%3A%2F%2Fwww.wikidata.org%2Fprop%2Fdirect%2FP31%3E+%2F+%3Chttp%3A%2F%2Fwww.wikidata.org%2Fprop%2Fdirect%2FP279%3E+*%29+%3Chttp%3A%2F%2Fwww.wikidata.org%2Fentity%2FQ1190554%3E+.%0A++%3Fvar1++%3Chttp%3A%2F%2Fwww.wikidata.org%2Fprop%2Fdirect%2FP585%3E++%3Fvar2+.%0A++%3Fvar3++%3Chttp%3A%2F%2Fschema.org%2Fabout%3E++%3Fvar1+.%0A++%3Fvar3++%3Chttp%3A%2F%2Fschema.org%2FisPartOf%3E++%3Chttps%3A%2F%2Fen.wikipedia.org%2F%3E+.%0A+FILTER+%28++%28+%28++DATATYPE+%28++%3Fvar2++%29++%3D++%3Chttp%3A%2F%2Fwww.w3.org%2F2001%2FXMLSchema%23dateTime%3E++%29+%26%26+%28++MONTH+%28++%3Fvar2++%29++%3D++MONTH+%28++NOW+%28++%29++%29++%29+%26%26+%28++DAY+%28++%3Fvar2++%29++%3D++DAY+%28++NOW+%28++%29++%29++%29+%29+%0A%29+.%0A%7D%0AORDER+BY++DESC%28+%3Fvar2+%29%0ALIMIT+5%0A",
            "count": 1181
           },
           {
            "name": "SELECT%28++%3Fvar1++AS++%3Fvar2++%29%0AWHERE+%7B%0A++%3Chttp%3A%2F%2Fwww.wikidata.org%2Fentity%2FQ19253%3E+%28+%3Chttp%3A%2F%2Fwww.wikidata.org%2Fprop%2Fdirect%2FP131%3E+%2F+%3Chttp%3A%2F%2Fwww.wikidata.org%2Fprop%2Fdirect%2FP131%3E+*%29+%3Fvar3+.%0A++%3Fvar3+%28+%3Chttp%3A%2F%2Fwww.wikidata.org%2Fprop%2Fdirect%2FP31%3E+%2F+%3Chttp%3A%2F%2Fwww.wikidata.org%2Fprop%2Fdirect%2FP279%3E+*%29+%3Chttp%3A%2F%2Fwww.wikidata.org%2Fentity%2FQ10864048%3E+.%0A++%3Fvar1+%28+%3Chttp%3A%2F%2Fwww.wikidata.org%2Fprop%2Fdirect%2FP131%3E+%2F+%3Chttp%3A%2F%2Fwww.wikidata.org%2Fprop%2Fdirect%2FP131%3E+*%29+%3Fvar3+.%0A++%3Fvar1+%28+%3Chttp%3A%2F%2Fwww.wikidata.org%2Fprop%2Fdirect%2FP31%3E+%2F+%3Chttp%3A%2F%2Fwww.wikidata.org%2Fprop%2Fdirect%2FP279%3E+*%29+%3Chttp%3A%2F%2Fwww.wikidata.org%2Fentity%2FQ13221722%3E+.%0A+SERVICE++%3Chttp%3A%2F%2Fwikiba.se%2Fontology%23label%3E+++%7B%0A++++%3Chttp%3A%2F%2Fwww.bigdata.com%2Frdf%23serviceParam%3E++%3Chttp%3A%2F%2Fwikiba.se%2Fontology%23language%3E++%22fi%22.%0A++%7D%0A+FILTER+%28++%28++NOT+EXISTS++%7B%0A+++%3Fvar1+%28+%3Chttp%3A%2F%2Fwww.wikidata.org%2Fprop%2Fdirect%2FP31%3E+%2F+%3Chttp%3A%2F%2Fwww.wikidata.org%2Fprop%2Fdirect%2FP279%3E+*%29+%3Chttp%3A%2F%2Fwww.wikidata.org%2Fentity%2FQ19953632%3E+.%0A+%7D%0A+%29+%0A%29+.%0A%7D%0AGROUP+BY++%3Fvar1+%0A",
            "count": 1131
           },
           {
            "name": "6987 others",
            "count": 23355
           }
          ]
         }
        },
        {
         "name": "timestamp",
         "dtype": "object",
         "stats": {
          "unique_count": 22923,
          "nan_count": 0,
          "categories": [
           {
            "name": "2018-03-17 15:57:23",
            "count": 12
           },
           {
            "name": "2018-03-08 09:06:35",
            "count": 11
           },
           {
            "name": "22921 others",
            "count": 25644
           }
          ]
         }
        },
        {
         "name": "sourceCategory",
         "dtype": "object",
         "stats": {
          "unique_count": 2,
          "nan_count": 0,
          "categories": [
           {
            "name": "robotic",
            "count": 17532
           },
           {
            "name": "organic",
            "count": 8135
           }
          ]
         }
        },
        {
         "name": "user_agent",
         "dtype": "object"
        },
        {
         "name": "file_path",
         "dtype": "object"
        },
        {
         "name": "interval",
         "dtype": "int64"
        },
        {
         "name": "_deepnote_index_column",
         "dtype": "int64"
        }
       ],
       "rows": [
        {
         "anonymizedQuery": "SELECT+%3Fvar1++%3Fvar1Label++%3Fvar2++%3Fvar2Label++%3Fvar3++%3Fvar3Label+%0AWHERE+%7B%0A+SERVICE+…",
         "timestamp": "2018-02-26 00:03:29",
         "sourceCategory": "organic",
         "user_agent": "browser",
         "file_path": "../BadRequeteCrypt/I7_status500_Joined.tsv",
         "interval": 7,
         "_deepnote_index_column": 0
        },
        {
         "anonymizedQuery": "SELECT+DISTINCT+%3Fvar1+%0AWHERE+%7B%0A++BIND+%28++%28++NOW+%28++%29+-+%3Fvar2++%29++AS++%3Fvar3+%2…",
         "timestamp": "2018-02-26 00:04:13",
         "sourceCategory": "robotic",
         "user_agent": "UNKNOWN",
         "file_path": "../BadRequeteCrypt/I7_status500_Joined.tsv",
         "interval": 7,
         "_deepnote_index_column": 1
        },
        {
         "anonymizedQuery": "SELECT+%3Fvar1++%3Fvar1Label+%28+COUNT+%28+DISTINCT++%3Fvar2++%29+AS++%3Fvar3++%29%0AWHERE+%7B%0A++…",
         "timestamp": "2018-02-26 00:04:19",
         "sourceCategory": "organic",
         "user_agent": "browser",
         "file_path": "../BadRequeteCrypt/I7_status500_Joined.tsv",
         "interval": 7,
         "_deepnote_index_column": 2
        },
        {
         "anonymizedQuery": "SELECT+%3Fvar1++%3Fvar1Label++%3Fvar2++%3Fvar2Label++%3Fvar3++%3Fvar3Label+%0AWHERE+%7B%0A+SERVICE+…",
         "timestamp": "2018-02-26 00:04:34",
         "sourceCategory": "organic",
         "user_agent": "browser",
         "file_path": "../BadRequeteCrypt/I7_status500_Joined.tsv",
         "interval": 7,
         "_deepnote_index_column": 3
        },
        {
         "anonymizedQuery": "SELECT+%3Fvar1++%3Fvar2++%3Fvar3+%0AWHERE+%7B%0A++%3Fvar1+%28+%3Chttp%3A%2F%2Fwww.wikidata.org%2Fpr…",
         "timestamp": "2018-02-26 00:04:45",
         "sourceCategory": "robotic",
         "user_agent": "UNKNOWN",
         "file_path": "../BadRequeteCrypt/I7_status500_Joined.tsv",
         "interval": 7,
         "_deepnote_index_column": 4
        },
        {
         "anonymizedQuery": "SELECT+DISTINCT+%3Fvar1+%0AWHERE+%7B%0A++BIND+%28++%28++NOW+%28++%29+-+%3Fvar2++%29++AS++%3Fvar3+%2…",
         "timestamp": "2018-02-26 00:06:14",
         "sourceCategory": "robotic",
         "user_agent": "UNKNOWN",
         "file_path": "../BadRequeteCrypt/I7_status500_Joined.tsv",
         "interval": 7,
         "_deepnote_index_column": 5
        },
        {
         "anonymizedQuery": "SELECT+DISTINCT+%3Fvar1Label++%3Fvar2Label++%3Fvar1+%0AWHERE+%7B%0A++%3Fvar1+%28+%3Chttp%3A%2F%2Fww…",
         "timestamp": "2018-02-26 00:06:39",
         "sourceCategory": "organic",
         "user_agent": "browser",
         "file_path": "../BadRequeteCrypt/I7_status500_Joined.tsv",
         "interval": 7,
         "_deepnote_index_column": 6
        },
        {
         "anonymizedQuery": "SELECT+%3Fvar1++%3Fvar2++%3Fvar3+%0AWHERE+%7B%0A++%3Fvar1+%28+%3Chttp%3A%2F%2Fwww.wikidata.org%2Fpr…",
         "timestamp": "2018-02-26 00:06:40",
         "sourceCategory": "robotic",
         "user_agent": "UNKNOWN",
         "file_path": "../BadRequeteCrypt/I7_status500_Joined.tsv",
         "interval": 7,
         "_deepnote_index_column": 7
        },
        {
         "anonymizedQuery": "SELECT+%3Fvar1++%3Fvar2++%3Fvar3+%0AWHERE+%7B%0A++%3Fvar1+%28+%3Chttp%3A%2F%2Fwww.wikidata.org%2Fpr…",
         "timestamp": "2018-02-26 00:09:46",
         "sourceCategory": "robotic",
         "user_agent": "UNKNOWN",
         "file_path": "../BadRequeteCrypt/I7_status500_Joined.tsv",
         "interval": 7,
         "_deepnote_index_column": 8
        },
        {
         "anonymizedQuery": "SELECT+DISTINCT+%3Fvar1+%0AWHERE+%7B%0A+%7B%0A+++%3Fvar1++%3Chttp%3A%2F%2Fwww.wikidata.org%2Fprop%2…",
         "timestamp": "2018-02-26 00:14:22",
         "sourceCategory": "robotic",
         "user_agent": "bot2",
         "file_path": "../BadRequeteCrypt/I7_status500_Joined.tsv",
         "interval": 7,
         "_deepnote_index_column": 9
        }
       ]
      },
      "text/plain": "                                                                                                                                                                                                                                                                                                                                                                                                                                                                                                                                                                                                                                                                                                                                                                                                                                                                                                                                                                                                                                                                                                                                                                                                                                                                                                                                     anonymizedQuery  ... interval\n0      SELECT+%3Fvar1++%3Fvar1Label++%3Fvar2++%3Fvar2Label++%3Fvar3++%3Fvar3Label+%0AWHERE+%7B%0A+SERVICE++%3Chttp%3A%2F%2Fwikiba.se%2Fontology%23label%3E+++%7B%0A++++%3Chttp%3A%2F%2Fwww.bigdata.com%2Frdf%23serviceParam%3E++%3Chttp%3A%2F%2Fwikiba.se%2Fontology%23language%3E++%22en%2Cen%22.%0A++%7D%0A++%3Fvar1++%3Chttp%3A%2F%2Fwww.wikidata.org%2Fprop%2Fdirect%2FP31%3E++%3Chttp%3A%2F%2Fwww.wikidata.org%2Fentity%2FQ215380%3E+.%0A+OPTIONAL+%7B%0A++%3Fvar4++%3Chttp%3A%2F%2Fwww.wikidata.org%2Fprop%2Fdirect%2FP136%3E++%3Fvar2+.%0A+%7D%0A+OPTIONAL+%7B%0A++%3Fvar4++%3Chttp%3A%2F%2Fwww.wikidata.org%2Fprop%2Fdirect%2FP264%3E++%3Fvar3+.%0A+%7D%0A%7D%0ALIMIT+10%0A                                                                                                                                                                                                                                                                                                                                                                                                                                                                                                                                                                                                                                                                   ...  7      \n1      SELECT+DISTINCT+%3Fvar1+%0AWHERE+%7B%0A++BIND+%28++%28++NOW+%28++%29+-+%3Fvar2++%29++AS++%3Fvar3+%29.%0A++%3Fvar1++%3Chttp%3A%2F%2Fwww.wikidata.org%2Fprop%2Fdirect%2FP570%3E++%3Fvar2+.%0A+FILTER+%28++%28+%28++%3Fvar3++%3E%3D+%220%22%5E%5E%3Chttp%3A%2F%2Fwww.w3.org%2F2001%2FXMLSchema%23integer%3E++%29+%26%26+%28++%3Fvar3++%3C%3D+%225%22%5E%5E%3Chttp%3A%2F%2Fwww.w3.org%2F2001%2FXMLSchema%23integer%3E++%29+%29+%0A%29+.%0A++%3Fvar4++%3Chttp%3A%2F%2Fschema.org%2Fabout%3E++%3Fvar1+.%0A++%3Fvar4++%3Chttp%3A%2F%2Fschema.org%2FinLanguage%3E++%22es%22.%0A++%3Fvar4++%3Chttp%3A%2F%2Fschema.org%2FisPartOf%3E++%3Chttps%3A%2F%2Fes.wikipedia.org%2F%3E+.%0A%7D%0A                                                                                                                                                                                                                                                                                                                                                                                                                                                                                                                                                                                                                                                                 ...  7      \n2      SELECT+%3Fvar1++%3Fvar1Label+%28+COUNT+%28+DISTINCT++%3Fvar2++%29+AS++%3Fvar3++%29%0AWHERE+%7B%0A++%3Fvar2++%3Chttp%3A%2F%2Fwww.wikidata.org%2Fprop%2Fdirect%2FP19%3E++%3Fvar1+%3B%0A%28+%3Chttp%3A%2F%2Fwww.wikidata.org%2Fprop%2Fdirect%2FP106%3E+%2F+%3Chttp%3A%2F%2Fwww.wikidata.org%2Fprop%2Fdirect%2FP279%3E+*%29+%3Chttp%3A%2F%2Fwww.wikidata.org%2Fentity%2FQ901%3E+.%0A++%3Fvar1+%28+%3Chttp%3A%2F%2Fwww.wikidata.org%2Fprop%2Fdirect%2FP17%3E+*%2F+%3Chttp%3A%2F%2Fwww.wikidata.org%2Fprop%2Fdirect%2FP30%3E+%29+%3Chttp%3A%2F%2Fwww.wikidata.org%2Fentity%2FQ46%3E+.%0A+SERVICE++%3Chttp%3A%2F%2Fwikiba.se%2Fontology%23label%3E+++%7B%0A++++%3Chttp%3A%2F%2Fwww.bigdata.com%2Frdf%23serviceParam%3E++%3Chttp%3A%2F%2Fwikiba.se%2Fontology%23language%3E++%22en%22.%0A++%7D%0A%7D%0AGROUP+BY++%3Fvar1++%3Fvar1Label+%0AORDER+BY++DESC%28+%3Fvar3+%29%0ALIMIT+10%0A                                                                                                                                                                                                                                                                                                                                                                                                                                                                  ...  7      \n3      SELECT+%3Fvar1++%3Fvar1Label++%3Fvar2++%3Fvar2Label++%3Fvar3++%3Fvar3Label+%0AWHERE+%7B%0A+SERVICE++%3Chttp%3A%2F%2Fwikiba.se%2Fontology%23label%3E+++%7B%0A++++%3Chttp%3A%2F%2Fwww.bigdata.com%2Frdf%23serviceParam%3E++%3Chttp%3A%2F%2Fwikiba.se%2Fontology%23language%3E++%22en%2Cen%22.%0A++%7D%0A++%3Fvar1++%3Chttp%3A%2F%2Fwww.wikidata.org%2Fprop%2Fdirect%2FP31%3E++%3Chttp%3A%2F%2Fwww.wikidata.org%2Fentity%2FQ215380%3E+.%0A+OPTIONAL+%7B%0A++%3Fvar4++%3Chttp%3A%2F%2Fwww.wikidata.org%2Fprop%2Fdirect%2FP136%3E++%3Fvar2+.%0A+%7D%0A+OPTIONAL+%7B%0A++%3Fvar4++%3Chttp%3A%2F%2Fwww.wikidata.org%2Fprop%2Fdirect%2FP264%3E++%3Fvar3+.%0A+%7D%0A%7D%0ALIMIT+10%0A                                                                                                                                                                                                                                                                                                                                                                                                                                                                                                                                                                                                                                                                   ...  7      \n4      SELECT+%3Fvar1++%3Fvar2++%3Fvar3+%0AWHERE+%7B%0A++%3Fvar1+%28+%3Chttp%3A%2F%2Fwww.wikidata.org%2Fprop%2Fdirect%2FP31%3E+%2F+%3Chttp%3A%2F%2Fwww.wikidata.org%2Fprop%2Fdirect%2FP279%3E+*%29+%3Chttp%3A%2F%2Fwww.wikidata.org%2Fentity%2FQ1190554%3E+.%0A++%3Fvar1++%3Chttp%3A%2F%2Fwww.wikidata.org%2Fprop%2Fdirect%2FP585%3E++%3Fvar2+.%0A++%3Fvar3++%3Chttp%3A%2F%2Fschema.org%2Fabout%3E++%3Fvar1+.%0A++%3Fvar3++%3Chttp%3A%2F%2Fschema.org%2FisPartOf%3E++%3Chttps%3A%2F%2Fen.wikipedia.org%2F%3E+.%0A+FILTER+%28++%28+%28++DATATYPE+%28++%3Fvar2++%29++%3D++%3Chttp%3A%2F%2Fwww.w3.org%2F2001%2FXMLSchema%23dateTime%3E++%29+%26%26+%28++MONTH+%28++%3Fvar2++%29++%3D++MONTH+%28++NOW+%28++%29++%29++%29+%26%26+%28++DAY+%28++%3Fvar2++%29++%3D++DAY+%28++NOW+%28++%29++%29++%29+%29+%0A%29+.%0A%7D%0AORDER+BY++DESC%28+%3Fvar2+%29%0ALIMIT+5%0A                                                                                                                                                                                                                                                                                                                                                                                                                                                                                          ...  7      \n5      SELECT+DISTINCT+%3Fvar1+%0AWHERE+%7B%0A++BIND+%28++%28++NOW+%28++%29+-+%3Fvar2++%29++AS++%3Fvar3+%29.%0A++%3Fvar1++%3Chttp%3A%2F%2Fwww.wikidata.org%2Fprop%2Fdirect%2FP570%3E++%3Fvar2+.%0A+FILTER+%28++%28+%28++%3Fvar3++%3E%3D+%220%22%5E%5E%3Chttp%3A%2F%2Fwww.w3.org%2F2001%2FXMLSchema%23integer%3E++%29+%26%26+%28++%3Fvar3++%3C%3D+%225%22%5E%5E%3Chttp%3A%2F%2Fwww.w3.org%2F2001%2FXMLSchema%23integer%3E++%29+%29+%0A%29+.%0A++%3Fvar4++%3Chttp%3A%2F%2Fschema.org%2Fabout%3E++%3Fvar1+.%0A++%3Fvar4++%3Chttp%3A%2F%2Fschema.org%2FinLanguage%3E++%22es%22.%0A++%3Fvar4++%3Chttp%3A%2F%2Fschema.org%2FisPartOf%3E++%3Chttps%3A%2F%2Fes.wikipedia.org%2F%3E+.%0A%7D%0A                                                                                                                                                                                                                                                                                                                                                                                                                                                                                                                                                                                                                                                                 ...  7      \n6      SELECT+DISTINCT+%3Fvar1Label++%3Fvar2Label++%3Fvar1+%0AWHERE+%7B%0A++%3Fvar1+%28+%3Chttp%3A%2F%2Fwww.wikidata.org%2Fprop%2Fdirect%2FP31%3E+%2F+%3Chttp%3A%2F%2Fwww.wikidata.org%2Fprop%2Fdirect%2FP279%3E+*%29+%3Chttp%3A%2F%2Fwww.wikidata.org%2Fentity%2FQ6999%3E+.%0A+OPTIONAL+%7B%0A++%3Fvar1++%3Chttp%3A%2F%2Fwww.wikidata.org%2Fprop%2Fdirect%2FP31%3E++%3Fvar2+.%0A+FILTER+%28++%28+%28++%3Fvar2++%21%3D++%3Chttp%3A%2F%2Fwww.wikidata.org%2Fentity%2FQ6999%3E++%29+%29+%0A%29+.%0A+%7D%0A+SERVICE++%3Chttp%3A%2F%2Fwikiba.se%2Fontology%23label%3E+++%7B%0A++++%3Chttp%3A%2F%2Fwww.bigdata.com%2Frdf%23serviceParam%3E++%3Chttp%3A%2F%2Fwikiba.se%2Fontology%23language%3E++%22en%22.%0A++%7D%0A%7D%0AORDER+BY+ASC%28+%3Fvar2Label+%29ASC%28+%3Fvar1Label+%29%0A                                                                                                                                                                                                                                                                                                                                                                                                                                                                                                                                                                       ...  7      \n7      SELECT+%3Fvar1++%3Fvar2++%3Fvar3+%0AWHERE+%7B%0A++%3Fvar1+%28+%3Chttp%3A%2F%2Fwww.wikidata.org%2Fprop%2Fdirect%2FP31%3E+%2F+%3Chttp%3A%2F%2Fwww.wikidata.org%2Fprop%2Fdirect%2FP279%3E+*%29+%3Chttp%3A%2F%2Fwww.wikidata.org%2Fentity%2FQ1190554%3E+.%0A++%3Fvar1++%3Chttp%3A%2F%2Fwww.wikidata.org%2Fprop%2Fdirect%2FP585%3E++%3Fvar2+.%0A++%3Fvar3++%3Chttp%3A%2F%2Fschema.org%2Fabout%3E++%3Fvar1+.%0A++%3Fvar3++%3Chttp%3A%2F%2Fschema.org%2FisPartOf%3E++%3Chttps%3A%2F%2Fen.wikipedia.org%2F%3E+.%0A+FILTER+%28++%28+%28++DATATYPE+%28++%3Fvar2++%29++%3D++%3Chttp%3A%2F%2Fwww.w3.org%2F2001%2FXMLSchema%23dateTime%3E++%29+%26%26+%28++MONTH+%28++%3Fvar2++%29++%3D++MONTH+%28++NOW+%28++%29++%29++%29+%26%26+%28++DAY+%28++%3Fvar2++%29++%3D++DAY+%28++NOW+%28++%29++%29++%29+%29+%0A%29+.%0A%7D%0AORDER+BY++DESC%28+%3Fvar2+%29%0ALIMIT+5%0A                                                                                                                                                                                                                                                                                                                                                                                                                                                                                          ...  7      \n8      SELECT+%3Fvar1++%3Fvar2++%3Fvar3+%0AWHERE+%7B%0A++%3Fvar1+%28+%3Chttp%3A%2F%2Fwww.wikidata.org%2Fprop%2Fdirect%2FP31%3E+%2F+%3Chttp%3A%2F%2Fwww.wikidata.org%2Fprop%2Fdirect%2FP279%3E+*%29+%3Chttp%3A%2F%2Fwww.wikidata.org%2Fentity%2FQ1190554%3E+.%0A++%3Fvar1++%3Chttp%3A%2F%2Fwww.wikidata.org%2Fprop%2Fdirect%2FP585%3E++%3Fvar2+.%0A++%3Fvar3++%3Chttp%3A%2F%2Fschema.org%2Fabout%3E++%3Fvar1+.%0A++%3Fvar3++%3Chttp%3A%2F%2Fschema.org%2FisPartOf%3E++%3Chttps%3A%2F%2Fen.wikipedia.org%2F%3E+.%0A+FILTER+%28++%28+%28++DATATYPE+%28++%3Fvar2++%29++%3D++%3Chttp%3A%2F%2Fwww.w3.org%2F2001%2FXMLSchema%23dateTime%3E++%29+%26%26+%28++MONTH+%28++%3Fvar2++%29++%3D++MONTH+%28++NOW+%28++%29++%29++%29+%26%26+%28++DAY+%28++%3Fvar2++%29++%3D++DAY+%28++NOW+%28++%29++%29++%29+%29+%0A%29+.%0A%7D%0AORDER+BY++DESC%28+%3Fvar2+%29%0ALIMIT+5%0A                                                                                                                                                                                                                                                                                                                                                                                                                                                                                          ...  7      \n...                                                                                                                                                                                                                                                                                                                                                                                                                                                                                                                                                                                                                                                                                                                                                                                                                                                      ...                                                                                                                                                                                                                                                                                                                                                                                                                                                                                          ... ..      \n25658  SELECT%28++%3Fvar1++AS++%3Fvar2++%29%0AWHERE+%7B%0A++%3Chttp%3A%2F%2Fwww.wikidata.org%2Fentity%2FQ211907%3E+%28+%3Chttp%3A%2F%2Fwww.wikidata.org%2Fprop%2Fdirect%2FP131%3E+%2F+%3Chttp%3A%2F%2Fwww.wikidata.org%2Fprop%2Fdirect%2FP131%3E+*%29+%3Fvar3+.%0A++%3Fvar3+%28+%3Chttp%3A%2F%2Fwww.wikidata.org%2Fprop%2Fdirect%2FP31%3E+%2F+%3Chttp%3A%2F%2Fwww.wikidata.org%2Fprop%2Fdirect%2FP279%3E+*%29+%3Chttp%3A%2F%2Fwww.wikidata.org%2Fentity%2FQ10864048%3E+.%0A++%3Fvar1+%28+%3Chttp%3A%2F%2Fwww.wikidata.org%2Fprop%2Fdirect%2FP131%3E+%2F+%3Chttp%3A%2F%2Fwww.wikidata.org%2Fprop%2Fdirect%2FP131%3E+*%29+%3Fvar3+.%0A++%3Fvar1+%28+%3Chttp%3A%2F%2Fwww.wikidata.org%2Fprop%2Fdirect%2FP31%3E+%2F+%3Chttp%3A%2F%2Fwww.wikidata.org%2Fprop%2Fdirect%2FP279%3E+*%29+%3Chttp%3A%2F%2Fwww.wikidata.org%2Fentity%2FQ13220204%3E+.%0A+SERVICE++%3Chttp%3A%2F%2Fwikiba.se%2Fontology%23label%3E+++%7B%0A++++%3Chttp%3A%2F%2Fwww.bigdata.com%2Frdf%23serviceParam%3E++%3Chttp%3A%2F%2Fwikiba.se%2Fontology%23language%3E++%22fi%22.%0A++%7D%0A+FILTER+%28++%28++NOT+EXISTS++%7B%0A+++%3Fvar1+%28+%3Chttp%3A%2F%2Fwww.wikidata.org%2Fprop%2Fdirect%2FP31%3E+%2F+%3Chttp%3A%2F%2Fwww.wikidata.org%2Fprop%2Fdirect%2FP279%3E+*%29+%3Chttp%3A%2F%2Fwww.wikidata.org%2Fentity%2FQ19953632%3E+.%0A+%7D%0A+%29+%0A%29+.%0A%7D%0AGROUP+BY++%3Fvar1+%0A  ...  7      \n25659  SELECT%28++%3Fvar1++AS++%3Fvar2++%29%0AWHERE+%7B%0A++%3Chttp%3A%2F%2Fwww.wikidata.org%2Fentity%2FQ211907%3E+%28+%3Chttp%3A%2F%2Fwww.wikidata.org%2Fprop%2Fdirect%2FP131%3E+%2F+%3Chttp%3A%2F%2Fwww.wikidata.org%2Fprop%2Fdirect%2FP131%3E+*%29+%3Fvar3+.%0A++%3Fvar3+%28+%3Chttp%3A%2F%2Fwww.wikidata.org%2Fprop%2Fdirect%2FP31%3E+%2F+%3Chttp%3A%2F%2Fwww.wikidata.org%2Fprop%2Fdirect%2FP279%3E+*%29+%3Chttp%3A%2F%2Fwww.wikidata.org%2Fentity%2FQ10864048%3E+.%0A++%3Fvar1+%28+%3Chttp%3A%2F%2Fwww.wikidata.org%2Fprop%2Fdirect%2FP131%3E+%2F+%3Chttp%3A%2F%2Fwww.wikidata.org%2Fprop%2Fdirect%2FP131%3E+*%29+%3Fvar3+.%0A++%3Fvar1+%28+%3Chttp%3A%2F%2Fwww.wikidata.org%2Fprop%2Fdirect%2FP31%3E+%2F+%3Chttp%3A%2F%2Fwww.wikidata.org%2Fprop%2Fdirect%2FP279%3E+*%29+%3Chttp%3A%2F%2Fwww.wikidata.org%2Fentity%2FQ13221722%3E+.%0A+SERVICE++%3Chttp%3A%2F%2Fwikiba.se%2Fontology%23label%3E+++%7B%0A++++%3Chttp%3A%2F%2Fwww.bigdata.com%2Frdf%23serviceParam%3E++%3Chttp%3A%2F%2Fwikiba.se%2Fontology%23language%3E++%22fi%22.%0A++%7D%0A+FILTER+%28++%28++NOT+EXISTS++%7B%0A+++%3Fvar1+%28+%3Chttp%3A%2F%2Fwww.wikidata.org%2Fprop%2Fdirect%2FP31%3E+%2F+%3Chttp%3A%2F%2Fwww.wikidata.org%2Fprop%2Fdirect%2FP279%3E+*%29+%3Chttp%3A%2F%2Fwww.wikidata.org%2Fentity%2FQ19953632%3E+.%0A+%7D%0A+%29+%0A%29+.%0A%7D%0AGROUP+BY++%3Fvar1+%0A  ...  7      \n25660  SELECT%28++%3Fvar1++AS++%3Fvar2++%29%0AWHERE+%7B%0A++%3Chttp%3A%2F%2Fwww.wikidata.org%2Fentity%2FQ211907%3E+%28+%3Chttp%3A%2F%2Fwww.wikidata.org%2Fprop%2Fdirect%2FP131%3E+%2F+%3Chttp%3A%2F%2Fwww.wikidata.org%2Fprop%2Fdirect%2FP131%3E+*%29+%3Fvar3+.%0A++%3Fvar3+%28+%3Chttp%3A%2F%2Fwww.wikidata.org%2Fprop%2Fdirect%2FP31%3E+%2F+%3Chttp%3A%2F%2Fwww.wikidata.org%2Fprop%2Fdirect%2FP279%3E+*%29+%3Chttp%3A%2F%2Fwww.wikidata.org%2Fentity%2FQ10864048%3E+.%0A++%3Fvar1+%28+%3Chttp%3A%2F%2Fwww.wikidata.org%2Fprop%2Fdirect%2FP131%3E+%2F+%3Chttp%3A%2F%2Fwww.wikidata.org%2Fprop%2Fdirect%2FP131%3E+*%29+%3Fvar3+.%0A++%3Fvar1+%28+%3Chttp%3A%2F%2Fwww.wikidata.org%2Fprop%2Fdirect%2FP31%3E+%2F+%3Chttp%3A%2F%2Fwww.wikidata.org%2Fprop%2Fdirect%2FP279%3E+*%29+%3Chttp%3A%2F%2Fwww.wikidata.org%2Fentity%2FQ13221722%3E+.%0A+SERVICE++%3Chttp%3A%2F%2Fwikiba.se%2Fontology%23label%3E+++%7B%0A++++%3Chttp%3A%2F%2Fwww.bigdata.com%2Frdf%23serviceParam%3E++%3Chttp%3A%2F%2Fwikiba.se%2Fontology%23language%3E++%22fi%22.%0A++%7D%0A+FILTER+%28++%28++NOT+EXISTS++%7B%0A+++%3Fvar1+%28+%3Chttp%3A%2F%2Fwww.wikidata.org%2Fprop%2Fdirect%2FP31%3E+%2F+%3Chttp%3A%2F%2Fwww.wikidata.org%2Fprop%2Fdirect%2FP279%3E+*%29+%3Chttp%3A%2F%2Fwww.wikidata.org%2Fentity%2FQ19953632%3E+.%0A+%7D%0A+%29+%0A%29+.%0A%7D%0AGROUP+BY++%3Fvar1+%0A  ...  7      \n25661  SELECT+%3Fvar1++%3Fvar2Label++%3Fvar1Label++%3Fvar3++%3Fvar4++%3Fvar4Label+%0AWHERE+%7B%0A++VALUES+%28++%3Fvar2++%29+%7B%0A+++%28++%3Chttp%3A%2F%2Fwww.wikidata.org%2Fentity%2FQ5608%3E++%29%0A++%7D%0A++%3Fvar1++%3Chttp%3A%2F%2Fwww.wikidata.org%2Fprop%2Fdirect%2FP175%3E++%3Fvar2+.%0A++%3Fvar1++%3Chttp%3A%2F%2Fwww.wikidata.org%2Fprop%2Fdirect%2FP577%3E++%3Fvar3+.%0A+SERVICE++%3Chttp%3A%2F%2Fwikiba.se%2Fontology%23label%3E+++%7B%0A++++%3Chttp%3A%2F%2Fwww.bigdata.com%2Frdf%23serviceParam%3E++%3Chttp%3A%2F%2Fwikiba.se%2Fontology%23language%3E++%22en%22.%0A++%7D%0A+OPTIONAL+%7B%0A++%3Fvar5++%3Chttp%3A%2F%2Fwww.wikidata.org%2Fprop%2Fdirect%2FP136%3E++%3Fvar4+.%0A+%7D%0A%7D%0A                                                                                                                                                                                                                                                                                                                                                                                                                                                                                                                                                                                                                                           ...  7      \n25662  SELECT+%3Fvar1++%3Fvar2+%28++GROUP_CONCAT+%28++DISTINCT++%3Fvar3++%29++AS++%3Fvar4++%29%0AWHERE+%7B%0A++VALUES+%28++%3Fvar5++%29+%7B%0A+++%28++%3Chttp%3A%2F%2Fwww.wikidata.org%2Fentity%2FQ11424%3E++%29%0A+++%28++%3Chttp%3A%2F%2Fwww.wikidata.org%2Fentity%2FQ24862%3E++%29%0A+++%28++%3Chttp%3A%2F%2Fwww.wikidata.org%2Fentity%2FQ506240%3E++%29%0A+++%28++%3Chttp%3A%2F%2Fwww.wikidata.org%2Fentity%2FQ336144%3E++%29%0A++%7D%0A++BIND+%28++%3Chttp%3A%2F%2Fwww.w3.org%2F2001%2FXMLSchema%23integer%3E++%28+STRAFTER+%28++STR+%28++%3Fvar1++%29+%2C+%22Q%22+%29+%29++AS++%3Fvar2+%29.%0A++%3Fvar1++%3Chttp%3A%2F%2Fwww.wikidata.org%2Fprop%2Fdirect%2FP31%3E++%3Fvar5+.%0A+FILTER+%28++%28+%28++%3Fvar2++%3E+%2228090000%22%5E%5E%3Chttp%3A%2F%2Fwww.w3.org%2F2001%2FXMLSchema%23integer%3E++%29+%29+%0A%29+.%0A+OPTIONAL+%7B%0A++BIND+%28++CONCAT+%28++%22%5B%22%2C+STR+%28++%3Fvar6++%29+%2C+%22+%22%2C+%3Fvar7+%2C+%22%5D%22+%29++AS++%3Fvar3+%29.%0A++%3Fvar6++%3Chttp%3A%2F%2Fschema.org%2Fabout%3E++%3Fvar1+%3B%0A+%3Chttp%3A%2F%2Fschema.org%2FinLanguage%3E++%3Fvar7+.%0A+%7D%0A%7D%0AGROUP+BY++%3Fvar1++%3Fvar2+%0AORDER+BY++DESC%28+%3Fvar2+%29%0ALIMIT+500%0A                                                                                                                                                                  ...  7      \n25663  SELECT+%3Fvar1+%0AWHERE+%7B%0A++%3Fvar1++%3Chttp%3A%2F%2Fwww.wikidata.org%2Fprop%2Fdirect%2FP345%3E++%3Fvar2+.%0A+FILTER+%28++%28++CONTAINS+%28++LCASE+%28++%3Fvar2++%29+%2C+%22nm1599776%22+%29++%29+%0A%29+.%0A+SERVICE++%3Chttp%3A%2F%2Fwikiba.se%2Fontology%23label%3E+++%7B%0A++++%3Chttp%3A%2F%2Fwww.bigdata.com%2Frdf%23serviceParam%3E++%3Chttp%3A%2F%2Fwikiba.se%2Fontology%23language%3E++%22en%22.%0A++%7D%0A%7D%0ALIMIT+1%0A                                                                                                                                                                                                                                                                                                                                                                                                                                                                                                                                                                                                                                                                                                                                                                                                                                                                                                       ...  7      \n25664  SELECT+*%0AWHERE+%7B%0A++%3Fvar1++%3Chttp%3A%2F%2Fwww.wikidata.org%2Fprop%2Fdirect%2FP345%3E++%3Fvar2+.%0A+FILTER+%28++%28+%28++%3Fvar2++%3D++%22tt6483832%22+%29+%29+%0A%29+.%0A++%3Fvar3++%3Chttp%3A%2F%2Fschema.org%2Fabout%3E++%3Fvar1+%3B%0A+%3Chttp%3A%2F%2Fschema.org%2FinLanguage%3E++%22en%22%3B%0A+%3Chttp%3A%2F%2Fschema.org%2FisPartOf%3E++%3Chttps%3A%2F%2Fen.wikipedia.org%2F%3E+.%0A%7D%0A                                                                                                                                                                                                                                                                                                                                                                                                                                                                                                                                                                                                                                                                                                                                                                                                                                                                                                                                      ...  7      \n25665  SELECT+DISTINCT+%3Fvar1++%3Fvar2+%0AWHERE+%7B%0A++%3Fvar1++%3Chttp%3A%2F%2Fwww.wikidata.org%2Fprop%2Fdirect%2FP31%3E++%3Chttp%3A%2F%2Fwww.wikidata.org%2Fentity%2FQ13442814%3E+.%0A++%3Fvar1++%3Chttp%3A%2F%2Fwww.wikidata.org%2Fprop%2Fdirect%2FP356%3E++%3Fvar2+.%0A++%3Fvar1++%3Chttp%3A%2F%2Fwww.wikidata.org%2Fprop%2Fdirect%2FP50%3E++%3Fvar3+.%0A++%3Fvar3++%3Chttp%3A%2F%2Fwww.wikidata.org%2Fprop%2Fdirect%2FP31%3E++%3Chttp%3A%2F%2Fwww.wikidata.org%2Fentity%2FQ5%3E+.%0A++MINUS+++%7B%0A++++%3Fvar3++%3Chttp%3A%2F%2Fwww.wikidata.org%2Fprop%2Fdirect%2FP496%3E++%5B%5D+.%0A++%7D%0A++MINUS+++%7B%0A++++%3Fvar3++%3Chttp%3A%2F%2Fwww.wikidata.org%2Fprop%2Fdirect%2FP570%3E++%5B%5D+.%0A++%7D%0A%7D%0AORDER+BY+ASC%28+RAND+%28++%29+%29%0ALIMIT+2000%0A                                                                                                                                                                                                                                                                                                                                                                                                                                                                                                                                                                            ...  7      \n25666  SELECT+%3Fvar1++%3Fvar2++%3Fvar3+%28++IF+%28+%28++%3Fvar3++%3E+%2211%22%5E%5E%3Chttp%3A%2F%2Fwww.w3.org%2F2001%2FXMLSchema%23integer%3E++%29%2C+%22string1%22%2C+%22string2%22+%29++AS++%3Fvar4++%29%0AWHERE+%7B%0A++%3Fvar1++%3Chttp%3A%2F%2Fwikiba.se%2Fontology%23sitelinks%3E++%3Fvar2+%3B%0A+%3Chttp%3A%2F%2Fwikiba.se%2Fontology%23statements%3E++%3Fvar3+.%0A+FILTER+%28++%28+%28++%3Fvar2++%3E+%22180%22%5E%5E%3Chttp%3A%2F%2Fwww.w3.org%2F2001%2FXMLSchema%23integer%3E++%29+%29+%0A%29+.%0A%7D%0AORDER+BY++DESC%28+%3Fvar2+%29%0ALIMIT+1000%0A                                                                                                                                                                                                                                                                                                                                                                                                                                                                                                                                                                                                                                                                                                                                                                                       ...  7      \n\n[25667 rows x 6 columns]",
      "text/html": "<div>\n<style scoped>\n    .dataframe tbody tr th:only-of-type {\n        vertical-align: middle;\n    }\n\n    .dataframe tbody tr th {\n        vertical-align: top;\n    }\n\n    .dataframe thead th {\n        text-align: right;\n    }\n</style>\n<table border=\"1\" class=\"dataframe\">\n  <thead>\n    <tr style=\"text-align: right;\">\n      <th></th>\n      <th>anonymizedQuery</th>\n      <th>timestamp</th>\n      <th>sourceCategory</th>\n      <th>user_agent</th>\n      <th>file_path</th>\n      <th>interval</th>\n    </tr>\n  </thead>\n  <tbody>\n    <tr>\n      <th>0</th>\n      <td>SELECT+%3Fvar1++%3Fvar1Label++%3Fvar2++%3Fvar2Label++%3Fvar3++%3Fvar3Label+%0AWHERE+%7B%0A+SERVICE++%3Chttp%3A%2F%2Fwikiba.se%2Fontology%23label%3E+++%7B%0A++++%3Chttp%3A%2F%2Fwww.bigdata.com%2Frdf%23serviceParam%3E++%3Chttp%3A%2F%2Fwikiba.se%2Fontology%23language%3E++%22en%2Cen%22.%0A++%7D%0A++%3Fvar1++%3Chttp%3A%2F%2Fwww.wikidata.org%2Fprop%2Fdirect%2FP31%3E++%3Chttp%3A%2F%2Fwww.wikidata.org%2Fentity%2FQ215380%3E+.%0A+OPTIONAL+%7B%0A++%3Fvar4++%3Chttp%3A%2F%2Fwww.wikidata.org%2Fprop%2Fdirect%2FP136%3E++%3Fvar2+.%0A+%7D%0A+OPTIONAL+%7B%0A++%3Fvar4++%3Chttp%3A%2F%2Fwww.wikidata.org%2Fprop%2Fdirect%2FP264%3E++%3Fvar3+.%0A+%7D%0A%7D%0ALIMIT+10%0A</td>\n      <td>2018-02-26 00:03:29</td>\n      <td>organic</td>\n      <td>browser</td>\n      <td>../BadRequeteCrypt/I7_status500_Joined.tsv</td>\n      <td>7</td>\n    </tr>\n    <tr>\n      <th>1</th>\n      <td>SELECT+DISTINCT+%3Fvar1+%0AWHERE+%7B%0A++BIND+%28++%28++NOW+%28++%29+-+%3Fvar2++%29++AS++%3Fvar3+%29.%0A++%3Fvar1++%3Chttp%3A%2F%2Fwww.wikidata.org%2Fprop%2Fdirect%2FP570%3E++%3Fvar2+.%0A+FILTER+%28++%28+%28++%3Fvar3++%3E%3D+%220%22%5E%5E%3Chttp%3A%2F%2Fwww.w3.org%2F2001%2FXMLSchema%23integer%3E++%29+%26%26+%28++%3Fvar3++%3C%3D+%225%22%5E%5E%3Chttp%3A%2F%2Fwww.w3.org%2F2001%2FXMLSchema%23integer%3E++%29+%29+%0A%29+.%0A++%3Fvar4++%3Chttp%3A%2F%2Fschema.org%2Fabout%3E++%3Fvar1+.%0A++%3Fvar4++%3Chttp%3A%2F%2Fschema.org%2FinLanguage%3E++%22es%22.%0A++%3Fvar4++%3Chttp%3A%2F%2Fschema.org%2FisPartOf%3E++%3Chttps%3A%2F%2Fes.wikipedia.org%2F%3E+.%0A%7D%0A</td>\n      <td>2018-02-26 00:04:13</td>\n      <td>robotic</td>\n      <td>UNKNOWN</td>\n      <td>../BadRequeteCrypt/I7_status500_Joined.tsv</td>\n      <td>7</td>\n    </tr>\n    <tr>\n      <th>2</th>\n      <td>SELECT+%3Fvar1++%3Fvar1Label+%28+COUNT+%28+DISTINCT++%3Fvar2++%29+AS++%3Fvar3++%29%0AWHERE+%7B%0A++%3Fvar2++%3Chttp%3A%2F%2Fwww.wikidata.org%2Fprop%2Fdirect%2FP19%3E++%3Fvar1+%3B%0A%28+%3Chttp%3A%2F%2Fwww.wikidata.org%2Fprop%2Fdirect%2FP106%3E+%2F+%3Chttp%3A%2F%2Fwww.wikidata.org%2Fprop%2Fdirect%2FP279%3E+*%29+%3Chttp%3A%2F%2Fwww.wikidata.org%2Fentity%2FQ901%3E+.%0A++%3Fvar1+%28+%3Chttp%3A%2F%2Fwww.wikidata.org%2Fprop%2Fdirect%2FP17%3E+*%2F+%3Chttp%3A%2F%2Fwww.wikidata.org%2Fprop%2Fdirect%2FP30%3E+%29+%3Chttp%3A%2F%2Fwww.wikidata.org%2Fentity%2FQ46%3E+.%0A+SERVICE++%3Chttp%3A%2F%2Fwikiba.se%2Fontology%23label%3E+++%7B%0A++++%3Chttp%3A%2F%2Fwww.bigdata.com%2Frdf%23serviceParam%3E++%3Chttp%3A%2F%2Fwikiba.se%2Fontology%23language%3E++%22en%22.%0A++%7D%0A%7D%0AGROUP+BY++%3Fvar1++%3Fvar1Label+%0AORDER+BY++DESC%28+%3Fvar3+%29%0ALIMIT+10%0A</td>\n      <td>2018-02-26 00:04:19</td>\n      <td>organic</td>\n      <td>browser</td>\n      <td>../BadRequeteCrypt/I7_status500_Joined.tsv</td>\n      <td>7</td>\n    </tr>\n    <tr>\n      <th>3</th>\n      <td>SELECT+%3Fvar1++%3Fvar1Label++%3Fvar2++%3Fvar2Label++%3Fvar3++%3Fvar3Label+%0AWHERE+%7B%0A+SERVICE++%3Chttp%3A%2F%2Fwikiba.se%2Fontology%23label%3E+++%7B%0A++++%3Chttp%3A%2F%2Fwww.bigdata.com%2Frdf%23serviceParam%3E++%3Chttp%3A%2F%2Fwikiba.se%2Fontology%23language%3E++%22en%2Cen%22.%0A++%7D%0A++%3Fvar1++%3Chttp%3A%2F%2Fwww.wikidata.org%2Fprop%2Fdirect%2FP31%3E++%3Chttp%3A%2F%2Fwww.wikidata.org%2Fentity%2FQ215380%3E+.%0A+OPTIONAL+%7B%0A++%3Fvar4++%3Chttp%3A%2F%2Fwww.wikidata.org%2Fprop%2Fdirect%2FP136%3E++%3Fvar2+.%0A+%7D%0A+OPTIONAL+%7B%0A++%3Fvar4++%3Chttp%3A%2F%2Fwww.wikidata.org%2Fprop%2Fdirect%2FP264%3E++%3Fvar3+.%0A+%7D%0A%7D%0ALIMIT+10%0A</td>\n      <td>2018-02-26 00:04:34</td>\n      <td>organic</td>\n      <td>browser</td>\n      <td>../BadRequeteCrypt/I7_status500_Joined.tsv</td>\n      <td>7</td>\n    </tr>\n    <tr>\n      <th>4</th>\n      <td>SELECT+%3Fvar1++%3Fvar2++%3Fvar3+%0AWHERE+%7B%0A++%3Fvar1+%28+%3Chttp%3A%2F%2Fwww.wikidata.org%2Fprop%2Fdirect%2FP31%3E+%2F+%3Chttp%3A%2F%2Fwww.wikidata.org%2Fprop%2Fdirect%2FP279%3E+*%29+%3Chttp%3A%2F%2Fwww.wikidata.org%2Fentity%2FQ1190554%3E+.%0A++%3Fvar1++%3Chttp%3A%2F%2Fwww.wikidata.org%2Fprop%2Fdirect%2FP585%3E++%3Fvar2+.%0A++%3Fvar3++%3Chttp%3A%2F%2Fschema.org%2Fabout%3E++%3Fvar1+.%0A++%3Fvar3++%3Chttp%3A%2F%2Fschema.org%2FisPartOf%3E++%3Chttps%3A%2F%2Fen.wikipedia.org%2F%3E+.%0A+FILTER+%28++%28+%28++DATATYPE+%28++%3Fvar2++%29++%3D++%3Chttp%3A%2F%2Fwww.w3.org%2F2001%2FXMLSchema%23dateTime%3E++%29+%26%26+%28++MONTH+%28++%3Fvar2++%29++%3D++MONTH+%28++NOW+%28++%29++%29++%29+%26%26+%28++DAY+%28++%3Fvar2++%29++%3D++DAY+%28++NOW+%28++%29++%29++%29+%29+%0A%29+.%0A%7D%0AORDER+BY++DESC%28+%3Fvar2+%29%0ALIMIT+5%0A</td>\n      <td>2018-02-26 00:04:45</td>\n      <td>robotic</td>\n      <td>UNKNOWN</td>\n      <td>../BadRequeteCrypt/I7_status500_Joined.tsv</td>\n      <td>7</td>\n    </tr>\n    <tr>\n      <th>5</th>\n      <td>SELECT+DISTINCT+%3Fvar1+%0AWHERE+%7B%0A++BIND+%28++%28++NOW+%28++%29+-+%3Fvar2++%29++AS++%3Fvar3+%29.%0A++%3Fvar1++%3Chttp%3A%2F%2Fwww.wikidata.org%2Fprop%2Fdirect%2FP570%3E++%3Fvar2+.%0A+FILTER+%28++%28+%28++%3Fvar3++%3E%3D+%220%22%5E%5E%3Chttp%3A%2F%2Fwww.w3.org%2F2001%2FXMLSchema%23integer%3E++%29+%26%26+%28++%3Fvar3++%3C%3D+%225%22%5E%5E%3Chttp%3A%2F%2Fwww.w3.org%2F2001%2FXMLSchema%23integer%3E++%29+%29+%0A%29+.%0A++%3Fvar4++%3Chttp%3A%2F%2Fschema.org%2Fabout%3E++%3Fvar1+.%0A++%3Fvar4++%3Chttp%3A%2F%2Fschema.org%2FinLanguage%3E++%22es%22.%0A++%3Fvar4++%3Chttp%3A%2F%2Fschema.org%2FisPartOf%3E++%3Chttps%3A%2F%2Fes.wikipedia.org%2F%3E+.%0A%7D%0A</td>\n      <td>2018-02-26 00:06:14</td>\n      <td>robotic</td>\n      <td>UNKNOWN</td>\n      <td>../BadRequeteCrypt/I7_status500_Joined.tsv</td>\n      <td>7</td>\n    </tr>\n    <tr>\n      <th>6</th>\n      <td>SELECT+DISTINCT+%3Fvar1Label++%3Fvar2Label++%3Fvar1+%0AWHERE+%7B%0A++%3Fvar1+%28+%3Chttp%3A%2F%2Fwww.wikidata.org%2Fprop%2Fdirect%2FP31%3E+%2F+%3Chttp%3A%2F%2Fwww.wikidata.org%2Fprop%2Fdirect%2FP279%3E+*%29+%3Chttp%3A%2F%2Fwww.wikidata.org%2Fentity%2FQ6999%3E+.%0A+OPTIONAL+%7B%0A++%3Fvar1++%3Chttp%3A%2F%2Fwww.wikidata.org%2Fprop%2Fdirect%2FP31%3E++%3Fvar2+.%0A+FILTER+%28++%28+%28++%3Fvar2++%21%3D++%3Chttp%3A%2F%2Fwww.wikidata.org%2Fentity%2FQ6999%3E++%29+%29+%0A%29+.%0A+%7D%0A+SERVICE++%3Chttp%3A%2F%2Fwikiba.se%2Fontology%23label%3E+++%7B%0A++++%3Chttp%3A%2F%2Fwww.bigdata.com%2Frdf%23serviceParam%3E++%3Chttp%3A%2F%2Fwikiba.se%2Fontology%23language%3E++%22en%22.%0A++%7D%0A%7D%0AORDER+BY+ASC%28+%3Fvar2Label+%29ASC%28+%3Fvar1Label+%29%0A</td>\n      <td>2018-02-26 00:06:39</td>\n      <td>organic</td>\n      <td>browser</td>\n      <td>../BadRequeteCrypt/I7_status500_Joined.tsv</td>\n      <td>7</td>\n    </tr>\n    <tr>\n      <th>7</th>\n      <td>SELECT+%3Fvar1++%3Fvar2++%3Fvar3+%0AWHERE+%7B%0A++%3Fvar1+%28+%3Chttp%3A%2F%2Fwww.wikidata.org%2Fprop%2Fdirect%2FP31%3E+%2F+%3Chttp%3A%2F%2Fwww.wikidata.org%2Fprop%2Fdirect%2FP279%3E+*%29+%3Chttp%3A%2F%2Fwww.wikidata.org%2Fentity%2FQ1190554%3E+.%0A++%3Fvar1++%3Chttp%3A%2F%2Fwww.wikidata.org%2Fprop%2Fdirect%2FP585%3E++%3Fvar2+.%0A++%3Fvar3++%3Chttp%3A%2F%2Fschema.org%2Fabout%3E++%3Fvar1+.%0A++%3Fvar3++%3Chttp%3A%2F%2Fschema.org%2FisPartOf%3E++%3Chttps%3A%2F%2Fen.wikipedia.org%2F%3E+.%0A+FILTER+%28++%28+%28++DATATYPE+%28++%3Fvar2++%29++%3D++%3Chttp%3A%2F%2Fwww.w3.org%2F2001%2FXMLSchema%23dateTime%3E++%29+%26%26+%28++MONTH+%28++%3Fvar2++%29++%3D++MONTH+%28++NOW+%28++%29++%29++%29+%26%26+%28++DAY+%28++%3Fvar2++%29++%3D++DAY+%28++NOW+%28++%29++%29++%29+%29+%0A%29+.%0A%7D%0AORDER+BY++DESC%28+%3Fvar2+%29%0ALIMIT+5%0A</td>\n      <td>2018-02-26 00:06:40</td>\n      <td>robotic</td>\n      <td>UNKNOWN</td>\n      <td>../BadRequeteCrypt/I7_status500_Joined.tsv</td>\n      <td>7</td>\n    </tr>\n    <tr>\n      <th>8</th>\n      <td>SELECT+%3Fvar1++%3Fvar2++%3Fvar3+%0AWHERE+%7B%0A++%3Fvar1+%28+%3Chttp%3A%2F%2Fwww.wikidata.org%2Fprop%2Fdirect%2FP31%3E+%2F+%3Chttp%3A%2F%2Fwww.wikidata.org%2Fprop%2Fdirect%2FP279%3E+*%29+%3Chttp%3A%2F%2Fwww.wikidata.org%2Fentity%2FQ1190554%3E+.%0A++%3Fvar1++%3Chttp%3A%2F%2Fwww.wikidata.org%2Fprop%2Fdirect%2FP585%3E++%3Fvar2+.%0A++%3Fvar3++%3Chttp%3A%2F%2Fschema.org%2Fabout%3E++%3Fvar1+.%0A++%3Fvar3++%3Chttp%3A%2F%2Fschema.org%2FisPartOf%3E++%3Chttps%3A%2F%2Fen.wikipedia.org%2F%3E+.%0A+FILTER+%28++%28+%28++DATATYPE+%28++%3Fvar2++%29++%3D++%3Chttp%3A%2F%2Fwww.w3.org%2F2001%2FXMLSchema%23dateTime%3E++%29+%26%26+%28++MONTH+%28++%3Fvar2++%29++%3D++MONTH+%28++NOW+%28++%29++%29++%29+%26%26+%28++DAY+%28++%3Fvar2++%29++%3D++DAY+%28++NOW+%28++%29++%29++%29+%29+%0A%29+.%0A%7D%0AORDER+BY++DESC%28+%3Fvar2+%29%0ALIMIT+5%0A</td>\n      <td>2018-02-26 00:09:46</td>\n      <td>robotic</td>\n      <td>UNKNOWN</td>\n      <td>../BadRequeteCrypt/I7_status500_Joined.tsv</td>\n      <td>7</td>\n    </tr>\n    <tr>\n      <th>...</th>\n      <td>...</td>\n      <td>...</td>\n      <td>...</td>\n      <td>...</td>\n      <td>...</td>\n      <td>...</td>\n    </tr>\n    <tr>\n      <th>25658</th>\n      <td>SELECT%28++%3Fvar1++AS++%3Fvar2++%29%0AWHERE+%7B%0A++%3Chttp%3A%2F%2Fwww.wikidata.org%2Fentity%2FQ211907%3E+%28+%3Chttp%3A%2F%2Fwww.wikidata.org%2Fprop%2Fdirect%2FP131%3E+%2F+%3Chttp%3A%2F%2Fwww.wikidata.org%2Fprop%2Fdirect%2FP131%3E+*%29+%3Fvar3+.%0A++%3Fvar3+%28+%3Chttp%3A%2F%2Fwww.wikidata.org%2Fprop%2Fdirect%2FP31%3E+%2F+%3Chttp%3A%2F%2Fwww.wikidata.org%2Fprop%2Fdirect%2FP279%3E+*%29+%3Chttp%3A%2F%2Fwww.wikidata.org%2Fentity%2FQ10864048%3E+.%0A++%3Fvar1+%28+%3Chttp%3A%2F%2Fwww.wikidata.org%2Fprop%2Fdirect%2FP131%3E+%2F+%3Chttp%3A%2F%2Fwww.wikidata.org%2Fprop%2Fdirect%2FP131%3E+*%29+%3Fvar3+.%0A++%3Fvar1+%28+%3Chttp%3A%2F%2Fwww.wikidata.org%2Fprop%2Fdirect%2FP31%3E+%2F+%3Chttp%3A%2F%2Fwww.wikidata.org%2Fprop%2Fdirect%2FP279%3E+*%29+%3Chttp%3A%2F%2Fwww.wikidata.org%2Fentity%2FQ13220204%3E+.%0A+SERVICE++%3Chttp%3A%2F%2Fwikiba.se%2Fontology%23label%3E+++%7B%0A++++%3Chttp%3A%2F%2Fwww.bigdata.com%2Frdf%23serviceParam%3E++%3Chttp%3A%2F%2Fwikiba.se%2Fontology%23language%3E++%22fi%22.%0A++%7D%0A+FILTER+%28++%28++NOT+EXISTS++%7B%0A+++%3Fvar1+%28+%3Chttp%3A%2F%2Fwww.wikidata.org%2Fprop%2Fdirect%2FP31%3E+%2F+%3Chttp%3A%2F%2Fwww.wikidata.org%2Fprop%2Fdirect%2FP279%3E+*%29+%3Chttp%3A%2F%2Fwww.wikidata.org%2Fentity%2FQ19953632%3E+.%0A+%7D%0A+%29+%0A%29+.%0A%7D%0AGROUP+BY++%3Fvar1+%0A</td>\n      <td>2018-03-25 23:32:09</td>\n      <td>robotic</td>\n      <td>UNKNOWN</td>\n      <td>../BadRequeteCrypt/I7_status500_Joined.tsv</td>\n      <td>7</td>\n    </tr>\n    <tr>\n      <th>25659</th>\n      <td>SELECT%28++%3Fvar1++AS++%3Fvar2++%29%0AWHERE+%7B%0A++%3Chttp%3A%2F%2Fwww.wikidata.org%2Fentity%2FQ211907%3E+%28+%3Chttp%3A%2F%2Fwww.wikidata.org%2Fprop%2Fdirect%2FP131%3E+%2F+%3Chttp%3A%2F%2Fwww.wikidata.org%2Fprop%2Fdirect%2FP131%3E+*%29+%3Fvar3+.%0A++%3Fvar3+%28+%3Chttp%3A%2F%2Fwww.wikidata.org%2Fprop%2Fdirect%2FP31%3E+%2F+%3Chttp%3A%2F%2Fwww.wikidata.org%2Fprop%2Fdirect%2FP279%3E+*%29+%3Chttp%3A%2F%2Fwww.wikidata.org%2Fentity%2FQ10864048%3E+.%0A++%3Fvar1+%28+%3Chttp%3A%2F%2Fwww.wikidata.org%2Fprop%2Fdirect%2FP131%3E+%2F+%3Chttp%3A%2F%2Fwww.wikidata.org%2Fprop%2Fdirect%2FP131%3E+*%29+%3Fvar3+.%0A++%3Fvar1+%28+%3Chttp%3A%2F%2Fwww.wikidata.org%2Fprop%2Fdirect%2FP31%3E+%2F+%3Chttp%3A%2F%2Fwww.wikidata.org%2Fprop%2Fdirect%2FP279%3E+*%29+%3Chttp%3A%2F%2Fwww.wikidata.org%2Fentity%2FQ13221722%3E+.%0A+SERVICE++%3Chttp%3A%2F%2Fwikiba.se%2Fontology%23label%3E+++%7B%0A++++%3Chttp%3A%2F%2Fwww.bigdata.com%2Frdf%23serviceParam%3E++%3Chttp%3A%2F%2Fwikiba.se%2Fontology%23language%3E++%22fi%22.%0A++%7D%0A+FILTER+%28++%28++NOT+EXISTS++%7B%0A+++%3Fvar1+%28+%3Chttp%3A%2F%2Fwww.wikidata.org%2Fprop%2Fdirect%2FP31%3E+%2F+%3Chttp%3A%2F%2Fwww.wikidata.org%2Fprop%2Fdirect%2FP279%3E+*%29+%3Chttp%3A%2F%2Fwww.wikidata.org%2Fentity%2FQ19953632%3E+.%0A+%7D%0A+%29+%0A%29+.%0A%7D%0AGROUP+BY++%3Fvar1+%0A</td>\n      <td>2018-03-25 23:32:09</td>\n      <td>robotic</td>\n      <td>UNKNOWN</td>\n      <td>../BadRequeteCrypt/I7_status500_Joined.tsv</td>\n      <td>7</td>\n    </tr>\n    <tr>\n      <th>25660</th>\n      <td>SELECT%28++%3Fvar1++AS++%3Fvar2++%29%0AWHERE+%7B%0A++%3Chttp%3A%2F%2Fwww.wikidata.org%2Fentity%2FQ211907%3E+%28+%3Chttp%3A%2F%2Fwww.wikidata.org%2Fprop%2Fdirect%2FP131%3E+%2F+%3Chttp%3A%2F%2Fwww.wikidata.org%2Fprop%2Fdirect%2FP131%3E+*%29+%3Fvar3+.%0A++%3Fvar3+%28+%3Chttp%3A%2F%2Fwww.wikidata.org%2Fprop%2Fdirect%2FP31%3E+%2F+%3Chttp%3A%2F%2Fwww.wikidata.org%2Fprop%2Fdirect%2FP279%3E+*%29+%3Chttp%3A%2F%2Fwww.wikidata.org%2Fentity%2FQ10864048%3E+.%0A++%3Fvar1+%28+%3Chttp%3A%2F%2Fwww.wikidata.org%2Fprop%2Fdirect%2FP131%3E+%2F+%3Chttp%3A%2F%2Fwww.wikidata.org%2Fprop%2Fdirect%2FP131%3E+*%29+%3Fvar3+.%0A++%3Fvar1+%28+%3Chttp%3A%2F%2Fwww.wikidata.org%2Fprop%2Fdirect%2FP31%3E+%2F+%3Chttp%3A%2F%2Fwww.wikidata.org%2Fprop%2Fdirect%2FP279%3E+*%29+%3Chttp%3A%2F%2Fwww.wikidata.org%2Fentity%2FQ13221722%3E+.%0A+SERVICE++%3Chttp%3A%2F%2Fwikiba.se%2Fontology%23label%3E+++%7B%0A++++%3Chttp%3A%2F%2Fwww.bigdata.com%2Frdf%23serviceParam%3E++%3Chttp%3A%2F%2Fwikiba.se%2Fontology%23language%3E++%22fi%22.%0A++%7D%0A+FILTER+%28++%28++NOT+EXISTS++%7B%0A+++%3Fvar1+%28+%3Chttp%3A%2F%2Fwww.wikidata.org%2Fprop%2Fdirect%2FP31%3E+%2F+%3Chttp%3A%2F%2Fwww.wikidata.org%2Fprop%2Fdirect%2FP279%3E+*%29+%3Chttp%3A%2F%2Fwww.wikidata.org%2Fentity%2FQ19953632%3E+.%0A+%7D%0A+%29+%0A%29+.%0A%7D%0AGROUP+BY++%3Fvar1+%0A</td>\n      <td>2018-03-25 23:32:09</td>\n      <td>robotic</td>\n      <td>UNKNOWN</td>\n      <td>../BadRequeteCrypt/I7_status500_Joined.tsv</td>\n      <td>7</td>\n    </tr>\n    <tr>\n      <th>25661</th>\n      <td>SELECT+%3Fvar1++%3Fvar2Label++%3Fvar1Label++%3Fvar3++%3Fvar4++%3Fvar4Label+%0AWHERE+%7B%0A++VALUES+%28++%3Fvar2++%29+%7B%0A+++%28++%3Chttp%3A%2F%2Fwww.wikidata.org%2Fentity%2FQ5608%3E++%29%0A++%7D%0A++%3Fvar1++%3Chttp%3A%2F%2Fwww.wikidata.org%2Fprop%2Fdirect%2FP175%3E++%3Fvar2+.%0A++%3Fvar1++%3Chttp%3A%2F%2Fwww.wikidata.org%2Fprop%2Fdirect%2FP577%3E++%3Fvar3+.%0A+SERVICE++%3Chttp%3A%2F%2Fwikiba.se%2Fontology%23label%3E+++%7B%0A++++%3Chttp%3A%2F%2Fwww.bigdata.com%2Frdf%23serviceParam%3E++%3Chttp%3A%2F%2Fwikiba.se%2Fontology%23language%3E++%22en%22.%0A++%7D%0A+OPTIONAL+%7B%0A++%3Fvar5++%3Chttp%3A%2F%2Fwww.wikidata.org%2Fprop%2Fdirect%2FP136%3E++%3Fvar4+.%0A+%7D%0A%7D%0A</td>\n      <td>2018-03-25 23:34:02</td>\n      <td>organic</td>\n      <td>browser</td>\n      <td>../BadRequeteCrypt/I7_status500_Joined.tsv</td>\n      <td>7</td>\n    </tr>\n    <tr>\n      <th>25662</th>\n      <td>SELECT+%3Fvar1++%3Fvar2+%28++GROUP_CONCAT+%28++DISTINCT++%3Fvar3++%29++AS++%3Fvar4++%29%0AWHERE+%7B%0A++VALUES+%28++%3Fvar5++%29+%7B%0A+++%28++%3Chttp%3A%2F%2Fwww.wikidata.org%2Fentity%2FQ11424%3E++%29%0A+++%28++%3Chttp%3A%2F%2Fwww.wikidata.org%2Fentity%2FQ24862%3E++%29%0A+++%28++%3Chttp%3A%2F%2Fwww.wikidata.org%2Fentity%2FQ506240%3E++%29%0A+++%28++%3Chttp%3A%2F%2Fwww.wikidata.org%2Fentity%2FQ336144%3E++%29%0A++%7D%0A++BIND+%28++%3Chttp%3A%2F%2Fwww.w3.org%2F2001%2FXMLSchema%23integer%3E++%28+STRAFTER+%28++STR+%28++%3Fvar1++%29+%2C+%22Q%22+%29+%29++AS++%3Fvar2+%29.%0A++%3Fvar1++%3Chttp%3A%2F%2Fwww.wikidata.org%2Fprop%2Fdirect%2FP31%3E++%3Fvar5+.%0A+FILTER+%28++%28+%28++%3Fvar2++%3E+%2228090000%22%5E%5E%3Chttp%3A%2F%2Fwww.w3.org%2F2001%2FXMLSchema%23integer%3E++%29+%29+%0A%29+.%0A+OPTIONAL+%7B%0A++BIND+%28++CONCAT+%28++%22%5B%22%2C+STR+%28++%3Fvar6++%29+%2C+%22+%22%2C+%3Fvar7+%2C+%22%5D%22+%29++AS++%3Fvar3+%29.%0A++%3Fvar6++%3Chttp%3A%2F%2Fschema.org%2Fabout%3E++%3Fvar1+%3B%0A+%3Chttp%3A%2F%2Fschema.org%2FinLanguage%3E++%3Fvar7+.%0A+%7D%0A%7D%0AGROUP+BY++%3Fvar1++%3Fvar2+%0AORDER+BY++DESC%28+%3Fvar2+%29%0ALIMIT+500%0A</td>\n      <td>2018-03-25 23:37:10</td>\n      <td>robotic</td>\n      <td>bot2</td>\n      <td>../BadRequeteCrypt/I7_status500_Joined.tsv</td>\n      <td>7</td>\n    </tr>\n    <tr>\n      <th>25663</th>\n      <td>SELECT+%3Fvar1+%0AWHERE+%7B%0A++%3Fvar1++%3Chttp%3A%2F%2Fwww.wikidata.org%2Fprop%2Fdirect%2FP345%3E++%3Fvar2+.%0A+FILTER+%28++%28++CONTAINS+%28++LCASE+%28++%3Fvar2++%29+%2C+%22nm1599776%22+%29++%29+%0A%29+.%0A+SERVICE++%3Chttp%3A%2F%2Fwikiba.se%2Fontology%23label%3E+++%7B%0A++++%3Chttp%3A%2F%2Fwww.bigdata.com%2Frdf%23serviceParam%3E++%3Chttp%3A%2F%2Fwikiba.se%2Fontology%23language%3E++%22en%22.%0A++%7D%0A%7D%0ALIMIT+1%0A</td>\n      <td>2018-03-25 23:53:30</td>\n      <td>robotic</td>\n      <td>UNKNOWN</td>\n      <td>../BadRequeteCrypt/I7_status500_Joined.tsv</td>\n      <td>7</td>\n    </tr>\n    <tr>\n      <th>25664</th>\n      <td>SELECT+*%0AWHERE+%7B%0A++%3Fvar1++%3Chttp%3A%2F%2Fwww.wikidata.org%2Fprop%2Fdirect%2FP345%3E++%3Fvar2+.%0A+FILTER+%28++%28+%28++%3Fvar2++%3D++%22tt6483832%22+%29+%29+%0A%29+.%0A++%3Fvar3++%3Chttp%3A%2F%2Fschema.org%2Fabout%3E++%3Fvar1+%3B%0A+%3Chttp%3A%2F%2Fschema.org%2FinLanguage%3E++%22en%22%3B%0A+%3Chttp%3A%2F%2Fschema.org%2FisPartOf%3E++%3Chttps%3A%2F%2Fen.wikipedia.org%2F%3E+.%0A%7D%0A</td>\n      <td>2018-03-25 23:53:30</td>\n      <td>robotic</td>\n      <td>UNKNOWN</td>\n      <td>../BadRequeteCrypt/I7_status500_Joined.tsv</td>\n      <td>7</td>\n    </tr>\n    <tr>\n      <th>25665</th>\n      <td>SELECT+DISTINCT+%3Fvar1++%3Fvar2+%0AWHERE+%7B%0A++%3Fvar1++%3Chttp%3A%2F%2Fwww.wikidata.org%2Fprop%2Fdirect%2FP31%3E++%3Chttp%3A%2F%2Fwww.wikidata.org%2Fentity%2FQ13442814%3E+.%0A++%3Fvar1++%3Chttp%3A%2F%2Fwww.wikidata.org%2Fprop%2Fdirect%2FP356%3E++%3Fvar2+.%0A++%3Fvar1++%3Chttp%3A%2F%2Fwww.wikidata.org%2Fprop%2Fdirect%2FP50%3E++%3Fvar3+.%0A++%3Fvar3++%3Chttp%3A%2F%2Fwww.wikidata.org%2Fprop%2Fdirect%2FP31%3E++%3Chttp%3A%2F%2Fwww.wikidata.org%2Fentity%2FQ5%3E+.%0A++MINUS+++%7B%0A++++%3Fvar3++%3Chttp%3A%2F%2Fwww.wikidata.org%2Fprop%2Fdirect%2FP496%3E++%5B%5D+.%0A++%7D%0A++MINUS+++%7B%0A++++%3Fvar3++%3Chttp%3A%2F%2Fwww.wikidata.org%2Fprop%2Fdirect%2FP570%3E++%5B%5D+.%0A++%7D%0A%7D%0AORDER+BY+ASC%28+RAND+%28++%29+%29%0ALIMIT+2000%0A</td>\n      <td>2018-03-25 23:54:01</td>\n      <td>robotic</td>\n      <td>orcid_bot</td>\n      <td>../BadRequeteCrypt/I7_status500_Joined.tsv</td>\n      <td>7</td>\n    </tr>\n    <tr>\n      <th>25666</th>\n      <td>SELECT+%3Fvar1++%3Fvar2++%3Fvar3+%28++IF+%28+%28++%3Fvar3++%3E+%2211%22%5E%5E%3Chttp%3A%2F%2Fwww.w3.org%2F2001%2FXMLSchema%23integer%3E++%29%2C+%22string1%22%2C+%22string2%22+%29++AS++%3Fvar4++%29%0AWHERE+%7B%0A++%3Fvar1++%3Chttp%3A%2F%2Fwikiba.se%2Fontology%23sitelinks%3E++%3Fvar2+%3B%0A+%3Chttp%3A%2F%2Fwikiba.se%2Fontology%23statements%3E++%3Fvar3+.%0A+FILTER+%28++%28+%28++%3Fvar2++%3E+%22180%22%5E%5E%3Chttp%3A%2F%2Fwww.w3.org%2F2001%2FXMLSchema%23integer%3E++%29+%29+%0A%29+.%0A%7D%0AORDER+BY++DESC%28+%3Fvar2+%29%0ALIMIT+1000%0A</td>\n      <td>2018-03-25 23:59:40</td>\n      <td>robotic</td>\n      <td>bot2</td>\n      <td>../BadRequeteCrypt/I7_status500_Joined.tsv</td>\n      <td>7</td>\n    </tr>\n  </tbody>\n</table>\n<p>25667 rows × 6 columns</p>\n</div>"
     },
     "metadata": {}
    }
   ]
  },
  {
   "cell_type": "markdown",
   "source": "## Decode URI encoded SPARQL",
   "metadata": {
    "cell_id": "00007-1070d96b-4e40-47cb-8295-015b004f6e3a",
    "deepnote_cell_type": "markdown"
   }
  },
  {
   "cell_type": "code",
   "metadata": {
    "pycharm": {
     "name": "#%%\n"
    },
    "cell_id": "00008-541efab3-4485-4df8-a509-1a66809950f8",
    "deepnote_to_be_reexecuted": false,
    "source_hash": "20a16056",
    "execution_start": 1643358154734,
    "execution_millis": 2020,
    "deepnote_cell_type": "code"
   },
   "source": "def encoded2raw(encoded):\n    str = unquote_plus(encoded)\n    str = re.sub(r\"> *\\*\", \">*\", str)\n    str = re.sub(r\"> *\\+\", \">+\", str)\n    str = re.sub(r\"> *\\?([^v])\", r\">?\\1\", str)\n    return str\n\ndf[\"rawAnonymizedQuery\"] = df[\"anonymizedQuery\"].apply(encoded2raw)",
   "execution_count": 6,
   "outputs": []
  },
  {
   "cell_type": "code",
   "metadata": {
    "cell_id": "85fd8555-098f-4256-b32f-bce7a8ea081a",
    "tags": [],
    "deepnote_to_be_reexecuted": false,
    "source_hash": "f804c160",
    "execution_start": 1643358156759,
    "execution_millis": 234,
    "deepnote_cell_type": "code"
   },
   "source": "df",
   "execution_count": 7,
   "outputs": [
    {
     "output_type": "execute_result",
     "execution_count": 7,
     "data": {
      "application/vnd.deepnote.dataframe.v3+json": {
       "column_count": 7,
       "row_count": 25667,
       "columns": [
        {
         "name": "anonymizedQuery",
         "dtype": "object",
         "stats": {
          "unique_count": 6989,
          "nan_count": 0,
          "categories": [
           {
            "name": "SELECT+%3Fvar1++%3Fvar2++%3Fvar3+%0AWHERE+%7B%0A++%3Fvar1+%28+%3Chttp%3A%2F%2Fwww.wikidata.org%2Fprop%2Fdirect%2FP31%3E+%2F+%3Chttp%3A%2F%2Fwww.wikidata.org%2Fprop%2Fdirect%2FP279%3E+*%29+%3Chttp%3A%2F%2Fwww.wikidata.org%2Fentity%2FQ1190554%3E+.%0A++%3Fvar1++%3Chttp%3A%2F%2Fwww.wikidata.org%2Fprop%2Fdirect%2FP585%3E++%3Fvar2+.%0A++%3Fvar3++%3Chttp%3A%2F%2Fschema.org%2Fabout%3E++%3Fvar1+.%0A++%3Fvar3++%3Chttp%3A%2F%2Fschema.org%2FisPartOf%3E++%3Chttps%3A%2F%2Fen.wikipedia.org%2F%3E+.%0A+FILTER+%28++%28+%28++DATATYPE+%28++%3Fvar2++%29++%3D++%3Chttp%3A%2F%2Fwww.w3.org%2F2001%2FXMLSchema%23dateTime%3E++%29+%26%26+%28++MONTH+%28++%3Fvar2++%29++%3D++MONTH+%28++NOW+%28++%29++%29++%29+%26%26+%28++DAY+%28++%3Fvar2++%29++%3D++DAY+%28++NOW+%28++%29++%29++%29+%29+%0A%29+.%0A%7D%0AORDER+BY++DESC%28+%3Fvar2+%29%0ALIMIT+5%0A",
            "count": 1181
           },
           {
            "name": "SELECT%28++%3Fvar1++AS++%3Fvar2++%29%0AWHERE+%7B%0A++%3Chttp%3A%2F%2Fwww.wikidata.org%2Fentity%2FQ19253%3E+%28+%3Chttp%3A%2F%2Fwww.wikidata.org%2Fprop%2Fdirect%2FP131%3E+%2F+%3Chttp%3A%2F%2Fwww.wikidata.org%2Fprop%2Fdirect%2FP131%3E+*%29+%3Fvar3+.%0A++%3Fvar3+%28+%3Chttp%3A%2F%2Fwww.wikidata.org%2Fprop%2Fdirect%2FP31%3E+%2F+%3Chttp%3A%2F%2Fwww.wikidata.org%2Fprop%2Fdirect%2FP279%3E+*%29+%3Chttp%3A%2F%2Fwww.wikidata.org%2Fentity%2FQ10864048%3E+.%0A++%3Fvar1+%28+%3Chttp%3A%2F%2Fwww.wikidata.org%2Fprop%2Fdirect%2FP131%3E+%2F+%3Chttp%3A%2F%2Fwww.wikidata.org%2Fprop%2Fdirect%2FP131%3E+*%29+%3Fvar3+.%0A++%3Fvar1+%28+%3Chttp%3A%2F%2Fwww.wikidata.org%2Fprop%2Fdirect%2FP31%3E+%2F+%3Chttp%3A%2F%2Fwww.wikidata.org%2Fprop%2Fdirect%2FP279%3E+*%29+%3Chttp%3A%2F%2Fwww.wikidata.org%2Fentity%2FQ13221722%3E+.%0A+SERVICE++%3Chttp%3A%2F%2Fwikiba.se%2Fontology%23label%3E+++%7B%0A++++%3Chttp%3A%2F%2Fwww.bigdata.com%2Frdf%23serviceParam%3E++%3Chttp%3A%2F%2Fwikiba.se%2Fontology%23language%3E++%22fi%22.%0A++%7D%0A+FILTER+%28++%28++NOT+EXISTS++%7B%0A+++%3Fvar1+%28+%3Chttp%3A%2F%2Fwww.wikidata.org%2Fprop%2Fdirect%2FP31%3E+%2F+%3Chttp%3A%2F%2Fwww.wikidata.org%2Fprop%2Fdirect%2FP279%3E+*%29+%3Chttp%3A%2F%2Fwww.wikidata.org%2Fentity%2FQ19953632%3E+.%0A+%7D%0A+%29+%0A%29+.%0A%7D%0AGROUP+BY++%3Fvar1+%0A",
            "count": 1131
           },
           {
            "name": "6987 others",
            "count": 23355
           }
          ]
         }
        },
        {
         "name": "timestamp",
         "dtype": "object",
         "stats": {
          "unique_count": 22923,
          "nan_count": 0,
          "categories": [
           {
            "name": "2018-03-17 15:57:23",
            "count": 12
           },
           {
            "name": "2018-03-08 09:06:35",
            "count": 11
           },
           {
            "name": "22921 others",
            "count": 25644
           }
          ]
         }
        },
        {
         "name": "sourceCategory",
         "dtype": "object",
         "stats": {
          "unique_count": 2,
          "nan_count": 0,
          "categories": [
           {
            "name": "robotic",
            "count": 17532
           },
           {
            "name": "organic",
            "count": 8135
           }
          ]
         }
        },
        {
         "name": "user_agent",
         "dtype": "object"
        },
        {
         "name": "file_path",
         "dtype": "object"
        },
        {
         "name": "interval",
         "dtype": "int64"
        },
        {
         "name": "rawAnonymizedQuery",
         "dtype": "object"
        },
        {
         "name": "_deepnote_index_column",
         "dtype": "int64"
        }
       ],
       "rows": [
        {
         "anonymizedQuery": "SELECT+%3Fvar1++%3Fvar1Label++%3Fvar2++%3Fvar2Label++%3Fvar3++%3Fvar3Label+%0AWHERE+%7B%0A+SERVICE+…",
         "timestamp": "2018-02-26 00:03:29",
         "sourceCategory": "organic",
         "user_agent": "browser",
         "file_path": "../BadRequeteCrypt/I7_status500_Joined.tsv",
         "interval": 7,
         "rawAnonymizedQuery": "SELECT ?var1  ?var1Label  ?var2  ?var2Label  ?var3  ?var3Label \nWHERE {\n SERVICE  <http://wikiba.se…",
         "_deepnote_index_column": 0
        },
        {
         "anonymizedQuery": "SELECT+DISTINCT+%3Fvar1+%0AWHERE+%7B%0A++BIND+%28++%28++NOW+%28++%29+-+%3Fvar2++%29++AS++%3Fvar3+%2…",
         "timestamp": "2018-02-26 00:04:13",
         "sourceCategory": "robotic",
         "user_agent": "UNKNOWN",
         "file_path": "../BadRequeteCrypt/I7_status500_Joined.tsv",
         "interval": 7,
         "rawAnonymizedQuery": "SELECT DISTINCT ?var1 \nWHERE {\n  BIND (  (  NOW (  ) - ?var2  )  AS  ?var3 ).\n  ?var1  <http://www.…",
         "_deepnote_index_column": 1
        },
        {
         "anonymizedQuery": "SELECT+%3Fvar1++%3Fvar1Label+%28+COUNT+%28+DISTINCT++%3Fvar2++%29+AS++%3Fvar3++%29%0AWHERE+%7B%0A++…",
         "timestamp": "2018-02-26 00:04:19",
         "sourceCategory": "organic",
         "user_agent": "browser",
         "file_path": "../BadRequeteCrypt/I7_status500_Joined.tsv",
         "interval": 7,
         "rawAnonymizedQuery": "SELECT ?var1  ?var1Label ( COUNT ( DISTINCT  ?var2  ) AS  ?var3  )\nWHERE {\n  ?var2  <http://www.wik…",
         "_deepnote_index_column": 2
        },
        {
         "anonymizedQuery": "SELECT+%3Fvar1++%3Fvar1Label++%3Fvar2++%3Fvar2Label++%3Fvar3++%3Fvar3Label+%0AWHERE+%7B%0A+SERVICE+…",
         "timestamp": "2018-02-26 00:04:34",
         "sourceCategory": "organic",
         "user_agent": "browser",
         "file_path": "../BadRequeteCrypt/I7_status500_Joined.tsv",
         "interval": 7,
         "rawAnonymizedQuery": "SELECT ?var1  ?var1Label  ?var2  ?var2Label  ?var3  ?var3Label \nWHERE {\n SERVICE  <http://wikiba.se…",
         "_deepnote_index_column": 3
        },
        {
         "anonymizedQuery": "SELECT+%3Fvar1++%3Fvar2++%3Fvar3+%0AWHERE+%7B%0A++%3Fvar1+%28+%3Chttp%3A%2F%2Fwww.wikidata.org%2Fpr…",
         "timestamp": "2018-02-26 00:04:45",
         "sourceCategory": "robotic",
         "user_agent": "UNKNOWN",
         "file_path": "../BadRequeteCrypt/I7_status500_Joined.tsv",
         "interval": 7,
         "rawAnonymizedQuery": "SELECT ?var1  ?var2  ?var3 \nWHERE {\n  ?var1 ( <http://www.wikidata.org/prop/direct/P31> / <http://w…",
         "_deepnote_index_column": 4
        },
        {
         "anonymizedQuery": "SELECT+DISTINCT+%3Fvar1+%0AWHERE+%7B%0A++BIND+%28++%28++NOW+%28++%29+-+%3Fvar2++%29++AS++%3Fvar3+%2…",
         "timestamp": "2018-02-26 00:06:14",
         "sourceCategory": "robotic",
         "user_agent": "UNKNOWN",
         "file_path": "../BadRequeteCrypt/I7_status500_Joined.tsv",
         "interval": 7,
         "rawAnonymizedQuery": "SELECT DISTINCT ?var1 \nWHERE {\n  BIND (  (  NOW (  ) - ?var2  )  AS  ?var3 ).\n  ?var1  <http://www.…",
         "_deepnote_index_column": 5
        },
        {
         "anonymizedQuery": "SELECT+DISTINCT+%3Fvar1Label++%3Fvar2Label++%3Fvar1+%0AWHERE+%7B%0A++%3Fvar1+%28+%3Chttp%3A%2F%2Fww…",
         "timestamp": "2018-02-26 00:06:39",
         "sourceCategory": "organic",
         "user_agent": "browser",
         "file_path": "../BadRequeteCrypt/I7_status500_Joined.tsv",
         "interval": 7,
         "rawAnonymizedQuery": "SELECT DISTINCT ?var1Label  ?var2Label  ?var1 \nWHERE {\n  ?var1 ( <http://www.wikidata.org/prop/dire…",
         "_deepnote_index_column": 6
        },
        {
         "anonymizedQuery": "SELECT+%3Fvar1++%3Fvar2++%3Fvar3+%0AWHERE+%7B%0A++%3Fvar1+%28+%3Chttp%3A%2F%2Fwww.wikidata.org%2Fpr…",
         "timestamp": "2018-02-26 00:06:40",
         "sourceCategory": "robotic",
         "user_agent": "UNKNOWN",
         "file_path": "../BadRequeteCrypt/I7_status500_Joined.tsv",
         "interval": 7,
         "rawAnonymizedQuery": "SELECT ?var1  ?var2  ?var3 \nWHERE {\n  ?var1 ( <http://www.wikidata.org/prop/direct/P31> / <http://w…",
         "_deepnote_index_column": 7
        },
        {
         "anonymizedQuery": "SELECT+%3Fvar1++%3Fvar2++%3Fvar3+%0AWHERE+%7B%0A++%3Fvar1+%28+%3Chttp%3A%2F%2Fwww.wikidata.org%2Fpr…",
         "timestamp": "2018-02-26 00:09:46",
         "sourceCategory": "robotic",
         "user_agent": "UNKNOWN",
         "file_path": "../BadRequeteCrypt/I7_status500_Joined.tsv",
         "interval": 7,
         "rawAnonymizedQuery": "SELECT ?var1  ?var2  ?var3 \nWHERE {\n  ?var1 ( <http://www.wikidata.org/prop/direct/P31> / <http://w…",
         "_deepnote_index_column": 8
        },
        {
         "anonymizedQuery": "SELECT+DISTINCT+%3Fvar1+%0AWHERE+%7B%0A+%7B%0A+++%3Fvar1++%3Chttp%3A%2F%2Fwww.wikidata.org%2Fprop%2…",
         "timestamp": "2018-02-26 00:14:22",
         "sourceCategory": "robotic",
         "user_agent": "bot2",
         "file_path": "../BadRequeteCrypt/I7_status500_Joined.tsv",
         "interval": 7,
         "rawAnonymizedQuery": "SELECT DISTINCT ?var1 \nWHERE {\n {\n   ?var1  <http://www.wikidata.org/prop/direct/P31>  ?var2 .\n   ?…",
         "_deepnote_index_column": 9
        }
       ]
      },
      "text/plain": "                                                                                                                                                                                                                                                                                                                                                                                                                                                                                                                                                                                                                                                                                                                                                                                                                                                                                                                                                                                                                                                                                                                                                                                                                                                                                                                                     anonymizedQuery  ...                                                                                                                                                                                                                                                                                                                                                                                                                                                                                                                                                                                                                                                                                                                                                                                                                                                                                                                                                          rawAnonymizedQuery\n0      SELECT+%3Fvar1++%3Fvar1Label++%3Fvar2++%3Fvar2Label++%3Fvar3++%3Fvar3Label+%0AWHERE+%7B%0A+SERVICE++%3Chttp%3A%2F%2Fwikiba.se%2Fontology%23label%3E+++%7B%0A++++%3Chttp%3A%2F%2Fwww.bigdata.com%2Frdf%23serviceParam%3E++%3Chttp%3A%2F%2Fwikiba.se%2Fontology%23language%3E++%22en%2Cen%22.%0A++%7D%0A++%3Fvar1++%3Chttp%3A%2F%2Fwww.wikidata.org%2Fprop%2Fdirect%2FP31%3E++%3Chttp%3A%2F%2Fwww.wikidata.org%2Fentity%2FQ215380%3E+.%0A+OPTIONAL+%7B%0A++%3Fvar4++%3Chttp%3A%2F%2Fwww.wikidata.org%2Fprop%2Fdirect%2FP136%3E++%3Fvar2+.%0A+%7D%0A+OPTIONAL+%7B%0A++%3Fvar4++%3Chttp%3A%2F%2Fwww.wikidata.org%2Fprop%2Fdirect%2FP264%3E++%3Fvar3+.%0A+%7D%0A%7D%0ALIMIT+10%0A                                                                                                                                                                                                                                                                                                                                                                                                                                                                                                                                                                                                                                                                   ...  SELECT ?var1  ?var1Label  ?var2  ?var2Label  ?var3  ?var3Label \\nWHERE {\\n SERVICE  <http://wikiba.se/ontology#label>   {\\n    <http://www.bigdata.com/rdf#serviceParam>  <http://wikiba.se/ontology#language>  \"en,en\".\\n  }\\n  ?var1  <http://www.wikidata.org/prop/direct/P31>  <http://www.wikidata.org/entity/Q215380> .\\n OPTIONAL {\\n  ?var4  <http://www.wikidata.org/prop/direct/P136>  ?var2 .\\n }\\n OPTIONAL {\\n  ?var4  <http://www.wikidata.org/prop/direct/P264>  ?var3 .\\n }\\n}\\nLIMIT 10\\n                                                                                                                                                                                                                                                                                                                                                                                                                                                                \n1      SELECT+DISTINCT+%3Fvar1+%0AWHERE+%7B%0A++BIND+%28++%28++NOW+%28++%29+-+%3Fvar2++%29++AS++%3Fvar3+%29.%0A++%3Fvar1++%3Chttp%3A%2F%2Fwww.wikidata.org%2Fprop%2Fdirect%2FP570%3E++%3Fvar2+.%0A+FILTER+%28++%28+%28++%3Fvar3++%3E%3D+%220%22%5E%5E%3Chttp%3A%2F%2Fwww.w3.org%2F2001%2FXMLSchema%23integer%3E++%29+%26%26+%28++%3Fvar3++%3C%3D+%225%22%5E%5E%3Chttp%3A%2F%2Fwww.w3.org%2F2001%2FXMLSchema%23integer%3E++%29+%29+%0A%29+.%0A++%3Fvar4++%3Chttp%3A%2F%2Fschema.org%2Fabout%3E++%3Fvar1+.%0A++%3Fvar4++%3Chttp%3A%2F%2Fschema.org%2FinLanguage%3E++%22es%22.%0A++%3Fvar4++%3Chttp%3A%2F%2Fschema.org%2FisPartOf%3E++%3Chttps%3A%2F%2Fes.wikipedia.org%2F%3E+.%0A%7D%0A                                                                                                                                                                                                                                                                                                                                                                                                                                                                                                                                                                                                                                                                 ...  SELECT DISTINCT ?var1 \\nWHERE {\\n  BIND (  (  NOW (  ) - ?var2  )  AS  ?var3 ).\\n  ?var1  <http://www.wikidata.org/prop/direct/P570>  ?var2 .\\n FILTER (  ( (  ?var3  >= \"0\"^^<http://www.w3.org/2001/XMLSchema#integer>  ) && (  ?var3  <= \"5\"^^<http://www.w3.org/2001/XMLSchema#integer>  ) ) \\n) .\\n  ?var4  <http://schema.org/about>  ?var1 .\\n  ?var4  <http://schema.org/inLanguage>  \"es\".\\n  ?var4  <http://schema.org/isPartOf>  <https://es.wikipedia.org/> .\\n}\\n                                                                                                                                                                                                                                                                                                                                                                                                                                                                                            \n2      SELECT+%3Fvar1++%3Fvar1Label+%28+COUNT+%28+DISTINCT++%3Fvar2++%29+AS++%3Fvar3++%29%0AWHERE+%7B%0A++%3Fvar2++%3Chttp%3A%2F%2Fwww.wikidata.org%2Fprop%2Fdirect%2FP19%3E++%3Fvar1+%3B%0A%28+%3Chttp%3A%2F%2Fwww.wikidata.org%2Fprop%2Fdirect%2FP106%3E+%2F+%3Chttp%3A%2F%2Fwww.wikidata.org%2Fprop%2Fdirect%2FP279%3E+*%29+%3Chttp%3A%2F%2Fwww.wikidata.org%2Fentity%2FQ901%3E+.%0A++%3Fvar1+%28+%3Chttp%3A%2F%2Fwww.wikidata.org%2Fprop%2Fdirect%2FP17%3E+*%2F+%3Chttp%3A%2F%2Fwww.wikidata.org%2Fprop%2Fdirect%2FP30%3E+%29+%3Chttp%3A%2F%2Fwww.wikidata.org%2Fentity%2FQ46%3E+.%0A+SERVICE++%3Chttp%3A%2F%2Fwikiba.se%2Fontology%23label%3E+++%7B%0A++++%3Chttp%3A%2F%2Fwww.bigdata.com%2Frdf%23serviceParam%3E++%3Chttp%3A%2F%2Fwikiba.se%2Fontology%23language%3E++%22en%22.%0A++%7D%0A%7D%0AGROUP+BY++%3Fvar1++%3Fvar1Label+%0AORDER+BY++DESC%28+%3Fvar3+%29%0ALIMIT+10%0A                                                                                                                                                                                                                                                                                                                                                                                                                                                                  ...  SELECT ?var1  ?var1Label ( COUNT ( DISTINCT  ?var2  ) AS  ?var3  )\\nWHERE {\\n  ?var2  <http://www.wikidata.org/prop/direct/P19>  ?var1 ;\\n( <http://www.wikidata.org/prop/direct/P106> / <http://www.wikidata.org/prop/direct/P279>*) <http://www.wikidata.org/entity/Q901> .\\n  ?var1 ( <http://www.wikidata.org/prop/direct/P17>*/ <http://www.wikidata.org/prop/direct/P30> ) <http://www.wikidata.org/entity/Q46> .\\n SERVICE  <http://wikiba.se/ontology#label>   {\\n    <http://www.bigdata.com/rdf#serviceParam>  <http://wikiba.se/ontology#language>  \"en\".\\n  }\\n}\\nGROUP BY  ?var1  ?var1Label \\nORDER BY  DESC( ?var3 )\\nLIMIT 10\\n                                                                                                                                                                                                                                                                                                                           \n3      SELECT+%3Fvar1++%3Fvar1Label++%3Fvar2++%3Fvar2Label++%3Fvar3++%3Fvar3Label+%0AWHERE+%7B%0A+SERVICE++%3Chttp%3A%2F%2Fwikiba.se%2Fontology%23label%3E+++%7B%0A++++%3Chttp%3A%2F%2Fwww.bigdata.com%2Frdf%23serviceParam%3E++%3Chttp%3A%2F%2Fwikiba.se%2Fontology%23language%3E++%22en%2Cen%22.%0A++%7D%0A++%3Fvar1++%3Chttp%3A%2F%2Fwww.wikidata.org%2Fprop%2Fdirect%2FP31%3E++%3Chttp%3A%2F%2Fwww.wikidata.org%2Fentity%2FQ215380%3E+.%0A+OPTIONAL+%7B%0A++%3Fvar4++%3Chttp%3A%2F%2Fwww.wikidata.org%2Fprop%2Fdirect%2FP136%3E++%3Fvar2+.%0A+%7D%0A+OPTIONAL+%7B%0A++%3Fvar4++%3Chttp%3A%2F%2Fwww.wikidata.org%2Fprop%2Fdirect%2FP264%3E++%3Fvar3+.%0A+%7D%0A%7D%0ALIMIT+10%0A                                                                                                                                                                                                                                                                                                                                                                                                                                                                                                                                                                                                                                                                   ...  SELECT ?var1  ?var1Label  ?var2  ?var2Label  ?var3  ?var3Label \\nWHERE {\\n SERVICE  <http://wikiba.se/ontology#label>   {\\n    <http://www.bigdata.com/rdf#serviceParam>  <http://wikiba.se/ontology#language>  \"en,en\".\\n  }\\n  ?var1  <http://www.wikidata.org/prop/direct/P31>  <http://www.wikidata.org/entity/Q215380> .\\n OPTIONAL {\\n  ?var4  <http://www.wikidata.org/prop/direct/P136>  ?var2 .\\n }\\n OPTIONAL {\\n  ?var4  <http://www.wikidata.org/prop/direct/P264>  ?var3 .\\n }\\n}\\nLIMIT 10\\n                                                                                                                                                                                                                                                                                                                                                                                                                                                                \n4      SELECT+%3Fvar1++%3Fvar2++%3Fvar3+%0AWHERE+%7B%0A++%3Fvar1+%28+%3Chttp%3A%2F%2Fwww.wikidata.org%2Fprop%2Fdirect%2FP31%3E+%2F+%3Chttp%3A%2F%2Fwww.wikidata.org%2Fprop%2Fdirect%2FP279%3E+*%29+%3Chttp%3A%2F%2Fwww.wikidata.org%2Fentity%2FQ1190554%3E+.%0A++%3Fvar1++%3Chttp%3A%2F%2Fwww.wikidata.org%2Fprop%2Fdirect%2FP585%3E++%3Fvar2+.%0A++%3Fvar3++%3Chttp%3A%2F%2Fschema.org%2Fabout%3E++%3Fvar1+.%0A++%3Fvar3++%3Chttp%3A%2F%2Fschema.org%2FisPartOf%3E++%3Chttps%3A%2F%2Fen.wikipedia.org%2F%3E+.%0A+FILTER+%28++%28+%28++DATATYPE+%28++%3Fvar2++%29++%3D++%3Chttp%3A%2F%2Fwww.w3.org%2F2001%2FXMLSchema%23dateTime%3E++%29+%26%26+%28++MONTH+%28++%3Fvar2++%29++%3D++MONTH+%28++NOW+%28++%29++%29++%29+%26%26+%28++DAY+%28++%3Fvar2++%29++%3D++DAY+%28++NOW+%28++%29++%29++%29+%29+%0A%29+.%0A%7D%0AORDER+BY++DESC%28+%3Fvar2+%29%0ALIMIT+5%0A                                                                                                                                                                                                                                                                                                                                                                                                                                                                                          ...  SELECT ?var1  ?var2  ?var3 \\nWHERE {\\n  ?var1 ( <http://www.wikidata.org/prop/direct/P31> / <http://www.wikidata.org/prop/direct/P279>*) <http://www.wikidata.org/entity/Q1190554> .\\n  ?var1  <http://www.wikidata.org/prop/direct/P585>  ?var2 .\\n  ?var3  <http://schema.org/about>  ?var1 .\\n  ?var3  <http://schema.org/isPartOf>  <https://en.wikipedia.org/> .\\n FILTER (  ( (  DATATYPE (  ?var2  )  =  <http://www.w3.org/2001/XMLSchema#dateTime>  ) && (  MONTH (  ?var2  )  =  MONTH (  NOW (  )  )  ) && (  DAY (  ?var2  )  =  DAY (  NOW (  )  )  ) ) \\n) .\\n}\\nORDER BY  DESC( ?var2 )\\nLIMIT 5\\n                                                                                                                                                                                                                                                                                                                                                         \n5      SELECT+DISTINCT+%3Fvar1+%0AWHERE+%7B%0A++BIND+%28++%28++NOW+%28++%29+-+%3Fvar2++%29++AS++%3Fvar3+%29.%0A++%3Fvar1++%3Chttp%3A%2F%2Fwww.wikidata.org%2Fprop%2Fdirect%2FP570%3E++%3Fvar2+.%0A+FILTER+%28++%28+%28++%3Fvar3++%3E%3D+%220%22%5E%5E%3Chttp%3A%2F%2Fwww.w3.org%2F2001%2FXMLSchema%23integer%3E++%29+%26%26+%28++%3Fvar3++%3C%3D+%225%22%5E%5E%3Chttp%3A%2F%2Fwww.w3.org%2F2001%2FXMLSchema%23integer%3E++%29+%29+%0A%29+.%0A++%3Fvar4++%3Chttp%3A%2F%2Fschema.org%2Fabout%3E++%3Fvar1+.%0A++%3Fvar4++%3Chttp%3A%2F%2Fschema.org%2FinLanguage%3E++%22es%22.%0A++%3Fvar4++%3Chttp%3A%2F%2Fschema.org%2FisPartOf%3E++%3Chttps%3A%2F%2Fes.wikipedia.org%2F%3E+.%0A%7D%0A                                                                                                                                                                                                                                                                                                                                                                                                                                                                                                                                                                                                                                                                 ...  SELECT DISTINCT ?var1 \\nWHERE {\\n  BIND (  (  NOW (  ) - ?var2  )  AS  ?var3 ).\\n  ?var1  <http://www.wikidata.org/prop/direct/P570>  ?var2 .\\n FILTER (  ( (  ?var3  >= \"0\"^^<http://www.w3.org/2001/XMLSchema#integer>  ) && (  ?var3  <= \"5\"^^<http://www.w3.org/2001/XMLSchema#integer>  ) ) \\n) .\\n  ?var4  <http://schema.org/about>  ?var1 .\\n  ?var4  <http://schema.org/inLanguage>  \"es\".\\n  ?var4  <http://schema.org/isPartOf>  <https://es.wikipedia.org/> .\\n}\\n                                                                                                                                                                                                                                                                                                                                                                                                                                                                                            \n6      SELECT+DISTINCT+%3Fvar1Label++%3Fvar2Label++%3Fvar1+%0AWHERE+%7B%0A++%3Fvar1+%28+%3Chttp%3A%2F%2Fwww.wikidata.org%2Fprop%2Fdirect%2FP31%3E+%2F+%3Chttp%3A%2F%2Fwww.wikidata.org%2Fprop%2Fdirect%2FP279%3E+*%29+%3Chttp%3A%2F%2Fwww.wikidata.org%2Fentity%2FQ6999%3E+.%0A+OPTIONAL+%7B%0A++%3Fvar1++%3Chttp%3A%2F%2Fwww.wikidata.org%2Fprop%2Fdirect%2FP31%3E++%3Fvar2+.%0A+FILTER+%28++%28+%28++%3Fvar2++%21%3D++%3Chttp%3A%2F%2Fwww.wikidata.org%2Fentity%2FQ6999%3E++%29+%29+%0A%29+.%0A+%7D%0A+SERVICE++%3Chttp%3A%2F%2Fwikiba.se%2Fontology%23label%3E+++%7B%0A++++%3Chttp%3A%2F%2Fwww.bigdata.com%2Frdf%23serviceParam%3E++%3Chttp%3A%2F%2Fwikiba.se%2Fontology%23language%3E++%22en%22.%0A++%7D%0A%7D%0AORDER+BY+ASC%28+%3Fvar2Label+%29ASC%28+%3Fvar1Label+%29%0A                                                                                                                                                                                                                                                                                                                                                                                                                                                                                                                                                                       ...  SELECT DISTINCT ?var1Label  ?var2Label  ?var1 \\nWHERE {\\n  ?var1 ( <http://www.wikidata.org/prop/direct/P31> / <http://www.wikidata.org/prop/direct/P279>*) <http://www.wikidata.org/entity/Q6999> .\\n OPTIONAL {\\n  ?var1  <http://www.wikidata.org/prop/direct/P31>  ?var2 .\\n FILTER (  ( (  ?var2  !=  <http://www.wikidata.org/entity/Q6999>  ) ) \\n) .\\n }\\n SERVICE  <http://wikiba.se/ontology#label>   {\\n    <http://www.bigdata.com/rdf#serviceParam>  <http://wikiba.se/ontology#language>  \"en\".\\n  }\\n}\\nORDER BY ASC( ?var2Label )ASC( ?var1Label )\\n                                                                                                                                                                                                                                                                                                                                                                                                      \n7      SELECT+%3Fvar1++%3Fvar2++%3Fvar3+%0AWHERE+%7B%0A++%3Fvar1+%28+%3Chttp%3A%2F%2Fwww.wikidata.org%2Fprop%2Fdirect%2FP31%3E+%2F+%3Chttp%3A%2F%2Fwww.wikidata.org%2Fprop%2Fdirect%2FP279%3E+*%29+%3Chttp%3A%2F%2Fwww.wikidata.org%2Fentity%2FQ1190554%3E+.%0A++%3Fvar1++%3Chttp%3A%2F%2Fwww.wikidata.org%2Fprop%2Fdirect%2FP585%3E++%3Fvar2+.%0A++%3Fvar3++%3Chttp%3A%2F%2Fschema.org%2Fabout%3E++%3Fvar1+.%0A++%3Fvar3++%3Chttp%3A%2F%2Fschema.org%2FisPartOf%3E++%3Chttps%3A%2F%2Fen.wikipedia.org%2F%3E+.%0A+FILTER+%28++%28+%28++DATATYPE+%28++%3Fvar2++%29++%3D++%3Chttp%3A%2F%2Fwww.w3.org%2F2001%2FXMLSchema%23dateTime%3E++%29+%26%26+%28++MONTH+%28++%3Fvar2++%29++%3D++MONTH+%28++NOW+%28++%29++%29++%29+%26%26+%28++DAY+%28++%3Fvar2++%29++%3D++DAY+%28++NOW+%28++%29++%29++%29+%29+%0A%29+.%0A%7D%0AORDER+BY++DESC%28+%3Fvar2+%29%0ALIMIT+5%0A                                                                                                                                                                                                                                                                                                                                                                                                                                                                                          ...  SELECT ?var1  ?var2  ?var3 \\nWHERE {\\n  ?var1 ( <http://www.wikidata.org/prop/direct/P31> / <http://www.wikidata.org/prop/direct/P279>*) <http://www.wikidata.org/entity/Q1190554> .\\n  ?var1  <http://www.wikidata.org/prop/direct/P585>  ?var2 .\\n  ?var3  <http://schema.org/about>  ?var1 .\\n  ?var3  <http://schema.org/isPartOf>  <https://en.wikipedia.org/> .\\n FILTER (  ( (  DATATYPE (  ?var2  )  =  <http://www.w3.org/2001/XMLSchema#dateTime>  ) && (  MONTH (  ?var2  )  =  MONTH (  NOW (  )  )  ) && (  DAY (  ?var2  )  =  DAY (  NOW (  )  )  ) ) \\n) .\\n}\\nORDER BY  DESC( ?var2 )\\nLIMIT 5\\n                                                                                                                                                                                                                                                                                                                                                         \n8      SELECT+%3Fvar1++%3Fvar2++%3Fvar3+%0AWHERE+%7B%0A++%3Fvar1+%28+%3Chttp%3A%2F%2Fwww.wikidata.org%2Fprop%2Fdirect%2FP31%3E+%2F+%3Chttp%3A%2F%2Fwww.wikidata.org%2Fprop%2Fdirect%2FP279%3E+*%29+%3Chttp%3A%2F%2Fwww.wikidata.org%2Fentity%2FQ1190554%3E+.%0A++%3Fvar1++%3Chttp%3A%2F%2Fwww.wikidata.org%2Fprop%2Fdirect%2FP585%3E++%3Fvar2+.%0A++%3Fvar3++%3Chttp%3A%2F%2Fschema.org%2Fabout%3E++%3Fvar1+.%0A++%3Fvar3++%3Chttp%3A%2F%2Fschema.org%2FisPartOf%3E++%3Chttps%3A%2F%2Fen.wikipedia.org%2F%3E+.%0A+FILTER+%28++%28+%28++DATATYPE+%28++%3Fvar2++%29++%3D++%3Chttp%3A%2F%2Fwww.w3.org%2F2001%2FXMLSchema%23dateTime%3E++%29+%26%26+%28++MONTH+%28++%3Fvar2++%29++%3D++MONTH+%28++NOW+%28++%29++%29++%29+%26%26+%28++DAY+%28++%3Fvar2++%29++%3D++DAY+%28++NOW+%28++%29++%29++%29+%29+%0A%29+.%0A%7D%0AORDER+BY++DESC%28+%3Fvar2+%29%0ALIMIT+5%0A                                                                                                                                                                                                                                                                                                                                                                                                                                                                                          ...  SELECT ?var1  ?var2  ?var3 \\nWHERE {\\n  ?var1 ( <http://www.wikidata.org/prop/direct/P31> / <http://www.wikidata.org/prop/direct/P279>*) <http://www.wikidata.org/entity/Q1190554> .\\n  ?var1  <http://www.wikidata.org/prop/direct/P585>  ?var2 .\\n  ?var3  <http://schema.org/about>  ?var1 .\\n  ?var3  <http://schema.org/isPartOf>  <https://en.wikipedia.org/> .\\n FILTER (  ( (  DATATYPE (  ?var2  )  =  <http://www.w3.org/2001/XMLSchema#dateTime>  ) && (  MONTH (  ?var2  )  =  MONTH (  NOW (  )  )  ) && (  DAY (  ?var2  )  =  DAY (  NOW (  )  )  ) ) \\n) .\\n}\\nORDER BY  DESC( ?var2 )\\nLIMIT 5\\n                                                                                                                                                                                                                                                                                                                                                         \n...                                                                                                                                                                                                                                                                                                                                                                                                                                                                                                                                                                                                                                                                                                                                                                                                                                                      ...                                                                                                                                                                                                                                                                                                                                                                                                                                                                                          ...                                                                                                                                                                                                                                                                                                                                                                                                                                                                                                                                                                                                                ...                                                                                                                                                                                                                                                                                                                                                         \n25658  SELECT%28++%3Fvar1++AS++%3Fvar2++%29%0AWHERE+%7B%0A++%3Chttp%3A%2F%2Fwww.wikidata.org%2Fentity%2FQ211907%3E+%28+%3Chttp%3A%2F%2Fwww.wikidata.org%2Fprop%2Fdirect%2FP131%3E+%2F+%3Chttp%3A%2F%2Fwww.wikidata.org%2Fprop%2Fdirect%2FP131%3E+*%29+%3Fvar3+.%0A++%3Fvar3+%28+%3Chttp%3A%2F%2Fwww.wikidata.org%2Fprop%2Fdirect%2FP31%3E+%2F+%3Chttp%3A%2F%2Fwww.wikidata.org%2Fprop%2Fdirect%2FP279%3E+*%29+%3Chttp%3A%2F%2Fwww.wikidata.org%2Fentity%2FQ10864048%3E+.%0A++%3Fvar1+%28+%3Chttp%3A%2F%2Fwww.wikidata.org%2Fprop%2Fdirect%2FP131%3E+%2F+%3Chttp%3A%2F%2Fwww.wikidata.org%2Fprop%2Fdirect%2FP131%3E+*%29+%3Fvar3+.%0A++%3Fvar1+%28+%3Chttp%3A%2F%2Fwww.wikidata.org%2Fprop%2Fdirect%2FP31%3E+%2F+%3Chttp%3A%2F%2Fwww.wikidata.org%2Fprop%2Fdirect%2FP279%3E+*%29+%3Chttp%3A%2F%2Fwww.wikidata.org%2Fentity%2FQ13220204%3E+.%0A+SERVICE++%3Chttp%3A%2F%2Fwikiba.se%2Fontology%23label%3E+++%7B%0A++++%3Chttp%3A%2F%2Fwww.bigdata.com%2Frdf%23serviceParam%3E++%3Chttp%3A%2F%2Fwikiba.se%2Fontology%23language%3E++%22fi%22.%0A++%7D%0A+FILTER+%28++%28++NOT+EXISTS++%7B%0A+++%3Fvar1+%28+%3Chttp%3A%2F%2Fwww.wikidata.org%2Fprop%2Fdirect%2FP31%3E+%2F+%3Chttp%3A%2F%2Fwww.wikidata.org%2Fprop%2Fdirect%2FP279%3E+*%29+%3Chttp%3A%2F%2Fwww.wikidata.org%2Fentity%2FQ19953632%3E+.%0A+%7D%0A+%29+%0A%29+.%0A%7D%0AGROUP+BY++%3Fvar1+%0A  ...  SELECT(  ?var1  AS  ?var2  )\\nWHERE {\\n  <http://www.wikidata.org/entity/Q211907> ( <http://www.wikidata.org/prop/direct/P131> / <http://www.wikidata.org/prop/direct/P131>*) ?var3 .\\n  ?var3 ( <http://www.wikidata.org/prop/direct/P31> / <http://www.wikidata.org/prop/direct/P279>*) <http://www.wikidata.org/entity/Q10864048> .\\n  ?var1 ( <http://www.wikidata.org/prop/direct/P131> / <http://www.wikidata.org/prop/direct/P131>*) ?var3 .\\n  ?var1 ( <http://www.wikidata.org/prop/direct/P31> / <http://www.wikidata.org/prop/direct/P279>*) <http://www.wikidata.org/entity/Q13220204> .\\n SERVICE  <http://wikiba.se/ontology#label>   {\\n    <http://www.bigdata.com/rdf#serviceParam>  <http://wikiba.se/ontology#language>  \"fi\".\\n  }\\n FILTER (  (  NOT EXISTS  {\\n   ?var1 ( <http://www.wikidata.org/prop/direct/P31> / <http://www.wikidata.org/prop/direct/P279>*) <http://www.wikidata.org/entity/Q19953632> .\\n }\\n ) \\n) .\\n}\\nGROUP BY  ?var1 \\n\n25659  SELECT%28++%3Fvar1++AS++%3Fvar2++%29%0AWHERE+%7B%0A++%3Chttp%3A%2F%2Fwww.wikidata.org%2Fentity%2FQ211907%3E+%28+%3Chttp%3A%2F%2Fwww.wikidata.org%2Fprop%2Fdirect%2FP131%3E+%2F+%3Chttp%3A%2F%2Fwww.wikidata.org%2Fprop%2Fdirect%2FP131%3E+*%29+%3Fvar3+.%0A++%3Fvar3+%28+%3Chttp%3A%2F%2Fwww.wikidata.org%2Fprop%2Fdirect%2FP31%3E+%2F+%3Chttp%3A%2F%2Fwww.wikidata.org%2Fprop%2Fdirect%2FP279%3E+*%29+%3Chttp%3A%2F%2Fwww.wikidata.org%2Fentity%2FQ10864048%3E+.%0A++%3Fvar1+%28+%3Chttp%3A%2F%2Fwww.wikidata.org%2Fprop%2Fdirect%2FP131%3E+%2F+%3Chttp%3A%2F%2Fwww.wikidata.org%2Fprop%2Fdirect%2FP131%3E+*%29+%3Fvar3+.%0A++%3Fvar1+%28+%3Chttp%3A%2F%2Fwww.wikidata.org%2Fprop%2Fdirect%2FP31%3E+%2F+%3Chttp%3A%2F%2Fwww.wikidata.org%2Fprop%2Fdirect%2FP279%3E+*%29+%3Chttp%3A%2F%2Fwww.wikidata.org%2Fentity%2FQ13221722%3E+.%0A+SERVICE++%3Chttp%3A%2F%2Fwikiba.se%2Fontology%23label%3E+++%7B%0A++++%3Chttp%3A%2F%2Fwww.bigdata.com%2Frdf%23serviceParam%3E++%3Chttp%3A%2F%2Fwikiba.se%2Fontology%23language%3E++%22fi%22.%0A++%7D%0A+FILTER+%28++%28++NOT+EXISTS++%7B%0A+++%3Fvar1+%28+%3Chttp%3A%2F%2Fwww.wikidata.org%2Fprop%2Fdirect%2FP31%3E+%2F+%3Chttp%3A%2F%2Fwww.wikidata.org%2Fprop%2Fdirect%2FP279%3E+*%29+%3Chttp%3A%2F%2Fwww.wikidata.org%2Fentity%2FQ19953632%3E+.%0A+%7D%0A+%29+%0A%29+.%0A%7D%0AGROUP+BY++%3Fvar1+%0A  ...  SELECT(  ?var1  AS  ?var2  )\\nWHERE {\\n  <http://www.wikidata.org/entity/Q211907> ( <http://www.wikidata.org/prop/direct/P131> / <http://www.wikidata.org/prop/direct/P131>*) ?var3 .\\n  ?var3 ( <http://www.wikidata.org/prop/direct/P31> / <http://www.wikidata.org/prop/direct/P279>*) <http://www.wikidata.org/entity/Q10864048> .\\n  ?var1 ( <http://www.wikidata.org/prop/direct/P131> / <http://www.wikidata.org/prop/direct/P131>*) ?var3 .\\n  ?var1 ( <http://www.wikidata.org/prop/direct/P31> / <http://www.wikidata.org/prop/direct/P279>*) <http://www.wikidata.org/entity/Q13221722> .\\n SERVICE  <http://wikiba.se/ontology#label>   {\\n    <http://www.bigdata.com/rdf#serviceParam>  <http://wikiba.se/ontology#language>  \"fi\".\\n  }\\n FILTER (  (  NOT EXISTS  {\\n   ?var1 ( <http://www.wikidata.org/prop/direct/P31> / <http://www.wikidata.org/prop/direct/P279>*) <http://www.wikidata.org/entity/Q19953632> .\\n }\\n ) \\n) .\\n}\\nGROUP BY  ?var1 \\n\n25660  SELECT%28++%3Fvar1++AS++%3Fvar2++%29%0AWHERE+%7B%0A++%3Chttp%3A%2F%2Fwww.wikidata.org%2Fentity%2FQ211907%3E+%28+%3Chttp%3A%2F%2Fwww.wikidata.org%2Fprop%2Fdirect%2FP131%3E+%2F+%3Chttp%3A%2F%2Fwww.wikidata.org%2Fprop%2Fdirect%2FP131%3E+*%29+%3Fvar3+.%0A++%3Fvar3+%28+%3Chttp%3A%2F%2Fwww.wikidata.org%2Fprop%2Fdirect%2FP31%3E+%2F+%3Chttp%3A%2F%2Fwww.wikidata.org%2Fprop%2Fdirect%2FP279%3E+*%29+%3Chttp%3A%2F%2Fwww.wikidata.org%2Fentity%2FQ10864048%3E+.%0A++%3Fvar1+%28+%3Chttp%3A%2F%2Fwww.wikidata.org%2Fprop%2Fdirect%2FP131%3E+%2F+%3Chttp%3A%2F%2Fwww.wikidata.org%2Fprop%2Fdirect%2FP131%3E+*%29+%3Fvar3+.%0A++%3Fvar1+%28+%3Chttp%3A%2F%2Fwww.wikidata.org%2Fprop%2Fdirect%2FP31%3E+%2F+%3Chttp%3A%2F%2Fwww.wikidata.org%2Fprop%2Fdirect%2FP279%3E+*%29+%3Chttp%3A%2F%2Fwww.wikidata.org%2Fentity%2FQ13221722%3E+.%0A+SERVICE++%3Chttp%3A%2F%2Fwikiba.se%2Fontology%23label%3E+++%7B%0A++++%3Chttp%3A%2F%2Fwww.bigdata.com%2Frdf%23serviceParam%3E++%3Chttp%3A%2F%2Fwikiba.se%2Fontology%23language%3E++%22fi%22.%0A++%7D%0A+FILTER+%28++%28++NOT+EXISTS++%7B%0A+++%3Fvar1+%28+%3Chttp%3A%2F%2Fwww.wikidata.org%2Fprop%2Fdirect%2FP31%3E+%2F+%3Chttp%3A%2F%2Fwww.wikidata.org%2Fprop%2Fdirect%2FP279%3E+*%29+%3Chttp%3A%2F%2Fwww.wikidata.org%2Fentity%2FQ19953632%3E+.%0A+%7D%0A+%29+%0A%29+.%0A%7D%0AGROUP+BY++%3Fvar1+%0A  ...  SELECT(  ?var1  AS  ?var2  )\\nWHERE {\\n  <http://www.wikidata.org/entity/Q211907> ( <http://www.wikidata.org/prop/direct/P131> / <http://www.wikidata.org/prop/direct/P131>*) ?var3 .\\n  ?var3 ( <http://www.wikidata.org/prop/direct/P31> / <http://www.wikidata.org/prop/direct/P279>*) <http://www.wikidata.org/entity/Q10864048> .\\n  ?var1 ( <http://www.wikidata.org/prop/direct/P131> / <http://www.wikidata.org/prop/direct/P131>*) ?var3 .\\n  ?var1 ( <http://www.wikidata.org/prop/direct/P31> / <http://www.wikidata.org/prop/direct/P279>*) <http://www.wikidata.org/entity/Q13221722> .\\n SERVICE  <http://wikiba.se/ontology#label>   {\\n    <http://www.bigdata.com/rdf#serviceParam>  <http://wikiba.se/ontology#language>  \"fi\".\\n  }\\n FILTER (  (  NOT EXISTS  {\\n   ?var1 ( <http://www.wikidata.org/prop/direct/P31> / <http://www.wikidata.org/prop/direct/P279>*) <http://www.wikidata.org/entity/Q19953632> .\\n }\\n ) \\n) .\\n}\\nGROUP BY  ?var1 \\n\n25661  SELECT+%3Fvar1++%3Fvar2Label++%3Fvar1Label++%3Fvar3++%3Fvar4++%3Fvar4Label+%0AWHERE+%7B%0A++VALUES+%28++%3Fvar2++%29+%7B%0A+++%28++%3Chttp%3A%2F%2Fwww.wikidata.org%2Fentity%2FQ5608%3E++%29%0A++%7D%0A++%3Fvar1++%3Chttp%3A%2F%2Fwww.wikidata.org%2Fprop%2Fdirect%2FP175%3E++%3Fvar2+.%0A++%3Fvar1++%3Chttp%3A%2F%2Fwww.wikidata.org%2Fprop%2Fdirect%2FP577%3E++%3Fvar3+.%0A+SERVICE++%3Chttp%3A%2F%2Fwikiba.se%2Fontology%23label%3E+++%7B%0A++++%3Chttp%3A%2F%2Fwww.bigdata.com%2Frdf%23serviceParam%3E++%3Chttp%3A%2F%2Fwikiba.se%2Fontology%23language%3E++%22en%22.%0A++%7D%0A+OPTIONAL+%7B%0A++%3Fvar5++%3Chttp%3A%2F%2Fwww.wikidata.org%2Fprop%2Fdirect%2FP136%3E++%3Fvar4+.%0A+%7D%0A%7D%0A                                                                                                                                                                                                                                                                                                                                                                                                                                                                                                                                                                                                                                           ...  SELECT ?var1  ?var2Label  ?var1Label  ?var3  ?var4  ?var4Label \\nWHERE {\\n  VALUES (  ?var2  ) {\\n   (  <http://www.wikidata.org/entity/Q5608>  )\\n  }\\n  ?var1  <http://www.wikidata.org/prop/direct/P175>  ?var2 .\\n  ?var1  <http://www.wikidata.org/prop/direct/P577>  ?var3 .\\n SERVICE  <http://wikiba.se/ontology#label>   {\\n    <http://www.bigdata.com/rdf#serviceParam>  <http://wikiba.se/ontology#language>  \"en\".\\n  }\\n OPTIONAL {\\n  ?var5  <http://www.wikidata.org/prop/direct/P136>  ?var4 .\\n }\\n}\\n                                                                                                                                                                                                                                                                                                                                                                                                                                                  \n25662  SELECT+%3Fvar1++%3Fvar2+%28++GROUP_CONCAT+%28++DISTINCT++%3Fvar3++%29++AS++%3Fvar4++%29%0AWHERE+%7B%0A++VALUES+%28++%3Fvar5++%29+%7B%0A+++%28++%3Chttp%3A%2F%2Fwww.wikidata.org%2Fentity%2FQ11424%3E++%29%0A+++%28++%3Chttp%3A%2F%2Fwww.wikidata.org%2Fentity%2FQ24862%3E++%29%0A+++%28++%3Chttp%3A%2F%2Fwww.wikidata.org%2Fentity%2FQ506240%3E++%29%0A+++%28++%3Chttp%3A%2F%2Fwww.wikidata.org%2Fentity%2FQ336144%3E++%29%0A++%7D%0A++BIND+%28++%3Chttp%3A%2F%2Fwww.w3.org%2F2001%2FXMLSchema%23integer%3E++%28+STRAFTER+%28++STR+%28++%3Fvar1++%29+%2C+%22Q%22+%29+%29++AS++%3Fvar2+%29.%0A++%3Fvar1++%3Chttp%3A%2F%2Fwww.wikidata.org%2Fprop%2Fdirect%2FP31%3E++%3Fvar5+.%0A+FILTER+%28++%28+%28++%3Fvar2++%3E+%2228090000%22%5E%5E%3Chttp%3A%2F%2Fwww.w3.org%2F2001%2FXMLSchema%23integer%3E++%29+%29+%0A%29+.%0A+OPTIONAL+%7B%0A++BIND+%28++CONCAT+%28++%22%5B%22%2C+STR+%28++%3Fvar6++%29+%2C+%22+%22%2C+%3Fvar7+%2C+%22%5D%22+%29++AS++%3Fvar3+%29.%0A++%3Fvar6++%3Chttp%3A%2F%2Fschema.org%2Fabout%3E++%3Fvar1+%3B%0A+%3Chttp%3A%2F%2Fschema.org%2FinLanguage%3E++%3Fvar7+.%0A+%7D%0A%7D%0AGROUP+BY++%3Fvar1++%3Fvar2+%0AORDER+BY++DESC%28+%3Fvar2+%29%0ALIMIT+500%0A                                                                                                                                                                  ...  SELECT ?var1  ?var2 (  GROUP_CONCAT (  DISTINCT  ?var3  )  AS  ?var4  )\\nWHERE {\\n  VALUES (  ?var5  ) {\\n   (  <http://www.wikidata.org/entity/Q11424>  )\\n   (  <http://www.wikidata.org/entity/Q24862>  )\\n   (  <http://www.wikidata.org/entity/Q506240>  )\\n   (  <http://www.wikidata.org/entity/Q336144>  )\\n  }\\n  BIND (  <http://www.w3.org/2001/XMLSchema#integer>  ( STRAFTER (  STR (  ?var1  ) , \"Q\" ) )  AS  ?var2 ).\\n  ?var1  <http://www.wikidata.org/prop/direct/P31>  ?var5 .\\n FILTER (  ( (  ?var2  > \"28090000\"^^<http://www.w3.org/2001/XMLSchema#integer>  ) ) \\n) .\\n OPTIONAL {\\n  BIND (  CONCAT (  \"[\", STR (  ?var6  ) , \" \", ?var7 , \"]\" )  AS  ?var3 ).\\n  ?var6  <http://schema.org/about>  ?var1 ;\\n <http://schema.org/inLanguage>  ?var7 .\\n }\\n}\\nGROUP BY  ?var1  ?var2 \\nORDER BY  DESC( ?var2 )\\nLIMIT 500\\n                                                                                                                      \n25663  SELECT+%3Fvar1+%0AWHERE+%7B%0A++%3Fvar1++%3Chttp%3A%2F%2Fwww.wikidata.org%2Fprop%2Fdirect%2FP345%3E++%3Fvar2+.%0A+FILTER+%28++%28++CONTAINS+%28++LCASE+%28++%3Fvar2++%29+%2C+%22nm1599776%22+%29++%29+%0A%29+.%0A+SERVICE++%3Chttp%3A%2F%2Fwikiba.se%2Fontology%23label%3E+++%7B%0A++++%3Chttp%3A%2F%2Fwww.bigdata.com%2Frdf%23serviceParam%3E++%3Chttp%3A%2F%2Fwikiba.se%2Fontology%23language%3E++%22en%22.%0A++%7D%0A%7D%0ALIMIT+1%0A                                                                                                                                                                                                                                                                                                                                                                                                                                                                                                                                                                                                                                                                                                                                                                                                                                                                                                       ...  SELECT ?var1 \\nWHERE {\\n  ?var1  <http://www.wikidata.org/prop/direct/P345>  ?var2 .\\n FILTER (  (  CONTAINS (  LCASE (  ?var2  ) , \"nm1599776\" )  ) \\n) .\\n SERVICE  <http://wikiba.se/ontology#label>   {\\n    <http://www.bigdata.com/rdf#serviceParam>  <http://wikiba.se/ontology#language>  \"en\".\\n  }\\n}\\nLIMIT 1\\n                                                                                                                                                                                                                                                                                                                                                                                                                                                                                                                                                                                                                                                \n25664  SELECT+*%0AWHERE+%7B%0A++%3Fvar1++%3Chttp%3A%2F%2Fwww.wikidata.org%2Fprop%2Fdirect%2FP345%3E++%3Fvar2+.%0A+FILTER+%28++%28+%28++%3Fvar2++%3D++%22tt6483832%22+%29+%29+%0A%29+.%0A++%3Fvar3++%3Chttp%3A%2F%2Fschema.org%2Fabout%3E++%3Fvar1+%3B%0A+%3Chttp%3A%2F%2Fschema.org%2FinLanguage%3E++%22en%22%3B%0A+%3Chttp%3A%2F%2Fschema.org%2FisPartOf%3E++%3Chttps%3A%2F%2Fen.wikipedia.org%2F%3E+.%0A%7D%0A                                                                                                                                                                                                                                                                                                                                                                                                                                                                                                                                                                                                                                                                                                                                                                                                                                                                                                                                      ...  SELECT *\\nWHERE {\\n  ?var1  <http://www.wikidata.org/prop/direct/P345>  ?var2 .\\n FILTER (  ( (  ?var2  =  \"tt6483832\" ) ) \\n) .\\n  ?var3  <http://schema.org/about>  ?var1 ;\\n <http://schema.org/inLanguage>  \"en\";\\n <http://schema.org/isPartOf>  <https://en.wikipedia.org/> .\\n}\\n                                                                                                                                                                                                                                                                                                                                                                                                                                                                                                                                                                                                                                                                                  \n25665  SELECT+DISTINCT+%3Fvar1++%3Fvar2+%0AWHERE+%7B%0A++%3Fvar1++%3Chttp%3A%2F%2Fwww.wikidata.org%2Fprop%2Fdirect%2FP31%3E++%3Chttp%3A%2F%2Fwww.wikidata.org%2Fentity%2FQ13442814%3E+.%0A++%3Fvar1++%3Chttp%3A%2F%2Fwww.wikidata.org%2Fprop%2Fdirect%2FP356%3E++%3Fvar2+.%0A++%3Fvar1++%3Chttp%3A%2F%2Fwww.wikidata.org%2Fprop%2Fdirect%2FP50%3E++%3Fvar3+.%0A++%3Fvar3++%3Chttp%3A%2F%2Fwww.wikidata.org%2Fprop%2Fdirect%2FP31%3E++%3Chttp%3A%2F%2Fwww.wikidata.org%2Fentity%2FQ5%3E+.%0A++MINUS+++%7B%0A++++%3Fvar3++%3Chttp%3A%2F%2Fwww.wikidata.org%2Fprop%2Fdirect%2FP496%3E++%5B%5D+.%0A++%7D%0A++MINUS+++%7B%0A++++%3Fvar3++%3Chttp%3A%2F%2Fwww.wikidata.org%2Fprop%2Fdirect%2FP570%3E++%5B%5D+.%0A++%7D%0A%7D%0AORDER+BY+ASC%28+RAND+%28++%29+%29%0ALIMIT+2000%0A                                                                                                                                                                                                                                                                                                                                                                                                                                                                                                                                                                            ...  SELECT DISTINCT ?var1  ?var2 \\nWHERE {\\n  ?var1  <http://www.wikidata.org/prop/direct/P31>  <http://www.wikidata.org/entity/Q13442814> .\\n  ?var1  <http://www.wikidata.org/prop/direct/P356>  ?var2 .\\n  ?var1  <http://www.wikidata.org/prop/direct/P50>  ?var3 .\\n  ?var3  <http://www.wikidata.org/prop/direct/P31>  <http://www.wikidata.org/entity/Q5> .\\n  MINUS   {\\n    ?var3  <http://www.wikidata.org/prop/direct/P496>  [] .\\n  }\\n  MINUS   {\\n    ?var3  <http://www.wikidata.org/prop/direct/P570>  [] .\\n  }\\n}\\nORDER BY ASC( RAND (  ) )\\nLIMIT 2000\\n                                                                                                                                                                                                                                                                                                                                                                                                  \n25666  SELECT+%3Fvar1++%3Fvar2++%3Fvar3+%28++IF+%28+%28++%3Fvar3++%3E+%2211%22%5E%5E%3Chttp%3A%2F%2Fwww.w3.org%2F2001%2FXMLSchema%23integer%3E++%29%2C+%22string1%22%2C+%22string2%22+%29++AS++%3Fvar4++%29%0AWHERE+%7B%0A++%3Fvar1++%3Chttp%3A%2F%2Fwikiba.se%2Fontology%23sitelinks%3E++%3Fvar2+%3B%0A+%3Chttp%3A%2F%2Fwikiba.se%2Fontology%23statements%3E++%3Fvar3+.%0A+FILTER+%28++%28+%28++%3Fvar2++%3E+%22180%22%5E%5E%3Chttp%3A%2F%2Fwww.w3.org%2F2001%2FXMLSchema%23integer%3E++%29+%29+%0A%29+.%0A%7D%0AORDER+BY++DESC%28+%3Fvar2+%29%0ALIMIT+1000%0A                                                                                                                                                                                                                                                                                                                                                                                                                                                                                                                                                                                                                                                                                                                                                                                       ...  SELECT ?var1  ?var2  ?var3 (  IF ( (  ?var3  > \"11\"^^<http://www.w3.org/2001/XMLSchema#integer>  ), \"string1\", \"string2\" )  AS  ?var4  )\\nWHERE {\\n  ?var1  <http://wikiba.se/ontology#sitelinks>  ?var2 ;\\n <http://wikiba.se/ontology#statements>  ?var3 .\\n FILTER (  ( (  ?var2  > \"180\"^^<http://www.w3.org/2001/XMLSchema#integer>  ) ) \\n) .\\n}\\nORDER BY  DESC( ?var2 )\\nLIMIT 1000\\n                                                                                                                                                                                                                                                                                                                                                                                                                                                                                                                                                                             \n\n[25667 rows x 7 columns]",
      "text/html": "<div>\n<style scoped>\n    .dataframe tbody tr th:only-of-type {\n        vertical-align: middle;\n    }\n\n    .dataframe tbody tr th {\n        vertical-align: top;\n    }\n\n    .dataframe thead th {\n        text-align: right;\n    }\n</style>\n<table border=\"1\" class=\"dataframe\">\n  <thead>\n    <tr style=\"text-align: right;\">\n      <th></th>\n      <th>anonymizedQuery</th>\n      <th>timestamp</th>\n      <th>sourceCategory</th>\n      <th>user_agent</th>\n      <th>file_path</th>\n      <th>interval</th>\n      <th>rawAnonymizedQuery</th>\n    </tr>\n  </thead>\n  <tbody>\n    <tr>\n      <th>0</th>\n      <td>SELECT+%3Fvar1++%3Fvar1Label++%3Fvar2++%3Fvar2Label++%3Fvar3++%3Fvar3Label+%0AWHERE+%7B%0A+SERVICE++%3Chttp%3A%2F%2Fwikiba.se%2Fontology%23label%3E+++%7B%0A++++%3Chttp%3A%2F%2Fwww.bigdata.com%2Frdf%23serviceParam%3E++%3Chttp%3A%2F%2Fwikiba.se%2Fontology%23language%3E++%22en%2Cen%22.%0A++%7D%0A++%3Fvar1++%3Chttp%3A%2F%2Fwww.wikidata.org%2Fprop%2Fdirect%2FP31%3E++%3Chttp%3A%2F%2Fwww.wikidata.org%2Fentity%2FQ215380%3E+.%0A+OPTIONAL+%7B%0A++%3Fvar4++%3Chttp%3A%2F%2Fwww.wikidata.org%2Fprop%2Fdirect%2FP136%3E++%3Fvar2+.%0A+%7D%0A+OPTIONAL+%7B%0A++%3Fvar4++%3Chttp%3A%2F%2Fwww.wikidata.org%2Fprop%2Fdirect%2FP264%3E++%3Fvar3+.%0A+%7D%0A%7D%0ALIMIT+10%0A</td>\n      <td>2018-02-26 00:03:29</td>\n      <td>organic</td>\n      <td>browser</td>\n      <td>../BadRequeteCrypt/I7_status500_Joined.tsv</td>\n      <td>7</td>\n      <td>SELECT ?var1  ?var1Label  ?var2  ?var2Label  ?var3  ?var3Label \\nWHERE {\\n SERVICE  &lt;http://wikiba.se/ontology#label&gt;   {\\n    &lt;http://www.bigdata.com/rdf#serviceParam&gt;  &lt;http://wikiba.se/ontology#language&gt;  \"en,en\".\\n  }\\n  ?var1  &lt;http://www.wikidata.org/prop/direct/P31&gt;  &lt;http://www.wikidata.org/entity/Q215380&gt; .\\n OPTIONAL {\\n  ?var4  &lt;http://www.wikidata.org/prop/direct/P136&gt;  ?var2 .\\n }\\n OPTIONAL {\\n  ?var4  &lt;http://www.wikidata.org/prop/direct/P264&gt;  ?var3 .\\n }\\n}\\nLIMIT 10\\n</td>\n    </tr>\n    <tr>\n      <th>1</th>\n      <td>SELECT+DISTINCT+%3Fvar1+%0AWHERE+%7B%0A++BIND+%28++%28++NOW+%28++%29+-+%3Fvar2++%29++AS++%3Fvar3+%29.%0A++%3Fvar1++%3Chttp%3A%2F%2Fwww.wikidata.org%2Fprop%2Fdirect%2FP570%3E++%3Fvar2+.%0A+FILTER+%28++%28+%28++%3Fvar3++%3E%3D+%220%22%5E%5E%3Chttp%3A%2F%2Fwww.w3.org%2F2001%2FXMLSchema%23integer%3E++%29+%26%26+%28++%3Fvar3++%3C%3D+%225%22%5E%5E%3Chttp%3A%2F%2Fwww.w3.org%2F2001%2FXMLSchema%23integer%3E++%29+%29+%0A%29+.%0A++%3Fvar4++%3Chttp%3A%2F%2Fschema.org%2Fabout%3E++%3Fvar1+.%0A++%3Fvar4++%3Chttp%3A%2F%2Fschema.org%2FinLanguage%3E++%22es%22.%0A++%3Fvar4++%3Chttp%3A%2F%2Fschema.org%2FisPartOf%3E++%3Chttps%3A%2F%2Fes.wikipedia.org%2F%3E+.%0A%7D%0A</td>\n      <td>2018-02-26 00:04:13</td>\n      <td>robotic</td>\n      <td>UNKNOWN</td>\n      <td>../BadRequeteCrypt/I7_status500_Joined.tsv</td>\n      <td>7</td>\n      <td>SELECT DISTINCT ?var1 \\nWHERE {\\n  BIND (  (  NOW (  ) - ?var2  )  AS  ?var3 ).\\n  ?var1  &lt;http://www.wikidata.org/prop/direct/P570&gt;  ?var2 .\\n FILTER (  ( (  ?var3  &gt;= \"0\"^^&lt;http://www.w3.org/2001/XMLSchema#integer&gt;  ) &amp;&amp; (  ?var3  &lt;= \"5\"^^&lt;http://www.w3.org/2001/XMLSchema#integer&gt;  ) ) \\n) .\\n  ?var4  &lt;http://schema.org/about&gt;  ?var1 .\\n  ?var4  &lt;http://schema.org/inLanguage&gt;  \"es\".\\n  ?var4  &lt;http://schema.org/isPartOf&gt;  &lt;https://es.wikipedia.org/&gt; .\\n}\\n</td>\n    </tr>\n    <tr>\n      <th>2</th>\n      <td>SELECT+%3Fvar1++%3Fvar1Label+%28+COUNT+%28+DISTINCT++%3Fvar2++%29+AS++%3Fvar3++%29%0AWHERE+%7B%0A++%3Fvar2++%3Chttp%3A%2F%2Fwww.wikidata.org%2Fprop%2Fdirect%2FP19%3E++%3Fvar1+%3B%0A%28+%3Chttp%3A%2F%2Fwww.wikidata.org%2Fprop%2Fdirect%2FP106%3E+%2F+%3Chttp%3A%2F%2Fwww.wikidata.org%2Fprop%2Fdirect%2FP279%3E+*%29+%3Chttp%3A%2F%2Fwww.wikidata.org%2Fentity%2FQ901%3E+.%0A++%3Fvar1+%28+%3Chttp%3A%2F%2Fwww.wikidata.org%2Fprop%2Fdirect%2FP17%3E+*%2F+%3Chttp%3A%2F%2Fwww.wikidata.org%2Fprop%2Fdirect%2FP30%3E+%29+%3Chttp%3A%2F%2Fwww.wikidata.org%2Fentity%2FQ46%3E+.%0A+SERVICE++%3Chttp%3A%2F%2Fwikiba.se%2Fontology%23label%3E+++%7B%0A++++%3Chttp%3A%2F%2Fwww.bigdata.com%2Frdf%23serviceParam%3E++%3Chttp%3A%2F%2Fwikiba.se%2Fontology%23language%3E++%22en%22.%0A++%7D%0A%7D%0AGROUP+BY++%3Fvar1++%3Fvar1Label+%0AORDER+BY++DESC%28+%3Fvar3+%29%0ALIMIT+10%0A</td>\n      <td>2018-02-26 00:04:19</td>\n      <td>organic</td>\n      <td>browser</td>\n      <td>../BadRequeteCrypt/I7_status500_Joined.tsv</td>\n      <td>7</td>\n      <td>SELECT ?var1  ?var1Label ( COUNT ( DISTINCT  ?var2  ) AS  ?var3  )\\nWHERE {\\n  ?var2  &lt;http://www.wikidata.org/prop/direct/P19&gt;  ?var1 ;\\n( &lt;http://www.wikidata.org/prop/direct/P106&gt; / &lt;http://www.wikidata.org/prop/direct/P279&gt;*) &lt;http://www.wikidata.org/entity/Q901&gt; .\\n  ?var1 ( &lt;http://www.wikidata.org/prop/direct/P17&gt;*/ &lt;http://www.wikidata.org/prop/direct/P30&gt; ) &lt;http://www.wikidata.org/entity/Q46&gt; .\\n SERVICE  &lt;http://wikiba.se/ontology#label&gt;   {\\n    &lt;http://www.bigdata.com/rdf#serviceParam&gt;  &lt;http://wikiba.se/ontology#language&gt;  \"en\".\\n  }\\n}\\nGROUP BY  ?var1  ?var1Label \\nORDER BY  DESC( ?var3 )\\nLIMIT 10\\n</td>\n    </tr>\n    <tr>\n      <th>3</th>\n      <td>SELECT+%3Fvar1++%3Fvar1Label++%3Fvar2++%3Fvar2Label++%3Fvar3++%3Fvar3Label+%0AWHERE+%7B%0A+SERVICE++%3Chttp%3A%2F%2Fwikiba.se%2Fontology%23label%3E+++%7B%0A++++%3Chttp%3A%2F%2Fwww.bigdata.com%2Frdf%23serviceParam%3E++%3Chttp%3A%2F%2Fwikiba.se%2Fontology%23language%3E++%22en%2Cen%22.%0A++%7D%0A++%3Fvar1++%3Chttp%3A%2F%2Fwww.wikidata.org%2Fprop%2Fdirect%2FP31%3E++%3Chttp%3A%2F%2Fwww.wikidata.org%2Fentity%2FQ215380%3E+.%0A+OPTIONAL+%7B%0A++%3Fvar4++%3Chttp%3A%2F%2Fwww.wikidata.org%2Fprop%2Fdirect%2FP136%3E++%3Fvar2+.%0A+%7D%0A+OPTIONAL+%7B%0A++%3Fvar4++%3Chttp%3A%2F%2Fwww.wikidata.org%2Fprop%2Fdirect%2FP264%3E++%3Fvar3+.%0A+%7D%0A%7D%0ALIMIT+10%0A</td>\n      <td>2018-02-26 00:04:34</td>\n      <td>organic</td>\n      <td>browser</td>\n      <td>../BadRequeteCrypt/I7_status500_Joined.tsv</td>\n      <td>7</td>\n      <td>SELECT ?var1  ?var1Label  ?var2  ?var2Label  ?var3  ?var3Label \\nWHERE {\\n SERVICE  &lt;http://wikiba.se/ontology#label&gt;   {\\n    &lt;http://www.bigdata.com/rdf#serviceParam&gt;  &lt;http://wikiba.se/ontology#language&gt;  \"en,en\".\\n  }\\n  ?var1  &lt;http://www.wikidata.org/prop/direct/P31&gt;  &lt;http://www.wikidata.org/entity/Q215380&gt; .\\n OPTIONAL {\\n  ?var4  &lt;http://www.wikidata.org/prop/direct/P136&gt;  ?var2 .\\n }\\n OPTIONAL {\\n  ?var4  &lt;http://www.wikidata.org/prop/direct/P264&gt;  ?var3 .\\n }\\n}\\nLIMIT 10\\n</td>\n    </tr>\n    <tr>\n      <th>4</th>\n      <td>SELECT+%3Fvar1++%3Fvar2++%3Fvar3+%0AWHERE+%7B%0A++%3Fvar1+%28+%3Chttp%3A%2F%2Fwww.wikidata.org%2Fprop%2Fdirect%2FP31%3E+%2F+%3Chttp%3A%2F%2Fwww.wikidata.org%2Fprop%2Fdirect%2FP279%3E+*%29+%3Chttp%3A%2F%2Fwww.wikidata.org%2Fentity%2FQ1190554%3E+.%0A++%3Fvar1++%3Chttp%3A%2F%2Fwww.wikidata.org%2Fprop%2Fdirect%2FP585%3E++%3Fvar2+.%0A++%3Fvar3++%3Chttp%3A%2F%2Fschema.org%2Fabout%3E++%3Fvar1+.%0A++%3Fvar3++%3Chttp%3A%2F%2Fschema.org%2FisPartOf%3E++%3Chttps%3A%2F%2Fen.wikipedia.org%2F%3E+.%0A+FILTER+%28++%28+%28++DATATYPE+%28++%3Fvar2++%29++%3D++%3Chttp%3A%2F%2Fwww.w3.org%2F2001%2FXMLSchema%23dateTime%3E++%29+%26%26+%28++MONTH+%28++%3Fvar2++%29++%3D++MONTH+%28++NOW+%28++%29++%29++%29+%26%26+%28++DAY+%28++%3Fvar2++%29++%3D++DAY+%28++NOW+%28++%29++%29++%29+%29+%0A%29+.%0A%7D%0AORDER+BY++DESC%28+%3Fvar2+%29%0ALIMIT+5%0A</td>\n      <td>2018-02-26 00:04:45</td>\n      <td>robotic</td>\n      <td>UNKNOWN</td>\n      <td>../BadRequeteCrypt/I7_status500_Joined.tsv</td>\n      <td>7</td>\n      <td>SELECT ?var1  ?var2  ?var3 \\nWHERE {\\n  ?var1 ( &lt;http://www.wikidata.org/prop/direct/P31&gt; / &lt;http://www.wikidata.org/prop/direct/P279&gt;*) &lt;http://www.wikidata.org/entity/Q1190554&gt; .\\n  ?var1  &lt;http://www.wikidata.org/prop/direct/P585&gt;  ?var2 .\\n  ?var3  &lt;http://schema.org/about&gt;  ?var1 .\\n  ?var3  &lt;http://schema.org/isPartOf&gt;  &lt;https://en.wikipedia.org/&gt; .\\n FILTER (  ( (  DATATYPE (  ?var2  )  =  &lt;http://www.w3.org/2001/XMLSchema#dateTime&gt;  ) &amp;&amp; (  MONTH (  ?var2  )  =  MONTH (  NOW (  )  )  ) &amp;&amp; (  DAY (  ?var2  )  =  DAY (  NOW (  )  )  ) ) \\n) .\\n}\\nORDER BY  DESC( ?var2 )\\nLIMIT 5\\n</td>\n    </tr>\n    <tr>\n      <th>5</th>\n      <td>SELECT+DISTINCT+%3Fvar1+%0AWHERE+%7B%0A++BIND+%28++%28++NOW+%28++%29+-+%3Fvar2++%29++AS++%3Fvar3+%29.%0A++%3Fvar1++%3Chttp%3A%2F%2Fwww.wikidata.org%2Fprop%2Fdirect%2FP570%3E++%3Fvar2+.%0A+FILTER+%28++%28+%28++%3Fvar3++%3E%3D+%220%22%5E%5E%3Chttp%3A%2F%2Fwww.w3.org%2F2001%2FXMLSchema%23integer%3E++%29+%26%26+%28++%3Fvar3++%3C%3D+%225%22%5E%5E%3Chttp%3A%2F%2Fwww.w3.org%2F2001%2FXMLSchema%23integer%3E++%29+%29+%0A%29+.%0A++%3Fvar4++%3Chttp%3A%2F%2Fschema.org%2Fabout%3E++%3Fvar1+.%0A++%3Fvar4++%3Chttp%3A%2F%2Fschema.org%2FinLanguage%3E++%22es%22.%0A++%3Fvar4++%3Chttp%3A%2F%2Fschema.org%2FisPartOf%3E++%3Chttps%3A%2F%2Fes.wikipedia.org%2F%3E+.%0A%7D%0A</td>\n      <td>2018-02-26 00:06:14</td>\n      <td>robotic</td>\n      <td>UNKNOWN</td>\n      <td>../BadRequeteCrypt/I7_status500_Joined.tsv</td>\n      <td>7</td>\n      <td>SELECT DISTINCT ?var1 \\nWHERE {\\n  BIND (  (  NOW (  ) - ?var2  )  AS  ?var3 ).\\n  ?var1  &lt;http://www.wikidata.org/prop/direct/P570&gt;  ?var2 .\\n FILTER (  ( (  ?var3  &gt;= \"0\"^^&lt;http://www.w3.org/2001/XMLSchema#integer&gt;  ) &amp;&amp; (  ?var3  &lt;= \"5\"^^&lt;http://www.w3.org/2001/XMLSchema#integer&gt;  ) ) \\n) .\\n  ?var4  &lt;http://schema.org/about&gt;  ?var1 .\\n  ?var4  &lt;http://schema.org/inLanguage&gt;  \"es\".\\n  ?var4  &lt;http://schema.org/isPartOf&gt;  &lt;https://es.wikipedia.org/&gt; .\\n}\\n</td>\n    </tr>\n    <tr>\n      <th>6</th>\n      <td>SELECT+DISTINCT+%3Fvar1Label++%3Fvar2Label++%3Fvar1+%0AWHERE+%7B%0A++%3Fvar1+%28+%3Chttp%3A%2F%2Fwww.wikidata.org%2Fprop%2Fdirect%2FP31%3E+%2F+%3Chttp%3A%2F%2Fwww.wikidata.org%2Fprop%2Fdirect%2FP279%3E+*%29+%3Chttp%3A%2F%2Fwww.wikidata.org%2Fentity%2FQ6999%3E+.%0A+OPTIONAL+%7B%0A++%3Fvar1++%3Chttp%3A%2F%2Fwww.wikidata.org%2Fprop%2Fdirect%2FP31%3E++%3Fvar2+.%0A+FILTER+%28++%28+%28++%3Fvar2++%21%3D++%3Chttp%3A%2F%2Fwww.wikidata.org%2Fentity%2FQ6999%3E++%29+%29+%0A%29+.%0A+%7D%0A+SERVICE++%3Chttp%3A%2F%2Fwikiba.se%2Fontology%23label%3E+++%7B%0A++++%3Chttp%3A%2F%2Fwww.bigdata.com%2Frdf%23serviceParam%3E++%3Chttp%3A%2F%2Fwikiba.se%2Fontology%23language%3E++%22en%22.%0A++%7D%0A%7D%0AORDER+BY+ASC%28+%3Fvar2Label+%29ASC%28+%3Fvar1Label+%29%0A</td>\n      <td>2018-02-26 00:06:39</td>\n      <td>organic</td>\n      <td>browser</td>\n      <td>../BadRequeteCrypt/I7_status500_Joined.tsv</td>\n      <td>7</td>\n      <td>SELECT DISTINCT ?var1Label  ?var2Label  ?var1 \\nWHERE {\\n  ?var1 ( &lt;http://www.wikidata.org/prop/direct/P31&gt; / &lt;http://www.wikidata.org/prop/direct/P279&gt;*) &lt;http://www.wikidata.org/entity/Q6999&gt; .\\n OPTIONAL {\\n  ?var1  &lt;http://www.wikidata.org/prop/direct/P31&gt;  ?var2 .\\n FILTER (  ( (  ?var2  !=  &lt;http://www.wikidata.org/entity/Q6999&gt;  ) ) \\n) .\\n }\\n SERVICE  &lt;http://wikiba.se/ontology#label&gt;   {\\n    &lt;http://www.bigdata.com/rdf#serviceParam&gt;  &lt;http://wikiba.se/ontology#language&gt;  \"en\".\\n  }\\n}\\nORDER BY ASC( ?var2Label )ASC( ?var1Label )\\n</td>\n    </tr>\n    <tr>\n      <th>7</th>\n      <td>SELECT+%3Fvar1++%3Fvar2++%3Fvar3+%0AWHERE+%7B%0A++%3Fvar1+%28+%3Chttp%3A%2F%2Fwww.wikidata.org%2Fprop%2Fdirect%2FP31%3E+%2F+%3Chttp%3A%2F%2Fwww.wikidata.org%2Fprop%2Fdirect%2FP279%3E+*%29+%3Chttp%3A%2F%2Fwww.wikidata.org%2Fentity%2FQ1190554%3E+.%0A++%3Fvar1++%3Chttp%3A%2F%2Fwww.wikidata.org%2Fprop%2Fdirect%2FP585%3E++%3Fvar2+.%0A++%3Fvar3++%3Chttp%3A%2F%2Fschema.org%2Fabout%3E++%3Fvar1+.%0A++%3Fvar3++%3Chttp%3A%2F%2Fschema.org%2FisPartOf%3E++%3Chttps%3A%2F%2Fen.wikipedia.org%2F%3E+.%0A+FILTER+%28++%28+%28++DATATYPE+%28++%3Fvar2++%29++%3D++%3Chttp%3A%2F%2Fwww.w3.org%2F2001%2FXMLSchema%23dateTime%3E++%29+%26%26+%28++MONTH+%28++%3Fvar2++%29++%3D++MONTH+%28++NOW+%28++%29++%29++%29+%26%26+%28++DAY+%28++%3Fvar2++%29++%3D++DAY+%28++NOW+%28++%29++%29++%29+%29+%0A%29+.%0A%7D%0AORDER+BY++DESC%28+%3Fvar2+%29%0ALIMIT+5%0A</td>\n      <td>2018-02-26 00:06:40</td>\n      <td>robotic</td>\n      <td>UNKNOWN</td>\n      <td>../BadRequeteCrypt/I7_status500_Joined.tsv</td>\n      <td>7</td>\n      <td>SELECT ?var1  ?var2  ?var3 \\nWHERE {\\n  ?var1 ( &lt;http://www.wikidata.org/prop/direct/P31&gt; / &lt;http://www.wikidata.org/prop/direct/P279&gt;*) &lt;http://www.wikidata.org/entity/Q1190554&gt; .\\n  ?var1  &lt;http://www.wikidata.org/prop/direct/P585&gt;  ?var2 .\\n  ?var3  &lt;http://schema.org/about&gt;  ?var1 .\\n  ?var3  &lt;http://schema.org/isPartOf&gt;  &lt;https://en.wikipedia.org/&gt; .\\n FILTER (  ( (  DATATYPE (  ?var2  )  =  &lt;http://www.w3.org/2001/XMLSchema#dateTime&gt;  ) &amp;&amp; (  MONTH (  ?var2  )  =  MONTH (  NOW (  )  )  ) &amp;&amp; (  DAY (  ?var2  )  =  DAY (  NOW (  )  )  ) ) \\n) .\\n}\\nORDER BY  DESC( ?var2 )\\nLIMIT 5\\n</td>\n    </tr>\n    <tr>\n      <th>8</th>\n      <td>SELECT+%3Fvar1++%3Fvar2++%3Fvar3+%0AWHERE+%7B%0A++%3Fvar1+%28+%3Chttp%3A%2F%2Fwww.wikidata.org%2Fprop%2Fdirect%2FP31%3E+%2F+%3Chttp%3A%2F%2Fwww.wikidata.org%2Fprop%2Fdirect%2FP279%3E+*%29+%3Chttp%3A%2F%2Fwww.wikidata.org%2Fentity%2FQ1190554%3E+.%0A++%3Fvar1++%3Chttp%3A%2F%2Fwww.wikidata.org%2Fprop%2Fdirect%2FP585%3E++%3Fvar2+.%0A++%3Fvar3++%3Chttp%3A%2F%2Fschema.org%2Fabout%3E++%3Fvar1+.%0A++%3Fvar3++%3Chttp%3A%2F%2Fschema.org%2FisPartOf%3E++%3Chttps%3A%2F%2Fen.wikipedia.org%2F%3E+.%0A+FILTER+%28++%28+%28++DATATYPE+%28++%3Fvar2++%29++%3D++%3Chttp%3A%2F%2Fwww.w3.org%2F2001%2FXMLSchema%23dateTime%3E++%29+%26%26+%28++MONTH+%28++%3Fvar2++%29++%3D++MONTH+%28++NOW+%28++%29++%29++%29+%26%26+%28++DAY+%28++%3Fvar2++%29++%3D++DAY+%28++NOW+%28++%29++%29++%29+%29+%0A%29+.%0A%7D%0AORDER+BY++DESC%28+%3Fvar2+%29%0ALIMIT+5%0A</td>\n      <td>2018-02-26 00:09:46</td>\n      <td>robotic</td>\n      <td>UNKNOWN</td>\n      <td>../BadRequeteCrypt/I7_status500_Joined.tsv</td>\n      <td>7</td>\n      <td>SELECT ?var1  ?var2  ?var3 \\nWHERE {\\n  ?var1 ( &lt;http://www.wikidata.org/prop/direct/P31&gt; / &lt;http://www.wikidata.org/prop/direct/P279&gt;*) &lt;http://www.wikidata.org/entity/Q1190554&gt; .\\n  ?var1  &lt;http://www.wikidata.org/prop/direct/P585&gt;  ?var2 .\\n  ?var3  &lt;http://schema.org/about&gt;  ?var1 .\\n  ?var3  &lt;http://schema.org/isPartOf&gt;  &lt;https://en.wikipedia.org/&gt; .\\n FILTER (  ( (  DATATYPE (  ?var2  )  =  &lt;http://www.w3.org/2001/XMLSchema#dateTime&gt;  ) &amp;&amp; (  MONTH (  ?var2  )  =  MONTH (  NOW (  )  )  ) &amp;&amp; (  DAY (  ?var2  )  =  DAY (  NOW (  )  )  ) ) \\n) .\\n}\\nORDER BY  DESC( ?var2 )\\nLIMIT 5\\n</td>\n    </tr>\n    <tr>\n      <th>...</th>\n      <td>...</td>\n      <td>...</td>\n      <td>...</td>\n      <td>...</td>\n      <td>...</td>\n      <td>...</td>\n      <td>...</td>\n    </tr>\n    <tr>\n      <th>25658</th>\n      <td>SELECT%28++%3Fvar1++AS++%3Fvar2++%29%0AWHERE+%7B%0A++%3Chttp%3A%2F%2Fwww.wikidata.org%2Fentity%2FQ211907%3E+%28+%3Chttp%3A%2F%2Fwww.wikidata.org%2Fprop%2Fdirect%2FP131%3E+%2F+%3Chttp%3A%2F%2Fwww.wikidata.org%2Fprop%2Fdirect%2FP131%3E+*%29+%3Fvar3+.%0A++%3Fvar3+%28+%3Chttp%3A%2F%2Fwww.wikidata.org%2Fprop%2Fdirect%2FP31%3E+%2F+%3Chttp%3A%2F%2Fwww.wikidata.org%2Fprop%2Fdirect%2FP279%3E+*%29+%3Chttp%3A%2F%2Fwww.wikidata.org%2Fentity%2FQ10864048%3E+.%0A++%3Fvar1+%28+%3Chttp%3A%2F%2Fwww.wikidata.org%2Fprop%2Fdirect%2FP131%3E+%2F+%3Chttp%3A%2F%2Fwww.wikidata.org%2Fprop%2Fdirect%2FP131%3E+*%29+%3Fvar3+.%0A++%3Fvar1+%28+%3Chttp%3A%2F%2Fwww.wikidata.org%2Fprop%2Fdirect%2FP31%3E+%2F+%3Chttp%3A%2F%2Fwww.wikidata.org%2Fprop%2Fdirect%2FP279%3E+*%29+%3Chttp%3A%2F%2Fwww.wikidata.org%2Fentity%2FQ13220204%3E+.%0A+SERVICE++%3Chttp%3A%2F%2Fwikiba.se%2Fontology%23label%3E+++%7B%0A++++%3Chttp%3A%2F%2Fwww.bigdata.com%2Frdf%23serviceParam%3E++%3Chttp%3A%2F%2Fwikiba.se%2Fontology%23language%3E++%22fi%22.%0A++%7D%0A+FILTER+%28++%28++NOT+EXISTS++%7B%0A+++%3Fvar1+%28+%3Chttp%3A%2F%2Fwww.wikidata.org%2Fprop%2Fdirect%2FP31%3E+%2F+%3Chttp%3A%2F%2Fwww.wikidata.org%2Fprop%2Fdirect%2FP279%3E+*%29+%3Chttp%3A%2F%2Fwww.wikidata.org%2Fentity%2FQ19953632%3E+.%0A+%7D%0A+%29+%0A%29+.%0A%7D%0AGROUP+BY++%3Fvar1+%0A</td>\n      <td>2018-03-25 23:32:09</td>\n      <td>robotic</td>\n      <td>UNKNOWN</td>\n      <td>../BadRequeteCrypt/I7_status500_Joined.tsv</td>\n      <td>7</td>\n      <td>SELECT(  ?var1  AS  ?var2  )\\nWHERE {\\n  &lt;http://www.wikidata.org/entity/Q211907&gt; ( &lt;http://www.wikidata.org/prop/direct/P131&gt; / &lt;http://www.wikidata.org/prop/direct/P131&gt;*) ?var3 .\\n  ?var3 ( &lt;http://www.wikidata.org/prop/direct/P31&gt; / &lt;http://www.wikidata.org/prop/direct/P279&gt;*) &lt;http://www.wikidata.org/entity/Q10864048&gt; .\\n  ?var1 ( &lt;http://www.wikidata.org/prop/direct/P131&gt; / &lt;http://www.wikidata.org/prop/direct/P131&gt;*) ?var3 .\\n  ?var1 ( &lt;http://www.wikidata.org/prop/direct/P31&gt; / &lt;http://www.wikidata.org/prop/direct/P279&gt;*) &lt;http://www.wikidata.org/entity/Q13220204&gt; .\\n SERVICE  &lt;http://wikiba.se/ontology#label&gt;   {\\n    &lt;http://www.bigdata.com/rdf#serviceParam&gt;  &lt;http://wikiba.se/ontology#language&gt;  \"fi\".\\n  }\\n FILTER (  (  NOT EXISTS  {\\n   ?var1 ( &lt;http://www.wikidata.org/prop/direct/P31&gt; / &lt;http://www.wikidata.org/prop/direct/P279&gt;*) &lt;http://www.wikidata.org/entity/Q19953632&gt; .\\n }\\n ) \\n) .\\n}\\nGROUP BY  ?var1 \\n</td>\n    </tr>\n    <tr>\n      <th>25659</th>\n      <td>SELECT%28++%3Fvar1++AS++%3Fvar2++%29%0AWHERE+%7B%0A++%3Chttp%3A%2F%2Fwww.wikidata.org%2Fentity%2FQ211907%3E+%28+%3Chttp%3A%2F%2Fwww.wikidata.org%2Fprop%2Fdirect%2FP131%3E+%2F+%3Chttp%3A%2F%2Fwww.wikidata.org%2Fprop%2Fdirect%2FP131%3E+*%29+%3Fvar3+.%0A++%3Fvar3+%28+%3Chttp%3A%2F%2Fwww.wikidata.org%2Fprop%2Fdirect%2FP31%3E+%2F+%3Chttp%3A%2F%2Fwww.wikidata.org%2Fprop%2Fdirect%2FP279%3E+*%29+%3Chttp%3A%2F%2Fwww.wikidata.org%2Fentity%2FQ10864048%3E+.%0A++%3Fvar1+%28+%3Chttp%3A%2F%2Fwww.wikidata.org%2Fprop%2Fdirect%2FP131%3E+%2F+%3Chttp%3A%2F%2Fwww.wikidata.org%2Fprop%2Fdirect%2FP131%3E+*%29+%3Fvar3+.%0A++%3Fvar1+%28+%3Chttp%3A%2F%2Fwww.wikidata.org%2Fprop%2Fdirect%2FP31%3E+%2F+%3Chttp%3A%2F%2Fwww.wikidata.org%2Fprop%2Fdirect%2FP279%3E+*%29+%3Chttp%3A%2F%2Fwww.wikidata.org%2Fentity%2FQ13221722%3E+.%0A+SERVICE++%3Chttp%3A%2F%2Fwikiba.se%2Fontology%23label%3E+++%7B%0A++++%3Chttp%3A%2F%2Fwww.bigdata.com%2Frdf%23serviceParam%3E++%3Chttp%3A%2F%2Fwikiba.se%2Fontology%23language%3E++%22fi%22.%0A++%7D%0A+FILTER+%28++%28++NOT+EXISTS++%7B%0A+++%3Fvar1+%28+%3Chttp%3A%2F%2Fwww.wikidata.org%2Fprop%2Fdirect%2FP31%3E+%2F+%3Chttp%3A%2F%2Fwww.wikidata.org%2Fprop%2Fdirect%2FP279%3E+*%29+%3Chttp%3A%2F%2Fwww.wikidata.org%2Fentity%2FQ19953632%3E+.%0A+%7D%0A+%29+%0A%29+.%0A%7D%0AGROUP+BY++%3Fvar1+%0A</td>\n      <td>2018-03-25 23:32:09</td>\n      <td>robotic</td>\n      <td>UNKNOWN</td>\n      <td>../BadRequeteCrypt/I7_status500_Joined.tsv</td>\n      <td>7</td>\n      <td>SELECT(  ?var1  AS  ?var2  )\\nWHERE {\\n  &lt;http://www.wikidata.org/entity/Q211907&gt; ( &lt;http://www.wikidata.org/prop/direct/P131&gt; / &lt;http://www.wikidata.org/prop/direct/P131&gt;*) ?var3 .\\n  ?var3 ( &lt;http://www.wikidata.org/prop/direct/P31&gt; / &lt;http://www.wikidata.org/prop/direct/P279&gt;*) &lt;http://www.wikidata.org/entity/Q10864048&gt; .\\n  ?var1 ( &lt;http://www.wikidata.org/prop/direct/P131&gt; / &lt;http://www.wikidata.org/prop/direct/P131&gt;*) ?var3 .\\n  ?var1 ( &lt;http://www.wikidata.org/prop/direct/P31&gt; / &lt;http://www.wikidata.org/prop/direct/P279&gt;*) &lt;http://www.wikidata.org/entity/Q13221722&gt; .\\n SERVICE  &lt;http://wikiba.se/ontology#label&gt;   {\\n    &lt;http://www.bigdata.com/rdf#serviceParam&gt;  &lt;http://wikiba.se/ontology#language&gt;  \"fi\".\\n  }\\n FILTER (  (  NOT EXISTS  {\\n   ?var1 ( &lt;http://www.wikidata.org/prop/direct/P31&gt; / &lt;http://www.wikidata.org/prop/direct/P279&gt;*) &lt;http://www.wikidata.org/entity/Q19953632&gt; .\\n }\\n ) \\n) .\\n}\\nGROUP BY  ?var1 \\n</td>\n    </tr>\n    <tr>\n      <th>25660</th>\n      <td>SELECT%28++%3Fvar1++AS++%3Fvar2++%29%0AWHERE+%7B%0A++%3Chttp%3A%2F%2Fwww.wikidata.org%2Fentity%2FQ211907%3E+%28+%3Chttp%3A%2F%2Fwww.wikidata.org%2Fprop%2Fdirect%2FP131%3E+%2F+%3Chttp%3A%2F%2Fwww.wikidata.org%2Fprop%2Fdirect%2FP131%3E+*%29+%3Fvar3+.%0A++%3Fvar3+%28+%3Chttp%3A%2F%2Fwww.wikidata.org%2Fprop%2Fdirect%2FP31%3E+%2F+%3Chttp%3A%2F%2Fwww.wikidata.org%2Fprop%2Fdirect%2FP279%3E+*%29+%3Chttp%3A%2F%2Fwww.wikidata.org%2Fentity%2FQ10864048%3E+.%0A++%3Fvar1+%28+%3Chttp%3A%2F%2Fwww.wikidata.org%2Fprop%2Fdirect%2FP131%3E+%2F+%3Chttp%3A%2F%2Fwww.wikidata.org%2Fprop%2Fdirect%2FP131%3E+*%29+%3Fvar3+.%0A++%3Fvar1+%28+%3Chttp%3A%2F%2Fwww.wikidata.org%2Fprop%2Fdirect%2FP31%3E+%2F+%3Chttp%3A%2F%2Fwww.wikidata.org%2Fprop%2Fdirect%2FP279%3E+*%29+%3Chttp%3A%2F%2Fwww.wikidata.org%2Fentity%2FQ13221722%3E+.%0A+SERVICE++%3Chttp%3A%2F%2Fwikiba.se%2Fontology%23label%3E+++%7B%0A++++%3Chttp%3A%2F%2Fwww.bigdata.com%2Frdf%23serviceParam%3E++%3Chttp%3A%2F%2Fwikiba.se%2Fontology%23language%3E++%22fi%22.%0A++%7D%0A+FILTER+%28++%28++NOT+EXISTS++%7B%0A+++%3Fvar1+%28+%3Chttp%3A%2F%2Fwww.wikidata.org%2Fprop%2Fdirect%2FP31%3E+%2F+%3Chttp%3A%2F%2Fwww.wikidata.org%2Fprop%2Fdirect%2FP279%3E+*%29+%3Chttp%3A%2F%2Fwww.wikidata.org%2Fentity%2FQ19953632%3E+.%0A+%7D%0A+%29+%0A%29+.%0A%7D%0AGROUP+BY++%3Fvar1+%0A</td>\n      <td>2018-03-25 23:32:09</td>\n      <td>robotic</td>\n      <td>UNKNOWN</td>\n      <td>../BadRequeteCrypt/I7_status500_Joined.tsv</td>\n      <td>7</td>\n      <td>SELECT(  ?var1  AS  ?var2  )\\nWHERE {\\n  &lt;http://www.wikidata.org/entity/Q211907&gt; ( &lt;http://www.wikidata.org/prop/direct/P131&gt; / &lt;http://www.wikidata.org/prop/direct/P131&gt;*) ?var3 .\\n  ?var3 ( &lt;http://www.wikidata.org/prop/direct/P31&gt; / &lt;http://www.wikidata.org/prop/direct/P279&gt;*) &lt;http://www.wikidata.org/entity/Q10864048&gt; .\\n  ?var1 ( &lt;http://www.wikidata.org/prop/direct/P131&gt; / &lt;http://www.wikidata.org/prop/direct/P131&gt;*) ?var3 .\\n  ?var1 ( &lt;http://www.wikidata.org/prop/direct/P31&gt; / &lt;http://www.wikidata.org/prop/direct/P279&gt;*) &lt;http://www.wikidata.org/entity/Q13221722&gt; .\\n SERVICE  &lt;http://wikiba.se/ontology#label&gt;   {\\n    &lt;http://www.bigdata.com/rdf#serviceParam&gt;  &lt;http://wikiba.se/ontology#language&gt;  \"fi\".\\n  }\\n FILTER (  (  NOT EXISTS  {\\n   ?var1 ( &lt;http://www.wikidata.org/prop/direct/P31&gt; / &lt;http://www.wikidata.org/prop/direct/P279&gt;*) &lt;http://www.wikidata.org/entity/Q19953632&gt; .\\n }\\n ) \\n) .\\n}\\nGROUP BY  ?var1 \\n</td>\n    </tr>\n    <tr>\n      <th>25661</th>\n      <td>SELECT+%3Fvar1++%3Fvar2Label++%3Fvar1Label++%3Fvar3++%3Fvar4++%3Fvar4Label+%0AWHERE+%7B%0A++VALUES+%28++%3Fvar2++%29+%7B%0A+++%28++%3Chttp%3A%2F%2Fwww.wikidata.org%2Fentity%2FQ5608%3E++%29%0A++%7D%0A++%3Fvar1++%3Chttp%3A%2F%2Fwww.wikidata.org%2Fprop%2Fdirect%2FP175%3E++%3Fvar2+.%0A++%3Fvar1++%3Chttp%3A%2F%2Fwww.wikidata.org%2Fprop%2Fdirect%2FP577%3E++%3Fvar3+.%0A+SERVICE++%3Chttp%3A%2F%2Fwikiba.se%2Fontology%23label%3E+++%7B%0A++++%3Chttp%3A%2F%2Fwww.bigdata.com%2Frdf%23serviceParam%3E++%3Chttp%3A%2F%2Fwikiba.se%2Fontology%23language%3E++%22en%22.%0A++%7D%0A+OPTIONAL+%7B%0A++%3Fvar5++%3Chttp%3A%2F%2Fwww.wikidata.org%2Fprop%2Fdirect%2FP136%3E++%3Fvar4+.%0A+%7D%0A%7D%0A</td>\n      <td>2018-03-25 23:34:02</td>\n      <td>organic</td>\n      <td>browser</td>\n      <td>../BadRequeteCrypt/I7_status500_Joined.tsv</td>\n      <td>7</td>\n      <td>SELECT ?var1  ?var2Label  ?var1Label  ?var3  ?var4  ?var4Label \\nWHERE {\\n  VALUES (  ?var2  ) {\\n   (  &lt;http://www.wikidata.org/entity/Q5608&gt;  )\\n  }\\n  ?var1  &lt;http://www.wikidata.org/prop/direct/P175&gt;  ?var2 .\\n  ?var1  &lt;http://www.wikidata.org/prop/direct/P577&gt;  ?var3 .\\n SERVICE  &lt;http://wikiba.se/ontology#label&gt;   {\\n    &lt;http://www.bigdata.com/rdf#serviceParam&gt;  &lt;http://wikiba.se/ontology#language&gt;  \"en\".\\n  }\\n OPTIONAL {\\n  ?var5  &lt;http://www.wikidata.org/prop/direct/P136&gt;  ?var4 .\\n }\\n}\\n</td>\n    </tr>\n    <tr>\n      <th>25662</th>\n      <td>SELECT+%3Fvar1++%3Fvar2+%28++GROUP_CONCAT+%28++DISTINCT++%3Fvar3++%29++AS++%3Fvar4++%29%0AWHERE+%7B%0A++VALUES+%28++%3Fvar5++%29+%7B%0A+++%28++%3Chttp%3A%2F%2Fwww.wikidata.org%2Fentity%2FQ11424%3E++%29%0A+++%28++%3Chttp%3A%2F%2Fwww.wikidata.org%2Fentity%2FQ24862%3E++%29%0A+++%28++%3Chttp%3A%2F%2Fwww.wikidata.org%2Fentity%2FQ506240%3E++%29%0A+++%28++%3Chttp%3A%2F%2Fwww.wikidata.org%2Fentity%2FQ336144%3E++%29%0A++%7D%0A++BIND+%28++%3Chttp%3A%2F%2Fwww.w3.org%2F2001%2FXMLSchema%23integer%3E++%28+STRAFTER+%28++STR+%28++%3Fvar1++%29+%2C+%22Q%22+%29+%29++AS++%3Fvar2+%29.%0A++%3Fvar1++%3Chttp%3A%2F%2Fwww.wikidata.org%2Fprop%2Fdirect%2FP31%3E++%3Fvar5+.%0A+FILTER+%28++%28+%28++%3Fvar2++%3E+%2228090000%22%5E%5E%3Chttp%3A%2F%2Fwww.w3.org%2F2001%2FXMLSchema%23integer%3E++%29+%29+%0A%29+.%0A+OPTIONAL+%7B%0A++BIND+%28++CONCAT+%28++%22%5B%22%2C+STR+%28++%3Fvar6++%29+%2C+%22+%22%2C+%3Fvar7+%2C+%22%5D%22+%29++AS++%3Fvar3+%29.%0A++%3Fvar6++%3Chttp%3A%2F%2Fschema.org%2Fabout%3E++%3Fvar1+%3B%0A+%3Chttp%3A%2F%2Fschema.org%2FinLanguage%3E++%3Fvar7+.%0A+%7D%0A%7D%0AGROUP+BY++%3Fvar1++%3Fvar2+%0AORDER+BY++DESC%28+%3Fvar2+%29%0ALIMIT+500%0A</td>\n      <td>2018-03-25 23:37:10</td>\n      <td>robotic</td>\n      <td>bot2</td>\n      <td>../BadRequeteCrypt/I7_status500_Joined.tsv</td>\n      <td>7</td>\n      <td>SELECT ?var1  ?var2 (  GROUP_CONCAT (  DISTINCT  ?var3  )  AS  ?var4  )\\nWHERE {\\n  VALUES (  ?var5  ) {\\n   (  &lt;http://www.wikidata.org/entity/Q11424&gt;  )\\n   (  &lt;http://www.wikidata.org/entity/Q24862&gt;  )\\n   (  &lt;http://www.wikidata.org/entity/Q506240&gt;  )\\n   (  &lt;http://www.wikidata.org/entity/Q336144&gt;  )\\n  }\\n  BIND (  &lt;http://www.w3.org/2001/XMLSchema#integer&gt;  ( STRAFTER (  STR (  ?var1  ) , \"Q\" ) )  AS  ?var2 ).\\n  ?var1  &lt;http://www.wikidata.org/prop/direct/P31&gt;  ?var5 .\\n FILTER (  ( (  ?var2  &gt; \"28090000\"^^&lt;http://www.w3.org/2001/XMLSchema#integer&gt;  ) ) \\n) .\\n OPTIONAL {\\n  BIND (  CONCAT (  \"[\", STR (  ?var6  ) , \" \", ?var7 , \"]\" )  AS  ?var3 ).\\n  ?var6  &lt;http://schema.org/about&gt;  ?var1 ;\\n &lt;http://schema.org/inLanguage&gt;  ?var7 .\\n }\\n}\\nGROUP BY  ?var1  ?var2 \\nORDER BY  DESC( ?var2 )\\nLIMIT 500\\n</td>\n    </tr>\n    <tr>\n      <th>25663</th>\n      <td>SELECT+%3Fvar1+%0AWHERE+%7B%0A++%3Fvar1++%3Chttp%3A%2F%2Fwww.wikidata.org%2Fprop%2Fdirect%2FP345%3E++%3Fvar2+.%0A+FILTER+%28++%28++CONTAINS+%28++LCASE+%28++%3Fvar2++%29+%2C+%22nm1599776%22+%29++%29+%0A%29+.%0A+SERVICE++%3Chttp%3A%2F%2Fwikiba.se%2Fontology%23label%3E+++%7B%0A++++%3Chttp%3A%2F%2Fwww.bigdata.com%2Frdf%23serviceParam%3E++%3Chttp%3A%2F%2Fwikiba.se%2Fontology%23language%3E++%22en%22.%0A++%7D%0A%7D%0ALIMIT+1%0A</td>\n      <td>2018-03-25 23:53:30</td>\n      <td>robotic</td>\n      <td>UNKNOWN</td>\n      <td>../BadRequeteCrypt/I7_status500_Joined.tsv</td>\n      <td>7</td>\n      <td>SELECT ?var1 \\nWHERE {\\n  ?var1  &lt;http://www.wikidata.org/prop/direct/P345&gt;  ?var2 .\\n FILTER (  (  CONTAINS (  LCASE (  ?var2  ) , \"nm1599776\" )  ) \\n) .\\n SERVICE  &lt;http://wikiba.se/ontology#label&gt;   {\\n    &lt;http://www.bigdata.com/rdf#serviceParam&gt;  &lt;http://wikiba.se/ontology#language&gt;  \"en\".\\n  }\\n}\\nLIMIT 1\\n</td>\n    </tr>\n    <tr>\n      <th>25664</th>\n      <td>SELECT+*%0AWHERE+%7B%0A++%3Fvar1++%3Chttp%3A%2F%2Fwww.wikidata.org%2Fprop%2Fdirect%2FP345%3E++%3Fvar2+.%0A+FILTER+%28++%28+%28++%3Fvar2++%3D++%22tt6483832%22+%29+%29+%0A%29+.%0A++%3Fvar3++%3Chttp%3A%2F%2Fschema.org%2Fabout%3E++%3Fvar1+%3B%0A+%3Chttp%3A%2F%2Fschema.org%2FinLanguage%3E++%22en%22%3B%0A+%3Chttp%3A%2F%2Fschema.org%2FisPartOf%3E++%3Chttps%3A%2F%2Fen.wikipedia.org%2F%3E+.%0A%7D%0A</td>\n      <td>2018-03-25 23:53:30</td>\n      <td>robotic</td>\n      <td>UNKNOWN</td>\n      <td>../BadRequeteCrypt/I7_status500_Joined.tsv</td>\n      <td>7</td>\n      <td>SELECT *\\nWHERE {\\n  ?var1  &lt;http://www.wikidata.org/prop/direct/P345&gt;  ?var2 .\\n FILTER (  ( (  ?var2  =  \"tt6483832\" ) ) \\n) .\\n  ?var3  &lt;http://schema.org/about&gt;  ?var1 ;\\n &lt;http://schema.org/inLanguage&gt;  \"en\";\\n &lt;http://schema.org/isPartOf&gt;  &lt;https://en.wikipedia.org/&gt; .\\n}\\n</td>\n    </tr>\n    <tr>\n      <th>25665</th>\n      <td>SELECT+DISTINCT+%3Fvar1++%3Fvar2+%0AWHERE+%7B%0A++%3Fvar1++%3Chttp%3A%2F%2Fwww.wikidata.org%2Fprop%2Fdirect%2FP31%3E++%3Chttp%3A%2F%2Fwww.wikidata.org%2Fentity%2FQ13442814%3E+.%0A++%3Fvar1++%3Chttp%3A%2F%2Fwww.wikidata.org%2Fprop%2Fdirect%2FP356%3E++%3Fvar2+.%0A++%3Fvar1++%3Chttp%3A%2F%2Fwww.wikidata.org%2Fprop%2Fdirect%2FP50%3E++%3Fvar3+.%0A++%3Fvar3++%3Chttp%3A%2F%2Fwww.wikidata.org%2Fprop%2Fdirect%2FP31%3E++%3Chttp%3A%2F%2Fwww.wikidata.org%2Fentity%2FQ5%3E+.%0A++MINUS+++%7B%0A++++%3Fvar3++%3Chttp%3A%2F%2Fwww.wikidata.org%2Fprop%2Fdirect%2FP496%3E++%5B%5D+.%0A++%7D%0A++MINUS+++%7B%0A++++%3Fvar3++%3Chttp%3A%2F%2Fwww.wikidata.org%2Fprop%2Fdirect%2FP570%3E++%5B%5D+.%0A++%7D%0A%7D%0AORDER+BY+ASC%28+RAND+%28++%29+%29%0ALIMIT+2000%0A</td>\n      <td>2018-03-25 23:54:01</td>\n      <td>robotic</td>\n      <td>orcid_bot</td>\n      <td>../BadRequeteCrypt/I7_status500_Joined.tsv</td>\n      <td>7</td>\n      <td>SELECT DISTINCT ?var1  ?var2 \\nWHERE {\\n  ?var1  &lt;http://www.wikidata.org/prop/direct/P31&gt;  &lt;http://www.wikidata.org/entity/Q13442814&gt; .\\n  ?var1  &lt;http://www.wikidata.org/prop/direct/P356&gt;  ?var2 .\\n  ?var1  &lt;http://www.wikidata.org/prop/direct/P50&gt;  ?var3 .\\n  ?var3  &lt;http://www.wikidata.org/prop/direct/P31&gt;  &lt;http://www.wikidata.org/entity/Q5&gt; .\\n  MINUS   {\\n    ?var3  &lt;http://www.wikidata.org/prop/direct/P496&gt;  [] .\\n  }\\n  MINUS   {\\n    ?var3  &lt;http://www.wikidata.org/prop/direct/P570&gt;  [] .\\n  }\\n}\\nORDER BY ASC( RAND (  ) )\\nLIMIT 2000\\n</td>\n    </tr>\n    <tr>\n      <th>25666</th>\n      <td>SELECT+%3Fvar1++%3Fvar2++%3Fvar3+%28++IF+%28+%28++%3Fvar3++%3E+%2211%22%5E%5E%3Chttp%3A%2F%2Fwww.w3.org%2F2001%2FXMLSchema%23integer%3E++%29%2C+%22string1%22%2C+%22string2%22+%29++AS++%3Fvar4++%29%0AWHERE+%7B%0A++%3Fvar1++%3Chttp%3A%2F%2Fwikiba.se%2Fontology%23sitelinks%3E++%3Fvar2+%3B%0A+%3Chttp%3A%2F%2Fwikiba.se%2Fontology%23statements%3E++%3Fvar3+.%0A+FILTER+%28++%28+%28++%3Fvar2++%3E+%22180%22%5E%5E%3Chttp%3A%2F%2Fwww.w3.org%2F2001%2FXMLSchema%23integer%3E++%29+%29+%0A%29+.%0A%7D%0AORDER+BY++DESC%28+%3Fvar2+%29%0ALIMIT+1000%0A</td>\n      <td>2018-03-25 23:59:40</td>\n      <td>robotic</td>\n      <td>bot2</td>\n      <td>../BadRequeteCrypt/I7_status500_Joined.tsv</td>\n      <td>7</td>\n      <td>SELECT ?var1  ?var2  ?var3 (  IF ( (  ?var3  &gt; \"11\"^^&lt;http://www.w3.org/2001/XMLSchema#integer&gt;  ), \"string1\", \"string2\" )  AS  ?var4  )\\nWHERE {\\n  ?var1  &lt;http://wikiba.se/ontology#sitelinks&gt;  ?var2 ;\\n &lt;http://wikiba.se/ontology#statements&gt;  ?var3 .\\n FILTER (  ( (  ?var2  &gt; \"180\"^^&lt;http://www.w3.org/2001/XMLSchema#integer&gt;  ) ) \\n) .\\n}\\nORDER BY  DESC( ?var2 )\\nLIMIT 1000\\n</td>\n    </tr>\n  </tbody>\n</table>\n<p>25667 rows × 7 columns</p>\n</div>"
     },
     "metadata": {}
    }
   ]
  },
  {
   "cell_type": "markdown",
   "source": "## Parse SPARQL",
   "metadata": {
    "cell_id": "00009-97bdfe46-01ed-4c69-bab7-8de0d441c324",
    "deepnote_cell_type": "markdown"
   }
  },
  {
   "cell_type": "code",
   "metadata": {
    "pycharm": {
     "name": "#%%\n"
    },
    "cell_id": "00010-cb7015c3-4925-4f06-a9fe-d045415d7d82",
    "deepnote_to_be_reexecuted": false,
    "source_hash": "8f572967",
    "execution_start": 1643358156993,
    "execution_millis": 1066976,
    "deepnote_output_heights": [
     null,
     40
    ],
    "deepnote_cell_type": "code"
   },
   "source": "def raw2parse(raw):\n    try:\n        parsed = parseQuery(raw)\n        translated = translateQuery(parsed)\n        return translated\n    except (ParseException):\n        print(\"ParseException : \\n\" + raw + \"\\n\")\n        return None\n    except (RecursionError):\n        print(\"RecursionError : \\n\" + raw + \"\\n\")\n        return None\n    except (AttributeError): # https://github.com/RDFLib/rdflib/issues/813\n        print(\"AttributeError : \\n\" + raw + \"\\n\")\n        return None\n    except (TypeError):\n        print(\"TypeError : \\n\" + raw + \"\\n\")\n        return None\n\ndf[\"query\"] = df[\"rawAnonymizedQuery\"].apply(raw2parse)",
   "execution_count": 8,
   "outputs": [
    {
     "name": "stdout",
     "text": "RecursionError : \nSELECT ?var1 \nWHERE {\n  <http://www.wikidata.org/entity/Q762>  <http://www.wikidata.org/prop/direct/P800>  ?var1 .\n SERVICE  <http://wikiba.se/ontology#label>   {\n   SERVICE  <http://wikiba.se/ontology#label>     {\n      <http://www.bigdata.com/rdf#serviceParam>  <http://wikiba.se/ontology#language>  \"de,en\".\n    }\n  }\n}\n\n\nRecursionError : \nSELECT ?var1 \nWHERE {\n  <http://www.wikidata.org/entity/Q762>  <http://www.wikidata.org/prop/direct/P800>  ?var1 .\n SERVICE  <http://wikiba.se/ontology#label>   {\n   SERVICE  <http://wikiba.se/ontology#label>     {\n      <http://www.bigdata.com/rdf#serviceParam>  <http://wikiba.se/ontology#language>  \"de,en\".\n    }\n  }\n}\n\n\nAttributeError : \nDescribe\n <https://query.wikidata.org/bigdata/namespace/wdq/foo> \n\nAttributeError : \nDescribe\n <https://query.wikidata.org/bigdata/namespace/wdq/foo> \n\nAttributeError : \nDescribe\n <https://query.wikidata.org/bigdata/namespace/wdq/foo> \n\nAttributeError : \nDescribe\n <http://www.w3.org/1999/02/22-rdf-syntax-ns#type> \n\nAttributeError : \nDescribe\n <http://www.w3.org/1999/02/22-rdf-syntax-ns#type> \n\nAttributeError : \nDescribe\n <http://www.w3.org/1999/02/22-rdf-syntax-ns#type> \n\nAttributeError : \nDescribe\n <http://www.wikidata.org/entity/Q4167410> \n\nAttributeError : \nDescribe\n <http://www.wikidata.org/entity/Q4167410> \n\nAttributeError : \nDescribe\n <http://www.wikidata.org/entity/Q4167410> \n\nAttributeError : \nDescribe\n <http://www.wikidata.org/entity/Q4167410> \n\nAttributeError : \nDescribe\n <http://www.wikidata.org/entity/Q4167410> \n\nAttributeError : \nDescribe\n <http://www.wikidata.org/entity/Q11266439> \n\nAttributeError : \nDescribe\n <http://www.wikidata.org/entity/Q23> \n\nParseException : \nCONSTRUCT {\n  ?var1  <http://www.wikidata.org/prop/direct/P279>* ?var2 .\n  ?var3  <http://www.w3.org/2000/01/rdf-schema#label>  ?var4 \n}\nWHERE {\n  BIND (  <http://www.wikidata.org/entity/Q875538>  AS  ?var1 ).\n  ?var1  <http://www.wikidata.org/prop/direct/P279>* ?var2 .\n  ?var2  <http://www.wikidata.org/prop/direct/P1963>  ?var3 .\n SERVICE  <http://wikiba.se/ontology#label>   {\n    <http://www.bigdata.com/rdf#serviceParam>  <http://wikiba.se/ontology#language>  \"en\".\n    ?var2  <http://www.w3.org/2000/01/rdf-schema#label>  ?var5 .\n    ?var3  <http://www.w3.org/2000/01/rdf-schema#label>  ?var4 .\n  }\n}\n\n\nAttributeError : \nDescribe\n <https://en.wikipedia.org/wiki/Category:Fictional_ducks> \n\nAttributeError : \nDescribe\n <https://en.wikipedia.org/wiki/Category:Fictional_ducks> \n\nParseException : \nCONSTRUCT {\n  ?var1  <http://www.wikidata.org/prop/direct/P279>* <http://www.wikidata.org/entity/Q32815> \n}\nWHERE {\n  ?var1  <http://www.wikidata.org/prop/direct/P279>* <http://www.wikidata.org/entity/Q32815> .\n}\n\n\nParseException : \nCONSTRUCT {\n  ?var1  <http://www.wikidata.org/prop/direct/P279>* <http://www.wikidata.org/entity/Q32815> \n}\nWHERE {\n  ?var1  <http://www.wikidata.org/prop/direct/P279>* <http://www.wikidata.org/entity/Q32815> .\n}\n\n\nParseException : \nCONSTRUCT {\n  ?var1  <http://www.wikidata.org/prop/direct/279>* <http://www.wikidata.org/entity/Q32815> \n}\nWHERE {\n  ?var1  <http://www.wikidata.org/prop/direct/279>* <http://www.wikidata.org/entity/Q32815> .\n}\n\n\nParseException : \nCONSTRUCT {\n  ?var1  <http://www.wikidata.org/prop/direct/279>  <http://www.wikidata.org/entity/Q32815> .\n  ?var2  <http://www.wikidata.org/prop/direct/279>* <http://www.wikidata.org/entity/Q32815> \n}\nWHERE {\n  ?var1  <http://www.wikidata.org/prop/direct/279>* <http://www.wikidata.org/entity/Q32815> .\n  ?var2  <http://www.wikidata.org/prop/direct/279>* <http://www.wikidata.org/entity/Q32815> .\n}\n\n\nParseException : \nCONSTRUCT {\n  ?var1  <http://www.wikidata.org/prop/direct/279>  <http://www.wikidata.org/entity/Q32815> .\n  ?var2  <http://www.wikidata.org/prop/direct/279>* ?var1 \n}\nWHERE {\n  ?var1  <http://www.wikidata.org/prop/direct/279>* <http://www.wikidata.org/entity/Q32815> .\n  ?var2  <http://www.wikidata.org/prop/direct/279>* <http://www.wikidata.org/entity/Q32815> .\n  ?var2  <http://www.wikidata.org/prop/direct/279>* ?var1 .\n}\n\n\nParseException : \nCONSTRUCT {\n  ?var1  <http://www.wikidata.org/prop/direct/P279>* <http://www.wikidata.org/entity/Q32815> .\n  ?var1  <http://www.w3.org/2000/01/rdf-schema#label>  ?var2Label \n}\nWHERE {\n  ?var1  <http://www.wikidata.org/prop/direct/P279>* <http://www.wikidata.org/entity/Q32815> .\n  ?var3  <http://www.wikidata.org/prop/direct/P279>* <http://www.wikidata.org/entity/Q32815> .\n  ?var1  <http://www.w3.org/2000/01/rdf-schema#label>  ?var2Label .\n  ?var3  <http://www.wikidata.org/prop/direct/P279>  ?var1 .\n}\n\n\nParseException : \nCONSTRUCT {\n  ?var1  <http://www.wikidata.org/prop/direct/P279>* <http://www.wikidata.org/entity/Q32815> \n}\nWHERE {\n  ?var1  <http://www.wikidata.org/prop/direct/P279>* <http://www.wikidata.org/entity/Q32815> .\n}\n\n\nParseException : \nCONSTRUCT {\n  ?var1  <http://www.wikidata.org/prop/direct/P279>* <http://www.wikidata.org/entity/Q32815> \n}\nWHERE {\n  ?var1  <http://www.wikidata.org/prop/direct/P279>* <http://www.wikidata.org/entity/Q32815> .\n}\n\n\nParseException : \nCONSTRUCT {\n  ?var1  <http://www.wikidata.org/prop/direct/P279>* <http://www.wikidata.org/entity/Q32815> \n}\nWHERE {\n  ?var1  <http://www.wikidata.org/prop/direct/P279>* <http://www.wikidata.org/entity/Q32815> .\n}\n\n\nParseException : \nCONSTRUCT {\n  ?var1  <http://www.wikidata.org/prop/direct/P279>* <http://www.wikidata.org/entity/Q32815> \n}\nWHERE {\n  ?var1  <http://www.wikidata.org/prop/direct/P279>* <http://www.wikidata.org/entity/Q32815> .\n}\n\n\nParseException : \nCONSTRUCT {\n  ?var1  <http://www.wikidata.org/prop/direct/P279>* <http://www.wikidata.org/entity/Q32815> \n}\nWHERE {\n  ?var1  <http://www.wikidata.org/prop/direct/P279>* <http://www.wikidata.org/entity/Q32815> .\n}\n\n\nParseException : \nCONSTRUCT {\n  ?var1  <http://www.wikidata.org/prop/direct/P279>* <http://www.wikidata.org/entity/Q32815> \n}\nWHERE {\n  ?var1  <http://www.wikidata.org/prop/direct/P279>* <http://www.wikidata.org/entity/Q32815> .\n}\n\n\nParseException : \nCONSTRUCT {\n  ?var1  <http://www.wikidata.org/prop/direct/P279>* <http://www.wikidata.org/entity/Q32815> \n}\nWHERE {\n  ?var1  <http://www.wikidata.org/prop/direct/P279>* <http://www.wikidata.org/entity/Q32815> .\n}\n\n\nParseException : \nCONSTRUCT {\n  ?var1  <http://www.wikidata.org/prop/direct/P279>  <http://www.wikidata.org/entity/Q32815> .\n  ?var1  <http://www.w3.org/2000/01/rdf-schema#label>  ?var2Label .\n  ?var3  <http://www.wikidata.org/prop/direct/P279>* <http://www.wikidata.org/entity/Q32815> \n}\nWHERE {\n  ?var1  <http://www.wikidata.org/prop/direct/P279>* <http://www.wikidata.org/entity/Q32815> .\n  ?var3  <http://www.wikidata.org/prop/direct/P279>* <http://www.wikidata.org/entity/Q32815> .\n  ?var1  <http://www.w3.org/2000/01/rdf-schema#label>  ?var2Label .\n FILTER (  ( (  LANG (  ?var2Label  )  =  \"fa\" ) ) \n) .\n}\n\n\nParseException : \nCONSTRUCT {\n  ?var1  <http://www.wikidata.org/prop/direct/P279>* <http://www.wikidata.org/entity/Q32815> \n}\nWHERE {\n  ?var1  <http://www.wikidata.org/prop/direct/P279>* <http://www.wikidata.org/entity/Q32815> .\n}\n\n\nAttributeError : \nDescribe\n <http://www.wikidata.org/entity/Q28665865> \n\nAttributeError : \nDescribe\n <http://www.wikidata.org/entity/Q28665865> \n\nAttributeError : \nDescribe\n <http://www.wikidata.org/entity/Q28665865> \n\nAttributeError : \nDescribe\n <http://www.wikidata.org/entity/Q5412157> \n\nAttributeError : \nDescribe\n <http://www.wikidata.org/entity/Q5412157> \n\nAttributeError : \nDescribe\n <http://www.wikidata.org/entity/Q30> \n\nParseException : \nCONSTRUCT {\n  ?var1 ( <http://www.wikidata.org/prop/direct/P31>?/ <http://www.wikidata.org/prop/direct/P279>*) ?var2 \n}\nWHERE {\n  ?var1 ( <http://www.wikidata.org/prop/direct/P31>?/ <http://www.wikidata.org/prop/direct/P279>*) ?var2 .\n  VALUES (  ?var1  ) {\n   (  <http://www.wikidata.org/entity/Q26876>  )\n  }\n}\n\n\nAttributeError : \nDescribe\n <http://www.wikidata.org/entity/Q4167836> \n\nParseException : \nCONSTRUCT {\n  ?var1  <http://www.wikidata.org/prop/direct/279>* ?var2 \n}\nWHERE {\n  ?var2  <http://www.wikidata.org/prop/direct/P279>* <http://www.wikidata.org/entity/Q32815> .\n  ?var1  <http://www.wikidata.org/prop/direct/279>* <http://www.wikidata.org/entity/Q32815> .\n  ?var1  <http://www.wikidata.org/prop/direct/279>* ?var2 .\n}\n\n\n",
     "output_type": "stream"
    }
   ]
  },
  {
   "cell_type": "markdown",
   "source": "## Drop None",
   "metadata": {
    "cell_id": "00011-9ef44787-eb00-4de3-a828-5455fa2f7b53",
    "deepnote_cell_type": "markdown"
   }
  },
  {
   "cell_type": "markdown",
   "source": "### Shows rows containing None (ie: SPARQL that could not be parsed)",
   "metadata": {
    "cell_id": "00012-3d4bbc64-e130-4261-ae03-03f842a3e0fb",
    "deepnote_cell_type": "markdown"
   }
  },
  {
   "cell_type": "code",
   "metadata": {
    "pycharm": {
     "name": "#%%\n"
    },
    "cell_id": "00013-48263ab3-1bbc-4f87-88ac-fbfd48288125",
    "deepnote_to_be_reexecuted": false,
    "source_hash": "d8014cac",
    "execution_start": 1643359223970,
    "execution_millis": 0,
    "deepnote_cell_type": "code"
   },
   "source": "is_NaN = df.isnull()\nrow_has_NaN = is_NaN.any(axis=1)\nrows_with_NaN = df[row_has_NaN]",
   "execution_count": 9,
   "outputs": []
  },
  {
   "cell_type": "code",
   "metadata": {
    "cell_id": "00014-248f580a-c631-4af3-9c82-cfa1a1252a3d",
    "deepnote_to_be_reexecuted": false,
    "source_hash": "19e3a89f",
    "execution_start": 1643359223970,
    "execution_millis": 58,
    "deepnote_cell_type": "code"
   },
   "source": "rows_with_NaN",
   "execution_count": 10,
   "outputs": [
    {
     "output_type": "execute_result",
     "execution_count": 10,
     "data": {
      "application/vnd.deepnote.dataframe.v3+json": {
       "column_count": 8,
       "row_count": 42,
       "columns": [
        {
         "name": "anonymizedQuery",
         "dtype": "object",
         "stats": {
          "unique_count": 20,
          "nan_count": 0,
          "categories": [
           {
            "name": "CONSTRUCT+%7B%0A++%3Fvar1++%3Chttp%3A%2F%2Fwww.wikidata.org%2Fprop%2Fdirect%2FP279%3E+*+%3Chttp%3A%2F%2Fwww.wikidata.org%2Fentity%2FQ32815%3E+%0A%7D%0AWHERE+%7B%0A++%3Fvar1++%3Chttp%3A%2F%2Fwww.wikidata.org%2Fprop%2Fdirect%2FP279%3E+*+%3Chttp%3A%2F%2Fwww.wikidata.org%2Fentity%2FQ32815%3E+.%0A%7D%0A",
            "count": 10
           },
           {
            "name": "Describe%0A+%3Chttp%3A%2F%2Fwww.wikidata.org%2Fentity%2FQ4167410%3E+",
            "count": 5
           },
           {
            "name": "18 others",
            "count": 27
           }
          ]
         }
        },
        {
         "name": "timestamp",
         "dtype": "object",
         "stats": {
          "unique_count": 39,
          "nan_count": 0,
          "categories": [
           {
            "name": "2018-03-17 07:21:56",
            "count": 3
           },
           {
            "name": "2018-02-28 15:33:03",
            "count": 2
           },
           {
            "name": "37 others",
            "count": 37
           }
          ]
         }
        },
        {
         "name": "sourceCategory",
         "dtype": "object",
         "stats": {
          "unique_count": 2,
          "nan_count": 0,
          "categories": [
           {
            "name": "organic",
            "count": 32
           },
           {
            "name": "robotic",
            "count": 10
           }
          ]
         }
        },
        {
         "name": "user_agent",
         "dtype": "object",
         "stats": {
          "unique_count": 2,
          "nan_count": 0,
          "categories": [
           {
            "name": "browser",
            "count": 32
           },
           {
            "name": "UNKNOWN",
            "count": 10
           }
          ]
         }
        },
        {
         "name": "file_path",
         "dtype": "object",
         "stats": {
          "unique_count": 1,
          "nan_count": 0,
          "categories": [
           {
            "name": "../BadRequeteCrypt/I7_status500_Joined.tsv",
            "count": 42
           }
          ]
         }
        },
        {
         "name": "interval",
         "dtype": "int64",
         "stats": {
          "unique_count": 1,
          "nan_count": 0,
          "min": "7",
          "max": "7",
          "histogram": [
           {
            "bin_start": 6.5,
            "bin_end": 6.6,
            "count": 0
           },
           {
            "bin_start": 6.6,
            "bin_end": 6.7,
            "count": 0
           },
           {
            "bin_start": 6.7,
            "bin_end": 6.8,
            "count": 0
           },
           {
            "bin_start": 6.8,
            "bin_end": 6.9,
            "count": 0
           },
           {
            "bin_start": 6.9,
            "bin_end": 7,
            "count": 0
           },
           {
            "bin_start": 7,
            "bin_end": 7.1,
            "count": 42
           },
           {
            "bin_start": 7.1,
            "bin_end": 7.2,
            "count": 0
           },
           {
            "bin_start": 7.2,
            "bin_end": 7.3,
            "count": 0
           },
           {
            "bin_start": 7.3,
            "bin_end": 7.4,
            "count": 0
           },
           {
            "bin_start": 7.4,
            "bin_end": 7.5,
            "count": 0
           }
          ]
         }
        },
        {
         "name": "rawAnonymizedQuery",
         "dtype": "object",
         "stats": {
          "unique_count": 20,
          "nan_count": 0,
          "categories": [
           {
            "name": "CONSTRUCT {\n  ?var1  <http://www.wikidata.org/prop/direct/P279>* <http://www.wikidata.org/entity/Q32815> \n}\nWHERE {\n  ?var1  <http://www.wikidata.org/prop/direct/P279>* <http://www.wikidata.org/entity/Q32815> .\n}\n",
            "count": 10
           },
           {
            "name": "Describe\n <http://www.wikidata.org/entity/Q4167410> ",
            "count": 5
           },
           {
            "name": "18 others",
            "count": 27
           }
          ]
         }
        },
        {
         "name": "query",
         "dtype": "object",
         "stats": {
          "unique_count": 0,
          "nan_count": 42,
          "categories": [
           {
            "name": "Missing",
            "count": 42
           }
          ]
         }
        },
        {
         "name": "_deepnote_index_column",
         "dtype": "int64"
        }
       ],
       "rows": [
        {
         "anonymizedQuery": "SELECT+%3Fvar1+%0AWHERE+%7B%0A++%3Chttp%3A%2F%2Fwww.wikidata.org%2Fentity%2FQ762%3E++%3Chttp%3A%2F%…",
         "timestamp": "2018-02-27 14:16:39",
         "sourceCategory": "organic",
         "user_agent": "browser",
         "file_path": "../BadRequeteCrypt/I7_status500_Joined.tsv",
         "interval": 7,
         "rawAnonymizedQuery": "SELECT ?var1 \nWHERE {\n  <http://www.wikidata.org/entity/Q762>  <http://www.wikidata.org/prop/direct…",
         "query": "None",
         "_deepnote_index_column": 1017
        },
        {
         "anonymizedQuery": "SELECT+%3Fvar1+%0AWHERE+%7B%0A++%3Chttp%3A%2F%2Fwww.wikidata.org%2Fentity%2FQ762%3E++%3Chttp%3A%2F%…",
         "timestamp": "2018-02-27 14:19:39",
         "sourceCategory": "organic",
         "user_agent": "browser",
         "file_path": "../BadRequeteCrypt/I7_status500_Joined.tsv",
         "interval": 7,
         "rawAnonymizedQuery": "SELECT ?var1 \nWHERE {\n  <http://www.wikidata.org/entity/Q762>  <http://www.wikidata.org/prop/direct…",
         "query": "None",
         "_deepnote_index_column": 1019
        },
        {
         "anonymizedQuery": "Describe%0A+%3Chttps%3A%2F%2Fquery.wikidata.org%2Fbigdata%2Fnamespace%2Fwdq%2Ffoo%3E+",
         "timestamp": "2018-02-28 15:33:03",
         "sourceCategory": "organic",
         "user_agent": "browser",
         "file_path": "../BadRequeteCrypt/I7_status500_Joined.tsv",
         "interval": 7,
         "rawAnonymizedQuery": "Describe\n <https://query.wikidata.org/bigdata/namespace/wdq/foo> ",
         "query": "None",
         "_deepnote_index_column": 2145
        },
        {
         "anonymizedQuery": "Describe%0A+%3Chttps%3A%2F%2Fquery.wikidata.org%2Fbigdata%2Fnamespace%2Fwdq%2Ffoo%3E+",
         "timestamp": "2018-02-28 15:33:03",
         "sourceCategory": "organic",
         "user_agent": "browser",
         "file_path": "../BadRequeteCrypt/I7_status500_Joined.tsv",
         "interval": 7,
         "rawAnonymizedQuery": "Describe\n <https://query.wikidata.org/bigdata/namespace/wdq/foo> ",
         "query": "None",
         "_deepnote_index_column": 2146
        },
        {
         "anonymizedQuery": "Describe%0A+%3Chttps%3A%2F%2Fquery.wikidata.org%2Fbigdata%2Fnamespace%2Fwdq%2Ffoo%3E+",
         "timestamp": "2018-02-28 15:33:08",
         "sourceCategory": "organic",
         "user_agent": "browser",
         "file_path": "../BadRequeteCrypt/I7_status500_Joined.tsv",
         "interval": 7,
         "rawAnonymizedQuery": "Describe\n <https://query.wikidata.org/bigdata/namespace/wdq/foo> ",
         "query": "None",
         "_deepnote_index_column": 2147
        },
        {
         "anonymizedQuery": "Describe%0A+%3Chttp%3A%2F%2Fwww.w3.org%2F1999%2F02%2F22-rdf-syntax-ns%23type%3E+",
         "timestamp": "2018-02-28 15:33:11",
         "sourceCategory": "organic",
         "user_agent": "browser",
         "file_path": "../BadRequeteCrypt/I7_status500_Joined.tsv",
         "interval": 7,
         "rawAnonymizedQuery": "Describe\n <http://www.w3.org/1999/02/22-rdf-syntax-ns#type> ",
         "query": "None",
         "_deepnote_index_column": 2148
        },
        {
         "anonymizedQuery": "Describe%0A+%3Chttp%3A%2F%2Fwww.w3.org%2F1999%2F02%2F22-rdf-syntax-ns%23type%3E+",
         "timestamp": "2018-02-28 15:33:25",
         "sourceCategory": "organic",
         "user_agent": "browser",
         "file_path": "../BadRequeteCrypt/I7_status500_Joined.tsv",
         "interval": 7,
         "rawAnonymizedQuery": "Describe\n <http://www.w3.org/1999/02/22-rdf-syntax-ns#type> ",
         "query": "None",
         "_deepnote_index_column": 2149
        },
        {
         "anonymizedQuery": "Describe%0A+%3Chttp%3A%2F%2Fwww.w3.org%2F1999%2F02%2F22-rdf-syntax-ns%23type%3E+",
         "timestamp": "2018-02-28 15:34:23",
         "sourceCategory": "organic",
         "user_agent": "browser",
         "file_path": "../BadRequeteCrypt/I7_status500_Joined.tsv",
         "interval": 7,
         "rawAnonymizedQuery": "Describe\n <http://www.w3.org/1999/02/22-rdf-syntax-ns#type> ",
         "query": "None",
         "_deepnote_index_column": 2150
        },
        {
         "anonymizedQuery": "Describe%0A+%3Chttp%3A%2F%2Fwww.wikidata.org%2Fentity%2FQ4167410%3E+",
         "timestamp": "2018-02-28 21:06:04",
         "sourceCategory": "robotic",
         "user_agent": "UNKNOWN",
         "file_path": "../BadRequeteCrypt/I7_status500_Joined.tsv",
         "interval": 7,
         "rawAnonymizedQuery": "Describe\n <http://www.wikidata.org/entity/Q4167410> ",
         "query": "None",
         "_deepnote_index_column": 2404
        },
        {
         "anonymizedQuery": "Describe%0A+%3Chttp%3A%2F%2Fwww.wikidata.org%2Fentity%2FQ4167410%3E+",
         "timestamp": "2018-03-01 04:58:08",
         "sourceCategory": "robotic",
         "user_agent": "UNKNOWN",
         "file_path": "../BadRequeteCrypt/I7_status500_Joined.tsv",
         "interval": 7,
         "rawAnonymizedQuery": "Describe\n <http://www.wikidata.org/entity/Q4167410> ",
         "query": "None",
         "_deepnote_index_column": 2719
        }
       ]
      },
      "text/plain": "                                                                                                                                                                                                                                                                                                                                                                                                                                                                        anonymizedQuery  ... query\n1017   SELECT+%3Fvar1+%0AWHERE+%7B%0A++%3Chttp%3A%2F%2Fwww.wikidata.org%2Fentity%2FQ762%3E++%3Chttp%3A%2F%2Fwww.wikidata.org%2Fprop%2Fdirect%2FP800%3E++%3Fvar1+.%0A+SERVICE++%3Chttp%3A%2F%2Fwikiba.se%2Fontology%23label%3E+++%7B%0A+++SERVICE++%3Chttp%3A%2F%2Fwikiba.se%2Fontology%23label%3E+++++%7B%0A++++++%3Chttp%3A%2F%2Fwww.bigdata.com%2Frdf%23serviceParam%3E++%3Chttp%3A%2F%2Fwikiba.se%2Fontology%23language%3E++%22de%2Cen%22.%0A++++%7D%0A++%7D%0A%7D%0A                 ...  None\n1019   SELECT+%3Fvar1+%0AWHERE+%7B%0A++%3Chttp%3A%2F%2Fwww.wikidata.org%2Fentity%2FQ762%3E++%3Chttp%3A%2F%2Fwww.wikidata.org%2Fprop%2Fdirect%2FP800%3E++%3Fvar1+.%0A+SERVICE++%3Chttp%3A%2F%2Fwikiba.se%2Fontology%23label%3E+++%7B%0A+++SERVICE++%3Chttp%3A%2F%2Fwikiba.se%2Fontology%23label%3E+++++%7B%0A++++++%3Chttp%3A%2F%2Fwww.bigdata.com%2Frdf%23serviceParam%3E++%3Chttp%3A%2F%2Fwikiba.se%2Fontology%23language%3E++%22de%2Cen%22.%0A++++%7D%0A++%7D%0A%7D%0A                 ...  None\n2145   Describe%0A+%3Chttps%3A%2F%2Fquery.wikidata.org%2Fbigdata%2Fnamespace%2Fwdq%2Ffoo%3E+                                                                                                                                                                                                                                                                                                                                                                                             ...  None\n2146   Describe%0A+%3Chttps%3A%2F%2Fquery.wikidata.org%2Fbigdata%2Fnamespace%2Fwdq%2Ffoo%3E+                                                                                                                                                                                                                                                                                                                                                                                             ...  None\n2147   Describe%0A+%3Chttps%3A%2F%2Fquery.wikidata.org%2Fbigdata%2Fnamespace%2Fwdq%2Ffoo%3E+                                                                                                                                                                                                                                                                                                                                                                                             ...  None\n2148   Describe%0A+%3Chttp%3A%2F%2Fwww.w3.org%2F1999%2F02%2F22-rdf-syntax-ns%23type%3E+                                                                                                                                                                                                                                                                                                                                                                                                  ...  None\n2149   Describe%0A+%3Chttp%3A%2F%2Fwww.w3.org%2F1999%2F02%2F22-rdf-syntax-ns%23type%3E+                                                                                                                                                                                                                                                                                                                                                                                                  ...  None\n2150   Describe%0A+%3Chttp%3A%2F%2Fwww.w3.org%2F1999%2F02%2F22-rdf-syntax-ns%23type%3E+                                                                                                                                                                                                                                                                                                                                                                                                  ...  None\n2404   Describe%0A+%3Chttp%3A%2F%2Fwww.wikidata.org%2Fentity%2FQ4167410%3E+                                                                                                                                                                                                                                                                                                                                                                                                              ...  None\n...                                                                     ...                                                                                                                                                                                                                                                                                                                                                                                                              ...   ...\n20544  Describe%0A+%3Chttp%3A%2F%2Fwww.wikidata.org%2Fentity%2FQ28665865%3E+                                                                                                                                                                                                                                                                                                                                                                                                             ...  None\n20545  Describe%0A+%3Chttp%3A%2F%2Fwww.wikidata.org%2Fentity%2FQ28665865%3E+                                                                                                                                                                                                                                                                                                                                                                                                             ...  None\n20546  Describe%0A+%3Chttp%3A%2F%2Fwww.wikidata.org%2Fentity%2FQ28665865%3E+                                                                                                                                                                                                                                                                                                                                                                                                             ...  None\n21399  Describe%0A+%3Chttp%3A%2F%2Fwww.wikidata.org%2Fentity%2FQ5412157%3E+                                                                                                                                                                                                                                                                                                                                                                                                              ...  None\n21630  Describe%0A+%3Chttp%3A%2F%2Fwww.wikidata.org%2Fentity%2FQ5412157%3E+                                                                                                                                                                                                                                                                                                                                                                                                              ...  None\n22056  Describe%0A+%3Chttp%3A%2F%2Fwww.wikidata.org%2Fentity%2FQ30%3E+                                                                                                                                                                                                                                                                                                                                                                                                                   ...  None\n23019  CONSTRUCT+%7B%0A++%3Fvar1+%28+%3Chttp%3A%2F%2Fwww.wikidata.org%2Fprop%2Fdirect%2FP31%3E+%3F%2F+%3Chttp%3A%2F%2Fwww.wikidata.org%2Fprop%2Fdirect%2FP279%3E+*%29+%3Fvar2+%0A%7D%0AWHERE+%7B%0A++%3Fvar1+%28+%3Chttp%3A%2F%2Fwww.wikidata.org%2Fprop%2Fdirect%2FP31%3E+%3F%2F+%3Chttp%3A%2F%2Fwww.wikidata.org%2Fprop%2Fdirect%2FP279%3E+*%29+%3Fvar2+.%0A++VALUES+%28++%3Fvar1++%29+%7B%0A+++%28++%3Chttp%3A%2F%2Fwww.wikidata.org%2Fentity%2FQ26876%3E++%29%0A++%7D%0A%7D%0A       ...  None\n24170  Describe%0A+%3Chttp%3A%2F%2Fwww.wikidata.org%2Fentity%2FQ4167836%3E+                                                                                                                                                                                                                                                                                                                                                                                                              ...  None\n24969  CONSTRUCT+%7B%0A++%3Fvar1++%3Chttp%3A%2F%2Fwww.wikidata.org%2Fprop%2Fdirect%2F279%3E+*+%3Fvar2+%0A%7D%0AWHERE+%7B%0A++%3Fvar2++%3Chttp%3A%2F%2Fwww.wikidata.org%2Fprop%2Fdirect%2FP279%3E+*+%3Chttp%3A%2F%2Fwww.wikidata.org%2Fentity%2FQ32815%3E+.%0A++%3Fvar1++%3Chttp%3A%2F%2Fwww.wikidata.org%2Fprop%2Fdirect%2F279%3E+*+%3Chttp%3A%2F%2Fwww.wikidata.org%2Fentity%2FQ32815%3E+.%0A++%3Fvar1++%3Chttp%3A%2F%2Fwww.wikidata.org%2Fprop%2Fdirect%2F279%3E+*+%3Fvar2+.%0A%7D%0A  ...  None\n\n[42 rows x 8 columns]",
      "text/html": "<div>\n<style scoped>\n    .dataframe tbody tr th:only-of-type {\n        vertical-align: middle;\n    }\n\n    .dataframe tbody tr th {\n        vertical-align: top;\n    }\n\n    .dataframe thead th {\n        text-align: right;\n    }\n</style>\n<table border=\"1\" class=\"dataframe\">\n  <thead>\n    <tr style=\"text-align: right;\">\n      <th></th>\n      <th>anonymizedQuery</th>\n      <th>timestamp</th>\n      <th>sourceCategory</th>\n      <th>user_agent</th>\n      <th>file_path</th>\n      <th>interval</th>\n      <th>rawAnonymizedQuery</th>\n      <th>query</th>\n    </tr>\n  </thead>\n  <tbody>\n    <tr>\n      <th>1017</th>\n      <td>SELECT+%3Fvar1+%0AWHERE+%7B%0A++%3Chttp%3A%2F%2Fwww.wikidata.org%2Fentity%2FQ762%3E++%3Chttp%3A%2F%2Fwww.wikidata.org%2Fprop%2Fdirect%2FP800%3E++%3Fvar1+.%0A+SERVICE++%3Chttp%3A%2F%2Fwikiba.se%2Fontology%23label%3E+++%7B%0A+++SERVICE++%3Chttp%3A%2F%2Fwikiba.se%2Fontology%23label%3E+++++%7B%0A++++++%3Chttp%3A%2F%2Fwww.bigdata.com%2Frdf%23serviceParam%3E++%3Chttp%3A%2F%2Fwikiba.se%2Fontology%23language%3E++%22de%2Cen%22.%0A++++%7D%0A++%7D%0A%7D%0A</td>\n      <td>2018-02-27 14:16:39</td>\n      <td>organic</td>\n      <td>browser</td>\n      <td>../BadRequeteCrypt/I7_status500_Joined.tsv</td>\n      <td>7</td>\n      <td>SELECT ?var1 \\nWHERE {\\n  &lt;http://www.wikidata.org/entity/Q762&gt;  &lt;http://www.wikidata.org/prop/direct/P800&gt;  ?var1 .\\n SERVICE  &lt;http://wikiba.se/ontology#label&gt;   {\\n   SERVICE  &lt;http://wikiba.se/ontology#label&gt;     {\\n      &lt;http://www.bigdata.com/rdf#serviceParam&gt;  &lt;http://wikiba.se/ontology#language&gt;  \"de,en\".\\n    }\\n  }\\n}\\n</td>\n      <td>None</td>\n    </tr>\n    <tr>\n      <th>1019</th>\n      <td>SELECT+%3Fvar1+%0AWHERE+%7B%0A++%3Chttp%3A%2F%2Fwww.wikidata.org%2Fentity%2FQ762%3E++%3Chttp%3A%2F%2Fwww.wikidata.org%2Fprop%2Fdirect%2FP800%3E++%3Fvar1+.%0A+SERVICE++%3Chttp%3A%2F%2Fwikiba.se%2Fontology%23label%3E+++%7B%0A+++SERVICE++%3Chttp%3A%2F%2Fwikiba.se%2Fontology%23label%3E+++++%7B%0A++++++%3Chttp%3A%2F%2Fwww.bigdata.com%2Frdf%23serviceParam%3E++%3Chttp%3A%2F%2Fwikiba.se%2Fontology%23language%3E++%22de%2Cen%22.%0A++++%7D%0A++%7D%0A%7D%0A</td>\n      <td>2018-02-27 14:19:39</td>\n      <td>organic</td>\n      <td>browser</td>\n      <td>../BadRequeteCrypt/I7_status500_Joined.tsv</td>\n      <td>7</td>\n      <td>SELECT ?var1 \\nWHERE {\\n  &lt;http://www.wikidata.org/entity/Q762&gt;  &lt;http://www.wikidata.org/prop/direct/P800&gt;  ?var1 .\\n SERVICE  &lt;http://wikiba.se/ontology#label&gt;   {\\n   SERVICE  &lt;http://wikiba.se/ontology#label&gt;     {\\n      &lt;http://www.bigdata.com/rdf#serviceParam&gt;  &lt;http://wikiba.se/ontology#language&gt;  \"de,en\".\\n    }\\n  }\\n}\\n</td>\n      <td>None</td>\n    </tr>\n    <tr>\n      <th>2145</th>\n      <td>Describe%0A+%3Chttps%3A%2F%2Fquery.wikidata.org%2Fbigdata%2Fnamespace%2Fwdq%2Ffoo%3E+</td>\n      <td>2018-02-28 15:33:03</td>\n      <td>organic</td>\n      <td>browser</td>\n      <td>../BadRequeteCrypt/I7_status500_Joined.tsv</td>\n      <td>7</td>\n      <td>Describe\\n &lt;https://query.wikidata.org/bigdata/namespace/wdq/foo&gt;</td>\n      <td>None</td>\n    </tr>\n    <tr>\n      <th>2146</th>\n      <td>Describe%0A+%3Chttps%3A%2F%2Fquery.wikidata.org%2Fbigdata%2Fnamespace%2Fwdq%2Ffoo%3E+</td>\n      <td>2018-02-28 15:33:03</td>\n      <td>organic</td>\n      <td>browser</td>\n      <td>../BadRequeteCrypt/I7_status500_Joined.tsv</td>\n      <td>7</td>\n      <td>Describe\\n &lt;https://query.wikidata.org/bigdata/namespace/wdq/foo&gt;</td>\n      <td>None</td>\n    </tr>\n    <tr>\n      <th>2147</th>\n      <td>Describe%0A+%3Chttps%3A%2F%2Fquery.wikidata.org%2Fbigdata%2Fnamespace%2Fwdq%2Ffoo%3E+</td>\n      <td>2018-02-28 15:33:08</td>\n      <td>organic</td>\n      <td>browser</td>\n      <td>../BadRequeteCrypt/I7_status500_Joined.tsv</td>\n      <td>7</td>\n      <td>Describe\\n &lt;https://query.wikidata.org/bigdata/namespace/wdq/foo&gt;</td>\n      <td>None</td>\n    </tr>\n    <tr>\n      <th>2148</th>\n      <td>Describe%0A+%3Chttp%3A%2F%2Fwww.w3.org%2F1999%2F02%2F22-rdf-syntax-ns%23type%3E+</td>\n      <td>2018-02-28 15:33:11</td>\n      <td>organic</td>\n      <td>browser</td>\n      <td>../BadRequeteCrypt/I7_status500_Joined.tsv</td>\n      <td>7</td>\n      <td>Describe\\n &lt;http://www.w3.org/1999/02/22-rdf-syntax-ns#type&gt;</td>\n      <td>None</td>\n    </tr>\n    <tr>\n      <th>2149</th>\n      <td>Describe%0A+%3Chttp%3A%2F%2Fwww.w3.org%2F1999%2F02%2F22-rdf-syntax-ns%23type%3E+</td>\n      <td>2018-02-28 15:33:25</td>\n      <td>organic</td>\n      <td>browser</td>\n      <td>../BadRequeteCrypt/I7_status500_Joined.tsv</td>\n      <td>7</td>\n      <td>Describe\\n &lt;http://www.w3.org/1999/02/22-rdf-syntax-ns#type&gt;</td>\n      <td>None</td>\n    </tr>\n    <tr>\n      <th>2150</th>\n      <td>Describe%0A+%3Chttp%3A%2F%2Fwww.w3.org%2F1999%2F02%2F22-rdf-syntax-ns%23type%3E+</td>\n      <td>2018-02-28 15:34:23</td>\n      <td>organic</td>\n      <td>browser</td>\n      <td>../BadRequeteCrypt/I7_status500_Joined.tsv</td>\n      <td>7</td>\n      <td>Describe\\n &lt;http://www.w3.org/1999/02/22-rdf-syntax-ns#type&gt;</td>\n      <td>None</td>\n    </tr>\n    <tr>\n      <th>2404</th>\n      <td>Describe%0A+%3Chttp%3A%2F%2Fwww.wikidata.org%2Fentity%2FQ4167410%3E+</td>\n      <td>2018-02-28 21:06:04</td>\n      <td>robotic</td>\n      <td>UNKNOWN</td>\n      <td>../BadRequeteCrypt/I7_status500_Joined.tsv</td>\n      <td>7</td>\n      <td>Describe\\n &lt;http://www.wikidata.org/entity/Q4167410&gt;</td>\n      <td>None</td>\n    </tr>\n    <tr>\n      <th>...</th>\n      <td>...</td>\n      <td>...</td>\n      <td>...</td>\n      <td>...</td>\n      <td>...</td>\n      <td>...</td>\n      <td>...</td>\n      <td>...</td>\n    </tr>\n    <tr>\n      <th>20544</th>\n      <td>Describe%0A+%3Chttp%3A%2F%2Fwww.wikidata.org%2Fentity%2FQ28665865%3E+</td>\n      <td>2018-03-19 08:54:48</td>\n      <td>organic</td>\n      <td>browser</td>\n      <td>../BadRequeteCrypt/I7_status500_Joined.tsv</td>\n      <td>7</td>\n      <td>Describe\\n &lt;http://www.wikidata.org/entity/Q28665865&gt;</td>\n      <td>None</td>\n    </tr>\n    <tr>\n      <th>20545</th>\n      <td>Describe%0A+%3Chttp%3A%2F%2Fwww.wikidata.org%2Fentity%2FQ28665865%3E+</td>\n      <td>2018-03-19 08:54:49</td>\n      <td>organic</td>\n      <td>browser</td>\n      <td>../BadRequeteCrypt/I7_status500_Joined.tsv</td>\n      <td>7</td>\n      <td>Describe\\n &lt;http://www.wikidata.org/entity/Q28665865&gt;</td>\n      <td>None</td>\n    </tr>\n    <tr>\n      <th>20546</th>\n      <td>Describe%0A+%3Chttp%3A%2F%2Fwww.wikidata.org%2Fentity%2FQ28665865%3E+</td>\n      <td>2018-03-19 08:54:54</td>\n      <td>organic</td>\n      <td>browser</td>\n      <td>../BadRequeteCrypt/I7_status500_Joined.tsv</td>\n      <td>7</td>\n      <td>Describe\\n &lt;http://www.wikidata.org/entity/Q28665865&gt;</td>\n      <td>None</td>\n    </tr>\n    <tr>\n      <th>21399</th>\n      <td>Describe%0A+%3Chttp%3A%2F%2Fwww.wikidata.org%2Fentity%2FQ5412157%3E+</td>\n      <td>2018-03-20 10:20:33</td>\n      <td>robotic</td>\n      <td>UNKNOWN</td>\n      <td>../BadRequeteCrypt/I7_status500_Joined.tsv</td>\n      <td>7</td>\n      <td>Describe\\n &lt;http://www.wikidata.org/entity/Q5412157&gt;</td>\n      <td>None</td>\n    </tr>\n    <tr>\n      <th>21630</th>\n      <td>Describe%0A+%3Chttp%3A%2F%2Fwww.wikidata.org%2Fentity%2FQ5412157%3E+</td>\n      <td>2018-03-20 18:00:21</td>\n      <td>robotic</td>\n      <td>UNKNOWN</td>\n      <td>../BadRequeteCrypt/I7_status500_Joined.tsv</td>\n      <td>7</td>\n      <td>Describe\\n &lt;http://www.wikidata.org/entity/Q5412157&gt;</td>\n      <td>None</td>\n    </tr>\n    <tr>\n      <th>22056</th>\n      <td>Describe%0A+%3Chttp%3A%2F%2Fwww.wikidata.org%2Fentity%2FQ30%3E+</td>\n      <td>2018-03-21 09:40:45</td>\n      <td>robotic</td>\n      <td>UNKNOWN</td>\n      <td>../BadRequeteCrypt/I7_status500_Joined.tsv</td>\n      <td>7</td>\n      <td>Describe\\n &lt;http://www.wikidata.org/entity/Q30&gt;</td>\n      <td>None</td>\n    </tr>\n    <tr>\n      <th>23019</th>\n      <td>CONSTRUCT+%7B%0A++%3Fvar1+%28+%3Chttp%3A%2F%2Fwww.wikidata.org%2Fprop%2Fdirect%2FP31%3E+%3F%2F+%3Chttp%3A%2F%2Fwww.wikidata.org%2Fprop%2Fdirect%2FP279%3E+*%29+%3Fvar2+%0A%7D%0AWHERE+%7B%0A++%3Fvar1+%28+%3Chttp%3A%2F%2Fwww.wikidata.org%2Fprop%2Fdirect%2FP31%3E+%3F%2F+%3Chttp%3A%2F%2Fwww.wikidata.org%2Fprop%2Fdirect%2FP279%3E+*%29+%3Fvar2+.%0A++VALUES+%28++%3Fvar1++%29+%7B%0A+++%28++%3Chttp%3A%2F%2Fwww.wikidata.org%2Fentity%2FQ26876%3E++%29%0A++%7D%0A%7D%0A</td>\n      <td>2018-03-22 15:52:49</td>\n      <td>organic</td>\n      <td>browser</td>\n      <td>../BadRequeteCrypt/I7_status500_Joined.tsv</td>\n      <td>7</td>\n      <td>CONSTRUCT {\\n  ?var1 ( &lt;http://www.wikidata.org/prop/direct/P31&gt;?/ &lt;http://www.wikidata.org/prop/direct/P279&gt;*) ?var2 \\n}\\nWHERE {\\n  ?var1 ( &lt;http://www.wikidata.org/prop/direct/P31&gt;?/ &lt;http://www.wikidata.org/prop/direct/P279&gt;*) ?var2 .\\n  VALUES (  ?var1  ) {\\n   (  &lt;http://www.wikidata.org/entity/Q26876&gt;  )\\n  }\\n}\\n</td>\n      <td>None</td>\n    </tr>\n    <tr>\n      <th>24170</th>\n      <td>Describe%0A+%3Chttp%3A%2F%2Fwww.wikidata.org%2Fentity%2FQ4167836%3E+</td>\n      <td>2018-03-23 22:42:26</td>\n      <td>robotic</td>\n      <td>UNKNOWN</td>\n      <td>../BadRequeteCrypt/I7_status500_Joined.tsv</td>\n      <td>7</td>\n      <td>Describe\\n &lt;http://www.wikidata.org/entity/Q4167836&gt;</td>\n      <td>None</td>\n    </tr>\n    <tr>\n      <th>24969</th>\n      <td>CONSTRUCT+%7B%0A++%3Fvar1++%3Chttp%3A%2F%2Fwww.wikidata.org%2Fprop%2Fdirect%2F279%3E+*+%3Fvar2+%0A%7D%0AWHERE+%7B%0A++%3Fvar2++%3Chttp%3A%2F%2Fwww.wikidata.org%2Fprop%2Fdirect%2FP279%3E+*+%3Chttp%3A%2F%2Fwww.wikidata.org%2Fentity%2FQ32815%3E+.%0A++%3Fvar1++%3Chttp%3A%2F%2Fwww.wikidata.org%2Fprop%2Fdirect%2F279%3E+*+%3Chttp%3A%2F%2Fwww.wikidata.org%2Fentity%2FQ32815%3E+.%0A++%3Fvar1++%3Chttp%3A%2F%2Fwww.wikidata.org%2Fprop%2Fdirect%2F279%3E+*+%3Fvar2+.%0A%7D%0A</td>\n      <td>2018-03-25 05:44:27</td>\n      <td>organic</td>\n      <td>browser</td>\n      <td>../BadRequeteCrypt/I7_status500_Joined.tsv</td>\n      <td>7</td>\n      <td>CONSTRUCT {\\n  ?var1  &lt;http://www.wikidata.org/prop/direct/279&gt;* ?var2 \\n}\\nWHERE {\\n  ?var2  &lt;http://www.wikidata.org/prop/direct/P279&gt;* &lt;http://www.wikidata.org/entity/Q32815&gt; .\\n  ?var1  &lt;http://www.wikidata.org/prop/direct/279&gt;* &lt;http://www.wikidata.org/entity/Q32815&gt; .\\n  ?var1  &lt;http://www.wikidata.org/prop/direct/279&gt;* ?var2 .\\n}\\n</td>\n      <td>None</td>\n    </tr>\n  </tbody>\n</table>\n<p>42 rows × 8 columns</p>\n</div>"
     },
     "metadata": {}
    }
   ]
  },
  {
   "cell_type": "markdown",
   "source": "### Create a Dataframe without failed parsed query",
   "metadata": {
    "cell_id": "00015-b60ff994-4521-40ea-929e-a61db55d9501",
    "deepnote_cell_type": "markdown"
   }
  },
  {
   "cell_type": "code",
   "metadata": {
    "cell_id": "00016-040f9047-8c40-4d0b-8b46-30209a38a9ee",
    "deepnote_to_be_reexecuted": false,
    "source_hash": "81526e24",
    "execution_start": 1643359224026,
    "execution_millis": 3544,
    "deepnote_output_heights": [
     237
    ],
    "deepnote_cell_type": "code"
   },
   "source": "df_nona = df.dropna()\ndf_nona",
   "execution_count": 11,
   "outputs": [
    {
     "output_type": "execute_result",
     "execution_count": 11,
     "data": {
      "application/vnd.deepnote.dataframe.v3+json": {
       "column_count": 8,
       "row_count": 25625,
       "columns": [
        {
         "name": "anonymizedQuery",
         "dtype": "object",
         "stats": {
          "unique_count": 6969,
          "nan_count": 0,
          "categories": [
           {
            "name": "SELECT+%3Fvar1++%3Fvar2++%3Fvar3+%0AWHERE+%7B%0A++%3Fvar1+%28+%3Chttp%3A%2F%2Fwww.wikidata.org%2Fprop%2Fdirect%2FP31%3E+%2F+%3Chttp%3A%2F%2Fwww.wikidata.org%2Fprop%2Fdirect%2FP279%3E+*%29+%3Chttp%3A%2F%2Fwww.wikidata.org%2Fentity%2FQ1190554%3E+.%0A++%3Fvar1++%3Chttp%3A%2F%2Fwww.wikidata.org%2Fprop%2Fdirect%2FP585%3E++%3Fvar2+.%0A++%3Fvar3++%3Chttp%3A%2F%2Fschema.org%2Fabout%3E++%3Fvar1+.%0A++%3Fvar3++%3Chttp%3A%2F%2Fschema.org%2FisPartOf%3E++%3Chttps%3A%2F%2Fen.wikipedia.org%2F%3E+.%0A+FILTER+%28++%28+%28++DATATYPE+%28++%3Fvar2++%29++%3D++%3Chttp%3A%2F%2Fwww.w3.org%2F2001%2FXMLSchema%23dateTime%3E++%29+%26%26+%28++MONTH+%28++%3Fvar2++%29++%3D++MONTH+%28++NOW+%28++%29++%29++%29+%26%26+%28++DAY+%28++%3Fvar2++%29++%3D++DAY+%28++NOW+%28++%29++%29++%29+%29+%0A%29+.%0A%7D%0AORDER+BY++DESC%28+%3Fvar2+%29%0ALIMIT+5%0A",
            "count": 1181
           },
           {
            "name": "SELECT%28++%3Fvar1++AS++%3Fvar2++%29%0AWHERE+%7B%0A++%3Chttp%3A%2F%2Fwww.wikidata.org%2Fentity%2FQ19253%3E+%28+%3Chttp%3A%2F%2Fwww.wikidata.org%2Fprop%2Fdirect%2FP131%3E+%2F+%3Chttp%3A%2F%2Fwww.wikidata.org%2Fprop%2Fdirect%2FP131%3E+*%29+%3Fvar3+.%0A++%3Fvar3+%28+%3Chttp%3A%2F%2Fwww.wikidata.org%2Fprop%2Fdirect%2FP31%3E+%2F+%3Chttp%3A%2F%2Fwww.wikidata.org%2Fprop%2Fdirect%2FP279%3E+*%29+%3Chttp%3A%2F%2Fwww.wikidata.org%2Fentity%2FQ10864048%3E+.%0A++%3Fvar1+%28+%3Chttp%3A%2F%2Fwww.wikidata.org%2Fprop%2Fdirect%2FP131%3E+%2F+%3Chttp%3A%2F%2Fwww.wikidata.org%2Fprop%2Fdirect%2FP131%3E+*%29+%3Fvar3+.%0A++%3Fvar1+%28+%3Chttp%3A%2F%2Fwww.wikidata.org%2Fprop%2Fdirect%2FP31%3E+%2F+%3Chttp%3A%2F%2Fwww.wikidata.org%2Fprop%2Fdirect%2FP279%3E+*%29+%3Chttp%3A%2F%2Fwww.wikidata.org%2Fentity%2FQ13221722%3E+.%0A+SERVICE++%3Chttp%3A%2F%2Fwikiba.se%2Fontology%23label%3E+++%7B%0A++++%3Chttp%3A%2F%2Fwww.bigdata.com%2Frdf%23serviceParam%3E++%3Chttp%3A%2F%2Fwikiba.se%2Fontology%23language%3E++%22fi%22.%0A++%7D%0A+FILTER+%28++%28++NOT+EXISTS++%7B%0A+++%3Fvar1+%28+%3Chttp%3A%2F%2Fwww.wikidata.org%2Fprop%2Fdirect%2FP31%3E+%2F+%3Chttp%3A%2F%2Fwww.wikidata.org%2Fprop%2Fdirect%2FP279%3E+*%29+%3Chttp%3A%2F%2Fwww.wikidata.org%2Fentity%2FQ19953632%3E+.%0A+%7D%0A+%29+%0A%29+.%0A%7D%0AGROUP+BY++%3Fvar1+%0A",
            "count": 1131
           },
           {
            "name": "6967 others",
            "count": 23313
           }
          ]
         }
        },
        {
         "name": "timestamp",
         "dtype": "object",
         "stats": {
          "unique_count": 22884,
          "nan_count": 0,
          "categories": [
           {
            "name": "2018-03-17 15:57:23",
            "count": 12
           },
           {
            "name": "2018-03-08 09:06:35",
            "count": 11
           },
           {
            "name": "22882 others",
            "count": 25602
           }
          ]
         }
        },
        {
         "name": "sourceCategory",
         "dtype": "object",
         "stats": {
          "unique_count": 2,
          "nan_count": 0,
          "categories": [
           {
            "name": "robotic",
            "count": 17522
           },
           {
            "name": "organic",
            "count": 8103
           }
          ]
         }
        },
        {
         "name": "user_agent",
         "dtype": "object"
        },
        {
         "name": "file_path",
         "dtype": "object"
        },
        {
         "name": "interval",
         "dtype": "int64"
        },
        {
         "name": "rawAnonymizedQuery",
         "dtype": "object"
        },
        {
         "name": "query",
         "dtype": "object"
        },
        {
         "name": "_deepnote_index_column",
         "dtype": "int64"
        }
       ],
       "rows": [
        {
         "anonymizedQuery": "SELECT+%3Fvar1++%3Fvar1Label++%3Fvar2++%3Fvar2Label++%3Fvar3++%3Fvar3Label+%0AWHERE+%7B%0A+SERVICE+…",
         "timestamp": "2018-02-26 00:03:29",
         "sourceCategory": "organic",
         "user_agent": "browser",
         "file_path": "../BadRequeteCrypt/I7_status500_Joined.tsv",
         "interval": 7,
         "rawAnonymizedQuery": "SELECT ?var1  ?var1Label  ?var2  ?var2Label  ?var3  ?var3Label \nWHERE {\n SERVICE  <http://wikiba.se…",
         "query": "<rdflib.plugins.sparql.sparql.Query object at 0x7f26c07c63d0>",
         "_deepnote_index_column": 0
        },
        {
         "anonymizedQuery": "SELECT+DISTINCT+%3Fvar1+%0AWHERE+%7B%0A++BIND+%28++%28++NOW+%28++%29+-+%3Fvar2++%29++AS++%3Fvar3+%2…",
         "timestamp": "2018-02-26 00:04:13",
         "sourceCategory": "robotic",
         "user_agent": "UNKNOWN",
         "file_path": "../BadRequeteCrypt/I7_status500_Joined.tsv",
         "interval": 7,
         "rawAnonymizedQuery": "SELECT DISTINCT ?var1 \nWHERE {\n  BIND (  (  NOW (  ) - ?var2  )  AS  ?var3 ).\n  ?var1  <http://www.…",
         "query": "<rdflib.plugins.sparql.sparql.Query object at 0x7f26c0857050>",
         "_deepnote_index_column": 1
        },
        {
         "anonymizedQuery": "SELECT+%3Fvar1++%3Fvar1Label+%28+COUNT+%28+DISTINCT++%3Fvar2++%29+AS++%3Fvar3++%29%0AWHERE+%7B%0A++…",
         "timestamp": "2018-02-26 00:04:19",
         "sourceCategory": "organic",
         "user_agent": "browser",
         "file_path": "../BadRequeteCrypt/I7_status500_Joined.tsv",
         "interval": 7,
         "rawAnonymizedQuery": "SELECT ?var1  ?var1Label ( COUNT ( DISTINCT  ?var2  ) AS  ?var3  )\nWHERE {\n  ?var2  <http://www.wik…",
         "query": "<rdflib.plugins.sparql.sparql.Query object at 0x7f26c06eac90>",
         "_deepnote_index_column": 2
        },
        {
         "anonymizedQuery": "SELECT+%3Fvar1++%3Fvar1Label++%3Fvar2++%3Fvar2Label++%3Fvar3++%3Fvar3Label+%0AWHERE+%7B%0A+SERVICE+…",
         "timestamp": "2018-02-26 00:04:34",
         "sourceCategory": "organic",
         "user_agent": "browser",
         "file_path": "../BadRequeteCrypt/I7_status500_Joined.tsv",
         "interval": 7,
         "rawAnonymizedQuery": "SELECT ?var1  ?var1Label  ?var2  ?var2Label  ?var3  ?var3Label \nWHERE {\n SERVICE  <http://wikiba.se…",
         "query": "<rdflib.plugins.sparql.sparql.Query object at 0x7f26be2b3890>",
         "_deepnote_index_column": 3
        },
        {
         "anonymizedQuery": "SELECT+%3Fvar1++%3Fvar2++%3Fvar3+%0AWHERE+%7B%0A++%3Fvar1+%28+%3Chttp%3A%2F%2Fwww.wikidata.org%2Fpr…",
         "timestamp": "2018-02-26 00:04:45",
         "sourceCategory": "robotic",
         "user_agent": "UNKNOWN",
         "file_path": "../BadRequeteCrypt/I7_status500_Joined.tsv",
         "interval": 7,
         "rawAnonymizedQuery": "SELECT ?var1  ?var2  ?var3 \nWHERE {\n  ?var1 ( <http://www.wikidata.org/prop/direct/P31> / <http://w…",
         "query": "<rdflib.plugins.sparql.sparql.Query object at 0x7f26c0693710>",
         "_deepnote_index_column": 4
        },
        {
         "anonymizedQuery": "SELECT+DISTINCT+%3Fvar1+%0AWHERE+%7B%0A++BIND+%28++%28++NOW+%28++%29+-+%3Fvar2++%29++AS++%3Fvar3+%2…",
         "timestamp": "2018-02-26 00:06:14",
         "sourceCategory": "robotic",
         "user_agent": "UNKNOWN",
         "file_path": "../BadRequeteCrypt/I7_status500_Joined.tsv",
         "interval": 7,
         "rawAnonymizedQuery": "SELECT DISTINCT ?var1 \nWHERE {\n  BIND (  (  NOW (  ) - ?var2  )  AS  ?var3 ).\n  ?var1  <http://www.…",
         "query": "<rdflib.plugins.sparql.sparql.Query object at 0x7f26be26b590>",
         "_deepnote_index_column": 5
        },
        {
         "anonymizedQuery": "SELECT+DISTINCT+%3Fvar1Label++%3Fvar2Label++%3Fvar1+%0AWHERE+%7B%0A++%3Fvar1+%28+%3Chttp%3A%2F%2Fww…",
         "timestamp": "2018-02-26 00:06:39",
         "sourceCategory": "organic",
         "user_agent": "browser",
         "file_path": "../BadRequeteCrypt/I7_status500_Joined.tsv",
         "interval": 7,
         "rawAnonymizedQuery": "SELECT DISTINCT ?var1Label  ?var2Label  ?var1 \nWHERE {\n  ?var1 ( <http://www.wikidata.org/prop/dire…",
         "query": "<rdflib.plugins.sparql.sparql.Query object at 0x7f26c148fed0>",
         "_deepnote_index_column": 6
        },
        {
         "anonymizedQuery": "SELECT+%3Fvar1++%3Fvar2++%3Fvar3+%0AWHERE+%7B%0A++%3Fvar1+%28+%3Chttp%3A%2F%2Fwww.wikidata.org%2Fpr…",
         "timestamp": "2018-02-26 00:06:40",
         "sourceCategory": "robotic",
         "user_agent": "UNKNOWN",
         "file_path": "../BadRequeteCrypt/I7_status500_Joined.tsv",
         "interval": 7,
         "rawAnonymizedQuery": "SELECT ?var1  ?var2  ?var3 \nWHERE {\n  ?var1 ( <http://www.wikidata.org/prop/direct/P31> / <http://w…",
         "query": "<rdflib.plugins.sparql.sparql.Query object at 0x7f26c06a1610>",
         "_deepnote_index_column": 7
        },
        {
         "anonymizedQuery": "SELECT+%3Fvar1++%3Fvar2++%3Fvar3+%0AWHERE+%7B%0A++%3Fvar1+%28+%3Chttp%3A%2F%2Fwww.wikidata.org%2Fpr…",
         "timestamp": "2018-02-26 00:09:46",
         "sourceCategory": "robotic",
         "user_agent": "UNKNOWN",
         "file_path": "../BadRequeteCrypt/I7_status500_Joined.tsv",
         "interval": 7,
         "rawAnonymizedQuery": "SELECT ?var1  ?var2  ?var3 \nWHERE {\n  ?var1 ( <http://www.wikidata.org/prop/direct/P31> / <http://w…",
         "query": "<rdflib.plugins.sparql.sparql.Query object at 0x7f26c06f9650>",
         "_deepnote_index_column": 8
        },
        {
         "anonymizedQuery": "SELECT+DISTINCT+%3Fvar1+%0AWHERE+%7B%0A+%7B%0A+++%3Fvar1++%3Chttp%3A%2F%2Fwww.wikidata.org%2Fprop%2…",
         "timestamp": "2018-02-26 00:14:22",
         "sourceCategory": "robotic",
         "user_agent": "bot2",
         "file_path": "../BadRequeteCrypt/I7_status500_Joined.tsv",
         "interval": 7,
         "rawAnonymizedQuery": "SELECT DISTINCT ?var1 \nWHERE {\n {\n   ?var1  <http://www.wikidata.org/prop/direct/P31>  ?var2 .\n   ?…",
         "query": "<rdflib.plugins.sparql.sparql.Query object at 0x7f26c07af250>",
         "_deepnote_index_column": 9
        }
       ]
      },
      "text/plain": "                                                                                                                                                                                                                                                                                                                                                                                                                                                                                                                                                                                                                                                                                                                                                                                                                                                                                                                                                                                                                                                                                                                                                                                                                                                                                                                                     anonymizedQuery  ...                                                          query\n0      SELECT+%3Fvar1++%3Fvar1Label++%3Fvar2++%3Fvar2Label++%3Fvar3++%3Fvar3Label+%0AWHERE+%7B%0A+SERVICE++%3Chttp%3A%2F%2Fwikiba.se%2Fontology%23label%3E+++%7B%0A++++%3Chttp%3A%2F%2Fwww.bigdata.com%2Frdf%23serviceParam%3E++%3Chttp%3A%2F%2Fwikiba.se%2Fontology%23language%3E++%22en%2Cen%22.%0A++%7D%0A++%3Fvar1++%3Chttp%3A%2F%2Fwww.wikidata.org%2Fprop%2Fdirect%2FP31%3E++%3Chttp%3A%2F%2Fwww.wikidata.org%2Fentity%2FQ215380%3E+.%0A+OPTIONAL+%7B%0A++%3Fvar4++%3Chttp%3A%2F%2Fwww.wikidata.org%2Fprop%2Fdirect%2FP136%3E++%3Fvar2+.%0A+%7D%0A+OPTIONAL+%7B%0A++%3Fvar4++%3Chttp%3A%2F%2Fwww.wikidata.org%2Fprop%2Fdirect%2FP264%3E++%3Fvar3+.%0A+%7D%0A%7D%0ALIMIT+10%0A                                                                                                                                                                                                                                                                                                                                                                                                                                                                                                                                                                                                                                                                   ...  <rdflib.plugins.sparql.sparql.Query object at 0x7f26c07c63d0>\n1      SELECT+DISTINCT+%3Fvar1+%0AWHERE+%7B%0A++BIND+%28++%28++NOW+%28++%29+-+%3Fvar2++%29++AS++%3Fvar3+%29.%0A++%3Fvar1++%3Chttp%3A%2F%2Fwww.wikidata.org%2Fprop%2Fdirect%2FP570%3E++%3Fvar2+.%0A+FILTER+%28++%28+%28++%3Fvar3++%3E%3D+%220%22%5E%5E%3Chttp%3A%2F%2Fwww.w3.org%2F2001%2FXMLSchema%23integer%3E++%29+%26%26+%28++%3Fvar3++%3C%3D+%225%22%5E%5E%3Chttp%3A%2F%2Fwww.w3.org%2F2001%2FXMLSchema%23integer%3E++%29+%29+%0A%29+.%0A++%3Fvar4++%3Chttp%3A%2F%2Fschema.org%2Fabout%3E++%3Fvar1+.%0A++%3Fvar4++%3Chttp%3A%2F%2Fschema.org%2FinLanguage%3E++%22es%22.%0A++%3Fvar4++%3Chttp%3A%2F%2Fschema.org%2FisPartOf%3E++%3Chttps%3A%2F%2Fes.wikipedia.org%2F%3E+.%0A%7D%0A                                                                                                                                                                                                                                                                                                                                                                                                                                                                                                                                                                                                                                                                 ...  <rdflib.plugins.sparql.sparql.Query object at 0x7f26c0857050>\n2      SELECT+%3Fvar1++%3Fvar1Label+%28+COUNT+%28+DISTINCT++%3Fvar2++%29+AS++%3Fvar3++%29%0AWHERE+%7B%0A++%3Fvar2++%3Chttp%3A%2F%2Fwww.wikidata.org%2Fprop%2Fdirect%2FP19%3E++%3Fvar1+%3B%0A%28+%3Chttp%3A%2F%2Fwww.wikidata.org%2Fprop%2Fdirect%2FP106%3E+%2F+%3Chttp%3A%2F%2Fwww.wikidata.org%2Fprop%2Fdirect%2FP279%3E+*%29+%3Chttp%3A%2F%2Fwww.wikidata.org%2Fentity%2FQ901%3E+.%0A++%3Fvar1+%28+%3Chttp%3A%2F%2Fwww.wikidata.org%2Fprop%2Fdirect%2FP17%3E+*%2F+%3Chttp%3A%2F%2Fwww.wikidata.org%2Fprop%2Fdirect%2FP30%3E+%29+%3Chttp%3A%2F%2Fwww.wikidata.org%2Fentity%2FQ46%3E+.%0A+SERVICE++%3Chttp%3A%2F%2Fwikiba.se%2Fontology%23label%3E+++%7B%0A++++%3Chttp%3A%2F%2Fwww.bigdata.com%2Frdf%23serviceParam%3E++%3Chttp%3A%2F%2Fwikiba.se%2Fontology%23language%3E++%22en%22.%0A++%7D%0A%7D%0AGROUP+BY++%3Fvar1++%3Fvar1Label+%0AORDER+BY++DESC%28+%3Fvar3+%29%0ALIMIT+10%0A                                                                                                                                                                                                                                                                                                                                                                                                                                                                  ...  <rdflib.plugins.sparql.sparql.Query object at 0x7f26c06eac90>\n3      SELECT+%3Fvar1++%3Fvar1Label++%3Fvar2++%3Fvar2Label++%3Fvar3++%3Fvar3Label+%0AWHERE+%7B%0A+SERVICE++%3Chttp%3A%2F%2Fwikiba.se%2Fontology%23label%3E+++%7B%0A++++%3Chttp%3A%2F%2Fwww.bigdata.com%2Frdf%23serviceParam%3E++%3Chttp%3A%2F%2Fwikiba.se%2Fontology%23language%3E++%22en%2Cen%22.%0A++%7D%0A++%3Fvar1++%3Chttp%3A%2F%2Fwww.wikidata.org%2Fprop%2Fdirect%2FP31%3E++%3Chttp%3A%2F%2Fwww.wikidata.org%2Fentity%2FQ215380%3E+.%0A+OPTIONAL+%7B%0A++%3Fvar4++%3Chttp%3A%2F%2Fwww.wikidata.org%2Fprop%2Fdirect%2FP136%3E++%3Fvar2+.%0A+%7D%0A+OPTIONAL+%7B%0A++%3Fvar4++%3Chttp%3A%2F%2Fwww.wikidata.org%2Fprop%2Fdirect%2FP264%3E++%3Fvar3+.%0A+%7D%0A%7D%0ALIMIT+10%0A                                                                                                                                                                                                                                                                                                                                                                                                                                                                                                                                                                                                                                                                   ...  <rdflib.plugins.sparql.sparql.Query object at 0x7f26be2b3890>\n4      SELECT+%3Fvar1++%3Fvar2++%3Fvar3+%0AWHERE+%7B%0A++%3Fvar1+%28+%3Chttp%3A%2F%2Fwww.wikidata.org%2Fprop%2Fdirect%2FP31%3E+%2F+%3Chttp%3A%2F%2Fwww.wikidata.org%2Fprop%2Fdirect%2FP279%3E+*%29+%3Chttp%3A%2F%2Fwww.wikidata.org%2Fentity%2FQ1190554%3E+.%0A++%3Fvar1++%3Chttp%3A%2F%2Fwww.wikidata.org%2Fprop%2Fdirect%2FP585%3E++%3Fvar2+.%0A++%3Fvar3++%3Chttp%3A%2F%2Fschema.org%2Fabout%3E++%3Fvar1+.%0A++%3Fvar3++%3Chttp%3A%2F%2Fschema.org%2FisPartOf%3E++%3Chttps%3A%2F%2Fen.wikipedia.org%2F%3E+.%0A+FILTER+%28++%28+%28++DATATYPE+%28++%3Fvar2++%29++%3D++%3Chttp%3A%2F%2Fwww.w3.org%2F2001%2FXMLSchema%23dateTime%3E++%29+%26%26+%28++MONTH+%28++%3Fvar2++%29++%3D++MONTH+%28++NOW+%28++%29++%29++%29+%26%26+%28++DAY+%28++%3Fvar2++%29++%3D++DAY+%28++NOW+%28++%29++%29++%29+%29+%0A%29+.%0A%7D%0AORDER+BY++DESC%28+%3Fvar2+%29%0ALIMIT+5%0A                                                                                                                                                                                                                                                                                                                                                                                                                                                                                          ...  <rdflib.plugins.sparql.sparql.Query object at 0x7f26c0693710>\n5      SELECT+DISTINCT+%3Fvar1+%0AWHERE+%7B%0A++BIND+%28++%28++NOW+%28++%29+-+%3Fvar2++%29++AS++%3Fvar3+%29.%0A++%3Fvar1++%3Chttp%3A%2F%2Fwww.wikidata.org%2Fprop%2Fdirect%2FP570%3E++%3Fvar2+.%0A+FILTER+%28++%28+%28++%3Fvar3++%3E%3D+%220%22%5E%5E%3Chttp%3A%2F%2Fwww.w3.org%2F2001%2FXMLSchema%23integer%3E++%29+%26%26+%28++%3Fvar3++%3C%3D+%225%22%5E%5E%3Chttp%3A%2F%2Fwww.w3.org%2F2001%2FXMLSchema%23integer%3E++%29+%29+%0A%29+.%0A++%3Fvar4++%3Chttp%3A%2F%2Fschema.org%2Fabout%3E++%3Fvar1+.%0A++%3Fvar4++%3Chttp%3A%2F%2Fschema.org%2FinLanguage%3E++%22es%22.%0A++%3Fvar4++%3Chttp%3A%2F%2Fschema.org%2FisPartOf%3E++%3Chttps%3A%2F%2Fes.wikipedia.org%2F%3E+.%0A%7D%0A                                                                                                                                                                                                                                                                                                                                                                                                                                                                                                                                                                                                                                                                 ...  <rdflib.plugins.sparql.sparql.Query object at 0x7f26be26b590>\n6      SELECT+DISTINCT+%3Fvar1Label++%3Fvar2Label++%3Fvar1+%0AWHERE+%7B%0A++%3Fvar1+%28+%3Chttp%3A%2F%2Fwww.wikidata.org%2Fprop%2Fdirect%2FP31%3E+%2F+%3Chttp%3A%2F%2Fwww.wikidata.org%2Fprop%2Fdirect%2FP279%3E+*%29+%3Chttp%3A%2F%2Fwww.wikidata.org%2Fentity%2FQ6999%3E+.%0A+OPTIONAL+%7B%0A++%3Fvar1++%3Chttp%3A%2F%2Fwww.wikidata.org%2Fprop%2Fdirect%2FP31%3E++%3Fvar2+.%0A+FILTER+%28++%28+%28++%3Fvar2++%21%3D++%3Chttp%3A%2F%2Fwww.wikidata.org%2Fentity%2FQ6999%3E++%29+%29+%0A%29+.%0A+%7D%0A+SERVICE++%3Chttp%3A%2F%2Fwikiba.se%2Fontology%23label%3E+++%7B%0A++++%3Chttp%3A%2F%2Fwww.bigdata.com%2Frdf%23serviceParam%3E++%3Chttp%3A%2F%2Fwikiba.se%2Fontology%23language%3E++%22en%22.%0A++%7D%0A%7D%0AORDER+BY+ASC%28+%3Fvar2Label+%29ASC%28+%3Fvar1Label+%29%0A                                                                                                                                                                                                                                                                                                                                                                                                                                                                                                                                                                       ...  <rdflib.plugins.sparql.sparql.Query object at 0x7f26c148fed0>\n7      SELECT+%3Fvar1++%3Fvar2++%3Fvar3+%0AWHERE+%7B%0A++%3Fvar1+%28+%3Chttp%3A%2F%2Fwww.wikidata.org%2Fprop%2Fdirect%2FP31%3E+%2F+%3Chttp%3A%2F%2Fwww.wikidata.org%2Fprop%2Fdirect%2FP279%3E+*%29+%3Chttp%3A%2F%2Fwww.wikidata.org%2Fentity%2FQ1190554%3E+.%0A++%3Fvar1++%3Chttp%3A%2F%2Fwww.wikidata.org%2Fprop%2Fdirect%2FP585%3E++%3Fvar2+.%0A++%3Fvar3++%3Chttp%3A%2F%2Fschema.org%2Fabout%3E++%3Fvar1+.%0A++%3Fvar3++%3Chttp%3A%2F%2Fschema.org%2FisPartOf%3E++%3Chttps%3A%2F%2Fen.wikipedia.org%2F%3E+.%0A+FILTER+%28++%28+%28++DATATYPE+%28++%3Fvar2++%29++%3D++%3Chttp%3A%2F%2Fwww.w3.org%2F2001%2FXMLSchema%23dateTime%3E++%29+%26%26+%28++MONTH+%28++%3Fvar2++%29++%3D++MONTH+%28++NOW+%28++%29++%29++%29+%26%26+%28++DAY+%28++%3Fvar2++%29++%3D++DAY+%28++NOW+%28++%29++%29++%29+%29+%0A%29+.%0A%7D%0AORDER+BY++DESC%28+%3Fvar2+%29%0ALIMIT+5%0A                                                                                                                                                                                                                                                                                                                                                                                                                                                                                          ...  <rdflib.plugins.sparql.sparql.Query object at 0x7f26c06a1610>\n8      SELECT+%3Fvar1++%3Fvar2++%3Fvar3+%0AWHERE+%7B%0A++%3Fvar1+%28+%3Chttp%3A%2F%2Fwww.wikidata.org%2Fprop%2Fdirect%2FP31%3E+%2F+%3Chttp%3A%2F%2Fwww.wikidata.org%2Fprop%2Fdirect%2FP279%3E+*%29+%3Chttp%3A%2F%2Fwww.wikidata.org%2Fentity%2FQ1190554%3E+.%0A++%3Fvar1++%3Chttp%3A%2F%2Fwww.wikidata.org%2Fprop%2Fdirect%2FP585%3E++%3Fvar2+.%0A++%3Fvar3++%3Chttp%3A%2F%2Fschema.org%2Fabout%3E++%3Fvar1+.%0A++%3Fvar3++%3Chttp%3A%2F%2Fschema.org%2FisPartOf%3E++%3Chttps%3A%2F%2Fen.wikipedia.org%2F%3E+.%0A+FILTER+%28++%28+%28++DATATYPE+%28++%3Fvar2++%29++%3D++%3Chttp%3A%2F%2Fwww.w3.org%2F2001%2FXMLSchema%23dateTime%3E++%29+%26%26+%28++MONTH+%28++%3Fvar2++%29++%3D++MONTH+%28++NOW+%28++%29++%29++%29+%26%26+%28++DAY+%28++%3Fvar2++%29++%3D++DAY+%28++NOW+%28++%29++%29++%29+%29+%0A%29+.%0A%7D%0AORDER+BY++DESC%28+%3Fvar2+%29%0ALIMIT+5%0A                                                                                                                                                                                                                                                                                                                                                                                                                                                                                          ...  <rdflib.plugins.sparql.sparql.Query object at 0x7f26c06f9650>\n...                                                                                                                                                                                                                                                                                                                                                                                                                                                                                                                                                                                                                                                                                                                                                                                                                                                      ...                                                                                                                                                                                                                                                                                                                                                                                                                                                                                          ...                                                            ...\n25658  SELECT%28++%3Fvar1++AS++%3Fvar2++%29%0AWHERE+%7B%0A++%3Chttp%3A%2F%2Fwww.wikidata.org%2Fentity%2FQ211907%3E+%28+%3Chttp%3A%2F%2Fwww.wikidata.org%2Fprop%2Fdirect%2FP131%3E+%2F+%3Chttp%3A%2F%2Fwww.wikidata.org%2Fprop%2Fdirect%2FP131%3E+*%29+%3Fvar3+.%0A++%3Fvar3+%28+%3Chttp%3A%2F%2Fwww.wikidata.org%2Fprop%2Fdirect%2FP31%3E+%2F+%3Chttp%3A%2F%2Fwww.wikidata.org%2Fprop%2Fdirect%2FP279%3E+*%29+%3Chttp%3A%2F%2Fwww.wikidata.org%2Fentity%2FQ10864048%3E+.%0A++%3Fvar1+%28+%3Chttp%3A%2F%2Fwww.wikidata.org%2Fprop%2Fdirect%2FP131%3E+%2F+%3Chttp%3A%2F%2Fwww.wikidata.org%2Fprop%2Fdirect%2FP131%3E+*%29+%3Fvar3+.%0A++%3Fvar1+%28+%3Chttp%3A%2F%2Fwww.wikidata.org%2Fprop%2Fdirect%2FP31%3E+%2F+%3Chttp%3A%2F%2Fwww.wikidata.org%2Fprop%2Fdirect%2FP279%3E+*%29+%3Chttp%3A%2F%2Fwww.wikidata.org%2Fentity%2FQ13220204%3E+.%0A+SERVICE++%3Chttp%3A%2F%2Fwikiba.se%2Fontology%23label%3E+++%7B%0A++++%3Chttp%3A%2F%2Fwww.bigdata.com%2Frdf%23serviceParam%3E++%3Chttp%3A%2F%2Fwikiba.se%2Fontology%23language%3E++%22fi%22.%0A++%7D%0A+FILTER+%28++%28++NOT+EXISTS++%7B%0A+++%3Fvar1+%28+%3Chttp%3A%2F%2Fwww.wikidata.org%2Fprop%2Fdirect%2FP31%3E+%2F+%3Chttp%3A%2F%2Fwww.wikidata.org%2Fprop%2Fdirect%2FP279%3E+*%29+%3Chttp%3A%2F%2Fwww.wikidata.org%2Fentity%2FQ19953632%3E+.%0A+%7D%0A+%29+%0A%29+.%0A%7D%0AGROUP+BY++%3Fvar1+%0A  ...  <rdflib.plugins.sparql.sparql.Query object at 0x7f2680eda1d0>\n25659  SELECT%28++%3Fvar1++AS++%3Fvar2++%29%0AWHERE+%7B%0A++%3Chttp%3A%2F%2Fwww.wikidata.org%2Fentity%2FQ211907%3E+%28+%3Chttp%3A%2F%2Fwww.wikidata.org%2Fprop%2Fdirect%2FP131%3E+%2F+%3Chttp%3A%2F%2Fwww.wikidata.org%2Fprop%2Fdirect%2FP131%3E+*%29+%3Fvar3+.%0A++%3Fvar3+%28+%3Chttp%3A%2F%2Fwww.wikidata.org%2Fprop%2Fdirect%2FP31%3E+%2F+%3Chttp%3A%2F%2Fwww.wikidata.org%2Fprop%2Fdirect%2FP279%3E+*%29+%3Chttp%3A%2F%2Fwww.wikidata.org%2Fentity%2FQ10864048%3E+.%0A++%3Fvar1+%28+%3Chttp%3A%2F%2Fwww.wikidata.org%2Fprop%2Fdirect%2FP131%3E+%2F+%3Chttp%3A%2F%2Fwww.wikidata.org%2Fprop%2Fdirect%2FP131%3E+*%29+%3Fvar3+.%0A++%3Fvar1+%28+%3Chttp%3A%2F%2Fwww.wikidata.org%2Fprop%2Fdirect%2FP31%3E+%2F+%3Chttp%3A%2F%2Fwww.wikidata.org%2Fprop%2Fdirect%2FP279%3E+*%29+%3Chttp%3A%2F%2Fwww.wikidata.org%2Fentity%2FQ13221722%3E+.%0A+SERVICE++%3Chttp%3A%2F%2Fwikiba.se%2Fontology%23label%3E+++%7B%0A++++%3Chttp%3A%2F%2Fwww.bigdata.com%2Frdf%23serviceParam%3E++%3Chttp%3A%2F%2Fwikiba.se%2Fontology%23language%3E++%22fi%22.%0A++%7D%0A+FILTER+%28++%28++NOT+EXISTS++%7B%0A+++%3Fvar1+%28+%3Chttp%3A%2F%2Fwww.wikidata.org%2Fprop%2Fdirect%2FP31%3E+%2F+%3Chttp%3A%2F%2Fwww.wikidata.org%2Fprop%2Fdirect%2FP279%3E+*%29+%3Chttp%3A%2F%2Fwww.wikidata.org%2Fentity%2FQ19953632%3E+.%0A+%7D%0A+%29+%0A%29+.%0A%7D%0AGROUP+BY++%3Fvar1+%0A  ...  <rdflib.plugins.sparql.sparql.Query object at 0x7f268102b290>\n25660  SELECT%28++%3Fvar1++AS++%3Fvar2++%29%0AWHERE+%7B%0A++%3Chttp%3A%2F%2Fwww.wikidata.org%2Fentity%2FQ211907%3E+%28+%3Chttp%3A%2F%2Fwww.wikidata.org%2Fprop%2Fdirect%2FP131%3E+%2F+%3Chttp%3A%2F%2Fwww.wikidata.org%2Fprop%2Fdirect%2FP131%3E+*%29+%3Fvar3+.%0A++%3Fvar3+%28+%3Chttp%3A%2F%2Fwww.wikidata.org%2Fprop%2Fdirect%2FP31%3E+%2F+%3Chttp%3A%2F%2Fwww.wikidata.org%2Fprop%2Fdirect%2FP279%3E+*%29+%3Chttp%3A%2F%2Fwww.wikidata.org%2Fentity%2FQ10864048%3E+.%0A++%3Fvar1+%28+%3Chttp%3A%2F%2Fwww.wikidata.org%2Fprop%2Fdirect%2FP131%3E+%2F+%3Chttp%3A%2F%2Fwww.wikidata.org%2Fprop%2Fdirect%2FP131%3E+*%29+%3Fvar3+.%0A++%3Fvar1+%28+%3Chttp%3A%2F%2Fwww.wikidata.org%2Fprop%2Fdirect%2FP31%3E+%2F+%3Chttp%3A%2F%2Fwww.wikidata.org%2Fprop%2Fdirect%2FP279%3E+*%29+%3Chttp%3A%2F%2Fwww.wikidata.org%2Fentity%2FQ13221722%3E+.%0A+SERVICE++%3Chttp%3A%2F%2Fwikiba.se%2Fontology%23label%3E+++%7B%0A++++%3Chttp%3A%2F%2Fwww.bigdata.com%2Frdf%23serviceParam%3E++%3Chttp%3A%2F%2Fwikiba.se%2Fontology%23language%3E++%22fi%22.%0A++%7D%0A+FILTER+%28++%28++NOT+EXISTS++%7B%0A+++%3Fvar1+%28+%3Chttp%3A%2F%2Fwww.wikidata.org%2Fprop%2Fdirect%2FP31%3E+%2F+%3Chttp%3A%2F%2Fwww.wikidata.org%2Fprop%2Fdirect%2FP279%3E+*%29+%3Chttp%3A%2F%2Fwww.wikidata.org%2Fentity%2FQ19953632%3E+.%0A+%7D%0A+%29+%0A%29+.%0A%7D%0AGROUP+BY++%3Fvar1+%0A  ...  <rdflib.plugins.sparql.sparql.Query object at 0x7f2680cab690>\n25661  SELECT+%3Fvar1++%3Fvar2Label++%3Fvar1Label++%3Fvar3++%3Fvar4++%3Fvar4Label+%0AWHERE+%7B%0A++VALUES+%28++%3Fvar2++%29+%7B%0A+++%28++%3Chttp%3A%2F%2Fwww.wikidata.org%2Fentity%2FQ5608%3E++%29%0A++%7D%0A++%3Fvar1++%3Chttp%3A%2F%2Fwww.wikidata.org%2Fprop%2Fdirect%2FP175%3E++%3Fvar2+.%0A++%3Fvar1++%3Chttp%3A%2F%2Fwww.wikidata.org%2Fprop%2Fdirect%2FP577%3E++%3Fvar3+.%0A+SERVICE++%3Chttp%3A%2F%2Fwikiba.se%2Fontology%23label%3E+++%7B%0A++++%3Chttp%3A%2F%2Fwww.bigdata.com%2Frdf%23serviceParam%3E++%3Chttp%3A%2F%2Fwikiba.se%2Fontology%23language%3E++%22en%22.%0A++%7D%0A+OPTIONAL+%7B%0A++%3Fvar5++%3Chttp%3A%2F%2Fwww.wikidata.org%2Fprop%2Fdirect%2FP136%3E++%3Fvar4+.%0A+%7D%0A%7D%0A                                                                                                                                                                                                                                                                                                                                                                                                                                                                                                                                                                                                                                           ...  <rdflib.plugins.sparql.sparql.Query object at 0x7f2680ea3190>\n25662  SELECT+%3Fvar1++%3Fvar2+%28++GROUP_CONCAT+%28++DISTINCT++%3Fvar3++%29++AS++%3Fvar4++%29%0AWHERE+%7B%0A++VALUES+%28++%3Fvar5++%29+%7B%0A+++%28++%3Chttp%3A%2F%2Fwww.wikidata.org%2Fentity%2FQ11424%3E++%29%0A+++%28++%3Chttp%3A%2F%2Fwww.wikidata.org%2Fentity%2FQ24862%3E++%29%0A+++%28++%3Chttp%3A%2F%2Fwww.wikidata.org%2Fentity%2FQ506240%3E++%29%0A+++%28++%3Chttp%3A%2F%2Fwww.wikidata.org%2Fentity%2FQ336144%3E++%29%0A++%7D%0A++BIND+%28++%3Chttp%3A%2F%2Fwww.w3.org%2F2001%2FXMLSchema%23integer%3E++%28+STRAFTER+%28++STR+%28++%3Fvar1++%29+%2C+%22Q%22+%29+%29++AS++%3Fvar2+%29.%0A++%3Fvar1++%3Chttp%3A%2F%2Fwww.wikidata.org%2Fprop%2Fdirect%2FP31%3E++%3Fvar5+.%0A+FILTER+%28++%28+%28++%3Fvar2++%3E+%2228090000%22%5E%5E%3Chttp%3A%2F%2Fwww.w3.org%2F2001%2FXMLSchema%23integer%3E++%29+%29+%0A%29+.%0A+OPTIONAL+%7B%0A++BIND+%28++CONCAT+%28++%22%5B%22%2C+STR+%28++%3Fvar6++%29+%2C+%22+%22%2C+%3Fvar7+%2C+%22%5D%22+%29++AS++%3Fvar3+%29.%0A++%3Fvar6++%3Chttp%3A%2F%2Fschema.org%2Fabout%3E++%3Fvar1+%3B%0A+%3Chttp%3A%2F%2Fschema.org%2FinLanguage%3E++%3Fvar7+.%0A+%7D%0A%7D%0AGROUP+BY++%3Fvar1++%3Fvar2+%0AORDER+BY++DESC%28+%3Fvar2+%29%0ALIMIT+500%0A                                                                                                                                                                  ...  <rdflib.plugins.sparql.sparql.Query object at 0x7f26816b8b10>\n25663  SELECT+%3Fvar1+%0AWHERE+%7B%0A++%3Fvar1++%3Chttp%3A%2F%2Fwww.wikidata.org%2Fprop%2Fdirect%2FP345%3E++%3Fvar2+.%0A+FILTER+%28++%28++CONTAINS+%28++LCASE+%28++%3Fvar2++%29+%2C+%22nm1599776%22+%29++%29+%0A%29+.%0A+SERVICE++%3Chttp%3A%2F%2Fwikiba.se%2Fontology%23label%3E+++%7B%0A++++%3Chttp%3A%2F%2Fwww.bigdata.com%2Frdf%23serviceParam%3E++%3Chttp%3A%2F%2Fwikiba.se%2Fontology%23language%3E++%22en%22.%0A++%7D%0A%7D%0ALIMIT+1%0A                                                                                                                                                                                                                                                                                                                                                                                                                                                                                                                                                                                                                                                                                                                                                                                                                                                                                                       ...  <rdflib.plugins.sparql.sparql.Query object at 0x7f2680c1a590>\n25664  SELECT+*%0AWHERE+%7B%0A++%3Fvar1++%3Chttp%3A%2F%2Fwww.wikidata.org%2Fprop%2Fdirect%2FP345%3E++%3Fvar2+.%0A+FILTER+%28++%28+%28++%3Fvar2++%3D++%22tt6483832%22+%29+%29+%0A%29+.%0A++%3Fvar3++%3Chttp%3A%2F%2Fschema.org%2Fabout%3E++%3Fvar1+%3B%0A+%3Chttp%3A%2F%2Fschema.org%2FinLanguage%3E++%22en%22%3B%0A+%3Chttp%3A%2F%2Fschema.org%2FisPartOf%3E++%3Chttps%3A%2F%2Fen.wikipedia.org%2F%3E+.%0A%7D%0A                                                                                                                                                                                                                                                                                                                                                                                                                                                                                                                                                                                                                                                                                                                                                                                                                                                                                                                                      ...  <rdflib.plugins.sparql.sparql.Query object at 0x7f2680c47b10>\n25665  SELECT+DISTINCT+%3Fvar1++%3Fvar2+%0AWHERE+%7B%0A++%3Fvar1++%3Chttp%3A%2F%2Fwww.wikidata.org%2Fprop%2Fdirect%2FP31%3E++%3Chttp%3A%2F%2Fwww.wikidata.org%2Fentity%2FQ13442814%3E+.%0A++%3Fvar1++%3Chttp%3A%2F%2Fwww.wikidata.org%2Fprop%2Fdirect%2FP356%3E++%3Fvar2+.%0A++%3Fvar1++%3Chttp%3A%2F%2Fwww.wikidata.org%2Fprop%2Fdirect%2FP50%3E++%3Fvar3+.%0A++%3Fvar3++%3Chttp%3A%2F%2Fwww.wikidata.org%2Fprop%2Fdirect%2FP31%3E++%3Chttp%3A%2F%2Fwww.wikidata.org%2Fentity%2FQ5%3E+.%0A++MINUS+++%7B%0A++++%3Fvar3++%3Chttp%3A%2F%2Fwww.wikidata.org%2Fprop%2Fdirect%2FP496%3E++%5B%5D+.%0A++%7D%0A++MINUS+++%7B%0A++++%3Fvar3++%3Chttp%3A%2F%2Fwww.wikidata.org%2Fprop%2Fdirect%2FP570%3E++%5B%5D+.%0A++%7D%0A%7D%0AORDER+BY+ASC%28+RAND+%28++%29+%29%0ALIMIT+2000%0A                                                                                                                                                                                                                                                                                                                                                                                                                                                                                                                                                                            ...  <rdflib.plugins.sparql.sparql.Query object at 0x7f26809b47d0>\n25666  SELECT+%3Fvar1++%3Fvar2++%3Fvar3+%28++IF+%28+%28++%3Fvar3++%3E+%2211%22%5E%5E%3Chttp%3A%2F%2Fwww.w3.org%2F2001%2FXMLSchema%23integer%3E++%29%2C+%22string1%22%2C+%22string2%22+%29++AS++%3Fvar4++%29%0AWHERE+%7B%0A++%3Fvar1++%3Chttp%3A%2F%2Fwikiba.se%2Fontology%23sitelinks%3E++%3Fvar2+%3B%0A+%3Chttp%3A%2F%2Fwikiba.se%2Fontology%23statements%3E++%3Fvar3+.%0A+FILTER+%28++%28+%28++%3Fvar2++%3E+%22180%22%5E%5E%3Chttp%3A%2F%2Fwww.w3.org%2F2001%2FXMLSchema%23integer%3E++%29+%29+%0A%29+.%0A%7D%0AORDER+BY++DESC%28+%3Fvar2+%29%0ALIMIT+1000%0A                                                                                                                                                                                                                                                                                                                                                                                                                                                                                                                                                                                                                                                                                                                                                                                       ...  <rdflib.plugins.sparql.sparql.Query object at 0x7f268195ebd0>\n\n[25625 rows x 8 columns]",
      "text/html": "<div>\n<style scoped>\n    .dataframe tbody tr th:only-of-type {\n        vertical-align: middle;\n    }\n\n    .dataframe tbody tr th {\n        vertical-align: top;\n    }\n\n    .dataframe thead th {\n        text-align: right;\n    }\n</style>\n<table border=\"1\" class=\"dataframe\">\n  <thead>\n    <tr style=\"text-align: right;\">\n      <th></th>\n      <th>anonymizedQuery</th>\n      <th>timestamp</th>\n      <th>sourceCategory</th>\n      <th>user_agent</th>\n      <th>file_path</th>\n      <th>interval</th>\n      <th>rawAnonymizedQuery</th>\n      <th>query</th>\n    </tr>\n  </thead>\n  <tbody>\n    <tr>\n      <th>0</th>\n      <td>SELECT+%3Fvar1++%3Fvar1Label++%3Fvar2++%3Fvar2Label++%3Fvar3++%3Fvar3Label+%0AWHERE+%7B%0A+SERVICE++%3Chttp%3A%2F%2Fwikiba.se%2Fontology%23label%3E+++%7B%0A++++%3Chttp%3A%2F%2Fwww.bigdata.com%2Frdf%23serviceParam%3E++%3Chttp%3A%2F%2Fwikiba.se%2Fontology%23language%3E++%22en%2Cen%22.%0A++%7D%0A++%3Fvar1++%3Chttp%3A%2F%2Fwww.wikidata.org%2Fprop%2Fdirect%2FP31%3E++%3Chttp%3A%2F%2Fwww.wikidata.org%2Fentity%2FQ215380%3E+.%0A+OPTIONAL+%7B%0A++%3Fvar4++%3Chttp%3A%2F%2Fwww.wikidata.org%2Fprop%2Fdirect%2FP136%3E++%3Fvar2+.%0A+%7D%0A+OPTIONAL+%7B%0A++%3Fvar4++%3Chttp%3A%2F%2Fwww.wikidata.org%2Fprop%2Fdirect%2FP264%3E++%3Fvar3+.%0A+%7D%0A%7D%0ALIMIT+10%0A</td>\n      <td>2018-02-26 00:03:29</td>\n      <td>organic</td>\n      <td>browser</td>\n      <td>../BadRequeteCrypt/I7_status500_Joined.tsv</td>\n      <td>7</td>\n      <td>SELECT ?var1  ?var1Label  ?var2  ?var2Label  ?var3  ?var3Label \\nWHERE {\\n SERVICE  &lt;http://wikiba.se/ontology#label&gt;   {\\n    &lt;http://www.bigdata.com/rdf#serviceParam&gt;  &lt;http://wikiba.se/ontology#language&gt;  \"en,en\".\\n  }\\n  ?var1  &lt;http://www.wikidata.org/prop/direct/P31&gt;  &lt;http://www.wikidata.org/entity/Q215380&gt; .\\n OPTIONAL {\\n  ?var4  &lt;http://www.wikidata.org/prop/direct/P136&gt;  ?var2 .\\n }\\n OPTIONAL {\\n  ?var4  &lt;http://www.wikidata.org/prop/direct/P264&gt;  ?var3 .\\n }\\n}\\nLIMIT 10\\n</td>\n      <td>&lt;rdflib.plugins.sparql.sparql.Query object at 0x7f26c07c63d0&gt;</td>\n    </tr>\n    <tr>\n      <th>1</th>\n      <td>SELECT+DISTINCT+%3Fvar1+%0AWHERE+%7B%0A++BIND+%28++%28++NOW+%28++%29+-+%3Fvar2++%29++AS++%3Fvar3+%29.%0A++%3Fvar1++%3Chttp%3A%2F%2Fwww.wikidata.org%2Fprop%2Fdirect%2FP570%3E++%3Fvar2+.%0A+FILTER+%28++%28+%28++%3Fvar3++%3E%3D+%220%22%5E%5E%3Chttp%3A%2F%2Fwww.w3.org%2F2001%2FXMLSchema%23integer%3E++%29+%26%26+%28++%3Fvar3++%3C%3D+%225%22%5E%5E%3Chttp%3A%2F%2Fwww.w3.org%2F2001%2FXMLSchema%23integer%3E++%29+%29+%0A%29+.%0A++%3Fvar4++%3Chttp%3A%2F%2Fschema.org%2Fabout%3E++%3Fvar1+.%0A++%3Fvar4++%3Chttp%3A%2F%2Fschema.org%2FinLanguage%3E++%22es%22.%0A++%3Fvar4++%3Chttp%3A%2F%2Fschema.org%2FisPartOf%3E++%3Chttps%3A%2F%2Fes.wikipedia.org%2F%3E+.%0A%7D%0A</td>\n      <td>2018-02-26 00:04:13</td>\n      <td>robotic</td>\n      <td>UNKNOWN</td>\n      <td>../BadRequeteCrypt/I7_status500_Joined.tsv</td>\n      <td>7</td>\n      <td>SELECT DISTINCT ?var1 \\nWHERE {\\n  BIND (  (  NOW (  ) - ?var2  )  AS  ?var3 ).\\n  ?var1  &lt;http://www.wikidata.org/prop/direct/P570&gt;  ?var2 .\\n FILTER (  ( (  ?var3  &gt;= \"0\"^^&lt;http://www.w3.org/2001/XMLSchema#integer&gt;  ) &amp;&amp; (  ?var3  &lt;= \"5\"^^&lt;http://www.w3.org/2001/XMLSchema#integer&gt;  ) ) \\n) .\\n  ?var4  &lt;http://schema.org/about&gt;  ?var1 .\\n  ?var4  &lt;http://schema.org/inLanguage&gt;  \"es\".\\n  ?var4  &lt;http://schema.org/isPartOf&gt;  &lt;https://es.wikipedia.org/&gt; .\\n}\\n</td>\n      <td>&lt;rdflib.plugins.sparql.sparql.Query object at 0x7f26c0857050&gt;</td>\n    </tr>\n    <tr>\n      <th>2</th>\n      <td>SELECT+%3Fvar1++%3Fvar1Label+%28+COUNT+%28+DISTINCT++%3Fvar2++%29+AS++%3Fvar3++%29%0AWHERE+%7B%0A++%3Fvar2++%3Chttp%3A%2F%2Fwww.wikidata.org%2Fprop%2Fdirect%2FP19%3E++%3Fvar1+%3B%0A%28+%3Chttp%3A%2F%2Fwww.wikidata.org%2Fprop%2Fdirect%2FP106%3E+%2F+%3Chttp%3A%2F%2Fwww.wikidata.org%2Fprop%2Fdirect%2FP279%3E+*%29+%3Chttp%3A%2F%2Fwww.wikidata.org%2Fentity%2FQ901%3E+.%0A++%3Fvar1+%28+%3Chttp%3A%2F%2Fwww.wikidata.org%2Fprop%2Fdirect%2FP17%3E+*%2F+%3Chttp%3A%2F%2Fwww.wikidata.org%2Fprop%2Fdirect%2FP30%3E+%29+%3Chttp%3A%2F%2Fwww.wikidata.org%2Fentity%2FQ46%3E+.%0A+SERVICE++%3Chttp%3A%2F%2Fwikiba.se%2Fontology%23label%3E+++%7B%0A++++%3Chttp%3A%2F%2Fwww.bigdata.com%2Frdf%23serviceParam%3E++%3Chttp%3A%2F%2Fwikiba.se%2Fontology%23language%3E++%22en%22.%0A++%7D%0A%7D%0AGROUP+BY++%3Fvar1++%3Fvar1Label+%0AORDER+BY++DESC%28+%3Fvar3+%29%0ALIMIT+10%0A</td>\n      <td>2018-02-26 00:04:19</td>\n      <td>organic</td>\n      <td>browser</td>\n      <td>../BadRequeteCrypt/I7_status500_Joined.tsv</td>\n      <td>7</td>\n      <td>SELECT ?var1  ?var1Label ( COUNT ( DISTINCT  ?var2  ) AS  ?var3  )\\nWHERE {\\n  ?var2  &lt;http://www.wikidata.org/prop/direct/P19&gt;  ?var1 ;\\n( &lt;http://www.wikidata.org/prop/direct/P106&gt; / &lt;http://www.wikidata.org/prop/direct/P279&gt;*) &lt;http://www.wikidata.org/entity/Q901&gt; .\\n  ?var1 ( &lt;http://www.wikidata.org/prop/direct/P17&gt;*/ &lt;http://www.wikidata.org/prop/direct/P30&gt; ) &lt;http://www.wikidata.org/entity/Q46&gt; .\\n SERVICE  &lt;http://wikiba.se/ontology#label&gt;   {\\n    &lt;http://www.bigdata.com/rdf#serviceParam&gt;  &lt;http://wikiba.se/ontology#language&gt;  \"en\".\\n  }\\n}\\nGROUP BY  ?var1  ?var1Label \\nORDER BY  DESC( ?var3 )\\nLIMIT 10\\n</td>\n      <td>&lt;rdflib.plugins.sparql.sparql.Query object at 0x7f26c06eac90&gt;</td>\n    </tr>\n    <tr>\n      <th>3</th>\n      <td>SELECT+%3Fvar1++%3Fvar1Label++%3Fvar2++%3Fvar2Label++%3Fvar3++%3Fvar3Label+%0AWHERE+%7B%0A+SERVICE++%3Chttp%3A%2F%2Fwikiba.se%2Fontology%23label%3E+++%7B%0A++++%3Chttp%3A%2F%2Fwww.bigdata.com%2Frdf%23serviceParam%3E++%3Chttp%3A%2F%2Fwikiba.se%2Fontology%23language%3E++%22en%2Cen%22.%0A++%7D%0A++%3Fvar1++%3Chttp%3A%2F%2Fwww.wikidata.org%2Fprop%2Fdirect%2FP31%3E++%3Chttp%3A%2F%2Fwww.wikidata.org%2Fentity%2FQ215380%3E+.%0A+OPTIONAL+%7B%0A++%3Fvar4++%3Chttp%3A%2F%2Fwww.wikidata.org%2Fprop%2Fdirect%2FP136%3E++%3Fvar2+.%0A+%7D%0A+OPTIONAL+%7B%0A++%3Fvar4++%3Chttp%3A%2F%2Fwww.wikidata.org%2Fprop%2Fdirect%2FP264%3E++%3Fvar3+.%0A+%7D%0A%7D%0ALIMIT+10%0A</td>\n      <td>2018-02-26 00:04:34</td>\n      <td>organic</td>\n      <td>browser</td>\n      <td>../BadRequeteCrypt/I7_status500_Joined.tsv</td>\n      <td>7</td>\n      <td>SELECT ?var1  ?var1Label  ?var2  ?var2Label  ?var3  ?var3Label \\nWHERE {\\n SERVICE  &lt;http://wikiba.se/ontology#label&gt;   {\\n    &lt;http://www.bigdata.com/rdf#serviceParam&gt;  &lt;http://wikiba.se/ontology#language&gt;  \"en,en\".\\n  }\\n  ?var1  &lt;http://www.wikidata.org/prop/direct/P31&gt;  &lt;http://www.wikidata.org/entity/Q215380&gt; .\\n OPTIONAL {\\n  ?var4  &lt;http://www.wikidata.org/prop/direct/P136&gt;  ?var2 .\\n }\\n OPTIONAL {\\n  ?var4  &lt;http://www.wikidata.org/prop/direct/P264&gt;  ?var3 .\\n }\\n}\\nLIMIT 10\\n</td>\n      <td>&lt;rdflib.plugins.sparql.sparql.Query object at 0x7f26be2b3890&gt;</td>\n    </tr>\n    <tr>\n      <th>4</th>\n      <td>SELECT+%3Fvar1++%3Fvar2++%3Fvar3+%0AWHERE+%7B%0A++%3Fvar1+%28+%3Chttp%3A%2F%2Fwww.wikidata.org%2Fprop%2Fdirect%2FP31%3E+%2F+%3Chttp%3A%2F%2Fwww.wikidata.org%2Fprop%2Fdirect%2FP279%3E+*%29+%3Chttp%3A%2F%2Fwww.wikidata.org%2Fentity%2FQ1190554%3E+.%0A++%3Fvar1++%3Chttp%3A%2F%2Fwww.wikidata.org%2Fprop%2Fdirect%2FP585%3E++%3Fvar2+.%0A++%3Fvar3++%3Chttp%3A%2F%2Fschema.org%2Fabout%3E++%3Fvar1+.%0A++%3Fvar3++%3Chttp%3A%2F%2Fschema.org%2FisPartOf%3E++%3Chttps%3A%2F%2Fen.wikipedia.org%2F%3E+.%0A+FILTER+%28++%28+%28++DATATYPE+%28++%3Fvar2++%29++%3D++%3Chttp%3A%2F%2Fwww.w3.org%2F2001%2FXMLSchema%23dateTime%3E++%29+%26%26+%28++MONTH+%28++%3Fvar2++%29++%3D++MONTH+%28++NOW+%28++%29++%29++%29+%26%26+%28++DAY+%28++%3Fvar2++%29++%3D++DAY+%28++NOW+%28++%29++%29++%29+%29+%0A%29+.%0A%7D%0AORDER+BY++DESC%28+%3Fvar2+%29%0ALIMIT+5%0A</td>\n      <td>2018-02-26 00:04:45</td>\n      <td>robotic</td>\n      <td>UNKNOWN</td>\n      <td>../BadRequeteCrypt/I7_status500_Joined.tsv</td>\n      <td>7</td>\n      <td>SELECT ?var1  ?var2  ?var3 \\nWHERE {\\n  ?var1 ( &lt;http://www.wikidata.org/prop/direct/P31&gt; / &lt;http://www.wikidata.org/prop/direct/P279&gt;*) &lt;http://www.wikidata.org/entity/Q1190554&gt; .\\n  ?var1  &lt;http://www.wikidata.org/prop/direct/P585&gt;  ?var2 .\\n  ?var3  &lt;http://schema.org/about&gt;  ?var1 .\\n  ?var3  &lt;http://schema.org/isPartOf&gt;  &lt;https://en.wikipedia.org/&gt; .\\n FILTER (  ( (  DATATYPE (  ?var2  )  =  &lt;http://www.w3.org/2001/XMLSchema#dateTime&gt;  ) &amp;&amp; (  MONTH (  ?var2  )  =  MONTH (  NOW (  )  )  ) &amp;&amp; (  DAY (  ?var2  )  =  DAY (  NOW (  )  )  ) ) \\n) .\\n}\\nORDER BY  DESC( ?var2 )\\nLIMIT 5\\n</td>\n      <td>&lt;rdflib.plugins.sparql.sparql.Query object at 0x7f26c0693710&gt;</td>\n    </tr>\n    <tr>\n      <th>5</th>\n      <td>SELECT+DISTINCT+%3Fvar1+%0AWHERE+%7B%0A++BIND+%28++%28++NOW+%28++%29+-+%3Fvar2++%29++AS++%3Fvar3+%29.%0A++%3Fvar1++%3Chttp%3A%2F%2Fwww.wikidata.org%2Fprop%2Fdirect%2FP570%3E++%3Fvar2+.%0A+FILTER+%28++%28+%28++%3Fvar3++%3E%3D+%220%22%5E%5E%3Chttp%3A%2F%2Fwww.w3.org%2F2001%2FXMLSchema%23integer%3E++%29+%26%26+%28++%3Fvar3++%3C%3D+%225%22%5E%5E%3Chttp%3A%2F%2Fwww.w3.org%2F2001%2FXMLSchema%23integer%3E++%29+%29+%0A%29+.%0A++%3Fvar4++%3Chttp%3A%2F%2Fschema.org%2Fabout%3E++%3Fvar1+.%0A++%3Fvar4++%3Chttp%3A%2F%2Fschema.org%2FinLanguage%3E++%22es%22.%0A++%3Fvar4++%3Chttp%3A%2F%2Fschema.org%2FisPartOf%3E++%3Chttps%3A%2F%2Fes.wikipedia.org%2F%3E+.%0A%7D%0A</td>\n      <td>2018-02-26 00:06:14</td>\n      <td>robotic</td>\n      <td>UNKNOWN</td>\n      <td>../BadRequeteCrypt/I7_status500_Joined.tsv</td>\n      <td>7</td>\n      <td>SELECT DISTINCT ?var1 \\nWHERE {\\n  BIND (  (  NOW (  ) - ?var2  )  AS  ?var3 ).\\n  ?var1  &lt;http://www.wikidata.org/prop/direct/P570&gt;  ?var2 .\\n FILTER (  ( (  ?var3  &gt;= \"0\"^^&lt;http://www.w3.org/2001/XMLSchema#integer&gt;  ) &amp;&amp; (  ?var3  &lt;= \"5\"^^&lt;http://www.w3.org/2001/XMLSchema#integer&gt;  ) ) \\n) .\\n  ?var4  &lt;http://schema.org/about&gt;  ?var1 .\\n  ?var4  &lt;http://schema.org/inLanguage&gt;  \"es\".\\n  ?var4  &lt;http://schema.org/isPartOf&gt;  &lt;https://es.wikipedia.org/&gt; .\\n}\\n</td>\n      <td>&lt;rdflib.plugins.sparql.sparql.Query object at 0x7f26be26b590&gt;</td>\n    </tr>\n    <tr>\n      <th>6</th>\n      <td>SELECT+DISTINCT+%3Fvar1Label++%3Fvar2Label++%3Fvar1+%0AWHERE+%7B%0A++%3Fvar1+%28+%3Chttp%3A%2F%2Fwww.wikidata.org%2Fprop%2Fdirect%2FP31%3E+%2F+%3Chttp%3A%2F%2Fwww.wikidata.org%2Fprop%2Fdirect%2FP279%3E+*%29+%3Chttp%3A%2F%2Fwww.wikidata.org%2Fentity%2FQ6999%3E+.%0A+OPTIONAL+%7B%0A++%3Fvar1++%3Chttp%3A%2F%2Fwww.wikidata.org%2Fprop%2Fdirect%2FP31%3E++%3Fvar2+.%0A+FILTER+%28++%28+%28++%3Fvar2++%21%3D++%3Chttp%3A%2F%2Fwww.wikidata.org%2Fentity%2FQ6999%3E++%29+%29+%0A%29+.%0A+%7D%0A+SERVICE++%3Chttp%3A%2F%2Fwikiba.se%2Fontology%23label%3E+++%7B%0A++++%3Chttp%3A%2F%2Fwww.bigdata.com%2Frdf%23serviceParam%3E++%3Chttp%3A%2F%2Fwikiba.se%2Fontology%23language%3E++%22en%22.%0A++%7D%0A%7D%0AORDER+BY+ASC%28+%3Fvar2Label+%29ASC%28+%3Fvar1Label+%29%0A</td>\n      <td>2018-02-26 00:06:39</td>\n      <td>organic</td>\n      <td>browser</td>\n      <td>../BadRequeteCrypt/I7_status500_Joined.tsv</td>\n      <td>7</td>\n      <td>SELECT DISTINCT ?var1Label  ?var2Label  ?var1 \\nWHERE {\\n  ?var1 ( &lt;http://www.wikidata.org/prop/direct/P31&gt; / &lt;http://www.wikidata.org/prop/direct/P279&gt;*) &lt;http://www.wikidata.org/entity/Q6999&gt; .\\n OPTIONAL {\\n  ?var1  &lt;http://www.wikidata.org/prop/direct/P31&gt;  ?var2 .\\n FILTER (  ( (  ?var2  !=  &lt;http://www.wikidata.org/entity/Q6999&gt;  ) ) \\n) .\\n }\\n SERVICE  &lt;http://wikiba.se/ontology#label&gt;   {\\n    &lt;http://www.bigdata.com/rdf#serviceParam&gt;  &lt;http://wikiba.se/ontology#language&gt;  \"en\".\\n  }\\n}\\nORDER BY ASC( ?var2Label )ASC( ?var1Label )\\n</td>\n      <td>&lt;rdflib.plugins.sparql.sparql.Query object at 0x7f26c148fed0&gt;</td>\n    </tr>\n    <tr>\n      <th>7</th>\n      <td>SELECT+%3Fvar1++%3Fvar2++%3Fvar3+%0AWHERE+%7B%0A++%3Fvar1+%28+%3Chttp%3A%2F%2Fwww.wikidata.org%2Fprop%2Fdirect%2FP31%3E+%2F+%3Chttp%3A%2F%2Fwww.wikidata.org%2Fprop%2Fdirect%2FP279%3E+*%29+%3Chttp%3A%2F%2Fwww.wikidata.org%2Fentity%2FQ1190554%3E+.%0A++%3Fvar1++%3Chttp%3A%2F%2Fwww.wikidata.org%2Fprop%2Fdirect%2FP585%3E++%3Fvar2+.%0A++%3Fvar3++%3Chttp%3A%2F%2Fschema.org%2Fabout%3E++%3Fvar1+.%0A++%3Fvar3++%3Chttp%3A%2F%2Fschema.org%2FisPartOf%3E++%3Chttps%3A%2F%2Fen.wikipedia.org%2F%3E+.%0A+FILTER+%28++%28+%28++DATATYPE+%28++%3Fvar2++%29++%3D++%3Chttp%3A%2F%2Fwww.w3.org%2F2001%2FXMLSchema%23dateTime%3E++%29+%26%26+%28++MONTH+%28++%3Fvar2++%29++%3D++MONTH+%28++NOW+%28++%29++%29++%29+%26%26+%28++DAY+%28++%3Fvar2++%29++%3D++DAY+%28++NOW+%28++%29++%29++%29+%29+%0A%29+.%0A%7D%0AORDER+BY++DESC%28+%3Fvar2+%29%0ALIMIT+5%0A</td>\n      <td>2018-02-26 00:06:40</td>\n      <td>robotic</td>\n      <td>UNKNOWN</td>\n      <td>../BadRequeteCrypt/I7_status500_Joined.tsv</td>\n      <td>7</td>\n      <td>SELECT ?var1  ?var2  ?var3 \\nWHERE {\\n  ?var1 ( &lt;http://www.wikidata.org/prop/direct/P31&gt; / &lt;http://www.wikidata.org/prop/direct/P279&gt;*) &lt;http://www.wikidata.org/entity/Q1190554&gt; .\\n  ?var1  &lt;http://www.wikidata.org/prop/direct/P585&gt;  ?var2 .\\n  ?var3  &lt;http://schema.org/about&gt;  ?var1 .\\n  ?var3  &lt;http://schema.org/isPartOf&gt;  &lt;https://en.wikipedia.org/&gt; .\\n FILTER (  ( (  DATATYPE (  ?var2  )  =  &lt;http://www.w3.org/2001/XMLSchema#dateTime&gt;  ) &amp;&amp; (  MONTH (  ?var2  )  =  MONTH (  NOW (  )  )  ) &amp;&amp; (  DAY (  ?var2  )  =  DAY (  NOW (  )  )  ) ) \\n) .\\n}\\nORDER BY  DESC( ?var2 )\\nLIMIT 5\\n</td>\n      <td>&lt;rdflib.plugins.sparql.sparql.Query object at 0x7f26c06a1610&gt;</td>\n    </tr>\n    <tr>\n      <th>8</th>\n      <td>SELECT+%3Fvar1++%3Fvar2++%3Fvar3+%0AWHERE+%7B%0A++%3Fvar1+%28+%3Chttp%3A%2F%2Fwww.wikidata.org%2Fprop%2Fdirect%2FP31%3E+%2F+%3Chttp%3A%2F%2Fwww.wikidata.org%2Fprop%2Fdirect%2FP279%3E+*%29+%3Chttp%3A%2F%2Fwww.wikidata.org%2Fentity%2FQ1190554%3E+.%0A++%3Fvar1++%3Chttp%3A%2F%2Fwww.wikidata.org%2Fprop%2Fdirect%2FP585%3E++%3Fvar2+.%0A++%3Fvar3++%3Chttp%3A%2F%2Fschema.org%2Fabout%3E++%3Fvar1+.%0A++%3Fvar3++%3Chttp%3A%2F%2Fschema.org%2FisPartOf%3E++%3Chttps%3A%2F%2Fen.wikipedia.org%2F%3E+.%0A+FILTER+%28++%28+%28++DATATYPE+%28++%3Fvar2++%29++%3D++%3Chttp%3A%2F%2Fwww.w3.org%2F2001%2FXMLSchema%23dateTime%3E++%29+%26%26+%28++MONTH+%28++%3Fvar2++%29++%3D++MONTH+%28++NOW+%28++%29++%29++%29+%26%26+%28++DAY+%28++%3Fvar2++%29++%3D++DAY+%28++NOW+%28++%29++%29++%29+%29+%0A%29+.%0A%7D%0AORDER+BY++DESC%28+%3Fvar2+%29%0ALIMIT+5%0A</td>\n      <td>2018-02-26 00:09:46</td>\n      <td>robotic</td>\n      <td>UNKNOWN</td>\n      <td>../BadRequeteCrypt/I7_status500_Joined.tsv</td>\n      <td>7</td>\n      <td>SELECT ?var1  ?var2  ?var3 \\nWHERE {\\n  ?var1 ( &lt;http://www.wikidata.org/prop/direct/P31&gt; / &lt;http://www.wikidata.org/prop/direct/P279&gt;*) &lt;http://www.wikidata.org/entity/Q1190554&gt; .\\n  ?var1  &lt;http://www.wikidata.org/prop/direct/P585&gt;  ?var2 .\\n  ?var3  &lt;http://schema.org/about&gt;  ?var1 .\\n  ?var3  &lt;http://schema.org/isPartOf&gt;  &lt;https://en.wikipedia.org/&gt; .\\n FILTER (  ( (  DATATYPE (  ?var2  )  =  &lt;http://www.w3.org/2001/XMLSchema#dateTime&gt;  ) &amp;&amp; (  MONTH (  ?var2  )  =  MONTH (  NOW (  )  )  ) &amp;&amp; (  DAY (  ?var2  )  =  DAY (  NOW (  )  )  ) ) \\n) .\\n}\\nORDER BY  DESC( ?var2 )\\nLIMIT 5\\n</td>\n      <td>&lt;rdflib.plugins.sparql.sparql.Query object at 0x7f26c06f9650&gt;</td>\n    </tr>\n    <tr>\n      <th>...</th>\n      <td>...</td>\n      <td>...</td>\n      <td>...</td>\n      <td>...</td>\n      <td>...</td>\n      <td>...</td>\n      <td>...</td>\n      <td>...</td>\n    </tr>\n    <tr>\n      <th>25658</th>\n      <td>SELECT%28++%3Fvar1++AS++%3Fvar2++%29%0AWHERE+%7B%0A++%3Chttp%3A%2F%2Fwww.wikidata.org%2Fentity%2FQ211907%3E+%28+%3Chttp%3A%2F%2Fwww.wikidata.org%2Fprop%2Fdirect%2FP131%3E+%2F+%3Chttp%3A%2F%2Fwww.wikidata.org%2Fprop%2Fdirect%2FP131%3E+*%29+%3Fvar3+.%0A++%3Fvar3+%28+%3Chttp%3A%2F%2Fwww.wikidata.org%2Fprop%2Fdirect%2FP31%3E+%2F+%3Chttp%3A%2F%2Fwww.wikidata.org%2Fprop%2Fdirect%2FP279%3E+*%29+%3Chttp%3A%2F%2Fwww.wikidata.org%2Fentity%2FQ10864048%3E+.%0A++%3Fvar1+%28+%3Chttp%3A%2F%2Fwww.wikidata.org%2Fprop%2Fdirect%2FP131%3E+%2F+%3Chttp%3A%2F%2Fwww.wikidata.org%2Fprop%2Fdirect%2FP131%3E+*%29+%3Fvar3+.%0A++%3Fvar1+%28+%3Chttp%3A%2F%2Fwww.wikidata.org%2Fprop%2Fdirect%2FP31%3E+%2F+%3Chttp%3A%2F%2Fwww.wikidata.org%2Fprop%2Fdirect%2FP279%3E+*%29+%3Chttp%3A%2F%2Fwww.wikidata.org%2Fentity%2FQ13220204%3E+.%0A+SERVICE++%3Chttp%3A%2F%2Fwikiba.se%2Fontology%23label%3E+++%7B%0A++++%3Chttp%3A%2F%2Fwww.bigdata.com%2Frdf%23serviceParam%3E++%3Chttp%3A%2F%2Fwikiba.se%2Fontology%23language%3E++%22fi%22.%0A++%7D%0A+FILTER+%28++%28++NOT+EXISTS++%7B%0A+++%3Fvar1+%28+%3Chttp%3A%2F%2Fwww.wikidata.org%2Fprop%2Fdirect%2FP31%3E+%2F+%3Chttp%3A%2F%2Fwww.wikidata.org%2Fprop%2Fdirect%2FP279%3E+*%29+%3Chttp%3A%2F%2Fwww.wikidata.org%2Fentity%2FQ19953632%3E+.%0A+%7D%0A+%29+%0A%29+.%0A%7D%0AGROUP+BY++%3Fvar1+%0A</td>\n      <td>2018-03-25 23:32:09</td>\n      <td>robotic</td>\n      <td>UNKNOWN</td>\n      <td>../BadRequeteCrypt/I7_status500_Joined.tsv</td>\n      <td>7</td>\n      <td>SELECT(  ?var1  AS  ?var2  )\\nWHERE {\\n  &lt;http://www.wikidata.org/entity/Q211907&gt; ( &lt;http://www.wikidata.org/prop/direct/P131&gt; / &lt;http://www.wikidata.org/prop/direct/P131&gt;*) ?var3 .\\n  ?var3 ( &lt;http://www.wikidata.org/prop/direct/P31&gt; / &lt;http://www.wikidata.org/prop/direct/P279&gt;*) &lt;http://www.wikidata.org/entity/Q10864048&gt; .\\n  ?var1 ( &lt;http://www.wikidata.org/prop/direct/P131&gt; / &lt;http://www.wikidata.org/prop/direct/P131&gt;*) ?var3 .\\n  ?var1 ( &lt;http://www.wikidata.org/prop/direct/P31&gt; / &lt;http://www.wikidata.org/prop/direct/P279&gt;*) &lt;http://www.wikidata.org/entity/Q13220204&gt; .\\n SERVICE  &lt;http://wikiba.se/ontology#label&gt;   {\\n    &lt;http://www.bigdata.com/rdf#serviceParam&gt;  &lt;http://wikiba.se/ontology#language&gt;  \"fi\".\\n  }\\n FILTER (  (  NOT EXISTS  {\\n   ?var1 ( &lt;http://www.wikidata.org/prop/direct/P31&gt; / &lt;http://www.wikidata.org/prop/direct/P279&gt;*) &lt;http://www.wikidata.org/entity/Q19953632&gt; .\\n }\\n ) \\n) .\\n}\\nGROUP BY  ?var1 \\n</td>\n      <td>&lt;rdflib.plugins.sparql.sparql.Query object at 0x7f2680eda1d0&gt;</td>\n    </tr>\n    <tr>\n      <th>25659</th>\n      <td>SELECT%28++%3Fvar1++AS++%3Fvar2++%29%0AWHERE+%7B%0A++%3Chttp%3A%2F%2Fwww.wikidata.org%2Fentity%2FQ211907%3E+%28+%3Chttp%3A%2F%2Fwww.wikidata.org%2Fprop%2Fdirect%2FP131%3E+%2F+%3Chttp%3A%2F%2Fwww.wikidata.org%2Fprop%2Fdirect%2FP131%3E+*%29+%3Fvar3+.%0A++%3Fvar3+%28+%3Chttp%3A%2F%2Fwww.wikidata.org%2Fprop%2Fdirect%2FP31%3E+%2F+%3Chttp%3A%2F%2Fwww.wikidata.org%2Fprop%2Fdirect%2FP279%3E+*%29+%3Chttp%3A%2F%2Fwww.wikidata.org%2Fentity%2FQ10864048%3E+.%0A++%3Fvar1+%28+%3Chttp%3A%2F%2Fwww.wikidata.org%2Fprop%2Fdirect%2FP131%3E+%2F+%3Chttp%3A%2F%2Fwww.wikidata.org%2Fprop%2Fdirect%2FP131%3E+*%29+%3Fvar3+.%0A++%3Fvar1+%28+%3Chttp%3A%2F%2Fwww.wikidata.org%2Fprop%2Fdirect%2FP31%3E+%2F+%3Chttp%3A%2F%2Fwww.wikidata.org%2Fprop%2Fdirect%2FP279%3E+*%29+%3Chttp%3A%2F%2Fwww.wikidata.org%2Fentity%2FQ13221722%3E+.%0A+SERVICE++%3Chttp%3A%2F%2Fwikiba.se%2Fontology%23label%3E+++%7B%0A++++%3Chttp%3A%2F%2Fwww.bigdata.com%2Frdf%23serviceParam%3E++%3Chttp%3A%2F%2Fwikiba.se%2Fontology%23language%3E++%22fi%22.%0A++%7D%0A+FILTER+%28++%28++NOT+EXISTS++%7B%0A+++%3Fvar1+%28+%3Chttp%3A%2F%2Fwww.wikidata.org%2Fprop%2Fdirect%2FP31%3E+%2F+%3Chttp%3A%2F%2Fwww.wikidata.org%2Fprop%2Fdirect%2FP279%3E+*%29+%3Chttp%3A%2F%2Fwww.wikidata.org%2Fentity%2FQ19953632%3E+.%0A+%7D%0A+%29+%0A%29+.%0A%7D%0AGROUP+BY++%3Fvar1+%0A</td>\n      <td>2018-03-25 23:32:09</td>\n      <td>robotic</td>\n      <td>UNKNOWN</td>\n      <td>../BadRequeteCrypt/I7_status500_Joined.tsv</td>\n      <td>7</td>\n      <td>SELECT(  ?var1  AS  ?var2  )\\nWHERE {\\n  &lt;http://www.wikidata.org/entity/Q211907&gt; ( &lt;http://www.wikidata.org/prop/direct/P131&gt; / &lt;http://www.wikidata.org/prop/direct/P131&gt;*) ?var3 .\\n  ?var3 ( &lt;http://www.wikidata.org/prop/direct/P31&gt; / &lt;http://www.wikidata.org/prop/direct/P279&gt;*) &lt;http://www.wikidata.org/entity/Q10864048&gt; .\\n  ?var1 ( &lt;http://www.wikidata.org/prop/direct/P131&gt; / &lt;http://www.wikidata.org/prop/direct/P131&gt;*) ?var3 .\\n  ?var1 ( &lt;http://www.wikidata.org/prop/direct/P31&gt; / &lt;http://www.wikidata.org/prop/direct/P279&gt;*) &lt;http://www.wikidata.org/entity/Q13221722&gt; .\\n SERVICE  &lt;http://wikiba.se/ontology#label&gt;   {\\n    &lt;http://www.bigdata.com/rdf#serviceParam&gt;  &lt;http://wikiba.se/ontology#language&gt;  \"fi\".\\n  }\\n FILTER (  (  NOT EXISTS  {\\n   ?var1 ( &lt;http://www.wikidata.org/prop/direct/P31&gt; / &lt;http://www.wikidata.org/prop/direct/P279&gt;*) &lt;http://www.wikidata.org/entity/Q19953632&gt; .\\n }\\n ) \\n) .\\n}\\nGROUP BY  ?var1 \\n</td>\n      <td>&lt;rdflib.plugins.sparql.sparql.Query object at 0x7f268102b290&gt;</td>\n    </tr>\n    <tr>\n      <th>25660</th>\n      <td>SELECT%28++%3Fvar1++AS++%3Fvar2++%29%0AWHERE+%7B%0A++%3Chttp%3A%2F%2Fwww.wikidata.org%2Fentity%2FQ211907%3E+%28+%3Chttp%3A%2F%2Fwww.wikidata.org%2Fprop%2Fdirect%2FP131%3E+%2F+%3Chttp%3A%2F%2Fwww.wikidata.org%2Fprop%2Fdirect%2FP131%3E+*%29+%3Fvar3+.%0A++%3Fvar3+%28+%3Chttp%3A%2F%2Fwww.wikidata.org%2Fprop%2Fdirect%2FP31%3E+%2F+%3Chttp%3A%2F%2Fwww.wikidata.org%2Fprop%2Fdirect%2FP279%3E+*%29+%3Chttp%3A%2F%2Fwww.wikidata.org%2Fentity%2FQ10864048%3E+.%0A++%3Fvar1+%28+%3Chttp%3A%2F%2Fwww.wikidata.org%2Fprop%2Fdirect%2FP131%3E+%2F+%3Chttp%3A%2F%2Fwww.wikidata.org%2Fprop%2Fdirect%2FP131%3E+*%29+%3Fvar3+.%0A++%3Fvar1+%28+%3Chttp%3A%2F%2Fwww.wikidata.org%2Fprop%2Fdirect%2FP31%3E+%2F+%3Chttp%3A%2F%2Fwww.wikidata.org%2Fprop%2Fdirect%2FP279%3E+*%29+%3Chttp%3A%2F%2Fwww.wikidata.org%2Fentity%2FQ13221722%3E+.%0A+SERVICE++%3Chttp%3A%2F%2Fwikiba.se%2Fontology%23label%3E+++%7B%0A++++%3Chttp%3A%2F%2Fwww.bigdata.com%2Frdf%23serviceParam%3E++%3Chttp%3A%2F%2Fwikiba.se%2Fontology%23language%3E++%22fi%22.%0A++%7D%0A+FILTER+%28++%28++NOT+EXISTS++%7B%0A+++%3Fvar1+%28+%3Chttp%3A%2F%2Fwww.wikidata.org%2Fprop%2Fdirect%2FP31%3E+%2F+%3Chttp%3A%2F%2Fwww.wikidata.org%2Fprop%2Fdirect%2FP279%3E+*%29+%3Chttp%3A%2F%2Fwww.wikidata.org%2Fentity%2FQ19953632%3E+.%0A+%7D%0A+%29+%0A%29+.%0A%7D%0AGROUP+BY++%3Fvar1+%0A</td>\n      <td>2018-03-25 23:32:09</td>\n      <td>robotic</td>\n      <td>UNKNOWN</td>\n      <td>../BadRequeteCrypt/I7_status500_Joined.tsv</td>\n      <td>7</td>\n      <td>SELECT(  ?var1  AS  ?var2  )\\nWHERE {\\n  &lt;http://www.wikidata.org/entity/Q211907&gt; ( &lt;http://www.wikidata.org/prop/direct/P131&gt; / &lt;http://www.wikidata.org/prop/direct/P131&gt;*) ?var3 .\\n  ?var3 ( &lt;http://www.wikidata.org/prop/direct/P31&gt; / &lt;http://www.wikidata.org/prop/direct/P279&gt;*) &lt;http://www.wikidata.org/entity/Q10864048&gt; .\\n  ?var1 ( &lt;http://www.wikidata.org/prop/direct/P131&gt; / &lt;http://www.wikidata.org/prop/direct/P131&gt;*) ?var3 .\\n  ?var1 ( &lt;http://www.wikidata.org/prop/direct/P31&gt; / &lt;http://www.wikidata.org/prop/direct/P279&gt;*) &lt;http://www.wikidata.org/entity/Q13221722&gt; .\\n SERVICE  &lt;http://wikiba.se/ontology#label&gt;   {\\n    &lt;http://www.bigdata.com/rdf#serviceParam&gt;  &lt;http://wikiba.se/ontology#language&gt;  \"fi\".\\n  }\\n FILTER (  (  NOT EXISTS  {\\n   ?var1 ( &lt;http://www.wikidata.org/prop/direct/P31&gt; / &lt;http://www.wikidata.org/prop/direct/P279&gt;*) &lt;http://www.wikidata.org/entity/Q19953632&gt; .\\n }\\n ) \\n) .\\n}\\nGROUP BY  ?var1 \\n</td>\n      <td>&lt;rdflib.plugins.sparql.sparql.Query object at 0x7f2680cab690&gt;</td>\n    </tr>\n    <tr>\n      <th>25661</th>\n      <td>SELECT+%3Fvar1++%3Fvar2Label++%3Fvar1Label++%3Fvar3++%3Fvar4++%3Fvar4Label+%0AWHERE+%7B%0A++VALUES+%28++%3Fvar2++%29+%7B%0A+++%28++%3Chttp%3A%2F%2Fwww.wikidata.org%2Fentity%2FQ5608%3E++%29%0A++%7D%0A++%3Fvar1++%3Chttp%3A%2F%2Fwww.wikidata.org%2Fprop%2Fdirect%2FP175%3E++%3Fvar2+.%0A++%3Fvar1++%3Chttp%3A%2F%2Fwww.wikidata.org%2Fprop%2Fdirect%2FP577%3E++%3Fvar3+.%0A+SERVICE++%3Chttp%3A%2F%2Fwikiba.se%2Fontology%23label%3E+++%7B%0A++++%3Chttp%3A%2F%2Fwww.bigdata.com%2Frdf%23serviceParam%3E++%3Chttp%3A%2F%2Fwikiba.se%2Fontology%23language%3E++%22en%22.%0A++%7D%0A+OPTIONAL+%7B%0A++%3Fvar5++%3Chttp%3A%2F%2Fwww.wikidata.org%2Fprop%2Fdirect%2FP136%3E++%3Fvar4+.%0A+%7D%0A%7D%0A</td>\n      <td>2018-03-25 23:34:02</td>\n      <td>organic</td>\n      <td>browser</td>\n      <td>../BadRequeteCrypt/I7_status500_Joined.tsv</td>\n      <td>7</td>\n      <td>SELECT ?var1  ?var2Label  ?var1Label  ?var3  ?var4  ?var4Label \\nWHERE {\\n  VALUES (  ?var2  ) {\\n   (  &lt;http://www.wikidata.org/entity/Q5608&gt;  )\\n  }\\n  ?var1  &lt;http://www.wikidata.org/prop/direct/P175&gt;  ?var2 .\\n  ?var1  &lt;http://www.wikidata.org/prop/direct/P577&gt;  ?var3 .\\n SERVICE  &lt;http://wikiba.se/ontology#label&gt;   {\\n    &lt;http://www.bigdata.com/rdf#serviceParam&gt;  &lt;http://wikiba.se/ontology#language&gt;  \"en\".\\n  }\\n OPTIONAL {\\n  ?var5  &lt;http://www.wikidata.org/prop/direct/P136&gt;  ?var4 .\\n }\\n}\\n</td>\n      <td>&lt;rdflib.plugins.sparql.sparql.Query object at 0x7f2680ea3190&gt;</td>\n    </tr>\n    <tr>\n      <th>25662</th>\n      <td>SELECT+%3Fvar1++%3Fvar2+%28++GROUP_CONCAT+%28++DISTINCT++%3Fvar3++%29++AS++%3Fvar4++%29%0AWHERE+%7B%0A++VALUES+%28++%3Fvar5++%29+%7B%0A+++%28++%3Chttp%3A%2F%2Fwww.wikidata.org%2Fentity%2FQ11424%3E++%29%0A+++%28++%3Chttp%3A%2F%2Fwww.wikidata.org%2Fentity%2FQ24862%3E++%29%0A+++%28++%3Chttp%3A%2F%2Fwww.wikidata.org%2Fentity%2FQ506240%3E++%29%0A+++%28++%3Chttp%3A%2F%2Fwww.wikidata.org%2Fentity%2FQ336144%3E++%29%0A++%7D%0A++BIND+%28++%3Chttp%3A%2F%2Fwww.w3.org%2F2001%2FXMLSchema%23integer%3E++%28+STRAFTER+%28++STR+%28++%3Fvar1++%29+%2C+%22Q%22+%29+%29++AS++%3Fvar2+%29.%0A++%3Fvar1++%3Chttp%3A%2F%2Fwww.wikidata.org%2Fprop%2Fdirect%2FP31%3E++%3Fvar5+.%0A+FILTER+%28++%28+%28++%3Fvar2++%3E+%2228090000%22%5E%5E%3Chttp%3A%2F%2Fwww.w3.org%2F2001%2FXMLSchema%23integer%3E++%29+%29+%0A%29+.%0A+OPTIONAL+%7B%0A++BIND+%28++CONCAT+%28++%22%5B%22%2C+STR+%28++%3Fvar6++%29+%2C+%22+%22%2C+%3Fvar7+%2C+%22%5D%22+%29++AS++%3Fvar3+%29.%0A++%3Fvar6++%3Chttp%3A%2F%2Fschema.org%2Fabout%3E++%3Fvar1+%3B%0A+%3Chttp%3A%2F%2Fschema.org%2FinLanguage%3E++%3Fvar7+.%0A+%7D%0A%7D%0AGROUP+BY++%3Fvar1++%3Fvar2+%0AORDER+BY++DESC%28+%3Fvar2+%29%0ALIMIT+500%0A</td>\n      <td>2018-03-25 23:37:10</td>\n      <td>robotic</td>\n      <td>bot2</td>\n      <td>../BadRequeteCrypt/I7_status500_Joined.tsv</td>\n      <td>7</td>\n      <td>SELECT ?var1  ?var2 (  GROUP_CONCAT (  DISTINCT  ?var3  )  AS  ?var4  )\\nWHERE {\\n  VALUES (  ?var5  ) {\\n   (  &lt;http://www.wikidata.org/entity/Q11424&gt;  )\\n   (  &lt;http://www.wikidata.org/entity/Q24862&gt;  )\\n   (  &lt;http://www.wikidata.org/entity/Q506240&gt;  )\\n   (  &lt;http://www.wikidata.org/entity/Q336144&gt;  )\\n  }\\n  BIND (  &lt;http://www.w3.org/2001/XMLSchema#integer&gt;  ( STRAFTER (  STR (  ?var1  ) , \"Q\" ) )  AS  ?var2 ).\\n  ?var1  &lt;http://www.wikidata.org/prop/direct/P31&gt;  ?var5 .\\n FILTER (  ( (  ?var2  &gt; \"28090000\"^^&lt;http://www.w3.org/2001/XMLSchema#integer&gt;  ) ) \\n) .\\n OPTIONAL {\\n  BIND (  CONCAT (  \"[\", STR (  ?var6  ) , \" \", ?var7 , \"]\" )  AS  ?var3 ).\\n  ?var6  &lt;http://schema.org/about&gt;  ?var1 ;\\n &lt;http://schema.org/inLanguage&gt;  ?var7 .\\n }\\n}\\nGROUP BY  ?var1  ?var2 \\nORDER BY  DESC( ?var2 )\\nLIMIT 500\\n</td>\n      <td>&lt;rdflib.plugins.sparql.sparql.Query object at 0x7f26816b8b10&gt;</td>\n    </tr>\n    <tr>\n      <th>25663</th>\n      <td>SELECT+%3Fvar1+%0AWHERE+%7B%0A++%3Fvar1++%3Chttp%3A%2F%2Fwww.wikidata.org%2Fprop%2Fdirect%2FP345%3E++%3Fvar2+.%0A+FILTER+%28++%28++CONTAINS+%28++LCASE+%28++%3Fvar2++%29+%2C+%22nm1599776%22+%29++%29+%0A%29+.%0A+SERVICE++%3Chttp%3A%2F%2Fwikiba.se%2Fontology%23label%3E+++%7B%0A++++%3Chttp%3A%2F%2Fwww.bigdata.com%2Frdf%23serviceParam%3E++%3Chttp%3A%2F%2Fwikiba.se%2Fontology%23language%3E++%22en%22.%0A++%7D%0A%7D%0ALIMIT+1%0A</td>\n      <td>2018-03-25 23:53:30</td>\n      <td>robotic</td>\n      <td>UNKNOWN</td>\n      <td>../BadRequeteCrypt/I7_status500_Joined.tsv</td>\n      <td>7</td>\n      <td>SELECT ?var1 \\nWHERE {\\n  ?var1  &lt;http://www.wikidata.org/prop/direct/P345&gt;  ?var2 .\\n FILTER (  (  CONTAINS (  LCASE (  ?var2  ) , \"nm1599776\" )  ) \\n) .\\n SERVICE  &lt;http://wikiba.se/ontology#label&gt;   {\\n    &lt;http://www.bigdata.com/rdf#serviceParam&gt;  &lt;http://wikiba.se/ontology#language&gt;  \"en\".\\n  }\\n}\\nLIMIT 1\\n</td>\n      <td>&lt;rdflib.plugins.sparql.sparql.Query object at 0x7f2680c1a590&gt;</td>\n    </tr>\n    <tr>\n      <th>25664</th>\n      <td>SELECT+*%0AWHERE+%7B%0A++%3Fvar1++%3Chttp%3A%2F%2Fwww.wikidata.org%2Fprop%2Fdirect%2FP345%3E++%3Fvar2+.%0A+FILTER+%28++%28+%28++%3Fvar2++%3D++%22tt6483832%22+%29+%29+%0A%29+.%0A++%3Fvar3++%3Chttp%3A%2F%2Fschema.org%2Fabout%3E++%3Fvar1+%3B%0A+%3Chttp%3A%2F%2Fschema.org%2FinLanguage%3E++%22en%22%3B%0A+%3Chttp%3A%2F%2Fschema.org%2FisPartOf%3E++%3Chttps%3A%2F%2Fen.wikipedia.org%2F%3E+.%0A%7D%0A</td>\n      <td>2018-03-25 23:53:30</td>\n      <td>robotic</td>\n      <td>UNKNOWN</td>\n      <td>../BadRequeteCrypt/I7_status500_Joined.tsv</td>\n      <td>7</td>\n      <td>SELECT *\\nWHERE {\\n  ?var1  &lt;http://www.wikidata.org/prop/direct/P345&gt;  ?var2 .\\n FILTER (  ( (  ?var2  =  \"tt6483832\" ) ) \\n) .\\n  ?var3  &lt;http://schema.org/about&gt;  ?var1 ;\\n &lt;http://schema.org/inLanguage&gt;  \"en\";\\n &lt;http://schema.org/isPartOf&gt;  &lt;https://en.wikipedia.org/&gt; .\\n}\\n</td>\n      <td>&lt;rdflib.plugins.sparql.sparql.Query object at 0x7f2680c47b10&gt;</td>\n    </tr>\n    <tr>\n      <th>25665</th>\n      <td>SELECT+DISTINCT+%3Fvar1++%3Fvar2+%0AWHERE+%7B%0A++%3Fvar1++%3Chttp%3A%2F%2Fwww.wikidata.org%2Fprop%2Fdirect%2FP31%3E++%3Chttp%3A%2F%2Fwww.wikidata.org%2Fentity%2FQ13442814%3E+.%0A++%3Fvar1++%3Chttp%3A%2F%2Fwww.wikidata.org%2Fprop%2Fdirect%2FP356%3E++%3Fvar2+.%0A++%3Fvar1++%3Chttp%3A%2F%2Fwww.wikidata.org%2Fprop%2Fdirect%2FP50%3E++%3Fvar3+.%0A++%3Fvar3++%3Chttp%3A%2F%2Fwww.wikidata.org%2Fprop%2Fdirect%2FP31%3E++%3Chttp%3A%2F%2Fwww.wikidata.org%2Fentity%2FQ5%3E+.%0A++MINUS+++%7B%0A++++%3Fvar3++%3Chttp%3A%2F%2Fwww.wikidata.org%2Fprop%2Fdirect%2FP496%3E++%5B%5D+.%0A++%7D%0A++MINUS+++%7B%0A++++%3Fvar3++%3Chttp%3A%2F%2Fwww.wikidata.org%2Fprop%2Fdirect%2FP570%3E++%5B%5D+.%0A++%7D%0A%7D%0AORDER+BY+ASC%28+RAND+%28++%29+%29%0ALIMIT+2000%0A</td>\n      <td>2018-03-25 23:54:01</td>\n      <td>robotic</td>\n      <td>orcid_bot</td>\n      <td>../BadRequeteCrypt/I7_status500_Joined.tsv</td>\n      <td>7</td>\n      <td>SELECT DISTINCT ?var1  ?var2 \\nWHERE {\\n  ?var1  &lt;http://www.wikidata.org/prop/direct/P31&gt;  &lt;http://www.wikidata.org/entity/Q13442814&gt; .\\n  ?var1  &lt;http://www.wikidata.org/prop/direct/P356&gt;  ?var2 .\\n  ?var1  &lt;http://www.wikidata.org/prop/direct/P50&gt;  ?var3 .\\n  ?var3  &lt;http://www.wikidata.org/prop/direct/P31&gt;  &lt;http://www.wikidata.org/entity/Q5&gt; .\\n  MINUS   {\\n    ?var3  &lt;http://www.wikidata.org/prop/direct/P496&gt;  [] .\\n  }\\n  MINUS   {\\n    ?var3  &lt;http://www.wikidata.org/prop/direct/P570&gt;  [] .\\n  }\\n}\\nORDER BY ASC( RAND (  ) )\\nLIMIT 2000\\n</td>\n      <td>&lt;rdflib.plugins.sparql.sparql.Query object at 0x7f26809b47d0&gt;</td>\n    </tr>\n    <tr>\n      <th>25666</th>\n      <td>SELECT+%3Fvar1++%3Fvar2++%3Fvar3+%28++IF+%28+%28++%3Fvar3++%3E+%2211%22%5E%5E%3Chttp%3A%2F%2Fwww.w3.org%2F2001%2FXMLSchema%23integer%3E++%29%2C+%22string1%22%2C+%22string2%22+%29++AS++%3Fvar4++%29%0AWHERE+%7B%0A++%3Fvar1++%3Chttp%3A%2F%2Fwikiba.se%2Fontology%23sitelinks%3E++%3Fvar2+%3B%0A+%3Chttp%3A%2F%2Fwikiba.se%2Fontology%23statements%3E++%3Fvar3+.%0A+FILTER+%28++%28+%28++%3Fvar2++%3E+%22180%22%5E%5E%3Chttp%3A%2F%2Fwww.w3.org%2F2001%2FXMLSchema%23integer%3E++%29+%29+%0A%29+.%0A%7D%0AORDER+BY++DESC%28+%3Fvar2+%29%0ALIMIT+1000%0A</td>\n      <td>2018-03-25 23:59:40</td>\n      <td>robotic</td>\n      <td>bot2</td>\n      <td>../BadRequeteCrypt/I7_status500_Joined.tsv</td>\n      <td>7</td>\n      <td>SELECT ?var1  ?var2  ?var3 (  IF ( (  ?var3  &gt; \"11\"^^&lt;http://www.w3.org/2001/XMLSchema#integer&gt;  ), \"string1\", \"string2\" )  AS  ?var4  )\\nWHERE {\\n  ?var1  &lt;http://wikiba.se/ontology#sitelinks&gt;  ?var2 ;\\n &lt;http://wikiba.se/ontology#statements&gt;  ?var3 .\\n FILTER (  ( (  ?var2  &gt; \"180\"^^&lt;http://www.w3.org/2001/XMLSchema#integer&gt;  ) ) \\n) .\\n}\\nORDER BY  DESC( ?var2 )\\nLIMIT 1000\\n</td>\n      <td>&lt;rdflib.plugins.sparql.sparql.Query object at 0x7f268195ebd0&gt;</td>\n    </tr>\n  </tbody>\n</table>\n<p>25625 rows × 8 columns</p>\n</div>"
     },
     "metadata": {}
    }
   ]
  },
  {
   "cell_type": "markdown",
   "source": "## Getting basic attributes of queries",
   "metadata": {
    "cell_id": "00017-8135feff-21b8-4397-94e0-8019d80a9f46",
    "deepnote_cell_type": "markdown"
   }
  },
  {
   "cell_type": "code",
   "metadata": {
    "cell_id": "00018-868c3ba2-9e3a-4043-b04d-61a5fdd21305",
    "deepnote_to_be_reexecuted": false,
    "source_hash": "c447b758",
    "execution_start": 1643359227544,
    "execution_millis": 1,
    "deepnote_cell_type": "code"
   },
   "source": "class FilterVisitor:\n    def __init__(self):\n        self.var = set()\n        self.filter = 0\n        self.orderby = 0\n        self.limit = 0              #TODO not node       ---------> length(\n        self.select = 0\n        self.distinct = 0\n        self.join = 0\n        self.project = 0\n        self.tomultiset = 0\n        self.union = 0\n        self.modify = 0\n        self.bgp = 0\n        self.values = 0\n        self.insertdata = 0\n        self.deletedata = 0\n        self.groupBy = 0\n        self.slice = 0\n\n        self.leftjoin = 0 #AJOUT\n\n        self.offset = 0 #TODO not node       ---------> start(\n        self.optional = 0 #TODO\n        self.pathWith = 0 #TODO\n        self.subquery = 0 #TODO\n        self.bind = 0 #TODO\n        self.values = 0 #TODO\n        self.notExists = 0 #TODO\n        self.minus = 0 #TODO\n        self.serviceLang = 0 #TODO\n        self.serviceOther = 0 #TODO\n        \n        self.sample = 0 #TODO\n        self.count = 0 #TODO\n        self.groupConcat = 0 #TODO\n        self.having = 0 #TODO\n        \n        \n    def printNode(self, x):\n        if isinstance(x, Variable):\n            self.var.add(x)\n\n        if isinstance(x, CompValue):\n            if(x.get(\"start\") != \"start\"):\n                self.offset = self.offset+1;\n            if(x.get(\"length\") != \"length\"):\n                self.limit = self.limit+1\n            if x.name == \"SelectQuery\":\n                self.select = self.select + 1\n            if x.name == \"Filter\":\n                self.filter = self.filter + 1\n            if x.name == \"BGP\":\n                self.bgp = self.bgp + 1\n            if x.name == \"Distinct\":\n                self.distinct = self.distinct + 1\n            if x.name == \"Join\":\n                self.join = self.join + 1\n            if x.name == \"InsertData\":\n                self.insertdata = self.insertdata + 1\n            if x.name == \"DeleteData\":\n                self.deletedata = self.deletedata + 1      \n            if x.name == \"OrderBy\":\n                self.orderby = self.orderby + 1\n            if x.name == \"Slice\":                  #pourquoi? length\n                self.slice = self.slice + 1\n            if x.name == \"Project\":\n                self.project = self.project + 1\n            if x.name == \"ToMultiSet\":\n                self.tomultiset = self.tomultiset + 1\n            if x.name == \"Union\":\n                self.union = self.union + 1\n            if x.name == \"values\":\n                self.values = self.values + 1\n            if x.name == 'Modify':\n                self.modify = self.modify + 1\n            if x.name == \"Group\":\n                self.groupBy = self.groupBy + 1",
   "execution_count": 12,
   "outputs": []
  },
  {
   "cell_type": "code",
   "metadata": {
    "cell_id": "00019-b68ef9b9-9dc0-419f-818e-d4dce7ba22c3",
    "deepnote_to_be_reexecuted": false,
    "source_hash": "d965ccdf",
    "execution_start": 1643359227576,
    "execution_millis": 8481,
    "deepnote_cell_type": "code"
   },
   "source": "def f(query) -> FilterVisitor:\n    visitor = FilterVisitor()\n    traverse(query.algebra, visitPre=lambda x: visitor.printNode(x))\n    return visitor\n\ndf_nona[\"visitor\"] = df_nona[\"query\"].apply(f)",
   "execution_count": 13,
   "outputs": [
    {
     "name": "stderr",
     "text": "/shared-libs/python3.7/py-core/lib/python3.7/site-packages/ipykernel_launcher.py:6: SettingWithCopyWarning: \nA value is trying to be set on a copy of a slice from a DataFrame.\nTry using .loc[row_indexer,col_indexer] = value instead\n\nSee the caveats in the documentation: https://pandas.pydata.org/pandas-docs/stable/user_guide/indexing.html#returning-a-view-versus-a-copy\n  \n",
     "output_type": "stream"
    }
   ]
  },
  {
   "cell_type": "code",
   "metadata": {
    "pycharm": {
     "name": "#%%\n"
    },
    "cell_id": "00021-0e91d6f3-3868-4f44-b604-fef42049fbad",
    "deepnote_to_be_reexecuted": false,
    "source_hash": "a34c550e",
    "execution_start": 1643359236086,
    "execution_millis": 225,
    "deepnote_cell_type": "code"
   },
   "source": "df_nona[\"counter_variable\"] = df_nona[\"visitor\"].apply(lambda x: len(x.var))\ndf_nona[\"counter_filter\"] = df_nona[\"visitor\"].apply(lambda x: x.filter)\ndf_nona[\"counter_orderby\"] = df_nona[\"visitor\"].apply(lambda x: x.orderby)\ndf_nona[\"counter_limit\"] = df_nona[\"visitor\"].apply(lambda x: x.limit)\ndf_nona[\"counter_select\"] = df_nona[\"visitor\"].apply(lambda x: x.select)\ndf_nona[\"counter_distinct\"] = df_nona[\"visitor\"].apply(lambda x: x.distinct)\ndf_nona[\"counter_modify\"] = df_nona[\"visitor\"].apply(lambda x: x.modify)\ndf_nona[\"counter_tomultiset\"] = df_nona[\"visitor\"].apply(lambda x: x.tomultiset)\ndf_nona[\"counter_join\"] = df_nona[\"visitor\"].apply(lambda x: x.join)\ndf_nona[\"counter_bgp\"] = df_nona[\"visitor\"].apply(lambda x: x.bgp)\ndf_nona[\"counter_insertdata\"] = df_nona[\"visitor\"].apply(lambda x: x.insertdata)\ndf_nona[\"counter_deletedata\"] = df_nona[\"visitor\"].apply(lambda x: x.deletedata)\ndf_nona[\"counter_project\"] = df_nona[\"visitor\"].apply(lambda x: x.project)\ndf_nona[\"counter_union\"] = df_nona[\"visitor\"].apply(lambda x: x.union)\ndf_nona[\"counter_values\"] = df_nona[\"visitor\"].apply(lambda x: x.values)\ndf_nona[\"counter_groupby\"] = df_nona[\"visitor\"].apply(lambda x: x.groupBy)\n\ndf_nona[\"counter_offset\"] = df_nona[\"visitor\"].apply(lambda x: x.offset) # TODO\ndf_nona[\"counter_slice\"] = df_nona[\"visitor\"].apply(lambda x: x.slice) # TODO\n",
   "execution_count": 14,
   "outputs": [
    {
     "name": "stderr",
     "text": "/shared-libs/python3.7/py-core/lib/python3.7/site-packages/ipykernel_launcher.py:1: SettingWithCopyWarning: \nA value is trying to be set on a copy of a slice from a DataFrame.\nTry using .loc[row_indexer,col_indexer] = value instead\n\nSee the caveats in the documentation: https://pandas.pydata.org/pandas-docs/stable/user_guide/indexing.html#returning-a-view-versus-a-copy\n  \"\"\"Entry point for launching an IPython kernel.\n/shared-libs/python3.7/py-core/lib/python3.7/site-packages/ipykernel_launcher.py:2: SettingWithCopyWarning: \nA value is trying to be set on a copy of a slice from a DataFrame.\nTry using .loc[row_indexer,col_indexer] = value instead\n\nSee the caveats in the documentation: https://pandas.pydata.org/pandas-docs/stable/user_guide/indexing.html#returning-a-view-versus-a-copy\n  \n/shared-libs/python3.7/py-core/lib/python3.7/site-packages/ipykernel_launcher.py:3: SettingWithCopyWarning: \nA value is trying to be set on a copy of a slice from a DataFrame.\nTry using .loc[row_indexer,col_indexer] = value instead\n\nSee the caveats in the documentation: https://pandas.pydata.org/pandas-docs/stable/user_guide/indexing.html#returning-a-view-versus-a-copy\n  This is separate from the ipykernel package so we can avoid doing imports until\n/shared-libs/python3.7/py-core/lib/python3.7/site-packages/ipykernel_launcher.py:4: SettingWithCopyWarning: \nA value is trying to be set on a copy of a slice from a DataFrame.\nTry using .loc[row_indexer,col_indexer] = value instead\n\nSee the caveats in the documentation: https://pandas.pydata.org/pandas-docs/stable/user_guide/indexing.html#returning-a-view-versus-a-copy\n  after removing the cwd from sys.path.\n/shared-libs/python3.7/py-core/lib/python3.7/site-packages/ipykernel_launcher.py:5: SettingWithCopyWarning: \nA value is trying to be set on a copy of a slice from a DataFrame.\nTry using .loc[row_indexer,col_indexer] = value instead\n\nSee the caveats in the documentation: https://pandas.pydata.org/pandas-docs/stable/user_guide/indexing.html#returning-a-view-versus-a-copy\n  \"\"\"\n/shared-libs/python3.7/py-core/lib/python3.7/site-packages/ipykernel_launcher.py:6: SettingWithCopyWarning: \nA value is trying to be set on a copy of a slice from a DataFrame.\nTry using .loc[row_indexer,col_indexer] = value instead\n\nSee the caveats in the documentation: https://pandas.pydata.org/pandas-docs/stable/user_guide/indexing.html#returning-a-view-versus-a-copy\n  \n/shared-libs/python3.7/py-core/lib/python3.7/site-packages/ipykernel_launcher.py:7: SettingWithCopyWarning: \nA value is trying to be set on a copy of a slice from a DataFrame.\nTry using .loc[row_indexer,col_indexer] = value instead\n\nSee the caveats in the documentation: https://pandas.pydata.org/pandas-docs/stable/user_guide/indexing.html#returning-a-view-versus-a-copy\n  import sys\n/shared-libs/python3.7/py-core/lib/python3.7/site-packages/ipykernel_launcher.py:8: SettingWithCopyWarning: \nA value is trying to be set on a copy of a slice from a DataFrame.\nTry using .loc[row_indexer,col_indexer] = value instead\n\nSee the caveats in the documentation: https://pandas.pydata.org/pandas-docs/stable/user_guide/indexing.html#returning-a-view-versus-a-copy\n  \n/shared-libs/python3.7/py-core/lib/python3.7/site-packages/ipykernel_launcher.py:9: SettingWithCopyWarning: \nA value is trying to be set on a copy of a slice from a DataFrame.\nTry using .loc[row_indexer,col_indexer] = value instead\n\nSee the caveats in the documentation: https://pandas.pydata.org/pandas-docs/stable/user_guide/indexing.html#returning-a-view-versus-a-copy\n  if __name__ == '__main__':\n/shared-libs/python3.7/py-core/lib/python3.7/site-packages/ipykernel_launcher.py:10: SettingWithCopyWarning: \nA value is trying to be set on a copy of a slice from a DataFrame.\nTry using .loc[row_indexer,col_indexer] = value instead\n\nSee the caveats in the documentation: https://pandas.pydata.org/pandas-docs/stable/user_guide/indexing.html#returning-a-view-versus-a-copy\n  # Remove the CWD from sys.path while we load stuff.\n/shared-libs/python3.7/py-core/lib/python3.7/site-packages/ipykernel_launcher.py:11: SettingWithCopyWarning: \nA value is trying to be set on a copy of a slice from a DataFrame.\nTry using .loc[row_indexer,col_indexer] = value instead\n\nSee the caveats in the documentation: https://pandas.pydata.org/pandas-docs/stable/user_guide/indexing.html#returning-a-view-versus-a-copy\n  # This is added back by InteractiveShellApp.init_path()\n/shared-libs/python3.7/py-core/lib/python3.7/site-packages/ipykernel_launcher.py:12: SettingWithCopyWarning: \nA value is trying to be set on a copy of a slice from a DataFrame.\nTry using .loc[row_indexer,col_indexer] = value instead\n\nSee the caveats in the documentation: https://pandas.pydata.org/pandas-docs/stable/user_guide/indexing.html#returning-a-view-versus-a-copy\n  if sys.path[0] == '':\n/shared-libs/python3.7/py-core/lib/python3.7/site-packages/ipykernel_launcher.py:13: SettingWithCopyWarning: \nA value is trying to be set on a copy of a slice from a DataFrame.\nTry using .loc[row_indexer,col_indexer] = value instead\n\nSee the caveats in the documentation: https://pandas.pydata.org/pandas-docs/stable/user_guide/indexing.html#returning-a-view-versus-a-copy\n  del sys.path[0]\n/shared-libs/python3.7/py-core/lib/python3.7/site-packages/ipykernel_launcher.py:14: SettingWithCopyWarning: \nA value is trying to be set on a copy of a slice from a DataFrame.\nTry using .loc[row_indexer,col_indexer] = value instead\n\nSee the caveats in the documentation: https://pandas.pydata.org/pandas-docs/stable/user_guide/indexing.html#returning-a-view-versus-a-copy\n  \n/shared-libs/python3.7/py-core/lib/python3.7/site-packages/ipykernel_launcher.py:15: SettingWithCopyWarning: \nA value is trying to be set on a copy of a slice from a DataFrame.\nTry using .loc[row_indexer,col_indexer] = value instead\n\nSee the caveats in the documentation: https://pandas.pydata.org/pandas-docs/stable/user_guide/indexing.html#returning-a-view-versus-a-copy\n  from ipykernel import kernelapp as app\n/shared-libs/python3.7/py-core/lib/python3.7/site-packages/ipykernel_launcher.py:16: SettingWithCopyWarning: \nA value is trying to be set on a copy of a slice from a DataFrame.\nTry using .loc[row_indexer,col_indexer] = value instead\n\nSee the caveats in the documentation: https://pandas.pydata.org/pandas-docs/stable/user_guide/indexing.html#returning-a-view-versus-a-copy\n  app.launch_new_instance()\n/shared-libs/python3.7/py-core/lib/python3.7/site-packages/ipykernel_launcher.py:18: SettingWithCopyWarning: \nA value is trying to be set on a copy of a slice from a DataFrame.\nTry using .loc[row_indexer,col_indexer] = value instead\n\nSee the caveats in the documentation: https://pandas.pydata.org/pandas-docs/stable/user_guide/indexing.html#returning-a-view-versus-a-copy\n/shared-libs/python3.7/py-core/lib/python3.7/site-packages/ipykernel_launcher.py:19: SettingWithCopyWarning: \nA value is trying to be set on a copy of a slice from a DataFrame.\nTry using .loc[row_indexer,col_indexer] = value instead\n\nSee the caveats in the documentation: https://pandas.pydata.org/pandas-docs/stable/user_guide/indexing.html#returning-a-view-versus-a-copy\n",
     "output_type": "stream"
    }
   ]
  },
  {
   "cell_type": "code",
   "metadata": {
    "pycharm": {
     "name": "#%%\n"
    },
    "cell_id": "00022-27e5ef99-dbde-46a0-b20e-ab02f408aa6b",
    "deepnote_to_be_reexecuted": false,
    "source_hash": "2dacefa7",
    "execution_start": 1643359236317,
    "execution_millis": 314,
    "deepnote_table_state": {
     "pageSize": 10,
     "pageIndex": 0,
     "filters": [],
     "sortBy": [
      {
       "id": "counter_join",
       "type": "desc"
      }
     ]
    },
    "deepnote_table_loading": false,
    "deepnote_cell_type": "code"
   },
   "source": "df_nona\n",
   "execution_count": 15,
   "outputs": [
    {
     "output_type": "execute_result",
     "execution_count": 29,
     "data": {
      "application/vnd.deepnote.dataframe.v3+json": {
       "column_count": 45,
       "row_count": 25625,
       "columns": [
        {
         "name": "anonymizedQuery",
         "dtype": "object",
         "stats": {
          "unique_count": 6969,
          "nan_count": 0,
          "categories": [
           {
            "name": "SELECT+%3Fvar1++%3Fvar2++%3Fvar3+%0AWHERE+%7B%0A++%3Fvar1+%28+%3Chttp%3A%2F%2Fwww.wikidata.org%2Fprop%2Fdirect%2FP31%3E+%2F+%3Chttp%3A%2F%2Fwww.wikidata.org%2Fprop%2Fdirect%2FP279%3E+*%29+%3Chttp%3A%2F%2Fwww.wikidata.org%2Fentity%2FQ1190554%3E+.%0A++%3Fvar1++%3Chttp%3A%2F%2Fwww.wikidata.org%2Fprop%2Fdirect%2FP585%3E++%3Fvar2+.%0A++%3Fvar3++%3Chttp%3A%2F%2Fschema.org%2Fabout%3E++%3Fvar1+.%0A++%3Fvar3++%3Chttp%3A%2F%2Fschema.org%2FisPartOf%3E++%3Chttps%3A%2F%2Fen.wikipedia.org%2F%3E+.%0A+FILTER+%28++%28+%28++DATATYPE+%28++%3Fvar2++%29++%3D++%3Chttp%3A%2F%2Fwww.w3.org%2F2001%2FXMLSchema%23dateTime%3E++%29+%26%26+%28++MONTH+%28++%3Fvar2++%29++%3D++MONTH+%28++NOW+%28++%29++%29++%29+%26%26+%28++DAY+%28++%3Fvar2++%29++%3D++DAY+%28++NOW+%28++%29++%29++%29+%29+%0A%29+.%0A%7D%0AORDER+BY++DESC%28+%3Fvar2+%29%0ALIMIT+5%0A",
            "count": 1181
           },
           {
            "name": "SELECT%28++%3Fvar1++AS++%3Fvar2++%29%0AWHERE+%7B%0A++%3Chttp%3A%2F%2Fwww.wikidata.org%2Fentity%2FQ19253%3E+%28+%3Chttp%3A%2F%2Fwww.wikidata.org%2Fprop%2Fdirect%2FP131%3E+%2F+%3Chttp%3A%2F%2Fwww.wikidata.org%2Fprop%2Fdirect%2FP131%3E+*%29+%3Fvar3+.%0A++%3Fvar3+%28+%3Chttp%3A%2F%2Fwww.wikidata.org%2Fprop%2Fdirect%2FP31%3E+%2F+%3Chttp%3A%2F%2Fwww.wikidata.org%2Fprop%2Fdirect%2FP279%3E+*%29+%3Chttp%3A%2F%2Fwww.wikidata.org%2Fentity%2FQ10864048%3E+.%0A++%3Fvar1+%28+%3Chttp%3A%2F%2Fwww.wikidata.org%2Fprop%2Fdirect%2FP131%3E+%2F+%3Chttp%3A%2F%2Fwww.wikidata.org%2Fprop%2Fdirect%2FP131%3E+*%29+%3Fvar3+.%0A++%3Fvar1+%28+%3Chttp%3A%2F%2Fwww.wikidata.org%2Fprop%2Fdirect%2FP31%3E+%2F+%3Chttp%3A%2F%2Fwww.wikidata.org%2Fprop%2Fdirect%2FP279%3E+*%29+%3Chttp%3A%2F%2Fwww.wikidata.org%2Fentity%2FQ13221722%3E+.%0A+SERVICE++%3Chttp%3A%2F%2Fwikiba.se%2Fontology%23label%3E+++%7B%0A++++%3Chttp%3A%2F%2Fwww.bigdata.com%2Frdf%23serviceParam%3E++%3Chttp%3A%2F%2Fwikiba.se%2Fontology%23language%3E++%22fi%22.%0A++%7D%0A+FILTER+%28++%28++NOT+EXISTS++%7B%0A+++%3Fvar1+%28+%3Chttp%3A%2F%2Fwww.wikidata.org%2Fprop%2Fdirect%2FP31%3E+%2F+%3Chttp%3A%2F%2Fwww.wikidata.org%2Fprop%2Fdirect%2FP279%3E+*%29+%3Chttp%3A%2F%2Fwww.wikidata.org%2Fentity%2FQ19953632%3E+.%0A+%7D%0A+%29+%0A%29+.%0A%7D%0AGROUP+BY++%3Fvar1+%0A",
            "count": 1131
           },
           {
            "name": "6967 others",
            "count": 23313
           }
          ]
         }
        },
        {
         "name": "timestamp",
         "dtype": "object",
         "stats": {
          "unique_count": 22884,
          "nan_count": 0,
          "categories": [
           {
            "name": "2018-03-17 15:57:23",
            "count": 12
           },
           {
            "name": "2018-03-08 09:06:35",
            "count": 11
           },
           {
            "name": "22882 others",
            "count": 25602
           }
          ]
         }
        },
        {
         "name": "sourceCategory",
         "dtype": "object",
         "stats": {
          "unique_count": 2,
          "nan_count": 0,
          "categories": [
           {
            "name": "robotic",
            "count": 17522
           },
           {
            "name": "organic",
            "count": 8103
           }
          ]
         }
        },
        {
         "name": "user_agent",
         "dtype": "object"
        },
        {
         "name": "file_path",
         "dtype": "object"
        },
        {
         "name": "interval",
         "dtype": "int64"
        },
        {
         "name": "rawAnonymizedQuery",
         "dtype": "object"
        },
        {
         "name": "query",
         "dtype": "object"
        },
        {
         "name": "visitor",
         "dtype": "object"
        },
        {
         "name": "counter_variable",
         "dtype": "int64"
        },
        {
         "name": "counter_filter",
         "dtype": "int64"
        },
        {
         "name": "counter_orderby",
         "dtype": "int64"
        },
        {
         "name": "counter_limit",
         "dtype": "int64"
        },
        {
         "name": "counter_select",
         "dtype": "int64"
        },
        {
         "name": "counter_distinct",
         "dtype": "int64"
        },
        {
         "name": "counter_modify",
         "dtype": "int64"
        },
        {
         "name": "counter_tomultiset",
         "dtype": "int64"
        },
        {
         "name": "counter_join",
         "dtype": "int64"
        },
        {
         "name": "counter_bgp",
         "dtype": "int64"
        },
        {
         "name": "counter_insertdata",
         "dtype": "int64"
        },
        {
         "name": "counter_deletedata",
         "dtype": "int64"
        },
        {
         "name": "counter_project",
         "dtype": "int64"
        },
        {
         "name": "counter_union",
         "dtype": "int64"
        },
        {
         "name": "counter_values",
         "dtype": "int64"
        },
        {
         "name": "counter_groupby",
         "dtype": "int64"
        },
        {
         "name": "counter_offset",
         "dtype": "int64"
        },
        {
         "name": "counter_slice",
         "dtype": "int64"
        },
        {
         "name": "has_variable",
         "dtype": "bool"
        },
        {
         "name": "has_filter",
         "dtype": "bool"
        },
        {
         "name": "has_orderby",
         "dtype": "bool"
        },
        {
         "name": "has_limit",
         "dtype": "bool"
        },
        {
         "name": "has_select",
         "dtype": "bool"
        },
        {
         "name": "has_distinct",
         "dtype": "bool"
        },
        {
         "name": "has_modify",
         "dtype": "bool"
        },
        {
         "name": "has_tomultiset",
         "dtype": "bool"
        },
        {
         "name": "has_join",
         "dtype": "bool"
        },
        {
         "name": "has_bgp",
         "dtype": "bool"
        },
        {
         "name": "has_insertdata",
         "dtype": "bool"
        },
        {
         "name": "has_deletedata",
         "dtype": "bool"
        },
        {
         "name": "has_project",
         "dtype": "bool"
        },
        {
         "name": "has_union",
         "dtype": "bool"
        },
        {
         "name": "has_values",
         "dtype": "bool"
        },
        {
         "name": "has_groupby",
         "dtype": "bool"
        },
        {
         "name": "has_slice",
         "dtype": "bool"
        },
        {
         "name": "has_offset",
         "dtype": "bool"
        },
        {
         "name": "_deepnote_index_column",
         "dtype": "int64"
        }
       ],
       "rows": [
        {
         "anonymizedQuery": "SELECT+%3Fvar1+%28++SAMPLE+%28+%3Fvar2++%29+AS++%3Fvar3++%29%28+COUNT+%28+%3Fvar4++%29+AS++%3Fvar5+…",
         "timestamp": "2018-03-20 08:18:04",
         "sourceCategory": "robotic",
         "user_agent": "UNKNOWN",
         "file_path": "../BadRequeteCrypt/I7_status500_Joined.tsv",
         "interval": 7,
         "rawAnonymizedQuery": "SELECT ?var1 (  SAMPLE ( ?var2  ) AS  ?var3  )( COUNT ( ?var4  ) AS  ?var5  )\nWHERE {\n {\n   BIND ( …",
         "query": "<rdflib.plugins.sparql.sparql.Query object at 0x7f2681135d10>",
         "visitor": "<__main__.FilterVisitor object at 0x7f26810f2150>",
         "counter_variable": 9,
         "counter_filter": 0,
         "counter_orderby": 0,
         "counter_limit": 0,
         "counter_select": 1,
         "counter_distinct": 0,
         "counter_modify": 0,
         "counter_tomultiset": 0,
         "counter_join": 8,
         "counter_bgp": 16,
         "counter_insertdata": 0,
         "counter_deletedata": 0,
         "counter_project": 1,
         "counter_union": 7,
         "counter_values": 0,
         "counter_groupby": 1,
         "counter_offset": 0,
         "counter_slice": 0,
         "has_variable": true,
         "has_filter": false,
         "has_orderby": false,
         "has_limit": false,
         "has_select": true,
         "has_distinct": false,
         "has_modify": false,
         "has_tomultiset": false,
         "has_join": true,
         "has_bgp": true,
         "has_insertdata": false,
         "has_deletedata": false,
         "has_project": true,
         "has_union": true,
         "has_values": false,
         "has_groupby": true,
         "has_slice": false,
         "has_offset": false,
         "_deepnote_index_column": 21312
        },
        {
         "anonymizedQuery": "SELECT+%3Fvar1+%28++SAMPLE+%28+%3Fvar2++%29+AS++%3Fvar3++%29%28+COUNT+%28+%3Fvar4++%29+AS++%3Fvar5+…",
         "timestamp": "2018-03-19 16:11:19",
         "sourceCategory": "robotic",
         "user_agent": "UNKNOWN",
         "file_path": "../BadRequeteCrypt/I7_status500_Joined.tsv",
         "interval": 7,
         "rawAnonymizedQuery": "SELECT ?var1 (  SAMPLE ( ?var2  ) AS  ?var3  )( COUNT ( ?var4  ) AS  ?var5  )\nWHERE {\n {\n   BIND ( …",
         "query": "<rdflib.plugins.sparql.sparql.Query object at 0x7f2689eba090>",
         "visitor": "<__main__.FilterVisitor object at 0x7f26752cf050>",
         "counter_variable": 9,
         "counter_filter": 0,
         "counter_orderby": 0,
         "counter_limit": 0,
         "counter_select": 1,
         "counter_distinct": 0,
         "counter_modify": 0,
         "counter_tomultiset": 0,
         "counter_join": 8,
         "counter_bgp": 16,
         "counter_insertdata": 0,
         "counter_deletedata": 0,
         "counter_project": 1,
         "counter_union": 7,
         "counter_values": 0,
         "counter_groupby": 1,
         "counter_offset": 0,
         "counter_slice": 0,
         "has_variable": true,
         "has_filter": false,
         "has_orderby": false,
         "has_limit": false,
         "has_select": true,
         "has_distinct": false,
         "has_modify": false,
         "has_tomultiset": false,
         "has_join": true,
         "has_bgp": true,
         "has_insertdata": false,
         "has_deletedata": false,
         "has_project": true,
         "has_union": true,
         "has_values": false,
         "has_groupby": true,
         "has_slice": false,
         "has_offset": false,
         "_deepnote_index_column": 20785
        },
        {
         "anonymizedQuery": "SELECT+%3Fvar1+%28++SAMPLE+%28+%3Fvar2++%29+AS++%3Fvar3++%29%28+COUNT+%28+%3Fvar4++%29+AS++%3Fvar5+…",
         "timestamp": "2018-03-20 08:19:35",
         "sourceCategory": "organic",
         "user_agent": "browser",
         "file_path": "../BadRequeteCrypt/I7_status500_Joined.tsv",
         "interval": 7,
         "rawAnonymizedQuery": "SELECT ?var1 (  SAMPLE ( ?var2  ) AS  ?var3  )( COUNT ( ?var4  ) AS  ?var5  )\nWHERE {\n {\n   BIND ( …",
         "query": "<rdflib.plugins.sparql.sparql.Query object at 0x7f2681139590>",
         "visitor": "<__main__.FilterVisitor object at 0x7f267525b4d0>",
         "counter_variable": 9,
         "counter_filter": 0,
         "counter_orderby": 0,
         "counter_limit": 0,
         "counter_select": 1,
         "counter_distinct": 0,
         "counter_modify": 0,
         "counter_tomultiset": 0,
         "counter_join": 8,
         "counter_bgp": 16,
         "counter_insertdata": 0,
         "counter_deletedata": 0,
         "counter_project": 1,
         "counter_union": 7,
         "counter_values": 0,
         "counter_groupby": 1,
         "counter_offset": 0,
         "counter_slice": 0,
         "has_variable": true,
         "has_filter": false,
         "has_orderby": false,
         "has_limit": false,
         "has_select": true,
         "has_distinct": false,
         "has_modify": false,
         "has_tomultiset": false,
         "has_join": true,
         "has_bgp": true,
         "has_insertdata": false,
         "has_deletedata": false,
         "has_project": true,
         "has_union": true,
         "has_values": false,
         "has_groupby": true,
         "has_slice": false,
         "has_offset": false,
         "_deepnote_index_column": 21314
        },
        {
         "anonymizedQuery": "SELECT+%3Fvar1+%28++SAMPLE+%28+%3Fvar2++%29+AS++%3Fvar3++%29%28+COUNT+%28+%3Fvar4++%29+AS++%3Fvar5+…",
         "timestamp": "2018-03-19 16:18:44",
         "sourceCategory": "organic",
         "user_agent": "browser",
         "file_path": "../BadRequeteCrypt/I7_status500_Joined.tsv",
         "interval": 7,
         "rawAnonymizedQuery": "SELECT ?var1 (  SAMPLE ( ?var2  ) AS  ?var3  )( COUNT ( ?var4  ) AS  ?var5  )\nWHERE {\n {\n   BIND ( …",
         "query": "<rdflib.plugins.sparql.sparql.Query object at 0x7f268d1588d0>",
         "visitor": "<__main__.FilterVisitor object at 0x7f26752dc0d0>",
         "counter_variable": 9,
         "counter_filter": 0,
         "counter_orderby": 0,
         "counter_limit": 0,
         "counter_select": 1,
         "counter_distinct": 0,
         "counter_modify": 0,
         "counter_tomultiset": 0,
         "counter_join": 8,
         "counter_bgp": 16,
         "counter_insertdata": 0,
         "counter_deletedata": 0,
         "counter_project": 1,
         "counter_union": 7,
         "counter_values": 0,
         "counter_groupby": 1,
         "counter_offset": 0,
         "counter_slice": 0,
         "has_variable": true,
         "has_filter": false,
         "has_orderby": false,
         "has_limit": false,
         "has_select": true,
         "has_distinct": false,
         "has_modify": false,
         "has_tomultiset": false,
         "has_join": true,
         "has_bgp": true,
         "has_insertdata": false,
         "has_deletedata": false,
         "has_project": true,
         "has_union": true,
         "has_values": false,
         "has_groupby": true,
         "has_slice": false,
         "has_offset": false,
         "_deepnote_index_column": 20795
        },
        {
         "anonymizedQuery": "SELECT+%3Fvar1+%28++SAMPLE+%28+%3Fvar2++%29+AS++%3Fvar3++%29%28+COUNT+%28+%3Fvar4++%29+AS++%3Fvar5+…",
         "timestamp": "2018-03-19 16:12:42",
         "sourceCategory": "organic",
         "user_agent": "browser",
         "file_path": "../BadRequeteCrypt/I7_status500_Joined.tsv",
         "interval": 7,
         "rawAnonymizedQuery": "SELECT ?var1 (  SAMPLE ( ?var2  ) AS  ?var3  )( COUNT ( ?var4  ) AS  ?var5  )\nWHERE {\n {\n   BIND ( …",
         "query": "<rdflib.plugins.sparql.sparql.Query object at 0x7f2689f6e190>",
         "visitor": "<__main__.FilterVisitor object at 0x7f26752cfed0>",
         "counter_variable": 9,
         "counter_filter": 0,
         "counter_orderby": 0,
         "counter_limit": 0,
         "counter_select": 1,
         "counter_distinct": 0,
         "counter_modify": 0,
         "counter_tomultiset": 0,
         "counter_join": 8,
         "counter_bgp": 16,
         "counter_insertdata": 0,
         "counter_deletedata": 0,
         "counter_project": 1,
         "counter_union": 7,
         "counter_values": 0,
         "counter_groupby": 1,
         "counter_offset": 0,
         "counter_slice": 0,
         "has_variable": true,
         "has_filter": false,
         "has_orderby": false,
         "has_limit": false,
         "has_select": true,
         "has_distinct": false,
         "has_modify": false,
         "has_tomultiset": false,
         "has_join": true,
         "has_bgp": true,
         "has_insertdata": false,
         "has_deletedata": false,
         "has_project": true,
         "has_union": true,
         "has_values": false,
         "has_groupby": true,
         "has_slice": false,
         "has_offset": false,
         "_deepnote_index_column": 20788
        },
        {
         "anonymizedQuery": "SELECT+%3Fvar1+%28++SAMPLE+%28+%3Fvar2++%29+AS++%3Fvar3++%29%28+COUNT+%28+%3Fvar4++%29+AS++%3Fvar5+…",
         "timestamp": "2018-03-20 08:19:06",
         "sourceCategory": "organic",
         "user_agent": "browser",
         "file_path": "../BadRequeteCrypt/I7_status500_Joined.tsv",
         "interval": 7,
         "rawAnonymizedQuery": "SELECT ?var1 (  SAMPLE ( ?var2  ) AS  ?var3  )( COUNT ( ?var4  ) AS  ?var5  )\nWHERE {\n {\n   BIND ( …",
         "query": "<rdflib.plugins.sparql.sparql.Query object at 0x7f26811359d0>",
         "visitor": "<__main__.FilterVisitor object at 0x7f267525b110>",
         "counter_variable": 9,
         "counter_filter": 0,
         "counter_orderby": 0,
         "counter_limit": 0,
         "counter_select": 1,
         "counter_distinct": 0,
         "counter_modify": 0,
         "counter_tomultiset": 0,
         "counter_join": 8,
         "counter_bgp": 16,
         "counter_insertdata": 0,
         "counter_deletedata": 0,
         "counter_project": 1,
         "counter_union": 7,
         "counter_values": 0,
         "counter_groupby": 1,
         "counter_offset": 0,
         "counter_slice": 0,
         "has_variable": true,
         "has_filter": false,
         "has_orderby": false,
         "has_limit": false,
         "has_select": true,
         "has_distinct": false,
         "has_modify": false,
         "has_tomultiset": false,
         "has_join": true,
         "has_bgp": true,
         "has_insertdata": false,
         "has_deletedata": false,
         "has_project": true,
         "has_union": true,
         "has_values": false,
         "has_groupby": true,
         "has_slice": false,
         "has_offset": false,
         "_deepnote_index_column": 21313
        },
        {
         "anonymizedQuery": "SELECT+%3Fvar1++%3Fvar1Label++%3Fvar2++%3Fvar2Label++%3Fvar3++%3Fvar3Label++%3Fvar4+%0AWHERE+%7B%0A…",
         "timestamp": "2018-03-22 00:17:58",
         "sourceCategory": "organic",
         "user_agent": "browser",
         "file_path": "../BadRequeteCrypt/I7_status500_Joined.tsv",
         "interval": 7,
         "rawAnonymizedQuery": "SELECT ?var1  ?var1Label  ?var2  ?var2Label  ?var3  ?var3Label  ?var4 \nWHERE {\n {\n  SELECT DISTINCT…",
         "query": "<rdflib.plugins.sparql.sparql.Query object at 0x7f267d6da710>",
         "visitor": "<__main__.FilterVisitor object at 0x7f267510c5d0>",
         "counter_variable": 14,
         "counter_filter": 0,
         "counter_orderby": 0,
         "counter_limit": 0,
         "counter_select": 1,
         "counter_distinct": 1,
         "counter_modify": 0,
         "counter_tomultiset": 3,
         "counter_join": 7,
         "counter_bgp": 9,
         "counter_insertdata": 0,
         "counter_deletedata": 0,
         "counter_project": 2,
         "counter_union": 2,
         "counter_values": 2,
         "counter_groupby": 0,
         "counter_offset": 0,
         "counter_slice": 0,
         "has_variable": true,
         "has_filter": false,
         "has_orderby": false,
         "has_limit": false,
         "has_select": true,
         "has_distinct": true,
         "has_modify": false,
         "has_tomultiset": true,
         "has_join": true,
         "has_bgp": true,
         "has_insertdata": false,
         "has_deletedata": false,
         "has_project": true,
         "has_union": true,
         "has_values": true,
         "has_groupby": false,
         "has_slice": false,
         "has_offset": false,
         "_deepnote_index_column": 22580
        },
        {
         "anonymizedQuery": "SELECT+DISTINCT+%3Fvar1++%3Fvar1Label++%3Fvar2++%3Fvar2Label++%3Fvar3++%3Fvar3Label++%3Fvar4++%3Fva…",
         "timestamp": "2018-02-28 12:12:05",
         "sourceCategory": "organic",
         "user_agent": "browser",
         "file_path": "../BadRequeteCrypt/I7_status500_Joined.tsv",
         "interval": 7,
         "rawAnonymizedQuery": "SELECT DISTINCT ?var1  ?var1Label  ?var2  ?var2Label  ?var3  ?var3Label  ?var4  ?var4Label  ?var5  …",
         "query": "<rdflib.plugins.sparql.sparql.Query object at 0x7f26b4fc3750>",
         "visitor": "<__main__.FilterVisitor object at 0x7f26b5003dd0>",
         "counter_variable": 13,
         "counter_filter": 1,
         "counter_orderby": 0,
         "counter_limit": 0,
         "counter_select": 1,
         "counter_distinct": 1,
         "counter_modify": 0,
         "counter_tomultiset": 1,
         "counter_join": 6,
         "counter_bgp": 7,
         "counter_insertdata": 0,
         "counter_deletedata": 0,
         "counter_project": 1,
         "counter_union": 2,
         "counter_values": 1,
         "counter_groupby": 0,
         "counter_offset": 0,
         "counter_slice": 0,
         "has_variable": true,
         "has_filter": true,
         "has_orderby": false,
         "has_limit": false,
         "has_select": true,
         "has_distinct": true,
         "has_modify": false,
         "has_tomultiset": true,
         "has_join": true,
         "has_bgp": true,
         "has_insertdata": false,
         "has_deletedata": false,
         "has_project": true,
         "has_union": true,
         "has_values": true,
         "has_groupby": false,
         "has_slice": false,
         "has_offset": false,
         "_deepnote_index_column": 1899
        },
        {
         "anonymizedQuery": "SELECT+DISTINCT+%3Fvar1++%3Fvar1Label++%3Fvar2++%3Fvar2Label++%3Fvar3++%3Fvar3Label++%3Fvar4++%3Fva…",
         "timestamp": "2018-02-28 12:05:26",
         "sourceCategory": "organic",
         "user_agent": "browser",
         "file_path": "../BadRequeteCrypt/I7_status500_Joined.tsv",
         "interval": 7,
         "rawAnonymizedQuery": "SELECT DISTINCT ?var1  ?var1Label  ?var2  ?var2Label  ?var3  ?var3Label  ?var4  ?var4Label  ?var5  …",
         "query": "<rdflib.plugins.sparql.sparql.Query object at 0x7f26b5003f90>",
         "visitor": "<__main__.FilterVisitor object at 0x7f267f8466d0>",
         "counter_variable": 13,
         "counter_filter": 2,
         "counter_orderby": 0,
         "counter_limit": 1,
         "counter_select": 1,
         "counter_distinct": 1,
         "counter_modify": 0,
         "counter_tomultiset": 1,
         "counter_join": 6,
         "counter_bgp": 7,
         "counter_insertdata": 0,
         "counter_deletedata": 0,
         "counter_project": 1,
         "counter_union": 2,
         "counter_values": 1,
         "counter_groupby": 0,
         "counter_offset": 1,
         "counter_slice": 1,
         "has_variable": true,
         "has_filter": true,
         "has_orderby": false,
         "has_limit": true,
         "has_select": true,
         "has_distinct": true,
         "has_modify": false,
         "has_tomultiset": true,
         "has_join": true,
         "has_bgp": true,
         "has_insertdata": false,
         "has_deletedata": false,
         "has_project": true,
         "has_union": true,
         "has_values": true,
         "has_groupby": false,
         "has_slice": true,
         "has_offset": true,
         "_deepnote_index_column": 1895
        },
        {
         "anonymizedQuery": "SELECT+DISTINCT+%3Fvar1++%3Fvar1Label+%28++CONCAT+%28++%22%7B%22%2C+%22string1%22%2C+STR+%28++%3Fva…",
         "timestamp": "2018-03-16 12:17:58",
         "sourceCategory": "robotic",
         "user_agent": "bot2",
         "file_path": "../BadRequeteCrypt/I7_status500_Joined.tsv",
         "interval": 7,
         "rawAnonymizedQuery": "SELECT DISTINCT ?var1  ?var1Label (  CONCAT (  \"{\", \"string1\", STR (  ?var2  ) , \"}\", \"}\" )  AS  ?v…",
         "query": "<rdflib.plugins.sparql.sparql.Query object at 0x7f268889d510>",
         "visitor": "<__main__.FilterVisitor object at 0x7f26888e5150>",
         "counter_variable": 12,
         "counter_filter": 1,
         "counter_orderby": 1,
         "counter_limit": 2,
         "counter_select": 1,
         "counter_distinct": 1,
         "counter_modify": 0,
         "counter_tomultiset": 0,
         "counter_join": 5,
         "counter_bgp": 6,
         "counter_insertdata": 0,
         "counter_deletedata": 0,
         "counter_project": 1,
         "counter_union": 0,
         "counter_values": 0,
         "counter_groupby": 0,
         "counter_offset": 2,
         "counter_slice": 0,
         "has_variable": true,
         "has_filter": true,
         "has_orderby": true,
         "has_limit": true,
         "has_select": true,
         "has_distinct": true,
         "has_modify": false,
         "has_tomultiset": false,
         "has_join": true,
         "has_bgp": true,
         "has_insertdata": false,
         "has_deletedata": false,
         "has_project": true,
         "has_union": false,
         "has_values": false,
         "has_groupby": false,
         "has_slice": false,
         "has_offset": true,
         "_deepnote_index_column": 18322
        }
       ]
      },
      "text/plain": "                                                                                                                                                                                                                                                                                                                                                                                                                                                                                                                                                                                                                                                                                                                                                                                                                                                                                                                                                                                                                                                                                                                                                                                                                                                                                                                                     anonymizedQuery  ... has_offset\n0      SELECT+%3Fvar1++%3Fvar1Label++%3Fvar2++%3Fvar2Label++%3Fvar3++%3Fvar3Label+%0AWHERE+%7B%0A+SERVICE++%3Chttp%3A%2F%2Fwikiba.se%2Fontology%23label%3E+++%7B%0A++++%3Chttp%3A%2F%2Fwww.bigdata.com%2Frdf%23serviceParam%3E++%3Chttp%3A%2F%2Fwikiba.se%2Fontology%23language%3E++%22en%2Cen%22.%0A++%7D%0A++%3Fvar1++%3Chttp%3A%2F%2Fwww.wikidata.org%2Fprop%2Fdirect%2FP31%3E++%3Chttp%3A%2F%2Fwww.wikidata.org%2Fentity%2FQ215380%3E+.%0A+OPTIONAL+%7B%0A++%3Fvar4++%3Chttp%3A%2F%2Fwww.wikidata.org%2Fprop%2Fdirect%2FP136%3E++%3Fvar2+.%0A+%7D%0A+OPTIONAL+%7B%0A++%3Fvar4++%3Chttp%3A%2F%2Fwww.wikidata.org%2Fprop%2Fdirect%2FP264%3E++%3Fvar3+.%0A+%7D%0A%7D%0ALIMIT+10%0A                                                                                                                                                                                                                                                                                                                                                                                                                                                                                                                                                                                                                                                                   ...  True     \n1      SELECT+DISTINCT+%3Fvar1+%0AWHERE+%7B%0A++BIND+%28++%28++NOW+%28++%29+-+%3Fvar2++%29++AS++%3Fvar3+%29.%0A++%3Fvar1++%3Chttp%3A%2F%2Fwww.wikidata.org%2Fprop%2Fdirect%2FP570%3E++%3Fvar2+.%0A+FILTER+%28++%28+%28++%3Fvar3++%3E%3D+%220%22%5E%5E%3Chttp%3A%2F%2Fwww.w3.org%2F2001%2FXMLSchema%23integer%3E++%29+%26%26+%28++%3Fvar3++%3C%3D+%225%22%5E%5E%3Chttp%3A%2F%2Fwww.w3.org%2F2001%2FXMLSchema%23integer%3E++%29+%29+%0A%29+.%0A++%3Fvar4++%3Chttp%3A%2F%2Fschema.org%2Fabout%3E++%3Fvar1+.%0A++%3Fvar4++%3Chttp%3A%2F%2Fschema.org%2FinLanguage%3E++%22es%22.%0A++%3Fvar4++%3Chttp%3A%2F%2Fschema.org%2FisPartOf%3E++%3Chttps%3A%2F%2Fes.wikipedia.org%2F%3E+.%0A%7D%0A                                                                                                                                                                                                                                                                                                                                                                                                                                                                                                                                                                                                                                                                 ...  False    \n2      SELECT+%3Fvar1++%3Fvar1Label+%28+COUNT+%28+DISTINCT++%3Fvar2++%29+AS++%3Fvar3++%29%0AWHERE+%7B%0A++%3Fvar2++%3Chttp%3A%2F%2Fwww.wikidata.org%2Fprop%2Fdirect%2FP19%3E++%3Fvar1+%3B%0A%28+%3Chttp%3A%2F%2Fwww.wikidata.org%2Fprop%2Fdirect%2FP106%3E+%2F+%3Chttp%3A%2F%2Fwww.wikidata.org%2Fprop%2Fdirect%2FP279%3E+*%29+%3Chttp%3A%2F%2Fwww.wikidata.org%2Fentity%2FQ901%3E+.%0A++%3Fvar1+%28+%3Chttp%3A%2F%2Fwww.wikidata.org%2Fprop%2Fdirect%2FP17%3E+*%2F+%3Chttp%3A%2F%2Fwww.wikidata.org%2Fprop%2Fdirect%2FP30%3E+%29+%3Chttp%3A%2F%2Fwww.wikidata.org%2Fentity%2FQ46%3E+.%0A+SERVICE++%3Chttp%3A%2F%2Fwikiba.se%2Fontology%23label%3E+++%7B%0A++++%3Chttp%3A%2F%2Fwww.bigdata.com%2Frdf%23serviceParam%3E++%3Chttp%3A%2F%2Fwikiba.se%2Fontology%23language%3E++%22en%22.%0A++%7D%0A%7D%0AGROUP+BY++%3Fvar1++%3Fvar1Label+%0AORDER+BY++DESC%28+%3Fvar3+%29%0ALIMIT+10%0A                                                                                                                                                                                                                                                                                                                                                                                                                                                                  ...  True     \n3      SELECT+%3Fvar1++%3Fvar1Label++%3Fvar2++%3Fvar2Label++%3Fvar3++%3Fvar3Label+%0AWHERE+%7B%0A+SERVICE++%3Chttp%3A%2F%2Fwikiba.se%2Fontology%23label%3E+++%7B%0A++++%3Chttp%3A%2F%2Fwww.bigdata.com%2Frdf%23serviceParam%3E++%3Chttp%3A%2F%2Fwikiba.se%2Fontology%23language%3E++%22en%2Cen%22.%0A++%7D%0A++%3Fvar1++%3Chttp%3A%2F%2Fwww.wikidata.org%2Fprop%2Fdirect%2FP31%3E++%3Chttp%3A%2F%2Fwww.wikidata.org%2Fentity%2FQ215380%3E+.%0A+OPTIONAL+%7B%0A++%3Fvar4++%3Chttp%3A%2F%2Fwww.wikidata.org%2Fprop%2Fdirect%2FP136%3E++%3Fvar2+.%0A+%7D%0A+OPTIONAL+%7B%0A++%3Fvar4++%3Chttp%3A%2F%2Fwww.wikidata.org%2Fprop%2Fdirect%2FP264%3E++%3Fvar3+.%0A+%7D%0A%7D%0ALIMIT+10%0A                                                                                                                                                                                                                                                                                                                                                                                                                                                                                                                                                                                                                                                                   ...  True     \n4      SELECT+%3Fvar1++%3Fvar2++%3Fvar3+%0AWHERE+%7B%0A++%3Fvar1+%28+%3Chttp%3A%2F%2Fwww.wikidata.org%2Fprop%2Fdirect%2FP31%3E+%2F+%3Chttp%3A%2F%2Fwww.wikidata.org%2Fprop%2Fdirect%2FP279%3E+*%29+%3Chttp%3A%2F%2Fwww.wikidata.org%2Fentity%2FQ1190554%3E+.%0A++%3Fvar1++%3Chttp%3A%2F%2Fwww.wikidata.org%2Fprop%2Fdirect%2FP585%3E++%3Fvar2+.%0A++%3Fvar3++%3Chttp%3A%2F%2Fschema.org%2Fabout%3E++%3Fvar1+.%0A++%3Fvar3++%3Chttp%3A%2F%2Fschema.org%2FisPartOf%3E++%3Chttps%3A%2F%2Fen.wikipedia.org%2F%3E+.%0A+FILTER+%28++%28+%28++DATATYPE+%28++%3Fvar2++%29++%3D++%3Chttp%3A%2F%2Fwww.w3.org%2F2001%2FXMLSchema%23dateTime%3E++%29+%26%26+%28++MONTH+%28++%3Fvar2++%29++%3D++MONTH+%28++NOW+%28++%29++%29++%29+%26%26+%28++DAY+%28++%3Fvar2++%29++%3D++DAY+%28++NOW+%28++%29++%29++%29+%29+%0A%29+.%0A%7D%0AORDER+BY++DESC%28+%3Fvar2+%29%0ALIMIT+5%0A                                                                                                                                                                                                                                                                                                                                                                                                                                                                                          ...  True     \n5      SELECT+DISTINCT+%3Fvar1+%0AWHERE+%7B%0A++BIND+%28++%28++NOW+%28++%29+-+%3Fvar2++%29++AS++%3Fvar3+%29.%0A++%3Fvar1++%3Chttp%3A%2F%2Fwww.wikidata.org%2Fprop%2Fdirect%2FP570%3E++%3Fvar2+.%0A+FILTER+%28++%28+%28++%3Fvar3++%3E%3D+%220%22%5E%5E%3Chttp%3A%2F%2Fwww.w3.org%2F2001%2FXMLSchema%23integer%3E++%29+%26%26+%28++%3Fvar3++%3C%3D+%225%22%5E%5E%3Chttp%3A%2F%2Fwww.w3.org%2F2001%2FXMLSchema%23integer%3E++%29+%29+%0A%29+.%0A++%3Fvar4++%3Chttp%3A%2F%2Fschema.org%2Fabout%3E++%3Fvar1+.%0A++%3Fvar4++%3Chttp%3A%2F%2Fschema.org%2FinLanguage%3E++%22es%22.%0A++%3Fvar4++%3Chttp%3A%2F%2Fschema.org%2FisPartOf%3E++%3Chttps%3A%2F%2Fes.wikipedia.org%2F%3E+.%0A%7D%0A                                                                                                                                                                                                                                                                                                                                                                                                                                                                                                                                                                                                                                                                 ...  False    \n6      SELECT+DISTINCT+%3Fvar1Label++%3Fvar2Label++%3Fvar1+%0AWHERE+%7B%0A++%3Fvar1+%28+%3Chttp%3A%2F%2Fwww.wikidata.org%2Fprop%2Fdirect%2FP31%3E+%2F+%3Chttp%3A%2F%2Fwww.wikidata.org%2Fprop%2Fdirect%2FP279%3E+*%29+%3Chttp%3A%2F%2Fwww.wikidata.org%2Fentity%2FQ6999%3E+.%0A+OPTIONAL+%7B%0A++%3Fvar1++%3Chttp%3A%2F%2Fwww.wikidata.org%2Fprop%2Fdirect%2FP31%3E++%3Fvar2+.%0A+FILTER+%28++%28+%28++%3Fvar2++%21%3D++%3Chttp%3A%2F%2Fwww.wikidata.org%2Fentity%2FQ6999%3E++%29+%29+%0A%29+.%0A+%7D%0A+SERVICE++%3Chttp%3A%2F%2Fwikiba.se%2Fontology%23label%3E+++%7B%0A++++%3Chttp%3A%2F%2Fwww.bigdata.com%2Frdf%23serviceParam%3E++%3Chttp%3A%2F%2Fwikiba.se%2Fontology%23language%3E++%22en%22.%0A++%7D%0A%7D%0AORDER+BY+ASC%28+%3Fvar2Label+%29ASC%28+%3Fvar1Label+%29%0A                                                                                                                                                                                                                                                                                                                                                                                                                                                                                                                                                                       ...  False    \n7      SELECT+%3Fvar1++%3Fvar2++%3Fvar3+%0AWHERE+%7B%0A++%3Fvar1+%28+%3Chttp%3A%2F%2Fwww.wikidata.org%2Fprop%2Fdirect%2FP31%3E+%2F+%3Chttp%3A%2F%2Fwww.wikidata.org%2Fprop%2Fdirect%2FP279%3E+*%29+%3Chttp%3A%2F%2Fwww.wikidata.org%2Fentity%2FQ1190554%3E+.%0A++%3Fvar1++%3Chttp%3A%2F%2Fwww.wikidata.org%2Fprop%2Fdirect%2FP585%3E++%3Fvar2+.%0A++%3Fvar3++%3Chttp%3A%2F%2Fschema.org%2Fabout%3E++%3Fvar1+.%0A++%3Fvar3++%3Chttp%3A%2F%2Fschema.org%2FisPartOf%3E++%3Chttps%3A%2F%2Fen.wikipedia.org%2F%3E+.%0A+FILTER+%28++%28+%28++DATATYPE+%28++%3Fvar2++%29++%3D++%3Chttp%3A%2F%2Fwww.w3.org%2F2001%2FXMLSchema%23dateTime%3E++%29+%26%26+%28++MONTH+%28++%3Fvar2++%29++%3D++MONTH+%28++NOW+%28++%29++%29++%29+%26%26+%28++DAY+%28++%3Fvar2++%29++%3D++DAY+%28++NOW+%28++%29++%29++%29+%29+%0A%29+.%0A%7D%0AORDER+BY++DESC%28+%3Fvar2+%29%0ALIMIT+5%0A                                                                                                                                                                                                                                                                                                                                                                                                                                                                                          ...  True     \n8      SELECT+%3Fvar1++%3Fvar2++%3Fvar3+%0AWHERE+%7B%0A++%3Fvar1+%28+%3Chttp%3A%2F%2Fwww.wikidata.org%2Fprop%2Fdirect%2FP31%3E+%2F+%3Chttp%3A%2F%2Fwww.wikidata.org%2Fprop%2Fdirect%2FP279%3E+*%29+%3Chttp%3A%2F%2Fwww.wikidata.org%2Fentity%2FQ1190554%3E+.%0A++%3Fvar1++%3Chttp%3A%2F%2Fwww.wikidata.org%2Fprop%2Fdirect%2FP585%3E++%3Fvar2+.%0A++%3Fvar3++%3Chttp%3A%2F%2Fschema.org%2Fabout%3E++%3Fvar1+.%0A++%3Fvar3++%3Chttp%3A%2F%2Fschema.org%2FisPartOf%3E++%3Chttps%3A%2F%2Fen.wikipedia.org%2F%3E+.%0A+FILTER+%28++%28+%28++DATATYPE+%28++%3Fvar2++%29++%3D++%3Chttp%3A%2F%2Fwww.w3.org%2F2001%2FXMLSchema%23dateTime%3E++%29+%26%26+%28++MONTH+%28++%3Fvar2++%29++%3D++MONTH+%28++NOW+%28++%29++%29++%29+%26%26+%28++DAY+%28++%3Fvar2++%29++%3D++DAY+%28++NOW+%28++%29++%29++%29+%29+%0A%29+.%0A%7D%0AORDER+BY++DESC%28+%3Fvar2+%29%0ALIMIT+5%0A                                                                                                                                                                                                                                                                                                                                                                                                                                                                                          ...  True     \n...                                                                                                                                                                                                                                                                                                                                                                                                                                                                                                                                                                                                                                                                                                                                                                                                                                                      ...                                                                                                                                                                                                                                                                                                                                                                                                                                                                                          ...   ...     \n25658  SELECT%28++%3Fvar1++AS++%3Fvar2++%29%0AWHERE+%7B%0A++%3Chttp%3A%2F%2Fwww.wikidata.org%2Fentity%2FQ211907%3E+%28+%3Chttp%3A%2F%2Fwww.wikidata.org%2Fprop%2Fdirect%2FP131%3E+%2F+%3Chttp%3A%2F%2Fwww.wikidata.org%2Fprop%2Fdirect%2FP131%3E+*%29+%3Fvar3+.%0A++%3Fvar3+%28+%3Chttp%3A%2F%2Fwww.wikidata.org%2Fprop%2Fdirect%2FP31%3E+%2F+%3Chttp%3A%2F%2Fwww.wikidata.org%2Fprop%2Fdirect%2FP279%3E+*%29+%3Chttp%3A%2F%2Fwww.wikidata.org%2Fentity%2FQ10864048%3E+.%0A++%3Fvar1+%28+%3Chttp%3A%2F%2Fwww.wikidata.org%2Fprop%2Fdirect%2FP131%3E+%2F+%3Chttp%3A%2F%2Fwww.wikidata.org%2Fprop%2Fdirect%2FP131%3E+*%29+%3Fvar3+.%0A++%3Fvar1+%28+%3Chttp%3A%2F%2Fwww.wikidata.org%2Fprop%2Fdirect%2FP31%3E+%2F+%3Chttp%3A%2F%2Fwww.wikidata.org%2Fprop%2Fdirect%2FP279%3E+*%29+%3Chttp%3A%2F%2Fwww.wikidata.org%2Fentity%2FQ13220204%3E+.%0A+SERVICE++%3Chttp%3A%2F%2Fwikiba.se%2Fontology%23label%3E+++%7B%0A++++%3Chttp%3A%2F%2Fwww.bigdata.com%2Frdf%23serviceParam%3E++%3Chttp%3A%2F%2Fwikiba.se%2Fontology%23language%3E++%22fi%22.%0A++%7D%0A+FILTER+%28++%28++NOT+EXISTS++%7B%0A+++%3Fvar1+%28+%3Chttp%3A%2F%2Fwww.wikidata.org%2Fprop%2Fdirect%2FP31%3E+%2F+%3Chttp%3A%2F%2Fwww.wikidata.org%2Fprop%2Fdirect%2FP279%3E+*%29+%3Chttp%3A%2F%2Fwww.wikidata.org%2Fentity%2FQ19953632%3E+.%0A+%7D%0A+%29+%0A%29+.%0A%7D%0AGROUP+BY++%3Fvar1+%0A  ...  False    \n25659  SELECT%28++%3Fvar1++AS++%3Fvar2++%29%0AWHERE+%7B%0A++%3Chttp%3A%2F%2Fwww.wikidata.org%2Fentity%2FQ211907%3E+%28+%3Chttp%3A%2F%2Fwww.wikidata.org%2Fprop%2Fdirect%2FP131%3E+%2F+%3Chttp%3A%2F%2Fwww.wikidata.org%2Fprop%2Fdirect%2FP131%3E+*%29+%3Fvar3+.%0A++%3Fvar3+%28+%3Chttp%3A%2F%2Fwww.wikidata.org%2Fprop%2Fdirect%2FP31%3E+%2F+%3Chttp%3A%2F%2Fwww.wikidata.org%2Fprop%2Fdirect%2FP279%3E+*%29+%3Chttp%3A%2F%2Fwww.wikidata.org%2Fentity%2FQ10864048%3E+.%0A++%3Fvar1+%28+%3Chttp%3A%2F%2Fwww.wikidata.org%2Fprop%2Fdirect%2FP131%3E+%2F+%3Chttp%3A%2F%2Fwww.wikidata.org%2Fprop%2Fdirect%2FP131%3E+*%29+%3Fvar3+.%0A++%3Fvar1+%28+%3Chttp%3A%2F%2Fwww.wikidata.org%2Fprop%2Fdirect%2FP31%3E+%2F+%3Chttp%3A%2F%2Fwww.wikidata.org%2Fprop%2Fdirect%2FP279%3E+*%29+%3Chttp%3A%2F%2Fwww.wikidata.org%2Fentity%2FQ13221722%3E+.%0A+SERVICE++%3Chttp%3A%2F%2Fwikiba.se%2Fontology%23label%3E+++%7B%0A++++%3Chttp%3A%2F%2Fwww.bigdata.com%2Frdf%23serviceParam%3E++%3Chttp%3A%2F%2Fwikiba.se%2Fontology%23language%3E++%22fi%22.%0A++%7D%0A+FILTER+%28++%28++NOT+EXISTS++%7B%0A+++%3Fvar1+%28+%3Chttp%3A%2F%2Fwww.wikidata.org%2Fprop%2Fdirect%2FP31%3E+%2F+%3Chttp%3A%2F%2Fwww.wikidata.org%2Fprop%2Fdirect%2FP279%3E+*%29+%3Chttp%3A%2F%2Fwww.wikidata.org%2Fentity%2FQ19953632%3E+.%0A+%7D%0A+%29+%0A%29+.%0A%7D%0AGROUP+BY++%3Fvar1+%0A  ...  False    \n25660  SELECT%28++%3Fvar1++AS++%3Fvar2++%29%0AWHERE+%7B%0A++%3Chttp%3A%2F%2Fwww.wikidata.org%2Fentity%2FQ211907%3E+%28+%3Chttp%3A%2F%2Fwww.wikidata.org%2Fprop%2Fdirect%2FP131%3E+%2F+%3Chttp%3A%2F%2Fwww.wikidata.org%2Fprop%2Fdirect%2FP131%3E+*%29+%3Fvar3+.%0A++%3Fvar3+%28+%3Chttp%3A%2F%2Fwww.wikidata.org%2Fprop%2Fdirect%2FP31%3E+%2F+%3Chttp%3A%2F%2Fwww.wikidata.org%2Fprop%2Fdirect%2FP279%3E+*%29+%3Chttp%3A%2F%2Fwww.wikidata.org%2Fentity%2FQ10864048%3E+.%0A++%3Fvar1+%28+%3Chttp%3A%2F%2Fwww.wikidata.org%2Fprop%2Fdirect%2FP131%3E+%2F+%3Chttp%3A%2F%2Fwww.wikidata.org%2Fprop%2Fdirect%2FP131%3E+*%29+%3Fvar3+.%0A++%3Fvar1+%28+%3Chttp%3A%2F%2Fwww.wikidata.org%2Fprop%2Fdirect%2FP31%3E+%2F+%3Chttp%3A%2F%2Fwww.wikidata.org%2Fprop%2Fdirect%2FP279%3E+*%29+%3Chttp%3A%2F%2Fwww.wikidata.org%2Fentity%2FQ13221722%3E+.%0A+SERVICE++%3Chttp%3A%2F%2Fwikiba.se%2Fontology%23label%3E+++%7B%0A++++%3Chttp%3A%2F%2Fwww.bigdata.com%2Frdf%23serviceParam%3E++%3Chttp%3A%2F%2Fwikiba.se%2Fontology%23language%3E++%22fi%22.%0A++%7D%0A+FILTER+%28++%28++NOT+EXISTS++%7B%0A+++%3Fvar1+%28+%3Chttp%3A%2F%2Fwww.wikidata.org%2Fprop%2Fdirect%2FP31%3E+%2F+%3Chttp%3A%2F%2Fwww.wikidata.org%2Fprop%2Fdirect%2FP279%3E+*%29+%3Chttp%3A%2F%2Fwww.wikidata.org%2Fentity%2FQ19953632%3E+.%0A+%7D%0A+%29+%0A%29+.%0A%7D%0AGROUP+BY++%3Fvar1+%0A  ...  False    \n25661  SELECT+%3Fvar1++%3Fvar2Label++%3Fvar1Label++%3Fvar3++%3Fvar4++%3Fvar4Label+%0AWHERE+%7B%0A++VALUES+%28++%3Fvar2++%29+%7B%0A+++%28++%3Chttp%3A%2F%2Fwww.wikidata.org%2Fentity%2FQ5608%3E++%29%0A++%7D%0A++%3Fvar1++%3Chttp%3A%2F%2Fwww.wikidata.org%2Fprop%2Fdirect%2FP175%3E++%3Fvar2+.%0A++%3Fvar1++%3Chttp%3A%2F%2Fwww.wikidata.org%2Fprop%2Fdirect%2FP577%3E++%3Fvar3+.%0A+SERVICE++%3Chttp%3A%2F%2Fwikiba.se%2Fontology%23label%3E+++%7B%0A++++%3Chttp%3A%2F%2Fwww.bigdata.com%2Frdf%23serviceParam%3E++%3Chttp%3A%2F%2Fwikiba.se%2Fontology%23language%3E++%22en%22.%0A++%7D%0A+OPTIONAL+%7B%0A++%3Fvar5++%3Chttp%3A%2F%2Fwww.wikidata.org%2Fprop%2Fdirect%2FP136%3E++%3Fvar4+.%0A+%7D%0A%7D%0A                                                                                                                                                                                                                                                                                                                                                                                                                                                                                                                                                                                                                                           ...  False    \n25662  SELECT+%3Fvar1++%3Fvar2+%28++GROUP_CONCAT+%28++DISTINCT++%3Fvar3++%29++AS++%3Fvar4++%29%0AWHERE+%7B%0A++VALUES+%28++%3Fvar5++%29+%7B%0A+++%28++%3Chttp%3A%2F%2Fwww.wikidata.org%2Fentity%2FQ11424%3E++%29%0A+++%28++%3Chttp%3A%2F%2Fwww.wikidata.org%2Fentity%2FQ24862%3E++%29%0A+++%28++%3Chttp%3A%2F%2Fwww.wikidata.org%2Fentity%2FQ506240%3E++%29%0A+++%28++%3Chttp%3A%2F%2Fwww.wikidata.org%2Fentity%2FQ336144%3E++%29%0A++%7D%0A++BIND+%28++%3Chttp%3A%2F%2Fwww.w3.org%2F2001%2FXMLSchema%23integer%3E++%28+STRAFTER+%28++STR+%28++%3Fvar1++%29+%2C+%22Q%22+%29+%29++AS++%3Fvar2+%29.%0A++%3Fvar1++%3Chttp%3A%2F%2Fwww.wikidata.org%2Fprop%2Fdirect%2FP31%3E++%3Fvar5+.%0A+FILTER+%28++%28+%28++%3Fvar2++%3E+%2228090000%22%5E%5E%3Chttp%3A%2F%2Fwww.w3.org%2F2001%2FXMLSchema%23integer%3E++%29+%29+%0A%29+.%0A+OPTIONAL+%7B%0A++BIND+%28++CONCAT+%28++%22%5B%22%2C+STR+%28++%3Fvar6++%29+%2C+%22+%22%2C+%3Fvar7+%2C+%22%5D%22+%29++AS++%3Fvar3+%29.%0A++%3Fvar6++%3Chttp%3A%2F%2Fschema.org%2Fabout%3E++%3Fvar1+%3B%0A+%3Chttp%3A%2F%2Fschema.org%2FinLanguage%3E++%3Fvar7+.%0A+%7D%0A%7D%0AGROUP+BY++%3Fvar1++%3Fvar2+%0AORDER+BY++DESC%28+%3Fvar2+%29%0ALIMIT+500%0A                                                                                                                                                                  ...  True     \n25663  SELECT+%3Fvar1+%0AWHERE+%7B%0A++%3Fvar1++%3Chttp%3A%2F%2Fwww.wikidata.org%2Fprop%2Fdirect%2FP345%3E++%3Fvar2+.%0A+FILTER+%28++%28++CONTAINS+%28++LCASE+%28++%3Fvar2++%29+%2C+%22nm1599776%22+%29++%29+%0A%29+.%0A+SERVICE++%3Chttp%3A%2F%2Fwikiba.se%2Fontology%23label%3E+++%7B%0A++++%3Chttp%3A%2F%2Fwww.bigdata.com%2Frdf%23serviceParam%3E++%3Chttp%3A%2F%2Fwikiba.se%2Fontology%23language%3E++%22en%22.%0A++%7D%0A%7D%0ALIMIT+1%0A                                                                                                                                                                                                                                                                                                                                                                                                                                                                                                                                                                                                                                                                                                                                                                                                                                                                                                       ...  True     \n25664  SELECT+*%0AWHERE+%7B%0A++%3Fvar1++%3Chttp%3A%2F%2Fwww.wikidata.org%2Fprop%2Fdirect%2FP345%3E++%3Fvar2+.%0A+FILTER+%28++%28+%28++%3Fvar2++%3D++%22tt6483832%22+%29+%29+%0A%29+.%0A++%3Fvar3++%3Chttp%3A%2F%2Fschema.org%2Fabout%3E++%3Fvar1+%3B%0A+%3Chttp%3A%2F%2Fschema.org%2FinLanguage%3E++%22en%22%3B%0A+%3Chttp%3A%2F%2Fschema.org%2FisPartOf%3E++%3Chttps%3A%2F%2Fen.wikipedia.org%2F%3E+.%0A%7D%0A                                                                                                                                                                                                                                                                                                                                                                                                                                                                                                                                                                                                                                                                                                                                                                                                                                                                                                                                      ...  False    \n25665  SELECT+DISTINCT+%3Fvar1++%3Fvar2+%0AWHERE+%7B%0A++%3Fvar1++%3Chttp%3A%2F%2Fwww.wikidata.org%2Fprop%2Fdirect%2FP31%3E++%3Chttp%3A%2F%2Fwww.wikidata.org%2Fentity%2FQ13442814%3E+.%0A++%3Fvar1++%3Chttp%3A%2F%2Fwww.wikidata.org%2Fprop%2Fdirect%2FP356%3E++%3Fvar2+.%0A++%3Fvar1++%3Chttp%3A%2F%2Fwww.wikidata.org%2Fprop%2Fdirect%2FP50%3E++%3Fvar3+.%0A++%3Fvar3++%3Chttp%3A%2F%2Fwww.wikidata.org%2Fprop%2Fdirect%2FP31%3E++%3Chttp%3A%2F%2Fwww.wikidata.org%2Fentity%2FQ5%3E+.%0A++MINUS+++%7B%0A++++%3Fvar3++%3Chttp%3A%2F%2Fwww.wikidata.org%2Fprop%2Fdirect%2FP496%3E++%5B%5D+.%0A++%7D%0A++MINUS+++%7B%0A++++%3Fvar3++%3Chttp%3A%2F%2Fwww.wikidata.org%2Fprop%2Fdirect%2FP570%3E++%5B%5D+.%0A++%7D%0A%7D%0AORDER+BY+ASC%28+RAND+%28++%29+%29%0ALIMIT+2000%0A                                                                                                                                                                                                                                                                                                                                                                                                                                                                                                                                                                            ...  True     \n25666  SELECT+%3Fvar1++%3Fvar2++%3Fvar3+%28++IF+%28+%28++%3Fvar3++%3E+%2211%22%5E%5E%3Chttp%3A%2F%2Fwww.w3.org%2F2001%2FXMLSchema%23integer%3E++%29%2C+%22string1%22%2C+%22string2%22+%29++AS++%3Fvar4++%29%0AWHERE+%7B%0A++%3Fvar1++%3Chttp%3A%2F%2Fwikiba.se%2Fontology%23sitelinks%3E++%3Fvar2+%3B%0A+%3Chttp%3A%2F%2Fwikiba.se%2Fontology%23statements%3E++%3Fvar3+.%0A+FILTER+%28++%28+%28++%3Fvar2++%3E+%22180%22%5E%5E%3Chttp%3A%2F%2Fwww.w3.org%2F2001%2FXMLSchema%23integer%3E++%29+%29+%0A%29+.%0A%7D%0AORDER+BY++DESC%28+%3Fvar2+%29%0ALIMIT+1000%0A                                                                                                                                                                                                                                                                                                                                                                                                                                                                                                                                                                                                                                                                                                                                                                                       ...  True     \n\n[25625 rows x 45 columns]",
      "text/html": "<div>\n<style scoped>\n    .dataframe tbody tr th:only-of-type {\n        vertical-align: middle;\n    }\n\n    .dataframe tbody tr th {\n        vertical-align: top;\n    }\n\n    .dataframe thead th {\n        text-align: right;\n    }\n</style>\n<table border=\"1\" class=\"dataframe\">\n  <thead>\n    <tr style=\"text-align: right;\">\n      <th></th>\n      <th>anonymizedQuery</th>\n      <th>timestamp</th>\n      <th>sourceCategory</th>\n      <th>user_agent</th>\n      <th>file_path</th>\n      <th>interval</th>\n      <th>rawAnonymizedQuery</th>\n      <th>query</th>\n      <th>visitor</th>\n      <th>counter_variable</th>\n      <th>counter_filter</th>\n      <th>counter_orderby</th>\n      <th>counter_limit</th>\n      <th>counter_select</th>\n      <th>counter_distinct</th>\n      <th>counter_modify</th>\n      <th>counter_tomultiset</th>\n      <th>counter_join</th>\n      <th>counter_bgp</th>\n      <th>counter_insertdata</th>\n      <th>counter_deletedata</th>\n      <th>counter_project</th>\n      <th>counter_union</th>\n      <th>counter_values</th>\n      <th>counter_groupby</th>\n      <th>counter_offset</th>\n      <th>counter_slice</th>\n      <th>has_variable</th>\n      <th>has_filter</th>\n      <th>has_orderby</th>\n      <th>has_limit</th>\n      <th>has_select</th>\n      <th>has_distinct</th>\n      <th>has_modify</th>\n      <th>has_tomultiset</th>\n      <th>has_join</th>\n      <th>has_bgp</th>\n      <th>has_insertdata</th>\n      <th>has_deletedata</th>\n      <th>has_project</th>\n      <th>has_union</th>\n      <th>has_values</th>\n      <th>has_groupby</th>\n      <th>has_slice</th>\n      <th>has_offset</th>\n    </tr>\n  </thead>\n  <tbody>\n    <tr>\n      <th>0</th>\n      <td>SELECT+%3Fvar1++%3Fvar1Label++%3Fvar2++%3Fvar2Label++%3Fvar3++%3Fvar3Label+%0AWHERE+%7B%0A+SERVICE++%3Chttp%3A%2F%2Fwikiba.se%2Fontology%23label%3E+++%7B%0A++++%3Chttp%3A%2F%2Fwww.bigdata.com%2Frdf%23serviceParam%3E++%3Chttp%3A%2F%2Fwikiba.se%2Fontology%23language%3E++%22en%2Cen%22.%0A++%7D%0A++%3Fvar1++%3Chttp%3A%2F%2Fwww.wikidata.org%2Fprop%2Fdirect%2FP31%3E++%3Chttp%3A%2F%2Fwww.wikidata.org%2Fentity%2FQ215380%3E+.%0A+OPTIONAL+%7B%0A++%3Fvar4++%3Chttp%3A%2F%2Fwww.wikidata.org%2Fprop%2Fdirect%2FP136%3E++%3Fvar2+.%0A+%7D%0A+OPTIONAL+%7B%0A++%3Fvar4++%3Chttp%3A%2F%2Fwww.wikidata.org%2Fprop%2Fdirect%2FP264%3E++%3Fvar3+.%0A+%7D%0A%7D%0ALIMIT+10%0A</td>\n      <td>2018-02-26 00:03:29</td>\n      <td>organic</td>\n      <td>browser</td>\n      <td>../BadRequeteCrypt/I7_status500_Joined.tsv</td>\n      <td>7</td>\n      <td>SELECT ?var1  ?var1Label  ?var2  ?var2Label  ?var3  ?var3Label \\nWHERE {\\n SERVICE  &lt;http://wikiba.se/ontology#label&gt;   {\\n    &lt;http://www.bigdata.com/rdf#serviceParam&gt;  &lt;http://wikiba.se/ontology#language&gt;  \"en,en\".\\n  }\\n  ?var1  &lt;http://www.wikidata.org/prop/direct/P31&gt;  &lt;http://www.wikidata.org/entity/Q215380&gt; .\\n OPTIONAL {\\n  ?var4  &lt;http://www.wikidata.org/prop/direct/P136&gt;  ?var2 .\\n }\\n OPTIONAL {\\n  ?var4  &lt;http://www.wikidata.org/prop/direct/P264&gt;  ?var3 .\\n }\\n}\\nLIMIT 10\\n</td>\n      <td>&lt;rdflib.plugins.sparql.sparql.Query object at 0x7f26c07c63d0&gt;</td>\n      <td>&lt;__main__.FilterVisitor object at 0x7f26f3dd9dd0&gt;</td>\n      <td>7</td>\n      <td>0</td>\n      <td>0</td>\n      <td>1</td>\n      <td>1</td>\n      <td>0</td>\n      <td>0</td>\n      <td>0</td>\n      <td>1</td>\n      <td>3</td>\n      <td>0</td>\n      <td>0</td>\n      <td>1</td>\n      <td>0</td>\n      <td>0</td>\n      <td>0</td>\n      <td>1</td>\n      <td>1</td>\n      <td>True</td>\n      <td>False</td>\n      <td>False</td>\n      <td>True</td>\n      <td>True</td>\n      <td>False</td>\n      <td>False</td>\n      <td>False</td>\n      <td>True</td>\n      <td>True</td>\n      <td>False</td>\n      <td>False</td>\n      <td>True</td>\n      <td>False</td>\n      <td>False</td>\n      <td>False</td>\n      <td>True</td>\n      <td>True</td>\n    </tr>\n    <tr>\n      <th>1</th>\n      <td>SELECT+DISTINCT+%3Fvar1+%0AWHERE+%7B%0A++BIND+%28++%28++NOW+%28++%29+-+%3Fvar2++%29++AS++%3Fvar3+%29.%0A++%3Fvar1++%3Chttp%3A%2F%2Fwww.wikidata.org%2Fprop%2Fdirect%2FP570%3E++%3Fvar2+.%0A+FILTER+%28++%28+%28++%3Fvar3++%3E%3D+%220%22%5E%5E%3Chttp%3A%2F%2Fwww.w3.org%2F2001%2FXMLSchema%23integer%3E++%29+%26%26+%28++%3Fvar3++%3C%3D+%225%22%5E%5E%3Chttp%3A%2F%2Fwww.w3.org%2F2001%2FXMLSchema%23integer%3E++%29+%29+%0A%29+.%0A++%3Fvar4++%3Chttp%3A%2F%2Fschema.org%2Fabout%3E++%3Fvar1+.%0A++%3Fvar4++%3Chttp%3A%2F%2Fschema.org%2FinLanguage%3E++%22es%22.%0A++%3Fvar4++%3Chttp%3A%2F%2Fschema.org%2FisPartOf%3E++%3Chttps%3A%2F%2Fes.wikipedia.org%2F%3E+.%0A%7D%0A</td>\n      <td>2018-02-26 00:04:13</td>\n      <td>robotic</td>\n      <td>UNKNOWN</td>\n      <td>../BadRequeteCrypt/I7_status500_Joined.tsv</td>\n      <td>7</td>\n      <td>SELECT DISTINCT ?var1 \\nWHERE {\\n  BIND (  (  NOW (  ) - ?var2  )  AS  ?var3 ).\\n  ?var1  &lt;http://www.wikidata.org/prop/direct/P570&gt;  ?var2 .\\n FILTER (  ( (  ?var3  &gt;= \"0\"^^&lt;http://www.w3.org/2001/XMLSchema#integer&gt;  ) &amp;&amp; (  ?var3  &lt;= \"5\"^^&lt;http://www.w3.org/2001/XMLSchema#integer&gt;  ) ) \\n) .\\n  ?var4  &lt;http://schema.org/about&gt;  ?var1 .\\n  ?var4  &lt;http://schema.org/inLanguage&gt;  \"es\".\\n  ?var4  &lt;http://schema.org/isPartOf&gt;  &lt;https://es.wikipedia.org/&gt; .\\n}\\n</td>\n      <td>&lt;rdflib.plugins.sparql.sparql.Query object at 0x7f26c0857050&gt;</td>\n      <td>&lt;__main__.FilterVisitor object at 0x7f26f3dd9c10&gt;</td>\n      <td>4</td>\n      <td>1</td>\n      <td>0</td>\n      <td>0</td>\n      <td>1</td>\n      <td>1</td>\n      <td>0</td>\n      <td>0</td>\n      <td>1</td>\n      <td>2</td>\n      <td>0</td>\n      <td>0</td>\n      <td>1</td>\n      <td>0</td>\n      <td>0</td>\n      <td>0</td>\n      <td>0</td>\n      <td>0</td>\n      <td>True</td>\n      <td>True</td>\n      <td>False</td>\n      <td>False</td>\n      <td>True</td>\n      <td>True</td>\n      <td>False</td>\n      <td>False</td>\n      <td>True</td>\n      <td>True</td>\n      <td>False</td>\n      <td>False</td>\n      <td>True</td>\n      <td>False</td>\n      <td>False</td>\n      <td>False</td>\n      <td>False</td>\n      <td>False</td>\n    </tr>\n    <tr>\n      <th>2</th>\n      <td>SELECT+%3Fvar1++%3Fvar1Label+%28+COUNT+%28+DISTINCT++%3Fvar2++%29+AS++%3Fvar3++%29%0AWHERE+%7B%0A++%3Fvar2++%3Chttp%3A%2F%2Fwww.wikidata.org%2Fprop%2Fdirect%2FP19%3E++%3Fvar1+%3B%0A%28+%3Chttp%3A%2F%2Fwww.wikidata.org%2Fprop%2Fdirect%2FP106%3E+%2F+%3Chttp%3A%2F%2Fwww.wikidata.org%2Fprop%2Fdirect%2FP279%3E+*%29+%3Chttp%3A%2F%2Fwww.wikidata.org%2Fentity%2FQ901%3E+.%0A++%3Fvar1+%28+%3Chttp%3A%2F%2Fwww.wikidata.org%2Fprop%2Fdirect%2FP17%3E+*%2F+%3Chttp%3A%2F%2Fwww.wikidata.org%2Fprop%2Fdirect%2FP30%3E+%29+%3Chttp%3A%2F%2Fwww.wikidata.org%2Fentity%2FQ46%3E+.%0A+SERVICE++%3Chttp%3A%2F%2Fwikiba.se%2Fontology%23label%3E+++%7B%0A++++%3Chttp%3A%2F%2Fwww.bigdata.com%2Frdf%23serviceParam%3E++%3Chttp%3A%2F%2Fwikiba.se%2Fontology%23language%3E++%22en%22.%0A++%7D%0A%7D%0AGROUP+BY++%3Fvar1++%3Fvar1Label+%0AORDER+BY++DESC%28+%3Fvar3+%29%0ALIMIT+10%0A</td>\n      <td>2018-02-26 00:04:19</td>\n      <td>organic</td>\n      <td>browser</td>\n      <td>../BadRequeteCrypt/I7_status500_Joined.tsv</td>\n      <td>7</td>\n      <td>SELECT ?var1  ?var1Label ( COUNT ( DISTINCT  ?var2  ) AS  ?var3  )\\nWHERE {\\n  ?var2  &lt;http://www.wikidata.org/prop/direct/P19&gt;  ?var1 ;\\n( &lt;http://www.wikidata.org/prop/direct/P106&gt; / &lt;http://www.wikidata.org/prop/direct/P279&gt;*) &lt;http://www.wikidata.org/entity/Q901&gt; .\\n  ?var1 ( &lt;http://www.wikidata.org/prop/direct/P17&gt;*/ &lt;http://www.wikidata.org/prop/direct/P30&gt; ) &lt;http://www.wikidata.org/entity/Q46&gt; .\\n SERVICE  &lt;http://wikiba.se/ontology#label&gt;   {\\n    &lt;http://www.bigdata.com/rdf#serviceParam&gt;  &lt;http://wikiba.se/ontology#language&gt;  \"en\".\\n  }\\n}\\nGROUP BY  ?var1  ?var1Label \\nORDER BY  DESC( ?var3 )\\nLIMIT 10\\n</td>\n      <td>&lt;rdflib.plugins.sparql.sparql.Query object at 0x7f26c06eac90&gt;</td>\n      <td>&lt;__main__.FilterVisitor object at 0x7f26f3dd9f50&gt;</td>\n      <td>7</td>\n      <td>0</td>\n      <td>1</td>\n      <td>1</td>\n      <td>1</td>\n      <td>0</td>\n      <td>0</td>\n      <td>0</td>\n      <td>1</td>\n      <td>1</td>\n      <td>0</td>\n      <td>0</td>\n      <td>1</td>\n      <td>0</td>\n      <td>0</td>\n      <td>1</td>\n      <td>1</td>\n      <td>1</td>\n      <td>True</td>\n      <td>False</td>\n      <td>True</td>\n      <td>True</td>\n      <td>True</td>\n      <td>False</td>\n      <td>False</td>\n      <td>False</td>\n      <td>True</td>\n      <td>True</td>\n      <td>False</td>\n      <td>False</td>\n      <td>True</td>\n      <td>False</td>\n      <td>False</td>\n      <td>True</td>\n      <td>True</td>\n      <td>True</td>\n    </tr>\n    <tr>\n      <th>3</th>\n      <td>SELECT+%3Fvar1++%3Fvar1Label++%3Fvar2++%3Fvar2Label++%3Fvar3++%3Fvar3Label+%0AWHERE+%7B%0A+SERVICE++%3Chttp%3A%2F%2Fwikiba.se%2Fontology%23label%3E+++%7B%0A++++%3Chttp%3A%2F%2Fwww.bigdata.com%2Frdf%23serviceParam%3E++%3Chttp%3A%2F%2Fwikiba.se%2Fontology%23language%3E++%22en%2Cen%22.%0A++%7D%0A++%3Fvar1++%3Chttp%3A%2F%2Fwww.wikidata.org%2Fprop%2Fdirect%2FP31%3E++%3Chttp%3A%2F%2Fwww.wikidata.org%2Fentity%2FQ215380%3E+.%0A+OPTIONAL+%7B%0A++%3Fvar4++%3Chttp%3A%2F%2Fwww.wikidata.org%2Fprop%2Fdirect%2FP136%3E++%3Fvar2+.%0A+%7D%0A+OPTIONAL+%7B%0A++%3Fvar4++%3Chttp%3A%2F%2Fwww.wikidata.org%2Fprop%2Fdirect%2FP264%3E++%3Fvar3+.%0A+%7D%0A%7D%0ALIMIT+10%0A</td>\n      <td>2018-02-26 00:04:34</td>\n      <td>organic</td>\n      <td>browser</td>\n      <td>../BadRequeteCrypt/I7_status500_Joined.tsv</td>\n      <td>7</td>\n      <td>SELECT ?var1  ?var1Label  ?var2  ?var2Label  ?var3  ?var3Label \\nWHERE {\\n SERVICE  &lt;http://wikiba.se/ontology#label&gt;   {\\n    &lt;http://www.bigdata.com/rdf#serviceParam&gt;  &lt;http://wikiba.se/ontology#language&gt;  \"en,en\".\\n  }\\n  ?var1  &lt;http://www.wikidata.org/prop/direct/P31&gt;  &lt;http://www.wikidata.org/entity/Q215380&gt; .\\n OPTIONAL {\\n  ?var4  &lt;http://www.wikidata.org/prop/direct/P136&gt;  ?var2 .\\n }\\n OPTIONAL {\\n  ?var4  &lt;http://www.wikidata.org/prop/direct/P264&gt;  ?var3 .\\n }\\n}\\nLIMIT 10\\n</td>\n      <td>&lt;rdflib.plugins.sparql.sparql.Query object at 0x7f26be2b3890&gt;</td>\n      <td>&lt;__main__.FilterVisitor object at 0x7f26f3dd9bd0&gt;</td>\n      <td>7</td>\n      <td>0</td>\n      <td>0</td>\n      <td>1</td>\n      <td>1</td>\n      <td>0</td>\n      <td>0</td>\n      <td>0</td>\n      <td>1</td>\n      <td>3</td>\n      <td>0</td>\n      <td>0</td>\n      <td>1</td>\n      <td>0</td>\n      <td>0</td>\n      <td>0</td>\n      <td>1</td>\n      <td>1</td>\n      <td>True</td>\n      <td>False</td>\n      <td>False</td>\n      <td>True</td>\n      <td>True</td>\n      <td>False</td>\n      <td>False</td>\n      <td>False</td>\n      <td>True</td>\n      <td>True</td>\n      <td>False</td>\n      <td>False</td>\n      <td>True</td>\n      <td>False</td>\n      <td>False</td>\n      <td>False</td>\n      <td>True</td>\n      <td>True</td>\n    </tr>\n    <tr>\n      <th>4</th>\n      <td>SELECT+%3Fvar1++%3Fvar2++%3Fvar3+%0AWHERE+%7B%0A++%3Fvar1+%28+%3Chttp%3A%2F%2Fwww.wikidata.org%2Fprop%2Fdirect%2FP31%3E+%2F+%3Chttp%3A%2F%2Fwww.wikidata.org%2Fprop%2Fdirect%2FP279%3E+*%29+%3Chttp%3A%2F%2Fwww.wikidata.org%2Fentity%2FQ1190554%3E+.%0A++%3Fvar1++%3Chttp%3A%2F%2Fwww.wikidata.org%2Fprop%2Fdirect%2FP585%3E++%3Fvar2+.%0A++%3Fvar3++%3Chttp%3A%2F%2Fschema.org%2Fabout%3E++%3Fvar1+.%0A++%3Fvar3++%3Chttp%3A%2F%2Fschema.org%2FisPartOf%3E++%3Chttps%3A%2F%2Fen.wikipedia.org%2F%3E+.%0A+FILTER+%28++%28+%28++DATATYPE+%28++%3Fvar2++%29++%3D++%3Chttp%3A%2F%2Fwww.w3.org%2F2001%2FXMLSchema%23dateTime%3E++%29+%26%26+%28++MONTH+%28++%3Fvar2++%29++%3D++MONTH+%28++NOW+%28++%29++%29++%29+%26%26+%28++DAY+%28++%3Fvar2++%29++%3D++DAY+%28++NOW+%28++%29++%29++%29+%29+%0A%29+.%0A%7D%0AORDER+BY++DESC%28+%3Fvar2+%29%0ALIMIT+5%0A</td>\n      <td>2018-02-26 00:04:45</td>\n      <td>robotic</td>\n      <td>UNKNOWN</td>\n      <td>../BadRequeteCrypt/I7_status500_Joined.tsv</td>\n      <td>7</td>\n      <td>SELECT ?var1  ?var2  ?var3 \\nWHERE {\\n  ?var1 ( &lt;http://www.wikidata.org/prop/direct/P31&gt; / &lt;http://www.wikidata.org/prop/direct/P279&gt;*) &lt;http://www.wikidata.org/entity/Q1190554&gt; .\\n  ?var1  &lt;http://www.wikidata.org/prop/direct/P585&gt;  ?var2 .\\n  ?var3  &lt;http://schema.org/about&gt;  ?var1 .\\n  ?var3  &lt;http://schema.org/isPartOf&gt;  &lt;https://en.wikipedia.org/&gt; .\\n FILTER (  ( (  DATATYPE (  ?var2  )  =  &lt;http://www.w3.org/2001/XMLSchema#dateTime&gt;  ) &amp;&amp; (  MONTH (  ?var2  )  =  MONTH (  NOW (  )  )  ) &amp;&amp; (  DAY (  ?var2  )  =  DAY (  NOW (  )  )  ) ) \\n) .\\n}\\nORDER BY  DESC( ?var2 )\\nLIMIT 5\\n</td>\n      <td>&lt;rdflib.plugins.sparql.sparql.Query object at 0x7f26c0693710&gt;</td>\n      <td>&lt;__main__.FilterVisitor object at 0x7f26c07c6210&gt;</td>\n      <td>3</td>\n      <td>1</td>\n      <td>1</td>\n      <td>1</td>\n      <td>1</td>\n      <td>0</td>\n      <td>0</td>\n      <td>0</td>\n      <td>0</td>\n      <td>1</td>\n      <td>0</td>\n      <td>0</td>\n      <td>1</td>\n      <td>0</td>\n      <td>0</td>\n      <td>0</td>\n      <td>1</td>\n      <td>1</td>\n      <td>True</td>\n      <td>True</td>\n      <td>True</td>\n      <td>True</td>\n      <td>True</td>\n      <td>False</td>\n      <td>False</td>\n      <td>False</td>\n      <td>False</td>\n      <td>True</td>\n      <td>False</td>\n      <td>False</td>\n      <td>True</td>\n      <td>False</td>\n      <td>False</td>\n      <td>False</td>\n      <td>True</td>\n      <td>True</td>\n    </tr>\n    <tr>\n      <th>5</th>\n      <td>SELECT+DISTINCT+%3Fvar1+%0AWHERE+%7B%0A++BIND+%28++%28++NOW+%28++%29+-+%3Fvar2++%29++AS++%3Fvar3+%29.%0A++%3Fvar1++%3Chttp%3A%2F%2Fwww.wikidata.org%2Fprop%2Fdirect%2FP570%3E++%3Fvar2+.%0A+FILTER+%28++%28+%28++%3Fvar3++%3E%3D+%220%22%5E%5E%3Chttp%3A%2F%2Fwww.w3.org%2F2001%2FXMLSchema%23integer%3E++%29+%26%26+%28++%3Fvar3++%3C%3D+%225%22%5E%5E%3Chttp%3A%2F%2Fwww.w3.org%2F2001%2FXMLSchema%23integer%3E++%29+%29+%0A%29+.%0A++%3Fvar4++%3Chttp%3A%2F%2Fschema.org%2Fabout%3E++%3Fvar1+.%0A++%3Fvar4++%3Chttp%3A%2F%2Fschema.org%2FinLanguage%3E++%22es%22.%0A++%3Fvar4++%3Chttp%3A%2F%2Fschema.org%2FisPartOf%3E++%3Chttps%3A%2F%2Fes.wikipedia.org%2F%3E+.%0A%7D%0A</td>\n      <td>2018-02-26 00:06:14</td>\n      <td>robotic</td>\n      <td>UNKNOWN</td>\n      <td>../BadRequeteCrypt/I7_status500_Joined.tsv</td>\n      <td>7</td>\n      <td>SELECT DISTINCT ?var1 \\nWHERE {\\n  BIND (  (  NOW (  ) - ?var2  )  AS  ?var3 ).\\n  ?var1  &lt;http://www.wikidata.org/prop/direct/P570&gt;  ?var2 .\\n FILTER (  ( (  ?var3  &gt;= \"0\"^^&lt;http://www.w3.org/2001/XMLSchema#integer&gt;  ) &amp;&amp; (  ?var3  &lt;= \"5\"^^&lt;http://www.w3.org/2001/XMLSchema#integer&gt;  ) ) \\n) .\\n  ?var4  &lt;http://schema.org/about&gt;  ?var1 .\\n  ?var4  &lt;http://schema.org/inLanguage&gt;  \"es\".\\n  ?var4  &lt;http://schema.org/isPartOf&gt;  &lt;https://es.wikipedia.org/&gt; .\\n}\\n</td>\n      <td>&lt;rdflib.plugins.sparql.sparql.Query object at 0x7f26be26b590&gt;</td>\n      <td>&lt;__main__.FilterVisitor object at 0x7f26f3dd9d90&gt;</td>\n      <td>4</td>\n      <td>1</td>\n      <td>0</td>\n      <td>0</td>\n      <td>1</td>\n      <td>1</td>\n      <td>0</td>\n      <td>0</td>\n      <td>1</td>\n      <td>2</td>\n      <td>0</td>\n      <td>0</td>\n      <td>1</td>\n      <td>0</td>\n      <td>0</td>\n      <td>0</td>\n      <td>0</td>\n      <td>0</td>\n      <td>True</td>\n      <td>True</td>\n      <td>False</td>\n      <td>False</td>\n      <td>True</td>\n      <td>True</td>\n      <td>False</td>\n      <td>False</td>\n      <td>True</td>\n      <td>True</td>\n      <td>False</td>\n      <td>False</td>\n      <td>True</td>\n      <td>False</td>\n      <td>False</td>\n      <td>False</td>\n      <td>False</td>\n      <td>False</td>\n    </tr>\n    <tr>\n      <th>6</th>\n      <td>SELECT+DISTINCT+%3Fvar1Label++%3Fvar2Label++%3Fvar1+%0AWHERE+%7B%0A++%3Fvar1+%28+%3Chttp%3A%2F%2Fwww.wikidata.org%2Fprop%2Fdirect%2FP31%3E+%2F+%3Chttp%3A%2F%2Fwww.wikidata.org%2Fprop%2Fdirect%2FP279%3E+*%29+%3Chttp%3A%2F%2Fwww.wikidata.org%2Fentity%2FQ6999%3E+.%0A+OPTIONAL+%7B%0A++%3Fvar1++%3Chttp%3A%2F%2Fwww.wikidata.org%2Fprop%2Fdirect%2FP31%3E++%3Fvar2+.%0A+FILTER+%28++%28+%28++%3Fvar2++%21%3D++%3Chttp%3A%2F%2Fwww.wikidata.org%2Fentity%2FQ6999%3E++%29+%29+%0A%29+.%0A+%7D%0A+SERVICE++%3Chttp%3A%2F%2Fwikiba.se%2Fontology%23label%3E+++%7B%0A++++%3Chttp%3A%2F%2Fwww.bigdata.com%2Frdf%23serviceParam%3E++%3Chttp%3A%2F%2Fwikiba.se%2Fontology%23language%3E++%22en%22.%0A++%7D%0A%7D%0AORDER+BY+ASC%28+%3Fvar2Label+%29ASC%28+%3Fvar1Label+%29%0A</td>\n      <td>2018-02-26 00:06:39</td>\n      <td>organic</td>\n      <td>browser</td>\n      <td>../BadRequeteCrypt/I7_status500_Joined.tsv</td>\n      <td>7</td>\n      <td>SELECT DISTINCT ?var1Label  ?var2Label  ?var1 \\nWHERE {\\n  ?var1 ( &lt;http://www.wikidata.org/prop/direct/P31&gt; / &lt;http://www.wikidata.org/prop/direct/P279&gt;*) &lt;http://www.wikidata.org/entity/Q6999&gt; .\\n OPTIONAL {\\n  ?var1  &lt;http://www.wikidata.org/prop/direct/P31&gt;  ?var2 .\\n FILTER (  ( (  ?var2  !=  &lt;http://www.wikidata.org/entity/Q6999&gt;  ) ) \\n) .\\n }\\n SERVICE  &lt;http://wikiba.se/ontology#label&gt;   {\\n    &lt;http://www.bigdata.com/rdf#serviceParam&gt;  &lt;http://wikiba.se/ontology#language&gt;  \"en\".\\n  }\\n}\\nORDER BY ASC( ?var2Label )ASC( ?var1Label )\\n</td>\n      <td>&lt;rdflib.plugins.sparql.sparql.Query object at 0x7f26c148fed0&gt;</td>\n      <td>&lt;__main__.FilterVisitor object at 0x7f26be2b3e90&gt;</td>\n      <td>4</td>\n      <td>0</td>\n      <td>1</td>\n      <td>0</td>\n      <td>1</td>\n      <td>1</td>\n      <td>0</td>\n      <td>0</td>\n      <td>1</td>\n      <td>2</td>\n      <td>0</td>\n      <td>0</td>\n      <td>1</td>\n      <td>0</td>\n      <td>0</td>\n      <td>0</td>\n      <td>0</td>\n      <td>0</td>\n      <td>True</td>\n      <td>False</td>\n      <td>True</td>\n      <td>False</td>\n      <td>True</td>\n      <td>True</td>\n      <td>False</td>\n      <td>False</td>\n      <td>True</td>\n      <td>True</td>\n      <td>False</td>\n      <td>False</td>\n      <td>True</td>\n      <td>False</td>\n      <td>False</td>\n      <td>False</td>\n      <td>False</td>\n      <td>False</td>\n    </tr>\n    <tr>\n      <th>7</th>\n      <td>SELECT+%3Fvar1++%3Fvar2++%3Fvar3+%0AWHERE+%7B%0A++%3Fvar1+%28+%3Chttp%3A%2F%2Fwww.wikidata.org%2Fprop%2Fdirect%2FP31%3E+%2F+%3Chttp%3A%2F%2Fwww.wikidata.org%2Fprop%2Fdirect%2FP279%3E+*%29+%3Chttp%3A%2F%2Fwww.wikidata.org%2Fentity%2FQ1190554%3E+.%0A++%3Fvar1++%3Chttp%3A%2F%2Fwww.wikidata.org%2Fprop%2Fdirect%2FP585%3E++%3Fvar2+.%0A++%3Fvar3++%3Chttp%3A%2F%2Fschema.org%2Fabout%3E++%3Fvar1+.%0A++%3Fvar3++%3Chttp%3A%2F%2Fschema.org%2FisPartOf%3E++%3Chttps%3A%2F%2Fen.wikipedia.org%2F%3E+.%0A+FILTER+%28++%28+%28++DATATYPE+%28++%3Fvar2++%29++%3D++%3Chttp%3A%2F%2Fwww.w3.org%2F2001%2FXMLSchema%23dateTime%3E++%29+%26%26+%28++MONTH+%28++%3Fvar2++%29++%3D++MONTH+%28++NOW+%28++%29++%29++%29+%26%26+%28++DAY+%28++%3Fvar2++%29++%3D++DAY+%28++NOW+%28++%29++%29++%29+%29+%0A%29+.%0A%7D%0AORDER+BY++DESC%28+%3Fvar2+%29%0ALIMIT+5%0A</td>\n      <td>2018-02-26 00:06:40</td>\n      <td>robotic</td>\n      <td>UNKNOWN</td>\n      <td>../BadRequeteCrypt/I7_status500_Joined.tsv</td>\n      <td>7</td>\n      <td>SELECT ?var1  ?var2  ?var3 \\nWHERE {\\n  ?var1 ( &lt;http://www.wikidata.org/prop/direct/P31&gt; / &lt;http://www.wikidata.org/prop/direct/P279&gt;*) &lt;http://www.wikidata.org/entity/Q1190554&gt; .\\n  ?var1  &lt;http://www.wikidata.org/prop/direct/P585&gt;  ?var2 .\\n  ?var3  &lt;http://schema.org/about&gt;  ?var1 .\\n  ?var3  &lt;http://schema.org/isPartOf&gt;  &lt;https://en.wikipedia.org/&gt; .\\n FILTER (  ( (  DATATYPE (  ?var2  )  =  &lt;http://www.w3.org/2001/XMLSchema#dateTime&gt;  ) &amp;&amp; (  MONTH (  ?var2  )  =  MONTH (  NOW (  )  )  ) &amp;&amp; (  DAY (  ?var2  )  =  DAY (  NOW (  )  )  ) ) \\n) .\\n}\\nORDER BY  DESC( ?var2 )\\nLIMIT 5\\n</td>\n      <td>&lt;rdflib.plugins.sparql.sparql.Query object at 0x7f26c06a1610&gt;</td>\n      <td>&lt;__main__.FilterVisitor object at 0x7f26be2b39d0&gt;</td>\n      <td>3</td>\n      <td>1</td>\n      <td>1</td>\n      <td>1</td>\n      <td>1</td>\n      <td>0</td>\n      <td>0</td>\n      <td>0</td>\n      <td>0</td>\n      <td>1</td>\n      <td>0</td>\n      <td>0</td>\n      <td>1</td>\n      <td>0</td>\n      <td>0</td>\n      <td>0</td>\n      <td>1</td>\n      <td>1</td>\n      <td>True</td>\n      <td>True</td>\n      <td>True</td>\n      <td>True</td>\n      <td>True</td>\n      <td>False</td>\n      <td>False</td>\n      <td>False</td>\n      <td>False</td>\n      <td>True</td>\n      <td>False</td>\n      <td>False</td>\n      <td>True</td>\n      <td>False</td>\n      <td>False</td>\n      <td>False</td>\n      <td>True</td>\n      <td>True</td>\n    </tr>\n    <tr>\n      <th>8</th>\n      <td>SELECT+%3Fvar1++%3Fvar2++%3Fvar3+%0AWHERE+%7B%0A++%3Fvar1+%28+%3Chttp%3A%2F%2Fwww.wikidata.org%2Fprop%2Fdirect%2FP31%3E+%2F+%3Chttp%3A%2F%2Fwww.wikidata.org%2Fprop%2Fdirect%2FP279%3E+*%29+%3Chttp%3A%2F%2Fwww.wikidata.org%2Fentity%2FQ1190554%3E+.%0A++%3Fvar1++%3Chttp%3A%2F%2Fwww.wikidata.org%2Fprop%2Fdirect%2FP585%3E++%3Fvar2+.%0A++%3Fvar3++%3Chttp%3A%2F%2Fschema.org%2Fabout%3E++%3Fvar1+.%0A++%3Fvar3++%3Chttp%3A%2F%2Fschema.org%2FisPartOf%3E++%3Chttps%3A%2F%2Fen.wikipedia.org%2F%3E+.%0A+FILTER+%28++%28+%28++DATATYPE+%28++%3Fvar2++%29++%3D++%3Chttp%3A%2F%2Fwww.w3.org%2F2001%2FXMLSchema%23dateTime%3E++%29+%26%26+%28++MONTH+%28++%3Fvar2++%29++%3D++MONTH+%28++NOW+%28++%29++%29++%29+%26%26+%28++DAY+%28++%3Fvar2++%29++%3D++DAY+%28++NOW+%28++%29++%29++%29+%29+%0A%29+.%0A%7D%0AORDER+BY++DESC%28+%3Fvar2+%29%0ALIMIT+5%0A</td>\n      <td>2018-02-26 00:09:46</td>\n      <td>robotic</td>\n      <td>UNKNOWN</td>\n      <td>../BadRequeteCrypt/I7_status500_Joined.tsv</td>\n      <td>7</td>\n      <td>SELECT ?var1  ?var2  ?var3 \\nWHERE {\\n  ?var1 ( &lt;http://www.wikidata.org/prop/direct/P31&gt; / &lt;http://www.wikidata.org/prop/direct/P279&gt;*) &lt;http://www.wikidata.org/entity/Q1190554&gt; .\\n  ?var1  &lt;http://www.wikidata.org/prop/direct/P585&gt;  ?var2 .\\n  ?var3  &lt;http://schema.org/about&gt;  ?var1 .\\n  ?var3  &lt;http://schema.org/isPartOf&gt;  &lt;https://en.wikipedia.org/&gt; .\\n FILTER (  ( (  DATATYPE (  ?var2  )  =  &lt;http://www.w3.org/2001/XMLSchema#dateTime&gt;  ) &amp;&amp; (  MONTH (  ?var2  )  =  MONTH (  NOW (  )  )  ) &amp;&amp; (  DAY (  ?var2  )  =  DAY (  NOW (  )  )  ) ) \\n) .\\n}\\nORDER BY  DESC( ?var2 )\\nLIMIT 5\\n</td>\n      <td>&lt;rdflib.plugins.sparql.sparql.Query object at 0x7f26c06f9650&gt;</td>\n      <td>&lt;__main__.FilterVisitor object at 0x7f26c0436650&gt;</td>\n      <td>3</td>\n      <td>1</td>\n      <td>1</td>\n      <td>1</td>\n      <td>1</td>\n      <td>0</td>\n      <td>0</td>\n      <td>0</td>\n      <td>0</td>\n      <td>1</td>\n      <td>0</td>\n      <td>0</td>\n      <td>1</td>\n      <td>0</td>\n      <td>0</td>\n      <td>0</td>\n      <td>1</td>\n      <td>1</td>\n      <td>True</td>\n      <td>True</td>\n      <td>True</td>\n      <td>True</td>\n      <td>True</td>\n      <td>False</td>\n      <td>False</td>\n      <td>False</td>\n      <td>False</td>\n      <td>True</td>\n      <td>False</td>\n      <td>False</td>\n      <td>True</td>\n      <td>False</td>\n      <td>False</td>\n      <td>False</td>\n      <td>True</td>\n      <td>True</td>\n    </tr>\n    <tr>\n      <th>...</th>\n      <td>...</td>\n      <td>...</td>\n      <td>...</td>\n      <td>...</td>\n      <td>...</td>\n      <td>...</td>\n      <td>...</td>\n      <td>...</td>\n      <td>...</td>\n      <td>...</td>\n      <td>...</td>\n      <td>...</td>\n      <td>...</td>\n      <td>...</td>\n      <td>...</td>\n      <td>...</td>\n      <td>...</td>\n      <td>...</td>\n      <td>...</td>\n      <td>...</td>\n      <td>...</td>\n      <td>...</td>\n      <td>...</td>\n      <td>...</td>\n      <td>...</td>\n      <td>...</td>\n      <td>...</td>\n      <td>...</td>\n      <td>...</td>\n      <td>...</td>\n      <td>...</td>\n      <td>...</td>\n      <td>...</td>\n      <td>...</td>\n      <td>...</td>\n      <td>...</td>\n      <td>...</td>\n      <td>...</td>\n      <td>...</td>\n      <td>...</td>\n      <td>...</td>\n      <td>...</td>\n      <td>...</td>\n      <td>...</td>\n      <td>...</td>\n    </tr>\n    <tr>\n      <th>25658</th>\n      <td>SELECT%28++%3Fvar1++AS++%3Fvar2++%29%0AWHERE+%7B%0A++%3Chttp%3A%2F%2Fwww.wikidata.org%2Fentity%2FQ211907%3E+%28+%3Chttp%3A%2F%2Fwww.wikidata.org%2Fprop%2Fdirect%2FP131%3E+%2F+%3Chttp%3A%2F%2Fwww.wikidata.org%2Fprop%2Fdirect%2FP131%3E+*%29+%3Fvar3+.%0A++%3Fvar3+%28+%3Chttp%3A%2F%2Fwww.wikidata.org%2Fprop%2Fdirect%2FP31%3E+%2F+%3Chttp%3A%2F%2Fwww.wikidata.org%2Fprop%2Fdirect%2FP279%3E+*%29+%3Chttp%3A%2F%2Fwww.wikidata.org%2Fentity%2FQ10864048%3E+.%0A++%3Fvar1+%28+%3Chttp%3A%2F%2Fwww.wikidata.org%2Fprop%2Fdirect%2FP131%3E+%2F+%3Chttp%3A%2F%2Fwww.wikidata.org%2Fprop%2Fdirect%2FP131%3E+*%29+%3Fvar3+.%0A++%3Fvar1+%28+%3Chttp%3A%2F%2Fwww.wikidata.org%2Fprop%2Fdirect%2FP31%3E+%2F+%3Chttp%3A%2F%2Fwww.wikidata.org%2Fprop%2Fdirect%2FP279%3E+*%29+%3Chttp%3A%2F%2Fwww.wikidata.org%2Fentity%2FQ13220204%3E+.%0A+SERVICE++%3Chttp%3A%2F%2Fwikiba.se%2Fontology%23label%3E+++%7B%0A++++%3Chttp%3A%2F%2Fwww.bigdata.com%2Frdf%23serviceParam%3E++%3Chttp%3A%2F%2Fwikiba.se%2Fontology%23language%3E++%22fi%22.%0A++%7D%0A+FILTER+%28++%28++NOT+EXISTS++%7B%0A+++%3Fvar1+%28+%3Chttp%3A%2F%2Fwww.wikidata.org%2Fprop%2Fdirect%2FP31%3E+%2F+%3Chttp%3A%2F%2Fwww.wikidata.org%2Fprop%2Fdirect%2FP279%3E+*%29+%3Chttp%3A%2F%2Fwww.wikidata.org%2Fentity%2FQ19953632%3E+.%0A+%7D%0A+%29+%0A%29+.%0A%7D%0AGROUP+BY++%3Fvar1+%0A</td>\n      <td>2018-03-25 23:32:09</td>\n      <td>robotic</td>\n      <td>UNKNOWN</td>\n      <td>../BadRequeteCrypt/I7_status500_Joined.tsv</td>\n      <td>7</td>\n      <td>SELECT(  ?var1  AS  ?var2  )\\nWHERE {\\n  &lt;http://www.wikidata.org/entity/Q211907&gt; ( &lt;http://www.wikidata.org/prop/direct/P131&gt; / &lt;http://www.wikidata.org/prop/direct/P131&gt;*) ?var3 .\\n  ?var3 ( &lt;http://www.wikidata.org/prop/direct/P31&gt; / &lt;http://www.wikidata.org/prop/direct/P279&gt;*) &lt;http://www.wikidata.org/entity/Q10864048&gt; .\\n  ?var1 ( &lt;http://www.wikidata.org/prop/direct/P131&gt; / &lt;http://www.wikidata.org/prop/direct/P131&gt;*) ?var3 .\\n  ?var1 ( &lt;http://www.wikidata.org/prop/direct/P31&gt; / &lt;http://www.wikidata.org/prop/direct/P279&gt;*) &lt;http://www.wikidata.org/entity/Q13220204&gt; .\\n SERVICE  &lt;http://wikiba.se/ontology#label&gt;   {\\n    &lt;http://www.bigdata.com/rdf#serviceParam&gt;  &lt;http://wikiba.se/ontology#language&gt;  \"fi\".\\n  }\\n FILTER (  (  NOT EXISTS  {\\n   ?var1 ( &lt;http://www.wikidata.org/prop/direct/P31&gt; / &lt;http://www.wikidata.org/prop/direct/P279&gt;*) &lt;http://www.wikidata.org/entity/Q19953632&gt; .\\n }\\n ) \\n) .\\n}\\nGROUP BY  ?var1 \\n</td>\n      <td>&lt;rdflib.plugins.sparql.sparql.Query object at 0x7f2680eda1d0&gt;</td>\n      <td>&lt;__main__.FilterVisitor object at 0x7f2686186f10&gt;</td>\n      <td>4</td>\n      <td>1</td>\n      <td>0</td>\n      <td>0</td>\n      <td>1</td>\n      <td>0</td>\n      <td>0</td>\n      <td>0</td>\n      <td>1</td>\n      <td>1</td>\n      <td>0</td>\n      <td>0</td>\n      <td>1</td>\n      <td>0</td>\n      <td>0</td>\n      <td>1</td>\n      <td>0</td>\n      <td>0</td>\n      <td>True</td>\n      <td>True</td>\n      <td>False</td>\n      <td>False</td>\n      <td>True</td>\n      <td>False</td>\n      <td>False</td>\n      <td>False</td>\n      <td>True</td>\n      <td>True</td>\n      <td>False</td>\n      <td>False</td>\n      <td>True</td>\n      <td>False</td>\n      <td>False</td>\n      <td>True</td>\n      <td>False</td>\n      <td>False</td>\n    </tr>\n    <tr>\n      <th>25659</th>\n      <td>SELECT%28++%3Fvar1++AS++%3Fvar2++%29%0AWHERE+%7B%0A++%3Chttp%3A%2F%2Fwww.wikidata.org%2Fentity%2FQ211907%3E+%28+%3Chttp%3A%2F%2Fwww.wikidata.org%2Fprop%2Fdirect%2FP131%3E+%2F+%3Chttp%3A%2F%2Fwww.wikidata.org%2Fprop%2Fdirect%2FP131%3E+*%29+%3Fvar3+.%0A++%3Fvar3+%28+%3Chttp%3A%2F%2Fwww.wikidata.org%2Fprop%2Fdirect%2FP31%3E+%2F+%3Chttp%3A%2F%2Fwww.wikidata.org%2Fprop%2Fdirect%2FP279%3E+*%29+%3Chttp%3A%2F%2Fwww.wikidata.org%2Fentity%2FQ10864048%3E+.%0A++%3Fvar1+%28+%3Chttp%3A%2F%2Fwww.wikidata.org%2Fprop%2Fdirect%2FP131%3E+%2F+%3Chttp%3A%2F%2Fwww.wikidata.org%2Fprop%2Fdirect%2FP131%3E+*%29+%3Fvar3+.%0A++%3Fvar1+%28+%3Chttp%3A%2F%2Fwww.wikidata.org%2Fprop%2Fdirect%2FP31%3E+%2F+%3Chttp%3A%2F%2Fwww.wikidata.org%2Fprop%2Fdirect%2FP279%3E+*%29+%3Chttp%3A%2F%2Fwww.wikidata.org%2Fentity%2FQ13221722%3E+.%0A+SERVICE++%3Chttp%3A%2F%2Fwikiba.se%2Fontology%23label%3E+++%7B%0A++++%3Chttp%3A%2F%2Fwww.bigdata.com%2Frdf%23serviceParam%3E++%3Chttp%3A%2F%2Fwikiba.se%2Fontology%23language%3E++%22fi%22.%0A++%7D%0A+FILTER+%28++%28++NOT+EXISTS++%7B%0A+++%3Fvar1+%28+%3Chttp%3A%2F%2Fwww.wikidata.org%2Fprop%2Fdirect%2FP31%3E+%2F+%3Chttp%3A%2F%2Fwww.wikidata.org%2Fprop%2Fdirect%2FP279%3E+*%29+%3Chttp%3A%2F%2Fwww.wikidata.org%2Fentity%2FQ19953632%3E+.%0A+%7D%0A+%29+%0A%29+.%0A%7D%0AGROUP+BY++%3Fvar1+%0A</td>\n      <td>2018-03-25 23:32:09</td>\n      <td>robotic</td>\n      <td>UNKNOWN</td>\n      <td>../BadRequeteCrypt/I7_status500_Joined.tsv</td>\n      <td>7</td>\n      <td>SELECT(  ?var1  AS  ?var2  )\\nWHERE {\\n  &lt;http://www.wikidata.org/entity/Q211907&gt; ( &lt;http://www.wikidata.org/prop/direct/P131&gt; / &lt;http://www.wikidata.org/prop/direct/P131&gt;*) ?var3 .\\n  ?var3 ( &lt;http://www.wikidata.org/prop/direct/P31&gt; / &lt;http://www.wikidata.org/prop/direct/P279&gt;*) &lt;http://www.wikidata.org/entity/Q10864048&gt; .\\n  ?var1 ( &lt;http://www.wikidata.org/prop/direct/P131&gt; / &lt;http://www.wikidata.org/prop/direct/P131&gt;*) ?var3 .\\n  ?var1 ( &lt;http://www.wikidata.org/prop/direct/P31&gt; / &lt;http://www.wikidata.org/prop/direct/P279&gt;*) &lt;http://www.wikidata.org/entity/Q13221722&gt; .\\n SERVICE  &lt;http://wikiba.se/ontology#label&gt;   {\\n    &lt;http://www.bigdata.com/rdf#serviceParam&gt;  &lt;http://wikiba.se/ontology#language&gt;  \"fi\".\\n  }\\n FILTER (  (  NOT EXISTS  {\\n   ?var1 ( &lt;http://www.wikidata.org/prop/direct/P31&gt; / &lt;http://www.wikidata.org/prop/direct/P279&gt;*) &lt;http://www.wikidata.org/entity/Q19953632&gt; .\\n }\\n ) \\n) .\\n}\\nGROUP BY  ?var1 \\n</td>\n      <td>&lt;rdflib.plugins.sparql.sparql.Query object at 0x7f268102b290&gt;</td>\n      <td>&lt;__main__.FilterVisitor object at 0x7f2685f77890&gt;</td>\n      <td>4</td>\n      <td>1</td>\n      <td>0</td>\n      <td>0</td>\n      <td>1</td>\n      <td>0</td>\n      <td>0</td>\n      <td>0</td>\n      <td>1</td>\n      <td>1</td>\n      <td>0</td>\n      <td>0</td>\n      <td>1</td>\n      <td>0</td>\n      <td>0</td>\n      <td>1</td>\n      <td>0</td>\n      <td>0</td>\n      <td>True</td>\n      <td>True</td>\n      <td>False</td>\n      <td>False</td>\n      <td>True</td>\n      <td>False</td>\n      <td>False</td>\n      <td>False</td>\n      <td>True</td>\n      <td>True</td>\n      <td>False</td>\n      <td>False</td>\n      <td>True</td>\n      <td>False</td>\n      <td>False</td>\n      <td>True</td>\n      <td>False</td>\n      <td>False</td>\n    </tr>\n    <tr>\n      <th>25660</th>\n      <td>SELECT%28++%3Fvar1++AS++%3Fvar2++%29%0AWHERE+%7B%0A++%3Chttp%3A%2F%2Fwww.wikidata.org%2Fentity%2FQ211907%3E+%28+%3Chttp%3A%2F%2Fwww.wikidata.org%2Fprop%2Fdirect%2FP131%3E+%2F+%3Chttp%3A%2F%2Fwww.wikidata.org%2Fprop%2Fdirect%2FP131%3E+*%29+%3Fvar3+.%0A++%3Fvar3+%28+%3Chttp%3A%2F%2Fwww.wikidata.org%2Fprop%2Fdirect%2FP31%3E+%2F+%3Chttp%3A%2F%2Fwww.wikidata.org%2Fprop%2Fdirect%2FP279%3E+*%29+%3Chttp%3A%2F%2Fwww.wikidata.org%2Fentity%2FQ10864048%3E+.%0A++%3Fvar1+%28+%3Chttp%3A%2F%2Fwww.wikidata.org%2Fprop%2Fdirect%2FP131%3E+%2F+%3Chttp%3A%2F%2Fwww.wikidata.org%2Fprop%2Fdirect%2FP131%3E+*%29+%3Fvar3+.%0A++%3Fvar1+%28+%3Chttp%3A%2F%2Fwww.wikidata.org%2Fprop%2Fdirect%2FP31%3E+%2F+%3Chttp%3A%2F%2Fwww.wikidata.org%2Fprop%2Fdirect%2FP279%3E+*%29+%3Chttp%3A%2F%2Fwww.wikidata.org%2Fentity%2FQ13221722%3E+.%0A+SERVICE++%3Chttp%3A%2F%2Fwikiba.se%2Fontology%23label%3E+++%7B%0A++++%3Chttp%3A%2F%2Fwww.bigdata.com%2Frdf%23serviceParam%3E++%3Chttp%3A%2F%2Fwikiba.se%2Fontology%23language%3E++%22fi%22.%0A++%7D%0A+FILTER+%28++%28++NOT+EXISTS++%7B%0A+++%3Fvar1+%28+%3Chttp%3A%2F%2Fwww.wikidata.org%2Fprop%2Fdirect%2FP31%3E+%2F+%3Chttp%3A%2F%2Fwww.wikidata.org%2Fprop%2Fdirect%2FP279%3E+*%29+%3Chttp%3A%2F%2Fwww.wikidata.org%2Fentity%2FQ19953632%3E+.%0A+%7D%0A+%29+%0A%29+.%0A%7D%0AGROUP+BY++%3Fvar1+%0A</td>\n      <td>2018-03-25 23:32:09</td>\n      <td>robotic</td>\n      <td>UNKNOWN</td>\n      <td>../BadRequeteCrypt/I7_status500_Joined.tsv</td>\n      <td>7</td>\n      <td>SELECT(  ?var1  AS  ?var2  )\\nWHERE {\\n  &lt;http://www.wikidata.org/entity/Q211907&gt; ( &lt;http://www.wikidata.org/prop/direct/P131&gt; / &lt;http://www.wikidata.org/prop/direct/P131&gt;*) ?var3 .\\n  ?var3 ( &lt;http://www.wikidata.org/prop/direct/P31&gt; / &lt;http://www.wikidata.org/prop/direct/P279&gt;*) &lt;http://www.wikidata.org/entity/Q10864048&gt; .\\n  ?var1 ( &lt;http://www.wikidata.org/prop/direct/P131&gt; / &lt;http://www.wikidata.org/prop/direct/P131&gt;*) ?var3 .\\n  ?var1 ( &lt;http://www.wikidata.org/prop/direct/P31&gt; / &lt;http://www.wikidata.org/prop/direct/P279&gt;*) &lt;http://www.wikidata.org/entity/Q13221722&gt; .\\n SERVICE  &lt;http://wikiba.se/ontology#label&gt;   {\\n    &lt;http://www.bigdata.com/rdf#serviceParam&gt;  &lt;http://wikiba.se/ontology#language&gt;  \"fi\".\\n  }\\n FILTER (  (  NOT EXISTS  {\\n   ?var1 ( &lt;http://www.wikidata.org/prop/direct/P31&gt; / &lt;http://www.wikidata.org/prop/direct/P279&gt;*) &lt;http://www.wikidata.org/entity/Q19953632&gt; .\\n }\\n ) \\n) .\\n}\\nGROUP BY  ?var1 \\n</td>\n      <td>&lt;rdflib.plugins.sparql.sparql.Query object at 0x7f2680cab690&gt;</td>\n      <td>&lt;__main__.FilterVisitor object at 0x7f268b12bd10&gt;</td>\n      <td>4</td>\n      <td>1</td>\n      <td>0</td>\n      <td>0</td>\n      <td>1</td>\n      <td>0</td>\n      <td>0</td>\n      <td>0</td>\n      <td>1</td>\n      <td>1</td>\n      <td>0</td>\n      <td>0</td>\n      <td>1</td>\n      <td>0</td>\n      <td>0</td>\n      <td>1</td>\n      <td>0</td>\n      <td>0</td>\n      <td>True</td>\n      <td>True</td>\n      <td>False</td>\n      <td>False</td>\n      <td>True</td>\n      <td>False</td>\n      <td>False</td>\n      <td>False</td>\n      <td>True</td>\n      <td>True</td>\n      <td>False</td>\n      <td>False</td>\n      <td>True</td>\n      <td>False</td>\n      <td>False</td>\n      <td>True</td>\n      <td>False</td>\n      <td>False</td>\n    </tr>\n    <tr>\n      <th>25661</th>\n      <td>SELECT+%3Fvar1++%3Fvar2Label++%3Fvar1Label++%3Fvar3++%3Fvar4++%3Fvar4Label+%0AWHERE+%7B%0A++VALUES+%28++%3Fvar2++%29+%7B%0A+++%28++%3Chttp%3A%2F%2Fwww.wikidata.org%2Fentity%2FQ5608%3E++%29%0A++%7D%0A++%3Fvar1++%3Chttp%3A%2F%2Fwww.wikidata.org%2Fprop%2Fdirect%2FP175%3E++%3Fvar2+.%0A++%3Fvar1++%3Chttp%3A%2F%2Fwww.wikidata.org%2Fprop%2Fdirect%2FP577%3E++%3Fvar3+.%0A+SERVICE++%3Chttp%3A%2F%2Fwikiba.se%2Fontology%23label%3E+++%7B%0A++++%3Chttp%3A%2F%2Fwww.bigdata.com%2Frdf%23serviceParam%3E++%3Chttp%3A%2F%2Fwikiba.se%2Fontology%23language%3E++%22en%22.%0A++%7D%0A+OPTIONAL+%7B%0A++%3Fvar5++%3Chttp%3A%2F%2Fwww.wikidata.org%2Fprop%2Fdirect%2FP136%3E++%3Fvar4+.%0A+%7D%0A%7D%0A</td>\n      <td>2018-03-25 23:34:02</td>\n      <td>organic</td>\n      <td>browser</td>\n      <td>../BadRequeteCrypt/I7_status500_Joined.tsv</td>\n      <td>7</td>\n      <td>SELECT ?var1  ?var2Label  ?var1Label  ?var3  ?var4  ?var4Label \\nWHERE {\\n  VALUES (  ?var2  ) {\\n   (  &lt;http://www.wikidata.org/entity/Q5608&gt;  )\\n  }\\n  ?var1  &lt;http://www.wikidata.org/prop/direct/P175&gt;  ?var2 .\\n  ?var1  &lt;http://www.wikidata.org/prop/direct/P577&gt;  ?var3 .\\n SERVICE  &lt;http://wikiba.se/ontology#label&gt;   {\\n    &lt;http://www.bigdata.com/rdf#serviceParam&gt;  &lt;http://wikiba.se/ontology#language&gt;  \"en\".\\n  }\\n OPTIONAL {\\n  ?var5  &lt;http://www.wikidata.org/prop/direct/P136&gt;  ?var4 .\\n }\\n}\\n</td>\n      <td>&lt;rdflib.plugins.sparql.sparql.Query object at 0x7f2680ea3190&gt;</td>\n      <td>&lt;__main__.FilterVisitor object at 0x7f2685fd27d0&gt;</td>\n      <td>8</td>\n      <td>0</td>\n      <td>0</td>\n      <td>0</td>\n      <td>1</td>\n      <td>0</td>\n      <td>0</td>\n      <td>1</td>\n      <td>2</td>\n      <td>2</td>\n      <td>0</td>\n      <td>0</td>\n      <td>1</td>\n      <td>0</td>\n      <td>1</td>\n      <td>0</td>\n      <td>0</td>\n      <td>0</td>\n      <td>True</td>\n      <td>False</td>\n      <td>False</td>\n      <td>False</td>\n      <td>True</td>\n      <td>False</td>\n      <td>False</td>\n      <td>True</td>\n      <td>True</td>\n      <td>True</td>\n      <td>False</td>\n      <td>False</td>\n      <td>True</td>\n      <td>False</td>\n      <td>True</td>\n      <td>False</td>\n      <td>False</td>\n      <td>False</td>\n    </tr>\n    <tr>\n      <th>25662</th>\n      <td>SELECT+%3Fvar1++%3Fvar2+%28++GROUP_CONCAT+%28++DISTINCT++%3Fvar3++%29++AS++%3Fvar4++%29%0AWHERE+%7B%0A++VALUES+%28++%3Fvar5++%29+%7B%0A+++%28++%3Chttp%3A%2F%2Fwww.wikidata.org%2Fentity%2FQ11424%3E++%29%0A+++%28++%3Chttp%3A%2F%2Fwww.wikidata.org%2Fentity%2FQ24862%3E++%29%0A+++%28++%3Chttp%3A%2F%2Fwww.wikidata.org%2Fentity%2FQ506240%3E++%29%0A+++%28++%3Chttp%3A%2F%2Fwww.wikidata.org%2Fentity%2FQ336144%3E++%29%0A++%7D%0A++BIND+%28++%3Chttp%3A%2F%2Fwww.w3.org%2F2001%2FXMLSchema%23integer%3E++%28+STRAFTER+%28++STR+%28++%3Fvar1++%29+%2C+%22Q%22+%29+%29++AS++%3Fvar2+%29.%0A++%3Fvar1++%3Chttp%3A%2F%2Fwww.wikidata.org%2Fprop%2Fdirect%2FP31%3E++%3Fvar5+.%0A+FILTER+%28++%28+%28++%3Fvar2++%3E+%2228090000%22%5E%5E%3Chttp%3A%2F%2Fwww.w3.org%2F2001%2FXMLSchema%23integer%3E++%29+%29+%0A%29+.%0A+OPTIONAL+%7B%0A++BIND+%28++CONCAT+%28++%22%5B%22%2C+STR+%28++%3Fvar6++%29+%2C+%22+%22%2C+%3Fvar7+%2C+%22%5D%22+%29++AS++%3Fvar3+%29.%0A++%3Fvar6++%3Chttp%3A%2F%2Fschema.org%2Fabout%3E++%3Fvar1+%3B%0A+%3Chttp%3A%2F%2Fschema.org%2FinLanguage%3E++%3Fvar7+.%0A+%7D%0A%7D%0AGROUP+BY++%3Fvar1++%3Fvar2+%0AORDER+BY++DESC%28+%3Fvar2+%29%0ALIMIT+500%0A</td>\n      <td>2018-03-25 23:37:10</td>\n      <td>robotic</td>\n      <td>bot2</td>\n      <td>../BadRequeteCrypt/I7_status500_Joined.tsv</td>\n      <td>7</td>\n      <td>SELECT ?var1  ?var2 (  GROUP_CONCAT (  DISTINCT  ?var3  )  AS  ?var4  )\\nWHERE {\\n  VALUES (  ?var5  ) {\\n   (  &lt;http://www.wikidata.org/entity/Q11424&gt;  )\\n   (  &lt;http://www.wikidata.org/entity/Q24862&gt;  )\\n   (  &lt;http://www.wikidata.org/entity/Q506240&gt;  )\\n   (  &lt;http://www.wikidata.org/entity/Q336144&gt;  )\\n  }\\n  BIND (  &lt;http://www.w3.org/2001/XMLSchema#integer&gt;  ( STRAFTER (  STR (  ?var1  ) , \"Q\" ) )  AS  ?var2 ).\\n  ?var1  &lt;http://www.wikidata.org/prop/direct/P31&gt;  ?var5 .\\n FILTER (  ( (  ?var2  &gt; \"28090000\"^^&lt;http://www.w3.org/2001/XMLSchema#integer&gt;  ) ) \\n) .\\n OPTIONAL {\\n  BIND (  CONCAT (  \"[\", STR (  ?var6  ) , \" \", ?var7 , \"]\" )  AS  ?var3 ).\\n  ?var6  &lt;http://schema.org/about&gt;  ?var1 ;\\n &lt;http://schema.org/inLanguage&gt;  ?var7 .\\n }\\n}\\nGROUP BY  ?var1  ?var2 \\nORDER BY  DESC( ?var2 )\\nLIMIT 500\\n</td>\n      <td>&lt;rdflib.plugins.sparql.sparql.Query object at 0x7f26816b8b10&gt;</td>\n      <td>&lt;__main__.FilterVisitor object at 0x7f2686186c50&gt;</td>\n      <td>10</td>\n      <td>1</td>\n      <td>1</td>\n      <td>1</td>\n      <td>1</td>\n      <td>0</td>\n      <td>0</td>\n      <td>1</td>\n      <td>2</td>\n      <td>3</td>\n      <td>0</td>\n      <td>0</td>\n      <td>1</td>\n      <td>0</td>\n      <td>1</td>\n      <td>1</td>\n      <td>1</td>\n      <td>1</td>\n      <td>True</td>\n      <td>True</td>\n      <td>True</td>\n      <td>True</td>\n      <td>True</td>\n      <td>False</td>\n      <td>False</td>\n      <td>True</td>\n      <td>True</td>\n      <td>True</td>\n      <td>False</td>\n      <td>False</td>\n      <td>True</td>\n      <td>False</td>\n      <td>True</td>\n      <td>True</td>\n      <td>True</td>\n      <td>True</td>\n    </tr>\n    <tr>\n      <th>25663</th>\n      <td>SELECT+%3Fvar1+%0AWHERE+%7B%0A++%3Fvar1++%3Chttp%3A%2F%2Fwww.wikidata.org%2Fprop%2Fdirect%2FP345%3E++%3Fvar2+.%0A+FILTER+%28++%28++CONTAINS+%28++LCASE+%28++%3Fvar2++%29+%2C+%22nm1599776%22+%29++%29+%0A%29+.%0A+SERVICE++%3Chttp%3A%2F%2Fwikiba.se%2Fontology%23label%3E+++%7B%0A++++%3Chttp%3A%2F%2Fwww.bigdata.com%2Frdf%23serviceParam%3E++%3Chttp%3A%2F%2Fwikiba.se%2Fontology%23language%3E++%22en%22.%0A++%7D%0A%7D%0ALIMIT+1%0A</td>\n      <td>2018-03-25 23:53:30</td>\n      <td>robotic</td>\n      <td>UNKNOWN</td>\n      <td>../BadRequeteCrypt/I7_status500_Joined.tsv</td>\n      <td>7</td>\n      <td>SELECT ?var1 \\nWHERE {\\n  ?var1  &lt;http://www.wikidata.org/prop/direct/P345&gt;  ?var2 .\\n FILTER (  (  CONTAINS (  LCASE (  ?var2  ) , \"nm1599776\" )  ) \\n) .\\n SERVICE  &lt;http://wikiba.se/ontology#label&gt;   {\\n    &lt;http://www.bigdata.com/rdf#serviceParam&gt;  &lt;http://wikiba.se/ontology#language&gt;  \"en\".\\n  }\\n}\\nLIMIT 1\\n</td>\n      <td>&lt;rdflib.plugins.sparql.sparql.Query object at 0x7f2680c1a590&gt;</td>\n      <td>&lt;__main__.FilterVisitor object at 0x7f2686186310&gt;</td>\n      <td>2</td>\n      <td>1</td>\n      <td>0</td>\n      <td>1</td>\n      <td>1</td>\n      <td>0</td>\n      <td>0</td>\n      <td>0</td>\n      <td>1</td>\n      <td>1</td>\n      <td>0</td>\n      <td>0</td>\n      <td>1</td>\n      <td>0</td>\n      <td>0</td>\n      <td>0</td>\n      <td>1</td>\n      <td>1</td>\n      <td>True</td>\n      <td>True</td>\n      <td>False</td>\n      <td>True</td>\n      <td>True</td>\n      <td>False</td>\n      <td>False</td>\n      <td>False</td>\n      <td>True</td>\n      <td>True</td>\n      <td>False</td>\n      <td>False</td>\n      <td>True</td>\n      <td>False</td>\n      <td>False</td>\n      <td>False</td>\n      <td>True</td>\n      <td>True</td>\n    </tr>\n    <tr>\n      <th>25664</th>\n      <td>SELECT+*%0AWHERE+%7B%0A++%3Fvar1++%3Chttp%3A%2F%2Fwww.wikidata.org%2Fprop%2Fdirect%2FP345%3E++%3Fvar2+.%0A+FILTER+%28++%28+%28++%3Fvar2++%3D++%22tt6483832%22+%29+%29+%0A%29+.%0A++%3Fvar3++%3Chttp%3A%2F%2Fschema.org%2Fabout%3E++%3Fvar1+%3B%0A+%3Chttp%3A%2F%2Fschema.org%2FinLanguage%3E++%22en%22%3B%0A+%3Chttp%3A%2F%2Fschema.org%2FisPartOf%3E++%3Chttps%3A%2F%2Fen.wikipedia.org%2F%3E+.%0A%7D%0A</td>\n      <td>2018-03-25 23:53:30</td>\n      <td>robotic</td>\n      <td>UNKNOWN</td>\n      <td>../BadRequeteCrypt/I7_status500_Joined.tsv</td>\n      <td>7</td>\n      <td>SELECT *\\nWHERE {\\n  ?var1  &lt;http://www.wikidata.org/prop/direct/P345&gt;  ?var2 .\\n FILTER (  ( (  ?var2  =  \"tt6483832\" ) ) \\n) .\\n  ?var3  &lt;http://schema.org/about&gt;  ?var1 ;\\n &lt;http://schema.org/inLanguage&gt;  \"en\";\\n &lt;http://schema.org/isPartOf&gt;  &lt;https://en.wikipedia.org/&gt; .\\n}\\n</td>\n      <td>&lt;rdflib.plugins.sparql.sparql.Query object at 0x7f2680c47b10&gt;</td>\n      <td>&lt;__main__.FilterVisitor object at 0x7f2686186c10&gt;</td>\n      <td>3</td>\n      <td>1</td>\n      <td>0</td>\n      <td>0</td>\n      <td>1</td>\n      <td>0</td>\n      <td>0</td>\n      <td>0</td>\n      <td>0</td>\n      <td>1</td>\n      <td>0</td>\n      <td>0</td>\n      <td>1</td>\n      <td>0</td>\n      <td>0</td>\n      <td>0</td>\n      <td>0</td>\n      <td>0</td>\n      <td>True</td>\n      <td>True</td>\n      <td>False</td>\n      <td>False</td>\n      <td>True</td>\n      <td>False</td>\n      <td>False</td>\n      <td>False</td>\n      <td>False</td>\n      <td>True</td>\n      <td>False</td>\n      <td>False</td>\n      <td>True</td>\n      <td>False</td>\n      <td>False</td>\n      <td>False</td>\n      <td>False</td>\n      <td>False</td>\n    </tr>\n    <tr>\n      <th>25665</th>\n      <td>SELECT+DISTINCT+%3Fvar1++%3Fvar2+%0AWHERE+%7B%0A++%3Fvar1++%3Chttp%3A%2F%2Fwww.wikidata.org%2Fprop%2Fdirect%2FP31%3E++%3Chttp%3A%2F%2Fwww.wikidata.org%2Fentity%2FQ13442814%3E+.%0A++%3Fvar1++%3Chttp%3A%2F%2Fwww.wikidata.org%2Fprop%2Fdirect%2FP356%3E++%3Fvar2+.%0A++%3Fvar1++%3Chttp%3A%2F%2Fwww.wikidata.org%2Fprop%2Fdirect%2FP50%3E++%3Fvar3+.%0A++%3Fvar3++%3Chttp%3A%2F%2Fwww.wikidata.org%2Fprop%2Fdirect%2FP31%3E++%3Chttp%3A%2F%2Fwww.wikidata.org%2Fentity%2FQ5%3E+.%0A++MINUS+++%7B%0A++++%3Fvar3++%3Chttp%3A%2F%2Fwww.wikidata.org%2Fprop%2Fdirect%2FP496%3E++%5B%5D+.%0A++%7D%0A++MINUS+++%7B%0A++++%3Fvar3++%3Chttp%3A%2F%2Fwww.wikidata.org%2Fprop%2Fdirect%2FP570%3E++%5B%5D+.%0A++%7D%0A%7D%0AORDER+BY+ASC%28+RAND+%28++%29+%29%0ALIMIT+2000%0A</td>\n      <td>2018-03-25 23:54:01</td>\n      <td>robotic</td>\n      <td>orcid_bot</td>\n      <td>../BadRequeteCrypt/I7_status500_Joined.tsv</td>\n      <td>7</td>\n      <td>SELECT DISTINCT ?var1  ?var2 \\nWHERE {\\n  ?var1  &lt;http://www.wikidata.org/prop/direct/P31&gt;  &lt;http://www.wikidata.org/entity/Q13442814&gt; .\\n  ?var1  &lt;http://www.wikidata.org/prop/direct/P356&gt;  ?var2 .\\n  ?var1  &lt;http://www.wikidata.org/prop/direct/P50&gt;  ?var3 .\\n  ?var3  &lt;http://www.wikidata.org/prop/direct/P31&gt;  &lt;http://www.wikidata.org/entity/Q5&gt; .\\n  MINUS   {\\n    ?var3  &lt;http://www.wikidata.org/prop/direct/P496&gt;  [] .\\n  }\\n  MINUS   {\\n    ?var3  &lt;http://www.wikidata.org/prop/direct/P570&gt;  [] .\\n  }\\n}\\nORDER BY ASC( RAND (  ) )\\nLIMIT 2000\\n</td>\n      <td>&lt;rdflib.plugins.sparql.sparql.Query object at 0x7f26809b47d0&gt;</td>\n      <td>&lt;__main__.FilterVisitor object at 0x7f2685e122d0&gt;</td>\n      <td>3</td>\n      <td>0</td>\n      <td>1</td>\n      <td>1</td>\n      <td>1</td>\n      <td>1</td>\n      <td>0</td>\n      <td>0</td>\n      <td>0</td>\n      <td>3</td>\n      <td>0</td>\n      <td>0</td>\n      <td>1</td>\n      <td>0</td>\n      <td>0</td>\n      <td>0</td>\n      <td>1</td>\n      <td>1</td>\n      <td>True</td>\n      <td>False</td>\n      <td>True</td>\n      <td>True</td>\n      <td>True</td>\n      <td>True</td>\n      <td>False</td>\n      <td>False</td>\n      <td>False</td>\n      <td>True</td>\n      <td>False</td>\n      <td>False</td>\n      <td>True</td>\n      <td>False</td>\n      <td>False</td>\n      <td>False</td>\n      <td>True</td>\n      <td>True</td>\n    </tr>\n    <tr>\n      <th>25666</th>\n      <td>SELECT+%3Fvar1++%3Fvar2++%3Fvar3+%28++IF+%28+%28++%3Fvar3++%3E+%2211%22%5E%5E%3Chttp%3A%2F%2Fwww.w3.org%2F2001%2FXMLSchema%23integer%3E++%29%2C+%22string1%22%2C+%22string2%22+%29++AS++%3Fvar4++%29%0AWHERE+%7B%0A++%3Fvar1++%3Chttp%3A%2F%2Fwikiba.se%2Fontology%23sitelinks%3E++%3Fvar2+%3B%0A+%3Chttp%3A%2F%2Fwikiba.se%2Fontology%23statements%3E++%3Fvar3+.%0A+FILTER+%28++%28+%28++%3Fvar2++%3E+%22180%22%5E%5E%3Chttp%3A%2F%2Fwww.w3.org%2F2001%2FXMLSchema%23integer%3E++%29+%29+%0A%29+.%0A%7D%0AORDER+BY++DESC%28+%3Fvar2+%29%0ALIMIT+1000%0A</td>\n      <td>2018-03-25 23:59:40</td>\n      <td>robotic</td>\n      <td>bot2</td>\n      <td>../BadRequeteCrypt/I7_status500_Joined.tsv</td>\n      <td>7</td>\n      <td>SELECT ?var1  ?var2  ?var3 (  IF ( (  ?var3  &gt; \"11\"^^&lt;http://www.w3.org/2001/XMLSchema#integer&gt;  ), \"string1\", \"string2\" )  AS  ?var4  )\\nWHERE {\\n  ?var1  &lt;http://wikiba.se/ontology#sitelinks&gt;  ?var2 ;\\n &lt;http://wikiba.se/ontology#statements&gt;  ?var3 .\\n FILTER (  ( (  ?var2  &gt; \"180\"^^&lt;http://www.w3.org/2001/XMLSchema#integer&gt;  ) ) \\n) .\\n}\\nORDER BY  DESC( ?var2 )\\nLIMIT 1000\\n</td>\n      <td>&lt;rdflib.plugins.sparql.sparql.Query object at 0x7f268195ebd0&gt;</td>\n      <td>&lt;__main__.FilterVisitor object at 0x7f2680b331d0&gt;</td>\n      <td>4</td>\n      <td>1</td>\n      <td>1</td>\n      <td>1</td>\n      <td>1</td>\n      <td>0</td>\n      <td>0</td>\n      <td>0</td>\n      <td>0</td>\n      <td>1</td>\n      <td>0</td>\n      <td>0</td>\n      <td>1</td>\n      <td>0</td>\n      <td>0</td>\n      <td>0</td>\n      <td>1</td>\n      <td>1</td>\n      <td>True</td>\n      <td>True</td>\n      <td>True</td>\n      <td>True</td>\n      <td>True</td>\n      <td>False</td>\n      <td>False</td>\n      <td>False</td>\n      <td>False</td>\n      <td>True</td>\n      <td>False</td>\n      <td>False</td>\n      <td>True</td>\n      <td>False</td>\n      <td>False</td>\n      <td>False</td>\n      <td>True</td>\n      <td>True</td>\n    </tr>\n  </tbody>\n</table>\n<p>25625 rows × 45 columns</p>\n</div>"
     },
     "metadata": {}
    }
   ]
  },
  {
   "cell_type": "code",
   "metadata": {
    "cell_id": "ed58ada6-7411-42c3-9169-ae0babd18505",
    "tags": [],
    "deepnote_to_be_reexecuted": false,
    "source_hash": "5163a8d6",
    "execution_start": 1643359236634,
    "execution_millis": 110,
    "deepnote_cell_type": "code"
   },
   "source": "df_nona[\"has_variable\"] = df_nona[\"counter_variable\"].apply(lambda x: False if x == 0 else True)\ndf_nona[\"has_filter\"] = df_nona[\"counter_filter\"].apply(lambda x: False if x == 0 else True)\ndf_nona[\"has_orderby\"] = df_nona[\"counter_orderby\"].apply(lambda x: False if x == 0 else True)\ndf_nona[\"has_limit\"] = df_nona[\"counter_limit\"].apply(lambda x: False if x == 0 else True)\ndf_nona[\"has_select\"] = df_nona[\"counter_select\"].apply(lambda x: False if x == 0 else True)\ndf_nona[\"has_distinct\"] = df_nona[\"counter_distinct\"].apply(lambda x: False if x == 0 else True)\ndf_nona[\"has_modify\"] = df_nona[\"counter_modify\"].apply(lambda x: False if x == 0 else True)\ndf_nona[\"has_tomultiset\"] = df_nona[\"counter_tomultiset\"].apply(lambda x: False if x == 0 else True)\ndf_nona[\"has_join\"] = df_nona[\"counter_join\"].apply(lambda x: False if x == 0 else True)\ndf_nona[\"has_bgp\"] = df_nona[\"counter_bgp\"].apply(lambda x: False if x == 0 else True)\ndf_nona[\"has_insertdata\"] = df_nona[\"counter_insertdata\"].apply(lambda x: False if x == 0 else True)\ndf_nona[\"has_deletedata\"] = df_nona[\"counter_deletedata\"].apply(lambda x: False if x == 0 else True)\ndf_nona[\"has_project\"] = df_nona[\"counter_project\"].apply(lambda x: False if x == 0 else True)\ndf_nona[\"has_union\"] = df_nona[\"counter_union\"].apply(lambda x: False if x == 0 else True)\ndf_nona[\"has_values\"] = df_nona[\"counter_values\"].apply(lambda x: False if x == 0 else True)\ndf_nona[\"has_groupby\"] = df_nona[\"counter_groupby\"].apply(lambda x: False if x == 0 else True)\ndf_nona[\"has_slice\"] = df_nona[\"counter_slice\"].apply(lambda x: False if x == 0 else True)\ndf_nona[\"has_offset\"] = df_nona[\"counter_offset\"].apply(lambda x: False if x == 0 else True)",
   "execution_count": 16,
   "outputs": [
    {
     "name": "stderr",
     "text": "/shared-libs/python3.7/py-core/lib/python3.7/site-packages/ipykernel_launcher.py:1: SettingWithCopyWarning: \nA value is trying to be set on a copy of a slice from a DataFrame.\nTry using .loc[row_indexer,col_indexer] = value instead\n\nSee the caveats in the documentation: https://pandas.pydata.org/pandas-docs/stable/user_guide/indexing.html#returning-a-view-versus-a-copy\n  \"\"\"Entry point for launching an IPython kernel.\n/shared-libs/python3.7/py-core/lib/python3.7/site-packages/ipykernel_launcher.py:2: SettingWithCopyWarning: \nA value is trying to be set on a copy of a slice from a DataFrame.\nTry using .loc[row_indexer,col_indexer] = value instead\n\nSee the caveats in the documentation: https://pandas.pydata.org/pandas-docs/stable/user_guide/indexing.html#returning-a-view-versus-a-copy\n  \n/shared-libs/python3.7/py-core/lib/python3.7/site-packages/ipykernel_launcher.py:3: SettingWithCopyWarning: \nA value is trying to be set on a copy of a slice from a DataFrame.\nTry using .loc[row_indexer,col_indexer] = value instead\n\nSee the caveats in the documentation: https://pandas.pydata.org/pandas-docs/stable/user_guide/indexing.html#returning-a-view-versus-a-copy\n  This is separate from the ipykernel package so we can avoid doing imports until\n/shared-libs/python3.7/py-core/lib/python3.7/site-packages/ipykernel_launcher.py:4: SettingWithCopyWarning: \nA value is trying to be set on a copy of a slice from a DataFrame.\nTry using .loc[row_indexer,col_indexer] = value instead\n\nSee the caveats in the documentation: https://pandas.pydata.org/pandas-docs/stable/user_guide/indexing.html#returning-a-view-versus-a-copy\n  after removing the cwd from sys.path.\n/shared-libs/python3.7/py-core/lib/python3.7/site-packages/ipykernel_launcher.py:5: SettingWithCopyWarning: \nA value is trying to be set on a copy of a slice from a DataFrame.\nTry using .loc[row_indexer,col_indexer] = value instead\n\nSee the caveats in the documentation: https://pandas.pydata.org/pandas-docs/stable/user_guide/indexing.html#returning-a-view-versus-a-copy\n  \"\"\"\n/shared-libs/python3.7/py-core/lib/python3.7/site-packages/ipykernel_launcher.py:6: SettingWithCopyWarning: \nA value is trying to be set on a copy of a slice from a DataFrame.\nTry using .loc[row_indexer,col_indexer] = value instead\n\nSee the caveats in the documentation: https://pandas.pydata.org/pandas-docs/stable/user_guide/indexing.html#returning-a-view-versus-a-copy\n  \n/shared-libs/python3.7/py-core/lib/python3.7/site-packages/ipykernel_launcher.py:7: SettingWithCopyWarning: \nA value is trying to be set on a copy of a slice from a DataFrame.\nTry using .loc[row_indexer,col_indexer] = value instead\n\nSee the caveats in the documentation: https://pandas.pydata.org/pandas-docs/stable/user_guide/indexing.html#returning-a-view-versus-a-copy\n  import sys\n/shared-libs/python3.7/py-core/lib/python3.7/site-packages/ipykernel_launcher.py:8: SettingWithCopyWarning: \nA value is trying to be set on a copy of a slice from a DataFrame.\nTry using .loc[row_indexer,col_indexer] = value instead\n\nSee the caveats in the documentation: https://pandas.pydata.org/pandas-docs/stable/user_guide/indexing.html#returning-a-view-versus-a-copy\n  \n/shared-libs/python3.7/py-core/lib/python3.7/site-packages/ipykernel_launcher.py:9: SettingWithCopyWarning: \nA value is trying to be set on a copy of a slice from a DataFrame.\nTry using .loc[row_indexer,col_indexer] = value instead\n\nSee the caveats in the documentation: https://pandas.pydata.org/pandas-docs/stable/user_guide/indexing.html#returning-a-view-versus-a-copy\n  if __name__ == '__main__':\n/shared-libs/python3.7/py-core/lib/python3.7/site-packages/ipykernel_launcher.py:10: SettingWithCopyWarning: \nA value is trying to be set on a copy of a slice from a DataFrame.\nTry using .loc[row_indexer,col_indexer] = value instead\n\nSee the caveats in the documentation: https://pandas.pydata.org/pandas-docs/stable/user_guide/indexing.html#returning-a-view-versus-a-copy\n  # Remove the CWD from sys.path while we load stuff.\n/shared-libs/python3.7/py-core/lib/python3.7/site-packages/ipykernel_launcher.py:11: SettingWithCopyWarning: \nA value is trying to be set on a copy of a slice from a DataFrame.\nTry using .loc[row_indexer,col_indexer] = value instead\n\nSee the caveats in the documentation: https://pandas.pydata.org/pandas-docs/stable/user_guide/indexing.html#returning-a-view-versus-a-copy\n  # This is added back by InteractiveShellApp.init_path()\n/shared-libs/python3.7/py-core/lib/python3.7/site-packages/ipykernel_launcher.py:12: SettingWithCopyWarning: \nA value is trying to be set on a copy of a slice from a DataFrame.\nTry using .loc[row_indexer,col_indexer] = value instead\n\nSee the caveats in the documentation: https://pandas.pydata.org/pandas-docs/stable/user_guide/indexing.html#returning-a-view-versus-a-copy\n  if sys.path[0] == '':\n/shared-libs/python3.7/py-core/lib/python3.7/site-packages/ipykernel_launcher.py:13: SettingWithCopyWarning: \nA value is trying to be set on a copy of a slice from a DataFrame.\nTry using .loc[row_indexer,col_indexer] = value instead\n\nSee the caveats in the documentation: https://pandas.pydata.org/pandas-docs/stable/user_guide/indexing.html#returning-a-view-versus-a-copy\n  del sys.path[0]\n/shared-libs/python3.7/py-core/lib/python3.7/site-packages/ipykernel_launcher.py:14: SettingWithCopyWarning: \nA value is trying to be set on a copy of a slice from a DataFrame.\nTry using .loc[row_indexer,col_indexer] = value instead\n\nSee the caveats in the documentation: https://pandas.pydata.org/pandas-docs/stable/user_guide/indexing.html#returning-a-view-versus-a-copy\n  \n/shared-libs/python3.7/py-core/lib/python3.7/site-packages/ipykernel_launcher.py:15: SettingWithCopyWarning: \nA value is trying to be set on a copy of a slice from a DataFrame.\nTry using .loc[row_indexer,col_indexer] = value instead\n\nSee the caveats in the documentation: https://pandas.pydata.org/pandas-docs/stable/user_guide/indexing.html#returning-a-view-versus-a-copy\n  from ipykernel import kernelapp as app\n/shared-libs/python3.7/py-core/lib/python3.7/site-packages/ipykernel_launcher.py:16: SettingWithCopyWarning: \nA value is trying to be set on a copy of a slice from a DataFrame.\nTry using .loc[row_indexer,col_indexer] = value instead\n\nSee the caveats in the documentation: https://pandas.pydata.org/pandas-docs/stable/user_guide/indexing.html#returning-a-view-versus-a-copy\n  app.launch_new_instance()\n/shared-libs/python3.7/py-core/lib/python3.7/site-packages/ipykernel_launcher.py:17: SettingWithCopyWarning: \nA value is trying to be set on a copy of a slice from a DataFrame.\nTry using .loc[row_indexer,col_indexer] = value instead\n\nSee the caveats in the documentation: https://pandas.pydata.org/pandas-docs/stable/user_guide/indexing.html#returning-a-view-versus-a-copy\n/shared-libs/python3.7/py-core/lib/python3.7/site-packages/ipykernel_launcher.py:18: SettingWithCopyWarning: \nA value is trying to be set on a copy of a slice from a DataFrame.\nTry using .loc[row_indexer,col_indexer] = value instead\n\nSee the caveats in the documentation: https://pandas.pydata.org/pandas-docs/stable/user_guide/indexing.html#returning-a-view-versus-a-copy\n",
     "output_type": "stream"
    }
   ]
  },
  {
   "cell_type": "code",
   "metadata": {
    "cell_id": "d8a2a991-867a-4b87-b19c-70a1c77d3672",
    "tags": [],
    "deepnote_to_be_reexecuted": false,
    "source_hash": "6b321e45",
    "execution_start": 1643359414819,
    "execution_millis": 17,
    "deepnote_output_heights": [
     501
    ],
    "deepnote_cell_type": "code"
   },
   "source": "df_nona.iloc[21312]\n\n\n",
   "execution_count": 29,
   "outputs": [
    {
     "output_type": "execute_result",
     "execution_count": 29,
     "data": {
      "text/plain": "anonymizedQuery       SELECT%28++%3Fvar1++AS++%3Fvar2++%29%0AWHERE+%7B%0A++%3Chttp%3A%2F%2Fwww.wikidata.org%2Fentity%2FQ19253%3E+%28+%3Chttp%3A%2F%2Fwww.wikidata.org%2Fprop%2Fdirect%2FP131%3E+%2F+%3Chttp%3A%2F%2Fwww.wikidata.org%2Fprop%2Fdirect%2FP131%3E+*%29+%3Fvar3+.%0A++%3Fvar3+%28+%3Chttp%3A%2F%2Fwww.wikidata.org%2Fprop%2Fdirect%2FP31%3E+%2F+%3Chttp%3A%2F%2Fwww.wikidata.org%2Fprop%2Fdirect%2FP279%3E+*%29+%3Chttp%3A%2F%2Fwww.wikidata.org%2Fentity%2FQ10864048%3E+.%0A++%3Fvar1+%28+%3Chttp%3A%2F%2Fwww.wikidata.org%2Fprop%2Fdirect%2FP131%3E+%2F+%3Chttp%3A%2F%2Fwww.wikidata.org%2Fprop%2Fdirect%2FP131%3E+*%29+%3Fvar3+.%0A++%3Fvar1+%28+%3Chttp%3A%2F%2Fwww.wikidata.org%2Fprop%2Fdirect%2FP31%3E+%2F+%3Chttp%3A%2F%2Fwww.wikidata.org%2Fprop%2Fdirect%2FP279%3E+*%29+%3Chttp%3A%2F%2Fwww.wikidata.org%2Fentity%2FQ13221722%3E+.%0A+SERVICE++%3Chttp%3A%2F%2Fwikiba.se%2Fontology%23label%3E+++%7B%0A++++%3Chttp%3A%2F%2Fwww.bigdata.com%2Frdf%23serviceParam%3E++%3Chttp%3A%2F%2Fwikiba.se%2Fontology%23language%3E++%22fi%22.%0A++%7D%0A+FILTER+%28++%28++NOT+EXISTS++%7B%0A+++%3Fvar1+%28+%3Chttp%3A%2F%2Fwww.wikidata.org%2Fprop%2Fdirect%2FP31%3E+%2F+%3Chttp%3A%2F%2Fwww.wikidata.org%2Fprop%2Fdirect%2FP279%3E+*%29+%3Chttp%3A%2F%2Fwww.wikidata.org%2Fentity%2FQ19953632%3E+.%0A+%7D%0A+%29+%0A%29+.%0A%7D%0AGROUP+BY++%3Fvar1+%0A\ntimestamp             2018-03-20 09:25:31                                                                                                                                                                                                                                                                                                                                                                                                                                                                                                                                                                                                                                                                                                                                                                                                                                                                                                                                                                                                                                                                                                                                                                                                                                                                                                                         \nsourceCategory        robotic                                                                                                                                                                                                                                                                                                                                                                                                                                                                                                                                                                                                                                                                                                                                                                                                                                                                                                                                                                                                                                                                                                                                                                                                                                                                                                                                     \nuser_agent            UNKNOWN                                                                                                                                                                                                                                                                                                                                                                                                                                                                                                                                                                                                                                                                                                                                                                                                                                                                                                                                                                                                                                                                                                                                                                                                                                                                                                                                     \nfile_path             ../BadRequeteCrypt/I7_status500_Joined.tsv                                                                                                                                                                                                                                                                                                                                                                                                                                                                                                                                                                                                                                                                                                                                                                                                                                                                                                                                                                                                                                                                                                                                                                                                                                                                                                  \ninterval              7                                                                                                                                                                                                                                                                                                                                                                                                                                                                                                                                                                                                                                                                                                                                                                                                                                                                                                                                                                                                                                                                                                                                                                                                                                                                                                                                           \nrawAnonymizedQuery    SELECT(  ?var1  AS  ?var2  )\\nWHERE {\\n  <http://www.wikidata.org/entity/Q19253> ( <http://www.wikidata.org/prop/direct/P131> / <http://www.wikidata.org/prop/direct/P131>*) ?var3 .\\n  ?var3 ( <http://www.wikidata.org/prop/direct/P31> / <http://www.wikidata.org/prop/direct/P279>*) <http://www.wikidata.org/entity/Q10864048> .\\n  ?var1 ( <http://www.wikidata.org/prop/direct/P131> / <http://www.wikidata.org/prop/direct/P131>*) ?var3 .\\n  ?var1 ( <http://www.wikidata.org/prop/direct/P31> / <http://www.wikidata.org/prop/direct/P279>*) <http://www.wikidata.org/entity/Q13221722> .\\n SERVICE  <http://wikiba.se/ontology#label>   {\\n    <http://www.bigdata.com/rdf#serviceParam>  <http://wikiba.se/ontology#language>  \"fi\".\\n  }\\n FILTER (  (  NOT EXISTS  {\\n   ?var1 ( <http://www.wikidata.org/prop/direct/P31> / <http://www.wikidata.org/prop/direct/P279>*) <http://www.wikidata.org/entity/Q19953632> .\\n }\\n ) \\n) .\\n}\\nGROUP BY  ?var1 \\n                                                                                                                                                                                                                                                                                                                                                                   \nquery                 <rdflib.plugins.sparql.sparql.Query object at 0x7f2680d69250>                                                                                                                                                                                                                                                                                                                                                                                                                                                                                                                                                                                                                                                                                                                                                                                                                                                                                                                                                                                                                                                                                                                                                                                                                                                                               \nvisitor               <__main__.FilterVisitor object at 0x7f267525be90>                                                                                                                                                                                                                                                                                                                                                                                                                                                                                                                                                                                                                                                                                                                                                                                                                                                                                                                                                                                                                                                                                                                                                                                                                                                                                           \ncounter_variable      4                                                                                                                                                                                                                                                                                                                                                                                                                                                                                                                                                                                                                                                                                                                                                                                                                                                                                                                                                                                                                                                                                                                                                                                                                                                                                                                                           \ncounter_filter        1                                                                                                                                                                                                                                                                                                                                                                                                                                                                                                                                                                                                                                                                                                                                                                                                                                                                                                                                                                                                                                                                                                                                                                                                                                                                                                                                           \ncounter_orderby       0                                                                                                                                                                                                                                                                                                                                                                                                                                                                                                                                                                                                                                                                                                                                                                                                                                                                                                                                                                                                                                                                                                                                                                                                                                                                                                                                           \n                     ..                                                                                                                                                                                                                                                                                                                                                                                                                                                                                                                                                                                                                                                                                                                                                                                                                                                                                                                                                                                                                                                                                                                                                                                                                                                                                                                                           \nhas_modify            False                                                                                                                                                                                                                                                                                                                                                                                                                                                                                                                                                                                                                                                                                                                                                                                                                                                                                                                                                                                                                                                                                                                                                                                                                                                                                                                                       \nhas_tomultiset        False                                                                                                                                                                                                                                                                                                                                                                                                                                                                                                                                                                                                                                                                                                                                                                                                                                                                                                                                                                                                                                                                                                                                                                                                                                                                                                                                       \nhas_join              True                                                                                                                                                                                                                                                                                                                                                                                                                                                                                                                                                                                                                                                                                                                                                                                                                                                                                                                                                                                                                                                                                                                                                                                                                                                                                                                                        \nhas_bgp               True                                                                                                                                                                                                                                                                                                                                                                                                                                                                                                                                                                                                                                                                                                                                                                                                                                                                                                                                                                                                                                                                                                                                                                                                                                                                                                                                        \nhas_insertdata        False                                                                                                                                                                                                                                                                                                                                                                                                                                                                                                                                                                                                                                                                                                                                                                                                                                                                                                                                                                                                                                                                                                                                                                                                                                                                                                                                       \nhas_deletedata        False                                                                                                                                                                                                                                                                                                                                                                                                                                                                                                                                                                                                                                                                                                                                                                                                                                                                                                                                                                                                                                                                                                                                                                                                                                                                                                                                       \nhas_project           True                                                                                                                                                                                                                                                                                                                                                                                                                                                                                                                                                                                                                                                                                                                                                                                                                                                                                                                                                                                                                                                                                                                                                                                                                                                                                                                                        \nhas_union             False                                                                                                                                                                                                                                                                                                                                                                                                                                                                                                                                                                                                                                                                                                                                                                                                                                                                                                                                                                                                                                                                                                                                                                                                                                                                                                                                       \nhas_values            False                                                                                                                                                                                                                                                                                                                                                                                                                                                                                                                                                                                                                                                                                                                                                                                                                                                                                                                                                                                                                                                                                                                                                                                                                                                                                                                                       \nhas_groupby           True                                                                                                                                                                                                                                                                                                                                                                                                                                                                                                                                                                                                                                                                                                                                                                                                                                                                                                                                                                                                                                                                                                                                                                                                                                                                                                                                        \nhas_slice             False                                                                                                                                                                                                                                                                                                                                                                                                                                                                                                                                                                                                                                                                                                                                                                                                                                                                                                                                                                                                                                                                                                                                                                                                                                                                                                                                       \nhas_offset            False                                                                                                                                                                                                                                                                                                                                                                                                                                                                                                                                                                                                                                                                                                                                                                                                                                                                                                                                                                                                                                                                                                                                                                                                                                                                                                                                       \nName: 21348, Length: 45, dtype: object"
     },
     "metadata": {}
    }
   ]
  },
  {
   "cell_type": "markdown",
   "source": "Split in robotic and organic",
   "metadata": {
    "cell_id": "f4f1263e-c181-495a-b395-3061338fbd2c",
    "tags": [],
    "is_collapsed": false,
    "deepnote_cell_type": "text-cell-p"
   }
  },
  {
   "cell_type": "code",
   "metadata": {
    "pycharm": {
     "name": "#%%\n"
    },
    "cell_id": "00023-73158a7d-4d23-49f4-ba9b-ec912e2c6b24",
    "deepnote_to_be_reexecuted": false,
    "source_hash": "c038f101",
    "execution_start": 1643359237104,
    "execution_millis": 388,
    "deepnote_table_state": {
     "pageSize": 10,
     "pageIndex": 0,
     "filters": [],
     "sortBy": [
      {
       "id": "counter_groupby",
       "type": "desc"
      }
     ]
    },
    "deepnote_table_loading": false,
    "deepnote_output_heights": [
     482
    ],
    "deepnote_cell_type": "code"
   },
   "source": "\ndf_nona_robotic = df_nona.loc[(df_nona['sourceCategory'] == 'robotic')]\ndf_nona_robotic",
   "execution_count": 18,
   "outputs": [
    {
     "output_type": "execute_result",
     "execution_count": 18,
     "data": {
      "application/vnd.deepnote.dataframe.v3+json": {
       "column_count": 45,
       "row_count": 17522,
       "columns": [
        {
         "name": "anonymizedQuery",
         "dtype": "object",
         "stats": {
          "unique_count": 2675,
          "nan_count": 0,
          "categories": [
           {
            "name": "SELECT+%3Fvar1++%3Fvar2++%3Fvar3+%0AWHERE+%7B%0A++%3Fvar1+%28+%3Chttp%3A%2F%2Fwww.wikidata.org%2Fprop%2Fdirect%2FP31%3E+%2F+%3Chttp%3A%2F%2Fwww.wikidata.org%2Fprop%2Fdirect%2FP279%3E+*%29+%3Chttp%3A%2F%2Fwww.wikidata.org%2Fentity%2FQ1190554%3E+.%0A++%3Fvar1++%3Chttp%3A%2F%2Fwww.wikidata.org%2Fprop%2Fdirect%2FP585%3E++%3Fvar2+.%0A++%3Fvar3++%3Chttp%3A%2F%2Fschema.org%2Fabout%3E++%3Fvar1+.%0A++%3Fvar3++%3Chttp%3A%2F%2Fschema.org%2FisPartOf%3E++%3Chttps%3A%2F%2Fen.wikipedia.org%2F%3E+.%0A+FILTER+%28++%28+%28++DATATYPE+%28++%3Fvar2++%29++%3D++%3Chttp%3A%2F%2Fwww.w3.org%2F2001%2FXMLSchema%23dateTime%3E++%29+%26%26+%28++MONTH+%28++%3Fvar2++%29++%3D++MONTH+%28++NOW+%28++%29++%29++%29+%26%26+%28++DAY+%28++%3Fvar2++%29++%3D++DAY+%28++NOW+%28++%29++%29++%29+%29+%0A%29+.%0A%7D%0AORDER+BY++DESC%28+%3Fvar2+%29%0ALIMIT+5%0A",
            "count": 1181
           },
           {
            "name": "SELECT%28++%3Fvar1++AS++%3Fvar2++%29%0AWHERE+%7B%0A++%3Chttp%3A%2F%2Fwww.wikidata.org%2Fentity%2FQ19253%3E+%28+%3Chttp%3A%2F%2Fwww.wikidata.org%2Fprop%2Fdirect%2FP131%3E+%2F+%3Chttp%3A%2F%2Fwww.wikidata.org%2Fprop%2Fdirect%2FP131%3E+*%29+%3Fvar3+.%0A++%3Fvar3+%28+%3Chttp%3A%2F%2Fwww.wikidata.org%2Fprop%2Fdirect%2FP31%3E+%2F+%3Chttp%3A%2F%2Fwww.wikidata.org%2Fprop%2Fdirect%2FP279%3E+*%29+%3Chttp%3A%2F%2Fwww.wikidata.org%2Fentity%2FQ10864048%3E+.%0A++%3Fvar1+%28+%3Chttp%3A%2F%2Fwww.wikidata.org%2Fprop%2Fdirect%2FP131%3E+%2F+%3Chttp%3A%2F%2Fwww.wikidata.org%2Fprop%2Fdirect%2FP131%3E+*%29+%3Fvar3+.%0A++%3Fvar1+%28+%3Chttp%3A%2F%2Fwww.wikidata.org%2Fprop%2Fdirect%2FP31%3E+%2F+%3Chttp%3A%2F%2Fwww.wikidata.org%2Fprop%2Fdirect%2FP279%3E+*%29+%3Chttp%3A%2F%2Fwww.wikidata.org%2Fentity%2FQ13221722%3E+.%0A+SERVICE++%3Chttp%3A%2F%2Fwikiba.se%2Fontology%23label%3E+++%7B%0A++++%3Chttp%3A%2F%2Fwww.bigdata.com%2Frdf%23serviceParam%3E++%3Chttp%3A%2F%2Fwikiba.se%2Fontology%23language%3E++%22fi%22.%0A++%7D%0A+FILTER+%28++%28++NOT+EXISTS++%7B%0A+++%3Fvar1+%28+%3Chttp%3A%2F%2Fwww.wikidata.org%2Fprop%2Fdirect%2FP31%3E+%2F+%3Chttp%3A%2F%2Fwww.wikidata.org%2Fprop%2Fdirect%2FP279%3E+*%29+%3Chttp%3A%2F%2Fwww.wikidata.org%2Fentity%2FQ19953632%3E+.%0A+%7D%0A+%29+%0A%29+.%0A%7D%0AGROUP+BY++%3Fvar1+%0A",
            "count": 1131
           },
           {
            "name": "2673 others",
            "count": 15210
           }
          ]
         }
        },
        {
         "name": "timestamp",
         "dtype": "object",
         "stats": {
          "unique_count": 14944,
          "nan_count": 0,
          "categories": [
           {
            "name": "2018-03-17 15:57:23",
            "count": 12
           },
           {
            "name": "2018-03-08 09:06:35",
            "count": 10
           },
           {
            "name": "14942 others",
            "count": 17500
           }
          ]
         }
        },
        {
         "name": "sourceCategory",
         "dtype": "object",
         "stats": {
          "unique_count": 1,
          "nan_count": 0,
          "categories": [
           {
            "name": "robotic",
            "count": 17522
           }
          ]
         }
        },
        {
         "name": "user_agent",
         "dtype": "object",
         "stats": {
          "unique_count": 14,
          "nan_count": 0,
          "categories": [
           {
            "name": "UNKNOWN",
            "count": 13060
           },
           {
            "name": "bot2",
            "count": 2654
           },
           {
            "name": "12 others",
            "count": 1808
           }
          ]
         }
        },
        {
         "name": "file_path",
         "dtype": "object",
         "stats": {
          "unique_count": 1,
          "nan_count": 0,
          "categories": [
           {
            "name": "../BadRequeteCrypt/I7_status500_Joined.tsv",
            "count": 17522
           }
          ]
         }
        },
        {
         "name": "interval",
         "dtype": "int64"
        },
        {
         "name": "rawAnonymizedQuery",
         "dtype": "object"
        },
        {
         "name": "query",
         "dtype": "object"
        },
        {
         "name": "visitor",
         "dtype": "object"
        },
        {
         "name": "counter_variable",
         "dtype": "int64"
        },
        {
         "name": "counter_filter",
         "dtype": "int64"
        },
        {
         "name": "counter_orderby",
         "dtype": "int64"
        },
        {
         "name": "counter_limit",
         "dtype": "int64"
        },
        {
         "name": "counter_select",
         "dtype": "int64"
        },
        {
         "name": "counter_distinct",
         "dtype": "int64"
        },
        {
         "name": "counter_modify",
         "dtype": "int64"
        },
        {
         "name": "counter_tomultiset",
         "dtype": "int64"
        },
        {
         "name": "counter_join",
         "dtype": "int64"
        },
        {
         "name": "counter_bgp",
         "dtype": "int64"
        },
        {
         "name": "counter_insertdata",
         "dtype": "int64"
        },
        {
         "name": "counter_deletedata",
         "dtype": "int64"
        },
        {
         "name": "counter_project",
         "dtype": "int64"
        },
        {
         "name": "counter_union",
         "dtype": "int64"
        },
        {
         "name": "counter_values",
         "dtype": "int64"
        },
        {
         "name": "counter_groupby",
         "dtype": "int64"
        },
        {
         "name": "counter_offset",
         "dtype": "int64"
        },
        {
         "name": "counter_slice",
         "dtype": "int64"
        },
        {
         "name": "has_variable",
         "dtype": "bool"
        },
        {
         "name": "has_filter",
         "dtype": "bool"
        },
        {
         "name": "has_orderby",
         "dtype": "bool"
        },
        {
         "name": "has_limit",
         "dtype": "bool"
        },
        {
         "name": "has_select",
         "dtype": "bool"
        },
        {
         "name": "has_distinct",
         "dtype": "bool"
        },
        {
         "name": "has_modify",
         "dtype": "bool"
        },
        {
         "name": "has_tomultiset",
         "dtype": "bool"
        },
        {
         "name": "has_join",
         "dtype": "bool"
        },
        {
         "name": "has_bgp",
         "dtype": "bool"
        },
        {
         "name": "has_insertdata",
         "dtype": "bool"
        },
        {
         "name": "has_deletedata",
         "dtype": "bool"
        },
        {
         "name": "has_project",
         "dtype": "bool"
        },
        {
         "name": "has_union",
         "dtype": "bool"
        },
        {
         "name": "has_values",
         "dtype": "bool"
        },
        {
         "name": "has_groupby",
         "dtype": "bool"
        },
        {
         "name": "has_slice",
         "dtype": "bool"
        },
        {
         "name": "has_offset",
         "dtype": "bool"
        },
        {
         "name": "_deepnote_index_column",
         "dtype": "int64"
        }
       ],
       "rows": [
        {
         "anonymizedQuery": "SELECT+%3Fvar1Label+%28++ROUND+%28++SUM+%28+%3Fvar2++%29+%29++AS++%3Fvar3++%29%0AWHERE+%7B%0A+SELEC…",
         "timestamp": "2018-03-02 16:23:29",
         "sourceCategory": "robotic",
         "user_agent": "UNKNOWN",
         "file_path": "../BadRequeteCrypt/I7_status500_Joined.tsv",
         "interval": 7,
         "rawAnonymizedQuery": "SELECT ?var1Label (  ROUND (  SUM ( ?var2  ) )  AS  ?var3  )\nWHERE {\n SELECT ?var1Label  ?var4 ( CO…",
         "query": "<rdflib.plugins.sparql.sparql.Query object at 0x7f26ae887250>",
         "visitor": "<__main__.FilterVisitor object at 0x7f267b425fd0>",
         "counter_variable": 16,
         "counter_filter": 2,
         "counter_orderby": 0,
         "counter_limit": 0,
         "counter_select": 1,
         "counter_distinct": 0,
         "counter_modify": 0,
         "counter_tomultiset": 3,
         "counter_join": 3,
         "counter_bgp": 3,
         "counter_insertdata": 0,
         "counter_deletedata": 0,
         "counter_project": 4,
         "counter_union": 0,
         "counter_values": 0,
         "counter_groupby": 4,
         "counter_offset": 0,
         "counter_slice": 0,
         "has_variable": true,
         "has_filter": true,
         "has_orderby": false,
         "has_limit": false,
         "has_select": true,
         "has_distinct": false,
         "has_modify": false,
         "has_tomultiset": true,
         "has_join": true,
         "has_bgp": true,
         "has_insertdata": false,
         "has_deletedata": false,
         "has_project": true,
         "has_union": false,
         "has_values": false,
         "has_groupby": true,
         "has_slice": false,
         "has_offset": false,
         "_deepnote_index_column": 4403
        },
        {
         "anonymizedQuery": "SELECT+%3Fvar1Label+%28++ROUND+%28++SUM+%28+%3Fvar2++%29+%29++AS++%3Fvar3++%29%0AWHERE+%7B%0A+SELEC…",
         "timestamp": "2018-03-06 14:43:57",
         "sourceCategory": "robotic",
         "user_agent": "UNKNOWN",
         "file_path": "../BadRequeteCrypt/I7_status500_Joined.tsv",
         "interval": 7,
         "rawAnonymizedQuery": "SELECT ?var1Label (  ROUND (  SUM ( ?var2  ) )  AS  ?var3  )\nWHERE {\n SELECT ?var1Label  ?var4 ( CO…",
         "query": "<rdflib.plugins.sparql.sparql.Query object at 0x7f26a4c94c10>",
         "visitor": "<__main__.FilterVisitor object at 0x7f26a4ccfd50>",
         "counter_variable": 16,
         "counter_filter": 2,
         "counter_orderby": 0,
         "counter_limit": 0,
         "counter_select": 1,
         "counter_distinct": 0,
         "counter_modify": 0,
         "counter_tomultiset": 3,
         "counter_join": 3,
         "counter_bgp": 3,
         "counter_insertdata": 0,
         "counter_deletedata": 0,
         "counter_project": 4,
         "counter_union": 0,
         "counter_values": 0,
         "counter_groupby": 4,
         "counter_offset": 0,
         "counter_slice": 0,
         "has_variable": true,
         "has_filter": true,
         "has_orderby": false,
         "has_limit": false,
         "has_select": true,
         "has_distinct": false,
         "has_modify": false,
         "has_tomultiset": true,
         "has_join": true,
         "has_bgp": true,
         "has_insertdata": false,
         "has_deletedata": false,
         "has_project": true,
         "has_union": false,
         "has_values": false,
         "has_groupby": true,
         "has_slice": false,
         "has_offset": false,
         "_deepnote_index_column": 7657
        },
        {
         "anonymizedQuery": "SELECT+%3Fvar1Label+%28++ROUND+%28++SUM+%28+%3Fvar2++%29+%29++AS++%3Fvar3++%29%0AWHERE+%7B%0A+SELEC…",
         "timestamp": "2018-03-04 23:01:06",
         "sourceCategory": "robotic",
         "user_agent": "UNKNOWN",
         "file_path": "../BadRequeteCrypt/I7_status500_Joined.tsv",
         "interval": 7,
         "rawAnonymizedQuery": "SELECT ?var1Label (  ROUND (  SUM ( ?var2  ) )  AS  ?var3  )\nWHERE {\n SELECT ?var1Label  ?var4 ( CO…",
         "query": "<rdflib.plugins.sparql.sparql.Query object at 0x7f26a8d95610>",
         "visitor": "<__main__.FilterVisitor object at 0x7f267ae7e790>",
         "counter_variable": 16,
         "counter_filter": 2,
         "counter_orderby": 0,
         "counter_limit": 0,
         "counter_select": 1,
         "counter_distinct": 0,
         "counter_modify": 0,
         "counter_tomultiset": 3,
         "counter_join": 3,
         "counter_bgp": 3,
         "counter_insertdata": 0,
         "counter_deletedata": 0,
         "counter_project": 4,
         "counter_union": 0,
         "counter_values": 0,
         "counter_groupby": 4,
         "counter_offset": 0,
         "counter_slice": 0,
         "has_variable": true,
         "has_filter": true,
         "has_orderby": false,
         "has_limit": false,
         "has_select": true,
         "has_distinct": false,
         "has_modify": false,
         "has_tomultiset": true,
         "has_join": true,
         "has_bgp": true,
         "has_insertdata": false,
         "has_deletedata": false,
         "has_project": true,
         "has_union": false,
         "has_values": false,
         "has_groupby": true,
         "has_slice": false,
         "has_offset": false,
         "_deepnote_index_column": 6254
        },
        {
         "anonymizedQuery": "SELECT+%3Fvar1Label+%28++ROUND+%28++SUM+%28+%3Fvar2++%29+%29++AS++%3Fvar3++%29%0AWHERE+%7B%0A+SELEC…",
         "timestamp": "2018-03-08 14:43:30",
         "sourceCategory": "robotic",
         "user_agent": "UNKNOWN",
         "file_path": "../BadRequeteCrypt/I7_status500_Joined.tsv",
         "interval": 7,
         "rawAnonymizedQuery": "SELECT ?var1Label (  ROUND (  SUM ( ?var2  ) )  AS  ?var3  )\nWHERE {\n SELECT ?var1Label  ?var4 ( CO…",
         "query": "<rdflib.plugins.sparql.sparql.Query object at 0x7f26a04c9350>",
         "visitor": "<__main__.FilterVisitor object at 0x7f26a05ac3d0>",
         "counter_variable": 16,
         "counter_filter": 2,
         "counter_orderby": 0,
         "counter_limit": 0,
         "counter_select": 1,
         "counter_distinct": 0,
         "counter_modify": 0,
         "counter_tomultiset": 3,
         "counter_join": 3,
         "counter_bgp": 3,
         "counter_insertdata": 0,
         "counter_deletedata": 0,
         "counter_project": 4,
         "counter_union": 0,
         "counter_values": 0,
         "counter_groupby": 4,
         "counter_offset": 0,
         "counter_slice": 0,
         "has_variable": true,
         "has_filter": true,
         "has_orderby": false,
         "has_limit": false,
         "has_select": true,
         "has_distinct": false,
         "has_modify": false,
         "has_tomultiset": true,
         "has_join": true,
         "has_bgp": true,
         "has_insertdata": false,
         "has_deletedata": false,
         "has_project": true,
         "has_union": false,
         "has_values": false,
         "has_groupby": true,
         "has_slice": false,
         "has_offset": false,
         "_deepnote_index_column": 9459
        },
        {
         "anonymizedQuery": "SELECT+%3Fvar1Label+%28++ROUND+%28++SUM+%28+%3Fvar2++%29+%29++AS++%3Fvar3++%29%0AWHERE+%7B%0A+SELEC…",
         "timestamp": "2018-03-04 23:07:34",
         "sourceCategory": "robotic",
         "user_agent": "UNKNOWN",
         "file_path": "../BadRequeteCrypt/I7_status500_Joined.tsv",
         "interval": 7,
         "rawAnonymizedQuery": "SELECT ?var1Label (  ROUND (  SUM ( ?var2  ) )  AS  ?var3  )\nWHERE {\n SELECT ?var1Label  ?var4 ( CO…",
         "query": "<rdflib.plugins.sparql.sparql.Query object at 0x7f26a8b8c810>",
         "visitor": "<__main__.FilterVisitor object at 0x7f267ae23150>",
         "counter_variable": 16,
         "counter_filter": 2,
         "counter_orderby": 0,
         "counter_limit": 0,
         "counter_select": 1,
         "counter_distinct": 0,
         "counter_modify": 0,
         "counter_tomultiset": 3,
         "counter_join": 3,
         "counter_bgp": 3,
         "counter_insertdata": 0,
         "counter_deletedata": 0,
         "counter_project": 4,
         "counter_union": 0,
         "counter_values": 0,
         "counter_groupby": 4,
         "counter_offset": 0,
         "counter_slice": 0,
         "has_variable": true,
         "has_filter": true,
         "has_orderby": false,
         "has_limit": false,
         "has_select": true,
         "has_distinct": false,
         "has_modify": false,
         "has_tomultiset": true,
         "has_join": true,
         "has_bgp": true,
         "has_insertdata": false,
         "has_deletedata": false,
         "has_project": true,
         "has_union": false,
         "has_values": false,
         "has_groupby": true,
         "has_slice": false,
         "has_offset": false,
         "_deepnote_index_column": 6266
        },
        {
         "anonymizedQuery": "SELECT+%3Fvar1Label+%28++ROUND+%28++SUM+%28+%3Fvar2++%29+%29++AS++%3Fvar3++%29%0AWHERE+%7B%0A+SELEC…",
         "timestamp": "2018-03-04 23:08:19",
         "sourceCategory": "robotic",
         "user_agent": "UNKNOWN",
         "file_path": "../BadRequeteCrypt/I7_status500_Joined.tsv",
         "interval": 7,
         "rawAnonymizedQuery": "SELECT ?var1Label (  ROUND (  SUM ( ?var2  ) )  AS  ?var3  )\nWHERE {\n SELECT ?var1Label  ?var4 ( CO…",
         "query": "<rdflib.plugins.sparql.sparql.Query object at 0x7f26a8b5d350>",
         "visitor": "<__main__.FilterVisitor object at 0x7f267ae23610>",
         "counter_variable": 16,
         "counter_filter": 2,
         "counter_orderby": 0,
         "counter_limit": 0,
         "counter_select": 1,
         "counter_distinct": 0,
         "counter_modify": 0,
         "counter_tomultiset": 3,
         "counter_join": 3,
         "counter_bgp": 3,
         "counter_insertdata": 0,
         "counter_deletedata": 0,
         "counter_project": 4,
         "counter_union": 0,
         "counter_values": 0,
         "counter_groupby": 4,
         "counter_offset": 0,
         "counter_slice": 0,
         "has_variable": true,
         "has_filter": true,
         "has_orderby": false,
         "has_limit": false,
         "has_select": true,
         "has_distinct": false,
         "has_modify": false,
         "has_tomultiset": true,
         "has_join": true,
         "has_bgp": true,
         "has_insertdata": false,
         "has_deletedata": false,
         "has_project": true,
         "has_union": false,
         "has_values": false,
         "has_groupby": true,
         "has_slice": false,
         "has_offset": false,
         "_deepnote_index_column": 6267
        },
        {
         "anonymizedQuery": "SELECT+%3Fvar1Label+%28++ROUND+%28++SUM+%28+%3Fvar2++%29+%29++AS++%3Fvar3++%29%0AWHERE+%7B%0A+SELEC…",
         "timestamp": "2018-03-04 23:08:31",
         "sourceCategory": "robotic",
         "user_agent": "UNKNOWN",
         "file_path": "../BadRequeteCrypt/I7_status500_Joined.tsv",
         "interval": 7,
         "rawAnonymizedQuery": "SELECT ?var1Label (  ROUND (  SUM ( ?var2  ) )  AS  ?var3  )\nWHERE {\n SELECT ?var1Label  ?var4 ( CO…",
         "query": "<rdflib.plugins.sparql.sparql.Query object at 0x7f26a8b0bf90>",
         "visitor": "<__main__.FilterVisitor object at 0x7f26a8b7f290>",
         "counter_variable": 16,
         "counter_filter": 2,
         "counter_orderby": 0,
         "counter_limit": 0,
         "counter_select": 1,
         "counter_distinct": 0,
         "counter_modify": 0,
         "counter_tomultiset": 3,
         "counter_join": 3,
         "counter_bgp": 3,
         "counter_insertdata": 0,
         "counter_deletedata": 0,
         "counter_project": 4,
         "counter_union": 0,
         "counter_values": 0,
         "counter_groupby": 4,
         "counter_offset": 0,
         "counter_slice": 0,
         "has_variable": true,
         "has_filter": true,
         "has_orderby": false,
         "has_limit": false,
         "has_select": true,
         "has_distinct": false,
         "has_modify": false,
         "has_tomultiset": true,
         "has_join": true,
         "has_bgp": true,
         "has_insertdata": false,
         "has_deletedata": false,
         "has_project": true,
         "has_union": false,
         "has_values": false,
         "has_groupby": true,
         "has_slice": false,
         "has_offset": false,
         "_deepnote_index_column": 6268
        },
        {
         "anonymizedQuery": "SELECT+%3Fvar1Label+%28++ROUND+%28++SUM+%28+%3Fvar2++%29+%29++AS++%3Fvar3++%29%0AWHERE+%7B%0A+SELEC…",
         "timestamp": "2018-03-04 23:08:35",
         "sourceCategory": "robotic",
         "user_agent": "UNKNOWN",
         "file_path": "../BadRequeteCrypt/I7_status500_Joined.tsv",
         "interval": 7,
         "rawAnonymizedQuery": "SELECT ?var1Label (  ROUND (  SUM ( ?var2  ) )  AS  ?var3  )\nWHERE {\n SELECT ?var1Label  ?var4 ( CO…",
         "query": "<rdflib.plugins.sparql.sparql.Query object at 0x7f26a8aedd10>",
         "visitor": "<__main__.FilterVisitor object at 0x7f26a8b05950>",
         "counter_variable": 16,
         "counter_filter": 2,
         "counter_orderby": 0,
         "counter_limit": 0,
         "counter_select": 1,
         "counter_distinct": 0,
         "counter_modify": 0,
         "counter_tomultiset": 3,
         "counter_join": 3,
         "counter_bgp": 3,
         "counter_insertdata": 0,
         "counter_deletedata": 0,
         "counter_project": 4,
         "counter_union": 0,
         "counter_values": 0,
         "counter_groupby": 4,
         "counter_offset": 0,
         "counter_slice": 0,
         "has_variable": true,
         "has_filter": true,
         "has_orderby": false,
         "has_limit": false,
         "has_select": true,
         "has_distinct": false,
         "has_modify": false,
         "has_tomultiset": true,
         "has_join": true,
         "has_bgp": true,
         "has_insertdata": false,
         "has_deletedata": false,
         "has_project": true,
         "has_union": false,
         "has_values": false,
         "has_groupby": true,
         "has_slice": false,
         "has_offset": false,
         "_deepnote_index_column": 6269
        },
        {
         "anonymizedQuery": "SELECT+%3Fvar1++%3Fvar1Label++%3Fvar2++%3Fvar3++%3Fvar4++%3Fvar5++%3Fvar6+%0AWHERE+%7B%0A+%7B%0A++S…",
         "timestamp": "2018-02-28 14:00:22",
         "sourceCategory": "robotic",
         "user_agent": "UNKNOWN",
         "file_path": "../BadRequeteCrypt/I7_status500_Joined.tsv",
         "interval": 7,
         "rawAnonymizedQuery": "SELECT ?var1  ?var1Label  ?var2  ?var3  ?var4  ?var5  ?var6 \nWHERE {\n {\n  SELECT ?var1 ( COUNT ( DI…",
         "query": "<rdflib.plugins.sparql.sparql.Query object at 0x7f26b778d310>",
         "visitor": "<__main__.FilterVisitor object at 0x7f26b6478a10>",
         "counter_variable": 13,
         "counter_filter": 0,
         "counter_orderby": 0,
         "counter_limit": 0,
         "counter_select": 1,
         "counter_distinct": 0,
         "counter_modify": 0,
         "counter_tomultiset": 4,
         "counter_join": 4,
         "counter_bgp": 9,
         "counter_insertdata": 0,
         "counter_deletedata": 0,
         "counter_project": 5,
         "counter_union": 0,
         "counter_values": 0,
         "counter_groupby": 4,
         "counter_offset": 0,
         "counter_slice": 0,
         "has_variable": true,
         "has_filter": false,
         "has_orderby": false,
         "has_limit": false,
         "has_select": true,
         "has_distinct": false,
         "has_modify": false,
         "has_tomultiset": true,
         "has_join": true,
         "has_bgp": true,
         "has_insertdata": false,
         "has_deletedata": false,
         "has_project": true,
         "has_union": false,
         "has_values": false,
         "has_groupby": true,
         "has_slice": false,
         "has_offset": false,
         "_deepnote_index_column": 1992
        },
        {
         "anonymizedQuery": "SELECT+%3Fvar1++%3Fvar2++%3Fvar3+%0AWHERE+%7B%0A+%7B%0A++SELECT+%3Fvar2+%28++MAX+%28+%3Fvar4++%29+A…",
         "timestamp": "2018-03-08 06:10:05",
         "sourceCategory": "robotic",
         "user_agent": "bot2",
         "file_path": "../BadRequeteCrypt/I7_status500_Joined.tsv",
         "interval": 7,
         "rawAnonymizedQuery": "SELECT ?var1  ?var2  ?var3 \nWHERE {\n {\n  SELECT ?var2 (  MAX ( ?var4  ) AS  ?var3  )\n  WHERE   {\n  …",
         "query": "<rdflib.plugins.sparql.sparql.Query object at 0x7f26a3836a10>",
         "visitor": "<__main__.FilterVisitor object at 0x7f267a6c4090>",
         "counter_variable": 13,
         "counter_filter": 3,
         "counter_orderby": 4,
         "counter_limit": 3,
         "counter_select": 1,
         "counter_distinct": 0,
         "counter_modify": 0,
         "counter_tomultiset": 5,
         "counter_join": 3,
         "counter_bgp": 2,
         "counter_insertdata": 0,
         "counter_deletedata": 0,
         "counter_project": 4,
         "counter_union": 0,
         "counter_values": 2,
         "counter_groupby": 3,
         "counter_offset": 3,
         "counter_slice": 3,
         "has_variable": true,
         "has_filter": true,
         "has_orderby": true,
         "has_limit": true,
         "has_select": true,
         "has_distinct": false,
         "has_modify": false,
         "has_tomultiset": true,
         "has_join": true,
         "has_bgp": true,
         "has_insertdata": false,
         "has_deletedata": false,
         "has_project": true,
         "has_union": false,
         "has_values": true,
         "has_groupby": true,
         "has_slice": true,
         "has_offset": true,
         "_deepnote_index_column": 8912
        }
       ]
      },
      "text/plain": "                                                                                                                                                                                                                                                                                                                                                                                                                                                                                                                                                                                                                                                                                                                                                                                                                                                                                                                                                                                                                                                                                                                                                                                                                                                                                                                                                                                                                                                                                                                                                                                                                                                                                                                                                                                                                                                                                                                                                                                                                                                                                                                                                                                                                                                                                                                                                                                                                                                                                                                                                                                                                 anonymizedQuery  ... has_offset\n1      SELECT+DISTINCT+%3Fvar1+%0AWHERE+%7B%0A++BIND+%28++%28++NOW+%28++%29+-+%3Fvar2++%29++AS++%3Fvar3+%29.%0A++%3Fvar1++%3Chttp%3A%2F%2Fwww.wikidata.org%2Fprop%2Fdirect%2FP570%3E++%3Fvar2+.%0A+FILTER+%28++%28+%28++%3Fvar3++%3E%3D+%220%22%5E%5E%3Chttp%3A%2F%2Fwww.w3.org%2F2001%2FXMLSchema%23integer%3E++%29+%26%26+%28++%3Fvar3++%3C%3D+%225%22%5E%5E%3Chttp%3A%2F%2Fwww.w3.org%2F2001%2FXMLSchema%23integer%3E++%29+%29+%0A%29+.%0A++%3Fvar4++%3Chttp%3A%2F%2Fschema.org%2Fabout%3E++%3Fvar1+.%0A++%3Fvar4++%3Chttp%3A%2F%2Fschema.org%2FinLanguage%3E++%22es%22.%0A++%3Fvar4++%3Chttp%3A%2F%2Fschema.org%2FisPartOf%3E++%3Chttps%3A%2F%2Fes.wikipedia.org%2F%3E+.%0A%7D%0A                                                                                                                                                                                                                                                                                                                                                                                                                                                                                                                                                                                                                                                                                                                                                                                                                                                                                                                                                                                                                                                                                                                                                                                                                                                                                                                                                                                                                                                                                                                                                                                                                                                                                                                                                                                                                                                                                                                                             ...  False    \n4      SELECT+%3Fvar1++%3Fvar2++%3Fvar3+%0AWHERE+%7B%0A++%3Fvar1+%28+%3Chttp%3A%2F%2Fwww.wikidata.org%2Fprop%2Fdirect%2FP31%3E+%2F+%3Chttp%3A%2F%2Fwww.wikidata.org%2Fprop%2Fdirect%2FP279%3E+*%29+%3Chttp%3A%2F%2Fwww.wikidata.org%2Fentity%2FQ1190554%3E+.%0A++%3Fvar1++%3Chttp%3A%2F%2Fwww.wikidata.org%2Fprop%2Fdirect%2FP585%3E++%3Fvar2+.%0A++%3Fvar3++%3Chttp%3A%2F%2Fschema.org%2Fabout%3E++%3Fvar1+.%0A++%3Fvar3++%3Chttp%3A%2F%2Fschema.org%2FisPartOf%3E++%3Chttps%3A%2F%2Fen.wikipedia.org%2F%3E+.%0A+FILTER+%28++%28+%28++DATATYPE+%28++%3Fvar2++%29++%3D++%3Chttp%3A%2F%2Fwww.w3.org%2F2001%2FXMLSchema%23dateTime%3E++%29+%26%26+%28++MONTH+%28++%3Fvar2++%29++%3D++MONTH+%28++NOW+%28++%29++%29++%29+%26%26+%28++DAY+%28++%3Fvar2++%29++%3D++DAY+%28++NOW+%28++%29++%29++%29+%29+%0A%29+.%0A%7D%0AORDER+BY++DESC%28+%3Fvar2+%29%0ALIMIT+5%0A                                                                                                                                                                                                                                                                                                                                                                                                                                                                                                                                                                                                                                                                                                                                                                                                                                                                                                                                                                                                                                                                                                                                                                                                                                                                                                                                                                                                                                                                                                                                                                                                                                                                                                                                                                      ...  True     \n5      SELECT+DISTINCT+%3Fvar1+%0AWHERE+%7B%0A++BIND+%28++%28++NOW+%28++%29+-+%3Fvar2++%29++AS++%3Fvar3+%29.%0A++%3Fvar1++%3Chttp%3A%2F%2Fwww.wikidata.org%2Fprop%2Fdirect%2FP570%3E++%3Fvar2+.%0A+FILTER+%28++%28+%28++%3Fvar3++%3E%3D+%220%22%5E%5E%3Chttp%3A%2F%2Fwww.w3.org%2F2001%2FXMLSchema%23integer%3E++%29+%26%26+%28++%3Fvar3++%3C%3D+%225%22%5E%5E%3Chttp%3A%2F%2Fwww.w3.org%2F2001%2FXMLSchema%23integer%3E++%29+%29+%0A%29+.%0A++%3Fvar4++%3Chttp%3A%2F%2Fschema.org%2Fabout%3E++%3Fvar1+.%0A++%3Fvar4++%3Chttp%3A%2F%2Fschema.org%2FinLanguage%3E++%22es%22.%0A++%3Fvar4++%3Chttp%3A%2F%2Fschema.org%2FisPartOf%3E++%3Chttps%3A%2F%2Fes.wikipedia.org%2F%3E+.%0A%7D%0A                                                                                                                                                                                                                                                                                                                                                                                                                                                                                                                                                                                                                                                                                                                                                                                                                                                                                                                                                                                                                                                                                                                                                                                                                                                                                                                                                                                                                                                                                                                                                                                                                                                                                                                                                                                                                                                                                                                                             ...  False    \n7      SELECT+%3Fvar1++%3Fvar2++%3Fvar3+%0AWHERE+%7B%0A++%3Fvar1+%28+%3Chttp%3A%2F%2Fwww.wikidata.org%2Fprop%2Fdirect%2FP31%3E+%2F+%3Chttp%3A%2F%2Fwww.wikidata.org%2Fprop%2Fdirect%2FP279%3E+*%29+%3Chttp%3A%2F%2Fwww.wikidata.org%2Fentity%2FQ1190554%3E+.%0A++%3Fvar1++%3Chttp%3A%2F%2Fwww.wikidata.org%2Fprop%2Fdirect%2FP585%3E++%3Fvar2+.%0A++%3Fvar3++%3Chttp%3A%2F%2Fschema.org%2Fabout%3E++%3Fvar1+.%0A++%3Fvar3++%3Chttp%3A%2F%2Fschema.org%2FisPartOf%3E++%3Chttps%3A%2F%2Fen.wikipedia.org%2F%3E+.%0A+FILTER+%28++%28+%28++DATATYPE+%28++%3Fvar2++%29++%3D++%3Chttp%3A%2F%2Fwww.w3.org%2F2001%2FXMLSchema%23dateTime%3E++%29+%26%26+%28++MONTH+%28++%3Fvar2++%29++%3D++MONTH+%28++NOW+%28++%29++%29++%29+%26%26+%28++DAY+%28++%3Fvar2++%29++%3D++DAY+%28++NOW+%28++%29++%29++%29+%29+%0A%29+.%0A%7D%0AORDER+BY++DESC%28+%3Fvar2+%29%0ALIMIT+5%0A                                                                                                                                                                                                                                                                                                                                                                                                                                                                                                                                                                                                                                                                                                                                                                                                                                                                                                                                                                                                                                                                                                                                                                                                                                                                                                                                                                                                                                                                                                                                                                                                                                                                                                                                                                      ...  True     \n8      SELECT+%3Fvar1++%3Fvar2++%3Fvar3+%0AWHERE+%7B%0A++%3Fvar1+%28+%3Chttp%3A%2F%2Fwww.wikidata.org%2Fprop%2Fdirect%2FP31%3E+%2F+%3Chttp%3A%2F%2Fwww.wikidata.org%2Fprop%2Fdirect%2FP279%3E+*%29+%3Chttp%3A%2F%2Fwww.wikidata.org%2Fentity%2FQ1190554%3E+.%0A++%3Fvar1++%3Chttp%3A%2F%2Fwww.wikidata.org%2Fprop%2Fdirect%2FP585%3E++%3Fvar2+.%0A++%3Fvar3++%3Chttp%3A%2F%2Fschema.org%2Fabout%3E++%3Fvar1+.%0A++%3Fvar3++%3Chttp%3A%2F%2Fschema.org%2FisPartOf%3E++%3Chttps%3A%2F%2Fen.wikipedia.org%2F%3E+.%0A+FILTER+%28++%28+%28++DATATYPE+%28++%3Fvar2++%29++%3D++%3Chttp%3A%2F%2Fwww.w3.org%2F2001%2FXMLSchema%23dateTime%3E++%29+%26%26+%28++MONTH+%28++%3Fvar2++%29++%3D++MONTH+%28++NOW+%28++%29++%29++%29+%26%26+%28++DAY+%28++%3Fvar2++%29++%3D++DAY+%28++NOW+%28++%29++%29++%29+%29+%0A%29+.%0A%7D%0AORDER+BY++DESC%28+%3Fvar2+%29%0ALIMIT+5%0A                                                                                                                                                                                                                                                                                                                                                                                                                                                                                                                                                                                                                                                                                                                                                                                                                                                                                                                                                                                                                                                                                                                                                                                                                                                                                                                                                                                                                                                                                                                                                                                                                                                                                                                                                                      ...  True     \n9      SELECT+DISTINCT+%3Fvar1+%0AWHERE+%7B%0A+%7B%0A+++%3Fvar1++%3Chttp%3A%2F%2Fwww.wikidata.org%2Fprop%2Fdirect%2FP31%3E++%3Fvar2+.%0A+++%3Fvar2++%3Chttp%3A%2F%2Fwww.wikidata.org%2Fprop%2Fdirect%2FP279%3E+*+%3Chttp%3A%2F%2Fwww.wikidata.org%2Fentity%2FQ5193377%3E+.%0A+++%3Fvar1++%3Chttp%3A%2F%2Fwww.wikidata.org%2Fprop%2Fdirect%2FP131%3E++%3Fvar3+.%0A+++%3Fvar3++%3Chttp%3A%2F%2Fwww.wikidata.org%2Fprop%2Fdirect%2FP131%3E+*+%3Chttp%3A%2F%2Fwww.wikidata.org%2Fentity%2FQ1284%3E+.%0A+%7D%0A++UNION%0A+%7B%0A+++%3Fvar1++%3Chttp%3A%2F%2Fwww.wikidata.org%2Fprop%2Fdirect%2FP31%3E++%3Fvar2+.%0A+++%3Fvar2++%3Chttp%3A%2F%2Fwww.wikidata.org%2Fprop%2Fdirect%2FP279%3E+*+%3Chttp%3A%2F%2Fwww.wikidata.org%2Fentity%2FQ24354%3E+.%0A+++%3Fvar1++%3Chttp%3A%2F%2Fwww.wikidata.org%2Fprop%2Fdirect%2FP131%3E++%3Fvar3+.%0A+++%3Fvar3++%3Chttp%3A%2F%2Fwww.wikidata.org%2Fprop%2Fdirect%2FP131%3E+*+%3Chttp%3A%2F%2Fwww.wikidata.org%2Fentity%2FQ1284%3E+.%0A+%7D%0A++UNION%0A+%7B%0A+++%3Fvar1++%3Chttp%3A%2F%2Fwww.wikidata.org%2Fprop%2Fdirect%2FP31%3E++%3Fvar2+.%0A+++%3Fvar2++%3Chttp%3A%2F%2Fwww.wikidata.org%2Fprop%2Fdirect%2FP279%3E+*+%3Chttp%3A%2F%2Fwww.wikidata.org%2Fentity%2FQ839954%3E+.%0A+++%3Fvar1++%3Chttp%3A%2F%2Fwww.wikidata.org%2Fprop%2Fdirect%2FP131%3E++%3Fvar3+.%0A+++%3Fvar3++%3Chttp%3A%2F%2Fwww.wikidata.org%2Fprop%2Fdirect%2FP131%3E+*+%3Chttp%3A%2F%2Fwww.wikidata.org%2Fentity%2FQ1284%3E+.%0A+%7D%0A%7D%0A                                                                                                                                                                                                                                                                                                                                                                                                                                                                                                                                                                                                                                                                                                                                                                                                                                                                                                                                                                                                                                                                                                                                                                         ...  False    \n10     SELECT+%3Fvar1+%28+COUNT+%28+DISTINCT++STR+%28++%3Fvar1Label++%29++%29+AS++%3Fvar2++%29%28+COUNT+%28+%3Fvar1Label++%29+AS++%3Fvar3++%29%28++GROUP_CONCAT+%28++DISTINCT++STR+%28++%3Fvar1Label++%29+%3B+SEPARATOR+%3D++%22%3B+%22+%29++AS++%3Fvar4++%29%0AWHERE+%7B%0A++VALUES+%28++%3Fvar5++%29+%7B%0A+++%28++%3Chttp%3A%2F%2Fwww.wikidata.org%2Fentity%2FQ12308941%3E++%29%0A+++%28++%3Chttp%3A%2F%2Fwww.wikidata.org%2Fentity%2FQ11879590%3E++%29%0A++%7D%0A++BIND+%28++LANG+%28++%3Fvar1Label++%29++AS++%3Fvar6+%29.%0A++%3Fvar1++%3Chttp%3A%2F%2Fwww.wikidata.org%2Fprop%2Fdirect%2FP31%3E++%3Fvar5+.%0A++%3Fvar1++%3Chttp%3A%2F%2Fwww.w3.org%2F2000%2F01%2Frdf-schema%23label%3E++%3Fvar1Label+.%0A+FILTER+%28++%28++%3Fvar6++NOT+IN+%28++%22ru%22%2C+%22sr%22%2C+%22ja%22%2C+%22mk%22%2C+%22el%22%2C+%22be%22%2C+%22hy%22%2C+%22uk%22%2C+%22ar%22%2C+%22zh%22%2C+%22fa%22%2C+%22ko%22%2C+%22th%22%2C+%22pnb%22%2C+%22sd%22%2C+%22ur%22%2C+%22grc%22%2C+%22bh%22%2C+%22be-tarask%22%2C+%22ckb%22%2C+%22zh-hans%22%2C+%22zh-hant%22%2C+%22zh-hk%22%2C+%22zh-cn%22%2C+%22bn%22%2C+%22iu%22%2C+%22yue%22%2C+%22zh-sg%22%2C+%22zh-tw%22%2C+%22zh-mo%22%2C+%22zh-my%22%2C+%22arz%22%2C+%22os%22%2C+%22gu%22%2C+%22mai%22%2C+%22yi%22%2C+%22chr%22%2C+%22yue%22%2C+%22ka%22%2C+%22arc%22%2C+%22am%22%2C+%22ky%22%2C+%22kn%22%2C+%22sah%22%2C+%22sa%22%2C+%22cv%22%2C+%22ce%22%2C+%22av%22%2C+%22sr-ec%22%2C+%22he%22%2C+%22ba%22%2C+%22bg%22%2C+%22tt%22%2C+%22as%22%2C+%22ml%22%2C+%22ne%22%2C+%22mr%22%2C+%22ta%22%2C+%22te%22%2C+%22hi%22%2C+%22new%22%2C+%22kk%22%2C+%22kk-arab%22%2C+%22kk-cyrl%22%2C+%22kk-cn%22%2C+%22kk-kz%22+%29++%29+%0A%29+.%0A++MINUS+++%7B%0A++++%3Fvar1++%3Chttp%3A%2F%2Fwww.wikidata.org%2Fprop%2Fdirect%2FP31%3E++%3Chttp%3A%2F%2Fwww.wikidata.org%2Fentity%2FQ4167410%3E+.%0A++%7D%0A++MINUS+++%7B%0A++++%3Fvar1++%3Chttp%3A%2F%2Fwww.wikidata.org%2Fprop%2Fdirect%2FP31%3E++%3Chttp%3A%2F%2Fwww.wikidata.org%2Fentity%2FQ101352%3E+.%0A++%7D%0A+FILTER+%28++%28++%3Fvar1++NOT+IN+%28++%3Chttp%3A%2F%2Fwww.wikidata.org%2Fentity%2FQ307378%3E+%2C+%3Chttp%3A%2F%2Fwww.wikidata.org%2Fentity%2FQ317520%3E+%2C+%3Chttp%3A%2F%2Fwww.wikidata.org%2Fentity%2F860239%3E+%2C+%3Chttp%3A%2F%2Fwww.wikidata.org%2Fentity%2FQ860239%3E+%2C+%3Chttp%3A%2F%2Fwww.wikidata.org%2Fentity%2FQ477088%3E+%2C+%3Chttp%3A%2F%2Fwww.wikidata.org%2Fentity%2FQ19970288%3E++%29++%29+%0A%29+.%0A%7D%0AGROUP+BY++%3Fvar1+%0A+HAVING++%28+%28++%3Fvar2++%3E+%221%22%5E%5E%3Chttp%3A%2F%2Fwww.w3.org%2F2001%2FXMLSchema%23integer%3E++%29+%29+%0A+ORDER+BY++DESC%28+%3Fvar2+%29ASC%28+%3Fvar1+%29%0ALIMIT+1200%0A  ...  True     \n11     SELECT+%3Fvar1++%3Fvar2++%3Fvar3++%3Fvar4++%3Fvar5+%0AWHERE+%7B%0A++%3Fvar1++%3Chttp%3A%2F%2Fwww.wikidata.org%2Fprop%2Fdirect%2FP971%3E++%3Fvar3+%2C++%3Fvar4+%2C++%3Fvar5+.%0A+FILTER+%28++%28+%28++%3Fvar3++%21%3D++%3Fvar4++%29+%29+%0A%29+.%0A+FILTER+%28++%28+%28++%3Fvar4++%21%3D++%3Fvar5++%29+%29+%0A%29+.%0A+FILTER+%28++%28+%28++%3Fvar3++%21%3D++%3Fvar5++%29+%29+%0A%29+.%0A++%3Fvar2++%3Chttp%3A%2F%2Fwww.wikidata.org%2Fprop%2Fdirect%2FP971%3E++%3Fvar3+%2C++%3Fvar4+%2C++%3Fvar5+.%0A+FILTER+%28++%28+%28++%3Fvar1++%21%3D++%3Fvar2++%29+%29+%0A%29+.%0A+SERVICE++%3Chttp%3A%2F%2Fwikiba.se%2Fontology%23label%3E+++%7B%0A++++%3Chttp%3A%2F%2Fwww.bigdata.com%2Frdf%23serviceParam%3E++%3Chttp%3A%2F%2Fwikiba.se%2Fontology%23language%3E++%22ar%2Cen%22.%0A++%7D%0A%7D%0ALIMIT+30%0A                                                                                                                                                                                                                                                                                                                                                                                                                                                                                                                                                                                                                                                                                                                                                                                                                                                                                                                                                                                                                                                                                                                                                                                                                                                                                                                                                                                                                                                                                                                                                                                                                                                                                                                                                                                                                      ...  True     \n13     SELECT+DISTINCT+%3Fvar1+%0AWHERE+%7B%0A++%3Fvar1++%3Chttp%3A%2F%2Fwww.wikidata.org%2Fprop%2Fdirect%2FP31%3E++%3Chttp%3A%2F%2Fwww.wikidata.org%2Fentity%2FQ5%3E+%3B%0A+%3Chttp%3A%2F%2Fwww.wikidata.org%2Fprop%2Fdirect%2FP17%3E++%5B%5D+%3B%0A+%3Chttp%3A%2F%2Fwww.wikidata.org%2Fprop%2Fdirect%2FP569%3E++%3Fvar2+.%0A+FILTER+%28++%28+%28++YEAR+%28++%3Fvar2++%29++%3E+%221850%22%5E%5E%3Chttp%3A%2F%2Fwww.w3.org%2F2001%2FXMLSchema%23integer%3E++%29+%29+%0A%29+.%0A%7D%0A                                                                                                                                                                                                                                                                                                                                                                                                                                                                                                                                                                                                                                                                                                                                                                                                                                                                                                                                                                                                                                                                                                                                                                                                                                                                                                                                                                                                                                                                                                                                                                                                                                                                                                                                                                                                                                                                                                                                                                                                                                                                                                                                             ...  False    \n...                                                                                                                                                                                                                                                                                                                                                                                                                                                                               ...                                                                                                                                                                                                                                                                                                                                                                                                                                                                                                                                                                                                                                                                                                                                                                                                                                                                                                                                                                                                                                                                                                                                                                                                                                                                                                                                                                                                                                                                                                                                                                                                                                                                                                                                                                                                                                                                                                                                                                                                                                                                                                                                             ...    ...    \n25657  SELECT+DISTINCT+%3Fvar1+%0AWHERE+%7B%0A++%3Fvar1++%3Chttp%3A%2F%2Fwww.wikidata.org%2Fprop%2Fdirect%2FP31%3E++%3Chttp%3A%2F%2Fwww.wikidata.org%2Fentity%2FQ5%3E+%3B%0A+%3Chttp%3A%2F%2Fwww.wikidata.org%2Fprop%2Fdirect%2FP17%3E++%5B%5D+%3B%0A+%3Chttp%3A%2F%2Fwww.wikidata.org%2Fprop%2Fdirect%2FP569%3E++%3Fvar2+.%0A+FILTER+%28++%28+%28++YEAR+%28++%3Fvar2++%29++%3E+%221850%22%5E%5E%3Chttp%3A%2F%2Fwww.w3.org%2F2001%2FXMLSchema%23integer%3E++%29+%29+%0A%29+.%0A%7D%0A                                                                                                                                                                                                                                                                                                                                                                                                                                                                                                                                                                                                                                                                                                                                                                                                                                                                                                                                                                                                                                                                                                                                                                                                                                                                                                                                                                                                                                                                                                                                                                                                                                                                                                                                                                                                                                                                                                                                                                                                                                                                                                                                             ...  False    \n25658  SELECT%28++%3Fvar1++AS++%3Fvar2++%29%0AWHERE+%7B%0A++%3Chttp%3A%2F%2Fwww.wikidata.org%2Fentity%2FQ211907%3E+%28+%3Chttp%3A%2F%2Fwww.wikidata.org%2Fprop%2Fdirect%2FP131%3E+%2F+%3Chttp%3A%2F%2Fwww.wikidata.org%2Fprop%2Fdirect%2FP131%3E+*%29+%3Fvar3+.%0A++%3Fvar3+%28+%3Chttp%3A%2F%2Fwww.wikidata.org%2Fprop%2Fdirect%2FP31%3E+%2F+%3Chttp%3A%2F%2Fwww.wikidata.org%2Fprop%2Fdirect%2FP279%3E+*%29+%3Chttp%3A%2F%2Fwww.wikidata.org%2Fentity%2FQ10864048%3E+.%0A++%3Fvar1+%28+%3Chttp%3A%2F%2Fwww.wikidata.org%2Fprop%2Fdirect%2FP131%3E+%2F+%3Chttp%3A%2F%2Fwww.wikidata.org%2Fprop%2Fdirect%2FP131%3E+*%29+%3Fvar3+.%0A++%3Fvar1+%28+%3Chttp%3A%2F%2Fwww.wikidata.org%2Fprop%2Fdirect%2FP31%3E+%2F+%3Chttp%3A%2F%2Fwww.wikidata.org%2Fprop%2Fdirect%2FP279%3E+*%29+%3Chttp%3A%2F%2Fwww.wikidata.org%2Fentity%2FQ13220204%3E+.%0A+SERVICE++%3Chttp%3A%2F%2Fwikiba.se%2Fontology%23label%3E+++%7B%0A++++%3Chttp%3A%2F%2Fwww.bigdata.com%2Frdf%23serviceParam%3E++%3Chttp%3A%2F%2Fwikiba.se%2Fontology%23language%3E++%22fi%22.%0A++%7D%0A+FILTER+%28++%28++NOT+EXISTS++%7B%0A+++%3Fvar1+%28+%3Chttp%3A%2F%2Fwww.wikidata.org%2Fprop%2Fdirect%2FP31%3E+%2F+%3Chttp%3A%2F%2Fwww.wikidata.org%2Fprop%2Fdirect%2FP279%3E+*%29+%3Chttp%3A%2F%2Fwww.wikidata.org%2Fentity%2FQ19953632%3E+.%0A+%7D%0A+%29+%0A%29+.%0A%7D%0AGROUP+BY++%3Fvar1+%0A                                                                                                                                                                                                                                                                                                                                                                                                                                                                                                                                                                                                                                                                                                                                                                                                                                                                                                                                                                                                                                                                                                                                                                                                                                                                              ...  False    \n25659  SELECT%28++%3Fvar1++AS++%3Fvar2++%29%0AWHERE+%7B%0A++%3Chttp%3A%2F%2Fwww.wikidata.org%2Fentity%2FQ211907%3E+%28+%3Chttp%3A%2F%2Fwww.wikidata.org%2Fprop%2Fdirect%2FP131%3E+%2F+%3Chttp%3A%2F%2Fwww.wikidata.org%2Fprop%2Fdirect%2FP131%3E+*%29+%3Fvar3+.%0A++%3Fvar3+%28+%3Chttp%3A%2F%2Fwww.wikidata.org%2Fprop%2Fdirect%2FP31%3E+%2F+%3Chttp%3A%2F%2Fwww.wikidata.org%2Fprop%2Fdirect%2FP279%3E+*%29+%3Chttp%3A%2F%2Fwww.wikidata.org%2Fentity%2FQ10864048%3E+.%0A++%3Fvar1+%28+%3Chttp%3A%2F%2Fwww.wikidata.org%2Fprop%2Fdirect%2FP131%3E+%2F+%3Chttp%3A%2F%2Fwww.wikidata.org%2Fprop%2Fdirect%2FP131%3E+*%29+%3Fvar3+.%0A++%3Fvar1+%28+%3Chttp%3A%2F%2Fwww.wikidata.org%2Fprop%2Fdirect%2FP31%3E+%2F+%3Chttp%3A%2F%2Fwww.wikidata.org%2Fprop%2Fdirect%2FP279%3E+*%29+%3Chttp%3A%2F%2Fwww.wikidata.org%2Fentity%2FQ13221722%3E+.%0A+SERVICE++%3Chttp%3A%2F%2Fwikiba.se%2Fontology%23label%3E+++%7B%0A++++%3Chttp%3A%2F%2Fwww.bigdata.com%2Frdf%23serviceParam%3E++%3Chttp%3A%2F%2Fwikiba.se%2Fontology%23language%3E++%22fi%22.%0A++%7D%0A+FILTER+%28++%28++NOT+EXISTS++%7B%0A+++%3Fvar1+%28+%3Chttp%3A%2F%2Fwww.wikidata.org%2Fprop%2Fdirect%2FP31%3E+%2F+%3Chttp%3A%2F%2Fwww.wikidata.org%2Fprop%2Fdirect%2FP279%3E+*%29+%3Chttp%3A%2F%2Fwww.wikidata.org%2Fentity%2FQ19953632%3E+.%0A+%7D%0A+%29+%0A%29+.%0A%7D%0AGROUP+BY++%3Fvar1+%0A                                                                                                                                                                                                                                                                                                                                                                                                                                                                                                                                                                                                                                                                                                                                                                                                                                                                                                                                                                                                                                                                                                                                                                                                                                                                              ...  False    \n25660  SELECT%28++%3Fvar1++AS++%3Fvar2++%29%0AWHERE+%7B%0A++%3Chttp%3A%2F%2Fwww.wikidata.org%2Fentity%2FQ211907%3E+%28+%3Chttp%3A%2F%2Fwww.wikidata.org%2Fprop%2Fdirect%2FP131%3E+%2F+%3Chttp%3A%2F%2Fwww.wikidata.org%2Fprop%2Fdirect%2FP131%3E+*%29+%3Fvar3+.%0A++%3Fvar3+%28+%3Chttp%3A%2F%2Fwww.wikidata.org%2Fprop%2Fdirect%2FP31%3E+%2F+%3Chttp%3A%2F%2Fwww.wikidata.org%2Fprop%2Fdirect%2FP279%3E+*%29+%3Chttp%3A%2F%2Fwww.wikidata.org%2Fentity%2FQ10864048%3E+.%0A++%3Fvar1+%28+%3Chttp%3A%2F%2Fwww.wikidata.org%2Fprop%2Fdirect%2FP131%3E+%2F+%3Chttp%3A%2F%2Fwww.wikidata.org%2Fprop%2Fdirect%2FP131%3E+*%29+%3Fvar3+.%0A++%3Fvar1+%28+%3Chttp%3A%2F%2Fwww.wikidata.org%2Fprop%2Fdirect%2FP31%3E+%2F+%3Chttp%3A%2F%2Fwww.wikidata.org%2Fprop%2Fdirect%2FP279%3E+*%29+%3Chttp%3A%2F%2Fwww.wikidata.org%2Fentity%2FQ13221722%3E+.%0A+SERVICE++%3Chttp%3A%2F%2Fwikiba.se%2Fontology%23label%3E+++%7B%0A++++%3Chttp%3A%2F%2Fwww.bigdata.com%2Frdf%23serviceParam%3E++%3Chttp%3A%2F%2Fwikiba.se%2Fontology%23language%3E++%22fi%22.%0A++%7D%0A+FILTER+%28++%28++NOT+EXISTS++%7B%0A+++%3Fvar1+%28+%3Chttp%3A%2F%2Fwww.wikidata.org%2Fprop%2Fdirect%2FP31%3E+%2F+%3Chttp%3A%2F%2Fwww.wikidata.org%2Fprop%2Fdirect%2FP279%3E+*%29+%3Chttp%3A%2F%2Fwww.wikidata.org%2Fentity%2FQ19953632%3E+.%0A+%7D%0A+%29+%0A%29+.%0A%7D%0AGROUP+BY++%3Fvar1+%0A                                                                                                                                                                                                                                                                                                                                                                                                                                                                                                                                                                                                                                                                                                                                                                                                                                                                                                                                                                                                                                                                                                                                                                                                                                                                              ...  False    \n25662  SELECT+%3Fvar1++%3Fvar2+%28++GROUP_CONCAT+%28++DISTINCT++%3Fvar3++%29++AS++%3Fvar4++%29%0AWHERE+%7B%0A++VALUES+%28++%3Fvar5++%29+%7B%0A+++%28++%3Chttp%3A%2F%2Fwww.wikidata.org%2Fentity%2FQ11424%3E++%29%0A+++%28++%3Chttp%3A%2F%2Fwww.wikidata.org%2Fentity%2FQ24862%3E++%29%0A+++%28++%3Chttp%3A%2F%2Fwww.wikidata.org%2Fentity%2FQ506240%3E++%29%0A+++%28++%3Chttp%3A%2F%2Fwww.wikidata.org%2Fentity%2FQ336144%3E++%29%0A++%7D%0A++BIND+%28++%3Chttp%3A%2F%2Fwww.w3.org%2F2001%2FXMLSchema%23integer%3E++%28+STRAFTER+%28++STR+%28++%3Fvar1++%29+%2C+%22Q%22+%29+%29++AS++%3Fvar2+%29.%0A++%3Fvar1++%3Chttp%3A%2F%2Fwww.wikidata.org%2Fprop%2Fdirect%2FP31%3E++%3Fvar5+.%0A+FILTER+%28++%28+%28++%3Fvar2++%3E+%2228090000%22%5E%5E%3Chttp%3A%2F%2Fwww.w3.org%2F2001%2FXMLSchema%23integer%3E++%29+%29+%0A%29+.%0A+OPTIONAL+%7B%0A++BIND+%28++CONCAT+%28++%22%5B%22%2C+STR+%28++%3Fvar6++%29+%2C+%22+%22%2C+%3Fvar7+%2C+%22%5D%22+%29++AS++%3Fvar3+%29.%0A++%3Fvar6++%3Chttp%3A%2F%2Fschema.org%2Fabout%3E++%3Fvar1+%3B%0A+%3Chttp%3A%2F%2Fschema.org%2FinLanguage%3E++%3Fvar7+.%0A+%7D%0A%7D%0AGROUP+BY++%3Fvar1++%3Fvar2+%0AORDER+BY++DESC%28+%3Fvar2+%29%0ALIMIT+500%0A                                                                                                                                                                                                                                                                                                                                                                                                                                                                                                                                                                                                                                                                                                                                                                                                                                                                                                                                                                                                                                                                                                                                                                                                                                                                                                                                                                                                                                              ...  True     \n25663  SELECT+%3Fvar1+%0AWHERE+%7B%0A++%3Fvar1++%3Chttp%3A%2F%2Fwww.wikidata.org%2Fprop%2Fdirect%2FP345%3E++%3Fvar2+.%0A+FILTER+%28++%28++CONTAINS+%28++LCASE+%28++%3Fvar2++%29+%2C+%22nm1599776%22+%29++%29+%0A%29+.%0A+SERVICE++%3Chttp%3A%2F%2Fwikiba.se%2Fontology%23label%3E+++%7B%0A++++%3Chttp%3A%2F%2Fwww.bigdata.com%2Frdf%23serviceParam%3E++%3Chttp%3A%2F%2Fwikiba.se%2Fontology%23language%3E++%22en%22.%0A++%7D%0A%7D%0ALIMIT+1%0A                                                                                                                                                                                                                                                                                                                                                                                                                                                                                                                                                                                                                                                                                                                                                                                                                                                                                                                                                                                                                                                                                                                                                                                                                                                                                                                                                                                                                                                                                                                                                                                                                                                                                                                                                                                                                                                                                                                                                                                                                                                                                                                                                                                   ...  True     \n25664  SELECT+*%0AWHERE+%7B%0A++%3Fvar1++%3Chttp%3A%2F%2Fwww.wikidata.org%2Fprop%2Fdirect%2FP345%3E++%3Fvar2+.%0A+FILTER+%28++%28+%28++%3Fvar2++%3D++%22tt6483832%22+%29+%29+%0A%29+.%0A++%3Fvar3++%3Chttp%3A%2F%2Fschema.org%2Fabout%3E++%3Fvar1+%3B%0A+%3Chttp%3A%2F%2Fschema.org%2FinLanguage%3E++%22en%22%3B%0A+%3Chttp%3A%2F%2Fschema.org%2FisPartOf%3E++%3Chttps%3A%2F%2Fen.wikipedia.org%2F%3E+.%0A%7D%0A                                                                                                                                                                                                                                                                                                                                                                                                                                                                                                                                                                                                                                                                                                                                                                                                                                                                                                                                                                                                                                                                                                                                                                                                                                                                                                                                                                                                                                                                                                                                                                                                                                                                                                                                                                                                                                                                                                                                                                                                                                                                                                                                                                                                                  ...  False    \n25665  SELECT+DISTINCT+%3Fvar1++%3Fvar2+%0AWHERE+%7B%0A++%3Fvar1++%3Chttp%3A%2F%2Fwww.wikidata.org%2Fprop%2Fdirect%2FP31%3E++%3Chttp%3A%2F%2Fwww.wikidata.org%2Fentity%2FQ13442814%3E+.%0A++%3Fvar1++%3Chttp%3A%2F%2Fwww.wikidata.org%2Fprop%2Fdirect%2FP356%3E++%3Fvar2+.%0A++%3Fvar1++%3Chttp%3A%2F%2Fwww.wikidata.org%2Fprop%2Fdirect%2FP50%3E++%3Fvar3+.%0A++%3Fvar3++%3Chttp%3A%2F%2Fwww.wikidata.org%2Fprop%2Fdirect%2FP31%3E++%3Chttp%3A%2F%2Fwww.wikidata.org%2Fentity%2FQ5%3E+.%0A++MINUS+++%7B%0A++++%3Fvar3++%3Chttp%3A%2F%2Fwww.wikidata.org%2Fprop%2Fdirect%2FP496%3E++%5B%5D+.%0A++%7D%0A++MINUS+++%7B%0A++++%3Fvar3++%3Chttp%3A%2F%2Fwww.wikidata.org%2Fprop%2Fdirect%2FP570%3E++%5B%5D+.%0A++%7D%0A%7D%0AORDER+BY+ASC%28+RAND+%28++%29+%29%0ALIMIT+2000%0A                                                                                                                                                                                                                                                                                                                                                                                                                                                                                                                                                                                                                                                                                                                                                                                                                                                                                                                                                                                                                                                                                                                                                                                                                                                                                                                                                                                                                                                                                                                                                                                                                                                                                                                                                                                                                                                        ...  True     \n25666  SELECT+%3Fvar1++%3Fvar2++%3Fvar3+%28++IF+%28+%28++%3Fvar3++%3E+%2211%22%5E%5E%3Chttp%3A%2F%2Fwww.w3.org%2F2001%2FXMLSchema%23integer%3E++%29%2C+%22string1%22%2C+%22string2%22+%29++AS++%3Fvar4++%29%0AWHERE+%7B%0A++%3Fvar1++%3Chttp%3A%2F%2Fwikiba.se%2Fontology%23sitelinks%3E++%3Fvar2+%3B%0A+%3Chttp%3A%2F%2Fwikiba.se%2Fontology%23statements%3E++%3Fvar3+.%0A+FILTER+%28++%28+%28++%3Fvar2++%3E+%22180%22%5E%5E%3Chttp%3A%2F%2Fwww.w3.org%2F2001%2FXMLSchema%23integer%3E++%29+%29+%0A%29+.%0A%7D%0AORDER+BY++DESC%28+%3Fvar2+%29%0ALIMIT+1000%0A                                                                                                                                                                                                                                                                                                                                                                                                                                                                                                                                                                                                                                                                                                                                                                                                                                                                                                                                                                                                                                                                                                                                                                                                                                                                                                                                                                                                                                                                                                                                                                                                                                                                                                                                                                                                                                                                                                                                                                                                                                                                   ...  True     \n\n[17522 rows x 45 columns]",
      "text/html": "<div>\n<style scoped>\n    .dataframe tbody tr th:only-of-type {\n        vertical-align: middle;\n    }\n\n    .dataframe tbody tr th {\n        vertical-align: top;\n    }\n\n    .dataframe thead th {\n        text-align: right;\n    }\n</style>\n<table border=\"1\" class=\"dataframe\">\n  <thead>\n    <tr style=\"text-align: right;\">\n      <th></th>\n      <th>anonymizedQuery</th>\n      <th>timestamp</th>\n      <th>sourceCategory</th>\n      <th>user_agent</th>\n      <th>file_path</th>\n      <th>interval</th>\n      <th>rawAnonymizedQuery</th>\n      <th>query</th>\n      <th>visitor</th>\n      <th>counter_variable</th>\n      <th>counter_filter</th>\n      <th>counter_orderby</th>\n      <th>counter_limit</th>\n      <th>counter_select</th>\n      <th>counter_distinct</th>\n      <th>counter_modify</th>\n      <th>counter_tomultiset</th>\n      <th>counter_join</th>\n      <th>counter_bgp</th>\n      <th>counter_insertdata</th>\n      <th>counter_deletedata</th>\n      <th>counter_project</th>\n      <th>counter_union</th>\n      <th>counter_values</th>\n      <th>counter_groupby</th>\n      <th>counter_offset</th>\n      <th>counter_slice</th>\n      <th>has_variable</th>\n      <th>has_filter</th>\n      <th>has_orderby</th>\n      <th>has_limit</th>\n      <th>has_select</th>\n      <th>has_distinct</th>\n      <th>has_modify</th>\n      <th>has_tomultiset</th>\n      <th>has_join</th>\n      <th>has_bgp</th>\n      <th>has_insertdata</th>\n      <th>has_deletedata</th>\n      <th>has_project</th>\n      <th>has_union</th>\n      <th>has_values</th>\n      <th>has_groupby</th>\n      <th>has_slice</th>\n      <th>has_offset</th>\n    </tr>\n  </thead>\n  <tbody>\n    <tr>\n      <th>1</th>\n      <td>SELECT+DISTINCT+%3Fvar1+%0AWHERE+%7B%0A++BIND+%28++%28++NOW+%28++%29+-+%3Fvar2++%29++AS++%3Fvar3+%29.%0A++%3Fvar1++%3Chttp%3A%2F%2Fwww.wikidata.org%2Fprop%2Fdirect%2FP570%3E++%3Fvar2+.%0A+FILTER+%28++%28+%28++%3Fvar3++%3E%3D+%220%22%5E%5E%3Chttp%3A%2F%2Fwww.w3.org%2F2001%2FXMLSchema%23integer%3E++%29+%26%26+%28++%3Fvar3++%3C%3D+%225%22%5E%5E%3Chttp%3A%2F%2Fwww.w3.org%2F2001%2FXMLSchema%23integer%3E++%29+%29+%0A%29+.%0A++%3Fvar4++%3Chttp%3A%2F%2Fschema.org%2Fabout%3E++%3Fvar1+.%0A++%3Fvar4++%3Chttp%3A%2F%2Fschema.org%2FinLanguage%3E++%22es%22.%0A++%3Fvar4++%3Chttp%3A%2F%2Fschema.org%2FisPartOf%3E++%3Chttps%3A%2F%2Fes.wikipedia.org%2F%3E+.%0A%7D%0A</td>\n      <td>2018-02-26 00:04:13</td>\n      <td>robotic</td>\n      <td>UNKNOWN</td>\n      <td>../BadRequeteCrypt/I7_status500_Joined.tsv</td>\n      <td>7</td>\n      <td>SELECT DISTINCT ?var1 \\nWHERE {\\n  BIND (  (  NOW (  ) - ?var2  )  AS  ?var3 ).\\n  ?var1  &lt;http://www.wikidata.org/prop/direct/P570&gt;  ?var2 .\\n FILTER (  ( (  ?var3  &gt;= \"0\"^^&lt;http://www.w3.org/2001/XMLSchema#integer&gt;  ) &amp;&amp; (  ?var3  &lt;= \"5\"^^&lt;http://www.w3.org/2001/XMLSchema#integer&gt;  ) ) \\n) .\\n  ?var4  &lt;http://schema.org/about&gt;  ?var1 .\\n  ?var4  &lt;http://schema.org/inLanguage&gt;  \"es\".\\n  ?var4  &lt;http://schema.org/isPartOf&gt;  &lt;https://es.wikipedia.org/&gt; .\\n}\\n</td>\n      <td>&lt;rdflib.plugins.sparql.sparql.Query object at 0x7f26c0857050&gt;</td>\n      <td>&lt;__main__.FilterVisitor object at 0x7f26f3dd9c10&gt;</td>\n      <td>4</td>\n      <td>1</td>\n      <td>0</td>\n      <td>0</td>\n      <td>1</td>\n      <td>1</td>\n      <td>0</td>\n      <td>0</td>\n      <td>1</td>\n      <td>2</td>\n      <td>0</td>\n      <td>0</td>\n      <td>1</td>\n      <td>0</td>\n      <td>0</td>\n      <td>0</td>\n      <td>0</td>\n      <td>0</td>\n      <td>True</td>\n      <td>True</td>\n      <td>False</td>\n      <td>False</td>\n      <td>True</td>\n      <td>True</td>\n      <td>False</td>\n      <td>False</td>\n      <td>True</td>\n      <td>True</td>\n      <td>False</td>\n      <td>False</td>\n      <td>True</td>\n      <td>False</td>\n      <td>False</td>\n      <td>False</td>\n      <td>False</td>\n      <td>False</td>\n    </tr>\n    <tr>\n      <th>4</th>\n      <td>SELECT+%3Fvar1++%3Fvar2++%3Fvar3+%0AWHERE+%7B%0A++%3Fvar1+%28+%3Chttp%3A%2F%2Fwww.wikidata.org%2Fprop%2Fdirect%2FP31%3E+%2F+%3Chttp%3A%2F%2Fwww.wikidata.org%2Fprop%2Fdirect%2FP279%3E+*%29+%3Chttp%3A%2F%2Fwww.wikidata.org%2Fentity%2FQ1190554%3E+.%0A++%3Fvar1++%3Chttp%3A%2F%2Fwww.wikidata.org%2Fprop%2Fdirect%2FP585%3E++%3Fvar2+.%0A++%3Fvar3++%3Chttp%3A%2F%2Fschema.org%2Fabout%3E++%3Fvar1+.%0A++%3Fvar3++%3Chttp%3A%2F%2Fschema.org%2FisPartOf%3E++%3Chttps%3A%2F%2Fen.wikipedia.org%2F%3E+.%0A+FILTER+%28++%28+%28++DATATYPE+%28++%3Fvar2++%29++%3D++%3Chttp%3A%2F%2Fwww.w3.org%2F2001%2FXMLSchema%23dateTime%3E++%29+%26%26+%28++MONTH+%28++%3Fvar2++%29++%3D++MONTH+%28++NOW+%28++%29++%29++%29+%26%26+%28++DAY+%28++%3Fvar2++%29++%3D++DAY+%28++NOW+%28++%29++%29++%29+%29+%0A%29+.%0A%7D%0AORDER+BY++DESC%28+%3Fvar2+%29%0ALIMIT+5%0A</td>\n      <td>2018-02-26 00:04:45</td>\n      <td>robotic</td>\n      <td>UNKNOWN</td>\n      <td>../BadRequeteCrypt/I7_status500_Joined.tsv</td>\n      <td>7</td>\n      <td>SELECT ?var1  ?var2  ?var3 \\nWHERE {\\n  ?var1 ( &lt;http://www.wikidata.org/prop/direct/P31&gt; / &lt;http://www.wikidata.org/prop/direct/P279&gt;*) &lt;http://www.wikidata.org/entity/Q1190554&gt; .\\n  ?var1  &lt;http://www.wikidata.org/prop/direct/P585&gt;  ?var2 .\\n  ?var3  &lt;http://schema.org/about&gt;  ?var1 .\\n  ?var3  &lt;http://schema.org/isPartOf&gt;  &lt;https://en.wikipedia.org/&gt; .\\n FILTER (  ( (  DATATYPE (  ?var2  )  =  &lt;http://www.w3.org/2001/XMLSchema#dateTime&gt;  ) &amp;&amp; (  MONTH (  ?var2  )  =  MONTH (  NOW (  )  )  ) &amp;&amp; (  DAY (  ?var2  )  =  DAY (  NOW (  )  )  ) ) \\n) .\\n}\\nORDER BY  DESC( ?var2 )\\nLIMIT 5\\n</td>\n      <td>&lt;rdflib.plugins.sparql.sparql.Query object at 0x7f26c0693710&gt;</td>\n      <td>&lt;__main__.FilterVisitor object at 0x7f26c07c6210&gt;</td>\n      <td>3</td>\n      <td>1</td>\n      <td>1</td>\n      <td>1</td>\n      <td>1</td>\n      <td>0</td>\n      <td>0</td>\n      <td>0</td>\n      <td>0</td>\n      <td>1</td>\n      <td>0</td>\n      <td>0</td>\n      <td>1</td>\n      <td>0</td>\n      <td>0</td>\n      <td>0</td>\n      <td>1</td>\n      <td>1</td>\n      <td>True</td>\n      <td>True</td>\n      <td>True</td>\n      <td>True</td>\n      <td>True</td>\n      <td>False</td>\n      <td>False</td>\n      <td>False</td>\n      <td>False</td>\n      <td>True</td>\n      <td>False</td>\n      <td>False</td>\n      <td>True</td>\n      <td>False</td>\n      <td>False</td>\n      <td>False</td>\n      <td>True</td>\n      <td>True</td>\n    </tr>\n    <tr>\n      <th>5</th>\n      <td>SELECT+DISTINCT+%3Fvar1+%0AWHERE+%7B%0A++BIND+%28++%28++NOW+%28++%29+-+%3Fvar2++%29++AS++%3Fvar3+%29.%0A++%3Fvar1++%3Chttp%3A%2F%2Fwww.wikidata.org%2Fprop%2Fdirect%2FP570%3E++%3Fvar2+.%0A+FILTER+%28++%28+%28++%3Fvar3++%3E%3D+%220%22%5E%5E%3Chttp%3A%2F%2Fwww.w3.org%2F2001%2FXMLSchema%23integer%3E++%29+%26%26+%28++%3Fvar3++%3C%3D+%225%22%5E%5E%3Chttp%3A%2F%2Fwww.w3.org%2F2001%2FXMLSchema%23integer%3E++%29+%29+%0A%29+.%0A++%3Fvar4++%3Chttp%3A%2F%2Fschema.org%2Fabout%3E++%3Fvar1+.%0A++%3Fvar4++%3Chttp%3A%2F%2Fschema.org%2FinLanguage%3E++%22es%22.%0A++%3Fvar4++%3Chttp%3A%2F%2Fschema.org%2FisPartOf%3E++%3Chttps%3A%2F%2Fes.wikipedia.org%2F%3E+.%0A%7D%0A</td>\n      <td>2018-02-26 00:06:14</td>\n      <td>robotic</td>\n      <td>UNKNOWN</td>\n      <td>../BadRequeteCrypt/I7_status500_Joined.tsv</td>\n      <td>7</td>\n      <td>SELECT DISTINCT ?var1 \\nWHERE {\\n  BIND (  (  NOW (  ) - ?var2  )  AS  ?var3 ).\\n  ?var1  &lt;http://www.wikidata.org/prop/direct/P570&gt;  ?var2 .\\n FILTER (  ( (  ?var3  &gt;= \"0\"^^&lt;http://www.w3.org/2001/XMLSchema#integer&gt;  ) &amp;&amp; (  ?var3  &lt;= \"5\"^^&lt;http://www.w3.org/2001/XMLSchema#integer&gt;  ) ) \\n) .\\n  ?var4  &lt;http://schema.org/about&gt;  ?var1 .\\n  ?var4  &lt;http://schema.org/inLanguage&gt;  \"es\".\\n  ?var4  &lt;http://schema.org/isPartOf&gt;  &lt;https://es.wikipedia.org/&gt; .\\n}\\n</td>\n      <td>&lt;rdflib.plugins.sparql.sparql.Query object at 0x7f26be26b590&gt;</td>\n      <td>&lt;__main__.FilterVisitor object at 0x7f26f3dd9d90&gt;</td>\n      <td>4</td>\n      <td>1</td>\n      <td>0</td>\n      <td>0</td>\n      <td>1</td>\n      <td>1</td>\n      <td>0</td>\n      <td>0</td>\n      <td>1</td>\n      <td>2</td>\n      <td>0</td>\n      <td>0</td>\n      <td>1</td>\n      <td>0</td>\n      <td>0</td>\n      <td>0</td>\n      <td>0</td>\n      <td>0</td>\n      <td>True</td>\n      <td>True</td>\n      <td>False</td>\n      <td>False</td>\n      <td>True</td>\n      <td>True</td>\n      <td>False</td>\n      <td>False</td>\n      <td>True</td>\n      <td>True</td>\n      <td>False</td>\n      <td>False</td>\n      <td>True</td>\n      <td>False</td>\n      <td>False</td>\n      <td>False</td>\n      <td>False</td>\n      <td>False</td>\n    </tr>\n    <tr>\n      <th>7</th>\n      <td>SELECT+%3Fvar1++%3Fvar2++%3Fvar3+%0AWHERE+%7B%0A++%3Fvar1+%28+%3Chttp%3A%2F%2Fwww.wikidata.org%2Fprop%2Fdirect%2FP31%3E+%2F+%3Chttp%3A%2F%2Fwww.wikidata.org%2Fprop%2Fdirect%2FP279%3E+*%29+%3Chttp%3A%2F%2Fwww.wikidata.org%2Fentity%2FQ1190554%3E+.%0A++%3Fvar1++%3Chttp%3A%2F%2Fwww.wikidata.org%2Fprop%2Fdirect%2FP585%3E++%3Fvar2+.%0A++%3Fvar3++%3Chttp%3A%2F%2Fschema.org%2Fabout%3E++%3Fvar1+.%0A++%3Fvar3++%3Chttp%3A%2F%2Fschema.org%2FisPartOf%3E++%3Chttps%3A%2F%2Fen.wikipedia.org%2F%3E+.%0A+FILTER+%28++%28+%28++DATATYPE+%28++%3Fvar2++%29++%3D++%3Chttp%3A%2F%2Fwww.w3.org%2F2001%2FXMLSchema%23dateTime%3E++%29+%26%26+%28++MONTH+%28++%3Fvar2++%29++%3D++MONTH+%28++NOW+%28++%29++%29++%29+%26%26+%28++DAY+%28++%3Fvar2++%29++%3D++DAY+%28++NOW+%28++%29++%29++%29+%29+%0A%29+.%0A%7D%0AORDER+BY++DESC%28+%3Fvar2+%29%0ALIMIT+5%0A</td>\n      <td>2018-02-26 00:06:40</td>\n      <td>robotic</td>\n      <td>UNKNOWN</td>\n      <td>../BadRequeteCrypt/I7_status500_Joined.tsv</td>\n      <td>7</td>\n      <td>SELECT ?var1  ?var2  ?var3 \\nWHERE {\\n  ?var1 ( &lt;http://www.wikidata.org/prop/direct/P31&gt; / &lt;http://www.wikidata.org/prop/direct/P279&gt;*) &lt;http://www.wikidata.org/entity/Q1190554&gt; .\\n  ?var1  &lt;http://www.wikidata.org/prop/direct/P585&gt;  ?var2 .\\n  ?var3  &lt;http://schema.org/about&gt;  ?var1 .\\n  ?var3  &lt;http://schema.org/isPartOf&gt;  &lt;https://en.wikipedia.org/&gt; .\\n FILTER (  ( (  DATATYPE (  ?var2  )  =  &lt;http://www.w3.org/2001/XMLSchema#dateTime&gt;  ) &amp;&amp; (  MONTH (  ?var2  )  =  MONTH (  NOW (  )  )  ) &amp;&amp; (  DAY (  ?var2  )  =  DAY (  NOW (  )  )  ) ) \\n) .\\n}\\nORDER BY  DESC( ?var2 )\\nLIMIT 5\\n</td>\n      <td>&lt;rdflib.plugins.sparql.sparql.Query object at 0x7f26c06a1610&gt;</td>\n      <td>&lt;__main__.FilterVisitor object at 0x7f26be2b39d0&gt;</td>\n      <td>3</td>\n      <td>1</td>\n      <td>1</td>\n      <td>1</td>\n      <td>1</td>\n      <td>0</td>\n      <td>0</td>\n      <td>0</td>\n      <td>0</td>\n      <td>1</td>\n      <td>0</td>\n      <td>0</td>\n      <td>1</td>\n      <td>0</td>\n      <td>0</td>\n      <td>0</td>\n      <td>1</td>\n      <td>1</td>\n      <td>True</td>\n      <td>True</td>\n      <td>True</td>\n      <td>True</td>\n      <td>True</td>\n      <td>False</td>\n      <td>False</td>\n      <td>False</td>\n      <td>False</td>\n      <td>True</td>\n      <td>False</td>\n      <td>False</td>\n      <td>True</td>\n      <td>False</td>\n      <td>False</td>\n      <td>False</td>\n      <td>True</td>\n      <td>True</td>\n    </tr>\n    <tr>\n      <th>8</th>\n      <td>SELECT+%3Fvar1++%3Fvar2++%3Fvar3+%0AWHERE+%7B%0A++%3Fvar1+%28+%3Chttp%3A%2F%2Fwww.wikidata.org%2Fprop%2Fdirect%2FP31%3E+%2F+%3Chttp%3A%2F%2Fwww.wikidata.org%2Fprop%2Fdirect%2FP279%3E+*%29+%3Chttp%3A%2F%2Fwww.wikidata.org%2Fentity%2FQ1190554%3E+.%0A++%3Fvar1++%3Chttp%3A%2F%2Fwww.wikidata.org%2Fprop%2Fdirect%2FP585%3E++%3Fvar2+.%0A++%3Fvar3++%3Chttp%3A%2F%2Fschema.org%2Fabout%3E++%3Fvar1+.%0A++%3Fvar3++%3Chttp%3A%2F%2Fschema.org%2FisPartOf%3E++%3Chttps%3A%2F%2Fen.wikipedia.org%2F%3E+.%0A+FILTER+%28++%28+%28++DATATYPE+%28++%3Fvar2++%29++%3D++%3Chttp%3A%2F%2Fwww.w3.org%2F2001%2FXMLSchema%23dateTime%3E++%29+%26%26+%28++MONTH+%28++%3Fvar2++%29++%3D++MONTH+%28++NOW+%28++%29++%29++%29+%26%26+%28++DAY+%28++%3Fvar2++%29++%3D++DAY+%28++NOW+%28++%29++%29++%29+%29+%0A%29+.%0A%7D%0AORDER+BY++DESC%28+%3Fvar2+%29%0ALIMIT+5%0A</td>\n      <td>2018-02-26 00:09:46</td>\n      <td>robotic</td>\n      <td>UNKNOWN</td>\n      <td>../BadRequeteCrypt/I7_status500_Joined.tsv</td>\n      <td>7</td>\n      <td>SELECT ?var1  ?var2  ?var3 \\nWHERE {\\n  ?var1 ( &lt;http://www.wikidata.org/prop/direct/P31&gt; / &lt;http://www.wikidata.org/prop/direct/P279&gt;*) &lt;http://www.wikidata.org/entity/Q1190554&gt; .\\n  ?var1  &lt;http://www.wikidata.org/prop/direct/P585&gt;  ?var2 .\\n  ?var3  &lt;http://schema.org/about&gt;  ?var1 .\\n  ?var3  &lt;http://schema.org/isPartOf&gt;  &lt;https://en.wikipedia.org/&gt; .\\n FILTER (  ( (  DATATYPE (  ?var2  )  =  &lt;http://www.w3.org/2001/XMLSchema#dateTime&gt;  ) &amp;&amp; (  MONTH (  ?var2  )  =  MONTH (  NOW (  )  )  ) &amp;&amp; (  DAY (  ?var2  )  =  DAY (  NOW (  )  )  ) ) \\n) .\\n}\\nORDER BY  DESC( ?var2 )\\nLIMIT 5\\n</td>\n      <td>&lt;rdflib.plugins.sparql.sparql.Query object at 0x7f26c06f9650&gt;</td>\n      <td>&lt;__main__.FilterVisitor object at 0x7f26c0436650&gt;</td>\n      <td>3</td>\n      <td>1</td>\n      <td>1</td>\n      <td>1</td>\n      <td>1</td>\n      <td>0</td>\n      <td>0</td>\n      <td>0</td>\n      <td>0</td>\n      <td>1</td>\n      <td>0</td>\n      <td>0</td>\n      <td>1</td>\n      <td>0</td>\n      <td>0</td>\n      <td>0</td>\n      <td>1</td>\n      <td>1</td>\n      <td>True</td>\n      <td>True</td>\n      <td>True</td>\n      <td>True</td>\n      <td>True</td>\n      <td>False</td>\n      <td>False</td>\n      <td>False</td>\n      <td>False</td>\n      <td>True</td>\n      <td>False</td>\n      <td>False</td>\n      <td>True</td>\n      <td>False</td>\n      <td>False</td>\n      <td>False</td>\n      <td>True</td>\n      <td>True</td>\n    </tr>\n    <tr>\n      <th>9</th>\n      <td>SELECT+DISTINCT+%3Fvar1+%0AWHERE+%7B%0A+%7B%0A+++%3Fvar1++%3Chttp%3A%2F%2Fwww.wikidata.org%2Fprop%2Fdirect%2FP31%3E++%3Fvar2+.%0A+++%3Fvar2++%3Chttp%3A%2F%2Fwww.wikidata.org%2Fprop%2Fdirect%2FP279%3E+*+%3Chttp%3A%2F%2Fwww.wikidata.org%2Fentity%2FQ5193377%3E+.%0A+++%3Fvar1++%3Chttp%3A%2F%2Fwww.wikidata.org%2Fprop%2Fdirect%2FP131%3E++%3Fvar3+.%0A+++%3Fvar3++%3Chttp%3A%2F%2Fwww.wikidata.org%2Fprop%2Fdirect%2FP131%3E+*+%3Chttp%3A%2F%2Fwww.wikidata.org%2Fentity%2FQ1284%3E+.%0A+%7D%0A++UNION%0A+%7B%0A+++%3Fvar1++%3Chttp%3A%2F%2Fwww.wikidata.org%2Fprop%2Fdirect%2FP31%3E++%3Fvar2+.%0A+++%3Fvar2++%3Chttp%3A%2F%2Fwww.wikidata.org%2Fprop%2Fdirect%2FP279%3E+*+%3Chttp%3A%2F%2Fwww.wikidata.org%2Fentity%2FQ24354%3E+.%0A+++%3Fvar1++%3Chttp%3A%2F%2Fwww.wikidata.org%2Fprop%2Fdirect%2FP131%3E++%3Fvar3+.%0A+++%3Fvar3++%3Chttp%3A%2F%2Fwww.wikidata.org%2Fprop%2Fdirect%2FP131%3E+*+%3Chttp%3A%2F%2Fwww.wikidata.org%2Fentity%2FQ1284%3E+.%0A+%7D%0A++UNION%0A+%7B%0A+++%3Fvar1++%3Chttp%3A%2F%2Fwww.wikidata.org%2Fprop%2Fdirect%2FP31%3E++%3Fvar2+.%0A+++%3Fvar2++%3Chttp%3A%2F%2Fwww.wikidata.org%2Fprop%2Fdirect%2FP279%3E+*+%3Chttp%3A%2F%2Fwww.wikidata.org%2Fentity%2FQ839954%3E+.%0A+++%3Fvar1++%3Chttp%3A%2F%2Fwww.wikidata.org%2Fprop%2Fdirect%2FP131%3E++%3Fvar3+.%0A+++%3Fvar3++%3Chttp%3A%2F%2Fwww.wikidata.org%2Fprop%2Fdirect%2FP131%3E+*+%3Chttp%3A%2F%2Fwww.wikidata.org%2Fentity%2FQ1284%3E+.%0A+%7D%0A%7D%0A</td>\n      <td>2018-02-26 00:14:22</td>\n      <td>robotic</td>\n      <td>bot2</td>\n      <td>../BadRequeteCrypt/I7_status500_Joined.tsv</td>\n      <td>7</td>\n      <td>SELECT DISTINCT ?var1 \\nWHERE {\\n {\\n   ?var1  &lt;http://www.wikidata.org/prop/direct/P31&gt;  ?var2 .\\n   ?var2  &lt;http://www.wikidata.org/prop/direct/P279&gt;* &lt;http://www.wikidata.org/entity/Q5193377&gt; .\\n   ?var1  &lt;http://www.wikidata.org/prop/direct/P131&gt;  ?var3 .\\n   ?var3  &lt;http://www.wikidata.org/prop/direct/P131&gt;* &lt;http://www.wikidata.org/entity/Q1284&gt; .\\n }\\n  UNION\\n {\\n   ?var1  &lt;http://www.wikidata.org/prop/direct/P31&gt;  ?var2 .\\n   ?var2  &lt;http://www.wikidata.org/prop/direct/P279&gt;* &lt;http://www.wikidata.org/entity/Q24354&gt; .\\n   ?var1  &lt;http://www.wikidata.org/prop/direct/P131&gt;  ?var3 .\\n   ?var3  &lt;http://www.wikidata.org/prop/direct/P131&gt;* &lt;http://www.wikidata.org/entity/Q1284&gt; .\\n }\\n  UNION\\n {\\n   ?var1  &lt;http://www.wikidata.org/prop/direct/P31&gt;  ?var2 .\\n   ?var2  &lt;http://www.wikidata.org/prop/direct/P279&gt;* &lt;http://www.wikidata.org/entity/Q839954&gt; .\\n   ?var1  &lt;http://www.wikidata.org/prop/direct/P131&gt;  ?var3 .\\n   ?var3  &lt;http://www.wikidata.org/prop/direct/P131&gt;* &lt;http://www.wikidata.org/entity/Q1284&gt; .\\n }\\n}\\n</td>\n      <td>&lt;rdflib.plugins.sparql.sparql.Query object at 0x7f26c07af250&gt;</td>\n      <td>&lt;__main__.FilterVisitor object at 0x7f26c0436750&gt;</td>\n      <td>3</td>\n      <td>0</td>\n      <td>0</td>\n      <td>0</td>\n      <td>1</td>\n      <td>1</td>\n      <td>0</td>\n      <td>0</td>\n      <td>0</td>\n      <td>3</td>\n      <td>0</td>\n      <td>0</td>\n      <td>1</td>\n      <td>2</td>\n      <td>0</td>\n      <td>0</td>\n      <td>0</td>\n      <td>0</td>\n      <td>True</td>\n      <td>False</td>\n      <td>False</td>\n      <td>False</td>\n      <td>True</td>\n      <td>True</td>\n      <td>False</td>\n      <td>False</td>\n      <td>False</td>\n      <td>True</td>\n      <td>False</td>\n      <td>False</td>\n      <td>True</td>\n      <td>True</td>\n      <td>False</td>\n      <td>False</td>\n      <td>False</td>\n      <td>False</td>\n    </tr>\n    <tr>\n      <th>10</th>\n      <td>SELECT+%3Fvar1+%28+COUNT+%28+DISTINCT++STR+%28++%3Fvar1Label++%29++%29+AS++%3Fvar2++%29%28+COUNT+%28+%3Fvar1Label++%29+AS++%3Fvar3++%29%28++GROUP_CONCAT+%28++DISTINCT++STR+%28++%3Fvar1Label++%29+%3B+SEPARATOR+%3D++%22%3B+%22+%29++AS++%3Fvar4++%29%0AWHERE+%7B%0A++VALUES+%28++%3Fvar5++%29+%7B%0A+++%28++%3Chttp%3A%2F%2Fwww.wikidata.org%2Fentity%2FQ12308941%3E++%29%0A+++%28++%3Chttp%3A%2F%2Fwww.wikidata.org%2Fentity%2FQ11879590%3E++%29%0A++%7D%0A++BIND+%28++LANG+%28++%3Fvar1Label++%29++AS++%3Fvar6+%29.%0A++%3Fvar1++%3Chttp%3A%2F%2Fwww.wikidata.org%2Fprop%2Fdirect%2FP31%3E++%3Fvar5+.%0A++%3Fvar1++%3Chttp%3A%2F%2Fwww.w3.org%2F2000%2F01%2Frdf-schema%23label%3E++%3Fvar1Label+.%0A+FILTER+%28++%28++%3Fvar6++NOT+IN+%28++%22ru%22%2C+%22sr%22%2C+%22ja%22%2C+%22mk%22%2C+%22el%22%2C+%22be%22%2C+%22hy%22%2C+%22uk%22%2C+%22ar%22%2C+%22zh%22%2C+%22fa%22%2C+%22ko%22%2C+%22th%22%2C+%22pnb%22%2C+%22sd%22%2C+%22ur%22%2C+%22grc%22%2C+%22bh%22%2C+%22be-tarask%22%2C+%22ckb%22%2C+%22zh-hans%22%2C+%22zh-hant%22%2C+%22zh-hk%22%2C+%22zh-cn%22%2C+%22bn%22%2C+%22iu%22%2C+%22yue%22%2C+%22zh-sg%22%2C+%22zh-tw%22%2C+%22zh-mo%22%2C+%22zh-my%22%2C+%22arz%22%2C+%22os%22%2C+%22gu%22%2C+%22mai%22%2C+%22yi%22%2C+%22chr%22%2C+%22yue%22%2C+%22ka%22%2C+%22arc%22%2C+%22am%22%2C+%22ky%22%2C+%22kn%22%2C+%22sah%22%2C+%22sa%22%2C+%22cv%22%2C+%22ce%22%2C+%22av%22%2C+%22sr-ec%22%2C+%22he%22%2C+%22ba%22%2C+%22bg%22%2C+%22tt%22%2C+%22as%22%2C+%22ml%22%2C+%22ne%22%2C+%22mr%22%2C+%22ta%22%2C+%22te%22%2C+%22hi%22%2C+%22new%22%2C+%22kk%22%2C+%22kk-arab%22%2C+%22kk-cyrl%22%2C+%22kk-cn%22%2C+%22kk-kz%22+%29++%29+%0A%29+.%0A++MINUS+++%7B%0A++++%3Fvar1++%3Chttp%3A%2F%2Fwww.wikidata.org%2Fprop%2Fdirect%2FP31%3E++%3Chttp%3A%2F%2Fwww.wikidata.org%2Fentity%2FQ4167410%3E+.%0A++%7D%0A++MINUS+++%7B%0A++++%3Fvar1++%3Chttp%3A%2F%2Fwww.wikidata.org%2Fprop%2Fdirect%2FP31%3E++%3Chttp%3A%2F%2Fwww.wikidata.org%2Fentity%2FQ101352%3E+.%0A++%7D%0A+FILTER+%28++%28++%3Fvar1++NOT+IN+%28++%3Chttp%3A%2F%2Fwww.wikidata.org%2Fentity%2FQ307378%3E+%2C+%3Chttp%3A%2F%2Fwww.wikidata.org%2Fentity%2FQ317520%3E+%2C+%3Chttp%3A%2F%2Fwww.wikidata.org%2Fentity%2F860239%3E+%2C+%3Chttp%3A%2F%2Fwww.wikidata.org%2Fentity%2FQ860239%3E+%2C+%3Chttp%3A%2F%2Fwww.wikidata.org%2Fentity%2FQ477088%3E+%2C+%3Chttp%3A%2F%2Fwww.wikidata.org%2Fentity%2FQ19970288%3E++%29++%29+%0A%29+.%0A%7D%0AGROUP+BY++%3Fvar1+%0A+HAVING++%28+%28++%3Fvar2++%3E+%221%22%5E%5E%3Chttp%3A%2F%2Fwww.w3.org%2F2001%2FXMLSchema%23integer%3E++%29+%29+%0A+ORDER+BY++DESC%28+%3Fvar2+%29ASC%28+%3Fvar1+%29%0ALIMIT+1200%0A</td>\n      <td>2018-02-26 00:16:42</td>\n      <td>robotic</td>\n      <td>bot2</td>\n      <td>../BadRequeteCrypt/I7_status500_Joined.tsv</td>\n      <td>7</td>\n      <td>SELECT ?var1 ( COUNT ( DISTINCT  STR (  ?var1Label  )  ) AS  ?var2  )( COUNT ( ?var1Label  ) AS  ?var3  )(  GROUP_CONCAT (  DISTINCT  STR (  ?var1Label  ) ; SEPARATOR =  \"; \" )  AS  ?var4  )\\nWHERE {\\n  VALUES (  ?var5  ) {\\n   (  &lt;http://www.wikidata.org/entity/Q12308941&gt;  )\\n   (  &lt;http://www.wikidata.org/entity/Q11879590&gt;  )\\n  }\\n  BIND (  LANG (  ?var1Label  )  AS  ?var6 ).\\n  ?var1  &lt;http://www.wikidata.org/prop/direct/P31&gt;  ?var5 .\\n  ?var1  &lt;http://www.w3.org/2000/01/rdf-schema#label&gt;  ?var1Label .\\n FILTER (  (  ?var6  NOT IN (  \"ru\", \"sr\", \"ja\", \"mk\", \"el\", \"be\", \"hy\", \"uk\", \"ar\", \"zh\", \"fa\", \"ko\", \"th\", \"pnb\", \"sd\", \"ur\", \"grc\", \"bh\", \"be-tarask\", \"ckb\", \"zh-hans\", \"zh-hant\", \"zh-hk\", \"zh-cn\", \"bn\", \"iu\", \"yue\", \"zh-sg\", \"zh-tw\", \"zh-mo\", \"zh-my\", \"arz\", \"os\", \"gu\", \"mai\", \"yi\", \"chr\", \"yue\", \"ka\", \"arc\", \"am\", \"ky\", \"kn\", \"sah\", \"sa\", \"cv\", \"ce\", \"av\", \"sr-ec\", \"he\", \"ba\", \"bg\", \"tt\", \"as\", \"ml\", \"ne\", \"mr\", \"ta\", \"te\", \"hi\", \"new\", \"kk\", \"kk-arab\", \"kk-cyrl\", \"kk-cn\", \"kk-kz\" )  ) \\n) .\\n  MINUS   {\\n    ?var1  &lt;http://www.wikidata.org/prop/direct/P31&gt;  &lt;http://www.wikidata.org/entity/Q4167410&gt; .\\n  }\\n  MINUS   {\\n    ?var1  &lt;http://www.wikidata.org/prop/direct/P31&gt;  &lt;http://www.wikidata.org/entity/Q101352&gt; .\\n  }\\n FILTER (  (  ?var1  NOT IN (  &lt;http://www.wikidata.org/entity/Q307378&gt; , &lt;http://www.wikidata.org/entity/Q317520&gt; , &lt;http://www.wikidata.org/entity/860239&gt; , &lt;http://www.wikidata.org/entity/Q860239&gt; , &lt;http://www.wikidata.org/entity/Q477088&gt; , &lt;http://www.wikidata.org/entity/Q19970288&gt;  )  ) \\n) .\\n}\\nGROUP BY  ?var1 \\n HAVING  ( (  ?var2  &gt; \"1\"^^&lt;http://www.w3.org/2001/XMLSchema#integer&gt;  ) ) \\n ORDER BY  DESC( ?var2 )ASC( ?var1 )\\nLIMIT 1200\\n</td>\n      <td>&lt;rdflib.plugins.sparql.sparql.Query object at 0x7f26be2b3e50&gt;</td>\n      <td>&lt;__main__.FilterVisitor object at 0x7f26c04364d0&gt;</td>\n      <td>11</td>\n      <td>2</td>\n      <td>1</td>\n      <td>1</td>\n      <td>1</td>\n      <td>0</td>\n      <td>0</td>\n      <td>1</td>\n      <td>1</td>\n      <td>3</td>\n      <td>0</td>\n      <td>0</td>\n      <td>1</td>\n      <td>0</td>\n      <td>1</td>\n      <td>1</td>\n      <td>1</td>\n      <td>1</td>\n      <td>True</td>\n      <td>True</td>\n      <td>True</td>\n      <td>True</td>\n      <td>True</td>\n      <td>False</td>\n      <td>False</td>\n      <td>True</td>\n      <td>True</td>\n      <td>True</td>\n      <td>False</td>\n      <td>False</td>\n      <td>True</td>\n      <td>False</td>\n      <td>True</td>\n      <td>True</td>\n      <td>True</td>\n      <td>True</td>\n    </tr>\n    <tr>\n      <th>11</th>\n      <td>SELECT+%3Fvar1++%3Fvar2++%3Fvar3++%3Fvar4++%3Fvar5+%0AWHERE+%7B%0A++%3Fvar1++%3Chttp%3A%2F%2Fwww.wikidata.org%2Fprop%2Fdirect%2FP971%3E++%3Fvar3+%2C++%3Fvar4+%2C++%3Fvar5+.%0A+FILTER+%28++%28+%28++%3Fvar3++%21%3D++%3Fvar4++%29+%29+%0A%29+.%0A+FILTER+%28++%28+%28++%3Fvar4++%21%3D++%3Fvar5++%29+%29+%0A%29+.%0A+FILTER+%28++%28+%28++%3Fvar3++%21%3D++%3Fvar5++%29+%29+%0A%29+.%0A++%3Fvar2++%3Chttp%3A%2F%2Fwww.wikidata.org%2Fprop%2Fdirect%2FP971%3E++%3Fvar3+%2C++%3Fvar4+%2C++%3Fvar5+.%0A+FILTER+%28++%28+%28++%3Fvar1++%21%3D++%3Fvar2++%29+%29+%0A%29+.%0A+SERVICE++%3Chttp%3A%2F%2Fwikiba.se%2Fontology%23label%3E+++%7B%0A++++%3Chttp%3A%2F%2Fwww.bigdata.com%2Frdf%23serviceParam%3E++%3Chttp%3A%2F%2Fwikiba.se%2Fontology%23language%3E++%22ar%2Cen%22.%0A++%7D%0A%7D%0ALIMIT+30%0A</td>\n      <td>2018-02-26 00:26:47</td>\n      <td>robotic</td>\n      <td>bot2</td>\n      <td>../BadRequeteCrypt/I7_status500_Joined.tsv</td>\n      <td>7</td>\n      <td>SELECT ?var1  ?var2  ?var3  ?var4  ?var5 \\nWHERE {\\n  ?var1  &lt;http://www.wikidata.org/prop/direct/P971&gt;  ?var3 ,  ?var4 ,  ?var5 .\\n FILTER (  ( (  ?var3  !=  ?var4  ) ) \\n) .\\n FILTER (  ( (  ?var4  !=  ?var5  ) ) \\n) .\\n FILTER (  ( (  ?var3  !=  ?var5  ) ) \\n) .\\n  ?var2  &lt;http://www.wikidata.org/prop/direct/P971&gt;  ?var3 ,  ?var4 ,  ?var5 .\\n FILTER (  ( (  ?var1  !=  ?var2  ) ) \\n) .\\n SERVICE  &lt;http://wikiba.se/ontology#label&gt;   {\\n    &lt;http://www.bigdata.com/rdf#serviceParam&gt;  &lt;http://wikiba.se/ontology#language&gt;  \"ar,en\".\\n  }\\n}\\nLIMIT 30\\n</td>\n      <td>&lt;rdflib.plugins.sparql.sparql.Query object at 0x7f26be203f50&gt;</td>\n      <td>&lt;__main__.FilterVisitor object at 0x7f26c0436550&gt;</td>\n      <td>5</td>\n      <td>1</td>\n      <td>0</td>\n      <td>1</td>\n      <td>1</td>\n      <td>0</td>\n      <td>0</td>\n      <td>0</td>\n      <td>1</td>\n      <td>1</td>\n      <td>0</td>\n      <td>0</td>\n      <td>1</td>\n      <td>0</td>\n      <td>0</td>\n      <td>0</td>\n      <td>1</td>\n      <td>1</td>\n      <td>True</td>\n      <td>True</td>\n      <td>False</td>\n      <td>True</td>\n      <td>True</td>\n      <td>False</td>\n      <td>False</td>\n      <td>False</td>\n      <td>True</td>\n      <td>True</td>\n      <td>False</td>\n      <td>False</td>\n      <td>True</td>\n      <td>False</td>\n      <td>False</td>\n      <td>False</td>\n      <td>True</td>\n      <td>True</td>\n    </tr>\n    <tr>\n      <th>13</th>\n      <td>SELECT+DISTINCT+%3Fvar1+%0AWHERE+%7B%0A++%3Fvar1++%3Chttp%3A%2F%2Fwww.wikidata.org%2Fprop%2Fdirect%2FP31%3E++%3Chttp%3A%2F%2Fwww.wikidata.org%2Fentity%2FQ5%3E+%3B%0A+%3Chttp%3A%2F%2Fwww.wikidata.org%2Fprop%2Fdirect%2FP17%3E++%5B%5D+%3B%0A+%3Chttp%3A%2F%2Fwww.wikidata.org%2Fprop%2Fdirect%2FP569%3E++%3Fvar2+.%0A+FILTER+%28++%28+%28++YEAR+%28++%3Fvar2++%29++%3E+%221850%22%5E%5E%3Chttp%3A%2F%2Fwww.w3.org%2F2001%2FXMLSchema%23integer%3E++%29+%29+%0A%29+.%0A%7D%0A</td>\n      <td>2018-02-26 00:31:10</td>\n      <td>robotic</td>\n      <td>UNKNOWN</td>\n      <td>../BadRequeteCrypt/I7_status500_Joined.tsv</td>\n      <td>7</td>\n      <td>SELECT DISTINCT ?var1 \\nWHERE {\\n  ?var1  &lt;http://www.wikidata.org/prop/direct/P31&gt;  &lt;http://www.wikidata.org/entity/Q5&gt; ;\\n &lt;http://www.wikidata.org/prop/direct/P17&gt;  [] ;\\n &lt;http://www.wikidata.org/prop/direct/P569&gt;  ?var2 .\\n FILTER (  ( (  YEAR (  ?var2  )  &gt; \"1850\"^^&lt;http://www.w3.org/2001/XMLSchema#integer&gt;  ) ) \\n) .\\n}\\n</td>\n      <td>&lt;rdflib.plugins.sparql.sparql.Query object at 0x7f26be1eeed0&gt;</td>\n      <td>&lt;__main__.FilterVisitor object at 0x7f26be1a4750&gt;</td>\n      <td>2</td>\n      <td>1</td>\n      <td>0</td>\n      <td>0</td>\n      <td>1</td>\n      <td>1</td>\n      <td>0</td>\n      <td>0</td>\n      <td>0</td>\n      <td>1</td>\n      <td>0</td>\n      <td>0</td>\n      <td>1</td>\n      <td>0</td>\n      <td>0</td>\n      <td>0</td>\n      <td>0</td>\n      <td>0</td>\n      <td>True</td>\n      <td>True</td>\n      <td>False</td>\n      <td>False</td>\n      <td>True</td>\n      <td>True</td>\n      <td>False</td>\n      <td>False</td>\n      <td>False</td>\n      <td>True</td>\n      <td>False</td>\n      <td>False</td>\n      <td>True</td>\n      <td>False</td>\n      <td>False</td>\n      <td>False</td>\n      <td>False</td>\n      <td>False</td>\n    </tr>\n    <tr>\n      <th>...</th>\n      <td>...</td>\n      <td>...</td>\n      <td>...</td>\n      <td>...</td>\n      <td>...</td>\n      <td>...</td>\n      <td>...</td>\n      <td>...</td>\n      <td>...</td>\n      <td>...</td>\n      <td>...</td>\n      <td>...</td>\n      <td>...</td>\n      <td>...</td>\n      <td>...</td>\n      <td>...</td>\n      <td>...</td>\n      <td>...</td>\n      <td>...</td>\n      <td>...</td>\n      <td>...</td>\n      <td>...</td>\n      <td>...</td>\n      <td>...</td>\n      <td>...</td>\n      <td>...</td>\n      <td>...</td>\n      <td>...</td>\n      <td>...</td>\n      <td>...</td>\n      <td>...</td>\n      <td>...</td>\n      <td>...</td>\n      <td>...</td>\n      <td>...</td>\n      <td>...</td>\n      <td>...</td>\n      <td>...</td>\n      <td>...</td>\n      <td>...</td>\n      <td>...</td>\n      <td>...</td>\n      <td>...</td>\n      <td>...</td>\n      <td>...</td>\n    </tr>\n    <tr>\n      <th>25657</th>\n      <td>SELECT+DISTINCT+%3Fvar1+%0AWHERE+%7B%0A++%3Fvar1++%3Chttp%3A%2F%2Fwww.wikidata.org%2Fprop%2Fdirect%2FP31%3E++%3Chttp%3A%2F%2Fwww.wikidata.org%2Fentity%2FQ5%3E+%3B%0A+%3Chttp%3A%2F%2Fwww.wikidata.org%2Fprop%2Fdirect%2FP17%3E++%5B%5D+%3B%0A+%3Chttp%3A%2F%2Fwww.wikidata.org%2Fprop%2Fdirect%2FP569%3E++%3Fvar2+.%0A+FILTER+%28++%28+%28++YEAR+%28++%3Fvar2++%29++%3E+%221850%22%5E%5E%3Chttp%3A%2F%2Fwww.w3.org%2F2001%2FXMLSchema%23integer%3E++%29+%29+%0A%29+.%0A%7D%0A</td>\n      <td>2018-03-25 23:31:13</td>\n      <td>robotic</td>\n      <td>UNKNOWN</td>\n      <td>../BadRequeteCrypt/I7_status500_Joined.tsv</td>\n      <td>7</td>\n      <td>SELECT DISTINCT ?var1 \\nWHERE {\\n  ?var1  &lt;http://www.wikidata.org/prop/direct/P31&gt;  &lt;http://www.wikidata.org/entity/Q5&gt; ;\\n &lt;http://www.wikidata.org/prop/direct/P17&gt;  [] ;\\n &lt;http://www.wikidata.org/prop/direct/P569&gt;  ?var2 .\\n FILTER (  ( (  YEAR (  ?var2  )  &gt; \"1850\"^^&lt;http://www.w3.org/2001/XMLSchema#integer&gt;  ) ) \\n) .\\n}\\n</td>\n      <td>&lt;rdflib.plugins.sparql.sparql.Query object at 0x7f26816b8150&gt;</td>\n      <td>&lt;__main__.FilterVisitor object at 0x7f2686186a50&gt;</td>\n      <td>2</td>\n      <td>1</td>\n      <td>0</td>\n      <td>0</td>\n      <td>1</td>\n      <td>1</td>\n      <td>0</td>\n      <td>0</td>\n      <td>0</td>\n      <td>1</td>\n      <td>0</td>\n      <td>0</td>\n      <td>1</td>\n      <td>0</td>\n      <td>0</td>\n      <td>0</td>\n      <td>0</td>\n      <td>0</td>\n      <td>True</td>\n      <td>True</td>\n      <td>False</td>\n      <td>False</td>\n      <td>True</td>\n      <td>True</td>\n      <td>False</td>\n      <td>False</td>\n      <td>False</td>\n      <td>True</td>\n      <td>False</td>\n      <td>False</td>\n      <td>True</td>\n      <td>False</td>\n      <td>False</td>\n      <td>False</td>\n      <td>False</td>\n      <td>False</td>\n    </tr>\n    <tr>\n      <th>25658</th>\n      <td>SELECT%28++%3Fvar1++AS++%3Fvar2++%29%0AWHERE+%7B%0A++%3Chttp%3A%2F%2Fwww.wikidata.org%2Fentity%2FQ211907%3E+%28+%3Chttp%3A%2F%2Fwww.wikidata.org%2Fprop%2Fdirect%2FP131%3E+%2F+%3Chttp%3A%2F%2Fwww.wikidata.org%2Fprop%2Fdirect%2FP131%3E+*%29+%3Fvar3+.%0A++%3Fvar3+%28+%3Chttp%3A%2F%2Fwww.wikidata.org%2Fprop%2Fdirect%2FP31%3E+%2F+%3Chttp%3A%2F%2Fwww.wikidata.org%2Fprop%2Fdirect%2FP279%3E+*%29+%3Chttp%3A%2F%2Fwww.wikidata.org%2Fentity%2FQ10864048%3E+.%0A++%3Fvar1+%28+%3Chttp%3A%2F%2Fwww.wikidata.org%2Fprop%2Fdirect%2FP131%3E+%2F+%3Chttp%3A%2F%2Fwww.wikidata.org%2Fprop%2Fdirect%2FP131%3E+*%29+%3Fvar3+.%0A++%3Fvar1+%28+%3Chttp%3A%2F%2Fwww.wikidata.org%2Fprop%2Fdirect%2FP31%3E+%2F+%3Chttp%3A%2F%2Fwww.wikidata.org%2Fprop%2Fdirect%2FP279%3E+*%29+%3Chttp%3A%2F%2Fwww.wikidata.org%2Fentity%2FQ13220204%3E+.%0A+SERVICE++%3Chttp%3A%2F%2Fwikiba.se%2Fontology%23label%3E+++%7B%0A++++%3Chttp%3A%2F%2Fwww.bigdata.com%2Frdf%23serviceParam%3E++%3Chttp%3A%2F%2Fwikiba.se%2Fontology%23language%3E++%22fi%22.%0A++%7D%0A+FILTER+%28++%28++NOT+EXISTS++%7B%0A+++%3Fvar1+%28+%3Chttp%3A%2F%2Fwww.wikidata.org%2Fprop%2Fdirect%2FP31%3E+%2F+%3Chttp%3A%2F%2Fwww.wikidata.org%2Fprop%2Fdirect%2FP279%3E+*%29+%3Chttp%3A%2F%2Fwww.wikidata.org%2Fentity%2FQ19953632%3E+.%0A+%7D%0A+%29+%0A%29+.%0A%7D%0AGROUP+BY++%3Fvar1+%0A</td>\n      <td>2018-03-25 23:32:09</td>\n      <td>robotic</td>\n      <td>UNKNOWN</td>\n      <td>../BadRequeteCrypt/I7_status500_Joined.tsv</td>\n      <td>7</td>\n      <td>SELECT(  ?var1  AS  ?var2  )\\nWHERE {\\n  &lt;http://www.wikidata.org/entity/Q211907&gt; ( &lt;http://www.wikidata.org/prop/direct/P131&gt; / &lt;http://www.wikidata.org/prop/direct/P131&gt;*) ?var3 .\\n  ?var3 ( &lt;http://www.wikidata.org/prop/direct/P31&gt; / &lt;http://www.wikidata.org/prop/direct/P279&gt;*) &lt;http://www.wikidata.org/entity/Q10864048&gt; .\\n  ?var1 ( &lt;http://www.wikidata.org/prop/direct/P131&gt; / &lt;http://www.wikidata.org/prop/direct/P131&gt;*) ?var3 .\\n  ?var1 ( &lt;http://www.wikidata.org/prop/direct/P31&gt; / &lt;http://www.wikidata.org/prop/direct/P279&gt;*) &lt;http://www.wikidata.org/entity/Q13220204&gt; .\\n SERVICE  &lt;http://wikiba.se/ontology#label&gt;   {\\n    &lt;http://www.bigdata.com/rdf#serviceParam&gt;  &lt;http://wikiba.se/ontology#language&gt;  \"fi\".\\n  }\\n FILTER (  (  NOT EXISTS  {\\n   ?var1 ( &lt;http://www.wikidata.org/prop/direct/P31&gt; / &lt;http://www.wikidata.org/prop/direct/P279&gt;*) &lt;http://www.wikidata.org/entity/Q19953632&gt; .\\n }\\n ) \\n) .\\n}\\nGROUP BY  ?var1 \\n</td>\n      <td>&lt;rdflib.plugins.sparql.sparql.Query object at 0x7f2680eda1d0&gt;</td>\n      <td>&lt;__main__.FilterVisitor object at 0x7f2686186f10&gt;</td>\n      <td>4</td>\n      <td>1</td>\n      <td>0</td>\n      <td>0</td>\n      <td>1</td>\n      <td>0</td>\n      <td>0</td>\n      <td>0</td>\n      <td>1</td>\n      <td>1</td>\n      <td>0</td>\n      <td>0</td>\n      <td>1</td>\n      <td>0</td>\n      <td>0</td>\n      <td>1</td>\n      <td>0</td>\n      <td>0</td>\n      <td>True</td>\n      <td>True</td>\n      <td>False</td>\n      <td>False</td>\n      <td>True</td>\n      <td>False</td>\n      <td>False</td>\n      <td>False</td>\n      <td>True</td>\n      <td>True</td>\n      <td>False</td>\n      <td>False</td>\n      <td>True</td>\n      <td>False</td>\n      <td>False</td>\n      <td>True</td>\n      <td>False</td>\n      <td>False</td>\n    </tr>\n    <tr>\n      <th>25659</th>\n      <td>SELECT%28++%3Fvar1++AS++%3Fvar2++%29%0AWHERE+%7B%0A++%3Chttp%3A%2F%2Fwww.wikidata.org%2Fentity%2FQ211907%3E+%28+%3Chttp%3A%2F%2Fwww.wikidata.org%2Fprop%2Fdirect%2FP131%3E+%2F+%3Chttp%3A%2F%2Fwww.wikidata.org%2Fprop%2Fdirect%2FP131%3E+*%29+%3Fvar3+.%0A++%3Fvar3+%28+%3Chttp%3A%2F%2Fwww.wikidata.org%2Fprop%2Fdirect%2FP31%3E+%2F+%3Chttp%3A%2F%2Fwww.wikidata.org%2Fprop%2Fdirect%2FP279%3E+*%29+%3Chttp%3A%2F%2Fwww.wikidata.org%2Fentity%2FQ10864048%3E+.%0A++%3Fvar1+%28+%3Chttp%3A%2F%2Fwww.wikidata.org%2Fprop%2Fdirect%2FP131%3E+%2F+%3Chttp%3A%2F%2Fwww.wikidata.org%2Fprop%2Fdirect%2FP131%3E+*%29+%3Fvar3+.%0A++%3Fvar1+%28+%3Chttp%3A%2F%2Fwww.wikidata.org%2Fprop%2Fdirect%2FP31%3E+%2F+%3Chttp%3A%2F%2Fwww.wikidata.org%2Fprop%2Fdirect%2FP279%3E+*%29+%3Chttp%3A%2F%2Fwww.wikidata.org%2Fentity%2FQ13221722%3E+.%0A+SERVICE++%3Chttp%3A%2F%2Fwikiba.se%2Fontology%23label%3E+++%7B%0A++++%3Chttp%3A%2F%2Fwww.bigdata.com%2Frdf%23serviceParam%3E++%3Chttp%3A%2F%2Fwikiba.se%2Fontology%23language%3E++%22fi%22.%0A++%7D%0A+FILTER+%28++%28++NOT+EXISTS++%7B%0A+++%3Fvar1+%28+%3Chttp%3A%2F%2Fwww.wikidata.org%2Fprop%2Fdirect%2FP31%3E+%2F+%3Chttp%3A%2F%2Fwww.wikidata.org%2Fprop%2Fdirect%2FP279%3E+*%29+%3Chttp%3A%2F%2Fwww.wikidata.org%2Fentity%2FQ19953632%3E+.%0A+%7D%0A+%29+%0A%29+.%0A%7D%0AGROUP+BY++%3Fvar1+%0A</td>\n      <td>2018-03-25 23:32:09</td>\n      <td>robotic</td>\n      <td>UNKNOWN</td>\n      <td>../BadRequeteCrypt/I7_status500_Joined.tsv</td>\n      <td>7</td>\n      <td>SELECT(  ?var1  AS  ?var2  )\\nWHERE {\\n  &lt;http://www.wikidata.org/entity/Q211907&gt; ( &lt;http://www.wikidata.org/prop/direct/P131&gt; / &lt;http://www.wikidata.org/prop/direct/P131&gt;*) ?var3 .\\n  ?var3 ( &lt;http://www.wikidata.org/prop/direct/P31&gt; / &lt;http://www.wikidata.org/prop/direct/P279&gt;*) &lt;http://www.wikidata.org/entity/Q10864048&gt; .\\n  ?var1 ( &lt;http://www.wikidata.org/prop/direct/P131&gt; / &lt;http://www.wikidata.org/prop/direct/P131&gt;*) ?var3 .\\n  ?var1 ( &lt;http://www.wikidata.org/prop/direct/P31&gt; / &lt;http://www.wikidata.org/prop/direct/P279&gt;*) &lt;http://www.wikidata.org/entity/Q13221722&gt; .\\n SERVICE  &lt;http://wikiba.se/ontology#label&gt;   {\\n    &lt;http://www.bigdata.com/rdf#serviceParam&gt;  &lt;http://wikiba.se/ontology#language&gt;  \"fi\".\\n  }\\n FILTER (  (  NOT EXISTS  {\\n   ?var1 ( &lt;http://www.wikidata.org/prop/direct/P31&gt; / &lt;http://www.wikidata.org/prop/direct/P279&gt;*) &lt;http://www.wikidata.org/entity/Q19953632&gt; .\\n }\\n ) \\n) .\\n}\\nGROUP BY  ?var1 \\n</td>\n      <td>&lt;rdflib.plugins.sparql.sparql.Query object at 0x7f268102b290&gt;</td>\n      <td>&lt;__main__.FilterVisitor object at 0x7f2685f77890&gt;</td>\n      <td>4</td>\n      <td>1</td>\n      <td>0</td>\n      <td>0</td>\n      <td>1</td>\n      <td>0</td>\n      <td>0</td>\n      <td>0</td>\n      <td>1</td>\n      <td>1</td>\n      <td>0</td>\n      <td>0</td>\n      <td>1</td>\n      <td>0</td>\n      <td>0</td>\n      <td>1</td>\n      <td>0</td>\n      <td>0</td>\n      <td>True</td>\n      <td>True</td>\n      <td>False</td>\n      <td>False</td>\n      <td>True</td>\n      <td>False</td>\n      <td>False</td>\n      <td>False</td>\n      <td>True</td>\n      <td>True</td>\n      <td>False</td>\n      <td>False</td>\n      <td>True</td>\n      <td>False</td>\n      <td>False</td>\n      <td>True</td>\n      <td>False</td>\n      <td>False</td>\n    </tr>\n    <tr>\n      <th>25660</th>\n      <td>SELECT%28++%3Fvar1++AS++%3Fvar2++%29%0AWHERE+%7B%0A++%3Chttp%3A%2F%2Fwww.wikidata.org%2Fentity%2FQ211907%3E+%28+%3Chttp%3A%2F%2Fwww.wikidata.org%2Fprop%2Fdirect%2FP131%3E+%2F+%3Chttp%3A%2F%2Fwww.wikidata.org%2Fprop%2Fdirect%2FP131%3E+*%29+%3Fvar3+.%0A++%3Fvar3+%28+%3Chttp%3A%2F%2Fwww.wikidata.org%2Fprop%2Fdirect%2FP31%3E+%2F+%3Chttp%3A%2F%2Fwww.wikidata.org%2Fprop%2Fdirect%2FP279%3E+*%29+%3Chttp%3A%2F%2Fwww.wikidata.org%2Fentity%2FQ10864048%3E+.%0A++%3Fvar1+%28+%3Chttp%3A%2F%2Fwww.wikidata.org%2Fprop%2Fdirect%2FP131%3E+%2F+%3Chttp%3A%2F%2Fwww.wikidata.org%2Fprop%2Fdirect%2FP131%3E+*%29+%3Fvar3+.%0A++%3Fvar1+%28+%3Chttp%3A%2F%2Fwww.wikidata.org%2Fprop%2Fdirect%2FP31%3E+%2F+%3Chttp%3A%2F%2Fwww.wikidata.org%2Fprop%2Fdirect%2FP279%3E+*%29+%3Chttp%3A%2F%2Fwww.wikidata.org%2Fentity%2FQ13221722%3E+.%0A+SERVICE++%3Chttp%3A%2F%2Fwikiba.se%2Fontology%23label%3E+++%7B%0A++++%3Chttp%3A%2F%2Fwww.bigdata.com%2Frdf%23serviceParam%3E++%3Chttp%3A%2F%2Fwikiba.se%2Fontology%23language%3E++%22fi%22.%0A++%7D%0A+FILTER+%28++%28++NOT+EXISTS++%7B%0A+++%3Fvar1+%28+%3Chttp%3A%2F%2Fwww.wikidata.org%2Fprop%2Fdirect%2FP31%3E+%2F+%3Chttp%3A%2F%2Fwww.wikidata.org%2Fprop%2Fdirect%2FP279%3E+*%29+%3Chttp%3A%2F%2Fwww.wikidata.org%2Fentity%2FQ19953632%3E+.%0A+%7D%0A+%29+%0A%29+.%0A%7D%0AGROUP+BY++%3Fvar1+%0A</td>\n      <td>2018-03-25 23:32:09</td>\n      <td>robotic</td>\n      <td>UNKNOWN</td>\n      <td>../BadRequeteCrypt/I7_status500_Joined.tsv</td>\n      <td>7</td>\n      <td>SELECT(  ?var1  AS  ?var2  )\\nWHERE {\\n  &lt;http://www.wikidata.org/entity/Q211907&gt; ( &lt;http://www.wikidata.org/prop/direct/P131&gt; / &lt;http://www.wikidata.org/prop/direct/P131&gt;*) ?var3 .\\n  ?var3 ( &lt;http://www.wikidata.org/prop/direct/P31&gt; / &lt;http://www.wikidata.org/prop/direct/P279&gt;*) &lt;http://www.wikidata.org/entity/Q10864048&gt; .\\n  ?var1 ( &lt;http://www.wikidata.org/prop/direct/P131&gt; / &lt;http://www.wikidata.org/prop/direct/P131&gt;*) ?var3 .\\n  ?var1 ( &lt;http://www.wikidata.org/prop/direct/P31&gt; / &lt;http://www.wikidata.org/prop/direct/P279&gt;*) &lt;http://www.wikidata.org/entity/Q13221722&gt; .\\n SERVICE  &lt;http://wikiba.se/ontology#label&gt;   {\\n    &lt;http://www.bigdata.com/rdf#serviceParam&gt;  &lt;http://wikiba.se/ontology#language&gt;  \"fi\".\\n  }\\n FILTER (  (  NOT EXISTS  {\\n   ?var1 ( &lt;http://www.wikidata.org/prop/direct/P31&gt; / &lt;http://www.wikidata.org/prop/direct/P279&gt;*) &lt;http://www.wikidata.org/entity/Q19953632&gt; .\\n }\\n ) \\n) .\\n}\\nGROUP BY  ?var1 \\n</td>\n      <td>&lt;rdflib.plugins.sparql.sparql.Query object at 0x7f2680cab690&gt;</td>\n      <td>&lt;__main__.FilterVisitor object at 0x7f268b12bd10&gt;</td>\n      <td>4</td>\n      <td>1</td>\n      <td>0</td>\n      <td>0</td>\n      <td>1</td>\n      <td>0</td>\n      <td>0</td>\n      <td>0</td>\n      <td>1</td>\n      <td>1</td>\n      <td>0</td>\n      <td>0</td>\n      <td>1</td>\n      <td>0</td>\n      <td>0</td>\n      <td>1</td>\n      <td>0</td>\n      <td>0</td>\n      <td>True</td>\n      <td>True</td>\n      <td>False</td>\n      <td>False</td>\n      <td>True</td>\n      <td>False</td>\n      <td>False</td>\n      <td>False</td>\n      <td>True</td>\n      <td>True</td>\n      <td>False</td>\n      <td>False</td>\n      <td>True</td>\n      <td>False</td>\n      <td>False</td>\n      <td>True</td>\n      <td>False</td>\n      <td>False</td>\n    </tr>\n    <tr>\n      <th>25662</th>\n      <td>SELECT+%3Fvar1++%3Fvar2+%28++GROUP_CONCAT+%28++DISTINCT++%3Fvar3++%29++AS++%3Fvar4++%29%0AWHERE+%7B%0A++VALUES+%28++%3Fvar5++%29+%7B%0A+++%28++%3Chttp%3A%2F%2Fwww.wikidata.org%2Fentity%2FQ11424%3E++%29%0A+++%28++%3Chttp%3A%2F%2Fwww.wikidata.org%2Fentity%2FQ24862%3E++%29%0A+++%28++%3Chttp%3A%2F%2Fwww.wikidata.org%2Fentity%2FQ506240%3E++%29%0A+++%28++%3Chttp%3A%2F%2Fwww.wikidata.org%2Fentity%2FQ336144%3E++%29%0A++%7D%0A++BIND+%28++%3Chttp%3A%2F%2Fwww.w3.org%2F2001%2FXMLSchema%23integer%3E++%28+STRAFTER+%28++STR+%28++%3Fvar1++%29+%2C+%22Q%22+%29+%29++AS++%3Fvar2+%29.%0A++%3Fvar1++%3Chttp%3A%2F%2Fwww.wikidata.org%2Fprop%2Fdirect%2FP31%3E++%3Fvar5+.%0A+FILTER+%28++%28+%28++%3Fvar2++%3E+%2228090000%22%5E%5E%3Chttp%3A%2F%2Fwww.w3.org%2F2001%2FXMLSchema%23integer%3E++%29+%29+%0A%29+.%0A+OPTIONAL+%7B%0A++BIND+%28++CONCAT+%28++%22%5B%22%2C+STR+%28++%3Fvar6++%29+%2C+%22+%22%2C+%3Fvar7+%2C+%22%5D%22+%29++AS++%3Fvar3+%29.%0A++%3Fvar6++%3Chttp%3A%2F%2Fschema.org%2Fabout%3E++%3Fvar1+%3B%0A+%3Chttp%3A%2F%2Fschema.org%2FinLanguage%3E++%3Fvar7+.%0A+%7D%0A%7D%0AGROUP+BY++%3Fvar1++%3Fvar2+%0AORDER+BY++DESC%28+%3Fvar2+%29%0ALIMIT+500%0A</td>\n      <td>2018-03-25 23:37:10</td>\n      <td>robotic</td>\n      <td>bot2</td>\n      <td>../BadRequeteCrypt/I7_status500_Joined.tsv</td>\n      <td>7</td>\n      <td>SELECT ?var1  ?var2 (  GROUP_CONCAT (  DISTINCT  ?var3  )  AS  ?var4  )\\nWHERE {\\n  VALUES (  ?var5  ) {\\n   (  &lt;http://www.wikidata.org/entity/Q11424&gt;  )\\n   (  &lt;http://www.wikidata.org/entity/Q24862&gt;  )\\n   (  &lt;http://www.wikidata.org/entity/Q506240&gt;  )\\n   (  &lt;http://www.wikidata.org/entity/Q336144&gt;  )\\n  }\\n  BIND (  &lt;http://www.w3.org/2001/XMLSchema#integer&gt;  ( STRAFTER (  STR (  ?var1  ) , \"Q\" ) )  AS  ?var2 ).\\n  ?var1  &lt;http://www.wikidata.org/prop/direct/P31&gt;  ?var5 .\\n FILTER (  ( (  ?var2  &gt; \"28090000\"^^&lt;http://www.w3.org/2001/XMLSchema#integer&gt;  ) ) \\n) .\\n OPTIONAL {\\n  BIND (  CONCAT (  \"[\", STR (  ?var6  ) , \" \", ?var7 , \"]\" )  AS  ?var3 ).\\n  ?var6  &lt;http://schema.org/about&gt;  ?var1 ;\\n &lt;http://schema.org/inLanguage&gt;  ?var7 .\\n }\\n}\\nGROUP BY  ?var1  ?var2 \\nORDER BY  DESC( ?var2 )\\nLIMIT 500\\n</td>\n      <td>&lt;rdflib.plugins.sparql.sparql.Query object at 0x7f26816b8b10&gt;</td>\n      <td>&lt;__main__.FilterVisitor object at 0x7f2686186c50&gt;</td>\n      <td>10</td>\n      <td>1</td>\n      <td>1</td>\n      <td>1</td>\n      <td>1</td>\n      <td>0</td>\n      <td>0</td>\n      <td>1</td>\n      <td>2</td>\n      <td>3</td>\n      <td>0</td>\n      <td>0</td>\n      <td>1</td>\n      <td>0</td>\n      <td>1</td>\n      <td>1</td>\n      <td>1</td>\n      <td>1</td>\n      <td>True</td>\n      <td>True</td>\n      <td>True</td>\n      <td>True</td>\n      <td>True</td>\n      <td>False</td>\n      <td>False</td>\n      <td>True</td>\n      <td>True</td>\n      <td>True</td>\n      <td>False</td>\n      <td>False</td>\n      <td>True</td>\n      <td>False</td>\n      <td>True</td>\n      <td>True</td>\n      <td>True</td>\n      <td>True</td>\n    </tr>\n    <tr>\n      <th>25663</th>\n      <td>SELECT+%3Fvar1+%0AWHERE+%7B%0A++%3Fvar1++%3Chttp%3A%2F%2Fwww.wikidata.org%2Fprop%2Fdirect%2FP345%3E++%3Fvar2+.%0A+FILTER+%28++%28++CONTAINS+%28++LCASE+%28++%3Fvar2++%29+%2C+%22nm1599776%22+%29++%29+%0A%29+.%0A+SERVICE++%3Chttp%3A%2F%2Fwikiba.se%2Fontology%23label%3E+++%7B%0A++++%3Chttp%3A%2F%2Fwww.bigdata.com%2Frdf%23serviceParam%3E++%3Chttp%3A%2F%2Fwikiba.se%2Fontology%23language%3E++%22en%22.%0A++%7D%0A%7D%0ALIMIT+1%0A</td>\n      <td>2018-03-25 23:53:30</td>\n      <td>robotic</td>\n      <td>UNKNOWN</td>\n      <td>../BadRequeteCrypt/I7_status500_Joined.tsv</td>\n      <td>7</td>\n      <td>SELECT ?var1 \\nWHERE {\\n  ?var1  &lt;http://www.wikidata.org/prop/direct/P345&gt;  ?var2 .\\n FILTER (  (  CONTAINS (  LCASE (  ?var2  ) , \"nm1599776\" )  ) \\n) .\\n SERVICE  &lt;http://wikiba.se/ontology#label&gt;   {\\n    &lt;http://www.bigdata.com/rdf#serviceParam&gt;  &lt;http://wikiba.se/ontology#language&gt;  \"en\".\\n  }\\n}\\nLIMIT 1\\n</td>\n      <td>&lt;rdflib.plugins.sparql.sparql.Query object at 0x7f2680c1a590&gt;</td>\n      <td>&lt;__main__.FilterVisitor object at 0x7f2686186310&gt;</td>\n      <td>2</td>\n      <td>1</td>\n      <td>0</td>\n      <td>1</td>\n      <td>1</td>\n      <td>0</td>\n      <td>0</td>\n      <td>0</td>\n      <td>1</td>\n      <td>1</td>\n      <td>0</td>\n      <td>0</td>\n      <td>1</td>\n      <td>0</td>\n      <td>0</td>\n      <td>0</td>\n      <td>1</td>\n      <td>1</td>\n      <td>True</td>\n      <td>True</td>\n      <td>False</td>\n      <td>True</td>\n      <td>True</td>\n      <td>False</td>\n      <td>False</td>\n      <td>False</td>\n      <td>True</td>\n      <td>True</td>\n      <td>False</td>\n      <td>False</td>\n      <td>True</td>\n      <td>False</td>\n      <td>False</td>\n      <td>False</td>\n      <td>True</td>\n      <td>True</td>\n    </tr>\n    <tr>\n      <th>25664</th>\n      <td>SELECT+*%0AWHERE+%7B%0A++%3Fvar1++%3Chttp%3A%2F%2Fwww.wikidata.org%2Fprop%2Fdirect%2FP345%3E++%3Fvar2+.%0A+FILTER+%28++%28+%28++%3Fvar2++%3D++%22tt6483832%22+%29+%29+%0A%29+.%0A++%3Fvar3++%3Chttp%3A%2F%2Fschema.org%2Fabout%3E++%3Fvar1+%3B%0A+%3Chttp%3A%2F%2Fschema.org%2FinLanguage%3E++%22en%22%3B%0A+%3Chttp%3A%2F%2Fschema.org%2FisPartOf%3E++%3Chttps%3A%2F%2Fen.wikipedia.org%2F%3E+.%0A%7D%0A</td>\n      <td>2018-03-25 23:53:30</td>\n      <td>robotic</td>\n      <td>UNKNOWN</td>\n      <td>../BadRequeteCrypt/I7_status500_Joined.tsv</td>\n      <td>7</td>\n      <td>SELECT *\\nWHERE {\\n  ?var1  &lt;http://www.wikidata.org/prop/direct/P345&gt;  ?var2 .\\n FILTER (  ( (  ?var2  =  \"tt6483832\" ) ) \\n) .\\n  ?var3  &lt;http://schema.org/about&gt;  ?var1 ;\\n &lt;http://schema.org/inLanguage&gt;  \"en\";\\n &lt;http://schema.org/isPartOf&gt;  &lt;https://en.wikipedia.org/&gt; .\\n}\\n</td>\n      <td>&lt;rdflib.plugins.sparql.sparql.Query object at 0x7f2680c47b10&gt;</td>\n      <td>&lt;__main__.FilterVisitor object at 0x7f2686186c10&gt;</td>\n      <td>3</td>\n      <td>1</td>\n      <td>0</td>\n      <td>0</td>\n      <td>1</td>\n      <td>0</td>\n      <td>0</td>\n      <td>0</td>\n      <td>0</td>\n      <td>1</td>\n      <td>0</td>\n      <td>0</td>\n      <td>1</td>\n      <td>0</td>\n      <td>0</td>\n      <td>0</td>\n      <td>0</td>\n      <td>0</td>\n      <td>True</td>\n      <td>True</td>\n      <td>False</td>\n      <td>False</td>\n      <td>True</td>\n      <td>False</td>\n      <td>False</td>\n      <td>False</td>\n      <td>False</td>\n      <td>True</td>\n      <td>False</td>\n      <td>False</td>\n      <td>True</td>\n      <td>False</td>\n      <td>False</td>\n      <td>False</td>\n      <td>False</td>\n      <td>False</td>\n    </tr>\n    <tr>\n      <th>25665</th>\n      <td>SELECT+DISTINCT+%3Fvar1++%3Fvar2+%0AWHERE+%7B%0A++%3Fvar1++%3Chttp%3A%2F%2Fwww.wikidata.org%2Fprop%2Fdirect%2FP31%3E++%3Chttp%3A%2F%2Fwww.wikidata.org%2Fentity%2FQ13442814%3E+.%0A++%3Fvar1++%3Chttp%3A%2F%2Fwww.wikidata.org%2Fprop%2Fdirect%2FP356%3E++%3Fvar2+.%0A++%3Fvar1++%3Chttp%3A%2F%2Fwww.wikidata.org%2Fprop%2Fdirect%2FP50%3E++%3Fvar3+.%0A++%3Fvar3++%3Chttp%3A%2F%2Fwww.wikidata.org%2Fprop%2Fdirect%2FP31%3E++%3Chttp%3A%2F%2Fwww.wikidata.org%2Fentity%2FQ5%3E+.%0A++MINUS+++%7B%0A++++%3Fvar3++%3Chttp%3A%2F%2Fwww.wikidata.org%2Fprop%2Fdirect%2FP496%3E++%5B%5D+.%0A++%7D%0A++MINUS+++%7B%0A++++%3Fvar3++%3Chttp%3A%2F%2Fwww.wikidata.org%2Fprop%2Fdirect%2FP570%3E++%5B%5D+.%0A++%7D%0A%7D%0AORDER+BY+ASC%28+RAND+%28++%29+%29%0ALIMIT+2000%0A</td>\n      <td>2018-03-25 23:54:01</td>\n      <td>robotic</td>\n      <td>orcid_bot</td>\n      <td>../BadRequeteCrypt/I7_status500_Joined.tsv</td>\n      <td>7</td>\n      <td>SELECT DISTINCT ?var1  ?var2 \\nWHERE {\\n  ?var1  &lt;http://www.wikidata.org/prop/direct/P31&gt;  &lt;http://www.wikidata.org/entity/Q13442814&gt; .\\n  ?var1  &lt;http://www.wikidata.org/prop/direct/P356&gt;  ?var2 .\\n  ?var1  &lt;http://www.wikidata.org/prop/direct/P50&gt;  ?var3 .\\n  ?var3  &lt;http://www.wikidata.org/prop/direct/P31&gt;  &lt;http://www.wikidata.org/entity/Q5&gt; .\\n  MINUS   {\\n    ?var3  &lt;http://www.wikidata.org/prop/direct/P496&gt;  [] .\\n  }\\n  MINUS   {\\n    ?var3  &lt;http://www.wikidata.org/prop/direct/P570&gt;  [] .\\n  }\\n}\\nORDER BY ASC( RAND (  ) )\\nLIMIT 2000\\n</td>\n      <td>&lt;rdflib.plugins.sparql.sparql.Query object at 0x7f26809b47d0&gt;</td>\n      <td>&lt;__main__.FilterVisitor object at 0x7f2685e122d0&gt;</td>\n      <td>3</td>\n      <td>0</td>\n      <td>1</td>\n      <td>1</td>\n      <td>1</td>\n      <td>1</td>\n      <td>0</td>\n      <td>0</td>\n      <td>0</td>\n      <td>3</td>\n      <td>0</td>\n      <td>0</td>\n      <td>1</td>\n      <td>0</td>\n      <td>0</td>\n      <td>0</td>\n      <td>1</td>\n      <td>1</td>\n      <td>True</td>\n      <td>False</td>\n      <td>True</td>\n      <td>True</td>\n      <td>True</td>\n      <td>True</td>\n      <td>False</td>\n      <td>False</td>\n      <td>False</td>\n      <td>True</td>\n      <td>False</td>\n      <td>False</td>\n      <td>True</td>\n      <td>False</td>\n      <td>False</td>\n      <td>False</td>\n      <td>True</td>\n      <td>True</td>\n    </tr>\n    <tr>\n      <th>25666</th>\n      <td>SELECT+%3Fvar1++%3Fvar2++%3Fvar3+%28++IF+%28+%28++%3Fvar3++%3E+%2211%22%5E%5E%3Chttp%3A%2F%2Fwww.w3.org%2F2001%2FXMLSchema%23integer%3E++%29%2C+%22string1%22%2C+%22string2%22+%29++AS++%3Fvar4++%29%0AWHERE+%7B%0A++%3Fvar1++%3Chttp%3A%2F%2Fwikiba.se%2Fontology%23sitelinks%3E++%3Fvar2+%3B%0A+%3Chttp%3A%2F%2Fwikiba.se%2Fontology%23statements%3E++%3Fvar3+.%0A+FILTER+%28++%28+%28++%3Fvar2++%3E+%22180%22%5E%5E%3Chttp%3A%2F%2Fwww.w3.org%2F2001%2FXMLSchema%23integer%3E++%29+%29+%0A%29+.%0A%7D%0AORDER+BY++DESC%28+%3Fvar2+%29%0ALIMIT+1000%0A</td>\n      <td>2018-03-25 23:59:40</td>\n      <td>robotic</td>\n      <td>bot2</td>\n      <td>../BadRequeteCrypt/I7_status500_Joined.tsv</td>\n      <td>7</td>\n      <td>SELECT ?var1  ?var2  ?var3 (  IF ( (  ?var3  &gt; \"11\"^^&lt;http://www.w3.org/2001/XMLSchema#integer&gt;  ), \"string1\", \"string2\" )  AS  ?var4  )\\nWHERE {\\n  ?var1  &lt;http://wikiba.se/ontology#sitelinks&gt;  ?var2 ;\\n &lt;http://wikiba.se/ontology#statements&gt;  ?var3 .\\n FILTER (  ( (  ?var2  &gt; \"180\"^^&lt;http://www.w3.org/2001/XMLSchema#integer&gt;  ) ) \\n) .\\n}\\nORDER BY  DESC( ?var2 )\\nLIMIT 1000\\n</td>\n      <td>&lt;rdflib.plugins.sparql.sparql.Query object at 0x7f268195ebd0&gt;</td>\n      <td>&lt;__main__.FilterVisitor object at 0x7f2680b331d0&gt;</td>\n      <td>4</td>\n      <td>1</td>\n      <td>1</td>\n      <td>1</td>\n      <td>1</td>\n      <td>0</td>\n      <td>0</td>\n      <td>0</td>\n      <td>0</td>\n      <td>1</td>\n      <td>0</td>\n      <td>0</td>\n      <td>1</td>\n      <td>0</td>\n      <td>0</td>\n      <td>0</td>\n      <td>1</td>\n      <td>1</td>\n      <td>True</td>\n      <td>True</td>\n      <td>True</td>\n      <td>True</td>\n      <td>True</td>\n      <td>False</td>\n      <td>False</td>\n      <td>False</td>\n      <td>False</td>\n      <td>True</td>\n      <td>False</td>\n      <td>False</td>\n      <td>True</td>\n      <td>False</td>\n      <td>False</td>\n      <td>False</td>\n      <td>True</td>\n      <td>True</td>\n    </tr>\n  </tbody>\n</table>\n<p>17522 rows × 45 columns</p>\n</div>"
     },
     "metadata": {}
    }
   ]
  },
  {
   "cell_type": "code",
   "metadata": {
    "pycharm": {
     "name": "#%%\n"
    },
    "cell_id": "00024-04a946ca-5d1c-4982-8a45-2424838dbc7a",
    "deepnote_to_be_reexecuted": false,
    "source_hash": "6251a0b8",
    "execution_start": 1643359237495,
    "execution_millis": 465,
    "deepnote_cell_type": "code"
   },
   "source": "df_nona_organic = df_nona.loc[(df_nona['sourceCategory'] == 'organic')]\ndf_nona_organic",
   "execution_count": 19,
   "outputs": [
    {
     "output_type": "execute_result",
     "execution_count": 19,
     "data": {
      "application/vnd.deepnote.dataframe.v3+json": {
       "column_count": 45,
       "row_count": 8103,
       "columns": [
        {
         "name": "anonymizedQuery",
         "dtype": "object",
         "stats": {
          "unique_count": 4348,
          "nan_count": 0,
          "categories": [
           {
            "name": "SELECT+DISTINCT+%3Fvar1++%3Fvar1Label++%3Fvar2++%3Fvar2Label++%3Fvar3++%3Fvar4+%0AWHERE+%7B%0A++%3Fvar2+%28+%3Chttp%3A%2F%2Fwww.wikidata.org%2Fprop%2Fdirect%2FP31%3E+%2F+%3Chttp%3A%2F%2Fwww.wikidata.org%2Fprop%2Fdirect%2FP279%3E+*%29+%3Chttp%3A%2F%2Fwww.wikidata.org%2Fentity%2FQ515%3E+.%0A++%3Fvar1++%3Chttp%3A%2F%2Fwww.wikidata.org%2Fprop%2Fdirect%2FP31%3E++%3Chttp%3A%2F%2Fwww.wikidata.org%2Fentity%2FQ644371%3E+.%0A++%3Fvar1++%3Fvar5++%3Fvar2+.%0A++%3Fvar1++%3Chttp%3A%2F%2Fwww.wikidata.org%2Fprop%2Fdirect%2FP238%3E++%3Fvar3+.%0A+SERVICE++%3Chttp%3A%2F%2Fwikiba.se%2Fontology%23around%3E+++%7B%0A++++%3Fvar2++%3Chttp%3A%2F%2Fwww.wikidata.org%2Fprop%2Fdirect%2FP625%3E++%3Fvar6+.%0A++++%3Chttp%3A%2F%2Fwww.bigdata.com%2Frdf%23serviceParam%3E++%3Chttp%3A%2F%2Fwikiba.se%2Fontology%23center%3E++%22string1%22%5E%5E%3Chttp%3A%2F%2Fwww.opengis.net%2Font%2Fgeosparql%23wktLiteral%3E+.%0A++++%3Chttp%3A%2F%2Fwww.bigdata.com%2Frdf%23serviceParam%3E++%3Chttp%3A%2F%2Fwikiba.se%2Fontology%23radius%3E++%22200%22.%0A++++%3Chttp%3A%2F%2Fwww.bigdata.com%2Frdf%23serviceParam%3E++%3Chttp%3A%2F%2Fwikiba.se%2Fontology%23distance%3E++%3Fvar7+.%0A++%7D%0A+SERVICE++%3Chttp%3A%2F%2Fwikiba.se%2Fontology%23label%3E+++%7B%0A++++%3Chttp%3A%2F%2Fwww.bigdata.com%2Frdf%23serviceParam%3E++%3Chttp%3A%2F%2Fwikiba.se%2Fontology%23language%3E++%22en%22.%0A++%7D%0A+OPTIONAL+%7B%0A++%3Fvar2++%3Chttp%3A%2F%2Fwww.wikidata.org%2Fprop%2Fdirect%2FP625%3E++%3Fvar4+.%0A+%7D%0A%7D%0AORDER+BY+ASC%28+%3Fvar7+%29%0ALIMIT+1%0A",
            "count": 249
           },
           {
            "name": "SELECT+DISTINCT+%3Fvar1++%3Fvar1Label++%3Fvar2++%3Fvar2Label++%3Fvar3++%3Fvar4+%0AWHERE+%7B%0A++%3Fvar2+%28+%3Chttp%3A%2F%2Fwww.wikidata.org%2Fprop%2Fdirect%2FP31%3E+%2F+%3Chttp%3A%2F%2Fwww.wikidata.org%2Fprop%2Fdirect%2FP279%3E+*%29+%3Chttp%3A%2F%2Fwww.wikidata.org%2Fentity%2FQ515%3E+.%0A++%3Fvar1++%3Chttp%3A%2F%2Fwww.wikidata.org%2Fprop%2Fdirect%2FP31%3E++%3Chttp%3A%2F%2Fwww.wikidata.org%2Fentity%2FQ644371%3E+.%0A++%3Fvar1++%3Fvar5++%3Fvar2+.%0A++%3Fvar1++%3Chttp%3A%2F%2Fwww.wikidata.org%2Fprop%2Fdirect%2FP238%3E++%3Fvar3+.%0A+SERVICE++%3Chttp%3A%2F%2Fwikiba.se%2Fontology%23around%3E+++%7B%0A++++%3Fvar2++%3Chttp%3A%2F%2Fwww.wikidata.org%2Fprop%2Fdirect%2FP625%3E++%3Fvar6+.%0A++++%3Chttp%3A%2F%2Fwww.bigdata.com%2Frdf%23serviceParam%3E++%3Chttp%3A%2F%2Fwikiba.se%2Fontology%23center%3E++%22POINT%280+52%29%22%5E%5E%3Chttp%3A%2F%2Fwww.opengis.net%2Font%2Fgeosparql%23wktLiteral%3E+.%0A++++%3Chttp%3A%2F%2Fwww.bigdata.com%2Frdf%23serviceParam%3E++%3Chttp%3A%2F%2Fwikiba.se%2Fontology%23radius%3E++%22200%22.%0A++++%3Chttp%3A%2F%2Fwww.bigdata.com%2Frdf%23serviceParam%3E++%3Chttp%3A%2F%2Fwikiba.se%2Fontology%23distance%3E++%3Fvar7+.%0A++%7D%0A+SERVICE++%3Chttp%3A%2F%2Fwikiba.se%2Fontology%23label%3E+++%7B%0A++++%3Chttp%3A%2F%2Fwww.bigdata.com%2Frdf%23serviceParam%3E++%3Chttp%3A%2F%2Fwikiba.se%2Fontology%23language%3E++%22en%22.%0A++%7D%0A+OPTIONAL+%7B%0A++%3Fvar2++%3Chttp%3A%2F%2Fwww.wikidata.org%2Fprop%2Fdirect%2FP625%3E++%3Fvar4+.%0A+%7D%0A%7D%0AORDER+BY+ASC%28+%3Fvar7+%29%0ALIMIT+1%0A",
            "count": 229
           },
           {
            "name": "4346 others",
            "count": 7625
           }
          ]
         }
        },
        {
         "name": "timestamp",
         "dtype": "object",
         "stats": {
          "unique_count": 8010,
          "nan_count": 0,
          "categories": [
           {
            "name": "2018-02-27 06:15:10",
            "count": 4
           },
           {
            "name": "2018-03-19 14:38:58",
            "count": 4
           },
           {
            "name": "8008 others",
            "count": 8095
           }
          ]
         }
        },
        {
         "name": "sourceCategory",
         "dtype": "object",
         "stats": {
          "unique_count": 1,
          "nan_count": 0,
          "categories": [
           {
            "name": "organic",
            "count": 8103
           }
          ]
         }
        },
        {
         "name": "user_agent",
         "dtype": "object",
         "stats": {
          "unique_count": 1,
          "nan_count": 0,
          "categories": [
           {
            "name": "browser",
            "count": 8103
           }
          ]
         }
        },
        {
         "name": "file_path",
         "dtype": "object",
         "stats": {
          "unique_count": 1,
          "nan_count": 0,
          "categories": [
           {
            "name": "../BadRequeteCrypt/I7_status500_Joined.tsv",
            "count": 8103
           }
          ]
         }
        },
        {
         "name": "interval",
         "dtype": "int64",
         "stats": {
          "unique_count": 1,
          "nan_count": 0,
          "min": "7",
          "max": "7",
          "histogram": [
           {
            "bin_start": 6.5,
            "bin_end": 6.6,
            "count": 0
           },
           {
            "bin_start": 6.6,
            "bin_end": 6.7,
            "count": 0
           },
           {
            "bin_start": 6.7,
            "bin_end": 6.8,
            "count": 0
           },
           {
            "bin_start": 6.8,
            "bin_end": 6.9,
            "count": 0
           },
           {
            "bin_start": 6.9,
            "bin_end": 7,
            "count": 0
           },
           {
            "bin_start": 7,
            "bin_end": 7.1,
            "count": 8103
           },
           {
            "bin_start": 7.1,
            "bin_end": 7.2,
            "count": 0
           },
           {
            "bin_start": 7.2,
            "bin_end": 7.3,
            "count": 0
           },
           {
            "bin_start": 7.3,
            "bin_end": 7.4,
            "count": 0
           },
           {
            "bin_start": 7.4,
            "bin_end": 7.5,
            "count": 0
           }
          ]
         }
        },
        {
         "name": "rawAnonymizedQuery",
         "dtype": "object",
         "stats": {
          "unique_count": 4348,
          "nan_count": 0,
          "categories": [
           {
            "name": "SELECT DISTINCT ?var1  ?var1Label  ?var2  ?var2Label  ?var3  ?var4 \nWHERE {\n  ?var2 ( <http://www.wikidata.org/prop/direct/P31> / <http://www.wikidata.org/prop/direct/P279>*) <http://www.wikidata.org/entity/Q515> .\n  ?var1  <http://www.wikidata.org/prop/direct/P31>  <http://www.wikidata.org/entity/Q644371> .\n  ?var1  ?var5  ?var2 .\n  ?var1  <http://www.wikidata.org/prop/direct/P238>  ?var3 .\n SERVICE  <http://wikiba.se/ontology#around>   {\n    ?var2  <http://www.wikidata.org/prop/direct/P625>  ?var6 .\n    <http://www.bigdata.com/rdf#serviceParam>  <http://wikiba.se/ontology#center>  \"string1\"^^<http://www.opengis.net/ont/geosparql#wktLiteral> .\n    <http://www.bigdata.com/rdf#serviceParam>  <http://wikiba.se/ontology#radius>  \"200\".\n    <http://www.bigdata.com/rdf#serviceParam>  <http://wikiba.se/ontology#distance>  ?var7 .\n  }\n SERVICE  <http://wikiba.se/ontology#label>   {\n    <http://www.bigdata.com/rdf#serviceParam>  <http://wikiba.se/ontology#language>  \"en\".\n  }\n OPTIONAL {\n  ?var2  <http://www.wikidata.org/prop/direct/P625>  ?var4 .\n }\n}\nORDER BY ASC( ?var7 )\nLIMIT 1\n",
            "count": 249
           },
           {
            "name": "SELECT DISTINCT ?var1  ?var1Label  ?var2  ?var2Label  ?var3  ?var4 \nWHERE {\n  ?var2 ( <http://www.wikidata.org/prop/direct/P31> / <http://www.wikidata.org/prop/direct/P279>*) <http://www.wikidata.org/entity/Q515> .\n  ?var1  <http://www.wikidata.org/prop/direct/P31>  <http://www.wikidata.org/entity/Q644371> .\n  ?var1  ?var5  ?var2 .\n  ?var1  <http://www.wikidata.org/prop/direct/P238>  ?var3 .\n SERVICE  <http://wikiba.se/ontology#around>   {\n    ?var2  <http://www.wikidata.org/prop/direct/P625>  ?var6 .\n    <http://www.bigdata.com/rdf#serviceParam>  <http://wikiba.se/ontology#center>  \"POINT(0 52)\"^^<http://www.opengis.net/ont/geosparql#wktLiteral> .\n    <http://www.bigdata.com/rdf#serviceParam>  <http://wikiba.se/ontology#radius>  \"200\".\n    <http://www.bigdata.com/rdf#serviceParam>  <http://wikiba.se/ontology#distance>  ?var7 .\n  }\n SERVICE  <http://wikiba.se/ontology#label>   {\n    <http://www.bigdata.com/rdf#serviceParam>  <http://wikiba.se/ontology#language>  \"en\".\n  }\n OPTIONAL {\n  ?var2  <http://www.wikidata.org/prop/direct/P625>  ?var4 .\n }\n}\nORDER BY ASC( ?var7 )\nLIMIT 1\n",
            "count": 229
           },
           {
            "name": "4346 others",
            "count": 7625
           }
          ]
         }
        },
        {
         "name": "query",
         "dtype": "object",
         "stats": {
          "unique_count": 8103,
          "nan_count": 0,
          "categories": [
           {
            "name": "<rdflib.plugins.sparql.sparql.Query object at 0x7f26c07c63d0>",
            "count": 1
           },
           {
            "name": "<rdflib.plugins.sparql.sparql.Query object at 0x7f26c06eac90>",
            "count": 1
           },
           {
            "name": "8101 others",
            "count": 8101
           }
          ]
         }
        },
        {
         "name": "visitor",
         "dtype": "object",
         "stats": {
          "unique_count": 8103,
          "nan_count": 0,
          "categories": [
           {
            "name": "<__main__.FilterVisitor object at 0x7f26f3dd9dd0>",
            "count": 1
           },
           {
            "name": "<__main__.FilterVisitor object at 0x7f26f3dd9f50>",
            "count": 1
           },
           {
            "name": "8101 others",
            "count": 8101
           }
          ]
         }
        },
        {
         "name": "counter_variable",
         "dtype": "int64",
         "stats": {
          "unique_count": 30,
          "nan_count": 0,
          "min": "0",
          "max": "31",
          "histogram": [
           {
            "bin_start": 0,
            "bin_end": 3.1,
            "count": 1420
           },
           {
            "bin_start": 3.1,
            "bin_end": 6.2,
            "count": 3852
           },
           {
            "bin_start": 6.2,
            "bin_end": 9.3,
            "count": 2055
           },
           {
            "bin_start": 9.3,
            "bin_end": 12.4,
            "count": 339
           },
           {
            "bin_start": 12.4,
            "bin_end": 15.5,
            "count": 178
           },
           {
            "bin_start": 15.5,
            "bin_end": 18.6,
            "count": 130
           },
           {
            "bin_start": 18.6,
            "bin_end": 21.7,
            "count": 74
           },
           {
            "bin_start": 21.7,
            "bin_end": 24.8,
            "count": 19
           },
           {
            "bin_start": 24.8,
            "bin_end": 27.900000000000002,
            "count": 3
           },
           {
            "bin_start": 27.900000000000002,
            "bin_end": 31,
            "count": 33
           }
          ]
         }
        },
        {
         "name": "counter_filter",
         "dtype": "int64",
         "stats": {
          "unique_count": 5,
          "nan_count": 0,
          "min": "0",
          "max": "4",
          "histogram": [
           {
            "bin_start": 0,
            "bin_end": 0.4,
            "count": 4207
           },
           {
            "bin_start": 0.4,
            "bin_end": 0.8,
            "count": 0
           },
           {
            "bin_start": 0.8,
            "bin_end": 1.2000000000000002,
            "count": 3737
           },
           {
            "bin_start": 1.2000000000000002,
            "bin_end": 1.6,
            "count": 0
           },
           {
            "bin_start": 1.6,
            "bin_end": 2,
            "count": 0
           },
           {
            "bin_start": 2,
            "bin_end": 2.4000000000000004,
            "count": 124
           },
           {
            "bin_start": 2.4000000000000004,
            "bin_end": 2.8000000000000003,
            "count": 0
           },
           {
            "bin_start": 2.8000000000000003,
            "bin_end": 3.2,
            "count": 34
           },
           {
            "bin_start": 3.2,
            "bin_end": 3.6,
            "count": 0
           },
           {
            "bin_start": 3.6,
            "bin_end": 4,
            "count": 1
           }
          ]
         }
        },
        {
         "name": "counter_orderby",
         "dtype": "int64",
         "stats": {
          "unique_count": 4,
          "nan_count": 0,
          "min": "0",
          "max": "3",
          "histogram": [
           {
            "bin_start": 0,
            "bin_end": 0.3,
            "count": 5668
           },
           {
            "bin_start": 0.3,
            "bin_end": 0.6,
            "count": 0
           },
           {
            "bin_start": 0.6,
            "bin_end": 0.8999999999999999,
            "count": 0
           },
           {
            "bin_start": 0.8999999999999999,
            "bin_end": 1.2,
            "count": 2420
           },
           {
            "bin_start": 1.2,
            "bin_end": 1.5,
            "count": 0
           },
           {
            "bin_start": 1.5,
            "bin_end": 1.7999999999999998,
            "count": 0
           },
           {
            "bin_start": 1.7999999999999998,
            "bin_end": 2.1,
            "count": 14
           },
           {
            "bin_start": 2.1,
            "bin_end": 2.4,
            "count": 0
           },
           {
            "bin_start": 2.4,
            "bin_end": 2.6999999999999997,
            "count": 0
           },
           {
            "bin_start": 2.6999999999999997,
            "bin_end": 3,
            "count": 1
           }
          ]
         }
        },
        {
         "name": "counter_limit",
         "dtype": "int64"
        },
        {
         "name": "counter_select",
         "dtype": "int64"
        },
        {
         "name": "counter_distinct",
         "dtype": "int64"
        },
        {
         "name": "counter_modify",
         "dtype": "int64"
        },
        {
         "name": "counter_tomultiset",
         "dtype": "int64"
        },
        {
         "name": "counter_join",
         "dtype": "int64"
        },
        {
         "name": "counter_bgp",
         "dtype": "int64"
        },
        {
         "name": "counter_insertdata",
         "dtype": "int64"
        },
        {
         "name": "counter_deletedata",
         "dtype": "int64"
        },
        {
         "name": "counter_project",
         "dtype": "int64"
        },
        {
         "name": "counter_union",
         "dtype": "int64"
        },
        {
         "name": "counter_values",
         "dtype": "int64"
        },
        {
         "name": "counter_groupby",
         "dtype": "int64"
        },
        {
         "name": "counter_offset",
         "dtype": "int64"
        },
        {
         "name": "counter_slice",
         "dtype": "int64"
        },
        {
         "name": "has_variable",
         "dtype": "bool"
        },
        {
         "name": "has_filter",
         "dtype": "bool"
        },
        {
         "name": "has_orderby",
         "dtype": "bool"
        },
        {
         "name": "has_limit",
         "dtype": "bool"
        },
        {
         "name": "has_select",
         "dtype": "bool"
        },
        {
         "name": "has_distinct",
         "dtype": "bool"
        },
        {
         "name": "has_modify",
         "dtype": "bool"
        },
        {
         "name": "has_tomultiset",
         "dtype": "bool"
        },
        {
         "name": "has_join",
         "dtype": "bool"
        },
        {
         "name": "has_bgp",
         "dtype": "bool"
        },
        {
         "name": "has_insertdata",
         "dtype": "bool"
        },
        {
         "name": "has_deletedata",
         "dtype": "bool"
        },
        {
         "name": "has_project",
         "dtype": "bool"
        },
        {
         "name": "has_union",
         "dtype": "bool"
        },
        {
         "name": "has_values",
         "dtype": "bool"
        },
        {
         "name": "has_groupby",
         "dtype": "bool"
        },
        {
         "name": "has_slice",
         "dtype": "bool"
        },
        {
         "name": "has_offset",
         "dtype": "bool"
        },
        {
         "name": "_deepnote_index_column",
         "dtype": "int64"
        }
       ],
       "rows": [
        {
         "anonymizedQuery": "SELECT+%3Fvar1++%3Fvar1Label++%3Fvar2++%3Fvar2Label++%3Fvar3++%3Fvar3Label+%0AWHERE+%7B%0A+SERVICE+…",
         "timestamp": "2018-02-26 00:03:29",
         "sourceCategory": "organic",
         "user_agent": "browser",
         "file_path": "../BadRequeteCrypt/I7_status500_Joined.tsv",
         "interval": 7,
         "rawAnonymizedQuery": "SELECT ?var1  ?var1Label  ?var2  ?var2Label  ?var3  ?var3Label \nWHERE {\n SERVICE  <http://wikiba.se…",
         "query": "<rdflib.plugins.sparql.sparql.Query object at 0x7f26c07c63d0>",
         "visitor": "<__main__.FilterVisitor object at 0x7f26f3dd9dd0>",
         "counter_variable": 7,
         "counter_filter": 0,
         "counter_orderby": 0,
         "counter_limit": 1,
         "counter_select": 1,
         "counter_distinct": 0,
         "counter_modify": 0,
         "counter_tomultiset": 0,
         "counter_join": 1,
         "counter_bgp": 3,
         "counter_insertdata": 0,
         "counter_deletedata": 0,
         "counter_project": 1,
         "counter_union": 0,
         "counter_values": 0,
         "counter_groupby": 0,
         "counter_offset": 1,
         "counter_slice": 1,
         "has_variable": true,
         "has_filter": false,
         "has_orderby": false,
         "has_limit": true,
         "has_select": true,
         "has_distinct": false,
         "has_modify": false,
         "has_tomultiset": false,
         "has_join": true,
         "has_bgp": true,
         "has_insertdata": false,
         "has_deletedata": false,
         "has_project": true,
         "has_union": false,
         "has_values": false,
         "has_groupby": false,
         "has_slice": true,
         "has_offset": true,
         "_deepnote_index_column": 0
        },
        {
         "anonymizedQuery": "SELECT+%3Fvar1++%3Fvar1Label+%28+COUNT+%28+DISTINCT++%3Fvar2++%29+AS++%3Fvar3++%29%0AWHERE+%7B%0A++…",
         "timestamp": "2018-02-26 00:04:19",
         "sourceCategory": "organic",
         "user_agent": "browser",
         "file_path": "../BadRequeteCrypt/I7_status500_Joined.tsv",
         "interval": 7,
         "rawAnonymizedQuery": "SELECT ?var1  ?var1Label ( COUNT ( DISTINCT  ?var2  ) AS  ?var3  )\nWHERE {\n  ?var2  <http://www.wik…",
         "query": "<rdflib.plugins.sparql.sparql.Query object at 0x7f26c06eac90>",
         "visitor": "<__main__.FilterVisitor object at 0x7f26f3dd9f50>",
         "counter_variable": 7,
         "counter_filter": 0,
         "counter_orderby": 1,
         "counter_limit": 1,
         "counter_select": 1,
         "counter_distinct": 0,
         "counter_modify": 0,
         "counter_tomultiset": 0,
         "counter_join": 1,
         "counter_bgp": 1,
         "counter_insertdata": 0,
         "counter_deletedata": 0,
         "counter_project": 1,
         "counter_union": 0,
         "counter_values": 0,
         "counter_groupby": 1,
         "counter_offset": 1,
         "counter_slice": 1,
         "has_variable": true,
         "has_filter": false,
         "has_orderby": true,
         "has_limit": true,
         "has_select": true,
         "has_distinct": false,
         "has_modify": false,
         "has_tomultiset": false,
         "has_join": true,
         "has_bgp": true,
         "has_insertdata": false,
         "has_deletedata": false,
         "has_project": true,
         "has_union": false,
         "has_values": false,
         "has_groupby": true,
         "has_slice": true,
         "has_offset": true,
         "_deepnote_index_column": 2
        },
        {
         "anonymizedQuery": "SELECT+%3Fvar1++%3Fvar1Label++%3Fvar2++%3Fvar2Label++%3Fvar3++%3Fvar3Label+%0AWHERE+%7B%0A+SERVICE+…",
         "timestamp": "2018-02-26 00:04:34",
         "sourceCategory": "organic",
         "user_agent": "browser",
         "file_path": "../BadRequeteCrypt/I7_status500_Joined.tsv",
         "interval": 7,
         "rawAnonymizedQuery": "SELECT ?var1  ?var1Label  ?var2  ?var2Label  ?var3  ?var3Label \nWHERE {\n SERVICE  <http://wikiba.se…",
         "query": "<rdflib.plugins.sparql.sparql.Query object at 0x7f26be2b3890>",
         "visitor": "<__main__.FilterVisitor object at 0x7f26f3dd9bd0>",
         "counter_variable": 7,
         "counter_filter": 0,
         "counter_orderby": 0,
         "counter_limit": 1,
         "counter_select": 1,
         "counter_distinct": 0,
         "counter_modify": 0,
         "counter_tomultiset": 0,
         "counter_join": 1,
         "counter_bgp": 3,
         "counter_insertdata": 0,
         "counter_deletedata": 0,
         "counter_project": 1,
         "counter_union": 0,
         "counter_values": 0,
         "counter_groupby": 0,
         "counter_offset": 1,
         "counter_slice": 1,
         "has_variable": true,
         "has_filter": false,
         "has_orderby": false,
         "has_limit": true,
         "has_select": true,
         "has_distinct": false,
         "has_modify": false,
         "has_tomultiset": false,
         "has_join": true,
         "has_bgp": true,
         "has_insertdata": false,
         "has_deletedata": false,
         "has_project": true,
         "has_union": false,
         "has_values": false,
         "has_groupby": false,
         "has_slice": true,
         "has_offset": true,
         "_deepnote_index_column": 3
        },
        {
         "anonymizedQuery": "SELECT+DISTINCT+%3Fvar1Label++%3Fvar2Label++%3Fvar1+%0AWHERE+%7B%0A++%3Fvar1+%28+%3Chttp%3A%2F%2Fww…",
         "timestamp": "2018-02-26 00:06:39",
         "sourceCategory": "organic",
         "user_agent": "browser",
         "file_path": "../BadRequeteCrypt/I7_status500_Joined.tsv",
         "interval": 7,
         "rawAnonymizedQuery": "SELECT DISTINCT ?var1Label  ?var2Label  ?var1 \nWHERE {\n  ?var1 ( <http://www.wikidata.org/prop/dire…",
         "query": "<rdflib.plugins.sparql.sparql.Query object at 0x7f26c148fed0>",
         "visitor": "<__main__.FilterVisitor object at 0x7f26be2b3e90>",
         "counter_variable": 4,
         "counter_filter": 0,
         "counter_orderby": 1,
         "counter_limit": 0,
         "counter_select": 1,
         "counter_distinct": 1,
         "counter_modify": 0,
         "counter_tomultiset": 0,
         "counter_join": 1,
         "counter_bgp": 2,
         "counter_insertdata": 0,
         "counter_deletedata": 0,
         "counter_project": 1,
         "counter_union": 0,
         "counter_values": 0,
         "counter_groupby": 0,
         "counter_offset": 0,
         "counter_slice": 0,
         "has_variable": true,
         "has_filter": false,
         "has_orderby": true,
         "has_limit": false,
         "has_select": true,
         "has_distinct": true,
         "has_modify": false,
         "has_tomultiset": false,
         "has_join": true,
         "has_bgp": true,
         "has_insertdata": false,
         "has_deletedata": false,
         "has_project": true,
         "has_union": false,
         "has_values": false,
         "has_groupby": false,
         "has_slice": false,
         "has_offset": false,
         "_deepnote_index_column": 6
        },
        {
         "anonymizedQuery": "SELECT+%3Fvar1++%3Fvar1Label++%3Fvar2+%0AWHERE+%7B%0A++%3Fvar1+%28+%3Chttp%3A%2F%2Fwww.wikidata.org…",
         "timestamp": "2018-02-26 00:29:58",
         "sourceCategory": "organic",
         "user_agent": "browser",
         "file_path": "../BadRequeteCrypt/I7_status500_Joined.tsv",
         "interval": 7,
         "rawAnonymizedQuery": "SELECT ?var1  ?var1Label  ?var2 \nWHERE {\n  ?var1 ( <http://www.wikidata.org/prop/direct/P31> / <htt…",
         "query": "<rdflib.plugins.sparql.sparql.Query object at 0x7f26be177950>",
         "visitor": "<__main__.FilterVisitor object at 0x7f26c0436710>",
         "counter_variable": 4,
         "counter_filter": 0,
         "counter_orderby": 0,
         "counter_limit": 0,
         "counter_select": 1,
         "counter_distinct": 0,
         "counter_modify": 0,
         "counter_tomultiset": 0,
         "counter_join": 2,
         "counter_bgp": 1,
         "counter_insertdata": 0,
         "counter_deletedata": 0,
         "counter_project": 1,
         "counter_union": 0,
         "counter_values": 0,
         "counter_groupby": 0,
         "counter_offset": 0,
         "counter_slice": 0,
         "has_variable": true,
         "has_filter": false,
         "has_orderby": false,
         "has_limit": false,
         "has_select": true,
         "has_distinct": false,
         "has_modify": false,
         "has_tomultiset": false,
         "has_join": true,
         "has_bgp": true,
         "has_insertdata": false,
         "has_deletedata": false,
         "has_project": true,
         "has_union": false,
         "has_values": false,
         "has_groupby": false,
         "has_slice": false,
         "has_offset": false,
         "_deepnote_index_column": 12
        },
        {
         "anonymizedQuery": "SELECT%28++SAMPLE+%28+%3Fvar1++%29+AS++%3Fvar1++%29+%3Fvar1Label+%28++SAMPLE+%28+%3Fvar2++%29+AS++%…",
         "timestamp": "2018-02-26 00:31:11",
         "sourceCategory": "organic",
         "user_agent": "browser",
         "file_path": "../BadRequeteCrypt/I7_status500_Joined.tsv",
         "interval": 7,
         "rawAnonymizedQuery": "SELECT(  SAMPLE ( ?var1  ) AS  ?var1  ) ?var1Label (  SAMPLE ( ?var2  ) AS  ?var2  )( COUNT ( ?var1…",
         "query": "<rdflib.plugins.sparql.sparql.Query object at 0x7f26be18a750>",
         "visitor": "<__main__.FilterVisitor object at 0x7f26be1ab810>",
         "counter_variable": 9,
         "counter_filter": 0,
         "counter_orderby": 1,
         "counter_limit": 1,
         "counter_select": 1,
         "counter_distinct": 0,
         "counter_modify": 0,
         "counter_tomultiset": 0,
         "counter_join": 1,
         "counter_bgp": 2,
         "counter_insertdata": 0,
         "counter_deletedata": 0,
         "counter_project": 1,
         "counter_union": 0,
         "counter_values": 0,
         "counter_groupby": 1,
         "counter_offset": 1,
         "counter_slice": 1,
         "has_variable": true,
         "has_filter": false,
         "has_orderby": true,
         "has_limit": true,
         "has_select": true,
         "has_distinct": false,
         "has_modify": false,
         "has_tomultiset": false,
         "has_join": true,
         "has_bgp": true,
         "has_insertdata": false,
         "has_deletedata": false,
         "has_project": true,
         "has_union": false,
         "has_values": false,
         "has_groupby": true,
         "has_slice": true,
         "has_offset": true,
         "_deepnote_index_column": 14
        },
        {
         "anonymizedQuery": "SELECT+%3Fvar1++%3Fvar1Label++%3Fvar2+%0AWHERE+%7B%0A++%3Chttp%3A%2F%2Fwww.wikidata.org%2Fentity%2F…",
         "timestamp": "2018-02-26 00:31:58",
         "sourceCategory": "organic",
         "user_agent": "browser",
         "file_path": "../BadRequeteCrypt/I7_status500_Joined.tsv",
         "interval": 7,
         "rawAnonymizedQuery": "SELECT ?var1  ?var1Label  ?var2 \nWHERE {\n  <http://www.wikidata.org/entity/Q64>  <http://www.wikida…",
         "query": "<rdflib.plugins.sparql.sparql.Query object at 0x7f26be177390>",
         "visitor": "<__main__.FilterVisitor object at 0x7f26be20cfd0>",
         "counter_variable": 4,
         "counter_filter": 0,
         "counter_orderby": 0,
         "counter_limit": 0,
         "counter_select": 1,
         "counter_distinct": 0,
         "counter_modify": 0,
         "counter_tomultiset": 0,
         "counter_join": 3,
         "counter_bgp": 2,
         "counter_insertdata": 0,
         "counter_deletedata": 0,
         "counter_project": 1,
         "counter_union": 0,
         "counter_values": 0,
         "counter_groupby": 0,
         "counter_offset": 0,
         "counter_slice": 0,
         "has_variable": true,
         "has_filter": false,
         "has_orderby": false,
         "has_limit": false,
         "has_select": true,
         "has_distinct": false,
         "has_modify": false,
         "has_tomultiset": false,
         "has_join": true,
         "has_bgp": true,
         "has_insertdata": false,
         "has_deletedata": false,
         "has_project": true,
         "has_union": false,
         "has_values": false,
         "has_groupby": false,
         "has_slice": false,
         "has_offset": false,
         "_deepnote_index_column": 17
        },
        {
         "anonymizedQuery": "SELECT+%3Fvar1++%3Fvar2++%3Fvar1Label++%3Fvar2Label+%0AWHERE+%7B%0A++%3Fvar1++%3Chttp%3A%2F%2Fwww.w…",
         "timestamp": "2018-02-26 00:33:54",
         "sourceCategory": "organic",
         "user_agent": "browser",
         "file_path": "../BadRequeteCrypt/I7_status500_Joined.tsv",
         "interval": 7,
         "rawAnonymizedQuery": "SELECT ?var1  ?var2  ?var1Label  ?var2Label \nWHERE {\n  ?var1  <http://www.wikidata.org/prop/direct/…",
         "query": "<rdflib.plugins.sparql.sparql.Query object at 0x7f26be1a4210>",
         "visitor": "<__main__.FilterVisitor object at 0x7f2680a59a50>",
         "counter_variable": 4,
         "counter_filter": 0,
         "counter_orderby": 0,
         "counter_limit": 1,
         "counter_select": 1,
         "counter_distinct": 0,
         "counter_modify": 0,
         "counter_tomultiset": 0,
         "counter_join": 1,
         "counter_bgp": 5,
         "counter_insertdata": 0,
         "counter_deletedata": 0,
         "counter_project": 1,
         "counter_union": 0,
         "counter_values": 0,
         "counter_groupby": 0,
         "counter_offset": 1,
         "counter_slice": 1,
         "has_variable": true,
         "has_filter": false,
         "has_orderby": false,
         "has_limit": true,
         "has_select": true,
         "has_distinct": false,
         "has_modify": false,
         "has_tomultiset": false,
         "has_join": true,
         "has_bgp": true,
         "has_insertdata": false,
         "has_deletedata": false,
         "has_project": true,
         "has_union": false,
         "has_values": false,
         "has_groupby": false,
         "has_slice": true,
         "has_offset": true,
         "_deepnote_index_column": 18
        },
        {
         "anonymizedQuery": "SELECT+%3Fvar1++%3Fvar1Label++%3Fvar2+%0AWHERE+%7B%0A++%3Chttp%3A%2F%2Fwww.wikidata.org%2Fentity%2F…",
         "timestamp": "2018-02-26 00:46:46",
         "sourceCategory": "organic",
         "user_agent": "browser",
         "file_path": "../BadRequeteCrypt/I7_status500_Joined.tsv",
         "interval": 7,
         "rawAnonymizedQuery": "SELECT ?var1  ?var1Label  ?var2 \nWHERE {\n  <http://www.wikidata.org/entity/Q64>  <http://www.wikida…",
         "query": "<rdflib.plugins.sparql.sparql.Query object at 0x7f26be16af90>",
         "visitor": "<__main__.FilterVisitor object at 0x7f2680bf5750>",
         "counter_variable": 4,
         "counter_filter": 0,
         "counter_orderby": 1,
         "counter_limit": 0,
         "counter_select": 1,
         "counter_distinct": 0,
         "counter_modify": 0,
         "counter_tomultiset": 0,
         "counter_join": 3,
         "counter_bgp": 2,
         "counter_insertdata": 0,
         "counter_deletedata": 0,
         "counter_project": 1,
         "counter_union": 0,
         "counter_values": 0,
         "counter_groupby": 0,
         "counter_offset": 0,
         "counter_slice": 0,
         "has_variable": true,
         "has_filter": false,
         "has_orderby": true,
         "has_limit": false,
         "has_select": true,
         "has_distinct": false,
         "has_modify": false,
         "has_tomultiset": false,
         "has_join": true,
         "has_bgp": true,
         "has_insertdata": false,
         "has_deletedata": false,
         "has_project": true,
         "has_union": false,
         "has_values": false,
         "has_groupby": false,
         "has_slice": false,
         "has_offset": false,
         "_deepnote_index_column": 22
        },
        {
         "anonymizedQuery": "SELECT+DISTINCT+%3Fvar1++%3Fvar1Label++%3Fvar2++%3Fvar2Label++%3Fvar3++%3Fvar4+%0AWHERE+%7B%0A++%3F…",
         "timestamp": "2018-02-26 00:47:48",
         "sourceCategory": "organic",
         "user_agent": "browser",
         "file_path": "../BadRequeteCrypt/I7_status500_Joined.tsv",
         "interval": 7,
         "rawAnonymizedQuery": "SELECT DISTINCT ?var1  ?var1Label  ?var2  ?var2Label  ?var3  ?var4 \nWHERE {\n  ?var2 ( <http://www.w…",
         "query": "<rdflib.plugins.sparql.sparql.Query object at 0x7f26be16a0d0>",
         "visitor": "<__main__.FilterVisitor object at 0x7f2680bf5e90>",
         "counter_variable": 9,
         "counter_filter": 0,
         "counter_orderby": 1,
         "counter_limit": 1,
         "counter_select": 1,
         "counter_distinct": 1,
         "counter_modify": 0,
         "counter_tomultiset": 0,
         "counter_join": 2,
         "counter_bgp": 2,
         "counter_insertdata": 0,
         "counter_deletedata": 0,
         "counter_project": 1,
         "counter_union": 0,
         "counter_values": 0,
         "counter_groupby": 0,
         "counter_offset": 1,
         "counter_slice": 1,
         "has_variable": true,
         "has_filter": false,
         "has_orderby": true,
         "has_limit": true,
         "has_select": true,
         "has_distinct": true,
         "has_modify": false,
         "has_tomultiset": false,
         "has_join": true,
         "has_bgp": true,
         "has_insertdata": false,
         "has_deletedata": false,
         "has_project": true,
         "has_union": false,
         "has_values": false,
         "has_groupby": false,
         "has_slice": true,
         "has_offset": true,
         "_deepnote_index_column": 23
        }
       ]
      },
      "text/plain": "                                                                                                                                                                                                                                                                                                                                                                                                                                                                                                                                                                                                                                                                                                                                                                                                                                                                                                                                                                                                                                                                                                                                                                                                                                                                                                                                                                                                                                                                                                                                                      anonymizedQuery  ... has_offset\n0      SELECT+%3Fvar1++%3Fvar1Label++%3Fvar2++%3Fvar2Label++%3Fvar3++%3Fvar3Label+%0AWHERE+%7B%0A+SERVICE++%3Chttp%3A%2F%2Fwikiba.se%2Fontology%23label%3E+++%7B%0A++++%3Chttp%3A%2F%2Fwww.bigdata.com%2Frdf%23serviceParam%3E++%3Chttp%3A%2F%2Fwikiba.se%2Fontology%23language%3E++%22en%2Cen%22.%0A++%7D%0A++%3Fvar1++%3Chttp%3A%2F%2Fwww.wikidata.org%2Fprop%2Fdirect%2FP31%3E++%3Chttp%3A%2F%2Fwww.wikidata.org%2Fentity%2FQ215380%3E+.%0A+OPTIONAL+%7B%0A++%3Fvar4++%3Chttp%3A%2F%2Fwww.wikidata.org%2Fprop%2Fdirect%2FP136%3E++%3Fvar2+.%0A+%7D%0A+OPTIONAL+%7B%0A++%3Fvar4++%3Chttp%3A%2F%2Fwww.wikidata.org%2Fprop%2Fdirect%2FP264%3E++%3Fvar3+.%0A+%7D%0A%7D%0ALIMIT+10%0A                                                                                                                                                                                                                                                                                                                                                                                                                                                                                                                                                                                                                                                                                                                                                                                                                                                                                    ...  True     \n2      SELECT+%3Fvar1++%3Fvar1Label+%28+COUNT+%28+DISTINCT++%3Fvar2++%29+AS++%3Fvar3++%29%0AWHERE+%7B%0A++%3Fvar2++%3Chttp%3A%2F%2Fwww.wikidata.org%2Fprop%2Fdirect%2FP19%3E++%3Fvar1+%3B%0A%28+%3Chttp%3A%2F%2Fwww.wikidata.org%2Fprop%2Fdirect%2FP106%3E+%2F+%3Chttp%3A%2F%2Fwww.wikidata.org%2Fprop%2Fdirect%2FP279%3E+*%29+%3Chttp%3A%2F%2Fwww.wikidata.org%2Fentity%2FQ901%3E+.%0A++%3Fvar1+%28+%3Chttp%3A%2F%2Fwww.wikidata.org%2Fprop%2Fdirect%2FP17%3E+*%2F+%3Chttp%3A%2F%2Fwww.wikidata.org%2Fprop%2Fdirect%2FP30%3E+%29+%3Chttp%3A%2F%2Fwww.wikidata.org%2Fentity%2FQ46%3E+.%0A+SERVICE++%3Chttp%3A%2F%2Fwikiba.se%2Fontology%23label%3E+++%7B%0A++++%3Chttp%3A%2F%2Fwww.bigdata.com%2Frdf%23serviceParam%3E++%3Chttp%3A%2F%2Fwikiba.se%2Fontology%23language%3E++%22en%22.%0A++%7D%0A%7D%0AGROUP+BY++%3Fvar1++%3Fvar1Label+%0AORDER+BY++DESC%28+%3Fvar3+%29%0ALIMIT+10%0A                                                                                                                                                                                                                                                                                                                                                                                                                                                                                                                                                                                                                                                                                   ...  True     \n3      SELECT+%3Fvar1++%3Fvar1Label++%3Fvar2++%3Fvar2Label++%3Fvar3++%3Fvar3Label+%0AWHERE+%7B%0A+SERVICE++%3Chttp%3A%2F%2Fwikiba.se%2Fontology%23label%3E+++%7B%0A++++%3Chttp%3A%2F%2Fwww.bigdata.com%2Frdf%23serviceParam%3E++%3Chttp%3A%2F%2Fwikiba.se%2Fontology%23language%3E++%22en%2Cen%22.%0A++%7D%0A++%3Fvar1++%3Chttp%3A%2F%2Fwww.wikidata.org%2Fprop%2Fdirect%2FP31%3E++%3Chttp%3A%2F%2Fwww.wikidata.org%2Fentity%2FQ215380%3E+.%0A+OPTIONAL+%7B%0A++%3Fvar4++%3Chttp%3A%2F%2Fwww.wikidata.org%2Fprop%2Fdirect%2FP136%3E++%3Fvar2+.%0A+%7D%0A+OPTIONAL+%7B%0A++%3Fvar4++%3Chttp%3A%2F%2Fwww.wikidata.org%2Fprop%2Fdirect%2FP264%3E++%3Fvar3+.%0A+%7D%0A%7D%0ALIMIT+10%0A                                                                                                                                                                                                                                                                                                                                                                                                                                                                                                                                                                                                                                                                                                                                                                                                                                                                                    ...  True     \n6      SELECT+DISTINCT+%3Fvar1Label++%3Fvar2Label++%3Fvar1+%0AWHERE+%7B%0A++%3Fvar1+%28+%3Chttp%3A%2F%2Fwww.wikidata.org%2Fprop%2Fdirect%2FP31%3E+%2F+%3Chttp%3A%2F%2Fwww.wikidata.org%2Fprop%2Fdirect%2FP279%3E+*%29+%3Chttp%3A%2F%2Fwww.wikidata.org%2Fentity%2FQ6999%3E+.%0A+OPTIONAL+%7B%0A++%3Fvar1++%3Chttp%3A%2F%2Fwww.wikidata.org%2Fprop%2Fdirect%2FP31%3E++%3Fvar2+.%0A+FILTER+%28++%28+%28++%3Fvar2++%21%3D++%3Chttp%3A%2F%2Fwww.wikidata.org%2Fentity%2FQ6999%3E++%29+%29+%0A%29+.%0A+%7D%0A+SERVICE++%3Chttp%3A%2F%2Fwikiba.se%2Fontology%23label%3E+++%7B%0A++++%3Chttp%3A%2F%2Fwww.bigdata.com%2Frdf%23serviceParam%3E++%3Chttp%3A%2F%2Fwikiba.se%2Fontology%23language%3E++%22en%22.%0A++%7D%0A%7D%0AORDER+BY+ASC%28+%3Fvar2Label+%29ASC%28+%3Fvar1Label+%29%0A                                                                                                                                                                                                                                                                                                                                                                                                                                                                                                                                                                                                                                                                                                                                                                                        ...  False    \n12     SELECT+%3Fvar1++%3Fvar1Label++%3Fvar2+%0AWHERE+%7B%0A++%3Fvar1+%28+%3Chttp%3A%2F%2Fwww.wikidata.org%2Fprop%2Fdirect%2FP31%3E+%2F+%3Chttp%3A%2F%2Fwww.wikidata.org%2Fprop%2Fdirect%2FP279%3E+*%29+%3Chttp%3A%2F%2Fwww.wikidata.org%2Fentity%2FQ23413%3E+.%0A++%3Chttp%3A%2F%2Fwww.wikidata.org%2Fentity%2FQ64%3E++%3Chttp%3A%2F%2Fwww.wikidata.org%2Fprop%2Fdirect%2FP625%3E++%3Fvar3+.%0A+SERVICE++%3Chttp%3A%2F%2Fwikiba.se%2Fontology%23around%3E+++%7B%0A++++%3Fvar1++%3Chttp%3A%2F%2Fwww.wikidata.org%2Fprop%2Fdirect%2FP625%3E++%3Fvar2+.%0A++++%3Chttp%3A%2F%2Fwww.bigdata.com%2Frdf%23serviceParam%3E++%3Chttp%3A%2F%2Fwikiba.se%2Fontology%23center%3E++%3Fvar3+.%0A++++%3Chttp%3A%2F%2Fwww.bigdata.com%2Frdf%23serviceParam%3E++%3Chttp%3A%2F%2Fwikiba.se%2Fontology%23radius%3E++%2220%22.%0A++%7D%0A+SERVICE++%3Chttp%3A%2F%2Fwikiba.se%2Fontology%23label%3E+++%7B%0A++++%3Chttp%3A%2F%2Fwww.bigdata.com%2Frdf%23serviceParam%3E++%3Chttp%3A%2F%2Fwikiba.se%2Fontology%23language%3E++%22en%22.%0A++%7D%0A%7D%0A                                                                                                                                                                                                                                                                                                                                                                                                                                                                                                                                    ...  False    \n14     SELECT%28++SAMPLE+%28+%3Fvar1++%29+AS++%3Fvar1++%29+%3Fvar1Label+%28++SAMPLE+%28+%3Fvar2++%29+AS++%3Fvar2++%29%28+COUNT+%28+%3Fvar1++%29+AS++%3Fvar3++%29%0AWHERE+%7B%0A++%3Fvar4++%3Chttp%3A%2F%2Fwww.wikidata.org%2Fprop%2Fdirect%2FP22%3E++%3Fvar1+.%0A+OPTIONAL+%7B%0A++%3Fvar1++%3Chttp%3A%2F%2Fwww.wikidata.org%2Fprop%2Fdirect%2FP18%3E++%3Fvar2+.%0A+%7D%0A+SERVICE++%3Chttp%3A%2F%2Fwikiba.se%2Fontology%23label%3E+++%7B%0A++++%3Chttp%3A%2F%2Fwww.bigdata.com%2Frdf%23serviceParam%3E++%3Chttp%3A%2F%2Fwikiba.se%2Fontology%23language%3E++%22en%22.%0A++%7D%0A%7D%0AGROUP+BY++%3Fvar1Label+%0AORDER+BY++DESC%28+%3Fvar3+%29%0ALIMIT+50%0A                                                                                                                                                                                                                                                                                                                                                                                                                                                                                                                                                                                                                                                                                                                                                                                                                                                                                                           ...  True     \n17     SELECT+%3Fvar1++%3Fvar1Label++%3Fvar2+%0AWHERE+%7B%0A++%3Chttp%3A%2F%2Fwww.wikidata.org%2Fentity%2FQ64%3E++%3Chttp%3A%2F%2Fwww.wikidata.org%2Fprop%2Fdirect%2FP625%3E++%3Fvar3+.%0A+SERVICE++%3Chttp%3A%2F%2Fwikiba.se%2Fontology%23around%3E+++%7B%0A++++%3Fvar1++%3Chttp%3A%2F%2Fwww.wikidata.org%2Fprop%2Fdirect%2FP625%3E++%3Fvar2+.%0A++++%3Chttp%3A%2F%2Fwww.bigdata.com%2Frdf%23serviceParam%3E++%3Chttp%3A%2F%2Fwikiba.se%2Fontology%23center%3E++%3Fvar3+.%0A++++%3Chttp%3A%2F%2Fwww.bigdata.com%2Frdf%23serviceParam%3E++%3Chttp%3A%2F%2Fwikiba.se%2Fontology%23radius%3E++%2250%22.%0A++%7D%0A+SERVICE++%3Chttp%3A%2F%2Fwikiba.se%2Fontology%23label%3E+++%7B%0A++++%3Chttp%3A%2F%2Fwww.bigdata.com%2Frdf%23serviceParam%3E++%3Chttp%3A%2F%2Fwikiba.se%2Fontology%23language%3E++%22en%22.%0A++%7D%0A++%3Fvar1+%28+%3Chttp%3A%2F%2Fwww.wikidata.org%2Fprop%2Fdirect%2FP31%3E+%2F+%3Chttp%3A%2F%2Fwww.wikidata.org%2Fprop%2Fdirect%2FP279%3E+*%29+%3Chttp%3A%2F%2Fwww.wikidata.org%2Fentity%2FQ23413%3E+.%0A%7D%0A                                                                                                                                                                                                                                                                                                                                                                                                                                                                                                                                    ...  False    \n18     SELECT+%3Fvar1++%3Fvar2++%3Fvar1Label++%3Fvar2Label+%0AWHERE+%7B%0A++%3Fvar1++%3Chttp%3A%2F%2Fwww.wikidata.org%2Fprop%2Fdirect%2FP17%3E++%3Fvar2+.%0A++MINUS+++%7B%0A++++%3Fvar2+%28+%3Chttp%3A%2F%2Fwww.wikidata.org%2Fprop%2Fdirect%2FP31%3E+%2F+%3Chttp%3A%2F%2Fwww.wikidata.org%2Fprop%2Fdirect%2FP279%3E+*%29+%3Chttp%3A%2F%2Fwww.wikidata.org%2Fentity%2FQ7275%3E+.%0A++%7D%0A++MINUS+++%7B%0A++++%3Fvar2+%28+%3Chttp%3A%2F%2Fwww.wikidata.org%2Fprop%2Fdirect%2FP31%3E+%2F+%3Chttp%3A%2F%2Fwww.wikidata.org%2Fprop%2Fdirect%2FP279%3E+*%29+%3Chttp%3A%2F%2Fwww.wikidata.org%2Fentity%2FQ183366%3E+.%0A++%7D%0A++MINUS+++%7B%0A++++%3Fvar2+%28+%3Chttp%3A%2F%2Fwww.wikidata.org%2Fprop%2Fdirect%2FP31%3E+%2F+%3Chttp%3A%2F%2Fwww.wikidata.org%2Fprop%2Fdirect%2FP279%3E+*%29+%3Chttp%3A%2F%2Fwww.wikidata.org%2Fentity%2FQ15893266%3E+.%0A++%7D%0A++MINUS+++%7B%0A++++%3Fvar2+%28+%3Chttp%3A%2F%2Fwww.wikidata.org%2Fprop%2Fdirect%2FP31%3E+%2F+%3Chttp%3A%2F%2Fwww.wikidata.org%2Fprop%2Fdirect%2FP279%3E+*%29+%3Chttp%3A%2F%2Fwww.wikidata.org%2Fentity%2FQ1048835%3E+.%0A++%7D%0A+SERVICE++%3Chttp%3A%2F%2Fwikiba.se%2Fontology%23label%3E+++%7B%0A++++%3Chttp%3A%2F%2Fwww.bigdata.com%2Frdf%23serviceParam%3E++%3Chttp%3A%2F%2Fwikiba.se%2Fontology%23language%3E++%22en%22.%0A++%7D%0A%7D%0ALIMIT+1000%0A                                                                                                                                                                                                                                            ...  True     \n22     SELECT+%3Fvar1++%3Fvar1Label++%3Fvar2+%0AWHERE+%7B%0A++%3Chttp%3A%2F%2Fwww.wikidata.org%2Fentity%2FQ64%3E++%3Chttp%3A%2F%2Fwww.wikidata.org%2Fprop%2Fdirect%2FP625%3E++%3Fvar3+.%0A+SERVICE++%3Chttp%3A%2F%2Fwikiba.se%2Fontology%23around%3E+++%7B%0A++++%3Fvar1++%3Chttp%3A%2F%2Fwww.wikidata.org%2Fprop%2Fdirect%2FP625%3E++%3Fvar2+.%0A++++%3Chttp%3A%2F%2Fwww.bigdata.com%2Frdf%23serviceParam%3E++%3Chttp%3A%2F%2Fwikiba.se%2Fontology%23center%3E++%3Fvar3+.%0A++++%3Chttp%3A%2F%2Fwww.bigdata.com%2Frdf%23serviceParam%3E++%3Chttp%3A%2F%2Fwikiba.se%2Fontology%23radius%3E++%2250%22.%0A++%7D%0A+SERVICE++%3Chttp%3A%2F%2Fwikiba.se%2Fontology%23label%3E+++%7B%0A++++%3Chttp%3A%2F%2Fwww.bigdata.com%2Frdf%23serviceParam%3E++%3Chttp%3A%2F%2Fwikiba.se%2Fontology%23language%3E++%22de%2Cen%22.%0A++%7D%0A++%3Fvar1+%28+%3Chttp%3A%2F%2Fwww.wikidata.org%2Fprop%2Fdirect%2FP31%3E+%2F+%3Chttp%3A%2F%2Fwww.wikidata.org%2Fprop%2Fdirect%2FP279%3E+*%29+%3Chttp%3A%2F%2Fwww.wikidata.org%2Fentity%2FQ29637965%3E+.%0A%7D%0AORDER+BY+ASC%28+%3Fvar2+%29%0A                                                                                                                                                                                                                                                                                                                                                                                                                                                                                              ...  False    \n...                                                                                                                                                                                                                                                                                                                                                                                                                                                                                                                                                                                                                                                                                                                                                                                                                                                                                                                                                                                                                                                                   ...                                                                                                                                                                                                                                                                                                                                                                                                                                                                                              ...    ...    \n25639  SELECT+%3Fvar1++%3Fvar2Label++%3Fvar3+%0AWHERE+%7B%0A++%3Chttp%3A%2F%2Fwww.bigdata.com%2FqueryHints%23Query%3E++%3Chttp%3A%2F%2Fwww.bigdata.com%2FqueryHints%23optimizer%3E++%22None%22.%0A+%7B%0A++SELECT+DISTINCT+%3Fvar1+%0A++WHERE+++%7B%0A++++%3Fvar4++%3Fvar5++%3Chttp%3A%2F%2Fwww.wikidata.org%2Fentity%2FQ145%3E+.%0A++++%3Fvar1++%3Fvar6++%3Fvar5+.%0A++++%3Fvar1++%3Chttp%3A%2F%2Fwww.w3.org%2F1999%2F02%2F22-rdf-syntax-ns%23type%3E++%3Chttp%3A%2F%2Fwikiba.se%2Fontology%23Property%3E+.%0A++%7D%0A++LIMIT+100%0A+%7D%0A++%3Fvar1++%3Chttp%3A%2F%2Fwww.w3.org%2F2000%2F01%2Frdf-schema%23label%3E++%3Fvar2Label+.%0A++%3Fvar1++%3Chttp%3A%2F%2Fschema.org%2Fdescription%3E++%3Fvar3+.%0A+FILTER+%28++%28+%28++LANG+%28++%3Fvar2Label++%29++%3D++%22es%22+%29+%29+%0A%29+.%0A+FILTER+%28++%28+%28++LANG+%28++%3Fvar3++%29++%3D++%22es%22+%29+%29+%0A%29+.%0A%7D%0ALIMIT+100%0A                                                                                                                                                                                                                                                                                                                                                                                                                                                                                                                                                                                                                                                                      ...  True     \n25640  SELECT+%3Fvar1++%3Fvar2++%3Fvar3+%0AWHERE+%7B%0A++%3Fvar1++%3Chttp%3A%2F%2Fwww.wikidata.org%2Fprop%2Fdirect%2FP31%3E++%3Chttp%3A%2F%2Fwww.wikidata.org%2Fentity%2FQ5%3E+%3B%0A+%3Chttp%3A%2F%2Fwww.wikidata.org%2Fprop%2Fdirect%2FP21%3E++%3Chttp%3A%2F%2Fwww.wikidata.org%2Fentity%2FQ6581072%3E+%3B%0A+%3Chttp%3A%2F%2Fwww.wikidata.org%2Fprop%2Fdirect%2FP569%3E++%3Fvar4+.%0A+FILTER+%28++%28+%28++%3Fvar4++%3E%3D++%221921-01-01T00%3A00%3A00Z%22%5E%5E%3Chttp%3A%2F%2Fwww.w3.org%2F2001%2FXMLSchema%23dateTime%3E++%29+%29+%0A%29+.%0A++%3Fvar1++%3Chttp%3A%2F%2Fwikiba.se%2Fontology%23sitelinks%3E++%3Fvar3+.%0A++MINUS+++%7B%0A++++%3Fvar1++%3Chttp%3A%2F%2Fwww.wikidata.org%2Fprop%2Fdirect%2FP18%3E++%5B%5D+.%0A++%7D%0A++%3Fvar1++%3Chttp%3A%2F%2Fwww.w3.org%2F2000%2F01%2Frdf-schema%23label%3E++%3Fvar2+.%0A+FILTER+%28++%28+%28++LANG+%28++%3Fvar2++%29++%3D++%22en%22+%29+%29+%0A%29+.%0A%7D%0AGROUP+BY++%3Fvar1++%3Fvar2++%3Fvar3+%0AORDER+BY++DESC%28+%3Fvar3+%29%0ALIMIT+50%0A                                                                                                                                                                                                                                                                                                                                                                                                                                                                                                                                                               ...  True     \n25642  SELECT+%3Fvar1++%3Fvar2Label++%3Fvar3+%0AWHERE+%7B%0A++%3Chttp%3A%2F%2Fwww.bigdata.com%2FqueryHints%23Query%3E++%3Chttp%3A%2F%2Fwww.bigdata.com%2FqueryHints%23optimizer%3E++%22None%22.%0A+%7B%0A++SELECT+DISTINCT+%3Fvar1+%0A++WHERE+++%7B%0A++++%3Fvar4++%3Fvar5++%3Chttp%3A%2F%2Fwww.wikidata.org%2Fentity%2FQ33999%3E+.%0A++++%3Fvar1++%3Fvar6++%3Fvar5+.%0A++++%3Fvar1++%3Chttp%3A%2F%2Fwww.w3.org%2F1999%2F02%2F22-rdf-syntax-ns%23type%3E++%3Chttp%3A%2F%2Fwikiba.se%2Fontology%23Property%3E+.%0A++%7D%0A++LIMIT+100%0A+%7D%0A++%3Fvar1++%3Chttp%3A%2F%2Fwww.w3.org%2F2000%2F01%2Frdf-schema%23label%3E++%3Fvar2Label+.%0A++%3Fvar1++%3Chttp%3A%2F%2Fschema.org%2Fdescription%3E++%3Fvar3+.%0A+FILTER+%28++%28+%28++LANG+%28++%3Fvar2Label++%29++%3D++%22es%22+%29+%29+%0A%29+.%0A+FILTER+%28++%28+%28++LANG+%28++%3Fvar3++%29++%3D++%22es%22+%29+%29+%0A%29+.%0A%7D%0ALIMIT+100%0A                                                                                                                                                                                                                                                                                                                                                                                                                                                                                                                                                                                                                                                                    ...  True     \n25643  SELECT+%3Fvar1++%3Fvar2Label++%3Fvar3+%0AWHERE+%7B%0A++%3Chttp%3A%2F%2Fwww.bigdata.com%2FqueryHints%23Query%3E++%3Chttp%3A%2F%2Fwww.bigdata.com%2FqueryHints%23optimizer%3E++%22None%22.%0A+%7B%0A++SELECT+DISTINCT+%3Fvar1+%0A++WHERE+++%7B%0A++++%3Fvar4++%3Fvar5++%3Chttp%3A%2F%2Fwww.wikidata.org%2Fentity%2FQ33999%3E+.%0A++++%3Fvar1++%3Fvar6++%3Fvar5+.%0A++++%3Fvar1++%3Chttp%3A%2F%2Fwww.w3.org%2F1999%2F02%2F22-rdf-syntax-ns%23type%3E++%3Chttp%3A%2F%2Fwikiba.se%2Fontology%23Property%3E+.%0A++%7D%0A++LIMIT+100%0A+%7D%0A++%3Fvar1++%3Chttp%3A%2F%2Fwww.w3.org%2F2000%2F01%2Frdf-schema%23label%3E++%3Fvar2Label+.%0A++%3Fvar1++%3Chttp%3A%2F%2Fschema.org%2Fdescription%3E++%3Fvar3+.%0A+FILTER+%28++%28+%28++LANG+%28++%3Fvar2Label++%29++%3D++%22es%22+%29+%29+%0A%29+.%0A+FILTER+%28++%28+%28++LANG+%28++%3Fvar3++%29++%3D++%22es%22+%29+%29+%0A%29+.%0A%7D%0ALIMIT+100%0A                                                                                                                                                                                                                                                                                                                                                                                                                                                                                                                                                                                                                                                                    ...  True     \n25645  SELECT+%3Fvar1++%3Fvar2Label++%3Fvar3+%0AWHERE+%7B%0A++%3Chttp%3A%2F%2Fwww.bigdata.com%2FqueryHints%23Query%3E++%3Chttp%3A%2F%2Fwww.bigdata.com%2FqueryHints%23optimizer%3E++%22None%22.%0A+%7B%0A++SELECT+DISTINCT+%3Fvar1+%0A++WHERE+++%7B%0A++++%3Fvar4++%3Fvar5++%3Chttp%3A%2F%2Fwww.wikidata.org%2Fentity%2FQ145%3E+.%0A++++%3Fvar1++%3Fvar6++%3Fvar5+.%0A++++%3Fvar1++%3Chttp%3A%2F%2Fwww.w3.org%2F1999%2F02%2F22-rdf-syntax-ns%23type%3E++%3Chttp%3A%2F%2Fwikiba.se%2Fontology%23Property%3E+.%0A++%7D%0A++LIMIT+100%0A+%7D%0A++%3Fvar1++%3Chttp%3A%2F%2Fwww.w3.org%2F2000%2F01%2Frdf-schema%23label%3E++%3Fvar2Label+.%0A++%3Fvar1++%3Chttp%3A%2F%2Fschema.org%2Fdescription%3E++%3Fvar3+.%0A+FILTER+%28++%28+%28++LANG+%28++%3Fvar2Label++%29++%3D++%22es%22+%29+%29+%0A%29+.%0A+FILTER+%28++%28+%28++LANG+%28++%3Fvar3++%29++%3D++%22es%22+%29+%29+%0A%29+.%0A%7D%0ALIMIT+100%0A                                                                                                                                                                                                                                                                                                                                                                                                                                                                                                                                                                                                                                                                      ...  True     \n25647  SELECT+%3Fvar1+%0AWHERE+%7B%0A++%3Fvar1++%3Chttp%3A%2F%2Fwww.wikidata.org%2Fprop%2Fdirect%2FP31%3E++%3Chttp%3A%2F%2Fwww.wikidata.org%2Fentity%2FQ5%3E+.%0A++%3Fvar1++%3Chttp%3A%2F%2Fwww.wikidata.org%2Fprop%2Fdirect%2FP21%3E++%3Chttp%3A%2F%2Fwww.wikidata.org%2Fentity%2FQ6581072%3E+.%0A+OPTIONAL+%7B%0A++%3Fvar1++%3Chttp%3A%2F%2Fwww.w3.org%2F2000%2F01%2Frdf-schema%23label%3E++%3Fvar2+.%0A+FILTER+%28++%28+%28++LANG+%28++%3Fvar2++%29++%3D++%22es%22+%29+%29+%0A%29+.%0A+%7D%0A+OPTIONAL+%7B%0A++%3Fvar1++%3Chttp%3A%2F%2Fschema.org%2Fdescription%3E++%3Fvar3+.%0A+FILTER+%28++%28+%28++LANG+%28++%3Fvar3++%29++%3D++%22es%22+%29+%29+%0A%29+.%0A+%7D%0A+FILTER+%28++%28+%28++%3Fvar2++%3D++%3Fvar3++%29+%29+%0A%29+.%0A%7D%0ALIMIT+5%0A                                                                                                                                                                                                                                                                                                                                                                                                                                                                                                                                                                                                                                                                                                                                                                                                             ...  True     \n25648  SELECT+%3Fvar1+%0AWHERE+%7B%0A++%3Fvar1++%3Chttp%3A%2F%2Fwww.wikidata.org%2Fprop%2Fdirect%2FP31%3E++%3Chttp%3A%2F%2Fwww.wikidata.org%2Fentity%2FQ5%3E+.%0A++%3Fvar1++%3Chttp%3A%2F%2Fwww.wikidata.org%2Fprop%2Fdirect%2FP21%3E++%3Chttp%3A%2F%2Fwww.wikidata.org%2Fentity%2FQ6581072%3E+.%0A+OPTIONAL+%7B%0A++%3Fvar1++%3Chttp%3A%2F%2Fwww.w3.org%2F2000%2F01%2Frdf-schema%23label%3E++%3Fvar2+.%0A+FILTER+%28++%28+%28++LANG+%28++%3Fvar2++%29++%3D++%22es%22+%29+%29+%0A%29+.%0A+%7D%0A+OPTIONAL+%7B%0A++%3Fvar1++%3Chttp%3A%2F%2Fschema.org%2Fdescription%3E++%3Fvar3+.%0A+FILTER+%28++%28+%28++LANG+%28++%3Fvar3++%29++%3D++%22es%22+%29+%29+%0A%29+.%0A+%7D%0A+FILTER+%28++%28+%28++%3Fvar2++%3D++%3Fvar3++%29+%29+%0A%29+.%0A%7D%0ALIMIT+2%0A                                                                                                                                                                                                                                                                                                                                                                                                                                                                                                                                                                                                                                                                                                                                                                                                             ...  True     \n25652  SELECT+DISTINCT+%3Fvar1++%3Fvar1Label++%3Fvar2++%3Fvar2Label++%3Fvar3++%3Fvar4+%0AWHERE+%7B%0A++%3Fvar2+%28+%3Chttp%3A%2F%2Fwww.wikidata.org%2Fprop%2Fdirect%2FP31%3E+%2F+%3Chttp%3A%2F%2Fwww.wikidata.org%2Fprop%2Fdirect%2FP279%3E+*%29+%3Chttp%3A%2F%2Fwww.wikidata.org%2Fentity%2FQ515%3E+.%0A++%3Fvar1++%3Chttp%3A%2F%2Fwww.wikidata.org%2Fprop%2Fdirect%2FP31%3E++%3Chttp%3A%2F%2Fwww.wikidata.org%2Fentity%2FQ644371%3E+.%0A++%3Fvar1++%3Fvar5++%3Fvar2+.%0A++%3Fvar1++%3Chttp%3A%2F%2Fwww.wikidata.org%2Fprop%2Fdirect%2FP238%3E++%3Fvar3+.%0A+SERVICE++%3Chttp%3A%2F%2Fwikiba.se%2Fontology%23around%3E+++%7B%0A++++%3Fvar2++%3Chttp%3A%2F%2Fwww.wikidata.org%2Fprop%2Fdirect%2FP625%3E++%3Fvar6+.%0A++++%3Chttp%3A%2F%2Fwww.bigdata.com%2Frdf%23serviceParam%3E++%3Chttp%3A%2F%2Fwikiba.se%2Fontology%23center%3E++%22POINT%280+52%29%22%5E%5E%3Chttp%3A%2F%2Fwww.opengis.net%2Font%2Fgeosparql%23wktLiteral%3E+.%0A++++%3Chttp%3A%2F%2Fwww.bigdata.com%2Frdf%23serviceParam%3E++%3Chttp%3A%2F%2Fwikiba.se%2Fontology%23radius%3E++%22200%22.%0A++++%3Chttp%3A%2F%2Fwww.bigdata.com%2Frdf%23serviceParam%3E++%3Chttp%3A%2F%2Fwikiba.se%2Fontology%23distance%3E++%3Fvar7+.%0A++%7D%0A+SERVICE++%3Chttp%3A%2F%2Fwikiba.se%2Fontology%23label%3E+++%7B%0A++++%3Chttp%3A%2F%2Fwww.bigdata.com%2Frdf%23serviceParam%3E++%3Chttp%3A%2F%2Fwikiba.se%2Fontology%23language%3E++%22en%22.%0A++%7D%0A+OPTIONAL+%7B%0A++%3Fvar2++%3Chttp%3A%2F%2Fwww.wikidata.org%2Fprop%2Fdirect%2FP625%3E++%3Fvar4+.%0A+%7D%0A%7D%0AORDER+BY+ASC%28+%3Fvar7+%29%0ALIMIT+1%0A  ...  True     \n25661  SELECT+%3Fvar1++%3Fvar2Label++%3Fvar1Label++%3Fvar3++%3Fvar4++%3Fvar4Label+%0AWHERE+%7B%0A++VALUES+%28++%3Fvar2++%29+%7B%0A+++%28++%3Chttp%3A%2F%2Fwww.wikidata.org%2Fentity%2FQ5608%3E++%29%0A++%7D%0A++%3Fvar1++%3Chttp%3A%2F%2Fwww.wikidata.org%2Fprop%2Fdirect%2FP175%3E++%3Fvar2+.%0A++%3Fvar1++%3Chttp%3A%2F%2Fwww.wikidata.org%2Fprop%2Fdirect%2FP577%3E++%3Fvar3+.%0A+SERVICE++%3Chttp%3A%2F%2Fwikiba.se%2Fontology%23label%3E+++%7B%0A++++%3Chttp%3A%2F%2Fwww.bigdata.com%2Frdf%23serviceParam%3E++%3Chttp%3A%2F%2Fwikiba.se%2Fontology%23language%3E++%22en%22.%0A++%7D%0A+OPTIONAL+%7B%0A++%3Fvar5++%3Chttp%3A%2F%2Fwww.wikidata.org%2Fprop%2Fdirect%2FP136%3E++%3Fvar4+.%0A+%7D%0A%7D%0A                                                                                                                                                                                                                                                                                                                                                                                                                                                                                                                                                                                                                                                                                                                                                                                                                                                            ...  False    \n\n[8103 rows x 45 columns]",
      "text/html": "<div>\n<style scoped>\n    .dataframe tbody tr th:only-of-type {\n        vertical-align: middle;\n    }\n\n    .dataframe tbody tr th {\n        vertical-align: top;\n    }\n\n    .dataframe thead th {\n        text-align: right;\n    }\n</style>\n<table border=\"1\" class=\"dataframe\">\n  <thead>\n    <tr style=\"text-align: right;\">\n      <th></th>\n      <th>anonymizedQuery</th>\n      <th>timestamp</th>\n      <th>sourceCategory</th>\n      <th>user_agent</th>\n      <th>file_path</th>\n      <th>interval</th>\n      <th>rawAnonymizedQuery</th>\n      <th>query</th>\n      <th>visitor</th>\n      <th>counter_variable</th>\n      <th>counter_filter</th>\n      <th>counter_orderby</th>\n      <th>counter_limit</th>\n      <th>counter_select</th>\n      <th>counter_distinct</th>\n      <th>counter_modify</th>\n      <th>counter_tomultiset</th>\n      <th>counter_join</th>\n      <th>counter_bgp</th>\n      <th>counter_insertdata</th>\n      <th>counter_deletedata</th>\n      <th>counter_project</th>\n      <th>counter_union</th>\n      <th>counter_values</th>\n      <th>counter_groupby</th>\n      <th>counter_offset</th>\n      <th>counter_slice</th>\n      <th>has_variable</th>\n      <th>has_filter</th>\n      <th>has_orderby</th>\n      <th>has_limit</th>\n      <th>has_select</th>\n      <th>has_distinct</th>\n      <th>has_modify</th>\n      <th>has_tomultiset</th>\n      <th>has_join</th>\n      <th>has_bgp</th>\n      <th>has_insertdata</th>\n      <th>has_deletedata</th>\n      <th>has_project</th>\n      <th>has_union</th>\n      <th>has_values</th>\n      <th>has_groupby</th>\n      <th>has_slice</th>\n      <th>has_offset</th>\n    </tr>\n  </thead>\n  <tbody>\n    <tr>\n      <th>0</th>\n      <td>SELECT+%3Fvar1++%3Fvar1Label++%3Fvar2++%3Fvar2Label++%3Fvar3++%3Fvar3Label+%0AWHERE+%7B%0A+SERVICE++%3Chttp%3A%2F%2Fwikiba.se%2Fontology%23label%3E+++%7B%0A++++%3Chttp%3A%2F%2Fwww.bigdata.com%2Frdf%23serviceParam%3E++%3Chttp%3A%2F%2Fwikiba.se%2Fontology%23language%3E++%22en%2Cen%22.%0A++%7D%0A++%3Fvar1++%3Chttp%3A%2F%2Fwww.wikidata.org%2Fprop%2Fdirect%2FP31%3E++%3Chttp%3A%2F%2Fwww.wikidata.org%2Fentity%2FQ215380%3E+.%0A+OPTIONAL+%7B%0A++%3Fvar4++%3Chttp%3A%2F%2Fwww.wikidata.org%2Fprop%2Fdirect%2FP136%3E++%3Fvar2+.%0A+%7D%0A+OPTIONAL+%7B%0A++%3Fvar4++%3Chttp%3A%2F%2Fwww.wikidata.org%2Fprop%2Fdirect%2FP264%3E++%3Fvar3+.%0A+%7D%0A%7D%0ALIMIT+10%0A</td>\n      <td>2018-02-26 00:03:29</td>\n      <td>organic</td>\n      <td>browser</td>\n      <td>../BadRequeteCrypt/I7_status500_Joined.tsv</td>\n      <td>7</td>\n      <td>SELECT ?var1  ?var1Label  ?var2  ?var2Label  ?var3  ?var3Label \\nWHERE {\\n SERVICE  &lt;http://wikiba.se/ontology#label&gt;   {\\n    &lt;http://www.bigdata.com/rdf#serviceParam&gt;  &lt;http://wikiba.se/ontology#language&gt;  \"en,en\".\\n  }\\n  ?var1  &lt;http://www.wikidata.org/prop/direct/P31&gt;  &lt;http://www.wikidata.org/entity/Q215380&gt; .\\n OPTIONAL {\\n  ?var4  &lt;http://www.wikidata.org/prop/direct/P136&gt;  ?var2 .\\n }\\n OPTIONAL {\\n  ?var4  &lt;http://www.wikidata.org/prop/direct/P264&gt;  ?var3 .\\n }\\n}\\nLIMIT 10\\n</td>\n      <td>&lt;rdflib.plugins.sparql.sparql.Query object at 0x7f26c07c63d0&gt;</td>\n      <td>&lt;__main__.FilterVisitor object at 0x7f26f3dd9dd0&gt;</td>\n      <td>7</td>\n      <td>0</td>\n      <td>0</td>\n      <td>1</td>\n      <td>1</td>\n      <td>0</td>\n      <td>0</td>\n      <td>0</td>\n      <td>1</td>\n      <td>3</td>\n      <td>0</td>\n      <td>0</td>\n      <td>1</td>\n      <td>0</td>\n      <td>0</td>\n      <td>0</td>\n      <td>1</td>\n      <td>1</td>\n      <td>True</td>\n      <td>False</td>\n      <td>False</td>\n      <td>True</td>\n      <td>True</td>\n      <td>False</td>\n      <td>False</td>\n      <td>False</td>\n      <td>True</td>\n      <td>True</td>\n      <td>False</td>\n      <td>False</td>\n      <td>True</td>\n      <td>False</td>\n      <td>False</td>\n      <td>False</td>\n      <td>True</td>\n      <td>True</td>\n    </tr>\n    <tr>\n      <th>2</th>\n      <td>SELECT+%3Fvar1++%3Fvar1Label+%28+COUNT+%28+DISTINCT++%3Fvar2++%29+AS++%3Fvar3++%29%0AWHERE+%7B%0A++%3Fvar2++%3Chttp%3A%2F%2Fwww.wikidata.org%2Fprop%2Fdirect%2FP19%3E++%3Fvar1+%3B%0A%28+%3Chttp%3A%2F%2Fwww.wikidata.org%2Fprop%2Fdirect%2FP106%3E+%2F+%3Chttp%3A%2F%2Fwww.wikidata.org%2Fprop%2Fdirect%2FP279%3E+*%29+%3Chttp%3A%2F%2Fwww.wikidata.org%2Fentity%2FQ901%3E+.%0A++%3Fvar1+%28+%3Chttp%3A%2F%2Fwww.wikidata.org%2Fprop%2Fdirect%2FP17%3E+*%2F+%3Chttp%3A%2F%2Fwww.wikidata.org%2Fprop%2Fdirect%2FP30%3E+%29+%3Chttp%3A%2F%2Fwww.wikidata.org%2Fentity%2FQ46%3E+.%0A+SERVICE++%3Chttp%3A%2F%2Fwikiba.se%2Fontology%23label%3E+++%7B%0A++++%3Chttp%3A%2F%2Fwww.bigdata.com%2Frdf%23serviceParam%3E++%3Chttp%3A%2F%2Fwikiba.se%2Fontology%23language%3E++%22en%22.%0A++%7D%0A%7D%0AGROUP+BY++%3Fvar1++%3Fvar1Label+%0AORDER+BY++DESC%28+%3Fvar3+%29%0ALIMIT+10%0A</td>\n      <td>2018-02-26 00:04:19</td>\n      <td>organic</td>\n      <td>browser</td>\n      <td>../BadRequeteCrypt/I7_status500_Joined.tsv</td>\n      <td>7</td>\n      <td>SELECT ?var1  ?var1Label ( COUNT ( DISTINCT  ?var2  ) AS  ?var3  )\\nWHERE {\\n  ?var2  &lt;http://www.wikidata.org/prop/direct/P19&gt;  ?var1 ;\\n( &lt;http://www.wikidata.org/prop/direct/P106&gt; / &lt;http://www.wikidata.org/prop/direct/P279&gt;*) &lt;http://www.wikidata.org/entity/Q901&gt; .\\n  ?var1 ( &lt;http://www.wikidata.org/prop/direct/P17&gt;*/ &lt;http://www.wikidata.org/prop/direct/P30&gt; ) &lt;http://www.wikidata.org/entity/Q46&gt; .\\n SERVICE  &lt;http://wikiba.se/ontology#label&gt;   {\\n    &lt;http://www.bigdata.com/rdf#serviceParam&gt;  &lt;http://wikiba.se/ontology#language&gt;  \"en\".\\n  }\\n}\\nGROUP BY  ?var1  ?var1Label \\nORDER BY  DESC( ?var3 )\\nLIMIT 10\\n</td>\n      <td>&lt;rdflib.plugins.sparql.sparql.Query object at 0x7f26c06eac90&gt;</td>\n      <td>&lt;__main__.FilterVisitor object at 0x7f26f3dd9f50&gt;</td>\n      <td>7</td>\n      <td>0</td>\n      <td>1</td>\n      <td>1</td>\n      <td>1</td>\n      <td>0</td>\n      <td>0</td>\n      <td>0</td>\n      <td>1</td>\n      <td>1</td>\n      <td>0</td>\n      <td>0</td>\n      <td>1</td>\n      <td>0</td>\n      <td>0</td>\n      <td>1</td>\n      <td>1</td>\n      <td>1</td>\n      <td>True</td>\n      <td>False</td>\n      <td>True</td>\n      <td>True</td>\n      <td>True</td>\n      <td>False</td>\n      <td>False</td>\n      <td>False</td>\n      <td>True</td>\n      <td>True</td>\n      <td>False</td>\n      <td>False</td>\n      <td>True</td>\n      <td>False</td>\n      <td>False</td>\n      <td>True</td>\n      <td>True</td>\n      <td>True</td>\n    </tr>\n    <tr>\n      <th>3</th>\n      <td>SELECT+%3Fvar1++%3Fvar1Label++%3Fvar2++%3Fvar2Label++%3Fvar3++%3Fvar3Label+%0AWHERE+%7B%0A+SERVICE++%3Chttp%3A%2F%2Fwikiba.se%2Fontology%23label%3E+++%7B%0A++++%3Chttp%3A%2F%2Fwww.bigdata.com%2Frdf%23serviceParam%3E++%3Chttp%3A%2F%2Fwikiba.se%2Fontology%23language%3E++%22en%2Cen%22.%0A++%7D%0A++%3Fvar1++%3Chttp%3A%2F%2Fwww.wikidata.org%2Fprop%2Fdirect%2FP31%3E++%3Chttp%3A%2F%2Fwww.wikidata.org%2Fentity%2FQ215380%3E+.%0A+OPTIONAL+%7B%0A++%3Fvar4++%3Chttp%3A%2F%2Fwww.wikidata.org%2Fprop%2Fdirect%2FP136%3E++%3Fvar2+.%0A+%7D%0A+OPTIONAL+%7B%0A++%3Fvar4++%3Chttp%3A%2F%2Fwww.wikidata.org%2Fprop%2Fdirect%2FP264%3E++%3Fvar3+.%0A+%7D%0A%7D%0ALIMIT+10%0A</td>\n      <td>2018-02-26 00:04:34</td>\n      <td>organic</td>\n      <td>browser</td>\n      <td>../BadRequeteCrypt/I7_status500_Joined.tsv</td>\n      <td>7</td>\n      <td>SELECT ?var1  ?var1Label  ?var2  ?var2Label  ?var3  ?var3Label \\nWHERE {\\n SERVICE  &lt;http://wikiba.se/ontology#label&gt;   {\\n    &lt;http://www.bigdata.com/rdf#serviceParam&gt;  &lt;http://wikiba.se/ontology#language&gt;  \"en,en\".\\n  }\\n  ?var1  &lt;http://www.wikidata.org/prop/direct/P31&gt;  &lt;http://www.wikidata.org/entity/Q215380&gt; .\\n OPTIONAL {\\n  ?var4  &lt;http://www.wikidata.org/prop/direct/P136&gt;  ?var2 .\\n }\\n OPTIONAL {\\n  ?var4  &lt;http://www.wikidata.org/prop/direct/P264&gt;  ?var3 .\\n }\\n}\\nLIMIT 10\\n</td>\n      <td>&lt;rdflib.plugins.sparql.sparql.Query object at 0x7f26be2b3890&gt;</td>\n      <td>&lt;__main__.FilterVisitor object at 0x7f26f3dd9bd0&gt;</td>\n      <td>7</td>\n      <td>0</td>\n      <td>0</td>\n      <td>1</td>\n      <td>1</td>\n      <td>0</td>\n      <td>0</td>\n      <td>0</td>\n      <td>1</td>\n      <td>3</td>\n      <td>0</td>\n      <td>0</td>\n      <td>1</td>\n      <td>0</td>\n      <td>0</td>\n      <td>0</td>\n      <td>1</td>\n      <td>1</td>\n      <td>True</td>\n      <td>False</td>\n      <td>False</td>\n      <td>True</td>\n      <td>True</td>\n      <td>False</td>\n      <td>False</td>\n      <td>False</td>\n      <td>True</td>\n      <td>True</td>\n      <td>False</td>\n      <td>False</td>\n      <td>True</td>\n      <td>False</td>\n      <td>False</td>\n      <td>False</td>\n      <td>True</td>\n      <td>True</td>\n    </tr>\n    <tr>\n      <th>6</th>\n      <td>SELECT+DISTINCT+%3Fvar1Label++%3Fvar2Label++%3Fvar1+%0AWHERE+%7B%0A++%3Fvar1+%28+%3Chttp%3A%2F%2Fwww.wikidata.org%2Fprop%2Fdirect%2FP31%3E+%2F+%3Chttp%3A%2F%2Fwww.wikidata.org%2Fprop%2Fdirect%2FP279%3E+*%29+%3Chttp%3A%2F%2Fwww.wikidata.org%2Fentity%2FQ6999%3E+.%0A+OPTIONAL+%7B%0A++%3Fvar1++%3Chttp%3A%2F%2Fwww.wikidata.org%2Fprop%2Fdirect%2FP31%3E++%3Fvar2+.%0A+FILTER+%28++%28+%28++%3Fvar2++%21%3D++%3Chttp%3A%2F%2Fwww.wikidata.org%2Fentity%2FQ6999%3E++%29+%29+%0A%29+.%0A+%7D%0A+SERVICE++%3Chttp%3A%2F%2Fwikiba.se%2Fontology%23label%3E+++%7B%0A++++%3Chttp%3A%2F%2Fwww.bigdata.com%2Frdf%23serviceParam%3E++%3Chttp%3A%2F%2Fwikiba.se%2Fontology%23language%3E++%22en%22.%0A++%7D%0A%7D%0AORDER+BY+ASC%28+%3Fvar2Label+%29ASC%28+%3Fvar1Label+%29%0A</td>\n      <td>2018-02-26 00:06:39</td>\n      <td>organic</td>\n      <td>browser</td>\n      <td>../BadRequeteCrypt/I7_status500_Joined.tsv</td>\n      <td>7</td>\n      <td>SELECT DISTINCT ?var1Label  ?var2Label  ?var1 \\nWHERE {\\n  ?var1 ( &lt;http://www.wikidata.org/prop/direct/P31&gt; / &lt;http://www.wikidata.org/prop/direct/P279&gt;*) &lt;http://www.wikidata.org/entity/Q6999&gt; .\\n OPTIONAL {\\n  ?var1  &lt;http://www.wikidata.org/prop/direct/P31&gt;  ?var2 .\\n FILTER (  ( (  ?var2  !=  &lt;http://www.wikidata.org/entity/Q6999&gt;  ) ) \\n) .\\n }\\n SERVICE  &lt;http://wikiba.se/ontology#label&gt;   {\\n    &lt;http://www.bigdata.com/rdf#serviceParam&gt;  &lt;http://wikiba.se/ontology#language&gt;  \"en\".\\n  }\\n}\\nORDER BY ASC( ?var2Label )ASC( ?var1Label )\\n</td>\n      <td>&lt;rdflib.plugins.sparql.sparql.Query object at 0x7f26c148fed0&gt;</td>\n      <td>&lt;__main__.FilterVisitor object at 0x7f26be2b3e90&gt;</td>\n      <td>4</td>\n      <td>0</td>\n      <td>1</td>\n      <td>0</td>\n      <td>1</td>\n      <td>1</td>\n      <td>0</td>\n      <td>0</td>\n      <td>1</td>\n      <td>2</td>\n      <td>0</td>\n      <td>0</td>\n      <td>1</td>\n      <td>0</td>\n      <td>0</td>\n      <td>0</td>\n      <td>0</td>\n      <td>0</td>\n      <td>True</td>\n      <td>False</td>\n      <td>True</td>\n      <td>False</td>\n      <td>True</td>\n      <td>True</td>\n      <td>False</td>\n      <td>False</td>\n      <td>True</td>\n      <td>True</td>\n      <td>False</td>\n      <td>False</td>\n      <td>True</td>\n      <td>False</td>\n      <td>False</td>\n      <td>False</td>\n      <td>False</td>\n      <td>False</td>\n    </tr>\n    <tr>\n      <th>12</th>\n      <td>SELECT+%3Fvar1++%3Fvar1Label++%3Fvar2+%0AWHERE+%7B%0A++%3Fvar1+%28+%3Chttp%3A%2F%2Fwww.wikidata.org%2Fprop%2Fdirect%2FP31%3E+%2F+%3Chttp%3A%2F%2Fwww.wikidata.org%2Fprop%2Fdirect%2FP279%3E+*%29+%3Chttp%3A%2F%2Fwww.wikidata.org%2Fentity%2FQ23413%3E+.%0A++%3Chttp%3A%2F%2Fwww.wikidata.org%2Fentity%2FQ64%3E++%3Chttp%3A%2F%2Fwww.wikidata.org%2Fprop%2Fdirect%2FP625%3E++%3Fvar3+.%0A+SERVICE++%3Chttp%3A%2F%2Fwikiba.se%2Fontology%23around%3E+++%7B%0A++++%3Fvar1++%3Chttp%3A%2F%2Fwww.wikidata.org%2Fprop%2Fdirect%2FP625%3E++%3Fvar2+.%0A++++%3Chttp%3A%2F%2Fwww.bigdata.com%2Frdf%23serviceParam%3E++%3Chttp%3A%2F%2Fwikiba.se%2Fontology%23center%3E++%3Fvar3+.%0A++++%3Chttp%3A%2F%2Fwww.bigdata.com%2Frdf%23serviceParam%3E++%3Chttp%3A%2F%2Fwikiba.se%2Fontology%23radius%3E++%2220%22.%0A++%7D%0A+SERVICE++%3Chttp%3A%2F%2Fwikiba.se%2Fontology%23label%3E+++%7B%0A++++%3Chttp%3A%2F%2Fwww.bigdata.com%2Frdf%23serviceParam%3E++%3Chttp%3A%2F%2Fwikiba.se%2Fontology%23language%3E++%22en%22.%0A++%7D%0A%7D%0A</td>\n      <td>2018-02-26 00:29:58</td>\n      <td>organic</td>\n      <td>browser</td>\n      <td>../BadRequeteCrypt/I7_status500_Joined.tsv</td>\n      <td>7</td>\n      <td>SELECT ?var1  ?var1Label  ?var2 \\nWHERE {\\n  ?var1 ( &lt;http://www.wikidata.org/prop/direct/P31&gt; / &lt;http://www.wikidata.org/prop/direct/P279&gt;*) &lt;http://www.wikidata.org/entity/Q23413&gt; .\\n  &lt;http://www.wikidata.org/entity/Q64&gt;  &lt;http://www.wikidata.org/prop/direct/P625&gt;  ?var3 .\\n SERVICE  &lt;http://wikiba.se/ontology#around&gt;   {\\n    ?var1  &lt;http://www.wikidata.org/prop/direct/P625&gt;  ?var2 .\\n    &lt;http://www.bigdata.com/rdf#serviceParam&gt;  &lt;http://wikiba.se/ontology#center&gt;  ?var3 .\\n    &lt;http://www.bigdata.com/rdf#serviceParam&gt;  &lt;http://wikiba.se/ontology#radius&gt;  \"20\".\\n  }\\n SERVICE  &lt;http://wikiba.se/ontology#label&gt;   {\\n    &lt;http://www.bigdata.com/rdf#serviceParam&gt;  &lt;http://wikiba.se/ontology#language&gt;  \"en\".\\n  }\\n}\\n</td>\n      <td>&lt;rdflib.plugins.sparql.sparql.Query object at 0x7f26be177950&gt;</td>\n      <td>&lt;__main__.FilterVisitor object at 0x7f26c0436710&gt;</td>\n      <td>4</td>\n      <td>0</td>\n      <td>0</td>\n      <td>0</td>\n      <td>1</td>\n      <td>0</td>\n      <td>0</td>\n      <td>0</td>\n      <td>2</td>\n      <td>1</td>\n      <td>0</td>\n      <td>0</td>\n      <td>1</td>\n      <td>0</td>\n      <td>0</td>\n      <td>0</td>\n      <td>0</td>\n      <td>0</td>\n      <td>True</td>\n      <td>False</td>\n      <td>False</td>\n      <td>False</td>\n      <td>True</td>\n      <td>False</td>\n      <td>False</td>\n      <td>False</td>\n      <td>True</td>\n      <td>True</td>\n      <td>False</td>\n      <td>False</td>\n      <td>True</td>\n      <td>False</td>\n      <td>False</td>\n      <td>False</td>\n      <td>False</td>\n      <td>False</td>\n    </tr>\n    <tr>\n      <th>14</th>\n      <td>SELECT%28++SAMPLE+%28+%3Fvar1++%29+AS++%3Fvar1++%29+%3Fvar1Label+%28++SAMPLE+%28+%3Fvar2++%29+AS++%3Fvar2++%29%28+COUNT+%28+%3Fvar1++%29+AS++%3Fvar3++%29%0AWHERE+%7B%0A++%3Fvar4++%3Chttp%3A%2F%2Fwww.wikidata.org%2Fprop%2Fdirect%2FP22%3E++%3Fvar1+.%0A+OPTIONAL+%7B%0A++%3Fvar1++%3Chttp%3A%2F%2Fwww.wikidata.org%2Fprop%2Fdirect%2FP18%3E++%3Fvar2+.%0A+%7D%0A+SERVICE++%3Chttp%3A%2F%2Fwikiba.se%2Fontology%23label%3E+++%7B%0A++++%3Chttp%3A%2F%2Fwww.bigdata.com%2Frdf%23serviceParam%3E++%3Chttp%3A%2F%2Fwikiba.se%2Fontology%23language%3E++%22en%22.%0A++%7D%0A%7D%0AGROUP+BY++%3Fvar1Label+%0AORDER+BY++DESC%28+%3Fvar3+%29%0ALIMIT+50%0A</td>\n      <td>2018-02-26 00:31:11</td>\n      <td>organic</td>\n      <td>browser</td>\n      <td>../BadRequeteCrypt/I7_status500_Joined.tsv</td>\n      <td>7</td>\n      <td>SELECT(  SAMPLE ( ?var1  ) AS  ?var1  ) ?var1Label (  SAMPLE ( ?var2  ) AS  ?var2  )( COUNT ( ?var1  ) AS  ?var3  )\\nWHERE {\\n  ?var4  &lt;http://www.wikidata.org/prop/direct/P22&gt;  ?var1 .\\n OPTIONAL {\\n  ?var1  &lt;http://www.wikidata.org/prop/direct/P18&gt;  ?var2 .\\n }\\n SERVICE  &lt;http://wikiba.se/ontology#label&gt;   {\\n    &lt;http://www.bigdata.com/rdf#serviceParam&gt;  &lt;http://wikiba.se/ontology#language&gt;  \"en\".\\n  }\\n}\\nGROUP BY  ?var1Label \\nORDER BY  DESC( ?var3 )\\nLIMIT 50\\n</td>\n      <td>&lt;rdflib.plugins.sparql.sparql.Query object at 0x7f26be18a750&gt;</td>\n      <td>&lt;__main__.FilterVisitor object at 0x7f26be1ab810&gt;</td>\n      <td>9</td>\n      <td>0</td>\n      <td>1</td>\n      <td>1</td>\n      <td>1</td>\n      <td>0</td>\n      <td>0</td>\n      <td>0</td>\n      <td>1</td>\n      <td>2</td>\n      <td>0</td>\n      <td>0</td>\n      <td>1</td>\n      <td>0</td>\n      <td>0</td>\n      <td>1</td>\n      <td>1</td>\n      <td>1</td>\n      <td>True</td>\n      <td>False</td>\n      <td>True</td>\n      <td>True</td>\n      <td>True</td>\n      <td>False</td>\n      <td>False</td>\n      <td>False</td>\n      <td>True</td>\n      <td>True</td>\n      <td>False</td>\n      <td>False</td>\n      <td>True</td>\n      <td>False</td>\n      <td>False</td>\n      <td>True</td>\n      <td>True</td>\n      <td>True</td>\n    </tr>\n    <tr>\n      <th>17</th>\n      <td>SELECT+%3Fvar1++%3Fvar1Label++%3Fvar2+%0AWHERE+%7B%0A++%3Chttp%3A%2F%2Fwww.wikidata.org%2Fentity%2FQ64%3E++%3Chttp%3A%2F%2Fwww.wikidata.org%2Fprop%2Fdirect%2FP625%3E++%3Fvar3+.%0A+SERVICE++%3Chttp%3A%2F%2Fwikiba.se%2Fontology%23around%3E+++%7B%0A++++%3Fvar1++%3Chttp%3A%2F%2Fwww.wikidata.org%2Fprop%2Fdirect%2FP625%3E++%3Fvar2+.%0A++++%3Chttp%3A%2F%2Fwww.bigdata.com%2Frdf%23serviceParam%3E++%3Chttp%3A%2F%2Fwikiba.se%2Fontology%23center%3E++%3Fvar3+.%0A++++%3Chttp%3A%2F%2Fwww.bigdata.com%2Frdf%23serviceParam%3E++%3Chttp%3A%2F%2Fwikiba.se%2Fontology%23radius%3E++%2250%22.%0A++%7D%0A+SERVICE++%3Chttp%3A%2F%2Fwikiba.se%2Fontology%23label%3E+++%7B%0A++++%3Chttp%3A%2F%2Fwww.bigdata.com%2Frdf%23serviceParam%3E++%3Chttp%3A%2F%2Fwikiba.se%2Fontology%23language%3E++%22en%22.%0A++%7D%0A++%3Fvar1+%28+%3Chttp%3A%2F%2Fwww.wikidata.org%2Fprop%2Fdirect%2FP31%3E+%2F+%3Chttp%3A%2F%2Fwww.wikidata.org%2Fprop%2Fdirect%2FP279%3E+*%29+%3Chttp%3A%2F%2Fwww.wikidata.org%2Fentity%2FQ23413%3E+.%0A%7D%0A</td>\n      <td>2018-02-26 00:31:58</td>\n      <td>organic</td>\n      <td>browser</td>\n      <td>../BadRequeteCrypt/I7_status500_Joined.tsv</td>\n      <td>7</td>\n      <td>SELECT ?var1  ?var1Label  ?var2 \\nWHERE {\\n  &lt;http://www.wikidata.org/entity/Q64&gt;  &lt;http://www.wikidata.org/prop/direct/P625&gt;  ?var3 .\\n SERVICE  &lt;http://wikiba.se/ontology#around&gt;   {\\n    ?var1  &lt;http://www.wikidata.org/prop/direct/P625&gt;  ?var2 .\\n    &lt;http://www.bigdata.com/rdf#serviceParam&gt;  &lt;http://wikiba.se/ontology#center&gt;  ?var3 .\\n    &lt;http://www.bigdata.com/rdf#serviceParam&gt;  &lt;http://wikiba.se/ontology#radius&gt;  \"50\".\\n  }\\n SERVICE  &lt;http://wikiba.se/ontology#label&gt;   {\\n    &lt;http://www.bigdata.com/rdf#serviceParam&gt;  &lt;http://wikiba.se/ontology#language&gt;  \"en\".\\n  }\\n  ?var1 ( &lt;http://www.wikidata.org/prop/direct/P31&gt; / &lt;http://www.wikidata.org/prop/direct/P279&gt;*) &lt;http://www.wikidata.org/entity/Q23413&gt; .\\n}\\n</td>\n      <td>&lt;rdflib.plugins.sparql.sparql.Query object at 0x7f26be177390&gt;</td>\n      <td>&lt;__main__.FilterVisitor object at 0x7f26be20cfd0&gt;</td>\n      <td>4</td>\n      <td>0</td>\n      <td>0</td>\n      <td>0</td>\n      <td>1</td>\n      <td>0</td>\n      <td>0</td>\n      <td>0</td>\n      <td>3</td>\n      <td>2</td>\n      <td>0</td>\n      <td>0</td>\n      <td>1</td>\n      <td>0</td>\n      <td>0</td>\n      <td>0</td>\n      <td>0</td>\n      <td>0</td>\n      <td>True</td>\n      <td>False</td>\n      <td>False</td>\n      <td>False</td>\n      <td>True</td>\n      <td>False</td>\n      <td>False</td>\n      <td>False</td>\n      <td>True</td>\n      <td>True</td>\n      <td>False</td>\n      <td>False</td>\n      <td>True</td>\n      <td>False</td>\n      <td>False</td>\n      <td>False</td>\n      <td>False</td>\n      <td>False</td>\n    </tr>\n    <tr>\n      <th>18</th>\n      <td>SELECT+%3Fvar1++%3Fvar2++%3Fvar1Label++%3Fvar2Label+%0AWHERE+%7B%0A++%3Fvar1++%3Chttp%3A%2F%2Fwww.wikidata.org%2Fprop%2Fdirect%2FP17%3E++%3Fvar2+.%0A++MINUS+++%7B%0A++++%3Fvar2+%28+%3Chttp%3A%2F%2Fwww.wikidata.org%2Fprop%2Fdirect%2FP31%3E+%2F+%3Chttp%3A%2F%2Fwww.wikidata.org%2Fprop%2Fdirect%2FP279%3E+*%29+%3Chttp%3A%2F%2Fwww.wikidata.org%2Fentity%2FQ7275%3E+.%0A++%7D%0A++MINUS+++%7B%0A++++%3Fvar2+%28+%3Chttp%3A%2F%2Fwww.wikidata.org%2Fprop%2Fdirect%2FP31%3E+%2F+%3Chttp%3A%2F%2Fwww.wikidata.org%2Fprop%2Fdirect%2FP279%3E+*%29+%3Chttp%3A%2F%2Fwww.wikidata.org%2Fentity%2FQ183366%3E+.%0A++%7D%0A++MINUS+++%7B%0A++++%3Fvar2+%28+%3Chttp%3A%2F%2Fwww.wikidata.org%2Fprop%2Fdirect%2FP31%3E+%2F+%3Chttp%3A%2F%2Fwww.wikidata.org%2Fprop%2Fdirect%2FP279%3E+*%29+%3Chttp%3A%2F%2Fwww.wikidata.org%2Fentity%2FQ15893266%3E+.%0A++%7D%0A++MINUS+++%7B%0A++++%3Fvar2+%28+%3Chttp%3A%2F%2Fwww.wikidata.org%2Fprop%2Fdirect%2FP31%3E+%2F+%3Chttp%3A%2F%2Fwww.wikidata.org%2Fprop%2Fdirect%2FP279%3E+*%29+%3Chttp%3A%2F%2Fwww.wikidata.org%2Fentity%2FQ1048835%3E+.%0A++%7D%0A+SERVICE++%3Chttp%3A%2F%2Fwikiba.se%2Fontology%23label%3E+++%7B%0A++++%3Chttp%3A%2F%2Fwww.bigdata.com%2Frdf%23serviceParam%3E++%3Chttp%3A%2F%2Fwikiba.se%2Fontology%23language%3E++%22en%22.%0A++%7D%0A%7D%0ALIMIT+1000%0A</td>\n      <td>2018-02-26 00:33:54</td>\n      <td>organic</td>\n      <td>browser</td>\n      <td>../BadRequeteCrypt/I7_status500_Joined.tsv</td>\n      <td>7</td>\n      <td>SELECT ?var1  ?var2  ?var1Label  ?var2Label \\nWHERE {\\n  ?var1  &lt;http://www.wikidata.org/prop/direct/P17&gt;  ?var2 .\\n  MINUS   {\\n    ?var2 ( &lt;http://www.wikidata.org/prop/direct/P31&gt; / &lt;http://www.wikidata.org/prop/direct/P279&gt;*) &lt;http://www.wikidata.org/entity/Q7275&gt; .\\n  }\\n  MINUS   {\\n    ?var2 ( &lt;http://www.wikidata.org/prop/direct/P31&gt; / &lt;http://www.wikidata.org/prop/direct/P279&gt;*) &lt;http://www.wikidata.org/entity/Q183366&gt; .\\n  }\\n  MINUS   {\\n    ?var2 ( &lt;http://www.wikidata.org/prop/direct/P31&gt; / &lt;http://www.wikidata.org/prop/direct/P279&gt;*) &lt;http://www.wikidata.org/entity/Q15893266&gt; .\\n  }\\n  MINUS   {\\n    ?var2 ( &lt;http://www.wikidata.org/prop/direct/P31&gt; / &lt;http://www.wikidata.org/prop/direct/P279&gt;*) &lt;http://www.wikidata.org/entity/Q1048835&gt; .\\n  }\\n SERVICE  &lt;http://wikiba.se/ontology#label&gt;   {\\n    &lt;http://www.bigdata.com/rdf#serviceParam&gt;  &lt;http://wikiba.se/ontology#language&gt;  \"en\".\\n  }\\n}\\nLIMIT 1000\\n</td>\n      <td>&lt;rdflib.plugins.sparql.sparql.Query object at 0x7f26be1a4210&gt;</td>\n      <td>&lt;__main__.FilterVisitor object at 0x7f2680a59a50&gt;</td>\n      <td>4</td>\n      <td>0</td>\n      <td>0</td>\n      <td>1</td>\n      <td>1</td>\n      <td>0</td>\n      <td>0</td>\n      <td>0</td>\n      <td>1</td>\n      <td>5</td>\n      <td>0</td>\n      <td>0</td>\n      <td>1</td>\n      <td>0</td>\n      <td>0</td>\n      <td>0</td>\n      <td>1</td>\n      <td>1</td>\n      <td>True</td>\n      <td>False</td>\n      <td>False</td>\n      <td>True</td>\n      <td>True</td>\n      <td>False</td>\n      <td>False</td>\n      <td>False</td>\n      <td>True</td>\n      <td>True</td>\n      <td>False</td>\n      <td>False</td>\n      <td>True</td>\n      <td>False</td>\n      <td>False</td>\n      <td>False</td>\n      <td>True</td>\n      <td>True</td>\n    </tr>\n    <tr>\n      <th>22</th>\n      <td>SELECT+%3Fvar1++%3Fvar1Label++%3Fvar2+%0AWHERE+%7B%0A++%3Chttp%3A%2F%2Fwww.wikidata.org%2Fentity%2FQ64%3E++%3Chttp%3A%2F%2Fwww.wikidata.org%2Fprop%2Fdirect%2FP625%3E++%3Fvar3+.%0A+SERVICE++%3Chttp%3A%2F%2Fwikiba.se%2Fontology%23around%3E+++%7B%0A++++%3Fvar1++%3Chttp%3A%2F%2Fwww.wikidata.org%2Fprop%2Fdirect%2FP625%3E++%3Fvar2+.%0A++++%3Chttp%3A%2F%2Fwww.bigdata.com%2Frdf%23serviceParam%3E++%3Chttp%3A%2F%2Fwikiba.se%2Fontology%23center%3E++%3Fvar3+.%0A++++%3Chttp%3A%2F%2Fwww.bigdata.com%2Frdf%23serviceParam%3E++%3Chttp%3A%2F%2Fwikiba.se%2Fontology%23radius%3E++%2250%22.%0A++%7D%0A+SERVICE++%3Chttp%3A%2F%2Fwikiba.se%2Fontology%23label%3E+++%7B%0A++++%3Chttp%3A%2F%2Fwww.bigdata.com%2Frdf%23serviceParam%3E++%3Chttp%3A%2F%2Fwikiba.se%2Fontology%23language%3E++%22de%2Cen%22.%0A++%7D%0A++%3Fvar1+%28+%3Chttp%3A%2F%2Fwww.wikidata.org%2Fprop%2Fdirect%2FP31%3E+%2F+%3Chttp%3A%2F%2Fwww.wikidata.org%2Fprop%2Fdirect%2FP279%3E+*%29+%3Chttp%3A%2F%2Fwww.wikidata.org%2Fentity%2FQ29637965%3E+.%0A%7D%0AORDER+BY+ASC%28+%3Fvar2+%29%0A</td>\n      <td>2018-02-26 00:46:46</td>\n      <td>organic</td>\n      <td>browser</td>\n      <td>../BadRequeteCrypt/I7_status500_Joined.tsv</td>\n      <td>7</td>\n      <td>SELECT ?var1  ?var1Label  ?var2 \\nWHERE {\\n  &lt;http://www.wikidata.org/entity/Q64&gt;  &lt;http://www.wikidata.org/prop/direct/P625&gt;  ?var3 .\\n SERVICE  &lt;http://wikiba.se/ontology#around&gt;   {\\n    ?var1  &lt;http://www.wikidata.org/prop/direct/P625&gt;  ?var2 .\\n    &lt;http://www.bigdata.com/rdf#serviceParam&gt;  &lt;http://wikiba.se/ontology#center&gt;  ?var3 .\\n    &lt;http://www.bigdata.com/rdf#serviceParam&gt;  &lt;http://wikiba.se/ontology#radius&gt;  \"50\".\\n  }\\n SERVICE  &lt;http://wikiba.se/ontology#label&gt;   {\\n    &lt;http://www.bigdata.com/rdf#serviceParam&gt;  &lt;http://wikiba.se/ontology#language&gt;  \"de,en\".\\n  }\\n  ?var1 ( &lt;http://www.wikidata.org/prop/direct/P31&gt; / &lt;http://www.wikidata.org/prop/direct/P279&gt;*) &lt;http://www.wikidata.org/entity/Q29637965&gt; .\\n}\\nORDER BY ASC( ?var2 )\\n</td>\n      <td>&lt;rdflib.plugins.sparql.sparql.Query object at 0x7f26be16af90&gt;</td>\n      <td>&lt;__main__.FilterVisitor object at 0x7f2680bf5750&gt;</td>\n      <td>4</td>\n      <td>0</td>\n      <td>1</td>\n      <td>0</td>\n      <td>1</td>\n      <td>0</td>\n      <td>0</td>\n      <td>0</td>\n      <td>3</td>\n      <td>2</td>\n      <td>0</td>\n      <td>0</td>\n      <td>1</td>\n      <td>0</td>\n      <td>0</td>\n      <td>0</td>\n      <td>0</td>\n      <td>0</td>\n      <td>True</td>\n      <td>False</td>\n      <td>True</td>\n      <td>False</td>\n      <td>True</td>\n      <td>False</td>\n      <td>False</td>\n      <td>False</td>\n      <td>True</td>\n      <td>True</td>\n      <td>False</td>\n      <td>False</td>\n      <td>True</td>\n      <td>False</td>\n      <td>False</td>\n      <td>False</td>\n      <td>False</td>\n      <td>False</td>\n    </tr>\n    <tr>\n      <th>...</th>\n      <td>...</td>\n      <td>...</td>\n      <td>...</td>\n      <td>...</td>\n      <td>...</td>\n      <td>...</td>\n      <td>...</td>\n      <td>...</td>\n      <td>...</td>\n      <td>...</td>\n      <td>...</td>\n      <td>...</td>\n      <td>...</td>\n      <td>...</td>\n      <td>...</td>\n      <td>...</td>\n      <td>...</td>\n      <td>...</td>\n      <td>...</td>\n      <td>...</td>\n      <td>...</td>\n      <td>...</td>\n      <td>...</td>\n      <td>...</td>\n      <td>...</td>\n      <td>...</td>\n      <td>...</td>\n      <td>...</td>\n      <td>...</td>\n      <td>...</td>\n      <td>...</td>\n      <td>...</td>\n      <td>...</td>\n      <td>...</td>\n      <td>...</td>\n      <td>...</td>\n      <td>...</td>\n      <td>...</td>\n      <td>...</td>\n      <td>...</td>\n      <td>...</td>\n      <td>...</td>\n      <td>...</td>\n      <td>...</td>\n      <td>...</td>\n    </tr>\n    <tr>\n      <th>25639</th>\n      <td>SELECT+%3Fvar1++%3Fvar2Label++%3Fvar3+%0AWHERE+%7B%0A++%3Chttp%3A%2F%2Fwww.bigdata.com%2FqueryHints%23Query%3E++%3Chttp%3A%2F%2Fwww.bigdata.com%2FqueryHints%23optimizer%3E++%22None%22.%0A+%7B%0A++SELECT+DISTINCT+%3Fvar1+%0A++WHERE+++%7B%0A++++%3Fvar4++%3Fvar5++%3Chttp%3A%2F%2Fwww.wikidata.org%2Fentity%2FQ145%3E+.%0A++++%3Fvar1++%3Fvar6++%3Fvar5+.%0A++++%3Fvar1++%3Chttp%3A%2F%2Fwww.w3.org%2F1999%2F02%2F22-rdf-syntax-ns%23type%3E++%3Chttp%3A%2F%2Fwikiba.se%2Fontology%23Property%3E+.%0A++%7D%0A++LIMIT+100%0A+%7D%0A++%3Fvar1++%3Chttp%3A%2F%2Fwww.w3.org%2F2000%2F01%2Frdf-schema%23label%3E++%3Fvar2Label+.%0A++%3Fvar1++%3Chttp%3A%2F%2Fschema.org%2Fdescription%3E++%3Fvar3+.%0A+FILTER+%28++%28+%28++LANG+%28++%3Fvar2Label++%29++%3D++%22es%22+%29+%29+%0A%29+.%0A+FILTER+%28++%28+%28++LANG+%28++%3Fvar3++%29++%3D++%22es%22+%29+%29+%0A%29+.%0A%7D%0ALIMIT+100%0A</td>\n      <td>2018-03-25 21:55:15</td>\n      <td>organic</td>\n      <td>browser</td>\n      <td>../BadRequeteCrypt/I7_status500_Joined.tsv</td>\n      <td>7</td>\n      <td>SELECT ?var1  ?var2Label  ?var3 \\nWHERE {\\n  &lt;http://www.bigdata.com/queryHints#Query&gt;  &lt;http://www.bigdata.com/queryHints#optimizer&gt;  \"None\".\\n {\\n  SELECT DISTINCT ?var1 \\n  WHERE   {\\n    ?var4  ?var5  &lt;http://www.wikidata.org/entity/Q145&gt; .\\n    ?var1  ?var6  ?var5 .\\n    ?var1  &lt;http://www.w3.org/1999/02/22-rdf-syntax-ns#type&gt;  &lt;http://wikiba.se/ontology#Property&gt; .\\n  }\\n  LIMIT 100\\n }\\n  ?var1  &lt;http://www.w3.org/2000/01/rdf-schema#label&gt;  ?var2Label .\\n  ?var1  &lt;http://schema.org/description&gt;  ?var3 .\\n FILTER (  ( (  LANG (  ?var2Label  )  =  \"es\" ) ) \\n) .\\n FILTER (  ( (  LANG (  ?var3  )  =  \"es\" ) ) \\n) .\\n}\\nLIMIT 100\\n</td>\n      <td>&lt;rdflib.plugins.sparql.sparql.Query object at 0x7f2681a15890&gt;</td>\n      <td>&lt;__main__.FilterVisitor object at 0x7f2681816590&gt;</td>\n      <td>6</td>\n      <td>1</td>\n      <td>0</td>\n      <td>2</td>\n      <td>1</td>\n      <td>1</td>\n      <td>0</td>\n      <td>1</td>\n      <td>2</td>\n      <td>3</td>\n      <td>0</td>\n      <td>0</td>\n      <td>2</td>\n      <td>0</td>\n      <td>0</td>\n      <td>0</td>\n      <td>2</td>\n      <td>2</td>\n      <td>True</td>\n      <td>True</td>\n      <td>False</td>\n      <td>True</td>\n      <td>True</td>\n      <td>True</td>\n      <td>False</td>\n      <td>True</td>\n      <td>True</td>\n      <td>True</td>\n      <td>False</td>\n      <td>False</td>\n      <td>True</td>\n      <td>False</td>\n      <td>False</td>\n      <td>False</td>\n      <td>True</td>\n      <td>True</td>\n    </tr>\n    <tr>\n      <th>25640</th>\n      <td>SELECT+%3Fvar1++%3Fvar2++%3Fvar3+%0AWHERE+%7B%0A++%3Fvar1++%3Chttp%3A%2F%2Fwww.wikidata.org%2Fprop%2Fdirect%2FP31%3E++%3Chttp%3A%2F%2Fwww.wikidata.org%2Fentity%2FQ5%3E+%3B%0A+%3Chttp%3A%2F%2Fwww.wikidata.org%2Fprop%2Fdirect%2FP21%3E++%3Chttp%3A%2F%2Fwww.wikidata.org%2Fentity%2FQ6581072%3E+%3B%0A+%3Chttp%3A%2F%2Fwww.wikidata.org%2Fprop%2Fdirect%2FP569%3E++%3Fvar4+.%0A+FILTER+%28++%28+%28++%3Fvar4++%3E%3D++%221921-01-01T00%3A00%3A00Z%22%5E%5E%3Chttp%3A%2F%2Fwww.w3.org%2F2001%2FXMLSchema%23dateTime%3E++%29+%29+%0A%29+.%0A++%3Fvar1++%3Chttp%3A%2F%2Fwikiba.se%2Fontology%23sitelinks%3E++%3Fvar3+.%0A++MINUS+++%7B%0A++++%3Fvar1++%3Chttp%3A%2F%2Fwww.wikidata.org%2Fprop%2Fdirect%2FP18%3E++%5B%5D+.%0A++%7D%0A++%3Fvar1++%3Chttp%3A%2F%2Fwww.w3.org%2F2000%2F01%2Frdf-schema%23label%3E++%3Fvar2+.%0A+FILTER+%28++%28+%28++LANG+%28++%3Fvar2++%29++%3D++%22en%22+%29+%29+%0A%29+.%0A%7D%0AGROUP+BY++%3Fvar1++%3Fvar2++%3Fvar3+%0AORDER+BY++DESC%28+%3Fvar3+%29%0ALIMIT+50%0A</td>\n      <td>2018-03-25 22:08:09</td>\n      <td>organic</td>\n      <td>browser</td>\n      <td>../BadRequeteCrypt/I7_status500_Joined.tsv</td>\n      <td>7</td>\n      <td>SELECT ?var1  ?var2  ?var3 \\nWHERE {\\n  ?var1  &lt;http://www.wikidata.org/prop/direct/P31&gt;  &lt;http://www.wikidata.org/entity/Q5&gt; ;\\n &lt;http://www.wikidata.org/prop/direct/P21&gt;  &lt;http://www.wikidata.org/entity/Q6581072&gt; ;\\n &lt;http://www.wikidata.org/prop/direct/P569&gt;  ?var4 .\\n FILTER (  ( (  ?var4  &gt;=  \"1921-01-01T00:00:00Z\"^^&lt;http://www.w3.org/2001/XMLSchema#dateTime&gt;  ) ) \\n) .\\n  ?var1  &lt;http://wikiba.se/ontology#sitelinks&gt;  ?var3 .\\n  MINUS   {\\n    ?var1  &lt;http://www.wikidata.org/prop/direct/P18&gt;  [] .\\n  }\\n  ?var1  &lt;http://www.w3.org/2000/01/rdf-schema#label&gt;  ?var2 .\\n FILTER (  ( (  LANG (  ?var2  )  =  \"en\" ) ) \\n) .\\n}\\nGROUP BY  ?var1  ?var2  ?var3 \\nORDER BY  DESC( ?var3 )\\nLIMIT 50\\n</td>\n      <td>&lt;rdflib.plugins.sparql.sparql.Query object at 0x7f2681ddca50&gt;</td>\n      <td>&lt;__main__.FilterVisitor object at 0x7f2686496950&gt;</td>\n      <td>7</td>\n      <td>1</td>\n      <td>1</td>\n      <td>1</td>\n      <td>1</td>\n      <td>0</td>\n      <td>0</td>\n      <td>0</td>\n      <td>1</td>\n      <td>3</td>\n      <td>0</td>\n      <td>0</td>\n      <td>1</td>\n      <td>0</td>\n      <td>0</td>\n      <td>1</td>\n      <td>1</td>\n      <td>1</td>\n      <td>True</td>\n      <td>True</td>\n      <td>True</td>\n      <td>True</td>\n      <td>True</td>\n      <td>False</td>\n      <td>False</td>\n      <td>False</td>\n      <td>True</td>\n      <td>True</td>\n      <td>False</td>\n      <td>False</td>\n      <td>True</td>\n      <td>False</td>\n      <td>False</td>\n      <td>True</td>\n      <td>True</td>\n      <td>True</td>\n    </tr>\n    <tr>\n      <th>25642</th>\n      <td>SELECT+%3Fvar1++%3Fvar2Label++%3Fvar3+%0AWHERE+%7B%0A++%3Chttp%3A%2F%2Fwww.bigdata.com%2FqueryHints%23Query%3E++%3Chttp%3A%2F%2Fwww.bigdata.com%2FqueryHints%23optimizer%3E++%22None%22.%0A+%7B%0A++SELECT+DISTINCT+%3Fvar1+%0A++WHERE+++%7B%0A++++%3Fvar4++%3Fvar5++%3Chttp%3A%2F%2Fwww.wikidata.org%2Fentity%2FQ33999%3E+.%0A++++%3Fvar1++%3Fvar6++%3Fvar5+.%0A++++%3Fvar1++%3Chttp%3A%2F%2Fwww.w3.org%2F1999%2F02%2F22-rdf-syntax-ns%23type%3E++%3Chttp%3A%2F%2Fwikiba.se%2Fontology%23Property%3E+.%0A++%7D%0A++LIMIT+100%0A+%7D%0A++%3Fvar1++%3Chttp%3A%2F%2Fwww.w3.org%2F2000%2F01%2Frdf-schema%23label%3E++%3Fvar2Label+.%0A++%3Fvar1++%3Chttp%3A%2F%2Fschema.org%2Fdescription%3E++%3Fvar3+.%0A+FILTER+%28++%28+%28++LANG+%28++%3Fvar2Label++%29++%3D++%22es%22+%29+%29+%0A%29+.%0A+FILTER+%28++%28+%28++LANG+%28++%3Fvar3++%29++%3D++%22es%22+%29+%29+%0A%29+.%0A%7D%0ALIMIT+100%0A</td>\n      <td>2018-03-25 22:23:54</td>\n      <td>organic</td>\n      <td>browser</td>\n      <td>../BadRequeteCrypt/I7_status500_Joined.tsv</td>\n      <td>7</td>\n      <td>SELECT ?var1  ?var2Label  ?var3 \\nWHERE {\\n  &lt;http://www.bigdata.com/queryHints#Query&gt;  &lt;http://www.bigdata.com/queryHints#optimizer&gt;  \"None\".\\n {\\n  SELECT DISTINCT ?var1 \\n  WHERE   {\\n    ?var4  ?var5  &lt;http://www.wikidata.org/entity/Q33999&gt; .\\n    ?var1  ?var6  ?var5 .\\n    ?var1  &lt;http://www.w3.org/1999/02/22-rdf-syntax-ns#type&gt;  &lt;http://wikiba.se/ontology#Property&gt; .\\n  }\\n  LIMIT 100\\n }\\n  ?var1  &lt;http://www.w3.org/2000/01/rdf-schema#label&gt;  ?var2Label .\\n  ?var1  &lt;http://schema.org/description&gt;  ?var3 .\\n FILTER (  ( (  LANG (  ?var2Label  )  =  \"es\" ) ) \\n) .\\n FILTER (  ( (  LANG (  ?var3  )  =  \"es\" ) ) \\n) .\\n}\\nLIMIT 100\\n</td>\n      <td>&lt;rdflib.plugins.sparql.sparql.Query object at 0x7f2681b6a150&gt;</td>\n      <td>&lt;__main__.FilterVisitor object at 0x7f26861e4490&gt;</td>\n      <td>6</td>\n      <td>1</td>\n      <td>0</td>\n      <td>2</td>\n      <td>1</td>\n      <td>1</td>\n      <td>0</td>\n      <td>1</td>\n      <td>2</td>\n      <td>3</td>\n      <td>0</td>\n      <td>0</td>\n      <td>2</td>\n      <td>0</td>\n      <td>0</td>\n      <td>0</td>\n      <td>2</td>\n      <td>2</td>\n      <td>True</td>\n      <td>True</td>\n      <td>False</td>\n      <td>True</td>\n      <td>True</td>\n      <td>True</td>\n      <td>False</td>\n      <td>True</td>\n      <td>True</td>\n      <td>True</td>\n      <td>False</td>\n      <td>False</td>\n      <td>True</td>\n      <td>False</td>\n      <td>False</td>\n      <td>False</td>\n      <td>True</td>\n      <td>True</td>\n    </tr>\n    <tr>\n      <th>25643</th>\n      <td>SELECT+%3Fvar1++%3Fvar2Label++%3Fvar3+%0AWHERE+%7B%0A++%3Chttp%3A%2F%2Fwww.bigdata.com%2FqueryHints%23Query%3E++%3Chttp%3A%2F%2Fwww.bigdata.com%2FqueryHints%23optimizer%3E++%22None%22.%0A+%7B%0A++SELECT+DISTINCT+%3Fvar1+%0A++WHERE+++%7B%0A++++%3Fvar4++%3Fvar5++%3Chttp%3A%2F%2Fwww.wikidata.org%2Fentity%2FQ33999%3E+.%0A++++%3Fvar1++%3Fvar6++%3Fvar5+.%0A++++%3Fvar1++%3Chttp%3A%2F%2Fwww.w3.org%2F1999%2F02%2F22-rdf-syntax-ns%23type%3E++%3Chttp%3A%2F%2Fwikiba.se%2Fontology%23Property%3E+.%0A++%7D%0A++LIMIT+100%0A+%7D%0A++%3Fvar1++%3Chttp%3A%2F%2Fwww.w3.org%2F2000%2F01%2Frdf-schema%23label%3E++%3Fvar2Label+.%0A++%3Fvar1++%3Chttp%3A%2F%2Fschema.org%2Fdescription%3E++%3Fvar3+.%0A+FILTER+%28++%28+%28++LANG+%28++%3Fvar2Label++%29++%3D++%22es%22+%29+%29+%0A%29+.%0A+FILTER+%28++%28+%28++LANG+%28++%3Fvar3++%29++%3D++%22es%22+%29+%29+%0A%29+.%0A%7D%0ALIMIT+100%0A</td>\n      <td>2018-03-25 22:23:59</td>\n      <td>organic</td>\n      <td>browser</td>\n      <td>../BadRequeteCrypt/I7_status500_Joined.tsv</td>\n      <td>7</td>\n      <td>SELECT ?var1  ?var2Label  ?var3 \\nWHERE {\\n  &lt;http://www.bigdata.com/queryHints#Query&gt;  &lt;http://www.bigdata.com/queryHints#optimizer&gt;  \"None\".\\n {\\n  SELECT DISTINCT ?var1 \\n  WHERE   {\\n    ?var4  ?var5  &lt;http://www.wikidata.org/entity/Q33999&gt; .\\n    ?var1  ?var6  ?var5 .\\n    ?var1  &lt;http://www.w3.org/1999/02/22-rdf-syntax-ns#type&gt;  &lt;http://wikiba.se/ontology#Property&gt; .\\n  }\\n  LIMIT 100\\n }\\n  ?var1  &lt;http://www.w3.org/2000/01/rdf-schema#label&gt;  ?var2Label .\\n  ?var1  &lt;http://schema.org/description&gt;  ?var3 .\\n FILTER (  ( (  LANG (  ?var2Label  )  =  \"es\" ) ) \\n) .\\n FILTER (  ( (  LANG (  ?var3  )  =  \"es\" ) ) \\n) .\\n}\\nLIMIT 100\\n</td>\n      <td>&lt;rdflib.plugins.sparql.sparql.Query object at 0x7f268248d5d0&gt;</td>\n      <td>&lt;__main__.FilterVisitor object at 0x7f26818bde90&gt;</td>\n      <td>6</td>\n      <td>1</td>\n      <td>0</td>\n      <td>2</td>\n      <td>1</td>\n      <td>1</td>\n      <td>0</td>\n      <td>1</td>\n      <td>2</td>\n      <td>3</td>\n      <td>0</td>\n      <td>0</td>\n      <td>2</td>\n      <td>0</td>\n      <td>0</td>\n      <td>0</td>\n      <td>2</td>\n      <td>2</td>\n      <td>True</td>\n      <td>True</td>\n      <td>False</td>\n      <td>True</td>\n      <td>True</td>\n      <td>True</td>\n      <td>False</td>\n      <td>True</td>\n      <td>True</td>\n      <td>True</td>\n      <td>False</td>\n      <td>False</td>\n      <td>True</td>\n      <td>False</td>\n      <td>False</td>\n      <td>False</td>\n      <td>True</td>\n      <td>True</td>\n    </tr>\n    <tr>\n      <th>25645</th>\n      <td>SELECT+%3Fvar1++%3Fvar2Label++%3Fvar3+%0AWHERE+%7B%0A++%3Chttp%3A%2F%2Fwww.bigdata.com%2FqueryHints%23Query%3E++%3Chttp%3A%2F%2Fwww.bigdata.com%2FqueryHints%23optimizer%3E++%22None%22.%0A+%7B%0A++SELECT+DISTINCT+%3Fvar1+%0A++WHERE+++%7B%0A++++%3Fvar4++%3Fvar5++%3Chttp%3A%2F%2Fwww.wikidata.org%2Fentity%2FQ145%3E+.%0A++++%3Fvar1++%3Fvar6++%3Fvar5+.%0A++++%3Fvar1++%3Chttp%3A%2F%2Fwww.w3.org%2F1999%2F02%2F22-rdf-syntax-ns%23type%3E++%3Chttp%3A%2F%2Fwikiba.se%2Fontology%23Property%3E+.%0A++%7D%0A++LIMIT+100%0A+%7D%0A++%3Fvar1++%3Chttp%3A%2F%2Fwww.w3.org%2F2000%2F01%2Frdf-schema%23label%3E++%3Fvar2Label+.%0A++%3Fvar1++%3Chttp%3A%2F%2Fschema.org%2Fdescription%3E++%3Fvar3+.%0A+FILTER+%28++%28+%28++LANG+%28++%3Fvar2Label++%29++%3D++%22es%22+%29+%29+%0A%29+.%0A+FILTER+%28++%28+%28++LANG+%28++%3Fvar3++%29++%3D++%22es%22+%29+%29+%0A%29+.%0A%7D%0ALIMIT+100%0A</td>\n      <td>2018-03-25 22:25:21</td>\n      <td>organic</td>\n      <td>browser</td>\n      <td>../BadRequeteCrypt/I7_status500_Joined.tsv</td>\n      <td>7</td>\n      <td>SELECT ?var1  ?var2Label  ?var3 \\nWHERE {\\n  &lt;http://www.bigdata.com/queryHints#Query&gt;  &lt;http://www.bigdata.com/queryHints#optimizer&gt;  \"None\".\\n {\\n  SELECT DISTINCT ?var1 \\n  WHERE   {\\n    ?var4  ?var5  &lt;http://www.wikidata.org/entity/Q145&gt; .\\n    ?var1  ?var6  ?var5 .\\n    ?var1  &lt;http://www.w3.org/1999/02/22-rdf-syntax-ns#type&gt;  &lt;http://wikiba.se/ontology#Property&gt; .\\n  }\\n  LIMIT 100\\n }\\n  ?var1  &lt;http://www.w3.org/2000/01/rdf-schema#label&gt;  ?var2Label .\\n  ?var1  &lt;http://schema.org/description&gt;  ?var3 .\\n FILTER (  ( (  LANG (  ?var2Label  )  =  \"es\" ) ) \\n) .\\n FILTER (  ( (  LANG (  ?var3  )  =  \"es\" ) ) \\n) .\\n}\\nLIMIT 100\\n</td>\n      <td>&lt;rdflib.plugins.sparql.sparql.Query object at 0x7f26812c2a90&gt;</td>\n      <td>&lt;__main__.FilterVisitor object at 0x7f2685b57190&gt;</td>\n      <td>6</td>\n      <td>1</td>\n      <td>0</td>\n      <td>2</td>\n      <td>1</td>\n      <td>1</td>\n      <td>0</td>\n      <td>1</td>\n      <td>2</td>\n      <td>3</td>\n      <td>0</td>\n      <td>0</td>\n      <td>2</td>\n      <td>0</td>\n      <td>0</td>\n      <td>0</td>\n      <td>2</td>\n      <td>2</td>\n      <td>True</td>\n      <td>True</td>\n      <td>False</td>\n      <td>True</td>\n      <td>True</td>\n      <td>True</td>\n      <td>False</td>\n      <td>True</td>\n      <td>True</td>\n      <td>True</td>\n      <td>False</td>\n      <td>False</td>\n      <td>True</td>\n      <td>False</td>\n      <td>False</td>\n      <td>False</td>\n      <td>True</td>\n      <td>True</td>\n    </tr>\n    <tr>\n      <th>25647</th>\n      <td>SELECT+%3Fvar1+%0AWHERE+%7B%0A++%3Fvar1++%3Chttp%3A%2F%2Fwww.wikidata.org%2Fprop%2Fdirect%2FP31%3E++%3Chttp%3A%2F%2Fwww.wikidata.org%2Fentity%2FQ5%3E+.%0A++%3Fvar1++%3Chttp%3A%2F%2Fwww.wikidata.org%2Fprop%2Fdirect%2FP21%3E++%3Chttp%3A%2F%2Fwww.wikidata.org%2Fentity%2FQ6581072%3E+.%0A+OPTIONAL+%7B%0A++%3Fvar1++%3Chttp%3A%2F%2Fwww.w3.org%2F2000%2F01%2Frdf-schema%23label%3E++%3Fvar2+.%0A+FILTER+%28++%28+%28++LANG+%28++%3Fvar2++%29++%3D++%22es%22+%29+%29+%0A%29+.%0A+%7D%0A+OPTIONAL+%7B%0A++%3Fvar1++%3Chttp%3A%2F%2Fschema.org%2Fdescription%3E++%3Fvar3+.%0A+FILTER+%28++%28+%28++LANG+%28++%3Fvar3++%29++%3D++%22es%22+%29+%29+%0A%29+.%0A+%7D%0A+FILTER+%28++%28+%28++%3Fvar2++%3D++%3Fvar3++%29+%29+%0A%29+.%0A%7D%0ALIMIT+5%0A</td>\n      <td>2018-03-25 22:26:30</td>\n      <td>organic</td>\n      <td>browser</td>\n      <td>../BadRequeteCrypt/I7_status500_Joined.tsv</td>\n      <td>7</td>\n      <td>SELECT ?var1 \\nWHERE {\\n  ?var1  &lt;http://www.wikidata.org/prop/direct/P31&gt;  &lt;http://www.wikidata.org/entity/Q5&gt; .\\n  ?var1  &lt;http://www.wikidata.org/prop/direct/P21&gt;  &lt;http://www.wikidata.org/entity/Q6581072&gt; .\\n OPTIONAL {\\n  ?var1  &lt;http://www.w3.org/2000/01/rdf-schema#label&gt;  ?var2 .\\n FILTER (  ( (  LANG (  ?var2  )  =  \"es\" ) ) \\n) .\\n }\\n OPTIONAL {\\n  ?var1  &lt;http://schema.org/description&gt;  ?var3 .\\n FILTER (  ( (  LANG (  ?var3  )  =  \"es\" ) ) \\n) .\\n }\\n FILTER (  ( (  ?var2  =  ?var3  ) ) \\n) .\\n}\\nLIMIT 5\\n</td>\n      <td>&lt;rdflib.plugins.sparql.sparql.Query object at 0x7f2681458e90&gt;</td>\n      <td>&lt;__main__.FilterVisitor object at 0x7f2681238950&gt;</td>\n      <td>3</td>\n      <td>1</td>\n      <td>0</td>\n      <td>1</td>\n      <td>1</td>\n      <td>0</td>\n      <td>0</td>\n      <td>0</td>\n      <td>0</td>\n      <td>3</td>\n      <td>0</td>\n      <td>0</td>\n      <td>1</td>\n      <td>0</td>\n      <td>0</td>\n      <td>0</td>\n      <td>1</td>\n      <td>1</td>\n      <td>True</td>\n      <td>True</td>\n      <td>False</td>\n      <td>True</td>\n      <td>True</td>\n      <td>False</td>\n      <td>False</td>\n      <td>False</td>\n      <td>False</td>\n      <td>True</td>\n      <td>False</td>\n      <td>False</td>\n      <td>True</td>\n      <td>False</td>\n      <td>False</td>\n      <td>False</td>\n      <td>True</td>\n      <td>True</td>\n    </tr>\n    <tr>\n      <th>25648</th>\n      <td>SELECT+%3Fvar1+%0AWHERE+%7B%0A++%3Fvar1++%3Chttp%3A%2F%2Fwww.wikidata.org%2Fprop%2Fdirect%2FP31%3E++%3Chttp%3A%2F%2Fwww.wikidata.org%2Fentity%2FQ5%3E+.%0A++%3Fvar1++%3Chttp%3A%2F%2Fwww.wikidata.org%2Fprop%2Fdirect%2FP21%3E++%3Chttp%3A%2F%2Fwww.wikidata.org%2Fentity%2FQ6581072%3E+.%0A+OPTIONAL+%7B%0A++%3Fvar1++%3Chttp%3A%2F%2Fwww.w3.org%2F2000%2F01%2Frdf-schema%23label%3E++%3Fvar2+.%0A+FILTER+%28++%28+%28++LANG+%28++%3Fvar2++%29++%3D++%22es%22+%29+%29+%0A%29+.%0A+%7D%0A+OPTIONAL+%7B%0A++%3Fvar1++%3Chttp%3A%2F%2Fschema.org%2Fdescription%3E++%3Fvar3+.%0A+FILTER+%28++%28+%28++LANG+%28++%3Fvar3++%29++%3D++%22es%22+%29+%29+%0A%29+.%0A+%7D%0A+FILTER+%28++%28+%28++%3Fvar2++%3D++%3Fvar3++%29+%29+%0A%29+.%0A%7D%0ALIMIT+2%0A</td>\n      <td>2018-03-25 22:27:41</td>\n      <td>organic</td>\n      <td>browser</td>\n      <td>../BadRequeteCrypt/I7_status500_Joined.tsv</td>\n      <td>7</td>\n      <td>SELECT ?var1 \\nWHERE {\\n  ?var1  &lt;http://www.wikidata.org/prop/direct/P31&gt;  &lt;http://www.wikidata.org/entity/Q5&gt; .\\n  ?var1  &lt;http://www.wikidata.org/prop/direct/P21&gt;  &lt;http://www.wikidata.org/entity/Q6581072&gt; .\\n OPTIONAL {\\n  ?var1  &lt;http://www.w3.org/2000/01/rdf-schema#label&gt;  ?var2 .\\n FILTER (  ( (  LANG (  ?var2  )  =  \"es\" ) ) \\n) .\\n }\\n OPTIONAL {\\n  ?var1  &lt;http://schema.org/description&gt;  ?var3 .\\n FILTER (  ( (  LANG (  ?var3  )  =  \"es\" ) ) \\n) .\\n }\\n FILTER (  ( (  ?var2  =  ?var3  ) ) \\n) .\\n}\\nLIMIT 2\\n</td>\n      <td>&lt;rdflib.plugins.sparql.sparql.Query object at 0x7f26812aa850&gt;</td>\n      <td>&lt;__main__.FilterVisitor object at 0x7f2685f0f110&gt;</td>\n      <td>3</td>\n      <td>1</td>\n      <td>0</td>\n      <td>1</td>\n      <td>1</td>\n      <td>0</td>\n      <td>0</td>\n      <td>0</td>\n      <td>0</td>\n      <td>3</td>\n      <td>0</td>\n      <td>0</td>\n      <td>1</td>\n      <td>0</td>\n      <td>0</td>\n      <td>0</td>\n      <td>1</td>\n      <td>1</td>\n      <td>True</td>\n      <td>True</td>\n      <td>False</td>\n      <td>True</td>\n      <td>True</td>\n      <td>False</td>\n      <td>False</td>\n      <td>False</td>\n      <td>False</td>\n      <td>True</td>\n      <td>False</td>\n      <td>False</td>\n      <td>True</td>\n      <td>False</td>\n      <td>False</td>\n      <td>False</td>\n      <td>True</td>\n      <td>True</td>\n    </tr>\n    <tr>\n      <th>25652</th>\n      <td>SELECT+DISTINCT+%3Fvar1++%3Fvar1Label++%3Fvar2++%3Fvar2Label++%3Fvar3++%3Fvar4+%0AWHERE+%7B%0A++%3Fvar2+%28+%3Chttp%3A%2F%2Fwww.wikidata.org%2Fprop%2Fdirect%2FP31%3E+%2F+%3Chttp%3A%2F%2Fwww.wikidata.org%2Fprop%2Fdirect%2FP279%3E+*%29+%3Chttp%3A%2F%2Fwww.wikidata.org%2Fentity%2FQ515%3E+.%0A++%3Fvar1++%3Chttp%3A%2F%2Fwww.wikidata.org%2Fprop%2Fdirect%2FP31%3E++%3Chttp%3A%2F%2Fwww.wikidata.org%2Fentity%2FQ644371%3E+.%0A++%3Fvar1++%3Fvar5++%3Fvar2+.%0A++%3Fvar1++%3Chttp%3A%2F%2Fwww.wikidata.org%2Fprop%2Fdirect%2FP238%3E++%3Fvar3+.%0A+SERVICE++%3Chttp%3A%2F%2Fwikiba.se%2Fontology%23around%3E+++%7B%0A++++%3Fvar2++%3Chttp%3A%2F%2Fwww.wikidata.org%2Fprop%2Fdirect%2FP625%3E++%3Fvar6+.%0A++++%3Chttp%3A%2F%2Fwww.bigdata.com%2Frdf%23serviceParam%3E++%3Chttp%3A%2F%2Fwikiba.se%2Fontology%23center%3E++%22POINT%280+52%29%22%5E%5E%3Chttp%3A%2F%2Fwww.opengis.net%2Font%2Fgeosparql%23wktLiteral%3E+.%0A++++%3Chttp%3A%2F%2Fwww.bigdata.com%2Frdf%23serviceParam%3E++%3Chttp%3A%2F%2Fwikiba.se%2Fontology%23radius%3E++%22200%22.%0A++++%3Chttp%3A%2F%2Fwww.bigdata.com%2Frdf%23serviceParam%3E++%3Chttp%3A%2F%2Fwikiba.se%2Fontology%23distance%3E++%3Fvar7+.%0A++%7D%0A+SERVICE++%3Chttp%3A%2F%2Fwikiba.se%2Fontology%23label%3E+++%7B%0A++++%3Chttp%3A%2F%2Fwww.bigdata.com%2Frdf%23serviceParam%3E++%3Chttp%3A%2F%2Fwikiba.se%2Fontology%23language%3E++%22en%22.%0A++%7D%0A+OPTIONAL+%7B%0A++%3Fvar2++%3Chttp%3A%2F%2Fwww.wikidata.org%2Fprop%2Fdirect%2FP625%3E++%3Fvar4+.%0A+%7D%0A%7D%0AORDER+BY+ASC%28+%3Fvar7+%29%0ALIMIT+1%0A</td>\n      <td>2018-03-25 23:07:38</td>\n      <td>organic</td>\n      <td>browser</td>\n      <td>../BadRequeteCrypt/I7_status500_Joined.tsv</td>\n      <td>7</td>\n      <td>SELECT DISTINCT ?var1  ?var1Label  ?var2  ?var2Label  ?var3  ?var4 \\nWHERE {\\n  ?var2 ( &lt;http://www.wikidata.org/prop/direct/P31&gt; / &lt;http://www.wikidata.org/prop/direct/P279&gt;*) &lt;http://www.wikidata.org/entity/Q515&gt; .\\n  ?var1  &lt;http://www.wikidata.org/prop/direct/P31&gt;  &lt;http://www.wikidata.org/entity/Q644371&gt; .\\n  ?var1  ?var5  ?var2 .\\n  ?var1  &lt;http://www.wikidata.org/prop/direct/P238&gt;  ?var3 .\\n SERVICE  &lt;http://wikiba.se/ontology#around&gt;   {\\n    ?var2  &lt;http://www.wikidata.org/prop/direct/P625&gt;  ?var6 .\\n    &lt;http://www.bigdata.com/rdf#serviceParam&gt;  &lt;http://wikiba.se/ontology#center&gt;  \"POINT(0 52)\"^^&lt;http://www.opengis.net/ont/geosparql#wktLiteral&gt; .\\n    &lt;http://www.bigdata.com/rdf#serviceParam&gt;  &lt;http://wikiba.se/ontology#radius&gt;  \"200\".\\n    &lt;http://www.bigdata.com/rdf#serviceParam&gt;  &lt;http://wikiba.se/ontology#distance&gt;  ?var7 .\\n  }\\n SERVICE  &lt;http://wikiba.se/ontology#label&gt;   {\\n    &lt;http://www.bigdata.com/rdf#serviceParam&gt;  &lt;http://wikiba.se/ontology#language&gt;  \"en\".\\n  }\\n OPTIONAL {\\n  ?var2  &lt;http://www.wikidata.org/prop/direct/P625&gt;  ?var4 .\\n }\\n}\\nORDER BY ASC( ?var7 )\\nLIMIT 1\\n</td>\n      <td>&lt;rdflib.plugins.sparql.sparql.Query object at 0x7f268114aed0&gt;</td>\n      <td>&lt;__main__.FilterVisitor object at 0x7f2680ef93d0&gt;</td>\n      <td>9</td>\n      <td>0</td>\n      <td>1</td>\n      <td>1</td>\n      <td>1</td>\n      <td>1</td>\n      <td>0</td>\n      <td>0</td>\n      <td>2</td>\n      <td>2</td>\n      <td>0</td>\n      <td>0</td>\n      <td>1</td>\n      <td>0</td>\n      <td>0</td>\n      <td>0</td>\n      <td>1</td>\n      <td>1</td>\n      <td>True</td>\n      <td>False</td>\n      <td>True</td>\n      <td>True</td>\n      <td>True</td>\n      <td>True</td>\n      <td>False</td>\n      <td>False</td>\n      <td>True</td>\n      <td>True</td>\n      <td>False</td>\n      <td>False</td>\n      <td>True</td>\n      <td>False</td>\n      <td>False</td>\n      <td>False</td>\n      <td>True</td>\n      <td>True</td>\n    </tr>\n    <tr>\n      <th>25661</th>\n      <td>SELECT+%3Fvar1++%3Fvar2Label++%3Fvar1Label++%3Fvar3++%3Fvar4++%3Fvar4Label+%0AWHERE+%7B%0A++VALUES+%28++%3Fvar2++%29+%7B%0A+++%28++%3Chttp%3A%2F%2Fwww.wikidata.org%2Fentity%2FQ5608%3E++%29%0A++%7D%0A++%3Fvar1++%3Chttp%3A%2F%2Fwww.wikidata.org%2Fprop%2Fdirect%2FP175%3E++%3Fvar2+.%0A++%3Fvar1++%3Chttp%3A%2F%2Fwww.wikidata.org%2Fprop%2Fdirect%2FP577%3E++%3Fvar3+.%0A+SERVICE++%3Chttp%3A%2F%2Fwikiba.se%2Fontology%23label%3E+++%7B%0A++++%3Chttp%3A%2F%2Fwww.bigdata.com%2Frdf%23serviceParam%3E++%3Chttp%3A%2F%2Fwikiba.se%2Fontology%23language%3E++%22en%22.%0A++%7D%0A+OPTIONAL+%7B%0A++%3Fvar5++%3Chttp%3A%2F%2Fwww.wikidata.org%2Fprop%2Fdirect%2FP136%3E++%3Fvar4+.%0A+%7D%0A%7D%0A</td>\n      <td>2018-03-25 23:34:02</td>\n      <td>organic</td>\n      <td>browser</td>\n      <td>../BadRequeteCrypt/I7_status500_Joined.tsv</td>\n      <td>7</td>\n      <td>SELECT ?var1  ?var2Label  ?var1Label  ?var3  ?var4  ?var4Label \\nWHERE {\\n  VALUES (  ?var2  ) {\\n   (  &lt;http://www.wikidata.org/entity/Q5608&gt;  )\\n  }\\n  ?var1  &lt;http://www.wikidata.org/prop/direct/P175&gt;  ?var2 .\\n  ?var1  &lt;http://www.wikidata.org/prop/direct/P577&gt;  ?var3 .\\n SERVICE  &lt;http://wikiba.se/ontology#label&gt;   {\\n    &lt;http://www.bigdata.com/rdf#serviceParam&gt;  &lt;http://wikiba.se/ontology#language&gt;  \"en\".\\n  }\\n OPTIONAL {\\n  ?var5  &lt;http://www.wikidata.org/prop/direct/P136&gt;  ?var4 .\\n }\\n}\\n</td>\n      <td>&lt;rdflib.plugins.sparql.sparql.Query object at 0x7f2680ea3190&gt;</td>\n      <td>&lt;__main__.FilterVisitor object at 0x7f2685fd27d0&gt;</td>\n      <td>8</td>\n      <td>0</td>\n      <td>0</td>\n      <td>0</td>\n      <td>1</td>\n      <td>0</td>\n      <td>0</td>\n      <td>1</td>\n      <td>2</td>\n      <td>2</td>\n      <td>0</td>\n      <td>0</td>\n      <td>1</td>\n      <td>0</td>\n      <td>1</td>\n      <td>0</td>\n      <td>0</td>\n      <td>0</td>\n      <td>True</td>\n      <td>False</td>\n      <td>False</td>\n      <td>False</td>\n      <td>True</td>\n      <td>False</td>\n      <td>False</td>\n      <td>True</td>\n      <td>True</td>\n      <td>True</td>\n      <td>False</td>\n      <td>False</td>\n      <td>True</td>\n      <td>False</td>\n      <td>True</td>\n      <td>False</td>\n      <td>False</td>\n      <td>False</td>\n    </tr>\n  </tbody>\n</table>\n<p>8103 rows × 45 columns</p>\n</div>"
     },
     "metadata": {}
    }
   ]
  },
  {
   "cell_type": "markdown",
   "source": "## Statistics",
   "metadata": {
    "cell_id": "2917ce5d-1660-4f62-8e7d-c10229b2d0ae",
    "tags": [],
    "is_collapsed": false,
    "deepnote_cell_type": "text-cell-h2"
   }
  },
  {
   "cell_type": "code",
   "metadata": {
    "cell_id": "aba87b0d-d05b-46c1-a668-a69b1ebfc341",
    "tags": [],
    "deepnote_to_be_reexecuted": false,
    "source_hash": "94a795e0",
    "execution_start": 1643359237845,
    "execution_millis": 30887227,
    "deepnote_output_heights": [
     21
    ],
    "deepnote_cell_type": "code"
   },
   "source": "len(df_nona)",
   "execution_count": 20,
   "outputs": [
    {
     "output_type": "execute_result",
     "execution_count": 20,
     "data": {
      "text/plain": "25625"
     },
     "metadata": {}
    }
   ]
  },
  {
   "cell_type": "markdown",
   "source": "### Organic",
   "metadata": {
    "cell_id": "4ba24d56-981a-4bf3-9b66-aa55f8b144e2",
    "tags": [],
    "is_collapsed": false,
    "deepnote_cell_type": "text-cell-h3"
   }
  },
  {
   "cell_type": "markdown",
   "source": "Number of organic queries",
   "metadata": {
    "cell_id": "ca569d67-230c-43bb-af44-d27362fce294",
    "tags": [],
    "is_collapsed": false,
    "deepnote_cell_type": "text-cell-p"
   }
  },
  {
   "cell_type": "code",
   "metadata": {
    "cell_id": "b4db6ae4-9f64-4049-9fe6-7237f66e3057",
    "tags": [],
    "deepnote_to_be_reexecuted": false,
    "source_hash": "84f67c2c",
    "execution_start": 1643359237852,
    "execution_millis": 30887220,
    "deepnote_output_heights": [
     21
    ],
    "deepnote_cell_type": "code"
   },
   "source": "len(df_nona_organic)",
   "execution_count": 21,
   "outputs": [
    {
     "output_type": "execute_result",
     "execution_count": 21,
     "data": {
      "text/plain": "8103"
     },
     "metadata": {}
    }
   ]
  },
  {
   "cell_type": "markdown",
   "source": "Sum of all variables",
   "metadata": {
    "cell_id": "57951573-8892-4470-a665-d3a6a5abc329",
    "tags": [],
    "is_collapsed": false,
    "deepnote_cell_type": "text-cell-p"
   }
  },
  {
   "cell_type": "code",
   "metadata": {
    "cell_id": "d5355545-5f23-492a-b4f8-acfcc7a00acd",
    "tags": [],
    "deepnote_to_be_reexecuted": false,
    "source_hash": "1ee76817",
    "execution_start": 1643359237893,
    "execution_millis": 96,
    "deepnote_output_heights": [
     21.1875
    ],
    "deepnote_table_state": {
     "pageSize": 25,
     "pageIndex": 0,
     "filters": [],
     "sortBy": []
    },
    "deepnote_table_loading": false,
    "deepnote_cell_type": "code"
   },
   "source": "sumVariable = len(df_nona_organic[df_nona_organic[\"has_variable\"]==True])\nsumFilter = len(df_nona_organic[df_nona_organic[\"has_filter\"]==True])\nsumOrderBy = len(df_nona_organic[df_nona_organic[\"has_orderby\"]==True])\nsumLimit = len(df_nona_organic[df_nona_organic[\"has_limit\"]==True])\nsumSelect = len(df_nona_organic[df_nona_organic[\"has_select\"]==True])\nsumDistinct = len(df_nona_organic[df_nona_organic[\"has_distinct\"]==True])\nsumToMultiSet = len(df_nona_organic[df_nona_organic[\"has_tomultiset\"]==True])\nsumJoin = len(df_nona_organic[df_nona_organic[\"has_join\"]==True])\nsumBGP = len(df_nona_organic[df_nona_organic[\"has_bgp\"]==True])\nsumproject = len(df_nona_organic[df_nona_organic[\"has_project\"]==True])\nsumUnion = len(df_nona_organic[df_nona_organic[\"has_union\"]==True])\nsumValues = len(df_nona_organic[df_nona_organic[\"has_values\"]==True])\nsumSlice = len(df_nona_organic[df_nona_organic[\"has_slice\"]==True])\nsumSlice = len(df_nona_organic[df_nona_organic[\"has_offset\"]==True])\nsumGroupBy = len(df_nona_organic[df_nona_organic[\"has_groupby\"]==True])\nsumOffsetR = len(df_nona_organic[df_nona_organic[\"has_offset\"]==True])\n#sumModify = df_nona_organic[\"counter_modify\"].sum() # TODO\n#sumInsertDate = df_nona_organic[\"counter_insertdata\"].sum() #TODO\n#sumDeleteData = df_nona_organic[\"counter_deletedata\"].sum()  #TODO\n\nsumVariableR = len(df_nona_robotic[df_nona_robotic[\"has_variable\"]==True])\nsumFilterR = len(df_nona_robotic[df_nona_robotic[\"has_filter\"]==True])\nsumOrderByR = len(df_nona_robotic[df_nona_robotic[\"has_orderby\"]==True])\nsumLimitR = len(df_nona_robotic[df_nona_robotic[\"has_limit\"]==True])\nsumSelectR = len(df_nona_robotic[df_nona_robotic[\"has_select\"]==True])\nsumDistinctR = len(df_nona_robotic[df_nona_robotic[\"has_distinct\"]==True])\nsumToMultiSetR = len(df_nona_robotic[df_nona_robotic[\"has_tomultiset\"]==True])\nsumJoinR = len(df_nona_robotic[df_nona_robotic[\"has_join\"]==True])\nsumBGPR = len(df_nona_robotic[df_nona_robotic[\"has_bgp\"]==True])\nsumprojectR = len(df_nona_robotic[df_nona_robotic[\"has_project\"]==True])\nsumUnionR = len(df_nona_robotic[df_nona_robotic[\"has_union\"]==True])\nsumValuesR = len(df_nona_robotic[df_nona_robotic[\"has_values\"]==True])\nsumSliceR = len(df_nona_robotic[df_nona_robotic[\"has_slice\"]==True])\nsumSliceR = len(df_nona_robotic[df_nona_robotic[\"has_offset\"]==True])\nsumGroupByR = len(df_nona_robotic[df_nona_robotic[\"has_groupby\"]==True])\nsumOffset = len(df_nona_robotic[df_nona_robotic[\"has_offset\"]==True])\n#sumModify = df_nona_organic[\"counter_modify\"].sum() # TODO\n#sumInsertDate = df_nona_organic[\"counter_insertdata\"].sum() #TODO\n#sumDeleteData = df_nona_organic[\"counter_deletedata\"].sum()  #TODO\n\n\nda = {\n'I7 Robotic': [sumVariableR, sumValuesR, sumFilterR, sumOrderByR, sumLimitR, sumSelectR, sumDistinctR, sumSliceR, sumToMultiSetR,sumJoinR,sumBGPR, sumprojectR, sumUnionR, sumGroupByR, sumOffsetR]\n, 'I7 Organic': [sumVariable, sumValues, sumFilter, sumOrderBy, sumLimit, sumSelect, sumDistinct, sumSlice, sumToMultiSet,sumJoin,sumBGP, sumproject, sumUnion, sumGroupBy, sumOffset]\n}\ndpfr = pd.DataFrame(data=da, index=['Variable','Values','Filter','OrderBy','Limit','Select','Distinct','Slice', 'ToMultiSet','Join','BGP', 'project', 'Union', 'GroupBy', 'Offset'])\n\ndpfr\n\n",
   "execution_count": 22,
   "outputs": [
    {
     "output_type": "execute_result",
     "execution_count": 22,
     "data": {
      "application/vnd.deepnote.dataframe.v3+json": {
       "column_count": 2,
       "row_count": 15,
       "columns": [
        {
         "name": "I7 Robotic",
         "dtype": "int64",
         "stats": {
          "unique_count": 13,
          "nan_count": 0,
          "min": "1669",
          "max": "17522",
          "histogram": [
           {
            "bin_start": 1669,
            "bin_end": 3254.3,
            "count": 2
           },
           {
            "bin_start": 3254.3,
            "bin_end": 4839.6,
            "count": 2
           },
           {
            "bin_start": 4839.6,
            "bin_end": 6424.9,
            "count": 3
           },
           {
            "bin_start": 6424.9,
            "bin_end": 8010.2,
            "count": 2
           },
           {
            "bin_start": 8010.2,
            "bin_end": 9595.5,
            "count": 0
           },
           {
            "bin_start": 9595.5,
            "bin_end": 11180.8,
            "count": 0
           },
           {
            "bin_start": 11180.8,
            "bin_end": 12766.1,
            "count": 1
           },
           {
            "bin_start": 12766.1,
            "bin_end": 14351.4,
            "count": 1
           },
           {
            "bin_start": 14351.4,
            "bin_end": 15936.699999999999,
            "count": 0
           },
           {
            "bin_start": 15936.699999999999,
            "bin_end": 17522,
            "count": 4
           }
          ]
         }
        },
        {
         "name": "I7 Organic",
         "dtype": "int64",
         "stats": {
          "unique_count": 15,
          "nan_count": 0,
          "min": "265",
          "max": "8103",
          "histogram": [
           {
            "bin_start": 265,
            "bin_end": 1048.8,
            "count": 2
           },
           {
            "bin_start": 1048.8,
            "bin_end": 1832.6,
            "count": 1
           },
           {
            "bin_start": 1832.6,
            "bin_end": 2616.3999999999996,
            "count": 2
           },
           {
            "bin_start": 2616.3999999999996,
            "bin_end": 3400.2,
            "count": 0
           },
           {
            "bin_start": 3400.2,
            "bin_end": 4184,
            "count": 2
           },
           {
            "bin_start": 4184,
            "bin_end": 4967.799999999999,
            "count": 0
           },
           {
            "bin_start": 4967.799999999999,
            "bin_end": 5751.599999999999,
            "count": 3
           },
           {
            "bin_start": 5751.599999999999,
            "bin_end": 6535.4,
            "count": 0
           },
           {
            "bin_start": 6535.4,
            "bin_end": 7319.2,
            "count": 1
           },
           {
            "bin_start": 7319.2,
            "bin_end": 8103,
            "count": 4
           }
          ]
         }
        },
        {
         "name": "_deepnote_index_column",
         "dtype": "object"
        }
       ],
       "rows": [
        {
         "I7 Robotic": 17522,
         "I7 Organic": 8097,
         "_deepnote_index_column": "Variable"
        },
        {
         "I7 Robotic": 2932,
         "I7 Organic": 265,
         "_deepnote_index_column": "Values"
        },
        {
         "I7 Robotic": 13774,
         "I7 Organic": 3896,
         "_deepnote_index_column": "Filter"
        },
        {
         "I7 Robotic": 4139,
         "I7 Organic": 2435,
         "_deepnote_index_column": "OrderBy"
        },
        {
         "I7 Robotic": 4973,
         "I7 Organic": 4978,
         "_deepnote_index_column": "Limit"
        },
        {
         "I7 Robotic": 17509,
         "I7 Organic": 8033,
         "_deepnote_index_column": "Select"
        },
        {
         "I7 Robotic": 7444,
         "I7 Organic": 3465,
         "_deepnote_index_column": "Distinct"
        },
        {
         "I7 Robotic": 5041,
         "I7 Organic": 5002,
         "_deepnote_index_column": "Slice"
        },
        {
         "I7 Robotic": 3594,
         "I7 Organic": 2333,
         "_deepnote_index_column": "ToMultiSet"
        },
        {
         "I7 Robotic": 12000,
         "I7 Organic": 6702,
         "_deepnote_index_column": "Join"
        },
        {
         "I7 Robotic": 17522,
         "I7 Organic": 8058,
         "_deepnote_index_column": "BGP"
        },
        {
         "I7 Robotic": 17522,
         "I7 Organic": 8103,
         "_deepnote_index_column": "project"
        },
        {
         "I7 Robotic": 1669,
         "I7 Organic": 310,
         "_deepnote_index_column": "Union"
        },
        {
         "I7 Robotic": 6548,
         "I7 Organic": 1394,
         "_deepnote_index_column": "GroupBy"
        },
        {
         "I7 Robotic": 5002,
         "I7 Organic": 5041,
         "_deepnote_index_column": "Offset"
        }
       ]
      },
      "text/plain": "            I7 Robotic  I7 Organic\nVariable    17522       8097      \nValues      2932        265       \nFilter      13774       3896      \nOrderBy     4139        2435      \nLimit       4973        4978      \nSelect      17509       8033      \nDistinct    7444        3465      \nSlice       5041        5002      \nToMultiSet  3594        2333      \nJoin        12000       6702      \nBGP         17522       8058      \nproject     17522       8103      \nUnion       1669        310       \nGroupBy     6548        1394      \nOffset      5002        5041      ",
      "text/html": "<div>\n<style scoped>\n    .dataframe tbody tr th:only-of-type {\n        vertical-align: middle;\n    }\n\n    .dataframe tbody tr th {\n        vertical-align: top;\n    }\n\n    .dataframe thead th {\n        text-align: right;\n    }\n</style>\n<table border=\"1\" class=\"dataframe\">\n  <thead>\n    <tr style=\"text-align: right;\">\n      <th></th>\n      <th>I7 Robotic</th>\n      <th>I7 Organic</th>\n    </tr>\n  </thead>\n  <tbody>\n    <tr>\n      <th>Variable</th>\n      <td>17522</td>\n      <td>8097</td>\n    </tr>\n    <tr>\n      <th>Values</th>\n      <td>2932</td>\n      <td>265</td>\n    </tr>\n    <tr>\n      <th>Filter</th>\n      <td>13774</td>\n      <td>3896</td>\n    </tr>\n    <tr>\n      <th>OrderBy</th>\n      <td>4139</td>\n      <td>2435</td>\n    </tr>\n    <tr>\n      <th>Limit</th>\n      <td>4973</td>\n      <td>4978</td>\n    </tr>\n    <tr>\n      <th>Select</th>\n      <td>17509</td>\n      <td>8033</td>\n    </tr>\n    <tr>\n      <th>Distinct</th>\n      <td>7444</td>\n      <td>3465</td>\n    </tr>\n    <tr>\n      <th>Slice</th>\n      <td>5041</td>\n      <td>5002</td>\n    </tr>\n    <tr>\n      <th>ToMultiSet</th>\n      <td>3594</td>\n      <td>2333</td>\n    </tr>\n    <tr>\n      <th>Join</th>\n      <td>12000</td>\n      <td>6702</td>\n    </tr>\n    <tr>\n      <th>BGP</th>\n      <td>17522</td>\n      <td>8058</td>\n    </tr>\n    <tr>\n      <th>project</th>\n      <td>17522</td>\n      <td>8103</td>\n    </tr>\n    <tr>\n      <th>Union</th>\n      <td>1669</td>\n      <td>310</td>\n    </tr>\n    <tr>\n      <th>GroupBy</th>\n      <td>6548</td>\n      <td>1394</td>\n    </tr>\n    <tr>\n      <th>Offset</th>\n      <td>5002</td>\n      <td>5041</td>\n    </tr>\n  </tbody>\n</table>\n</div>"
     },
     "metadata": {}
    }
   ]
  },
  {
   "cell_type": "markdown",
   "source": "Average number of variable per organic request",
   "metadata": {
    "cell_id": "c01e6b43-d1eb-4766-8a1b-a141a96e2479",
    "tags": [],
    "deepnote_cell_type": "markdown"
   }
  },
  {
   "cell_type": "code",
   "metadata": {
    "cell_id": "276eab2a-a0c6-4e81-8dc2-d6a9158e95c4",
    "tags": [],
    "deepnote_to_be_reexecuted": false,
    "source_hash": "19139680",
    "execution_start": 1643359237986,
    "execution_millis": 4,
    "deepnote_output_heights": [
     21
    ],
    "deepnote_cell_type": "code"
   },
   "source": "df_nona_organic[\"counter_variable\"].mean()",
   "execution_count": 23,
   "outputs": [
    {
     "output_type": "execute_result",
     "execution_count": 23,
     "data": {
      "text/plain": "6.44070097494755"
     },
     "metadata": {}
    }
   ]
  },
  {
   "cell_type": "markdown",
   "source": "### Robotic",
   "metadata": {
    "cell_id": "a0eebf63-8a1e-45fa-b85b-d8c64f07da6d",
    "tags": [],
    "is_collapsed": false,
    "deepnote_cell_type": "text-cell-h3"
   }
  },
  {
   "cell_type": "code",
   "metadata": {
    "cell_id": "019bfe42-fdbc-4cee-8012-82ad8b97a37e",
    "tags": [],
    "deepnote_to_be_reexecuted": false,
    "source_hash": "e1e1f708",
    "execution_start": 1643359237986,
    "execution_millis": 30887147,
    "deepnote_output_heights": [
     21
    ],
    "deepnote_cell_type": "code"
   },
   "source": "len(df_nona_robotic)",
   "execution_count": 24,
   "outputs": [
    {
     "output_type": "execute_result",
     "execution_count": 24,
     "data": {
      "text/plain": "17522"
     },
     "metadata": {}
    }
   ]
  },
  {
   "cell_type": "markdown",
   "source": "Sum of all variables",
   "metadata": {
    "cell_id": "1f45de92-232a-48f7-81e3-e59ef160aaf7",
    "tags": [],
    "is_collapsed": false,
    "deepnote_cell_type": "text-cell-p"
   }
  },
  {
   "cell_type": "code",
   "metadata": {
    "cell_id": "b8372ecc-1e22-4306-87fb-039d15dd3361",
    "tags": [],
    "deepnote_to_be_reexecuted": false,
    "source_hash": "bed08164",
    "execution_start": 1643359237988,
    "execution_millis": 2,
    "deepnote_output_heights": [
     21
    ],
    "deepnote_cell_type": "code"
   },
   "source": "df_nona_robotic[\"counter_variable\"].sum()",
   "execution_count": 25,
   "outputs": [
    {
     "output_type": "execute_result",
     "execution_count": 25,
     "data": {
      "text/plain": "92423"
     },
     "metadata": {}
    }
   ]
  },
  {
   "cell_type": "code",
   "metadata": {
    "cell_id": "1e3fc719-4561-4da2-9e77-297be72d6a3d",
    "tags": [],
    "deepnote_to_be_reexecuted": false,
    "source_hash": "83a5fb5f",
    "execution_start": 1643359237996,
    "execution_millis": 30887151,
    "deepnote_output_heights": [
     21
    ],
    "deepnote_cell_type": "code"
   },
   "source": "df_nona_robotic[\"counter_variable\"].mean()",
   "execution_count": 26,
   "outputs": [
    {
     "output_type": "execute_result",
     "execution_count": 26,
     "data": {
      "text/plain": "5.274683255336149"
     },
     "metadata": {}
    }
   ]
  },
  {
   "cell_type": "code",
   "metadata": {
    "cell_id": "1f13d90f-d338-4e79-a8b5-9fb8fee1f4fe",
    "tags": [],
    "deepnote_to_be_reexecuted": false,
    "source_hash": "aa6b2da5",
    "execution_start": 1643359238026,
    "execution_millis": 4,
    "deepnote_table_state": {
     "pageSize": 50,
     "pageIndex": 0,
     "filters": [],
     "sortBy": []
    },
    "deepnote_table_loading": false,
    "deepnote_cell_type": "code"
   },
   "source": "sumVariable = df_nona_robotic[\"counter_variable\"].sum()\n \nsumFilter = df_nona_robotic[\"counter_filter\"].sum() \nsumOrderBy = df_nona_robotic[\"counter_orderby\"].sum() \nsumLimit = df_nona_robotic[\"counter_limit\"].sum() \nsumSelect = df_nona_robotic[\"counter_select\"].sum()\nsumDistinct = df_nona_robotic[\"counter_distinct\"].sum()\nsumModify = df_nona_robotic[\"counter_modify\"].sum() \nsumToMultiSet = df_nona_robotic[\"counter_tomultiset\"].sum() \nsumJoin = df_nona_robotic[\"counter_join\"].sum() \nsumBGP = df_nona_robotic[\"counter_bgp\"].sum() \nsumInsertDate = df_nona_robotic[\"counter_insertdata\"].sum()\nsumDeleteData = df_nona_robotic[\"counter_deletedata\"].sum() \nsumproject = df_nona_robotic[\"counter_project\"].sum() \nsumUnion = df_nona_robotic[\"counter_union\"].sum() \nsumValues = df_nona_robotic[\"counter_values\"].sum() \n\nsumOffset = df_nona_robotic[\"counter_offset\"].sum() \nsumGroupBy = df_nona_robotic[\"counter_groupby\"].sum() \n\n\n\nda = {'Robotic': [sumVariable, sumValues, sumFilter, sumOrderBy, sumLimit, sumSelect, sumDistinct, sumModify, sumToMultiSet,sumJoin,sumBGP,sumInsertDate,sumDeleteData, sumproject, sumUnion, sumGroupBy, sumOffset]}\ndpfr = pd.DataFrame(data=da, index=['Variable','Values','Filter','OrderBy','Limit','Select','Distinct','Modify', 'ToMultiSet','Join','BGP','InsertDate','DeleteData', 'project', 'Union', 'GroupBy', 'Offset'])\n\ndpfr",
   "execution_count": 27,
   "outputs": [
    {
     "output_type": "execute_result",
     "execution_count": 27,
     "data": {
      "application/vnd.deepnote.dataframe.v3+json": {
       "column_count": 1,
       "row_count": 17,
       "columns": [
        {
         "name": "Robotic",
         "dtype": "int64",
         "stats": {
          "unique_count": 15,
          "nan_count": 0,
          "min": "0",
          "max": "92423",
          "histogram": [
           {
            "bin_start": 0,
            "bin_end": 9242.3,
            "count": 11
           },
           {
            "bin_start": 9242.3,
            "bin_end": 18484.6,
            "count": 2
           },
           {
            "bin_start": 18484.6,
            "bin_end": 27726.899999999998,
            "count": 2
           },
           {
            "bin_start": 27726.899999999998,
            "bin_end": 36969.2,
            "count": 0
           },
           {
            "bin_start": 36969.2,
            "bin_end": 46211.5,
            "count": 0
           },
           {
            "bin_start": 46211.5,
            "bin_end": 55453.799999999996,
            "count": 1
           },
           {
            "bin_start": 55453.799999999996,
            "bin_end": 64696.09999999999,
            "count": 0
           },
           {
            "bin_start": 64696.09999999999,
            "bin_end": 73938.4,
            "count": 0
           },
           {
            "bin_start": 73938.4,
            "bin_end": 83180.7,
            "count": 0
           },
           {
            "bin_start": 83180.7,
            "bin_end": 92423,
            "count": 1
           }
          ]
         }
        },
        {
         "name": "_deepnote_index_column",
         "dtype": "object"
        }
       ],
       "rows": [
        {
         "Robotic": 92423,
         "_deepnote_index_column": "Variable"
        },
        {
         "Robotic": 3189,
         "_deepnote_index_column": "Values"
        },
        {
         "Robotic": 14394,
         "_deepnote_index_column": "Filter"
        },
        {
         "Robotic": 4245,
         "_deepnote_index_column": "OrderBy"
        },
        {
         "Robotic": 5398,
         "_deepnote_index_column": "Limit"
        },
        {
         "Robotic": 17509,
         "_deepnote_index_column": "Select"
        },
        {
         "Robotic": 7447,
         "_deepnote_index_column": "Distinct"
        },
        {
         "Robotic": 0,
         "_deepnote_index_column": "Modify"
        },
        {
         "Robotic": 5916,
         "_deepnote_index_column": "ToMultiSet"
        },
        {
         "Robotic": 18488,
         "_deepnote_index_column": "Join"
        },
        {
         "Robotic": 52973,
         "_deepnote_index_column": "BGP"
        },
        {
         "Robotic": 0,
         "_deepnote_index_column": "InsertDate"
        },
        {
         "Robotic": 0,
         "_deepnote_index_column": "DeleteData"
        },
        {
         "Robotic": 20210,
         "_deepnote_index_column": "project"
        },
        {
         "Robotic": 9217,
         "_deepnote_index_column": "Union"
        },
        {
         "Robotic": 6781,
         "_deepnote_index_column": "GroupBy"
        },
        {
         "Robotic": 5501,
         "_deepnote_index_column": "Offset"
        }
       ]
      },
      "text/plain": "            Robotic\nVariable    92423  \nValues      3189   \nFilter      14394  \nOrderBy     4245   \nLimit       5398   \nSelect      17509  \nDistinct    7447   \nModify      0      \nToMultiSet  5916   \nJoin        18488  \nBGP         52973  \nInsertDate  0      \nDeleteData  0      \nproject     20210  \nUnion       9217   \nGroupBy     6781   \nOffset      5501   ",
      "text/html": "<div>\n<style scoped>\n    .dataframe tbody tr th:only-of-type {\n        vertical-align: middle;\n    }\n\n    .dataframe tbody tr th {\n        vertical-align: top;\n    }\n\n    .dataframe thead th {\n        text-align: right;\n    }\n</style>\n<table border=\"1\" class=\"dataframe\">\n  <thead>\n    <tr style=\"text-align: right;\">\n      <th></th>\n      <th>Robotic</th>\n    </tr>\n  </thead>\n  <tbody>\n    <tr>\n      <th>Variable</th>\n      <td>92423</td>\n    </tr>\n    <tr>\n      <th>Values</th>\n      <td>3189</td>\n    </tr>\n    <tr>\n      <th>Filter</th>\n      <td>14394</td>\n    </tr>\n    <tr>\n      <th>OrderBy</th>\n      <td>4245</td>\n    </tr>\n    <tr>\n      <th>Limit</th>\n      <td>5398</td>\n    </tr>\n    <tr>\n      <th>Select</th>\n      <td>17509</td>\n    </tr>\n    <tr>\n      <th>Distinct</th>\n      <td>7447</td>\n    </tr>\n    <tr>\n      <th>Modify</th>\n      <td>0</td>\n    </tr>\n    <tr>\n      <th>ToMultiSet</th>\n      <td>5916</td>\n    </tr>\n    <tr>\n      <th>Join</th>\n      <td>18488</td>\n    </tr>\n    <tr>\n      <th>BGP</th>\n      <td>52973</td>\n    </tr>\n    <tr>\n      <th>InsertDate</th>\n      <td>0</td>\n    </tr>\n    <tr>\n      <th>DeleteData</th>\n      <td>0</td>\n    </tr>\n    <tr>\n      <th>project</th>\n      <td>20210</td>\n    </tr>\n    <tr>\n      <th>Union</th>\n      <td>9217</td>\n    </tr>\n    <tr>\n      <th>GroupBy</th>\n      <td>6781</td>\n    </tr>\n    <tr>\n      <th>Offset</th>\n      <td>5501</td>\n    </tr>\n  </tbody>\n</table>\n</div>"
     },
     "metadata": {}
    }
   ]
  },
  {
   "cell_type": "code",
   "metadata": {
    "cell_id": "c78aaf63-c53d-4c09-a5bb-be68c4c5af3d",
    "tags": [],
    "deepnote_to_be_reexecuted": false,
    "source_hash": "83a5fb5f",
    "execution_start": 1643359238030,
    "execution_millis": 4,
    "deepnote_output_heights": [
     21
    ],
    "deepnote_cell_type": "code"
   },
   "source": "df_nona_robotic[\"counter_variable\"].mean()",
   "execution_count": 28,
   "outputs": [
    {
     "output_type": "execute_result",
     "execution_count": 28,
     "data": {
      "text/plain": "5.274683255336149"
     },
     "metadata": {}
    }
   ]
  },
  {
   "cell_type": "markdown",
   "source": "<a style='text-decoration:none;line-height:16px;display:flex;color:#5B5B62;padding:10px;justify-content:end;' href='https://deepnote.com?utm_source=created-in-deepnote-cell&projectId=513ed372-d958-4618-b5dc-4b186f2555bd' target=\"_blank\">\n<img alt='Created in deepnote.com' style='display:inline;max-height:16px;margin:0px;margin-right:7.5px;' src='data:image/svg+xml;base64,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' > </img>\nCreated in <span style='font-weight:600;margin-left:4px;'>Deepnote</span></a>",
   "metadata": {
    "tags": [],
    "created_in_deepnote_cell": true,
    "deepnote_cell_type": "markdown"
   }
  }
 ],
 "nbformat": 4,
 "nbformat_minor": 1,
 "metadata": {
  "kernelspec": {
   "display_name": "Python 3 (ipykernel)",
   "language": "python",
   "name": "python3"
  },
  "language_info": {
   "codemirror_mode": {
    "name": "ipython",
    "version": 3
   },
   "file_extension": ".py",
   "mimetype": "text/x-python",
   "name": "python",
   "nbconvert_exporter": "python",
   "pygments_lexer": "ipython3",
   "version": "3.9.10"
  },
  "deepnote_notebook_id": "1e0b6b8a-1c67-4b9f-b99d-5a7c18f414e7",
  "deepnote": {},
  "deepnote_execution_queue": []
 }
}